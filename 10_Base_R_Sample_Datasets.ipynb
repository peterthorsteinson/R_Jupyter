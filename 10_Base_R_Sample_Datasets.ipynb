{
 "cells": [
  {
   "cell_type": "markdown",
   "metadata": {},
   "source": [
    "# 10 Base R Sample Datasets\n",
    "https://stat.ethz.ch/R-manual/R-devel/library/datasets/html/00Index.html\n",
    "-  **airquality** New York Air Quality Measurements\n",
    "-  **anscombe** Anscombe's Quartet of 'Identical' Simple Linear Regressions\n",
    "-  **cars** Speed and Stopping Distances of Cars\n",
    "-  **iris** Edgar Anderson's Iris Data\n",
    "- **mtcars** Motor Trend Car Road Tests\n",
    "-  **women** Average Heights and Weights for American Women\n",
    "-  Many more..."
   ]
  },
  {
   "cell_type": "code",
   "execution_count": 1,
   "metadata": {
    "collapsed": true
   },
   "outputs": [],
   "source": [
    "# To see the list of pre-loaded data, type the function data():\n",
    "data()"
   ]
  },
  {
   "cell_type": "code",
   "execution_count": 2,
   "metadata": {},
   "outputs": [
    {
     "data": {
      "text/html": [
       "32"
      ],
      "text/latex": [
       "32"
      ],
      "text/markdown": [
       "32"
      ],
      "text/plain": [
       "[1] 32"
      ]
     },
     "metadata": {},
     "output_type": "display_data"
    },
    {
     "data": {
      "text/html": [
       "11"
      ],
      "text/latex": [
       "11"
      ],
      "text/markdown": [
       "11"
      ],
      "text/plain": [
       "[1] 11"
      ]
     },
     "metadata": {},
     "output_type": "display_data"
    }
   ],
   "source": [
    "# Number rows (observations)\n",
    "nrow(mtcars)\n",
    "# Number columns (variables)\n",
    "ncol(mtcars)"
   ]
  },
  {
   "cell_type": "code",
   "execution_count": 3,
   "metadata": {},
   "outputs": [
    {
     "data": {
      "text/html": [
       "<table>\n",
       "<thead><tr><th></th><th scope=col>mpg</th><th scope=col>cyl</th><th scope=col>disp</th><th scope=col>hp</th><th scope=col>drat</th><th scope=col>wt</th><th scope=col>qsec</th><th scope=col>vs</th><th scope=col>am</th><th scope=col>gear</th><th scope=col>carb</th></tr></thead>\n",
       "<tbody>\n",
       "\t<tr><th scope=row>Mazda RX4</th><td>21.0 </td><td>6    </td><td>160  </td><td>110  </td><td>3.90 </td><td>2.620</td><td>16.46</td><td>0    </td><td>1    </td><td>4    </td><td>4    </td></tr>\n",
       "\t<tr><th scope=row>Mazda RX4 Wag</th><td>21.0 </td><td>6    </td><td>160  </td><td>110  </td><td>3.90 </td><td>2.875</td><td>17.02</td><td>0    </td><td>1    </td><td>4    </td><td>4    </td></tr>\n",
       "\t<tr><th scope=row>Datsun 710</th><td>22.8 </td><td>4    </td><td>108  </td><td> 93  </td><td>3.85 </td><td>2.320</td><td>18.61</td><td>1    </td><td>1    </td><td>4    </td><td>1    </td></tr>\n",
       "\t<tr><th scope=row>Hornet 4 Drive</th><td>21.4 </td><td>6    </td><td>258  </td><td>110  </td><td>3.08 </td><td>3.215</td><td>19.44</td><td>1    </td><td>0    </td><td>3    </td><td>1    </td></tr>\n",
       "\t<tr><th scope=row>Hornet Sportabout</th><td>18.7 </td><td>8    </td><td>360  </td><td>175  </td><td>3.15 </td><td>3.440</td><td>17.02</td><td>0    </td><td>0    </td><td>3    </td><td>2    </td></tr>\n",
       "\t<tr><th scope=row>Valiant</th><td>18.1 </td><td>6    </td><td>225  </td><td>105  </td><td>2.76 </td><td>3.460</td><td>20.22</td><td>1    </td><td>0    </td><td>3    </td><td>1    </td></tr>\n",
       "</tbody>\n",
       "</table>\n"
      ],
      "text/latex": [
       "\\begin{tabular}{r|lllllllllll}\n",
       "  & mpg & cyl & disp & hp & drat & wt & qsec & vs & am & gear & carb\\\\\n",
       "\\hline\n",
       "\tMazda RX4 & 21.0  & 6     & 160   & 110   & 3.90  & 2.620 & 16.46 & 0     & 1     & 4     & 4    \\\\\n",
       "\tMazda RX4 Wag & 21.0  & 6     & 160   & 110   & 3.90  & 2.875 & 17.02 & 0     & 1     & 4     & 4    \\\\\n",
       "\tDatsun 710 & 22.8  & 4     & 108   &  93   & 3.85  & 2.320 & 18.61 & 1     & 1     & 4     & 1    \\\\\n",
       "\tHornet 4 Drive & 21.4  & 6     & 258   & 110   & 3.08  & 3.215 & 19.44 & 1     & 0     & 3     & 1    \\\\\n",
       "\tHornet Sportabout & 18.7  & 8     & 360   & 175   & 3.15  & 3.440 & 17.02 & 0     & 0     & 3     & 2    \\\\\n",
       "\tValiant & 18.1  & 6     & 225   & 105   & 2.76  & 3.460 & 20.22 & 1     & 0     & 3     & 1    \\\\\n",
       "\\end{tabular}\n"
      ],
      "text/markdown": [
       "\n",
       "| <!--/--> | mpg | cyl | disp | hp | drat | wt | qsec | vs | am | gear | carb | \n",
       "|---|---|---|---|---|---|\n",
       "| Mazda RX4 | 21.0  | 6     | 160   | 110   | 3.90  | 2.620 | 16.46 | 0     | 1     | 4     | 4     | \n",
       "| Mazda RX4 Wag | 21.0  | 6     | 160   | 110   | 3.90  | 2.875 | 17.02 | 0     | 1     | 4     | 4     | \n",
       "| Datsun 710 | 22.8  | 4     | 108   |  93   | 3.85  | 2.320 | 18.61 | 1     | 1     | 4     | 1     | \n",
       "| Hornet 4 Drive | 21.4  | 6     | 258   | 110   | 3.08  | 3.215 | 19.44 | 1     | 0     | 3     | 1     | \n",
       "| Hornet Sportabout | 18.7  | 8     | 360   | 175   | 3.15  | 3.440 | 17.02 | 0     | 0     | 3     | 2     | \n",
       "| Valiant | 18.1  | 6     | 225   | 105   | 2.76  | 3.460 | 20.22 | 1     | 0     | 3     | 1     | \n",
       "\n",
       "\n"
      ],
      "text/plain": [
       "                  mpg  cyl disp hp  drat wt    qsec  vs am gear carb\n",
       "Mazda RX4         21.0 6   160  110 3.90 2.620 16.46 0  1  4    4   \n",
       "Mazda RX4 Wag     21.0 6   160  110 3.90 2.875 17.02 0  1  4    4   \n",
       "Datsun 710        22.8 4   108   93 3.85 2.320 18.61 1  1  4    1   \n",
       "Hornet 4 Drive    21.4 6   258  110 3.08 3.215 19.44 1  0  3    1   \n",
       "Hornet Sportabout 18.7 8   360  175 3.15 3.440 17.02 0  0  3    2   \n",
       "Valiant           18.1 6   225  105 2.76 3.460 20.22 1  0  3    1   "
      ]
     },
     "metadata": {},
     "output_type": "display_data"
    }
   ],
   "source": [
    "# Load dataset\n",
    "data(mtcars)\n",
    "# Print first 6 rows\n",
    "head(mtcars, 6)"
   ]
  },
  {
   "cell_type": "code",
   "execution_count": 4,
   "metadata": {},
   "outputs": [
    {
     "data": {
      "text/html": [
       "<table>\n",
       "<thead><tr><th scope=col>Sepal.Length</th><th scope=col>Sepal.Width</th><th scope=col>Petal.Length</th><th scope=col>Petal.Width</th><th scope=col>Species</th></tr></thead>\n",
       "<tbody>\n",
       "\t<tr><td>5.1   </td><td>3.5   </td><td>1.4   </td><td>0.2   </td><td>setosa</td></tr>\n",
       "\t<tr><td>4.9   </td><td>3.0   </td><td>1.4   </td><td>0.2   </td><td>setosa</td></tr>\n",
       "\t<tr><td>4.7   </td><td>3.2   </td><td>1.3   </td><td>0.2   </td><td>setosa</td></tr>\n",
       "\t<tr><td>4.6   </td><td>3.1   </td><td>1.5   </td><td>0.2   </td><td>setosa</td></tr>\n",
       "\t<tr><td>5.0   </td><td>3.6   </td><td>1.4   </td><td>0.2   </td><td>setosa</td></tr>\n",
       "\t<tr><td>5.4   </td><td>3.9   </td><td>1.7   </td><td>0.4   </td><td>setosa</td></tr>\n",
       "</tbody>\n",
       "</table>\n"
      ],
      "text/latex": [
       "\\begin{tabular}{r|lllll}\n",
       " Sepal.Length & Sepal.Width & Petal.Length & Petal.Width & Species\\\\\n",
       "\\hline\n",
       "\t 5.1    & 3.5    & 1.4    & 0.2    & setosa\\\\\n",
       "\t 4.9    & 3.0    & 1.4    & 0.2    & setosa\\\\\n",
       "\t 4.7    & 3.2    & 1.3    & 0.2    & setosa\\\\\n",
       "\t 4.6    & 3.1    & 1.5    & 0.2    & setosa\\\\\n",
       "\t 5.0    & 3.6    & 1.4    & 0.2    & setosa\\\\\n",
       "\t 5.4    & 3.9    & 1.7    & 0.4    & setosa\\\\\n",
       "\\end{tabular}\n"
      ],
      "text/markdown": [
       "\n",
       "Sepal.Length | Sepal.Width | Petal.Length | Petal.Width | Species | \n",
       "|---|---|---|---|---|---|\n",
       "| 5.1    | 3.5    | 1.4    | 0.2    | setosa | \n",
       "| 4.9    | 3.0    | 1.4    | 0.2    | setosa | \n",
       "| 4.7    | 3.2    | 1.3    | 0.2    | setosa | \n",
       "| 4.6    | 3.1    | 1.5    | 0.2    | setosa | \n",
       "| 5.0    | 3.6    | 1.4    | 0.2    | setosa | \n",
       "| 5.4    | 3.9    | 1.7    | 0.4    | setosa | \n",
       "\n",
       "\n"
      ],
      "text/plain": [
       "  Sepal.Length Sepal.Width Petal.Length Petal.Width Species\n",
       "1 5.1          3.5         1.4          0.2         setosa \n",
       "2 4.9          3.0         1.4          0.2         setosa \n",
       "3 4.7          3.2         1.3          0.2         setosa \n",
       "4 4.6          3.1         1.5          0.2         setosa \n",
       "5 5.0          3.6         1.4          0.2         setosa \n",
       "6 5.4          3.9         1.7          0.4         setosa "
      ]
     },
     "metadata": {},
     "output_type": "display_data"
    }
   ],
   "source": [
    "# iris data set gives the measurements in centimeters of the variables sepal length, sepal width, petal length and petal width, respectively, for 50 flowers from each of 3 species of iris. The species are Iris setosa, versicolor, and virginica.\n",
    "data(\"iris\") # Load dataset\n",
    "head(iris)"
   ]
  },
  {
   "cell_type": "code",
   "execution_count": 5,
   "metadata": {},
   "outputs": [
    {
     "data": {
      "text/html": [
       "<table>\n",
       "<thead><tr><th scope=col>len</th><th scope=col>supp</th><th scope=col>dose</th></tr></thead>\n",
       "<tbody>\n",
       "\t<tr><td> 4.2</td><td>VC  </td><td>0.5 </td></tr>\n",
       "\t<tr><td>11.5</td><td>VC  </td><td>0.5 </td></tr>\n",
       "\t<tr><td> 7.3</td><td>VC  </td><td>0.5 </td></tr>\n",
       "\t<tr><td> 5.8</td><td>VC  </td><td>0.5 </td></tr>\n",
       "\t<tr><td> 6.4</td><td>VC  </td><td>0.5 </td></tr>\n",
       "\t<tr><td>10.0</td><td>VC  </td><td>0.5 </td></tr>\n",
       "</tbody>\n",
       "</table>\n"
      ],
      "text/latex": [
       "\\begin{tabular}{r|lll}\n",
       " len & supp & dose\\\\\n",
       "\\hline\n",
       "\t  4.2 & VC   & 0.5 \\\\\n",
       "\t 11.5 & VC   & 0.5 \\\\\n",
       "\t  7.3 & VC   & 0.5 \\\\\n",
       "\t  5.8 & VC   & 0.5 \\\\\n",
       "\t  6.4 & VC   & 0.5 \\\\\n",
       "\t 10.0 & VC   & 0.5 \\\\\n",
       "\\end{tabular}\n"
      ],
      "text/markdown": [
       "\n",
       "len | supp | dose | \n",
       "|---|---|---|---|---|---|\n",
       "|  4.2 | VC   | 0.5  | \n",
       "| 11.5 | VC   | 0.5  | \n",
       "|  7.3 | VC   | 0.5  | \n",
       "|  5.8 | VC   | 0.5  | \n",
       "|  6.4 | VC   | 0.5  | \n",
       "| 10.0 | VC   | 0.5  | \n",
       "\n",
       "\n"
      ],
      "text/plain": [
       "  len  supp dose\n",
       "1  4.2 VC   0.5 \n",
       "2 11.5 VC   0.5 \n",
       "3  7.3 VC   0.5 \n",
       "4  5.8 VC   0.5 \n",
       "5  6.4 VC   0.5 \n",
       "6 10.0 VC   0.5 "
      ]
     },
     "metadata": {},
     "output_type": "display_data"
    }
   ],
   "source": [
    "# ToothGrowth data set contains the result from an experiment studying the effect of vitamin C on tooth growth in 60 Guinea pigs.\n",
    "# Each animal received one of three dose levels of vitamin C (0.5, 1, and 2 mg/day) by one of two delivery methods,\n",
    "# (orange juice or ascorbic acid (a form of vitamin C and coded as VC).\n",
    "\n",
    "data(\"ToothGrowth\")\n",
    "head(ToothGrowth)"
   ]
  },
  {
   "cell_type": "code",
   "execution_count": 6,
   "metadata": {},
   "outputs": [
    {
     "data": {
      "text/html": [
       "<table>\n",
       "<thead><tr><th scope=col>weight</th><th scope=col>group</th></tr></thead>\n",
       "<tbody>\n",
       "\t<tr><td>4.17</td><td>ctrl</td></tr>\n",
       "\t<tr><td>5.58</td><td>ctrl</td></tr>\n",
       "\t<tr><td>5.18</td><td>ctrl</td></tr>\n",
       "\t<tr><td>6.11</td><td>ctrl</td></tr>\n",
       "\t<tr><td>4.50</td><td>ctrl</td></tr>\n",
       "\t<tr><td>4.61</td><td>ctrl</td></tr>\n",
       "</tbody>\n",
       "</table>\n"
      ],
      "text/latex": [
       "\\begin{tabular}{r|ll}\n",
       " weight & group\\\\\n",
       "\\hline\n",
       "\t 4.17 & ctrl\\\\\n",
       "\t 5.58 & ctrl\\\\\n",
       "\t 5.18 & ctrl\\\\\n",
       "\t 6.11 & ctrl\\\\\n",
       "\t 4.50 & ctrl\\\\\n",
       "\t 4.61 & ctrl\\\\\n",
       "\\end{tabular}\n"
      ],
      "text/markdown": [
       "\n",
       "weight | group | \n",
       "|---|---|---|---|---|---|\n",
       "| 4.17 | ctrl | \n",
       "| 5.58 | ctrl | \n",
       "| 5.18 | ctrl | \n",
       "| 6.11 | ctrl | \n",
       "| 4.50 | ctrl | \n",
       "| 4.61 | ctrl | \n",
       "\n",
       "\n"
      ],
      "text/plain": [
       "  weight group\n",
       "1 4.17   ctrl \n",
       "2 5.58   ctrl \n",
       "3 5.18   ctrl \n",
       "4 6.11   ctrl \n",
       "5 4.50   ctrl \n",
       "6 4.61   ctrl "
      ]
     },
     "metadata": {},
     "output_type": "display_data"
    }
   ],
   "source": [
    "# Results obtained from an experiment to compare yields (as measured by dried weight of plants) obtained under a control and two different treatment condition.\n",
    "data(\"PlantGrowth\")\n",
    "head(PlantGrowth)"
   ]
  },
  {
   "cell_type": "code",
   "execution_count": 8,
   "metadata": {},
   "outputs": [
    {
     "data": {
      "text/html": [
       "<table>\n",
       "<thead><tr><th></th><th scope=col>Murder</th><th scope=col>Assault</th><th scope=col>UrbanPop</th><th scope=col>Rape</th></tr></thead>\n",
       "<tbody>\n",
       "\t<tr><th scope=row>Alabama</th><td>13.2</td><td>236 </td><td>58  </td><td>21.2</td></tr>\n",
       "\t<tr><th scope=row>Alaska</th><td>10.0</td><td>263 </td><td>48  </td><td>44.5</td></tr>\n",
       "\t<tr><th scope=row>Arizona</th><td> 8.1</td><td>294 </td><td>80  </td><td>31.0</td></tr>\n",
       "\t<tr><th scope=row>Arkansas</th><td> 8.8</td><td>190 </td><td>50  </td><td>19.5</td></tr>\n",
       "\t<tr><th scope=row>California</th><td> 9.0</td><td>276 </td><td>91  </td><td>40.6</td></tr>\n",
       "\t<tr><th scope=row>Colorado</th><td> 7.9</td><td>204 </td><td>78  </td><td>38.7</td></tr>\n",
       "</tbody>\n",
       "</table>\n"
      ],
      "text/latex": [
       "\\begin{tabular}{r|llll}\n",
       "  & Murder & Assault & UrbanPop & Rape\\\\\n",
       "\\hline\n",
       "\tAlabama & 13.2 & 236  & 58   & 21.2\\\\\n",
       "\tAlaska & 10.0 & 263  & 48   & 44.5\\\\\n",
       "\tArizona &  8.1 & 294  & 80   & 31.0\\\\\n",
       "\tArkansas &  8.8 & 190  & 50   & 19.5\\\\\n",
       "\tCalifornia &  9.0 & 276  & 91   & 40.6\\\\\n",
       "\tColorado &  7.9 & 204  & 78   & 38.7\\\\\n",
       "\\end{tabular}\n"
      ],
      "text/markdown": [
       "\n",
       "| <!--/--> | Murder | Assault | UrbanPop | Rape | \n",
       "|---|---|---|---|---|---|\n",
       "| Alabama | 13.2 | 236  | 58   | 21.2 | \n",
       "| Alaska | 10.0 | 263  | 48   | 44.5 | \n",
       "| Arizona |  8.1 | 294  | 80   | 31.0 | \n",
       "| Arkansas |  8.8 | 190  | 50   | 19.5 | \n",
       "| California |  9.0 | 276  | 91   | 40.6 | \n",
       "| Colorado |  7.9 | 204  | 78   | 38.7 | \n",
       "\n",
       "\n"
      ],
      "text/plain": [
       "           Murder Assault UrbanPop Rape\n",
       "Alabama    13.2   236     58       21.2\n",
       "Alaska     10.0   263     48       44.5\n",
       "Arizona     8.1   294     80       31.0\n",
       "Arkansas    8.8   190     50       19.5\n",
       "California  9.0   276     91       40.6\n",
       "Colorado    7.9   204     78       38.7"
      ]
     },
     "metadata": {},
     "output_type": "display_data"
    }
   ],
   "source": [
    "# USArrests data set contains statistics about violent crime rates by us state.\n",
    "data(\"USArrests\")\n",
    "head(USArrests)"
   ]
  },
  {
   "cell_type": "code",
   "execution_count": 7,
   "metadata": {},
   "outputs": [
    {
     "data": {
      "text/html": [
       "<table>\n",
       "<thead><tr><th scope=col>Ozone</th><th scope=col>Solar.R</th><th scope=col>Wind</th><th scope=col>Temp</th><th scope=col>Month</th><th scope=col>Day</th></tr></thead>\n",
       "<tbody>\n",
       "\t<tr><td>41  </td><td>190 </td><td> 7.4</td><td>67  </td><td>5   </td><td>1   </td></tr>\n",
       "\t<tr><td>36  </td><td>118 </td><td> 8.0</td><td>72  </td><td>5   </td><td>2   </td></tr>\n",
       "\t<tr><td>12  </td><td>149 </td><td>12.6</td><td>74  </td><td>5   </td><td>3   </td></tr>\n",
       "\t<tr><td>18  </td><td>313 </td><td>11.5</td><td>62  </td><td>5   </td><td>4   </td></tr>\n",
       "\t<tr><td>NA  </td><td> NA </td><td>14.3</td><td>56  </td><td>5   </td><td>5   </td></tr>\n",
       "\t<tr><td>28  </td><td> NA </td><td>14.9</td><td>66  </td><td>5   </td><td>6   </td></tr>\n",
       "</tbody>\n",
       "</table>\n"
      ],
      "text/latex": [
       "\\begin{tabular}{r|llllll}\n",
       " Ozone & Solar.R & Wind & Temp & Month & Day\\\\\n",
       "\\hline\n",
       "\t 41   & 190  &  7.4 & 67   & 5    & 1   \\\\\n",
       "\t 36   & 118  &  8.0 & 72   & 5    & 2   \\\\\n",
       "\t 12   & 149  & 12.6 & 74   & 5    & 3   \\\\\n",
       "\t 18   & 313  & 11.5 & 62   & 5    & 4   \\\\\n",
       "\t NA   &  NA  & 14.3 & 56   & 5    & 5   \\\\\n",
       "\t 28   &  NA  & 14.9 & 66   & 5    & 6   \\\\\n",
       "\\end{tabular}\n"
      ],
      "text/markdown": [
       "\n",
       "Ozone | Solar.R | Wind | Temp | Month | Day | \n",
       "|---|---|---|---|---|---|\n",
       "| 41   | 190  |  7.4 | 67   | 5    | 1    | \n",
       "| 36   | 118  |  8.0 | 72   | 5    | 2    | \n",
       "| 12   | 149  | 12.6 | 74   | 5    | 3    | \n",
       "| 18   | 313  | 11.5 | 62   | 5    | 4    | \n",
       "| NA   |  NA  | 14.3 | 56   | 5    | 5    | \n",
       "| 28   |  NA  | 14.9 | 66   | 5    | 6    | \n",
       "\n",
       "\n"
      ],
      "text/plain": [
       "  Ozone Solar.R Wind Temp Month Day\n",
       "1 41    190      7.4 67   5     1  \n",
       "2 36    118      8.0 72   5     2  \n",
       "3 12    149     12.6 74   5     3  \n",
       "4 18    313     11.5 62   5     4  \n",
       "5 NA     NA     14.3 56   5     5  \n",
       "6 28     NA     14.9 66   5     6  "
      ]
     },
     "metadata": {},
     "output_type": "display_data"
    },
    {
     "data": {
      "image/png": "[encoded data removed]",
      "text/plain": [
       "plot without title"
      ]
     },
     "metadata": {},
     "output_type": "display_data"
    }
   ],
   "source": [
    "# New York Air Quality Measurements\n",
    "data(airquality)\n",
    "head(airquality)\n",
    "require(graphics)\n",
    "pairs(airquality, panel = panel.smooth, main = \"airquality data\")"
   ]
  },
  {
   "cell_type": "code",
   "execution_count": 26,
   "metadata": {},
   "outputs": [
    {
     "data": {
      "text/html": [
       "<table>\n",
       "<thead><tr><th scope=col>x1</th><th scope=col>x2</th><th scope=col>x3</th><th scope=col>x4</th><th scope=col>y1</th><th scope=col>y2</th><th scope=col>y3</th><th scope=col>y4</th></tr></thead>\n",
       "<tbody>\n",
       "\t<tr><td>10   </td><td>10   </td><td>10   </td><td>8    </td><td>8.04 </td><td>9.14 </td><td> 7.46</td><td>6.58 </td></tr>\n",
       "\t<tr><td> 8   </td><td> 8   </td><td> 8   </td><td>8    </td><td>6.95 </td><td>8.14 </td><td> 6.77</td><td>5.76 </td></tr>\n",
       "\t<tr><td>13   </td><td>13   </td><td>13   </td><td>8    </td><td>7.58 </td><td>8.74 </td><td>12.74</td><td>7.71 </td></tr>\n",
       "\t<tr><td> 9   </td><td> 9   </td><td> 9   </td><td>8    </td><td>8.81 </td><td>8.77 </td><td> 7.11</td><td>8.84 </td></tr>\n",
       "\t<tr><td>11   </td><td>11   </td><td>11   </td><td>8    </td><td>8.33 </td><td>9.26 </td><td> 7.81</td><td>8.47 </td></tr>\n",
       "\t<tr><td>14   </td><td>14   </td><td>14   </td><td>8    </td><td>9.96 </td><td>8.10 </td><td> 8.84</td><td>7.04 </td></tr>\n",
       "</tbody>\n",
       "</table>\n"
      ],
      "text/latex": [
       "\\begin{tabular}{r|llllllll}\n",
       " x1 & x2 & x3 & x4 & y1 & y2 & y3 & y4\\\\\n",
       "\\hline\n",
       "\t 10    & 10    & 10    & 8     & 8.04  & 9.14  &  7.46 & 6.58 \\\\\n",
       "\t  8    &  8    &  8    & 8     & 6.95  & 8.14  &  6.77 & 5.76 \\\\\n",
       "\t 13    & 13    & 13    & 8     & 7.58  & 8.74  & 12.74 & 7.71 \\\\\n",
       "\t  9    &  9    &  9    & 8     & 8.81  & 8.77  &  7.11 & 8.84 \\\\\n",
       "\t 11    & 11    & 11    & 8     & 8.33  & 9.26  &  7.81 & 8.47 \\\\\n",
       "\t 14    & 14    & 14    & 8     & 9.96  & 8.10  &  8.84 & 7.04 \\\\\n",
       "\\end{tabular}\n"
      ],
      "text/markdown": [
       "\n",
       "x1 | x2 | x3 | x4 | y1 | y2 | y3 | y4 | \n",
       "|---|---|---|---|---|---|\n",
       "| 10    | 10    | 10    | 8     | 8.04  | 9.14  |  7.46 | 6.58  | \n",
       "|  8    |  8    |  8    | 8     | 6.95  | 8.14  |  6.77 | 5.76  | \n",
       "| 13    | 13    | 13    | 8     | 7.58  | 8.74  | 12.74 | 7.71  | \n",
       "|  9    |  9    |  9    | 8     | 8.81  | 8.77  |  7.11 | 8.84  | \n",
       "| 11    | 11    | 11    | 8     | 8.33  | 9.26  |  7.81 | 8.47  | \n",
       "| 14    | 14    | 14    | 8     | 9.96  | 8.10  |  8.84 | 7.04  | \n",
       "\n",
       "\n"
      ],
      "text/plain": [
       "  x1 x2 x3 x4 y1   y2   y3    y4  \n",
       "1 10 10 10 8  8.04 9.14  7.46 6.58\n",
       "2  8  8  8 8  6.95 8.14  6.77 5.76\n",
       "3 13 13 13 8  7.58 8.74 12.74 7.71\n",
       "4  9  9  9 8  8.81 8.77  7.11 8.84\n",
       "5 11 11 11 8  8.33 9.26  7.81 8.47\n",
       "6 14 14 14 8  9.96 8.10  8.84 7.04"
      ]
     },
     "metadata": {},
     "output_type": "display_data"
    },
    {
     "data": {
      "text/plain": [
       "       x1             x2             x3             x4           y1        \n",
       " Min.   : 4.0   Min.   : 4.0   Min.   : 4.0   Min.   : 8   Min.   : 4.260  \n",
       " 1st Qu.: 6.5   1st Qu.: 6.5   1st Qu.: 6.5   1st Qu.: 8   1st Qu.: 6.315  \n",
       " Median : 9.0   Median : 9.0   Median : 9.0   Median : 8   Median : 7.580  \n",
       " Mean   : 9.0   Mean   : 9.0   Mean   : 9.0   Mean   : 9   Mean   : 7.501  \n",
       " 3rd Qu.:11.5   3rd Qu.:11.5   3rd Qu.:11.5   3rd Qu.: 8   3rd Qu.: 8.570  \n",
       " Max.   :14.0   Max.   :14.0   Max.   :14.0   Max.   :19   Max.   :10.840  \n",
       "       y2              y3              y4        \n",
       " Min.   :3.100   Min.   : 5.39   Min.   : 5.250  \n",
       " 1st Qu.:6.695   1st Qu.: 6.25   1st Qu.: 6.170  \n",
       " Median :8.140   Median : 7.11   Median : 7.040  \n",
       " Mean   :7.501   Mean   : 7.50   Mean   : 7.501  \n",
       " 3rd Qu.:8.950   3rd Qu.: 7.98   3rd Qu.: 8.190  \n",
       " Max.   :9.260   Max.   :12.74   Max.   :12.500  "
      ]
     },
     "metadata": {},
     "output_type": "display_data"
    },
    {
     "name": "stdout",
     "output_type": "stream",
     "text": [
      "Analysis of Variance Table\n",
      "\n",
      "Response: y1\n",
      "          Df Sum Sq Mean Sq F value  Pr(>F)   \n",
      "x1         1 27.510 27.5100   17.99 0.00217 **\n",
      "Residuals  9 13.763  1.5292                   \n",
      "---\n",
      "Signif. codes:  0 '***' 0.001 '**' 0.01 '*' 0.05 '.' 0.1 ' ' 1\n",
      "Analysis of Variance Table\n",
      "\n",
      "Response: y2\n",
      "          Df Sum Sq Mean Sq F value   Pr(>F)   \n",
      "x2         1 27.500 27.5000  17.966 0.002179 **\n",
      "Residuals  9 13.776  1.5307                    \n",
      "---\n",
      "Signif. codes:  0 '***' 0.001 '**' 0.01 '*' 0.05 '.' 0.1 ' ' 1\n",
      "Analysis of Variance Table\n",
      "\n",
      "Response: y3\n",
      "          Df Sum Sq Mean Sq F value   Pr(>F)   \n",
      "x3         1 27.470 27.4700  17.972 0.002176 **\n",
      "Residuals  9 13.756  1.5285                    \n",
      "---\n",
      "Signif. codes:  0 '***' 0.001 '**' 0.01 '*' 0.05 '.' 0.1 ' ' 1\n",
      "Analysis of Variance Table\n",
      "\n",
      "Response: y4\n",
      "          Df Sum Sq Mean Sq F value   Pr(>F)   \n",
      "x4         1 27.490 27.4900  18.003 0.002165 **\n",
      "Residuals  9 13.742  1.5269                    \n",
      "---\n",
      "Signif. codes:  0 '***' 0.001 '**' 0.01 '*' 0.05 '.' 0.1 ' ' 1\n"
     ]
    },
    {
     "data": {
      "text/html": [
       "<table>\n",
       "<thead><tr><th></th><th scope=col>lm1</th><th scope=col>lm2</th><th scope=col>lm3</th><th scope=col>lm4</th></tr></thead>\n",
       "<tbody>\n",
       "\t<tr><th scope=row>(Intercept)</th><td>3.0000909</td><td>3.000909 </td><td>3.0024545</td><td>3.0017273</td></tr>\n",
       "\t<tr><th scope=row>x1</th><td>0.5000909</td><td>0.500000 </td><td>0.4997273</td><td>0.4999091</td></tr>\n",
       "</tbody>\n",
       "</table>\n"
      ],
      "text/latex": [
       "\\begin{tabular}{r|llll}\n",
       "  & lm1 & lm2 & lm3 & lm4\\\\\n",
       "\\hline\n",
       "\t(Intercept) & 3.0000909 & 3.000909  & 3.0024545 & 3.0017273\\\\\n",
       "\tx1 & 0.5000909 & 0.500000  & 0.4997273 & 0.4999091\\\\\n",
       "\\end{tabular}\n"
      ],
      "text/markdown": [
       "\n",
       "| <!--/--> | lm1 | lm2 | lm3 | lm4 | \n",
       "|---|---|\n",
       "| (Intercept) | 3.0000909 | 3.000909  | 3.0024545 | 3.0017273 | \n",
       "| x1 | 0.5000909 | 0.500000  | 0.4997273 | 0.4999091 | \n",
       "\n",
       "\n"
      ],
      "text/plain": [
       "            lm1       lm2      lm3       lm4      \n",
       "(Intercept) 3.0000909 3.000909 3.0024545 3.0017273\n",
       "x1          0.5000909 0.500000 0.4997273 0.4999091"
      ]
     },
     "metadata": {},
     "output_type": "display_data"
    },
    {
     "data": {
      "text/html": [
       "<dl>\n",
       "\t<dt>$lm1</dt>\n",
       "\t\t<dd><table>\n",
       "<thead><tr><th></th><th scope=col>Estimate</th><th scope=col>Std. Error</th><th scope=col>t value</th><th scope=col>Pr(&gt;|t|)</th></tr></thead>\n",
       "<tbody>\n",
       "\t<tr><th scope=row>(Intercept)</th><td>3.0000909  </td><td>1.1247468  </td><td>2.667348   </td><td>0.025734051</td></tr>\n",
       "\t<tr><th scope=row>x1</th><td>0.5000909  </td><td>0.1179055  </td><td>4.241455   </td><td>0.002169629</td></tr>\n",
       "</tbody>\n",
       "</table>\n",
       "</dd>\n",
       "\t<dt>$lm2</dt>\n",
       "\t\t<dd><table>\n",
       "<thead><tr><th></th><th scope=col>Estimate</th><th scope=col>Std. Error</th><th scope=col>t value</th><th scope=col>Pr(&gt;|t|)</th></tr></thead>\n",
       "<tbody>\n",
       "\t<tr><th scope=row>(Intercept)</th><td>3.000909   </td><td>1.1253024  </td><td>2.666758   </td><td>0.025758941</td></tr>\n",
       "\t<tr><th scope=row>x2</th><td>0.500000   </td><td>0.1179637  </td><td>4.238590   </td><td>0.002178816</td></tr>\n",
       "</tbody>\n",
       "</table>\n",
       "</dd>\n",
       "\t<dt>$lm3</dt>\n",
       "\t\t<dd><table>\n",
       "<thead><tr><th></th><th scope=col>Estimate</th><th scope=col>Std. Error</th><th scope=col>t value</th><th scope=col>Pr(&gt;|t|)</th></tr></thead>\n",
       "<tbody>\n",
       "\t<tr><th scope=row>(Intercept)</th><td>3.0024545  </td><td>1.1244812  </td><td>2.670080   </td><td>0.025619109</td></tr>\n",
       "\t<tr><th scope=row>x3</th><td>0.4997273  </td><td>0.1178777  </td><td>4.239372   </td><td>0.002176305</td></tr>\n",
       "</tbody>\n",
       "</table>\n",
       "</dd>\n",
       "\t<dt>$lm4</dt>\n",
       "\t\t<dd><table>\n",
       "<thead><tr><th></th><th scope=col>Estimate</th><th scope=col>Std. Error</th><th scope=col>t value</th><th scope=col>Pr(&gt;|t|)</th></tr></thead>\n",
       "<tbody>\n",
       "\t<tr><th scope=row>(Intercept)</th><td>3.0017273  </td><td>1.1239211  </td><td>2.670763   </td><td>0.025590425</td></tr>\n",
       "\t<tr><th scope=row>x4</th><td>0.4999091  </td><td>0.1178189  </td><td>4.243028   </td><td>0.002164602</td></tr>\n",
       "</tbody>\n",
       "</table>\n",
       "</dd>\n",
       "</dl>\n"
      ],
      "text/latex": [
       "\\begin{description}\n",
       "\\item[\\$lm1] \\begin{tabular}{r|llll}\n",
       "  & Estimate & Std. Error & t value & Pr(>\\textbar{}t\\textbar{})\\\\\n",
       "\\hline\n",
       "\t(Intercept) & 3.0000909   & 1.1247468   & 2.667348    & 0.025734051\\\\\n",
       "\tx1 & 0.5000909   & 0.1179055   & 4.241455    & 0.002169629\\\\\n",
       "\\end{tabular}\n",
       "\n",
       "\\item[\\$lm2] \\begin{tabular}{r|llll}\n",
       "  & Estimate & Std. Error & t value & Pr(>\\textbar{}t\\textbar{})\\\\\n",
       "\\hline\n",
       "\t(Intercept) & 3.000909    & 1.1253024   & 2.666758    & 0.025758941\\\\\n",
       "\tx2 & 0.500000    & 0.1179637   & 4.238590    & 0.002178816\\\\\n",
       "\\end{tabular}\n",
       "\n",
       "\\item[\\$lm3] \\begin{tabular}{r|llll}\n",
       "  & Estimate & Std. Error & t value & Pr(>\\textbar{}t\\textbar{})\\\\\n",
       "\\hline\n",
       "\t(Intercept) & 3.0024545   & 1.1244812   & 2.670080    & 0.025619109\\\\\n",
       "\tx3 & 0.4997273   & 0.1178777   & 4.239372    & 0.002176305\\\\\n",
       "\\end{tabular}\n",
       "\n",
       "\\item[\\$lm4] \\begin{tabular}{r|llll}\n",
       "  & Estimate & Std. Error & t value & Pr(>\\textbar{}t\\textbar{})\\\\\n",
       "\\hline\n",
       "\t(Intercept) & 3.0017273   & 1.1239211   & 2.670763    & 0.025590425\\\\\n",
       "\tx4 & 0.4999091   & 0.1178189   & 4.243028    & 0.002164602\\\\\n",
       "\\end{tabular}\n",
       "\n",
       "\\end{description}\n"
      ],
      "text/markdown": [
       "$lm1\n",
       ":   \n",
       "| <!--/--> | Estimate | Std. Error | t value | Pr(>|t|) | \n",
       "|---|---|\n",
       "| (Intercept) | 3.0000909   | 1.1247468   | 2.667348    | 0.025734051 | \n",
       "| x1 | 0.5000909   | 0.1179055   | 4.241455    | 0.002169629 | \n",
       "\n",
       "\n",
       "\n",
       "$lm2\n",
       ":   \n",
       "| <!--/--> | Estimate | Std. Error | t value | Pr(>|t|) | \n",
       "|---|---|\n",
       "| (Intercept) | 3.000909    | 1.1253024   | 2.666758    | 0.025758941 | \n",
       "| x2 | 0.500000    | 0.1179637   | 4.238590    | 0.002178816 | \n",
       "\n",
       "\n",
       "\n",
       "$lm3\n",
       ":   \n",
       "| <!--/--> | Estimate | Std. Error | t value | Pr(>|t|) | \n",
       "|---|---|\n",
       "| (Intercept) | 3.0024545   | 1.1244812   | 2.670080    | 0.025619109 | \n",
       "| x3 | 0.4997273   | 0.1178777   | 4.239372    | 0.002176305 | \n",
       "\n",
       "\n",
       "\n",
       "$lm4\n",
       ":   \n",
       "| <!--/--> | Estimate | Std. Error | t value | Pr(>|t|) | \n",
       "|---|---|\n",
       "| (Intercept) | 3.0017273   | 1.1239211   | 2.670763    | 0.025590425 | \n",
       "| x4 | 0.4999091   | 0.1178189   | 4.243028    | 0.002164602 | \n",
       "\n",
       "\n",
       "\n",
       "\n",
       "\n"
      ],
      "text/plain": [
       "$lm1\n",
       "             Estimate Std. Error  t value    Pr(>|t|)\n",
       "(Intercept) 3.0000909  1.1247468 2.667348 0.025734051\n",
       "x1          0.5000909  0.1179055 4.241455 0.002169629\n",
       "\n",
       "$lm2\n",
       "            Estimate Std. Error  t value    Pr(>|t|)\n",
       "(Intercept) 3.000909  1.1253024 2.666758 0.025758941\n",
       "x2          0.500000  0.1179637 4.238590 0.002178816\n",
       "\n",
       "$lm3\n",
       "             Estimate Std. Error  t value    Pr(>|t|)\n",
       "(Intercept) 3.0024545  1.1244812 2.670080 0.025619109\n",
       "x3          0.4997273  0.1178777 4.239372 0.002176305\n",
       "\n",
       "$lm4\n",
       "             Estimate Std. Error  t value    Pr(>|t|)\n",
       "(Intercept) 3.0017273  1.1239211 2.670763 0.025590425\n",
       "x4          0.4999091  0.1178189 4.243028 0.002164602\n"
      ]
     },
     "metadata": {},
     "output_type": "display_data"
    },
    {
     "data": {
      "image/png": "[encoded data removed]",
      "text/plain": [
       "plot without title"
      ]
     },
     "metadata": {},
     "output_type": "display_data"
    }
   ],
   "source": [
    "# Anscombe's Quartet of 'Identical' Simple Linear Regressions\n",
    "data(anscombe)\n",
    "head(anscombe)\n",
    "\n",
    "require(stats); require(graphics)\n",
    "summary(anscombe)\n",
    "\n",
    "##-- now some \"magic\" to do the 4 regressions in a loop:\n",
    "ff <- y ~ x\n",
    "mods <- setNames(as.list(1:4), paste0(\"lm\", 1:4))\n",
    "for(i in 1:4) {\n",
    "  ff[2:3] <- lapply(paste0(c(\"y\",\"x\"), i), as.name)\n",
    "  ## or   ff[[2]] <- as.name(paste0(\"y\", i))\n",
    "  ##      ff[[3]] <- as.name(paste0(\"x\", i))\n",
    "  mods[[i]] <- lmi <- lm(ff, data = anscombe)\n",
    "  print(anova(lmi))\n",
    "}\n",
    "\n",
    "## See how close they are (numerically!)\n",
    "sapply(mods, coef)\n",
    "lapply(mods, function(fm) coef(summary(fm)))\n",
    "\n",
    "## Now, do what you should have done in the first place: PLOTS\n",
    "op <- par(mfrow = c(2, 2), mar = 0.1+c(4,4,1,1), oma =  c(0, 0, 2, 0))\n",
    "for(i in 1:4) {\n",
    "  ff[2:3] <- lapply(paste0(c(\"y\",\"x\"), i), as.name)\n",
    "  plot(ff, data = anscombe, col = \"red\", pch = 21, bg = \"orange\", cex = 1.2,\n",
    "       xlim = c(3, 19), ylim = c(3, 13))\n",
    "  abline(mods[[i]], col = \"blue\")\n",
    "}\n",
    "mtext(\"Anscombe's 4 Regression data sets\", outer = TRUE, cex = 1.5)\n",
    "par(op)"
   ]
  },
  {
   "cell_type": "code",
   "execution_count": 27,
   "metadata": {},
   "outputs": [
    {
     "data": {
      "text/html": [
       "<table>\n",
       "<thead><tr><th scope=col>speed</th><th scope=col>dist</th></tr></thead>\n",
       "<tbody>\n",
       "\t<tr><td>4 </td><td> 2</td></tr>\n",
       "\t<tr><td>4 </td><td>10</td></tr>\n",
       "\t<tr><td>7 </td><td> 4</td></tr>\n",
       "\t<tr><td>7 </td><td>22</td></tr>\n",
       "\t<tr><td>8 </td><td>16</td></tr>\n",
       "\t<tr><td>9 </td><td>10</td></tr>\n",
       "</tbody>\n",
       "</table>\n"
      ],
      "text/latex": [
       "\\begin{tabular}{r|ll}\n",
       " speed & dist\\\\\n",
       "\\hline\n",
       "\t 4  &  2\\\\\n",
       "\t 4  & 10\\\\\n",
       "\t 7  &  4\\\\\n",
       "\t 7  & 22\\\\\n",
       "\t 8  & 16\\\\\n",
       "\t 9  & 10\\\\\n",
       "\\end{tabular}\n"
      ],
      "text/markdown": [
       "\n",
       "speed | dist | \n",
       "|---|---|---|---|---|---|\n",
       "| 4  |  2 | \n",
       "| 4  | 10 | \n",
       "| 7  |  4 | \n",
       "| 7  | 22 | \n",
       "| 8  | 16 | \n",
       "| 9  | 10 | \n",
       "\n",
       "\n"
      ],
      "text/plain": [
       "  speed dist\n",
       "1 4      2  \n",
       "2 4     10  \n",
       "3 7      4  \n",
       "4 7     22  \n",
       "5 8     16  \n",
       "6 9     10  "
      ]
     },
     "metadata": {},
     "output_type": "display_data"
    },
    {
     "data": {
      "image/png": "[encoded data removed]",
      "text/plain": [
       "Plot with title \"Scatterplot: Speed and Stopping Distances of Cars\""
      ]
     },
     "metadata": {},
     "output_type": "display_data"
    }
   ],
   "source": [
    "# Speed and Stopping Distances of Cars\n",
    "data(cars)\n",
    "head(cars)\n",
    "plot(cars$speed, cars$distance, main=\"Scatterplot: Speed and Stopping Distances of Cars\", \n",
    "   xlab=\"Speed\", ylab=\"Stopping Distance\", pch=19) "
   ]
  },
  {
   "cell_type": "code",
   "execution_count": 28,
   "metadata": {},
   "outputs": [
    {
     "data": {
      "text/html": [
       "<table>\n",
       "<thead><tr><th scope=col>Sepal.Length</th><th scope=col>Sepal.Width</th><th scope=col>Petal.Length</th><th scope=col>Petal.Width</th><th scope=col>Species</th></tr></thead>\n",
       "<tbody>\n",
       "\t<tr><td>5.1   </td><td>3.5   </td><td>1.4   </td><td>0.2   </td><td>setosa</td></tr>\n",
       "\t<tr><td>4.9   </td><td>3.0   </td><td>1.4   </td><td>0.2   </td><td>setosa</td></tr>\n",
       "\t<tr><td>4.7   </td><td>3.2   </td><td>1.3   </td><td>0.2   </td><td>setosa</td></tr>\n",
       "\t<tr><td>4.6   </td><td>3.1   </td><td>1.5   </td><td>0.2   </td><td>setosa</td></tr>\n",
       "\t<tr><td>5.0   </td><td>3.6   </td><td>1.4   </td><td>0.2   </td><td>setosa</td></tr>\n",
       "\t<tr><td>5.4   </td><td>3.9   </td><td>1.7   </td><td>0.4   </td><td>setosa</td></tr>\n",
       "</tbody>\n",
       "</table>\n"
      ],
      "text/latex": [
       "\\begin{tabular}{r|lllll}\n",
       " Sepal.Length & Sepal.Width & Petal.Length & Petal.Width & Species\\\\\n",
       "\\hline\n",
       "\t 5.1    & 3.5    & 1.4    & 0.2    & setosa\\\\\n",
       "\t 4.9    & 3.0    & 1.4    & 0.2    & setosa\\\\\n",
       "\t 4.7    & 3.2    & 1.3    & 0.2    & setosa\\\\\n",
       "\t 4.6    & 3.1    & 1.5    & 0.2    & setosa\\\\\n",
       "\t 5.0    & 3.6    & 1.4    & 0.2    & setosa\\\\\n",
       "\t 5.4    & 3.9    & 1.7    & 0.4    & setosa\\\\\n",
       "\\end{tabular}\n"
      ],
      "text/markdown": [
       "\n",
       "Sepal.Length | Sepal.Width | Petal.Length | Petal.Width | Species | \n",
       "|---|---|---|---|---|---|\n",
       "| 5.1    | 3.5    | 1.4    | 0.2    | setosa | \n",
       "| 4.9    | 3.0    | 1.4    | 0.2    | setosa | \n",
       "| 4.7    | 3.2    | 1.3    | 0.2    | setosa | \n",
       "| 4.6    | 3.1    | 1.5    | 0.2    | setosa | \n",
       "| 5.0    | 3.6    | 1.4    | 0.2    | setosa | \n",
       "| 5.4    | 3.9    | 1.7    | 0.4    | setosa | \n",
       "\n",
       "\n"
      ],
      "text/plain": [
       "  Sepal.Length Sepal.Width Petal.Length Petal.Width Species\n",
       "1 5.1          3.5         1.4          0.2         setosa \n",
       "2 4.9          3.0         1.4          0.2         setosa \n",
       "3 4.7          3.2         1.3          0.2         setosa \n",
       "4 4.6          3.1         1.5          0.2         setosa \n",
       "5 5.0          3.6         1.4          0.2         setosa \n",
       "6 5.4          3.9         1.7          0.4         setosa "
      ]
     },
     "metadata": {},
     "output_type": "display_data"
    }
   ],
   "source": [
    "# iris Edgar Anderson's Iris Data\n",
    "data(iris)\n",
    "head(iris)"
   ]
  },
  {
   "cell_type": "code",
   "execution_count": 29,
   "metadata": {},
   "outputs": [
    {
     "data": {
      "text/html": [
       "<table>\n",
       "<thead><tr><th></th><th scope=col>mpg</th><th scope=col>cyl</th><th scope=col>disp</th><th scope=col>hp</th><th scope=col>drat</th><th scope=col>wt</th><th scope=col>qsec</th><th scope=col>vs</th><th scope=col>am</th><th scope=col>gear</th><th scope=col>carb</th></tr></thead>\n",
       "<tbody>\n",
       "\t<tr><th scope=row>Mazda RX4</th><td>21.0 </td><td>6    </td><td>160  </td><td>110  </td><td>3.90 </td><td>2.620</td><td>16.46</td><td>0    </td><td>1    </td><td>4    </td><td>4    </td></tr>\n",
       "\t<tr><th scope=row>Mazda RX4 Wag</th><td>21.0 </td><td>6    </td><td>160  </td><td>110  </td><td>3.90 </td><td>2.875</td><td>17.02</td><td>0    </td><td>1    </td><td>4    </td><td>4    </td></tr>\n",
       "\t<tr><th scope=row>Datsun 710</th><td>22.8 </td><td>4    </td><td>108  </td><td> 93  </td><td>3.85 </td><td>2.320</td><td>18.61</td><td>1    </td><td>1    </td><td>4    </td><td>1    </td></tr>\n",
       "\t<tr><th scope=row>Hornet 4 Drive</th><td>21.4 </td><td>6    </td><td>258  </td><td>110  </td><td>3.08 </td><td>3.215</td><td>19.44</td><td>1    </td><td>0    </td><td>3    </td><td>1    </td></tr>\n",
       "\t<tr><th scope=row>Hornet Sportabout</th><td>18.7 </td><td>8    </td><td>360  </td><td>175  </td><td>3.15 </td><td>3.440</td><td>17.02</td><td>0    </td><td>0    </td><td>3    </td><td>2    </td></tr>\n",
       "\t<tr><th scope=row>Valiant</th><td>18.1 </td><td>6    </td><td>225  </td><td>105  </td><td>2.76 </td><td>3.460</td><td>20.22</td><td>1    </td><td>0    </td><td>3    </td><td>1    </td></tr>\n",
       "</tbody>\n",
       "</table>\n"
      ],
      "text/latex": [
       "\\begin{tabular}{r|lllllllllll}\n",
       "  & mpg & cyl & disp & hp & drat & wt & qsec & vs & am & gear & carb\\\\\n",
       "\\hline\n",
       "\tMazda RX4 & 21.0  & 6     & 160   & 110   & 3.90  & 2.620 & 16.46 & 0     & 1     & 4     & 4    \\\\\n",
       "\tMazda RX4 Wag & 21.0  & 6     & 160   & 110   & 3.90  & 2.875 & 17.02 & 0     & 1     & 4     & 4    \\\\\n",
       "\tDatsun 710 & 22.8  & 4     & 108   &  93   & 3.85  & 2.320 & 18.61 & 1     & 1     & 4     & 1    \\\\\n",
       "\tHornet 4 Drive & 21.4  & 6     & 258   & 110   & 3.08  & 3.215 & 19.44 & 1     & 0     & 3     & 1    \\\\\n",
       "\tHornet Sportabout & 18.7  & 8     & 360   & 175   & 3.15  & 3.440 & 17.02 & 0     & 0     & 3     & 2    \\\\\n",
       "\tValiant & 18.1  & 6     & 225   & 105   & 2.76  & 3.460 & 20.22 & 1     & 0     & 3     & 1    \\\\\n",
       "\\end{tabular}\n"
      ],
      "text/markdown": [
       "\n",
       "| <!--/--> | mpg | cyl | disp | hp | drat | wt | qsec | vs | am | gear | carb | \n",
       "|---|---|---|---|---|---|\n",
       "| Mazda RX4 | 21.0  | 6     | 160   | 110   | 3.90  | 2.620 | 16.46 | 0     | 1     | 4     | 4     | \n",
       "| Mazda RX4 Wag | 21.0  | 6     | 160   | 110   | 3.90  | 2.875 | 17.02 | 0     | 1     | 4     | 4     | \n",
       "| Datsun 710 | 22.8  | 4     | 108   |  93   | 3.85  | 2.320 | 18.61 | 1     | 1     | 4     | 1     | \n",
       "| Hornet 4 Drive | 21.4  | 6     | 258   | 110   | 3.08  | 3.215 | 19.44 | 1     | 0     | 3     | 1     | \n",
       "| Hornet Sportabout | 18.7  | 8     | 360   | 175   | 3.15  | 3.440 | 17.02 | 0     | 0     | 3     | 2     | \n",
       "| Valiant | 18.1  | 6     | 225   | 105   | 2.76  | 3.460 | 20.22 | 1     | 0     | 3     | 1     | \n",
       "\n",
       "\n"
      ],
      "text/plain": [
       "                  mpg  cyl disp hp  drat wt    qsec  vs am gear carb\n",
       "Mazda RX4         21.0 6   160  110 3.90 2.620 16.46 0  1  4    4   \n",
       "Mazda RX4 Wag     21.0 6   160  110 3.90 2.875 17.02 0  1  4    4   \n",
       "Datsun 710        22.8 4   108   93 3.85 2.320 18.61 1  1  4    1   \n",
       "Hornet 4 Drive    21.4 6   258  110 3.08 3.215 19.44 1  0  3    1   \n",
       "Hornet Sportabout 18.7 8   360  175 3.15 3.440 17.02 0  0  3    2   \n",
       "Valiant           18.1 6   225  105 2.76 3.460 20.22 1  0  3    1   "
      ]
     },
     "metadata": {},
     "output_type": "display_data"
    }
   ],
   "source": [
    "# mtcars Motor Trend Car Road Tests\n",
    "data(mtcars)\n",
    "head(mtcars)"
   ]
  },
  {
   "cell_type": "code",
   "execution_count": 30,
   "metadata": {},
   "outputs": [
    {
     "data": {
      "text/html": [
       "<table>\n",
       "<thead><tr><th scope=col>height</th><th scope=col>weight</th></tr></thead>\n",
       "<tbody>\n",
       "\t<tr><td>58 </td><td>115</td></tr>\n",
       "\t<tr><td>59 </td><td>117</td></tr>\n",
       "\t<tr><td>60 </td><td>120</td></tr>\n",
       "\t<tr><td>61 </td><td>123</td></tr>\n",
       "\t<tr><td>62 </td><td>126</td></tr>\n",
       "\t<tr><td>63 </td><td>129</td></tr>\n",
       "</tbody>\n",
       "</table>\n"
      ],
      "text/latex": [
       "\\begin{tabular}{r|ll}\n",
       " height & weight\\\\\n",
       "\\hline\n",
       "\t 58  & 115\\\\\n",
       "\t 59  & 117\\\\\n",
       "\t 60  & 120\\\\\n",
       "\t 61  & 123\\\\\n",
       "\t 62  & 126\\\\\n",
       "\t 63  & 129\\\\\n",
       "\\end{tabular}\n"
      ],
      "text/markdown": [
       "\n",
       "height | weight | \n",
       "|---|---|---|---|---|---|\n",
       "| 58  | 115 | \n",
       "| 59  | 117 | \n",
       "| 60  | 120 | \n",
       "| 61  | 123 | \n",
       "| 62  | 126 | \n",
       "| 63  | 129 | \n",
       "\n",
       "\n"
      ],
      "text/plain": [
       "  height weight\n",
       "1 58     115   \n",
       "2 59     117   \n",
       "3 60     120   \n",
       "4 61     123   \n",
       "5 62     126   \n",
       "6 63     129   "
      ]
     },
     "metadata": {},
     "output_type": "display_data"
    },
    {
     "data": {
      "image/png": "[encoded data removed]",
      "text/plain": [
       "Plot with title \"Scatterplot: Heights and Weights for American Women\""
      ]
     },
     "metadata": {},
     "output_type": "display_data"
    }
   ],
   "source": [
    "# Average Heights and Weights for American Women\n",
    "data(women)\n",
    "head(women)\n",
    "plot(women$height, women$weight, main=\"Scatterplot: Heights and Weights for American Women\", \n",
    "   xlab=\"Height\", ylab=\"Weight\", pch=19) "
   ]
  },
  {
   "cell_type": "code",
   "execution_count": null,
   "metadata": {
    "collapsed": true
   },
   "outputs": [],
   "source": []
  }
 ],
 "metadata": {
  "kernelspec": {
   "display_name": "R",
   "language": "R",
   "name": "ir"
  },
  "language_info": {
   "codemirror_mode": "r",
   "file_extension": ".r",
   "mimetype": "text/x-r-source",
   "name": "R",
   "pygments_lexer": "r",
   "version": "3.4.2"
  }
 },
 "nbformat": 4,
 "nbformat_minor": 2
}
