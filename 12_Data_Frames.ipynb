{
 "cells": [
  {
   "cell_type": "markdown",
   "metadata": {
    "collapsed": true
   },
   "source": [
    "# 12 Data Frames\n",
    "\n",
    "Data frames are used to work with tabular data.\n",
    "\n",
    "Hadley Wickham’s package dplyr package is optimized to work efficiently with data frames.\n"
   ]
  },
  {
   "cell_type": "code",
   "execution_count": 24,
   "metadata": {},
   "outputs": [
    {
     "data": {
      "text/html": [
       "<table>\n",
       "<thead><tr><th scope=col>gender</th><th scope=col>height</th><th scope=col>mass</th><th scope=col>age</th></tr></thead>\n",
       "<tbody>\n",
       "\t<tr><td>Male  </td><td>152.0 </td><td>81    </td><td>42    </td></tr>\n",
       "\t<tr><td>Male  </td><td>171.5 </td><td>93    </td><td>38    </td></tr>\n",
       "\t<tr><td>Female</td><td>165.0 </td><td>78    </td><td>26    </td></tr>\n",
       "</tbody>\n",
       "</table>\n"
      ],
      "text/latex": [
       "\\begin{tabular}{r|llll}\n",
       " gender & height & mass & age\\\\\n",
       "\\hline\n",
       "\t Male   & 152.0  & 81     & 42    \\\\\n",
       "\t Male   & 171.5  & 93     & 38    \\\\\n",
       "\t Female & 165.0  & 78     & 26    \\\\\n",
       "\\end{tabular}\n"
      ],
      "text/markdown": [
       "\n",
       "gender | height | mass | age | \n",
       "|---|---|---|\n",
       "| Male   | 152.0  | 81     | 42     | \n",
       "| Male   | 171.5  | 93     | 38     | \n",
       "| Female | 165.0  | 78     | 26     | \n",
       "\n",
       "\n"
      ],
      "text/plain": [
       "  gender height mass age\n",
       "1 Male   152.0  81   42 \n",
       "2 Male   171.5  93   38 \n",
       "3 Female 165.0  78   26 "
      ]
     },
     "metadata": {},
     "output_type": "display_data"
    },
    {
     "data": {
      "text/html": [
       "'data.frame'"
      ],
      "text/latex": [
       "'data.frame'"
      ],
      "text/markdown": [
       "'data.frame'"
      ],
      "text/plain": [
       "[1] \"data.frame\""
      ]
     },
     "metadata": {},
     "output_type": "display_data"
    },
    {
     "name": "stdout",
     "output_type": "stream",
     "text": [
      "'data.frame':\t3 obs. of  4 variables:\n",
      " $ gender: Factor w/ 2 levels \"Female\",\"Male\": 2 2 1\n",
      " $ height: num  152 172 165\n",
      " $ mass  : num  81 93 78\n",
      " $ age   : num  42 38 26\n"
     ]
    },
    {
     "data": {
      "text/html": [
       "<ol class=list-inline>\n",
       "\t<li>'1'</li>\n",
       "\t<li>'2'</li>\n",
       "\t<li>'3'</li>\n",
       "</ol>\n"
      ],
      "text/latex": [
       "\\begin{enumerate*}\n",
       "\\item '1'\n",
       "\\item '2'\n",
       "\\item '3'\n",
       "\\end{enumerate*}\n"
      ],
      "text/markdown": [
       "1. '1'\n",
       "2. '2'\n",
       "3. '3'\n",
       "\n",
       "\n"
      ],
      "text/plain": [
       "[1] \"1\" \"2\" \"3\""
      ]
     },
     "metadata": {},
     "output_type": "display_data"
    },
    {
     "data": {
      "text/html": [
       "<ol class=list-inline>\n",
       "\t<li>'gender'</li>\n",
       "\t<li>'height'</li>\n",
       "\t<li>'mass'</li>\n",
       "\t<li>'age'</li>\n",
       "</ol>\n"
      ],
      "text/latex": [
       "\\begin{enumerate*}\n",
       "\\item 'gender'\n",
       "\\item 'height'\n",
       "\\item 'mass'\n",
       "\\item 'age'\n",
       "\\end{enumerate*}\n"
      ],
      "text/markdown": [
       "1. 'gender'\n",
       "2. 'height'\n",
       "3. 'mass'\n",
       "4. 'age'\n",
       "\n",
       "\n"
      ],
      "text/plain": [
       "[1] \"gender\" \"height\" \"mass\"   \"age\"   "
      ]
     },
     "metadata": {},
     "output_type": "display_data"
    },
    {
     "data": {
      "text/html": [
       "<dl>\n",
       "\t<dt>$names</dt>\n",
       "\t\t<dd><ol class=list-inline>\n",
       "\t<li>'gender'</li>\n",
       "\t<li>'height'</li>\n",
       "\t<li>'mass'</li>\n",
       "\t<li>'age'</li>\n",
       "</ol>\n",
       "</dd>\n",
       "\t<dt>$row.names</dt>\n",
       "\t\t<dd><ol class=list-inline>\n",
       "\t<li>1</li>\n",
       "\t<li>2</li>\n",
       "\t<li>3</li>\n",
       "</ol>\n",
       "</dd>\n",
       "\t<dt>$class</dt>\n",
       "\t\t<dd>'data.frame'</dd>\n",
       "</dl>\n"
      ],
      "text/latex": [
       "\\begin{description}\n",
       "\\item[\\$names] \\begin{enumerate*}\n",
       "\\item 'gender'\n",
       "\\item 'height'\n",
       "\\item 'mass'\n",
       "\\item 'age'\n",
       "\\end{enumerate*}\n",
       "\n",
       "\\item[\\$row.names] \\begin{enumerate*}\n",
       "\\item 1\n",
       "\\item 2\n",
       "\\item 3\n",
       "\\end{enumerate*}\n",
       "\n",
       "\\item[\\$class] 'data.frame'\n",
       "\\end{description}\n"
      ],
      "text/markdown": [
       "$names\n",
       ":   1. 'gender'\n",
       "2. 'height'\n",
       "3. 'mass'\n",
       "4. 'age'\n",
       "\n",
       "\n",
       "\n",
       "$row.names\n",
       ":   1. 1\n",
       "2. 2\n",
       "3. 3\n",
       "\n",
       "\n",
       "\n",
       "$class\n",
       ":   'data.frame'\n",
       "\n",
       "\n"
      ],
      "text/plain": [
       "$names\n",
       "[1] \"gender\" \"height\" \"mass\"   \"age\"   \n",
       "\n",
       "$row.names\n",
       "[1] 1 2 3\n",
       "\n",
       "$class\n",
       "[1] \"data.frame\"\n"
      ]
     },
     "metadata": {},
     "output_type": "display_data"
    },
    {
     "data": {
      "text/html": [
       "<table>\n",
       "<thead><tr><th scope=col>gender</th><th scope=col>height</th><th scope=col>mass</th><th scope=col>age</th></tr></thead>\n",
       "<tbody>\n",
       "\t<tr><td>Male  </td><td>152.0 </td><td>81    </td><td>42    </td></tr>\n",
       "\t<tr><td>Male  </td><td>171.5 </td><td>93    </td><td>38    </td></tr>\n",
       "\t<tr><td>Female</td><td>165.0 </td><td>78    </td><td>26    </td></tr>\n",
       "\t<tr><td>Female</td><td>169.0 </td><td>77    </td><td>33    </td></tr>\n",
       "</tbody>\n",
       "</table>\n"
      ],
      "text/latex": [
       "\\begin{tabular}{r|llll}\n",
       " gender & height & mass & age\\\\\n",
       "\\hline\n",
       "\t Male   & 152.0  & 81     & 42    \\\\\n",
       "\t Male   & 171.5  & 93     & 38    \\\\\n",
       "\t Female & 165.0  & 78     & 26    \\\\\n",
       "\t Female & 169.0  & 77     & 33    \\\\\n",
       "\\end{tabular}\n"
      ],
      "text/markdown": [
       "\n",
       "gender | height | mass | age | \n",
       "|---|---|---|---|\n",
       "| Male   | 152.0  | 81     | 42     | \n",
       "| Male   | 171.5  | 93     | 38     | \n",
       "| Female | 165.0  | 78     | 26     | \n",
       "| Female | 169.0  | 77     | 33     | \n",
       "\n",
       "\n"
      ],
      "text/plain": [
       "  gender height mass age\n",
       "1 Male   152.0  81   42 \n",
       "2 Male   171.5  93   38 \n",
       "3 Female 165.0  78   26 \n",
       "4 Female 169.0  77   33 "
      ]
     },
     "metadata": {},
     "output_type": "display_data"
    },
    {
     "data": {
      "text/html": [
       "<table>\n",
       "<thead><tr><th scope=col>gender</th><th scope=col>height</th><th scope=col>mass</th><th scope=col>age</th><th scope=col>bmi</th></tr></thead>\n",
       "<tbody>\n",
       "\t<tr><td>Male    </td><td>152.0   </td><td>81      </td><td>42      </td><td>123.4568</td></tr>\n",
       "\t<tr><td>Male    </td><td>171.5   </td><td>93      </td><td>38      </td><td>107.5269</td></tr>\n",
       "\t<tr><td>Female  </td><td>165.0   </td><td>78      </td><td>26      </td><td>128.2051</td></tr>\n",
       "\t<tr><td>Female  </td><td>169.0   </td><td>77      </td><td>33      </td><td>129.8701</td></tr>\n",
       "</tbody>\n",
       "</table>\n"
      ],
      "text/latex": [
       "\\begin{tabular}{r|lllll}\n",
       " gender & height & mass & age & bmi\\\\\n",
       "\\hline\n",
       "\t Male     & 152.0    & 81       & 42       & 123.4568\\\\\n",
       "\t Male     & 171.5    & 93       & 38       & 107.5269\\\\\n",
       "\t Female   & 165.0    & 78       & 26       & 128.2051\\\\\n",
       "\t Female   & 169.0    & 77       & 33       & 129.8701\\\\\n",
       "\\end{tabular}\n"
      ],
      "text/markdown": [
       "\n",
       "gender | height | mass | age | bmi | \n",
       "|---|---|---|---|\n",
       "| Male     | 152.0    | 81       | 42       | 123.4568 | \n",
       "| Male     | 171.5    | 93       | 38       | 107.5269 | \n",
       "| Female   | 165.0    | 78       | 26       | 128.2051 | \n",
       "| Female   | 169.0    | 77       | 33       | 129.8701 | \n",
       "\n",
       "\n"
      ],
      "text/plain": [
       "  gender height mass age bmi     \n",
       "1 Male   152.0  81   42  123.4568\n",
       "2 Male   171.5  93   38  107.5269\n",
       "3 Female 165.0  78   26  128.2051\n",
       "4 Female 169.0  77   33  129.8701"
      ]
     },
     "metadata": {},
     "output_type": "display_data"
    }
   ],
   "source": [
    "# create data frame\n",
    "bmi.df <- data.frame(\n",
    "   gender = c(\"Male\", \"Male\",\"Female\"), \n",
    "   height = c(152, 171.5, 165),            # cm\n",
    "   mass =   c(81, 93, 78),                 # kg\n",
    "   age =    c(42, 38,26)                   # years\n",
    ")\n",
    "bmi.df\n",
    "class(bmi.df)\n",
    "str(bmi.df)\n",
    "row.names(bmi.df)\n",
    "names(bmi.df)\n",
    "attributes(bmi.df)\n",
    "\n",
    "bmi.df <- rbind(bmi.df, list(\"Female\", 169, 77, 33))\n",
    "bmi.df\n",
    "\n",
    "bmi.df <- cbind(bmi.df, list(bmi=bmi.df$mass/(bmi.df$mass/100)^2)) # BMI = mass_kg/height_m^2\n",
    "bmi.df"
   ]
  },
  {
   "cell_type": "code",
   "execution_count": 5,
   "metadata": {},
   "outputs": [
    {
     "data": {
      "text/html": [
       "'C:/Users/peterthor/Documents/R_Jupyter'"
      ],
      "text/latex": [
       "'C:/Users/peterthor/Documents/R\\_Jupyter'"
      ],
      "text/markdown": [
       "'C:/Users/peterthor/Documents/R_Jupyter'"
      ],
      "text/plain": [
       "[1] \"C:/Users/peterthor/Documents/R_Jupyter\""
      ]
     },
     "metadata": {},
     "output_type": "display_data"
    },
    {
     "name": "stdout",
     "output_type": "stream",
     "text": [
      "'data.frame':\t2 obs. of  5 variables:\n",
      " $ ID     : int  3 1\n",
      " $ GRADES : Factor w/ 2 levels \"A\",\"C\": 2 1\n",
      " $ GPA    : int  2 4\n",
      " $ Teacher: Factor w/ 2 levels \"Teacher1\",\"Teacher3\": 2 1\n",
      " $ State  : Factor w/ 2 levels \"California\",\"MA\": 2 1\n"
     ]
    }
   ],
   "source": [
    "getwd()\n",
    "df = read.csv(\"./data/grades.csv\")\n",
    "str(df)"
   ]
  },
  {
   "cell_type": "code",
   "execution_count": null,
   "metadata": {
    "collapsed": true
   },
   "outputs": [],
   "source": []
  }
 ],
 "metadata": {
  "kernelspec": {
   "display_name": "R",
   "language": "R",
   "name": "ir"
  },
  "language_info": {
   "codemirror_mode": "r",
   "file_extension": ".r",
   "mimetype": "text/x-r-source",
   "name": "R",
   "pygments_lexer": "r",
   "version": "3.4.2"
  }
 },
 "nbformat": 4,
 "nbformat_minor": 2
}
