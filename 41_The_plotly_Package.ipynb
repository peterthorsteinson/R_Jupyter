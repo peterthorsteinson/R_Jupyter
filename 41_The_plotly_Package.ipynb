{
 "cells": [
  {
   "cell_type": "markdown",
   "metadata": {},
   "source": [
    "# 41 The plotly Package\n",
    "\n",
    "-  By default, Plotly for R runs locally in your web browser or in the R Studio viewer.  \n",
    "-  A Plotly account is required to publish charts online. It's free to get started, and you control the privacy of your charts.  \n",
    "\n",
    "[Getting Started with Plotly for R](https://plot.ly/r/getting-started)  \n",
    "\n",
    "```\n",
    "install.packages(\"plotly\")\n",
    "```"
   ]
  },
  {
   "cell_type": "code",
   "execution_count": 3,
   "metadata": {},
   "outputs": [
    {
     "name": "stderr",
     "output_type": "stream",
     "text": [
      "IOPub data rate exceeded.\n",
      "The notebook server will temporarily stop sending output\n",
      "to the client in order to avoid crashing it.\n",
      "To change this limit, set the config variable\n",
      "`--NotebookApp.iopub_data_rate_limit`.\n"
     ]
    }
   ],
   "source": [
    "library(plotly)\n",
    "p <- plot_ly(midwest, x = ~percollege, color = ~state, type = \"box\")\n",
    "p"
   ]
  },
  {
   "cell_type": "code",
   "execution_count": 2,
   "metadata": {},
   "outputs": [
    {
     "name": "stderr",
     "output_type": "stream",
     "text": [
      "Warning message:\n",
      "\"package 'plotly' was built under R version 3.4.3\"Loading required package: ggplot2\n",
      "Warning message:\n",
      "\"package 'ggplot2' was built under R version 3.4.3\"\n",
      "Attaching package: 'plotly'\n",
      "\n",
      "The following object is masked from 'package:ggplot2':\n",
      "\n",
      "    last_plot\n",
      "\n",
      "The following object is masked from 'package:stats':\n",
      "\n",
      "    filter\n",
      "\n",
      "The following object is masked from 'package:graphics':\n",
      "\n",
      "    layout\n",
      "\n",
      "Warning message:\n",
      "\"'plotly_POST' is deprecated.\n",
      "Use 'api_create' instead.\n",
      "See help(\"Deprecated\")\"Warning message:\n",
      "\"package 'bindrcpp' was built under R version 3.4.3\"Warning message:\n",
      "\"You need a plotly username. See help(signup, package = 'plotly')\"Warning message:\n",
      "\"Couldn't find username\"Warning message:\n",
      "\"You need an api_key. See help(signup, package = 'plotly')\"Warning message:\n",
      "\"Couldn't find api_key\"Warning message:\n",
      "\"You need a plotly username. See help(signup, package = 'plotly')\"Warning message:\n",
      "\"Couldn't find username\"Warning message:\n",
      "\"You need an api_key. See help(signup, package = 'plotly')\"Warning message:\n",
      "\"Couldn't find api_key\"Warning message:\n",
      "\"You need a plotly username. See help(signup, package = 'plotly')\"Warning message:\n",
      "\"Couldn't find username\"Warning message:\n",
      "\"You need an api_key. See help(signup, package = 'plotly')\"Warning message:\n",
      "\"Couldn't find api_key\""
     ]
    },
    {
     "ename": "ERROR",
     "evalue": "Error: Client error: (401) Unauthorized\n\tNo such user\n",
     "output_type": "error",
     "traceback": [
      "Error: Client error: (401) Unauthorized\n\tNo such user\nTraceback:\n",
      "1. plotly_POST(p, filename = \"line/basic\")",
      "2. api_create(x, filename = filename, sharing = sharing, fileopt = fileopt, \n .     ...)",
      "3. api_create.plotly(x, filename = filename, sharing = sharing, \n .     fileopt = fileopt, ...)",
      "4. api_pave_path(plotname)",
      "5. api(\"folders\", \"POST\", list(path = parent))",
      "6. structure(process(resp), class = \"api\")",
      "7. process(resp)",
      "8. process.default(resp)",
      "9. json_content(relay_error(resp))",
      "10. relay_error(resp)",
      "11. stop(httr::http_status(resp)[[\"message\"]], \"\\n\\t\", paste(msgs, \n  .     collapse = \"\\n\\t\"), call. = FALSE)"
     ]
    }
   ],
   "source": [
    "library(plotly)\n",
    "\n",
    "x <- c(1:100)\n",
    "random_y <- rnorm(100, mean = 0)\n",
    "data <- data.frame(x, random_y)\n",
    "\n",
    "p <- plot_ly(data, x = ~x, y = ~random_y, type = 'scatter', mode = 'lines')\n",
    "\n",
    "# Create a shareable link to your chart\n",
    "# Set up API credentials: https://plot.ly/r/getting-started\n",
    "chart_link = plotly_POST(p, filename=\"line/basic\")\n",
    "chart_link"
   ]
  },
  {
   "cell_type": "code",
   "execution_count": null,
   "metadata": {
    "collapsed": true
   },
   "outputs": [],
   "source": []
  }
 ],
 "metadata": {
  "kernelspec": {
   "display_name": "R",
   "language": "R",
   "name": "ir"
  },
  "language_info": {
   "codemirror_mode": "r",
   "file_extension": ".r",
   "mimetype": "text/x-r-source",
   "name": "R",
   "pygments_lexer": "r",
   "version": "3.4.2"
  }
 },
 "nbformat": 4,
 "nbformat_minor": 2
}
