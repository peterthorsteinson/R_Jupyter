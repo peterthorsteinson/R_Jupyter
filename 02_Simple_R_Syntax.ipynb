{
 "cells": [
  {
   "cell_type": "markdown",
   "metadata": {
    "collapsed": true
   },
   "source": [
    "# 02 Simple R Syntax  \n",
    "\n",
    "**Case Sensitive:** Object names are case sensitive and must start with a letter, and they can contain only letters, numbers, underscores and periods.  \n",
    "**Comments:** Comments start with a '#' chcarcter end end with a new line and they are ignored by the interpreter.  \n",
    "**Assignments:** The <- symbol is the assignment operator. (= and -> are also supprted)  \n",
    "**Operators:** Order of arithmetic evaluation is Parentheses, Exponentiation, Multiplication, Division, Addition and then Subtraction.  \n",
    "**Limits:** The largest number of digits that can be displayed is 22. There are other limits as well.  \n",
    "**Packages:** are the fundamental units of code sharing and distribution.  \n",
    "\n",
    "-  Comments\n",
    "-  Builtin Functions\n",
    "-  Arithmetic Operators\n",
    "-  Assignment\n",
    "-  Console Output\n",
    "-  The class Function\n",
    "-  The typeof Function\n",
    "-  The is.* Functions\n",
    "-  The sprintf Function\n",
    "-  The paste Function\n",
    "-  Vectorization\n",
    "-  Predefined Infix Operators\n",
    "-  File IO\n",
    "-  The list.files Function\n",
    "-  The source Function\n",
    "-  The dump and source Functions\n",
    "-  The save and load Functions\n",
    "-  The save.image Functions\n",
    "-  The serialize and unserialize Functions\n",
    "-  The read.table Function\n",
    "-  The read.csv Function\n",
    "-  The readLines Function\n",
    "-  The readr Package\n",
    "-  The plot Function"
   ]
  },
  {
   "cell_type": "markdown",
   "metadata": {},
   "source": [
    "## Comments"
   ]
  },
  {
   "cell_type": "code",
   "execution_count": 4,
   "metadata": {
    "collapsed": true
   },
   "outputs": [],
   "source": [
    "# This is a comment"
   ]
  },
  {
   "cell_type": "markdown",
   "metadata": {},
   "source": [
    "## Builtin Functions"
   ]
  },
  {
   "cell_type": "code",
   "execution_count": 5,
   "metadata": {},
   "outputs": [
    {
     "data": {
      "text/html": [
       "'builtin'"
      ],
      "text/latex": [
       "'builtin'"
      ],
      "text/markdown": [
       "'builtin'"
      ],
      "text/plain": [
       "[1] \"builtin\""
      ]
     },
     "metadata": {},
     "output_type": "display_data"
    }
   ],
   "source": [
    "# display docs on the builtin sin function\n",
    "?sin\n",
    "typeof(sin)"
   ]
  },
  {
   "cell_type": "code",
   "execution_count": 7,
   "metadata": {},
   "outputs": [
    {
     "data": {
      "text/html": [
       "'builtin'"
      ],
      "text/latex": [
       "'builtin'"
      ],
      "text/markdown": [
       "'builtin'"
      ],
      "text/plain": [
       "[1] \"builtin\""
      ]
     },
     "metadata": {},
     "output_type": "display_data"
    }
   ],
   "source": [
    "# display docs on the builtin class function\n",
    "help(class) # show documentation for class function\n",
    "typeof(class)"
   ]
  },
  {
   "cell_type": "code",
   "execution_count": 10,
   "metadata": {},
   "outputs": [
    {
     "data": {
      "text/html": [
       "5"
      ],
      "text/latex": [
       "5"
      ],
      "text/markdown": [
       "5"
      ],
      "text/plain": [
       "[1] 5"
      ]
     },
     "metadata": {},
     "output_type": "display_data"
    },
    {
     "data": {
      "text/html": [
       "10"
      ],
      "text/latex": [
       "10"
      ],
      "text/markdown": [
       "10"
      ],
      "text/plain": [
       "[1] 10"
      ]
     },
     "metadata": {},
     "output_type": "display_data"
    },
    {
     "data": {
      "text/html": [
       "2.71828182845905"
      ],
      "text/latex": [
       "2.71828182845905"
      ],
      "text/markdown": [
       "2.71828182845905"
      ],
      "text/plain": [
       "[1] 2.718282"
      ]
     },
     "metadata": {},
     "output_type": "display_data"
    },
    {
     "data": {
      "text/html": [
       "2"
      ],
      "text/latex": [
       "2"
      ],
      "text/markdown": [
       "2"
      ],
      "text/plain": [
       "[1] 2"
      ]
     },
     "metadata": {},
     "output_type": "display_data"
    },
    {
     "data": {
      "text/html": [
       "8"
      ],
      "text/latex": [
       "8"
      ],
      "text/markdown": [
       "8"
      ],
      "text/plain": [
       "[1] 8"
      ]
     },
     "metadata": {},
     "output_type": "display_data"
    },
    {
     "data": {
      "text/html": [
       "0"
      ],
      "text/latex": [
       "0"
      ],
      "text/markdown": [
       "0"
      ],
      "text/plain": [
       "[1] 0"
      ]
     },
     "metadata": {},
     "output_type": "display_data"
    },
    {
     "data": {
      "text/html": [
       "0"
      ],
      "text/latex": [
       "0"
      ],
      "text/markdown": [
       "0"
      ],
      "text/plain": [
       "[1] 0"
      ]
     },
     "metadata": {},
     "output_type": "display_data"
    },
    {
     "data": {
      "text/html": [
       "-Inf"
      ],
      "text/latex": [
       "-Inf"
      ],
      "text/markdown": [
       "-Inf"
      ],
      "text/plain": [
       "[1] -Inf"
      ]
     },
     "metadata": {},
     "output_type": "display_data"
    },
    {
     "data": {
      "text/html": [
       "0.5"
      ],
      "text/latex": [
       "0.5"
      ],
      "text/markdown": [
       "0.5"
      ],
      "text/plain": [
       "[1] 0.5"
      ]
     },
     "metadata": {},
     "output_type": "display_data"
    },
    {
     "data": {
      "text/html": [
       "6.12303176911189e-17"
      ],
      "text/latex": [
       "6.12303176911189e-17"
      ],
      "text/markdown": [
       "6.12303176911189e-17"
      ],
      "text/plain": [
       "[1] 6.123032e-17"
      ]
     },
     "metadata": {},
     "output_type": "display_data"
    }
   ],
   "source": [
    "# more builtin functions\n",
    "abs(-5)                 # absolute value 0f -5 gives 5\n",
    "sqrt(100)               # square root of 100 gives 10\n",
    "exp(1)                  # exponential of 1 gives e (2.71828182845905)\n",
    "log(100, base = 10)     # logarithm to base 10 of 100 gives 2\n",
    "log(256, base = 2)      # logarithm to base 2 of 256 gives 8\n",
    "log(1, base = exp(1))   # logarithm to base e of 1 gives 0\n",
    "log(1)                  # logarithm to default base e of 1 gives 0\n",
    "log(0)                  # logarithm to any base of 0 is Inf (not defined)\n",
    "sin(pi/6)               # sin of 30° gives 0.5\n",
    "cos(pi/2)               # cosine of 90° gives approximately 0"
   ]
  },
  {
   "cell_type": "code",
   "execution_count": 11,
   "metadata": {},
   "outputs": [
    {
     "data": {
      "image/png": "[encoded data removed]",
      "text/plain": [
       "Plot with title \"Sine\""
      ]
     },
     "metadata": {},
     "output_type": "display_data"
    },
    {
     "data": {
      "image/png": "[encoded data removed]",
      "text/plain": [
       "Plot with title \"Square Root\""
      ]
     },
     "metadata": {},
     "output_type": "display_data"
    },
    {
     "data": {
      "image/png": "[encoded data removed]",
      "text/plain": [
       "Plot with title \"Exponential\""
      ]
     },
     "metadata": {},
     "output_type": "display_data"
    },
    {
     "data": {
      "image/png": "[encoded data removed]",
      "text/plain": [
       "Plot with title \"Logarithm\""
      ]
     },
     "metadata": {},
     "output_type": "display_data"
    },
    {
     "data": {
      "image/png": "[encoded data removed]",
      "text/plain": [
       "Plot with title \"Damped Cosine\""
      ]
     },
     "metadata": {},
     "output_type": "display_data"
    }
   ],
   "source": [
    "# builtin sine function\n",
    "x1 = seq(-10, 100, 0.01)\n",
    "x2 = seq(0, 100, 0.01)\n",
    "x3 = seq(0, 10, 0.1)\n",
    "plot(x1, sin(x1), main=\"Sine\", ylab=\"sin(x)\", type=\"l\", col=\"blue\")\n",
    "plot(x2, sqrt(x2), main=\"Square Root\", ylab=\"sin(x)\", type=\"l\", col=\"blue\")\n",
    "plot(x3, exp(x3), main=\"Exponential\", ylab=\"exp(x)\", type=\"l\", col=\"blue\")\n",
    "plot(x2, log(x2), main=\"Logarithm\", ylab=\"log(x)\", type=\"l\", col=\"blue\")\n",
    "plot(x2, exp(-x2/10)*cos(x2), main=\"Damped Cosine\", ylab=\"sin(x)/log(x)\", type=\"l\", col=\"blue\")"
   ]
  },
  {
   "cell_type": "markdown",
   "metadata": {},
   "source": [
    "## Arithmetic Operators"
   ]
  },
  {
   "cell_type": "code",
   "execution_count": 5,
   "metadata": {},
   "outputs": [
    {
     "data": {
      "text/html": [
       "44"
      ],
      "text/latex": [
       "44"
      ],
      "text/markdown": [
       "44"
      ],
      "text/plain": [
       "[1] 44"
      ]
     },
     "metadata": {},
     "output_type": "display_data"
    },
    {
     "data": {
      "text/html": [
       "40"
      ],
      "text/latex": [
       "40"
      ],
      "text/markdown": [
       "40"
      ],
      "text/plain": [
       "[1] 40"
      ]
     },
     "metadata": {},
     "output_type": "display_data"
    },
    {
     "data": {
      "text/html": [
       "84"
      ],
      "text/latex": [
       "84"
      ],
      "text/markdown": [
       "84"
      ],
      "text/plain": [
       "[1] 84"
      ]
     },
     "metadata": {},
     "output_type": "display_data"
    },
    {
     "data": {
      "text/html": [
       "10.5"
      ],
      "text/latex": [
       "10.5"
      ],
      "text/markdown": [
       "10.5"
      ],
      "text/plain": [
       "[1] 10.5"
      ]
     },
     "metadata": {},
     "output_type": "display_data"
    },
    {
     "data": {
      "text/html": [
       "10"
      ],
      "text/latex": [
       "10"
      ],
      "text/markdown": [
       "10"
      ],
      "text/plain": [
       "[1] 10"
      ]
     },
     "metadata": {},
     "output_type": "display_data"
    },
    {
     "data": {
      "text/html": [
       "2"
      ],
      "text/latex": [
       "2"
      ],
      "text/markdown": [
       "2"
      ],
      "text/plain": [
       "[1] 2"
      ]
     },
     "metadata": {},
     "output_type": "display_data"
    },
    {
     "data": {
      "text/html": [
       "84"
      ],
      "text/latex": [
       "84"
      ],
      "text/markdown": [
       "84"
      ],
      "text/plain": [
       "[1] 84"
      ]
     },
     "metadata": {},
     "output_type": "display_data"
    }
   ],
   "source": [
    "# arithmetic expressions\n",
    "42+2            # 44\n",
    "42-2            # 40\n",
    "42*2            # 84\n",
    "42 / 4          # regular division gives 10.5\n",
    "42 %/% 4        # integer division gives 10\n",
    "42 %% 4         # modulo (remainder) gives 2\n",
    "42L * 2L        # integers"
   ]
  },
  {
   "cell_type": "code",
   "execution_count": 6,
   "metadata": {},
   "outputs": [
    {
     "data": {
      "text/html": [
       "4.03"
      ],
      "text/latex": [
       "4.03"
      ],
      "text/markdown": [
       "4.03"
      ],
      "text/plain": [
       "[1] 4.03"
      ]
     },
     "metadata": {},
     "output_type": "display_data"
    },
    {
     "data": {
      "text/html": [
       "4.03"
      ],
      "text/latex": [
       "4.03"
      ],
      "text/markdown": [
       "4.03"
      ],
      "text/plain": [
       "[1] 4.03"
      ]
     },
     "metadata": {},
     "output_type": "display_data"
    },
    {
     "data": {
      "text/html": [
       "0.07"
      ],
      "text/latex": [
       "0.07"
      ],
      "text/markdown": [
       "0.07"
      ],
      "text/plain": [
       "[1] 0.07"
      ]
     },
     "metadata": {},
     "output_type": "display_data"
    },
    {
     "data": {
      "text/html": [
       "2.43701134160465e-09"
      ],
      "text/latex": [
       "2.43701134160465e-09"
      ],
      "text/markdown": [
       "2.43701134160465e-09"
      ],
      "text/plain": [
       "[1] 2.437011e-09"
      ]
     },
     "metadata": {},
     "output_type": "display_data"
    },
    {
     "data": {
      "text/html": [
       "Inf"
      ],
      "text/latex": [
       "Inf"
      ],
      "text/markdown": [
       "Inf"
      ],
      "text/plain": [
       "[1] Inf"
      ]
     },
     "metadata": {},
     "output_type": "display_data"
    },
    {
     "data": {
      "text/html": [
       "-Inf"
      ],
      "text/latex": [
       "-Inf"
      ],
      "text/markdown": [
       "-Inf"
      ],
      "text/plain": [
       "[1] -Inf"
      ]
     },
     "metadata": {},
     "output_type": "display_data"
    },
    {
     "data": {
      "text/html": [
       "NaN"
      ],
      "text/latex": [
       "NaN"
      ],
      "text/markdown": [
       "NaN"
      ],
      "text/plain": [
       "[1] NaN"
      ]
     },
     "metadata": {},
     "output_type": "display_data"
    },
    {
     "data": {
      "text/html": [
       "NaN"
      ],
      "text/latex": [
       "NaN"
      ],
      "text/markdown": [
       "NaN"
      ],
      "text/plain": [
       "[1] NaN"
      ]
     },
     "metadata": {},
     "output_type": "display_data"
    },
    {
     "data": {
      "text/html": [
       "NaN"
      ],
      "text/latex": [
       "NaN"
      ],
      "text/markdown": [
       "NaN"
      ],
      "text/plain": [
       "[1] NaN"
      ]
     },
     "metadata": {},
     "output_type": "display_data"
    },
    {
     "data": {
      "text/html": [
       "Inf"
      ],
      "text/latex": [
       "Inf"
      ],
      "text/markdown": [
       "Inf"
      ],
      "text/plain": [
       "[1] Inf"
      ]
     },
     "metadata": {},
     "output_type": "display_data"
    },
    {
     "data": {
      "text/html": [
       "TRUE"
      ],
      "text/latex": [
       "TRUE"
      ],
      "text/markdown": [
       "TRUE"
      ],
      "text/plain": [
       "[1] TRUE"
      ]
     },
     "metadata": {},
     "output_type": "display_data"
    },
    {
     "data": {
      "text/html": [
       "FALSE"
      ],
      "text/latex": [
       "FALSE"
      ],
      "text/markdown": [
       "FALSE"
      ],
      "text/plain": [
       "[1] FALSE"
      ]
     },
     "metadata": {},
     "output_type": "display_data"
    }
   ],
   "source": [
    "# PEMDAS order of operations\n",
    "4 + 3 / 10 ^ 2   # 4.03\n",
    "4 + (3 / 10 ^ 2) # 4.03\n",
    "(4 + 3) / 10 ^ 2 # 0.07\n",
    "1 / 17 ^ 7       # 2.43701134160465e-09\n",
    "\n",
    "# NaN Inf and -Inf\n",
    "1 / 0     # Inf\n",
    "-1/0      # -Inf\n",
    "1 + NaN   # NaN\n",
    "0 / 0     # NaN\n",
    "Inf - Inf # NaN\n",
    "Inf + Inf # Inf\n",
    "\n",
    "# roundoff error\n",
    "0.2 + 0.5 == 0.7 # TRUE\n",
    "0.1 + 0.2 == 0.3 # FALSE"
   ]
  },
  {
   "cell_type": "markdown",
   "metadata": {},
   "source": [
    "## Assignment"
   ]
  },
  {
   "cell_type": "code",
   "execution_count": 12,
   "metadata": {},
   "outputs": [
    {
     "data": {
      "text/html": [
       "1"
      ],
      "text/latex": [
       "1"
      ],
      "text/markdown": [
       "1"
      ],
      "text/plain": [
       "[1] 1"
      ]
     },
     "metadata": {},
     "output_type": "display_data"
    },
    {
     "data": {
      "text/html": [
       "2"
      ],
      "text/latex": [
       "2"
      ],
      "text/markdown": [
       "2"
      ],
      "text/plain": [
       "[1] 2"
      ]
     },
     "metadata": {},
     "output_type": "display_data"
    },
    {
     "data": {
      "text/html": [
       "3"
      ],
      "text/latex": [
       "3"
      ],
      "text/markdown": [
       "3"
      ],
      "text/plain": [
       "[1] 3"
      ]
     },
     "metadata": {},
     "output_type": "display_data"
    },
    {
     "data": {
      "text/html": [
       "FALSE"
      ],
      "text/latex": [
       "FALSE"
      ],
      "text/markdown": [
       "FALSE"
      ],
      "text/plain": [
       "[1] FALSE"
      ]
     },
     "metadata": {},
     "output_type": "display_data"
    },
    {
     "data": {
      "text/html": [
       "3"
      ],
      "text/latex": [
       "3"
      ],
      "text/markdown": [
       "3"
      ],
      "text/plain": [
       "[1] 3"
      ]
     },
     "metadata": {},
     "output_type": "display_data"
    },
    {
     "data": {
      "text/html": [
       "3"
      ],
      "text/latex": [
       "3"
      ],
      "text/markdown": [
       "3"
      ],
      "text/plain": [
       "[1] 3"
      ]
     },
     "metadata": {},
     "output_type": "display_data"
    },
    {
     "data": {
      "text/html": [
       "3"
      ],
      "text/latex": [
       "3"
      ],
      "text/markdown": [
       "3"
      ],
      "text/plain": [
       "[1] 3"
      ]
     },
     "metadata": {},
     "output_type": "display_data"
    }
   ],
   "source": [
    "# assignment operators\n",
    "w <- 1\n",
    "w\n",
    "x = 2\n",
    "x\n",
    "3 -> y\n",
    "y\n",
    "z <- FALSE\n",
    "z\n",
    "\n",
    "x <- 3     # cool style\n",
    "x\n",
    "3 -> x     # weird style\n",
    "x\n",
    "x = 3      # not cool style\n",
    "x"
   ]
  },
  {
   "cell_type": "markdown",
   "metadata": {},
   "source": [
    "## Console Output"
   ]
  },
  {
   "cell_type": "code",
   "execution_count": 2,
   "metadata": {},
   "outputs": [
    {
     "name": "stdout",
     "output_type": "stream",
     "text": [
      "[1] \"Hello World!\"\n"
     ]
    },
    {
     "data": {
      "text/html": [
       "'Hello World!'"
      ],
      "text/latex": [
       "'Hello World!'"
      ],
      "text/markdown": [
       "'Hello World!'"
      ],
      "text/plain": [
       "[1] \"Hello World!\""
      ]
     },
     "metadata": {},
     "output_type": "display_data"
    },
    {
     "name": "stdout",
     "output_type": "stream",
     "text": [
      " [1] 10 11 12 13 14 15 16 17 18 19 20\n"
     ]
    },
    {
     "data": {
      "text/html": [
       "<ol class=list-inline>\n",
       "\t<li>10</li>\n",
       "\t<li>11</li>\n",
       "\t<li>12</li>\n",
       "\t<li>13</li>\n",
       "\t<li>14</li>\n",
       "\t<li>15</li>\n",
       "\t<li>16</li>\n",
       "\t<li>17</li>\n",
       "\t<li>18</li>\n",
       "\t<li>19</li>\n",
       "\t<li>20</li>\n",
       "</ol>\n"
      ],
      "text/latex": [
       "\\begin{enumerate*}\n",
       "\\item 10\n",
       "\\item 11\n",
       "\\item 12\n",
       "\\item 13\n",
       "\\item 14\n",
       "\\item 15\n",
       "\\item 16\n",
       "\\item 17\n",
       "\\item 18\n",
       "\\item 19\n",
       "\\item 20\n",
       "\\end{enumerate*}\n"
      ],
      "text/markdown": [
       "1. 10\n",
       "2. 11\n",
       "3. 12\n",
       "4. 13\n",
       "5. 14\n",
       "6. 15\n",
       "7. 16\n",
       "8. 17\n",
       "9. 18\n",
       "10. 19\n",
       "11. 20\n",
       "\n",
       "\n"
      ],
      "text/plain": [
       " [1] 10 11 12 13 14 15 16 17 18 19 20"
      ]
     },
     "metadata": {},
     "output_type": "display_data"
    }
   ],
   "source": [
    "print(\"Hello World!\") # console output\n",
    "\"Hello World!\"\n",
    "print(10:20)\n",
    "10:20"
   ]
  },
  {
   "cell_type": "code",
   "execution_count": 3,
   "metadata": {},
   "outputs": [
    {
     "name": "stdout",
     "output_type": "stream",
     "text": [
      "[1] \"\\\"It's alive!\\\", he screamed.\"\n",
      "[1] \"\\\"It's alive!\\\", he screamed.\"\n"
     ]
    },
    {
     "data": {
      "text/html": [
       "TRUE"
      ],
      "text/latex": [
       "TRUE"
      ],
      "text/markdown": [
       "TRUE"
      ],
      "text/plain": [
       "[1] TRUE"
      ]
     },
     "metadata": {},
     "output_type": "display_data"
    }
   ],
   "source": [
    "print('\"It\\'s alive!\", he screamed.')\n",
    "print(\"\\\"It's alive!\\\", he screamed.\")\n",
    "identical('\"It\\'s alive!\", he screamed.', \"\\\"It's alive!\\\", he screamed.\") # same"
   ]
  },
  {
   "cell_type": "markdown",
   "metadata": {
    "collapsed": true
   },
   "source": [
    "## The class Function"
   ]
  },
  {
   "cell_type": "code",
   "execution_count": 21,
   "metadata": {},
   "outputs": [
    {
     "data": {
      "text/html": [
       "'character'"
      ],
      "text/latex": [
       "'character'"
      ],
      "text/markdown": [
       "'character'"
      ],
      "text/plain": [
       "[1] \"character\""
      ]
     },
     "metadata": {},
     "output_type": "display_data"
    },
    {
     "data": {
      "text/html": [
       "'numeric'"
      ],
      "text/latex": [
       "'numeric'"
      ],
      "text/markdown": [
       "'numeric'"
      ],
      "text/plain": [
       "[1] \"numeric\""
      ]
     },
     "metadata": {},
     "output_type": "display_data"
    },
    {
     "data": {
      "text/html": [
       "'integer'"
      ],
      "text/latex": [
       "'integer'"
      ],
      "text/markdown": [
       "'integer'"
      ],
      "text/plain": [
       "[1] \"integer\""
      ]
     },
     "metadata": {},
     "output_type": "display_data"
    },
    {
     "data": {
      "text/html": [
       "'complex'"
      ],
      "text/latex": [
       "'complex'"
      ],
      "text/markdown": [
       "'complex'"
      ],
      "text/plain": [
       "[1] \"complex\""
      ]
     },
     "metadata": {},
     "output_type": "display_data"
    },
    {
     "data": {
      "text/html": [
       "'logical'"
      ],
      "text/latex": [
       "'logical'"
      ],
      "text/markdown": [
       "'logical'"
      ],
      "text/plain": [
       "[1] \"logical\""
      ]
     },
     "metadata": {},
     "output_type": "display_data"
    },
    {
     "data": {
      "text/html": [
       "'numeric'"
      ],
      "text/latex": [
       "'numeric'"
      ],
      "text/markdown": [
       "'numeric'"
      ],
      "text/plain": [
       "[1] \"numeric\""
      ]
     },
     "metadata": {},
     "output_type": "display_data"
    },
    {
     "data": {
      "text/html": [
       "'list'"
      ],
      "text/latex": [
       "'list'"
      ],
      "text/markdown": [
       "'list'"
      ],
      "text/plain": [
       "[1] \"list\""
      ]
     },
     "metadata": {},
     "output_type": "display_data"
    },
    {
     "data": {
      "text/html": [
       "'function'"
      ],
      "text/latex": [
       "'function'"
      ],
      "text/markdown": [
       "'function'"
      ],
      "text/plain": [
       "[1] \"function\""
      ]
     },
     "metadata": {},
     "output_type": "display_data"
    },
    {
     "data": {
      "text/html": [
       "'list'"
      ],
      "text/latex": [
       "'list'"
      ],
      "text/markdown": [
       "'list'"
      ],
      "text/plain": [
       "[1] \"list\""
      ]
     },
     "metadata": {},
     "output_type": "display_data"
    }
   ],
   "source": [
    "class(\"42\")\n",
    "class(42)\n",
    "class(42L)\n",
    "class(42 + 0i)\n",
    "class(3 == 4)\n",
    "class(c(1, 2, 3))\n",
    "class(list(c(1, 2, 3), \"dog\"))\n",
    "class(sin)\n",
    "class(c(sin, cos))"
   ]
  },
  {
   "cell_type": "code",
   "execution_count": 4,
   "metadata": {},
   "outputs": [
    {
     "data": {
      "text/html": [
       "'Hello, World!'"
      ],
      "text/latex": [
       "'Hello, World!'"
      ],
      "text/markdown": [
       "'Hello, World!'"
      ],
      "text/plain": [
       "[1] \"Hello, World!\""
      ]
     },
     "metadata": {},
     "output_type": "display_data"
    },
    {
     "name": "stdout",
     "output_type": "stream",
     "text": [
      "[1] \"Hello, World!\"\n"
     ]
    },
    {
     "data": {
      "text/html": [
       "'character'"
      ],
      "text/latex": [
       "'character'"
      ],
      "text/markdown": [
       "'character'"
      ],
      "text/plain": [
       "[1] \"character\""
      ]
     },
     "metadata": {},
     "output_type": "display_data"
    }
   ],
   "source": [
    "myString <- \"Hello, World!\" # assignment - nothing printed\n",
    "myString # automatic printing\n",
    "print(myString) # explicit printing\n",
    "class(myString) # class of elements in vector is \"character\""
   ]
  },
  {
   "cell_type": "markdown",
   "metadata": {
    "collapsed": true
   },
   "source": [
    "## The typeof Function"
   ]
  },
  {
   "cell_type": "code",
   "execution_count": 3,
   "metadata": {},
   "outputs": [
    {
     "data": {
      "text/html": [
       "'integer'"
      ],
      "text/latex": [
       "'integer'"
      ],
      "text/markdown": [
       "'integer'"
      ],
      "text/plain": [
       "[1] \"integer\""
      ]
     },
     "metadata": {},
     "output_type": "display_data"
    },
    {
     "data": {
      "text/html": [
       "'double'"
      ],
      "text/latex": [
       "'double'"
      ],
      "text/markdown": [
       "'double'"
      ],
      "text/plain": [
       "[1] \"double\""
      ]
     },
     "metadata": {},
     "output_type": "display_data"
    },
    {
     "data": {
      "text/html": [
       "'character'"
      ],
      "text/latex": [
       "'character'"
      ],
      "text/markdown": [
       "'character'"
      ],
      "text/plain": [
       "[1] \"character\""
      ]
     },
     "metadata": {},
     "output_type": "display_data"
    }
   ],
   "source": [
    "typeof(42L)\n",
    "typeof(42)\n",
    "typeof('42')"
   ]
  },
  {
   "cell_type": "markdown",
   "metadata": {},
   "source": [
    "## The is.* Functions"
   ]
  },
  {
   "cell_type": "code",
   "execution_count": 14,
   "metadata": {},
   "outputs": [
    {
     "data": {
      "text/html": [
       "'double'"
      ],
      "text/latex": [
       "'double'"
      ],
      "text/markdown": [
       "'double'"
      ],
      "text/plain": [
       "[1] \"double\""
      ]
     },
     "metadata": {},
     "output_type": "display_data"
    },
    {
     "data": {
      "text/html": [
       "TRUE"
      ],
      "text/latex": [
       "TRUE"
      ],
      "text/markdown": [
       "TRUE"
      ],
      "text/plain": [
       "[1] TRUE"
      ]
     },
     "metadata": {},
     "output_type": "display_data"
    },
    {
     "data": {
      "text/html": [
       "TRUE"
      ],
      "text/latex": [
       "TRUE"
      ],
      "text/markdown": [
       "TRUE"
      ],
      "text/plain": [
       "[1] TRUE"
      ]
     },
     "metadata": {},
     "output_type": "display_data"
    },
    {
     "data": {
      "text/html": [
       "TRUE"
      ],
      "text/latex": [
       "TRUE"
      ],
      "text/markdown": [
       "TRUE"
      ],
      "text/plain": [
       "[1] TRUE"
      ]
     },
     "metadata": {},
     "output_type": "display_data"
    },
    {
     "data": {
      "text/html": [
       "TRUE"
      ],
      "text/latex": [
       "TRUE"
      ],
      "text/markdown": [
       "TRUE"
      ],
      "text/plain": [
       "[1] TRUE"
      ]
     },
     "metadata": {},
     "output_type": "display_data"
    },
    {
     "data": {
      "text/html": [
       "FALSE"
      ],
      "text/latex": [
       "FALSE"
      ],
      "text/markdown": [
       "FALSE"
      ],
      "text/plain": [
       "[1] FALSE"
      ]
     },
     "metadata": {},
     "output_type": "display_data"
    },
    {
     "data": {
      "text/html": [
       "FALSE"
      ],
      "text/latex": [
       "FALSE"
      ],
      "text/markdown": [
       "FALSE"
      ],
      "text/plain": [
       "[1] FALSE"
      ]
     },
     "metadata": {},
     "output_type": "display_data"
    },
    {
     "data": {
      "text/html": [
       "FALSE"
      ],
      "text/latex": [
       "FALSE"
      ],
      "text/markdown": [
       "FALSE"
      ],
      "text/plain": [
       "[1] FALSE"
      ]
     },
     "metadata": {},
     "output_type": "display_data"
    },
    {
     "data": {
      "text/html": [
       "FALSE"
      ],
      "text/latex": [
       "FALSE"
      ],
      "text/markdown": [
       "FALSE"
      ],
      "text/plain": [
       "[1] FALSE"
      ]
     },
     "metadata": {},
     "output_type": "display_data"
    },
    {
     "data": {
      "text/html": [
       "FALSE"
      ],
      "text/latex": [
       "FALSE"
      ],
      "text/markdown": [
       "FALSE"
      ],
      "text/plain": [
       "[1] FALSE"
      ]
     },
     "metadata": {},
     "output_type": "display_data"
    },
    {
     "data": {
      "text/html": [
       "FALSE"
      ],
      "text/latex": [
       "FALSE"
      ],
      "text/markdown": [
       "FALSE"
      ],
      "text/plain": [
       "[1] FALSE"
      ]
     },
     "metadata": {},
     "output_type": "display_data"
    },
    {
     "data": {
      "text/html": [
       "FALSE"
      ],
      "text/latex": [
       "FALSE"
      ],
      "text/markdown": [
       "FALSE"
      ],
      "text/plain": [
       "[1] FALSE"
      ]
     },
     "metadata": {},
     "output_type": "display_data"
    },
    {
     "data": {
      "text/html": [
       "FALSE"
      ],
      "text/latex": [
       "FALSE"
      ],
      "text/markdown": [
       "FALSE"
      ],
      "text/plain": [
       "[1] FALSE"
      ]
     },
     "metadata": {},
     "output_type": "display_data"
    },
    {
     "data": {
      "text/html": [
       "FALSE"
      ],
      "text/latex": [
       "FALSE"
      ],
      "text/markdown": [
       "FALSE"
      ],
      "text/plain": [
       "[1] FALSE"
      ]
     },
     "metadata": {},
     "output_type": "display_data"
    },
    {
     "data": {
      "text/html": [
       "FALSE"
      ],
      "text/latex": [
       "FALSE"
      ],
      "text/markdown": [
       "FALSE"
      ],
      "text/plain": [
       "[1] FALSE"
      ]
     },
     "metadata": {},
     "output_type": "display_data"
    },
    {
     "data": {
      "text/html": [
       "FALSE"
      ],
      "text/latex": [
       "FALSE"
      ],
      "text/markdown": [
       "FALSE"
      ],
      "text/plain": [
       "[1] FALSE"
      ]
     },
     "metadata": {},
     "output_type": "display_data"
    },
    {
     "data": {
      "text/html": [
       "FALSE"
      ],
      "text/latex": [
       "FALSE"
      ],
      "text/markdown": [
       "FALSE"
      ],
      "text/plain": [
       "[1] FALSE"
      ]
     },
     "metadata": {},
     "output_type": "display_data"
    }
   ],
   "source": [
    "x <- 42\n",
    "typeof(x)        # double\n",
    "is.numeric(x)    # TRUE\n",
    "is.double(x)     # TRUE\n",
    "is.finite(x)     # TRUE\n",
    "is.vector(x)     # TRUE\n",
    "is.integer(x)    # FALSE\n",
    "is.character(x)  # FALSE\n",
    "is.complex(x)    # FALSE\n",
    "is.logical(x)    # FALSE\n",
    "is.infinite(x)   # FALSE\n",
    "is.na(x)         # FALSE\n",
    "is.nan(x)        # FALSE\n",
    "is.null(x)       # FALSE\n",
    "is.list(x)       # FALSE\n",
    "is.matrix(x)     # FALSE\n",
    "is.array(x)      # FALSE\n",
    "is.data.frame(x) # FALSE"
   ]
  },
  {
   "cell_type": "code",
   "execution_count": 15,
   "metadata": {},
   "outputs": [
    {
     "data": {
      "text/html": [
       "'integer'"
      ],
      "text/latex": [
       "'integer'"
      ],
      "text/markdown": [
       "'integer'"
      ],
      "text/plain": [
       "[1] \"integer\""
      ]
     },
     "metadata": {},
     "output_type": "display_data"
    },
    {
     "data": {
      "text/html": [
       "TRUE"
      ],
      "text/latex": [
       "TRUE"
      ],
      "text/markdown": [
       "TRUE"
      ],
      "text/plain": [
       "[1] TRUE"
      ]
     },
     "metadata": {},
     "output_type": "display_data"
    },
    {
     "data": {
      "text/html": [
       "FALSE"
      ],
      "text/latex": [
       "FALSE"
      ],
      "text/markdown": [
       "FALSE"
      ],
      "text/plain": [
       "[1] FALSE"
      ]
     },
     "metadata": {},
     "output_type": "display_data"
    },
    {
     "data": {
      "text/html": [
       "TRUE"
      ],
      "text/latex": [
       "TRUE"
      ],
      "text/markdown": [
       "TRUE"
      ],
      "text/plain": [
       "[1] TRUE"
      ]
     },
     "metadata": {},
     "output_type": "display_data"
    },
    {
     "data": {
      "text/html": [
       "TRUE"
      ],
      "text/latex": [
       "TRUE"
      ],
      "text/markdown": [
       "TRUE"
      ],
      "text/plain": [
       "[1] TRUE"
      ]
     },
     "metadata": {},
     "output_type": "display_data"
    },
    {
     "data": {
      "text/html": [
       "TRUE"
      ],
      "text/latex": [
       "TRUE"
      ],
      "text/markdown": [
       "TRUE"
      ],
      "text/plain": [
       "[1] TRUE"
      ]
     },
     "metadata": {},
     "output_type": "display_data"
    },
    {
     "data": {
      "text/html": [
       "FALSE"
      ],
      "text/latex": [
       "FALSE"
      ],
      "text/markdown": [
       "FALSE"
      ],
      "text/plain": [
       "[1] FALSE"
      ]
     },
     "metadata": {},
     "output_type": "display_data"
    },
    {
     "data": {
      "text/html": [
       "FALSE"
      ],
      "text/latex": [
       "FALSE"
      ],
      "text/markdown": [
       "FALSE"
      ],
      "text/plain": [
       "[1] FALSE"
      ]
     },
     "metadata": {},
     "output_type": "display_data"
    },
    {
     "data": {
      "text/html": [
       "FALSE"
      ],
      "text/latex": [
       "FALSE"
      ],
      "text/markdown": [
       "FALSE"
      ],
      "text/plain": [
       "[1] FALSE"
      ]
     },
     "metadata": {},
     "output_type": "display_data"
    },
    {
     "data": {
      "text/html": [
       "FALSE"
      ],
      "text/latex": [
       "FALSE"
      ],
      "text/markdown": [
       "FALSE"
      ],
      "text/plain": [
       "[1] FALSE"
      ]
     },
     "metadata": {},
     "output_type": "display_data"
    },
    {
     "data": {
      "text/html": [
       "FALSE"
      ],
      "text/latex": [
       "FALSE"
      ],
      "text/markdown": [
       "FALSE"
      ],
      "text/plain": [
       "[1] FALSE"
      ]
     },
     "metadata": {},
     "output_type": "display_data"
    },
    {
     "data": {
      "text/html": [
       "FALSE"
      ],
      "text/latex": [
       "FALSE"
      ],
      "text/markdown": [
       "FALSE"
      ],
      "text/plain": [
       "[1] FALSE"
      ]
     },
     "metadata": {},
     "output_type": "display_data"
    },
    {
     "data": {
      "text/html": [
       "FALSE"
      ],
      "text/latex": [
       "FALSE"
      ],
      "text/markdown": [
       "FALSE"
      ],
      "text/plain": [
       "[1] FALSE"
      ]
     },
     "metadata": {},
     "output_type": "display_data"
    },
    {
     "data": {
      "text/html": [
       "FALSE"
      ],
      "text/latex": [
       "FALSE"
      ],
      "text/markdown": [
       "FALSE"
      ],
      "text/plain": [
       "[1] FALSE"
      ]
     },
     "metadata": {},
     "output_type": "display_data"
    },
    {
     "data": {
      "text/html": [
       "FALSE"
      ],
      "text/latex": [
       "FALSE"
      ],
      "text/markdown": [
       "FALSE"
      ],
      "text/plain": [
       "[1] FALSE"
      ]
     },
     "metadata": {},
     "output_type": "display_data"
    },
    {
     "data": {
      "text/html": [
       "FALSE"
      ],
      "text/latex": [
       "FALSE"
      ],
      "text/markdown": [
       "FALSE"
      ],
      "text/plain": [
       "[1] FALSE"
      ]
     },
     "metadata": {},
     "output_type": "display_data"
    },
    {
     "data": {
      "text/html": [
       "FALSE"
      ],
      "text/latex": [
       "FALSE"
      ],
      "text/markdown": [
       "FALSE"
      ],
      "text/plain": [
       "[1] FALSE"
      ]
     },
     "metadata": {},
     "output_type": "display_data"
    }
   ],
   "source": [
    "x <- 42L\n",
    "typeof(x)        # integer\n",
    "is.numeric(x)    # TRUE\n",
    "is.double(x)     # FALSE\n",
    "is.finite(x)     # TRUE\n",
    "is.vector(x)     # TRUE\n",
    "is.integer(x)    # TRUE\n",
    "is.character(x)  # FALSE\n",
    "is.complex(x)    # FALSE\n",
    "is.logical(x)    # FALSE\n",
    "is.infinite(x)   # FALSE\n",
    "is.na(x)         # FALSE\n",
    "is.nan(x)        # FALSE\n",
    "is.null(x)       # FALSE\n",
    "is.list(x)       # FALSE\n",
    "is.matrix(x)     # FALSE\n",
    "is.array(x)      # FALSE\n",
    "is.data.frame(x) # FALSE"
   ]
  },
  {
   "cell_type": "code",
   "execution_count": 16,
   "metadata": {},
   "outputs": [
    {
     "data": {
      "text/html": [
       "'complex'"
      ],
      "text/latex": [
       "'complex'"
      ],
      "text/markdown": [
       "'complex'"
      ],
      "text/plain": [
       "[1] \"complex\""
      ]
     },
     "metadata": {},
     "output_type": "display_data"
    },
    {
     "data": {
      "text/html": [
       "FALSE"
      ],
      "text/latex": [
       "FALSE"
      ],
      "text/markdown": [
       "FALSE"
      ],
      "text/plain": [
       "[1] FALSE"
      ]
     },
     "metadata": {},
     "output_type": "display_data"
    },
    {
     "data": {
      "text/html": [
       "FALSE"
      ],
      "text/latex": [
       "FALSE"
      ],
      "text/markdown": [
       "FALSE"
      ],
      "text/plain": [
       "[1] FALSE"
      ]
     },
     "metadata": {},
     "output_type": "display_data"
    },
    {
     "data": {
      "text/html": [
       "TRUE"
      ],
      "text/latex": [
       "TRUE"
      ],
      "text/markdown": [
       "TRUE"
      ],
      "text/plain": [
       "[1] TRUE"
      ]
     },
     "metadata": {},
     "output_type": "display_data"
    },
    {
     "data": {
      "text/html": [
       "TRUE"
      ],
      "text/latex": [
       "TRUE"
      ],
      "text/markdown": [
       "TRUE"
      ],
      "text/plain": [
       "[1] TRUE"
      ]
     },
     "metadata": {},
     "output_type": "display_data"
    },
    {
     "data": {
      "text/html": [
       "FALSE"
      ],
      "text/latex": [
       "FALSE"
      ],
      "text/markdown": [
       "FALSE"
      ],
      "text/plain": [
       "[1] FALSE"
      ]
     },
     "metadata": {},
     "output_type": "display_data"
    },
    {
     "data": {
      "text/html": [
       "FALSE"
      ],
      "text/latex": [
       "FALSE"
      ],
      "text/markdown": [
       "FALSE"
      ],
      "text/plain": [
       "[1] FALSE"
      ]
     },
     "metadata": {},
     "output_type": "display_data"
    },
    {
     "data": {
      "text/html": [
       "TRUE"
      ],
      "text/latex": [
       "TRUE"
      ],
      "text/markdown": [
       "TRUE"
      ],
      "text/plain": [
       "[1] TRUE"
      ]
     },
     "metadata": {},
     "output_type": "display_data"
    },
    {
     "data": {
      "text/html": [
       "FALSE"
      ],
      "text/latex": [
       "FALSE"
      ],
      "text/markdown": [
       "FALSE"
      ],
      "text/plain": [
       "[1] FALSE"
      ]
     },
     "metadata": {},
     "output_type": "display_data"
    },
    {
     "data": {
      "text/html": [
       "FALSE"
      ],
      "text/latex": [
       "FALSE"
      ],
      "text/markdown": [
       "FALSE"
      ],
      "text/plain": [
       "[1] FALSE"
      ]
     },
     "metadata": {},
     "output_type": "display_data"
    },
    {
     "data": {
      "text/html": [
       "FALSE"
      ],
      "text/latex": [
       "FALSE"
      ],
      "text/markdown": [
       "FALSE"
      ],
      "text/plain": [
       "[1] FALSE"
      ]
     },
     "metadata": {},
     "output_type": "display_data"
    },
    {
     "data": {
      "text/html": [
       "FALSE"
      ],
      "text/latex": [
       "FALSE"
      ],
      "text/markdown": [
       "FALSE"
      ],
      "text/plain": [
       "[1] FALSE"
      ]
     },
     "metadata": {},
     "output_type": "display_data"
    },
    {
     "data": {
      "text/html": [
       "FALSE"
      ],
      "text/latex": [
       "FALSE"
      ],
      "text/markdown": [
       "FALSE"
      ],
      "text/plain": [
       "[1] FALSE"
      ]
     },
     "metadata": {},
     "output_type": "display_data"
    },
    {
     "data": {
      "text/html": [
       "FALSE"
      ],
      "text/latex": [
       "FALSE"
      ],
      "text/markdown": [
       "FALSE"
      ],
      "text/plain": [
       "[1] FALSE"
      ]
     },
     "metadata": {},
     "output_type": "display_data"
    },
    {
     "data": {
      "text/html": [
       "FALSE"
      ],
      "text/latex": [
       "FALSE"
      ],
      "text/markdown": [
       "FALSE"
      ],
      "text/plain": [
       "[1] FALSE"
      ]
     },
     "metadata": {},
     "output_type": "display_data"
    },
    {
     "data": {
      "text/html": [
       "FALSE"
      ],
      "text/latex": [
       "FALSE"
      ],
      "text/markdown": [
       "FALSE"
      ],
      "text/plain": [
       "[1] FALSE"
      ]
     },
     "metadata": {},
     "output_type": "display_data"
    },
    {
     "data": {
      "text/html": [
       "FALSE"
      ],
      "text/latex": [
       "FALSE"
      ],
      "text/markdown": [
       "FALSE"
      ],
      "text/plain": [
       "[1] FALSE"
      ]
     },
     "metadata": {},
     "output_type": "display_data"
    }
   ],
   "source": [
    "x <- 42+0i\n",
    "typeof(x)        # complex\n",
    "is.numeric(x)    # FALSE\n",
    "is.double(x)     # FALSE\n",
    "is.finite(x)     # TRUE\n",
    "is.vector(x)     # TRUE\n",
    "is.integer(x)    # FALSE\n",
    "is.character(x)  # FALSE\n",
    "is.complex(x)    # TRUE\n",
    "is.logical(x)    # FALSE\n",
    "is.infinite(x)   # FALSE\n",
    "is.na(x)         # FALSE\n",
    "is.nan(x)        # FALSE\n",
    "is.null(x)       # FALSE\n",
    "is.list(x)       # FALSE\n",
    "is.matrix(x)     # FALSE\n",
    "is.array(x)      # FALSE\n",
    "is.data.frame(x) # FALSE"
   ]
  },
  {
   "cell_type": "code",
   "execution_count": 21,
   "metadata": {},
   "outputs": [
    {
     "data": {
      "text/html": [
       "<dl>\n",
       "\t<dt>$a</dt>\n",
       "\t\t<dd>1</dd>\n",
       "\t<dt>$b</dt>\n",
       "\t\t<dd>2</dd>\n",
       "\t<dt>$c</dt>\n",
       "\t\t<dd>3</dd>\n",
       "</dl>\n"
      ],
      "text/latex": [
       "\\begin{description}\n",
       "\\item[\\$a] 1\n",
       "\\item[\\$b] 2\n",
       "\\item[\\$c] 3\n",
       "\\end{description}\n"
      ],
      "text/markdown": [
       "$a\n",
       ":   1\n",
       "$b\n",
       ":   2\n",
       "$c\n",
       ":   3\n",
       "\n",
       "\n"
      ],
      "text/plain": [
       "$a\n",
       "[1] 1\n",
       "\n",
       "$b\n",
       "[1] 2\n",
       "\n",
       "$c\n",
       "[1] 3\n"
      ]
     },
     "metadata": {},
     "output_type": "display_data"
    },
    {
     "data": {
      "text/html": [
       "'list'"
      ],
      "text/latex": [
       "'list'"
      ],
      "text/markdown": [
       "'list'"
      ],
      "text/plain": [
       "[1] \"list\""
      ]
     },
     "metadata": {},
     "output_type": "display_data"
    },
    {
     "data": {
      "text/html": [
       "FALSE"
      ],
      "text/latex": [
       "FALSE"
      ],
      "text/markdown": [
       "FALSE"
      ],
      "text/plain": [
       "[1] FALSE"
      ]
     },
     "metadata": {},
     "output_type": "display_data"
    },
    {
     "data": {
      "text/html": [
       "FALSE"
      ],
      "text/latex": [
       "FALSE"
      ],
      "text/markdown": [
       "FALSE"
      ],
      "text/plain": [
       "[1] FALSE"
      ]
     },
     "metadata": {},
     "output_type": "display_data"
    },
    {
     "data": {
      "text/html": [
       "TRUE"
      ],
      "text/latex": [
       "TRUE"
      ],
      "text/markdown": [
       "TRUE"
      ],
      "text/plain": [
       "[1] TRUE"
      ]
     },
     "metadata": {},
     "output_type": "display_data"
    },
    {
     "data": {
      "text/html": [
       "FALSE"
      ],
      "text/latex": [
       "FALSE"
      ],
      "text/markdown": [
       "FALSE"
      ],
      "text/plain": [
       "[1] FALSE"
      ]
     },
     "metadata": {},
     "output_type": "display_data"
    },
    {
     "data": {
      "text/html": [
       "FALSE"
      ],
      "text/latex": [
       "FALSE"
      ],
      "text/markdown": [
       "FALSE"
      ],
      "text/plain": [
       "[1] FALSE"
      ]
     },
     "metadata": {},
     "output_type": "display_data"
    },
    {
     "data": {
      "text/html": [
       "FALSE"
      ],
      "text/latex": [
       "FALSE"
      ],
      "text/markdown": [
       "FALSE"
      ],
      "text/plain": [
       "[1] FALSE"
      ]
     },
     "metadata": {},
     "output_type": "display_data"
    },
    {
     "data": {
      "text/html": [
       "FALSE"
      ],
      "text/latex": [
       "FALSE"
      ],
      "text/markdown": [
       "FALSE"
      ],
      "text/plain": [
       "[1] FALSE"
      ]
     },
     "metadata": {},
     "output_type": "display_data"
    },
    {
     "data": {
      "text/html": [
       "TRUE"
      ],
      "text/latex": [
       "TRUE"
      ],
      "text/markdown": [
       "TRUE"
      ],
      "text/plain": [
       "[1] TRUE"
      ]
     },
     "metadata": {},
     "output_type": "display_data"
    },
    {
     "data": {
      "text/html": [
       "FALSE"
      ],
      "text/latex": [
       "FALSE"
      ],
      "text/markdown": [
       "FALSE"
      ],
      "text/plain": [
       "[1] FALSE"
      ]
     },
     "metadata": {},
     "output_type": "display_data"
    },
    {
     "data": {
      "text/html": [
       "FALSE"
      ],
      "text/latex": [
       "FALSE"
      ],
      "text/markdown": [
       "FALSE"
      ],
      "text/plain": [
       "[1] FALSE"
      ]
     },
     "metadata": {},
     "output_type": "display_data"
    },
    {
     "data": {
      "text/html": [
       "FALSE"
      ],
      "text/latex": [
       "FALSE"
      ],
      "text/markdown": [
       "FALSE"
      ],
      "text/plain": [
       "[1] FALSE"
      ]
     },
     "metadata": {},
     "output_type": "display_data"
    }
   ],
   "source": [
    "x <- list(a=1, b=2, c=3)\n",
    "x\n",
    "typeof(x)        # list\n",
    "is.numeric(x)    # FALSE\n",
    "is.double(x)     # FALSE\n",
    "is.vector(x)     # TRUE\n",
    "is.integer(x)    # FALSE\n",
    "is.character(x)  # FALSE\n",
    "is.complex(x)    # FALSE\n",
    "is.logical(x)    # FALSE\n",
    "is.list(x)       # TRUE\n",
    "is.matrix(x)     # FALSE\n",
    "is.array(x)      # FALSE\n",
    "is.data.frame(x) # FALSE"
   ]
  },
  {
   "cell_type": "markdown",
   "metadata": {},
   "source": [
    "## The sprintf Function"
   ]
  },
  {
   "cell_type": "code",
   "execution_count": 7,
   "metadata": {},
   "outputs": [
    {
     "data": {
      "text/html": [
       "TRUE"
      ],
      "text/latex": [
       "TRUE"
      ],
      "text/markdown": [
       "TRUE"
      ],
      "text/plain": [
       "[1] TRUE"
      ]
     },
     "metadata": {},
     "output_type": "display_data"
    },
    {
     "data": {
      "text/html": [
       "FALSE"
      ],
      "text/latex": [
       "FALSE"
      ],
      "text/markdown": [
       "FALSE"
      ],
      "text/plain": [
       "[1] FALSE"
      ]
     },
     "metadata": {},
     "output_type": "display_data"
    },
    {
     "data": {
      "text/html": [
       "0.3"
      ],
      "text/latex": [
       "0.3"
      ],
      "text/markdown": [
       "0.3"
      ],
      "text/plain": [
       "[1] 0.3"
      ]
     },
     "metadata": {},
     "output_type": "display_data"
    },
    {
     "data": {
      "text/html": [
       "'0.3000000000'"
      ],
      "text/latex": [
       "'0.3000000000'"
      ],
      "text/markdown": [
       "'0.3000000000'"
      ],
      "text/plain": [
       "[1] \"0.3000000000\""
      ]
     },
     "metadata": {},
     "output_type": "display_data"
    },
    {
     "data": {
      "text/html": [
       "'0.30000000000000004441'"
      ],
      "text/latex": [
       "'0.30000000000000004441'"
      ],
      "text/markdown": [
       "'0.30000000000000004441'"
      ],
      "text/plain": [
       "[1] \"0.30000000000000004441\""
      ]
     },
     "metadata": {},
     "output_type": "display_data"
    }
   ],
   "source": [
    "0.1 + 0.4 == 0.5 # TRUE\n",
    "0.1 + 0.2 == 0.3 # FALSE\n",
    "sum = 0.1 + 0.2\n",
    "sum\n",
    "sprintf(\"%.10f\",sum)\n",
    "sprintf(\"%.20f\",sum)"
   ]
  },
  {
   "cell_type": "markdown",
   "metadata": {},
   "source": [
    "## The paste Function"
   ]
  },
  {
   "cell_type": "code",
   "execution_count": 9,
   "metadata": {},
   "outputs": [
    {
     "data": {
      "text/html": [
       "<span style=white-space:pre-wrap>'The answr is:  42'</span>"
      ],
      "text/latex": [
       "'The answr is:  42'"
      ],
      "text/markdown": [
       "<span style=white-space:pre-wrap>'The answr is:  42'</span>"
      ],
      "text/plain": [
       "[1] \"The answr is:  42\""
      ]
     },
     "metadata": {},
     "output_type": "display_data"
    }
   ],
   "source": [
    "paste(\"The answr is: \", 42)"
   ]
  },
  {
   "cell_type": "markdown",
   "metadata": {
    "collapsed": true
   },
   "source": [
    "## Vectorization"
   ]
  },
  {
   "cell_type": "code",
   "execution_count": 31,
   "metadata": {},
   "outputs": [
    {
     "data": {
      "text/html": [
       "<ol class=list-inline>\n",
       "\t<li>2</li>\n",
       "\t<li>5</li>\n",
       "\t<li>8</li>\n",
       "</ol>\n"
      ],
      "text/latex": [
       "\\begin{enumerate*}\n",
       "\\item 2\n",
       "\\item 5\n",
       "\\item 8\n",
       "\\end{enumerate*}\n"
      ],
      "text/markdown": [
       "1. 2\n",
       "2. 5\n",
       "3. 8\n",
       "\n",
       "\n"
      ],
      "text/plain": [
       "[1] 2 5 8"
      ]
     },
     "metadata": {},
     "output_type": "display_data"
    },
    {
     "data": {
      "text/html": [
       "<ol class=list-inline>\n",
       "\t<li>2</li>\n",
       "\t<li>5</li>\n",
       "\t<li>8</li>\n",
       "</ol>\n"
      ],
      "text/latex": [
       "\\begin{enumerate*}\n",
       "\\item 2\n",
       "\\item 5\n",
       "\\item 8\n",
       "\\end{enumerate*}\n"
      ],
      "text/markdown": [
       "1. 2\n",
       "2. 5\n",
       "3. 8\n",
       "\n",
       "\n"
      ],
      "text/plain": [
       "[1] 2 5 8"
      ]
     },
     "metadata": {},
     "output_type": "display_data"
    }
   ],
   "source": [
    "# vectorization\n",
    "x <- c(1, 3, 4)\n",
    "y <- c(1, 2, 4)\n",
    "\n",
    "z <- as.vector(NULL)\n",
    "for (i in seq_along(x)) {\n",
    "        z[i] <- x[i] + y[i]\n",
    "}\n",
    "z\n",
    "\n",
    "x + y    # more efficient and easiet to type and read\n"
   ]
  },
  {
   "cell_type": "code",
   "execution_count": 34,
   "metadata": {},
   "outputs": [
    {
     "data": {
      "text/html": [
       "<ol class=list-inline>\n",
       "\t<li>1</li>\n",
       "\t<li>2</li>\n",
       "\t<li>3</li>\n",
       "\t<li>4</li>\n",
       "\t<li>5</li>\n",
       "\t<li>6</li>\n",
       "\t<li>7</li>\n",
       "\t<li>8</li>\n",
       "\t<li>9</li>\n",
       "\t<li>10</li>\n",
       "</ol>\n"
      ],
      "text/latex": [
       "\\begin{enumerate*}\n",
       "\\item 1\n",
       "\\item 2\n",
       "\\item 3\n",
       "\\item 4\n",
       "\\item 5\n",
       "\\item 6\n",
       "\\item 7\n",
       "\\item 8\n",
       "\\item 9\n",
       "\\item 10\n",
       "\\end{enumerate*}\n"
      ],
      "text/markdown": [
       "1. 1\n",
       "2. 2\n",
       "3. 3\n",
       "4. 4\n",
       "5. 5\n",
       "6. 6\n",
       "7. 7\n",
       "8. 8\n",
       "9. 9\n",
       "10. 10\n",
       "\n",
       "\n"
      ],
      "text/plain": [
       " [1]  1  2  3  4  5  6  7  8  9 10"
      ]
     },
     "metadata": {},
     "output_type": "display_data"
    },
    {
     "data": {
      "text/html": [
       "<ol class=list-inline>\n",
       "\t<li>1</li>\n",
       "\t<li>2</li>\n",
       "\t<li>3</li>\n",
       "\t<li>4</li>\n",
       "\t<li>5</li>\n",
       "</ol>\n"
      ],
      "text/latex": [
       "\\begin{enumerate*}\n",
       "\\item 1\n",
       "\\item 2\n",
       "\\item 3\n",
       "\\item 4\n",
       "\\item 5\n",
       "\\end{enumerate*}\n"
      ],
      "text/markdown": [
       "1. 1\n",
       "2. 2\n",
       "3. 3\n",
       "4. 4\n",
       "5. 5\n",
       "\n",
       "\n"
      ],
      "text/plain": [
       "[1] 1 2 3 4 5"
      ]
     },
     "metadata": {},
     "output_type": "display_data"
    },
    {
     "data": {
      "text/html": [
       "<ol class=list-inline>\n",
       "\t<li>2</li>\n",
       "\t<li>4</li>\n",
       "\t<li>6</li>\n",
       "\t<li>8</li>\n",
       "\t<li>10</li>\n",
       "\t<li>7</li>\n",
       "\t<li>9</li>\n",
       "\t<li>11</li>\n",
       "\t<li>13</li>\n",
       "\t<li>15</li>\n",
       "</ol>\n"
      ],
      "text/latex": [
       "\\begin{enumerate*}\n",
       "\\item 2\n",
       "\\item 4\n",
       "\\item 6\n",
       "\\item 8\n",
       "\\item 10\n",
       "\\item 7\n",
       "\\item 9\n",
       "\\item 11\n",
       "\\item 13\n",
       "\\item 15\n",
       "\\end{enumerate*}\n"
      ],
      "text/markdown": [
       "1. 2\n",
       "2. 4\n",
       "3. 6\n",
       "4. 8\n",
       "5. 10\n",
       "6. 7\n",
       "7. 9\n",
       "8. 11\n",
       "9. 13\n",
       "10. 15\n",
       "\n",
       "\n"
      ],
      "text/plain": [
       " [1]  2  4  6  8 10  7  9 11 13 15"
      ]
     },
     "metadata": {},
     "output_type": "display_data"
    },
    {
     "data": {
      "text/html": [
       "<ol class=list-inline>\n",
       "\t<li>3</li>\n",
       "\t<li>6</li>\n",
       "\t<li>9</li>\n",
       "\t<li>12</li>\n",
       "\t<li>15</li>\n",
       "\t<li>18</li>\n",
       "\t<li>21</li>\n",
       "\t<li>24</li>\n",
       "\t<li>27</li>\n",
       "\t<li>30</li>\n",
       "</ol>\n"
      ],
      "text/latex": [
       "\\begin{enumerate*}\n",
       "\\item 3\n",
       "\\item 6\n",
       "\\item 9\n",
       "\\item 12\n",
       "\\item 15\n",
       "\\item 18\n",
       "\\item 21\n",
       "\\item 24\n",
       "\\item 27\n",
       "\\item 30\n",
       "\\end{enumerate*}\n"
      ],
      "text/markdown": [
       "1. 3\n",
       "2. 6\n",
       "3. 9\n",
       "4. 12\n",
       "5. 15\n",
       "6. 18\n",
       "7. 21\n",
       "8. 24\n",
       "9. 27\n",
       "10. 30\n",
       "\n",
       "\n"
      ],
      "text/plain": [
       " [1]  3  6  9 12 15 18 21 24 27 30"
      ]
     },
     "metadata": {},
     "output_type": "display_data"
    }
   ],
   "source": [
    "# Vector operations recycle elements when performing an operation on vectors of unequal length.\n",
    "# R recycles elements of the shorter vector to match the longer vector.\n",
    "\n",
    "long <- 1:10\n",
    "short <- 1:5\n",
    "long\n",
    "short\n",
    "long + short\n",
    "\n",
    "long <- 1:10\n",
    "c <- 3        # R has no scalars, so c is actually a vector of length 1 that gets recycled\n",
    "long * c\n"
   ]
  },
  {
   "cell_type": "markdown",
   "metadata": {},
   "source": [
    "## Predefined Infix Operators\n",
    "\n",
    "```%%``` Remainder operator  \n",
    "```%/%``` Integer division  \n",
    "```%*%``` Matrix multiplication  \n",
    "```%o%``` Outer product  \n",
    "```%x%``` Kronecker product  \n",
    "```%in%``` Matching operator  "
   ]
  },
  {
   "cell_type": "markdown",
   "metadata": {
    "collapsed": true
   },
   "source": [
    "## File IO\n",
    "\n",
    "-  The list.files Function\n",
    "-  The dump and source Functions\n",
    "-  The dput and dget Functions\n",
    "-  The save and load Functions\n",
    "-  The save.image and load Functions\n",
    "-  The serialize and unserialize Functions\n",
    "-  The read.table Function\n",
    "-  The read.csv Function\n",
    "-  The readLines Function\n",
    "-  The readr Package"
   ]
  },
  {
   "cell_type": "markdown",
   "metadata": {},
   "source": [
    "## The list.files Function"
   ]
  },
  {
   "cell_type": "code",
   "execution_count": 1,
   "metadata": {},
   "outputs": [
    {
     "data": {
      "text/html": [
       "<ol class=list-inline>\n",
       "\t<li>'00 The R Language.ipynb'</li>\n",
       "\t<li>'01_Starter_Demos.ipynb'</li>\n",
       "\t<li>'02_Simple_R_Syntax.ipynb'</li>\n",
       "\t<li>'03_Atomic_Classes.ipynb'</li>\n",
       "\t<li>'04_Control_Structures.ipynb'</li>\n",
       "\t<li>'05_Bar_Plots.ipynb'</li>\n",
       "\t<li>'06_Vectors.ipynb'</li>\n",
       "\t<li>'07_The_plotrix_Graphics_Package.ipynb'</li>\n",
       "\t<li>'08_Lists.ipynb'</li>\n",
       "\t<li>'09_Factors.ipynb'</li>\n",
       "\t<li>'10_Histograms.ipynb'</li>\n",
       "\t<li>'11_Attributes.ipynb'</li>\n",
       "\t<li>'12_Data_Frames.ipynb'</li>\n",
       "\t<li>'13_Builtin_Data_Sets.ipynb'</li>\n",
       "\t<li>'14_Manipulating_Data.ipynb'</li>\n",
       "\t<li>'15_Mandelbrot_Fractal.ipynb'</li>\n",
       "\t<li>'16_Regression.ipynb'</li>\n",
       "\t<li>'17_Probability_Distributions.ipynb'</li>\n",
       "\t<li>'18_Linear_Algebra.ipynb'</li>\n",
       "\t<li>'19_Pie_Charts.ipynb'</li>\n",
       "\t<li>'20_Matrices.ipynb'</li>\n",
       "\t<li>'21_Functions.ipynb'</li>\n",
       "\t<li>'22_3D_Plots.ipynb'</li>\n",
       "\t<li>'23_Linear_Regression.ipynb'</li>\n",
       "\t<li>'24_Regression_Correlation.ipynb'</li>\n",
       "\t<li>'25_Object_Oriented_Programming.ipynb'</li>\n",
       "\t<li>'26_The_ggplot2_Package.ipynb'</li>\n",
       "\t<li>'27_Statistical_Probability_Functions.ipynb'</li>\n",
       "\t<li>'data'</li>\n",
       "\t<li>'scripts'</li>\n",
       "</ol>\n"
      ],
      "text/latex": [
       "\\begin{enumerate*}\n",
       "\\item '00 The R Language.ipynb'\n",
       "\\item '01\\_Starter\\_Demos.ipynb'\n",
       "\\item '02\\_Simple\\_R\\_Syntax.ipynb'\n",
       "\\item '03\\_Atomic\\_Classes.ipynb'\n",
       "\\item '04\\_Control\\_Structures.ipynb'\n",
       "\\item '05\\_Bar\\_Plots.ipynb'\n",
       "\\item '06\\_Vectors.ipynb'\n",
       "\\item '07\\_The\\_plotrix\\_Graphics\\_Package.ipynb'\n",
       "\\item '08\\_Lists.ipynb'\n",
       "\\item '09\\_Factors.ipynb'\n",
       "\\item '10\\_Histograms.ipynb'\n",
       "\\item '11\\_Attributes.ipynb'\n",
       "\\item '12\\_Data\\_Frames.ipynb'\n",
       "\\item '13\\_Builtin\\_Data\\_Sets.ipynb'\n",
       "\\item '14\\_Manipulating\\_Data.ipynb'\n",
       "\\item '15\\_Mandelbrot\\_Fractal.ipynb'\n",
       "\\item '16\\_Regression.ipynb'\n",
       "\\item '17\\_Probability\\_Distributions.ipynb'\n",
       "\\item '18\\_Linear\\_Algebra.ipynb'\n",
       "\\item '19\\_Pie\\_Charts.ipynb'\n",
       "\\item '20\\_Matrices.ipynb'\n",
       "\\item '21\\_Functions.ipynb'\n",
       "\\item '22\\_3D\\_Plots.ipynb'\n",
       "\\item '23\\_Linear\\_Regression.ipynb'\n",
       "\\item '24\\_Regression\\_Correlation.ipynb'\n",
       "\\item '25\\_Object\\_Oriented\\_Programming.ipynb'\n",
       "\\item '26\\_The\\_ggplot2\\_Package.ipynb'\n",
       "\\item '27\\_Statistical\\_Probability\\_Functions.ipynb'\n",
       "\\item 'data'\n",
       "\\item 'scripts'\n",
       "\\end{enumerate*}\n"
      ],
      "text/markdown": [
       "1. '00 The R Language.ipynb'\n",
       "2. '01_Starter_Demos.ipynb'\n",
       "3. '02_Simple_R_Syntax.ipynb'\n",
       "4. '03_Atomic_Classes.ipynb'\n",
       "5. '04_Control_Structures.ipynb'\n",
       "6. '05_Bar_Plots.ipynb'\n",
       "7. '06_Vectors.ipynb'\n",
       "8. '07_The_plotrix_Graphics_Package.ipynb'\n",
       "9. '08_Lists.ipynb'\n",
       "10. '09_Factors.ipynb'\n",
       "11. '10_Histograms.ipynb'\n",
       "12. '11_Attributes.ipynb'\n",
       "13. '12_Data_Frames.ipynb'\n",
       "14. '13_Builtin_Data_Sets.ipynb'\n",
       "15. '14_Manipulating_Data.ipynb'\n",
       "16. '15_Mandelbrot_Fractal.ipynb'\n",
       "17. '16_Regression.ipynb'\n",
       "18. '17_Probability_Distributions.ipynb'\n",
       "19. '18_Linear_Algebra.ipynb'\n",
       "20. '19_Pie_Charts.ipynb'\n",
       "21. '20_Matrices.ipynb'\n",
       "22. '21_Functions.ipynb'\n",
       "23. '22_3D_Plots.ipynb'\n",
       "24. '23_Linear_Regression.ipynb'\n",
       "25. '24_Regression_Correlation.ipynb'\n",
       "26. '25_Object_Oriented_Programming.ipynb'\n",
       "27. '26_The_ggplot2_Package.ipynb'\n",
       "28. '27_Statistical_Probability_Functions.ipynb'\n",
       "29. 'data'\n",
       "30. 'scripts'\n",
       "\n",
       "\n"
      ],
      "text/plain": [
       " [1] \"00 The R Language.ipynb\"                   \n",
       " [2] \"01_Starter_Demos.ipynb\"                    \n",
       " [3] \"02_Simple_R_Syntax.ipynb\"                  \n",
       " [4] \"03_Atomic_Classes.ipynb\"                   \n",
       " [5] \"04_Control_Structures.ipynb\"               \n",
       " [6] \"05_Bar_Plots.ipynb\"                        \n",
       " [7] \"06_Vectors.ipynb\"                          \n",
       " [8] \"07_The_plotrix_Graphics_Package.ipynb\"     \n",
       " [9] \"08_Lists.ipynb\"                            \n",
       "[10] \"09_Factors.ipynb\"                          \n",
       "[11] \"10_Histograms.ipynb\"                       \n",
       "[12] \"11_Attributes.ipynb\"                       \n",
       "[13] \"12_Data_Frames.ipynb\"                      \n",
       "[14] \"13_Builtin_Data_Sets.ipynb\"                \n",
       "[15] \"14_Manipulating_Data.ipynb\"                \n",
       "[16] \"15_Mandelbrot_Fractal.ipynb\"               \n",
       "[17] \"16_Regression.ipynb\"                       \n",
       "[18] \"17_Probability_Distributions.ipynb\"        \n",
       "[19] \"18_Linear_Algebra.ipynb\"                   \n",
       "[20] \"19_Pie_Charts.ipynb\"                       \n",
       "[21] \"20_Matrices.ipynb\"                         \n",
       "[22] \"21_Functions.ipynb\"                        \n",
       "[23] \"22_3D_Plots.ipynb\"                         \n",
       "[24] \"23_Linear_Regression.ipynb\"                \n",
       "[25] \"24_Regression_Correlation.ipynb\"           \n",
       "[26] \"25_Object_Oriented_Programming.ipynb\"      \n",
       "[27] \"26_The_ggplot2_Package.ipynb\"              \n",
       "[28] \"27_Statistical_Probability_Functions.ipynb\"\n",
       "[29] \"data\"                                      \n",
       "[30] \"scripts\"                                   "
      ]
     },
     "metadata": {},
     "output_type": "display_data"
    }
   ],
   "source": [
    "# The list.files Function\n",
    "list.files()"
   ]
  },
  {
   "cell_type": "markdown",
   "metadata": {
    "collapsed": true
   },
   "source": [
    "## The source Function"
   ]
  },
  {
   "cell_type": "code",
   "execution_count": 4,
   "metadata": {},
   "outputs": [
    {
     "data": {
      "text/html": [
       "'test.R'"
      ],
      "text/latex": [
       "'test.R'"
      ],
      "text/markdown": [
       "'test.R'"
      ],
      "text/plain": [
       "[1] \"test.R\""
      ]
     },
     "metadata": {},
     "output_type": "display_data"
    },
    {
     "name": "stdout",
     "output_type": "stream",
     "text": [
      "[1] \"Hello, World!\"\n"
     ]
    }
   ],
   "source": [
    "# The source function reads expressions are read, parsed, and evaluated\n",
    "list.files(\"scripts\")\n",
    "source(\"scripts/test.R\") # execute code file"
   ]
  },
  {
   "cell_type": "markdown",
   "metadata": {},
   "source": [
    "## The dump and source Functions"
   ]
  },
  {
   "cell_type": "code",
   "execution_count": 23,
   "metadata": {},
   "outputs": [
    {
     "data": {
      "text/html": [
       "<time datetime=\"2017-12-27\">2017-12-27</time>"
      ],
      "text/latex": [
       "2017-12-27"
      ],
      "text/markdown": [
       "2017-12-27"
      ],
      "text/plain": [
       "[1] \"2017-12-27\""
      ]
     },
     "metadata": {},
     "output_type": "display_data"
    },
    {
     "name": "stdout",
     "output_type": "stream",
     "text": [
      "structure(17527, class = \"Date\")\n"
     ]
    },
    {
     "data": {
      "text/html": [],
      "text/latex": [],
      "text/markdown": [],
      "text/plain": [
       "character(0)"
      ]
     },
     "metadata": {},
     "output_type": "display_data"
    },
    {
     "data": {
      "text/html": [
       "'date.restored'"
      ],
      "text/latex": [
       "'date.restored'"
      ],
      "text/markdown": [
       "'date.restored'"
      ],
      "text/plain": [
       "[1] \"date.restored\""
      ]
     },
     "metadata": {},
     "output_type": "display_data"
    },
    {
     "data": {
      "text/html": [
       "<time datetime=\"2017-12-27\">2017-12-27</time>"
      ],
      "text/latex": [
       "2017-12-27"
      ],
      "text/markdown": [
       "2017-12-27"
      ],
      "text/plain": [
       "[1] \"2017-12-27\""
      ]
     },
     "metadata": {},
     "output_type": "display_data"
    }
   ],
   "source": [
    "# The dput and dget Functions\n",
    "rm(list = ls())\n",
    "today <- Sys.Date()\n",
    "today\n",
    "dput(today)                         # encoded data sent to console output\n",
    "dput(today, file = \"data/today.R\")  # encoded data sent to file output\n",
    "rm(today)\n",
    "ls()\n",
    "date.restored <- dget(\"data/today.R\")\n",
    "ls()\n",
    "date.restored"
   ]
  },
  {
   "cell_type": "markdown",
   "metadata": {},
   "source": [
    "## The save and load Functions"
   ]
  },
  {
   "cell_type": "code",
   "execution_count": 36,
   "metadata": {},
   "outputs": [
    {
     "data": {
      "text/html": [
       "<table>\n",
       "<thead><tr><th scope=col>x</th><th scope=col>y</th></tr></thead>\n",
       "<tbody>\n",
       "\t<tr><td> 0.02543410</td><td>0.74696953 </td></tr>\n",
       "\t<tr><td> 1.50666821</td><td>0.07246226 </td></tr>\n",
       "\t<tr><td>-0.37110674</td><td>0.63208845 </td></tr>\n",
       "\t<tr><td>-1.19085984</td><td>0.92799834 </td></tr>\n",
       "\t<tr><td> 0.85775326</td><td>0.77530591 </td></tr>\n",
       "\t<tr><td>-0.91952490</td><td>0.02650975 </td></tr>\n",
       "\t<tr><td> 0.99681597</td><td>0.45515343 </td></tr>\n",
       "\t<tr><td> 0.28615608</td><td>0.87040005 </td></tr>\n",
       "\t<tr><td> 0.03114273</td><td>0.40413667 </td></tr>\n",
       "\t<tr><td> 0.56345598</td><td>0.13522090 </td></tr>\n",
       "</tbody>\n",
       "</table>\n"
      ],
      "text/latex": [
       "\\begin{tabular}{r|ll}\n",
       " x & y\\\\\n",
       "\\hline\n",
       "\t  0.02543410 & 0.74696953 \\\\\n",
       "\t  1.50666821 & 0.07246226 \\\\\n",
       "\t -0.37110674 & 0.63208845 \\\\\n",
       "\t -1.19085984 & 0.92799834 \\\\\n",
       "\t  0.85775326 & 0.77530591 \\\\\n",
       "\t -0.91952490 & 0.02650975 \\\\\n",
       "\t  0.99681597 & 0.45515343 \\\\\n",
       "\t  0.28615608 & 0.87040005 \\\\\n",
       "\t  0.03114273 & 0.40413667 \\\\\n",
       "\t  0.56345598 & 0.13522090 \\\\\n",
       "\\end{tabular}\n"
      ],
      "text/markdown": [
       "\n",
       "x | y | \n",
       "|---|---|---|---|---|---|---|---|---|---|\n",
       "|  0.02543410 | 0.74696953  | \n",
       "|  1.50666821 | 0.07246226  | \n",
       "| -0.37110674 | 0.63208845  | \n",
       "| -1.19085984 | 0.92799834  | \n",
       "|  0.85775326 | 0.77530591  | \n",
       "| -0.91952490 | 0.02650975  | \n",
       "|  0.99681597 | 0.45515343  | \n",
       "|  0.28615608 | 0.87040005  | \n",
       "|  0.03114273 | 0.40413667  | \n",
       "|  0.56345598 | 0.13522090  | \n",
       "\n",
       "\n"
      ],
      "text/plain": [
       "   x           y         \n",
       "1   0.02543410 0.74696953\n",
       "2   1.50666821 0.07246226\n",
       "3  -0.37110674 0.63208845\n",
       "4  -1.19085984 0.92799834\n",
       "5   0.85775326 0.77530591\n",
       "6  -0.91952490 0.02650975\n",
       "7   0.99681597 0.45515343\n",
       "8   0.28615608 0.87040005\n",
       "9   0.03114273 0.40413667\n",
       "10  0.56345598 0.13522090"
      ]
     },
     "metadata": {},
     "output_type": "display_data"
    },
    {
     "data": {
      "text/html": [
       "<ol class=list-inline>\n",
       "\t<li>3</li>\n",
       "\t<li>4.4</li>\n",
       "\t<li>0.333333333333333</li>\n",
       "</ol>\n"
      ],
      "text/latex": [
       "\\begin{enumerate*}\n",
       "\\item 3\n",
       "\\item 4.4\n",
       "\\item 0.333333333333333\n",
       "\\end{enumerate*}\n"
      ],
      "text/markdown": [
       "1. 3\n",
       "2. 4.4\n",
       "3. 0.333333333333333\n",
       "\n",
       "\n"
      ],
      "text/plain": [
       "[1] 3.0000000 4.4000000 0.3333333"
      ]
     },
     "metadata": {},
     "output_type": "display_data"
    },
    {
     "data": {
      "text/html": [
       "<ol class=list-inline>\n",
       "\t<li>'a'</li>\n",
       "\t<li>'b'</li>\n",
       "</ol>\n"
      ],
      "text/latex": [
       "\\begin{enumerate*}\n",
       "\\item 'a'\n",
       "\\item 'b'\n",
       "\\end{enumerate*}\n"
      ],
      "text/markdown": [
       "1. 'a'\n",
       "2. 'b'\n",
       "\n",
       "\n"
      ],
      "text/plain": [
       "[1] \"a\" \"b\""
      ]
     },
     "metadata": {},
     "output_type": "display_data"
    }
   ],
   "source": [
    "# The save and load functions\n",
    "rm(list = ls())\n",
    "a <- data.frame(x = rnorm(10), y = runif(10))\n",
    "a\n",
    "b <- c(3, 4.4, 1 / 3) \n",
    "b\n",
    "save(a, b, file = \"data/binarydata.rda\")\n",
    "rm(list = ls())\n",
    "load(\"data/binarydata.rda\")\n",
    "ls()"
   ]
  },
  {
   "cell_type": "markdown",
   "metadata": {},
   "source": [
    "## The save.image Functions"
   ]
  },
  {
   "cell_type": "code",
   "execution_count": 40,
   "metadata": {},
   "outputs": [
    {
     "data": {
      "text/html": [
       "<ol class=list-inline>\n",
       "\t<li>'x'</li>\n",
       "\t<li>'y'</li>\n",
       "</ol>\n"
      ],
      "text/latex": [
       "\\begin{enumerate*}\n",
       "\\item 'x'\n",
       "\\item 'y'\n",
       "\\end{enumerate*}\n"
      ],
      "text/markdown": [
       "1. 'x'\n",
       "2. 'y'\n",
       "\n",
       "\n"
      ],
      "text/plain": [
       "[1] \"x\" \"y\""
      ]
     },
     "metadata": {},
     "output_type": "display_data"
    },
    {
     "data": {
      "text/html": [
       "<ol class=list-inline>\n",
       "\t<li>'x'</li>\n",
       "\t<li>'y'</li>\n",
       "</ol>\n"
      ],
      "text/latex": [
       "\\begin{enumerate*}\n",
       "\\item 'x'\n",
       "\\item 'y'\n",
       "\\end{enumerate*}\n"
      ],
      "text/markdown": [
       "1. 'x'\n",
       "2. 'y'\n",
       "\n",
       "\n"
      ],
      "text/plain": [
       "[1] \"x\" \"y\""
      ]
     },
     "metadata": {},
     "output_type": "display_data"
    },
    {
     "data": {
      "text/html": [
       "'Hello World'"
      ],
      "text/latex": [
       "'Hello World'"
      ],
      "text/markdown": [
       "'Hello World'"
      ],
      "text/plain": [
       "[1] \"Hello World\""
      ]
     },
     "metadata": {},
     "output_type": "display_data"
    },
    {
     "data": {
      "text/html": [
       "42"
      ],
      "text/latex": [
       "42"
      ],
      "text/markdown": [
       "42"
      ],
      "text/plain": [
       "[1] 42"
      ]
     },
     "metadata": {},
     "output_type": "display_data"
    }
   ],
   "source": [
    "# The save.image and load functions\n",
    "rm(list = ls())\n",
    "x <- \"Hello World\"\n",
    "y <- 42\n",
    "ls()\n",
    "# save all objects from environment to file \n",
    "save.image(file = \"data/image.RData\")\n",
    "# load all objects from file back into environment\n",
    "load(\"data/image.RData\")\n",
    "ls()\n",
    "x\n",
    "y"
   ]
  },
  {
   "cell_type": "markdown",
   "metadata": {},
   "source": [
    "## The serialize and unserialize Functions"
   ]
  },
  {
   "cell_type": "code",
   "execution_count": 7,
   "metadata": {},
   "outputs": [
    {
     "data": {
      "text/html": [
       "<ol>\n",
       "\t<li>1</li>\n",
       "\t<li>2</li>\n",
       "\t<li>3</li>\n",
       "\t<li>'four'</li>\n",
       "</ol>\n"
      ],
      "text/latex": [
       "\\begin{enumerate}\n",
       "\\item 1\n",
       "\\item 2\n",
       "\\item 3\n",
       "\\item 'four'\n",
       "\\end{enumerate}\n"
      ],
      "text/markdown": [
       "1. 1\n",
       "2. 2\n",
       "3. 3\n",
       "4. 'four'\n",
       "\n",
       "\n"
      ],
      "text/plain": [
       "[[1]]\n",
       "[1] 1\n",
       "\n",
       "[[2]]\n",
       "[1] 2\n",
       "\n",
       "[[3]]\n",
       "[1] 3\n",
       "\n",
       "[[4]]\n",
       "[1] \"four\"\n"
      ]
     },
     "metadata": {},
     "output_type": "display_data"
    },
    {
     "data": {
      "text/html": [
       "'list'"
      ],
      "text/latex": [
       "'list'"
      ],
      "text/markdown": [
       "'list'"
      ],
      "text/plain": [
       "[1] \"list\""
      ]
     },
     "metadata": {},
     "output_type": "display_data"
    },
    {
     "data": {
      "text/plain": [
       " [1] 58 0a 00 00 00 02 00 03 04 02 00 02 03 00 00 00 00 13 00 00 00 04 00 00 00\n",
       "[26] 0e 00 00 00 01 3f f0 00 00 00 00 00 00 00 00 00 0e 00 00 00 01 40 00 00 00\n",
       "[51] 00 00 00 00 00 00 00 0e 00 00 00 01 40 08 00 00 00 00 00 00 00 00 00 10 00\n",
       "[76] 00 00 01 00 04 00 09 00 00 00 04 66 6f 75 72"
      ]
     },
     "metadata": {},
     "output_type": "display_data"
    },
    {
     "data": {
      "text/html": [
       "'raw'"
      ],
      "text/latex": [
       "'raw'"
      ],
      "text/markdown": [
       "'raw'"
      ],
      "text/plain": [
       "[1] \"raw\""
      ]
     },
     "metadata": {},
     "output_type": "display_data"
    },
    {
     "data": {
      "text/html": [
       "<ol>\n",
       "\t<li>1</li>\n",
       "\t<li>2</li>\n",
       "\t<li>3</li>\n",
       "\t<li>'four'</li>\n",
       "</ol>\n"
      ],
      "text/latex": [
       "\\begin{enumerate}\n",
       "\\item 1\n",
       "\\item 2\n",
       "\\item 3\n",
       "\\item 'four'\n",
       "\\end{enumerate}\n"
      ],
      "text/markdown": [
       "1. 1\n",
       "2. 2\n",
       "3. 3\n",
       "4. 'four'\n",
       "\n",
       "\n"
      ],
      "text/plain": [
       "[[1]]\n",
       "[1] 1\n",
       "\n",
       "[[2]]\n",
       "[1] 2\n",
       "\n",
       "[[3]]\n",
       "[1] 3\n",
       "\n",
       "[[4]]\n",
       "[1] \"four\"\n"
      ]
     },
     "metadata": {},
     "output_type": "display_data"
    },
    {
     "data": {
      "text/html": [
       "'list'"
      ],
      "text/latex": [
       "'list'"
      ],
      "text/markdown": [
       "'list'"
      ],
      "text/plain": [
       "[1] \"list\""
      ]
     },
     "metadata": {},
     "output_type": "display_data"
    }
   ],
   "source": [
    "# The serialize and unserialize functions\n",
    "x <- list(1, 2, 3, 'four')\n",
    "x\n",
    "class(x)\n",
    "y <- serialize(x, NULL)\n",
    "y\n",
    "class(y)\n",
    "z <- unserialize(y)\n",
    "z\n",
    "class(z)"
   ]
  },
  {
   "cell_type": "markdown",
   "metadata": {},
   "source": [
    "## The read.table Function"
   ]
  },
  {
   "cell_type": "code",
   "execution_count": 16,
   "metadata": {},
   "outputs": [
    {
     "data": {
      "text/html": [
       "<table>\n",
       "<thead><tr><th scope=col>X</th><th scope=col>x1</th><th scope=col>x2</th><th scope=col>x3</th><th scope=col>x4</th><th scope=col>x5</th><th scope=col>x6</th><th scope=col>x7</th><th scope=col>x8</th></tr></thead>\n",
       "<tbody>\n",
       "\t<tr><td>y1</td><td>1 </td><td>0 </td><td>1 </td><td>0 </td><td>0 </td><td>1 </td><td>0 </td><td>2 </td></tr>\n",
       "\t<tr><td>y2</td><td>1 </td><td>2 </td><td>2 </td><td>1 </td><td>2 </td><td>1 </td><td>2 </td><td>1 </td></tr>\n",
       "\t<tr><td>y3</td><td>0 </td><td>0 </td><td>0 </td><td>2 </td><td>1 </td><td>1 </td><td>0 </td><td>1 </td></tr>\n",
       "\t<tr><td>y4</td><td>0 </td><td>0 </td><td>1 </td><td>1 </td><td>2 </td><td>0 </td><td>0 </td><td>0 </td></tr>\n",
       "\t<tr><td>y5</td><td>0 </td><td>2 </td><td>1 </td><td>1 </td><td>1 </td><td>0 </td><td>0 </td><td>0 </td></tr>\n",
       "\t<tr><td>y6</td><td>2 </td><td>2 </td><td>0 </td><td>1 </td><td>1 </td><td>1 </td><td>0 </td><td>0 </td></tr>\n",
       "\t<tr><td>y7</td><td>2 </td><td>2 </td><td>0 </td><td>1 </td><td>1 </td><td>1 </td><td>0 </td><td>1 </td></tr>\n",
       "\t<tr><td>y8</td><td>0 </td><td>2 </td><td>1 </td><td>0 </td><td>1 </td><td>1 </td><td>2 </td><td>0 </td></tr>\n",
       "</tbody>\n",
       "</table>\n"
      ],
      "text/latex": [
       "\\begin{tabular}{r|lllllllll}\n",
       " X & x1 & x2 & x3 & x4 & x5 & x6 & x7 & x8\\\\\n",
       "\\hline\n",
       "\t y1 & 1  & 0  & 1  & 0  & 0  & 1  & 0  & 2 \\\\\n",
       "\t y2 & 1  & 2  & 2  & 1  & 2  & 1  & 2  & 1 \\\\\n",
       "\t y3 & 0  & 0  & 0  & 2  & 1  & 1  & 0  & 1 \\\\\n",
       "\t y4 & 0  & 0  & 1  & 1  & 2  & 0  & 0  & 0 \\\\\n",
       "\t y5 & 0  & 2  & 1  & 1  & 1  & 0  & 0  & 0 \\\\\n",
       "\t y6 & 2  & 2  & 0  & 1  & 1  & 1  & 0  & 0 \\\\\n",
       "\t y7 & 2  & 2  & 0  & 1  & 1  & 1  & 0  & 1 \\\\\n",
       "\t y8 & 0  & 2  & 1  & 0  & 1  & 1  & 2  & 0 \\\\\n",
       "\\end{tabular}\n"
      ],
      "text/markdown": [
       "\n",
       "X | x1 | x2 | x3 | x4 | x5 | x6 | x7 | x8 | \n",
       "|---|---|---|---|---|---|---|---|\n",
       "| y1 | 1  | 0  | 1  | 0  | 0  | 1  | 0  | 2  | \n",
       "| y2 | 1  | 2  | 2  | 1  | 2  | 1  | 2  | 1  | \n",
       "| y3 | 0  | 0  | 0  | 2  | 1  | 1  | 0  | 1  | \n",
       "| y4 | 0  | 0  | 1  | 1  | 2  | 0  | 0  | 0  | \n",
       "| y5 | 0  | 2  | 1  | 1  | 1  | 0  | 0  | 0  | \n",
       "| y6 | 2  | 2  | 0  | 1  | 1  | 1  | 0  | 0  | \n",
       "| y7 | 2  | 2  | 0  | 1  | 1  | 1  | 0  | 1  | \n",
       "| y8 | 0  | 2  | 1  | 0  | 1  | 1  | 2  | 0  | \n",
       "\n",
       "\n"
      ],
      "text/plain": [
       "  X  x1 x2 x3 x4 x5 x6 x7 x8\n",
       "1 y1 1  0  1  0  0  1  0  2 \n",
       "2 y2 1  2  2  1  2  1  2  1 \n",
       "3 y3 0  0  0  2  1  1  0  1 \n",
       "4 y4 0  0  1  1  2  0  0  0 \n",
       "5 y5 0  2  1  1  1  0  0  0 \n",
       "6 y6 2  2  0  1  1  1  0  0 \n",
       "7 y7 2  2  0  1  1  1  0  1 \n",
       "8 y8 0  2  1  0  1  1  2  0 "
      ]
     },
     "metadata": {},
     "output_type": "display_data"
    },
    {
     "data": {
      "text/html": [
       "'list'"
      ],
      "text/latex": [
       "'list'"
      ],
      "text/markdown": [
       "'list'"
      ],
      "text/plain": [
       "[1] \"list\""
      ]
     },
     "metadata": {},
     "output_type": "display_data"
    },
    {
     "data": {
      "text/html": [
       "TRUE"
      ],
      "text/latex": [
       "TRUE"
      ],
      "text/markdown": [
       "TRUE"
      ],
      "text/plain": [
       "[1] TRUE"
      ]
     },
     "metadata": {},
     "output_type": "display_data"
    },
    {
     "data": {
      "text/html": [
       "9"
      ],
      "text/latex": [
       "9"
      ],
      "text/markdown": [
       "9"
      ],
      "text/plain": [
       "[1] 9"
      ]
     },
     "metadata": {},
     "output_type": "display_data"
    },
    {
     "data": {
      "text/html": [
       "8"
      ],
      "text/latex": [
       "8"
      ],
      "text/markdown": [
       "8"
      ],
      "text/plain": [
       "[1] 8"
      ]
     },
     "metadata": {},
     "output_type": "display_data"
    },
    {
     "data": {
      "text/html": [
       "<ol class=list-inline>\n",
       "\t<li>'1'</li>\n",
       "\t<li>'2'</li>\n",
       "\t<li>'3'</li>\n",
       "\t<li>'4'</li>\n",
       "\t<li>'5'</li>\n",
       "\t<li>'6'</li>\n",
       "\t<li>'7'</li>\n",
       "\t<li>'8'</li>\n",
       "</ol>\n"
      ],
      "text/latex": [
       "\\begin{enumerate*}\n",
       "\\item '1'\n",
       "\\item '2'\n",
       "\\item '3'\n",
       "\\item '4'\n",
       "\\item '5'\n",
       "\\item '6'\n",
       "\\item '7'\n",
       "\\item '8'\n",
       "\\end{enumerate*}\n"
      ],
      "text/markdown": [
       "1. '1'\n",
       "2. '2'\n",
       "3. '3'\n",
       "4. '4'\n",
       "5. '5'\n",
       "6. '6'\n",
       "7. '7'\n",
       "8. '8'\n",
       "\n",
       "\n"
      ],
      "text/plain": [
       "[1] \"1\" \"2\" \"3\" \"4\" \"5\" \"6\" \"7\" \"8\""
      ]
     },
     "metadata": {},
     "output_type": "display_data"
    }
   ],
   "source": [
    "# The read.table function\n",
    "?read.table\n",
    "x <- read.table(\"data/table_data.txt\",header=T, sep=\"\\t\");\n",
    "x\n",
    "typeof(x)\n",
    "is.data.frame(x)\n",
    "ncol(x)\n",
    "nrow(x)\n",
    "rownames(x)"
   ]
  },
  {
   "cell_type": "markdown",
   "metadata": {},
   "source": [
    "## The read.csv Function"
   ]
  },
  {
   "cell_type": "code",
   "execution_count": 18,
   "metadata": {},
   "outputs": [
    {
     "data": {
      "text/html": [
       "<table>\n",
       "<thead><tr><th scope=col>X</th><th scope=col>x1</th><th scope=col>x2</th><th scope=col>x3</th><th scope=col>x4</th><th scope=col>x5</th><th scope=col>x6</th><th scope=col>x7</th><th scope=col>x8</th></tr></thead>\n",
       "<tbody>\n",
       "\t<tr><td>y1</td><td>1 </td><td>0 </td><td>1 </td><td>0 </td><td>0 </td><td>1 </td><td>0 </td><td>2 </td></tr>\n",
       "\t<tr><td>y2</td><td>1 </td><td>2 </td><td>2 </td><td>1 </td><td>2 </td><td>1 </td><td>2 </td><td>1 </td></tr>\n",
       "\t<tr><td>y3</td><td>0 </td><td>0 </td><td>0 </td><td>2 </td><td>1 </td><td>1 </td><td>0 </td><td>1 </td></tr>\n",
       "\t<tr><td>y4</td><td>0 </td><td>0 </td><td>1 </td><td>1 </td><td>2 </td><td>0 </td><td>0 </td><td>0 </td></tr>\n",
       "\t<tr><td>y5</td><td>0 </td><td>2 </td><td>1 </td><td>1 </td><td>1 </td><td>0 </td><td>0 </td><td>0 </td></tr>\n",
       "\t<tr><td>y6</td><td>2 </td><td>2 </td><td>0 </td><td>1 </td><td>1 </td><td>1 </td><td>0 </td><td>0 </td></tr>\n",
       "\t<tr><td>y7</td><td>2 </td><td>2 </td><td>0 </td><td>1 </td><td>1 </td><td>1 </td><td>0 </td><td>1 </td></tr>\n",
       "\t<tr><td>y8</td><td>0 </td><td>2 </td><td>1 </td><td>0 </td><td>1 </td><td>1 </td><td>2 </td><td>0 </td></tr>\n",
       "</tbody>\n",
       "</table>\n"
      ],
      "text/latex": [
       "\\begin{tabular}{r|lllllllll}\n",
       " X & x1 & x2 & x3 & x4 & x5 & x6 & x7 & x8\\\\\n",
       "\\hline\n",
       "\t y1 & 1  & 0  & 1  & 0  & 0  & 1  & 0  & 2 \\\\\n",
       "\t y2 & 1  & 2  & 2  & 1  & 2  & 1  & 2  & 1 \\\\\n",
       "\t y3 & 0  & 0  & 0  & 2  & 1  & 1  & 0  & 1 \\\\\n",
       "\t y4 & 0  & 0  & 1  & 1  & 2  & 0  & 0  & 0 \\\\\n",
       "\t y5 & 0  & 2  & 1  & 1  & 1  & 0  & 0  & 0 \\\\\n",
       "\t y6 & 2  & 2  & 0  & 1  & 1  & 1  & 0  & 0 \\\\\n",
       "\t y7 & 2  & 2  & 0  & 1  & 1  & 1  & 0  & 1 \\\\\n",
       "\t y8 & 0  & 2  & 1  & 0  & 1  & 1  & 2  & 0 \\\\\n",
       "\\end{tabular}\n"
      ],
      "text/markdown": [
       "\n",
       "X | x1 | x2 | x3 | x4 | x5 | x6 | x7 | x8 | \n",
       "|---|---|---|---|---|---|---|---|\n",
       "| y1 | 1  | 0  | 1  | 0  | 0  | 1  | 0  | 2  | \n",
       "| y2 | 1  | 2  | 2  | 1  | 2  | 1  | 2  | 1  | \n",
       "| y3 | 0  | 0  | 0  | 2  | 1  | 1  | 0  | 1  | \n",
       "| y4 | 0  | 0  | 1  | 1  | 2  | 0  | 0  | 0  | \n",
       "| y5 | 0  | 2  | 1  | 1  | 1  | 0  | 0  | 0  | \n",
       "| y6 | 2  | 2  | 0  | 1  | 1  | 1  | 0  | 0  | \n",
       "| y7 | 2  | 2  | 0  | 1  | 1  | 1  | 0  | 1  | \n",
       "| y8 | 0  | 2  | 1  | 0  | 1  | 1  | 2  | 0  | \n",
       "\n",
       "\n"
      ],
      "text/plain": [
       "  X  x1 x2 x3 x4 x5 x6 x7 x8\n",
       "1 y1 1  0  1  0  0  1  0  2 \n",
       "2 y2 1  2  2  1  2  1  2  1 \n",
       "3 y3 0  0  0  2  1  1  0  1 \n",
       "4 y4 0  0  1  1  2  0  0  0 \n",
       "5 y5 0  2  1  1  1  0  0  0 \n",
       "6 y6 2  2  0  1  1  1  0  0 \n",
       "7 y7 2  2  0  1  1  1  0  1 \n",
       "8 y8 0  2  1  0  1  1  2  0 "
      ]
     },
     "metadata": {},
     "output_type": "display_data"
    },
    {
     "data": {
      "text/html": [
       "'list'"
      ],
      "text/latex": [
       "'list'"
      ],
      "text/markdown": [
       "'list'"
      ],
      "text/plain": [
       "[1] \"list\""
      ]
     },
     "metadata": {},
     "output_type": "display_data"
    },
    {
     "data": {
      "text/html": [
       "TRUE"
      ],
      "text/latex": [
       "TRUE"
      ],
      "text/markdown": [
       "TRUE"
      ],
      "text/plain": [
       "[1] TRUE"
      ]
     },
     "metadata": {},
     "output_type": "display_data"
    },
    {
     "data": {
      "text/html": [
       "9"
      ],
      "text/latex": [
       "9"
      ],
      "text/markdown": [
       "9"
      ],
      "text/plain": [
       "[1] 9"
      ]
     },
     "metadata": {},
     "output_type": "display_data"
    },
    {
     "data": {
      "text/html": [
       "8"
      ],
      "text/latex": [
       "8"
      ],
      "text/markdown": [
       "8"
      ],
      "text/plain": [
       "[1] 8"
      ]
     },
     "metadata": {},
     "output_type": "display_data"
    },
    {
     "data": {
      "text/html": [
       "<ol class=list-inline>\n",
       "\t<li>'1'</li>\n",
       "\t<li>'2'</li>\n",
       "\t<li>'3'</li>\n",
       "\t<li>'4'</li>\n",
       "\t<li>'5'</li>\n",
       "\t<li>'6'</li>\n",
       "\t<li>'7'</li>\n",
       "\t<li>'8'</li>\n",
       "</ol>\n"
      ],
      "text/latex": [
       "\\begin{enumerate*}\n",
       "\\item '1'\n",
       "\\item '2'\n",
       "\\item '3'\n",
       "\\item '4'\n",
       "\\item '5'\n",
       "\\item '6'\n",
       "\\item '7'\n",
       "\\item '8'\n",
       "\\end{enumerate*}\n"
      ],
      "text/markdown": [
       "1. '1'\n",
       "2. '2'\n",
       "3. '3'\n",
       "4. '4'\n",
       "5. '5'\n",
       "6. '6'\n",
       "7. '7'\n",
       "8. '8'\n",
       "\n",
       "\n"
      ],
      "text/plain": [
       "[1] \"1\" \"2\" \"3\" \"4\" \"5\" \"6\" \"7\" \"8\""
      ]
     },
     "metadata": {},
     "output_type": "display_data"
    }
   ],
   "source": [
    "# The read.csv function\n",
    "# The read.csv and read.csv2 are identical to read.table except for the default options.\n",
    "# Basically like read.table but with a particular set of options spefific to CVS format\n",
    "?read.csv\n",
    "x <- read.csv(\"data/table_data.txt\", header=T, dec=\".\",sep=\"\\t\")\n",
    "x\n",
    "typeof(x)\n",
    "is.data.frame(x)\n",
    "ncol(x)\n",
    "nrow(x)\n",
    "rownames(x)"
   ]
  },
  {
   "cell_type": "code",
   "execution_count": 20,
   "metadata": {
    "scrolled": false
   },
   "outputs": [
    {
     "name": "stderr",
     "output_type": "stream",
     "text": [
      "Parsed with column specification:\n",
      "cols(\n",
      "  report_date = col_date(format = \"\"),\n",
      "  location = col_character(),\n",
      "  location_type = col_character(),\n",
      "  data_field = col_character(),\n",
      "  data_field_code = col_character(),\n",
      "  time_period = col_character(),\n",
      "  time_period_type = col_character(),\n",
      "  value = col_integer(),\n",
      "  unit = col_character()\n",
      ")\n"
     ]
    },
    {
     "data": {
      "text/html": [
       "<table>\n",
       "<thead><tr><th scope=col>location</th><th scope=col>value</th><th scope=col>unit</th></tr></thead>\n",
       "<tbody>\n",
       "\t<tr><td>Brazil-Acre               </td><td>  2                       </td><td>cases                     </td></tr>\n",
       "\t<tr><td>Brazil-Alagoas            </td><td> 75                       </td><td>cases                     </td></tr>\n",
       "\t<tr><td>Brazil-Amapa              </td><td>  7                       </td><td>cases                     </td></tr>\n",
       "\t<tr><td>Brazil-Amazonas           </td><td>  8                       </td><td>cases                     </td></tr>\n",
       "\t<tr><td>Brazil-Bahia              </td><td>263                       </td><td>cases                     </td></tr>\n",
       "\t<tr><td>Brazil-Ceara              </td><td>124                       </td><td>cases                     </td></tr>\n",
       "\t<tr><td>Brazil-Distrito_Federal   </td><td>  5                       </td><td>cases                     </td></tr>\n",
       "\t<tr><td>Brazil-Espirito_Santo     </td><td> 13                       </td><td>cases                     </td></tr>\n",
       "\t<tr><td>Brazil-Goias              </td><td> 14                       </td><td>cases                     </td></tr>\n",
       "\t<tr><td>Brazil-Maranhao           </td><td>131                       </td><td>cases                     </td></tr>\n",
       "\t<tr><td>Brazil-Mato_Grosso        </td><td> 31                       </td><td>cases                     </td></tr>\n",
       "\t<tr><td>Brazil-Mato_Grosso_do_Sul </td><td>  4                       </td><td>cases                     </td></tr>\n",
       "\t<tr><td>Brazil-Minas_Gerais       </td><td>  3                       </td><td>cases                     </td></tr>\n",
       "\t<tr><td>Brazil-Para               </td><td>  1                       </td><td>cases                     </td></tr>\n",
       "\t<tr><td>Brazil-Paraiba            </td><td>147                       </td><td>cases                     </td></tr>\n",
       "\t<tr><td>Brazil-Parana             </td><td>  4                       </td><td>cases                     </td></tr>\n",
       "\t<tr><td>Brazil-Pernambuco         </td><td>366                       </td><td>cases                     </td></tr>\n",
       "\t<tr><td>Brazil-Piaui              </td><td> 87                       </td><td>cases                     </td></tr>\n",
       "\t<tr><td>Brazil-Rio_Grande_do_Norte</td><td>113                       </td><td>cases                     </td></tr>\n",
       "\t<tr><td>Brazil-Rio_Grande_do_Sul  </td><td>  6                       </td><td>cases                     </td></tr>\n",
       "\t<tr><td>Brazil-Rio_de_Janeiro     </td><td> 80                       </td><td>cases                     </td></tr>\n",
       "\t<tr><td>Brazil-Rondonia           </td><td>  5                       </td><td>cases                     </td></tr>\n",
       "\t<tr><td>Brazil-Roraima            </td><td> 10                       </td><td>cases                     </td></tr>\n",
       "\t<tr><td>Brazil-Santa_Catarina     </td><td>  1                       </td><td>cases                     </td></tr>\n",
       "\t<tr><td>Brazil-Sergipe            </td><td>111                       </td><td>cases                     </td></tr>\n",
       "\t<tr><td>Brazil-Sao_Paulo          </td><td> 10                       </td><td>cases                     </td></tr>\n",
       "\t<tr><td>Brazil-Tocantins          </td><td> 17                       </td><td>cases                     </td></tr>\n",
       "\t<tr><td>Brazil-Acre               </td><td> 27                       </td><td>cases                     </td></tr>\n",
       "\t<tr><td>Brazil-Alagoas            </td><td>180                       </td><td>cases                     </td></tr>\n",
       "\t<tr><td>Brazil-Amapa              </td><td>  3                       </td><td>cases                     </td></tr>\n",
       "\t<tr><td>...</td><td>...</td><td>...</td></tr>\n",
       "\t<tr><td>Brazil-Roraima            </td><td> 0                        </td><td>cases                     </td></tr>\n",
       "\t<tr><td>Brazil-Santa_Catarina     </td><td> 0                        </td><td>cases                     </td></tr>\n",
       "\t<tr><td>Brazil-Sergipe            </td><td> 1                        </td><td>cases                     </td></tr>\n",
       "\t<tr><td>Brazil-Sao_Paulo          </td><td> 2                        </td><td>cases                     </td></tr>\n",
       "\t<tr><td>Brazil-Tocantins          </td><td> 5                        </td><td>cases                     </td></tr>\n",
       "\t<tr><td>Brazil-Acre               </td><td> 0                        </td><td>cases                     </td></tr>\n",
       "\t<tr><td>Brazil-Alagoas            </td><td> 3                        </td><td>cases                     </td></tr>\n",
       "\t<tr><td>Brazil-Amapa              </td><td> 0                        </td><td>cases                     </td></tr>\n",
       "\t<tr><td>Brazil-Bahia              </td><td>33                        </td><td>cases                     </td></tr>\n",
       "\t<tr><td>Brazil-Ceara              </td><td>14                        </td><td>cases                     </td></tr>\n",
       "\t<tr><td>Brazil-Distrito_Federal   </td><td> 0                        </td><td>cases                     </td></tr>\n",
       "\t<tr><td>Brazil-Espirito_Santo     </td><td> 6                        </td><td>cases                     </td></tr>\n",
       "\t<tr><td>Brazil-Goias              </td><td> 2                        </td><td>cases                     </td></tr>\n",
       "\t<tr><td>Brazil-Maranhao           </td><td> 7                        </td><td>cases                     </td></tr>\n",
       "\t<tr><td>Brazil-Mato_Grosso        </td><td> 8                        </td><td>cases                     </td></tr>\n",
       "\t<tr><td>Brazil-Minas_Gerais       </td><td> 1                        </td><td>cases                     </td></tr>\n",
       "\t<tr><td>Brazil-Para               </td><td> 5                        </td><td>cases                     </td></tr>\n",
       "\t<tr><td>Brazil-Paraiba            </td><td> 0                        </td><td>cases                     </td></tr>\n",
       "\t<tr><td>Brazil-Parana             </td><td> 0                        </td><td>cases                     </td></tr>\n",
       "\t<tr><td>Brazil-Pernambuco         </td><td>68                        </td><td>cases                     </td></tr>\n",
       "\t<tr><td>Brazil-Piaui              </td><td> 0                        </td><td>cases                     </td></tr>\n",
       "\t<tr><td>Brazil-Rio_Grande_do_Norte</td><td> 6                        </td><td>cases                     </td></tr>\n",
       "\t<tr><td>Brazil-Rio_Grande_do_Sul  </td><td> 3                        </td><td>cases                     </td></tr>\n",
       "\t<tr><td>Brazil-Rio_de_Janeiro     </td><td>15                        </td><td>cases                     </td></tr>\n",
       "\t<tr><td>Brazil-Rondonia           </td><td> 0                        </td><td>cases                     </td></tr>\n",
       "\t<tr><td>Brazil-Roraima            </td><td> 1                        </td><td>cases                     </td></tr>\n",
       "\t<tr><td>Brazil-Santa_Catarina     </td><td> 1                        </td><td>cases                     </td></tr>\n",
       "\t<tr><td>Brazil-Sergipe            </td><td> 5                        </td><td>cases                     </td></tr>\n",
       "\t<tr><td>Brazil-Sao_Paulo          </td><td> 2                        </td><td>cases                     </td></tr>\n",
       "\t<tr><td>Brazil-Tocantins          </td><td> 4                        </td><td>cases                     </td></tr>\n",
       "</tbody>\n",
       "</table>\n"
      ],
      "text/latex": [
       "\\begin{tabular}{r|lll}\n",
       " location & value & unit\\\\\n",
       "\\hline\n",
       "\t Brazil-Acre                &   2                        & cases                     \\\\\n",
       "\t Brazil-Alagoas             &  75                        & cases                     \\\\\n",
       "\t Brazil-Amapa               &   7                        & cases                     \\\\\n",
       "\t Brazil-Amazonas            &   8                        & cases                     \\\\\n",
       "\t Brazil-Bahia               & 263                        & cases                     \\\\\n",
       "\t Brazil-Ceara               & 124                        & cases                     \\\\\n",
       "\t Brazil-Distrito\\_Federal    &   5                          & cases                       \\\\\n",
       "\t Brazil-Espirito\\_Santo      &  13                          & cases                       \\\\\n",
       "\t Brazil-Goias               &  14                        & cases                     \\\\\n",
       "\t Brazil-Maranhao            & 131                        & cases                     \\\\\n",
       "\t Brazil-Mato\\_Grosso         &  31                          & cases                       \\\\\n",
       "\t Brazil-Mato\\_Grosso\\_do\\_Sul  &   4                              & cases                           \\\\\n",
       "\t Brazil-Minas\\_Gerais        &   3                          & cases                       \\\\\n",
       "\t Brazil-Para                &   1                        & cases                     \\\\\n",
       "\t Brazil-Paraiba             & 147                        & cases                     \\\\\n",
       "\t Brazil-Parana              &   4                        & cases                     \\\\\n",
       "\t Brazil-Pernambuco          & 366                        & cases                     \\\\\n",
       "\t Brazil-Piaui               &  87                        & cases                     \\\\\n",
       "\t Brazil-Rio\\_Grande\\_do\\_Norte & 113                              & cases                           \\\\\n",
       "\t Brazil-Rio\\_Grande\\_do\\_Sul   &   6                              & cases                           \\\\\n",
       "\t Brazil-Rio\\_de\\_Janeiro      &  80                            & cases                         \\\\\n",
       "\t Brazil-Rondonia            &   5                        & cases                     \\\\\n",
       "\t Brazil-Roraima             &  10                        & cases                     \\\\\n",
       "\t Brazil-Santa\\_Catarina      &   1                          & cases                       \\\\\n",
       "\t Brazil-Sergipe             & 111                        & cases                     \\\\\n",
       "\t Brazil-Sao\\_Paulo           &  10                          & cases                       \\\\\n",
       "\t Brazil-Tocantins           &  17                        & cases                     \\\\\n",
       "\t Brazil-Acre                &  27                        & cases                     \\\\\n",
       "\t Brazil-Alagoas             & 180                        & cases                     \\\\\n",
       "\t Brazil-Amapa               &   3                        & cases                     \\\\\n",
       "\t ... & ... & ...\\\\\n",
       "\t Brazil-Roraima             &  0                         & cases                     \\\\\n",
       "\t Brazil-Santa\\_Catarina      &  0                           & cases                       \\\\\n",
       "\t Brazil-Sergipe             &  1                         & cases                     \\\\\n",
       "\t Brazil-Sao\\_Paulo           &  2                           & cases                       \\\\\n",
       "\t Brazil-Tocantins           &  5                         & cases                     \\\\\n",
       "\t Brazil-Acre                &  0                         & cases                     \\\\\n",
       "\t Brazil-Alagoas             &  3                         & cases                     \\\\\n",
       "\t Brazil-Amapa               &  0                         & cases                     \\\\\n",
       "\t Brazil-Bahia               & 33                         & cases                     \\\\\n",
       "\t Brazil-Ceara               & 14                         & cases                     \\\\\n",
       "\t Brazil-Distrito\\_Federal    &  0                           & cases                       \\\\\n",
       "\t Brazil-Espirito\\_Santo      &  6                           & cases                       \\\\\n",
       "\t Brazil-Goias               &  2                         & cases                     \\\\\n",
       "\t Brazil-Maranhao            &  7                         & cases                     \\\\\n",
       "\t Brazil-Mato\\_Grosso         &  8                           & cases                       \\\\\n",
       "\t Brazil-Minas\\_Gerais        &  1                           & cases                       \\\\\n",
       "\t Brazil-Para                &  5                         & cases                     \\\\\n",
       "\t Brazil-Paraiba             &  0                         & cases                     \\\\\n",
       "\t Brazil-Parana              &  0                         & cases                     \\\\\n",
       "\t Brazil-Pernambuco          & 68                         & cases                     \\\\\n",
       "\t Brazil-Piaui               &  0                         & cases                     \\\\\n",
       "\t Brazil-Rio\\_Grande\\_do\\_Norte &  6                               & cases                           \\\\\n",
       "\t Brazil-Rio\\_Grande\\_do\\_Sul   &  3                               & cases                           \\\\\n",
       "\t Brazil-Rio\\_de\\_Janeiro      & 15                             & cases                         \\\\\n",
       "\t Brazil-Rondonia            &  0                         & cases                     \\\\\n",
       "\t Brazil-Roraima             &  1                         & cases                     \\\\\n",
       "\t Brazil-Santa\\_Catarina      &  1                           & cases                       \\\\\n",
       "\t Brazil-Sergipe             &  5                         & cases                     \\\\\n",
       "\t Brazil-Sao\\_Paulo           &  2                           & cases                       \\\\\n",
       "\t Brazil-Tocantins           &  4                         & cases                     \\\\\n",
       "\\end{tabular}\n"
      ],
      "text/markdown": [
       "\n",
       "location | value | unit | \n",
       "|---|---|---|---|---|---|---|---|---|---|---|---|---|---|---|---|---|---|---|---|---|---|---|---|---|---|---|---|---|---|---|---|---|---|---|---|---|---|---|---|---|---|---|---|---|---|---|---|---|---|---|---|---|---|---|---|---|---|---|---|---|\n",
       "| Brazil-Acre                |   2                        | cases                      | \n",
       "| Brazil-Alagoas             |  75                        | cases                      | \n",
       "| Brazil-Amapa               |   7                        | cases                      | \n",
       "| Brazil-Amazonas            |   8                        | cases                      | \n",
       "| Brazil-Bahia               | 263                        | cases                      | \n",
       "| Brazil-Ceara               | 124                        | cases                      | \n",
       "| Brazil-Distrito_Federal    |   5                        | cases                      | \n",
       "| Brazil-Espirito_Santo      |  13                        | cases                      | \n",
       "| Brazil-Goias               |  14                        | cases                      | \n",
       "| Brazil-Maranhao            | 131                        | cases                      | \n",
       "| Brazil-Mato_Grosso         |  31                        | cases                      | \n",
       "| Brazil-Mato_Grosso_do_Sul  |   4                        | cases                      | \n",
       "| Brazil-Minas_Gerais        |   3                        | cases                      | \n",
       "| Brazil-Para                |   1                        | cases                      | \n",
       "| Brazil-Paraiba             | 147                        | cases                      | \n",
       "| Brazil-Parana              |   4                        | cases                      | \n",
       "| Brazil-Pernambuco          | 366                        | cases                      | \n",
       "| Brazil-Piaui               |  87                        | cases                      | \n",
       "| Brazil-Rio_Grande_do_Norte | 113                        | cases                      | \n",
       "| Brazil-Rio_Grande_do_Sul   |   6                        | cases                      | \n",
       "| Brazil-Rio_de_Janeiro      |  80                        | cases                      | \n",
       "| Brazil-Rondonia            |   5                        | cases                      | \n",
       "| Brazil-Roraima             |  10                        | cases                      | \n",
       "| Brazil-Santa_Catarina      |   1                        | cases                      | \n",
       "| Brazil-Sergipe             | 111                        | cases                      | \n",
       "| Brazil-Sao_Paulo           |  10                        | cases                      | \n",
       "| Brazil-Tocantins           |  17                        | cases                      | \n",
       "| Brazil-Acre                |  27                        | cases                      | \n",
       "| Brazil-Alagoas             | 180                        | cases                      | \n",
       "| Brazil-Amapa               |   3                        | cases                      | \n",
       "| ... | ... | ... | \n",
       "| Brazil-Roraima             |  0                         | cases                      | \n",
       "| Brazil-Santa_Catarina      |  0                         | cases                      | \n",
       "| Brazil-Sergipe             |  1                         | cases                      | \n",
       "| Brazil-Sao_Paulo           |  2                         | cases                      | \n",
       "| Brazil-Tocantins           |  5                         | cases                      | \n",
       "| Brazil-Acre                |  0                         | cases                      | \n",
       "| Brazil-Alagoas             |  3                         | cases                      | \n",
       "| Brazil-Amapa               |  0                         | cases                      | \n",
       "| Brazil-Bahia               | 33                         | cases                      | \n",
       "| Brazil-Ceara               | 14                         | cases                      | \n",
       "| Brazil-Distrito_Federal    |  0                         | cases                      | \n",
       "| Brazil-Espirito_Santo      |  6                         | cases                      | \n",
       "| Brazil-Goias               |  2                         | cases                      | \n",
       "| Brazil-Maranhao            |  7                         | cases                      | \n",
       "| Brazil-Mato_Grosso         |  8                         | cases                      | \n",
       "| Brazil-Minas_Gerais        |  1                         | cases                      | \n",
       "| Brazil-Para                |  5                         | cases                      | \n",
       "| Brazil-Paraiba             |  0                         | cases                      | \n",
       "| Brazil-Parana              |  0                         | cases                      | \n",
       "| Brazil-Pernambuco          | 68                         | cases                      | \n",
       "| Brazil-Piaui               |  0                         | cases                      | \n",
       "| Brazil-Rio_Grande_do_Norte |  6                         | cases                      | \n",
       "| Brazil-Rio_Grande_do_Sul   |  3                         | cases                      | \n",
       "| Brazil-Rio_de_Janeiro      | 15                         | cases                      | \n",
       "| Brazil-Rondonia            |  0                         | cases                      | \n",
       "| Brazil-Roraima             |  1                         | cases                      | \n",
       "| Brazil-Santa_Catarina      |  1                         | cases                      | \n",
       "| Brazil-Sergipe             |  5                         | cases                      | \n",
       "| Brazil-Sao_Paulo           |  2                         | cases                      | \n",
       "| Brazil-Tocantins           |  4                         | cases                      | \n",
       "\n",
       "\n"
      ],
      "text/plain": [
       "    location                   value unit \n",
       "1   Brazil-Acre                  2   cases\n",
       "2   Brazil-Alagoas              75   cases\n",
       "3   Brazil-Amapa                 7   cases\n",
       "4   Brazil-Amazonas              8   cases\n",
       "5   Brazil-Bahia               263   cases\n",
       "6   Brazil-Ceara               124   cases\n",
       "7   Brazil-Distrito_Federal      5   cases\n",
       "8   Brazil-Espirito_Santo       13   cases\n",
       "9   Brazil-Goias                14   cases\n",
       "10  Brazil-Maranhao            131   cases\n",
       "11  Brazil-Mato_Grosso          31   cases\n",
       "12  Brazil-Mato_Grosso_do_Sul    4   cases\n",
       "13  Brazil-Minas_Gerais          3   cases\n",
       "14  Brazil-Para                  1   cases\n",
       "15  Brazil-Paraiba             147   cases\n",
       "16  Brazil-Parana                4   cases\n",
       "17  Brazil-Pernambuco          366   cases\n",
       "18  Brazil-Piaui                87   cases\n",
       "19  Brazil-Rio_Grande_do_Norte 113   cases\n",
       "20  Brazil-Rio_Grande_do_Sul     6   cases\n",
       "21  Brazil-Rio_de_Janeiro       80   cases\n",
       "22  Brazil-Rondonia              5   cases\n",
       "23  Brazil-Roraima              10   cases\n",
       "24  Brazil-Santa_Catarina        1   cases\n",
       "25  Brazil-Sergipe             111   cases\n",
       "26  Brazil-Sao_Paulo            10   cases\n",
       "27  Brazil-Tocantins            17   cases\n",
       "28  Brazil-Acre                 27   cases\n",
       "29  Brazil-Alagoas             180   cases\n",
       "30  Brazil-Amapa                 3   cases\n",
       "... ...                        ...   ...  \n",
       "181 Brazil-Roraima              0    cases\n",
       "182 Brazil-Santa_Catarina       0    cases\n",
       "183 Brazil-Sergipe              1    cases\n",
       "184 Brazil-Sao_Paulo            2    cases\n",
       "185 Brazil-Tocantins            5    cases\n",
       "186 Brazil-Acre                 0    cases\n",
       "187 Brazil-Alagoas              3    cases\n",
       "188 Brazil-Amapa                0    cases\n",
       "189 Brazil-Bahia               33    cases\n",
       "190 Brazil-Ceara               14    cases\n",
       "191 Brazil-Distrito_Federal     0    cases\n",
       "192 Brazil-Espirito_Santo       6    cases\n",
       "193 Brazil-Goias                2    cases\n",
       "194 Brazil-Maranhao             7    cases\n",
       "195 Brazil-Mato_Grosso          8    cases\n",
       "196 Brazil-Minas_Gerais         1    cases\n",
       "197 Brazil-Para                 5    cases\n",
       "198 Brazil-Paraiba              0    cases\n",
       "199 Brazil-Parana               0    cases\n",
       "200 Brazil-Pernambuco          68    cases\n",
       "201 Brazil-Piaui                0    cases\n",
       "202 Brazil-Rio_Grande_do_Norte  6    cases\n",
       "203 Brazil-Rio_Grande_do_Sul    3    cases\n",
       "204 Brazil-Rio_de_Janeiro      15    cases\n",
       "205 Brazil-Rondonia             0    cases\n",
       "206 Brazil-Roraima              1    cases\n",
       "207 Brazil-Santa_Catarina       1    cases\n",
       "208 Brazil-Sergipe              5    cases\n",
       "209 Brazil-Sao_Paulo            2    cases\n",
       "210 Brazil-Tocantins            4    cases"
      ]
     },
     "metadata": {},
     "output_type": "display_data"
    }
   ],
   "source": [
    "# read from URL\n",
    "library(readr) # read_csv\n",
    "zika_file <- paste0(\n",
    "    \"https://raw.githubusercontent.com/cdcepi/zika/master/\",\n",
    "    \"Brazil/COES_Microcephaly/data/COES_Microcephaly-2016-06-25.csv\")\n",
    "zika_brazil <- read_csv(zika_file)\n",
    "zika_brazil %>% select(location, value, unit)"
   ]
  },
  {
   "cell_type": "markdown",
   "metadata": {},
   "source": [
    "## The readLines Function"
   ]
  },
  {
   "cell_type": "code",
   "execution_count": 15,
   "metadata": {
    "scrolled": true
   },
   "outputs": [
    {
     "name": "stdout",
     "output_type": "stream",
     "text": [
      "The sun was shining on the sea,\n",
      "Shining with all his might:\n",
      "He did his very best to make\n",
      "The billows smooth and bright--\n",
      "And this was odd, because it was\n",
      "The middle of the night.\n"
     ]
    }
   ],
   "source": [
    "# The readLines function\n",
    "text = readLines(\"data/The_Walrus_and_The_Carpenter.txt\", n = -1L)\n",
    "cat(text, sep=\"\\n\")"
   ]
  },
  {
   "cell_type": "code",
   "execution_count": 11,
   "metadata": {},
   "outputs": [
    {
     "name": "stderr",
     "output_type": "stream",
     "text": [
      "Warning message in readLines(con):\n",
      "\"incomplete final line found on 'https://google.com'\""
     ]
    },
    {
     "data": {
      "text/html": [
       "<ol class=list-inline>\n",
       "\t<li>'&lt;!doctype html&gt;&lt;html itemscope=\"\" itemtype=\"http://schema.org/WebPage\" lang=\"en-CA\"&gt;&lt;head&gt;&lt;meta content=\"text/html; charset=UTF-8\" http-equiv=\"Content-Type\"&gt;&lt;meta content=\"/images/branding/googleg/1x/googleg_standard_color_128dp.png\" itemprop=\"image\"&gt;&lt;title&gt;Google&lt;/title&gt;&lt;script&gt;(function(){window.google={kEI:\\'k-xIWqKLLpfAjwPzx7yYDw\\',kEXPI:\\'18168,1354276,1354915,1355220,1355675,1355792,1355892,1356470,1357157,3700302,3700519,3700521,4029815,4031109,4043492,4045841,4048347,4063965,4081039,4081165,4095910,4097153,4097469,4097922,4097929,4098721,4098728,4098752,4101413,4102238,4103475,4104658,4109316,4109490,4112163,4113217,4115697,4116349,4116724,4116731,4116926,4116935,4117980,4118798,4119032,4119034,4119036,4120660,4121518,4123640,4124091,4124850,4125837,4126206,4126754,4127263,4127418,4127473,4127744,4127863,4128586,4128624,4128998,4129352,4129520,4129555,4129633,4130560,4131247,4131834,4132956,4133113,4133416,4134393,4134440,4135025,4135088,4135249,4135576,4135744,4135934,4136073,4137525,4137595,4137646,4139928,4141183,4141241,4141254,4141281,4141853,4142071,4142328,4142420,4142492,4142503,4142678,4142729,4142834,4143032,4143278,4143526,4143655,4143854,4143902,4144442,4144550,4145069,4145088,4145461,4145487,4146146,4146160,4146452,4146875,4146882,4147043,4147056,4147395,4147465,4147581,4147948,6512307,10200083,10202524,10202562,15807764,19000288,19000423,19000427,19001999,19002287,19002288,19002366,19002548,19002880,19003321,19003323,19003325,19003326,19003328,19003329,19003330,19003407,19003408,19003409,19003919,19004309,19004467,19004483,19004516,19004517,19004518,19004519,19004520,19004521,19004531,19004603,19004612,19004620,19004656,19004674,19004681,41317155\\',authuser:0,kscs:\\'c9c918f0_k-xIWqKLLpfAjwPzx7yYDw\\',u:\\'c9c918f0\\',kGL:\\'CA\\'};google.kHL=\\'en-CA\\';})();(function(){google.lc=[];google.li=0;google.getEI=function(a){for(var b;a&amp;&amp;(!a.getAttribute||!(b=a.getAttribute(\"eid\")));)a=a.parentNode;return b||google.kEI};google.getLEI=function(a){for(var b=null;a&amp;&amp;(!a.getAttribute||!(b=a.getAttribute(\"leid\")));)a=a.parentNode;return b};google.https=function(){return\"https:\"==window.location.protocol};google.ml=function(){return null};google.wl=function(a,b){try{google.ml(Error(a),!1,b)}catch(d){}};google.time=function(){return(new Date).getTime()};google.log=function(a,b,d,c,g){if(a=google.logUrl(a,b,d,c,g)){b=new Image;var e=google.lc,f=google.li;e[f]=b;b.onerror=b.onload=b.onabort=function(){delete e[f]};google.vel&amp;&amp;google.vel.lu&amp;&amp;google.vel.lu(a);b.src=a;google.li=f+1}};google.logUrl=function(a,b,d,c,g){var e=\"\",f=google.ls||\"\";d||-1!=b.search(\"&amp;ei=\")||(e=\"&amp;ei=\"+google.getEI(c),-1==b.search(\"&amp;lei=\")&amp;&amp;(c=google.getLEI(c))&amp;&amp;(e+=\"&amp;lei=\"+c));c=\"\";!d&amp;&amp;google.cshid&amp;&amp;-1==b.search(\"&amp;cshid=\")&amp;&amp;(c=\"&amp;cshid=\"+google.cshid);a=d||\"/\"+(g||\"gen_204\")+\"?atyp=i&amp;ct=\"+a+\"&amp;cad=\"+b+e+f+\"&amp;zx=\"+google.time()+c;/^http:/i.test(a)&amp;&amp;google.https()&amp;&amp;(google.ml(Error(\"a\"),!1,{src:a,glmm:1}),a=\"\");return a};}).call(this);(function(){google.y={};google.x=function(a,b){if(a)var c=a.id;else{do c=Math.random();while(google.y[c])}google.y[c]=[a,b];return!1};google.lm=[];google.plm=function(a){google.lm.push.apply(google.lm,a)};google.lq=[];google.load=function(a,b,c){google.lq.push([[a],b,c])};google.loadAll=function(a,b){google.lq.push([a,b])};}).call(this);google.f={};var a=window.location,b=a.href.indexOf(\"#\");if(0&lt;=b){var c=a.href.substring(b+1);/(^|&amp;)q=/.test(c)&amp;&amp;-1==c.indexOf(\"#\")&amp;&amp;a.replace(\"/search?\"+c.replace(/(^|&amp;)fp=[^&amp;]*/g,\"\")+\"&amp;cad=h\")};&lt;/script&gt;&lt;style&gt;#gbar,#guser{font-size:13px;padding-top:1px !important;}#gbar{height:22px}#guser{padding-bottom:7px !important;text-align:right}.gbh,.gbd{border-top:1px solid #c9d7f1;font-size:1px}.gbh{height:0;position:absolute;top:24px;width:100%}@media all{.gb1{height:22px;margin-right:.5em;vertical-align:top}#gbar{float:left}}a.gb1,a.gb4{text-decoration:underline !important}a.gb1,a.gb4{color:#00c !important}.gbi .gb4{color:#dd8e27 !important}.gbf .gb4{color:#900 !important}'</li>\n",
       "\t<li>'&lt;/style&gt;&lt;style&gt;body,td,a,p,.h{font-family:arial,sans-serif}body{margin:0;overflow-y:scroll}#gog{padding:3px 8px 0}td{line-height:.8em}.gac_m td{line-height:17px}form{margin-bottom:20px}.h{color:#36c}.q{color:#00c}.ts td{padding:0}.ts{border-collapse:collapse}em{font-weight:bold;font-style:normal}.lst{height:25px;width:496px}.gsfi,.lst{font:18px arial,sans-serif}.gsfs{font:17px arial,sans-serif}.ds{display:inline-box;display:inline-block;margin:3px 0 4px;margin-left:4px}input{font-family:inherit}a.gb1,a.gb2,a.gb3,a.gb4{color:#11c !important}body{background:#fff;color:black}a{color:#11c;text-decoration:none}a:hover,a:active{text-decoration:underline}.fl a{color:#36c}a:visited{color:#551a8b}a.gb1,a.gb4{text-decoration:underline}a.gb3:hover{text-decoration:none}#ghead a.gb2:hover{color:#fff !important}.sblc{padding-top:5px}.sblc a{display:block;margin:2px 0;margin-left:13px;font-size:11px}.lsbb{background:#eee;border:solid 1px;border-color:#ccc #999 #999 #ccc;height:30px}.lsbb{display:block}.ftl,#fll a{display:inline-block;margin:0 12px}.lsb{background:url(/images/nav_logo229.png) 0 -261px repeat-x;border:none;color:#000;cursor:pointer;height:30px;margin:0;outline:0;font:15px arial,sans-serif;vertical-align:top}.lsb:active{background:#ccc}.lst:focus{outline:none}&lt;/style&gt;&lt;script&gt;&lt;/script&gt;&lt;link href=\"/images/branding/product/ico/googleg_lodp.ico\" rel=\"shortcut icon\"&gt;&lt;/head&gt;&lt;body bgcolor=\"#fff\"&gt;&lt;script&gt;(function(){var src=\\'/images/nav_logo229.png\\';var iesg=false;document.body.onload = function(){window.n &amp;&amp; window.n();if (document.images){new Image().src=src;}'</li>\n",
       "\t<li>'if (!iesg){document.f&amp;&amp;document.f.q.focus();document.gbqf&amp;&amp;document.gbqf.q.focus();}'</li>\n",
       "\t<li>'}'</li>\n",
       "\t<li><span style=white-space:pre-wrap>'})();&lt;/script&gt;&lt;div id=\"mngb\"&gt; &lt;div id=gbar&gt;&lt;nobr&gt;&lt;b class=gb1&gt;Search&lt;/b&gt; &lt;a class=gb1 href=\"https://www.google.ca/imghp?hl=en&amp;tab=wi\"&gt;Images&lt;/a&gt; &lt;a class=gb1 href=\"https://maps.google.ca/maps?hl=en&amp;tab=wl\"&gt;Maps&lt;/a&gt; &lt;a class=gb1 href=\"https://play.google.com/?hl=en&amp;tab=w8\"&gt;Play&lt;/a&gt; &lt;a class=gb1 href=\"https://www.youtube.com/?gl=CA&amp;tab=w1\"&gt;YouTube&lt;/a&gt; &lt;a class=gb1 href=\"https://news.google.ca/nwshp?hl=en&amp;tab=wn\"&gt;News&lt;/a&gt; &lt;a class=gb1 href=\"https://mail.google.com/mail/?tab=wm\"&gt;Gmail&lt;/a&gt; &lt;a class=gb1 href=\"https://drive.google.com/?tab=wo\"&gt;Drive&lt;/a&gt; &lt;a class=gb1 style=\"text-decoration:none\" href=\"https://www.google.ca/intl/en/options/\"&gt;&lt;u&gt;More&lt;/u&gt; &amp;raquo;&lt;/a&gt;&lt;/nobr&gt;&lt;/div&gt;&lt;div id=guser width=100%&gt;&lt;nobr&gt;&lt;span id=gbn class=gbi&gt;&lt;/span&gt;&lt;span id=gbf class=gbf&gt;&lt;/span&gt;&lt;span id=gbe&gt;&lt;/span&gt;&lt;a href=\"http://www.google.ca/history/optout?hl=en\" class=gb4&gt;Web History&lt;/a&gt; | &lt;a  href=\"/preferences?hl=en\" class=gb4&gt;Settings&lt;/a&gt; | &lt;a target=_top id=gb_70 href=\"https://accounts.google.com/ServiceLogin?hl=en&amp;passive=true&amp;continue=https://www.google.ca/%3Fgfe_rd%3Dcr%26dcr%3D0%26ei%3Dk-xIWr_DH4mR8QfpjbbYDQ\" class=gb4&gt;Sign in&lt;/a&gt;&lt;/nobr&gt;&lt;/div&gt;&lt;div class=gbh style=left:0&gt;&lt;/div&gt;&lt;div class=gbh style=right:0&gt;&lt;/div&gt; &lt;/div&gt;&lt;center&gt;&lt;br clear=\"all\" id=\"lgpd\"&gt;&lt;div id=\"lga\"&gt;&lt;div style=\"padding:28px 0 3px\"&gt;&lt;div style=\"height:110px;width:276px;background:url(/images/branding/googlelogo/1x/googlelogo_white_background_color_272x92dp.png) no-repeat\" title=\"Google\" align=\"left\" id=\"hplogo\" onload=\"window.lol&amp;&amp;lol()\"&gt;&lt;div style=\"color:#777;font-size:16px;font-weight:bold;position:relative;top:70px;left:218px\" nowrap=\"\"&gt;Canada&lt;/div&gt;&lt;/div&gt;&lt;/div&gt;&lt;br&gt;&lt;/div&gt;&lt;form action=\"/search\" name=\"f\"&gt;&lt;table cellpadding=\"0\" cellspacing=\"0\"&gt;&lt;tr valign=\"top\"&gt;&lt;td width=\"25%\"&gt;&amp;nbsp;&lt;/td&gt;&lt;td align=\"center\" nowrap=\"\"&gt;&lt;input name=\"ie\" value=\"ISO-8859-1\" type=\"hidden\"&gt;&lt;input value=\"en-CA\" name=\"hl\" type=\"hidden\"&gt;&lt;input name=\"source\" type=\"hidden\" value=\"hp\"&gt;&lt;input name=\"biw\" type=\"hidden\"&gt;&lt;input name=\"bih\" type=\"hidden\"&gt;&lt;div class=\"ds\" style=\"height:32px;margin:4px 0\"&gt;&lt;input style=\"color:#000;margin:0;padding:5px 8px 0 6px;vertical-align:top\" autocomplete=\"off\" class=\"lst\" value=\"\" title=\"Google Search\" maxlength=\"2048\" name=\"q\" size=\"57\"&gt;&lt;/div&gt;&lt;br style=\"line-height:0\"&gt;&lt;span class=\"ds\"&gt;&lt;span class=\"lsbb\"&gt;&lt;input class=\"lsb\" value=\"Google Search\" name=\"btnG\" type=\"submit\"&gt;&lt;/span&gt;&lt;/span&gt;&lt;span class=\"ds\"&gt;&lt;span class=\"lsbb\"&gt;&lt;input class=\"lsb\" value=\"I\\'m Feeling Lucky\" name=\"btnI\" onclick=\"if(this.form.q.value)this.checked=1; else top.location=\\'/doodles/\\'\" type=\"submit\"&gt;&lt;/span&gt;&lt;/span&gt;&lt;/td&gt;&lt;td class=\"fl sblc\" align=\"left\" nowrap=\"\" width=\"25%\"&gt;&lt;a href=\"/advanced_search?hl=en-CA&amp;amp;authuser=0\"&gt;Advanced search&lt;/a&gt;&lt;a href=\"/language_tools?hl=en-CA&amp;amp;authuser=0\"&gt;Language tools&lt;/a&gt;&lt;/td&gt;&lt;/tr&gt;&lt;/table&gt;&lt;input id=\"gbv\" name=\"gbv\" type=\"hidden\" value=\"1\"&gt;&lt;/form&gt;&lt;div id=\"gac_scont\"&gt;&lt;/div&gt;&lt;div style=\"font-size:83%;min-height:3.5em\"&gt;&lt;br&gt;&lt;div id=\"prm\"&gt;&lt;style&gt;.szppmdbYutt__middle-slot-promo{font-size:small;margin-bottom:32px}.szppmdbYutt__middle-slot-promo a._uFi{display:inline-block;text-decoration:none}.szppmdbYutt__middle-slot-promo img{border:none;margin-right:5px;vertical-align:middle}&lt;/style&gt;&lt;div class=\"szppmdbYutt__middle-slot-promo\" data-ved=\"0ahUKEwjioIbfs7TYAhUX4GMKHfMjD_MQnIcBCAQ\"&gt;&lt;a class=\"_XIi\" href=\"https://www.google.com/url?q=https://trends.google.ca/trends/yis/2017/CA%3Fautoplay%3D1%26utm_source%3DHPP%26utm_medium%3Din-product%26utm_campaign%3DYIS-17&amp;amp;source=hpp&amp;amp;id=19004483&amp;amp;ct=3&amp;amp;usg=AFQjCNFq8ml8k2nt9wzhGlQkYG9gQgI6og&amp;amp;sa=X&amp;amp;ved=0ahUKEwjioIbfs7TYAhUX4GMKHfMjD_MQ8IcBCAU\" rel=\"nofollow\"&gt;See what the world searched for in 2017&lt;/a&gt;&lt;/div&gt;&lt;/div&gt;&lt;div id=\"als\"&gt;&lt;style&gt;#als{font-size:small;margin-bottom:24px}#_eEe{display:inline-block;line-height:28px;}#_eEe a{padding:0 3px;}._lEe{display:inline-block;margin:0 2px;white-space:nowrap}._PEe{display:inline-block;margin:0 2px}&lt;/style&gt;&lt;div id=\"_eEe\"&gt;Google offered in: &lt;a href=\"https://www.google.ca/setprefs?sig=0_cvh5v9Q2qCUjS0zJxVxYCJY1B3k%3D&amp;amp;hl=fr&amp;amp;source=homepage&amp;amp;sa=X&amp;amp;ved=0ahUKEwjioIbfs7TYAhUX4GMKHfMjD_MQ2ZgBCAc\"&gt;Français&lt;/a&gt; &lt;/div&gt;&lt;/div&gt;&lt;/div&gt;&lt;span id=\"footer\"&gt;&lt;div style=\"font-size:10pt\"&gt;&lt;div style=\"margin:19px auto;text-align:center\" id=\"fll\"&gt;&lt;a href=\"/intl/en/ads/\"&gt;Advertising Programs&lt;/a&gt;&lt;a href=\"/services/\"&gt;Business Solutions&lt;/a&gt;&lt;a href=\"https://plus.google.com/108349337900676782287\" rel=\"publisher\"&gt;+Google&lt;/a&gt;&lt;a href=\"/intl/en/about.html\"&gt;About Google&lt;/a&gt;&lt;a href=\"https://www.google.ca/setprefdomain?prefdom=US&amp;amp;sig=__j2Wjt1QDNlmdVhgvS-9m4ndtpXA%3D\" id=\"fehl\"&gt;Google.com&lt;/a&gt;&lt;/div&gt;&lt;/div&gt;&lt;p style=\"color:#767676;font-size:8pt\"&gt;&amp;copy; 2017 - &lt;a href=\"/intl/en/policies/privacy/\"&gt;Privacy&lt;/a&gt; - &lt;a href=\"/intl/en/policies/terms/\"&gt;Terms&lt;/a&gt;&lt;/p&gt;&lt;/span&gt;&lt;/center&gt;&lt;script&gt;(function(){window.google.cdo={height:0,width:0};(function(){var a=window.innerWidth,b=window.innerHeight;if(!a||!b){var c=window.document,d=\"CSS1Compat\"==c.compatMode?c.documentElement:c.body;a=d.clientWidth;b=d.clientHeight}a&amp;&amp;b&amp;&amp;(a!=google.cdo.width||b!=google.cdo.height)&amp;&amp;google.log(\"\",\"\",\"/client_204?&amp;atyp=i&amp;biw=\"+a+\"&amp;bih=\"+b+\"&amp;ei=\"+google.kEI);}).call(this);})();&lt;/script&gt;&lt;div id=\"xjsd\"&gt;&lt;/div&gt;&lt;div id=\"xjsi\"&gt;&lt;script&gt;(function(){function c(b){window.setTimeout(function(){var a=document.createElement(\"script\");a.src=b;google.timers&amp;&amp;google.timers.load.t&amp;&amp;google.tick(\"load\",{gen204:\"xjsls\",clearcut:31});document.getElementById(\"xjsd\").appendChild(a)},0)}google.dljp=function(b,a){google.xjsu=b;c(a)};google.dlj=c;}).call(this);(function(){var r=[];google.plm(r);})();if(!google.xjs){window._=window._||{};window._DumpException=window._._DumpException=function(e){throw e};google.dljp(\\'/xjs/_/js/k\\\\x3dxjs.hp.en_US.OrL5iICNijc.O/m\\\\x3dsb_he,d/am\\\\x3dAAg/rt\\\\x3dj/d\\\\x3d1/t\\\\x3dzcms/rs\\\\x3dACT90oFNaqbC9cjc8xLhnsT8QgXiUupE4g\\',\\'/xjs/_/js/k\\\\x3dxjs.hp.en_US.OrL5iICNijc.O/m\\\\x3dsb_he,d/am\\\\x3dAAg/rt\\\\x3dj/d\\\\x3d1/t\\\\x3dzcms/rs\\\\x3dACT90oFNaqbC9cjc8xLhnsT8QgXiUupE4g\\');google.xjs=1;}google.pmc={\"sb_he\":{\"agen\":true,\"cgen\":true,\"client\":\"heirloom-hp\",\"dh\":true,\"dhqt\":true,\"ds\":\"\",\"ffql\":\"en\",\"fl\":true,\"host\":\"google.ca\",\"isbh\":28,\"jam\":0,\"jsonp\":true,\"msgs\":{\"cibl\":\"Clear Search\",\"dym\":\"Did you mean:\",\"lcky\":\"I\\\\u0026#39;m Feeling Lucky\",\"lml\":\"Learn more\",\"oskt\":\"Input tools\",\"psrc\":\"This search was removed from your \\\\u003Ca href=\\\\\"/history\\\\\"\\\\u003EWeb History\\\\u003C/a\\\\u003E\",\"psrl\":\"Remove\",\"sbit\":\"Search by image\",\"srch\":\"Google Search\"},\"nds\":true,\"ovr\":{},\"pq\":\"\",\"refpd\":true,\"rfs\":[],\"sbpl\":24,\"sbpr\":24,\"scd\":10,\"sce\":5,\"stok\":\"qaVZUUZtEpLOLAqRVUaEjUPHoCw\"},\"d\":{},\"YFCs/g\":{}};google.x(null,function(){});(function(){var ctx=[]'</span></li>\n",
       "\t<li>';google.jsc &amp;&amp; google.jsc.x(ctx);})();&lt;/script&gt;&lt;/div&gt;&lt;/body&gt;&lt;/html&gt;'</li>\n",
       "</ol>\n"
      ],
      "text/latex": [
       "\\begin{enumerate*}\n",
       "\\item '<!doctype html><html itemscope=\"\" itemtype=\"http://schema.org/WebPage\" lang=\"en-CA\"><head><meta content=\"text/html; charset=UTF-8\" http-equiv=\"Content-Type\"><meta content=\"/images/branding/googleg/1x/googleg\\_standard\\_color\\_128dp.png\" itemprop=\"image\"><title>Google</title><script>(function()\\{window.google=\\{kEI:\\textbackslash{}'k-xIWqKLLpfAjwPzx7yYDw\\textbackslash{}',kEXPI:\\textbackslash{}'18168,1354276,1354915,1355220,1355675,1355792,1355892,1356470,1357157,3700302,3700519,3700521,4029815,4031109,4043492,4045841,4048347,4063965,4081039,4081165,4095910,4097153,4097469,4097922,4097929,4098721,4098728,4098752,4101413,4102238,4103475,4104658,4109316,4109490,4112163,4113217,4115697,4116349,4116724,4116731,4116926,4116935,4117980,4118798,4119032,4119034,4119036,4120660,4121518,4123640,4124091,4124850,4125837,4126206,4126754,4127263,4127418,4127473,4127744,4127863,4128586,4128624,4128998,4129352,4129520,4129555,4129633,4130560,4131247,4131834,4132956,4133113,4133416,4134393,4134440,4135025,4135088,4135249,4135576,4135744,4135934,4136073,4137525,4137595,4137646,4139928,4141183,4141241,4141254,4141281,4141853,4142071,4142328,4142420,4142492,4142503,4142678,4142729,4142834,4143032,4143278,4143526,4143655,4143854,4143902,4144442,4144550,4145069,4145088,4145461,4145487,4146146,4146160,4146452,4146875,4146882,4147043,4147056,4147395,4147465,4147581,4147948,6512307,10200083,10202524,10202562,15807764,19000288,19000423,19000427,19001999,19002287,19002288,19002366,19002548,19002880,19003321,19003323,19003325,19003326,19003328,19003329,19003330,19003407,19003408,19003409,19003919,19004309,19004467,19004483,19004516,19004517,19004518,19004519,19004520,19004521,19004531,19004603,19004612,19004620,19004656,19004674,19004681,41317155\\textbackslash{}',authuser:0,kscs:\\textbackslash{}'c9c918f0\\_k-xIWqKLLpfAjwPzx7yYDw\\textbackslash{}',u:\\textbackslash{}'c9c918f0\\textbackslash{}',kGL:\\textbackslash{}'CA\\textbackslash{}'\\};google.kHL=\\textbackslash{}'en-CA\\textbackslash{}';\\})();(function()\\{google.lc={[}{]};google.li=0;google.getEI=function(a)\\{for(var b;a\\&\\&(!a.getAttribute\\textbar{}\\textbar{}!(b=a.getAttribute(\"eid\")));)a=a.parentNode;return b\\textbar{}\\textbar{}google.kEI\\};google.getLEI=function(a)\\{for(var b=null;a\\&\\&(!a.getAttribute\\textbar{}\\textbar{}!(b=a.getAttribute(\"leid\")));)a=a.parentNode;return b\\};google.https=function()\\{return\"https:\"==window.location.protocol\\};google.ml=function()\\{return null\\};google.wl=function(a,b)\\{try\\{google.ml(Error(a),!1,b)\\}catch(d)\\{\\}\\};google.time=function()\\{return(new Date).getTime()\\};google.log=function(a,b,d,c,g)\\{if(a=google.logUrl(a,b,d,c,g))\\{b=new Image;var e=google.lc,f=google.li;e{[}f{]}=b;b.onerror=b.onload=b.onabort=function()\\{delete e{[}f{]}\\};google.vel\\&\\&google.vel.lu\\&\\&google.vel.lu(a);b.src=a;google.li=f+1\\}\\};google.logUrl=function(a,b,d,c,g)\\{var e=\"\",f=google.ls\\textbar{}\\textbar{}\"\";d\\textbar{}\\textbar{}-1!=b.search(\"\\&ei=\")\\textbar{}\\textbar{}(e=\"\\&ei=\"+google.getEI(c),-1==b.search(\"\\&lei=\")\\&\\&(c=google.getLEI(c))\\&\\&(e+=\"\\&lei=\"+c));c=\"\";!d\\&\\&google.cshid\\&\\&-1==b.search(\"\\&cshid=\")\\&\\&(c=\"\\&cshid=\"+google.cshid);a=d\\textbar{}\\textbar{}\"/\"+(g\\textbar{}\\textbar{}\"gen\\_204\")+\"?atyp=i\\&ct=\"+a+\"\\&cad=\"+b+e+f+\"\\&zx=\"+google.time()+c;/\\textasciicircum{}http:/i.test(a)\\&\\&google.https()\\&\\&(google.ml(Error(\"a\"),!1,\\{src:a,glmm:1\\}),a=\"\");return a\\};\\}).call(this);(function()\\{google.y=\\{\\};google.x=function(a,b)\\{if(a)var c=a.id;else\\{do c=Math.random();while(google.y{[}c{]})\\}google.y{[}c{]}={[}a,b{]};return!1\\};google.lm={[}{]};google.plm=function(a)\\{google.lm.push.apply(google.lm,a)\\};google.lq={[}{]};google.load=function(a,b,c)\\{google.lq.push({[}{[}a{]},b,c{]})\\};google.loadAll=function(a,b)\\{google.lq.push({[}a,b{]})\\};\\}).call(this);google.f=\\{\\};var a=window.location,b=a.href.indexOf(\"\\#\");if(0<=b)\\{var c=a.href.substring(b+1);/(\\textasciicircum{}\\textbar{}\\&)q=/.test(c)\\&\\&-1==c.indexOf(\"\\#\")\\&\\&a.replace(\"/search?\"+c.replace(/(\\textasciicircum{}\\textbar{}\\&)fp={[}\\textasciicircum{}\\&{]}*/g,\"\")+\"\\&cad=h\")\\};</script><style>\\#gbar,\\#guser\\{font-size:13px;padding-top:1px !important;\\}\\#gbar\\{height:22px\\}\\#guser\\{padding-bottom:7px !important;text-align:right\\}.gbh,.gbd\\{border-top:1px solid \\#c9d7f1;font-size:1px\\}.gbh\\{height:0;position:absolute;top:24px;width:100\\%\\}@media all\\{.gb1\\{height:22px;margin-right:.5em;vertical-align:top\\}\\#gbar\\{float:left\\}\\}a.gb1,a.gb4\\{text-decoration:underline !important\\}a.gb1,a.gb4\\{color:\\#00c !important\\}.gbi .gb4\\{color:\\#dd8e27 !important\\}.gbf .gb4\\{color:\\#900 !important\\}'\n",
       "\\item '</style><style>body,td,a,p,.h\\{font-family:arial,sans-serif\\}body\\{margin:0;overflow-y:scroll\\}\\#gog\\{padding:3px 8px 0\\}td\\{line-height:.8em\\}.gac\\_m td\\{line-height:17px\\}form\\{margin-bottom:20px\\}.h\\{color:\\#36c\\}.q\\{color:\\#00c\\}.ts td\\{padding:0\\}.ts\\{border-collapse:collapse\\}em\\{font-weight:bold;font-style:normal\\}.lst\\{height:25px;width:496px\\}.gsfi,.lst\\{font:18px arial,sans-serif\\}.gsfs\\{font:17px arial,sans-serif\\}.ds\\{display:inline-box;display:inline-block;margin:3px 0 4px;margin-left:4px\\}input\\{font-family:inherit\\}a.gb1,a.gb2,a.gb3,a.gb4\\{color:\\#11c !important\\}body\\{background:\\#fff;color:black\\}a\\{color:\\#11c;text-decoration:none\\}a:hover,a:active\\{text-decoration:underline\\}.fl a\\{color:\\#36c\\}a:visited\\{color:\\#551a8b\\}a.gb1,a.gb4\\{text-decoration:underline\\}a.gb3:hover\\{text-decoration:none\\}\\#ghead a.gb2:hover\\{color:\\#fff !important\\}.sblc\\{padding-top:5px\\}.sblc a\\{display:block;margin:2px 0;margin-left:13px;font-size:11px\\}.lsbb\\{background:\\#eee;border:solid 1px;border-color:\\#ccc \\#999 \\#999 \\#ccc;height:30px\\}.lsbb\\{display:block\\}.ftl,\\#fll a\\{display:inline-block;margin:0 12px\\}.lsb\\{background:url(/images/nav\\_logo229.png) 0 -261px repeat-x;border:none;color:\\#000;cursor:pointer;height:30px;margin:0;outline:0;font:15px arial,sans-serif;vertical-align:top\\}.lsb:active\\{background:\\#ccc\\}.lst:focus\\{outline:none\\}</style><script></script><link href=\"/images/branding/product/ico/googleg\\_lodp.ico\" rel=\"shortcut icon\"></head><body bgcolor=\"\\#fff\"><script>(function()\\{var src=\\textbackslash{}'/images/nav\\_logo229.png\\textbackslash{}';var iesg=false;document.body.onload = function()\\{window.n \\&\\& window.n();if (document.images)\\{new Image().src=src;\\}'\n",
       "\\item 'if (!iesg)\\{document.f\\&\\&document.f.q.focus();document.gbqf\\&\\&document.gbqf.q.focus();\\}'\n",
       "\\item '\\}'\n",
       "\\item '\\})();</script><div id=\"mngb\"> <div id=gbar><nobr><b class=gb1>Search</b> <a class=gb1 href=\"https://www.google.ca/imghp?hl=en\\&tab=wi\">Images</a> <a class=gb1 href=\"https://maps.google.ca/maps?hl=en\\&tab=wl\">Maps</a> <a class=gb1 href=\"https://play.google.com/?hl=en\\&tab=w8\">Play</a> <a class=gb1 href=\"https://www.youtube.com/?gl=CA\\&tab=w1\">YouTube</a> <a class=gb1 href=\"https://news.google.ca/nwshp?hl=en\\&tab=wn\">News</a> <a class=gb1 href=\"https://mail.google.com/mail/?tab=wm\">Gmail</a> <a class=gb1 href=\"https://drive.google.com/?tab=wo\">Drive</a> <a class=gb1 style=\"text-decoration:none\" href=\"https://www.google.ca/intl/en/options/\"><u>More</u> \\&raquo;</a></nobr></div><div id=guser width=100\\%><nobr><span id=gbn class=gbi></span><span id=gbf class=gbf></span><span id=gbe></span><a href=\"http://www.google.ca/history/optout?hl=en\" class=gb4>Web History</a> \\textbar{} <a  href=\"/preferences?hl=en\" class=gb4>Settings</a> \\textbar{} <a target=\\_top id=gb\\_70 href=\"https://accounts.google.com/ServiceLogin?hl=en\\&passive=true\\&continue=https://www.google.ca/\\%3Fgfe\\_rd\\%3Dcr\\%26dcr\\%3D0\\%26ei\\%3Dk-xIWr\\_DH4mR8QfpjbbYDQ\" class=gb4>Sign in</a></nobr></div><div class=gbh style=left:0></div><div class=gbh style=right:0></div> </div><center><br clear=\"all\" id=\"lgpd\"><div id=\"lga\"><div style=\"padding:28px 0 3px\"><div style=\"height:110px;width:276px;background:url(/images/branding/googlelogo/1x/googlelogo\\_white\\_background\\_color\\_272x92dp.png) no-repeat\" title=\"Google\" align=\"left\" id=\"hplogo\" onload=\"window.lol\\&\\&lol()\"><div style=\"color:\\#777;font-size:16px;font-weight:bold;position:relative;top:70px;left:218px\" nowrap=\"\">Canada</div></div></div><br></div><form action=\"/search\" name=\"f\"><table cellpadding=\"0\" cellspacing=\"0\"><tr valign=\"top\"><td width=\"25\\%\">\\&nbsp;</td><td align=\"center\" nowrap=\"\"><input name=\"ie\" value=\"ISO-8859-1\" type=\"hidden\"><input value=\"en-CA\" name=\"hl\" type=\"hidden\"><input name=\"source\" type=\"hidden\" value=\"hp\"><input name=\"biw\" type=\"hidden\"><input name=\"bih\" type=\"hidden\"><div class=\"ds\" style=\"height:32px;margin:4px 0\"><input style=\"color:\\#000;margin:0;padding:5px 8px 0 6px;vertical-align:top\" autocomplete=\"off\" class=\"lst\" value=\"\" title=\"Google Search\" maxlength=\"2048\" name=\"q\" size=\"57\"></div><br style=\"line-height:0\"><span class=\"ds\"><span class=\"lsbb\"><input class=\"lsb\" value=\"Google Search\" name=\"btnG\" type=\"submit\"></span></span><span class=\"ds\"><span class=\"lsbb\"><input class=\"lsb\" value=\"I\\textbackslash{}'m Feeling Lucky\" name=\"btnI\" onclick=\"if(this.form.q.value)this.checked=1; else top.location=\\textbackslash{}'/doodles/\\textbackslash{}'\" type=\"submit\"></span></span></td><td class=\"fl sblc\" align=\"left\" nowrap=\"\" width=\"25\\%\"><a href=\"/advanced\\_search?hl=en-CA\\&amp;authuser=0\">Advanced search</a><a href=\"/language\\_tools?hl=en-CA\\&amp;authuser=0\">Language tools</a></td></tr></table><input id=\"gbv\" name=\"gbv\" type=\"hidden\" value=\"1\"></form><div id=\"gac\\_scont\"></div><div style=\"font-size:83\\%;min-height:3.5em\"><br><div id=\"prm\"><style>.szppmdbYutt\\_\\_middle-slot-promo\\{font-size:small;margin-bottom:32px\\}.szppmdbYutt\\_\\_middle-slot-promo a.\\_uFi\\{display:inline-block;text-decoration:none\\}.szppmdbYutt\\_\\_middle-slot-promo img\\{border:none;margin-right:5px;vertical-align:middle\\}</style><div class=\"szppmdbYutt\\_\\_middle-slot-promo\" data-ved=\"0ahUKEwjioIbfs7TYAhUX4GMKHfMjD\\_MQnIcBCAQ\"><a class=\"\\_XIi\" href=\"https://www.google.com/url?q=https://trends.google.ca/trends/yis/2017/CA\\%3Fautoplay\\%3D1\\%26utm\\_source\\%3DHPP\\%26utm\\_medium\\%3Din-product\\%26utm\\_campaign\\%3DYIS-17\\&amp;source=hpp\\&amp;id=19004483\\&amp;ct=3\\&amp;usg=AFQjCNFq8ml8k2nt9wzhGlQkYG9gQgI6og\\&amp;sa=X\\&amp;ved=0ahUKEwjioIbfs7TYAhUX4GMKHfMjD\\_MQ8IcBCAU\" rel=\"nofollow\">See what the world searched for in 2017</a></div></div><div id=\"als\"><style>\\#als\\{font-size:small;margin-bottom:24px\\}\\#\\_eEe\\{display:inline-block;line-height:28px;\\}\\#\\_eEe a\\{padding:0 3px;\\}.\\_lEe\\{display:inline-block;margin:0 2px;white-space:nowrap\\}.\\_PEe\\{display:inline-block;margin:0 2px\\}</style><div id=\"\\_eEe\">Google offered in: <a href=\"https://www.google.ca/setprefs?sig=0\\_cvh5v9Q2qCUjS0zJxVxYCJY1B3k\\%3D\\&amp;hl=fr\\&amp;source=homepage\\&amp;sa=X\\&amp;ved=0ahUKEwjioIbfs7TYAhUX4GMKHfMjD\\_MQ2ZgBCAc\">Français</a> </div></div></div><span id=\"footer\"><div style=\"font-size:10pt\"><div style=\"margin:19px auto;text-align:center\" id=\"fll\"><a href=\"/intl/en/ads/\">Advertising Programs</a><a href=\"/services/\">Business Solutions</a><a href=\"https://plus.google.com/108349337900676782287\" rel=\"publisher\">+Google</a><a href=\"/intl/en/about.html\">About Google</a><a href=\"https://www.google.ca/setprefdomain?prefdom=US\\&amp;sig=\\_\\_j2Wjt1QDNlmdVhgvS-9m4ndtpXA\\%3D\" id=\"fehl\">Google.com</a></div></div><p style=\"color:\\#767676;font-size:8pt\">\\&copy; 2017 - <a href=\"/intl/en/policies/privacy/\">Privacy</a> - <a href=\"/intl/en/policies/terms/\">Terms</a></p></span></center><script>(function()\\{window.google.cdo=\\{height:0,width:0\\};(function()\\{var a=window.innerWidth,b=window.innerHeight;if(!a\\textbar{}\\textbar{}!b)\\{var c=window.document,d=\"CSS1Compat\"==c.compatMode?c.documentElement:c.body;a=d.clientWidth;b=d.clientHeight\\}a\\&\\&b\\&\\&(a!=google.cdo.width\\textbar{}\\textbar{}b!=google.cdo.height)\\&\\&google.log(\"\",\"\",\"/client\\_204?\\&atyp=i\\&biw=\"+a+\"\\&bih=\"+b+\"\\&ei=\"+google.kEI);\\}).call(this);\\})();</script><div id=\"xjsd\"></div><div id=\"xjsi\"><script>(function()\\{function c(b)\\{window.setTimeout(function()\\{var a=document.createElement(\"script\");a.src=b;google.timers\\&\\&google.timers.load.t\\&\\&google.tick(\"load\",\\{gen204:\"xjsls\",clearcut:31\\});document.getElementById(\"xjsd\").appendChild(a)\\},0)\\}google.dljp=function(b,a)\\{google.xjsu=b;c(a)\\};google.dlj=c;\\}).call(this);(function()\\{var r={[}{]};google.plm(r);\\})();if(!google.xjs)\\{window.\\_=window.\\_\\textbar{}\\textbar{}\\{\\};window.\\_DumpException=window.\\_.\\_DumpException=function(e)\\{throw e\\};google.dljp(\\textbackslash{}'/xjs/\\_/js/k\\textbackslash{}\\textbackslash{}x3dxjs.hp.en\\_US.OrL5iICNijc.O/m\\textbackslash{}\\textbackslash{}x3dsb\\_he,d/am\\textbackslash{}\\textbackslash{}x3dAAg/rt\\textbackslash{}\\textbackslash{}x3dj/d\\textbackslash{}\\textbackslash{}x3d1/t\\textbackslash{}\\textbackslash{}x3dzcms/rs\\textbackslash{}\\textbackslash{}x3dACT90oFNaqbC9cjc8xLhnsT8QgXiUupE4g\\textbackslash{}',\\textbackslash{}'/xjs/\\_/js/k\\textbackslash{}\\textbackslash{}x3dxjs.hp.en\\_US.OrL5iICNijc.O/m\\textbackslash{}\\textbackslash{}x3dsb\\_he,d/am\\textbackslash{}\\textbackslash{}x3dAAg/rt\\textbackslash{}\\textbackslash{}x3dj/d\\textbackslash{}\\textbackslash{}x3d1/t\\textbackslash{}\\textbackslash{}x3dzcms/rs\\textbackslash{}\\textbackslash{}x3dACT90oFNaqbC9cjc8xLhnsT8QgXiUupE4g\\textbackslash{}');google.xjs=1;\\}google.pmc=\\{\"sb\\_he\":\\{\"agen\":true,\"cgen\":true,\"client\":\"heirloom-hp\",\"dh\":true,\"dhqt\":true,\"ds\":\"\",\"ffql\":\"en\",\"fl\":true,\"host\":\"google.ca\",\"isbh\":28,\"jam\":0,\"jsonp\":true,\"msgs\":\\{\"cibl\":\"Clear Search\",\"dym\":\"Did you mean:\",\"lcky\":\"I\\textbackslash{}\\textbackslash{}u0026\\#39;m Feeling Lucky\",\"lml\":\"Learn more\",\"oskt\":\"Input tools\",\"psrc\":\"This search was removed from your \\textbackslash{}\\textbackslash{}u003Ca href=\\textbackslash{}\\textbackslash{}\"/history\\textbackslash{}\\textbackslash{}\"\\textbackslash{}\\textbackslash{}u003EWeb History\\textbackslash{}\\textbackslash{}u003C/a\\textbackslash{}\\textbackslash{}u003E\",\"psrl\":\"Remove\",\"sbit\":\"Search by image\",\"srch\":\"Google Search\"\\},\"nds\":true,\"ovr\":\\{\\},\"pq\":\"\",\"refpd\":true,\"rfs\":{[}{]},\"sbpl\":24,\"sbpr\":24,\"scd\":10,\"sce\":5,\"stok\":\"qaVZUUZtEpLOLAqRVUaEjUPHoCw\"\\},\"d\":\\{\\},\"YFCs/g\":\\{\\}\\};google.x(null,function()\\{\\});(function()\\{var ctx={[}{]}'\n",
       "\\item ';google.jsc \\&\\& google.jsc.x(ctx);\\})();</script></div></body></html>'\n",
       "\\end{enumerate*}\n"
      ],
      "text/markdown": [
       "1. '&lt;!doctype html&gt;&lt;html itemscope=\"\" itemtype=\"http://schema.org/WebPage\" lang=\"en-CA\"&gt;&lt;head&gt;&lt;meta content=\"text/html; charset=UTF-8\" http-equiv=\"Content-Type\"&gt;&lt;meta content=\"/images/branding/googleg/1x/googleg_standard_color_128dp.png\" itemprop=\"image\"&gt;&lt;title&gt;Google&lt;/title&gt;&lt;script&gt;(function(){window.google={kEI:\\'k-xIWqKLLpfAjwPzx7yYDw\\',kEXPI:\\'18168,1354276,1354915,1355220,1355675,1355792,1355892,1356470,1357157,3700302,3700519,3700521,4029815,4031109,4043492,4045841,4048347,4063965,4081039,4081165,4095910,4097153,4097469,4097922,4097929,4098721,4098728,4098752,4101413,4102238,4103475,4104658,4109316,4109490,4112163,4113217,4115697,4116349,4116724,4116731,4116926,4116935,4117980,4118798,4119032,4119034,4119036,4120660,4121518,4123640,4124091,4124850,4125837,4126206,4126754,4127263,4127418,4127473,4127744,4127863,4128586,4128624,4128998,4129352,4129520,4129555,4129633,4130560,4131247,4131834,4132956,4133113,4133416,4134393,4134440,4135025,4135088,4135249,4135576,4135744,4135934,4136073,4137525,4137595,4137646,4139928,4141183,4141241,4141254,4141281,4141853,4142071,4142328,4142420,4142492,4142503,4142678,4142729,4142834,4143032,4143278,4143526,4143655,4143854,4143902,4144442,4144550,4145069,4145088,4145461,4145487,4146146,4146160,4146452,4146875,4146882,4147043,4147056,4147395,4147465,4147581,4147948,6512307,10200083,10202524,10202562,15807764,19000288,19000423,19000427,19001999,19002287,19002288,19002366,19002548,19002880,19003321,19003323,19003325,19003326,19003328,19003329,19003330,19003407,19003408,19003409,19003919,19004309,19004467,19004483,19004516,19004517,19004518,19004519,19004520,19004521,19004531,19004603,19004612,19004620,19004656,19004674,19004681,41317155\\',authuser:0,kscs:\\'c9c918f0_k-xIWqKLLpfAjwPzx7yYDw\\',u:\\'c9c918f0\\',kGL:\\'CA\\'};google.kHL=\\'en-CA\\';})();(function(){google.lc=[];google.li=0;google.getEI=function(a){for(var b;a&amp;&amp;(!a.getAttribute||!(b=a.getAttribute(\"eid\")));)a=a.parentNode;return b||google.kEI};google.getLEI=function(a){for(var b=null;a&amp;&amp;(!a.getAttribute||!(b=a.getAttribute(\"leid\")));)a=a.parentNode;return b};google.https=function(){return\"https:\"==window.location.protocol};google.ml=function(){return null};google.wl=function(a,b){try{google.ml(Error(a),!1,b)}catch(d){}};google.time=function(){return(new Date).getTime()};google.log=function(a,b,d,c,g){if(a=google.logUrl(a,b,d,c,g)){b=new Image;var e=google.lc,f=google.li;e[f]=b;b.onerror=b.onload=b.onabort=function(){delete e[f]};google.vel&amp;&amp;google.vel.lu&amp;&amp;google.vel.lu(a);b.src=a;google.li=f+1}};google.logUrl=function(a,b,d,c,g){var e=\"\",f=google.ls||\"\";d||-1!=b.search(\"&amp;ei=\")||(e=\"&amp;ei=\"+google.getEI(c),-1==b.search(\"&amp;lei=\")&amp;&amp;(c=google.getLEI(c))&amp;&amp;(e+=\"&amp;lei=\"+c));c=\"\";!d&amp;&amp;google.cshid&amp;&amp;-1==b.search(\"&amp;cshid=\")&amp;&amp;(c=\"&amp;cshid=\"+google.cshid);a=d||\"/\"+(g||\"gen_204\")+\"?atyp=i&amp;ct=\"+a+\"&amp;cad=\"+b+e+f+\"&amp;zx=\"+google.time()+c;/^http:/i.test(a)&amp;&amp;google.https()&amp;&amp;(google.ml(Error(\"a\"),!1,{src:a,glmm:1}),a=\"\");return a};}).call(this);(function(){google.y={};google.x=function(a,b){if(a)var c=a.id;else{do c=Math.random();while(google.y[c])}google.y[c]=[a,b];return!1};google.lm=[];google.plm=function(a){google.lm.push.apply(google.lm,a)};google.lq=[];google.load=function(a,b,c){google.lq.push([[a],b,c])};google.loadAll=function(a,b){google.lq.push([a,b])};}).call(this);google.f={};var a=window.location,b=a.href.indexOf(\"#\");if(0&lt;=b){var c=a.href.substring(b+1);/(^|&amp;)q=/.test(c)&amp;&amp;-1==c.indexOf(\"#\")&amp;&amp;a.replace(\"/search?\"+c.replace(/(^|&amp;)fp=[^&amp;]*/g,\"\")+\"&amp;cad=h\")};&lt;/script&gt;&lt;style&gt;#gbar,#guser{font-size:13px;padding-top:1px !important;}#gbar{height:22px}#guser{padding-bottom:7px !important;text-align:right}.gbh,.gbd{border-top:1px solid #c9d7f1;font-size:1px}.gbh{height:0;position:absolute;top:24px;width:100%}@media all{.gb1{height:22px;margin-right:.5em;vertical-align:top}#gbar{float:left}}a.gb1,a.gb4{text-decoration:underline !important}a.gb1,a.gb4{color:#00c !important}.gbi .gb4{color:#dd8e27 !important}.gbf .gb4{color:#900 !important}'\n",
       "2. '&lt;/style&gt;&lt;style&gt;body,td,a,p,.h{font-family:arial,sans-serif}body{margin:0;overflow-y:scroll}#gog{padding:3px 8px 0}td{line-height:.8em}.gac_m td{line-height:17px}form{margin-bottom:20px}.h{color:#36c}.q{color:#00c}.ts td{padding:0}.ts{border-collapse:collapse}em{font-weight:bold;font-style:normal}.lst{height:25px;width:496px}.gsfi,.lst{font:18px arial,sans-serif}.gsfs{font:17px arial,sans-serif}.ds{display:inline-box;display:inline-block;margin:3px 0 4px;margin-left:4px}input{font-family:inherit}a.gb1,a.gb2,a.gb3,a.gb4{color:#11c !important}body{background:#fff;color:black}a{color:#11c;text-decoration:none}a:hover,a:active{text-decoration:underline}.fl a{color:#36c}a:visited{color:#551a8b}a.gb1,a.gb4{text-decoration:underline}a.gb3:hover{text-decoration:none}#ghead a.gb2:hover{color:#fff !important}.sblc{padding-top:5px}.sblc a{display:block;margin:2px 0;margin-left:13px;font-size:11px}.lsbb{background:#eee;border:solid 1px;border-color:#ccc #999 #999 #ccc;height:30px}.lsbb{display:block}.ftl,#fll a{display:inline-block;margin:0 12px}.lsb{background:url(/images/nav_logo229.png) 0 -261px repeat-x;border:none;color:#000;cursor:pointer;height:30px;margin:0;outline:0;font:15px arial,sans-serif;vertical-align:top}.lsb:active{background:#ccc}.lst:focus{outline:none}&lt;/style&gt;&lt;script&gt;&lt;/script&gt;&lt;link href=\"/images/branding/product/ico/googleg_lodp.ico\" rel=\"shortcut icon\"&gt;&lt;/head&gt;&lt;body bgcolor=\"#fff\"&gt;&lt;script&gt;(function(){var src=\\'/images/nav_logo229.png\\';var iesg=false;document.body.onload = function(){window.n &amp;&amp; window.n();if (document.images){new Image().src=src;}'\n",
       "3. 'if (!iesg){document.f&amp;&amp;document.f.q.focus();document.gbqf&amp;&amp;document.gbqf.q.focus();}'\n",
       "4. '}'\n",
       "5. <span style=white-space:pre-wrap>'})();&lt;/script&gt;&lt;div id=\"mngb\"&gt; &lt;div id=gbar&gt;&lt;nobr&gt;&lt;b class=gb1&gt;Search&lt;/b&gt; &lt;a class=gb1 href=\"https://www.google.ca/imghp?hl=en&amp;tab=wi\"&gt;Images&lt;/a&gt; &lt;a class=gb1 href=\"https://maps.google.ca/maps?hl=en&amp;tab=wl\"&gt;Maps&lt;/a&gt; &lt;a class=gb1 href=\"https://play.google.com/?hl=en&amp;tab=w8\"&gt;Play&lt;/a&gt; &lt;a class=gb1 href=\"https://www.youtube.com/?gl=CA&amp;tab=w1\"&gt;YouTube&lt;/a&gt; &lt;a class=gb1 href=\"https://news.google.ca/nwshp?hl=en&amp;tab=wn\"&gt;News&lt;/a&gt; &lt;a class=gb1 href=\"https://mail.google.com/mail/?tab=wm\"&gt;Gmail&lt;/a&gt; &lt;a class=gb1 href=\"https://drive.google.com/?tab=wo\"&gt;Drive&lt;/a&gt; &lt;a class=gb1 style=\"text-decoration:none\" href=\"https://www.google.ca/intl/en/options/\"&gt;&lt;u&gt;More&lt;/u&gt; &amp;raquo;&lt;/a&gt;&lt;/nobr&gt;&lt;/div&gt;&lt;div id=guser width=100%&gt;&lt;nobr&gt;&lt;span id=gbn class=gbi&gt;&lt;/span&gt;&lt;span id=gbf class=gbf&gt;&lt;/span&gt;&lt;span id=gbe&gt;&lt;/span&gt;&lt;a href=\"http://www.google.ca/history/optout?hl=en\" class=gb4&gt;Web History&lt;/a&gt; | &lt;a  href=\"/preferences?hl=en\" class=gb4&gt;Settings&lt;/a&gt; | &lt;a target=_top id=gb_70 href=\"https://accounts.google.com/ServiceLogin?hl=en&amp;passive=true&amp;continue=https://www.google.ca/%3Fgfe_rd%3Dcr%26dcr%3D0%26ei%3Dk-xIWr_DH4mR8QfpjbbYDQ\" class=gb4&gt;Sign in&lt;/a&gt;&lt;/nobr&gt;&lt;/div&gt;&lt;div class=gbh style=left:0&gt;&lt;/div&gt;&lt;div class=gbh style=right:0&gt;&lt;/div&gt; &lt;/div&gt;&lt;center&gt;&lt;br clear=\"all\" id=\"lgpd\"&gt;&lt;div id=\"lga\"&gt;&lt;div style=\"padding:28px 0 3px\"&gt;&lt;div style=\"height:110px;width:276px;background:url(/images/branding/googlelogo/1x/googlelogo_white_background_color_272x92dp.png) no-repeat\" title=\"Google\" align=\"left\" id=\"hplogo\" onload=\"window.lol&amp;&amp;lol()\"&gt;&lt;div style=\"color:#777;font-size:16px;font-weight:bold;position:relative;top:70px;left:218px\" nowrap=\"\"&gt;Canada&lt;/div&gt;&lt;/div&gt;&lt;/div&gt;&lt;br&gt;&lt;/div&gt;&lt;form action=\"/search\" name=\"f\"&gt;&lt;table cellpadding=\"0\" cellspacing=\"0\"&gt;&lt;tr valign=\"top\"&gt;&lt;td width=\"25%\"&gt;&amp;nbsp;&lt;/td&gt;&lt;td align=\"center\" nowrap=\"\"&gt;&lt;input name=\"ie\" value=\"ISO-8859-1\" type=\"hidden\"&gt;&lt;input value=\"en-CA\" name=\"hl\" type=\"hidden\"&gt;&lt;input name=\"source\" type=\"hidden\" value=\"hp\"&gt;&lt;input name=\"biw\" type=\"hidden\"&gt;&lt;input name=\"bih\" type=\"hidden\"&gt;&lt;div class=\"ds\" style=\"height:32px;margin:4px 0\"&gt;&lt;input style=\"color:#000;margin:0;padding:5px 8px 0 6px;vertical-align:top\" autocomplete=\"off\" class=\"lst\" value=\"\" title=\"Google Search\" maxlength=\"2048\" name=\"q\" size=\"57\"&gt;&lt;/div&gt;&lt;br style=\"line-height:0\"&gt;&lt;span class=\"ds\"&gt;&lt;span class=\"lsbb\"&gt;&lt;input class=\"lsb\" value=\"Google Search\" name=\"btnG\" type=\"submit\"&gt;&lt;/span&gt;&lt;/span&gt;&lt;span class=\"ds\"&gt;&lt;span class=\"lsbb\"&gt;&lt;input class=\"lsb\" value=\"I\\'m Feeling Lucky\" name=\"btnI\" onclick=\"if(this.form.q.value)this.checked=1; else top.location=\\'/doodles/\\'\" type=\"submit\"&gt;&lt;/span&gt;&lt;/span&gt;&lt;/td&gt;&lt;td class=\"fl sblc\" align=\"left\" nowrap=\"\" width=\"25%\"&gt;&lt;a href=\"/advanced_search?hl=en-CA&amp;amp;authuser=0\"&gt;Advanced search&lt;/a&gt;&lt;a href=\"/language_tools?hl=en-CA&amp;amp;authuser=0\"&gt;Language tools&lt;/a&gt;&lt;/td&gt;&lt;/tr&gt;&lt;/table&gt;&lt;input id=\"gbv\" name=\"gbv\" type=\"hidden\" value=\"1\"&gt;&lt;/form&gt;&lt;div id=\"gac_scont\"&gt;&lt;/div&gt;&lt;div style=\"font-size:83%;min-height:3.5em\"&gt;&lt;br&gt;&lt;div id=\"prm\"&gt;&lt;style&gt;.szppmdbYutt__middle-slot-promo{font-size:small;margin-bottom:32px}.szppmdbYutt__middle-slot-promo a._uFi{display:inline-block;text-decoration:none}.szppmdbYutt__middle-slot-promo img{border:none;margin-right:5px;vertical-align:middle}&lt;/style&gt;&lt;div class=\"szppmdbYutt__middle-slot-promo\" data-ved=\"0ahUKEwjioIbfs7TYAhUX4GMKHfMjD_MQnIcBCAQ\"&gt;&lt;a class=\"_XIi\" href=\"https://www.google.com/url?q=https://trends.google.ca/trends/yis/2017/CA%3Fautoplay%3D1%26utm_source%3DHPP%26utm_medium%3Din-product%26utm_campaign%3DYIS-17&amp;amp;source=hpp&amp;amp;id=19004483&amp;amp;ct=3&amp;amp;usg=AFQjCNFq8ml8k2nt9wzhGlQkYG9gQgI6og&amp;amp;sa=X&amp;amp;ved=0ahUKEwjioIbfs7TYAhUX4GMKHfMjD_MQ8IcBCAU\" rel=\"nofollow\"&gt;See what the world searched for in 2017&lt;/a&gt;&lt;/div&gt;&lt;/div&gt;&lt;div id=\"als\"&gt;&lt;style&gt;#als{font-size:small;margin-bottom:24px}#_eEe{display:inline-block;line-height:28px;}#_eEe a{padding:0 3px;}._lEe{display:inline-block;margin:0 2px;white-space:nowrap}._PEe{display:inline-block;margin:0 2px}&lt;/style&gt;&lt;div id=\"_eEe\"&gt;Google offered in: &lt;a href=\"https://www.google.ca/setprefs?sig=0_cvh5v9Q2qCUjS0zJxVxYCJY1B3k%3D&amp;amp;hl=fr&amp;amp;source=homepage&amp;amp;sa=X&amp;amp;ved=0ahUKEwjioIbfs7TYAhUX4GMKHfMjD_MQ2ZgBCAc\"&gt;Français&lt;/a&gt; &lt;/div&gt;&lt;/div&gt;&lt;/div&gt;&lt;span id=\"footer\"&gt;&lt;div style=\"font-size:10pt\"&gt;&lt;div style=\"margin:19px auto;text-align:center\" id=\"fll\"&gt;&lt;a href=\"/intl/en/ads/\"&gt;Advertising Programs&lt;/a&gt;&lt;a href=\"/services/\"&gt;Business Solutions&lt;/a&gt;&lt;a href=\"https://plus.google.com/108349337900676782287\" rel=\"publisher\"&gt;+Google&lt;/a&gt;&lt;a href=\"/intl/en/about.html\"&gt;About Google&lt;/a&gt;&lt;a href=\"https://www.google.ca/setprefdomain?prefdom=US&amp;amp;sig=__j2Wjt1QDNlmdVhgvS-9m4ndtpXA%3D\" id=\"fehl\"&gt;Google.com&lt;/a&gt;&lt;/div&gt;&lt;/div&gt;&lt;p style=\"color:#767676;font-size:8pt\"&gt;&amp;copy; 2017 - &lt;a href=\"/intl/en/policies/privacy/\"&gt;Privacy&lt;/a&gt; - &lt;a href=\"/intl/en/policies/terms/\"&gt;Terms&lt;/a&gt;&lt;/p&gt;&lt;/span&gt;&lt;/center&gt;&lt;script&gt;(function(){window.google.cdo={height:0,width:0};(function(){var a=window.innerWidth,b=window.innerHeight;if(!a||!b){var c=window.document,d=\"CSS1Compat\"==c.compatMode?c.documentElement:c.body;a=d.clientWidth;b=d.clientHeight}a&amp;&amp;b&amp;&amp;(a!=google.cdo.width||b!=google.cdo.height)&amp;&amp;google.log(\"\",\"\",\"/client_204?&amp;atyp=i&amp;biw=\"+a+\"&amp;bih=\"+b+\"&amp;ei=\"+google.kEI);}).call(this);})();&lt;/script&gt;&lt;div id=\"xjsd\"&gt;&lt;/div&gt;&lt;div id=\"xjsi\"&gt;&lt;script&gt;(function(){function c(b){window.setTimeout(function(){var a=document.createElement(\"script\");a.src=b;google.timers&amp;&amp;google.timers.load.t&amp;&amp;google.tick(\"load\",{gen204:\"xjsls\",clearcut:31});document.getElementById(\"xjsd\").appendChild(a)},0)}google.dljp=function(b,a){google.xjsu=b;c(a)};google.dlj=c;}).call(this);(function(){var r=[];google.plm(r);})();if(!google.xjs){window._=window._||{};window._DumpException=window._._DumpException=function(e){throw e};google.dljp(\\'/xjs/_/js/k\\\\x3dxjs.hp.en_US.OrL5iICNijc.O/m\\\\x3dsb_he,d/am\\\\x3dAAg/rt\\\\x3dj/d\\\\x3d1/t\\\\x3dzcms/rs\\\\x3dACT90oFNaqbC9cjc8xLhnsT8QgXiUupE4g\\',\\'/xjs/_/js/k\\\\x3dxjs.hp.en_US.OrL5iICNijc.O/m\\\\x3dsb_he,d/am\\\\x3dAAg/rt\\\\x3dj/d\\\\x3d1/t\\\\x3dzcms/rs\\\\x3dACT90oFNaqbC9cjc8xLhnsT8QgXiUupE4g\\');google.xjs=1;}google.pmc={\"sb_he\":{\"agen\":true,\"cgen\":true,\"client\":\"heirloom-hp\",\"dh\":true,\"dhqt\":true,\"ds\":\"\",\"ffql\":\"en\",\"fl\":true,\"host\":\"google.ca\",\"isbh\":28,\"jam\":0,\"jsonp\":true,\"msgs\":{\"cibl\":\"Clear Search\",\"dym\":\"Did you mean:\",\"lcky\":\"I\\\\u0026#39;m Feeling Lucky\",\"lml\":\"Learn more\",\"oskt\":\"Input tools\",\"psrc\":\"This search was removed from your \\\\u003Ca href=\\\\\"/history\\\\\"\\\\u003EWeb History\\\\u003C/a\\\\u003E\",\"psrl\":\"Remove\",\"sbit\":\"Search by image\",\"srch\":\"Google Search\"},\"nds\":true,\"ovr\":{},\"pq\":\"\",\"refpd\":true,\"rfs\":[],\"sbpl\":24,\"sbpr\":24,\"scd\":10,\"sce\":5,\"stok\":\"qaVZUUZtEpLOLAqRVUaEjUPHoCw\"},\"d\":{},\"YFCs/g\":{}};google.x(null,function(){});(function(){var ctx=[]'</span>\n",
       "6. ';google.jsc &amp;&amp; google.jsc.x(ctx);})();&lt;/script&gt;&lt;/div&gt;&lt;/body&gt;&lt;/html&gt;'\n",
       "\n",
       "\n"
      ],
      "text/plain": [
       "[1] \"<!doctype html><html itemscope=\\\"\\\" itemtype=\\\"http://schema.org/WebPage\\\" lang=\\\"en-CA\\\"><head><meta content=\\\"text/html; charset=UTF-8\\\" http-equiv=\\\"Content-Type\\\"><meta content=\\\"/images/branding/googleg/1x/googleg_standard_color_128dp.png\\\" itemprop=\\\"image\\\"><title>Google</title><script>(function(){window.google={kEI:'k-xIWqKLLpfAjwPzx7yYDw',kEXPI:'18168,1354276,1354915,1355220,1355675,1355792,1355892,1356470,1357157,3700302,3700519,3700521,4029815,4031109,4043492,4045841,4048347,4063965,4081039,4081165,4095910,4097153,4097469,4097922,4097929,4098721,4098728,4098752,4101413,4102238,4103475,4104658,4109316,4109490,4112163,4113217,4115697,4116349,4116724,4116731,4116926,4116935,4117980,4118798,4119032,4119034,4119036,4120660,4121518,4123640,4124091,4124850,4125837,4126206,4126754,4127263,4127418,4127473,4127744,4127863,4128586,4128624,4128998,4129352,4129520,4129555,4129633,4130560,4131247,4131834,4132956,4133113,4133416,4134393,4134440,4135025,4135088,4135249,4135576,4135744,4135934,4136073,4137525,4137595,4137646,4139928,4141183,4141241,4141254,4141281,4141853,4142071,4142328,4142420,4142492,4142503,4142678,4142729,4142834,4143032,4143278,4143526,4143655,4143854,4143902,4144442,4144550,4145069,4145088,4145461,4145487,4146146,4146160,4146452,4146875,4146882,4147043,4147056,4147395,4147465,4147581,4147948,6512307,10200083,10202524,10202562,15807764,19000288,19000423,19000427,19001999,19002287,19002288,19002366,19002548,19002880,19003321,19003323,19003325,19003326,19003328,19003329,19003330,19003407,19003408,19003409,19003919,19004309,19004467,19004483,19004516,19004517,19004518,19004519,19004520,19004521,19004531,19004603,19004612,19004620,19004656,19004674,19004681,41317155',authuser:0,kscs:'c9c918f0_k-xIWqKLLpfAjwPzx7yYDw',u:'c9c918f0',kGL:'CA'};google.kHL='en-CA';})();(function(){google.lc=[];google.li=0;google.getEI=function(a){for(var b;a&&(!a.getAttribute||!(b=a.getAttribute(\\\"eid\\\")));)a=a.parentNode;return b||google.kEI};google.getLEI=function(a){for(var b=null;a&&(!a.getAttribute||!(b=a.getAttribute(\\\"leid\\\")));)a=a.parentNode;return b};google.https=function(){return\\\"https:\\\"==window.location.protocol};google.ml=function(){return null};google.wl=function(a,b){try{google.ml(Error(a),!1,b)}catch(d){}};google.time=function(){return(new Date).getTime()};google.log=function(a,b,d,c,g){if(a=google.logUrl(a,b,d,c,g)){b=new Image;var e=google.lc,f=google.li;e[f]=b;b.onerror=b.onload=b.onabort=function(){delete e[f]};google.vel&&google.vel.lu&&google.vel.lu(a);b.src=a;google.li=f+1}};google.logUrl=function(a,b,d,c,g){var e=\\\"\\\",f=google.ls||\\\"\\\";d||-1!=b.search(\\\"&ei=\\\")||(e=\\\"&ei=\\\"+google.getEI(c),-1==b.search(\\\"&lei=\\\")&&(c=google.getLEI(c))&&(e+=\\\"&lei=\\\"+c));c=\\\"\\\";!d&&google.cshid&&-1==b.search(\\\"&cshid=\\\")&&(c=\\\"&cshid=\\\"+google.cshid);a=d||\\\"/\\\"+(g||\\\"gen_204\\\")+\\\"?atyp=i&ct=\\\"+a+\\\"&cad=\\\"+b+e+f+\\\"&zx=\\\"+google.time()+c;/^http:/i.test(a)&&google.https()&&(google.ml(Error(\\\"a\\\"),!1,{src:a,glmm:1}),a=\\\"\\\");return a};}).call(this);(function(){google.y={};google.x=function(a,b){if(a)var c=a.id;else{do c=Math.random();while(google.y[c])}google.y[c]=[a,b];return!1};google.lm=[];google.plm=function(a){google.lm.push.apply(google.lm,a)};google.lq=[];google.load=function(a,b,c){google.lq.push([[a],b,c])};google.loadAll=function(a,b){google.lq.push([a,b])};}).call(this);google.f={};var a=window.location,b=a.href.indexOf(\\\"#\\\");if(0<=b){var c=a.href.substring(b+1);/(^|&)q=/.test(c)&&-1==c.indexOf(\\\"#\\\")&&a.replace(\\\"/search?\\\"+c.replace(/(^|&)fp=[^&]*/g,\\\"\\\")+\\\"&cad=h\\\")};</script><style>#gbar,#guser{font-size:13px;padding-top:1px !important;}#gbar{height:22px}#guser{padding-bottom:7px !important;text-align:right}.gbh,.gbd{border-top:1px solid #c9d7f1;font-size:1px}.gbh{height:0;position:absolute;top:24px;width:100%}@media all{.gb1{height:22px;margin-right:.5em;vertical-align:top}#gbar{float:left}}a.gb1,a.gb4{text-decoration:underline !important}a.gb1,a.gb4{color:#00c !important}.gbi .gb4{color:#dd8e27 !important}.gbf .gb4{color:#900 !important}\"                                                                                                                                                                                                                                                                                                                                                                                                                                                                                                                                                                                                                                                                                                                                                                                                                                                                                                                                                                                                                                                                                                                                                                                                                                                                                                                                                                                                                                                                                                                                                                                                                                                                                                                                                                                                                                                                                                                                                                                                                                                                                                                                                                                                                                                                                                                                                                                                                                                                                                                                                                                                                                                                                                                                                                                                                                                                                                                                                                                                                                         \n",
       "[2] \"</style><style>body,td,a,p,.h{font-family:arial,sans-serif}body{margin:0;overflow-y:scroll}#gog{padding:3px 8px 0}td{line-height:.8em}.gac_m td{line-height:17px}form{margin-bottom:20px}.h{color:#36c}.q{color:#00c}.ts td{padding:0}.ts{border-collapse:collapse}em{font-weight:bold;font-style:normal}.lst{height:25px;width:496px}.gsfi,.lst{font:18px arial,sans-serif}.gsfs{font:17px arial,sans-serif}.ds{display:inline-box;display:inline-block;margin:3px 0 4px;margin-left:4px}input{font-family:inherit}a.gb1,a.gb2,a.gb3,a.gb4{color:#11c !important}body{background:#fff;color:black}a{color:#11c;text-decoration:none}a:hover,a:active{text-decoration:underline}.fl a{color:#36c}a:visited{color:#551a8b}a.gb1,a.gb4{text-decoration:underline}a.gb3:hover{text-decoration:none}#ghead a.gb2:hover{color:#fff !important}.sblc{padding-top:5px}.sblc a{display:block;margin:2px 0;margin-left:13px;font-size:11px}.lsbb{background:#eee;border:solid 1px;border-color:#ccc #999 #999 #ccc;height:30px}.lsbb{display:block}.ftl,#fll a{display:inline-block;margin:0 12px}.lsb{background:url(/images/nav_logo229.png) 0 -261px repeat-x;border:none;color:#000;cursor:pointer;height:30px;margin:0;outline:0;font:15px arial,sans-serif;vertical-align:top}.lsb:active{background:#ccc}.lst:focus{outline:none}</style><script></script><link href=\\\"/images/branding/product/ico/googleg_lodp.ico\\\" rel=\\\"shortcut icon\\\"></head><body bgcolor=\\\"#fff\\\"><script>(function(){var src='/images/nav_logo229.png';var iesg=false;document.body.onload = function(){window.n && window.n();if (document.images){new Image().src=src;}\"                                                                                                                                                                                                                                                                                                                                                                                                                                                                                                                                                                                                                                                                                                                                                                                                                                                                                                                                                                                                                                                                                                                                                                                                                                                                                                                                                                                                                                                                                                                                                                                                                                                                                                                                                                                                                                                                                                                                                                                                                                                                                                                                                                                                                                                                                                                                                                                                                                                                                                                                                                                                                                                                                                                                                                                                                                                                                                                                                                                                                                                                                                                                                                                                                                                                                                                                                                                                                                                                                                                                                                                                                                                                                                                                                                                                                                                                                                                                                                                                                                                                                                                                                                                                                                                                                                                                                                                                                                                                                                                                                                                                                                                                                                                                                                                                                                                                                                                                                                                                                                                                                                                                                                                                                                                                                                                                                                                                                                                                                                                                                                             \n",
       "[3] \"if (!iesg){document.f&&document.f.q.focus();document.gbqf&&document.gbqf.q.focus();}\"                                                                                                                                                                                                                                                                                                                                                                                                                                                                                                                                                                                                                                                                                                                                                                                                                                                                                                                                                                                                                                                                                                                                                                                                                                                                                                                                                                                                                                                                                                                                                                                                                                                                                                                                                                                                                                                                                                                                                                                                                                                                                                                                                                                                                                                                                                                                                                                                                                                                                                                                                                                                                                                                                                                                                                                                                                                                                                                                                                                                                                                                                                                                                                                                                                                                                                                                                                                                                                                                                                                                                                                                                                                                                                                                                                                                                                                                                                                                                                                                                                                                                                                                                                                                                                                                                                                                                                                                                                                                                                                                                                                                                                                                                                                                                                                                                                                                                                                                                                                                                                                                                                                                                                                                                                                                                                                                                                                                                                                                                                                                                                                                                                                                                                                                                                                                                                                                                                                                                                                                                                                                                                                                                                                                                                                                                                                                                                                                                                                                                                                                                                                                                                                                                                                                                                                                                                                                                                                                                                                                                                                                                                                                          \n",
       "[4] \"}\"                                                                                                                                                                                                                                                                                                                                                                                                                                                                                                                                                                                                                                                                                                                                                                                                                                                                                                                                                                                                                                                                                                                                                                                                                                                                                                                                                                                                                                                                                                                                                                                                                                                                                                                                                                                                                                                                                                                                                                                                                                                                                                                                                                                                                                                                                                                                                                                                                                                                                                                                                                                                                                                                                                                                                                                                                                                                                                                                                                                                                                                                                                                                                                                                                                                                                                                                                                                                                                                                                                                                                                                                                                                                                                                                                                                                                                                                                                                                                                                                                                                                                                                                                                                                                                                                                                                                                                                                                                                                                                                                                                                                                                                                                                                                                                                                                                                                                                                                                                                                                                                                                                                                                                                                                                                                                                                                                                                                                                                                                                                                                                                                                                                                                                                                                                                                                                                                                                                                                                                                                                                                                                                                                                                                                                                                                                                                                                                                                                                                                                                                                                                                                                                                                                                                                                                                                                                                                                                                                                                                                                                                                                                                                                                                                             \n",
       "[5] \"})();</script><div id=\\\"mngb\\\"> <div id=gbar><nobr><b class=gb1>Search</b> <a class=gb1 href=\\\"https://www.google.ca/imghp?hl=en&tab=wi\\\">Images</a> <a class=gb1 href=\\\"https://maps.google.ca/maps?hl=en&tab=wl\\\">Maps</a> <a class=gb1 href=\\\"https://play.google.com/?hl=en&tab=w8\\\">Play</a> <a class=gb1 href=\\\"https://www.youtube.com/?gl=CA&tab=w1\\\">YouTube</a> <a class=gb1 href=\\\"https://news.google.ca/nwshp?hl=en&tab=wn\\\">News</a> <a class=gb1 href=\\\"https://mail.google.com/mail/?tab=wm\\\">Gmail</a> <a class=gb1 href=\\\"https://drive.google.com/?tab=wo\\\">Drive</a> <a class=gb1 style=\\\"text-decoration:none\\\" href=\\\"https://www.google.ca/intl/en/options/\\\"><u>More</u> &raquo;</a></nobr></div><div id=guser width=100%><nobr><span id=gbn class=gbi></span><span id=gbf class=gbf></span><span id=gbe></span><a href=\\\"http://www.google.ca/history/optout?hl=en\\\" class=gb4>Web History</a> | <a  href=\\\"/preferences?hl=en\\\" class=gb4>Settings</a> | <a target=_top id=gb_70 href=\\\"https://accounts.google.com/ServiceLogin?hl=en&passive=true&continue=https://www.google.ca/%3Fgfe_rd%3Dcr%26dcr%3D0%26ei%3Dk-xIWr_DH4mR8QfpjbbYDQ\\\" class=gb4>Sign in</a></nobr></div><div class=gbh style=left:0></div><div class=gbh style=right:0></div> </div><center><br clear=\\\"all\\\" id=\\\"lgpd\\\"><div id=\\\"lga\\\"><div style=\\\"padding:28px 0 3px\\\"><div style=\\\"height:110px;width:276px;background:url(/images/branding/googlelogo/1x/googlelogo_white_background_color_272x92dp.png) no-repeat\\\" title=\\\"Google\\\" align=\\\"left\\\" id=\\\"hplogo\\\" onload=\\\"window.lol&&lol()\\\"><div style=\\\"color:#777;font-size:16px;font-weight:bold;position:relative;top:70px;left:218px\\\" nowrap=\\\"\\\">Canada</div></div></div><br></div><form action=\\\"/search\\\" name=\\\"f\\\"><table cellpadding=\\\"0\\\" cellspacing=\\\"0\\\"><tr valign=\\\"top\\\"><td width=\\\"25%\\\">&nbsp;</td><td align=\\\"center\\\" nowrap=\\\"\\\"><input name=\\\"ie\\\" value=\\\"ISO-8859-1\\\" type=\\\"hidden\\\"><input value=\\\"en-CA\\\" name=\\\"hl\\\" type=\\\"hidden\\\"><input name=\\\"source\\\" type=\\\"hidden\\\" value=\\\"hp\\\"><input name=\\\"biw\\\" type=\\\"hidden\\\"><input name=\\\"bih\\\" type=\\\"hidden\\\"><div class=\\\"ds\\\" style=\\\"height:32px;margin:4px 0\\\"><input style=\\\"color:#000;margin:0;padding:5px 8px 0 6px;vertical-align:top\\\" autocomplete=\\\"off\\\" class=\\\"lst\\\" value=\\\"\\\" title=\\\"Google Search\\\" maxlength=\\\"2048\\\" name=\\\"q\\\" size=\\\"57\\\"></div><br style=\\\"line-height:0\\\"><span class=\\\"ds\\\"><span class=\\\"lsbb\\\"><input class=\\\"lsb\\\" value=\\\"Google Search\\\" name=\\\"btnG\\\" type=\\\"submit\\\"></span></span><span class=\\\"ds\\\"><span class=\\\"lsbb\\\"><input class=\\\"lsb\\\" value=\\\"I'm Feeling Lucky\\\" name=\\\"btnI\\\" onclick=\\\"if(this.form.q.value)this.checked=1; else top.location='/doodles/'\\\" type=\\\"submit\\\"></span></span></td><td class=\\\"fl sblc\\\" align=\\\"left\\\" nowrap=\\\"\\\" width=\\\"25%\\\"><a href=\\\"/advanced_search?hl=en-CA&amp;authuser=0\\\">Advanced search</a><a href=\\\"/language_tools?hl=en-CA&amp;authuser=0\\\">Language tools</a></td></tr></table><input id=\\\"gbv\\\" name=\\\"gbv\\\" type=\\\"hidden\\\" value=\\\"1\\\"></form><div id=\\\"gac_scont\\\"></div><div style=\\\"font-size:83%;min-height:3.5em\\\"><br><div id=\\\"prm\\\"><style>.szppmdbYutt__middle-slot-promo{font-size:small;margin-bottom:32px}.szppmdbYutt__middle-slot-promo a._uFi{display:inline-block;text-decoration:none}.szppmdbYutt__middle-slot-promo img{border:none;margin-right:5px;vertical-align:middle}</style><div class=\\\"szppmdbYutt__middle-slot-promo\\\" data-ved=\\\"0ahUKEwjioIbfs7TYAhUX4GMKHfMjD_MQnIcBCAQ\\\"><a class=\\\"_XIi\\\" href=\\\"https://www.google.com/url?q=https://trends.google.ca/trends/yis/2017/CA%3Fautoplay%3D1%26utm_source%3DHPP%26utm_medium%3Din-product%26utm_campaign%3DYIS-17&amp;source=hpp&amp;id=19004483&amp;ct=3&amp;usg=AFQjCNFq8ml8k2nt9wzhGlQkYG9gQgI6og&amp;sa=X&amp;ved=0ahUKEwjioIbfs7TYAhUX4GMKHfMjD_MQ8IcBCAU\\\" rel=\\\"nofollow\\\">See what the world searched for in 2017</a></div></div><div id=\\\"als\\\"><style>#als{font-size:small;margin-bottom:24px}#_eEe{display:inline-block;line-height:28px;}#_eEe a{padding:0 3px;}._lEe{display:inline-block;margin:0 2px;white-space:nowrap}._PEe{display:inline-block;margin:0 2px}</style><div id=\\\"_eEe\\\">Google offered in: <a href=\\\"https://www.google.ca/setprefs?sig=0_cvh5v9Q2qCUjS0zJxVxYCJY1B3k%3D&amp;hl=fr&amp;source=homepage&amp;sa=X&amp;ved=0ahUKEwjioIbfs7TYAhUX4GMKHfMjD_MQ2ZgBCAc\\\">Français</a> </div></div></div><span id=\\\"footer\\\"><div style=\\\"font-size:10pt\\\"><div style=\\\"margin:19px auto;text-align:center\\\" id=\\\"fll\\\"><a href=\\\"/intl/en/ads/\\\">Advertising Programs</a><a href=\\\"/services/\\\">Business Solutions</a><a href=\\\"https://plus.google.com/108349337900676782287\\\" rel=\\\"publisher\\\">+Google</a><a href=\\\"/intl/en/about.html\\\">About Google</a><a href=\\\"https://www.google.ca/setprefdomain?prefdom=US&amp;sig=__j2Wjt1QDNlmdVhgvS-9m4ndtpXA%3D\\\" id=\\\"fehl\\\">Google.com</a></div></div><p style=\\\"color:#767676;font-size:8pt\\\">&copy; 2017 - <a href=\\\"/intl/en/policies/privacy/\\\">Privacy</a> - <a href=\\\"/intl/en/policies/terms/\\\">Terms</a></p></span></center><script>(function(){window.google.cdo={height:0,width:0};(function(){var a=window.innerWidth,b=window.innerHeight;if(!a||!b){var c=window.document,d=\\\"CSS1Compat\\\"==c.compatMode?c.documentElement:c.body;a=d.clientWidth;b=d.clientHeight}a&&b&&(a!=google.cdo.width||b!=google.cdo.height)&&google.log(\\\"\\\",\\\"\\\",\\\"/client_204?&atyp=i&biw=\\\"+a+\\\"&bih=\\\"+b+\\\"&ei=\\\"+google.kEI);}).call(this);})();</script><div id=\\\"xjsd\\\"></div><div id=\\\"xjsi\\\"><script>(function(){function c(b){window.setTimeout(function(){var a=document.createElement(\\\"script\\\");a.src=b;google.timers&&google.timers.load.t&&google.tick(\\\"load\\\",{gen204:\\\"xjsls\\\",clearcut:31});document.getElementById(\\\"xjsd\\\").appendChild(a)},0)}google.dljp=function(b,a){google.xjsu=b;c(a)};google.dlj=c;}).call(this);(function(){var r=[];google.plm(r);})();if(!google.xjs){window._=window._||{};window._DumpException=window._._DumpException=function(e){throw e};google.dljp('/xjs/_/js/k\\\\x3dxjs.hp.en_US.OrL5iICNijc.O/m\\\\x3dsb_he,d/am\\\\x3dAAg/rt\\\\x3dj/d\\\\x3d1/t\\\\x3dzcms/rs\\\\x3dACT90oFNaqbC9cjc8xLhnsT8QgXiUupE4g','/xjs/_/js/k\\\\x3dxjs.hp.en_US.OrL5iICNijc.O/m\\\\x3dsb_he,d/am\\\\x3dAAg/rt\\\\x3dj/d\\\\x3d1/t\\\\x3dzcms/rs\\\\x3dACT90oFNaqbC9cjc8xLhnsT8QgXiUupE4g');google.xjs=1;}google.pmc={\\\"sb_he\\\":{\\\"agen\\\":true,\\\"cgen\\\":true,\\\"client\\\":\\\"heirloom-hp\\\",\\\"dh\\\":true,\\\"dhqt\\\":true,\\\"ds\\\":\\\"\\\",\\\"ffql\\\":\\\"en\\\",\\\"fl\\\":true,\\\"host\\\":\\\"google.ca\\\",\\\"isbh\\\":28,\\\"jam\\\":0,\\\"jsonp\\\":true,\\\"msgs\\\":{\\\"cibl\\\":\\\"Clear Search\\\",\\\"dym\\\":\\\"Did you mean:\\\",\\\"lcky\\\":\\\"I\\\\u0026#39;m Feeling Lucky\\\",\\\"lml\\\":\\\"Learn more\\\",\\\"oskt\\\":\\\"Input tools\\\",\\\"psrc\\\":\\\"This search was removed from your \\\\u003Ca href=\\\\\\\"/history\\\\\\\"\\\\u003EWeb History\\\\u003C/a\\\\u003E\\\",\\\"psrl\\\":\\\"Remove\\\",\\\"sbit\\\":\\\"Search by image\\\",\\\"srch\\\":\\\"Google Search\\\"},\\\"nds\\\":true,\\\"ovr\\\":{},\\\"pq\\\":\\\"\\\",\\\"refpd\\\":true,\\\"rfs\\\":[],\\\"sbpl\\\":24,\\\"sbpr\\\":24,\\\"scd\\\":10,\\\"sce\\\":5,\\\"stok\\\":\\\"qaVZUUZtEpLOLAqRVUaEjUPHoCw\\\"},\\\"d\\\":{},\\\"YFCs/g\\\":{}};google.x(null,function(){});(function(){var ctx=[]\"\n",
       "[6] \";google.jsc && google.jsc.x(ctx);})();</script></div></body></html>\"                                                                                                                                                                                                                                                                                                                                                                                                                                                                                                                                                                                                                                                                                                                                                                                                                                                                                                                                                                                                                                                                                                                                                                                                                                                                                                                                                                                                                                                                                                                                                                                                                                                                                                                                                                                                                                                                                                                                                                                                                                                                                                                                                                                                                                                                                                                                                                                                                                                                                                                                                                                                                                                                                                                                                                                                                                                                                                                                                                                                                                                                                                                                                                                                                                                                                                                                                                                                                                                                                                                                                                                                                                                                                                                                                                                                                                                                                                                                                                                                                                                                                                                                                                                                                                                                                                                                                                                                                                                                                                                                                                                                                                                                                                                                                                                                                                                                                                                                                                                                                                                                                                                                                                                                                                                                                                                                                                                                                                                                                                                                                                                                                                                                                                                                                                                                                                                                                                                                                                                                                                                                                                                                                                                                                                                                                                                                                                                                                                                                                                                                                                                                                                                                                                                                                                                                                                                                                                                                                                                                                                                                                                                                                           "
      ]
     },
     "metadata": {},
     "output_type": "display_data"
    }
   ],
   "source": [
    "# read from URL\n",
    "con <- url(\"https://google.com\", \"r\")\n",
    "x <- readLines(con)\n",
    "head(x)"
   ]
  },
  {
   "cell_type": "markdown",
   "metadata": {},
   "source": [
    "## The readr Package"
   ]
  },
  {
   "cell_type": "code",
   "execution_count": 19,
   "metadata": {},
   "outputs": [
    {
     "data": {
      "text/html": [
       "<table>\n",
       "<thead><tr><th scope=col>x</th><th scope=col>y</th></tr></thead>\n",
       "<tbody>\n",
       "\t<tr><td>1</td><td>2</td></tr>\n",
       "\t<tr><td>3</td><td>4</td></tr>\n",
       "</tbody>\n",
       "</table>\n"
      ],
      "text/latex": [
       "\\begin{tabular}{r|ll}\n",
       " x & y\\\\\n",
       "\\hline\n",
       "\t 1 & 2\\\\\n",
       "\t 3 & 4\\\\\n",
       "\\end{tabular}\n"
      ],
      "text/markdown": [
       "\n",
       "x | y | \n",
       "|---|---|\n",
       "| 1 | 2 | \n",
       "| 3 | 4 | \n",
       "\n",
       "\n"
      ],
      "text/plain": [
       "  x y\n",
       "1 1 2\n",
       "2 3 4"
      ]
     },
     "metadata": {},
     "output_type": "display_data"
    },
    {
     "data": {
      "text/html": [
       "<table>\n",
       "<thead><tr><th scope=col>sepal.length</th><th scope=col>sepal.width</th><th scope=col>petal.length</th><th scope=col>petal.width</th><th scope=col>variety</th></tr></thead>\n",
       "<tbody>\n",
       "\t<tr><td>5.1   </td><td>3.5   </td><td>1.4   </td><td>0.2   </td><td>Setosa</td></tr>\n",
       "\t<tr><td>4.9   </td><td>3.0   </td><td>1.4   </td><td>0.2   </td><td>Setosa</td></tr>\n",
       "\t<tr><td>4.7   </td><td>3.2   </td><td>1.3   </td><td>0.2   </td><td>Setosa</td></tr>\n",
       "\t<tr><td>4.6   </td><td>3.1   </td><td>1.5   </td><td>0.2   </td><td>Setosa</td></tr>\n",
       "\t<tr><td>5.0   </td><td>3.6   </td><td>1.4   </td><td>0.2   </td><td>Setosa</td></tr>\n",
       "\t<tr><td>5.4   </td><td>3.9   </td><td>1.7   </td><td>0.4   </td><td>Setosa</td></tr>\n",
       "\t<tr><td>4.6   </td><td>3.4   </td><td>1.4   </td><td>0.3   </td><td>Setosa</td></tr>\n",
       "\t<tr><td>5.0   </td><td>3.4   </td><td>1.5   </td><td>0.2   </td><td>Setosa</td></tr>\n",
       "\t<tr><td>4.4   </td><td>2.9   </td><td>1.4   </td><td>0.2   </td><td>Setosa</td></tr>\n",
       "\t<tr><td>4.9   </td><td>3.1   </td><td>1.5   </td><td>0.1   </td><td>Setosa</td></tr>\n",
       "\t<tr><td>5.4   </td><td>3.7   </td><td>1.5   </td><td>0.2   </td><td>Setosa</td></tr>\n",
       "\t<tr><td>4.8   </td><td>3.4   </td><td>1.6   </td><td>0.2   </td><td>Setosa</td></tr>\n",
       "\t<tr><td>4.8   </td><td>3.0   </td><td>1.4   </td><td>0.1   </td><td>Setosa</td></tr>\n",
       "\t<tr><td>4.3   </td><td>3.0   </td><td>1.1   </td><td>0.1   </td><td>Setosa</td></tr>\n",
       "\t<tr><td>5.8   </td><td>4.0   </td><td>1.2   </td><td>0.2   </td><td>Setosa</td></tr>\n",
       "\t<tr><td>5.7   </td><td>4.4   </td><td>1.5   </td><td>0.4   </td><td>Setosa</td></tr>\n",
       "\t<tr><td>5.4   </td><td>3.9   </td><td>1.3   </td><td>0.4   </td><td>Setosa</td></tr>\n",
       "\t<tr><td>5.1   </td><td>3.5   </td><td>1.4   </td><td>0.3   </td><td>Setosa</td></tr>\n",
       "\t<tr><td>5.7   </td><td>3.8   </td><td>1.7   </td><td>0.3   </td><td>Setosa</td></tr>\n",
       "\t<tr><td>5.1   </td><td>3.8   </td><td>1.5   </td><td>0.3   </td><td>Setosa</td></tr>\n",
       "\t<tr><td>5.4   </td><td>3.4   </td><td>1.7   </td><td>0.2   </td><td>Setosa</td></tr>\n",
       "\t<tr><td>5.1   </td><td>3.7   </td><td>1.5   </td><td>0.4   </td><td>Setosa</td></tr>\n",
       "\t<tr><td>4.6   </td><td>3.6   </td><td>1.0   </td><td>0.2   </td><td>Setosa</td></tr>\n",
       "\t<tr><td>5.1   </td><td>3.3   </td><td>1.7   </td><td>0.5   </td><td>Setosa</td></tr>\n",
       "\t<tr><td>4.8   </td><td>3.4   </td><td>1.9   </td><td>0.2   </td><td>Setosa</td></tr>\n",
       "\t<tr><td>5.0   </td><td>3.0   </td><td>1.6   </td><td>0.2   </td><td>Setosa</td></tr>\n",
       "\t<tr><td>5.0   </td><td>3.4   </td><td>1.6   </td><td>0.4   </td><td>Setosa</td></tr>\n",
       "\t<tr><td>5.2   </td><td>3.5   </td><td>1.5   </td><td>0.2   </td><td>Setosa</td></tr>\n",
       "\t<tr><td>5.2   </td><td>3.4   </td><td>1.4   </td><td>0.2   </td><td>Setosa</td></tr>\n",
       "\t<tr><td>4.7   </td><td>3.2   </td><td>1.6   </td><td>0.2   </td><td>Setosa</td></tr>\n",
       "\t<tr><td>...</td><td>...</td><td>...</td><td>...</td><td>...</td></tr>\n",
       "\t<tr><td>6.9      </td><td>3.2      </td><td>5.7      </td><td>2.3      </td><td>Virginica</td></tr>\n",
       "\t<tr><td>5.6      </td><td>2.8      </td><td>4.9      </td><td>2.0      </td><td>Virginica</td></tr>\n",
       "\t<tr><td>7.7      </td><td>2.8      </td><td>6.7      </td><td>2.0      </td><td>Virginica</td></tr>\n",
       "\t<tr><td>6.3      </td><td>2.7      </td><td>4.9      </td><td>1.8      </td><td>Virginica</td></tr>\n",
       "\t<tr><td>6.7      </td><td>3.3      </td><td>5.7      </td><td>2.1      </td><td>Virginica</td></tr>\n",
       "\t<tr><td>7.2      </td><td>3.2      </td><td>6.0      </td><td>1.8      </td><td>Virginica</td></tr>\n",
       "\t<tr><td>6.2      </td><td>2.8      </td><td>4.8      </td><td>1.8      </td><td>Virginica</td></tr>\n",
       "\t<tr><td>6.1      </td><td>3.0      </td><td>4.9      </td><td>1.8      </td><td>Virginica</td></tr>\n",
       "\t<tr><td>6.4      </td><td>2.8      </td><td>5.6      </td><td>2.1      </td><td>Virginica</td></tr>\n",
       "\t<tr><td>7.2      </td><td>3.0      </td><td>5.8      </td><td>1.6      </td><td>Virginica</td></tr>\n",
       "\t<tr><td>7.4      </td><td>2.8      </td><td>6.1      </td><td>1.9      </td><td>Virginica</td></tr>\n",
       "\t<tr><td>7.9      </td><td>3.8      </td><td>6.4      </td><td>2.0      </td><td>Virginica</td></tr>\n",
       "\t<tr><td>6.4      </td><td>2.8      </td><td>5.6      </td><td>2.2      </td><td>Virginica</td></tr>\n",
       "\t<tr><td>6.3      </td><td>2.8      </td><td>5.1      </td><td>1.5      </td><td>Virginica</td></tr>\n",
       "\t<tr><td>6.1      </td><td>2.6      </td><td>5.6      </td><td>1.4      </td><td>Virginica</td></tr>\n",
       "\t<tr><td>7.7      </td><td>3.0      </td><td>6.1      </td><td>2.3      </td><td>Virginica</td></tr>\n",
       "\t<tr><td>6.3      </td><td>3.4      </td><td>5.6      </td><td>2.4      </td><td>Virginica</td></tr>\n",
       "\t<tr><td>6.4      </td><td>3.1      </td><td>5.5      </td><td>1.8      </td><td>Virginica</td></tr>\n",
       "\t<tr><td>6.0      </td><td>3.0      </td><td>4.8      </td><td>1.8      </td><td>Virginica</td></tr>\n",
       "\t<tr><td>6.9      </td><td>3.1      </td><td>5.4      </td><td>2.1      </td><td>Virginica</td></tr>\n",
       "\t<tr><td>6.7      </td><td>3.1      </td><td>5.6      </td><td>2.4      </td><td>Virginica</td></tr>\n",
       "\t<tr><td>6.9      </td><td>3.1      </td><td>5.1      </td><td>2.3      </td><td>Virginica</td></tr>\n",
       "\t<tr><td>5.8      </td><td>2.7      </td><td>5.1      </td><td>1.9      </td><td>Virginica</td></tr>\n",
       "\t<tr><td>6.8      </td><td>3.2      </td><td>5.9      </td><td>2.3      </td><td>Virginica</td></tr>\n",
       "\t<tr><td>6.7      </td><td>3.3      </td><td>5.7      </td><td>2.5      </td><td>Virginica</td></tr>\n",
       "\t<tr><td>6.7      </td><td>3.0      </td><td>5.2      </td><td>2.3      </td><td>Virginica</td></tr>\n",
       "\t<tr><td>6.3      </td><td>2.5      </td><td>5.0      </td><td>1.9      </td><td>Virginica</td></tr>\n",
       "\t<tr><td>6.5      </td><td>3.0      </td><td>5.2      </td><td>2.0      </td><td>Virginica</td></tr>\n",
       "\t<tr><td>6.2      </td><td>3.4      </td><td>5.4      </td><td>2.3      </td><td>Virginica</td></tr>\n",
       "\t<tr><td>5.9      </td><td>3.0      </td><td>5.1      </td><td>1.8      </td><td>Virginica</td></tr>\n",
       "</tbody>\n",
       "</table>\n"
      ],
      "text/latex": [
       "\\begin{tabular}{r|lllll}\n",
       " sepal.length & sepal.width & petal.length & petal.width & variety\\\\\n",
       "\\hline\n",
       "\t 5.1    & 3.5    & 1.4    & 0.2    & Setosa\\\\\n",
       "\t 4.9    & 3.0    & 1.4    & 0.2    & Setosa\\\\\n",
       "\t 4.7    & 3.2    & 1.3    & 0.2    & Setosa\\\\\n",
       "\t 4.6    & 3.1    & 1.5    & 0.2    & Setosa\\\\\n",
       "\t 5.0    & 3.6    & 1.4    & 0.2    & Setosa\\\\\n",
       "\t 5.4    & 3.9    & 1.7    & 0.4    & Setosa\\\\\n",
       "\t 4.6    & 3.4    & 1.4    & 0.3    & Setosa\\\\\n",
       "\t 5.0    & 3.4    & 1.5    & 0.2    & Setosa\\\\\n",
       "\t 4.4    & 2.9    & 1.4    & 0.2    & Setosa\\\\\n",
       "\t 4.9    & 3.1    & 1.5    & 0.1    & Setosa\\\\\n",
       "\t 5.4    & 3.7    & 1.5    & 0.2    & Setosa\\\\\n",
       "\t 4.8    & 3.4    & 1.6    & 0.2    & Setosa\\\\\n",
       "\t 4.8    & 3.0    & 1.4    & 0.1    & Setosa\\\\\n",
       "\t 4.3    & 3.0    & 1.1    & 0.1    & Setosa\\\\\n",
       "\t 5.8    & 4.0    & 1.2    & 0.2    & Setosa\\\\\n",
       "\t 5.7    & 4.4    & 1.5    & 0.4    & Setosa\\\\\n",
       "\t 5.4    & 3.9    & 1.3    & 0.4    & Setosa\\\\\n",
       "\t 5.1    & 3.5    & 1.4    & 0.3    & Setosa\\\\\n",
       "\t 5.7    & 3.8    & 1.7    & 0.3    & Setosa\\\\\n",
       "\t 5.1    & 3.8    & 1.5    & 0.3    & Setosa\\\\\n",
       "\t 5.4    & 3.4    & 1.7    & 0.2    & Setosa\\\\\n",
       "\t 5.1    & 3.7    & 1.5    & 0.4    & Setosa\\\\\n",
       "\t 4.6    & 3.6    & 1.0    & 0.2    & Setosa\\\\\n",
       "\t 5.1    & 3.3    & 1.7    & 0.5    & Setosa\\\\\n",
       "\t 4.8    & 3.4    & 1.9    & 0.2    & Setosa\\\\\n",
       "\t 5.0    & 3.0    & 1.6    & 0.2    & Setosa\\\\\n",
       "\t 5.0    & 3.4    & 1.6    & 0.4    & Setosa\\\\\n",
       "\t 5.2    & 3.5    & 1.5    & 0.2    & Setosa\\\\\n",
       "\t 5.2    & 3.4    & 1.4    & 0.2    & Setosa\\\\\n",
       "\t 4.7    & 3.2    & 1.6    & 0.2    & Setosa\\\\\n",
       "\t ... & ... & ... & ... & ...\\\\\n",
       "\t 6.9       & 3.2       & 5.7       & 2.3       & Virginica\\\\\n",
       "\t 5.6       & 2.8       & 4.9       & 2.0       & Virginica\\\\\n",
       "\t 7.7       & 2.8       & 6.7       & 2.0       & Virginica\\\\\n",
       "\t 6.3       & 2.7       & 4.9       & 1.8       & Virginica\\\\\n",
       "\t 6.7       & 3.3       & 5.7       & 2.1       & Virginica\\\\\n",
       "\t 7.2       & 3.2       & 6.0       & 1.8       & Virginica\\\\\n",
       "\t 6.2       & 2.8       & 4.8       & 1.8       & Virginica\\\\\n",
       "\t 6.1       & 3.0       & 4.9       & 1.8       & Virginica\\\\\n",
       "\t 6.4       & 2.8       & 5.6       & 2.1       & Virginica\\\\\n",
       "\t 7.2       & 3.0       & 5.8       & 1.6       & Virginica\\\\\n",
       "\t 7.4       & 2.8       & 6.1       & 1.9       & Virginica\\\\\n",
       "\t 7.9       & 3.8       & 6.4       & 2.0       & Virginica\\\\\n",
       "\t 6.4       & 2.8       & 5.6       & 2.2       & Virginica\\\\\n",
       "\t 6.3       & 2.8       & 5.1       & 1.5       & Virginica\\\\\n",
       "\t 6.1       & 2.6       & 5.6       & 1.4       & Virginica\\\\\n",
       "\t 7.7       & 3.0       & 6.1       & 2.3       & Virginica\\\\\n",
       "\t 6.3       & 3.4       & 5.6       & 2.4       & Virginica\\\\\n",
       "\t 6.4       & 3.1       & 5.5       & 1.8       & Virginica\\\\\n",
       "\t 6.0       & 3.0       & 4.8       & 1.8       & Virginica\\\\\n",
       "\t 6.9       & 3.1       & 5.4       & 2.1       & Virginica\\\\\n",
       "\t 6.7       & 3.1       & 5.6       & 2.4       & Virginica\\\\\n",
       "\t 6.9       & 3.1       & 5.1       & 2.3       & Virginica\\\\\n",
       "\t 5.8       & 2.7       & 5.1       & 1.9       & Virginica\\\\\n",
       "\t 6.8       & 3.2       & 5.9       & 2.3       & Virginica\\\\\n",
       "\t 6.7       & 3.3       & 5.7       & 2.5       & Virginica\\\\\n",
       "\t 6.7       & 3.0       & 5.2       & 2.3       & Virginica\\\\\n",
       "\t 6.3       & 2.5       & 5.0       & 1.9       & Virginica\\\\\n",
       "\t 6.5       & 3.0       & 5.2       & 2.0       & Virginica\\\\\n",
       "\t 6.2       & 3.4       & 5.4       & 2.3       & Virginica\\\\\n",
       "\t 5.9       & 3.0       & 5.1       & 1.8       & Virginica\\\\\n",
       "\\end{tabular}\n"
      ],
      "text/markdown": [
       "\n",
       "sepal.length | sepal.width | petal.length | petal.width | variety | \n",
       "|---|---|---|---|---|---|---|---|---|---|---|---|---|---|---|---|---|---|---|---|---|---|---|---|---|---|---|---|---|---|---|---|---|---|---|---|---|---|---|---|---|---|---|---|---|---|---|---|---|---|---|---|---|---|---|---|---|---|---|---|---|\n",
       "| 5.1    | 3.5    | 1.4    | 0.2    | Setosa | \n",
       "| 4.9    | 3.0    | 1.4    | 0.2    | Setosa | \n",
       "| 4.7    | 3.2    | 1.3    | 0.2    | Setosa | \n",
       "| 4.6    | 3.1    | 1.5    | 0.2    | Setosa | \n",
       "| 5.0    | 3.6    | 1.4    | 0.2    | Setosa | \n",
       "| 5.4    | 3.9    | 1.7    | 0.4    | Setosa | \n",
       "| 4.6    | 3.4    | 1.4    | 0.3    | Setosa | \n",
       "| 5.0    | 3.4    | 1.5    | 0.2    | Setosa | \n",
       "| 4.4    | 2.9    | 1.4    | 0.2    | Setosa | \n",
       "| 4.9    | 3.1    | 1.5    | 0.1    | Setosa | \n",
       "| 5.4    | 3.7    | 1.5    | 0.2    | Setosa | \n",
       "| 4.8    | 3.4    | 1.6    | 0.2    | Setosa | \n",
       "| 4.8    | 3.0    | 1.4    | 0.1    | Setosa | \n",
       "| 4.3    | 3.0    | 1.1    | 0.1    | Setosa | \n",
       "| 5.8    | 4.0    | 1.2    | 0.2    | Setosa | \n",
       "| 5.7    | 4.4    | 1.5    | 0.4    | Setosa | \n",
       "| 5.4    | 3.9    | 1.3    | 0.4    | Setosa | \n",
       "| 5.1    | 3.5    | 1.4    | 0.3    | Setosa | \n",
       "| 5.7    | 3.8    | 1.7    | 0.3    | Setosa | \n",
       "| 5.1    | 3.8    | 1.5    | 0.3    | Setosa | \n",
       "| 5.4    | 3.4    | 1.7    | 0.2    | Setosa | \n",
       "| 5.1    | 3.7    | 1.5    | 0.4    | Setosa | \n",
       "| 4.6    | 3.6    | 1.0    | 0.2    | Setosa | \n",
       "| 5.1    | 3.3    | 1.7    | 0.5    | Setosa | \n",
       "| 4.8    | 3.4    | 1.9    | 0.2    | Setosa | \n",
       "| 5.0    | 3.0    | 1.6    | 0.2    | Setosa | \n",
       "| 5.0    | 3.4    | 1.6    | 0.4    | Setosa | \n",
       "| 5.2    | 3.5    | 1.5    | 0.2    | Setosa | \n",
       "| 5.2    | 3.4    | 1.4    | 0.2    | Setosa | \n",
       "| 4.7    | 3.2    | 1.6    | 0.2    | Setosa | \n",
       "| ... | ... | ... | ... | ... | \n",
       "| 6.9       | 3.2       | 5.7       | 2.3       | Virginica | \n",
       "| 5.6       | 2.8       | 4.9       | 2.0       | Virginica | \n",
       "| 7.7       | 2.8       | 6.7       | 2.0       | Virginica | \n",
       "| 6.3       | 2.7       | 4.9       | 1.8       | Virginica | \n",
       "| 6.7       | 3.3       | 5.7       | 2.1       | Virginica | \n",
       "| 7.2       | 3.2       | 6.0       | 1.8       | Virginica | \n",
       "| 6.2       | 2.8       | 4.8       | 1.8       | Virginica | \n",
       "| 6.1       | 3.0       | 4.9       | 1.8       | Virginica | \n",
       "| 6.4       | 2.8       | 5.6       | 2.1       | Virginica | \n",
       "| 7.2       | 3.0       | 5.8       | 1.6       | Virginica | \n",
       "| 7.4       | 2.8       | 6.1       | 1.9       | Virginica | \n",
       "| 7.9       | 3.8       | 6.4       | 2.0       | Virginica | \n",
       "| 6.4       | 2.8       | 5.6       | 2.2       | Virginica | \n",
       "| 6.3       | 2.8       | 5.1       | 1.5       | Virginica | \n",
       "| 6.1       | 2.6       | 5.6       | 1.4       | Virginica | \n",
       "| 7.7       | 3.0       | 6.1       | 2.3       | Virginica | \n",
       "| 6.3       | 3.4       | 5.6       | 2.4       | Virginica | \n",
       "| 6.4       | 3.1       | 5.5       | 1.8       | Virginica | \n",
       "| 6.0       | 3.0       | 4.8       | 1.8       | Virginica | \n",
       "| 6.9       | 3.1       | 5.4       | 2.1       | Virginica | \n",
       "| 6.7       | 3.1       | 5.6       | 2.4       | Virginica | \n",
       "| 6.9       | 3.1       | 5.1       | 2.3       | Virginica | \n",
       "| 5.8       | 2.7       | 5.1       | 1.9       | Virginica | \n",
       "| 6.8       | 3.2       | 5.9       | 2.3       | Virginica | \n",
       "| 6.7       | 3.3       | 5.7       | 2.5       | Virginica | \n",
       "| 6.7       | 3.0       | 5.2       | 2.3       | Virginica | \n",
       "| 6.3       | 2.5       | 5.0       | 1.9       | Virginica | \n",
       "| 6.5       | 3.0       | 5.2       | 2.0       | Virginica | \n",
       "| 6.2       | 3.4       | 5.4       | 2.3       | Virginica | \n",
       "| 5.9       | 3.0       | 5.1       | 1.8       | Virginica | \n",
       "\n",
       "\n"
      ],
      "text/plain": [
       "    sepal.length sepal.width petal.length petal.width variety  \n",
       "1   5.1          3.5         1.4          0.2         Setosa   \n",
       "2   4.9          3.0         1.4          0.2         Setosa   \n",
       "3   4.7          3.2         1.3          0.2         Setosa   \n",
       "4   4.6          3.1         1.5          0.2         Setosa   \n",
       "5   5.0          3.6         1.4          0.2         Setosa   \n",
       "6   5.4          3.9         1.7          0.4         Setosa   \n",
       "7   4.6          3.4         1.4          0.3         Setosa   \n",
       "8   5.0          3.4         1.5          0.2         Setosa   \n",
       "9   4.4          2.9         1.4          0.2         Setosa   \n",
       "10  4.9          3.1         1.5          0.1         Setosa   \n",
       "11  5.4          3.7         1.5          0.2         Setosa   \n",
       "12  4.8          3.4         1.6          0.2         Setosa   \n",
       "13  4.8          3.0         1.4          0.1         Setosa   \n",
       "14  4.3          3.0         1.1          0.1         Setosa   \n",
       "15  5.8          4.0         1.2          0.2         Setosa   \n",
       "16  5.7          4.4         1.5          0.4         Setosa   \n",
       "17  5.4          3.9         1.3          0.4         Setosa   \n",
       "18  5.1          3.5         1.4          0.3         Setosa   \n",
       "19  5.7          3.8         1.7          0.3         Setosa   \n",
       "20  5.1          3.8         1.5          0.3         Setosa   \n",
       "21  5.4          3.4         1.7          0.2         Setosa   \n",
       "22  5.1          3.7         1.5          0.4         Setosa   \n",
       "23  4.6          3.6         1.0          0.2         Setosa   \n",
       "24  5.1          3.3         1.7          0.5         Setosa   \n",
       "25  4.8          3.4         1.9          0.2         Setosa   \n",
       "26  5.0          3.0         1.6          0.2         Setosa   \n",
       "27  5.0          3.4         1.6          0.4         Setosa   \n",
       "28  5.2          3.5         1.5          0.2         Setosa   \n",
       "29  5.2          3.4         1.4          0.2         Setosa   \n",
       "30  4.7          3.2         1.6          0.2         Setosa   \n",
       "... ...          ...         ...          ...         ...      \n",
       "121 6.9          3.2         5.7          2.3         Virginica\n",
       "122 5.6          2.8         4.9          2.0         Virginica\n",
       "123 7.7          2.8         6.7          2.0         Virginica\n",
       "124 6.3          2.7         4.9          1.8         Virginica\n",
       "125 6.7          3.3         5.7          2.1         Virginica\n",
       "126 7.2          3.2         6.0          1.8         Virginica\n",
       "127 6.2          2.8         4.8          1.8         Virginica\n",
       "128 6.1          3.0         4.9          1.8         Virginica\n",
       "129 6.4          2.8         5.6          2.1         Virginica\n",
       "130 7.2          3.0         5.8          1.6         Virginica\n",
       "131 7.4          2.8         6.1          1.9         Virginica\n",
       "132 7.9          3.8         6.4          2.0         Virginica\n",
       "133 6.4          2.8         5.6          2.2         Virginica\n",
       "134 6.3          2.8         5.1          1.5         Virginica\n",
       "135 6.1          2.6         5.6          1.4         Virginica\n",
       "136 7.7          3.0         6.1          2.3         Virginica\n",
       "137 6.3          3.4         5.6          2.4         Virginica\n",
       "138 6.4          3.1         5.5          1.8         Virginica\n",
       "139 6.0          3.0         4.8          1.8         Virginica\n",
       "140 6.9          3.1         5.4          2.1         Virginica\n",
       "141 6.7          3.1         5.6          2.4         Virginica\n",
       "142 6.9          3.1         5.1          2.3         Virginica\n",
       "143 5.8          2.7         5.1          1.9         Virginica\n",
       "144 6.8          3.2         5.9          2.3         Virginica\n",
       "145 6.7          3.3         5.7          2.5         Virginica\n",
       "146 6.7          3.0         5.2          2.3         Virginica\n",
       "147 6.3          2.5         5.0          1.9         Virginica\n",
       "148 6.5          3.0         5.2          2.0         Virginica\n",
       "149 6.2          3.4         5.4          2.3         Virginica\n",
       "150 5.9          3.0         5.1          1.8         Virginica"
      ]
     },
     "metadata": {},
     "output_type": "display_data"
    }
   ],
   "source": [
    "# The readr Package\n",
    "# install.packages(\"readr\")\n",
    "# The key problem that readr solves is parsing\n",
    "# https://cran.r-project.org/web/packages/readr/vignettes/readr.html\n",
    "\n",
    "read_csv(\"x,y\\n1,2\\n3,4\")\n",
    "\n",
    "read_csv(\"data/iris.csv\", col_types = list(\n",
    "  sepal.length = col_double(),\n",
    "  sepal.width = col_double(),\n",
    "  petal.length = col_double(),\n",
    "  petal.width = col_double(),\n",
    "  variety = col_character()\n",
    "))"
   ]
  },
  {
   "cell_type": "markdown",
   "metadata": {},
   "source": [
    "## The plot Function"
   ]
  },
  {
   "cell_type": "code",
   "execution_count": 14,
   "metadata": {},
   "outputs": [
    {
     "data": {
      "image/png": "[encoded data removed]",
      "text/plain": [
       "plot without title"
      ]
     },
     "metadata": {},
     "output_type": "display_data"
    }
   ],
   "source": [
    "# The plot function\n",
    "plot(iris$Sepal.Length,iris$Sepal.Width)"
   ]
  },
  {
   "cell_type": "markdown",
   "metadata": {
    "collapsed": true
   },
   "source": [
    "© 2018 Peter Thorsteinson\n",
    "\n",
    "This work is licensed under the [Creative Commons Attribution-NonCommercial-NoDerivs 3.0](https://creativecommons.org/licenses/by-nc-nd/3.0/us/).\n",
    "\n",
    "Bitcoin: 1D4d7Bhxj5QWcgbQyZCowTMEi36CNYcmQf"
   ]
  }
 ],
 "metadata": {
  "kernelspec": {
   "display_name": "R",
   "language": "R",
   "name": "ir"
  },
  "language_info": {
   "codemirror_mode": "r",
   "file_extension": ".r",
   "mimetype": "text/x-r-source",
   "name": "R",
   "pygments_lexer": "r",
   "version": "3.4.2"
  }
 },
 "nbformat": 4,
 "nbformat_minor": 2
}
