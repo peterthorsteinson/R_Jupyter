{
 "cells": [
  {
   "cell_type": "markdown",
   "metadata": {},
   "source": [
    "# 35 Bayesian Networks\n",
    "\n",
    "http://www.ucdenver.edu/academics/colleges/PublicHealth/Academics/departments/Biostatistics/WorkingGroups/Documents/Networks%20Presentation%20With%20Sachs%20-%20032317.pdf\n",
    "\n",
    "http://hameddaily.blogspot.ca/2015/02/bayesian-network-in-r-introduction.html\n",
    "\n",
    "install.packages(\"bnlearn\", dependencies=TRUE)\n"
   ]
  },
  {
   "cell_type": "code",
   "execution_count": 9,
   "metadata": {},
   "outputs": [
    {
     "data": {
      "image/png": "[encoded data removed]",
      "text/plain": [
       "plot without title"
      ]
     },
     "metadata": {},
     "output_type": "display_data"
    }
   ],
   "source": [
    "# See: http://hameddaily.blogspot.ca/2015/02/bayesian-network-in-r-introduction.html\n",
    "\n",
    "library(bnlearn)\n",
    "data(coronary)\n",
    "bn_df <- data.frame(coronary)\n",
    "res <- hc(bn_df)\n",
    "plot(res)"
   ]
  },
  {
   "cell_type": "code",
   "execution_count": 12,
   "metadata": {},
   "outputs": [],
   "source": [
    "# Remove the link between M.Work and Family\n",
    "\n",
    "res$arcs <- res$arcs[-which((res$arcs[,'from'] == \"M..Work\" & res$arcs[,'to'] == \"Family\")),]"
   ]
  },
  {
   "cell_type": "code",
   "execution_count": 14,
   "metadata": {},
   "outputs": [],
   "source": [
    "# find out the conditional probability tables (CPTs) at each node\n",
    "# The bn.fit function runs the EM algorithm to learn CPT for different nodes\n",
    "\n",
    "fittedbn <- bn.fit(res, data = bn_df)"
   ]
  },
  {
   "cell_type": "code",
   "execution_count": 15,
   "metadata": {},
   "outputs": [
    {
     "name": "stdout",
     "output_type": "stream",
     "text": [
      "\n",
      "  Parameters of node Proteins (multinomial distribution)\n",
      "\n",
      "Conditional probability table:\n",
      " \n",
      ", , M..Work = no\n",
      "\n",
      "        Smoking\n",
      "Proteins        no       yes\n",
      "      <3 0.6685824 0.6167763\n",
      "      >3 0.3314176 0.3832237\n",
      "\n",
      ", , M..Work = yes\n",
      "\n",
      "        Smoking\n",
      "Proteins        no       yes\n",
      "      <3 0.5671982 0.3235294\n",
      "      >3 0.4328018 0.6764706\n",
      "\n"
     ]
    }
   ],
   "source": [
    "print(fittedbn$Proteins)"
   ]
  },
  {
   "cell_type": "code",
   "execution_count": 16,
   "metadata": {},
   "outputs": [
    {
     "data": {
      "text/html": [
       "0.607718246534283"
      ],
      "text/latex": [
       "0.607718246534283"
      ],
      "text/markdown": [
       "0.607718246534283"
      ],
      "text/plain": [
       "[1] 0.6077182"
      ]
     },
     "metadata": {},
     "output_type": "display_data"
    }
   ],
   "source": [
    "#  start inferring from the network\n",
    "\n",
    "cpquery(fittedbn, event = (Proteins==\"<3\"), evidence = ( Smoking==\"no\") )"
   ]
  },
  {
   "cell_type": "code",
   "execution_count": 17,
   "metadata": {},
   "outputs": [
    {
     "data": {
      "text/html": [
       "0.612848689771767"
      ],
      "text/latex": [
       "0.612848689771767"
      ],
      "text/markdown": [
       "0.612848689771767"
      ],
      "text/plain": [
       "[1] 0.6128487"
      ]
     },
     "metadata": {},
     "output_type": "display_data"
    }
   ],
   "source": [
    "# What is the chance that a non-smoker with pressure greater than 140 has a Proteins level less than 3? \n",
    "\n",
    "cpquery(fittedbn, event = (Proteins==\"<3\"), evidence = ( Smoking==\"no\" & Pressure==\">140\" ) )"
   ]
  },
  {
   "cell_type": "code",
   "execution_count": 18,
   "metadata": {},
   "outputs": [
    {
     "data": {
      "text/html": [
       "0.404019404019404"
      ],
      "text/latex": [
       "0.404019404019404"
      ],
      "text/markdown": [
       "0.404019404019404"
      ],
      "text/plain": [
       "[1] 0.4040194"
      ]
     },
     "metadata": {},
     "output_type": "display_data"
    }
   ],
   "source": [
    "# if a person’s Proteins level is greater than 3, then what is the chance that his or her Pressure level is greater than 140? \n",
    "\n",
    "cpquery(fittedbn, event = (Pressure==\">140\"), evidence = ( Proteins==\"<3\" ) )"
   ]
  },
  {
   "cell_type": "code",
   "execution_count": null,
   "metadata": {
    "collapsed": true
   },
   "outputs": [],
   "source": []
  }
 ],
 "metadata": {
  "kernelspec": {
   "display_name": "R",
   "language": "R",
   "name": "ir"
  },
  "language_info": {
   "codemirror_mode": "r",
   "file_extension": ".r",
   "mimetype": "text/x-r-source",
   "name": "R",
   "pygments_lexer": "r",
   "version": "3.4.2"
  }
 },
 "nbformat": 4,
 "nbformat_minor": 2
}
