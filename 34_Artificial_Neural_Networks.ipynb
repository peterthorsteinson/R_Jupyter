{
 "cells": [
  {
   "cell_type": "markdown",
   "metadata": {
    "collapsed": true
   },
   "source": [
    "# 34 Artificial Neural Networks\n",
    "\n",
    "[Wikipedia: Artificial Neural Network](https://en.wikipedia.org/wiki/Artificial_neural_network)  \n",
    "[Fitting a neural network in R: neuralnet package](https://www.r-bloggers.com/fitting-a-neural-network-in-r-neuralnet-package)  \n",
    "[Creating & Visualizing Neural Network in R](https://www.analyticsvidhya.com/blog/2017/09/creating-visualizing-neural-network-in-r)  "
   ]
  }
 ],
 "metadata": {
  "kernelspec": {
   "display_name": "R",
   "language": "R",
   "name": "ir"
  },
  "language_info": {
   "codemirror_mode": "r",
   "file_extension": ".r",
   "mimetype": "text/x-r-source",
   "name": "R",
   "pygments_lexer": "r",
   "version": "3.4.2"
  }
 },
 "nbformat": 4,
 "nbformat_minor": 2
}
