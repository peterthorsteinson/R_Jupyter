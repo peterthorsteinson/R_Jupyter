{
 "cells": [
  {
   "cell_type": "markdown",
   "metadata": {
    "collapsed": true
   },
   "source": [
    "# 22 Logistic Regression\n",
    "\n",
    "Logistic regression (aka logit regression or logit) is a regression model with the dependent variable that is categorical.\n",
    "\n",
    "Example: How does the number of hours of study effects the probability of passing an exam?\n",
    "\n",
    "[Wikipedia: Logistic regression](https://en.wikipedia.org/wiki/Logistic_regression)  \n",
    "[Cookbook for R - Logistic regression by Winston Chang](http://www.cookbook-r.com/Statistical_analysis/Logistic_regression)  "
   ]
  },
  {
   "cell_type": "code",
   "execution_count": 16,
   "metadata": {},
   "outputs": [
    {
     "data": {
      "text/html": [
       "<table>\n",
       "<thead><tr><th scope=col>hours</th><th scope=col>pass</th></tr></thead>\n",
       "<tbody>\n",
       "\t<tr><td>0.50</td><td>0   </td></tr>\n",
       "\t<tr><td>0.75</td><td>0   </td></tr>\n",
       "\t<tr><td>1.00</td><td>0   </td></tr>\n",
       "\t<tr><td>1.25</td><td>0   </td></tr>\n",
       "\t<tr><td>1.50</td><td>0   </td></tr>\n",
       "\t<tr><td>1.75</td><td>0   </td></tr>\n",
       "\t<tr><td>1.75</td><td>1   </td></tr>\n",
       "\t<tr><td>2.00</td><td>0   </td></tr>\n",
       "\t<tr><td>2.25</td><td>1   </td></tr>\n",
       "\t<tr><td>2.50</td><td>0   </td></tr>\n",
       "\t<tr><td>2.75</td><td>1   </td></tr>\n",
       "\t<tr><td>3.00</td><td>0   </td></tr>\n",
       "\t<tr><td>3.25</td><td>1   </td></tr>\n",
       "\t<tr><td>3.50</td><td>0   </td></tr>\n",
       "\t<tr><td>4.00</td><td>1   </td></tr>\n",
       "\t<tr><td>4.25</td><td>1   </td></tr>\n",
       "\t<tr><td>4.50</td><td>1   </td></tr>\n",
       "\t<tr><td>4.75</td><td>1   </td></tr>\n",
       "\t<tr><td>5.00</td><td>1   </td></tr>\n",
       "\t<tr><td>5.50</td><td>1   </td></tr>\n",
       "</tbody>\n",
       "</table>\n"
      ],
      "text/latex": [
       "\\begin{tabular}{r|ll}\n",
       " hours & pass\\\\\n",
       "\\hline\n",
       "\t 0.50 & 0   \\\\\n",
       "\t 0.75 & 0   \\\\\n",
       "\t 1.00 & 0   \\\\\n",
       "\t 1.25 & 0   \\\\\n",
       "\t 1.50 & 0   \\\\\n",
       "\t 1.75 & 0   \\\\\n",
       "\t 1.75 & 1   \\\\\n",
       "\t 2.00 & 0   \\\\\n",
       "\t 2.25 & 1   \\\\\n",
       "\t 2.50 & 0   \\\\\n",
       "\t 2.75 & 1   \\\\\n",
       "\t 3.00 & 0   \\\\\n",
       "\t 3.25 & 1   \\\\\n",
       "\t 3.50 & 0   \\\\\n",
       "\t 4.00 & 1   \\\\\n",
       "\t 4.25 & 1   \\\\\n",
       "\t 4.50 & 1   \\\\\n",
       "\t 4.75 & 1   \\\\\n",
       "\t 5.00 & 1   \\\\\n",
       "\t 5.50 & 1   \\\\\n",
       "\\end{tabular}\n"
      ],
      "text/markdown": [
       "\n",
       "hours | pass | \n",
       "|---|---|---|---|---|---|---|---|---|---|---|---|---|---|---|---|---|---|---|---|\n",
       "| 0.50 | 0    | \n",
       "| 0.75 | 0    | \n",
       "| 1.00 | 0    | \n",
       "| 1.25 | 0    | \n",
       "| 1.50 | 0    | \n",
       "| 1.75 | 0    | \n",
       "| 1.75 | 1    | \n",
       "| 2.00 | 0    | \n",
       "| 2.25 | 1    | \n",
       "| 2.50 | 0    | \n",
       "| 2.75 | 1    | \n",
       "| 3.00 | 0    | \n",
       "| 3.25 | 1    | \n",
       "| 3.50 | 0    | \n",
       "| 4.00 | 1    | \n",
       "| 4.25 | 1    | \n",
       "| 4.50 | 1    | \n",
       "| 4.75 | 1    | \n",
       "| 5.00 | 1    | \n",
       "| 5.50 | 1    | \n",
       "\n",
       "\n"
      ],
      "text/plain": [
       "   hours pass\n",
       "1  0.50  0   \n",
       "2  0.75  0   \n",
       "3  1.00  0   \n",
       "4  1.25  0   \n",
       "5  1.50  0   \n",
       "6  1.75  0   \n",
       "7  1.75  1   \n",
       "8  2.00  0   \n",
       "9  2.25  1   \n",
       "10 2.50  0   \n",
       "11 2.75  1   \n",
       "12 3.00  0   \n",
       "13 3.25  1   \n",
       "14 3.50  0   \n",
       "15 4.00  1   \n",
       "16 4.25  1   \n",
       "17 4.50  1   \n",
       "18 4.75  1   \n",
       "19 5.00  1   \n",
       "20 5.50  1   "
      ]
     },
     "metadata": {},
     "output_type": "display_data"
    },
    {
     "data": {
      "text/plain": [
       "\n",
       "Call:  glm(formula = pass ~ hours, family = binomial(link = \"logit\"), \n",
       "    data = df)\n",
       "\n",
       "Coefficients:\n",
       "(Intercept)        hours  \n",
       "     -4.078        1.505  \n",
       "\n",
       "Degrees of Freedom: 19 Total (i.e. Null);  18 Residual\n",
       "Null Deviance:\t    27.73 \n",
       "Residual Deviance: 16.06 \tAIC: 20.06"
      ]
     },
     "metadata": {},
     "output_type": "display_data"
    },
    {
     "data": {
      "text/plain": [
       "\n",
       "Call:\n",
       "glm(formula = pass ~ hours, family = binomial(link = \"logit\"), \n",
       "    data = df)\n",
       "\n",
       "Deviance Residuals: \n",
       "     Min        1Q    Median        3Q       Max  \n",
       "-1.70557  -0.57357  -0.04654   0.45470   1.82008  \n",
       "\n",
       "Coefficients:\n",
       "            Estimate Std. Error z value Pr(>|z|)  \n",
       "(Intercept)  -4.0777     1.7610  -2.316   0.0206 *\n",
       "hours         1.5046     0.6287   2.393   0.0167 *\n",
       "---\n",
       "Signif. codes:  0 '***' 0.001 '**' 0.01 '*' 0.05 '.' 0.1 ' ' 1\n",
       "\n",
       "(Dispersion parameter for binomial family taken to be 1)\n",
       "\n",
       "    Null deviance: 27.726  on 19  degrees of freedom\n",
       "Residual deviance: 16.060  on 18  degrees of freedom\n",
       "AIC: 20.06\n",
       "\n",
       "Number of Fisher Scoring iterations: 5\n"
      ]
     },
     "metadata": {},
     "output_type": "display_data"
    },
    {
     "data": {},
     "metadata": {},
     "output_type": "display_data"
    },
    {
     "data": {
      "image/png": "[encoded data removed]",
      "text/plain": [
       "plot without title"
      ]
     },
     "metadata": {},
     "output_type": "display_data"
    },
    {
     "data": {
      "image/png": "[encoded data removed]",
      "text/plain": [
       "plot without title"
      ]
     },
     "metadata": {},
     "output_type": "display_data"
    }
   ],
   "source": [
    "# Continuous predictor and dichotomous outcome\n",
    "# How does the number of hours of study effects the probability of passing an exam?\n",
    "\n",
    "hours <- c(0.50,0.75,1.00,1.25,1.50,1.75,1.75,2.00,2.25,2.50,2.75,3.00,3.25,3.50,4.00,4.25,4.50,4.75,5.00,5.50)\n",
    "pass <- c(0,0,0,0,0,0,1,0,1,0,1,0,1,0,1,1,1,1,1,1)\n",
    "df <- data.frame(hours, pass)\n",
    "df\n",
    "logr_lm <- glm(pass ~ hours, data=df, family=binomial(link=\"logit\"))\n",
    "logr_lm\n",
    "summary(logr_lm)\n",
    "\n",
    "library(ggplot2)\n",
    "ggplot(df, aes(x=hours, y=pass)) + geom_point() + \n",
    "  stat_smooth(method=\"glm\", method.args=list(family=\"binomial\"), se=FALSE)\n",
    "\n",
    "par(mar = c(4, 4, 1, 1)) # Reduce some of the margins so that the plot fits better\n",
    "plot(df$hours, df$pass)\n",
    "curve(predict(logr_lm, data.frame(hours=x), type=\"response\"), add=TRUE) \n"
   ]
  },
  {
   "cell_type": "markdown",
   "metadata": {
    "collapsed": true
   },
   "source": [
    "## The mtcars Dataset\n",
    "-  **mpg** miles per gallon (continuous predictor)\n",
    "-  **am**  0 automatic, 1 manual (categorical dichotomous predictor)\n",
    "-  **vs**  0 V engine, 1 straight engine (categorical dichotomous outcome)\n",
    "\n",
    "From [Cookbook for R - Logistic regression by Winston Chang](http://www.cookbook-r.com/Statistical_analysis/Logistic_regression)"
   ]
  },
  {
   "cell_type": "code",
   "execution_count": 5,
   "metadata": {},
   "outputs": [
    {
     "data": {
      "text/html": [
       "<table>\n",
       "<thead><tr><th></th><th scope=col>mpg</th><th scope=col>cyl</th><th scope=col>disp</th><th scope=col>hp</th><th scope=col>drat</th><th scope=col>wt</th><th scope=col>qsec</th><th scope=col>vs</th><th scope=col>am</th><th scope=col>gear</th><th scope=col>carb</th></tr></thead>\n",
       "<tbody>\n",
       "\t<tr><th scope=row>Mazda RX4</th><td>21.0 </td><td>6    </td><td>160  </td><td>110  </td><td>3.90 </td><td>2.620</td><td>16.46</td><td>0    </td><td>1    </td><td>4    </td><td>4    </td></tr>\n",
       "\t<tr><th scope=row>Mazda RX4 Wag</th><td>21.0 </td><td>6    </td><td>160  </td><td>110  </td><td>3.90 </td><td>2.875</td><td>17.02</td><td>0    </td><td>1    </td><td>4    </td><td>4    </td></tr>\n",
       "\t<tr><th scope=row>Datsun 710</th><td>22.8 </td><td>4    </td><td>108  </td><td> 93  </td><td>3.85 </td><td>2.320</td><td>18.61</td><td>1    </td><td>1    </td><td>4    </td><td>1    </td></tr>\n",
       "\t<tr><th scope=row>Hornet 4 Drive</th><td>21.4 </td><td>6    </td><td>258  </td><td>110  </td><td>3.08 </td><td>3.215</td><td>19.44</td><td>1    </td><td>0    </td><td>3    </td><td>1    </td></tr>\n",
       "\t<tr><th scope=row>Hornet Sportabout</th><td>18.7 </td><td>8    </td><td>360  </td><td>175  </td><td>3.15 </td><td>3.440</td><td>17.02</td><td>0    </td><td>0    </td><td>3    </td><td>2    </td></tr>\n",
       "\t<tr><th scope=row>Valiant</th><td>18.1 </td><td>6    </td><td>225  </td><td>105  </td><td>2.76 </td><td>3.460</td><td>20.22</td><td>1    </td><td>0    </td><td>3    </td><td>1    </td></tr>\n",
       "</tbody>\n",
       "</table>\n"
      ],
      "text/latex": [
       "\\begin{tabular}{r|lllllllllll}\n",
       "  & mpg & cyl & disp & hp & drat & wt & qsec & vs & am & gear & carb\\\\\n",
       "\\hline\n",
       "\tMazda RX4 & 21.0  & 6     & 160   & 110   & 3.90  & 2.620 & 16.46 & 0     & 1     & 4     & 4    \\\\\n",
       "\tMazda RX4 Wag & 21.0  & 6     & 160   & 110   & 3.90  & 2.875 & 17.02 & 0     & 1     & 4     & 4    \\\\\n",
       "\tDatsun 710 & 22.8  & 4     & 108   &  93   & 3.85  & 2.320 & 18.61 & 1     & 1     & 4     & 1    \\\\\n",
       "\tHornet 4 Drive & 21.4  & 6     & 258   & 110   & 3.08  & 3.215 & 19.44 & 1     & 0     & 3     & 1    \\\\\n",
       "\tHornet Sportabout & 18.7  & 8     & 360   & 175   & 3.15  & 3.440 & 17.02 & 0     & 0     & 3     & 2    \\\\\n",
       "\tValiant & 18.1  & 6     & 225   & 105   & 2.76  & 3.460 & 20.22 & 1     & 0     & 3     & 1    \\\\\n",
       "\\end{tabular}\n"
      ],
      "text/markdown": [
       "\n",
       "| <!--/--> | mpg | cyl | disp | hp | drat | wt | qsec | vs | am | gear | carb | \n",
       "|---|---|---|---|---|---|\n",
       "| Mazda RX4 | 21.0  | 6     | 160   | 110   | 3.90  | 2.620 | 16.46 | 0     | 1     | 4     | 4     | \n",
       "| Mazda RX4 Wag | 21.0  | 6     | 160   | 110   | 3.90  | 2.875 | 17.02 | 0     | 1     | 4     | 4     | \n",
       "| Datsun 710 | 22.8  | 4     | 108   |  93   | 3.85  | 2.320 | 18.61 | 1     | 1     | 4     | 1     | \n",
       "| Hornet 4 Drive | 21.4  | 6     | 258   | 110   | 3.08  | 3.215 | 19.44 | 1     | 0     | 3     | 1     | \n",
       "| Hornet Sportabout | 18.7  | 8     | 360   | 175   | 3.15  | 3.440 | 17.02 | 0     | 0     | 3     | 2     | \n",
       "| Valiant | 18.1  | 6     | 225   | 105   | 2.76  | 3.460 | 20.22 | 1     | 0     | 3     | 1     | \n",
       "\n",
       "\n"
      ],
      "text/plain": [
       "                  mpg  cyl disp hp  drat wt    qsec  vs am gear carb\n",
       "Mazda RX4         21.0 6   160  110 3.90 2.620 16.46 0  1  4    4   \n",
       "Mazda RX4 Wag     21.0 6   160  110 3.90 2.875 17.02 0  1  4    4   \n",
       "Datsun 710        22.8 4   108   93 3.85 2.320 18.61 1  1  4    1   \n",
       "Hornet 4 Drive    21.4 6   258  110 3.08 3.215 19.44 1  0  3    1   \n",
       "Hornet Sportabout 18.7 8   360  175 3.15 3.440 17.02 0  0  3    2   \n",
       "Valiant           18.1 6   225  105 2.76 3.460 20.22 1  0  3    1   "
      ]
     },
     "metadata": {},
     "output_type": "display_data"
    },
    {
     "data": {
      "text/html": [
       "<table>\n",
       "<thead><tr><th></th><th scope=col>mpg</th><th scope=col>am</th><th scope=col>vs</th></tr></thead>\n",
       "<tbody>\n",
       "\t<tr><th scope=row>Mazda RX4</th><td>21.0</td><td>1   </td><td>0   </td></tr>\n",
       "\t<tr><th scope=row>Mazda RX4 Wag</th><td>21.0</td><td>1   </td><td>0   </td></tr>\n",
       "\t<tr><th scope=row>Datsun 710</th><td>22.8</td><td>1   </td><td>1   </td></tr>\n",
       "\t<tr><th scope=row>Hornet 4 Drive</th><td>21.4</td><td>0   </td><td>1   </td></tr>\n",
       "\t<tr><th scope=row>Hornet Sportabout</th><td>18.7</td><td>0   </td><td>0   </td></tr>\n",
       "\t<tr><th scope=row>Valiant</th><td>18.1</td><td>0   </td><td>1   </td></tr>\n",
       "\t<tr><th scope=row>Duster 360</th><td>14.3</td><td>0   </td><td>0   </td></tr>\n",
       "\t<tr><th scope=row>Merc 240D</th><td>24.4</td><td>0   </td><td>1   </td></tr>\n",
       "\t<tr><th scope=row>Merc 230</th><td>22.8</td><td>0   </td><td>1   </td></tr>\n",
       "\t<tr><th scope=row>Merc 280</th><td>19.2</td><td>0   </td><td>1   </td></tr>\n",
       "\t<tr><th scope=row>Merc 280C</th><td>17.8</td><td>0   </td><td>1   </td></tr>\n",
       "\t<tr><th scope=row>Merc 450SE</th><td>16.4</td><td>0   </td><td>0   </td></tr>\n",
       "\t<tr><th scope=row>Merc 450SL</th><td>17.3</td><td>0   </td><td>0   </td></tr>\n",
       "\t<tr><th scope=row>Merc 450SLC</th><td>15.2</td><td>0   </td><td>0   </td></tr>\n",
       "\t<tr><th scope=row>Cadillac Fleetwood</th><td>10.4</td><td>0   </td><td>0   </td></tr>\n",
       "\t<tr><th scope=row>Lincoln Continental</th><td>10.4</td><td>0   </td><td>0   </td></tr>\n",
       "\t<tr><th scope=row>Chrysler Imperial</th><td>14.7</td><td>0   </td><td>0   </td></tr>\n",
       "\t<tr><th scope=row>Fiat 128</th><td>32.4</td><td>1   </td><td>1   </td></tr>\n",
       "\t<tr><th scope=row>Honda Civic</th><td>30.4</td><td>1   </td><td>1   </td></tr>\n",
       "\t<tr><th scope=row>Toyota Corolla</th><td>33.9</td><td>1   </td><td>1   </td></tr>\n",
       "\t<tr><th scope=row>Toyota Corona</th><td>21.5</td><td>0   </td><td>1   </td></tr>\n",
       "\t<tr><th scope=row>Dodge Challenger</th><td>15.5</td><td>0   </td><td>0   </td></tr>\n",
       "\t<tr><th scope=row>AMC Javelin</th><td>15.2</td><td>0   </td><td>0   </td></tr>\n",
       "\t<tr><th scope=row>Camaro Z28</th><td>13.3</td><td>0   </td><td>0   </td></tr>\n",
       "\t<tr><th scope=row>Pontiac Firebird</th><td>19.2</td><td>0   </td><td>0   </td></tr>\n",
       "\t<tr><th scope=row>Fiat X1-9</th><td>27.3</td><td>1   </td><td>1   </td></tr>\n",
       "\t<tr><th scope=row>Porsche 914-2</th><td>26.0</td><td>1   </td><td>0   </td></tr>\n",
       "\t<tr><th scope=row>Lotus Europa</th><td>30.4</td><td>1   </td><td>1   </td></tr>\n",
       "\t<tr><th scope=row>Ford Pantera L</th><td>15.8</td><td>1   </td><td>0   </td></tr>\n",
       "\t<tr><th scope=row>Ferrari Dino</th><td>19.7</td><td>1   </td><td>0   </td></tr>\n",
       "\t<tr><th scope=row>Maserati Bora</th><td>15.0</td><td>1   </td><td>0   </td></tr>\n",
       "\t<tr><th scope=row>Volvo 142E</th><td>21.4</td><td>1   </td><td>1   </td></tr>\n",
       "</tbody>\n",
       "</table>\n"
      ],
      "text/latex": [
       "\\begin{tabular}{r|lll}\n",
       "  & mpg & am & vs\\\\\n",
       "\\hline\n",
       "\tMazda RX4 & 21.0 & 1    & 0   \\\\\n",
       "\tMazda RX4 Wag & 21.0 & 1    & 0   \\\\\n",
       "\tDatsun 710 & 22.8 & 1    & 1   \\\\\n",
       "\tHornet 4 Drive & 21.4 & 0    & 1   \\\\\n",
       "\tHornet Sportabout & 18.7 & 0    & 0   \\\\\n",
       "\tValiant & 18.1 & 0    & 1   \\\\\n",
       "\tDuster 360 & 14.3 & 0    & 0   \\\\\n",
       "\tMerc 240D & 24.4 & 0    & 1   \\\\\n",
       "\tMerc 230 & 22.8 & 0    & 1   \\\\\n",
       "\tMerc 280 & 19.2 & 0    & 1   \\\\\n",
       "\tMerc 280C & 17.8 & 0    & 1   \\\\\n",
       "\tMerc 450SE & 16.4 & 0    & 0   \\\\\n",
       "\tMerc 450SL & 17.3 & 0    & 0   \\\\\n",
       "\tMerc 450SLC & 15.2 & 0    & 0   \\\\\n",
       "\tCadillac Fleetwood & 10.4 & 0    & 0   \\\\\n",
       "\tLincoln Continental & 10.4 & 0    & 0   \\\\\n",
       "\tChrysler Imperial & 14.7 & 0    & 0   \\\\\n",
       "\tFiat 128 & 32.4 & 1    & 1   \\\\\n",
       "\tHonda Civic & 30.4 & 1    & 1   \\\\\n",
       "\tToyota Corolla & 33.9 & 1    & 1   \\\\\n",
       "\tToyota Corona & 21.5 & 0    & 1   \\\\\n",
       "\tDodge Challenger & 15.5 & 0    & 0   \\\\\n",
       "\tAMC Javelin & 15.2 & 0    & 0   \\\\\n",
       "\tCamaro Z28 & 13.3 & 0    & 0   \\\\\n",
       "\tPontiac Firebird & 19.2 & 0    & 0   \\\\\n",
       "\tFiat X1-9 & 27.3 & 1    & 1   \\\\\n",
       "\tPorsche 914-2 & 26.0 & 1    & 0   \\\\\n",
       "\tLotus Europa & 30.4 & 1    & 1   \\\\\n",
       "\tFord Pantera L & 15.8 & 1    & 0   \\\\\n",
       "\tFerrari Dino & 19.7 & 1    & 0   \\\\\n",
       "\tMaserati Bora & 15.0 & 1    & 0   \\\\\n",
       "\tVolvo 142E & 21.4 & 1    & 1   \\\\\n",
       "\\end{tabular}\n"
      ],
      "text/markdown": [
       "\n",
       "| <!--/--> | mpg | am | vs | \n",
       "|---|---|---|---|---|---|---|---|---|---|---|---|---|---|---|---|---|---|---|---|---|---|---|---|---|---|---|---|---|---|---|---|\n",
       "| Mazda RX4 | 21.0 | 1    | 0    | \n",
       "| Mazda RX4 Wag | 21.0 | 1    | 0    | \n",
       "| Datsun 710 | 22.8 | 1    | 1    | \n",
       "| Hornet 4 Drive | 21.4 | 0    | 1    | \n",
       "| Hornet Sportabout | 18.7 | 0    | 0    | \n",
       "| Valiant | 18.1 | 0    | 1    | \n",
       "| Duster 360 | 14.3 | 0    | 0    | \n",
       "| Merc 240D | 24.4 | 0    | 1    | \n",
       "| Merc 230 | 22.8 | 0    | 1    | \n",
       "| Merc 280 | 19.2 | 0    | 1    | \n",
       "| Merc 280C | 17.8 | 0    | 1    | \n",
       "| Merc 450SE | 16.4 | 0    | 0    | \n",
       "| Merc 450SL | 17.3 | 0    | 0    | \n",
       "| Merc 450SLC | 15.2 | 0    | 0    | \n",
       "| Cadillac Fleetwood | 10.4 | 0    | 0    | \n",
       "| Lincoln Continental | 10.4 | 0    | 0    | \n",
       "| Chrysler Imperial | 14.7 | 0    | 0    | \n",
       "| Fiat 128 | 32.4 | 1    | 1    | \n",
       "| Honda Civic | 30.4 | 1    | 1    | \n",
       "| Toyota Corolla | 33.9 | 1    | 1    | \n",
       "| Toyota Corona | 21.5 | 0    | 1    | \n",
       "| Dodge Challenger | 15.5 | 0    | 0    | \n",
       "| AMC Javelin | 15.2 | 0    | 0    | \n",
       "| Camaro Z28 | 13.3 | 0    | 0    | \n",
       "| Pontiac Firebird | 19.2 | 0    | 0    | \n",
       "| Fiat X1-9 | 27.3 | 1    | 1    | \n",
       "| Porsche 914-2 | 26.0 | 1    | 0    | \n",
       "| Lotus Europa | 30.4 | 1    | 1    | \n",
       "| Ford Pantera L | 15.8 | 1    | 0    | \n",
       "| Ferrari Dino | 19.7 | 1    | 0    | \n",
       "| Maserati Bora | 15.0 | 1    | 0    | \n",
       "| Volvo 142E | 21.4 | 1    | 1    | \n",
       "\n",
       "\n"
      ],
      "text/plain": [
       "                    mpg  am vs\n",
       "Mazda RX4           21.0 1  0 \n",
       "Mazda RX4 Wag       21.0 1  0 \n",
       "Datsun 710          22.8 1  1 \n",
       "Hornet 4 Drive      21.4 0  1 \n",
       "Hornet Sportabout   18.7 0  0 \n",
       "Valiant             18.1 0  1 \n",
       "Duster 360          14.3 0  0 \n",
       "Merc 240D           24.4 0  1 \n",
       "Merc 230            22.8 0  1 \n",
       "Merc 280            19.2 0  1 \n",
       "Merc 280C           17.8 0  1 \n",
       "Merc 450SE          16.4 0  0 \n",
       "Merc 450SL          17.3 0  0 \n",
       "Merc 450SLC         15.2 0  0 \n",
       "Cadillac Fleetwood  10.4 0  0 \n",
       "Lincoln Continental 10.4 0  0 \n",
       "Chrysler Imperial   14.7 0  0 \n",
       "Fiat 128            32.4 1  1 \n",
       "Honda Civic         30.4 1  1 \n",
       "Toyota Corolla      33.9 1  1 \n",
       "Toyota Corona       21.5 0  1 \n",
       "Dodge Challenger    15.5 0  0 \n",
       "AMC Javelin         15.2 0  0 \n",
       "Camaro Z28          13.3 0  0 \n",
       "Pontiac Firebird    19.2 0  0 \n",
       "Fiat X1-9           27.3 1  1 \n",
       "Porsche 914-2       26.0 1  0 \n",
       "Lotus Europa        30.4 1  1 \n",
       "Ford Pantera L      15.8 1  0 \n",
       "Ferrari Dino        19.7 1  0 \n",
       "Maserati Bora       15.0 1  0 \n",
       "Volvo 142E          21.4 1  1 "
      ]
     },
     "metadata": {},
     "output_type": "display_data"
    }
   ],
   "source": [
    "data(mtcars)\n",
    "dat <- subset(mtcars, select=c(mpg, am, vs))\n",
    "dat"
   ]
  },
  {
   "cell_type": "markdown",
   "metadata": {},
   "source": [
    "## Continuous predictor and dichotomous outcome"
   ]
  },
  {
   "cell_type": "code",
   "execution_count": 6,
   "metadata": {},
   "outputs": [
    {
     "data": {
      "text/plain": [
       "\n",
       "Call:  glm(formula = vs ~ mpg, family = binomial(link = \"logit\"), data = dat)\n",
       "\n",
       "Coefficients:\n",
       "(Intercept)          mpg  \n",
       "    -8.8331       0.4304  \n",
       "\n",
       "Degrees of Freedom: 31 Total (i.e. Null);  30 Residual\n",
       "Null Deviance:\t    43.86 \n",
       "Residual Deviance: 25.53 \tAIC: 29.53"
      ]
     },
     "metadata": {},
     "output_type": "display_data"
    },
    {
     "data": {
      "text/plain": [
       "\n",
       "Call:\n",
       "glm(formula = vs ~ mpg, family = binomial(link = \"logit\"), data = dat)\n",
       "\n",
       "Deviance Residuals: \n",
       "    Min       1Q   Median       3Q      Max  \n",
       "-2.2127  -0.5121  -0.2276   0.6402   1.6980  \n",
       "\n",
       "Coefficients:\n",
       "            Estimate Std. Error z value Pr(>|z|)   \n",
       "(Intercept)  -8.8331     3.1623  -2.793  0.00522 **\n",
       "mpg           0.4304     0.1584   2.717  0.00659 **\n",
       "---\n",
       "Signif. codes:  0 '***' 0.001 '**' 0.01 '*' 0.05 '.' 0.1 ' ' 1\n",
       "\n",
       "(Dispersion parameter for binomial family taken to be 1)\n",
       "\n",
       "    Null deviance: 43.860  on 31  degrees of freedom\n",
       "Residual deviance: 25.533  on 30  degrees of freedom\n",
       "AIC: 29.533\n",
       "\n",
       "Number of Fisher Scoring iterations: 6\n"
      ]
     },
     "metadata": {},
     "output_type": "display_data"
    }
   ],
   "source": [
    "# mpg is a continuous predictor and vs is a dichotomous outcome\n",
    "logr_vm <- glm(vs ~ mpg, data=dat, family=binomial(link=\"logit\"))\n",
    "logr_vm\n",
    "summary(logr_vm)"
   ]
  },
  {
   "cell_type": "code",
   "execution_count": 8,
   "metadata": {},
   "outputs": [
    {
     "data": {},
     "metadata": {},
     "output_type": "display_data"
    },
    {
     "data": {
      "image/png": "[encoded data removed]",
      "text/plain": [
       "plot without title"
      ]
     },
     "metadata": {},
     "output_type": "display_data"
    },
    {
     "data": {
      "image/png": "[encoded data removed]",
      "text/plain": [
       "plot without title"
      ]
     },
     "metadata": {},
     "output_type": "display_data"
    }
   ],
   "source": [
    "library(ggplot2)\n",
    "ggplot(dat, aes(x=mpg, y=vs)) + geom_point() + \n",
    "  stat_smooth(method=\"glm\", method.args=list(family=\"binomial\"), se=FALSE)\n",
    "\n",
    "par(mar = c(4, 4, 1, 1)) # Reduce some of the margins so that the plot fits better\n",
    "plot(dat$mpg, dat$vs)\n",
    "curve(predict(logr_vm, data.frame(mpg=x), type=\"response\"), add=TRUE) "
   ]
  },
  {
   "cell_type": "markdown",
   "metadata": {
    "collapsed": true
   },
   "source": [
    "## Dichotomous predictor and dichotomous outcome"
   ]
  },
  {
   "cell_type": "code",
   "execution_count": 9,
   "metadata": {},
   "outputs": [
    {
     "data": {
      "text/plain": [
       "\n",
       "Call:  glm(formula = vs ~ am, family = binomial(link = \"logit\"), data = dat)\n",
       "\n",
       "Coefficients:\n",
       "(Intercept)           am  \n",
       "    -0.5390       0.6931  \n",
       "\n",
       "Degrees of Freedom: 31 Total (i.e. Null);  30 Residual\n",
       "Null Deviance:\t    43.86 \n",
       "Residual Deviance: 42.95 \tAIC: 46.95"
      ]
     },
     "metadata": {},
     "output_type": "display_data"
    },
    {
     "data": {
      "text/plain": [
       "\n",
       "Call:\n",
       "glm(formula = vs ~ am, family = binomial(link = \"logit\"), data = dat)\n",
       "\n",
       "Deviance Residuals: \n",
       "    Min       1Q   Median       3Q      Max  \n",
       "-1.2435  -0.9587  -0.9587   1.1127   1.4132  \n",
       "\n",
       "Coefficients:\n",
       "            Estimate Std. Error z value Pr(>|z|)\n",
       "(Intercept)  -0.5390     0.4756  -1.133    0.257\n",
       "am            0.6931     0.7319   0.947    0.344\n",
       "\n",
       "(Dispersion parameter for binomial family taken to be 1)\n",
       "\n",
       "    Null deviance: 43.860  on 31  degrees of freedom\n",
       "Residual deviance: 42.953  on 30  degrees of freedom\n",
       "AIC: 46.953\n",
       "\n",
       "Number of Fisher Scoring iterations: 4\n"
      ]
     },
     "metadata": {},
     "output_type": "display_data"
    }
   ],
   "source": [
    "# am is a dichotomous predictor and vs is a dichotomous outcome\n",
    "logr_va <- glm(vs ~ am, data=dat, family=binomial(link=\"logit\"))\n",
    "logr_va\n",
    "summary(logr_va)"
   ]
  },
  {
   "cell_type": "code",
   "execution_count": 10,
   "metadata": {},
   "outputs": [
    {
     "data": {},
     "metadata": {},
     "output_type": "display_data"
    },
    {
     "data": {
      "image/png": "[encoded data removed]",
      "text/plain": [
       "plot without title"
      ]
     },
     "metadata": {},
     "output_type": "display_data"
    },
    {
     "data": {
      "image/png": "[encoded data removed]",
      "text/plain": [
       "plot without title"
      ]
     },
     "metadata": {},
     "output_type": "display_data"
    }
   ],
   "source": [
    "library(ggplot2)\n",
    "ggplot(dat, aes(x=am, y=vs)) + \n",
    "  geom_point(shape=1, position=position_jitter(width=.05,height=.05)) + \n",
    "  stat_smooth(method=\"glm\", method.args=list(family=\"binomial\"), se=FALSE)\n",
    "\n",
    "\n",
    "par(mar = c(4, 4, 1, 1)) # Reduce some of the margins so that the plot fits better\n",
    "plot(jitter(dat$am, .2), jitter(dat$vs, .2))\n",
    "curve(predict(logr_va, data.frame(am=x), type=\"response\"), add=TRUE) "
   ]
  },
  {
   "cell_type": "code",
   "execution_count": null,
   "metadata": {
    "collapsed": true
   },
   "outputs": [],
   "source": []
  }
 ],
 "metadata": {
  "kernelspec": {
   "display_name": "R",
   "language": "R",
   "name": "ir"
  },
  "language_info": {
   "codemirror_mode": "r",
   "file_extension": ".r",
   "mimetype": "text/x-r-source",
   "name": "R",
   "pygments_lexer": "r",
   "version": "3.4.2"
  }
 },
 "nbformat": 4,
 "nbformat_minor": 2
}
