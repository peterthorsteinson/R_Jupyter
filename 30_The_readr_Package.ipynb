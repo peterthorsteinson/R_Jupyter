{
 "cells": [
  {
   "cell_type": "markdown",
   "metadata": {
    "collapsed": true
   },
   "source": [
    "# 30 The readr Package\n",
    "\n",
    "-  The readr Package is part of the core tidyverse.\n",
    "-  The readr Package is used to load flat files. \n",
    "\n",
    "## A Few readr Functions\n",
    "\n",
    "-  read_csv()   - reads comma delimited file,  (for countries where comma is used as decimal place)\n",
    "-  read_tsv()   - reads tab delimited file\n",
    "-  read_delim() = reads in files with any delimiter\n",
    "-  read_csv2()  - reads semicolon separated file\n",
    "-  read_fwf()   - reads fixed width file (fields specified by widths with fwf_widths() or position with fwf_positions())\n",
    "-  read_table() - reads a common variation of fixed width files where columns are separated by white space\n",
    "-  read_log()   - reads Apache style log file\n",
    "-  write_csv()  - write comma delimited file\n",
    "-  write_tsv()  - write tab delimited file\n",
    "\n",
    "## New read_csv() vs Old read.csv()\n",
    "\n",
    "-  Much faster\n",
    "-  Create tibbles rather than data.table (simpler and tidier)\n",
    "-  More platform independent\n",
    "    \n",
    "[R for Data Science (Grolemund & Wickham) - Data import](http://r4ds.had.co.nz/data-import.html)  \n"
   ]
  },
  {
   "cell_type": "code",
   "execution_count": 2,
   "metadata": {},
   "outputs": [
    {
     "data": {
      "text/html": [
       "<table>\n",
       "<thead><tr><th scope=col>a</th><th scope=col>b</th><th scope=col>c</th></tr></thead>\n",
       "<tbody>\n",
       "\t<tr><td>1</td><td>2</td><td>3</td></tr>\n",
       "\t<tr><td>4</td><td>5</td><td>6</td></tr>\n",
       "</tbody>\n",
       "</table>\n"
      ],
      "text/latex": [
       "\\begin{tabular}{r|lll}\n",
       " a & b & c\\\\\n",
       "\\hline\n",
       "\t 1 & 2 & 3\\\\\n",
       "\t 4 & 5 & 6\\\\\n",
       "\\end{tabular}\n"
      ],
      "text/markdown": [
       "\n",
       "a | b | c | \n",
       "|---|---|\n",
       "| 1 | 2 | 3 | \n",
       "| 4 | 5 | 6 | \n",
       "\n",
       "\n"
      ],
      "text/plain": [
       "  a b c\n",
       "1 1 2 3\n",
       "2 4 5 6"
      ]
     },
     "metadata": {},
     "output_type": "display_data"
    }
   ],
   "source": [
    "library(tidyverse)\n",
    "# read inline csv data\n",
    "read_csv(\"a,b,c\n",
    "1,2,3\n",
    "4,5,6\")"
   ]
  },
  {
   "cell_type": "code",
   "execution_count": null,
   "metadata": {
    "collapsed": true
   },
   "outputs": [],
   "source": []
  }
 ],
 "metadata": {
  "kernelspec": {
   "display_name": "R",
   "language": "R",
   "name": "ir"
  },
  "language_info": {
   "codemirror_mode": "r",
   "file_extension": ".r",
   "mimetype": "text/x-r-source",
   "name": "R",
   "pygments_lexer": "r",
   "version": "3.4.2"
  }
 },
 "nbformat": 4,
 "nbformat_minor": 2
}
