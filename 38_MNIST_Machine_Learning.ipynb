{
 "cells": [
  {
   "cell_type": "markdown",
   "metadata": {},
   "source": [
    "# 38 MNIST Machine Learning\n",
    "\n",
    "[MNIST machine learning example in R](https://gist.github.com/primaryobjects/b0c8333834debbc15be4)  \n"
   ]
  },
  {
   "cell_type": "markdown",
   "metadata": {
    "collapsed": true
   },
   "source": [
    "https://cran.r-project.org/web/packages/doParallel/vignettes/gettingstartedParallel.pdf\n",
    "\n",
    "install.packages(\"doParallel\", \"caret\")\n"
   ]
  },
  {
   "cell_type": "code",
   "execution_count": 5,
   "metadata": {},
   "outputs": [
    {
     "data": {
      "text/html": [
       "<ol>\n",
       "\t<li>1</li>\n",
       "\t<li>1.4142135623731</li>\n",
       "\t<li>1.73205080756888</li>\n",
       "</ol>\n"
      ],
      "text/latex": [
       "\\begin{enumerate}\n",
       "\\item 1\n",
       "\\item 1.4142135623731\n",
       "\\item 1.73205080756888\n",
       "\\end{enumerate}\n"
      ],
      "text/markdown": [
       "1. 1\n",
       "2. 1.4142135623731\n",
       "3. 1.73205080756888\n",
       "\n",
       "\n"
      ],
      "text/plain": [
       "[[1]]\n",
       "[1] 1\n",
       "\n",
       "[[2]]\n",
       "[1] 1.414214\n",
       "\n",
       "[[3]]\n",
       "[1] 1.732051\n"
      ]
     },
     "metadata": {},
     "output_type": "display_data"
    }
   ],
   "source": [
    "# Multi-core actually only works on Linux (Windows falls back to single-core)\n",
    "\n",
    "# install.packages(\"doParallel\")\n",
    "library(doParallel)\n",
    "cl <- makeCluster(2)\n",
    "registerDoParallel(cl)\n",
    "foreach(i=1:3) %dopar% sqrt(i)"
   ]
  },
  {
   "cell_type": "code",
   "execution_count": 16,
   "metadata": {},
   "outputs": [
    {
     "name": "stderr",
     "output_type": "stream",
     "text": [
      "Warning message in .local(x, ...):\n",
      "\"Variable(s) `' constant. Cannot scale data.\""
     ]
    },
    {
     "data": {
      "text/plain": [
       "Confusion Matrix and Statistics\n",
       "\n",
       "          Reference\n",
       "Prediction   0   1   2   3   4   5   6   7   8   9\n",
       "         0  80   0   0   0   0   0   0   1   0   0\n",
       "         1   0  99   1   1   1   0   0   3   2   0\n",
       "         2   0   1 103   3   2   0   1   1   2   0\n",
       "         3   0   0   0  82   0   3   0   0   1   2\n",
       "         4   0   0   3   0  95   1   1   3   0   3\n",
       "         5   2   1   1   3   0  78   1   0   3   1\n",
       "         6   2   0   0   0   1   1 115   0   1   0\n",
       "         7   0   0   1   1   0   0   0 109   0   5\n",
       "         8   0   0   2   3   0   1   0   0  78   0\n",
       "         9   0   0   0   3   6   4   0   1   1  80\n",
       "\n",
       "Overall Statistics\n",
       "                                          \n",
       "               Accuracy : 0.919           \n",
       "                 95% CI : (0.9003, 0.9352)\n",
       "    No Information Rate : 0.118           \n",
       "    P-Value [Acc > NIR] : < 2.2e-16       \n",
       "                                          \n",
       "                  Kappa : 0.9098          \n",
       " Mcnemar's Test P-Value : NA              \n",
       "\n",
       "Statistics by Class:\n",
       "\n",
       "                     Class: 0 Class: 1 Class: 2 Class: 3 Class: 4 Class: 5\n",
       "Sensitivity            0.9524   0.9802   0.9279   0.8542   0.9048   0.8864\n",
       "Specificity            0.9989   0.9911   0.9888   0.9934   0.9877   0.9868\n",
       "Pos Pred Value         0.9877   0.9252   0.9115   0.9318   0.8962   0.8667\n",
       "Neg Pred Value         0.9956   0.9978   0.9910   0.9846   0.9888   0.9890\n",
       "Prevalence             0.0840   0.1010   0.1110   0.0960   0.1050   0.0880\n",
       "Detection Rate         0.0800   0.0990   0.1030   0.0820   0.0950   0.0780\n",
       "Detection Prevalence   0.0810   0.1070   0.1130   0.0880   0.1060   0.0900\n",
       "Balanced Accuracy      0.9756   0.9856   0.9583   0.9238   0.9462   0.9366\n",
       "                     Class: 6 Class: 7 Class: 8 Class: 9\n",
       "Sensitivity            0.9746   0.9237   0.8864   0.8791\n",
       "Specificity            0.9943   0.9921   0.9934   0.9835\n",
       "Pos Pred Value         0.9583   0.9397   0.9286   0.8421\n",
       "Neg Pred Value         0.9966   0.9898   0.9891   0.9878\n",
       "Prevalence             0.1180   0.1180   0.0880   0.0910\n",
       "Detection Rate         0.1150   0.1090   0.0780   0.0800\n",
       "Detection Prevalence   0.1200   0.1160   0.0840   0.0950\n",
       "Balanced Accuracy      0.9845   0.9579   0.9399   0.9313"
      ]
     },
     "metadata": {},
     "output_type": "display_data"
    }
   ],
   "source": [
    "# MNIST machine learning example in R\n",
    "# https://gist.github.com/primaryobjects/b0c8333834debbc15be4\n",
    "\n",
    "library(caret)\n",
    "library(doParallel)\n",
    "\n",
    "\n",
    "# Enable parallel processing.\n",
    "\n",
    "cl <- makeCluster(detectCores())\n",
    "\n",
    "registerDoParallel(cl)\n",
    "\n",
    "\n",
    "\n",
    "# Load the MNIST digit recognition dataset into R\n",
    "\n",
    "# http://yann.lecun.com/exdb/mnist/\n",
    "\n",
    "# assume you have all 4 files and gunzip'd them\n",
    "\n",
    "# creates train$n, train$x, train$y  and test$n, test$x, test$y\n",
    "\n",
    "# e.g. train$x is a 60000 x 784 matrix, each row is one digit (28x28)\n",
    "\n",
    "# call:  show_digit(train$x[5,])   to see a digit.\n",
    "\n",
    "# brendan o'connor - gist.github.com/39760 - anyall.org\n",
    "\n",
    "load_mnist <- function() {\n",
    "\n",
    "  load_image_file <- function(filename) {\n",
    "\n",
    "    ret = list()\n",
    "\n",
    "    f = file(filename,'rb')\n",
    "\n",
    "    readBin(f,'integer',n=1,size=4,endian='big')\n",
    "\n",
    "    ret$n = readBin(f,'integer',n=1,size=4,endian='big')\n",
    "\n",
    "    nrow = readBin(f,'integer',n=1,size=4,endian='big')\n",
    "\n",
    "    ncol = readBin(f,'integer',n=1,size=4,endian='big')\n",
    "\n",
    "    x = readBin(f,'integer',n=ret$n*nrow*ncol,size=1,signed=F)\n",
    "\n",
    "    ret$x = matrix(x, ncol=nrow*ncol, byrow=T)\n",
    "\n",
    "    close(f)\n",
    "\n",
    "    ret\n",
    "\n",
    "  }\n",
    "\n",
    "  load_label_file <- function(filename) {\n",
    "\n",
    "    f = file(filename,'rb')\n",
    "\n",
    "    readBin(f,'integer',n=1,size=4,endian='big')\n",
    "\n",
    "    n = readBin(f,'integer',n=1,size=4,endian='big')\n",
    "\n",
    "    y = readBin(f,'integer',n=n,size=1,signed=F)\n",
    "\n",
    "    close(f)\n",
    "\n",
    "    y\n",
    "\n",
    "  }\n",
    "\n",
    "  train <<- load_image_file('data/mnist/train-images.idx3-ubyte')\n",
    "\n",
    "  test <<- load_image_file('data/mnist/t10k-images.idx3-ubyte')\n",
    "\n",
    "  \n",
    "\n",
    "  train$y <<- load_label_file('data/mnist/train-labels.idx1-ubyte')\n",
    "\n",
    "  test$y <<- load_label_file('data/mnist/t10k-labels.idx1-ubyte')  \n",
    "\n",
    "}\n",
    "\n",
    "\n",
    "\n",
    "show_digit <- function(arr784, col=gray(12:1/12), ...) {\n",
    "\n",
    "  image(matrix(arr784, nrow=28)[,28:1], col=col, ...)\n",
    "\n",
    "}\n",
    "\n",
    "\n",
    "\n",
    "train <- data.frame()\n",
    "\n",
    "test <- data.frame()\n",
    "\n",
    "\n",
    "\n",
    "# Load data.\n",
    "\n",
    "load_mnist()\n",
    "\n",
    "\n",
    "\n",
    "# Normalize: X = (X - min) / (max - min) => X = (X - 0) / (255 - 0) => X = X / 255.\n",
    "\n",
    "train$x <- train$x / 255\n",
    "\n",
    "\n",
    "\n",
    "# Setup training data with digit and pixel values with 60/40 split for train/cv.\n",
    "\n",
    "inTrain = data.frame(y=train$y, train$x)\n",
    "\n",
    "inTrain$y <- as.factor(inTrain$y)\n",
    "\n",
    "trainIndex = createDataPartition(inTrain$y, p = 0.60,list=FALSE)\n",
    "\n",
    "training = inTrain[trainIndex,]\n",
    "\n",
    "cv = inTrain[-trainIndex,]\n",
    "\n",
    "\n",
    "\n",
    "# SVM. 95/94.\n",
    "\n",
    "fit <- train(y ~ ., data = head(training, 1000), method = 'svmRadial', tuneGrid = data.frame(sigma=0.0107249, C=1))\n",
    "\n",
    "results <- predict(fit, newdata = head(cv, 1000))\n",
    "\n",
    "confusionMatrix(results, head(cv$y, 1000))"
   ]
  },
  {
   "cell_type": "code",
   "execution_count": 17,
   "metadata": {},
   "outputs": [
    {
     "data": {
      "text/html": [
       "1"
      ],
      "text/latex": [
       "1"
      ],
      "text/markdown": [
       "1"
      ],
      "text/plain": [
       "[1] 1\n",
       "Levels: 0 1 2 3 4 5 6 7 8 9"
      ]
     },
     "metadata": {},
     "output_type": "display_data"
    },
    {
     "data": {
      "text/html": [
       "1"
      ],
      "text/latex": [
       "1"
      ],
      "text/markdown": [
       "1"
      ],
      "text/plain": [
       "[1] 1\n",
       "Levels: 0 1 2 3 4 5 6 7 8 9"
      ]
     },
     "metadata": {},
     "output_type": "display_data"
    },
    {
     "data": {
      "image/png": "[encoded data removed]",
      "text/plain": [
       "plot without title"
      ]
     },
     "metadata": {},
     "output_type": "display_data"
    }
   ],
   "source": [
    "# Draw the digit.\n",
    "\n",
    "show_digit(as.matrix(training[5,2:785]))\n",
    "\n",
    "\n",
    "\n",
    "# Predict the digit.\n",
    "\n",
    "predict(fit, newdata = training[5,])\n",
    "\n",
    "\n",
    "\n",
    "# Check the actual answer for the digit.\n",
    "\n",
    "training[5,1]\n",
    "\n"
   ]
  },
  {
   "cell_type": "code",
   "execution_count": null,
   "metadata": {
    "collapsed": true
   },
   "outputs": [],
   "source": []
  }
 ],
 "metadata": {
  "kernelspec": {
   "display_name": "R",
   "language": "R",
   "name": "ir"
  },
  "language_info": {
   "codemirror_mode": "r",
   "file_extension": ".r",
   "mimetype": "text/x-r-source",
   "name": "R",
   "pygments_lexer": "r",
   "version": "3.4.2"
  }
 },
 "nbformat": 4,
 "nbformat_minor": 2
}
