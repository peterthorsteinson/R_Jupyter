{
 "cells": [
  {
   "cell_type": "markdown",
   "metadata": {},
   "source": [
    "# 14 Manipulating Data\n",
    "\n",
    "See: [Cookbook for R: Manipulating Data by Winston Chang](http://www.cookbook-r.com/Manipulating_data/) "
   ]
  },
  {
   "cell_type": "code",
   "execution_count": 1,
   "metadata": {},
   "outputs": [
    {
     "data": {
      "text/html": [
       "<ol class=list-inline>\n",
       "\t<li>101</li>\n",
       "\t<li>102</li>\n",
       "\t<li>103</li>\n",
       "\t<li>104</li>\n",
       "\t<li>105</li>\n",
       "\t<li>106</li>\n",
       "\t<li>107</li>\n",
       "\t<li>108</li>\n",
       "\t<li>109</li>\n",
       "\t<li>110</li>\n",
       "</ol>\n"
      ],
      "text/latex": [
       "\\begin{enumerate*}\n",
       "\\item 101\n",
       "\\item 102\n",
       "\\item 103\n",
       "\\item 104\n",
       "\\item 105\n",
       "\\item 106\n",
       "\\item 107\n",
       "\\item 108\n",
       "\\item 109\n",
       "\\item 110\n",
       "\\end{enumerate*}\n"
      ],
      "text/markdown": [
       "1. 101\n",
       "2. 102\n",
       "3. 103\n",
       "4. 104\n",
       "5. 105\n",
       "6. 106\n",
       "7. 107\n",
       "8. 108\n",
       "9. 109\n",
       "10. 110\n",
       "\n",
       "\n"
      ],
      "text/plain": [
       " [1] 101 102 103 104 105 106 107 108 109 110"
      ]
     },
     "metadata": {},
     "output_type": "display_data"
    },
    {
     "data": {
      "text/html": [
       "<ol class=list-inline>\n",
       "\t<li>110</li>\n",
       "\t<li>109</li>\n",
       "\t<li>108</li>\n",
       "\t<li>107</li>\n",
       "\t<li>106</li>\n",
       "\t<li>105</li>\n",
       "\t<li>104</li>\n",
       "\t<li>103</li>\n",
       "\t<li>102</li>\n",
       "\t<li>101</li>\n",
       "</ol>\n"
      ],
      "text/latex": [
       "\\begin{enumerate*}\n",
       "\\item 110\n",
       "\\item 109\n",
       "\\item 108\n",
       "\\item 107\n",
       "\\item 106\n",
       "\\item 105\n",
       "\\item 104\n",
       "\\item 103\n",
       "\\item 102\n",
       "\\item 101\n",
       "\\end{enumerate*}\n"
      ],
      "text/markdown": [
       "1. 110\n",
       "2. 109\n",
       "3. 108\n",
       "4. 107\n",
       "5. 106\n",
       "6. 105\n",
       "7. 104\n",
       "8. 103\n",
       "9. 102\n",
       "10. 101\n",
       "\n",
       "\n"
      ],
      "text/plain": [
       " [1] 110 109 108 107 106 105 104 103 102 101"
      ]
     },
     "metadata": {},
     "output_type": "display_data"
    }
   ],
   "source": [
    "# Make up a randomly ordered vector\n",
    "v <- sample(101:110)\n",
    "\n",
    "# Sort the vector\n",
    "sort(v)\n",
    "#>  [1] 101 102 103 104 105 106 107 108 109 110\n",
    "\n",
    "# Reverse sort\n",
    "sort(v, decreasing=TRUE)\n",
    "#>  [1] 110 109 108 107 106 105 104 103 102 101"
   ]
  },
  {
   "cell_type": "code",
   "execution_count": 7,
   "metadata": {},
   "outputs": [
    {
     "data": {
      "text/html": [
       "<table>\n",
       "<thead><tr><th scope=col>id</th><th scope=col>weight</th><th scope=col>size</th></tr></thead>\n",
       "<tbody>\n",
       "\t<tr><td>1     </td><td>20    </td><td>small </td></tr>\n",
       "\t<tr><td>2     </td><td>27    </td><td>large </td></tr>\n",
       "\t<tr><td>3     </td><td>24    </td><td>medium</td></tr>\n",
       "\t<tr><td>4     </td><td>22    </td><td>large </td></tr>\n",
       "</tbody>\n",
       "</table>\n"
      ],
      "text/latex": [
       "\\begin{tabular}{r|lll}\n",
       " id & weight & size\\\\\n",
       "\\hline\n",
       "\t 1      & 20     & small \\\\\n",
       "\t 2      & 27     & large \\\\\n",
       "\t 3      & 24     & medium\\\\\n",
       "\t 4      & 22     & large \\\\\n",
       "\\end{tabular}\n"
      ],
      "text/markdown": [
       "\n",
       "id | weight | size | \n",
       "|---|---|---|---|\n",
       "| 1      | 20     | small  | \n",
       "| 2      | 27     | large  | \n",
       "| 3      | 24     | medium | \n",
       "| 4      | 22     | large  | \n",
       "\n",
       "\n"
      ],
      "text/plain": [
       "  id weight size  \n",
       "1 1  20     small \n",
       "2 2  27     large \n",
       "3 3  24     medium\n",
       "4 4  22     large "
      ]
     },
     "metadata": {},
     "output_type": "display_data"
    },
    {
     "data": {
      "text/html": [
       "<table>\n",
       "<thead><tr><th scope=col>id</th><th scope=col>weight</th><th scope=col>size</th></tr></thead>\n",
       "<tbody>\n",
       "\t<tr><td>1     </td><td>20    </td><td>small </td></tr>\n",
       "\t<tr><td>4     </td><td>22    </td><td>large </td></tr>\n",
       "\t<tr><td>3     </td><td>24    </td><td>medium</td></tr>\n",
       "\t<tr><td>2     </td><td>27    </td><td>large </td></tr>\n",
       "</tbody>\n",
       "</table>\n"
      ],
      "text/latex": [
       "\\begin{tabular}{r|lll}\n",
       " id & weight & size\\\\\n",
       "\\hline\n",
       "\t 1      & 20     & small \\\\\n",
       "\t 4      & 22     & large \\\\\n",
       "\t 3      & 24     & medium\\\\\n",
       "\t 2      & 27     & large \\\\\n",
       "\\end{tabular}\n"
      ],
      "text/markdown": [
       "\n",
       "id | weight | size | \n",
       "|---|---|---|---|\n",
       "| 1      | 20     | small  | \n",
       "| 4      | 22     | large  | \n",
       "| 3      | 24     | medium | \n",
       "| 2      | 27     | large  | \n",
       "\n",
       "\n"
      ],
      "text/plain": [
       "  id weight size  \n",
       "1 1  20     small \n",
       "2 4  22     large \n",
       "3 3  24     medium\n",
       "4 2  27     large "
      ]
     },
     "metadata": {},
     "output_type": "display_data"
    },
    {
     "data": {
      "text/html": [
       "<table>\n",
       "<thead><tr><th></th><th scope=col>id</th><th scope=col>weight</th><th scope=col>size</th></tr></thead>\n",
       "<tbody>\n",
       "\t<tr><th scope=row>1</th><td>1     </td><td>20    </td><td>small </td></tr>\n",
       "\t<tr><th scope=row>4</th><td>4     </td><td>22    </td><td>large </td></tr>\n",
       "\t<tr><th scope=row>3</th><td>3     </td><td>24    </td><td>medium</td></tr>\n",
       "\t<tr><th scope=row>2</th><td>2     </td><td>27    </td><td>large </td></tr>\n",
       "</tbody>\n",
       "</table>\n"
      ],
      "text/latex": [
       "\\begin{tabular}{r|lll}\n",
       "  & id & weight & size\\\\\n",
       "\\hline\n",
       "\t1 & 1      & 20     & small \\\\\n",
       "\t4 & 4      & 22     & large \\\\\n",
       "\t3 & 3      & 24     & medium\\\\\n",
       "\t2 & 2      & 27     & large \\\\\n",
       "\\end{tabular}\n"
      ],
      "text/markdown": [
       "\n",
       "| <!--/--> | id | weight | size | \n",
       "|---|---|---|---|\n",
       "| 1 | 1      | 20     | small  | \n",
       "| 4 | 4      | 22     | large  | \n",
       "| 3 | 3      | 24     | medium | \n",
       "| 2 | 2      | 27     | large  | \n",
       "\n",
       "\n"
      ],
      "text/plain": [
       "  id weight size  \n",
       "1 1  20     small \n",
       "4 4  22     large \n",
       "3 3  24     medium\n",
       "2 2  27     large "
      ]
     },
     "metadata": {},
     "output_type": "display_data"
    },
    {
     "data": {
      "text/html": [
       "<table>\n",
       "<thead><tr><th scope=col>id</th><th scope=col>weight</th><th scope=col>size</th></tr></thead>\n",
       "<tbody>\n",
       "\t<tr><td>4     </td><td>22    </td><td>large </td></tr>\n",
       "\t<tr><td>2     </td><td>27    </td><td>large </td></tr>\n",
       "\t<tr><td>3     </td><td>24    </td><td>medium</td></tr>\n",
       "\t<tr><td>1     </td><td>20    </td><td>small </td></tr>\n",
       "</tbody>\n",
       "</table>\n"
      ],
      "text/latex": [
       "\\begin{tabular}{r|lll}\n",
       " id & weight & size\\\\\n",
       "\\hline\n",
       "\t 4      & 22     & large \\\\\n",
       "\t 2      & 27     & large \\\\\n",
       "\t 3      & 24     & medium\\\\\n",
       "\t 1      & 20     & small \\\\\n",
       "\\end{tabular}\n"
      ],
      "text/markdown": [
       "\n",
       "id | weight | size | \n",
       "|---|---|---|---|\n",
       "| 4      | 22     | large  | \n",
       "| 2      | 27     | large  | \n",
       "| 3      | 24     | medium | \n",
       "| 1      | 20     | small  | \n",
       "\n",
       "\n"
      ],
      "text/plain": [
       "  id weight size  \n",
       "1 4  22     large \n",
       "2 2  27     large \n",
       "3 3  24     medium\n",
       "4 1  20     small "
      ]
     },
     "metadata": {},
     "output_type": "display_data"
    },
    {
     "data": {
      "text/html": [
       "<table>\n",
       "<thead><tr><th></th><th scope=col>id</th><th scope=col>weight</th><th scope=col>size</th></tr></thead>\n",
       "<tbody>\n",
       "\t<tr><th scope=row>4</th><td>4     </td><td>22    </td><td>large </td></tr>\n",
       "\t<tr><th scope=row>2</th><td>2     </td><td>27    </td><td>large </td></tr>\n",
       "\t<tr><th scope=row>3</th><td>3     </td><td>24    </td><td>medium</td></tr>\n",
       "\t<tr><th scope=row>1</th><td>1     </td><td>20    </td><td>small </td></tr>\n",
       "</tbody>\n",
       "</table>\n"
      ],
      "text/latex": [
       "\\begin{tabular}{r|lll}\n",
       "  & id & weight & size\\\\\n",
       "\\hline\n",
       "\t4 & 4      & 22     & large \\\\\n",
       "\t2 & 2      & 27     & large \\\\\n",
       "\t3 & 3      & 24     & medium\\\\\n",
       "\t1 & 1      & 20     & small \\\\\n",
       "\\end{tabular}\n"
      ],
      "text/markdown": [
       "\n",
       "| <!--/--> | id | weight | size | \n",
       "|---|---|---|---|\n",
       "| 4 | 4      | 22     | large  | \n",
       "| 2 | 2      | 27     | large  | \n",
       "| 3 | 3      | 24     | medium | \n",
       "| 1 | 1      | 20     | small  | \n",
       "\n",
       "\n"
      ],
      "text/plain": [
       "  id weight size  \n",
       "4 4  22     large \n",
       "2 2  27     large \n",
       "3 3  24     medium\n",
       "1 1  20     small "
      ]
     },
     "metadata": {},
     "output_type": "display_data"
    },
    {
     "data": {
      "text/html": [
       "<table>\n",
       "<thead><tr><th scope=col>id</th><th scope=col>weight</th><th scope=col>size</th></tr></thead>\n",
       "<tbody>\n",
       "\t<tr><td>1     </td><td>20    </td><td>small </td></tr>\n",
       "\t<tr><td>2     </td><td>27    </td><td>large </td></tr>\n",
       "\t<tr><td>3     </td><td>24    </td><td>medium</td></tr>\n",
       "\t<tr><td>4     </td><td>22    </td><td>large </td></tr>\n",
       "</tbody>\n",
       "</table>\n"
      ],
      "text/latex": [
       "\\begin{tabular}{r|lll}\n",
       " id & weight & size\\\\\n",
       "\\hline\n",
       "\t 1      & 20     & small \\\\\n",
       "\t 2      & 27     & large \\\\\n",
       "\t 3      & 24     & medium\\\\\n",
       "\t 4      & 22     & large \\\\\n",
       "\\end{tabular}\n"
      ],
      "text/markdown": [
       "\n",
       "id | weight | size | \n",
       "|---|---|---|---|\n",
       "| 1      | 20     | small  | \n",
       "| 2      | 27     | large  | \n",
       "| 3      | 24     | medium | \n",
       "| 4      | 22     | large  | \n",
       "\n",
       "\n"
      ],
      "text/plain": [
       "  id weight size  \n",
       "1 1  20     small \n",
       "2 2  27     large \n",
       "3 3  24     medium\n",
       "4 4  22     large "
      ]
     },
     "metadata": {},
     "output_type": "display_data"
    }
   ],
   "source": [
    "# Make a data frame\n",
    "df <- data.frame (id=1:4,\n",
    "            weight=c(20,27,24,22),\n",
    "            size=c(\"small\", \"large\", \"medium\", \"large\"))\n",
    "df\n",
    "\n",
    "library(plyr)\n",
    "\n",
    "# Sort by weight column. These have the same result.\n",
    "arrange(df, weight)       # Use arrange from plyr package\n",
    "df[ order(df$weight), ]   # Use built-in R functions\n",
    "#>   id weight   size\n",
    "#> 1  1     20  small\n",
    "#> 2  4     22  large\n",
    "#> 3  3     24 medium\n",
    "#> 4  2     27  large\n",
    "\n",
    "\n",
    "# Sort by size, then by weight\n",
    "arrange(df, size, weight)         # Use arrange from plyr package\n",
    "df[ order(df$size, df$weight), ]  # Use built-in R functions\n",
    "#>   id weight   size\n",
    "#> 4  4     22  large\n",
    "#> 2  2     27  large\n",
    "#> 3  3     24 medium\n",
    "#> 1  1     20  small\n",
    "\n",
    "\n",
    "# Sort by all columns in the data frame, from left to right\n",
    "df[ do.call(order, as.list(df)), ] \n",
    "# In this particular example, the order will be unchanged"
   ]
  },
  {
   "cell_type": "code",
   "execution_count": 3,
   "metadata": {},
   "outputs": [
    {
     "data": {
      "text/html": [
       "<table>\n",
       "<thead><tr><th scope=col>id</th><th scope=col>weight</th><th scope=col>size</th></tr></thead>\n",
       "<tbody>\n",
       "\t<tr><td>2     </td><td>27    </td><td>large </td></tr>\n",
       "\t<tr><td>3     </td><td>24    </td><td>medium</td></tr>\n",
       "\t<tr><td>4     </td><td>22    </td><td>large </td></tr>\n",
       "\t<tr><td>1     </td><td>20    </td><td>small </td></tr>\n",
       "</tbody>\n",
       "</table>\n"
      ],
      "text/latex": [
       "\\begin{tabular}{r|lll}\n",
       " id & weight & size\\\\\n",
       "\\hline\n",
       "\t 2      & 27     & large \\\\\n",
       "\t 3      & 24     & medium\\\\\n",
       "\t 4      & 22     & large \\\\\n",
       "\t 1      & 20     & small \\\\\n",
       "\\end{tabular}\n"
      ],
      "text/markdown": [
       "\n",
       "id | weight | size | \n",
       "|---|---|---|---|\n",
       "| 2      | 27     | large  | \n",
       "| 3      | 24     | medium | \n",
       "| 4      | 22     | large  | \n",
       "| 1      | 20     | small  | \n",
       "\n",
       "\n"
      ],
      "text/plain": [
       "  id weight size  \n",
       "1 2  27     large \n",
       "2 3  24     medium\n",
       "3 4  22     large \n",
       "4 1  20     small "
      ]
     },
     "metadata": {},
     "output_type": "display_data"
    },
    {
     "data": {
      "text/html": [
       "<table>\n",
       "<thead><tr><th></th><th scope=col>id</th><th scope=col>weight</th><th scope=col>size</th></tr></thead>\n",
       "<tbody>\n",
       "\t<tr><th scope=row>2</th><td>2     </td><td>27    </td><td>large </td></tr>\n",
       "\t<tr><th scope=row>3</th><td>3     </td><td>24    </td><td>medium</td></tr>\n",
       "\t<tr><th scope=row>4</th><td>4     </td><td>22    </td><td>large </td></tr>\n",
       "\t<tr><th scope=row>1</th><td>1     </td><td>20    </td><td>small </td></tr>\n",
       "</tbody>\n",
       "</table>\n"
      ],
      "text/latex": [
       "\\begin{tabular}{r|lll}\n",
       "  & id & weight & size\\\\\n",
       "\\hline\n",
       "\t2 & 2      & 27     & large \\\\\n",
       "\t3 & 3      & 24     & medium\\\\\n",
       "\t4 & 4      & 22     & large \\\\\n",
       "\t1 & 1      & 20     & small \\\\\n",
       "\\end{tabular}\n"
      ],
      "text/markdown": [
       "\n",
       "| <!--/--> | id | weight | size | \n",
       "|---|---|---|---|\n",
       "| 2 | 2      | 27     | large  | \n",
       "| 3 | 3      | 24     | medium | \n",
       "| 4 | 4      | 22     | large  | \n",
       "| 1 | 1      | 20     | small  | \n",
       "\n",
       "\n"
      ],
      "text/plain": [
       "  id weight size  \n",
       "2 2  27     large \n",
       "3 3  24     medium\n",
       "4 4  22     large \n",
       "1 1  20     small "
      ]
     },
     "metadata": {},
     "output_type": "display_data"
    },
    {
     "data": {
      "text/html": [
       "<table>\n",
       "<thead><tr><th></th><th scope=col>id</th><th scope=col>weight</th><th scope=col>size</th></tr></thead>\n",
       "<tbody>\n",
       "\t<tr><th scope=row>2</th><td>2     </td><td>27    </td><td>large </td></tr>\n",
       "\t<tr><th scope=row>3</th><td>3     </td><td>24    </td><td>medium</td></tr>\n",
       "\t<tr><th scope=row>4</th><td>4     </td><td>22    </td><td>large </td></tr>\n",
       "\t<tr><th scope=row>1</th><td>1     </td><td>20    </td><td>small </td></tr>\n",
       "</tbody>\n",
       "</table>\n"
      ],
      "text/latex": [
       "\\begin{tabular}{r|lll}\n",
       "  & id & weight & size\\\\\n",
       "\\hline\n",
       "\t2 & 2      & 27     & large \\\\\n",
       "\t3 & 3      & 24     & medium\\\\\n",
       "\t4 & 4      & 22     & large \\\\\n",
       "\t1 & 1      & 20     & small \\\\\n",
       "\\end{tabular}\n"
      ],
      "text/markdown": [
       "\n",
       "| <!--/--> | id | weight | size | \n",
       "|---|---|---|---|\n",
       "| 2 | 2      | 27     | large  | \n",
       "| 3 | 3      | 24     | medium | \n",
       "| 4 | 4      | 22     | large  | \n",
       "| 1 | 1      | 20     | small  | \n",
       "\n",
       "\n"
      ],
      "text/plain": [
       "  id weight size  \n",
       "2 2  27     large \n",
       "3 3  24     medium\n",
       "4 4  22     large \n",
       "1 1  20     small "
      ]
     },
     "metadata": {},
     "output_type": "display_data"
    },
    {
     "data": {
      "text/html": [
       "<table>\n",
       "<thead><tr><th scope=col>id</th><th scope=col>weight</th><th scope=col>size</th></tr></thead>\n",
       "<tbody>\n",
       "\t<tr><td>2     </td><td>27    </td><td>large </td></tr>\n",
       "\t<tr><td>4     </td><td>22    </td><td>large </td></tr>\n",
       "\t<tr><td>3     </td><td>24    </td><td>medium</td></tr>\n",
       "\t<tr><td>1     </td><td>20    </td><td>small </td></tr>\n",
       "</tbody>\n",
       "</table>\n"
      ],
      "text/latex": [
       "\\begin{tabular}{r|lll}\n",
       " id & weight & size\\\\\n",
       "\\hline\n",
       "\t 2      & 27     & large \\\\\n",
       "\t 4      & 22     & large \\\\\n",
       "\t 3      & 24     & medium\\\\\n",
       "\t 1      & 20     & small \\\\\n",
       "\\end{tabular}\n"
      ],
      "text/markdown": [
       "\n",
       "id | weight | size | \n",
       "|---|---|---|---|\n",
       "| 2      | 27     | large  | \n",
       "| 4      | 22     | large  | \n",
       "| 3      | 24     | medium | \n",
       "| 1      | 20     | small  | \n",
       "\n",
       "\n"
      ],
      "text/plain": [
       "  id weight size  \n",
       "1 2  27     large \n",
       "2 4  22     large \n",
       "3 3  24     medium\n",
       "4 1  20     small "
      ]
     },
     "metadata": {},
     "output_type": "display_data"
    },
    {
     "data": {
      "text/html": [
       "<table>\n",
       "<thead><tr><th></th><th scope=col>id</th><th scope=col>weight</th><th scope=col>size</th></tr></thead>\n",
       "<tbody>\n",
       "\t<tr><th scope=row>2</th><td>2     </td><td>27    </td><td>large </td></tr>\n",
       "\t<tr><th scope=row>4</th><td>4     </td><td>22    </td><td>large </td></tr>\n",
       "\t<tr><th scope=row>3</th><td>3     </td><td>24    </td><td>medium</td></tr>\n",
       "\t<tr><th scope=row>1</th><td>1     </td><td>20    </td><td>small </td></tr>\n",
       "</tbody>\n",
       "</table>\n"
      ],
      "text/latex": [
       "\\begin{tabular}{r|lll}\n",
       "  & id & weight & size\\\\\n",
       "\\hline\n",
       "\t2 & 2      & 27     & large \\\\\n",
       "\t4 & 4      & 22     & large \\\\\n",
       "\t3 & 3      & 24     & medium\\\\\n",
       "\t1 & 1      & 20     & small \\\\\n",
       "\\end{tabular}\n"
      ],
      "text/markdown": [
       "\n",
       "| <!--/--> | id | weight | size | \n",
       "|---|---|---|---|\n",
       "| 2 | 2      | 27     | large  | \n",
       "| 4 | 4      | 22     | large  | \n",
       "| 3 | 3      | 24     | medium | \n",
       "| 1 | 1      | 20     | small  | \n",
       "\n",
       "\n"
      ],
      "text/plain": [
       "  id weight size  \n",
       "2 2  27     large \n",
       "4 4  22     large \n",
       "3 3  24     medium\n",
       "1 1  20     small "
      ]
     },
     "metadata": {},
     "output_type": "display_data"
    },
    {
     "data": {
      "text/html": [
       "<table>\n",
       "<thead><tr><th scope=col>id</th><th scope=col>weight</th><th scope=col>size</th></tr></thead>\n",
       "<tbody>\n",
       "\t<tr><td>1     </td><td>20    </td><td>small </td></tr>\n",
       "\t<tr><td>3     </td><td>24    </td><td>medium</td></tr>\n",
       "\t<tr><td>4     </td><td>22    </td><td>large </td></tr>\n",
       "\t<tr><td>2     </td><td>27    </td><td>large </td></tr>\n",
       "</tbody>\n",
       "</table>\n"
      ],
      "text/latex": [
       "\\begin{tabular}{r|lll}\n",
       " id & weight & size\\\\\n",
       "\\hline\n",
       "\t 1      & 20     & small \\\\\n",
       "\t 3      & 24     & medium\\\\\n",
       "\t 4      & 22     & large \\\\\n",
       "\t 2      & 27     & large \\\\\n",
       "\\end{tabular}\n"
      ],
      "text/markdown": [
       "\n",
       "id | weight | size | \n",
       "|---|---|---|---|\n",
       "| 1      | 20     | small  | \n",
       "| 3      | 24     | medium | \n",
       "| 4      | 22     | large  | \n",
       "| 2      | 27     | large  | \n",
       "\n",
       "\n"
      ],
      "text/plain": [
       "  id weight size  \n",
       "1 1  20     small \n",
       "2 3  24     medium\n",
       "3 4  22     large \n",
       "4 2  27     large "
      ]
     },
     "metadata": {},
     "output_type": "display_data"
    },
    {
     "data": {
      "text/html": [
       "<table>\n",
       "<thead><tr><th></th><th scope=col>id</th><th scope=col>weight</th><th scope=col>size</th></tr></thead>\n",
       "<tbody>\n",
       "\t<tr><th scope=row>1</th><td>1     </td><td>20    </td><td>small </td></tr>\n",
       "\t<tr><th scope=row>3</th><td>3     </td><td>24    </td><td>medium</td></tr>\n",
       "\t<tr><th scope=row>4</th><td>4     </td><td>22    </td><td>large </td></tr>\n",
       "\t<tr><th scope=row>2</th><td>2     </td><td>27    </td><td>large </td></tr>\n",
       "</tbody>\n",
       "</table>\n"
      ],
      "text/latex": [
       "\\begin{tabular}{r|lll}\n",
       "  & id & weight & size\\\\\n",
       "\\hline\n",
       "\t1 & 1      & 20     & small \\\\\n",
       "\t3 & 3      & 24     & medium\\\\\n",
       "\t4 & 4      & 22     & large \\\\\n",
       "\t2 & 2      & 27     & large \\\\\n",
       "\\end{tabular}\n"
      ],
      "text/markdown": [
       "\n",
       "| <!--/--> | id | weight | size | \n",
       "|---|---|---|---|\n",
       "| 1 | 1      | 20     | small  | \n",
       "| 3 | 3      | 24     | medium | \n",
       "| 4 | 4      | 22     | large  | \n",
       "| 2 | 2      | 27     | large  | \n",
       "\n",
       "\n"
      ],
      "text/plain": [
       "  id weight size  \n",
       "1 1  20     small \n",
       "3 3  24     medium\n",
       "4 4  22     large \n",
       "2 2  27     large "
      ]
     },
     "metadata": {},
     "output_type": "display_data"
    }
   ],
   "source": [
    "# Reverse sort by weight column. These all have the same effect:\n",
    "arrange(df, -weight)                      # Use arrange from plyr package\n",
    "df[ order(df$weight, decreasing=TRUE), ]  # Use built-in R functions\n",
    "df[ order(-df$weight), ]                  # Use built-in R functions\n",
    "#>   id weight   size\n",
    "#> 2  2     27  large\n",
    "#> 3  3     24 medium\n",
    "#> 4  4     22  large\n",
    "#> 1  1     20  small\n",
    "\n",
    "\n",
    "# Sort by size (increasing), then by weight (decreasing)\n",
    "arrange(df, size, -weight)         # Use arrange from plyr package\n",
    "df[ order(df$size, -df$weight), ]  # Use built-in R functions\n",
    "#>   id weight   size\n",
    "#> 2  2     27  large\n",
    "#> 4  4     22  large\n",
    "#> 3  3     24 medium\n",
    "#> 1  1     20  small\n",
    "\n",
    "\n",
    "# Sort by size (decreasing), then by weight (increasing)\n",
    "# The call to xtfrm() is needed for factors\n",
    "arrange(df, -xtfrm(size), weight)         # Use arrange from plyr package\n",
    "df[ order(-xtfrm(df$size), df$weight), ]  # Use built-in R functions\n",
    "#>   id weight   size\n",
    "#> 1  1     20  small\n",
    "#> 3  3     24 medium\n",
    "#> 4  4     22  large\n",
    "#> 2  2     27  large"
   ]
  },
  {
   "cell_type": "code",
   "execution_count": 3,
   "metadata": {},
   "outputs": [
    {
     "data": {
      "text/html": [
       "<ol class=list-inline>\n",
       "\t<li>102</li>\n",
       "\t<li>108</li>\n",
       "\t<li>104</li>\n",
       "\t<li>110</li>\n",
       "\t<li>103</li>\n",
       "\t<li>106</li>\n",
       "\t<li>107</li>\n",
       "\t<li>101</li>\n",
       "\t<li>105</li>\n",
       "\t<li>109</li>\n",
       "</ol>\n"
      ],
      "text/latex": [
       "\\begin{enumerate*}\n",
       "\\item 102\n",
       "\\item 108\n",
       "\\item 104\n",
       "\\item 110\n",
       "\\item 103\n",
       "\\item 106\n",
       "\\item 107\n",
       "\\item 101\n",
       "\\item 105\n",
       "\\item 109\n",
       "\\end{enumerate*}\n"
      ],
      "text/markdown": [
       "1. 102\n",
       "2. 108\n",
       "3. 104\n",
       "4. 110\n",
       "5. 103\n",
       "6. 106\n",
       "7. 107\n",
       "8. 101\n",
       "9. 105\n",
       "10. 109\n",
       "\n",
       "\n"
      ],
      "text/plain": [
       " [1] 102 108 104 110 103 106 107 101 105 109"
      ]
     },
     "metadata": {},
     "output_type": "display_data"
    },
    {
     "data": {
      "text/html": [
       "<ol class=list-inline>\n",
       "\t<li>101</li>\n",
       "\t<li>102</li>\n",
       "\t<li>103</li>\n",
       "\t<li>104</li>\n",
       "\t<li>105</li>\n",
       "\t<li>106</li>\n",
       "\t<li>107</li>\n",
       "\t<li>108</li>\n",
       "\t<li>109</li>\n",
       "\t<li>110</li>\n",
       "</ol>\n"
      ],
      "text/latex": [
       "\\begin{enumerate*}\n",
       "\\item 101\n",
       "\\item 102\n",
       "\\item 103\n",
       "\\item 104\n",
       "\\item 105\n",
       "\\item 106\n",
       "\\item 107\n",
       "\\item 108\n",
       "\\item 109\n",
       "\\item 110\n",
       "\\end{enumerate*}\n"
      ],
      "text/markdown": [
       "1. 101\n",
       "2. 102\n",
       "3. 103\n",
       "4. 104\n",
       "5. 105\n",
       "6. 106\n",
       "7. 107\n",
       "8. 108\n",
       "9. 109\n",
       "10. 110\n",
       "\n",
       "\n"
      ],
      "text/plain": [
       " [1] 101 102 103 104 105 106 107 108 109 110"
      ]
     },
     "metadata": {},
     "output_type": "display_data"
    },
    {
     "data": {
      "text/html": [
       "<ol class=list-inline>\n",
       "\t<li>110</li>\n",
       "\t<li>109</li>\n",
       "\t<li>108</li>\n",
       "\t<li>107</li>\n",
       "\t<li>106</li>\n",
       "\t<li>105</li>\n",
       "\t<li>104</li>\n",
       "\t<li>103</li>\n",
       "\t<li>102</li>\n",
       "\t<li>101</li>\n",
       "</ol>\n"
      ],
      "text/latex": [
       "\\begin{enumerate*}\n",
       "\\item 110\n",
       "\\item 109\n",
       "\\item 108\n",
       "\\item 107\n",
       "\\item 106\n",
       "\\item 105\n",
       "\\item 104\n",
       "\\item 103\n",
       "\\item 102\n",
       "\\item 101\n",
       "\\end{enumerate*}\n"
      ],
      "text/markdown": [
       "1. 110\n",
       "2. 109\n",
       "3. 108\n",
       "4. 107\n",
       "5. 106\n",
       "6. 105\n",
       "7. 104\n",
       "8. 103\n",
       "9. 102\n",
       "10. 101\n",
       "\n",
       "\n"
      ],
      "text/plain": [
       " [1] 110 109 108 107 106 105 104 103 102 101"
      ]
     },
     "metadata": {},
     "output_type": "display_data"
    }
   ],
   "source": [
    "# sort vector\n",
    "x <- sample(101:110)\n",
    "x\n",
    "y <- sort(x)\n",
    "y\n",
    "z <- sort(x, decreasing=TRUE)\n",
    "z\n"
   ]
  },
  {
   "cell_type": "code",
   "execution_count": 6,
   "metadata": {},
   "outputs": [
    {
     "data": {
      "text/html": [
       "<table>\n",
       "<thead><tr><th scope=col>id</th><th scope=col>weight</th><th scope=col>size</th></tr></thead>\n",
       "<tbody>\n",
       "\t<tr><td>1     </td><td>20    </td><td>small </td></tr>\n",
       "\t<tr><td>2     </td><td>27    </td><td>large </td></tr>\n",
       "\t<tr><td>3     </td><td>24    </td><td>medium</td></tr>\n",
       "\t<tr><td>4     </td><td>22    </td><td>large </td></tr>\n",
       "</tbody>\n",
       "</table>\n"
      ],
      "text/latex": [
       "\\begin{tabular}{r|lll}\n",
       " id & weight & size\\\\\n",
       "\\hline\n",
       "\t 1      & 20     & small \\\\\n",
       "\t 2      & 27     & large \\\\\n",
       "\t 3      & 24     & medium\\\\\n",
       "\t 4      & 22     & large \\\\\n",
       "\\end{tabular}\n"
      ],
      "text/markdown": [
       "\n",
       "id | weight | size | \n",
       "|---|---|---|---|\n",
       "| 1      | 20     | small  | \n",
       "| 2      | 27     | large  | \n",
       "| 3      | 24     | medium | \n",
       "| 4      | 22     | large  | \n",
       "\n",
       "\n"
      ],
      "text/plain": [
       "  id weight size  \n",
       "1 1  20     small \n",
       "2 2  27     large \n",
       "3 3  24     medium\n",
       "4 4  22     large "
      ]
     },
     "metadata": {},
     "output_type": "display_data"
    },
    {
     "data": {
      "text/html": [
       "<table>\n",
       "<thead><tr><th></th><th scope=col>id</th><th scope=col>weight</th><th scope=col>size</th></tr></thead>\n",
       "<tbody>\n",
       "\t<tr><th scope=row>1</th><td>1     </td><td>20    </td><td>small </td></tr>\n",
       "\t<tr><th scope=row>4</th><td>4     </td><td>22    </td><td>large </td></tr>\n",
       "\t<tr><th scope=row>3</th><td>3     </td><td>24    </td><td>medium</td></tr>\n",
       "\t<tr><th scope=row>2</th><td>2     </td><td>27    </td><td>large </td></tr>\n",
       "</tbody>\n",
       "</table>\n"
      ],
      "text/latex": [
       "\\begin{tabular}{r|lll}\n",
       "  & id & weight & size\\\\\n",
       "\\hline\n",
       "\t1 & 1      & 20     & small \\\\\n",
       "\t4 & 4      & 22     & large \\\\\n",
       "\t3 & 3      & 24     & medium\\\\\n",
       "\t2 & 2      & 27     & large \\\\\n",
       "\\end{tabular}\n"
      ],
      "text/markdown": [
       "\n",
       "| <!--/--> | id | weight | size | \n",
       "|---|---|---|---|\n",
       "| 1 | 1      | 20     | small  | \n",
       "| 4 | 4      | 22     | large  | \n",
       "| 3 | 3      | 24     | medium | \n",
       "| 2 | 2      | 27     | large  | \n",
       "\n",
       "\n"
      ],
      "text/plain": [
       "  id weight size  \n",
       "1 1  20     small \n",
       "4 4  22     large \n",
       "3 3  24     medium\n",
       "2 2  27     large "
      ]
     },
     "metadata": {},
     "output_type": "display_data"
    },
    {
     "data": {
      "text/html": [
       "<table>\n",
       "<thead><tr><th scope=col>id</th><th scope=col>weight</th><th scope=col>size</th></tr></thead>\n",
       "<tbody>\n",
       "\t<tr><td>1     </td><td>20    </td><td>small </td></tr>\n",
       "\t<tr><td>4     </td><td>22    </td><td>large </td></tr>\n",
       "\t<tr><td>3     </td><td>24    </td><td>medium</td></tr>\n",
       "\t<tr><td>2     </td><td>27    </td><td>large </td></tr>\n",
       "</tbody>\n",
       "</table>\n"
      ],
      "text/latex": [
       "\\begin{tabular}{r|lll}\n",
       " id & weight & size\\\\\n",
       "\\hline\n",
       "\t 1      & 20     & small \\\\\n",
       "\t 4      & 22     & large \\\\\n",
       "\t 3      & 24     & medium\\\\\n",
       "\t 2      & 27     & large \\\\\n",
       "\\end{tabular}\n"
      ],
      "text/markdown": [
       "\n",
       "id | weight | size | \n",
       "|---|---|---|---|\n",
       "| 1      | 20     | small  | \n",
       "| 4      | 22     | large  | \n",
       "| 3      | 24     | medium | \n",
       "| 2      | 27     | large  | \n",
       "\n",
       "\n"
      ],
      "text/plain": [
       "  id weight size  \n",
       "1 1  20     small \n",
       "2 4  22     large \n",
       "3 3  24     medium\n",
       "4 2  27     large "
      ]
     },
     "metadata": {},
     "output_type": "display_data"
    }
   ],
   "source": [
    "# sort a data frame\n",
    "df <- data.frame (id=1:4, weight=c(20,27,24,22), size=c(\"small\", \"large\", \"medium\", \"large\"))\n",
    "df\n",
    "\n",
    "# These have the same result:\n",
    "df[ order(df$weight), ]   #Sort by weight column usin built-in R functions\n",
    "library(plyr)\n",
    "# remove duplicate records from data frame\n",
    "\n",
    "arrange(df, weight)       # Sort by weight column using arrange from plyr package"
   ]
  },
  {
   "cell_type": "code",
   "execution_count": 7,
   "metadata": {},
   "outputs": [
    {
     "data": {
      "text/html": [
       "<ol class=list-inline>\n",
       "\t<li>14</li>\n",
       "\t<li>11</li>\n",
       "\t<li>8</li>\n",
       "\t<li>4</li>\n",
       "\t<li>12</li>\n",
       "\t<li>5</li>\n",
       "\t<li>10</li>\n",
       "\t<li>10</li>\n",
       "\t<li>3</li>\n",
       "\t<li>3</li>\n",
       "\t<li>11</li>\n",
       "\t<li>6</li>\n",
       "\t<li>0</li>\n",
       "\t<li>16</li>\n",
       "\t<li>8</li>\n",
       "\t<li>10</li>\n",
       "\t<li>8</li>\n",
       "\t<li>5</li>\n",
       "\t<li>6</li>\n",
       "\t<li>6</li>\n",
       "</ol>\n"
      ],
      "text/latex": [
       "\\begin{enumerate*}\n",
       "\\item 14\n",
       "\\item 11\n",
       "\\item 8\n",
       "\\item 4\n",
       "\\item 12\n",
       "\\item 5\n",
       "\\item 10\n",
       "\\item 10\n",
       "\\item 3\n",
       "\\item 3\n",
       "\\item 11\n",
       "\\item 6\n",
       "\\item 0\n",
       "\\item 16\n",
       "\\item 8\n",
       "\\item 10\n",
       "\\item 8\n",
       "\\item 5\n",
       "\\item 6\n",
       "\\item 6\n",
       "\\end{enumerate*}\n"
      ],
      "text/markdown": [
       "1. 14\n",
       "2. 11\n",
       "3. 8\n",
       "4. 4\n",
       "5. 12\n",
       "6. 5\n",
       "7. 10\n",
       "8. 10\n",
       "9. 3\n",
       "10. 3\n",
       "11. 11\n",
       "12. 6\n",
       "13. 0\n",
       "14. 16\n",
       "15. 8\n",
       "16. 10\n",
       "17. 8\n",
       "18. 5\n",
       "19. 6\n",
       "20. 6\n",
       "\n",
       "\n"
      ],
      "text/plain": [
       " [1] 14 11  8  4 12  5 10 10  3  3 11  6  0 16  8 10  8  5  6  6"
      ]
     },
     "metadata": {},
     "output_type": "display_data"
    },
    {
     "data": {
      "text/html": [
       "<ol class=list-inline>\n",
       "\t<li>FALSE</li>\n",
       "\t<li>FALSE</li>\n",
       "\t<li>FALSE</li>\n",
       "\t<li>FALSE</li>\n",
       "\t<li>FALSE</li>\n",
       "\t<li>FALSE</li>\n",
       "\t<li>FALSE</li>\n",
       "\t<li>TRUE</li>\n",
       "\t<li>FALSE</li>\n",
       "\t<li>TRUE</li>\n",
       "\t<li>TRUE</li>\n",
       "\t<li>FALSE</li>\n",
       "\t<li>FALSE</li>\n",
       "\t<li>FALSE</li>\n",
       "\t<li>TRUE</li>\n",
       "\t<li>TRUE</li>\n",
       "\t<li>TRUE</li>\n",
       "\t<li>TRUE</li>\n",
       "\t<li>TRUE</li>\n",
       "\t<li>TRUE</li>\n",
       "</ol>\n"
      ],
      "text/latex": [
       "\\begin{enumerate*}\n",
       "\\item FALSE\n",
       "\\item FALSE\n",
       "\\item FALSE\n",
       "\\item FALSE\n",
       "\\item FALSE\n",
       "\\item FALSE\n",
       "\\item FALSE\n",
       "\\item TRUE\n",
       "\\item FALSE\n",
       "\\item TRUE\n",
       "\\item TRUE\n",
       "\\item FALSE\n",
       "\\item FALSE\n",
       "\\item FALSE\n",
       "\\item TRUE\n",
       "\\item TRUE\n",
       "\\item TRUE\n",
       "\\item TRUE\n",
       "\\item TRUE\n",
       "\\item TRUE\n",
       "\\end{enumerate*}\n"
      ],
      "text/markdown": [
       "1. FALSE\n",
       "2. FALSE\n",
       "3. FALSE\n",
       "4. FALSE\n",
       "5. FALSE\n",
       "6. FALSE\n",
       "7. FALSE\n",
       "8. TRUE\n",
       "9. FALSE\n",
       "10. TRUE\n",
       "11. TRUE\n",
       "12. FALSE\n",
       "13. FALSE\n",
       "14. FALSE\n",
       "15. TRUE\n",
       "16. TRUE\n",
       "17. TRUE\n",
       "18. TRUE\n",
       "19. TRUE\n",
       "20. TRUE\n",
       "\n",
       "\n"
      ],
      "text/plain": [
       " [1] FALSE FALSE FALSE FALSE FALSE FALSE FALSE  TRUE FALSE  TRUE  TRUE FALSE\n",
       "[13] FALSE FALSE  TRUE  TRUE  TRUE  TRUE  TRUE  TRUE"
      ]
     },
     "metadata": {},
     "output_type": "display_data"
    },
    {
     "data": {
      "text/html": [
       "<ol class=list-inline>\n",
       "\t<li>10</li>\n",
       "\t<li>3</li>\n",
       "\t<li>11</li>\n",
       "\t<li>8</li>\n",
       "\t<li>10</li>\n",
       "\t<li>8</li>\n",
       "\t<li>5</li>\n",
       "\t<li>6</li>\n",
       "\t<li>6</li>\n",
       "</ol>\n"
      ],
      "text/latex": [
       "\\begin{enumerate*}\n",
       "\\item 10\n",
       "\\item 3\n",
       "\\item 11\n",
       "\\item 8\n",
       "\\item 10\n",
       "\\item 8\n",
       "\\item 5\n",
       "\\item 6\n",
       "\\item 6\n",
       "\\end{enumerate*}\n"
      ],
      "text/markdown": [
       "1. 10\n",
       "2. 3\n",
       "3. 11\n",
       "4. 8\n",
       "5. 10\n",
       "6. 8\n",
       "7. 5\n",
       "8. 6\n",
       "9. 6\n",
       "\n",
       "\n"
      ],
      "text/plain": [
       "[1] 10  3 11  8 10  8  5  6  6"
      ]
     },
     "metadata": {},
     "output_type": "display_data"
    },
    {
     "data": {
      "text/html": [
       "<ol class=list-inline>\n",
       "\t<li>10</li>\n",
       "\t<li>3</li>\n",
       "\t<li>11</li>\n",
       "\t<li>8</li>\n",
       "\t<li>5</li>\n",
       "\t<li>6</li>\n",
       "</ol>\n"
      ],
      "text/latex": [
       "\\begin{enumerate*}\n",
       "\\item 10\n",
       "\\item 3\n",
       "\\item 11\n",
       "\\item 8\n",
       "\\item 5\n",
       "\\item 6\n",
       "\\end{enumerate*}\n"
      ],
      "text/markdown": [
       "1. 10\n",
       "2. 3\n",
       "3. 11\n",
       "4. 8\n",
       "5. 5\n",
       "6. 6\n",
       "\n",
       "\n"
      ],
      "text/plain": [
       "[1] 10  3 11  8  5  6"
      ]
     },
     "metadata": {},
     "output_type": "display_data"
    },
    {
     "data": {
      "text/html": [
       "<ol class=list-inline>\n",
       "\t<li>14</li>\n",
       "\t<li>11</li>\n",
       "\t<li>8</li>\n",
       "\t<li>4</li>\n",
       "\t<li>12</li>\n",
       "\t<li>5</li>\n",
       "\t<li>10</li>\n",
       "\t<li>3</li>\n",
       "\t<li>6</li>\n",
       "\t<li>0</li>\n",
       "\t<li>16</li>\n",
       "</ol>\n"
      ],
      "text/latex": [
       "\\begin{enumerate*}\n",
       "\\item 14\n",
       "\\item 11\n",
       "\\item 8\n",
       "\\item 4\n",
       "\\item 12\n",
       "\\item 5\n",
       "\\item 10\n",
       "\\item 3\n",
       "\\item 6\n",
       "\\item 0\n",
       "\\item 16\n",
       "\\end{enumerate*}\n"
      ],
      "text/markdown": [
       "1. 14\n",
       "2. 11\n",
       "3. 8\n",
       "4. 4\n",
       "5. 12\n",
       "6. 5\n",
       "7. 10\n",
       "8. 3\n",
       "9. 6\n",
       "10. 0\n",
       "11. 16\n",
       "\n",
       "\n"
      ],
      "text/plain": [
       " [1] 14 11  8  4 12  5 10  3  6  0 16"
      ]
     },
     "metadata": {},
     "output_type": "display_data"
    },
    {
     "data": {
      "text/html": [
       "<ol class=list-inline>\n",
       "\t<li>14</li>\n",
       "\t<li>11</li>\n",
       "\t<li>8</li>\n",
       "\t<li>4</li>\n",
       "\t<li>12</li>\n",
       "\t<li>5</li>\n",
       "\t<li>10</li>\n",
       "\t<li>3</li>\n",
       "\t<li>6</li>\n",
       "\t<li>0</li>\n",
       "\t<li>16</li>\n",
       "</ol>\n"
      ],
      "text/latex": [
       "\\begin{enumerate*}\n",
       "\\item 14\n",
       "\\item 11\n",
       "\\item 8\n",
       "\\item 4\n",
       "\\item 12\n",
       "\\item 5\n",
       "\\item 10\n",
       "\\item 3\n",
       "\\item 6\n",
       "\\item 0\n",
       "\\item 16\n",
       "\\end{enumerate*}\n"
      ],
      "text/markdown": [
       "1. 14\n",
       "2. 11\n",
       "3. 8\n",
       "4. 4\n",
       "5. 12\n",
       "6. 5\n",
       "7. 10\n",
       "8. 3\n",
       "9. 6\n",
       "10. 0\n",
       "11. 16\n",
       "\n",
       "\n"
      ],
      "text/plain": [
       " [1] 14 11  8  4 12  5 10  3  6  0 16"
      ]
     },
     "metadata": {},
     "output_type": "display_data"
    }
   ],
   "source": [
    "# remove duplicate records from vector\n",
    "set.seed(158)\n",
    "x <- round(rnorm(20, 10, 5))\n",
    "x\n",
    "duplicated(x)\n",
    "x[duplicated(x)]\n",
    "unique(x[duplicated(x)])\n",
    "unique(x)\n",
    "x[!duplicated(x)]"
   ]
  },
  {
   "cell_type": "code",
   "execution_count": 8,
   "metadata": {},
   "outputs": [
    {
     "data": {
      "text/html": [
       "<ol class=list-inline>\n",
       "\t<li>FALSE</li>\n",
       "\t<li>FALSE</li>\n",
       "\t<li>FALSE</li>\n",
       "\t<li>TRUE</li>\n",
       "\t<li>FALSE</li>\n",
       "\t<li>FALSE</li>\n",
       "\t<li>TRUE</li>\n",
       "\t<li>TRUE</li>\n",
       "</ol>\n"
      ],
      "text/latex": [
       "\\begin{enumerate*}\n",
       "\\item FALSE\n",
       "\\item FALSE\n",
       "\\item FALSE\n",
       "\\item TRUE\n",
       "\\item FALSE\n",
       "\\item FALSE\n",
       "\\item TRUE\n",
       "\\item TRUE\n",
       "\\end{enumerate*}\n"
      ],
      "text/markdown": [
       "1. FALSE\n",
       "2. FALSE\n",
       "3. FALSE\n",
       "4. TRUE\n",
       "5. FALSE\n",
       "6. FALSE\n",
       "7. TRUE\n",
       "8. TRUE\n",
       "\n",
       "\n"
      ],
      "text/plain": [
       "[1] FALSE FALSE FALSE  TRUE FALSE FALSE  TRUE  TRUE"
      ]
     },
     "metadata": {},
     "output_type": "display_data"
    },
    {
     "data": {
      "text/html": [
       "<table>\n",
       "<thead><tr><th></th><th scope=col>label</th><th scope=col>value</th></tr></thead>\n",
       "<tbody>\n",
       "\t<tr><th scope=row>4</th><td>B</td><td>3</td></tr>\n",
       "\t<tr><th scope=row>7</th><td>A</td><td>4</td></tr>\n",
       "\t<tr><th scope=row>8</th><td>A</td><td>4</td></tr>\n",
       "</tbody>\n",
       "</table>\n"
      ],
      "text/latex": [
       "\\begin{tabular}{r|ll}\n",
       "  & label & value\\\\\n",
       "\\hline\n",
       "\t4 & B & 3\\\\\n",
       "\t7 & A & 4\\\\\n",
       "\t8 & A & 4\\\\\n",
       "\\end{tabular}\n"
      ],
      "text/markdown": [
       "\n",
       "| <!--/--> | label | value | \n",
       "|---|---|---|\n",
       "| 4 | B | 3 | \n",
       "| 7 | A | 4 | \n",
       "| 8 | A | 4 | \n",
       "\n",
       "\n"
      ],
      "text/plain": [
       "  label value\n",
       "4 B     3    \n",
       "7 A     4    \n",
       "8 A     4    "
      ]
     },
     "metadata": {},
     "output_type": "display_data"
    },
    {
     "data": {
      "text/html": [
       "<table>\n",
       "<thead><tr><th></th><th scope=col>label</th><th scope=col>value</th></tr></thead>\n",
       "<tbody>\n",
       "\t<tr><th scope=row>4</th><td>B</td><td>3</td></tr>\n",
       "\t<tr><th scope=row>7</th><td>A</td><td>4</td></tr>\n",
       "</tbody>\n",
       "</table>\n"
      ],
      "text/latex": [
       "\\begin{tabular}{r|ll}\n",
       "  & label & value\\\\\n",
       "\\hline\n",
       "\t4 & B & 3\\\\\n",
       "\t7 & A & 4\\\\\n",
       "\\end{tabular}\n"
      ],
      "text/markdown": [
       "\n",
       "| <!--/--> | label | value | \n",
       "|---|---|\n",
       "| 4 | B | 3 | \n",
       "| 7 | A | 4 | \n",
       "\n",
       "\n"
      ],
      "text/plain": [
       "  label value\n",
       "4 B     3    \n",
       "7 A     4    "
      ]
     },
     "metadata": {},
     "output_type": "display_data"
    },
    {
     "data": {
      "text/html": [
       "<table>\n",
       "<thead><tr><th></th><th scope=col>label</th><th scope=col>value</th></tr></thead>\n",
       "<tbody>\n",
       "\t<tr><th scope=row>1</th><td>A</td><td>4</td></tr>\n",
       "\t<tr><th scope=row>2</th><td>B</td><td>3</td></tr>\n",
       "\t<tr><th scope=row>3</th><td>C</td><td>6</td></tr>\n",
       "\t<tr><th scope=row>5</th><td>B</td><td>1</td></tr>\n",
       "\t<tr><th scope=row>6</th><td>A</td><td>2</td></tr>\n",
       "</tbody>\n",
       "</table>\n"
      ],
      "text/latex": [
       "\\begin{tabular}{r|ll}\n",
       "  & label & value\\\\\n",
       "\\hline\n",
       "\t1 & A & 4\\\\\n",
       "\t2 & B & 3\\\\\n",
       "\t3 & C & 6\\\\\n",
       "\t5 & B & 1\\\\\n",
       "\t6 & A & 2\\\\\n",
       "\\end{tabular}\n"
      ],
      "text/markdown": [
       "\n",
       "| <!--/--> | label | value | \n",
       "|---|---|---|---|---|\n",
       "| 1 | A | 4 | \n",
       "| 2 | B | 3 | \n",
       "| 3 | C | 6 | \n",
       "| 5 | B | 1 | \n",
       "| 6 | A | 2 | \n",
       "\n",
       "\n"
      ],
      "text/plain": [
       "  label value\n",
       "1 A     4    \n",
       "2 B     3    \n",
       "3 C     6    \n",
       "5 B     1    \n",
       "6 A     2    "
      ]
     },
     "metadata": {},
     "output_type": "display_data"
    },
    {
     "data": {
      "text/html": [
       "<table>\n",
       "<thead><tr><th></th><th scope=col>label</th><th scope=col>value</th></tr></thead>\n",
       "<tbody>\n",
       "\t<tr><th scope=row>1</th><td>A</td><td>4</td></tr>\n",
       "\t<tr><th scope=row>2</th><td>B</td><td>3</td></tr>\n",
       "\t<tr><th scope=row>3</th><td>C</td><td>6</td></tr>\n",
       "\t<tr><th scope=row>5</th><td>B</td><td>1</td></tr>\n",
       "\t<tr><th scope=row>6</th><td>A</td><td>2</td></tr>\n",
       "</tbody>\n",
       "</table>\n"
      ],
      "text/latex": [
       "\\begin{tabular}{r|ll}\n",
       "  & label & value\\\\\n",
       "\\hline\n",
       "\t1 & A & 4\\\\\n",
       "\t2 & B & 3\\\\\n",
       "\t3 & C & 6\\\\\n",
       "\t5 & B & 1\\\\\n",
       "\t6 & A & 2\\\\\n",
       "\\end{tabular}\n"
      ],
      "text/markdown": [
       "\n",
       "| <!--/--> | label | value | \n",
       "|---|---|---|---|---|\n",
       "| 1 | A | 4 | \n",
       "| 2 | B | 3 | \n",
       "| 3 | C | 6 | \n",
       "| 5 | B | 1 | \n",
       "| 6 | A | 2 | \n",
       "\n",
       "\n"
      ],
      "text/plain": [
       "  label value\n",
       "1 A     4    \n",
       "2 B     3    \n",
       "3 C     6    \n",
       "5 B     1    \n",
       "6 A     2    "
      ]
     },
     "metadata": {},
     "output_type": "display_data"
    }
   ],
   "source": [
    "# remove duplicate records from data frame\n",
    "df <- read.table(header=TRUE, text='\n",
    " label value\n",
    "     A     4\n",
    "     B     3\n",
    "     C     6\n",
    "     B     3\n",
    "     B     1\n",
    "     A     2\n",
    "     A     4\n",
    "     A     4\n",
    "')\n",
    "duplicated(df)\n",
    "df[duplicated(df),]\n",
    "unique(df[duplicated(df),])\n",
    "unique(df)\n",
    "df[!duplicated(df),]"
   ]
  },
  {
   "cell_type": "code",
   "execution_count": null,
   "metadata": {
    "collapsed": true
   },
   "outputs": [],
   "source": []
  }
 ],
 "metadata": {
  "kernelspec": {
   "display_name": "R",
   "language": "R",
   "name": "ir"
  },
  "language_info": {
   "codemirror_mode": "r",
   "file_extension": ".r",
   "mimetype": "text/x-r-source",
   "name": "R",
   "pygments_lexer": "r",
   "version": "3.4.2"
  }
 },
 "nbformat": 4,
 "nbformat_minor": 2
}
