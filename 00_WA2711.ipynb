{
 "cells": [
  {
   "cell_type": "markdown",
   "metadata": {},
   "source": [
    "# 00 WA2711 R Programming from the Ground Up Training\n",
    "\n",
    "See: https://ramnathv.github.io/pycon2014-r/learn/controls.html"
   ]
  },
  {
   "cell_type": "markdown",
   "metadata": {},
   "source": [
    "## Getting Help"
   ]
  },
  {
   "cell_type": "code",
   "execution_count": 1,
   "metadata": {
    "collapsed": true
   },
   "outputs": [],
   "source": [
    "help()"
   ]
  },
  {
   "cell_type": "code",
   "execution_count": 2,
   "metadata": {
    "collapsed": true
   },
   "outputs": [],
   "source": [
    "?sink"
   ]
  },
  {
   "cell_type": "code",
   "execution_count": 3,
   "metadata": {
    "collapsed": true
   },
   "outputs": [],
   "source": [
    "help(sin)"
   ]
  },
  {
   "cell_type": "code",
   "execution_count": 4,
   "metadata": {
    "collapsed": true
   },
   "outputs": [],
   "source": [
    "help('library')"
   ]
  },
  {
   "cell_type": "code",
   "execution_count": 5,
   "metadata": {
    "collapsed": true
   },
   "outputs": [],
   "source": [
    "help(\"data.frame\")"
   ]
  },
  {
   "cell_type": "markdown",
   "metadata": {
    "collapsed": true
   },
   "source": [
    "## General Notes on R Commands and Statements\n",
    "- comment: ```#```\n",
    "- case sensitive\n",
    "- dynamically typed\n",
    "- statement seperator: semi-colon or newline"
   ]
  },
  {
   "cell_type": "markdown",
   "metadata": {},
   "source": [
    "## Assignment Operators\n",
    "- ```<-```\n",
    "- ```->```\n",
    "- ```=```\n",
    "- ```assign()```"
   ]
  },
  {
   "cell_type": "code",
   "execution_count": 6,
   "metadata": {},
   "outputs": [
    {
     "data": {
      "text/html": [
       "1"
      ],
      "text/latex": [
       "1"
      ],
      "text/markdown": [
       "1"
      ],
      "text/plain": [
       "[1] 1"
      ]
     },
     "metadata": {},
     "output_type": "display_data"
    },
    {
     "data": {
      "text/html": [
       "2"
      ],
      "text/latex": [
       "2"
      ],
      "text/markdown": [
       "2"
      ],
      "text/plain": [
       "[1] 2"
      ]
     },
     "metadata": {},
     "output_type": "display_data"
    },
    {
     "data": {
      "text/html": [
       "3"
      ],
      "text/latex": [
       "3"
      ],
      "text/markdown": [
       "3"
      ],
      "text/plain": [
       "[1] 3"
      ]
     },
     "metadata": {},
     "output_type": "display_data"
    },
    {
     "data": {
      "text/html": [
       "4"
      ],
      "text/latex": [
       "4"
      ],
      "text/markdown": [
       "4"
      ],
      "text/plain": [
       "[1] 4"
      ]
     },
     "metadata": {},
     "output_type": "display_data"
    }
   ],
   "source": [
    "a = 1\n",
    "b <- 2\n",
    "3 -> c\n",
    "assign('d', 4) # assignment as a function call\n",
    "a\n",
    "b\n",
    "c\n",
    "d"
   ]
  },
  {
   "cell_type": "code",
   "execution_count": 7,
   "metadata": {},
   "outputs": [
    {
     "data": {
      "text/html": [
       "'a'"
      ],
      "text/latex": [
       "'a'"
      ],
      "text/markdown": [
       "'a'"
      ],
      "text/plain": [
       "[1] \"a\""
      ]
     },
     "metadata": {},
     "output_type": "display_data"
    },
    {
     "data": {
      "text/html": [
       "'b'"
      ],
      "text/latex": [
       "'b'"
      ],
      "text/markdown": [
       "'b'"
      ],
      "text/plain": [
       "[1] \"b\""
      ]
     },
     "metadata": {},
     "output_type": "display_data"
    }
   ],
   "source": [
    "# literal string: single or double quotes\n",
    "a <- 'a'\n",
    "b <- \"b\"\n",
    "a\n",
    "b"
   ]
  },
  {
   "cell_type": "markdown",
   "metadata": {},
   "source": [
    "## R Scalar Data Types\n",
    "- numeric (double)\n",
    "- integer\n",
    "- complex\n",
    "- logical\n",
    "- character\n",
    "- function (closure)\n",
    "- factor\n",
    "\n",
    "## Type functions\n",
    "- *class()* - kind of object (high-level)\n",
    "- *typeof()* - object data type (low-level)"
   ]
  },
  {
   "cell_type": "code",
   "execution_count": 8,
   "metadata": {},
   "outputs": [
    {
     "data": {
      "text/html": [
       "'numeric'"
      ],
      "text/latex": [
       "'numeric'"
      ],
      "text/markdown": [
       "'numeric'"
      ],
      "text/plain": [
       "[1] \"numeric\""
      ]
     },
     "metadata": {},
     "output_type": "display_data"
    },
    {
     "data": {
      "text/html": [
       "'numeric'"
      ],
      "text/latex": [
       "'numeric'"
      ],
      "text/markdown": [
       "'numeric'"
      ],
      "text/plain": [
       "[1] \"numeric\""
      ]
     },
     "metadata": {},
     "output_type": "display_data"
    },
    {
     "data": {
      "text/html": [
       "'double'"
      ],
      "text/latex": [
       "'double'"
      ],
      "text/markdown": [
       "'double'"
      ],
      "text/plain": [
       "[1] \"double\""
      ]
     },
     "metadata": {},
     "output_type": "display_data"
    },
    {
     "data": {
      "text/html": [
       "'integer'"
      ],
      "text/latex": [
       "'integer'"
      ],
      "text/markdown": [
       "'integer'"
      ],
      "text/plain": [
       "[1] \"integer\""
      ]
     },
     "metadata": {},
     "output_type": "display_data"
    },
    {
     "data": {
      "text/html": [
       "'integer'"
      ],
      "text/latex": [
       "'integer'"
      ],
      "text/markdown": [
       "'integer'"
      ],
      "text/plain": [
       "[1] \"integer\""
      ]
     },
     "metadata": {},
     "output_type": "display_data"
    },
    {
     "data": {
      "text/html": [
       "'complex'"
      ],
      "text/latex": [
       "'complex'"
      ],
      "text/markdown": [
       "'complex'"
      ],
      "text/plain": [
       "[1] \"complex\""
      ]
     },
     "metadata": {},
     "output_type": "display_data"
    },
    {
     "data": {
      "text/html": [
       "'complex'"
      ],
      "text/latex": [
       "'complex'"
      ],
      "text/markdown": [
       "'complex'"
      ],
      "text/plain": [
       "[1] \"complex\""
      ]
     },
     "metadata": {},
     "output_type": "display_data"
    },
    {
     "data": {
      "text/html": [
       "'logical'"
      ],
      "text/latex": [
       "'logical'"
      ],
      "text/markdown": [
       "'logical'"
      ],
      "text/plain": [
       "[1] \"logical\""
      ]
     },
     "metadata": {},
     "output_type": "display_data"
    },
    {
     "data": {
      "text/html": [
       "'logical'"
      ],
      "text/latex": [
       "'logical'"
      ],
      "text/markdown": [
       "'logical'"
      ],
      "text/plain": [
       "[1] \"logical\""
      ]
     },
     "metadata": {},
     "output_type": "display_data"
    },
    {
     "data": {
      "text/html": [
       "'logical'"
      ],
      "text/latex": [
       "'logical'"
      ],
      "text/markdown": [
       "'logical'"
      ],
      "text/plain": [
       "[1] \"logical\""
      ]
     },
     "metadata": {},
     "output_type": "display_data"
    },
    {
     "data": {
      "text/html": [
       "'logical'"
      ],
      "text/latex": [
       "'logical'"
      ],
      "text/markdown": [
       "'logical'"
      ],
      "text/plain": [
       "[1] \"logical\""
      ]
     },
     "metadata": {},
     "output_type": "display_data"
    },
    {
     "data": {
      "text/html": [
       "'character'"
      ],
      "text/latex": [
       "'character'"
      ],
      "text/markdown": [
       "'character'"
      ],
      "text/plain": [
       "[1] \"character\""
      ]
     },
     "metadata": {},
     "output_type": "display_data"
    },
    {
     "data": {
      "text/html": [
       "'character'"
      ],
      "text/latex": [
       "'character'"
      ],
      "text/markdown": [
       "'character'"
      ],
      "text/plain": [
       "[1] \"character\""
      ]
     },
     "metadata": {},
     "output_type": "display_data"
    },
    {
     "data": {
      "text/html": [
       "'character'"
      ],
      "text/latex": [
       "'character'"
      ],
      "text/markdown": [
       "'character'"
      ],
      "text/plain": [
       "[1] \"character\""
      ]
     },
     "metadata": {},
     "output_type": "display_data"
    },
    {
     "data": {
      "text/html": [
       "'character'"
      ],
      "text/latex": [
       "'character'"
      ],
      "text/markdown": [
       "'character'"
      ],
      "text/plain": [
       "[1] \"character\""
      ]
     },
     "metadata": {},
     "output_type": "display_data"
    },
    {
     "data": {
      "text/html": [
       "'function'"
      ],
      "text/latex": [
       "'function'"
      ],
      "text/markdown": [
       "'function'"
      ],
      "text/plain": [
       "[1] \"function\""
      ]
     },
     "metadata": {},
     "output_type": "display_data"
    },
    {
     "data": {
      "text/html": [
       "'closure'"
      ],
      "text/latex": [
       "'closure'"
      ],
      "text/markdown": [
       "'closure'"
      ],
      "text/plain": [
       "[1] \"closure\""
      ]
     },
     "metadata": {},
     "output_type": "display_data"
    },
    {
     "data": {
      "text/html": [
       "<ol class=list-inline>\n",
       "\t<li>1</li>\n",
       "\t<li>2</li>\n",
       "\t<li>2</li>\n",
       "\t<li>3</li>\n",
       "\t<li>1</li>\n",
       "\t<li>2</li>\n",
       "\t<li>3</li>\n",
       "\t<li>3</li>\n",
       "\t<li>1</li>\n",
       "\t<li>2</li>\n",
       "\t<li>3</li>\n",
       "\t<li>3</li>\n",
       "\t<li>1</li>\n",
       "</ol>\n"
      ],
      "text/latex": [
       "\\begin{enumerate*}\n",
       "\\item 1\n",
       "\\item 2\n",
       "\\item 2\n",
       "\\item 3\n",
       "\\item 1\n",
       "\\item 2\n",
       "\\item 3\n",
       "\\item 3\n",
       "\\item 1\n",
       "\\item 2\n",
       "\\item 3\n",
       "\\item 3\n",
       "\\item 1\n",
       "\\end{enumerate*}\n"
      ],
      "text/markdown": [
       "1. 1\n",
       "2. 2\n",
       "3. 2\n",
       "4. 3\n",
       "5. 1\n",
       "6. 2\n",
       "7. 3\n",
       "8. 3\n",
       "9. 1\n",
       "10. 2\n",
       "11. 3\n",
       "12. 3\n",
       "13. 1\n",
       "\n",
       "\n"
      ],
      "text/plain": [
       " [1] 1 2 2 3 1 2 3 3 1 2 3 3 1"
      ]
     },
     "metadata": {},
     "output_type": "display_data"
    },
    {
     "data": {
      "text/html": [
       "<ol class=list-inline>\n",
       "\t<li>'1'</li>\n",
       "\t<li>'2'</li>\n",
       "\t<li>'3'</li>\n",
       "</ol>\n"
      ],
      "text/latex": [
       "\\begin{enumerate*}\n",
       "\\item '1'\n",
       "\\item '2'\n",
       "\\item '3'\n",
       "\\end{enumerate*}\n"
      ],
      "text/markdown": [
       "1. '1'\n",
       "2. '2'\n",
       "3. '3'\n",
       "\n",
       "\n"
      ],
      "text/plain": [
       "[1] \"1\" \"2\" \"3\""
      ]
     },
     "metadata": {},
     "output_type": "display_data"
    }
   ],
   "source": [
    "x <- 3.141592\n",
    "class(x)    # numeric\n",
    "x <- 42\n",
    "class(x)    # numeric\n",
    "typeof(x)   # double\n",
    "x <- 42L\n",
    "class(x)    # integer\n",
    "typeof(x)   # integer\n",
    "x <- 3+4i\n",
    "class(x)    # complex\n",
    "typeof(x)   # complex\n",
    "x <- TRUE\n",
    "class(x)    # logical\n",
    "typeof(x)   # logical\n",
    "x <- F\n",
    "class(x)    # logical\n",
    "typeof(x)   # logical\n",
    "x <- 'Hello'\n",
    "class(x)    # character\n",
    "typeof(x)   # character\n",
    "x <- \"Bye\"\n",
    "class(x)    # character\n",
    "typeof(x)   # character\n",
    "fun <- function (){}\n",
    "class(fun)  # function\n",
    "typeof(fun) # closure\n",
    "\n",
    "v = c(1,2,2,3,1,2,3,3,1,2,3,3,1)\n",
    "v         # 1 2 2 3 1 2 3 3 1 2 3 3 1\n",
    "f = factor(v)\n",
    "levels(f) # '1' '2' '3'"
   ]
  },
  {
   "cell_type": "markdown",
   "metadata": {},
   "source": [
    "## Special Values"
   ]
  },
  {
   "cell_type": "code",
   "execution_count": 9,
   "metadata": {},
   "outputs": [
    {
     "data": {
      "text/html": [
       "&lt;NA&gt;"
      ],
      "text/latex": [
       "<NA>"
      ],
      "text/markdown": [
       "&lt;NA&gt;"
      ],
      "text/plain": [
       "[1] NA"
      ]
     },
     "metadata": {},
     "output_type": "display_data"
    },
    {
     "data": {
      "text/html": [
       "Inf"
      ],
      "text/latex": [
       "Inf"
      ],
      "text/markdown": [
       "Inf"
      ],
      "text/plain": [
       "[1] Inf"
      ]
     },
     "metadata": {},
     "output_type": "display_data"
    },
    {
     "data": {
      "text/html": [
       "NaN"
      ],
      "text/latex": [
       "NaN"
      ],
      "text/markdown": [
       "NaN"
      ],
      "text/plain": [
       "[1] NaN"
      ]
     },
     "metadata": {},
     "output_type": "display_data"
    }
   ],
   "source": [
    "NA  # <NA>\n",
    "\n",
    "1/0 # Inf\n",
    "\n",
    "0/0 # NaN"
   ]
  },
  {
   "cell_type": "markdown",
   "metadata": {},
   "source": [
    "## R Collection Data Types\n",
    "\n",
    "- *vector*: ordered 1-dimentional collection of elements of homogenous type (restricted to a single mode)\n",
    "- *matrix*: ordered 2-dimentional collection of elements of homogenous type (restricted to a single mode)\n",
    "- *array*:  ordered higher-dimentional collection of elements of homogenous type (restricted to a single mode)\n",
    "- *list*:   ordered 1-dimentional collection of elements of heterogenous type (not restricted to a single mode)\n",
    "- *data frame*: similar to table in relational database (de facto data structure for tabular data and statistics)\n",
    "\n",
    "*NOTE*: ordered collections are indexed starting at 1, not 0"
   ]
  },
  {
   "cell_type": "code",
   "execution_count": 10,
   "metadata": {},
   "outputs": [
    {
     "data": {
      "text/html": [
       "<ol class=list-inline>\n",
       "\t<li>1</li>\n",
       "\t<li>2</li>\n",
       "\t<li>3</li>\n",
       "</ol>\n"
      ],
      "text/latex": [
       "\\begin{enumerate*}\n",
       "\\item 1\n",
       "\\item 2\n",
       "\\item 3\n",
       "\\end{enumerate*}\n"
      ],
      "text/markdown": [
       "1. 1\n",
       "2. 2\n",
       "3. 3\n",
       "\n",
       "\n"
      ],
      "text/plain": [
       "[1] 1 2 3"
      ]
     },
     "metadata": {},
     "output_type": "display_data"
    },
    {
     "data": {
      "text/html": [
       "3"
      ],
      "text/latex": [
       "3"
      ],
      "text/markdown": [
       "3"
      ],
      "text/plain": [
       "[1] 3"
      ]
     },
     "metadata": {},
     "output_type": "display_data"
    },
    {
     "data": {
      "text/html": [
       "'numeric'"
      ],
      "text/latex": [
       "'numeric'"
      ],
      "text/markdown": [
       "'numeric'"
      ],
      "text/plain": [
       "[1] \"numeric\""
      ]
     },
     "metadata": {},
     "output_type": "display_data"
    },
    {
     "data": {
      "text/html": [
       "'double'"
      ],
      "text/latex": [
       "'double'"
      ],
      "text/markdown": [
       "'double'"
      ],
      "text/plain": [
       "[1] \"double\""
      ]
     },
     "metadata": {},
     "output_type": "display_data"
    },
    {
     "data": {
      "text/html": [
       "<ol class=list-inline>\n",
       "\t<li>'1'</li>\n",
       "\t<li>'hello'</li>\n",
       "\t<li>'3'</li>\n",
       "</ol>\n"
      ],
      "text/latex": [
       "\\begin{enumerate*}\n",
       "\\item '1'\n",
       "\\item 'hello'\n",
       "\\item '3'\n",
       "\\end{enumerate*}\n"
      ],
      "text/markdown": [
       "1. '1'\n",
       "2. 'hello'\n",
       "3. '3'\n",
       "\n",
       "\n"
      ],
      "text/plain": [
       "[1] \"1\"     \"hello\" \"3\"    "
      ]
     },
     "metadata": {},
     "output_type": "display_data"
    },
    {
     "data": {
      "text/html": [
       "'character'"
      ],
      "text/latex": [
       "'character'"
      ],
      "text/markdown": [
       "'character'"
      ],
      "text/plain": [
       "[1] \"character\""
      ]
     },
     "metadata": {},
     "output_type": "display_data"
    },
    {
     "data": {
      "text/html": [
       "'character'"
      ],
      "text/latex": [
       "'character'"
      ],
      "text/markdown": [
       "'character'"
      ],
      "text/plain": [
       "[1] \"character\""
      ]
     },
     "metadata": {},
     "output_type": "display_data"
    },
    {
     "data": {
      "text/html": [
       "<ol class=list-inline>\n",
       "\t<li>0</li>\n",
       "\t<li>1</li>\n",
       "\t<li>0</li>\n",
       "\t<li>3</li>\n",
       "\t<li>&lt;NA&gt;</li>\n",
       "</ol>\n"
      ],
      "text/latex": [
       "\\begin{enumerate*}\n",
       "\\item 0\n",
       "\\item 1\n",
       "\\item 0\n",
       "\\item 3\n",
       "\\item <NA>\n",
       "\\end{enumerate*}\n"
      ],
      "text/markdown": [
       "1. 0\n",
       "2. 1\n",
       "3. 0\n",
       "4. 3\n",
       "5. &lt;NA&gt;\n",
       "\n",
       "\n"
      ],
      "text/plain": [
       "[1]  0  1  0  3 NA"
      ]
     },
     "metadata": {},
     "output_type": "display_data"
    },
    {
     "data": {
      "text/html": [
       "'numeric'"
      ],
      "text/latex": [
       "'numeric'"
      ],
      "text/markdown": [
       "'numeric'"
      ],
      "text/plain": [
       "[1] \"numeric\""
      ]
     },
     "metadata": {},
     "output_type": "display_data"
    },
    {
     "data": {
      "text/html": [
       "'double'"
      ],
      "text/latex": [
       "'double'"
      ],
      "text/markdown": [
       "'double'"
      ],
      "text/plain": [
       "[1] \"double\""
      ]
     },
     "metadata": {},
     "output_type": "display_data"
    },
    {
     "data": {
      "text/html": [
       "<ol class=list-inline>\n",
       "\t<li>1</li>\n",
       "\t<li>2</li>\n",
       "\t<li>3</li>\n",
       "\t<li>4</li>\n",
       "\t<li>5</li>\n",
       "\t<li>6</li>\n",
       "\t<li>7</li>\n",
       "\t<li>8</li>\n",
       "\t<li>9</li>\n",
       "\t<li>10</li>\n",
       "</ol>\n"
      ],
      "text/latex": [
       "\\begin{enumerate*}\n",
       "\\item 1\n",
       "\\item 2\n",
       "\\item 3\n",
       "\\item 4\n",
       "\\item 5\n",
       "\\item 6\n",
       "\\item 7\n",
       "\\item 8\n",
       "\\item 9\n",
       "\\item 10\n",
       "\\end{enumerate*}\n"
      ],
      "text/markdown": [
       "1. 1\n",
       "2. 2\n",
       "3. 3\n",
       "4. 4\n",
       "5. 5\n",
       "6. 6\n",
       "7. 7\n",
       "8. 8\n",
       "9. 9\n",
       "10. 10\n",
       "\n",
       "\n"
      ],
      "text/plain": [
       " [1]  1  2  3  4  5  6  7  8  9 10"
      ]
     },
     "metadata": {},
     "output_type": "display_data"
    },
    {
     "data": {
      "text/html": [
       "'integer'"
      ],
      "text/latex": [
       "'integer'"
      ],
      "text/markdown": [
       "'integer'"
      ],
      "text/plain": [
       "[1] \"integer\""
      ]
     },
     "metadata": {},
     "output_type": "display_data"
    },
    {
     "data": {
      "text/html": [
       "'integer'"
      ],
      "text/latex": [
       "'integer'"
      ],
      "text/markdown": [
       "'integer'"
      ],
      "text/plain": [
       "[1] \"integer\""
      ]
     },
     "metadata": {},
     "output_type": "display_data"
    },
    {
     "data": {
      "text/html": [
       "'numeric'"
      ],
      "text/latex": [
       "'numeric'"
      ],
      "text/markdown": [
       "'numeric'"
      ],
      "text/plain": [
       "[1] \"numeric\""
      ]
     },
     "metadata": {},
     "output_type": "display_data"
    },
    {
     "data": {
      "text/html": [
       "'double'"
      ],
      "text/latex": [
       "'double'"
      ],
      "text/markdown": [
       "'double'"
      ],
      "text/plain": [
       "[1] \"double\""
      ]
     },
     "metadata": {},
     "output_type": "display_data"
    },
    {
     "data": {
      "text/html": [
       "<ol class=list-inline>\n",
       "\t<li>FALSE</li>\n",
       "\t<li>TRUE</li>\n",
       "\t<li>FALSE</li>\n",
       "\t<li>FALSE</li>\n",
       "\t<li>TRUE</li>\n",
       "</ol>\n"
      ],
      "text/latex": [
       "\\begin{enumerate*}\n",
       "\\item FALSE\n",
       "\\item TRUE\n",
       "\\item FALSE\n",
       "\\item FALSE\n",
       "\\item TRUE\n",
       "\\end{enumerate*}\n"
      ],
      "text/markdown": [
       "1. FALSE\n",
       "2. TRUE\n",
       "3. FALSE\n",
       "4. FALSE\n",
       "5. TRUE\n",
       "\n",
       "\n"
      ],
      "text/plain": [
       "[1] FALSE  TRUE FALSE FALSE  TRUE"
      ]
     },
     "metadata": {},
     "output_type": "display_data"
    },
    {
     "data": {
      "text/html": [
       "10"
      ],
      "text/latex": [
       "10"
      ],
      "text/markdown": [
       "10"
      ],
      "text/plain": [
       "[1] 10"
      ]
     },
     "metadata": {},
     "output_type": "display_data"
    },
    {
     "data": {
      "text/html": [
       "12"
      ],
      "text/latex": [
       "12"
      ],
      "text/markdown": [
       "12"
      ],
      "text/plain": [
       "[1] 12"
      ]
     },
     "metadata": {},
     "output_type": "display_data"
    },
    {
     "data": {
      "text/plain": [
       "NULL"
      ]
     },
     "metadata": {},
     "output_type": "display_data"
    },
    {
     "data": {
      "text/html": [
       "<ol class=list-inline>\n",
       "\t<li>-1</li>\n",
       "\t<li>-1</li>\n",
       "\t<li>-1</li>\n",
       "\t<li>-1</li>\n",
       "\t<li>-1</li>\n",
       "\t<li>-1</li>\n",
       "\t<li>-1</li>\n",
       "\t<li>-1</li>\n",
       "\t<li>-1</li>\n",
       "\t<li>-1</li>\n",
       "</ol>\n"
      ],
      "text/latex": [
       "\\begin{enumerate*}\n",
       "\\item -1\n",
       "\\item -1\n",
       "\\item -1\n",
       "\\item -1\n",
       "\\item -1\n",
       "\\item -1\n",
       "\\item -1\n",
       "\\item -1\n",
       "\\item -1\n",
       "\\item -1\n",
       "\\end{enumerate*}\n"
      ],
      "text/markdown": [
       "1. -1\n",
       "2. -1\n",
       "3. -1\n",
       "4. -1\n",
       "5. -1\n",
       "6. -1\n",
       "7. -1\n",
       "8. -1\n",
       "9. -1\n",
       "10. -1\n",
       "\n",
       "\n"
      ],
      "text/plain": [
       " [1] -1 -1 -1 -1 -1 -1 -1 -1 -1 -1"
      ]
     },
     "metadata": {},
     "output_type": "display_data"
    }
   ],
   "source": [
    "v <- c(1, 2, 3)\n",
    "v\n",
    "length(v)\n",
    "class(v)  # numeric\n",
    "typeof(v) # double\n",
    "\n",
    "v <- c(1, \"hello\", 3)      # coercion to character\n",
    "v\n",
    "class(v)  # character\n",
    "typeof(v) # character\n",
    "\n",
    "v <- c(0, 1, FALSE, 3, NA) # coercion to numeric (double)\n",
    "v\n",
    "class(v)  # numeric\n",
    "typeof(v) # double\n",
    "\n",
    "v <- 1:10\n",
    "v\n",
    "class(v)  # integer\n",
    "typeof(v) # integer\n",
    "\n",
    "v <- seq(from = 1, to = 10, by = 0.1)\n",
    "class(v)  # numeric\n",
    "typeof(v) # double\n",
    "\n",
    "v <- c(\"a\", NA, \"c\", \"d\", NA)\n",
    "is.na(v) # FALSE TRUE FALSE FALSE TRUE\n",
    "\n",
    "length(1:10)          # 10\n",
    "nchar(\"Hello World!\") # 12\n",
    "dim(c(1,2,3))         # NULL\n",
    "\n",
    "rep(-1, 10)           # -1 -1 -1 -1 -1 -1 -1 -1 -1 -1"
   ]
  },
  {
   "cell_type": "code",
   "execution_count": 11,
   "metadata": {},
   "outputs": [
    {
     "data": {
      "text/html": [
       "<table>\n",
       "<tbody>\n",
       "\t<tr><td>NA</td><td>NA</td></tr>\n",
       "\t<tr><td>NA</td><td>NA</td></tr>\n",
       "</tbody>\n",
       "</table>\n"
      ],
      "text/latex": [
       "\\begin{tabular}{ll}\n",
       "\t NA & NA\\\\\n",
       "\t NA & NA\\\\\n",
       "\\end{tabular}\n"
      ],
      "text/markdown": [
       "\n",
       "| NA | NA | \n",
       "| NA | NA | \n",
       "\n",
       "\n"
      ],
      "text/plain": [
       "     [,1] [,2]\n",
       "[1,] NA   NA  \n",
       "[2,] NA   NA  "
      ]
     },
     "metadata": {},
     "output_type": "display_data"
    },
    {
     "data": {
      "text/html": [
       "<ol class=list-inline>\n",
       "\t<li>2</li>\n",
       "\t<li>2</li>\n",
       "</ol>\n"
      ],
      "text/latex": [
       "\\begin{enumerate*}\n",
       "\\item 2\n",
       "\\item 2\n",
       "\\end{enumerate*}\n"
      ],
      "text/markdown": [
       "1. 2\n",
       "2. 2\n",
       "\n",
       "\n"
      ],
      "text/plain": [
       "[1] 2 2"
      ]
     },
     "metadata": {},
     "output_type": "display_data"
    },
    {
     "data": {
      "text/html": [
       "<table>\n",
       "<tbody>\n",
       "\t<tr><td>1</td><td>3</td><td>5</td></tr>\n",
       "\t<tr><td>2</td><td>4</td><td>6</td></tr>\n",
       "</tbody>\n",
       "</table>\n"
      ],
      "text/latex": [
       "\\begin{tabular}{lll}\n",
       "\t 1 & 3 & 5\\\\\n",
       "\t 2 & 4 & 6\\\\\n",
       "\\end{tabular}\n"
      ],
      "text/markdown": [
       "\n",
       "| 1 | 3 | 5 | \n",
       "| 2 | 4 | 6 | \n",
       "\n",
       "\n"
      ],
      "text/plain": [
       "     [,1] [,2] [,3]\n",
       "[1,] 1    3    5   \n",
       "[2,] 2    4    6   "
      ]
     },
     "metadata": {},
     "output_type": "display_data"
    },
    {
     "data": {
      "text/html": [
       "<ol class=list-inline>\n",
       "\t<li>2</li>\n",
       "\t<li>3</li>\n",
       "</ol>\n"
      ],
      "text/latex": [
       "\\begin{enumerate*}\n",
       "\\item 2\n",
       "\\item 3\n",
       "\\end{enumerate*}\n"
      ],
      "text/markdown": [
       "1. 2\n",
       "2. 3\n",
       "\n",
       "\n"
      ],
      "text/plain": [
       "[1] 2 3"
      ]
     },
     "metadata": {},
     "output_type": "display_data"
    },
    {
     "data": {
      "text/html": [
       "<table>\n",
       "<tbody>\n",
       "\t<tr><td>1</td><td>4</td></tr>\n",
       "\t<tr><td>2</td><td>5</td></tr>\n",
       "\t<tr><td>3</td><td>6</td></tr>\n",
       "</tbody>\n",
       "</table>\n"
      ],
      "text/latex": [
       "\\begin{tabular}{ll}\n",
       "\t 1 & 4\\\\\n",
       "\t 2 & 5\\\\\n",
       "\t 3 & 6\\\\\n",
       "\\end{tabular}\n"
      ],
      "text/markdown": [
       "\n",
       "| 1 | 4 | \n",
       "| 2 | 5 | \n",
       "| 3 | 6 | \n",
       "\n",
       "\n"
      ],
      "text/plain": [
       "     [,1] [,2]\n",
       "[1,] 1    4   \n",
       "[2,] 2    5   \n",
       "[3,] 3    6   "
      ]
     },
     "metadata": {},
     "output_type": "display_data"
    },
    {
     "data": {
      "text/html": [
       "<ol class=list-inline>\n",
       "\t<li>3</li>\n",
       "\t<li>2</li>\n",
       "</ol>\n"
      ],
      "text/latex": [
       "\\begin{enumerate*}\n",
       "\\item 3\n",
       "\\item 2\n",
       "\\end{enumerate*}\n"
      ],
      "text/markdown": [
       "1. 3\n",
       "2. 2\n",
       "\n",
       "\n"
      ],
      "text/plain": [
       "[1] 3 2"
      ]
     },
     "metadata": {},
     "output_type": "display_data"
    },
    {
     "data": {
      "text/html": [
       "<table>\n",
       "<thead><tr><th scope=col>x</th><th scope=col>y</th></tr></thead>\n",
       "<tbody>\n",
       "\t<tr><td>1 </td><td>10</td></tr>\n",
       "\t<tr><td>2 </td><td>11</td></tr>\n",
       "\t<tr><td>3 </td><td>12</td></tr>\n",
       "</tbody>\n",
       "</table>\n"
      ],
      "text/latex": [
       "\\begin{tabular}{ll}\n",
       " x & y\\\\\n",
       "\\hline\n",
       "\t 1  & 10\\\\\n",
       "\t 2  & 11\\\\\n",
       "\t 3  & 12\\\\\n",
       "\\end{tabular}\n"
      ],
      "text/markdown": [
       "\n",
       "x | y | \n",
       "|---|---|---|\n",
       "| 1  | 10 | \n",
       "| 2  | 11 | \n",
       "| 3  | 12 | \n",
       "\n",
       "\n"
      ],
      "text/plain": [
       "     x y \n",
       "[1,] 1 10\n",
       "[2,] 2 11\n",
       "[3,] 3 12"
      ]
     },
     "metadata": {},
     "output_type": "display_data"
    },
    {
     "data": {
      "text/html": [
       "<table>\n",
       "<tbody>\n",
       "\t<tr><th scope=row>x</th><td> 1</td><td> 2</td><td> 3</td></tr>\n",
       "\t<tr><th scope=row>y</th><td>10</td><td>11</td><td>12</td></tr>\n",
       "</tbody>\n",
       "</table>\n"
      ],
      "text/latex": [
       "\\begin{tabular}{r|lll}\n",
       "\tx &  1 &  2 &  3\\\\\n",
       "\ty & 10 & 11 & 12\\\\\n",
       "\\end{tabular}\n"
      ],
      "text/markdown": [
       "\n",
       "| x |  1 |  2 |  3 | \n",
       "| y | 10 | 11 | 12 | \n",
       "\n",
       "\n"
      ],
      "text/plain": [
       "  [,1] [,2] [,3]\n",
       "x  1    2    3  \n",
       "y 10   11   12  "
      ]
     },
     "metadata": {},
     "output_type": "display_data"
    },
    {
     "data": {
      "text/html": [
       "<table>\n",
       "<tbody>\n",
       "\t<tr><td> 1</td><td> 2</td><td> 3</td></tr>\n",
       "\t<tr><td>11</td><td>12</td><td>13</td></tr>\n",
       "</tbody>\n",
       "</table>\n"
      ],
      "text/latex": [
       "\\begin{tabular}{lll}\n",
       "\t  1 &  2 &  3\\\\\n",
       "\t 11 & 12 & 13\\\\\n",
       "\\end{tabular}\n"
      ],
      "text/markdown": [
       "\n",
       "|  1 |  2 |  3 | \n",
       "| 11 | 12 | 13 | \n",
       "\n",
       "\n"
      ],
      "text/plain": [
       "     [,1] [,2] [,3]\n",
       "[1,]  1    2    3  \n",
       "[2,] 11   12   13  "
      ]
     },
     "metadata": {},
     "output_type": "display_data"
    }
   ],
   "source": [
    "m <- matrix(nrow = 2, ncol = 2)\n",
    "m\n",
    "dim(m) # 2 2\n",
    "\n",
    "m <- matrix(1:6, nrow = 2, ncol = 3)\n",
    "m\n",
    "dim(m) # 2 3\n",
    "dim(m) <- c(3, 2)\n",
    "m\n",
    "dim(m) # 3 2\n",
    "\n",
    "x <- 1:3\n",
    "y <- 10:12\n",
    "m <- cbind(x, y)\n",
    "m\n",
    "m <- rbind(x, y)\n",
    "m\n",
    "\n",
    "m <- matrix(c(1,2,3, 11,12,13), nrow = 2, ncol = 3, byrow = TRUE)\n",
    "m"
   ]
  },
  {
   "cell_type": "code",
   "execution_count": 12,
   "metadata": {},
   "outputs": [
    {
     "data": {
      "text/html": [
       "<ol class=list-inline>\n",
       "\t<li>3</li>\n",
       "\t<li>4</li>\n",
       "\t<li>2</li>\n",
       "</ol>\n"
      ],
      "text/latex": [
       "\\begin{enumerate*}\n",
       "\\item 3\n",
       "\\item 4\n",
       "\\item 2\n",
       "\\end{enumerate*}\n"
      ],
      "text/markdown": [
       "1. 3\n",
       "2. 4\n",
       "3. 2\n",
       "\n",
       "\n"
      ],
      "text/plain": [
       "[1] 3 4 2"
      ]
     },
     "metadata": {},
     "output_type": "display_data"
    },
    {
     "data": {
      "text/html": [
       "<ol class=list-inline>\n",
       "\t<li>1</li>\n",
       "\t<li>2</li>\n",
       "\t<li>3</li>\n",
       "\t<li>4</li>\n",
       "\t<li>5</li>\n",
       "\t<li>6</li>\n",
       "\t<li>7</li>\n",
       "\t<li>8</li>\n",
       "\t<li>9</li>\n",
       "\t<li>10</li>\n",
       "\t<li>11</li>\n",
       "\t<li>12</li>\n",
       "\t<li>13</li>\n",
       "\t<li>14</li>\n",
       "\t<li>15</li>\n",
       "\t<li>16</li>\n",
       "\t<li>17</li>\n",
       "\t<li>18</li>\n",
       "\t<li>19</li>\n",
       "\t<li>20</li>\n",
       "\t<li>21</li>\n",
       "\t<li>22</li>\n",
       "\t<li>23</li>\n",
       "\t<li>24</li>\n",
       "</ol>\n"
      ],
      "text/latex": [
       "\\begin{enumerate*}\n",
       "\\item 1\n",
       "\\item 2\n",
       "\\item 3\n",
       "\\item 4\n",
       "\\item 5\n",
       "\\item 6\n",
       "\\item 7\n",
       "\\item 8\n",
       "\\item 9\n",
       "\\item 10\n",
       "\\item 11\n",
       "\\item 12\n",
       "\\item 13\n",
       "\\item 14\n",
       "\\item 15\n",
       "\\item 16\n",
       "\\item 17\n",
       "\\item 18\n",
       "\\item 19\n",
       "\\item 20\n",
       "\\item 21\n",
       "\\item 22\n",
       "\\item 23\n",
       "\\item 24\n",
       "\\end{enumerate*}\n"
      ],
      "text/markdown": [
       "1. 1\n",
       "2. 2\n",
       "3. 3\n",
       "4. 4\n",
       "5. 5\n",
       "6. 6\n",
       "7. 7\n",
       "8. 8\n",
       "9. 9\n",
       "10. 10\n",
       "11. 11\n",
       "12. 12\n",
       "13. 13\n",
       "14. 14\n",
       "15. 15\n",
       "16. 16\n",
       "17. 17\n",
       "18. 18\n",
       "19. 19\n",
       "20. 20\n",
       "21. 21\n",
       "22. 22\n",
       "23. 23\n",
       "24. 24\n",
       "\n",
       "\n"
      ],
      "text/plain": [
       ", , 1\n",
       "\n",
       "     [,1] [,2] [,3] [,4]\n",
       "[1,]    1    4    7   10\n",
       "[2,]    2    5    8   11\n",
       "[3,]    3    6    9   12\n",
       "\n",
       ", , 2\n",
       "\n",
       "     [,1] [,2] [,3] [,4]\n",
       "[1,]   13   16   19   22\n",
       "[2,]   14   17   20   23\n",
       "[3,]   15   18   21   24\n"
      ]
     },
     "metadata": {},
     "output_type": "display_data"
    },
    {
     "name": "stdout",
     "output_type": "stream",
     "text": [
      ", , 1\n",
      "\n",
      "     [,1] [,2] [,3] [,4]\n",
      "[1,]    1    4    7   10\n",
      "[2,]    2    5    8   11\n",
      "[3,]    3    6    9   12\n",
      "\n",
      ", , 2\n",
      "\n",
      "     [,1] [,2] [,3] [,4]\n",
      "[1,]   13   16   19   22\n",
      "[2,]   14   17   20   23\n",
      "[3,]   15   18   21   24\n",
      "\n"
     ]
    },
    {
     "data": {
      "text/html": [
       "<ol class=list-inline>\n",
       "\t<li>3</li>\n",
       "\t<li>3</li>\n",
       "\t<li>2</li>\n",
       "</ol>\n"
      ],
      "text/latex": [
       "\\begin{enumerate*}\n",
       "\\item 3\n",
       "\\item 3\n",
       "\\item 2\n",
       "\\end{enumerate*}\n"
      ],
      "text/markdown": [
       "1. 3\n",
       "2. 3\n",
       "3. 2\n",
       "\n",
       "\n"
      ],
      "text/plain": [
       "[1] 3 3 2"
      ]
     },
     "metadata": {},
     "output_type": "display_data"
    },
    {
     "data": {
      "text/html": [
       "<ol class=list-inline>\n",
       "\t<li>10</li>\n",
       "\t<li>20</li>\n",
       "\t<li>30</li>\n",
       "\t<li>40</li>\n",
       "\t<li>50</li>\n",
       "\t<li>60</li>\n",
       "\t<li>70</li>\n",
       "\t<li>80</li>\n",
       "\t<li>90</li>\n",
       "\t<li>100</li>\n",
       "\t<li>10</li>\n",
       "\t<li>20</li>\n",
       "\t<li>30</li>\n",
       "\t<li>40</li>\n",
       "\t<li>50</li>\n",
       "\t<li>60</li>\n",
       "\t<li>70</li>\n",
       "\t<li>80</li>\n",
       "</ol>\n"
      ],
      "text/latex": [
       "\\begin{enumerate*}\n",
       "\\item 10\n",
       "\\item 20\n",
       "\\item 30\n",
       "\\item 40\n",
       "\\item 50\n",
       "\\item 60\n",
       "\\item 70\n",
       "\\item 80\n",
       "\\item 90\n",
       "\\item 100\n",
       "\\item 10\n",
       "\\item 20\n",
       "\\item 30\n",
       "\\item 40\n",
       "\\item 50\n",
       "\\item 60\n",
       "\\item 70\n",
       "\\item 80\n",
       "\\end{enumerate*}\n"
      ],
      "text/markdown": [
       "1. 10\n",
       "2. 20\n",
       "3. 30\n",
       "4. 40\n",
       "5. 50\n",
       "6. 60\n",
       "7. 70\n",
       "8. 80\n",
       "9. 90\n",
       "10. 100\n",
       "11. 10\n",
       "12. 20\n",
       "13. 30\n",
       "14. 40\n",
       "15. 50\n",
       "16. 60\n",
       "17. 70\n",
       "18. 80\n",
       "\n",
       "\n"
      ],
      "text/plain": [
       ", , 1\n",
       "\n",
       "     [,1] [,2] [,3]\n",
       "[1,]   10   40   70\n",
       "[2,]   20   50   80\n",
       "[3,]   30   60   90\n",
       "\n",
       ", , 2\n",
       "\n",
       "     [,1] [,2] [,3]\n",
       "[1,]  100   30   60\n",
       "[2,]   10   40   70\n",
       "[3,]   20   50   80\n"
      ]
     },
     "metadata": {},
     "output_type": "display_data"
    },
    {
     "name": "stdout",
     "output_type": "stream",
     "text": [
      ", , 1\n",
      "\n",
      "     [,1] [,2] [,3]\n",
      "[1,]   10   40   70\n",
      "[2,]   20   50   80\n",
      "[3,]   30   60   90\n",
      "\n",
      ", , 2\n",
      "\n",
      "     [,1] [,2] [,3]\n",
      "[1,]  100   30   60\n",
      "[2,]   10   40   70\n",
      "[3,]   20   50   80\n",
      "\n"
     ]
    }
   ],
   "source": [
    "a <- array(1: 24, dim = c(3, 4, 2))\n",
    "dim(a)   # 3 4 2\n",
    "a        # list out sequence\n",
    "print(a) # print out structure\n",
    "\n",
    "v1 <- c(10, 20, 30, 40)\n",
    "v2 <- c(50, 60, 70, 80, 90, 100)\n",
    " \n",
    "a <- array(c(v1, v2), dim = c(3, 3, 2))\n",
    "dim(a)   # 3 3 2\n",
    "a        # list out sequence\n",
    "print(a) # print out structure"
   ]
  },
  {
   "cell_type": "code",
   "execution_count": 13,
   "metadata": {},
   "outputs": [
    {
     "data": {
      "text/html": [
       "<ol>\n",
       "\t<li>'Sally'</li>\n",
       "\t<li>42</li>\n",
       "</ol>\n"
      ],
      "text/latex": [
       "\\begin{enumerate}\n",
       "\\item 'Sally'\n",
       "\\item 42\n",
       "\\end{enumerate}\n"
      ],
      "text/markdown": [
       "1. 'Sally'\n",
       "2. 42\n",
       "\n",
       "\n"
      ],
      "text/plain": [
       "[[1]]\n",
       "[1] \"Sally\"\n",
       "\n",
       "[[2]]\n",
       "[1] 42\n"
      ]
     },
     "metadata": {},
     "output_type": "display_data"
    },
    {
     "data": {
      "text/html": [
       "2"
      ],
      "text/latex": [
       "2"
      ],
      "text/markdown": [
       "2"
      ],
      "text/plain": [
       "[1] 2"
      ]
     },
     "metadata": {},
     "output_type": "display_data"
    },
    {
     "data": {
      "text/plain": [
       "NULL"
      ]
     },
     "metadata": {},
     "output_type": "display_data"
    },
    {
     "data": {
      "text/html": [
       "'list'"
      ],
      "text/latex": [
       "'list'"
      ],
      "text/markdown": [
       "'list'"
      ],
      "text/plain": [
       "[1] \"list\""
      ]
     },
     "metadata": {},
     "output_type": "display_data"
    },
    {
     "data": {
      "text/html": [
       "'list'"
      ],
      "text/latex": [
       "'list'"
      ],
      "text/markdown": [
       "'list'"
      ],
      "text/plain": [
       "[1] \"list\""
      ]
     },
     "metadata": {},
     "output_type": "display_data"
    },
    {
     "data": {
      "text/plain": [
       "NULL"
      ]
     },
     "metadata": {},
     "output_type": "display_data"
    },
    {
     "data": {
      "text/html": [
       "<dl>\n",
       "\t<dt>$name</dt>\n",
       "\t\t<dd>'Sally'</dd>\n",
       "\t<dt>$age</dt>\n",
       "\t\t<dd>42</dd>\n",
       "</dl>\n"
      ],
      "text/latex": [
       "\\begin{description}\n",
       "\\item[\\$name] 'Sally'\n",
       "\\item[\\$age] 42\n",
       "\\end{description}\n"
      ],
      "text/markdown": [
       "$name\n",
       ":   'Sally'\n",
       "$age\n",
       ":   42\n",
       "\n",
       "\n"
      ],
      "text/plain": [
       "$name\n",
       "[1] \"Sally\"\n",
       "\n",
       "$age\n",
       "[1] 42\n"
      ]
     },
     "metadata": {},
     "output_type": "display_data"
    },
    {
     "data": {
      "text/html": [
       "<strong>$names</strong> = <ol class=list-inline>\n",
       "\t<li>'name'</li>\n",
       "\t<li>'age'</li>\n",
       "</ol>\n"
      ],
      "text/latex": [
       "\\textbf{\\$names} = \\begin{enumerate*}\n",
       "\\item 'name'\n",
       "\\item 'age'\n",
       "\\end{enumerate*}\n"
      ],
      "text/markdown": [
       "**$names** = 1. 'name'\n",
       "2. 'age'\n",
       "\n",
       "\n"
      ],
      "text/plain": [
       "$names\n",
       "[1] \"name\" \"age\" \n"
      ]
     },
     "metadata": {},
     "output_type": "display_data"
    },
    {
     "data": {
      "text/html": [
       "<ol>\n",
       "\t<li>1</li>\n",
       "\t<li>'a'</li>\n",
       "\t<li>TRUE</li>\n",
       "\t<li>1+4i</li>\n",
       "</ol>\n"
      ],
      "text/latex": [
       "\\begin{enumerate}\n",
       "\\item 1\n",
       "\\item 'a'\n",
       "\\item TRUE\n",
       "\\item 1+4i\n",
       "\\end{enumerate}\n"
      ],
      "text/markdown": [
       "1. 1\n",
       "2. 'a'\n",
       "3. TRUE\n",
       "4. 1+4i\n",
       "\n",
       "\n"
      ],
      "text/plain": [
       "[[1]]\n",
       "[1] 1\n",
       "\n",
       "[[2]]\n",
       "[1] \"a\"\n",
       "\n",
       "[[3]]\n",
       "[1] TRUE\n",
       "\n",
       "[[4]]\n",
       "[1] 1+4i\n"
      ]
     },
     "metadata": {},
     "output_type": "display_data"
    },
    {
     "data": {
      "text/html": [
       "<ol>\n",
       "\t<li>NULL</li>\n",
       "\t<li>NULL</li>\n",
       "\t<li>NULL</li>\n",
       "\t<li>NULL</li>\n",
       "\t<li>NULL</li>\n",
       "</ol>\n"
      ],
      "text/latex": [
       "\\begin{enumerate}\n",
       "\\item NULL\n",
       "\\item NULL\n",
       "\\item NULL\n",
       "\\item NULL\n",
       "\\item NULL\n",
       "\\end{enumerate}\n"
      ],
      "text/markdown": [
       "1. NULL\n",
       "2. NULL\n",
       "3. NULL\n",
       "4. NULL\n",
       "5. NULL\n",
       "\n",
       "\n"
      ],
      "text/plain": [
       "[[1]]\n",
       "NULL\n",
       "\n",
       "[[2]]\n",
       "NULL\n",
       "\n",
       "[[3]]\n",
       "NULL\n",
       "\n",
       "[[4]]\n",
       "NULL\n",
       "\n",
       "[[5]]\n",
       "NULL\n"
      ]
     },
     "metadata": {},
     "output_type": "display_data"
    },
    {
     "data": {
      "text/html": [
       "5"
      ],
      "text/latex": [
       "5"
      ],
      "text/markdown": [
       "5"
      ],
      "text/plain": [
       "[1] 5"
      ]
     },
     "metadata": {},
     "output_type": "display_data"
    },
    {
     "data": {
      "text/html": [
       "10"
      ],
      "text/latex": [
       "10"
      ],
      "text/markdown": [
       "10"
      ],
      "text/plain": [
       "[1] 10"
      ]
     },
     "metadata": {},
     "output_type": "display_data"
    },
    {
     "data": {
      "text/html": [
       "<dl>\n",
       "\t<dt>$a</dt>\n",
       "\t\t<dd>'Sally'</dd>\n",
       "\t<dt>$b</dt>\n",
       "\t\t<dd><ol class=list-inline>\n",
       "\t<li>1</li>\n",
       "\t<li>2</li>\n",
       "\t<li>3</li>\n",
       "\t<li>4</li>\n",
       "\t<li>5</li>\n",
       "\t<li>6</li>\n",
       "\t<li>7</li>\n",
       "\t<li>8</li>\n",
       "\t<li>9</li>\n",
       "\t<li>10</li>\n",
       "</ol>\n",
       "</dd>\n",
       "\t<dt>$data</dt>\n",
       "\t\t<dd><table>\n",
       "<thead><tr><th scope=col>Sepal.Length</th><th scope=col>Sepal.Width</th><th scope=col>Petal.Length</th><th scope=col>Petal.Width</th><th scope=col>Species</th></tr></thead>\n",
       "<tbody>\n",
       "\t<tr><td>5.1   </td><td>3.5   </td><td>1.4   </td><td>0.2   </td><td>setosa</td></tr>\n",
       "\t<tr><td>4.9   </td><td>3.0   </td><td>1.4   </td><td>0.2   </td><td>setosa</td></tr>\n",
       "\t<tr><td>4.7   </td><td>3.2   </td><td>1.3   </td><td>0.2   </td><td>setosa</td></tr>\n",
       "\t<tr><td>4.6   </td><td>3.1   </td><td>1.5   </td><td>0.2   </td><td>setosa</td></tr>\n",
       "\t<tr><td>5.0   </td><td>3.6   </td><td>1.4   </td><td>0.2   </td><td>setosa</td></tr>\n",
       "\t<tr><td>5.4   </td><td>3.9   </td><td>1.7   </td><td>0.4   </td><td>setosa</td></tr>\n",
       "</tbody>\n",
       "</table>\n",
       "</dd>\n",
       "</dl>\n"
      ],
      "text/latex": [
       "\\begin{description}\n",
       "\\item[\\$a] 'Sally'\n",
       "\\item[\\$b] \\begin{enumerate*}\n",
       "\\item 1\n",
       "\\item 2\n",
       "\\item 3\n",
       "\\item 4\n",
       "\\item 5\n",
       "\\item 6\n",
       "\\item 7\n",
       "\\item 8\n",
       "\\item 9\n",
       "\\item 10\n",
       "\\end{enumerate*}\n",
       "\n",
       "\\item[\\$data] \\begin{tabular}{r|lllll}\n",
       " Sepal.Length & Sepal.Width & Petal.Length & Petal.Width & Species\\\\\n",
       "\\hline\n",
       "\t 5.1    & 3.5    & 1.4    & 0.2    & setosa\\\\\n",
       "\t 4.9    & 3.0    & 1.4    & 0.2    & setosa\\\\\n",
       "\t 4.7    & 3.2    & 1.3    & 0.2    & setosa\\\\\n",
       "\t 4.6    & 3.1    & 1.5    & 0.2    & setosa\\\\\n",
       "\t 5.0    & 3.6    & 1.4    & 0.2    & setosa\\\\\n",
       "\t 5.4    & 3.9    & 1.7    & 0.4    & setosa\\\\\n",
       "\\end{tabular}\n",
       "\n",
       "\\end{description}\n"
      ],
      "text/markdown": [
       "$a\n",
       ":   'Sally'\n",
       "$b\n",
       ":   1. 1\n",
       "2. 2\n",
       "3. 3\n",
       "4. 4\n",
       "5. 5\n",
       "6. 6\n",
       "7. 7\n",
       "8. 8\n",
       "9. 9\n",
       "10. 10\n",
       "\n",
       "\n",
       "\n",
       "$data\n",
       ":   \n",
       "Sepal.Length | Sepal.Width | Petal.Length | Petal.Width | Species | \n",
       "|---|---|---|---|---|---|\n",
       "| 5.1    | 3.5    | 1.4    | 0.2    | setosa | \n",
       "| 4.9    | 3.0    | 1.4    | 0.2    | setosa | \n",
       "| 4.7    | 3.2    | 1.3    | 0.2    | setosa | \n",
       "| 4.6    | 3.1    | 1.5    | 0.2    | setosa | \n",
       "| 5.0    | 3.6    | 1.4    | 0.2    | setosa | \n",
       "| 5.4    | 3.9    | 1.7    | 0.4    | setosa | \n",
       "\n",
       "\n",
       "\n",
       "\n",
       "\n"
      ],
      "text/plain": [
       "$a\n",
       "[1] \"Sally\"\n",
       "\n",
       "$b\n",
       " [1]  1  2  3  4  5  6  7  8  9 10\n",
       "\n",
       "$data\n",
       "  Sepal.Length Sepal.Width Petal.Length Petal.Width Species\n",
       "1          5.1         3.5          1.4         0.2  setosa\n",
       "2          4.9         3.0          1.4         0.2  setosa\n",
       "3          4.7         3.2          1.3         0.2  setosa\n",
       "4          4.6         3.1          1.5         0.2  setosa\n",
       "5          5.0         3.6          1.4         0.2  setosa\n",
       "6          5.4         3.9          1.7         0.4  setosa\n"
      ]
     },
     "metadata": {},
     "output_type": "display_data"
    }
   ],
   "source": [
    "l <- list(\"Sally\", 42)\n",
    "l\n",
    "length(l)      # 2\n",
    "dim(l)         # NULL\n",
    "class(l)       # list\n",
    "typeof(l)      # list\n",
    "attributes (l) # NULL\n",
    "\n",
    "l <- list(name=\"Sally\", age=42)\n",
    "l\n",
    "attributes (l) # 'name' 'age'\n",
    "\n",
    "l <- list(1, \"a\", TRUE, 1+4i)\n",
    "l\n",
    "\n",
    "l <- vector(\"list\", length = 5) # empty list\n",
    "l\n",
    "length(l)\n",
    "\n",
    "v <- 1:10\n",
    "l <- as.list(v)\n",
    "length(l)\n",
    "\n",
    "l <- list(a = \"Sally\", b = 1:10, data = head(iris))\n",
    "l"
   ]
  },
  {
   "cell_type": "code",
   "execution_count": 14,
   "metadata": {},
   "outputs": [
    {
     "data": {
      "text/html": [
       "<table>\n",
       "<thead><tr><th scope=col>id</th><th scope=col>x</th><th scope=col>y</th></tr></thead>\n",
       "<tbody>\n",
       "\t<tr><td>a </td><td> 1</td><td>11</td></tr>\n",
       "\t<tr><td>b </td><td> 2</td><td>12</td></tr>\n",
       "\t<tr><td>c </td><td> 3</td><td>13</td></tr>\n",
       "\t<tr><td>d </td><td> 4</td><td>14</td></tr>\n",
       "\t<tr><td>e </td><td> 5</td><td>15</td></tr>\n",
       "\t<tr><td>f </td><td> 6</td><td>16</td></tr>\n",
       "\t<tr><td>g </td><td> 7</td><td>17</td></tr>\n",
       "\t<tr><td>h </td><td> 8</td><td>18</td></tr>\n",
       "\t<tr><td>i </td><td> 9</td><td>19</td></tr>\n",
       "\t<tr><td>j </td><td>10</td><td>20</td></tr>\n",
       "</tbody>\n",
       "</table>\n"
      ],
      "text/latex": [
       "\\begin{tabular}{r|lll}\n",
       " id & x & y\\\\\n",
       "\\hline\n",
       "\t a  &  1 & 11\\\\\n",
       "\t b  &  2 & 12\\\\\n",
       "\t c  &  3 & 13\\\\\n",
       "\t d  &  4 & 14\\\\\n",
       "\t e  &  5 & 15\\\\\n",
       "\t f  &  6 & 16\\\\\n",
       "\t g  &  7 & 17\\\\\n",
       "\t h  &  8 & 18\\\\\n",
       "\t i  &  9 & 19\\\\\n",
       "\t j  & 10 & 20\\\\\n",
       "\\end{tabular}\n"
      ],
      "text/markdown": [
       "\n",
       "id | x | y | \n",
       "|---|---|---|---|---|---|---|---|---|---|\n",
       "| a  |  1 | 11 | \n",
       "| b  |  2 | 12 | \n",
       "| c  |  3 | 13 | \n",
       "| d  |  4 | 14 | \n",
       "| e  |  5 | 15 | \n",
       "| f  |  6 | 16 | \n",
       "| g  |  7 | 17 | \n",
       "| h  |  8 | 18 | \n",
       "| i  |  9 | 19 | \n",
       "| j  | 10 | 20 | \n",
       "\n",
       "\n"
      ],
      "text/plain": [
       "   id x  y \n",
       "1  a   1 11\n",
       "2  b   2 12\n",
       "3  c   3 13\n",
       "4  d   4 14\n",
       "5  e   5 15\n",
       "6  f   6 16\n",
       "7  g   7 17\n",
       "8  h   8 18\n",
       "9  i   9 19\n",
       "10 j  10 20"
      ]
     },
     "metadata": {},
     "output_type": "display_data"
    },
    {
     "data": {
      "text/html": [
       "'data.frame'"
      ],
      "text/latex": [
       "'data.frame'"
      ],
      "text/markdown": [
       "'data.frame'"
      ],
      "text/plain": [
       "[1] \"data.frame\""
      ]
     },
     "metadata": {},
     "output_type": "display_data"
    },
    {
     "data": {
      "text/html": [
       "<ol class=list-inline>\n",
       "\t<li>10</li>\n",
       "\t<li>3</li>\n",
       "</ol>\n"
      ],
      "text/latex": [
       "\\begin{enumerate*}\n",
       "\\item 10\n",
       "\\item 3\n",
       "\\end{enumerate*}\n"
      ],
      "text/markdown": [
       "1. 10\n",
       "2. 3\n",
       "\n",
       "\n"
      ],
      "text/plain": [
       "[1] 10  3"
      ]
     },
     "metadata": {},
     "output_type": "display_data"
    },
    {
     "data": {
      "text/html": [
       "10"
      ],
      "text/latex": [
       "10"
      ],
      "text/markdown": [
       "10"
      ],
      "text/plain": [
       "[1] 10"
      ]
     },
     "metadata": {},
     "output_type": "display_data"
    },
    {
     "data": {
      "text/html": [
       "3"
      ],
      "text/latex": [
       "3"
      ],
      "text/markdown": [
       "3"
      ],
      "text/plain": [
       "[1] 3"
      ]
     },
     "metadata": {},
     "output_type": "display_data"
    },
    {
     "data": {
      "text/html": [
       "<ol class=list-inline>\n",
       "\t<li>'id'</li>\n",
       "\t<li>'x'</li>\n",
       "\t<li>'y'</li>\n",
       "</ol>\n"
      ],
      "text/latex": [
       "\\begin{enumerate*}\n",
       "\\item 'id'\n",
       "\\item 'x'\n",
       "\\item 'y'\n",
       "\\end{enumerate*}\n"
      ],
      "text/markdown": [
       "1. 'id'\n",
       "2. 'x'\n",
       "3. 'y'\n",
       "\n",
       "\n"
      ],
      "text/plain": [
       "[1] \"id\" \"x\"  \"y\" "
      ]
     },
     "metadata": {},
     "output_type": "display_data"
    },
    {
     "name": "stdout",
     "output_type": "stream",
     "text": [
      "'data.frame':\t10 obs. of  3 variables:\n",
      " $ id: Factor w/ 10 levels \"a\",\"b\",\"c\",\"d\",..: 1 2 3 4 5 6 7 8 9 10\n",
      " $ x : int  1 2 3 4 5 6 7 8 9 10\n",
      " $ y : int  11 12 13 14 15 16 17 18 19 20\n"
     ]
    },
    {
     "data": {
      "text/html": [
       "<table>\n",
       "<thead><tr><th scope=col>id</th><th scope=col>x</th><th scope=col>y</th></tr></thead>\n",
       "<tbody>\n",
       "\t<tr><td>a </td><td>1 </td><td>11</td></tr>\n",
       "\t<tr><td>b </td><td>2 </td><td>12</td></tr>\n",
       "\t<tr><td>c </td><td>3 </td><td>13</td></tr>\n",
       "\t<tr><td>d </td><td>4 </td><td>14</td></tr>\n",
       "\t<tr><td>e </td><td>5 </td><td>15</td></tr>\n",
       "\t<tr><td>f </td><td>6 </td><td>16</td></tr>\n",
       "</tbody>\n",
       "</table>\n"
      ],
      "text/latex": [
       "\\begin{tabular}{r|lll}\n",
       " id & x & y\\\\\n",
       "\\hline\n",
       "\t a  & 1  & 11\\\\\n",
       "\t b  & 2  & 12\\\\\n",
       "\t c  & 3  & 13\\\\\n",
       "\t d  & 4  & 14\\\\\n",
       "\t e  & 5  & 15\\\\\n",
       "\t f  & 6  & 16\\\\\n",
       "\\end{tabular}\n"
      ],
      "text/markdown": [
       "\n",
       "id | x | y | \n",
       "|---|---|---|---|---|---|\n",
       "| a  | 1  | 11 | \n",
       "| b  | 2  | 12 | \n",
       "| c  | 3  | 13 | \n",
       "| d  | 4  | 14 | \n",
       "| e  | 5  | 15 | \n",
       "| f  | 6  | 16 | \n",
       "\n",
       "\n"
      ],
      "text/plain": [
       "  id x y \n",
       "1 a  1 11\n",
       "2 b  2 12\n",
       "3 c  3 13\n",
       "4 d  4 14\n",
       "5 e  5 15\n",
       "6 f  6 16"
      ]
     },
     "metadata": {},
     "output_type": "display_data"
    },
    {
     "data": {
      "text/html": [
       "'data.frame'"
      ],
      "text/latex": [
       "'data.frame'"
      ],
      "text/markdown": [
       "'data.frame'"
      ],
      "text/plain": [
       "[1] \"data.frame\""
      ]
     },
     "metadata": {},
     "output_type": "display_data"
    },
    {
     "data": {
      "text/html": [
       "5"
      ],
      "text/latex": [
       "5"
      ],
      "text/markdown": [
       "5"
      ],
      "text/plain": [
       "[1] 5"
      ]
     },
     "metadata": {},
     "output_type": "display_data"
    },
    {
     "data": {
      "text/html": [
       "150"
      ],
      "text/latex": [
       "150"
      ],
      "text/markdown": [
       "150"
      ],
      "text/plain": [
       "[1] 150"
      ]
     },
     "metadata": {},
     "output_type": "display_data"
    },
    {
     "data": {
      "text/html": [
       "5"
      ],
      "text/latex": [
       "5"
      ],
      "text/markdown": [
       "5"
      ],
      "text/plain": [
       "[1] 5"
      ]
     },
     "metadata": {},
     "output_type": "display_data"
    },
    {
     "data": {
      "text/html": [
       "<table>\n",
       "<thead><tr><th scope=col>Sepal.Length</th><th scope=col>Sepal.Width</th><th scope=col>Petal.Length</th><th scope=col>Petal.Width</th><th scope=col>Species</th></tr></thead>\n",
       "<tbody>\n",
       "\t<tr><td>5.1   </td><td>3.5   </td><td>1.4   </td><td>0.2   </td><td>setosa</td></tr>\n",
       "\t<tr><td>4.9   </td><td>3.0   </td><td>1.4   </td><td>0.2   </td><td>setosa</td></tr>\n",
       "\t<tr><td>4.7   </td><td>3.2   </td><td>1.3   </td><td>0.2   </td><td>setosa</td></tr>\n",
       "\t<tr><td>4.6   </td><td>3.1   </td><td>1.5   </td><td>0.2   </td><td>setosa</td></tr>\n",
       "\t<tr><td>5.0   </td><td>3.6   </td><td>1.4   </td><td>0.2   </td><td>setosa</td></tr>\n",
       "\t<tr><td>5.4   </td><td>3.9   </td><td>1.7   </td><td>0.4   </td><td>setosa</td></tr>\n",
       "</tbody>\n",
       "</table>\n"
      ],
      "text/latex": [
       "\\begin{tabular}{r|lllll}\n",
       " Sepal.Length & Sepal.Width & Petal.Length & Petal.Width & Species\\\\\n",
       "\\hline\n",
       "\t 5.1    & 3.5    & 1.4    & 0.2    & setosa\\\\\n",
       "\t 4.9    & 3.0    & 1.4    & 0.2    & setosa\\\\\n",
       "\t 4.7    & 3.2    & 1.3    & 0.2    & setosa\\\\\n",
       "\t 4.6    & 3.1    & 1.5    & 0.2    & setosa\\\\\n",
       "\t 5.0    & 3.6    & 1.4    & 0.2    & setosa\\\\\n",
       "\t 5.4    & 3.9    & 1.7    & 0.4    & setosa\\\\\n",
       "\\end{tabular}\n"
      ],
      "text/markdown": [
       "\n",
       "Sepal.Length | Sepal.Width | Petal.Length | Petal.Width | Species | \n",
       "|---|---|---|---|---|---|\n",
       "| 5.1    | 3.5    | 1.4    | 0.2    | setosa | \n",
       "| 4.9    | 3.0    | 1.4    | 0.2    | setosa | \n",
       "| 4.7    | 3.2    | 1.3    | 0.2    | setosa | \n",
       "| 4.6    | 3.1    | 1.5    | 0.2    | setosa | \n",
       "| 5.0    | 3.6    | 1.4    | 0.2    | setosa | \n",
       "| 5.4    | 3.9    | 1.7    | 0.4    | setosa | \n",
       "\n",
       "\n"
      ],
      "text/plain": [
       "  Sepal.Length Sepal.Width Petal.Length Petal.Width Species\n",
       "1 5.1          3.5         1.4          0.2         setosa \n",
       "2 4.9          3.0         1.4          0.2         setosa \n",
       "3 4.7          3.2         1.3          0.2         setosa \n",
       "4 4.6          3.1         1.5          0.2         setosa \n",
       "5 5.0          3.6         1.4          0.2         setosa \n",
       "6 5.4          3.9         1.7          0.4         setosa "
      ]
     },
     "metadata": {},
     "output_type": "display_data"
    }
   ],
   "source": [
    "df <- data.frame(id = letters[1:10], x = 1:10, y = 11:20)\n",
    "df\n",
    "class(df) # data.frame\n",
    "dim(df)   # 10 3\n",
    "nrow(df)  # 10\n",
    "ncol(df)  #  3\n",
    "names(df) # 'id' 'x' 'y'\n",
    "str(df)\n",
    "head(df)\n",
    "\n",
    "class(iris) # data.frame\n",
    "length(iris) #   5\n",
    "nrow(iris)   # 150\n",
    "ncol(iris)   #   5\n",
    "head(iris)"
   ]
  },
  {
   "cell_type": "markdown",
   "metadata": {},
   "source": [
    "## Arithmetic Operators\n",
    "- ```+``` addition\n",
    "- ```-``` subtraction\n",
    "- ```*``` multiplication\n",
    "- ```/``` division\n",
    "- ```^``` or ```**``` exponentiation\n",
    "- ```%%``` modulus\n",
    "- ```%/%``` integer division"
   ]
  },
  {
   "cell_type": "code",
   "execution_count": 15,
   "metadata": {},
   "outputs": [
    {
     "data": {
      "text/html": [
       "5"
      ],
      "text/latex": [
       "5"
      ],
      "text/markdown": [
       "5"
      ],
      "text/plain": [
       "[1] 5"
      ]
     },
     "metadata": {},
     "output_type": "display_data"
    },
    {
     "data": {
      "text/html": [
       "-1"
      ],
      "text/latex": [
       "-1"
      ],
      "text/markdown": [
       "-1"
      ],
      "text/plain": [
       "[1] -1"
      ]
     },
     "metadata": {},
     "output_type": "display_data"
    },
    {
     "data": {
      "text/html": [
       "6"
      ],
      "text/latex": [
       "6"
      ],
      "text/markdown": [
       "6"
      ],
      "text/plain": [
       "[1] 6"
      ]
     },
     "metadata": {},
     "output_type": "display_data"
    },
    {
     "data": {
      "text/html": [
       "0.666666666666667"
      ],
      "text/latex": [
       "0.666666666666667"
      ],
      "text/markdown": [
       "0.666666666666667"
      ],
      "text/plain": [
       "[1] 0.6666667"
      ]
     },
     "metadata": {},
     "output_type": "display_data"
    },
    {
     "data": {
      "text/html": [
       "8"
      ],
      "text/latex": [
       "8"
      ],
      "text/markdown": [
       "8"
      ],
      "text/plain": [
       "[1] 8"
      ]
     },
     "metadata": {},
     "output_type": "display_data"
    },
    {
     "data": {
      "text/html": [
       "8"
      ],
      "text/latex": [
       "8"
      ],
      "text/markdown": [
       "8"
      ],
      "text/plain": [
       "[1] 8"
      ]
     },
     "metadata": {},
     "output_type": "display_data"
    },
    {
     "data": {
      "text/html": [
       "2"
      ],
      "text/latex": [
       "2"
      ],
      "text/markdown": [
       "2"
      ],
      "text/plain": [
       "[1] 2"
      ]
     },
     "metadata": {},
     "output_type": "display_data"
    },
    {
     "data": {
      "text/html": [
       "0"
      ],
      "text/latex": [
       "0"
      ],
      "text/markdown": [
       "0"
      ],
      "text/plain": [
       "[1] 0"
      ]
     },
     "metadata": {},
     "output_type": "display_data"
    }
   ],
   "source": [
    "2+3   # 5\n",
    "2-3   # -1\n",
    "2*3   # 6\n",
    "2/3   # 0.666666666666667\n",
    "2^3   # 8\n",
    "2**3  # 8\n",
    "2%%3  # 2\n",
    "2%/%3 # 0"
   ]
  },
  {
   "cell_type": "markdown",
   "metadata": {},
   "source": [
    "## Logical Operators\n",
    "\n",
    "- *<* less than\n",
    "- *<=* less than or equal\n",
    "- *>* greater than\n",
    "- *>=* greater than or equal\n",
    "- *==* equal\n",
    "- *!=* not equal\n",
    "- *!* not\n",
    "- *|* or\n",
    "- *&* and\n",
    "- *isTRUE()* test if true"
   ]
  },
  {
   "cell_type": "markdown",
   "metadata": {},
   "source": [
    "## System Date and Time"
   ]
  },
  {
   "cell_type": "code",
   "execution_count": 16,
   "metadata": {},
   "outputs": [
    {
     "data": {
      "text/html": [
       "'Sun Mar 18 09:46:30 2018'"
      ],
      "text/latex": [
       "'Sun Mar 18 09:46:30 2018'"
      ],
      "text/markdown": [
       "'Sun Mar 18 09:46:30 2018'"
      ],
      "text/plain": [
       "[1] \"Sun Mar 18 09:46:30 2018\""
      ]
     },
     "metadata": {},
     "output_type": "display_data"
    }
   ],
   "source": [
    "date()"
   ]
  },
  {
   "cell_type": "code",
   "execution_count": 17,
   "metadata": {},
   "outputs": [
    {
     "data": {
      "text/plain": [
       "[1] \"2018-03-18 09:46:30 EDT\""
      ]
     },
     "metadata": {},
     "output_type": "display_data"
    }
   ],
   "source": [
    "Sys.time()"
   ]
  },
  {
   "cell_type": "code",
   "execution_count": 18,
   "metadata": {},
   "outputs": [
    {
     "data": {
      "text/html": [
       "<time datetime=\"2018-03-18\">2018-03-18</time>"
      ],
      "text/latex": [
       "2018-03-18"
      ],
      "text/markdown": [
       "2018-03-18"
      ],
      "text/plain": [
       "[1] \"2018-03-18\""
      ]
     },
     "metadata": {},
     "output_type": "display_data"
    }
   ],
   "source": [
    "Sys.Date()"
   ]
  },
  {
   "cell_type": "markdown",
   "metadata": {},
   "source": [
    "## User-defined Functions"
   ]
  },
  {
   "cell_type": "code",
   "execution_count": 19,
   "metadata": {},
   "outputs": [
    {
     "data": {
      "text/html": [
       "7"
      ],
      "text/latex": [
       "7"
      ],
      "text/markdown": [
       "7"
      ],
      "text/plain": [
       "[1] 7"
      ]
     },
     "metadata": {},
     "output_type": "display_data"
    }
   ],
   "source": [
    "myFunction <- function(arg1, arg2) {\n",
    "    arg1 + arg2 # return keyword optional in this example\n",
    "}\n",
    "myFunction(3, 4)"
   ]
  },
  {
   "cell_type": "markdown",
   "metadata": {},
   "source": [
    "## Conditional and Repetitive Execution\n",
    "- ```if```\n",
    "- ```if/else```\n",
    "- ```for```\n",
    "- ```while```\n",
    "- ```repeat```\n",
    "- ```break```\n",
    "- ```next```\n",
    "- ```return```"
   ]
  },
  {
   "cell_type": "code",
   "execution_count": 20,
   "metadata": {},
   "outputs": [
    {
     "name": "stdout",
     "output_type": "stream",
     "text": [
      "[1] \"x is greater than 10\"\n"
     ]
    }
   ],
   "source": [
    "x <- 1:15\n",
    "if (sample(x, 1) <= 10) {\n",
    "    print(\"x is less than 10\")\n",
    "} else {\n",
    "    print(\"x is greater than 10\")\n",
    "}"
   ]
  },
  {
   "cell_type": "code",
   "execution_count": 21,
   "metadata": {},
   "outputs": [
    {
     "data": {
      "text/html": [
       "<ol class=list-inline>\n",
       "\t<li>'x less than 10'</li>\n",
       "\t<li>'x less than 10'</li>\n",
       "\t<li>'x less than 10'</li>\n",
       "\t<li>'x less than 10'</li>\n",
       "\t<li>'x less than 10'</li>\n",
       "\t<li>'x less than 10'</li>\n",
       "\t<li>'x less than 10'</li>\n",
       "\t<li>'x less than 10'</li>\n",
       "\t<li>'x less than 10'</li>\n",
       "\t<li>'x less than 10'</li>\n",
       "\t<li>'x greater than 10'</li>\n",
       "\t<li>'x greater than 10'</li>\n",
       "\t<li>'x greater than 10'</li>\n",
       "\t<li>'x greater than 10'</li>\n",
       "\t<li>'x greater than 10'</li>\n",
       "</ol>\n"
      ],
      "text/latex": [
       "\\begin{enumerate*}\n",
       "\\item 'x less than 10'\n",
       "\\item 'x less than 10'\n",
       "\\item 'x less than 10'\n",
       "\\item 'x less than 10'\n",
       "\\item 'x less than 10'\n",
       "\\item 'x less than 10'\n",
       "\\item 'x less than 10'\n",
       "\\item 'x less than 10'\n",
       "\\item 'x less than 10'\n",
       "\\item 'x less than 10'\n",
       "\\item 'x greater than 10'\n",
       "\\item 'x greater than 10'\n",
       "\\item 'x greater than 10'\n",
       "\\item 'x greater than 10'\n",
       "\\item 'x greater than 10'\n",
       "\\end{enumerate*}\n"
      ],
      "text/markdown": [
       "1. 'x less than 10'\n",
       "2. 'x less than 10'\n",
       "3. 'x less than 10'\n",
       "4. 'x less than 10'\n",
       "5. 'x less than 10'\n",
       "6. 'x less than 10'\n",
       "7. 'x less than 10'\n",
       "8. 'x less than 10'\n",
       "9. 'x less than 10'\n",
       "10. 'x less than 10'\n",
       "11. 'x greater than 10'\n",
       "12. 'x greater than 10'\n",
       "13. 'x greater than 10'\n",
       "14. 'x greater than 10'\n",
       "15. 'x greater than 10'\n",
       "\n",
       "\n"
      ],
      "text/plain": [
       " [1] \"x less than 10\"    \"x less than 10\"    \"x less than 10\"   \n",
       " [4] \"x less than 10\"    \"x less than 10\"    \"x less than 10\"   \n",
       " [7] \"x less than 10\"    \"x less than 10\"    \"x less than 10\"   \n",
       "[10] \"x less than 10\"    \"x greater than 10\" \"x greater than 10\"\n",
       "[13] \"x greater than 10\" \"x greater than 10\" \"x greater than 10\""
      ]
     },
     "metadata": {},
     "output_type": "display_data"
    }
   ],
   "source": [
    "ifelse(x <= 10, \"x less than 10\", \"x greater than 10\")"
   ]
  },
  {
   "cell_type": "code",
   "execution_count": 22,
   "metadata": {},
   "outputs": [
    {
     "name": "stdout",
     "output_type": "stream",
     "text": [
      "[1] 1\n",
      "[1] 2\n",
      "[1] 3\n",
      "[1] 4\n",
      "[1] 5\n",
      "[1] 6\n",
      "[1] 7\n",
      "[1] 8\n",
      "[1] 9\n",
      "[1] 10\n"
     ]
    }
   ],
   "source": [
    "for (i in 1:10) {\n",
    "    print(i)\n",
    "}"
   ]
  },
  {
   "cell_type": "code",
   "execution_count": 23,
   "metadata": {},
   "outputs": [
    {
     "name": "stdout",
     "output_type": "stream",
     "text": [
      "[1] \"apples\"\n",
      "[1] \"oranges\"\n",
      "[1] \"bananas\"\n",
      "[1] \"strawberries\"\n",
      "[1] \"apples\"\n",
      "[1] \"oranges\"\n",
      "[1] \"bananas\"\n",
      "[1] \"strawberries\"\n",
      "[1] \"apples\"\n",
      "[1] \"oranges\"\n",
      "[1] \"bananas\"\n",
      "[1] \"strawberries\"\n",
      "[1] \"apples\"\n",
      "[1] \"oranges\"\n",
      "[1] \"bananas\"\n",
      "[1] \"strawberries\"\n"
     ]
    }
   ],
   "source": [
    "x <- c(\"apples\", \"oranges\", \"bananas\", \"strawberries\")\n",
    "\n",
    "for (i in 1:length(x)) {\n",
    "    print(x[i])\n",
    "}\n",
    "\n",
    "for (el in x) {\n",
    "    print(el)\n",
    "}\n",
    "\n",
    "for (i in seq(x)) {\n",
    "    print(x[i])\n",
    "}\n",
    "\n",
    "for (i in 1:4) print(x[i])"
   ]
  },
  {
   "cell_type": "code",
   "execution_count": 24,
   "metadata": {},
   "outputs": [
    {
     "name": "stdout",
     "output_type": "stream",
     "text": [
      "[1] 1\n",
      "[1] 3\n",
      "[1] 5\n",
      "[1] 7\n",
      "[1] 9\n",
      "[1] 2\n",
      "[1] 4\n",
      "[1] 6\n",
      "[1] 8\n",
      "[1] 10\n"
     ]
    }
   ],
   "source": [
    "m <- matrix(1:10, 2)\n",
    "for (i in seq(nrow(m))) {\n",
    "    for (j in seq(ncol(m))) {\n",
    "        print(m[i, j])\n",
    "    }\n",
    "}"
   ]
  },
  {
   "cell_type": "code",
   "execution_count": 25,
   "metadata": {},
   "outputs": [
    {
     "data": {
      "text/html": [
       "<ol class=list-inline>\n",
       "\t<li>0</li>\n",
       "\t<li>1</li>\n",
       "\t<li>1</li>\n",
       "\t<li>1</li>\n",
       "\t<li>0</li>\n",
       "\t<li>1</li>\n",
       "\t<li>1</li>\n",
       "\t<li>1</li>\n",
       "\t<li>0</li>\n",
       "\t<li>0</li>\n",
       "\t<li>1</li>\n",
       "\t<li>0</li>\n",
       "\t<li>0</li>\n",
       "\t<li>1</li>\n",
       "\t<li>0</li>\n",
       "\t<li>1</li>\n",
       "\t<li>0</li>\n",
       "\t<li>0</li>\n",
       "\t<li>0</li>\n",
       "\t<li>0</li>\n",
       "</ol>\n"
      ],
      "text/latex": [
       "\\begin{enumerate*}\n",
       "\\item 0\n",
       "\\item 1\n",
       "\\item 1\n",
       "\\item 1\n",
       "\\item 0\n",
       "\\item 1\n",
       "\\item 1\n",
       "\\item 1\n",
       "\\item 0\n",
       "\\item 0\n",
       "\\item 1\n",
       "\\item 0\n",
       "\\item 0\n",
       "\\item 1\n",
       "\\item 0\n",
       "\\item 1\n",
       "\\item 0\n",
       "\\item 0\n",
       "\\item 0\n",
       "\\item 0\n",
       "\\end{enumerate*}\n"
      ],
      "text/markdown": [
       "1. 0\n",
       "2. 1\n",
       "3. 1\n",
       "4. 1\n",
       "5. 0\n",
       "6. 1\n",
       "7. 1\n",
       "8. 1\n",
       "9. 0\n",
       "10. 0\n",
       "11. 1\n",
       "12. 0\n",
       "13. 0\n",
       "14. 1\n",
       "15. 0\n",
       "16. 1\n",
       "17. 0\n",
       "18. 0\n",
       "19. 0\n",
       "20. 0\n",
       "\n",
       "\n"
      ],
      "text/plain": [
       " [1] 0 1 1 1 0 1 1 1 0 0 1 0 0 1 0 1 0 0 0 0"
      ]
     },
     "metadata": {},
     "output_type": "display_data"
    },
    {
     "data": {
      "text/html": [
       "<ol class=list-inline>\n",
       "\t<li>'T'</li>\n",
       "\t<li>'H'</li>\n",
       "\t<li>'H'</li>\n",
       "\t<li>'H'</li>\n",
       "\t<li>'T'</li>\n",
       "\t<li>'H'</li>\n",
       "\t<li>'H'</li>\n",
       "\t<li>'H'</li>\n",
       "\t<li>'T'</li>\n",
       "\t<li>'T'</li>\n",
       "\t<li>'H'</li>\n",
       "\t<li>'T'</li>\n",
       "\t<li>'T'</li>\n",
       "\t<li>'H'</li>\n",
       "\t<li>'T'</li>\n",
       "\t<li>'H'</li>\n",
       "\t<li>'T'</li>\n",
       "\t<li>'T'</li>\n",
       "\t<li>'T'</li>\n",
       "\t<li>'T'</li>\n",
       "</ol>\n"
      ],
      "text/latex": [
       "\\begin{enumerate*}\n",
       "\\item 'T'\n",
       "\\item 'H'\n",
       "\\item 'H'\n",
       "\\item 'H'\n",
       "\\item 'T'\n",
       "\\item 'H'\n",
       "\\item 'H'\n",
       "\\item 'H'\n",
       "\\item 'T'\n",
       "\\item 'T'\n",
       "\\item 'H'\n",
       "\\item 'T'\n",
       "\\item 'T'\n",
       "\\item 'H'\n",
       "\\item 'T'\n",
       "\\item 'H'\n",
       "\\item 'T'\n",
       "\\item 'T'\n",
       "\\item 'T'\n",
       "\\item 'T'\n",
       "\\end{enumerate*}\n"
      ],
      "text/markdown": [
       "1. 'T'\n",
       "2. 'H'\n",
       "3. 'H'\n",
       "4. 'H'\n",
       "5. 'T'\n",
       "6. 'H'\n",
       "7. 'H'\n",
       "8. 'H'\n",
       "9. 'T'\n",
       "10. 'T'\n",
       "11. 'H'\n",
       "12. 'T'\n",
       "13. 'T'\n",
       "14. 'H'\n",
       "15. 'T'\n",
       "16. 'H'\n",
       "17. 'T'\n",
       "18. 'T'\n",
       "19. 'T'\n",
       "20. 'T'\n",
       "\n",
       "\n"
      ],
      "text/plain": [
       " [1] \"T\" \"H\" \"H\" \"H\" \"T\" \"H\" \"H\" \"H\" \"T\" \"T\" \"H\" \"T\" \"T\" \"H\" \"T\" \"H\" \"T\" \"T\" \"T\"\n",
       "[20] \"T\""
      ]
     },
     "metadata": {},
     "output_type": "display_data"
    }
   ],
   "source": [
    "x <- rbinom(20, 1, 0.5) # rbinom(n, size, prob)\n",
    "x\n",
    "y <- c()\n",
    "for (i in 1:length(x)) {\n",
    "    if (x[i] == 1) y[i] <- 'H' else y[i] <- 'T' \n",
    "}\n",
    "y"
   ]
  },
  {
   "cell_type": "code",
   "execution_count": 26,
   "metadata": {},
   "outputs": [
    {
     "name": "stdout",
     "output_type": "stream",
     "text": [
      "[1] 1\n",
      "[1] 2\n",
      "[1] 3\n",
      "[1] 4\n",
      "[1] 5\n",
      "[1] 6\n",
      "[1] 7\n",
      "[1] 8\n",
      "[1] 9\n"
     ]
    }
   ],
   "source": [
    "i <- 1\n",
    "while (i < 10) {\n",
    "    print(i)\n",
    "    i <- i + 1\n",
    "}"
   ]
  },
  {
   "cell_type": "code",
   "execution_count": 27,
   "metadata": {},
   "outputs": [
    {
     "name": "stdout",
     "output_type": "stream",
     "text": [
      "[1] 1\n",
      "[1] 2\n",
      "[1] 3\n",
      "[1] 4\n",
      "[1] 5\n",
      "[1] 6\n",
      "[1] 7\n",
      "[1] 8\n",
      "[1] 9\n",
      "[1] 10\n"
     ]
    }
   ],
   "source": [
    "i <- 1; max <- 10\n",
    "repeat {\n",
    "    if (i > max) break\n",
    "    print(i)\n",
    "    i <- i + 1\n",
    "}"
   ]
  },
  {
   "cell_type": "code",
   "execution_count": 28,
   "metadata": {},
   "outputs": [
    {
     "name": "stdout",
     "output_type": "stream",
     "text": [
      "[1] 2\n",
      "[1] 4\n",
      "[1] 6\n",
      "[1] 8\n",
      "[1] 10\n",
      "[1] 12\n",
      "[1] 14\n",
      "[1] 16\n",
      "[1] 18\n",
      "[1] 20\n"
     ]
    }
   ],
   "source": [
    "for (i in 1:20) {\n",
    "    if (i%%2 == 1) { # skip evens\n",
    "        next\n",
    "    } else {\n",
    "        print(i)\n",
    "    }\n",
    "}"
   ]
  },
  {
   "cell_type": "markdown",
   "metadata": {},
   "source": [
    "## Built-in Functions\n",
    "\n",
    "- abs\n",
    "- cos\n",
    "- sin\n",
    "- exp\n",
    "- sqrt\n",
    "- trunc\n",
    "- floor\n",
    "- grep\n",
    "- nchar\n",
    "- paste\n",
    "- substr\n",
    "- toupper\n",
    "- tolower\n",
    "- edit"
   ]
  },
  {
   "cell_type": "code",
   "execution_count": 29,
   "metadata": {},
   "outputs": [
    {
     "data": {
      "text/html": [
       "1"
      ],
      "text/latex": [
       "1"
      ],
      "text/markdown": [
       "1"
      ],
      "text/plain": [
       "[1] 1"
      ]
     },
     "metadata": {},
     "output_type": "display_data"
    },
    {
     "data": {
      "text/html": [
       "0.5"
      ],
      "text/latex": [
       "0.5"
      ],
      "text/markdown": [
       "0.5"
      ],
      "text/plain": [
       "[1] 0.5"
      ]
     },
     "metadata": {},
     "output_type": "display_data"
    },
    {
     "data": {
      "text/html": [
       "1"
      ],
      "text/latex": [
       "1"
      ],
      "text/markdown": [
       "1"
      ],
      "text/plain": [
       "[1] 1"
      ]
     },
     "metadata": {},
     "output_type": "display_data"
    },
    {
     "data": {
      "text/html": [
       "2.71828182845905"
      ],
      "text/latex": [
       "2.71828182845905"
      ],
      "text/markdown": [
       "2.71828182845905"
      ],
      "text/plain": [
       "[1] 2.718282"
      ]
     },
     "metadata": {},
     "output_type": "display_data"
    },
    {
     "data": {
      "text/html": [
       "7.38905609893065"
      ],
      "text/latex": [
       "7.38905609893065"
      ],
      "text/markdown": [
       "7.38905609893065"
      ],
      "text/plain": [
       "[1] 7.389056"
      ]
     },
     "metadata": {},
     "output_type": "display_data"
    },
    {
     "data": {
      "text/html": [
       "2"
      ],
      "text/latex": [
       "2"
      ],
      "text/markdown": [
       "2"
      ],
      "text/plain": [
       "[1] 2"
      ]
     },
     "metadata": {},
     "output_type": "display_data"
    },
    {
     "data": {
      "text/html": [
       "5"
      ],
      "text/latex": [
       "5"
      ],
      "text/markdown": [
       "5"
      ],
      "text/plain": [
       "[1] 5"
      ]
     },
     "metadata": {},
     "output_type": "display_data"
    },
    {
     "data": {
      "text/html": [
       "-3"
      ],
      "text/latex": [
       "-3"
      ],
      "text/markdown": [
       "-3"
      ],
      "text/plain": [
       "[1] -3"
      ]
     },
     "metadata": {},
     "output_type": "display_data"
    },
    {
     "data": {
      "text/html": [
       "-4"
      ],
      "text/latex": [
       "-4"
      ],
      "text/markdown": [
       "-4"
      ],
      "text/plain": [
       "[1] -4"
      ]
     },
     "metadata": {},
     "output_type": "display_data"
    },
    {
     "data": {
      "text/html": [
       "5"
      ],
      "text/latex": [
       "5"
      ],
      "text/markdown": [
       "5"
      ],
      "text/plain": [
       "[1] 5"
      ]
     },
     "metadata": {},
     "output_type": "display_data"
    },
    {
     "data": {
      "text/html": [
       "<span style=white-space:pre-wrap>'Answer:  42'</span>"
      ],
      "text/latex": [
       "'Answer:  42'"
      ],
      "text/markdown": [
       "<span style=white-space:pre-wrap>'Answer:  42'</span>"
      ],
      "text/plain": [
       "[1] \"Answer:  42\""
      ]
     },
     "metadata": {},
     "output_type": "display_data"
    },
    {
     "data": {
      "text/html": [
       "'HELLO'"
      ],
      "text/latex": [
       "'HELLO'"
      ],
      "text/markdown": [
       "'HELLO'"
      ],
      "text/plain": [
       "[1] \"HELLO\""
      ]
     },
     "metadata": {},
     "output_type": "display_data"
    },
    {
     "data": {
      "text/html": [
       "'hello'"
      ],
      "text/latex": [
       "'hello'"
      ],
      "text/markdown": [
       "'hello'"
      ],
      "text/plain": [
       "[1] \"hello\""
      ]
     },
     "metadata": {},
     "output_type": "display_data"
    },
    {
     "data": {
      "text/html": [
       "'ll'"
      ],
      "text/latex": [
       "'ll'"
      ],
      "text/markdown": [
       "'ll'"
      ],
      "text/plain": [
       "[1] \"ll\""
      ]
     },
     "metadata": {},
     "output_type": "display_data"
    },
    {
     "name": "stdout",
     "output_type": "stream",
     "text": [
      "[1] 1\n",
      "integer(0)\n"
     ]
    }
   ],
   "source": [
    "abs(-1)               # 1\n",
    "cos(pi/3)             # 0.5\n",
    "sin(pi/2)             # 1\n",
    "exp(1)                # e\n",
    "exp(2)                # e^2\n",
    "log10(100)            # 2\n",
    "sqrt(25)              # 5\n",
    "trunc(-3.141592)      # -3\n",
    "floor(-3.141592)      # -4\n",
    "nchar(\"Hello\")        # 5\n",
    "paste(\"Answer: \", 42) # 'Answer:  42'\n",
    "toupper(\"Hello\")      # 'HELLO'\n",
    "tolower(\"Hello\")      # 'hello'\n",
    "substr(\"Hello\", 3, 4) # 'll'\n",
    "print(grep(\"[a-z]\", \"abc\"))\n",
    "print(grep(\"[a-z]\", \"123\"))"
   ]
  },
  {
   "cell_type": "markdown",
   "metadata": {},
   "source": [
    "## Vector and Matrix Arithmetic\n"
   ]
  },
  {
   "cell_type": "code",
   "execution_count": 30,
   "metadata": {},
   "outputs": [
    {
     "data": {
      "text/html": [
       "<ol class=list-inline>\n",
       "\t<li>2</li>\n",
       "\t<li>4</li>\n",
       "\t<li>6</li>\n",
       "\t<li>8</li>\n",
       "</ol>\n"
      ],
      "text/latex": [
       "\\begin{enumerate*}\n",
       "\\item 2\n",
       "\\item 4\n",
       "\\item 6\n",
       "\\item 8\n",
       "\\end{enumerate*}\n"
      ],
      "text/markdown": [
       "1. 2\n",
       "2. 4\n",
       "3. 6\n",
       "4. 8\n",
       "\n",
       "\n"
      ],
      "text/plain": [
       "[1] 2 4 6 8"
      ]
     },
     "metadata": {},
     "output_type": "display_data"
    },
    {
     "data": {
      "text/html": [
       "<ol class=list-inline>\n",
       "\t<li>2.02</li>\n",
       "\t<li>4.04</li>\n",
       "\t<li>6.06</li>\n",
       "\t<li>8.08</li>\n",
       "</ol>\n"
      ],
      "text/latex": [
       "\\begin{enumerate*}\n",
       "\\item 2.02\n",
       "\\item 4.04\n",
       "\\item 6.06\n",
       "\\item 8.08\n",
       "\\end{enumerate*}\n"
      ],
      "text/markdown": [
       "1. 2.02\n",
       "2. 4.04\n",
       "3. 6.06\n",
       "4. 8.08\n",
       "\n",
       "\n"
      ],
      "text/plain": [
       "[1] 2.02 4.04 6.06 8.08"
      ]
     },
     "metadata": {},
     "output_type": "display_data"
    },
    {
     "data": {
      "text/html": [
       "<table>\n",
       "<tbody>\n",
       "\t<tr><td>1 </td><td>3 </td><td>5 </td><td>7 </td><td> 9</td></tr>\n",
       "\t<tr><td>2 </td><td>4 </td><td>6 </td><td>8 </td><td>10</td></tr>\n",
       "</tbody>\n",
       "</table>\n"
      ],
      "text/latex": [
       "\\begin{tabular}{lllll}\n",
       "\t 1  & 3  & 5  & 7  &  9\\\\\n",
       "\t 2  & 4  & 6  & 8  & 10\\\\\n",
       "\\end{tabular}\n"
      ],
      "text/markdown": [
       "\n",
       "| 1  | 3  | 5  | 7  |  9 | \n",
       "| 2  | 4  | 6  | 8  | 10 | \n",
       "\n",
       "\n"
      ],
      "text/plain": [
       "     [,1] [,2] [,3] [,4] [,5]\n",
       "[1,] 1    3    5    7     9  \n",
       "[2,] 2    4    6    8    10  "
      ]
     },
     "metadata": {},
     "output_type": "display_data"
    },
    {
     "data": {
      "text/html": [
       "<table>\n",
       "<tbody>\n",
       "\t<tr><td>1.01 </td><td>3.03 </td><td>5.05 </td><td>7.07 </td><td> 9.09</td></tr>\n",
       "\t<tr><td>2.02 </td><td>4.04 </td><td>6.06 </td><td>8.08 </td><td>10.10</td></tr>\n",
       "</tbody>\n",
       "</table>\n"
      ],
      "text/latex": [
       "\\begin{tabular}{lllll}\n",
       "\t 1.01  & 3.03  & 5.05  & 7.07  &  9.09\\\\\n",
       "\t 2.02  & 4.04  & 6.06  & 8.08  & 10.10\\\\\n",
       "\\end{tabular}\n"
      ],
      "text/markdown": [
       "\n",
       "| 1.01  | 3.03  | 5.05  | 7.07  |  9.09 | \n",
       "| 2.02  | 4.04  | 6.06  | 8.08  | 10.10 | \n",
       "\n",
       "\n"
      ],
      "text/plain": [
       "     [,1] [,2] [,3] [,4] [,5] \n",
       "[1,] 1.01 3.03 5.05 7.07  9.09\n",
       "[2,] 2.02 4.04 6.06 8.08 10.10"
      ]
     },
     "metadata": {},
     "output_type": "display_data"
    }
   ],
   "source": [
    "v <- c(2, 4, 6, 8)\n",
    "v\n",
    "v <- v *1.01\n",
    "v\n",
    "\n",
    "m <- matrix(1:10, 2)\n",
    "m\n",
    "m <- m *1.01\n",
    "m"
   ]
  },
  {
   "cell_type": "code",
   "execution_count": 31,
   "metadata": {},
   "outputs": [
    {
     "data": {
      "text/html": [
       "55"
      ],
      "text/latex": [
       "55"
      ],
      "text/markdown": [
       "55"
      ],
      "text/plain": [
       "[1] 55"
      ]
     },
     "metadata": {},
     "output_type": "display_data"
    }
   ],
   "source": [
    "vec <- 1:10\n",
    "sumvec <- sum(vec)\n",
    "sumvec"
   ]
  },
  {
   "cell_type": "code",
   "execution_count": 32,
   "metadata": {},
   "outputs": [
    {
     "data": {
      "text/html": [
       "<ol class=list-inline>\n",
       "\t<li>1</li>\n",
       "\t<li>4</li>\n",
       "\t<li>9</li>\n",
       "</ol>\n"
      ],
      "text/latex": [
       "\\begin{enumerate*}\n",
       "\\item 1\n",
       "\\item 4\n",
       "\\item 9\n",
       "\\end{enumerate*}\n"
      ],
      "text/markdown": [
       "1. 1\n",
       "2. 4\n",
       "3. 9\n",
       "\n",
       "\n"
      ],
      "text/plain": [
       "[1] 1 4 9"
      ]
     },
     "metadata": {},
     "output_type": "display_data"
    }
   ],
   "source": [
    "vec <- c(1, 2, 3) ^ 2\n",
    "vec"
   ]
  },
  {
   "cell_type": "code",
   "execution_count": 33,
   "metadata": {},
   "outputs": [
    {
     "data": {
      "text/html": [
       "55"
      ],
      "text/latex": [
       "55"
      ],
      "text/markdown": [
       "55"
      ],
      "text/plain": [
       "[1] 55"
      ]
     },
     "metadata": {},
     "output_type": "display_data"
    },
    {
     "data": {
      "text/html": [
       "55"
      ],
      "text/latex": [
       "55"
      ],
      "text/markdown": [
       "55"
      ],
      "text/plain": [
       "[1] 55"
      ]
     },
     "metadata": {},
     "output_type": "display_data"
    }
   ],
   "source": [
    "Reduce(\"+\", 1:10)\n",
    "Reduce (function (x, y) { x + y}, c(1, 2, 3, 4, 5, 6, 7, 8, 9, 10))"
   ]
  },
  {
   "cell_type": "code",
   "execution_count": 34,
   "metadata": {},
   "outputs": [
    {
     "data": {
      "text/html": [
       "'list'"
      ],
      "text/latex": [
       "'list'"
      ],
      "text/markdown": [
       "'list'"
      ],
      "text/plain": [
       "[1] \"list\""
      ]
     },
     "metadata": {},
     "output_type": "display_data"
    },
    {
     "data": {
      "text/html": [
       "<ol>\n",
       "\t<li>1</li>\n",
       "\t<li>4</li>\n",
       "\t<li>9</li>\n",
       "\t<li>16</li>\n",
       "\t<li>25</li>\n",
       "</ol>\n"
      ],
      "text/latex": [
       "\\begin{enumerate}\n",
       "\\item 1\n",
       "\\item 4\n",
       "\\item 9\n",
       "\\item 16\n",
       "\\item 25\n",
       "\\end{enumerate}\n"
      ],
      "text/markdown": [
       "1. 1\n",
       "2. 4\n",
       "3. 9\n",
       "4. 16\n",
       "5. 25\n",
       "\n",
       "\n"
      ],
      "text/plain": [
       "[[1]]\n",
       "[1] 1\n",
       "\n",
       "[[2]]\n",
       "[1] 4\n",
       "\n",
       "[[3]]\n",
       "[1] 9\n",
       "\n",
       "[[4]]\n",
       "[1] 16\n",
       "\n",
       "[[5]]\n",
       "[1] 25\n"
      ]
     },
     "metadata": {},
     "output_type": "display_data"
    }
   ],
   "source": [
    "l <- Map (function (x) { x^2 }, c(1, 2, 3, 4, 5))\n",
    "class(l)\n",
    "l"
   ]
  },
  {
   "cell_type": "code",
   "execution_count": 35,
   "metadata": {},
   "outputs": [
    {
     "data": {
      "text/html": [
       "<ol class=list-inline>\n",
       "\t<li>1</li>\n",
       "\t<li>2</li>\n",
       "\t<li>3</li>\n",
       "</ol>\n"
      ],
      "text/latex": [
       "\\begin{enumerate*}\n",
       "\\item 1\n",
       "\\item 2\n",
       "\\item 3\n",
       "\\end{enumerate*}\n"
      ],
      "text/markdown": [
       "1. 1\n",
       "2. 2\n",
       "3. 3\n",
       "\n",
       "\n"
      ],
      "text/plain": [
       "[1] 1 2 3"
      ]
     },
     "metadata": {},
     "output_type": "display_data"
    }
   ],
   "source": [
    "Filter (function (x) { x < 4 }, c(1, 2, 3, 4, 5))"
   ]
  },
  {
   "cell_type": "markdown",
   "metadata": {},
   "source": [
    "## Getting and Setting the Working Directory"
   ]
  },
  {
   "cell_type": "code",
   "execution_count": 36,
   "metadata": {},
   "outputs": [
    {
     "data": {
      "text/html": [
       "'C:/Users/peterthor/Documents/R_Jupyter'"
      ],
      "text/latex": [
       "'C:/Users/peterthor/Documents/R\\_Jupyter'"
      ],
      "text/markdown": [
       "'C:/Users/peterthor/Documents/R_Jupyter'"
      ],
      "text/plain": [
       "[1] \"C:/Users/peterthor/Documents/R_Jupyter\""
      ]
     },
     "metadata": {},
     "output_type": "display_data"
    },
    {
     "data": {
      "text/html": [
       "<ol class=list-inline>\n",
       "\t<li>'00_WA2711.ipynb'</li>\n",
       "\t<li>'01_Starter_Demos.ipynb'</li>\n",
       "\t<li>'02_Simple_R_Syntax.ipynb'</li>\n",
       "\t<li>'03_Atomic_Classes.ipynb'</li>\n",
       "\t<li>'04_Control_Structures.ipynb'</li>\n",
       "\t<li>'05_The_Base_Plotting_System.ipynb'</li>\n",
       "\t<li>'06_Vectors.ipynb'</li>\n",
       "\t<li>'07_The_plotrix_Graphics_Package.ipynb'</li>\n",
       "\t<li>'08_Lists.ipynb'</li>\n",
       "\t<li>'09_Factors.ipynb'</li>\n",
       "\t<li>'10_Base_R_Sample_Datasets.ipynb'</li>\n",
       "\t<li>'11_Attributes.ipynb'</li>\n",
       "\t<li>'12_Data_Frames.ipynb'</li>\n",
       "\t<li>'13_Date_Time.ipynb'</li>\n",
       "\t<li>'14_Manipulating_Data.ipynb'</li>\n",
       "\t<li>'15_Algorithms.ipynb'</li>\n",
       "\t<li>'16_Xxx.ipynb'</li>\n",
       "\t<li>'17_Linear_Algebra.ipynb'</li>\n",
       "\t<li>'18_Probability_Distributions.ipynb'</li>\n",
       "\t<li>'19_Statistical_Probability_Functions.ipynb'</li>\n",
       "\t<li>'20_Matrices.ipynb'</li>\n",
       "\t<li>'21_Functions.ipynb'</li>\n",
       "\t<li>'22_Logistic_Regression.ipynb'</li>\n",
       "\t<li>'23_Linear_Regression.ipynb'</li>\n",
       "\t<li>'23b_Linear_Regression.ipynb'</li>\n",
       "\t<li>'24_Regression_Correlation.ipynb'</li>\n",
       "\t<li>'25_Object_Oriented_Programming.ipynb'</li>\n",
       "\t<li>'26_The_ggplot2_Package.ipynb'</li>\n",
       "\t<li>'27_Calculus.ipynb'</li>\n",
       "\t<li>'28_The_dplyr_Package.ipynb'</li>\n",
       "\t<li>'29_The_tibble_Package.ipynb'</li>\n",
       "\t<li>'30_The_readr_Package.ipynb'</li>\n",
       "\t<li>'31_The_tidyr_Package.ipynb'</li>\n",
       "\t<li>'32_K_Nearest_Neighbors.ipynb'</li>\n",
       "\t<li>'33_Machine_Learning_Project.ipynb'</li>\n",
       "\t<li>'34_Artificial_Neural_Networks.ipynb'</li>\n",
       "\t<li>'35_Bayesian_Networks.ipynb'</li>\n",
       "\t<li>'36_K_Means_Clustering.ipynb'</li>\n",
       "\t<li>'37_Support_Vector_Machines.ipynb'</li>\n",
       "\t<li>'38_MNIST_Machine_Learning.ipynb'</li>\n",
       "\t<li>'39_Monte_Carlo_Simulation.ipynb'</li>\n",
       "\t<li>'40_Debugging_Performance.ipynb'</li>\n",
       "\t<li>'41_The_plotly_Package.ipynb'</li>\n",
       "\t<li>'data'</li>\n",
       "\t<li>'images'</li>\n",
       "\t<li>'index.ipynb'</li>\n",
       "\t<li>'scripts'</li>\n",
       "</ol>\n"
      ],
      "text/latex": [
       "\\begin{enumerate*}\n",
       "\\item '00\\_WA2711.ipynb'\n",
       "\\item '01\\_Starter\\_Demos.ipynb'\n",
       "\\item '02\\_Simple\\_R\\_Syntax.ipynb'\n",
       "\\item '03\\_Atomic\\_Classes.ipynb'\n",
       "\\item '04\\_Control\\_Structures.ipynb'\n",
       "\\item '05\\_The\\_Base\\_Plotting\\_System.ipynb'\n",
       "\\item '06\\_Vectors.ipynb'\n",
       "\\item '07\\_The\\_plotrix\\_Graphics\\_Package.ipynb'\n",
       "\\item '08\\_Lists.ipynb'\n",
       "\\item '09\\_Factors.ipynb'\n",
       "\\item '10\\_Base\\_R\\_Sample\\_Datasets.ipynb'\n",
       "\\item '11\\_Attributes.ipynb'\n",
       "\\item '12\\_Data\\_Frames.ipynb'\n",
       "\\item '13\\_Date\\_Time.ipynb'\n",
       "\\item '14\\_Manipulating\\_Data.ipynb'\n",
       "\\item '15\\_Algorithms.ipynb'\n",
       "\\item '16\\_Xxx.ipynb'\n",
       "\\item '17\\_Linear\\_Algebra.ipynb'\n",
       "\\item '18\\_Probability\\_Distributions.ipynb'\n",
       "\\item '19\\_Statistical\\_Probability\\_Functions.ipynb'\n",
       "\\item '20\\_Matrices.ipynb'\n",
       "\\item '21\\_Functions.ipynb'\n",
       "\\item '22\\_Logistic\\_Regression.ipynb'\n",
       "\\item '23\\_Linear\\_Regression.ipynb'\n",
       "\\item '23b\\_Linear\\_Regression.ipynb'\n",
       "\\item '24\\_Regression\\_Correlation.ipynb'\n",
       "\\item '25\\_Object\\_Oriented\\_Programming.ipynb'\n",
       "\\item '26\\_The\\_ggplot2\\_Package.ipynb'\n",
       "\\item '27\\_Calculus.ipynb'\n",
       "\\item '28\\_The\\_dplyr\\_Package.ipynb'\n",
       "\\item '29\\_The\\_tibble\\_Package.ipynb'\n",
       "\\item '30\\_The\\_readr\\_Package.ipynb'\n",
       "\\item '31\\_The\\_tidyr\\_Package.ipynb'\n",
       "\\item '32\\_K\\_Nearest\\_Neighbors.ipynb'\n",
       "\\item '33\\_Machine\\_Learning\\_Project.ipynb'\n",
       "\\item '34\\_Artificial\\_Neural\\_Networks.ipynb'\n",
       "\\item '35\\_Bayesian\\_Networks.ipynb'\n",
       "\\item '36\\_K\\_Means\\_Clustering.ipynb'\n",
       "\\item '37\\_Support\\_Vector\\_Machines.ipynb'\n",
       "\\item '38\\_MNIST\\_Machine\\_Learning.ipynb'\n",
       "\\item '39\\_Monte\\_Carlo\\_Simulation.ipynb'\n",
       "\\item '40\\_Debugging\\_Performance.ipynb'\n",
       "\\item '41\\_The\\_plotly\\_Package.ipynb'\n",
       "\\item 'data'\n",
       "\\item 'images'\n",
       "\\item 'index.ipynb'\n",
       "\\item 'scripts'\n",
       "\\end{enumerate*}\n"
      ],
      "text/markdown": [
       "1. '00_WA2711.ipynb'\n",
       "2. '01_Starter_Demos.ipynb'\n",
       "3. '02_Simple_R_Syntax.ipynb'\n",
       "4. '03_Atomic_Classes.ipynb'\n",
       "5. '04_Control_Structures.ipynb'\n",
       "6. '05_The_Base_Plotting_System.ipynb'\n",
       "7. '06_Vectors.ipynb'\n",
       "8. '07_The_plotrix_Graphics_Package.ipynb'\n",
       "9. '08_Lists.ipynb'\n",
       "10. '09_Factors.ipynb'\n",
       "11. '10_Base_R_Sample_Datasets.ipynb'\n",
       "12. '11_Attributes.ipynb'\n",
       "13. '12_Data_Frames.ipynb'\n",
       "14. '13_Date_Time.ipynb'\n",
       "15. '14_Manipulating_Data.ipynb'\n",
       "16. '15_Algorithms.ipynb'\n",
       "17. '16_Xxx.ipynb'\n",
       "18. '17_Linear_Algebra.ipynb'\n",
       "19. '18_Probability_Distributions.ipynb'\n",
       "20. '19_Statistical_Probability_Functions.ipynb'\n",
       "21. '20_Matrices.ipynb'\n",
       "22. '21_Functions.ipynb'\n",
       "23. '22_Logistic_Regression.ipynb'\n",
       "24. '23_Linear_Regression.ipynb'\n",
       "25. '23b_Linear_Regression.ipynb'\n",
       "26. '24_Regression_Correlation.ipynb'\n",
       "27. '25_Object_Oriented_Programming.ipynb'\n",
       "28. '26_The_ggplot2_Package.ipynb'\n",
       "29. '27_Calculus.ipynb'\n",
       "30. '28_The_dplyr_Package.ipynb'\n",
       "31. '29_The_tibble_Package.ipynb'\n",
       "32. '30_The_readr_Package.ipynb'\n",
       "33. '31_The_tidyr_Package.ipynb'\n",
       "34. '32_K_Nearest_Neighbors.ipynb'\n",
       "35. '33_Machine_Learning_Project.ipynb'\n",
       "36. '34_Artificial_Neural_Networks.ipynb'\n",
       "37. '35_Bayesian_Networks.ipynb'\n",
       "38. '36_K_Means_Clustering.ipynb'\n",
       "39. '37_Support_Vector_Machines.ipynb'\n",
       "40. '38_MNIST_Machine_Learning.ipynb'\n",
       "41. '39_Monte_Carlo_Simulation.ipynb'\n",
       "42. '40_Debugging_Performance.ipynb'\n",
       "43. '41_The_plotly_Package.ipynb'\n",
       "44. 'data'\n",
       "45. 'images'\n",
       "46. 'index.ipynb'\n",
       "47. 'scripts'\n",
       "\n",
       "\n"
      ],
      "text/plain": [
       " [1] \"00_WA2711.ipynb\"                           \n",
       " [2] \"01_Starter_Demos.ipynb\"                    \n",
       " [3] \"02_Simple_R_Syntax.ipynb\"                  \n",
       " [4] \"03_Atomic_Classes.ipynb\"                   \n",
       " [5] \"04_Control_Structures.ipynb\"               \n",
       " [6] \"05_The_Base_Plotting_System.ipynb\"         \n",
       " [7] \"06_Vectors.ipynb\"                          \n",
       " [8] \"07_The_plotrix_Graphics_Package.ipynb\"     \n",
       " [9] \"08_Lists.ipynb\"                            \n",
       "[10] \"09_Factors.ipynb\"                          \n",
       "[11] \"10_Base_R_Sample_Datasets.ipynb\"           \n",
       "[12] \"11_Attributes.ipynb\"                       \n",
       "[13] \"12_Data_Frames.ipynb\"                      \n",
       "[14] \"13_Date_Time.ipynb\"                        \n",
       "[15] \"14_Manipulating_Data.ipynb\"                \n",
       "[16] \"15_Algorithms.ipynb\"                       \n",
       "[17] \"16_Xxx.ipynb\"                              \n",
       "[18] \"17_Linear_Algebra.ipynb\"                   \n",
       "[19] \"18_Probability_Distributions.ipynb\"        \n",
       "[20] \"19_Statistical_Probability_Functions.ipynb\"\n",
       "[21] \"20_Matrices.ipynb\"                         \n",
       "[22] \"21_Functions.ipynb\"                        \n",
       "[23] \"22_Logistic_Regression.ipynb\"              \n",
       "[24] \"23_Linear_Regression.ipynb\"                \n",
       "[25] \"23b_Linear_Regression.ipynb\"               \n",
       "[26] \"24_Regression_Correlation.ipynb\"           \n",
       "[27] \"25_Object_Oriented_Programming.ipynb\"      \n",
       "[28] \"26_The_ggplot2_Package.ipynb\"              \n",
       "[29] \"27_Calculus.ipynb\"                         \n",
       "[30] \"28_The_dplyr_Package.ipynb\"                \n",
       "[31] \"29_The_tibble_Package.ipynb\"               \n",
       "[32] \"30_The_readr_Package.ipynb\"                \n",
       "[33] \"31_The_tidyr_Package.ipynb\"                \n",
       "[34] \"32_K_Nearest_Neighbors.ipynb\"              \n",
       "[35] \"33_Machine_Learning_Project.ipynb\"         \n",
       "[36] \"34_Artificial_Neural_Networks.ipynb\"       \n",
       "[37] \"35_Bayesian_Networks.ipynb\"                \n",
       "[38] \"36_K_Means_Clustering.ipynb\"               \n",
       "[39] \"37_Support_Vector_Machines.ipynb\"          \n",
       "[40] \"38_MNIST_Machine_Learning.ipynb\"           \n",
       "[41] \"39_Monte_Carlo_Simulation.ipynb\"           \n",
       "[42] \"40_Debugging_Performance.ipynb\"            \n",
       "[43] \"41_The_plotly_Package.ipynb\"               \n",
       "[44] \"data\"                                      \n",
       "[45] \"images\"                                    \n",
       "[46] \"index.ipynb\"                               \n",
       "[47] \"scripts\"                                   "
      ]
     },
     "metadata": {},
     "output_type": "display_data"
    }
   ],
   "source": [
    "getwd()\n",
    "list.files()"
   ]
  },
  {
   "cell_type": "code",
   "execution_count": 37,
   "metadata": {},
   "outputs": [
    {
     "data": {
      "text/html": [
       "'C:/Users/peterthor/Documents'"
      ],
      "text/latex": [
       "'C:/Users/peterthor/Documents'"
      ],
      "text/markdown": [
       "'C:/Users/peterthor/Documents'"
      ],
      "text/plain": [
       "[1] \"C:/Users/peterthor/Documents\""
      ]
     },
     "metadata": {},
     "output_type": "display_data"
    },
    {
     "data": {
      "text/html": [
       "<ol class=list-inline>\n",
       "\t<li>'AndroidStudio'</li>\n",
       "\t<li>'ASUS'</li>\n",
       "\t<li>'Audacity'</li>\n",
       "\t<li>'Bluetooth Folder'</li>\n",
       "\t<li>'cache'</li>\n",
       "\t<li>'Camtasia Studio'</li>\n",
       "\t<li>'Custom Office Templates'</li>\n",
       "\t<li>'Default.rdp'</li>\n",
       "\t<li>'desktop.ini'</li>\n",
       "\t<li>'Fax'</li>\n",
       "\t<li>'FreshStart'</li>\n",
       "\t<li>'GitHub'</li>\n",
       "\t<li>'Graphics'</li>\n",
       "\t<li>'IISExpress'</li>\n",
       "\t<li>'My Music'</li>\n",
       "\t<li>'My Pictures'</li>\n",
       "\t<li>'My Videos'</li>\n",
       "\t<li>'OneNote Notebooks'</li>\n",
       "\t<li>'Py_Jupyter'</li>\n",
       "\t<li>'R'</li>\n",
       "\t<li>'R_Course'</li>\n",
       "\t<li>'R_Jupyter'</li>\n",
       "\t<li>'Scanned Documents'</li>\n",
       "\t<li>'Visual Studio 2013'</li>\n",
       "\t<li>'Visual Studio 2015'</li>\n",
       "\t<li>'Visual Studio 2017'</li>\n",
       "</ol>\n"
      ],
      "text/latex": [
       "\\begin{enumerate*}\n",
       "\\item 'AndroidStudio'\n",
       "\\item 'ASUS'\n",
       "\\item 'Audacity'\n",
       "\\item 'Bluetooth Folder'\n",
       "\\item 'cache'\n",
       "\\item 'Camtasia Studio'\n",
       "\\item 'Custom Office Templates'\n",
       "\\item 'Default.rdp'\n",
       "\\item 'desktop.ini'\n",
       "\\item 'Fax'\n",
       "\\item 'FreshStart'\n",
       "\\item 'GitHub'\n",
       "\\item 'Graphics'\n",
       "\\item 'IISExpress'\n",
       "\\item 'My Music'\n",
       "\\item 'My Pictures'\n",
       "\\item 'My Videos'\n",
       "\\item 'OneNote Notebooks'\n",
       "\\item 'Py\\_Jupyter'\n",
       "\\item 'R'\n",
       "\\item 'R\\_Course'\n",
       "\\item 'R\\_Jupyter'\n",
       "\\item 'Scanned Documents'\n",
       "\\item 'Visual Studio 2013'\n",
       "\\item 'Visual Studio 2015'\n",
       "\\item 'Visual Studio 2017'\n",
       "\\end{enumerate*}\n"
      ],
      "text/markdown": [
       "1. 'AndroidStudio'\n",
       "2. 'ASUS'\n",
       "3. 'Audacity'\n",
       "4. 'Bluetooth Folder'\n",
       "5. 'cache'\n",
       "6. 'Camtasia Studio'\n",
       "7. 'Custom Office Templates'\n",
       "8. 'Default.rdp'\n",
       "9. 'desktop.ini'\n",
       "10. 'Fax'\n",
       "11. 'FreshStart'\n",
       "12. 'GitHub'\n",
       "13. 'Graphics'\n",
       "14. 'IISExpress'\n",
       "15. 'My Music'\n",
       "16. 'My Pictures'\n",
       "17. 'My Videos'\n",
       "18. 'OneNote Notebooks'\n",
       "19. 'Py_Jupyter'\n",
       "20. 'R'\n",
       "21. 'R_Course'\n",
       "22. 'R_Jupyter'\n",
       "23. 'Scanned Documents'\n",
       "24. 'Visual Studio 2013'\n",
       "25. 'Visual Studio 2015'\n",
       "26. 'Visual Studio 2017'\n",
       "\n",
       "\n"
      ],
      "text/plain": [
       " [1] \"AndroidStudio\"           \"ASUS\"                   \n",
       " [3] \"Audacity\"                \"Bluetooth Folder\"       \n",
       " [5] \"cache\"                   \"Camtasia Studio\"        \n",
       " [7] \"Custom Office Templates\" \"Default.rdp\"            \n",
       " [9] \"desktop.ini\"             \"Fax\"                    \n",
       "[11] \"FreshStart\"              \"GitHub\"                 \n",
       "[13] \"Graphics\"                \"IISExpress\"             \n",
       "[15] \"My Music\"                \"My Pictures\"            \n",
       "[17] \"My Videos\"               \"OneNote Notebooks\"      \n",
       "[19] \"Py_Jupyter\"              \"R\"                      \n",
       "[21] \"R_Course\"                \"R_Jupyter\"              \n",
       "[23] \"Scanned Documents\"       \"Visual Studio 2013\"     \n",
       "[25] \"Visual Studio 2015\"      \"Visual Studio 2017\"     "
      ]
     },
     "metadata": {},
     "output_type": "display_data"
    },
    {
     "data": {
      "text/html": [
       "'C:/Users/peterthor/Documents/R_Jupyter'"
      ],
      "text/latex": [
       "'C:/Users/peterthor/Documents/R\\_Jupyter'"
      ],
      "text/markdown": [
       "'C:/Users/peterthor/Documents/R_Jupyter'"
      ],
      "text/plain": [
       "[1] \"C:/Users/peterthor/Documents/R_Jupyter\""
      ]
     },
     "metadata": {},
     "output_type": "display_data"
    },
    {
     "data": {
      "text/html": [
       "<ol class=list-inline>\n",
       "\t<li>'00_WA2711.ipynb'</li>\n",
       "\t<li>'01_Starter_Demos.ipynb'</li>\n",
       "\t<li>'02_Simple_R_Syntax.ipynb'</li>\n",
       "\t<li>'03_Atomic_Classes.ipynb'</li>\n",
       "\t<li>'04_Control_Structures.ipynb'</li>\n",
       "\t<li>'05_The_Base_Plotting_System.ipynb'</li>\n",
       "\t<li>'06_Vectors.ipynb'</li>\n",
       "\t<li>'07_The_plotrix_Graphics_Package.ipynb'</li>\n",
       "\t<li>'08_Lists.ipynb'</li>\n",
       "\t<li>'09_Factors.ipynb'</li>\n",
       "\t<li>'10_Base_R_Sample_Datasets.ipynb'</li>\n",
       "\t<li>'11_Attributes.ipynb'</li>\n",
       "\t<li>'12_Data_Frames.ipynb'</li>\n",
       "\t<li>'13_Date_Time.ipynb'</li>\n",
       "\t<li>'14_Manipulating_Data.ipynb'</li>\n",
       "\t<li>'15_Algorithms.ipynb'</li>\n",
       "\t<li>'16_Xxx.ipynb'</li>\n",
       "\t<li>'17_Linear_Algebra.ipynb'</li>\n",
       "\t<li>'18_Probability_Distributions.ipynb'</li>\n",
       "\t<li>'19_Statistical_Probability_Functions.ipynb'</li>\n",
       "\t<li>'20_Matrices.ipynb'</li>\n",
       "\t<li>'21_Functions.ipynb'</li>\n",
       "\t<li>'22_Logistic_Regression.ipynb'</li>\n",
       "\t<li>'23_Linear_Regression.ipynb'</li>\n",
       "\t<li>'23b_Linear_Regression.ipynb'</li>\n",
       "\t<li>'24_Regression_Correlation.ipynb'</li>\n",
       "\t<li>'25_Object_Oriented_Programming.ipynb'</li>\n",
       "\t<li>'26_The_ggplot2_Package.ipynb'</li>\n",
       "\t<li>'27_Calculus.ipynb'</li>\n",
       "\t<li>'28_The_dplyr_Package.ipynb'</li>\n",
       "\t<li>'29_The_tibble_Package.ipynb'</li>\n",
       "\t<li>'30_The_readr_Package.ipynb'</li>\n",
       "\t<li>'31_The_tidyr_Package.ipynb'</li>\n",
       "\t<li>'32_K_Nearest_Neighbors.ipynb'</li>\n",
       "\t<li>'33_Machine_Learning_Project.ipynb'</li>\n",
       "\t<li>'34_Artificial_Neural_Networks.ipynb'</li>\n",
       "\t<li>'35_Bayesian_Networks.ipynb'</li>\n",
       "\t<li>'36_K_Means_Clustering.ipynb'</li>\n",
       "\t<li>'37_Support_Vector_Machines.ipynb'</li>\n",
       "\t<li>'38_MNIST_Machine_Learning.ipynb'</li>\n",
       "\t<li>'39_Monte_Carlo_Simulation.ipynb'</li>\n",
       "\t<li>'40_Debugging_Performance.ipynb'</li>\n",
       "\t<li>'41_The_plotly_Package.ipynb'</li>\n",
       "\t<li>'data'</li>\n",
       "\t<li>'images'</li>\n",
       "\t<li>'index.ipynb'</li>\n",
       "\t<li>'scripts'</li>\n",
       "</ol>\n"
      ],
      "text/latex": [
       "\\begin{enumerate*}\n",
       "\\item '00\\_WA2711.ipynb'\n",
       "\\item '01\\_Starter\\_Demos.ipynb'\n",
       "\\item '02\\_Simple\\_R\\_Syntax.ipynb'\n",
       "\\item '03\\_Atomic\\_Classes.ipynb'\n",
       "\\item '04\\_Control\\_Structures.ipynb'\n",
       "\\item '05\\_The\\_Base\\_Plotting\\_System.ipynb'\n",
       "\\item '06\\_Vectors.ipynb'\n",
       "\\item '07\\_The\\_plotrix\\_Graphics\\_Package.ipynb'\n",
       "\\item '08\\_Lists.ipynb'\n",
       "\\item '09\\_Factors.ipynb'\n",
       "\\item '10\\_Base\\_R\\_Sample\\_Datasets.ipynb'\n",
       "\\item '11\\_Attributes.ipynb'\n",
       "\\item '12\\_Data\\_Frames.ipynb'\n",
       "\\item '13\\_Date\\_Time.ipynb'\n",
       "\\item '14\\_Manipulating\\_Data.ipynb'\n",
       "\\item '15\\_Algorithms.ipynb'\n",
       "\\item '16\\_Xxx.ipynb'\n",
       "\\item '17\\_Linear\\_Algebra.ipynb'\n",
       "\\item '18\\_Probability\\_Distributions.ipynb'\n",
       "\\item '19\\_Statistical\\_Probability\\_Functions.ipynb'\n",
       "\\item '20\\_Matrices.ipynb'\n",
       "\\item '21\\_Functions.ipynb'\n",
       "\\item '22\\_Logistic\\_Regression.ipynb'\n",
       "\\item '23\\_Linear\\_Regression.ipynb'\n",
       "\\item '23b\\_Linear\\_Regression.ipynb'\n",
       "\\item '24\\_Regression\\_Correlation.ipynb'\n",
       "\\item '25\\_Object\\_Oriented\\_Programming.ipynb'\n",
       "\\item '26\\_The\\_ggplot2\\_Package.ipynb'\n",
       "\\item '27\\_Calculus.ipynb'\n",
       "\\item '28\\_The\\_dplyr\\_Package.ipynb'\n",
       "\\item '29\\_The\\_tibble\\_Package.ipynb'\n",
       "\\item '30\\_The\\_readr\\_Package.ipynb'\n",
       "\\item '31\\_The\\_tidyr\\_Package.ipynb'\n",
       "\\item '32\\_K\\_Nearest\\_Neighbors.ipynb'\n",
       "\\item '33\\_Machine\\_Learning\\_Project.ipynb'\n",
       "\\item '34\\_Artificial\\_Neural\\_Networks.ipynb'\n",
       "\\item '35\\_Bayesian\\_Networks.ipynb'\n",
       "\\item '36\\_K\\_Means\\_Clustering.ipynb'\n",
       "\\item '37\\_Support\\_Vector\\_Machines.ipynb'\n",
       "\\item '38\\_MNIST\\_Machine\\_Learning.ipynb'\n",
       "\\item '39\\_Monte\\_Carlo\\_Simulation.ipynb'\n",
       "\\item '40\\_Debugging\\_Performance.ipynb'\n",
       "\\item '41\\_The\\_plotly\\_Package.ipynb'\n",
       "\\item 'data'\n",
       "\\item 'images'\n",
       "\\item 'index.ipynb'\n",
       "\\item 'scripts'\n",
       "\\end{enumerate*}\n"
      ],
      "text/markdown": [
       "1. '00_WA2711.ipynb'\n",
       "2. '01_Starter_Demos.ipynb'\n",
       "3. '02_Simple_R_Syntax.ipynb'\n",
       "4. '03_Atomic_Classes.ipynb'\n",
       "5. '04_Control_Structures.ipynb'\n",
       "6. '05_The_Base_Plotting_System.ipynb'\n",
       "7. '06_Vectors.ipynb'\n",
       "8. '07_The_plotrix_Graphics_Package.ipynb'\n",
       "9. '08_Lists.ipynb'\n",
       "10. '09_Factors.ipynb'\n",
       "11. '10_Base_R_Sample_Datasets.ipynb'\n",
       "12. '11_Attributes.ipynb'\n",
       "13. '12_Data_Frames.ipynb'\n",
       "14. '13_Date_Time.ipynb'\n",
       "15. '14_Manipulating_Data.ipynb'\n",
       "16. '15_Algorithms.ipynb'\n",
       "17. '16_Xxx.ipynb'\n",
       "18. '17_Linear_Algebra.ipynb'\n",
       "19. '18_Probability_Distributions.ipynb'\n",
       "20. '19_Statistical_Probability_Functions.ipynb'\n",
       "21. '20_Matrices.ipynb'\n",
       "22. '21_Functions.ipynb'\n",
       "23. '22_Logistic_Regression.ipynb'\n",
       "24. '23_Linear_Regression.ipynb'\n",
       "25. '23b_Linear_Regression.ipynb'\n",
       "26. '24_Regression_Correlation.ipynb'\n",
       "27. '25_Object_Oriented_Programming.ipynb'\n",
       "28. '26_The_ggplot2_Package.ipynb'\n",
       "29. '27_Calculus.ipynb'\n",
       "30. '28_The_dplyr_Package.ipynb'\n",
       "31. '29_The_tibble_Package.ipynb'\n",
       "32. '30_The_readr_Package.ipynb'\n",
       "33. '31_The_tidyr_Package.ipynb'\n",
       "34. '32_K_Nearest_Neighbors.ipynb'\n",
       "35. '33_Machine_Learning_Project.ipynb'\n",
       "36. '34_Artificial_Neural_Networks.ipynb'\n",
       "37. '35_Bayesian_Networks.ipynb'\n",
       "38. '36_K_Means_Clustering.ipynb'\n",
       "39. '37_Support_Vector_Machines.ipynb'\n",
       "40. '38_MNIST_Machine_Learning.ipynb'\n",
       "41. '39_Monte_Carlo_Simulation.ipynb'\n",
       "42. '40_Debugging_Performance.ipynb'\n",
       "43. '41_The_plotly_Package.ipynb'\n",
       "44. 'data'\n",
       "45. 'images'\n",
       "46. 'index.ipynb'\n",
       "47. 'scripts'\n",
       "\n",
       "\n"
      ],
      "text/plain": [
       " [1] \"00_WA2711.ipynb\"                           \n",
       " [2] \"01_Starter_Demos.ipynb\"                    \n",
       " [3] \"02_Simple_R_Syntax.ipynb\"                  \n",
       " [4] \"03_Atomic_Classes.ipynb\"                   \n",
       " [5] \"04_Control_Structures.ipynb\"               \n",
       " [6] \"05_The_Base_Plotting_System.ipynb\"         \n",
       " [7] \"06_Vectors.ipynb\"                          \n",
       " [8] \"07_The_plotrix_Graphics_Package.ipynb\"     \n",
       " [9] \"08_Lists.ipynb\"                            \n",
       "[10] \"09_Factors.ipynb\"                          \n",
       "[11] \"10_Base_R_Sample_Datasets.ipynb\"           \n",
       "[12] \"11_Attributes.ipynb\"                       \n",
       "[13] \"12_Data_Frames.ipynb\"                      \n",
       "[14] \"13_Date_Time.ipynb\"                        \n",
       "[15] \"14_Manipulating_Data.ipynb\"                \n",
       "[16] \"15_Algorithms.ipynb\"                       \n",
       "[17] \"16_Xxx.ipynb\"                              \n",
       "[18] \"17_Linear_Algebra.ipynb\"                   \n",
       "[19] \"18_Probability_Distributions.ipynb\"        \n",
       "[20] \"19_Statistical_Probability_Functions.ipynb\"\n",
       "[21] \"20_Matrices.ipynb\"                         \n",
       "[22] \"21_Functions.ipynb\"                        \n",
       "[23] \"22_Logistic_Regression.ipynb\"              \n",
       "[24] \"23_Linear_Regression.ipynb\"                \n",
       "[25] \"23b_Linear_Regression.ipynb\"               \n",
       "[26] \"24_Regression_Correlation.ipynb\"           \n",
       "[27] \"25_Object_Oriented_Programming.ipynb\"      \n",
       "[28] \"26_The_ggplot2_Package.ipynb\"              \n",
       "[29] \"27_Calculus.ipynb\"                         \n",
       "[30] \"28_The_dplyr_Package.ipynb\"                \n",
       "[31] \"29_The_tibble_Package.ipynb\"               \n",
       "[32] \"30_The_readr_Package.ipynb\"                \n",
       "[33] \"31_The_tidyr_Package.ipynb\"                \n",
       "[34] \"32_K_Nearest_Neighbors.ipynb\"              \n",
       "[35] \"33_Machine_Learning_Project.ipynb\"         \n",
       "[36] \"34_Artificial_Neural_Networks.ipynb\"       \n",
       "[37] \"35_Bayesian_Networks.ipynb\"                \n",
       "[38] \"36_K_Means_Clustering.ipynb\"               \n",
       "[39] \"37_Support_Vector_Machines.ipynb\"          \n",
       "[40] \"38_MNIST_Machine_Learning.ipynb\"           \n",
       "[41] \"39_Monte_Carlo_Simulation.ipynb\"           \n",
       "[42] \"40_Debugging_Performance.ipynb\"            \n",
       "[43] \"41_The_plotly_Package.ipynb\"               \n",
       "[44] \"data\"                                      \n",
       "[45] \"images\"                                    \n",
       "[46] \"index.ipynb\"                               \n",
       "[47] \"scripts\"                                   "
      ]
     },
     "metadata": {},
     "output_type": "display_data"
    }
   ],
   "source": [
    "saveDir <- getwd()\n",
    "setwd(\"..\")\n",
    "getwd()\n",
    "list.files()\n",
    "setwd(saveDir)\n",
    "getwd()\n",
    "list.files()"
   ]
  },
  {
   "cell_type": "markdown",
   "metadata": {},
   "source": [
    "## The R Home Directory"
   ]
  },
  {
   "cell_type": "code",
   "execution_count": 38,
   "metadata": {},
   "outputs": [
    {
     "data": {
      "text/html": [
       "'C:/Users/peterthor/Anaconda3/R'"
      ],
      "text/latex": [
       "'C:/Users/peterthor/Anaconda3/R'"
      ],
      "text/markdown": [
       "'C:/Users/peterthor/Anaconda3/R'"
      ],
      "text/plain": [
       "[1] \"C:/Users/peterthor/Anaconda3/R\""
      ]
     },
     "metadata": {},
     "output_type": "display_data"
    }
   ],
   "source": [
    "R.home()"
   ]
  },
  {
   "cell_type": "markdown",
   "metadata": {},
   "source": [
    "## Loading External R commands"
   ]
  },
  {
   "cell_type": "code",
   "execution_count": 39,
   "metadata": {
    "collapsed": true
   },
   "outputs": [],
   "source": [
    "help('source')"
   ]
  },
  {
   "cell_type": "markdown",
   "metadata": {},
   "source": [
    "## Listing Objects in Workspace\n",
    "- ```objects()```\n",
    "- ```ls()```"
   ]
  },
  {
   "cell_type": "code",
   "execution_count": 40,
   "metadata": {},
   "outputs": [
    {
     "data": {
      "text/html": [
       "<ol class=list-inline>\n",
       "\t<li>'a'</li>\n",
       "\t<li>'b'</li>\n",
       "\t<li>'c'</li>\n",
       "\t<li>'d'</li>\n",
       "\t<li>'df'</li>\n",
       "\t<li>'el'</li>\n",
       "\t<li>'f'</li>\n",
       "\t<li>'fun'</li>\n",
       "\t<li>'i'</li>\n",
       "\t<li>'j'</li>\n",
       "\t<li>'l'</li>\n",
       "\t<li>'m'</li>\n",
       "\t<li>'max'</li>\n",
       "\t<li>'myFunction'</li>\n",
       "\t<li>'saveDir'</li>\n",
       "\t<li>'sumvec'</li>\n",
       "\t<li>'v'</li>\n",
       "\t<li>'v1'</li>\n",
       "\t<li>'v2'</li>\n",
       "\t<li>'vec'</li>\n",
       "\t<li>'x'</li>\n",
       "\t<li>'y'</li>\n",
       "</ol>\n"
      ],
      "text/latex": [
       "\\begin{enumerate*}\n",
       "\\item 'a'\n",
       "\\item 'b'\n",
       "\\item 'c'\n",
       "\\item 'd'\n",
       "\\item 'df'\n",
       "\\item 'el'\n",
       "\\item 'f'\n",
       "\\item 'fun'\n",
       "\\item 'i'\n",
       "\\item 'j'\n",
       "\\item 'l'\n",
       "\\item 'm'\n",
       "\\item 'max'\n",
       "\\item 'myFunction'\n",
       "\\item 'saveDir'\n",
       "\\item 'sumvec'\n",
       "\\item 'v'\n",
       "\\item 'v1'\n",
       "\\item 'v2'\n",
       "\\item 'vec'\n",
       "\\item 'x'\n",
       "\\item 'y'\n",
       "\\end{enumerate*}\n"
      ],
      "text/markdown": [
       "1. 'a'\n",
       "2. 'b'\n",
       "3. 'c'\n",
       "4. 'd'\n",
       "5. 'df'\n",
       "6. 'el'\n",
       "7. 'f'\n",
       "8. 'fun'\n",
       "9. 'i'\n",
       "10. 'j'\n",
       "11. 'l'\n",
       "12. 'm'\n",
       "13. 'max'\n",
       "14. 'myFunction'\n",
       "15. 'saveDir'\n",
       "16. 'sumvec'\n",
       "17. 'v'\n",
       "18. 'v1'\n",
       "19. 'v2'\n",
       "20. 'vec'\n",
       "21. 'x'\n",
       "22. 'y'\n",
       "\n",
       "\n"
      ],
      "text/plain": [
       " [1] \"a\"          \"b\"          \"c\"          \"d\"          \"df\"        \n",
       " [6] \"el\"         \"f\"          \"fun\"        \"i\"          \"j\"         \n",
       "[11] \"l\"          \"m\"          \"max\"        \"myFunction\" \"saveDir\"   \n",
       "[16] \"sumvec\"     \"v\"          \"v1\"         \"v2\"         \"vec\"       \n",
       "[21] \"x\"          \"y\"         "
      ]
     },
     "metadata": {},
     "output_type": "display_data"
    }
   ],
   "source": [
    "objects()"
   ]
  },
  {
   "cell_type": "code",
   "execution_count": 41,
   "metadata": {},
   "outputs": [
    {
     "data": {
      "text/html": [
       "<ol class=list-inline>\n",
       "\t<li>'a'</li>\n",
       "\t<li>'b'</li>\n",
       "\t<li>'c'</li>\n",
       "\t<li>'d'</li>\n",
       "\t<li>'df'</li>\n",
       "\t<li>'el'</li>\n",
       "\t<li>'f'</li>\n",
       "\t<li>'fun'</li>\n",
       "\t<li>'i'</li>\n",
       "\t<li>'j'</li>\n",
       "\t<li>'l'</li>\n",
       "\t<li>'m'</li>\n",
       "\t<li>'max'</li>\n",
       "\t<li>'myFunction'</li>\n",
       "\t<li>'saveDir'</li>\n",
       "\t<li>'sumvec'</li>\n",
       "\t<li>'v'</li>\n",
       "\t<li>'v1'</li>\n",
       "\t<li>'v2'</li>\n",
       "\t<li>'vec'</li>\n",
       "\t<li>'x'</li>\n",
       "\t<li>'y'</li>\n",
       "</ol>\n"
      ],
      "text/latex": [
       "\\begin{enumerate*}\n",
       "\\item 'a'\n",
       "\\item 'b'\n",
       "\\item 'c'\n",
       "\\item 'd'\n",
       "\\item 'df'\n",
       "\\item 'el'\n",
       "\\item 'f'\n",
       "\\item 'fun'\n",
       "\\item 'i'\n",
       "\\item 'j'\n",
       "\\item 'l'\n",
       "\\item 'm'\n",
       "\\item 'max'\n",
       "\\item 'myFunction'\n",
       "\\item 'saveDir'\n",
       "\\item 'sumvec'\n",
       "\\item 'v'\n",
       "\\item 'v1'\n",
       "\\item 'v2'\n",
       "\\item 'vec'\n",
       "\\item 'x'\n",
       "\\item 'y'\n",
       "\\end{enumerate*}\n"
      ],
      "text/markdown": [
       "1. 'a'\n",
       "2. 'b'\n",
       "3. 'c'\n",
       "4. 'd'\n",
       "5. 'df'\n",
       "6. 'el'\n",
       "7. 'f'\n",
       "8. 'fun'\n",
       "9. 'i'\n",
       "10. 'j'\n",
       "11. 'l'\n",
       "12. 'm'\n",
       "13. 'max'\n",
       "14. 'myFunction'\n",
       "15. 'saveDir'\n",
       "16. 'sumvec'\n",
       "17. 'v'\n",
       "18. 'v1'\n",
       "19. 'v2'\n",
       "20. 'vec'\n",
       "21. 'x'\n",
       "22. 'y'\n",
       "\n",
       "\n"
      ],
      "text/plain": [
       " [1] \"a\"          \"b\"          \"c\"          \"d\"          \"df\"        \n",
       " [6] \"el\"         \"f\"          \"fun\"        \"i\"          \"j\"         \n",
       "[11] \"l\"          \"m\"          \"max\"        \"myFunction\" \"saveDir\"   \n",
       "[16] \"sumvec\"     \"v\"          \"v1\"         \"v2\"         \"vec\"       \n",
       "[21] \"x\"          \"y\"         "
      ]
     },
     "metadata": {},
     "output_type": "display_data"
    }
   ],
   "source": [
    "ls()"
   ]
  },
  {
   "cell_type": "markdown",
   "metadata": {},
   "source": [
    "## Removing Objects in Workspace"
   ]
  },
  {
   "cell_type": "code",
   "execution_count": 42,
   "metadata": {},
   "outputs": [
    {
     "data": {
      "text/html": [
       "<ol class=list-inline>\n",
       "\t<li>'a'</li>\n",
       "\t<li>'b'</li>\n",
       "\t<li>'c'</li>\n",
       "\t<li>'d'</li>\n",
       "\t<li>'df'</li>\n",
       "\t<li>'el'</li>\n",
       "\t<li>'f'</li>\n",
       "\t<li>'fun'</li>\n",
       "\t<li>'i'</li>\n",
       "\t<li>'j'</li>\n",
       "\t<li>'l'</li>\n",
       "\t<li>'m'</li>\n",
       "\t<li>'max'</li>\n",
       "\t<li>'myFunction'</li>\n",
       "\t<li>'saveDir'</li>\n",
       "\t<li>'sumvec'</li>\n",
       "\t<li>'v'</li>\n",
       "\t<li>'v1'</li>\n",
       "\t<li>'v2'</li>\n",
       "\t<li>'vec'</li>\n",
       "\t<li>'x'</li>\n",
       "\t<li>'y'</li>\n",
       "\t<li>'zzz1'</li>\n",
       "\t<li>'zzz2'</li>\n",
       "</ol>\n"
      ],
      "text/latex": [
       "\\begin{enumerate*}\n",
       "\\item 'a'\n",
       "\\item 'b'\n",
       "\\item 'c'\n",
       "\\item 'd'\n",
       "\\item 'df'\n",
       "\\item 'el'\n",
       "\\item 'f'\n",
       "\\item 'fun'\n",
       "\\item 'i'\n",
       "\\item 'j'\n",
       "\\item 'l'\n",
       "\\item 'm'\n",
       "\\item 'max'\n",
       "\\item 'myFunction'\n",
       "\\item 'saveDir'\n",
       "\\item 'sumvec'\n",
       "\\item 'v'\n",
       "\\item 'v1'\n",
       "\\item 'v2'\n",
       "\\item 'vec'\n",
       "\\item 'x'\n",
       "\\item 'y'\n",
       "\\item 'zzz1'\n",
       "\\item 'zzz2'\n",
       "\\end{enumerate*}\n"
      ],
      "text/markdown": [
       "1. 'a'\n",
       "2. 'b'\n",
       "3. 'c'\n",
       "4. 'd'\n",
       "5. 'df'\n",
       "6. 'el'\n",
       "7. 'f'\n",
       "8. 'fun'\n",
       "9. 'i'\n",
       "10. 'j'\n",
       "11. 'l'\n",
       "12. 'm'\n",
       "13. 'max'\n",
       "14. 'myFunction'\n",
       "15. 'saveDir'\n",
       "16. 'sumvec'\n",
       "17. 'v'\n",
       "18. 'v1'\n",
       "19. 'v2'\n",
       "20. 'vec'\n",
       "21. 'x'\n",
       "22. 'y'\n",
       "23. 'zzz1'\n",
       "24. 'zzz2'\n",
       "\n",
       "\n"
      ],
      "text/plain": [
       " [1] \"a\"          \"b\"          \"c\"          \"d\"          \"df\"        \n",
       " [6] \"el\"         \"f\"          \"fun\"        \"i\"          \"j\"         \n",
       "[11] \"l\"          \"m\"          \"max\"        \"myFunction\" \"saveDir\"   \n",
       "[16] \"sumvec\"     \"v\"          \"v1\"         \"v2\"         \"vec\"       \n",
       "[21] \"x\"          \"y\"          \"zzz1\"       \"zzz2\"      "
      ]
     },
     "metadata": {},
     "output_type": "display_data"
    },
    {
     "data": {
      "text/html": [
       "<ol class=list-inline>\n",
       "\t<li>'a'</li>\n",
       "\t<li>'b'</li>\n",
       "\t<li>'c'</li>\n",
       "\t<li>'d'</li>\n",
       "\t<li>'df'</li>\n",
       "\t<li>'el'</li>\n",
       "\t<li>'f'</li>\n",
       "\t<li>'fun'</li>\n",
       "\t<li>'i'</li>\n",
       "\t<li>'j'</li>\n",
       "\t<li>'l'</li>\n",
       "\t<li>'m'</li>\n",
       "\t<li>'max'</li>\n",
       "\t<li>'myFunction'</li>\n",
       "\t<li>'saveDir'</li>\n",
       "\t<li>'sumvec'</li>\n",
       "\t<li>'v'</li>\n",
       "\t<li>'v1'</li>\n",
       "\t<li>'v2'</li>\n",
       "\t<li>'vec'</li>\n",
       "\t<li>'x'</li>\n",
       "\t<li>'y'</li>\n",
       "</ol>\n"
      ],
      "text/latex": [
       "\\begin{enumerate*}\n",
       "\\item 'a'\n",
       "\\item 'b'\n",
       "\\item 'c'\n",
       "\\item 'd'\n",
       "\\item 'df'\n",
       "\\item 'el'\n",
       "\\item 'f'\n",
       "\\item 'fun'\n",
       "\\item 'i'\n",
       "\\item 'j'\n",
       "\\item 'l'\n",
       "\\item 'm'\n",
       "\\item 'max'\n",
       "\\item 'myFunction'\n",
       "\\item 'saveDir'\n",
       "\\item 'sumvec'\n",
       "\\item 'v'\n",
       "\\item 'v1'\n",
       "\\item 'v2'\n",
       "\\item 'vec'\n",
       "\\item 'x'\n",
       "\\item 'y'\n",
       "\\end{enumerate*}\n"
      ],
      "text/markdown": [
       "1. 'a'\n",
       "2. 'b'\n",
       "3. 'c'\n",
       "4. 'd'\n",
       "5. 'df'\n",
       "6. 'el'\n",
       "7. 'f'\n",
       "8. 'fun'\n",
       "9. 'i'\n",
       "10. 'j'\n",
       "11. 'l'\n",
       "12. 'm'\n",
       "13. 'max'\n",
       "14. 'myFunction'\n",
       "15. 'saveDir'\n",
       "16. 'sumvec'\n",
       "17. 'v'\n",
       "18. 'v1'\n",
       "19. 'v2'\n",
       "20. 'vec'\n",
       "21. 'x'\n",
       "22. 'y'\n",
       "\n",
       "\n"
      ],
      "text/plain": [
       " [1] \"a\"          \"b\"          \"c\"          \"d\"          \"df\"        \n",
       " [6] \"el\"         \"f\"          \"fun\"        \"i\"          \"j\"         \n",
       "[11] \"l\"          \"m\"          \"max\"        \"myFunction\" \"saveDir\"   \n",
       "[16] \"sumvec\"     \"v\"          \"v1\"         \"v2\"         \"vec\"       \n",
       "[21] \"x\"          \"y\"         "
      ]
     },
     "metadata": {},
     "output_type": "display_data"
    },
    {
     "data": {
      "text/html": [],
      "text/latex": [],
      "text/markdown": [],
      "text/plain": [
       "character(0)"
      ]
     },
     "metadata": {},
     "output_type": "display_data"
    },
    {
     "data": {
      "text/html": [
       "<ol class=list-inline>\n",
       "\t<li>'.pbd_env'</li>\n",
       "\t<li>'.Random.seed'</li>\n",
       "</ol>\n"
      ],
      "text/latex": [
       "\\begin{enumerate*}\n",
       "\\item '.pbd\\_env'\n",
       "\\item '.Random.seed'\n",
       "\\end{enumerate*}\n"
      ],
      "text/markdown": [
       "1. '.pbd_env'\n",
       "2. '.Random.seed'\n",
       "\n",
       "\n"
      ],
      "text/plain": [
       "[1] \".pbd_env\"     \".Random.seed\""
      ]
     },
     "metadata": {},
     "output_type": "display_data"
    }
   ],
   "source": [
    "zzz1 <- 1\n",
    "zzz2 <- 2\n",
    "ls()\n",
    "rm(zzz1, zzz2)\n",
    "ls()\n",
    "rm(list=ls()) # remove all objects that are not hidden objects (.)\n",
    "ls()\n",
    "ls(all.names=TRUE) # list all objects including hidden objects (.)"
   ]
  },
  {
   "cell_type": "markdown",
   "metadata": {},
   "source": [
    "## Saving and Loading Workspace\n",
    "\n",
    "- save.image(\"<path>.RData\")\n",
    "- load(\"<path>.RData\")"
   ]
  },
  {
   "cell_type": "markdown",
   "metadata": {},
   "source": [
    "## Diverting Output to File\n",
    "\n",
    "- sink(<file>) # set path to file output\n",
    "- sink() # revert back to console output"
   ]
  },
  {
   "cell_type": "markdown",
   "metadata": {},
   "source": [
    "## Formatting Date and Time"
   ]
  },
  {
   "cell_type": "code",
   "execution_count": 43,
   "metadata": {},
   "outputs": [
    {
     "data": {
      "text/html": [
       "'09:46:33'"
      ],
      "text/latex": [
       "'09:46:33'"
      ],
      "text/markdown": [
       "'09:46:33'"
      ],
      "text/plain": [
       "[1] \"09:46:33\""
      ]
     },
     "metadata": {},
     "output_type": "display_data"
    },
    {
     "name": "stdout",
     "output_type": "stream",
     "text": [
      "[1] \"09:46:33\"\n"
     ]
    }
   ],
   "source": [
    "nowIs <- format(Sys.time(), \"%H:%M:%S\")\n",
    "nowIs\n",
    "print(nowIs)"
   ]
  },
  {
   "cell_type": "code",
   "execution_count": 44,
   "metadata": {
    "collapsed": true
   },
   "outputs": [],
   "source": [
    "help('strptime')"
   ]
  },
  {
   "cell_type": "markdown",
   "metadata": {},
   "source": [
    "## Using the mode() Function"
   ]
  },
  {
   "cell_type": "code",
   "execution_count": 45,
   "metadata": {},
   "outputs": [
    {
     "data": {
      "text/html": [
       "'numeric'"
      ],
      "text/latex": [
       "'numeric'"
      ],
      "text/markdown": [
       "'numeric'"
      ],
      "text/plain": [
       "[1] \"numeric\""
      ]
     },
     "metadata": {},
     "output_type": "display_data"
    },
    {
     "data": {
      "text/html": [
       "'character'"
      ],
      "text/latex": [
       "'character'"
      ],
      "text/markdown": [
       "'character'"
      ],
      "text/plain": [
       "[1] \"character\""
      ]
     },
     "metadata": {},
     "output_type": "display_data"
    },
    {
     "data": {
      "text/html": [
       "'logical'"
      ],
      "text/latex": [
       "'logical'"
      ],
      "text/markdown": [
       "'logical'"
      ],
      "text/plain": [
       "[1] \"logical\""
      ]
     },
     "metadata": {},
     "output_type": "display_data"
    },
    {
     "data": {
      "text/html": [
       "'logical'"
      ],
      "text/latex": [
       "'logical'"
      ],
      "text/markdown": [
       "'logical'"
      ],
      "text/plain": [
       "[1] \"logical\""
      ]
     },
     "metadata": {},
     "output_type": "display_data"
    },
    {
     "data": {
      "text/html": [
       "'logical'"
      ],
      "text/latex": [
       "'logical'"
      ],
      "text/markdown": [
       "'logical'"
      ],
      "text/plain": [
       "[1] \"logical\""
      ]
     },
     "metadata": {},
     "output_type": "display_data"
    }
   ],
   "source": [
    "mode(123)\n",
    "mode('xyz')\n",
    "mode(TRUE)\n",
    "mode(F)\n",
    "mode(1>2)"
   ]
  },
  {
   "cell_type": "markdown",
   "metadata": {},
   "source": [
    "## Logical Vectors"
   ]
  },
  {
   "cell_type": "code",
   "execution_count": 46,
   "metadata": {},
   "outputs": [
    {
     "name": "stdout",
     "output_type": "stream",
     "text": [
      "[1] FALSE FALSE  TRUE  TRUE  TRUE\n",
      "[1] FALSE  TRUE  TRUE FALSE\n"
     ]
    }
   ],
   "source": [
    "print(c(10, 11, 12, 12, 14) >= 12) # FALSE FALSE  TRUE  TRUE  TRUE\n",
    "print(c(1>2, 2>1, 1==1, 1==2))     # FALSE  TRUE  TRUE FALSE"
   ]
  },
  {
   "cell_type": "markdown",
   "metadata": {},
   "source": [
    "## Character Vectors"
   ]
  },
  {
   "cell_type": "code",
   "execution_count": 47,
   "metadata": {},
   "outputs": [
    {
     "data": {
      "text/html": [
       "<ol class=list-inline>\n",
       "\t<li>'Hello'</li>\n",
       "\t<li>'Hello'</li>\n",
       "\t<li>'Hello'</li>\n",
       "</ol>\n"
      ],
      "text/latex": [
       "\\begin{enumerate*}\n",
       "\\item 'Hello'\n",
       "\\item 'Hello'\n",
       "\\item 'Hello'\n",
       "\\end{enumerate*}\n"
      ],
      "text/markdown": [
       "1. 'Hello'\n",
       "2. 'Hello'\n",
       "3. 'Hello'\n",
       "\n",
       "\n"
      ],
      "text/plain": [
       "[1] \"Hello\" \"Hello\" \"Hello\""
      ]
     },
     "metadata": {},
     "output_type": "display_data"
    },
    {
     "data": {
      "text/html": [
       "'character'"
      ],
      "text/latex": [
       "'character'"
      ],
      "text/markdown": [
       "'character'"
      ],
      "text/plain": [
       "[1] \"character\""
      ]
     },
     "metadata": {},
     "output_type": "display_data"
    }
   ],
   "source": [
    "rep('Hello', 3)        # 'Hello' 'Hello' 'Hello'\n",
    "class(rep('Hello', 3)) # 'character'"
   ]
  },
  {
   "cell_type": "markdown",
   "metadata": {},
   "source": [
    "## Factorization"
   ]
  },
  {
   "cell_type": "code",
   "execution_count": 48,
   "metadata": {},
   "outputs": [
    {
     "name": "stdout",
     "output_type": "stream",
     "text": [
      "[1] 1 2 1 1 2 2 3 4 1\n",
      "Levels: 1 2 3 4\n"
     ]
    }
   ],
   "source": [
    "v <- c(1, 2, 1, 1, 2, 2, 3, 4, 1)\n",
    "print(factor(v))"
   ]
  },
  {
   "cell_type": "markdown",
   "metadata": {},
   "source": [
    "## Multi-Mode Vectors"
   ]
  },
  {
   "cell_type": "code",
   "execution_count": 49,
   "metadata": {},
   "outputs": [
    {
     "name": "stdout",
     "output_type": "stream",
     "text": [
      "[1] \"I told you a \" \"1000\"          \"times\"         \"TRUE\"         \n"
     ]
    },
    {
     "data": {
      "text/html": [
       "'character'"
      ],
      "text/latex": [
       "'character'"
      ],
      "text/markdown": [
       "'character'"
      ],
      "text/plain": [
       "[1] \"character\""
      ]
     },
     "metadata": {},
     "output_type": "display_data"
    },
    {
     "name": "stdout",
     "output_type": "stream",
     "text": [
      "[1] 0 1 2 3\n"
     ]
    },
    {
     "data": {
      "text/html": [
       "'numeric'"
      ],
      "text/latex": [
       "'numeric'"
      ],
      "text/markdown": [
       "'numeric'"
      ],
      "text/plain": [
       "[1] \"numeric\""
      ]
     },
     "metadata": {},
     "output_type": "display_data"
    },
    {
     "data": {
      "text/html": [
       "<ol class=list-inline>\n",
       "\t<li>0</li>\n",
       "\t<li>1</li>\n",
       "\t<li>2</li>\n",
       "\t<li>3</li>\n",
       "\t<li>&lt;NA&gt;</li>\n",
       "\t<li>5</li>\n",
       "</ol>\n"
      ],
      "text/latex": [
       "\\begin{enumerate*}\n",
       "\\item 0\n",
       "\\item 1\n",
       "\\item 2\n",
       "\\item 3\n",
       "\\item <NA>\n",
       "\\item 5\n",
       "\\end{enumerate*}\n"
      ],
      "text/markdown": [
       "1. 0\n",
       "2. 1\n",
       "3. 2\n",
       "4. 3\n",
       "5. &lt;NA&gt;\n",
       "6. 5\n",
       "\n",
       "\n"
      ],
      "text/plain": [
       "[1]  0  1  2  3 NA  5"
      ]
     },
     "metadata": {},
     "output_type": "display_data"
    }
   ],
   "source": [
    "v <- c(\"I told you a \", 1000, 'times', TRUE) # 1000 -> '1000'\n",
    "print(v)\n",
    "mode(v)\n",
    "\n",
    "v <- c(F, T, 2, 3) # FALSE -> 0, TRUE -> 1,\n",
    "print(v)\n",
    "mode(v)\n",
    "\n",
    "(c(0,1,2,3,NA,5))"
   ]
  },
  {
   "cell_type": "markdown",
   "metadata": {},
   "source": [
    "## The Length of a Vector"
   ]
  },
  {
   "cell_type": "code",
   "execution_count": 50,
   "metadata": {},
   "outputs": [
    {
     "data": {
      "text/html": [
       "3"
      ],
      "text/latex": [
       "3"
      ],
      "text/markdown": [
       "3"
      ],
      "text/plain": [
       "[1] 3"
      ]
     },
     "metadata": {},
     "output_type": "display_data"
    }
   ],
   "source": [
    "length(c(1,2,3))"
   ]
  },
  {
   "cell_type": "markdown",
   "metadata": {},
   "source": [
    "## Getting Vector Elements"
   ]
  },
  {
   "cell_type": "code",
   "execution_count": 51,
   "metadata": {},
   "outputs": [
    {
     "data": {
      "text/html": [
       "<ol class=list-inline>\n",
       "\t<li>1</li>\n",
       "\t<li>2</li>\n",
       "\t<li>3</li>\n",
       "\t<li>4</li>\n",
       "\t<li>5</li>\n",
       "</ol>\n"
      ],
      "text/latex": [
       "\\begin{enumerate*}\n",
       "\\item 1\n",
       "\\item 2\n",
       "\\item 3\n",
       "\\item 4\n",
       "\\item 5\n",
       "\\end{enumerate*}\n"
      ],
      "text/markdown": [
       "1. 1\n",
       "2. 2\n",
       "3. 3\n",
       "4. 4\n",
       "5. 5\n",
       "\n",
       "\n"
      ],
      "text/plain": [
       "[1] 1 2 3 4 5"
      ]
     },
     "metadata": {},
     "output_type": "display_data"
    },
    {
     "data": {
      "text/html": [
       "2"
      ],
      "text/latex": [
       "2"
      ],
      "text/markdown": [
       "2"
      ],
      "text/plain": [
       "[1] 2"
      ]
     },
     "metadata": {},
     "output_type": "display_data"
    },
    {
     "data": {
      "text/html": [
       "<ol class=list-inline>\n",
       "\t<li>2</li>\n",
       "\t<li>4</li>\n",
       "</ol>\n"
      ],
      "text/latex": [
       "\\begin{enumerate*}\n",
       "\\item 2\n",
       "\\item 4\n",
       "\\end{enumerate*}\n"
      ],
      "text/markdown": [
       "1. 2\n",
       "2. 4\n",
       "\n",
       "\n"
      ],
      "text/plain": [
       "[1] 2 4"
      ]
     },
     "metadata": {},
     "output_type": "display_data"
    },
    {
     "data": {
      "text/html": [
       "<ol class=list-inline>\n",
       "\t<li>1</li>\n",
       "\t<li>3</li>\n",
       "\t<li>5</li>\n",
       "</ol>\n"
      ],
      "text/latex": [
       "\\begin{enumerate*}\n",
       "\\item 1\n",
       "\\item 3\n",
       "\\item 5\n",
       "\\end{enumerate*}\n"
      ],
      "text/markdown": [
       "1. 1\n",
       "2. 3\n",
       "3. 5\n",
       "\n",
       "\n"
      ],
      "text/plain": [
       "[1] 1 3 5"
      ]
     },
     "metadata": {},
     "output_type": "display_data"
    },
    {
     "data": {
      "text/html": [
       "<ol class=list-inline>\n",
       "\t<li>2</li>\n",
       "\t<li>3</li>\n",
       "</ol>\n"
      ],
      "text/latex": [
       "\\begin{enumerate*}\n",
       "\\item 2\n",
       "\\item 3\n",
       "\\end{enumerate*}\n"
      ],
      "text/markdown": [
       "1. 2\n",
       "2. 3\n",
       "\n",
       "\n"
      ],
      "text/plain": [
       "[1] 2 3"
      ]
     },
     "metadata": {},
     "output_type": "display_data"
    },
    {
     "data": {
      "text/html": [
       "<ol class=list-inline>\n",
       "\t<li>1</li>\n",
       "\t<li>4</li>\n",
       "\t<li>5</li>\n",
       "</ol>\n"
      ],
      "text/latex": [
       "\\begin{enumerate*}\n",
       "\\item 1\n",
       "\\item 4\n",
       "\\item 5\n",
       "\\end{enumerate*}\n"
      ],
      "text/markdown": [
       "1. 1\n",
       "2. 4\n",
       "3. 5\n",
       "\n",
       "\n"
      ],
      "text/plain": [
       "[1] 1 4 5"
      ]
     },
     "metadata": {},
     "output_type": "display_data"
    }
   ],
   "source": [
    "(1:5)             # 1 2 3 4 5\n",
    "((1:5)[2])        # 2\n",
    "((1:5)[c(2,4)])   # 2 4\n",
    "((1:5)[c(-2,-4)]) # 1 3 5\n",
    "((1:5)[2:3])      # 2 3\n",
    "((1:5)[-2:-3])    # 1 4 5"
   ]
  },
  {
   "cell_type": "markdown",
   "metadata": {},
   "source": [
    "## Lists"
   ]
  },
  {
   "cell_type": "code",
   "execution_count": 52,
   "metadata": {},
   "outputs": [
    {
     "name": "stdout",
     "output_type": "stream",
     "text": [
      "[[1]]\n",
      "[1] 1 2 3\n",
      "\n",
      "[[2]]\n",
      "[1] 10 20\n",
      "\n"
     ]
    }
   ],
   "source": [
    "print(list((1:3), c(10,20)))"
   ]
  },
  {
   "cell_type": "markdown",
   "metadata": {
    "collapsed": true
   },
   "source": [
    "## A List with Element Names"
   ]
  },
  {
   "cell_type": "code",
   "execution_count": 53,
   "metadata": {},
   "outputs": [
    {
     "name": "stdout",
     "output_type": "stream",
     "text": [
      "$Jan_Sales_By_Region\n",
      "[1] 1 2 3 4 5\n",
      "\n",
      "$Feb_Sales_By_Region\n",
      "[1] 3 4 5 6 7\n",
      "\n",
      "$Mar_Sales_By_Region\n",
      "[1] 2 3 4 5 6\n",
      "\n"
     ]
    },
    {
     "data": {
      "text/html": [
       "<ol class=list-inline>\n",
       "\t<li>1</li>\n",
       "\t<li>2</li>\n",
       "\t<li>3</li>\n",
       "\t<li>4</li>\n",
       "\t<li>5</li>\n",
       "</ol>\n"
      ],
      "text/latex": [
       "\\begin{enumerate*}\n",
       "\\item 1\n",
       "\\item 2\n",
       "\\item 3\n",
       "\\item 4\n",
       "\\item 5\n",
       "\\end{enumerate*}\n"
      ],
      "text/markdown": [
       "1. 1\n",
       "2. 2\n",
       "3. 3\n",
       "4. 4\n",
       "5. 5\n",
       "\n",
       "\n"
      ],
      "text/plain": [
       "[1] 1 2 3 4 5"
      ]
     },
     "metadata": {},
     "output_type": "display_data"
    },
    {
     "data": {
      "text/html": [
       "<strong>$Jan_Sales_By_Region</strong> = <ol class=list-inline>\n",
       "\t<li>1</li>\n",
       "\t<li>2</li>\n",
       "\t<li>3</li>\n",
       "\t<li>4</li>\n",
       "\t<li>5</li>\n",
       "</ol>\n"
      ],
      "text/latex": [
       "\\textbf{\\$Jan\\_Sales\\_By\\_Region} = \\begin{enumerate*}\n",
       "\\item 1\n",
       "\\item 2\n",
       "\\item 3\n",
       "\\item 4\n",
       "\\item 5\n",
       "\\end{enumerate*}\n"
      ],
      "text/markdown": [
       "**$Jan_Sales_By_Region** = 1. 1\n",
       "2. 2\n",
       "3. 3\n",
       "4. 4\n",
       "5. 5\n",
       "\n",
       "\n"
      ],
      "text/plain": [
       "$Jan_Sales_By_Region\n",
       "[1] 1 2 3 4 5\n"
      ]
     },
     "metadata": {},
     "output_type": "display_data"
    }
   ],
   "source": [
    "print(sales <- list(\n",
    "    Jan_Sales_By_Region = (1:5),\n",
    "    Feb_Sales_By_Region = (3:7),\n",
    "    Mar_Sales_By_Region = (2:6)))\n",
    "\n",
    "sales$Jan_Sales_By_Region\n",
    "sales[1]"
   ]
  },
  {
   "cell_type": "markdown",
   "metadata": {},
   "source": [
    "## Adding to a List"
   ]
  },
  {
   "cell_type": "code",
   "execution_count": 54,
   "metadata": {},
   "outputs": [
    {
     "data": {
      "text/html": [
       "<ol>\n",
       "\t<li><ol class=list-inline>\n",
       "\t<li>1</li>\n",
       "\t<li>2</li>\n",
       "\t<li>3</li>\n",
       "</ol>\n",
       "</li>\n",
       "\t<li>NULL</li>\n",
       "\t<li><ol class=list-inline>\n",
       "\t<li>11</li>\n",
       "\t<li>12</li>\n",
       "\t<li>13</li>\n",
       "</ol>\n",
       "</li>\n",
       "</ol>\n"
      ],
      "text/latex": [
       "\\begin{enumerate}\n",
       "\\item \\begin{enumerate*}\n",
       "\\item 1\n",
       "\\item 2\n",
       "\\item 3\n",
       "\\end{enumerate*}\n",
       "\n",
       "\\item NULL\n",
       "\\item \\begin{enumerate*}\n",
       "\\item 11\n",
       "\\item 12\n",
       "\\item 13\n",
       "\\end{enumerate*}\n",
       "\n",
       "\\end{enumerate}\n"
      ],
      "text/markdown": [
       "1. 1. 1\n",
       "2. 2\n",
       "3. 3\n",
       "\n",
       "\n",
       "\n",
       "2. NULL\n",
       "3. 1. 11\n",
       "2. 12\n",
       "3. 13\n",
       "\n",
       "\n",
       "\n",
       "\n",
       "\n"
      ],
      "text/plain": [
       "[[1]]\n",
       "[1] 1 2 3\n",
       "\n",
       "[[2]]\n",
       "NULL\n",
       "\n",
       "[[3]]\n",
       "[1] 11 12 13\n"
      ]
     },
     "metadata": {},
     "output_type": "display_data"
    },
    {
     "data": {
      "text/html": [
       "3"
      ],
      "text/latex": [
       "3"
      ],
      "text/markdown": [
       "3"
      ],
      "text/plain": [
       "[1] 3"
      ]
     },
     "metadata": {},
     "output_type": "display_data"
    }
   ],
   "source": [
    "x <- list() # create empty list\n",
    "x[[1]] <- (1:3)   # first element\n",
    "x[[3]] <- (11:13) # 3rd element (skipped 2nd element)\n",
    "x\n",
    "length(x)         # 3"
   ]
  },
  {
   "cell_type": "markdown",
   "metadata": {
    "collapsed": true
   },
   "source": [
    "## Matrix Data Structure\n",
    "\n",
    "- Single mode 2-D collection\n",
    "- Special case of 2-D array\n",
    "- Created using the matrix(data, nrow, ncol, byrow, dimnames) function"
   ]
  },
  {
   "cell_type": "code",
   "execution_count": 55,
   "metadata": {
    "collapsed": true
   },
   "outputs": [],
   "source": [
    "help(matrix)"
   ]
  },
  {
   "cell_type": "code",
   "execution_count": 56,
   "metadata": {},
   "outputs": [
    {
     "name": "stdout",
     "output_type": "stream",
     "text": [
      "     [,1] [,2] [,3]\n",
      "[1,]    1    2    3\n",
      "[2,]    4    5    6\n"
     ]
    }
   ],
   "source": [
    "print(m <- matrix(1:6, 2, 3, byrow=TRUE))"
   ]
  },
  {
   "cell_type": "code",
   "execution_count": 57,
   "metadata": {},
   "outputs": [
    {
     "name": "stdout",
     "output_type": "stream",
     "text": [
      "     Col1 Col2 Col3\n",
      "Row1   11   12   13\n",
      "Row2   21   22   23\n"
     ]
    }
   ],
   "source": [
    "print(m <- matrix(c(11,12,13,21,22,23), nrow=2, ncol=3,\n",
    "    byrow=TRUE, dimnames = list(\n",
    "        c(\"Row1\", \"Row2\"),\n",
    "        c(\"Col1\", \"Col2\", \"Col3\"))))"
   ]
  },
  {
   "cell_type": "markdown",
   "metadata": {},
   "source": [
    "## Creating Matrices with cbind() and rbind()"
   ]
  },
  {
   "cell_type": "code",
   "execution_count": 58,
   "metadata": {},
   "outputs": [
    {
     "name": "stdout",
     "output_type": "stream",
     "text": [
      "     [,1] [,2] [,3]\n",
      "[1,]    1    5    0\n",
      "[2,]    2    6    0\n",
      "[3,]    3    7    0\n",
      "     [,1] [,2] [,3]\n",
      "[1,]    1    2    3\n",
      "[2,]    5    6    7\n",
      "[3,]    0    0    0\n"
     ]
    }
   ],
   "source": [
    "print(cbind(1:3, 5:7, rep(0,3)))\n",
    "print(rbind(1:3, 5:7, rep(0,3)))"
   ]
  },
  {
   "cell_type": "markdown",
   "metadata": {},
   "source": [
    "## Working with Data Frames\n",
    "\n",
    "- For storing tables\n",
    "- Made up of list of collections that are of equal length\n",
    "- Each column is limited to elements of one type\n",
    "- Different columns can have different types"
   ]
  },
  {
   "cell_type": "code",
   "execution_count": 59,
   "metadata": {},
   "outputs": [
    {
     "data": {
      "text/html": [
       "<table>\n",
       "<thead><tr><th></th><th scope=col>mpg</th><th scope=col>cyl</th><th scope=col>disp</th><th scope=col>hp</th><th scope=col>drat</th><th scope=col>wt</th><th scope=col>qsec</th><th scope=col>vs</th><th scope=col>am</th><th scope=col>gear</th><th scope=col>carb</th></tr></thead>\n",
       "<tbody>\n",
       "\t<tr><th scope=row>Mazda RX4</th><td>21.0 </td><td>6    </td><td>160.0</td><td>110  </td><td>3.90 </td><td>2.620</td><td>16.46</td><td>0    </td><td>1    </td><td>4    </td><td>4    </td></tr>\n",
       "\t<tr><th scope=row>Mazda RX4 Wag</th><td>21.0 </td><td>6    </td><td>160.0</td><td>110  </td><td>3.90 </td><td>2.875</td><td>17.02</td><td>0    </td><td>1    </td><td>4    </td><td>4    </td></tr>\n",
       "\t<tr><th scope=row>Datsun 710</th><td>22.8 </td><td>4    </td><td>108.0</td><td> 93  </td><td>3.85 </td><td>2.320</td><td>18.61</td><td>1    </td><td>1    </td><td>4    </td><td>1    </td></tr>\n",
       "\t<tr><th scope=row>Hornet 4 Drive</th><td>21.4 </td><td>6    </td><td>258.0</td><td>110  </td><td>3.08 </td><td>3.215</td><td>19.44</td><td>1    </td><td>0    </td><td>3    </td><td>1    </td></tr>\n",
       "\t<tr><th scope=row>Hornet Sportabout</th><td>18.7 </td><td>8    </td><td>360.0</td><td>175  </td><td>3.15 </td><td>3.440</td><td>17.02</td><td>0    </td><td>0    </td><td>3    </td><td>2    </td></tr>\n",
       "\t<tr><th scope=row>Valiant</th><td>18.1 </td><td>6    </td><td>225.0</td><td>105  </td><td>2.76 </td><td>3.460</td><td>20.22</td><td>1    </td><td>0    </td><td>3    </td><td>1    </td></tr>\n",
       "\t<tr><th scope=row>Duster 360</th><td>14.3 </td><td>8    </td><td>360.0</td><td>245  </td><td>3.21 </td><td>3.570</td><td>15.84</td><td>0    </td><td>0    </td><td>3    </td><td>4    </td></tr>\n",
       "\t<tr><th scope=row>Merc 240D</th><td>24.4 </td><td>4    </td><td>146.7</td><td> 62  </td><td>3.69 </td><td>3.190</td><td>20.00</td><td>1    </td><td>0    </td><td>4    </td><td>2    </td></tr>\n",
       "\t<tr><th scope=row>Merc 230</th><td>22.8 </td><td>4    </td><td>140.8</td><td> 95  </td><td>3.92 </td><td>3.150</td><td>22.90</td><td>1    </td><td>0    </td><td>4    </td><td>2    </td></tr>\n",
       "\t<tr><th scope=row>Merc 280</th><td>19.2 </td><td>6    </td><td>167.6</td><td>123  </td><td>3.92 </td><td>3.440</td><td>18.30</td><td>1    </td><td>0    </td><td>4    </td><td>4    </td></tr>\n",
       "\t<tr><th scope=row>Merc 280C</th><td>17.8 </td><td>6    </td><td>167.6</td><td>123  </td><td>3.92 </td><td>3.440</td><td>18.90</td><td>1    </td><td>0    </td><td>4    </td><td>4    </td></tr>\n",
       "\t<tr><th scope=row>Merc 450SE</th><td>16.4 </td><td>8    </td><td>275.8</td><td>180  </td><td>3.07 </td><td>4.070</td><td>17.40</td><td>0    </td><td>0    </td><td>3    </td><td>3    </td></tr>\n",
       "\t<tr><th scope=row>Merc 450SL</th><td>17.3 </td><td>8    </td><td>275.8</td><td>180  </td><td>3.07 </td><td>3.730</td><td>17.60</td><td>0    </td><td>0    </td><td>3    </td><td>3    </td></tr>\n",
       "\t<tr><th scope=row>Merc 450SLC</th><td>15.2 </td><td>8    </td><td>275.8</td><td>180  </td><td>3.07 </td><td>3.780</td><td>18.00</td><td>0    </td><td>0    </td><td>3    </td><td>3    </td></tr>\n",
       "\t<tr><th scope=row>Cadillac Fleetwood</th><td>10.4 </td><td>8    </td><td>472.0</td><td>205  </td><td>2.93 </td><td>5.250</td><td>17.98</td><td>0    </td><td>0    </td><td>3    </td><td>4    </td></tr>\n",
       "\t<tr><th scope=row>Lincoln Continental</th><td>10.4 </td><td>8    </td><td>460.0</td><td>215  </td><td>3.00 </td><td>5.424</td><td>17.82</td><td>0    </td><td>0    </td><td>3    </td><td>4    </td></tr>\n",
       "\t<tr><th scope=row>Chrysler Imperial</th><td>14.7 </td><td>8    </td><td>440.0</td><td>230  </td><td>3.23 </td><td>5.345</td><td>17.42</td><td>0    </td><td>0    </td><td>3    </td><td>4    </td></tr>\n",
       "\t<tr><th scope=row>Fiat 128</th><td>32.4 </td><td>4    </td><td> 78.7</td><td> 66  </td><td>4.08 </td><td>2.200</td><td>19.47</td><td>1    </td><td>1    </td><td>4    </td><td>1    </td></tr>\n",
       "\t<tr><th scope=row>Honda Civic</th><td>30.4 </td><td>4    </td><td> 75.7</td><td> 52  </td><td>4.93 </td><td>1.615</td><td>18.52</td><td>1    </td><td>1    </td><td>4    </td><td>2    </td></tr>\n",
       "\t<tr><th scope=row>Toyota Corolla</th><td>33.9 </td><td>4    </td><td> 71.1</td><td> 65  </td><td>4.22 </td><td>1.835</td><td>19.90</td><td>1    </td><td>1    </td><td>4    </td><td>1    </td></tr>\n",
       "\t<tr><th scope=row>Toyota Corona</th><td>21.5 </td><td>4    </td><td>120.1</td><td> 97  </td><td>3.70 </td><td>2.465</td><td>20.01</td><td>1    </td><td>0    </td><td>3    </td><td>1    </td></tr>\n",
       "\t<tr><th scope=row>Dodge Challenger</th><td>15.5 </td><td>8    </td><td>318.0</td><td>150  </td><td>2.76 </td><td>3.520</td><td>16.87</td><td>0    </td><td>0    </td><td>3    </td><td>2    </td></tr>\n",
       "\t<tr><th scope=row>AMC Javelin</th><td>15.2 </td><td>8    </td><td>304.0</td><td>150  </td><td>3.15 </td><td>3.435</td><td>17.30</td><td>0    </td><td>0    </td><td>3    </td><td>2    </td></tr>\n",
       "\t<tr><th scope=row>Camaro Z28</th><td>13.3 </td><td>8    </td><td>350.0</td><td>245  </td><td>3.73 </td><td>3.840</td><td>15.41</td><td>0    </td><td>0    </td><td>3    </td><td>4    </td></tr>\n",
       "\t<tr><th scope=row>Pontiac Firebird</th><td>19.2 </td><td>8    </td><td>400.0</td><td>175  </td><td>3.08 </td><td>3.845</td><td>17.05</td><td>0    </td><td>0    </td><td>3    </td><td>2    </td></tr>\n",
       "\t<tr><th scope=row>Fiat X1-9</th><td>27.3 </td><td>4    </td><td> 79.0</td><td> 66  </td><td>4.08 </td><td>1.935</td><td>18.90</td><td>1    </td><td>1    </td><td>4    </td><td>1    </td></tr>\n",
       "\t<tr><th scope=row>Porsche 914-2</th><td>26.0 </td><td>4    </td><td>120.3</td><td> 91  </td><td>4.43 </td><td>2.140</td><td>16.70</td><td>0    </td><td>1    </td><td>5    </td><td>2    </td></tr>\n",
       "\t<tr><th scope=row>Lotus Europa</th><td>30.4 </td><td>4    </td><td> 95.1</td><td>113  </td><td>3.77 </td><td>1.513</td><td>16.90</td><td>1    </td><td>1    </td><td>5    </td><td>2    </td></tr>\n",
       "\t<tr><th scope=row>Ford Pantera L</th><td>15.8 </td><td>8    </td><td>351.0</td><td>264  </td><td>4.22 </td><td>3.170</td><td>14.50</td><td>0    </td><td>1    </td><td>5    </td><td>4    </td></tr>\n",
       "\t<tr><th scope=row>Ferrari Dino</th><td>19.7 </td><td>6    </td><td>145.0</td><td>175  </td><td>3.62 </td><td>2.770</td><td>15.50</td><td>0    </td><td>1    </td><td>5    </td><td>6    </td></tr>\n",
       "\t<tr><th scope=row>Maserati Bora</th><td>15.0 </td><td>8    </td><td>301.0</td><td>335  </td><td>3.54 </td><td>3.570</td><td>14.60</td><td>0    </td><td>1    </td><td>5    </td><td>8    </td></tr>\n",
       "\t<tr><th scope=row>Volvo 142E</th><td>21.4 </td><td>4    </td><td>121.0</td><td>109  </td><td>4.11 </td><td>2.780</td><td>18.60</td><td>1    </td><td>1    </td><td>4    </td><td>2    </td></tr>\n",
       "</tbody>\n",
       "</table>\n"
      ],
      "text/latex": [
       "\\begin{tabular}{r|lllllllllll}\n",
       "  & mpg & cyl & disp & hp & drat & wt & qsec & vs & am & gear & carb\\\\\n",
       "\\hline\n",
       "\tMazda RX4 & 21.0  & 6     & 160.0 & 110   & 3.90  & 2.620 & 16.46 & 0     & 1     & 4     & 4    \\\\\n",
       "\tMazda RX4 Wag & 21.0  & 6     & 160.0 & 110   & 3.90  & 2.875 & 17.02 & 0     & 1     & 4     & 4    \\\\\n",
       "\tDatsun 710 & 22.8  & 4     & 108.0 &  93   & 3.85  & 2.320 & 18.61 & 1     & 1     & 4     & 1    \\\\\n",
       "\tHornet 4 Drive & 21.4  & 6     & 258.0 & 110   & 3.08  & 3.215 & 19.44 & 1     & 0     & 3     & 1    \\\\\n",
       "\tHornet Sportabout & 18.7  & 8     & 360.0 & 175   & 3.15  & 3.440 & 17.02 & 0     & 0     & 3     & 2    \\\\\n",
       "\tValiant & 18.1  & 6     & 225.0 & 105   & 2.76  & 3.460 & 20.22 & 1     & 0     & 3     & 1    \\\\\n",
       "\tDuster 360 & 14.3  & 8     & 360.0 & 245   & 3.21  & 3.570 & 15.84 & 0     & 0     & 3     & 4    \\\\\n",
       "\tMerc 240D & 24.4  & 4     & 146.7 &  62   & 3.69  & 3.190 & 20.00 & 1     & 0     & 4     & 2    \\\\\n",
       "\tMerc 230 & 22.8  & 4     & 140.8 &  95   & 3.92  & 3.150 & 22.90 & 1     & 0     & 4     & 2    \\\\\n",
       "\tMerc 280 & 19.2  & 6     & 167.6 & 123   & 3.92  & 3.440 & 18.30 & 1     & 0     & 4     & 4    \\\\\n",
       "\tMerc 280C & 17.8  & 6     & 167.6 & 123   & 3.92  & 3.440 & 18.90 & 1     & 0     & 4     & 4    \\\\\n",
       "\tMerc 450SE & 16.4  & 8     & 275.8 & 180   & 3.07  & 4.070 & 17.40 & 0     & 0     & 3     & 3    \\\\\n",
       "\tMerc 450SL & 17.3  & 8     & 275.8 & 180   & 3.07  & 3.730 & 17.60 & 0     & 0     & 3     & 3    \\\\\n",
       "\tMerc 450SLC & 15.2  & 8     & 275.8 & 180   & 3.07  & 3.780 & 18.00 & 0     & 0     & 3     & 3    \\\\\n",
       "\tCadillac Fleetwood & 10.4  & 8     & 472.0 & 205   & 2.93  & 5.250 & 17.98 & 0     & 0     & 3     & 4    \\\\\n",
       "\tLincoln Continental & 10.4  & 8     & 460.0 & 215   & 3.00  & 5.424 & 17.82 & 0     & 0     & 3     & 4    \\\\\n",
       "\tChrysler Imperial & 14.7  & 8     & 440.0 & 230   & 3.23  & 5.345 & 17.42 & 0     & 0     & 3     & 4    \\\\\n",
       "\tFiat 128 & 32.4  & 4     &  78.7 &  66   & 4.08  & 2.200 & 19.47 & 1     & 1     & 4     & 1    \\\\\n",
       "\tHonda Civic & 30.4  & 4     &  75.7 &  52   & 4.93  & 1.615 & 18.52 & 1     & 1     & 4     & 2    \\\\\n",
       "\tToyota Corolla & 33.9  & 4     &  71.1 &  65   & 4.22  & 1.835 & 19.90 & 1     & 1     & 4     & 1    \\\\\n",
       "\tToyota Corona & 21.5  & 4     & 120.1 &  97   & 3.70  & 2.465 & 20.01 & 1     & 0     & 3     & 1    \\\\\n",
       "\tDodge Challenger & 15.5  & 8     & 318.0 & 150   & 2.76  & 3.520 & 16.87 & 0     & 0     & 3     & 2    \\\\\n",
       "\tAMC Javelin & 15.2  & 8     & 304.0 & 150   & 3.15  & 3.435 & 17.30 & 0     & 0     & 3     & 2    \\\\\n",
       "\tCamaro Z28 & 13.3  & 8     & 350.0 & 245   & 3.73  & 3.840 & 15.41 & 0     & 0     & 3     & 4    \\\\\n",
       "\tPontiac Firebird & 19.2  & 8     & 400.0 & 175   & 3.08  & 3.845 & 17.05 & 0     & 0     & 3     & 2    \\\\\n",
       "\tFiat X1-9 & 27.3  & 4     &  79.0 &  66   & 4.08  & 1.935 & 18.90 & 1     & 1     & 4     & 1    \\\\\n",
       "\tPorsche 914-2 & 26.0  & 4     & 120.3 &  91   & 4.43  & 2.140 & 16.70 & 0     & 1     & 5     & 2    \\\\\n",
       "\tLotus Europa & 30.4  & 4     &  95.1 & 113   & 3.77  & 1.513 & 16.90 & 1     & 1     & 5     & 2    \\\\\n",
       "\tFord Pantera L & 15.8  & 8     & 351.0 & 264   & 4.22  & 3.170 & 14.50 & 0     & 1     & 5     & 4    \\\\\n",
       "\tFerrari Dino & 19.7  & 6     & 145.0 & 175   & 3.62  & 2.770 & 15.50 & 0     & 1     & 5     & 6    \\\\\n",
       "\tMaserati Bora & 15.0  & 8     & 301.0 & 335   & 3.54  & 3.570 & 14.60 & 0     & 1     & 5     & 8    \\\\\n",
       "\tVolvo 142E & 21.4  & 4     & 121.0 & 109   & 4.11  & 2.780 & 18.60 & 1     & 1     & 4     & 2    \\\\\n",
       "\\end{tabular}\n"
      ],
      "text/markdown": [
       "\n",
       "| <!--/--> | mpg | cyl | disp | hp | drat | wt | qsec | vs | am | gear | carb | \n",
       "|---|---|---|---|---|---|---|---|---|---|---|---|---|---|---|---|---|---|---|---|---|---|---|---|---|---|---|---|---|---|---|---|\n",
       "| Mazda RX4 | 21.0  | 6     | 160.0 | 110   | 3.90  | 2.620 | 16.46 | 0     | 1     | 4     | 4     | \n",
       "| Mazda RX4 Wag | 21.0  | 6     | 160.0 | 110   | 3.90  | 2.875 | 17.02 | 0     | 1     | 4     | 4     | \n",
       "| Datsun 710 | 22.8  | 4     | 108.0 |  93   | 3.85  | 2.320 | 18.61 | 1     | 1     | 4     | 1     | \n",
       "| Hornet 4 Drive | 21.4  | 6     | 258.0 | 110   | 3.08  | 3.215 | 19.44 | 1     | 0     | 3     | 1     | \n",
       "| Hornet Sportabout | 18.7  | 8     | 360.0 | 175   | 3.15  | 3.440 | 17.02 | 0     | 0     | 3     | 2     | \n",
       "| Valiant | 18.1  | 6     | 225.0 | 105   | 2.76  | 3.460 | 20.22 | 1     | 0     | 3     | 1     | \n",
       "| Duster 360 | 14.3  | 8     | 360.0 | 245   | 3.21  | 3.570 | 15.84 | 0     | 0     | 3     | 4     | \n",
       "| Merc 240D | 24.4  | 4     | 146.7 |  62   | 3.69  | 3.190 | 20.00 | 1     | 0     | 4     | 2     | \n",
       "| Merc 230 | 22.8  | 4     | 140.8 |  95   | 3.92  | 3.150 | 22.90 | 1     | 0     | 4     | 2     | \n",
       "| Merc 280 | 19.2  | 6     | 167.6 | 123   | 3.92  | 3.440 | 18.30 | 1     | 0     | 4     | 4     | \n",
       "| Merc 280C | 17.8  | 6     | 167.6 | 123   | 3.92  | 3.440 | 18.90 | 1     | 0     | 4     | 4     | \n",
       "| Merc 450SE | 16.4  | 8     | 275.8 | 180   | 3.07  | 4.070 | 17.40 | 0     | 0     | 3     | 3     | \n",
       "| Merc 450SL | 17.3  | 8     | 275.8 | 180   | 3.07  | 3.730 | 17.60 | 0     | 0     | 3     | 3     | \n",
       "| Merc 450SLC | 15.2  | 8     | 275.8 | 180   | 3.07  | 3.780 | 18.00 | 0     | 0     | 3     | 3     | \n",
       "| Cadillac Fleetwood | 10.4  | 8     | 472.0 | 205   | 2.93  | 5.250 | 17.98 | 0     | 0     | 3     | 4     | \n",
       "| Lincoln Continental | 10.4  | 8     | 460.0 | 215   | 3.00  | 5.424 | 17.82 | 0     | 0     | 3     | 4     | \n",
       "| Chrysler Imperial | 14.7  | 8     | 440.0 | 230   | 3.23  | 5.345 | 17.42 | 0     | 0     | 3     | 4     | \n",
       "| Fiat 128 | 32.4  | 4     |  78.7 |  66   | 4.08  | 2.200 | 19.47 | 1     | 1     | 4     | 1     | \n",
       "| Honda Civic | 30.4  | 4     |  75.7 |  52   | 4.93  | 1.615 | 18.52 | 1     | 1     | 4     | 2     | \n",
       "| Toyota Corolla | 33.9  | 4     |  71.1 |  65   | 4.22  | 1.835 | 19.90 | 1     | 1     | 4     | 1     | \n",
       "| Toyota Corona | 21.5  | 4     | 120.1 |  97   | 3.70  | 2.465 | 20.01 | 1     | 0     | 3     | 1     | \n",
       "| Dodge Challenger | 15.5  | 8     | 318.0 | 150   | 2.76  | 3.520 | 16.87 | 0     | 0     | 3     | 2     | \n",
       "| AMC Javelin | 15.2  | 8     | 304.0 | 150   | 3.15  | 3.435 | 17.30 | 0     | 0     | 3     | 2     | \n",
       "| Camaro Z28 | 13.3  | 8     | 350.0 | 245   | 3.73  | 3.840 | 15.41 | 0     | 0     | 3     | 4     | \n",
       "| Pontiac Firebird | 19.2  | 8     | 400.0 | 175   | 3.08  | 3.845 | 17.05 | 0     | 0     | 3     | 2     | \n",
       "| Fiat X1-9 | 27.3  | 4     |  79.0 |  66   | 4.08  | 1.935 | 18.90 | 1     | 1     | 4     | 1     | \n",
       "| Porsche 914-2 | 26.0  | 4     | 120.3 |  91   | 4.43  | 2.140 | 16.70 | 0     | 1     | 5     | 2     | \n",
       "| Lotus Europa | 30.4  | 4     |  95.1 | 113   | 3.77  | 1.513 | 16.90 | 1     | 1     | 5     | 2     | \n",
       "| Ford Pantera L | 15.8  | 8     | 351.0 | 264   | 4.22  | 3.170 | 14.50 | 0     | 1     | 5     | 4     | \n",
       "| Ferrari Dino | 19.7  | 6     | 145.0 | 175   | 3.62  | 2.770 | 15.50 | 0     | 1     | 5     | 6     | \n",
       "| Maserati Bora | 15.0  | 8     | 301.0 | 335   | 3.54  | 3.570 | 14.60 | 0     | 1     | 5     | 8     | \n",
       "| Volvo 142E | 21.4  | 4     | 121.0 | 109   | 4.11  | 2.780 | 18.60 | 1     | 1     | 4     | 2     | \n",
       "\n",
       "\n"
      ],
      "text/plain": [
       "                    mpg  cyl disp  hp  drat wt    qsec  vs am gear carb\n",
       "Mazda RX4           21.0 6   160.0 110 3.90 2.620 16.46 0  1  4    4   \n",
       "Mazda RX4 Wag       21.0 6   160.0 110 3.90 2.875 17.02 0  1  4    4   \n",
       "Datsun 710          22.8 4   108.0  93 3.85 2.320 18.61 1  1  4    1   \n",
       "Hornet 4 Drive      21.4 6   258.0 110 3.08 3.215 19.44 1  0  3    1   \n",
       "Hornet Sportabout   18.7 8   360.0 175 3.15 3.440 17.02 0  0  3    2   \n",
       "Valiant             18.1 6   225.0 105 2.76 3.460 20.22 1  0  3    1   \n",
       "Duster 360          14.3 8   360.0 245 3.21 3.570 15.84 0  0  3    4   \n",
       "Merc 240D           24.4 4   146.7  62 3.69 3.190 20.00 1  0  4    2   \n",
       "Merc 230            22.8 4   140.8  95 3.92 3.150 22.90 1  0  4    2   \n",
       "Merc 280            19.2 6   167.6 123 3.92 3.440 18.30 1  0  4    4   \n",
       "Merc 280C           17.8 6   167.6 123 3.92 3.440 18.90 1  0  4    4   \n",
       "Merc 450SE          16.4 8   275.8 180 3.07 4.070 17.40 0  0  3    3   \n",
       "Merc 450SL          17.3 8   275.8 180 3.07 3.730 17.60 0  0  3    3   \n",
       "Merc 450SLC         15.2 8   275.8 180 3.07 3.780 18.00 0  0  3    3   \n",
       "Cadillac Fleetwood  10.4 8   472.0 205 2.93 5.250 17.98 0  0  3    4   \n",
       "Lincoln Continental 10.4 8   460.0 215 3.00 5.424 17.82 0  0  3    4   \n",
       "Chrysler Imperial   14.7 8   440.0 230 3.23 5.345 17.42 0  0  3    4   \n",
       "Fiat 128            32.4 4    78.7  66 4.08 2.200 19.47 1  1  4    1   \n",
       "Honda Civic         30.4 4    75.7  52 4.93 1.615 18.52 1  1  4    2   \n",
       "Toyota Corolla      33.9 4    71.1  65 4.22 1.835 19.90 1  1  4    1   \n",
       "Toyota Corona       21.5 4   120.1  97 3.70 2.465 20.01 1  0  3    1   \n",
       "Dodge Challenger    15.5 8   318.0 150 2.76 3.520 16.87 0  0  3    2   \n",
       "AMC Javelin         15.2 8   304.0 150 3.15 3.435 17.30 0  0  3    2   \n",
       "Camaro Z28          13.3 8   350.0 245 3.73 3.840 15.41 0  0  3    4   \n",
       "Pontiac Firebird    19.2 8   400.0 175 3.08 3.845 17.05 0  0  3    2   \n",
       "Fiat X1-9           27.3 4    79.0  66 4.08 1.935 18.90 1  1  4    1   \n",
       "Porsche 914-2       26.0 4   120.3  91 4.43 2.140 16.70 0  1  5    2   \n",
       "Lotus Europa        30.4 4    95.1 113 3.77 1.513 16.90 1  1  5    2   \n",
       "Ford Pantera L      15.8 8   351.0 264 4.22 3.170 14.50 0  1  5    4   \n",
       "Ferrari Dino        19.7 6   145.0 175 3.62 2.770 15.50 0  1  5    6   \n",
       "Maserati Bora       15.0 8   301.0 335 3.54 3.570 14.60 0  1  5    8   \n",
       "Volvo 142E          21.4 4   121.0 109 4.11 2.780 18.60 1  1  4    2   "
      ]
     },
     "metadata": {},
     "output_type": "display_data"
    }
   ],
   "source": [
    "mtcars"
   ]
  },
  {
   "cell_type": "markdown",
   "metadata": {},
   "source": [
    "## Creating a Data Frame"
   ]
  },
  {
   "cell_type": "code",
   "execution_count": 60,
   "metadata": {},
   "outputs": [
    {
     "data": {
      "text/html": [
       "<table>\n",
       "<thead><tr><th scope=col>month_name</th><th scope=col>month_count</th></tr></thead>\n",
       "<tbody>\n",
       "\t<tr><td>Jan</td><td>1  </td></tr>\n",
       "\t<tr><td>Feb</td><td>2  </td></tr>\n",
       "\t<tr><td>Mar</td><td>3  </td></tr>\n",
       "</tbody>\n",
       "</table>\n"
      ],
      "text/latex": [
       "\\begin{tabular}{r|ll}\n",
       " month\\_name & month\\_count\\\\\n",
       "\\hline\n",
       "\t Jan & 1  \\\\\n",
       "\t Feb & 2  \\\\\n",
       "\t Mar & 3  \\\\\n",
       "\\end{tabular}\n"
      ],
      "text/markdown": [
       "\n",
       "month_name | month_count | \n",
       "|---|---|---|\n",
       "| Jan | 1   | \n",
       "| Feb | 2   | \n",
       "| Mar | 3   | \n",
       "\n",
       "\n"
      ],
      "text/plain": [
       "  month_name month_count\n",
       "1 Jan        1          \n",
       "2 Feb        2          \n",
       "3 Mar        3          "
      ]
     },
     "metadata": {},
     "output_type": "display_data"
    }
   ],
   "source": [
    "df <- data.frame(month_name=c(\"Jan\", \"Feb\", \"Mar\"), month_count=1:3)\n",
    "df"
   ]
  },
  {
   "cell_type": "markdown",
   "metadata": {},
   "source": [
    "## Accessing Data Cells"
   ]
  },
  {
   "cell_type": "code",
   "execution_count": 61,
   "metadata": {},
   "outputs": [
    {
     "data": {
      "text/html": [
       "21"
      ],
      "text/latex": [
       "21"
      ],
      "text/markdown": [
       "21"
      ],
      "text/plain": [
       "[1] 21"
      ]
     },
     "metadata": {},
     "output_type": "display_data"
    },
    {
     "data": {
      "text/html": [
       "21"
      ],
      "text/latex": [
       "21"
      ],
      "text/markdown": [
       "21"
      ],
      "text/plain": [
       "[1] 21"
      ]
     },
     "metadata": {},
     "output_type": "display_data"
    }
   ],
   "source": [
    "mtcars[1, 1]               # access by index\n",
    "mtcars[\"Mazda RX4\", \"mpg\"] # access by row and column labels"
   ]
  },
  {
   "cell_type": "markdown",
   "metadata": {},
   "source": [
    "## Getting Info About a Data Frame"
   ]
  },
  {
   "cell_type": "code",
   "execution_count": 62,
   "metadata": {},
   "outputs": [
    {
     "data": {
      "text/html": [
       "<ol class=list-inline>\n",
       "\t<li>'mpg'</li>\n",
       "\t<li>'cyl'</li>\n",
       "\t<li>'disp'</li>\n",
       "\t<li>'hp'</li>\n",
       "\t<li>'drat'</li>\n",
       "\t<li>'wt'</li>\n",
       "\t<li>'qsec'</li>\n",
       "\t<li>'vs'</li>\n",
       "\t<li>'am'</li>\n",
       "\t<li>'gear'</li>\n",
       "\t<li>'carb'</li>\n",
       "</ol>\n"
      ],
      "text/latex": [
       "\\begin{enumerate*}\n",
       "\\item 'mpg'\n",
       "\\item 'cyl'\n",
       "\\item 'disp'\n",
       "\\item 'hp'\n",
       "\\item 'drat'\n",
       "\\item 'wt'\n",
       "\\item 'qsec'\n",
       "\\item 'vs'\n",
       "\\item 'am'\n",
       "\\item 'gear'\n",
       "\\item 'carb'\n",
       "\\end{enumerate*}\n"
      ],
      "text/markdown": [
       "1. 'mpg'\n",
       "2. 'cyl'\n",
       "3. 'disp'\n",
       "4. 'hp'\n",
       "5. 'drat'\n",
       "6. 'wt'\n",
       "7. 'qsec'\n",
       "8. 'vs'\n",
       "9. 'am'\n",
       "10. 'gear'\n",
       "11. 'carb'\n",
       "\n",
       "\n"
      ],
      "text/plain": [
       " [1] \"mpg\"  \"cyl\"  \"disp\" \"hp\"   \"drat\" \"wt\"   \"qsec\" \"vs\"   \"am\"   \"gear\"\n",
       "[11] \"carb\""
      ]
     },
     "metadata": {},
     "output_type": "display_data"
    },
    {
     "data": {
      "text/html": [
       "32"
      ],
      "text/latex": [
       "32"
      ],
      "text/markdown": [
       "32"
      ],
      "text/plain": [
       "[1] 32"
      ]
     },
     "metadata": {},
     "output_type": "display_data"
    },
    {
     "data": {
      "text/html": [
       "11"
      ],
      "text/latex": [
       "11"
      ],
      "text/markdown": [
       "11"
      ],
      "text/plain": [
       "[1] 11"
      ]
     },
     "metadata": {},
     "output_type": "display_data"
    }
   ],
   "source": [
    "names(mtcars)\n",
    "nrow(mtcars)\n",
    "ncol(mtcars)"
   ]
  },
  {
   "cell_type": "markdown",
   "metadata": {},
   "source": [
    "## Selecting Columns in Data Frames"
   ]
  },
  {
   "cell_type": "code",
   "execution_count": 63,
   "metadata": {},
   "outputs": [
    {
     "name": "stdout",
     "output_type": "stream",
     "text": [
      "                     mpg cyl  hp\n",
      "Mazda RX4           21.0   6 110\n",
      "Mazda RX4 Wag       21.0   6 110\n",
      "Datsun 710          22.8   4  93\n",
      "Hornet 4 Drive      21.4   6 110\n",
      "Hornet Sportabout   18.7   8 175\n",
      "Valiant             18.1   6 105\n",
      "Duster 360          14.3   8 245\n",
      "Merc 240D           24.4   4  62\n",
      "Merc 230            22.8   4  95\n",
      "Merc 280            19.2   6 123\n",
      "Merc 280C           17.8   6 123\n",
      "Merc 450SE          16.4   8 180\n",
      "Merc 450SL          17.3   8 180\n",
      "Merc 450SLC         15.2   8 180\n",
      "Cadillac Fleetwood  10.4   8 205\n",
      "Lincoln Continental 10.4   8 215\n",
      "Chrysler Imperial   14.7   8 230\n",
      "Fiat 128            32.4   4  66\n",
      "Honda Civic         30.4   4  52\n",
      "Toyota Corolla      33.9   4  65\n",
      "Toyota Corona       21.5   4  97\n",
      "Dodge Challenger    15.5   8 150\n",
      "AMC Javelin         15.2   8 150\n",
      "Camaro Z28          13.3   8 245\n",
      "Pontiac Firebird    19.2   8 175\n",
      "Fiat X1-9           27.3   4  66\n",
      "Porsche 914-2       26.0   4  91\n",
      "Lotus Europa        30.4   4 113\n",
      "Ford Pantera L      15.8   8 264\n",
      "Ferrari Dino        19.7   6 175\n",
      "Maserati Bora       15.0   8 335\n",
      "Volvo 142E          21.4   4 109\n"
     ]
    }
   ],
   "source": [
    "cols <- c(\"mpg\", \"cyl\", \"hp\") # slice columns using column names\n",
    "print(mtcars[cols])"
   ]
  },
  {
   "cell_type": "code",
   "execution_count": 64,
   "metadata": {},
   "outputs": [
    {
     "data": {
      "text/html": [
       "<ol class=list-inline>\n",
       "\t<li>21</li>\n",
       "\t<li>21</li>\n",
       "\t<li>22.8</li>\n",
       "\t<li>21.4</li>\n",
       "\t<li>18.7</li>\n",
       "\t<li>18.1</li>\n",
       "\t<li>14.3</li>\n",
       "\t<li>24.4</li>\n",
       "\t<li>22.8</li>\n",
       "\t<li>19.2</li>\n",
       "\t<li>17.8</li>\n",
       "\t<li>16.4</li>\n",
       "\t<li>17.3</li>\n",
       "\t<li>15.2</li>\n",
       "\t<li>10.4</li>\n",
       "\t<li>10.4</li>\n",
       "\t<li>14.7</li>\n",
       "\t<li>32.4</li>\n",
       "\t<li>30.4</li>\n",
       "\t<li>33.9</li>\n",
       "\t<li>21.5</li>\n",
       "\t<li>15.5</li>\n",
       "\t<li>15.2</li>\n",
       "\t<li>13.3</li>\n",
       "\t<li>19.2</li>\n",
       "\t<li>27.3</li>\n",
       "\t<li>26</li>\n",
       "\t<li>30.4</li>\n",
       "\t<li>15.8</li>\n",
       "\t<li>19.7</li>\n",
       "\t<li>15</li>\n",
       "\t<li>21.4</li>\n",
       "</ol>\n"
      ],
      "text/latex": [
       "\\begin{enumerate*}\n",
       "\\item 21\n",
       "\\item 21\n",
       "\\item 22.8\n",
       "\\item 21.4\n",
       "\\item 18.7\n",
       "\\item 18.1\n",
       "\\item 14.3\n",
       "\\item 24.4\n",
       "\\item 22.8\n",
       "\\item 19.2\n",
       "\\item 17.8\n",
       "\\item 16.4\n",
       "\\item 17.3\n",
       "\\item 15.2\n",
       "\\item 10.4\n",
       "\\item 10.4\n",
       "\\item 14.7\n",
       "\\item 32.4\n",
       "\\item 30.4\n",
       "\\item 33.9\n",
       "\\item 21.5\n",
       "\\item 15.5\n",
       "\\item 15.2\n",
       "\\item 13.3\n",
       "\\item 19.2\n",
       "\\item 27.3\n",
       "\\item 26\n",
       "\\item 30.4\n",
       "\\item 15.8\n",
       "\\item 19.7\n",
       "\\item 15\n",
       "\\item 21.4\n",
       "\\end{enumerate*}\n"
      ],
      "text/markdown": [
       "1. 21\n",
       "2. 21\n",
       "3. 22.8\n",
       "4. 21.4\n",
       "5. 18.7\n",
       "6. 18.1\n",
       "7. 14.3\n",
       "8. 24.4\n",
       "9. 22.8\n",
       "10. 19.2\n",
       "11. 17.8\n",
       "12. 16.4\n",
       "13. 17.3\n",
       "14. 15.2\n",
       "15. 10.4\n",
       "16. 10.4\n",
       "17. 14.7\n",
       "18. 32.4\n",
       "19. 30.4\n",
       "20. 33.9\n",
       "21. 21.5\n",
       "22. 15.5\n",
       "23. 15.2\n",
       "24. 13.3\n",
       "25. 19.2\n",
       "26. 27.3\n",
       "27. 26\n",
       "28. 30.4\n",
       "29. 15.8\n",
       "30. 19.7\n",
       "31. 15\n",
       "32. 21.4\n",
       "\n",
       "\n"
      ],
      "text/plain": [
       " [1] 21.0 21.0 22.8 21.4 18.7 18.1 14.3 24.4 22.8 19.2 17.8 16.4 17.3 15.2 10.4\n",
       "[16] 10.4 14.7 32.4 30.4 33.9 21.5 15.5 15.2 13.3 19.2 27.3 26.0 30.4 15.8 19.7\n",
       "[31] 15.0 21.4"
      ]
     },
     "metadata": {},
     "output_type": "display_data"
    }
   ],
   "source": [
    "mtcars$mpg # select single column using $ reference"
   ]
  },
  {
   "cell_type": "markdown",
   "metadata": {},
   "source": [
    "## Selecting Rows in Data Frames"
   ]
  },
  {
   "cell_type": "code",
   "execution_count": 65,
   "metadata": {},
   "outputs": [
    {
     "name": "stdout",
     "output_type": "stream",
     "text": [
      "                   mpg cyl disp  hp drat    wt  qsec vs am gear carb\n",
      "Mazda RX4 Wag     21.0   6  160 110 3.90 2.875 17.02  0  1    4    4\n",
      "Datsun 710        22.8   4  108  93 3.85 2.320 18.61  1  1    4    1\n",
      "Hornet Sportabout 18.7   8  360 175 3.15 3.440 17.02  0  0    3    2\n"
     ]
    }
   ],
   "source": [
    "carIndexes <- c(2, 3, 5)   # slice data frame horizontally using row indexes\n",
    "print(mtcars[carIndexes,])"
   ]
  },
  {
   "cell_type": "code",
   "execution_count": 66,
   "metadata": {},
   "outputs": [
    {
     "name": "stdout",
     "output_type": "stream",
     "text": [
      "              mpg cyl  disp  hp drat    wt  qsec vs am gear carb\n",
      "Lotus Europa 30.4   4  95.1 113 3.77 1.513 16.90  1  1    5    2\n",
      "Camaro Z28   13.3   8 350.0 245 3.73 3.840 15.41  0  0    3    4\n",
      "AMC Javelin  15.2   8 304.0 150 3.15 3.435 17.30  0  0    3    2\n"
     ]
    }
   ],
   "source": [
    "carNames <- c(\"Lotus Europa\", \"Camaro Z28\", \"AMC Javelin\")   # slice data frame horizontally using row names\n",
    "print(mtcars[carNames,])"
   ]
  },
  {
   "cell_type": "markdown",
   "metadata": {},
   "source": [
    "## Getting a Subset of a Data Frame"
   ]
  },
  {
   "cell_type": "code",
   "execution_count": 67,
   "metadata": {},
   "outputs": [
    {
     "name": "stdout",
     "output_type": "stream",
     "text": [
      "               hp    wt\n",
      "Mazda RX4     110 2.620\n",
      "Mazda RX4 Wag 110 2.875\n",
      "Datsun 710     93 2.320\n"
     ]
    }
   ],
   "source": [
    "stats <- as.data.frame(mtcars[c(1,2,3), c(\"hp\", \"wt\")]) # some rows and some columns\n",
    "print(stats)"
   ]
  },
  {
   "cell_type": "code",
   "execution_count": 68,
   "metadata": {},
   "outputs": [
    {
     "name": "stdout",
     "output_type": "stream",
     "text": [
      "                     hp    wt\n",
      "Mazda RX4           110 2.620\n",
      "Mazda RX4 Wag       110 2.875\n",
      "Datsun 710           93 2.320\n",
      "Hornet 4 Drive      110 3.215\n",
      "Hornet Sportabout   175 3.440\n",
      "Valiant             105 3.460\n",
      "Duster 360          245 3.570\n",
      "Merc 240D            62 3.190\n",
      "Merc 230             95 3.150\n",
      "Merc 280            123 3.440\n",
      "Merc 280C           123 3.440\n",
      "Merc 450SE          180 4.070\n",
      "Merc 450SL          180 3.730\n",
      "Merc 450SLC         180 3.780\n",
      "Cadillac Fleetwood  205 5.250\n",
      "Lincoln Continental 215 5.424\n",
      "Chrysler Imperial   230 5.345\n",
      "Fiat 128             66 2.200\n",
      "Honda Civic          52 1.615\n",
      "Toyota Corolla       65 1.835\n",
      "Toyota Corona        97 2.465\n",
      "Dodge Challenger    150 3.520\n",
      "AMC Javelin         150 3.435\n",
      "Camaro Z28          245 3.840\n",
      "Pontiac Firebird    175 3.845\n",
      "Fiat X1-9            66 1.935\n",
      "Porsche 914-2        91 2.140\n",
      "Lotus Europa        113 1.513\n",
      "Ford Pantera L      264 3.170\n",
      "Ferrari Dino        175 2.770\n",
      "Maserati Bora       335 3.570\n",
      "Volvo 142E          109 2.780\n"
     ]
    }
   ],
   "source": [
    "stats <- as.data.frame(mtcars[, c(\"hp\", \"wt\")])         # all rows and some columns\n",
    "print(stats)"
   ]
  },
  {
   "cell_type": "code",
   "execution_count": 69,
   "metadata": {},
   "outputs": [
    {
     "name": "stdout",
     "output_type": "stream",
     "text": [
      "               mpg cyl disp  hp drat    wt  qsec vs am gear carb\n",
      "Mazda RX4     21.0   6  160 110 3.90 2.620 16.46  0  1    4    4\n",
      "Mazda RX4 Wag 21.0   6  160 110 3.90 2.875 17.02  0  1    4    4\n",
      "Datsun 710    22.8   4  108  93 3.85 2.320 18.61  1  1    4    1\n"
     ]
    }
   ],
   "source": [
    "stats <- as.data.frame(mtcars[c(1,2,3),]) # some rows and all columns\n",
    "print(stats)"
   ]
  },
  {
   "cell_type": "markdown",
   "metadata": {},
   "source": [
    "## Sorting Data in Data Frame by Attributes"
   ]
  },
  {
   "cell_type": "code",
   "execution_count": 70,
   "metadata": {},
   "outputs": [
    {
     "data": {
      "text/html": [
       "<table>\n",
       "<thead><tr><th></th><th scope=col>mpg</th><th scope=col>cyl</th><th scope=col>disp</th><th scope=col>hp</th><th scope=col>drat</th><th scope=col>wt</th><th scope=col>qsec</th><th scope=col>vs</th><th scope=col>am</th><th scope=col>gear</th><th scope=col>carb</th></tr></thead>\n",
       "<tbody>\n",
       "\t<tr><th scope=row>Cadillac Fleetwood</th><td>10.4 </td><td>8    </td><td>472.0</td><td>205  </td><td>2.93 </td><td>5.250</td><td>17.98</td><td>0    </td><td>0    </td><td>3    </td><td>4    </td></tr>\n",
       "\t<tr><th scope=row>Lincoln Continental</th><td>10.4 </td><td>8    </td><td>460.0</td><td>215  </td><td>3.00 </td><td>5.424</td><td>17.82</td><td>0    </td><td>0    </td><td>3    </td><td>4    </td></tr>\n",
       "\t<tr><th scope=row>Camaro Z28</th><td>13.3 </td><td>8    </td><td>350.0</td><td>245  </td><td>3.73 </td><td>3.840</td><td>15.41</td><td>0    </td><td>0    </td><td>3    </td><td>4    </td></tr>\n",
       "\t<tr><th scope=row>Duster 360</th><td>14.3 </td><td>8    </td><td>360.0</td><td>245  </td><td>3.21 </td><td>3.570</td><td>15.84</td><td>0    </td><td>0    </td><td>3    </td><td>4    </td></tr>\n",
       "\t<tr><th scope=row>Chrysler Imperial</th><td>14.7 </td><td>8    </td><td>440.0</td><td>230  </td><td>3.23 </td><td>5.345</td><td>17.42</td><td>0    </td><td>0    </td><td>3    </td><td>4    </td></tr>\n",
       "\t<tr><th scope=row>Maserati Bora</th><td>15.0 </td><td>8    </td><td>301.0</td><td>335  </td><td>3.54 </td><td>3.570</td><td>14.60</td><td>0    </td><td>1    </td><td>5    </td><td>8    </td></tr>\n",
       "\t<tr><th scope=row>Merc 450SLC</th><td>15.2 </td><td>8    </td><td>275.8</td><td>180  </td><td>3.07 </td><td>3.780</td><td>18.00</td><td>0    </td><td>0    </td><td>3    </td><td>3    </td></tr>\n",
       "\t<tr><th scope=row>AMC Javelin</th><td>15.2 </td><td>8    </td><td>304.0</td><td>150  </td><td>3.15 </td><td>3.435</td><td>17.30</td><td>0    </td><td>0    </td><td>3    </td><td>2    </td></tr>\n",
       "\t<tr><th scope=row>Dodge Challenger</th><td>15.5 </td><td>8    </td><td>318.0</td><td>150  </td><td>2.76 </td><td>3.520</td><td>16.87</td><td>0    </td><td>0    </td><td>3    </td><td>2    </td></tr>\n",
       "\t<tr><th scope=row>Ford Pantera L</th><td>15.8 </td><td>8    </td><td>351.0</td><td>264  </td><td>4.22 </td><td>3.170</td><td>14.50</td><td>0    </td><td>1    </td><td>5    </td><td>4    </td></tr>\n",
       "\t<tr><th scope=row>Merc 450SE</th><td>16.4 </td><td>8    </td><td>275.8</td><td>180  </td><td>3.07 </td><td>4.070</td><td>17.40</td><td>0    </td><td>0    </td><td>3    </td><td>3    </td></tr>\n",
       "\t<tr><th scope=row>Merc 450SL</th><td>17.3 </td><td>8    </td><td>275.8</td><td>180  </td><td>3.07 </td><td>3.730</td><td>17.60</td><td>0    </td><td>0    </td><td>3    </td><td>3    </td></tr>\n",
       "\t<tr><th scope=row>Merc 280C</th><td>17.8 </td><td>6    </td><td>167.6</td><td>123  </td><td>3.92 </td><td>3.440</td><td>18.90</td><td>1    </td><td>0    </td><td>4    </td><td>4    </td></tr>\n",
       "\t<tr><th scope=row>Valiant</th><td>18.1 </td><td>6    </td><td>225.0</td><td>105  </td><td>2.76 </td><td>3.460</td><td>20.22</td><td>1    </td><td>0    </td><td>3    </td><td>1    </td></tr>\n",
       "\t<tr><th scope=row>Hornet Sportabout</th><td>18.7 </td><td>8    </td><td>360.0</td><td>175  </td><td>3.15 </td><td>3.440</td><td>17.02</td><td>0    </td><td>0    </td><td>3    </td><td>2    </td></tr>\n",
       "\t<tr><th scope=row>Merc 280</th><td>19.2 </td><td>6    </td><td>167.6</td><td>123  </td><td>3.92 </td><td>3.440</td><td>18.30</td><td>1    </td><td>0    </td><td>4    </td><td>4    </td></tr>\n",
       "\t<tr><th scope=row>Pontiac Firebird</th><td>19.2 </td><td>8    </td><td>400.0</td><td>175  </td><td>3.08 </td><td>3.845</td><td>17.05</td><td>0    </td><td>0    </td><td>3    </td><td>2    </td></tr>\n",
       "\t<tr><th scope=row>Ferrari Dino</th><td>19.7 </td><td>6    </td><td>145.0</td><td>175  </td><td>3.62 </td><td>2.770</td><td>15.50</td><td>0    </td><td>1    </td><td>5    </td><td>6    </td></tr>\n",
       "\t<tr><th scope=row>Mazda RX4</th><td>21.0 </td><td>6    </td><td>160.0</td><td>110  </td><td>3.90 </td><td>2.620</td><td>16.46</td><td>0    </td><td>1    </td><td>4    </td><td>4    </td></tr>\n",
       "\t<tr><th scope=row>Mazda RX4 Wag</th><td>21.0 </td><td>6    </td><td>160.0</td><td>110  </td><td>3.90 </td><td>2.875</td><td>17.02</td><td>0    </td><td>1    </td><td>4    </td><td>4    </td></tr>\n",
       "\t<tr><th scope=row>Hornet 4 Drive</th><td>21.4 </td><td>6    </td><td>258.0</td><td>110  </td><td>3.08 </td><td>3.215</td><td>19.44</td><td>1    </td><td>0    </td><td>3    </td><td>1    </td></tr>\n",
       "\t<tr><th scope=row>Volvo 142E</th><td>21.4 </td><td>4    </td><td>121.0</td><td>109  </td><td>4.11 </td><td>2.780</td><td>18.60</td><td>1    </td><td>1    </td><td>4    </td><td>2    </td></tr>\n",
       "\t<tr><th scope=row>Toyota Corona</th><td>21.5 </td><td>4    </td><td>120.1</td><td> 97  </td><td>3.70 </td><td>2.465</td><td>20.01</td><td>1    </td><td>0    </td><td>3    </td><td>1    </td></tr>\n",
       "\t<tr><th scope=row>Datsun 710</th><td>22.8 </td><td>4    </td><td>108.0</td><td> 93  </td><td>3.85 </td><td>2.320</td><td>18.61</td><td>1    </td><td>1    </td><td>4    </td><td>1    </td></tr>\n",
       "\t<tr><th scope=row>Merc 230</th><td>22.8 </td><td>4    </td><td>140.8</td><td> 95  </td><td>3.92 </td><td>3.150</td><td>22.90</td><td>1    </td><td>0    </td><td>4    </td><td>2    </td></tr>\n",
       "\t<tr><th scope=row>Merc 240D</th><td>24.4 </td><td>4    </td><td>146.7</td><td> 62  </td><td>3.69 </td><td>3.190</td><td>20.00</td><td>1    </td><td>0    </td><td>4    </td><td>2    </td></tr>\n",
       "\t<tr><th scope=row>Porsche 914-2</th><td>26.0 </td><td>4    </td><td>120.3</td><td> 91  </td><td>4.43 </td><td>2.140</td><td>16.70</td><td>0    </td><td>1    </td><td>5    </td><td>2    </td></tr>\n",
       "\t<tr><th scope=row>Fiat X1-9</th><td>27.3 </td><td>4    </td><td> 79.0</td><td> 66  </td><td>4.08 </td><td>1.935</td><td>18.90</td><td>1    </td><td>1    </td><td>4    </td><td>1    </td></tr>\n",
       "\t<tr><th scope=row>Honda Civic</th><td>30.4 </td><td>4    </td><td> 75.7</td><td> 52  </td><td>4.93 </td><td>1.615</td><td>18.52</td><td>1    </td><td>1    </td><td>4    </td><td>2    </td></tr>\n",
       "\t<tr><th scope=row>Lotus Europa</th><td>30.4 </td><td>4    </td><td> 95.1</td><td>113  </td><td>3.77 </td><td>1.513</td><td>16.90</td><td>1    </td><td>1    </td><td>5    </td><td>2    </td></tr>\n",
       "\t<tr><th scope=row>Fiat 128</th><td>32.4 </td><td>4    </td><td> 78.7</td><td> 66  </td><td>4.08 </td><td>2.200</td><td>19.47</td><td>1    </td><td>1    </td><td>4    </td><td>1    </td></tr>\n",
       "\t<tr><th scope=row>Toyota Corolla</th><td>33.9 </td><td>4    </td><td> 71.1</td><td> 65  </td><td>4.22 </td><td>1.835</td><td>19.90</td><td>1    </td><td>1    </td><td>4    </td><td>1    </td></tr>\n",
       "</tbody>\n",
       "</table>\n"
      ],
      "text/latex": [
       "\\begin{tabular}{r|lllllllllll}\n",
       "  & mpg & cyl & disp & hp & drat & wt & qsec & vs & am & gear & carb\\\\\n",
       "\\hline\n",
       "\tCadillac Fleetwood & 10.4  & 8     & 472.0 & 205   & 2.93  & 5.250 & 17.98 & 0     & 0     & 3     & 4    \\\\\n",
       "\tLincoln Continental & 10.4  & 8     & 460.0 & 215   & 3.00  & 5.424 & 17.82 & 0     & 0     & 3     & 4    \\\\\n",
       "\tCamaro Z28 & 13.3  & 8     & 350.0 & 245   & 3.73  & 3.840 & 15.41 & 0     & 0     & 3     & 4    \\\\\n",
       "\tDuster 360 & 14.3  & 8     & 360.0 & 245   & 3.21  & 3.570 & 15.84 & 0     & 0     & 3     & 4    \\\\\n",
       "\tChrysler Imperial & 14.7  & 8     & 440.0 & 230   & 3.23  & 5.345 & 17.42 & 0     & 0     & 3     & 4    \\\\\n",
       "\tMaserati Bora & 15.0  & 8     & 301.0 & 335   & 3.54  & 3.570 & 14.60 & 0     & 1     & 5     & 8    \\\\\n",
       "\tMerc 450SLC & 15.2  & 8     & 275.8 & 180   & 3.07  & 3.780 & 18.00 & 0     & 0     & 3     & 3    \\\\\n",
       "\tAMC Javelin & 15.2  & 8     & 304.0 & 150   & 3.15  & 3.435 & 17.30 & 0     & 0     & 3     & 2    \\\\\n",
       "\tDodge Challenger & 15.5  & 8     & 318.0 & 150   & 2.76  & 3.520 & 16.87 & 0     & 0     & 3     & 2    \\\\\n",
       "\tFord Pantera L & 15.8  & 8     & 351.0 & 264   & 4.22  & 3.170 & 14.50 & 0     & 1     & 5     & 4    \\\\\n",
       "\tMerc 450SE & 16.4  & 8     & 275.8 & 180   & 3.07  & 4.070 & 17.40 & 0     & 0     & 3     & 3    \\\\\n",
       "\tMerc 450SL & 17.3  & 8     & 275.8 & 180   & 3.07  & 3.730 & 17.60 & 0     & 0     & 3     & 3    \\\\\n",
       "\tMerc 280C & 17.8  & 6     & 167.6 & 123   & 3.92  & 3.440 & 18.90 & 1     & 0     & 4     & 4    \\\\\n",
       "\tValiant & 18.1  & 6     & 225.0 & 105   & 2.76  & 3.460 & 20.22 & 1     & 0     & 3     & 1    \\\\\n",
       "\tHornet Sportabout & 18.7  & 8     & 360.0 & 175   & 3.15  & 3.440 & 17.02 & 0     & 0     & 3     & 2    \\\\\n",
       "\tMerc 280 & 19.2  & 6     & 167.6 & 123   & 3.92  & 3.440 & 18.30 & 1     & 0     & 4     & 4    \\\\\n",
       "\tPontiac Firebird & 19.2  & 8     & 400.0 & 175   & 3.08  & 3.845 & 17.05 & 0     & 0     & 3     & 2    \\\\\n",
       "\tFerrari Dino & 19.7  & 6     & 145.0 & 175   & 3.62  & 2.770 & 15.50 & 0     & 1     & 5     & 6    \\\\\n",
       "\tMazda RX4 & 21.0  & 6     & 160.0 & 110   & 3.90  & 2.620 & 16.46 & 0     & 1     & 4     & 4    \\\\\n",
       "\tMazda RX4 Wag & 21.0  & 6     & 160.0 & 110   & 3.90  & 2.875 & 17.02 & 0     & 1     & 4     & 4    \\\\\n",
       "\tHornet 4 Drive & 21.4  & 6     & 258.0 & 110   & 3.08  & 3.215 & 19.44 & 1     & 0     & 3     & 1    \\\\\n",
       "\tVolvo 142E & 21.4  & 4     & 121.0 & 109   & 4.11  & 2.780 & 18.60 & 1     & 1     & 4     & 2    \\\\\n",
       "\tToyota Corona & 21.5  & 4     & 120.1 &  97   & 3.70  & 2.465 & 20.01 & 1     & 0     & 3     & 1    \\\\\n",
       "\tDatsun 710 & 22.8  & 4     & 108.0 &  93   & 3.85  & 2.320 & 18.61 & 1     & 1     & 4     & 1    \\\\\n",
       "\tMerc 230 & 22.8  & 4     & 140.8 &  95   & 3.92  & 3.150 & 22.90 & 1     & 0     & 4     & 2    \\\\\n",
       "\tMerc 240D & 24.4  & 4     & 146.7 &  62   & 3.69  & 3.190 & 20.00 & 1     & 0     & 4     & 2    \\\\\n",
       "\tPorsche 914-2 & 26.0  & 4     & 120.3 &  91   & 4.43  & 2.140 & 16.70 & 0     & 1     & 5     & 2    \\\\\n",
       "\tFiat X1-9 & 27.3  & 4     &  79.0 &  66   & 4.08  & 1.935 & 18.90 & 1     & 1     & 4     & 1    \\\\\n",
       "\tHonda Civic & 30.4  & 4     &  75.7 &  52   & 4.93  & 1.615 & 18.52 & 1     & 1     & 4     & 2    \\\\\n",
       "\tLotus Europa & 30.4  & 4     &  95.1 & 113   & 3.77  & 1.513 & 16.90 & 1     & 1     & 5     & 2    \\\\\n",
       "\tFiat 128 & 32.4  & 4     &  78.7 &  66   & 4.08  & 2.200 & 19.47 & 1     & 1     & 4     & 1    \\\\\n",
       "\tToyota Corolla & 33.9  & 4     &  71.1 &  65   & 4.22  & 1.835 & 19.90 & 1     & 1     & 4     & 1    \\\\\n",
       "\\end{tabular}\n"
      ],
      "text/markdown": [
       "\n",
       "| <!--/--> | mpg | cyl | disp | hp | drat | wt | qsec | vs | am | gear | carb | \n",
       "|---|---|---|---|---|---|---|---|---|---|---|---|---|---|---|---|---|---|---|---|---|---|---|---|---|---|---|---|---|---|---|---|\n",
       "| Cadillac Fleetwood | 10.4  | 8     | 472.0 | 205   | 2.93  | 5.250 | 17.98 | 0     | 0     | 3     | 4     | \n",
       "| Lincoln Continental | 10.4  | 8     | 460.0 | 215   | 3.00  | 5.424 | 17.82 | 0     | 0     | 3     | 4     | \n",
       "| Camaro Z28 | 13.3  | 8     | 350.0 | 245   | 3.73  | 3.840 | 15.41 | 0     | 0     | 3     | 4     | \n",
       "| Duster 360 | 14.3  | 8     | 360.0 | 245   | 3.21  | 3.570 | 15.84 | 0     | 0     | 3     | 4     | \n",
       "| Chrysler Imperial | 14.7  | 8     | 440.0 | 230   | 3.23  | 5.345 | 17.42 | 0     | 0     | 3     | 4     | \n",
       "| Maserati Bora | 15.0  | 8     | 301.0 | 335   | 3.54  | 3.570 | 14.60 | 0     | 1     | 5     | 8     | \n",
       "| Merc 450SLC | 15.2  | 8     | 275.8 | 180   | 3.07  | 3.780 | 18.00 | 0     | 0     | 3     | 3     | \n",
       "| AMC Javelin | 15.2  | 8     | 304.0 | 150   | 3.15  | 3.435 | 17.30 | 0     | 0     | 3     | 2     | \n",
       "| Dodge Challenger | 15.5  | 8     | 318.0 | 150   | 2.76  | 3.520 | 16.87 | 0     | 0     | 3     | 2     | \n",
       "| Ford Pantera L | 15.8  | 8     | 351.0 | 264   | 4.22  | 3.170 | 14.50 | 0     | 1     | 5     | 4     | \n",
       "| Merc 450SE | 16.4  | 8     | 275.8 | 180   | 3.07  | 4.070 | 17.40 | 0     | 0     | 3     | 3     | \n",
       "| Merc 450SL | 17.3  | 8     | 275.8 | 180   | 3.07  | 3.730 | 17.60 | 0     | 0     | 3     | 3     | \n",
       "| Merc 280C | 17.8  | 6     | 167.6 | 123   | 3.92  | 3.440 | 18.90 | 1     | 0     | 4     | 4     | \n",
       "| Valiant | 18.1  | 6     | 225.0 | 105   | 2.76  | 3.460 | 20.22 | 1     | 0     | 3     | 1     | \n",
       "| Hornet Sportabout | 18.7  | 8     | 360.0 | 175   | 3.15  | 3.440 | 17.02 | 0     | 0     | 3     | 2     | \n",
       "| Merc 280 | 19.2  | 6     | 167.6 | 123   | 3.92  | 3.440 | 18.30 | 1     | 0     | 4     | 4     | \n",
       "| Pontiac Firebird | 19.2  | 8     | 400.0 | 175   | 3.08  | 3.845 | 17.05 | 0     | 0     | 3     | 2     | \n",
       "| Ferrari Dino | 19.7  | 6     | 145.0 | 175   | 3.62  | 2.770 | 15.50 | 0     | 1     | 5     | 6     | \n",
       "| Mazda RX4 | 21.0  | 6     | 160.0 | 110   | 3.90  | 2.620 | 16.46 | 0     | 1     | 4     | 4     | \n",
       "| Mazda RX4 Wag | 21.0  | 6     | 160.0 | 110   | 3.90  | 2.875 | 17.02 | 0     | 1     | 4     | 4     | \n",
       "| Hornet 4 Drive | 21.4  | 6     | 258.0 | 110   | 3.08  | 3.215 | 19.44 | 1     | 0     | 3     | 1     | \n",
       "| Volvo 142E | 21.4  | 4     | 121.0 | 109   | 4.11  | 2.780 | 18.60 | 1     | 1     | 4     | 2     | \n",
       "| Toyota Corona | 21.5  | 4     | 120.1 |  97   | 3.70  | 2.465 | 20.01 | 1     | 0     | 3     | 1     | \n",
       "| Datsun 710 | 22.8  | 4     | 108.0 |  93   | 3.85  | 2.320 | 18.61 | 1     | 1     | 4     | 1     | \n",
       "| Merc 230 | 22.8  | 4     | 140.8 |  95   | 3.92  | 3.150 | 22.90 | 1     | 0     | 4     | 2     | \n",
       "| Merc 240D | 24.4  | 4     | 146.7 |  62   | 3.69  | 3.190 | 20.00 | 1     | 0     | 4     | 2     | \n",
       "| Porsche 914-2 | 26.0  | 4     | 120.3 |  91   | 4.43  | 2.140 | 16.70 | 0     | 1     | 5     | 2     | \n",
       "| Fiat X1-9 | 27.3  | 4     |  79.0 |  66   | 4.08  | 1.935 | 18.90 | 1     | 1     | 4     | 1     | \n",
       "| Honda Civic | 30.4  | 4     |  75.7 |  52   | 4.93  | 1.615 | 18.52 | 1     | 1     | 4     | 2     | \n",
       "| Lotus Europa | 30.4  | 4     |  95.1 | 113   | 3.77  | 1.513 | 16.90 | 1     | 1     | 5     | 2     | \n",
       "| Fiat 128 | 32.4  | 4     |  78.7 |  66   | 4.08  | 2.200 | 19.47 | 1     | 1     | 4     | 1     | \n",
       "| Toyota Corolla | 33.9  | 4     |  71.1 |  65   | 4.22  | 1.835 | 19.90 | 1     | 1     | 4     | 1     | \n",
       "\n",
       "\n"
      ],
      "text/plain": [
       "                    mpg  cyl disp  hp  drat wt    qsec  vs am gear carb\n",
       "Cadillac Fleetwood  10.4 8   472.0 205 2.93 5.250 17.98 0  0  3    4   \n",
       "Lincoln Continental 10.4 8   460.0 215 3.00 5.424 17.82 0  0  3    4   \n",
       "Camaro Z28          13.3 8   350.0 245 3.73 3.840 15.41 0  0  3    4   \n",
       "Duster 360          14.3 8   360.0 245 3.21 3.570 15.84 0  0  3    4   \n",
       "Chrysler Imperial   14.7 8   440.0 230 3.23 5.345 17.42 0  0  3    4   \n",
       "Maserati Bora       15.0 8   301.0 335 3.54 3.570 14.60 0  1  5    8   \n",
       "Merc 450SLC         15.2 8   275.8 180 3.07 3.780 18.00 0  0  3    3   \n",
       "AMC Javelin         15.2 8   304.0 150 3.15 3.435 17.30 0  0  3    2   \n",
       "Dodge Challenger    15.5 8   318.0 150 2.76 3.520 16.87 0  0  3    2   \n",
       "Ford Pantera L      15.8 8   351.0 264 4.22 3.170 14.50 0  1  5    4   \n",
       "Merc 450SE          16.4 8   275.8 180 3.07 4.070 17.40 0  0  3    3   \n",
       "Merc 450SL          17.3 8   275.8 180 3.07 3.730 17.60 0  0  3    3   \n",
       "Merc 280C           17.8 6   167.6 123 3.92 3.440 18.90 1  0  4    4   \n",
       "Valiant             18.1 6   225.0 105 2.76 3.460 20.22 1  0  3    1   \n",
       "Hornet Sportabout   18.7 8   360.0 175 3.15 3.440 17.02 0  0  3    2   \n",
       "Merc 280            19.2 6   167.6 123 3.92 3.440 18.30 1  0  4    4   \n",
       "Pontiac Firebird    19.2 8   400.0 175 3.08 3.845 17.05 0  0  3    2   \n",
       "Ferrari Dino        19.7 6   145.0 175 3.62 2.770 15.50 0  1  5    6   \n",
       "Mazda RX4           21.0 6   160.0 110 3.90 2.620 16.46 0  1  4    4   \n",
       "Mazda RX4 Wag       21.0 6   160.0 110 3.90 2.875 17.02 0  1  4    4   \n",
       "Hornet 4 Drive      21.4 6   258.0 110 3.08 3.215 19.44 1  0  3    1   \n",
       "Volvo 142E          21.4 4   121.0 109 4.11 2.780 18.60 1  1  4    2   \n",
       "Toyota Corona       21.5 4   120.1  97 3.70 2.465 20.01 1  0  3    1   \n",
       "Datsun 710          22.8 4   108.0  93 3.85 2.320 18.61 1  1  4    1   \n",
       "Merc 230            22.8 4   140.8  95 3.92 3.150 22.90 1  0  4    2   \n",
       "Merc 240D           24.4 4   146.7  62 3.69 3.190 20.00 1  0  4    2   \n",
       "Porsche 914-2       26.0 4   120.3  91 4.43 2.140 16.70 0  1  5    2   \n",
       "Fiat X1-9           27.3 4    79.0  66 4.08 1.935 18.90 1  1  4    1   \n",
       "Honda Civic         30.4 4    75.7  52 4.93 1.615 18.52 1  1  4    2   \n",
       "Lotus Europa        30.4 4    95.1 113 3.77 1.513 16.90 1  1  5    2   \n",
       "Fiat 128            32.4 4    78.7  66 4.08 2.200 19.47 1  1  4    1   \n",
       "Toyota Corolla      33.9 4    71.1  65 4.22 1.835 19.90 1  1  4    1   "
      ]
     },
     "metadata": {},
     "output_type": "display_data"
    }
   ],
   "source": [
    "sortedDF <- mtcars[order(mtcars$mpg),] # ascending\n",
    "sortedDF"
   ]
  },
  {
   "cell_type": "code",
   "execution_count": 71,
   "metadata": {},
   "outputs": [
    {
     "data": {
      "text/html": [
       "<table>\n",
       "<thead><tr><th></th><th scope=col>mpg</th><th scope=col>cyl</th><th scope=col>disp</th><th scope=col>hp</th><th scope=col>drat</th><th scope=col>wt</th><th scope=col>qsec</th><th scope=col>vs</th><th scope=col>am</th><th scope=col>gear</th><th scope=col>carb</th></tr></thead>\n",
       "<tbody>\n",
       "\t<tr><th scope=row>Toyota Corolla</th><td>33.9 </td><td>4    </td><td> 71.1</td><td> 65  </td><td>4.22 </td><td>1.835</td><td>19.90</td><td>1    </td><td>1    </td><td>4    </td><td>1    </td></tr>\n",
       "\t<tr><th scope=row>Fiat 128</th><td>32.4 </td><td>4    </td><td> 78.7</td><td> 66  </td><td>4.08 </td><td>2.200</td><td>19.47</td><td>1    </td><td>1    </td><td>4    </td><td>1    </td></tr>\n",
       "\t<tr><th scope=row>Honda Civic</th><td>30.4 </td><td>4    </td><td> 75.7</td><td> 52  </td><td>4.93 </td><td>1.615</td><td>18.52</td><td>1    </td><td>1    </td><td>4    </td><td>2    </td></tr>\n",
       "\t<tr><th scope=row>Lotus Europa</th><td>30.4 </td><td>4    </td><td> 95.1</td><td>113  </td><td>3.77 </td><td>1.513</td><td>16.90</td><td>1    </td><td>1    </td><td>5    </td><td>2    </td></tr>\n",
       "\t<tr><th scope=row>Fiat X1-9</th><td>27.3 </td><td>4    </td><td> 79.0</td><td> 66  </td><td>4.08 </td><td>1.935</td><td>18.90</td><td>1    </td><td>1    </td><td>4    </td><td>1    </td></tr>\n",
       "\t<tr><th scope=row>Porsche 914-2</th><td>26.0 </td><td>4    </td><td>120.3</td><td> 91  </td><td>4.43 </td><td>2.140</td><td>16.70</td><td>0    </td><td>1    </td><td>5    </td><td>2    </td></tr>\n",
       "\t<tr><th scope=row>Merc 240D</th><td>24.4 </td><td>4    </td><td>146.7</td><td> 62  </td><td>3.69 </td><td>3.190</td><td>20.00</td><td>1    </td><td>0    </td><td>4    </td><td>2    </td></tr>\n",
       "\t<tr><th scope=row>Datsun 710</th><td>22.8 </td><td>4    </td><td>108.0</td><td> 93  </td><td>3.85 </td><td>2.320</td><td>18.61</td><td>1    </td><td>1    </td><td>4    </td><td>1    </td></tr>\n",
       "\t<tr><th scope=row>Merc 230</th><td>22.8 </td><td>4    </td><td>140.8</td><td> 95  </td><td>3.92 </td><td>3.150</td><td>22.90</td><td>1    </td><td>0    </td><td>4    </td><td>2    </td></tr>\n",
       "\t<tr><th scope=row>Toyota Corona</th><td>21.5 </td><td>4    </td><td>120.1</td><td> 97  </td><td>3.70 </td><td>2.465</td><td>20.01</td><td>1    </td><td>0    </td><td>3    </td><td>1    </td></tr>\n",
       "\t<tr><th scope=row>Hornet 4 Drive</th><td>21.4 </td><td>6    </td><td>258.0</td><td>110  </td><td>3.08 </td><td>3.215</td><td>19.44</td><td>1    </td><td>0    </td><td>3    </td><td>1    </td></tr>\n",
       "\t<tr><th scope=row>Volvo 142E</th><td>21.4 </td><td>4    </td><td>121.0</td><td>109  </td><td>4.11 </td><td>2.780</td><td>18.60</td><td>1    </td><td>1    </td><td>4    </td><td>2    </td></tr>\n",
       "\t<tr><th scope=row>Mazda RX4</th><td>21.0 </td><td>6    </td><td>160.0</td><td>110  </td><td>3.90 </td><td>2.620</td><td>16.46</td><td>0    </td><td>1    </td><td>4    </td><td>4    </td></tr>\n",
       "\t<tr><th scope=row>Mazda RX4 Wag</th><td>21.0 </td><td>6    </td><td>160.0</td><td>110  </td><td>3.90 </td><td>2.875</td><td>17.02</td><td>0    </td><td>1    </td><td>4    </td><td>4    </td></tr>\n",
       "\t<tr><th scope=row>Ferrari Dino</th><td>19.7 </td><td>6    </td><td>145.0</td><td>175  </td><td>3.62 </td><td>2.770</td><td>15.50</td><td>0    </td><td>1    </td><td>5    </td><td>6    </td></tr>\n",
       "\t<tr><th scope=row>Merc 280</th><td>19.2 </td><td>6    </td><td>167.6</td><td>123  </td><td>3.92 </td><td>3.440</td><td>18.30</td><td>1    </td><td>0    </td><td>4    </td><td>4    </td></tr>\n",
       "\t<tr><th scope=row>Pontiac Firebird</th><td>19.2 </td><td>8    </td><td>400.0</td><td>175  </td><td>3.08 </td><td>3.845</td><td>17.05</td><td>0    </td><td>0    </td><td>3    </td><td>2    </td></tr>\n",
       "\t<tr><th scope=row>Hornet Sportabout</th><td>18.7 </td><td>8    </td><td>360.0</td><td>175  </td><td>3.15 </td><td>3.440</td><td>17.02</td><td>0    </td><td>0    </td><td>3    </td><td>2    </td></tr>\n",
       "\t<tr><th scope=row>Valiant</th><td>18.1 </td><td>6    </td><td>225.0</td><td>105  </td><td>2.76 </td><td>3.460</td><td>20.22</td><td>1    </td><td>0    </td><td>3    </td><td>1    </td></tr>\n",
       "\t<tr><th scope=row>Merc 280C</th><td>17.8 </td><td>6    </td><td>167.6</td><td>123  </td><td>3.92 </td><td>3.440</td><td>18.90</td><td>1    </td><td>0    </td><td>4    </td><td>4    </td></tr>\n",
       "\t<tr><th scope=row>Merc 450SL</th><td>17.3 </td><td>8    </td><td>275.8</td><td>180  </td><td>3.07 </td><td>3.730</td><td>17.60</td><td>0    </td><td>0    </td><td>3    </td><td>3    </td></tr>\n",
       "\t<tr><th scope=row>Merc 450SE</th><td>16.4 </td><td>8    </td><td>275.8</td><td>180  </td><td>3.07 </td><td>4.070</td><td>17.40</td><td>0    </td><td>0    </td><td>3    </td><td>3    </td></tr>\n",
       "\t<tr><th scope=row>Ford Pantera L</th><td>15.8 </td><td>8    </td><td>351.0</td><td>264  </td><td>4.22 </td><td>3.170</td><td>14.50</td><td>0    </td><td>1    </td><td>5    </td><td>4    </td></tr>\n",
       "\t<tr><th scope=row>Dodge Challenger</th><td>15.5 </td><td>8    </td><td>318.0</td><td>150  </td><td>2.76 </td><td>3.520</td><td>16.87</td><td>0    </td><td>0    </td><td>3    </td><td>2    </td></tr>\n",
       "\t<tr><th scope=row>Merc 450SLC</th><td>15.2 </td><td>8    </td><td>275.8</td><td>180  </td><td>3.07 </td><td>3.780</td><td>18.00</td><td>0    </td><td>0    </td><td>3    </td><td>3    </td></tr>\n",
       "\t<tr><th scope=row>AMC Javelin</th><td>15.2 </td><td>8    </td><td>304.0</td><td>150  </td><td>3.15 </td><td>3.435</td><td>17.30</td><td>0    </td><td>0    </td><td>3    </td><td>2    </td></tr>\n",
       "\t<tr><th scope=row>Maserati Bora</th><td>15.0 </td><td>8    </td><td>301.0</td><td>335  </td><td>3.54 </td><td>3.570</td><td>14.60</td><td>0    </td><td>1    </td><td>5    </td><td>8    </td></tr>\n",
       "\t<tr><th scope=row>Chrysler Imperial</th><td>14.7 </td><td>8    </td><td>440.0</td><td>230  </td><td>3.23 </td><td>5.345</td><td>17.42</td><td>0    </td><td>0    </td><td>3    </td><td>4    </td></tr>\n",
       "\t<tr><th scope=row>Duster 360</th><td>14.3 </td><td>8    </td><td>360.0</td><td>245  </td><td>3.21 </td><td>3.570</td><td>15.84</td><td>0    </td><td>0    </td><td>3    </td><td>4    </td></tr>\n",
       "\t<tr><th scope=row>Camaro Z28</th><td>13.3 </td><td>8    </td><td>350.0</td><td>245  </td><td>3.73 </td><td>3.840</td><td>15.41</td><td>0    </td><td>0    </td><td>3    </td><td>4    </td></tr>\n",
       "\t<tr><th scope=row>Cadillac Fleetwood</th><td>10.4 </td><td>8    </td><td>472.0</td><td>205  </td><td>2.93 </td><td>5.250</td><td>17.98</td><td>0    </td><td>0    </td><td>3    </td><td>4    </td></tr>\n",
       "\t<tr><th scope=row>Lincoln Continental</th><td>10.4 </td><td>8    </td><td>460.0</td><td>215  </td><td>3.00 </td><td>5.424</td><td>17.82</td><td>0    </td><td>0    </td><td>3    </td><td>4    </td></tr>\n",
       "</tbody>\n",
       "</table>\n"
      ],
      "text/latex": [
       "\\begin{tabular}{r|lllllllllll}\n",
       "  & mpg & cyl & disp & hp & drat & wt & qsec & vs & am & gear & carb\\\\\n",
       "\\hline\n",
       "\tToyota Corolla & 33.9  & 4     &  71.1 &  65   & 4.22  & 1.835 & 19.90 & 1     & 1     & 4     & 1    \\\\\n",
       "\tFiat 128 & 32.4  & 4     &  78.7 &  66   & 4.08  & 2.200 & 19.47 & 1     & 1     & 4     & 1    \\\\\n",
       "\tHonda Civic & 30.4  & 4     &  75.7 &  52   & 4.93  & 1.615 & 18.52 & 1     & 1     & 4     & 2    \\\\\n",
       "\tLotus Europa & 30.4  & 4     &  95.1 & 113   & 3.77  & 1.513 & 16.90 & 1     & 1     & 5     & 2    \\\\\n",
       "\tFiat X1-9 & 27.3  & 4     &  79.0 &  66   & 4.08  & 1.935 & 18.90 & 1     & 1     & 4     & 1    \\\\\n",
       "\tPorsche 914-2 & 26.0  & 4     & 120.3 &  91   & 4.43  & 2.140 & 16.70 & 0     & 1     & 5     & 2    \\\\\n",
       "\tMerc 240D & 24.4  & 4     & 146.7 &  62   & 3.69  & 3.190 & 20.00 & 1     & 0     & 4     & 2    \\\\\n",
       "\tDatsun 710 & 22.8  & 4     & 108.0 &  93   & 3.85  & 2.320 & 18.61 & 1     & 1     & 4     & 1    \\\\\n",
       "\tMerc 230 & 22.8  & 4     & 140.8 &  95   & 3.92  & 3.150 & 22.90 & 1     & 0     & 4     & 2    \\\\\n",
       "\tToyota Corona & 21.5  & 4     & 120.1 &  97   & 3.70  & 2.465 & 20.01 & 1     & 0     & 3     & 1    \\\\\n",
       "\tHornet 4 Drive & 21.4  & 6     & 258.0 & 110   & 3.08  & 3.215 & 19.44 & 1     & 0     & 3     & 1    \\\\\n",
       "\tVolvo 142E & 21.4  & 4     & 121.0 & 109   & 4.11  & 2.780 & 18.60 & 1     & 1     & 4     & 2    \\\\\n",
       "\tMazda RX4 & 21.0  & 6     & 160.0 & 110   & 3.90  & 2.620 & 16.46 & 0     & 1     & 4     & 4    \\\\\n",
       "\tMazda RX4 Wag & 21.0  & 6     & 160.0 & 110   & 3.90  & 2.875 & 17.02 & 0     & 1     & 4     & 4    \\\\\n",
       "\tFerrari Dino & 19.7  & 6     & 145.0 & 175   & 3.62  & 2.770 & 15.50 & 0     & 1     & 5     & 6    \\\\\n",
       "\tMerc 280 & 19.2  & 6     & 167.6 & 123   & 3.92  & 3.440 & 18.30 & 1     & 0     & 4     & 4    \\\\\n",
       "\tPontiac Firebird & 19.2  & 8     & 400.0 & 175   & 3.08  & 3.845 & 17.05 & 0     & 0     & 3     & 2    \\\\\n",
       "\tHornet Sportabout & 18.7  & 8     & 360.0 & 175   & 3.15  & 3.440 & 17.02 & 0     & 0     & 3     & 2    \\\\\n",
       "\tValiant & 18.1  & 6     & 225.0 & 105   & 2.76  & 3.460 & 20.22 & 1     & 0     & 3     & 1    \\\\\n",
       "\tMerc 280C & 17.8  & 6     & 167.6 & 123   & 3.92  & 3.440 & 18.90 & 1     & 0     & 4     & 4    \\\\\n",
       "\tMerc 450SL & 17.3  & 8     & 275.8 & 180   & 3.07  & 3.730 & 17.60 & 0     & 0     & 3     & 3    \\\\\n",
       "\tMerc 450SE & 16.4  & 8     & 275.8 & 180   & 3.07  & 4.070 & 17.40 & 0     & 0     & 3     & 3    \\\\\n",
       "\tFord Pantera L & 15.8  & 8     & 351.0 & 264   & 4.22  & 3.170 & 14.50 & 0     & 1     & 5     & 4    \\\\\n",
       "\tDodge Challenger & 15.5  & 8     & 318.0 & 150   & 2.76  & 3.520 & 16.87 & 0     & 0     & 3     & 2    \\\\\n",
       "\tMerc 450SLC & 15.2  & 8     & 275.8 & 180   & 3.07  & 3.780 & 18.00 & 0     & 0     & 3     & 3    \\\\\n",
       "\tAMC Javelin & 15.2  & 8     & 304.0 & 150   & 3.15  & 3.435 & 17.30 & 0     & 0     & 3     & 2    \\\\\n",
       "\tMaserati Bora & 15.0  & 8     & 301.0 & 335   & 3.54  & 3.570 & 14.60 & 0     & 1     & 5     & 8    \\\\\n",
       "\tChrysler Imperial & 14.7  & 8     & 440.0 & 230   & 3.23  & 5.345 & 17.42 & 0     & 0     & 3     & 4    \\\\\n",
       "\tDuster 360 & 14.3  & 8     & 360.0 & 245   & 3.21  & 3.570 & 15.84 & 0     & 0     & 3     & 4    \\\\\n",
       "\tCamaro Z28 & 13.3  & 8     & 350.0 & 245   & 3.73  & 3.840 & 15.41 & 0     & 0     & 3     & 4    \\\\\n",
       "\tCadillac Fleetwood & 10.4  & 8     & 472.0 & 205   & 2.93  & 5.250 & 17.98 & 0     & 0     & 3     & 4    \\\\\n",
       "\tLincoln Continental & 10.4  & 8     & 460.0 & 215   & 3.00  & 5.424 & 17.82 & 0     & 0     & 3     & 4    \\\\\n",
       "\\end{tabular}\n"
      ],
      "text/markdown": [
       "\n",
       "| <!--/--> | mpg | cyl | disp | hp | drat | wt | qsec | vs | am | gear | carb | \n",
       "|---|---|---|---|---|---|---|---|---|---|---|---|---|---|---|---|---|---|---|---|---|---|---|---|---|---|---|---|---|---|---|---|\n",
       "| Toyota Corolla | 33.9  | 4     |  71.1 |  65   | 4.22  | 1.835 | 19.90 | 1     | 1     | 4     | 1     | \n",
       "| Fiat 128 | 32.4  | 4     |  78.7 |  66   | 4.08  | 2.200 | 19.47 | 1     | 1     | 4     | 1     | \n",
       "| Honda Civic | 30.4  | 4     |  75.7 |  52   | 4.93  | 1.615 | 18.52 | 1     | 1     | 4     | 2     | \n",
       "| Lotus Europa | 30.4  | 4     |  95.1 | 113   | 3.77  | 1.513 | 16.90 | 1     | 1     | 5     | 2     | \n",
       "| Fiat X1-9 | 27.3  | 4     |  79.0 |  66   | 4.08  | 1.935 | 18.90 | 1     | 1     | 4     | 1     | \n",
       "| Porsche 914-2 | 26.0  | 4     | 120.3 |  91   | 4.43  | 2.140 | 16.70 | 0     | 1     | 5     | 2     | \n",
       "| Merc 240D | 24.4  | 4     | 146.7 |  62   | 3.69  | 3.190 | 20.00 | 1     | 0     | 4     | 2     | \n",
       "| Datsun 710 | 22.8  | 4     | 108.0 |  93   | 3.85  | 2.320 | 18.61 | 1     | 1     | 4     | 1     | \n",
       "| Merc 230 | 22.8  | 4     | 140.8 |  95   | 3.92  | 3.150 | 22.90 | 1     | 0     | 4     | 2     | \n",
       "| Toyota Corona | 21.5  | 4     | 120.1 |  97   | 3.70  | 2.465 | 20.01 | 1     | 0     | 3     | 1     | \n",
       "| Hornet 4 Drive | 21.4  | 6     | 258.0 | 110   | 3.08  | 3.215 | 19.44 | 1     | 0     | 3     | 1     | \n",
       "| Volvo 142E | 21.4  | 4     | 121.0 | 109   | 4.11  | 2.780 | 18.60 | 1     | 1     | 4     | 2     | \n",
       "| Mazda RX4 | 21.0  | 6     | 160.0 | 110   | 3.90  | 2.620 | 16.46 | 0     | 1     | 4     | 4     | \n",
       "| Mazda RX4 Wag | 21.0  | 6     | 160.0 | 110   | 3.90  | 2.875 | 17.02 | 0     | 1     | 4     | 4     | \n",
       "| Ferrari Dino | 19.7  | 6     | 145.0 | 175   | 3.62  | 2.770 | 15.50 | 0     | 1     | 5     | 6     | \n",
       "| Merc 280 | 19.2  | 6     | 167.6 | 123   | 3.92  | 3.440 | 18.30 | 1     | 0     | 4     | 4     | \n",
       "| Pontiac Firebird | 19.2  | 8     | 400.0 | 175   | 3.08  | 3.845 | 17.05 | 0     | 0     | 3     | 2     | \n",
       "| Hornet Sportabout | 18.7  | 8     | 360.0 | 175   | 3.15  | 3.440 | 17.02 | 0     | 0     | 3     | 2     | \n",
       "| Valiant | 18.1  | 6     | 225.0 | 105   | 2.76  | 3.460 | 20.22 | 1     | 0     | 3     | 1     | \n",
       "| Merc 280C | 17.8  | 6     | 167.6 | 123   | 3.92  | 3.440 | 18.90 | 1     | 0     | 4     | 4     | \n",
       "| Merc 450SL | 17.3  | 8     | 275.8 | 180   | 3.07  | 3.730 | 17.60 | 0     | 0     | 3     | 3     | \n",
       "| Merc 450SE | 16.4  | 8     | 275.8 | 180   | 3.07  | 4.070 | 17.40 | 0     | 0     | 3     | 3     | \n",
       "| Ford Pantera L | 15.8  | 8     | 351.0 | 264   | 4.22  | 3.170 | 14.50 | 0     | 1     | 5     | 4     | \n",
       "| Dodge Challenger | 15.5  | 8     | 318.0 | 150   | 2.76  | 3.520 | 16.87 | 0     | 0     | 3     | 2     | \n",
       "| Merc 450SLC | 15.2  | 8     | 275.8 | 180   | 3.07  | 3.780 | 18.00 | 0     | 0     | 3     | 3     | \n",
       "| AMC Javelin | 15.2  | 8     | 304.0 | 150   | 3.15  | 3.435 | 17.30 | 0     | 0     | 3     | 2     | \n",
       "| Maserati Bora | 15.0  | 8     | 301.0 | 335   | 3.54  | 3.570 | 14.60 | 0     | 1     | 5     | 8     | \n",
       "| Chrysler Imperial | 14.7  | 8     | 440.0 | 230   | 3.23  | 5.345 | 17.42 | 0     | 0     | 3     | 4     | \n",
       "| Duster 360 | 14.3  | 8     | 360.0 | 245   | 3.21  | 3.570 | 15.84 | 0     | 0     | 3     | 4     | \n",
       "| Camaro Z28 | 13.3  | 8     | 350.0 | 245   | 3.73  | 3.840 | 15.41 | 0     | 0     | 3     | 4     | \n",
       "| Cadillac Fleetwood | 10.4  | 8     | 472.0 | 205   | 2.93  | 5.250 | 17.98 | 0     | 0     | 3     | 4     | \n",
       "| Lincoln Continental | 10.4  | 8     | 460.0 | 215   | 3.00  | 5.424 | 17.82 | 0     | 0     | 3     | 4     | \n",
       "\n",
       "\n"
      ],
      "text/plain": [
       "                    mpg  cyl disp  hp  drat wt    qsec  vs am gear carb\n",
       "Toyota Corolla      33.9 4    71.1  65 4.22 1.835 19.90 1  1  4    1   \n",
       "Fiat 128            32.4 4    78.7  66 4.08 2.200 19.47 1  1  4    1   \n",
       "Honda Civic         30.4 4    75.7  52 4.93 1.615 18.52 1  1  4    2   \n",
       "Lotus Europa        30.4 4    95.1 113 3.77 1.513 16.90 1  1  5    2   \n",
       "Fiat X1-9           27.3 4    79.0  66 4.08 1.935 18.90 1  1  4    1   \n",
       "Porsche 914-2       26.0 4   120.3  91 4.43 2.140 16.70 0  1  5    2   \n",
       "Merc 240D           24.4 4   146.7  62 3.69 3.190 20.00 1  0  4    2   \n",
       "Datsun 710          22.8 4   108.0  93 3.85 2.320 18.61 1  1  4    1   \n",
       "Merc 230            22.8 4   140.8  95 3.92 3.150 22.90 1  0  4    2   \n",
       "Toyota Corona       21.5 4   120.1  97 3.70 2.465 20.01 1  0  3    1   \n",
       "Hornet 4 Drive      21.4 6   258.0 110 3.08 3.215 19.44 1  0  3    1   \n",
       "Volvo 142E          21.4 4   121.0 109 4.11 2.780 18.60 1  1  4    2   \n",
       "Mazda RX4           21.0 6   160.0 110 3.90 2.620 16.46 0  1  4    4   \n",
       "Mazda RX4 Wag       21.0 6   160.0 110 3.90 2.875 17.02 0  1  4    4   \n",
       "Ferrari Dino        19.7 6   145.0 175 3.62 2.770 15.50 0  1  5    6   \n",
       "Merc 280            19.2 6   167.6 123 3.92 3.440 18.30 1  0  4    4   \n",
       "Pontiac Firebird    19.2 8   400.0 175 3.08 3.845 17.05 0  0  3    2   \n",
       "Hornet Sportabout   18.7 8   360.0 175 3.15 3.440 17.02 0  0  3    2   \n",
       "Valiant             18.1 6   225.0 105 2.76 3.460 20.22 1  0  3    1   \n",
       "Merc 280C           17.8 6   167.6 123 3.92 3.440 18.90 1  0  4    4   \n",
       "Merc 450SL          17.3 8   275.8 180 3.07 3.730 17.60 0  0  3    3   \n",
       "Merc 450SE          16.4 8   275.8 180 3.07 4.070 17.40 0  0  3    3   \n",
       "Ford Pantera L      15.8 8   351.0 264 4.22 3.170 14.50 0  1  5    4   \n",
       "Dodge Challenger    15.5 8   318.0 150 2.76 3.520 16.87 0  0  3    2   \n",
       "Merc 450SLC         15.2 8   275.8 180 3.07 3.780 18.00 0  0  3    3   \n",
       "AMC Javelin         15.2 8   304.0 150 3.15 3.435 17.30 0  0  3    2   \n",
       "Maserati Bora       15.0 8   301.0 335 3.54 3.570 14.60 0  1  5    8   \n",
       "Chrysler Imperial   14.7 8   440.0 230 3.23 5.345 17.42 0  0  3    4   \n",
       "Duster 360          14.3 8   360.0 245 3.21 3.570 15.84 0  0  3    4   \n",
       "Camaro Z28          13.3 8   350.0 245 3.73 3.840 15.41 0  0  3    4   \n",
       "Cadillac Fleetwood  10.4 8   472.0 205 2.93 5.250 17.98 0  0  3    4   \n",
       "Lincoln Continental 10.4 8   460.0 215 3.00 5.424 17.82 0  0  3    4   "
      ]
     },
     "metadata": {},
     "output_type": "display_data"
    }
   ],
   "source": [
    "sortedDF <- mtcars[order(-mtcars$mpg),] # descending\n",
    "sortedDF"
   ]
  },
  {
   "cell_type": "markdown",
   "metadata": {},
   "source": [
    "## Editing Data Frames"
   ]
  },
  {
   "cell_type": "code",
   "execution_count": 72,
   "metadata": {
    "collapsed": true
   },
   "outputs": [],
   "source": [
    "fix(mtcars)"
   ]
  },
  {
   "cell_type": "markdown",
   "metadata": {},
   "source": [
    "## The str() Function"
   ]
  },
  {
   "cell_type": "code",
   "execution_count": 73,
   "metadata": {},
   "outputs": [
    {
     "name": "stdout",
     "output_type": "stream",
     "text": [
      " num [1:3] 1 2 3\n",
      " num [1:2, 1:3] 1 11 2 12 3 13\n"
     ]
    }
   ],
   "source": [
    "v <- c(1, 2, 3)\n",
    "str(v)\n",
    "\n",
    "m <- matrix(c(1,2,3, 11,12,13), nrow = 2, ncol = 3, byrow = TRUE)\n",
    "str(m)"
   ]
  },
  {
   "cell_type": "markdown",
   "metadata": {},
   "source": [
    "## Type Conversion"
   ]
  },
  {
   "cell_type": "code",
   "execution_count": 74,
   "metadata": {},
   "outputs": [
    {
     "data": {
      "text/html": [
       "<ol class=list-inline>\n",
       "\t<li>'1'</li>\n",
       "\t<li>'2'</li>\n",
       "\t<li>'3'</li>\n",
       "\t<li>'4'</li>\n",
       "\t<li>'5'</li>\n",
       "</ol>\n"
      ],
      "text/latex": [
       "\\begin{enumerate*}\n",
       "\\item '1'\n",
       "\\item '2'\n",
       "\\item '3'\n",
       "\\item '4'\n",
       "\\item '5'\n",
       "\\end{enumerate*}\n"
      ],
      "text/markdown": [
       "1. '1'\n",
       "2. '2'\n",
       "3. '3'\n",
       "4. '4'\n",
       "5. '5'\n",
       "\n",
       "\n"
      ],
      "text/plain": [
       "[1] \"1\" \"2\" \"3\" \"4\" \"5\""
      ]
     },
     "metadata": {},
     "output_type": "display_data"
    },
    {
     "data": {
      "text/html": [
       "<ol class=list-inline>\n",
       "\t<li>1</li>\n",
       "\t<li>2</li>\n",
       "\t<li>3</li>\n",
       "\t<li>4</li>\n",
       "\t<li>5</li>\n",
       "</ol>\n"
      ],
      "text/latex": [
       "\\begin{enumerate*}\n",
       "\\item 1\n",
       "\\item 2\n",
       "\\item 3\n",
       "\\item 4\n",
       "\\item 5\n",
       "\\end{enumerate*}\n"
      ],
      "text/markdown": [
       "1. 1\n",
       "2. 2\n",
       "3. 3\n",
       "4. 4\n",
       "5. 5\n",
       "\n",
       "\n"
      ],
      "text/plain": [
       "[1] 1 2 3 4 5"
      ]
     },
     "metadata": {},
     "output_type": "display_data"
    },
    {
     "data": {
      "text/html": [
       "<time datetime=\"2018-12-31\">2018-12-31</time>"
      ],
      "text/latex": [
       "2018-12-31"
      ],
      "text/markdown": [
       "2018-12-31"
      ],
      "text/plain": [
       "[1] \"2018-12-31\""
      ]
     },
     "metadata": {},
     "output_type": "display_data"
    }
   ],
   "source": [
    "c <- as.character(1:5)\n",
    "c\n",
    "n <- as.integer(c)\n",
    "n\n",
    "as.Date(\"2018-12-31\")"
   ]
  },
  {
   "cell_type": "markdown",
   "metadata": {},
   "source": [
    "## The summary() function"
   ]
  },
  {
   "cell_type": "code",
   "execution_count": 75,
   "metadata": {},
   "outputs": [
    {
     "data": {
      "text/plain": [
       "   Min. 1st Qu.  Median    Mean 3rd Qu.    Max. \n",
       "     10      11      12      12      13      14 "
      ]
     },
     "metadata": {},
     "output_type": "display_data"
    },
    {
     "data": {
      "text/plain": [
       "       V1             V2             V3      \n",
       " Min.   : 1.0   Min.   : 2.0   Min.   : 3.0  \n",
       " 1st Qu.: 3.5   1st Qu.: 4.5   1st Qu.: 5.5  \n",
       " Median : 6.0   Median : 7.0   Median : 8.0  \n",
       " Mean   : 6.0   Mean   : 7.0   Mean   : 8.0  \n",
       " 3rd Qu.: 8.5   3rd Qu.: 9.5   3rd Qu.:10.5  \n",
       " Max.   :11.0   Max.   :12.0   Max.   :13.0  "
      ]
     },
     "metadata": {},
     "output_type": "display_data"
    }
   ],
   "source": [
    "v <- c(10, 11, 12, 13, 14)\n",
    "summary(v)\n",
    "\n",
    "m <- matrix(c(1,2,3, 11,12,13), nrow = 2, ncol = 3, byrow = TRUE)\n",
    "summary(m)\n"
   ]
  },
  {
   "cell_type": "markdown",
   "metadata": {},
   "source": [
    "## Checking an Object's Type"
   ]
  },
  {
   "cell_type": "code",
   "execution_count": 76,
   "metadata": {},
   "outputs": [
    {
     "data": {
      "text/html": [
       "TRUE"
      ],
      "text/latex": [
       "TRUE"
      ],
      "text/markdown": [
       "TRUE"
      ],
      "text/plain": [
       "[1] TRUE"
      ]
     },
     "metadata": {},
     "output_type": "display_data"
    },
    {
     "data": {
      "text/html": [
       "FALSE"
      ],
      "text/latex": [
       "FALSE"
      ],
      "text/markdown": [
       "FALSE"
      ],
      "text/plain": [
       "[1] FALSE"
      ]
     },
     "metadata": {},
     "output_type": "display_data"
    },
    {
     "data": {
      "text/html": [
       "TRUE"
      ],
      "text/latex": [
       "TRUE"
      ],
      "text/markdown": [
       "TRUE"
      ],
      "text/plain": [
       "[1] TRUE"
      ]
     },
     "metadata": {},
     "output_type": "display_data"
    },
    {
     "data": {
      "text/html": [
       "FALSE"
      ],
      "text/latex": [
       "FALSE"
      ],
      "text/markdown": [
       "FALSE"
      ],
      "text/plain": [
       "[1] FALSE"
      ]
     },
     "metadata": {},
     "output_type": "display_data"
    },
    {
     "data": {
      "text/html": [
       "TRUE"
      ],
      "text/latex": [
       "TRUE"
      ],
      "text/markdown": [
       "TRUE"
      ],
      "text/plain": [
       "[1] TRUE"
      ]
     },
     "metadata": {},
     "output_type": "display_data"
    }
   ],
   "source": [
    "is.vector(1:3)                  # TRUE\n",
    "is.list(1:3)                    # FALSE\n",
    "is.numeric(1:3)                 # TRUE\n",
    "is.character(1:3)               # FALSE\n",
    "is.character(as.character(1:3)) # TRUE"
   ]
  },
  {
   "cell_type": "markdown",
   "metadata": {
    "collapsed": true
   },
   "source": [
    "## Loading Packages\n",
    "\n",
    "- library(splines)\n",
    "- library(help = \"utils\")\n"
   ]
  },
  {
   "cell_type": "markdown",
   "metadata": {},
   "source": [
    "## Installing and Removing Packages\n",
    "\n",
    "- install.packages(\"package_name\")\n",
    "- remove.packages(\"package_name\")"
   ]
  },
  {
   "cell_type": "markdown",
   "metadata": {},
   "source": [
    "## Reading Data from File into a Vector\n",
    "\n",
    "- myVector <- scan(\"PATH_TO_DATA_FILE\")"
   ]
  },
  {
   "cell_type": "code",
   "execution_count": 77,
   "metadata": {
    "collapsed": true
   },
   "outputs": [],
   "source": [
    "help(scan)"
   ]
  },
  {
   "cell_type": "markdown",
   "metadata": {},
   "source": [
    "## Writing Data to a File\n",
    "\n",
    "- write (<object_to_save>, \"PATH_TO_FILE\")"
   ]
  },
  {
   "cell_type": "code",
   "execution_count": 78,
   "metadata": {
    "collapsed": true
   },
   "outputs": [],
   "source": [
    "help(write)"
   ]
  },
  {
   "cell_type": "markdown",
   "metadata": {},
   "source": [
    "## Reading Data into a Data Frame\n",
    "\n",
    "- df <- read.table(\"data_input.dat\", header = T, sep = \",\")"
   ]
  },
  {
   "cell_type": "markdown",
   "metadata": {},
   "source": [
    "## Writing CSV Files\n",
    "\n",
    "- write.table(df, \"your_file\", sep = \"|\", row.names = F)"
   ]
  },
  {
   "cell_type": "markdown",
   "metadata": {},
   "source": [
    "## Imprting Data into R\n",
    "\n",
    "- library(xlsx)"
   ]
  },
  {
   "cell_type": "markdown",
   "metadata": {},
   "source": [
    "## Exporting Data from R\n",
    "\n",
    "- ..."
   ]
  },
  {
   "cell_type": "markdown",
   "metadata": {},
   "source": [
    "## Basic Stastistical Functions\n",
    "\n",
    "- mean()\n",
    "- median()\n",
    "- sd()\n",
    "- var()"
   ]
  },
  {
   "cell_type": "markdown",
   "metadata": {},
   "source": [
    "## Examples of Using Basic Statistical  Functions"
   ]
  },
  {
   "cell_type": "code",
   "execution_count": 79,
   "metadata": {},
   "outputs": [
    {
     "name": "stdout",
     "output_type": "stream",
     "text": [
      "[1]   2   4   8  16  32  64 128 256\n"
     ]
    },
    {
     "data": {
      "text/html": [
       "63.75"
      ],
      "text/latex": [
       "63.75"
      ],
      "text/markdown": [
       "63.75"
      ],
      "text/plain": [
       "[1] 63.75"
      ]
     },
     "metadata": {},
     "output_type": "display_data"
    },
    {
     "data": {
      "text/html": [
       "24"
      ],
      "text/latex": [
       "24"
      ],
      "text/markdown": [
       "24"
      ],
      "text/plain": [
       "[1] 24"
      ]
     },
     "metadata": {},
     "output_type": "display_data"
    },
    {
     "data": {
      "text/html": [
       "7838.21428571429"
      ],
      "text/latex": [
       "7838.21428571429"
      ],
      "text/markdown": [
       "7838.21428571429"
      ],
      "text/plain": [
       "[1] 7838.214"
      ]
     },
     "metadata": {},
     "output_type": "display_data"
    },
    {
     "data": {
      "text/html": [
       "88.5336901168944"
      ],
      "text/latex": [
       "88.5336901168944"
      ],
      "text/markdown": [
       "88.5336901168944"
      ],
      "text/plain": [
       "[1] 88.53369"
      ]
     },
     "metadata": {},
     "output_type": "display_data"
    }
   ],
   "source": [
    "x <- 2^(1:8)\n",
    "print(x)\n",
    "mean(x)\n",
    "median(x)\n",
    "var(x)\n",
    "sd(x)"
   ]
  },
  {
   "cell_type": "markdown",
   "metadata": {},
   "source": [
    "## Writing Your Own skew and kurtosis Functions\n",
    "\n",
    "- ..."
   ]
  },
  {
   "cell_type": "markdown",
   "metadata": {},
   "source": [
    "## Generating Normally Distributed Random Numbers\n",
    "\n",
    "- rnorm()"
   ]
  },
  {
   "cell_type": "code",
   "execution_count": 80,
   "metadata": {},
   "outputs": [
    {
     "data": {
      "text/html": [
       "<ol class=list-inline>\n",
       "\t<li>-0.0817921451561454</li>\n",
       "\t<li>-0.545616051673507</li>\n",
       "\t<li>1.15770878900649</li>\n",
       "\t<li>5.00737646501963</li>\n",
       "\t<li>-4.44142904629863</li>\n",
       "\t<li>-1.29990187129049</li>\n",
       "\t<li>-1.4895726951236</li>\n",
       "\t<li>5.46141632723151</li>\n",
       "\t<li>0.261181060261129</li>\n",
       "\t<li>4.71634479523151</li>\n",
       "\t<li>3.85556259035126</li>\n",
       "\t<li>-2.0567590803009</li>\n",
       "\t<li>2.21916556879804</li>\n",
       "\t<li>3.56104404776638</li>\n",
       "\t<li>4.87021381968967</li>\n",
       "\t<li>3.76107698781255</li>\n",
       "\t<li>0.312977251692245</li>\n",
       "\t<li>3.40005701787458</li>\n",
       "\t<li>1.20514463559845</li>\n",
       "\t<li>0.326774871833328</li>\n",
       "\t<li>3.3908991021553</li>\n",
       "\t<li>3.43937215137976</li>\n",
       "\t<li>-6.76027654154036</li>\n",
       "\t<li>4.19025382695785</li>\n",
       "\t<li>3.08745041104158</li>\n",
       "\t<li>3.6369164847198</li>\n",
       "\t<li>-2.62328915022912</li>\n",
       "\t<li>0.787440979730095</li>\n",
       "\t<li>3.19423421118727</li>\n",
       "\t<li>3.57226815984659</li>\n",
       "\t<li>1.60026974399492</li>\n",
       "\t<li>2.68261662508373</li>\n",
       "\t<li>4.17228803591314</li>\n",
       "\t<li>0.821459475550281</li>\n",
       "\t<li>5.48839897269307</li>\n",
       "\t<li>-0.49462149445121</li>\n",
       "\t<li>3.35564940269865</li>\n",
       "\t<li>-3.49789760454249</li>\n",
       "\t<li>-0.139439745452397</li>\n",
       "\t<li>2.34704517309619</li>\n",
       "\t<li>-0.342201933667103</li>\n",
       "\t<li>-1.00349706618057</li>\n",
       "\t<li>3.14829189041228</li>\n",
       "\t<li>7.144337612532</li>\n",
       "\t<li>3.6963222520387</li>\n",
       "\t<li>0.0899135527930779</li>\n",
       "\t<li>0.988660509434692</li>\n",
       "\t<li>-0.235121065577723</li>\n",
       "\t<li>-1.48101578065378</li>\n",
       "\t<li>2.03519597612224</li>\n",
       "\t<li>-4.12614434587555</li>\n",
       "\t<li>-1.46924591163817</li>\n",
       "\t<li>3.11781710355544</li>\n",
       "\t<li>0.080293913516144</li>\n",
       "\t<li>1.07395104619061</li>\n",
       "\t<li>-1.8980584033848</li>\n",
       "\t<li>-1.78763987065147</li>\n",
       "\t<li>0.276661056254061</li>\n",
       "\t<li>2.10251088780424</li>\n",
       "\t<li>2.94293157412728</li>\n",
       "\t<li>-6.5993522982363</li>\n",
       "\t<li>-0.319842203352172</li>\n",
       "\t<li>0.803900811166392</li>\n",
       "\t<li>-1.57501950802887</li>\n",
       "\t<li>-0.952641088921587</li>\n",
       "\t<li>-2.53222004676399</li>\n",
       "\t<li>1.93105751269097</li>\n",
       "\t<li>0.733536843143911</li>\n",
       "\t<li>1.3483981943349</li>\n",
       "\t<li>-3.23822746004653</li>\n",
       "\t<li>3.88242227075616</li>\n",
       "\t<li>0.653407057132142</li>\n",
       "\t<li>-6.81881103573494</li>\n",
       "\t<li>2.30430185374616</li>\n",
       "\t<li>2.72886589665227</li>\n",
       "\t<li>0.137611175277515</li>\n",
       "\t<li>3.62293269035199</li>\n",
       "\t<li>0.622081575935447</li>\n",
       "\t<li>-5.16706414489692</li>\n",
       "\t<li>-2.84578212001585</li>\n",
       "\t<li>-0.174050165124152</li>\n",
       "\t<li>-3.49935809511239</li>\n",
       "\t<li>6.93873732448586</li>\n",
       "\t<li>0.696296023225614</li>\n",
       "\t<li>-2.17827352256179</li>\n",
       "\t<li>-0.402225273344865</li>\n",
       "\t<li>-0.352948332632441</li>\n",
       "\t<li>3.80996610757279</li>\n",
       "\t<li>0.0762329514120523</li>\n",
       "\t<li>-2.53870740820509</li>\n",
       "\t<li>9.16435012416846</li>\n",
       "\t<li>0.795722899341379</li>\n",
       "\t<li>-0.55190202864375</li>\n",
       "\t<li>2.42565169272292</li>\n",
       "\t<li>4.46999628157138</li>\n",
       "\t<li>3.30091047104323</li>\n",
       "\t<li>-0.0212582478750183</li>\n",
       "\t<li>5.48634617494606</li>\n",
       "\t<li>-3.27539757562176</li>\n",
       "\t<li>-0.284908548180418</li>\n",
       "\t<li>1.26003473423912</li>\n",
       "\t<li>3.12994131647279</li>\n",
       "\t<li>0.278884696321864</li>\n",
       "\t<li>3.31140944033696</li>\n",
       "\t<li>5.43992144610694</li>\n",
       "\t<li>0.630214708613184</li>\n",
       "\t<li>-0.315224556851772</li>\n",
       "\t<li>-1.42597824084473</li>\n",
       "\t<li>1.30609377066172</li>\n",
       "\t<li>0.56485656597158</li>\n",
       "\t<li>-3.87151325025723</li>\n",
       "\t<li>2.54987222674642</li>\n",
       "\t<li>-0.00152883174054308</li>\n",
       "\t<li>3.28267521712006</li>\n",
       "\t<li>-2.54973069355385</li>\n",
       "\t<li>1.88939238900475</li>\n",
       "\t<li>-1.8409007419427</li>\n",
       "\t<li>4.20017609118283</li>\n",
       "\t<li>2.22512982019781</li>\n",
       "\t<li>-1.26879425854893</li>\n",
       "\t<li>-3.1003911542028</li>\n",
       "\t<li>1.48270506645781</li>\n",
       "\t<li>2.44584293790628</li>\n",
       "\t<li>-1.24638011114658</li>\n",
       "\t<li>3.75375086110856</li>\n",
       "\t<li>5.01245360951217</li>\n",
       "\t<li>6.0803408249678</li>\n",
       "\t<li>-3.52919010195051</li>\n",
       "\t<li>-1.07544394470793</li>\n",
       "\t<li>7.14972803026102</li>\n",
       "\t<li>5.11762444422368</li>\n",
       "\t<li>-4.93894284978245</li>\n",
       "\t<li>11.8466492106181</li>\n",
       "\t<li>2.17701498280493</li>\n",
       "\t<li>-0.31428296907258</li>\n",
       "\t<li>3.60666117601612</li>\n",
       "\t<li>3.42868638101106</li>\n",
       "\t<li>3.53005928299526</li>\n",
       "\t<li>-3.62368787601317</li>\n",
       "\t<li>-3.33254351729697</li>\n",
       "\t<li>1.3515787394525</li>\n",
       "\t<li>1.29854660152228</li>\n",
       "\t<li>3.23301899054637</li>\n",
       "\t<li>-0.352308589931734</li>\n",
       "\t<li>4.29407130879068</li>\n",
       "\t<li>2.88309888521049</li>\n",
       "\t<li>3.96494452903558</li>\n",
       "\t<li>0.834694971677208</li>\n",
       "\t<li>2.53884927400923</li>\n",
       "\t<li>0.206639202542846</li>\n",
       "\t<li>0.3687003206144</li>\n",
       "\t<li>0.707249808869397</li>\n",
       "\t<li>1.06874609459631</li>\n",
       "\t<li>-1.31888677184427</li>\n",
       "\t<li>2.26992640796738</li>\n",
       "\t<li>6.4332642382371</li>\n",
       "\t<li>1.80580534385204</li>\n",
       "\t<li>-2.33027279234596</li>\n",
       "\t<li>-6.58346851254328</li>\n",
       "\t<li>-1.10520527543585</li>\n",
       "\t<li>6.11307511620572</li>\n",
       "\t<li>-0.00426302804172263</li>\n",
       "\t<li>2.02336152473746</li>\n",
       "\t<li>1.64616858768004</li>\n",
       "\t<li>4.19563544969015</li>\n",
       "\t<li>4.61638140244013</li>\n",
       "\t<li>0.745323043430443</li>\n",
       "\t<li>6.29114095004214</li>\n",
       "\t<li>4.22750152027765</li>\n",
       "\t<li>1.85076115498169</li>\n",
       "\t<li>-4.58756728423446</li>\n",
       "\t<li>0.609503435044563</li>\n",
       "\t<li>0.617952562558821</li>\n",
       "\t<li>1.8786282151468</li>\n",
       "\t<li>-0.996968610513052</li>\n",
       "\t<li>-2.2302503204328</li>\n",
       "\t<li>2.58419160007803</li>\n",
       "\t<li>0.0822607895083446</li>\n",
       "\t<li>5.71473444358694</li>\n",
       "\t<li>1.27100240289739</li>\n",
       "\t<li>-4.19783538159609</li>\n",
       "\t<li>-1.51415263068953</li>\n",
       "\t<li>-0.671430106532707</li>\n",
       "\t<li>-1.45896459021273</li>\n",
       "\t<li>3.92220330503345</li>\n",
       "\t<li>0.992587081709043</li>\n",
       "\t<li>1.02045469295032</li>\n",
       "\t<li>-1.17320681145571</li>\n",
       "\t<li>-0.322966973064232</li>\n",
       "\t<li>-1.50425226171899</li>\n",
       "\t<li>-4.28230146647885</li>\n",
       "\t<li>-5.03224577313339</li>\n",
       "\t<li>0.858288918766548</li>\n",
       "\t<li>2.34176717200813</li>\n",
       "\t<li>0.107166862902418</li>\n",
       "\t<li>1.10461735372863</li>\n",
       "\t<li>-1.15916867235819</li>\n",
       "\t<li>1.6816820706131</li>\n",
       "\t<li>-1.45928497600437</li>\n",
       "\t<li>-0.602038639727776</li>\n",
       "\t<li>0.512668451283544</li>\n",
       "\t<li>2.42994079223826</li>\n",
       "\t<li>-2.70653462787173</li>\n",
       "\t<li>0.493198574891035</li>\n",
       "\t<li>1.35925683274807</li>\n",
       "\t<li>7.45438315334797</li>\n",
       "\t<li>-5.73957225139685</li>\n",
       "\t<li>1.7163795321509</li>\n",
       "\t<li>-1.00996458099353</li>\n",
       "\t<li>2.04773651253596</li>\n",
       "\t<li>-3.52905158579529</li>\n",
       "\t<li>-5.67248703782723</li>\n",
       "\t<li>0.885767292303869</li>\n",
       "\t<li>0.634653791948314</li>\n",
       "\t<li>3.02011880401248</li>\n",
       "\t<li>5.13858611483393</li>\n",
       "\t<li>4.00707692453797</li>\n",
       "\t<li>2.11036902845378</li>\n",
       "\t<li>2.46842288049356</li>\n",
       "\t<li>6.96440303542205</li>\n",
       "\t<li>0.670101386385273</li>\n",
       "\t<li>4.36426311898357</li>\n",
       "\t<li>-0.414034159133754</li>\n",
       "\t<li>2.58856786515382</li>\n",
       "\t<li>1.20067929157484</li>\n",
       "\t<li>0.0162210337497939</li>\n",
       "\t<li>-4.02905083044784</li>\n",
       "\t<li>3.91076101099195</li>\n",
       "\t<li>2.63582181994784</li>\n",
       "\t<li>0.135508432173992</li>\n",
       "\t<li>-1.03535172932526</li>\n",
       "\t<li>-2.11881727614375</li>\n",
       "\t<li>-4.34076811100661</li>\n",
       "\t<li>1.86905948605075</li>\n",
       "\t<li>0.739164728871046</li>\n",
       "\t<li>1.29023786753782</li>\n",
       "\t<li>-0.335481839974954</li>\n",
       "\t<li>-3.67513431139876</li>\n",
       "\t<li>-4.70266818087515</li>\n",
       "\t<li>-0.851298945798719</li>\n",
       "\t<li>-4.45202384512874</li>\n",
       "\t<li>1.85138183765793</li>\n",
       "\t<li>3.8686634206814</li>\n",
       "\t<li>2.01431019211431</li>\n",
       "\t<li>0.253869176054507</li>\n",
       "\t<li>1.91089630681333</li>\n",
       "\t<li>3.30058426104951</li>\n",
       "\t<li>-2.69409516057867</li>\n",
       "\t<li>2.17945258787117</li>\n",
       "\t<li>7.99949374540434</li>\n",
       "\t<li>1.01708651434657</li>\n",
       "\t<li>3.80849554514184</li>\n",
       "\t<li>2.29200130202801</li>\n",
       "\t<li>4.68691635554904</li>\n",
       "\t<li>4.17740566866425</li>\n",
       "\t<li>-0.750427952760983</li>\n",
       "\t<li>-1.21247379336801</li>\n",
       "\t<li>8.1984632055446</li>\n",
       "\t<li>-4.89281779642441</li>\n",
       "\t<li>2.64979218477242</li>\n",
       "\t<li>-2.15694747192043</li>\n",
       "\t<li>5.6751828253882</li>\n",
       "\t<li>4.21595833322671</li>\n",
       "\t<li>-2.90366528091915</li>\n",
       "\t<li>-4.6365303406262</li>\n",
       "\t<li>-1.44393708952488</li>\n",
       "\t<li>0.764891789368786</li>\n",
       "\t<li>5.57502185769537</li>\n",
       "\t<li>1.70551046224079</li>\n",
       "\t<li>-4.72690531802925</li>\n",
       "\t<li>2.49450243665709</li>\n",
       "\t<li>-2.56205934344618</li>\n",
       "\t<li>5.5368208893187</li>\n",
       "\t<li>0.84173008352575</li>\n",
       "\t<li>-1.1486376625067</li>\n",
       "\t<li>4.57218151935647</li>\n",
       "\t<li>3.9122555993774</li>\n",
       "\t<li>0.179309473729004</li>\n",
       "\t<li>-0.669822000782609</li>\n",
       "\t<li>2.41614970207969</li>\n",
       "\t<li>2.93144095258108</li>\n",
       "\t<li>1.06811798785096</li>\n",
       "\t<li>0.718489079853564</li>\n",
       "\t<li>3.07537573700733</li>\n",
       "\t<li>-1.94247931413521</li>\n",
       "\t<li>2.11401583246505</li>\n",
       "\t<li>2.13242905874283</li>\n",
       "\t<li>0.263510410574856</li>\n",
       "\t<li>-3.85237260977604</li>\n",
       "\t<li>-2.36301644018125</li>\n",
       "\t<li>5.83443299014761</li>\n",
       "\t<li>4.21449626577805</li>\n",
       "\t<li>2.19965105109867</li>\n",
       "\t<li>7.51613742177566</li>\n",
       "\t<li>6.85620315233057</li>\n",
       "\t<li>-1.16664572501</li>\n",
       "\t<li>-2.94488748328253</li>\n",
       "\t<li>-0.415773759914859</li>\n",
       "\t<li>-3.50328619589788</li>\n",
       "\t<li>0.631234317998195</li>\n",
       "\t<li>-4.1756738460918</li>\n",
       "\t<li>3.69351804150738</li>\n",
       "\t<li>5.3537019215098</li>\n",
       "\t<li>-0.152045819822579</li>\n",
       "\t<li>-0.391867577492546</li>\n",
       "\t<li>2.74712039275736</li>\n",
       "\t<li>2.18888536897037</li>\n",
       "\t<li>-4.39259892942175</li>\n",
       "\t<li>6.57448034980402</li>\n",
       "\t<li>1.00583123329618</li>\n",
       "\t<li>1.08864520138373</li>\n",
       "\t<li>-1.11555336075676</li>\n",
       "\t<li>0.906141406816007</li>\n",
       "\t<li>0.187132223793674</li>\n",
       "\t<li>2.17070764181606</li>\n",
       "\t<li>1.72497932570381</li>\n",
       "\t<li>0.796704270628517</li>\n",
       "\t<li>-3.39416497841662</li>\n",
       "\t<li>1.233034105288</li>\n",
       "\t<li>1.18957738544234</li>\n",
       "\t<li>-0.528588849175198</li>\n",
       "\t<li>-1.77715350465628</li>\n",
       "\t<li>2.17278863897698</li>\n",
       "\t<li>2.66907693636277</li>\n",
       "\t<li>-1.60273397022889</li>\n",
       "\t<li>0.821784960502672</li>\n",
       "\t<li>1.21093046426378</li>\n",
       "\t<li>0.867054320129831</li>\n",
       "\t<li>1.03166698420222</li>\n",
       "\t<li>3.6864205650036</li>\n",
       "\t<li>3.87859036195504</li>\n",
       "\t<li>-2.40638796055861</li>\n",
       "\t<li>3.54033615944006</li>\n",
       "\t<li>-2.74570482941979</li>\n",
       "\t<li>0.525002752849255</li>\n",
       "\t<li>-2.02941026363252</li>\n",
       "\t<li>6.66734791987059</li>\n",
       "\t<li>2.35741527092219</li>\n",
       "\t<li>-2.73802081709696</li>\n",
       "\t<li>2.78656055482171</li>\n",
       "\t<li>2.503191988626</li>\n",
       "\t<li>4.02024670728077</li>\n",
       "\t<li>0.72570412255676</li>\n",
       "\t<li>0.989678742745597</li>\n",
       "\t<li>0.940804774634559</li>\n",
       "\t<li>3.0570692300233</li>\n",
       "\t<li>4.99188653375976</li>\n",
       "\t<li>2.29192678229534</li>\n",
       "\t<li>1.65890239710158</li>\n",
       "\t<li>0.670710681245729</li>\n",
       "\t<li>6.16502259592617</li>\n",
       "\t<li>5.59235804575656</li>\n",
       "\t<li>-0.00666745360772403</li>\n",
       "\t<li>1.50896303288279</li>\n",
       "\t<li>0.907132129619135</li>\n",
       "\t<li>-5.27284492205765</li>\n",
       "\t<li>6.91862860465969</li>\n",
       "\t<li>1.83669896935054</li>\n",
       "\t<li>-1.50643340392236</li>\n",
       "\t<li>0.734139760858336</li>\n",
       "\t<li>0.271305878208041</li>\n",
       "\t<li>-0.965034474925378</li>\n",
       "\t<li>1.73133032541275</li>\n",
       "\t<li>-0.794860977291168</li>\n",
       "\t<li>4.94988658961356</li>\n",
       "\t<li>5.17688083928806</li>\n",
       "\t<li>-3.60678459149032</li>\n",
       "\t<li>3.19882815919925</li>\n",
       "\t<li>-0.214840514710789</li>\n",
       "\t<li>-0.138889675096268</li>\n",
       "\t<li>-2.16467429806606</li>\n",
       "\t<li>-2.69813153967625</li>\n",
       "\t<li>0.219703525154721</li>\n",
       "\t<li>4.48101431673787</li>\n",
       "\t<li>1.30431304590945</li>\n",
       "\t<li>-1.43093176731546</li>\n",
       "\t<li>0.603059056963561</li>\n",
       "\t<li>6.40327381438981</li>\n",
       "\t<li>4.06082066149271</li>\n",
       "\t<li>1.8540143730381</li>\n",
       "\t<li>1.15962144554247</li>\n",
       "\t<li>1.77964263668677</li>\n",
       "\t<li>1.52682810218089</li>\n",
       "\t<li>7.14012621788534</li>\n",
       "\t<li>-3.81967929405397</li>\n",
       "\t<li>-1.51991431935388</li>\n",
       "\t<li>-4.66712272746728</li>\n",
       "\t<li>1.89821537996257</li>\n",
       "\t<li>-0.303066557788485</li>\n",
       "\t<li>1.39005683265072</li>\n",
       "\t<li>-2.06242932167203</li>\n",
       "\t<li>3.20979679987759</li>\n",
       "\t<li>0.0324982369913719</li>\n",
       "\t<li>-1.27692424136307</li>\n",
       "\t<li>-4.26042409957605</li>\n",
       "\t<li>3.21269075599611</li>\n",
       "\t<li>2.11846780405761</li>\n",
       "\t<li>-2.01912916240136</li>\n",
       "\t<li>-1.34549692752341</li>\n",
       "\t<li>0.827012254215857</li>\n",
       "\t<li>-2.50019901343311</li>\n",
       "\t<li>4.30668814451199</li>\n",
       "\t<li>1.57018163339814</li>\n",
       "\t<li>0.459530996954868</li>\n",
       "\t<li>-0.732127301504625</li>\n",
       "\t<li>0.264464305402169</li>\n",
       "\t<li>1.908950689119</li>\n",
       "\t<li>2.73075178353623</li>\n",
       "\t<li>-4.22772377378335</li>\n",
       "\t<li>1.40462550834434</li>\n",
       "\t<li>-5.12370208800794</li>\n",
       "\t<li>1.97649271964491</li>\n",
       "\t<li>0.823549108012161</li>\n",
       "\t<li>-3.88452999660856</li>\n",
       "\t<li>0.911925915319203</li>\n",
       "\t<li>-0.781404586653536</li>\n",
       "\t<li>0.89386006275253</li>\n",
       "\t<li>6.15361794850604</li>\n",
       "\t<li>0.0210950607604239</li>\n",
       "\t<li>-2.14401999383446</li>\n",
       "\t<li>0.3942662192899</li>\n",
       "\t<li>3.62630348781027</li>\n",
       "\t<li>-2.54757670867911</li>\n",
       "\t<li>-1.9177216256528</li>\n",
       "\t<li>2.28635193762047</li>\n",
       "\t<li>2.97256746110601</li>\n",
       "\t<li>-1.59760145579719</li>\n",
       "\t<li>-0.394914832536899</li>\n",
       "\t<li>-0.916680321349651</li>\n",
       "\t<li>0.813004349508052</li>\n",
       "\t<li>-0.312372356384694</li>\n",
       "\t<li>2.37839148849479</li>\n",
       "\t<li>-2.77588359019744</li>\n",
       "\t<li>3.40474804559305</li>\n",
       "\t<li>1.38973455786395</li>\n",
       "\t<li>4.1865195982669</li>\n",
       "\t<li>-2.74525564104742</li>\n",
       "\t<li>1.34844957264408</li>\n",
       "\t<li>-0.424094575135789</li>\n",
       "\t<li>1.3100346981799</li>\n",
       "\t<li>-0.894299652455955</li>\n",
       "\t<li>0.788241522225494</li>\n",
       "\t<li>-1.93161888049065</li>\n",
       "\t<li>-0.195119445716139</li>\n",
       "\t<li>3.31515896896329</li>\n",
       "\t<li>1.76807749480468</li>\n",
       "\t<li>2.05316342767867</li>\n",
       "\t<li>1.97950749732895</li>\n",
       "\t<li>-0.475856764411846</li>\n",
       "\t<li>-0.466532845935741</li>\n",
       "\t<li>2.67038236519654</li>\n",
       "\t<li>6.24911344961427</li>\n",
       "\t<li>-4.30565398920038</li>\n",
       "\t<li>7.26570156523428</li>\n",
       "\t<li>4.62652005995904</li>\n",
       "\t<li>2.25033947710605</li>\n",
       "\t<li>0.632218060786089</li>\n",
       "\t<li>4.44693635976172</li>\n",
       "\t<li>0.14017281714966</li>\n",
       "\t<li>-1.29240512015017</li>\n",
       "\t<li>6.37259147926284</li>\n",
       "\t<li>2.7351266138137</li>\n",
       "\t<li>1.52407381139652</li>\n",
       "\t<li>1.97958786010868</li>\n",
       "\t<li>-1.97875905670115</li>\n",
       "\t<li>-1.68851287644636</li>\n",
       "\t<li>0.938592929294984</li>\n",
       "\t<li>-2.1865639801554</li>\n",
       "\t<li>2.04608591784919</li>\n",
       "\t<li>1.48625207218737</li>\n",
       "\t<li>-4.9539992639299</li>\n",
       "\t<li>0.654310600919443</li>\n",
       "\t<li>-0.0757894916273605</li>\n",
       "\t<li>0.443334012795029</li>\n",
       "\t<li>-0.776592407968034</li>\n",
       "\t<li>-4.19560014952441</li>\n",
       "\t<li>-1.89291187584526</li>\n",
       "\t<li>1.82088244293344</li>\n",
       "\t<li>6.20045041334607</li>\n",
       "\t<li>0.887056178547487</li>\n",
       "\t<li>1.31463038729985</li>\n",
       "\t<li>0.693132613893948</li>\n",
       "\t<li>-1.67476896593399</li>\n",
       "\t<li>-5.04620558973587</li>\n",
       "\t<li>1.39723488775484</li>\n",
       "\t<li>2.62669728001025</li>\n",
       "\t<li>6.19928096830379</li>\n",
       "\t<li>0.694265603752855</li>\n",
       "\t<li>11.4857876527264</li>\n",
       "\t<li>2.76354160232039</li>\n",
       "\t<li>-0.670942662719753</li>\n",
       "\t<li>1.74949907511868</li>\n",
       "\t<li>3.23975568289423</li>\n",
       "\t<li>-0.342971961645023</li>\n",
       "\t<li>-0.409557744694731</li>\n",
       "\t<li>-2.23803652884802</li>\n",
       "\t<li>0.576928493325927</li>\n",
       "\t<li>3.96792173990338</li>\n",
       "\t<li>0.0801783403041605</li>\n",
       "\t<li>-5.26043314540636</li>\n",
       "\t<li>1.45637107786779</li>\n",
       "\t<li>-0.501237813569166</li>\n",
       "\t<li>1.26204327863951</li>\n",
       "\t<li>0.584894569882787</li>\n",
       "\t<li>-1.46071166595885</li>\n",
       "\t<li>-0.917649122990245</li>\n",
       "\t<li>-1.27929619964273</li>\n",
       "\t<li>4.78280661091284</li>\n",
       "\t<li>-1.36483556368418</li>\n",
       "\t<li>-0.286397687782665</li>\n",
       "\t<li>2.41224951353541</li>\n",
       "\t<li>-0.562772026654435</li>\n",
       "\t<li>-2.05059612879088</li>\n",
       "\t<li>-2.33257260650938</li>\n",
       "\t<li>6.83792513054116</li>\n",
       "\t<li>-3.46047837155542</li>\n",
       "\t<li>-1.84420367931893</li>\n",
       "\t<li>-0.510039619179444</li>\n",
       "\t<li>2.3993286053335</li>\n",
       "\t<li>-0.393136426037398</li>\n",
       "\t<li>-1.84698632529385</li>\n",
       "\t<li>0.977055867506755</li>\n",
       "\t<li>1.86963226117968</li>\n",
       "\t<li>0.238783399621191</li>\n",
       "\t<li>2.29741492645979</li>\n",
       "\t<li>-4.05958603952383</li>\n",
       "\t<li>3.30332436029105</li>\n",
       "\t<li>4.81062365855588</li>\n",
       "\t<li>5.28431098547193</li>\n",
       "\t<li>2.9958389183935</li>\n",
       "\t<li>-3.23012750309466</li>\n",
       "\t<li>-0.990883632146396</li>\n",
       "\t<li>-1.57899882573154</li>\n",
       "\t<li>2.40432364399985</li>\n",
       "\t<li>0.00358931758164438</li>\n",
       "\t<li>-2.3111314875646</li>\n",
       "\t<li>3.28551520856347</li>\n",
       "\t<li>4.11777915486697</li>\n",
       "\t<li>-1.3295090801189</li>\n",
       "\t<li>1.58005222944642</li>\n",
       "\t<li>3.24047166551839</li>\n",
       "\t<li>2.86779343306387</li>\n",
       "\t<li>-3.92206478877093</li>\n",
       "\t<li>3.62282471704981</li>\n",
       "\t<li>1.06976557370886</li>\n",
       "\t<li>2.39466080076758</li>\n",
       "\t<li>-1.16215912520343</li>\n",
       "\t<li>0.121973395714736</li>\n",
       "\t<li>0.583283791142845</li>\n",
       "\t<li>3.079675016042</li>\n",
       "\t<li>-0.714001432507587</li>\n",
       "\t<li>-0.0729748521990514</li>\n",
       "\t<li>-1.92961817539017</li>\n",
       "\t<li>9.75857048959831</li>\n",
       "\t<li>3.50303710487801</li>\n",
       "\t<li>-1.63045863739084</li>\n",
       "\t<li>1.02844983616494</li>\n",
       "\t<li>2.92183368487586</li>\n",
       "\t<li>4.86791404013461</li>\n",
       "\t<li>4.93823254057167</li>\n",
       "\t<li>-3.12913182907066</li>\n",
       "\t<li>4.76444799955062</li>\n",
       "\t<li>-2.91476754632556</li>\n",
       "\t<li>4.01147192139062</li>\n",
       "\t<li>-0.101109928381751</li>\n",
       "\t<li>-0.0683551224777115</li>\n",
       "\t<li>-2.04688065184546</li>\n",
       "\t<li>2.04265949030546</li>\n",
       "\t<li>2.68472943714023</li>\n",
       "\t<li>2.12262849943263</li>\n",
       "\t<li>-0.0322632164293846</li>\n",
       "\t<li>0.0573850249965123</li>\n",
       "\t<li>2.30327359633681</li>\n",
       "\t<li>5.72930112746418</li>\n",
       "\t<li>4.06098512070646</li>\n",
       "\t<li>4.33154238853485</li>\n",
       "\t<li>1.62048000906613</li>\n",
       "\t<li>-2.12035389914765</li>\n",
       "\t<li>1.39677290023569</li>\n",
       "\t<li>-1.29583975246828</li>\n",
       "\t<li>3.40521784377668</li>\n",
       "\t<li>0.158879655643905</li>\n",
       "\t<li>3.23725929246138</li>\n",
       "\t<li>5.30516720269046</li>\n",
       "\t<li>-2.26507834992269</li>\n",
       "\t<li>-1.35524468187405</li>\n",
       "\t<li>4.88216180617606</li>\n",
       "\t<li>4.97604987163149</li>\n",
       "\t<li>4.19572199536518</li>\n",
       "\t<li>6.94689677534815</li>\n",
       "\t<li>2.93848048892322</li>\n",
       "\t<li>1.69027674553993</li>\n",
       "\t<li>-2.19784198495156</li>\n",
       "\t<li>4.47061669011607</li>\n",
       "\t<li>2.9340856312751</li>\n",
       "\t<li>-1.58909159446451</li>\n",
       "\t<li>0.769936592434325</li>\n",
       "\t<li>-0.680912624607469</li>\n",
       "\t<li>0.72072119296653</li>\n",
       "\t<li>-0.73282015818166</li>\n",
       "\t<li>0.259669603028811</li>\n",
       "\t<li>2.26018048673335</li>\n",
       "\t<li>-5.34791031358138</li>\n",
       "\t<li>5.33316406244255</li>\n",
       "\t<li>8.48305344413717</li>\n",
       "\t<li>-1.26006781161164</li>\n",
       "\t<li>4.056972409345</li>\n",
       "\t<li>0.437556074201825</li>\n",
       "\t<li>0.94795482026774</li>\n",
       "\t<li>0.226555366987188</li>\n",
       "\t<li>0.00749513105511179</li>\n",
       "\t<li>-0.00117314265355839</li>\n",
       "\t<li>3.83959786867747</li>\n",
       "\t<li>-0.0714777490873384</li>\n",
       "\t<li>0.107665189947545</li>\n",
       "\t<li>-0.759661599320557</li>\n",
       "\t<li>2.59333830594618</li>\n",
       "\t<li>2.03691102973657</li>\n",
       "\t<li>0.123157823106035</li>\n",
       "\t<li>1.22216512205405</li>\n",
       "\t<li>3.72777858253233</li>\n",
       "\t<li>2.87539360256184</li>\n",
       "\t<li>2.05006778262476</li>\n",
       "\t<li>-0.361278468479225</li>\n",
       "\t<li>5.66670520432565</li>\n",
       "\t<li>-0.842699650881975</li>\n",
       "\t<li>-3.40995255345406</li>\n",
       "\t<li>0.59756880470643</li>\n",
       "\t<li>-1.65903457327324</li>\n",
       "\t<li>1.32754422006006</li>\n",
       "\t<li>4.59612514253424</li>\n",
       "\t<li>-0.069237164944</li>\n",
       "\t<li>-1.33208400436729</li>\n",
       "\t<li>2.22485536339247</li>\n",
       "\t<li>-0.511927281242579</li>\n",
       "\t<li>5.82250153440204</li>\n",
       "\t<li>9.18834929957305</li>\n",
       "\t<li>-0.860936236248217</li>\n",
       "\t<li>-1.5631449455535</li>\n",
       "\t<li>-2.81668842228144</li>\n",
       "\t<li>0.475811189167771</li>\n",
       "\t<li>1.53426562609824</li>\n",
       "\t<li>2.46139282904518</li>\n",
       "\t<li>-2.16160192071863</li>\n",
       "\t<li>-0.575471796140993</li>\n",
       "\t<li>3.24383631024345</li>\n",
       "\t<li>-1.07318451864179</li>\n",
       "\t<li>2.27546663004467</li>\n",
       "\t<li>-0.975975522809711</li>\n",
       "\t<li>-1.66802071748149</li>\n",
       "\t<li>2.06689369638378</li>\n",
       "\t<li>4.31623487548079</li>\n",
       "\t<li>-2.0140329497443</li>\n",
       "\t<li>3.40535845633176</li>\n",
       "\t<li>-4.58388787766234</li>\n",
       "\t<li>-0.273800612189143</li>\n",
       "\t<li>2.06998301884804</li>\n",
       "\t<li>4.90495873068102</li>\n",
       "\t<li>-2.66692884289006</li>\n",
       "\t<li>-0.761056517117253</li>\n",
       "\t<li>0.289796219697944</li>\n",
       "\t<li>-0.999703259945225</li>\n",
       "\t<li>-0.271150903088356</li>\n",
       "\t<li>4.03991231749896</li>\n",
       "\t<li>-1.39830505976353</li>\n",
       "\t<li>3.28195186079786</li>\n",
       "\t<li>-1.33185191403929</li>\n",
       "\t<li>-1.98901434107634</li>\n",
       "\t<li>-2.75631830973786</li>\n",
       "\t<li>-1.74618192794064</li>\n",
       "\t<li>0.419412218915493</li>\n",
       "\t<li>3.73211350066573</li>\n",
       "\t<li>-1.29276988333413</li>\n",
       "\t<li>0.969407418761392</li>\n",
       "\t<li>-2.49987853719988</li>\n",
       "\t<li>3.84319811282819</li>\n",
       "\t<li>8.3279401044613</li>\n",
       "\t<li>2.59261609454865</li>\n",
       "\t<li>-2.64359913002185</li>\n",
       "\t<li>-1.97305215163468</li>\n",
       "\t<li>-0.87679916075894</li>\n",
       "\t<li>-0.872534611968574</li>\n",
       "\t<li>-3.4207415550917</li>\n",
       "\t<li>-1.09054860949755</li>\n",
       "\t<li>4.49849148899983</li>\n",
       "\t<li>2.96189011056663</li>\n",
       "\t<li>-0.617957225281653</li>\n",
       "\t<li>2.93432269805026</li>\n",
       "\t<li>2.46121613150302</li>\n",
       "\t<li>-1.81928251599415</li>\n",
       "\t<li>1.73187807797854</li>\n",
       "\t<li>-1.5140328553457</li>\n",
       "\t<li>0.810732705154738</li>\n",
       "\t<li>-5.105662537995</li>\n",
       "\t<li>2.25637004537037</li>\n",
       "\t<li>5.36278933338846</li>\n",
       "\t<li>0.984929891597729</li>\n",
       "\t<li>0.134845001647818</li>\n",
       "\t<li>0.491279571281269</li>\n",
       "\t<li>0.616323145054102</li>\n",
       "\t<li>2.47146879583033</li>\n",
       "\t<li>-9.75553414316677</li>\n",
       "\t<li>-0.433738500259709</li>\n",
       "\t<li>-0.0854278765841125</li>\n",
       "\t<li>0.214094116069334</li>\n",
       "\t<li>-0.132052329867027</li>\n",
       "\t<li>2.55952829946614</li>\n",
       "\t<li>5.71062681243526</li>\n",
       "\t<li>-1.90187050087596</li>\n",
       "\t<li>4.81056644133582</li>\n",
       "\t<li>0.553792031864027</li>\n",
       "\t<li>5.48738479060279</li>\n",
       "\t<li>3.17552038185185</li>\n",
       "\t<li>-6.15460939353144</li>\n",
       "\t<li>1.61490914774454</li>\n",
       "\t<li>3.45905489240177</li>\n",
       "\t<li>-1.69093680259514</li>\n",
       "\t<li>3.64791336796706</li>\n",
       "\t<li>-1.54069194522592</li>\n",
       "\t<li>-2.1489126591881</li>\n",
       "\t<li>3.46299935727077</li>\n",
       "\t<li>10.0251873008944</li>\n",
       "\t<li>2.12376933459223</li>\n",
       "\t<li>-3.26084192444371</li>\n",
       "\t<li>-1.80568632520258</li>\n",
       "\t<li>3.0324646100935</li>\n",
       "\t<li>1.45826655728394</li>\n",
       "\t<li>0.472454608928984</li>\n",
       "\t<li>1.31041397841589</li>\n",
       "\t<li>5.47914646364466</li>\n",
       "\t<li>-0.405265935096769</li>\n",
       "\t<li>0.510366388919907</li>\n",
       "\t<li>1.68824754530678</li>\n",
       "\t<li>0.0854874366924948</li>\n",
       "\t<li>6.37585686149835</li>\n",
       "\t<li>3.06010510840777</li>\n",
       "\t<li>1.35949964768088</li>\n",
       "\t<li>2.75024306861066</li>\n",
       "\t<li>-3.30106821281652</li>\n",
       "\t<li>-4.08914416661667</li>\n",
       "\t<li>-0.387037014081621</li>\n",
       "\t<li>-3.12478376947904</li>\n",
       "\t<li>2.65529432516377</li>\n",
       "\t<li>-8.41410283574994</li>\n",
       "\t<li>1.19806744202868</li>\n",
       "\t<li>2.86604081292252</li>\n",
       "\t<li>-0.989965461881139</li>\n",
       "\t<li>1.52875836368007</li>\n",
       "\t<li>2.77414378887635</li>\n",
       "\t<li>-3.53277237857609</li>\n",
       "\t<li>4.28790823077019</li>\n",
       "\t<li>-0.478386089853423</li>\n",
       "\t<li>1.86108773494276</li>\n",
       "\t<li>-0.321825619964516</li>\n",
       "\t<li>2.10471419672728</li>\n",
       "\t<li>-2.0118496093154</li>\n",
       "\t<li>3.01090282903702</li>\n",
       "\t<li>2.26507590561236</li>\n",
       "\t<li>-0.912196232028771</li>\n",
       "\t<li>3.68897126787928</li>\n",
       "\t<li>3.62636511317182</li>\n",
       "\t<li>-2.68496812797474</li>\n",
       "\t<li>-0.58531320849144</li>\n",
       "\t<li>0.860017025081773</li>\n",
       "\t<li>3.06406219711605</li>\n",
       "\t<li>0.391439168062896</li>\n",
       "\t<li>-1.85676612490034</li>\n",
       "\t<li>1.57878922809132</li>\n",
       "\t<li>4.67288168637771</li>\n",
       "\t<li>-6.69760334916645</li>\n",
       "\t<li>4.38836316455368</li>\n",
       "\t<li>1.90437700328807</li>\n",
       "\t<li>-2.69727201997253</li>\n",
       "\t<li>0.0152861653060368</li>\n",
       "\t<li>-1.44685462888201</li>\n",
       "\t<li>1.67381021572624</li>\n",
       "\t<li>2.79418997142861</li>\n",
       "\t<li>1.38927850099026</li>\n",
       "\t<li>-0.891918389491992</li>\n",
       "\t<li>-0.109354755528678</li>\n",
       "\t<li>3.20319959470122</li>\n",
       "\t<li>0.0183050056335528</li>\n",
       "\t<li>-0.164812680404073</li>\n",
       "\t<li>3.45513750286284</li>\n",
       "\t<li>-3.03976348892832</li>\n",
       "\t<li>1.70790259433279</li>\n",
       "\t<li>0.0235973148086667</li>\n",
       "\t<li>-3.0000665621087</li>\n",
       "\t<li>-2.59434240602898</li>\n",
       "\t<li>1.08720574036605</li>\n",
       "\t<li>1.26796528609014</li>\n",
       "\t<li>2.2543201936109</li>\n",
       "\t<li>1.4687629945455</li>\n",
       "\t<li>-2.39451226864627</li>\n",
       "\t<li>3.26400119068659</li>\n",
       "\t<li>-3.68997217809398</li>\n",
       "\t<li>4.43129100280677</li>\n",
       "\t<li>0.955977609764361</li>\n",
       "\t<li>-5.6203525787067</li>\n",
       "\t<li>-1.91248317917598</li>\n",
       "\t<li>-4.4292003671694</li>\n",
       "\t<li>0.555148746557091</li>\n",
       "\t<li>1.463550740951</li>\n",
       "\t<li>0.58937121748571</li>\n",
       "\t<li>2.16573555943056</li>\n",
       "\t<li>2.81145323307219</li>\n",
       "\t<li>-0.238715808806742</li>\n",
       "\t<li>-3.42342438623239</li>\n",
       "\t<li>-0.0431606223309577</li>\n",
       "\t<li>-2.28905958990987</li>\n",
       "\t<li>7.77516928234357</li>\n",
       "\t<li>-0.508036415131019</li>\n",
       "\t<li>1.19923359752148</li>\n",
       "\t<li>-1.42189696874772</li>\n",
       "\t<li>0.524145518138599</li>\n",
       "\t<li>4.08361209120057</li>\n",
       "\t<li>0.591680184290906</li>\n",
       "\t<li>5.33486177931092</li>\n",
       "\t<li>1.37844076352586</li>\n",
       "\t<li>1.80639229628321</li>\n",
       "\t<li>-0.0875159526372344</li>\n",
       "\t<li>-2.59156928536646</li>\n",
       "\t<li>-2.05362794364464</li>\n",
       "\t<li>4.7710586867133</li>\n",
       "\t<li>2.22635033706622</li>\n",
       "\t<li>4.64513346582007</li>\n",
       "\t<li>7.15229743143863</li>\n",
       "\t<li>2.17137597990368</li>\n",
       "\t<li>2.72107632839244</li>\n",
       "\t<li>0.0875616413673284</li>\n",
       "\t<li>-0.547216179134472</li>\n",
       "\t<li>-0.454982999640471</li>\n",
       "\t<li>0.0567047285263504</li>\n",
       "\t<li>-1.27344478901322</li>\n",
       "\t<li>0.19061262015449</li>\n",
       "\t<li>0.756630777941229</li>\n",
       "\t<li>-3.25255318018821</li>\n",
       "\t<li>6.89322317624919</li>\n",
       "\t<li>2.42455916140523</li>\n",
       "\t<li>4.90043908761146</li>\n",
       "\t<li>1.85133025664903</li>\n",
       "\t<li>-1.77920388423348</li>\n",
       "\t<li>-0.188023582864858</li>\n",
       "\t<li>8.20315712504569</li>\n",
       "\t<li>1.59834268575783</li>\n",
       "\t<li>0.567985213281911</li>\n",
       "\t<li>7.02828374495078</li>\n",
       "\t<li>1.26673930819384</li>\n",
       "\t<li>0.889840287411252</li>\n",
       "\t<li>1.32374556797459</li>\n",
       "\t<li>-0.105895702089082</li>\n",
       "\t<li>3.4160711327569</li>\n",
       "\t<li>3.38821461764244</li>\n",
       "\t<li>1.62908384576401</li>\n",
       "\t<li>1.63281967122961</li>\n",
       "\t<li>-0.132401246651352</li>\n",
       "\t<li>-2.26817673404384</li>\n",
       "\t<li>-1.19481720736209</li>\n",
       "\t<li>4.12050189420989</li>\n",
       "\t<li>0.605989292443706</li>\n",
       "\t<li>0.577888947255083</li>\n",
       "\t<li>4.53507779591816</li>\n",
       "\t<li>7.17642169511077</li>\n",
       "\t<li>-3.83305592840955</li>\n",
       "\t<li>3.79294065015841</li>\n",
       "\t<li>3.23768461829493</li>\n",
       "\t<li>5.44890922807981</li>\n",
       "\t<li>1.56456246521478</li>\n",
       "\t<li>-3.09015524777967</li>\n",
       "\t<li>6.32448692115234</li>\n",
       "\t<li>-2.4916982789775</li>\n",
       "\t<li>1.34642748226811</li>\n",
       "\t<li>3.14095818272647</li>\n",
       "\t<li>-1.42525190602738</li>\n",
       "\t<li>3.95086501094505</li>\n",
       "\t<li>2.8921184532168</li>\n",
       "\t<li>5.91171484512302</li>\n",
       "\t<li>2.98859934175056</li>\n",
       "\t<li>6.60163622840596</li>\n",
       "\t<li>-0.879240083644487</li>\n",
       "\t<li>-0.168977372772672</li>\n",
       "\t<li>8.48789887675278</li>\n",
       "\t<li>-2.28083432727011</li>\n",
       "\t<li>-0.642395516140953</li>\n",
       "\t<li>-1.42657304858432</li>\n",
       "\t<li>4.38465457541442</li>\n",
       "\t<li>0.83923098085583</li>\n",
       "\t<li>1.14201912080787</li>\n",
       "\t<li>3.76471126960531</li>\n",
       "\t<li>3.16560937188346</li>\n",
       "\t<li>4.54304323141982</li>\n",
       "\t<li>3.66791973043638</li>\n",
       "\t<li>4.14195479972697</li>\n",
       "\t<li>1.01439027078952</li>\n",
       "\t<li>-1.46328681091406</li>\n",
       "\t<li>0.941513688139856</li>\n",
       "\t<li>2.52391578101065</li>\n",
       "\t<li>5.45455364694874</li>\n",
       "\t<li>3.94624637322757</li>\n",
       "\t<li>0.514221718384659</li>\n",
       "\t<li>2.79047313577268</li>\n",
       "\t<li>2.28043953133663</li>\n",
       "\t<li>6.15134100891451</li>\n",
       "\t<li>6.71700599283868</li>\n",
       "\t<li>-0.524866179252585</li>\n",
       "\t<li>6.13146487418008</li>\n",
       "\t<li>1.6394910614392</li>\n",
       "\t<li>3.78301067400136</li>\n",
       "\t<li>-2.95236512238759</li>\n",
       "\t<li>-3.54102102373742</li>\n",
       "\t<li>2.0241604115871</li>\n",
       "\t<li>3.40480560665511</li>\n",
       "\t<li>2.41857152118624</li>\n",
       "\t<li>0.627403971048387</li>\n",
       "\t<li>-1.69727805998603</li>\n",
       "\t<li>2.75248965389919</li>\n",
       "\t<li>-0.329112080532896</li>\n",
       "\t<li>1.99494924864119</li>\n",
       "\t<li>0.346867461112808</li>\n",
       "\t<li>1.01713573211606</li>\n",
       "\t<li>-0.920097893964087</li>\n",
       "\t<li>-0.347622906263169</li>\n",
       "\t<li>1.41254800805533</li>\n",
       "\t<li>-0.317334881171472</li>\n",
       "\t<li>3.26371889671</li>\n",
       "\t<li>-6.81473334752878</li>\n",
       "\t<li>-1.50287772553479</li>\n",
       "\t<li>-1.6007094457828</li>\n",
       "\t<li>1.34388007950826</li>\n",
       "\t<li>-1.84300402153056</li>\n",
       "\t<li>3.39265276099892</li>\n",
       "\t<li>0.0378908124209125</li>\n",
       "\t<li>-0.665506765108874</li>\n",
       "\t<li>0.415465578779741</li>\n",
       "\t<li>1.21333249991405</li>\n",
       "\t<li>2.34638293277618</li>\n",
       "\t<li>5.41352479082117</li>\n",
       "\t<li>4.36546602325673</li>\n",
       "\t<li>3.86128018939158</li>\n",
       "\t<li>1.89831788798389</li>\n",
       "\t<li>-0.818757867399674</li>\n",
       "\t<li>2.15141249595872</li>\n",
       "\t<li>0.584244129353417</li>\n",
       "\t<li>-2.23117934671504</li>\n",
       "\t<li>3.88047879952273</li>\n",
       "\t<li>1.54453958218907</li>\n",
       "\t<li>-1.88232848932829</li>\n",
       "\t<li>2.57569868529446</li>\n",
       "\t<li>1.44074479687245</li>\n",
       "\t<li>1.66367395501555</li>\n",
       "\t<li>1.32127510792195</li>\n",
       "\t<li>-4.05324068748844</li>\n",
       "\t<li>-0.380159960693067</li>\n",
       "\t<li>4.30082891992266</li>\n",
       "\t<li>-1.73521540187882</li>\n",
       "\t<li>3.21092916036497</li>\n",
       "\t<li>1.71623620234813</li>\n",
       "\t<li>1.12155590653593</li>\n",
       "\t<li>1.20235026819419</li>\n",
       "\t<li>-0.403326444417124</li>\n",
       "\t<li>0.384406072434668</li>\n",
       "\t<li>-0.337785251139064</li>\n",
       "\t<li>-1.87070031484979</li>\n",
       "\t<li>0.269343970957127</li>\n",
       "\t<li>2.32529417574593</li>\n",
       "\t<li>-7.30971532273251</li>\n",
       "\t<li>3.41488951873122</li>\n",
       "\t<li>5.07389413294717</li>\n",
       "\t<li>5.38325197224315</li>\n",
       "\t<li>4.22511595970912</li>\n",
       "\t<li>-2.73806301378413</li>\n",
       "\t<li>-0.906766445056433</li>\n",
       "\t<li>1.25592422256206</li>\n",
       "\t<li>-2.58785626042982</li>\n",
       "\t<li>5.75846245927019</li>\n",
       "\t<li>-2.56579884647626</li>\n",
       "\t<li>-0.118515117301093</li>\n",
       "\t<li>-3.43760536799751</li>\n",
       "\t<li>1.4507045050958</li>\n",
       "\t<li>3.64320903006051</li>\n",
       "\t<li>7.30557692388934</li>\n",
       "\t<li>-1.2007294233459</li>\n",
       "\t<li>4.52726323674083</li>\n",
       "\t<li>1.84828172079614</li>\n",
       "\t<li>0.992373947693639</li>\n",
       "\t<li>-3.91827945238542</li>\n",
       "\t<li>-3.03400068941971</li>\n",
       "\t<li>-0.0446589216723789</li>\n",
       "\t<li>0.289559815703329</li>\n",
       "\t<li>1.17776138170118</li>\n",
       "\t<li>5.41581599467256</li>\n",
       "\t<li>4.28200338664772</li>\n",
       "\t<li>-3.8109032302705</li>\n",
       "\t<li>0.381066716777123</li>\n",
       "\t<li>4.4033641014107</li>\n",
       "\t<li>-1.121622640771</li>\n",
       "\t<li>2.87350923049243</li>\n",
       "\t<li>-1.4169004434888</li>\n",
       "\t<li>-0.905729145316053</li>\n",
       "\t<li>3.08114280141143</li>\n",
       "</ol>\n"
      ],
      "text/latex": [
       "\\begin{enumerate*}\n",
       "\\item -0.0817921451561454\n",
       "\\item -0.545616051673507\n",
       "\\item 1.15770878900649\n",
       "\\item 5.00737646501963\n",
       "\\item -4.44142904629863\n",
       "\\item -1.29990187129049\n",
       "\\item -1.4895726951236\n",
       "\\item 5.46141632723151\n",
       "\\item 0.261181060261129\n",
       "\\item 4.71634479523151\n",
       "\\item 3.85556259035126\n",
       "\\item -2.0567590803009\n",
       "\\item 2.21916556879804\n",
       "\\item 3.56104404776638\n",
       "\\item 4.87021381968967\n",
       "\\item 3.76107698781255\n",
       "\\item 0.312977251692245\n",
       "\\item 3.40005701787458\n",
       "\\item 1.20514463559845\n",
       "\\item 0.326774871833328\n",
       "\\item 3.3908991021553\n",
       "\\item 3.43937215137976\n",
       "\\item -6.76027654154036\n",
       "\\item 4.19025382695785\n",
       "\\item 3.08745041104158\n",
       "\\item 3.6369164847198\n",
       "\\item -2.62328915022912\n",
       "\\item 0.787440979730095\n",
       "\\item 3.19423421118727\n",
       "\\item 3.57226815984659\n",
       "\\item 1.60026974399492\n",
       "\\item 2.68261662508373\n",
       "\\item 4.17228803591314\n",
       "\\item 0.821459475550281\n",
       "\\item 5.48839897269307\n",
       "\\item -0.49462149445121\n",
       "\\item 3.35564940269865\n",
       "\\item -3.49789760454249\n",
       "\\item -0.139439745452397\n",
       "\\item 2.34704517309619\n",
       "\\item -0.342201933667103\n",
       "\\item -1.00349706618057\n",
       "\\item 3.14829189041228\n",
       "\\item 7.144337612532\n",
       "\\item 3.6963222520387\n",
       "\\item 0.0899135527930779\n",
       "\\item 0.988660509434692\n",
       "\\item -0.235121065577723\n",
       "\\item -1.48101578065378\n",
       "\\item 2.03519597612224\n",
       "\\item -4.12614434587555\n",
       "\\item -1.46924591163817\n",
       "\\item 3.11781710355544\n",
       "\\item 0.080293913516144\n",
       "\\item 1.07395104619061\n",
       "\\item -1.8980584033848\n",
       "\\item -1.78763987065147\n",
       "\\item 0.276661056254061\n",
       "\\item 2.10251088780424\n",
       "\\item 2.94293157412728\n",
       "\\item -6.5993522982363\n",
       "\\item -0.319842203352172\n",
       "\\item 0.803900811166392\n",
       "\\item -1.57501950802887\n",
       "\\item -0.952641088921587\n",
       "\\item -2.53222004676399\n",
       "\\item 1.93105751269097\n",
       "\\item 0.733536843143911\n",
       "\\item 1.3483981943349\n",
       "\\item -3.23822746004653\n",
       "\\item 3.88242227075616\n",
       "\\item 0.653407057132142\n",
       "\\item -6.81881103573494\n",
       "\\item 2.30430185374616\n",
       "\\item 2.72886589665227\n",
       "\\item 0.137611175277515\n",
       "\\item 3.62293269035199\n",
       "\\item 0.622081575935447\n",
       "\\item -5.16706414489692\n",
       "\\item -2.84578212001585\n",
       "\\item -0.174050165124152\n",
       "\\item -3.49935809511239\n",
       "\\item 6.93873732448586\n",
       "\\item 0.696296023225614\n",
       "\\item -2.17827352256179\n",
       "\\item -0.402225273344865\n",
       "\\item -0.352948332632441\n",
       "\\item 3.80996610757279\n",
       "\\item 0.0762329514120523\n",
       "\\item -2.53870740820509\n",
       "\\item 9.16435012416846\n",
       "\\item 0.795722899341379\n",
       "\\item -0.55190202864375\n",
       "\\item 2.42565169272292\n",
       "\\item 4.46999628157138\n",
       "\\item 3.30091047104323\n",
       "\\item -0.0212582478750183\n",
       "\\item 5.48634617494606\n",
       "\\item -3.27539757562176\n",
       "\\item -0.284908548180418\n",
       "\\item 1.26003473423912\n",
       "\\item 3.12994131647279\n",
       "\\item 0.278884696321864\n",
       "\\item 3.31140944033696\n",
       "\\item 5.43992144610694\n",
       "\\item 0.630214708613184\n",
       "\\item -0.315224556851772\n",
       "\\item -1.42597824084473\n",
       "\\item 1.30609377066172\n",
       "\\item 0.56485656597158\n",
       "\\item -3.87151325025723\n",
       "\\item 2.54987222674642\n",
       "\\item -0.00152883174054308\n",
       "\\item 3.28267521712006\n",
       "\\item -2.54973069355385\n",
       "\\item 1.88939238900475\n",
       "\\item -1.8409007419427\n",
       "\\item 4.20017609118283\n",
       "\\item 2.22512982019781\n",
       "\\item -1.26879425854893\n",
       "\\item -3.1003911542028\n",
       "\\item 1.48270506645781\n",
       "\\item 2.44584293790628\n",
       "\\item -1.24638011114658\n",
       "\\item 3.75375086110856\n",
       "\\item 5.01245360951217\n",
       "\\item 6.0803408249678\n",
       "\\item -3.52919010195051\n",
       "\\item -1.07544394470793\n",
       "\\item 7.14972803026102\n",
       "\\item 5.11762444422368\n",
       "\\item -4.93894284978245\n",
       "\\item 11.8466492106181\n",
       "\\item 2.17701498280493\n",
       "\\item -0.31428296907258\n",
       "\\item 3.60666117601612\n",
       "\\item 3.42868638101106\n",
       "\\item 3.53005928299526\n",
       "\\item -3.62368787601317\n",
       "\\item -3.33254351729697\n",
       "\\item 1.3515787394525\n",
       "\\item 1.29854660152228\n",
       "\\item 3.23301899054637\n",
       "\\item -0.352308589931734\n",
       "\\item 4.29407130879068\n",
       "\\item 2.88309888521049\n",
       "\\item 3.96494452903558\n",
       "\\item 0.834694971677208\n",
       "\\item 2.53884927400923\n",
       "\\item 0.206639202542846\n",
       "\\item 0.3687003206144\n",
       "\\item 0.707249808869397\n",
       "\\item 1.06874609459631\n",
       "\\item -1.31888677184427\n",
       "\\item 2.26992640796738\n",
       "\\item 6.4332642382371\n",
       "\\item 1.80580534385204\n",
       "\\item -2.33027279234596\n",
       "\\item -6.58346851254328\n",
       "\\item -1.10520527543585\n",
       "\\item 6.11307511620572\n",
       "\\item -0.00426302804172263\n",
       "\\item 2.02336152473746\n",
       "\\item 1.64616858768004\n",
       "\\item 4.19563544969015\n",
       "\\item 4.61638140244013\n",
       "\\item 0.745323043430443\n",
       "\\item 6.29114095004214\n",
       "\\item 4.22750152027765\n",
       "\\item 1.85076115498169\n",
       "\\item -4.58756728423446\n",
       "\\item 0.609503435044563\n",
       "\\item 0.617952562558821\n",
       "\\item 1.8786282151468\n",
       "\\item -0.996968610513052\n",
       "\\item -2.2302503204328\n",
       "\\item 2.58419160007803\n",
       "\\item 0.0822607895083446\n",
       "\\item 5.71473444358694\n",
       "\\item 1.27100240289739\n",
       "\\item -4.19783538159609\n",
       "\\item -1.51415263068953\n",
       "\\item -0.671430106532707\n",
       "\\item -1.45896459021273\n",
       "\\item 3.92220330503345\n",
       "\\item 0.992587081709043\n",
       "\\item 1.02045469295032\n",
       "\\item -1.17320681145571\n",
       "\\item -0.322966973064232\n",
       "\\item -1.50425226171899\n",
       "\\item -4.28230146647885\n",
       "\\item -5.03224577313339\n",
       "\\item 0.858288918766548\n",
       "\\item 2.34176717200813\n",
       "\\item 0.107166862902418\n",
       "\\item 1.10461735372863\n",
       "\\item -1.15916867235819\n",
       "\\item 1.6816820706131\n",
       "\\item -1.45928497600437\n",
       "\\item -0.602038639727776\n",
       "\\item 0.512668451283544\n",
       "\\item 2.42994079223826\n",
       "\\item -2.70653462787173\n",
       "\\item 0.493198574891035\n",
       "\\item 1.35925683274807\n",
       "\\item 7.45438315334797\n",
       "\\item -5.73957225139685\n",
       "\\item 1.7163795321509\n",
       "\\item -1.00996458099353\n",
       "\\item 2.04773651253596\n",
       "\\item -3.52905158579529\n",
       "\\item -5.67248703782723\n",
       "\\item 0.885767292303869\n",
       "\\item 0.634653791948314\n",
       "\\item 3.02011880401248\n",
       "\\item 5.13858611483393\n",
       "\\item 4.00707692453797\n",
       "\\item 2.11036902845378\n",
       "\\item 2.46842288049356\n",
       "\\item 6.96440303542205\n",
       "\\item 0.670101386385273\n",
       "\\item 4.36426311898357\n",
       "\\item -0.414034159133754\n",
       "\\item 2.58856786515382\n",
       "\\item 1.20067929157484\n",
       "\\item 0.0162210337497939\n",
       "\\item -4.02905083044784\n",
       "\\item 3.91076101099195\n",
       "\\item 2.63582181994784\n",
       "\\item 0.135508432173992\n",
       "\\item -1.03535172932526\n",
       "\\item -2.11881727614375\n",
       "\\item -4.34076811100661\n",
       "\\item 1.86905948605075\n",
       "\\item 0.739164728871046\n",
       "\\item 1.29023786753782\n",
       "\\item -0.335481839974954\n",
       "\\item -3.67513431139876\n",
       "\\item -4.70266818087515\n",
       "\\item -0.851298945798719\n",
       "\\item -4.45202384512874\n",
       "\\item 1.85138183765793\n",
       "\\item 3.8686634206814\n",
       "\\item 2.01431019211431\n",
       "\\item 0.253869176054507\n",
       "\\item 1.91089630681333\n",
       "\\item 3.30058426104951\n",
       "\\item -2.69409516057867\n",
       "\\item 2.17945258787117\n",
       "\\item 7.99949374540434\n",
       "\\item 1.01708651434657\n",
       "\\item 3.80849554514184\n",
       "\\item 2.29200130202801\n",
       "\\item 4.68691635554904\n",
       "\\item 4.17740566866425\n",
       "\\item -0.750427952760983\n",
       "\\item -1.21247379336801\n",
       "\\item 8.1984632055446\n",
       "\\item -4.89281779642441\n",
       "\\item 2.64979218477242\n",
       "\\item -2.15694747192043\n",
       "\\item 5.6751828253882\n",
       "\\item 4.21595833322671\n",
       "\\item -2.90366528091915\n",
       "\\item -4.6365303406262\n",
       "\\item -1.44393708952488\n",
       "\\item 0.764891789368786\n",
       "\\item 5.57502185769537\n",
       "\\item 1.70551046224079\n",
       "\\item -4.72690531802925\n",
       "\\item 2.49450243665709\n",
       "\\item -2.56205934344618\n",
       "\\item 5.5368208893187\n",
       "\\item 0.84173008352575\n",
       "\\item -1.1486376625067\n",
       "\\item 4.57218151935647\n",
       "\\item 3.9122555993774\n",
       "\\item 0.179309473729004\n",
       "\\item -0.669822000782609\n",
       "\\item 2.41614970207969\n",
       "\\item 2.93144095258108\n",
       "\\item 1.06811798785096\n",
       "\\item 0.718489079853564\n",
       "\\item 3.07537573700733\n",
       "\\item -1.94247931413521\n",
       "\\item 2.11401583246505\n",
       "\\item 2.13242905874283\n",
       "\\item 0.263510410574856\n",
       "\\item -3.85237260977604\n",
       "\\item -2.36301644018125\n",
       "\\item 5.83443299014761\n",
       "\\item 4.21449626577805\n",
       "\\item 2.19965105109867\n",
       "\\item 7.51613742177566\n",
       "\\item 6.85620315233057\n",
       "\\item -1.16664572501\n",
       "\\item -2.94488748328253\n",
       "\\item -0.415773759914859\n",
       "\\item -3.50328619589788\n",
       "\\item 0.631234317998195\n",
       "\\item -4.1756738460918\n",
       "\\item 3.69351804150738\n",
       "\\item 5.3537019215098\n",
       "\\item -0.152045819822579\n",
       "\\item -0.391867577492546\n",
       "\\item 2.74712039275736\n",
       "\\item 2.18888536897037\n",
       "\\item -4.39259892942175\n",
       "\\item 6.57448034980402\n",
       "\\item 1.00583123329618\n",
       "\\item 1.08864520138373\n",
       "\\item -1.11555336075676\n",
       "\\item 0.906141406816007\n",
       "\\item 0.187132223793674\n",
       "\\item 2.17070764181606\n",
       "\\item 1.72497932570381\n",
       "\\item 0.796704270628517\n",
       "\\item -3.39416497841662\n",
       "\\item 1.233034105288\n",
       "\\item 1.18957738544234\n",
       "\\item -0.528588849175198\n",
       "\\item -1.77715350465628\n",
       "\\item 2.17278863897698\n",
       "\\item 2.66907693636277\n",
       "\\item -1.60273397022889\n",
       "\\item 0.821784960502672\n",
       "\\item 1.21093046426378\n",
       "\\item 0.867054320129831\n",
       "\\item 1.03166698420222\n",
       "\\item 3.6864205650036\n",
       "\\item 3.87859036195504\n",
       "\\item -2.40638796055861\n",
       "\\item 3.54033615944006\n",
       "\\item -2.74570482941979\n",
       "\\item 0.525002752849255\n",
       "\\item -2.02941026363252\n",
       "\\item 6.66734791987059\n",
       "\\item 2.35741527092219\n",
       "\\item -2.73802081709696\n",
       "\\item 2.78656055482171\n",
       "\\item 2.503191988626\n",
       "\\item 4.02024670728077\n",
       "\\item 0.72570412255676\n",
       "\\item 0.989678742745597\n",
       "\\item 0.940804774634559\n",
       "\\item 3.0570692300233\n",
       "\\item 4.99188653375976\n",
       "\\item 2.29192678229534\n",
       "\\item 1.65890239710158\n",
       "\\item 0.670710681245729\n",
       "\\item 6.16502259592617\n",
       "\\item 5.59235804575656\n",
       "\\item -0.00666745360772403\n",
       "\\item 1.50896303288279\n",
       "\\item 0.907132129619135\n",
       "\\item -5.27284492205765\n",
       "\\item 6.91862860465969\n",
       "\\item 1.83669896935054\n",
       "\\item -1.50643340392236\n",
       "\\item 0.734139760858336\n",
       "\\item 0.271305878208041\n",
       "\\item -0.965034474925378\n",
       "\\item 1.73133032541275\n",
       "\\item -0.794860977291168\n",
       "\\item 4.94988658961356\n",
       "\\item 5.17688083928806\n",
       "\\item -3.60678459149032\n",
       "\\item 3.19882815919925\n",
       "\\item -0.214840514710789\n",
       "\\item -0.138889675096268\n",
       "\\item -2.16467429806606\n",
       "\\item -2.69813153967625\n",
       "\\item 0.219703525154721\n",
       "\\item 4.48101431673787\n",
       "\\item 1.30431304590945\n",
       "\\item -1.43093176731546\n",
       "\\item 0.603059056963561\n",
       "\\item 6.40327381438981\n",
       "\\item 4.06082066149271\n",
       "\\item 1.8540143730381\n",
       "\\item 1.15962144554247\n",
       "\\item 1.77964263668677\n",
       "\\item 1.52682810218089\n",
       "\\item 7.14012621788534\n",
       "\\item -3.81967929405397\n",
       "\\item -1.51991431935388\n",
       "\\item -4.66712272746728\n",
       "\\item 1.89821537996257\n",
       "\\item -0.303066557788485\n",
       "\\item 1.39005683265072\n",
       "\\item -2.06242932167203\n",
       "\\item 3.20979679987759\n",
       "\\item 0.0324982369913719\n",
       "\\item -1.27692424136307\n",
       "\\item -4.26042409957605\n",
       "\\item 3.21269075599611\n",
       "\\item 2.11846780405761\n",
       "\\item -2.01912916240136\n",
       "\\item -1.34549692752341\n",
       "\\item 0.827012254215857\n",
       "\\item -2.50019901343311\n",
       "\\item 4.30668814451199\n",
       "\\item 1.57018163339814\n",
       "\\item 0.459530996954868\n",
       "\\item -0.732127301504625\n",
       "\\item 0.264464305402169\n",
       "\\item 1.908950689119\n",
       "\\item 2.73075178353623\n",
       "\\item -4.22772377378335\n",
       "\\item 1.40462550834434\n",
       "\\item -5.12370208800794\n",
       "\\item 1.97649271964491\n",
       "\\item 0.823549108012161\n",
       "\\item -3.88452999660856\n",
       "\\item 0.911925915319203\n",
       "\\item -0.781404586653536\n",
       "\\item 0.89386006275253\n",
       "\\item 6.15361794850604\n",
       "\\item 0.0210950607604239\n",
       "\\item -2.14401999383446\n",
       "\\item 0.3942662192899\n",
       "\\item 3.62630348781027\n",
       "\\item -2.54757670867911\n",
       "\\item -1.9177216256528\n",
       "\\item 2.28635193762047\n",
       "\\item 2.97256746110601\n",
       "\\item -1.59760145579719\n",
       "\\item -0.394914832536899\n",
       "\\item -0.916680321349651\n",
       "\\item 0.813004349508052\n",
       "\\item -0.312372356384694\n",
       "\\item 2.37839148849479\n",
       "\\item -2.77588359019744\n",
       "\\item 3.40474804559305\n",
       "\\item 1.38973455786395\n",
       "\\item 4.1865195982669\n",
       "\\item -2.74525564104742\n",
       "\\item 1.34844957264408\n",
       "\\item -0.424094575135789\n",
       "\\item 1.3100346981799\n",
       "\\item -0.894299652455955\n",
       "\\item 0.788241522225494\n",
       "\\item -1.93161888049065\n",
       "\\item -0.195119445716139\n",
       "\\item 3.31515896896329\n",
       "\\item 1.76807749480468\n",
       "\\item 2.05316342767867\n",
       "\\item 1.97950749732895\n",
       "\\item -0.475856764411846\n",
       "\\item -0.466532845935741\n",
       "\\item 2.67038236519654\n",
       "\\item 6.24911344961427\n",
       "\\item -4.30565398920038\n",
       "\\item 7.26570156523428\n",
       "\\item 4.62652005995904\n",
       "\\item 2.25033947710605\n",
       "\\item 0.632218060786089\n",
       "\\item 4.44693635976172\n",
       "\\item 0.14017281714966\n",
       "\\item -1.29240512015017\n",
       "\\item 6.37259147926284\n",
       "\\item 2.7351266138137\n",
       "\\item 1.52407381139652\n",
       "\\item 1.97958786010868\n",
       "\\item -1.97875905670115\n",
       "\\item -1.68851287644636\n",
       "\\item 0.938592929294984\n",
       "\\item -2.1865639801554\n",
       "\\item 2.04608591784919\n",
       "\\item 1.48625207218737\n",
       "\\item -4.9539992639299\n",
       "\\item 0.654310600919443\n",
       "\\item -0.0757894916273605\n",
       "\\item 0.443334012795029\n",
       "\\item -0.776592407968034\n",
       "\\item -4.19560014952441\n",
       "\\item -1.89291187584526\n",
       "\\item 1.82088244293344\n",
       "\\item 6.20045041334607\n",
       "\\item 0.887056178547487\n",
       "\\item 1.31463038729985\n",
       "\\item 0.693132613893948\n",
       "\\item -1.67476896593399\n",
       "\\item -5.04620558973587\n",
       "\\item 1.39723488775484\n",
       "\\item 2.62669728001025\n",
       "\\item 6.19928096830379\n",
       "\\item 0.694265603752855\n",
       "\\item 11.4857876527264\n",
       "\\item 2.76354160232039\n",
       "\\item -0.670942662719753\n",
       "\\item 1.74949907511868\n",
       "\\item 3.23975568289423\n",
       "\\item -0.342971961645023\n",
       "\\item -0.409557744694731\n",
       "\\item -2.23803652884802\n",
       "\\item 0.576928493325927\n",
       "\\item 3.96792173990338\n",
       "\\item 0.0801783403041605\n",
       "\\item -5.26043314540636\n",
       "\\item 1.45637107786779\n",
       "\\item -0.501237813569166\n",
       "\\item 1.26204327863951\n",
       "\\item 0.584894569882787\n",
       "\\item -1.46071166595885\n",
       "\\item -0.917649122990245\n",
       "\\item -1.27929619964273\n",
       "\\item 4.78280661091284\n",
       "\\item -1.36483556368418\n",
       "\\item -0.286397687782665\n",
       "\\item 2.41224951353541\n",
       "\\item -0.562772026654435\n",
       "\\item -2.05059612879088\n",
       "\\item -2.33257260650938\n",
       "\\item 6.83792513054116\n",
       "\\item -3.46047837155542\n",
       "\\item -1.84420367931893\n",
       "\\item -0.510039619179444\n",
       "\\item 2.3993286053335\n",
       "\\item -0.393136426037398\n",
       "\\item -1.84698632529385\n",
       "\\item 0.977055867506755\n",
       "\\item 1.86963226117968\n",
       "\\item 0.238783399621191\n",
       "\\item 2.29741492645979\n",
       "\\item -4.05958603952383\n",
       "\\item 3.30332436029105\n",
       "\\item 4.81062365855588\n",
       "\\item 5.28431098547193\n",
       "\\item 2.9958389183935\n",
       "\\item -3.23012750309466\n",
       "\\item -0.990883632146396\n",
       "\\item -1.57899882573154\n",
       "\\item 2.40432364399985\n",
       "\\item 0.00358931758164438\n",
       "\\item -2.3111314875646\n",
       "\\item 3.28551520856347\n",
       "\\item 4.11777915486697\n",
       "\\item -1.3295090801189\n",
       "\\item 1.58005222944642\n",
       "\\item 3.24047166551839\n",
       "\\item 2.86779343306387\n",
       "\\item -3.92206478877093\n",
       "\\item 3.62282471704981\n",
       "\\item 1.06976557370886\n",
       "\\item 2.39466080076758\n",
       "\\item -1.16215912520343\n",
       "\\item 0.121973395714736\n",
       "\\item 0.583283791142845\n",
       "\\item 3.079675016042\n",
       "\\item -0.714001432507587\n",
       "\\item -0.0729748521990514\n",
       "\\item -1.92961817539017\n",
       "\\item 9.75857048959831\n",
       "\\item 3.50303710487801\n",
       "\\item -1.63045863739084\n",
       "\\item 1.02844983616494\n",
       "\\item 2.92183368487586\n",
       "\\item 4.86791404013461\n",
       "\\item 4.93823254057167\n",
       "\\item -3.12913182907066\n",
       "\\item 4.76444799955062\n",
       "\\item -2.91476754632556\n",
       "\\item 4.01147192139062\n",
       "\\item -0.101109928381751\n",
       "\\item -0.0683551224777115\n",
       "\\item -2.04688065184546\n",
       "\\item 2.04265949030546\n",
       "\\item 2.68472943714023\n",
       "\\item 2.12262849943263\n",
       "\\item -0.0322632164293846\n",
       "\\item 0.0573850249965123\n",
       "\\item 2.30327359633681\n",
       "\\item 5.72930112746418\n",
       "\\item 4.06098512070646\n",
       "\\item 4.33154238853485\n",
       "\\item 1.62048000906613\n",
       "\\item -2.12035389914765\n",
       "\\item 1.39677290023569\n",
       "\\item -1.29583975246828\n",
       "\\item 3.40521784377668\n",
       "\\item 0.158879655643905\n",
       "\\item 3.23725929246138\n",
       "\\item 5.30516720269046\n",
       "\\item -2.26507834992269\n",
       "\\item -1.35524468187405\n",
       "\\item 4.88216180617606\n",
       "\\item 4.97604987163149\n",
       "\\item 4.19572199536518\n",
       "\\item 6.94689677534815\n",
       "\\item 2.93848048892322\n",
       "\\item 1.69027674553993\n",
       "\\item -2.19784198495156\n",
       "\\item 4.47061669011607\n",
       "\\item 2.9340856312751\n",
       "\\item -1.58909159446451\n",
       "\\item 0.769936592434325\n",
       "\\item -0.680912624607469\n",
       "\\item 0.72072119296653\n",
       "\\item -0.73282015818166\n",
       "\\item 0.259669603028811\n",
       "\\item 2.26018048673335\n",
       "\\item -5.34791031358138\n",
       "\\item 5.33316406244255\n",
       "\\item 8.48305344413717\n",
       "\\item -1.26006781161164\n",
       "\\item 4.056972409345\n",
       "\\item 0.437556074201825\n",
       "\\item 0.94795482026774\n",
       "\\item 0.226555366987188\n",
       "\\item 0.00749513105511179\n",
       "\\item -0.00117314265355839\n",
       "\\item 3.83959786867747\n",
       "\\item -0.0714777490873384\n",
       "\\item 0.107665189947545\n",
       "\\item -0.759661599320557\n",
       "\\item 2.59333830594618\n",
       "\\item 2.03691102973657\n",
       "\\item 0.123157823106035\n",
       "\\item 1.22216512205405\n",
       "\\item 3.72777858253233\n",
       "\\item 2.87539360256184\n",
       "\\item 2.05006778262476\n",
       "\\item -0.361278468479225\n",
       "\\item 5.66670520432565\n",
       "\\item -0.842699650881975\n",
       "\\item -3.40995255345406\n",
       "\\item 0.59756880470643\n",
       "\\item -1.65903457327324\n",
       "\\item 1.32754422006006\n",
       "\\item 4.59612514253424\n",
       "\\item -0.069237164944\n",
       "\\item -1.33208400436729\n",
       "\\item 2.22485536339247\n",
       "\\item -0.511927281242579\n",
       "\\item 5.82250153440204\n",
       "\\item 9.18834929957305\n",
       "\\item -0.860936236248217\n",
       "\\item -1.5631449455535\n",
       "\\item -2.81668842228144\n",
       "\\item 0.475811189167771\n",
       "\\item 1.53426562609824\n",
       "\\item 2.46139282904518\n",
       "\\item -2.16160192071863\n",
       "\\item -0.575471796140993\n",
       "\\item 3.24383631024345\n",
       "\\item -1.07318451864179\n",
       "\\item 2.27546663004467\n",
       "\\item -0.975975522809711\n",
       "\\item -1.66802071748149\n",
       "\\item 2.06689369638378\n",
       "\\item 4.31623487548079\n",
       "\\item -2.0140329497443\n",
       "\\item 3.40535845633176\n",
       "\\item -4.58388787766234\n",
       "\\item -0.273800612189143\n",
       "\\item 2.06998301884804\n",
       "\\item 4.90495873068102\n",
       "\\item -2.66692884289006\n",
       "\\item -0.761056517117253\n",
       "\\item 0.289796219697944\n",
       "\\item -0.999703259945225\n",
       "\\item -0.271150903088356\n",
       "\\item 4.03991231749896\n",
       "\\item -1.39830505976353\n",
       "\\item 3.28195186079786\n",
       "\\item -1.33185191403929\n",
       "\\item -1.98901434107634\n",
       "\\item -2.75631830973786\n",
       "\\item -1.74618192794064\n",
       "\\item 0.419412218915493\n",
       "\\item 3.73211350066573\n",
       "\\item -1.29276988333413\n",
       "\\item 0.969407418761392\n",
       "\\item -2.49987853719988\n",
       "\\item 3.84319811282819\n",
       "\\item 8.3279401044613\n",
       "\\item 2.59261609454865\n",
       "\\item -2.64359913002185\n",
       "\\item -1.97305215163468\n",
       "\\item -0.87679916075894\n",
       "\\item -0.872534611968574\n",
       "\\item -3.4207415550917\n",
       "\\item -1.09054860949755\n",
       "\\item 4.49849148899983\n",
       "\\item 2.96189011056663\n",
       "\\item -0.617957225281653\n",
       "\\item 2.93432269805026\n",
       "\\item 2.46121613150302\n",
       "\\item -1.81928251599415\n",
       "\\item 1.73187807797854\n",
       "\\item -1.5140328553457\n",
       "\\item 0.810732705154738\n",
       "\\item -5.105662537995\n",
       "\\item 2.25637004537037\n",
       "\\item 5.36278933338846\n",
       "\\item 0.984929891597729\n",
       "\\item 0.134845001647818\n",
       "\\item 0.491279571281269\n",
       "\\item 0.616323145054102\n",
       "\\item 2.47146879583033\n",
       "\\item -9.75553414316677\n",
       "\\item -0.433738500259709\n",
       "\\item -0.0854278765841125\n",
       "\\item 0.214094116069334\n",
       "\\item -0.132052329867027\n",
       "\\item 2.55952829946614\n",
       "\\item 5.71062681243526\n",
       "\\item -1.90187050087596\n",
       "\\item 4.81056644133582\n",
       "\\item 0.553792031864027\n",
       "\\item 5.48738479060279\n",
       "\\item 3.17552038185185\n",
       "\\item -6.15460939353144\n",
       "\\item 1.61490914774454\n",
       "\\item 3.45905489240177\n",
       "\\item -1.69093680259514\n",
       "\\item 3.64791336796706\n",
       "\\item -1.54069194522592\n",
       "\\item -2.1489126591881\n",
       "\\item 3.46299935727077\n",
       "\\item 10.0251873008944\n",
       "\\item 2.12376933459223\n",
       "\\item -3.26084192444371\n",
       "\\item -1.80568632520258\n",
       "\\item 3.0324646100935\n",
       "\\item 1.45826655728394\n",
       "\\item 0.472454608928984\n",
       "\\item 1.31041397841589\n",
       "\\item 5.47914646364466\n",
       "\\item -0.405265935096769\n",
       "\\item 0.510366388919907\n",
       "\\item 1.68824754530678\n",
       "\\item 0.0854874366924948\n",
       "\\item 6.37585686149835\n",
       "\\item 3.06010510840777\n",
       "\\item 1.35949964768088\n",
       "\\item 2.75024306861066\n",
       "\\item -3.30106821281652\n",
       "\\item -4.08914416661667\n",
       "\\item -0.387037014081621\n",
       "\\item -3.12478376947904\n",
       "\\item 2.65529432516377\n",
       "\\item -8.41410283574994\n",
       "\\item 1.19806744202868\n",
       "\\item 2.86604081292252\n",
       "\\item -0.989965461881139\n",
       "\\item 1.52875836368007\n",
       "\\item 2.77414378887635\n",
       "\\item -3.53277237857609\n",
       "\\item 4.28790823077019\n",
       "\\item -0.478386089853423\n",
       "\\item 1.86108773494276\n",
       "\\item -0.321825619964516\n",
       "\\item 2.10471419672728\n",
       "\\item -2.0118496093154\n",
       "\\item 3.01090282903702\n",
       "\\item 2.26507590561236\n",
       "\\item -0.912196232028771\n",
       "\\item 3.68897126787928\n",
       "\\item 3.62636511317182\n",
       "\\item -2.68496812797474\n",
       "\\item -0.58531320849144\n",
       "\\item 0.860017025081773\n",
       "\\item 3.06406219711605\n",
       "\\item 0.391439168062896\n",
       "\\item -1.85676612490034\n",
       "\\item 1.57878922809132\n",
       "\\item 4.67288168637771\n",
       "\\item -6.69760334916645\n",
       "\\item 4.38836316455368\n",
       "\\item 1.90437700328807\n",
       "\\item -2.69727201997253\n",
       "\\item 0.0152861653060368\n",
       "\\item -1.44685462888201\n",
       "\\item 1.67381021572624\n",
       "\\item 2.79418997142861\n",
       "\\item 1.38927850099026\n",
       "\\item -0.891918389491992\n",
       "\\item -0.109354755528678\n",
       "\\item 3.20319959470122\n",
       "\\item 0.0183050056335528\n",
       "\\item -0.164812680404073\n",
       "\\item 3.45513750286284\n",
       "\\item -3.03976348892832\n",
       "\\item 1.70790259433279\n",
       "\\item 0.0235973148086667\n",
       "\\item -3.0000665621087\n",
       "\\item -2.59434240602898\n",
       "\\item 1.08720574036605\n",
       "\\item 1.26796528609014\n",
       "\\item 2.2543201936109\n",
       "\\item 1.4687629945455\n",
       "\\item -2.39451226864627\n",
       "\\item 3.26400119068659\n",
       "\\item -3.68997217809398\n",
       "\\item 4.43129100280677\n",
       "\\item 0.955977609764361\n",
       "\\item -5.6203525787067\n",
       "\\item -1.91248317917598\n",
       "\\item -4.4292003671694\n",
       "\\item 0.555148746557091\n",
       "\\item 1.463550740951\n",
       "\\item 0.58937121748571\n",
       "\\item 2.16573555943056\n",
       "\\item 2.81145323307219\n",
       "\\item -0.238715808806742\n",
       "\\item -3.42342438623239\n",
       "\\item -0.0431606223309577\n",
       "\\item -2.28905958990987\n",
       "\\item 7.77516928234357\n",
       "\\item -0.508036415131019\n",
       "\\item 1.19923359752148\n",
       "\\item -1.42189696874772\n",
       "\\item 0.524145518138599\n",
       "\\item 4.08361209120057\n",
       "\\item 0.591680184290906\n",
       "\\item 5.33486177931092\n",
       "\\item 1.37844076352586\n",
       "\\item 1.80639229628321\n",
       "\\item -0.0875159526372344\n",
       "\\item -2.59156928536646\n",
       "\\item -2.05362794364464\n",
       "\\item 4.7710586867133\n",
       "\\item 2.22635033706622\n",
       "\\item 4.64513346582007\n",
       "\\item 7.15229743143863\n",
       "\\item 2.17137597990368\n",
       "\\item 2.72107632839244\n",
       "\\item 0.0875616413673284\n",
       "\\item -0.547216179134472\n",
       "\\item -0.454982999640471\n",
       "\\item 0.0567047285263504\n",
       "\\item -1.27344478901322\n",
       "\\item 0.19061262015449\n",
       "\\item 0.756630777941229\n",
       "\\item -3.25255318018821\n",
       "\\item 6.89322317624919\n",
       "\\item 2.42455916140523\n",
       "\\item 4.90043908761146\n",
       "\\item 1.85133025664903\n",
       "\\item -1.77920388423348\n",
       "\\item -0.188023582864858\n",
       "\\item 8.20315712504569\n",
       "\\item 1.59834268575783\n",
       "\\item 0.567985213281911\n",
       "\\item 7.02828374495078\n",
       "\\item 1.26673930819384\n",
       "\\item 0.889840287411252\n",
       "\\item 1.32374556797459\n",
       "\\item -0.105895702089082\n",
       "\\item 3.4160711327569\n",
       "\\item 3.38821461764244\n",
       "\\item 1.62908384576401\n",
       "\\item 1.63281967122961\n",
       "\\item -0.132401246651352\n",
       "\\item -2.26817673404384\n",
       "\\item -1.19481720736209\n",
       "\\item 4.12050189420989\n",
       "\\item 0.605989292443706\n",
       "\\item 0.577888947255083\n",
       "\\item 4.53507779591816\n",
       "\\item 7.17642169511077\n",
       "\\item -3.83305592840955\n",
       "\\item 3.79294065015841\n",
       "\\item 3.23768461829493\n",
       "\\item 5.44890922807981\n",
       "\\item 1.56456246521478\n",
       "\\item -3.09015524777967\n",
       "\\item 6.32448692115234\n",
       "\\item -2.4916982789775\n",
       "\\item 1.34642748226811\n",
       "\\item 3.14095818272647\n",
       "\\item -1.42525190602738\n",
       "\\item 3.95086501094505\n",
       "\\item 2.8921184532168\n",
       "\\item 5.91171484512302\n",
       "\\item 2.98859934175056\n",
       "\\item 6.60163622840596\n",
       "\\item -0.879240083644487\n",
       "\\item -0.168977372772672\n",
       "\\item 8.48789887675278\n",
       "\\item -2.28083432727011\n",
       "\\item -0.642395516140953\n",
       "\\item -1.42657304858432\n",
       "\\item 4.38465457541442\n",
       "\\item 0.83923098085583\n",
       "\\item 1.14201912080787\n",
       "\\item 3.76471126960531\n",
       "\\item 3.16560937188346\n",
       "\\item 4.54304323141982\n",
       "\\item 3.66791973043638\n",
       "\\item 4.14195479972697\n",
       "\\item 1.01439027078952\n",
       "\\item -1.46328681091406\n",
       "\\item 0.941513688139856\n",
       "\\item 2.52391578101065\n",
       "\\item 5.45455364694874\n",
       "\\item 3.94624637322757\n",
       "\\item 0.514221718384659\n",
       "\\item 2.79047313577268\n",
       "\\item 2.28043953133663\n",
       "\\item 6.15134100891451\n",
       "\\item 6.71700599283868\n",
       "\\item -0.524866179252585\n",
       "\\item 6.13146487418008\n",
       "\\item 1.6394910614392\n",
       "\\item 3.78301067400136\n",
       "\\item -2.95236512238759\n",
       "\\item -3.54102102373742\n",
       "\\item 2.0241604115871\n",
       "\\item 3.40480560665511\n",
       "\\item 2.41857152118624\n",
       "\\item 0.627403971048387\n",
       "\\item -1.69727805998603\n",
       "\\item 2.75248965389919\n",
       "\\item -0.329112080532896\n",
       "\\item 1.99494924864119\n",
       "\\item 0.346867461112808\n",
       "\\item 1.01713573211606\n",
       "\\item -0.920097893964087\n",
       "\\item -0.347622906263169\n",
       "\\item 1.41254800805533\n",
       "\\item -0.317334881171472\n",
       "\\item 3.26371889671\n",
       "\\item -6.81473334752878\n",
       "\\item -1.50287772553479\n",
       "\\item -1.6007094457828\n",
       "\\item 1.34388007950826\n",
       "\\item -1.84300402153056\n",
       "\\item 3.39265276099892\n",
       "\\item 0.0378908124209125\n",
       "\\item -0.665506765108874\n",
       "\\item 0.415465578779741\n",
       "\\item 1.21333249991405\n",
       "\\item 2.34638293277618\n",
       "\\item 5.41352479082117\n",
       "\\item 4.36546602325673\n",
       "\\item 3.86128018939158\n",
       "\\item 1.89831788798389\n",
       "\\item -0.818757867399674\n",
       "\\item 2.15141249595872\n",
       "\\item 0.584244129353417\n",
       "\\item -2.23117934671504\n",
       "\\item 3.88047879952273\n",
       "\\item 1.54453958218907\n",
       "\\item -1.88232848932829\n",
       "\\item 2.57569868529446\n",
       "\\item 1.44074479687245\n",
       "\\item 1.66367395501555\n",
       "\\item 1.32127510792195\n",
       "\\item -4.05324068748844\n",
       "\\item -0.380159960693067\n",
       "\\item 4.30082891992266\n",
       "\\item -1.73521540187882\n",
       "\\item 3.21092916036497\n",
       "\\item 1.71623620234813\n",
       "\\item 1.12155590653593\n",
       "\\item 1.20235026819419\n",
       "\\item -0.403326444417124\n",
       "\\item 0.384406072434668\n",
       "\\item -0.337785251139064\n",
       "\\item -1.87070031484979\n",
       "\\item 0.269343970957127\n",
       "\\item 2.32529417574593\n",
       "\\item -7.30971532273251\n",
       "\\item 3.41488951873122\n",
       "\\item 5.07389413294717\n",
       "\\item 5.38325197224315\n",
       "\\item 4.22511595970912\n",
       "\\item -2.73806301378413\n",
       "\\item -0.906766445056433\n",
       "\\item 1.25592422256206\n",
       "\\item -2.58785626042982\n",
       "\\item 5.75846245927019\n",
       "\\item -2.56579884647626\n",
       "\\item -0.118515117301093\n",
       "\\item -3.43760536799751\n",
       "\\item 1.4507045050958\n",
       "\\item 3.64320903006051\n",
       "\\item 7.30557692388934\n",
       "\\item -1.2007294233459\n",
       "\\item 4.52726323674083\n",
       "\\item 1.84828172079614\n",
       "\\item 0.992373947693639\n",
       "\\item -3.91827945238542\n",
       "\\item -3.03400068941971\n",
       "\\item -0.0446589216723789\n",
       "\\item 0.289559815703329\n",
       "\\item 1.17776138170118\n",
       "\\item 5.41581599467256\n",
       "\\item 4.28200338664772\n",
       "\\item -3.8109032302705\n",
       "\\item 0.381066716777123\n",
       "\\item 4.4033641014107\n",
       "\\item -1.121622640771\n",
       "\\item 2.87350923049243\n",
       "\\item -1.4169004434888\n",
       "\\item -0.905729145316053\n",
       "\\item 3.08114280141143\n",
       "\\end{enumerate*}\n"
      ],
      "text/markdown": [
       "1. -0.0817921451561454\n",
       "2. -0.545616051673507\n",
       "3. 1.15770878900649\n",
       "4. 5.00737646501963\n",
       "5. -4.44142904629863\n",
       "6. -1.29990187129049\n",
       "7. -1.4895726951236\n",
       "8. 5.46141632723151\n",
       "9. 0.261181060261129\n",
       "10. 4.71634479523151\n",
       "11. 3.85556259035126\n",
       "12. -2.0567590803009\n",
       "13. 2.21916556879804\n",
       "14. 3.56104404776638\n",
       "15. 4.87021381968967\n",
       "16. 3.76107698781255\n",
       "17. 0.312977251692245\n",
       "18. 3.40005701787458\n",
       "19. 1.20514463559845\n",
       "20. 0.326774871833328\n",
       "21. 3.3908991021553\n",
       "22. 3.43937215137976\n",
       "23. -6.76027654154036\n",
       "24. 4.19025382695785\n",
       "25. 3.08745041104158\n",
       "26. 3.6369164847198\n",
       "27. -2.62328915022912\n",
       "28. 0.787440979730095\n",
       "29. 3.19423421118727\n",
       "30. 3.57226815984659\n",
       "31. 1.60026974399492\n",
       "32. 2.68261662508373\n",
       "33. 4.17228803591314\n",
       "34. 0.821459475550281\n",
       "35. 5.48839897269307\n",
       "36. -0.49462149445121\n",
       "37. 3.35564940269865\n",
       "38. -3.49789760454249\n",
       "39. -0.139439745452397\n",
       "40. 2.34704517309619\n",
       "41. -0.342201933667103\n",
       "42. -1.00349706618057\n",
       "43. 3.14829189041228\n",
       "44. 7.144337612532\n",
       "45. 3.6963222520387\n",
       "46. 0.0899135527930779\n",
       "47. 0.988660509434692\n",
       "48. -0.235121065577723\n",
       "49. -1.48101578065378\n",
       "50. 2.03519597612224\n",
       "51. -4.12614434587555\n",
       "52. -1.46924591163817\n",
       "53. 3.11781710355544\n",
       "54. 0.080293913516144\n",
       "55. 1.07395104619061\n",
       "56. -1.8980584033848\n",
       "57. -1.78763987065147\n",
       "58. 0.276661056254061\n",
       "59. 2.10251088780424\n",
       "60. 2.94293157412728\n",
       "61. -6.5993522982363\n",
       "62. -0.319842203352172\n",
       "63. 0.803900811166392\n",
       "64. -1.57501950802887\n",
       "65. -0.952641088921587\n",
       "66. -2.53222004676399\n",
       "67. 1.93105751269097\n",
       "68. 0.733536843143911\n",
       "69. 1.3483981943349\n",
       "70. -3.23822746004653\n",
       "71. 3.88242227075616\n",
       "72. 0.653407057132142\n",
       "73. -6.81881103573494\n",
       "74. 2.30430185374616\n",
       "75. 2.72886589665227\n",
       "76. 0.137611175277515\n",
       "77. 3.62293269035199\n",
       "78. 0.622081575935447\n",
       "79. -5.16706414489692\n",
       "80. -2.84578212001585\n",
       "81. -0.174050165124152\n",
       "82. -3.49935809511239\n",
       "83. 6.93873732448586\n",
       "84. 0.696296023225614\n",
       "85. -2.17827352256179\n",
       "86. -0.402225273344865\n",
       "87. -0.352948332632441\n",
       "88. 3.80996610757279\n",
       "89. 0.0762329514120523\n",
       "90. -2.53870740820509\n",
       "91. 9.16435012416846\n",
       "92. 0.795722899341379\n",
       "93. -0.55190202864375\n",
       "94. 2.42565169272292\n",
       "95. 4.46999628157138\n",
       "96. 3.30091047104323\n",
       "97. -0.0212582478750183\n",
       "98. 5.48634617494606\n",
       "99. -3.27539757562176\n",
       "100. -0.284908548180418\n",
       "101. 1.26003473423912\n",
       "102. 3.12994131647279\n",
       "103. 0.278884696321864\n",
       "104. 3.31140944033696\n",
       "105. 5.43992144610694\n",
       "106. 0.630214708613184\n",
       "107. -0.315224556851772\n",
       "108. -1.42597824084473\n",
       "109. 1.30609377066172\n",
       "110. 0.56485656597158\n",
       "111. -3.87151325025723\n",
       "112. 2.54987222674642\n",
       "113. -0.00152883174054308\n",
       "114. 3.28267521712006\n",
       "115. -2.54973069355385\n",
       "116. 1.88939238900475\n",
       "117. -1.8409007419427\n",
       "118. 4.20017609118283\n",
       "119. 2.22512982019781\n",
       "120. -1.26879425854893\n",
       "121. -3.1003911542028\n",
       "122. 1.48270506645781\n",
       "123. 2.44584293790628\n",
       "124. -1.24638011114658\n",
       "125. 3.75375086110856\n",
       "126. 5.01245360951217\n",
       "127. 6.0803408249678\n",
       "128. -3.52919010195051\n",
       "129. -1.07544394470793\n",
       "130. 7.14972803026102\n",
       "131. 5.11762444422368\n",
       "132. -4.93894284978245\n",
       "133. 11.8466492106181\n",
       "134. 2.17701498280493\n",
       "135. -0.31428296907258\n",
       "136. 3.60666117601612\n",
       "137. 3.42868638101106\n",
       "138. 3.53005928299526\n",
       "139. -3.62368787601317\n",
       "140. -3.33254351729697\n",
       "141. 1.3515787394525\n",
       "142. 1.29854660152228\n",
       "143. 3.23301899054637\n",
       "144. -0.352308589931734\n",
       "145. 4.29407130879068\n",
       "146. 2.88309888521049\n",
       "147. 3.96494452903558\n",
       "148. 0.834694971677208\n",
       "149. 2.53884927400923\n",
       "150. 0.206639202542846\n",
       "151. 0.3687003206144\n",
       "152. 0.707249808869397\n",
       "153. 1.06874609459631\n",
       "154. -1.31888677184427\n",
       "155. 2.26992640796738\n",
       "156. 6.4332642382371\n",
       "157. 1.80580534385204\n",
       "158. -2.33027279234596\n",
       "159. -6.58346851254328\n",
       "160. -1.10520527543585\n",
       "161. 6.11307511620572\n",
       "162. -0.00426302804172263\n",
       "163. 2.02336152473746\n",
       "164. 1.64616858768004\n",
       "165. 4.19563544969015\n",
       "166. 4.61638140244013\n",
       "167. 0.745323043430443\n",
       "168. 6.29114095004214\n",
       "169. 4.22750152027765\n",
       "170. 1.85076115498169\n",
       "171. -4.58756728423446\n",
       "172. 0.609503435044563\n",
       "173. 0.617952562558821\n",
       "174. 1.8786282151468\n",
       "175. -0.996968610513052\n",
       "176. -2.2302503204328\n",
       "177. 2.58419160007803\n",
       "178. 0.0822607895083446\n",
       "179. 5.71473444358694\n",
       "180. 1.27100240289739\n",
       "181. -4.19783538159609\n",
       "182. -1.51415263068953\n",
       "183. -0.671430106532707\n",
       "184. -1.45896459021273\n",
       "185. 3.92220330503345\n",
       "186. 0.992587081709043\n",
       "187. 1.02045469295032\n",
       "188. -1.17320681145571\n",
       "189. -0.322966973064232\n",
       "190. -1.50425226171899\n",
       "191. -4.28230146647885\n",
       "192. -5.03224577313339\n",
       "193. 0.858288918766548\n",
       "194. 2.34176717200813\n",
       "195. 0.107166862902418\n",
       "196. 1.10461735372863\n",
       "197. -1.15916867235819\n",
       "198. 1.6816820706131\n",
       "199. -1.45928497600437\n",
       "200. -0.602038639727776\n",
       "201. 0.512668451283544\n",
       "202. 2.42994079223826\n",
       "203. -2.70653462787173\n",
       "204. 0.493198574891035\n",
       "205. 1.35925683274807\n",
       "206. 7.45438315334797\n",
       "207. -5.73957225139685\n",
       "208. 1.7163795321509\n",
       "209. -1.00996458099353\n",
       "210. 2.04773651253596\n",
       "211. -3.52905158579529\n",
       "212. -5.67248703782723\n",
       "213. 0.885767292303869\n",
       "214. 0.634653791948314\n",
       "215. 3.02011880401248\n",
       "216. 5.13858611483393\n",
       "217. 4.00707692453797\n",
       "218. 2.11036902845378\n",
       "219. 2.46842288049356\n",
       "220. 6.96440303542205\n",
       "221. 0.670101386385273\n",
       "222. 4.36426311898357\n",
       "223. -0.414034159133754\n",
       "224. 2.58856786515382\n",
       "225. 1.20067929157484\n",
       "226. 0.0162210337497939\n",
       "227. -4.02905083044784\n",
       "228. 3.91076101099195\n",
       "229. 2.63582181994784\n",
       "230. 0.135508432173992\n",
       "231. -1.03535172932526\n",
       "232. -2.11881727614375\n",
       "233. -4.34076811100661\n",
       "234. 1.86905948605075\n",
       "235. 0.739164728871046\n",
       "236. 1.29023786753782\n",
       "237. -0.335481839974954\n",
       "238. -3.67513431139876\n",
       "239. -4.70266818087515\n",
       "240. -0.851298945798719\n",
       "241. -4.45202384512874\n",
       "242. 1.85138183765793\n",
       "243. 3.8686634206814\n",
       "244. 2.01431019211431\n",
       "245. 0.253869176054507\n",
       "246. 1.91089630681333\n",
       "247. 3.30058426104951\n",
       "248. -2.69409516057867\n",
       "249. 2.17945258787117\n",
       "250. 7.99949374540434\n",
       "251. 1.01708651434657\n",
       "252. 3.80849554514184\n",
       "253. 2.29200130202801\n",
       "254. 4.68691635554904\n",
       "255. 4.17740566866425\n",
       "256. -0.750427952760983\n",
       "257. -1.21247379336801\n",
       "258. 8.1984632055446\n",
       "259. -4.89281779642441\n",
       "260. 2.64979218477242\n",
       "261. -2.15694747192043\n",
       "262. 5.6751828253882\n",
       "263. 4.21595833322671\n",
       "264. -2.90366528091915\n",
       "265. -4.6365303406262\n",
       "266. -1.44393708952488\n",
       "267. 0.764891789368786\n",
       "268. 5.57502185769537\n",
       "269. 1.70551046224079\n",
       "270. -4.72690531802925\n",
       "271. 2.49450243665709\n",
       "272. -2.56205934344618\n",
       "273. 5.5368208893187\n",
       "274. 0.84173008352575\n",
       "275. -1.1486376625067\n",
       "276. 4.57218151935647\n",
       "277. 3.9122555993774\n",
       "278. 0.179309473729004\n",
       "279. -0.669822000782609\n",
       "280. 2.41614970207969\n",
       "281. 2.93144095258108\n",
       "282. 1.06811798785096\n",
       "283. 0.718489079853564\n",
       "284. 3.07537573700733\n",
       "285. -1.94247931413521\n",
       "286. 2.11401583246505\n",
       "287. 2.13242905874283\n",
       "288. 0.263510410574856\n",
       "289. -3.85237260977604\n",
       "290. -2.36301644018125\n",
       "291. 5.83443299014761\n",
       "292. 4.21449626577805\n",
       "293. 2.19965105109867\n",
       "294. 7.51613742177566\n",
       "295. 6.85620315233057\n",
       "296. -1.16664572501\n",
       "297. -2.94488748328253\n",
       "298. -0.415773759914859\n",
       "299. -3.50328619589788\n",
       "300. 0.631234317998195\n",
       "301. -4.1756738460918\n",
       "302. 3.69351804150738\n",
       "303. 5.3537019215098\n",
       "304. -0.152045819822579\n",
       "305. -0.391867577492546\n",
       "306. 2.74712039275736\n",
       "307. 2.18888536897037\n",
       "308. -4.39259892942175\n",
       "309. 6.57448034980402\n",
       "310. 1.00583123329618\n",
       "311. 1.08864520138373\n",
       "312. -1.11555336075676\n",
       "313. 0.906141406816007\n",
       "314. 0.187132223793674\n",
       "315. 2.17070764181606\n",
       "316. 1.72497932570381\n",
       "317. 0.796704270628517\n",
       "318. -3.39416497841662\n",
       "319. 1.233034105288\n",
       "320. 1.18957738544234\n",
       "321. -0.528588849175198\n",
       "322. -1.77715350465628\n",
       "323. 2.17278863897698\n",
       "324. 2.66907693636277\n",
       "325. -1.60273397022889\n",
       "326. 0.821784960502672\n",
       "327. 1.21093046426378\n",
       "328. 0.867054320129831\n",
       "329. 1.03166698420222\n",
       "330. 3.6864205650036\n",
       "331. 3.87859036195504\n",
       "332. -2.40638796055861\n",
       "333. 3.54033615944006\n",
       "334. -2.74570482941979\n",
       "335. 0.525002752849255\n",
       "336. -2.02941026363252\n",
       "337. 6.66734791987059\n",
       "338. 2.35741527092219\n",
       "339. -2.73802081709696\n",
       "340. 2.78656055482171\n",
       "341. 2.503191988626\n",
       "342. 4.02024670728077\n",
       "343. 0.72570412255676\n",
       "344. 0.989678742745597\n",
       "345. 0.940804774634559\n",
       "346. 3.0570692300233\n",
       "347. 4.99188653375976\n",
       "348. 2.29192678229534\n",
       "349. 1.65890239710158\n",
       "350. 0.670710681245729\n",
       "351. 6.16502259592617\n",
       "352. 5.59235804575656\n",
       "353. -0.00666745360772403\n",
       "354. 1.50896303288279\n",
       "355. 0.907132129619135\n",
       "356. -5.27284492205765\n",
       "357. 6.91862860465969\n",
       "358. 1.83669896935054\n",
       "359. -1.50643340392236\n",
       "360. 0.734139760858336\n",
       "361. 0.271305878208041\n",
       "362. -0.965034474925378\n",
       "363. 1.73133032541275\n",
       "364. -0.794860977291168\n",
       "365. 4.94988658961356\n",
       "366. 5.17688083928806\n",
       "367. -3.60678459149032\n",
       "368. 3.19882815919925\n",
       "369. -0.214840514710789\n",
       "370. -0.138889675096268\n",
       "371. -2.16467429806606\n",
       "372. -2.69813153967625\n",
       "373. 0.219703525154721\n",
       "374. 4.48101431673787\n",
       "375. 1.30431304590945\n",
       "376. -1.43093176731546\n",
       "377. 0.603059056963561\n",
       "378. 6.40327381438981\n",
       "379. 4.06082066149271\n",
       "380. 1.8540143730381\n",
       "381. 1.15962144554247\n",
       "382. 1.77964263668677\n",
       "383. 1.52682810218089\n",
       "384. 7.14012621788534\n",
       "385. -3.81967929405397\n",
       "386. -1.51991431935388\n",
       "387. -4.66712272746728\n",
       "388. 1.89821537996257\n",
       "389. -0.303066557788485\n",
       "390. 1.39005683265072\n",
       "391. -2.06242932167203\n",
       "392. 3.20979679987759\n",
       "393. 0.0324982369913719\n",
       "394. -1.27692424136307\n",
       "395. -4.26042409957605\n",
       "396. 3.21269075599611\n",
       "397. 2.11846780405761\n",
       "398. -2.01912916240136\n",
       "399. -1.34549692752341\n",
       "400. 0.827012254215857\n",
       "401. -2.50019901343311\n",
       "402. 4.30668814451199\n",
       "403. 1.57018163339814\n",
       "404. 0.459530996954868\n",
       "405. -0.732127301504625\n",
       "406. 0.264464305402169\n",
       "407. 1.908950689119\n",
       "408. 2.73075178353623\n",
       "409. -4.22772377378335\n",
       "410. 1.40462550834434\n",
       "411. -5.12370208800794\n",
       "412. 1.97649271964491\n",
       "413. 0.823549108012161\n",
       "414. -3.88452999660856\n",
       "415. 0.911925915319203\n",
       "416. -0.781404586653536\n",
       "417. 0.89386006275253\n",
       "418. 6.15361794850604\n",
       "419. 0.0210950607604239\n",
       "420. -2.14401999383446\n",
       "421. 0.3942662192899\n",
       "422. 3.62630348781027\n",
       "423. -2.54757670867911\n",
       "424. -1.9177216256528\n",
       "425. 2.28635193762047\n",
       "426. 2.97256746110601\n",
       "427. -1.59760145579719\n",
       "428. -0.394914832536899\n",
       "429. -0.916680321349651\n",
       "430. 0.813004349508052\n",
       "431. -0.312372356384694\n",
       "432. 2.37839148849479\n",
       "433. -2.77588359019744\n",
       "434. 3.40474804559305\n",
       "435. 1.38973455786395\n",
       "436. 4.1865195982669\n",
       "437. -2.74525564104742\n",
       "438. 1.34844957264408\n",
       "439. -0.424094575135789\n",
       "440. 1.3100346981799\n",
       "441. -0.894299652455955\n",
       "442. 0.788241522225494\n",
       "443. -1.93161888049065\n",
       "444. -0.195119445716139\n",
       "445. 3.31515896896329\n",
       "446. 1.76807749480468\n",
       "447. 2.05316342767867\n",
       "448. 1.97950749732895\n",
       "449. -0.475856764411846\n",
       "450. -0.466532845935741\n",
       "451. 2.67038236519654\n",
       "452. 6.24911344961427\n",
       "453. -4.30565398920038\n",
       "454. 7.26570156523428\n",
       "455. 4.62652005995904\n",
       "456. 2.25033947710605\n",
       "457. 0.632218060786089\n",
       "458. 4.44693635976172\n",
       "459. 0.14017281714966\n",
       "460. -1.29240512015017\n",
       "461. 6.37259147926284\n",
       "462. 2.7351266138137\n",
       "463. 1.52407381139652\n",
       "464. 1.97958786010868\n",
       "465. -1.97875905670115\n",
       "466. -1.68851287644636\n",
       "467. 0.938592929294984\n",
       "468. -2.1865639801554\n",
       "469. 2.04608591784919\n",
       "470. 1.48625207218737\n",
       "471. -4.9539992639299\n",
       "472. 0.654310600919443\n",
       "473. -0.0757894916273605\n",
       "474. 0.443334012795029\n",
       "475. -0.776592407968034\n",
       "476. -4.19560014952441\n",
       "477. -1.89291187584526\n",
       "478. 1.82088244293344\n",
       "479. 6.20045041334607\n",
       "480. 0.887056178547487\n",
       "481. 1.31463038729985\n",
       "482. 0.693132613893948\n",
       "483. -1.67476896593399\n",
       "484. -5.04620558973587\n",
       "485. 1.39723488775484\n",
       "486. 2.62669728001025\n",
       "487. 6.19928096830379\n",
       "488. 0.694265603752855\n",
       "489. 11.4857876527264\n",
       "490. 2.76354160232039\n",
       "491. -0.670942662719753\n",
       "492. 1.74949907511868\n",
       "493. 3.23975568289423\n",
       "494. -0.342971961645023\n",
       "495. -0.409557744694731\n",
       "496. -2.23803652884802\n",
       "497. 0.576928493325927\n",
       "498. 3.96792173990338\n",
       "499. 0.0801783403041605\n",
       "500. -5.26043314540636\n",
       "501. 1.45637107786779\n",
       "502. -0.501237813569166\n",
       "503. 1.26204327863951\n",
       "504. 0.584894569882787\n",
       "505. -1.46071166595885\n",
       "506. -0.917649122990245\n",
       "507. -1.27929619964273\n",
       "508. 4.78280661091284\n",
       "509. -1.36483556368418\n",
       "510. -0.286397687782665\n",
       "511. 2.41224951353541\n",
       "512. -0.562772026654435\n",
       "513. -2.05059612879088\n",
       "514. -2.33257260650938\n",
       "515. 6.83792513054116\n",
       "516. -3.46047837155542\n",
       "517. -1.84420367931893\n",
       "518. -0.510039619179444\n",
       "519. 2.3993286053335\n",
       "520. -0.393136426037398\n",
       "521. -1.84698632529385\n",
       "522. 0.977055867506755\n",
       "523. 1.86963226117968\n",
       "524. 0.238783399621191\n",
       "525. 2.29741492645979\n",
       "526. -4.05958603952383\n",
       "527. 3.30332436029105\n",
       "528. 4.81062365855588\n",
       "529. 5.28431098547193\n",
       "530. 2.9958389183935\n",
       "531. -3.23012750309466\n",
       "532. -0.990883632146396\n",
       "533. -1.57899882573154\n",
       "534. 2.40432364399985\n",
       "535. 0.00358931758164438\n",
       "536. -2.3111314875646\n",
       "537. 3.28551520856347\n",
       "538. 4.11777915486697\n",
       "539. -1.3295090801189\n",
       "540. 1.58005222944642\n",
       "541. 3.24047166551839\n",
       "542. 2.86779343306387\n",
       "543. -3.92206478877093\n",
       "544. 3.62282471704981\n",
       "545. 1.06976557370886\n",
       "546. 2.39466080076758\n",
       "547. -1.16215912520343\n",
       "548. 0.121973395714736\n",
       "549. 0.583283791142845\n",
       "550. 3.079675016042\n",
       "551. -0.714001432507587\n",
       "552. -0.0729748521990514\n",
       "553. -1.92961817539017\n",
       "554. 9.75857048959831\n",
       "555. 3.50303710487801\n",
       "556. -1.63045863739084\n",
       "557. 1.02844983616494\n",
       "558. 2.92183368487586\n",
       "559. 4.86791404013461\n",
       "560. 4.93823254057167\n",
       "561. -3.12913182907066\n",
       "562. 4.76444799955062\n",
       "563. -2.91476754632556\n",
       "564. 4.01147192139062\n",
       "565. -0.101109928381751\n",
       "566. -0.0683551224777115\n",
       "567. -2.04688065184546\n",
       "568. 2.04265949030546\n",
       "569. 2.68472943714023\n",
       "570. 2.12262849943263\n",
       "571. -0.0322632164293846\n",
       "572. 0.0573850249965123\n",
       "573. 2.30327359633681\n",
       "574. 5.72930112746418\n",
       "575. 4.06098512070646\n",
       "576. 4.33154238853485\n",
       "577. 1.62048000906613\n",
       "578. -2.12035389914765\n",
       "579. 1.39677290023569\n",
       "580. -1.29583975246828\n",
       "581. 3.40521784377668\n",
       "582. 0.158879655643905\n",
       "583. 3.23725929246138\n",
       "584. 5.30516720269046\n",
       "585. -2.26507834992269\n",
       "586. -1.35524468187405\n",
       "587. 4.88216180617606\n",
       "588. 4.97604987163149\n",
       "589. 4.19572199536518\n",
       "590. 6.94689677534815\n",
       "591. 2.93848048892322\n",
       "592. 1.69027674553993\n",
       "593. -2.19784198495156\n",
       "594. 4.47061669011607\n",
       "595. 2.9340856312751\n",
       "596. -1.58909159446451\n",
       "597. 0.769936592434325\n",
       "598. -0.680912624607469\n",
       "599. 0.72072119296653\n",
       "600. -0.73282015818166\n",
       "601. 0.259669603028811\n",
       "602. 2.26018048673335\n",
       "603. -5.34791031358138\n",
       "604. 5.33316406244255\n",
       "605. 8.48305344413717\n",
       "606. -1.26006781161164\n",
       "607. 4.056972409345\n",
       "608. 0.437556074201825\n",
       "609. 0.94795482026774\n",
       "610. 0.226555366987188\n",
       "611. 0.00749513105511179\n",
       "612. -0.00117314265355839\n",
       "613. 3.83959786867747\n",
       "614. -0.0714777490873384\n",
       "615. 0.107665189947545\n",
       "616. -0.759661599320557\n",
       "617. 2.59333830594618\n",
       "618. 2.03691102973657\n",
       "619. 0.123157823106035\n",
       "620. 1.22216512205405\n",
       "621. 3.72777858253233\n",
       "622. 2.87539360256184\n",
       "623. 2.05006778262476\n",
       "624. -0.361278468479225\n",
       "625. 5.66670520432565\n",
       "626. -0.842699650881975\n",
       "627. -3.40995255345406\n",
       "628. 0.59756880470643\n",
       "629. -1.65903457327324\n",
       "630. 1.32754422006006\n",
       "631. 4.59612514253424\n",
       "632. -0.069237164944\n",
       "633. -1.33208400436729\n",
       "634. 2.22485536339247\n",
       "635. -0.511927281242579\n",
       "636. 5.82250153440204\n",
       "637. 9.18834929957305\n",
       "638. -0.860936236248217\n",
       "639. -1.5631449455535\n",
       "640. -2.81668842228144\n",
       "641. 0.475811189167771\n",
       "642. 1.53426562609824\n",
       "643. 2.46139282904518\n",
       "644. -2.16160192071863\n",
       "645. -0.575471796140993\n",
       "646. 3.24383631024345\n",
       "647. -1.07318451864179\n",
       "648. 2.27546663004467\n",
       "649. -0.975975522809711\n",
       "650. -1.66802071748149\n",
       "651. 2.06689369638378\n",
       "652. 4.31623487548079\n",
       "653. -2.0140329497443\n",
       "654. 3.40535845633176\n",
       "655. -4.58388787766234\n",
       "656. -0.273800612189143\n",
       "657. 2.06998301884804\n",
       "658. 4.90495873068102\n",
       "659. -2.66692884289006\n",
       "660. -0.761056517117253\n",
       "661. 0.289796219697944\n",
       "662. -0.999703259945225\n",
       "663. -0.271150903088356\n",
       "664. 4.03991231749896\n",
       "665. -1.39830505976353\n",
       "666. 3.28195186079786\n",
       "667. -1.33185191403929\n",
       "668. -1.98901434107634\n",
       "669. -2.75631830973786\n",
       "670. -1.74618192794064\n",
       "671. 0.419412218915493\n",
       "672. 3.73211350066573\n",
       "673. -1.29276988333413\n",
       "674. 0.969407418761392\n",
       "675. -2.49987853719988\n",
       "676. 3.84319811282819\n",
       "677. 8.3279401044613\n",
       "678. 2.59261609454865\n",
       "679. -2.64359913002185\n",
       "680. -1.97305215163468\n",
       "681. -0.87679916075894\n",
       "682. -0.872534611968574\n",
       "683. -3.4207415550917\n",
       "684. -1.09054860949755\n",
       "685. 4.49849148899983\n",
       "686. 2.96189011056663\n",
       "687. -0.617957225281653\n",
       "688. 2.93432269805026\n",
       "689. 2.46121613150302\n",
       "690. -1.81928251599415\n",
       "691. 1.73187807797854\n",
       "692. -1.5140328553457\n",
       "693. 0.810732705154738\n",
       "694. -5.105662537995\n",
       "695. 2.25637004537037\n",
       "696. 5.36278933338846\n",
       "697. 0.984929891597729\n",
       "698. 0.134845001647818\n",
       "699. 0.491279571281269\n",
       "700. 0.616323145054102\n",
       "701. 2.47146879583033\n",
       "702. -9.75553414316677\n",
       "703. -0.433738500259709\n",
       "704. -0.0854278765841125\n",
       "705. 0.214094116069334\n",
       "706. -0.132052329867027\n",
       "707. 2.55952829946614\n",
       "708. 5.71062681243526\n",
       "709. -1.90187050087596\n",
       "710. 4.81056644133582\n",
       "711. 0.553792031864027\n",
       "712. 5.48738479060279\n",
       "713. 3.17552038185185\n",
       "714. -6.15460939353144\n",
       "715. 1.61490914774454\n",
       "716. 3.45905489240177\n",
       "717. -1.69093680259514\n",
       "718. 3.64791336796706\n",
       "719. -1.54069194522592\n",
       "720. -2.1489126591881\n",
       "721. 3.46299935727077\n",
       "722. 10.0251873008944\n",
       "723. 2.12376933459223\n",
       "724. -3.26084192444371\n",
       "725. -1.80568632520258\n",
       "726. 3.0324646100935\n",
       "727. 1.45826655728394\n",
       "728. 0.472454608928984\n",
       "729. 1.31041397841589\n",
       "730. 5.47914646364466\n",
       "731. -0.405265935096769\n",
       "732. 0.510366388919907\n",
       "733. 1.68824754530678\n",
       "734. 0.0854874366924948\n",
       "735. 6.37585686149835\n",
       "736. 3.06010510840777\n",
       "737. 1.35949964768088\n",
       "738. 2.75024306861066\n",
       "739. -3.30106821281652\n",
       "740. -4.08914416661667\n",
       "741. -0.387037014081621\n",
       "742. -3.12478376947904\n",
       "743. 2.65529432516377\n",
       "744. -8.41410283574994\n",
       "745. 1.19806744202868\n",
       "746. 2.86604081292252\n",
       "747. -0.989965461881139\n",
       "748. 1.52875836368007\n",
       "749. 2.77414378887635\n",
       "750. -3.53277237857609\n",
       "751. 4.28790823077019\n",
       "752. -0.478386089853423\n",
       "753. 1.86108773494276\n",
       "754. -0.321825619964516\n",
       "755. 2.10471419672728\n",
       "756. -2.0118496093154\n",
       "757. 3.01090282903702\n",
       "758. 2.26507590561236\n",
       "759. -0.912196232028771\n",
       "760. 3.68897126787928\n",
       "761. 3.62636511317182\n",
       "762. -2.68496812797474\n",
       "763. -0.58531320849144\n",
       "764. 0.860017025081773\n",
       "765. 3.06406219711605\n",
       "766. 0.391439168062896\n",
       "767. -1.85676612490034\n",
       "768. 1.57878922809132\n",
       "769. 4.67288168637771\n",
       "770. -6.69760334916645\n",
       "771. 4.38836316455368\n",
       "772. 1.90437700328807\n",
       "773. -2.69727201997253\n",
       "774. 0.0152861653060368\n",
       "775. -1.44685462888201\n",
       "776. 1.67381021572624\n",
       "777. 2.79418997142861\n",
       "778. 1.38927850099026\n",
       "779. -0.891918389491992\n",
       "780. -0.109354755528678\n",
       "781. 3.20319959470122\n",
       "782. 0.0183050056335528\n",
       "783. -0.164812680404073\n",
       "784. 3.45513750286284\n",
       "785. -3.03976348892832\n",
       "786. 1.70790259433279\n",
       "787. 0.0235973148086667\n",
       "788. -3.0000665621087\n",
       "789. -2.59434240602898\n",
       "790. 1.08720574036605\n",
       "791. 1.26796528609014\n",
       "792. 2.2543201936109\n",
       "793. 1.4687629945455\n",
       "794. -2.39451226864627\n",
       "795. 3.26400119068659\n",
       "796. -3.68997217809398\n",
       "797. 4.43129100280677\n",
       "798. 0.955977609764361\n",
       "799. -5.6203525787067\n",
       "800. -1.91248317917598\n",
       "801. -4.4292003671694\n",
       "802. 0.555148746557091\n",
       "803. 1.463550740951\n",
       "804. 0.58937121748571\n",
       "805. 2.16573555943056\n",
       "806. 2.81145323307219\n",
       "807. -0.238715808806742\n",
       "808. -3.42342438623239\n",
       "809. -0.0431606223309577\n",
       "810. -2.28905958990987\n",
       "811. 7.77516928234357\n",
       "812. -0.508036415131019\n",
       "813. 1.19923359752148\n",
       "814. -1.42189696874772\n",
       "815. 0.524145518138599\n",
       "816. 4.08361209120057\n",
       "817. 0.591680184290906\n",
       "818. 5.33486177931092\n",
       "819. 1.37844076352586\n",
       "820. 1.80639229628321\n",
       "821. -0.0875159526372344\n",
       "822. -2.59156928536646\n",
       "823. -2.05362794364464\n",
       "824. 4.7710586867133\n",
       "825. 2.22635033706622\n",
       "826. 4.64513346582007\n",
       "827. 7.15229743143863\n",
       "828. 2.17137597990368\n",
       "829. 2.72107632839244\n",
       "830. 0.0875616413673284\n",
       "831. -0.547216179134472\n",
       "832. -0.454982999640471\n",
       "833. 0.0567047285263504\n",
       "834. -1.27344478901322\n",
       "835. 0.19061262015449\n",
       "836. 0.756630777941229\n",
       "837. -3.25255318018821\n",
       "838. 6.89322317624919\n",
       "839. 2.42455916140523\n",
       "840. 4.90043908761146\n",
       "841. 1.85133025664903\n",
       "842. -1.77920388423348\n",
       "843. -0.188023582864858\n",
       "844. 8.20315712504569\n",
       "845. 1.59834268575783\n",
       "846. 0.567985213281911\n",
       "847. 7.02828374495078\n",
       "848. 1.26673930819384\n",
       "849. 0.889840287411252\n",
       "850. 1.32374556797459\n",
       "851. -0.105895702089082\n",
       "852. 3.4160711327569\n",
       "853. 3.38821461764244\n",
       "854. 1.62908384576401\n",
       "855. 1.63281967122961\n",
       "856. -0.132401246651352\n",
       "857. -2.26817673404384\n",
       "858. -1.19481720736209\n",
       "859. 4.12050189420989\n",
       "860. 0.605989292443706\n",
       "861. 0.577888947255083\n",
       "862. 4.53507779591816\n",
       "863. 7.17642169511077\n",
       "864. -3.83305592840955\n",
       "865. 3.79294065015841\n",
       "866. 3.23768461829493\n",
       "867. 5.44890922807981\n",
       "868. 1.56456246521478\n",
       "869. -3.09015524777967\n",
       "870. 6.32448692115234\n",
       "871. -2.4916982789775\n",
       "872. 1.34642748226811\n",
       "873. 3.14095818272647\n",
       "874. -1.42525190602738\n",
       "875. 3.95086501094505\n",
       "876. 2.8921184532168\n",
       "877. 5.91171484512302\n",
       "878. 2.98859934175056\n",
       "879. 6.60163622840596\n",
       "880. -0.879240083644487\n",
       "881. -0.168977372772672\n",
       "882. 8.48789887675278\n",
       "883. -2.28083432727011\n",
       "884. -0.642395516140953\n",
       "885. -1.42657304858432\n",
       "886. 4.38465457541442\n",
       "887. 0.83923098085583\n",
       "888. 1.14201912080787\n",
       "889. 3.76471126960531\n",
       "890. 3.16560937188346\n",
       "891. 4.54304323141982\n",
       "892. 3.66791973043638\n",
       "893. 4.14195479972697\n",
       "894. 1.01439027078952\n",
       "895. -1.46328681091406\n",
       "896. 0.941513688139856\n",
       "897. 2.52391578101065\n",
       "898. 5.45455364694874\n",
       "899. 3.94624637322757\n",
       "900. 0.514221718384659\n",
       "901. 2.79047313577268\n",
       "902. 2.28043953133663\n",
       "903. 6.15134100891451\n",
       "904. 6.71700599283868\n",
       "905. -0.524866179252585\n",
       "906. 6.13146487418008\n",
       "907. 1.6394910614392\n",
       "908. 3.78301067400136\n",
       "909. -2.95236512238759\n",
       "910. -3.54102102373742\n",
       "911. 2.0241604115871\n",
       "912. 3.40480560665511\n",
       "913. 2.41857152118624\n",
       "914. 0.627403971048387\n",
       "915. -1.69727805998603\n",
       "916. 2.75248965389919\n",
       "917. -0.329112080532896\n",
       "918. 1.99494924864119\n",
       "919. 0.346867461112808\n",
       "920. 1.01713573211606\n",
       "921. -0.920097893964087\n",
       "922. -0.347622906263169\n",
       "923. 1.41254800805533\n",
       "924. -0.317334881171472\n",
       "925. 3.26371889671\n",
       "926. -6.81473334752878\n",
       "927. -1.50287772553479\n",
       "928. -1.6007094457828\n",
       "929. 1.34388007950826\n",
       "930. -1.84300402153056\n",
       "931. 3.39265276099892\n",
       "932. 0.0378908124209125\n",
       "933. -0.665506765108874\n",
       "934. 0.415465578779741\n",
       "935. 1.21333249991405\n",
       "936. 2.34638293277618\n",
       "937. 5.41352479082117\n",
       "938. 4.36546602325673\n",
       "939. 3.86128018939158\n",
       "940. 1.89831788798389\n",
       "941. -0.818757867399674\n",
       "942. 2.15141249595872\n",
       "943. 0.584244129353417\n",
       "944. -2.23117934671504\n",
       "945. 3.88047879952273\n",
       "946. 1.54453958218907\n",
       "947. -1.88232848932829\n",
       "948. 2.57569868529446\n",
       "949. 1.44074479687245\n",
       "950. 1.66367395501555\n",
       "951. 1.32127510792195\n",
       "952. -4.05324068748844\n",
       "953. -0.380159960693067\n",
       "954. 4.30082891992266\n",
       "955. -1.73521540187882\n",
       "956. 3.21092916036497\n",
       "957. 1.71623620234813\n",
       "958. 1.12155590653593\n",
       "959. 1.20235026819419\n",
       "960. -0.403326444417124\n",
       "961. 0.384406072434668\n",
       "962. -0.337785251139064\n",
       "963. -1.87070031484979\n",
       "964. 0.269343970957127\n",
       "965. 2.32529417574593\n",
       "966. -7.30971532273251\n",
       "967. 3.41488951873122\n",
       "968. 5.07389413294717\n",
       "969. 5.38325197224315\n",
       "970. 4.22511595970912\n",
       "971. -2.73806301378413\n",
       "972. -0.906766445056433\n",
       "973. 1.25592422256206\n",
       "974. -2.58785626042982\n",
       "975. 5.75846245927019\n",
       "976. -2.56579884647626\n",
       "977. -0.118515117301093\n",
       "978. -3.43760536799751\n",
       "979. 1.4507045050958\n",
       "980. 3.64320903006051\n",
       "981. 7.30557692388934\n",
       "982. -1.2007294233459\n",
       "983. 4.52726323674083\n",
       "984. 1.84828172079614\n",
       "985. 0.992373947693639\n",
       "986. -3.91827945238542\n",
       "987. -3.03400068941971\n",
       "988. -0.0446589216723789\n",
       "989. 0.289559815703329\n",
       "990. 1.17776138170118\n",
       "991. 5.41581599467256\n",
       "992. 4.28200338664772\n",
       "993. -3.8109032302705\n",
       "994. 0.381066716777123\n",
       "995. 4.4033641014107\n",
       "996. -1.121622640771\n",
       "997. 2.87350923049243\n",
       "998. -1.4169004434888\n",
       "999. -0.905729145316053\n",
       "1000. 3.08114280141143\n",
       "\n",
       "\n"
      ],
      "text/plain": [
       "   [1] -0.081792145 -0.545616052  1.157708789  5.007376465 -4.441429046\n",
       "   [6] -1.299901871 -1.489572695  5.461416327  0.261181060  4.716344795\n",
       "  [11]  3.855562590 -2.056759080  2.219165569  3.561044048  4.870213820\n",
       "  [16]  3.761076988  0.312977252  3.400057018  1.205144636  0.326774872\n",
       "  [21]  3.390899102  3.439372151 -6.760276542  4.190253827  3.087450411\n",
       "  [26]  3.636916485 -2.623289150  0.787440980  3.194234211  3.572268160\n",
       "  [31]  1.600269744  2.682616625  4.172288036  0.821459476  5.488398973\n",
       "  [36] -0.494621494  3.355649403 -3.497897605 -0.139439745  2.347045173\n",
       "  [41] -0.342201934 -1.003497066  3.148291890  7.144337613  3.696322252\n",
       "  [46]  0.089913553  0.988660509 -0.235121066 -1.481015781  2.035195976\n",
       "  [51] -4.126144346 -1.469245912  3.117817104  0.080293914  1.073951046\n",
       "  [56] -1.898058403 -1.787639871  0.276661056  2.102510888  2.942931574\n",
       "  [61] -6.599352298 -0.319842203  0.803900811 -1.575019508 -0.952641089\n",
       "  [66] -2.532220047  1.931057513  0.733536843  1.348398194 -3.238227460\n",
       "  [71]  3.882422271  0.653407057 -6.818811036  2.304301854  2.728865897\n",
       "  [76]  0.137611175  3.622932690  0.622081576 -5.167064145 -2.845782120\n",
       "  [81] -0.174050165 -3.499358095  6.938737324  0.696296023 -2.178273523\n",
       "  [86] -0.402225273 -0.352948333  3.809966108  0.076232951 -2.538707408\n",
       "  [91]  9.164350124  0.795722899 -0.551902029  2.425651693  4.469996282\n",
       "  [96]  3.300910471 -0.021258248  5.486346175 -3.275397576 -0.284908548\n",
       " [101]  1.260034734  3.129941316  0.278884696  3.311409440  5.439921446\n",
       " [106]  0.630214709 -0.315224557 -1.425978241  1.306093771  0.564856566\n",
       " [111] -3.871513250  2.549872227 -0.001528832  3.282675217 -2.549730694\n",
       " [116]  1.889392389 -1.840900742  4.200176091  2.225129820 -1.268794259\n",
       " [121] -3.100391154  1.482705066  2.445842938 -1.246380111  3.753750861\n",
       " [126]  5.012453610  6.080340825 -3.529190102 -1.075443945  7.149728030\n",
       " [131]  5.117624444 -4.938942850 11.846649211  2.177014983 -0.314282969\n",
       " [136]  3.606661176  3.428686381  3.530059283 -3.623687876 -3.332543517\n",
       " [141]  1.351578739  1.298546602  3.233018991 -0.352308590  4.294071309\n",
       " [146]  2.883098885  3.964944529  0.834694972  2.538849274  0.206639203\n",
       " [151]  0.368700321  0.707249809  1.068746095 -1.318886772  2.269926408\n",
       " [156]  6.433264238  1.805805344 -2.330272792 -6.583468513 -1.105205275\n",
       " [161]  6.113075116 -0.004263028  2.023361525  1.646168588  4.195635450\n",
       " [166]  4.616381402  0.745323043  6.291140950  4.227501520  1.850761155\n",
       " [171] -4.587567284  0.609503435  0.617952563  1.878628215 -0.996968611\n",
       " [176] -2.230250320  2.584191600  0.082260790  5.714734444  1.271002403\n",
       " [181] -4.197835382 -1.514152631 -0.671430107 -1.458964590  3.922203305\n",
       " [186]  0.992587082  1.020454693 -1.173206811 -0.322966973 -1.504252262\n",
       " [191] -4.282301466 -5.032245773  0.858288919  2.341767172  0.107166863\n",
       " [196]  1.104617354 -1.159168672  1.681682071 -1.459284976 -0.602038640\n",
       " [201]  0.512668451  2.429940792 -2.706534628  0.493198575  1.359256833\n",
       " [206]  7.454383153 -5.739572251  1.716379532 -1.009964581  2.047736513\n",
       " [211] -3.529051586 -5.672487038  0.885767292  0.634653792  3.020118804\n",
       " [216]  5.138586115  4.007076925  2.110369028  2.468422880  6.964403035\n",
       " [221]  0.670101386  4.364263119 -0.414034159  2.588567865  1.200679292\n",
       " [226]  0.016221034 -4.029050830  3.910761011  2.635821820  0.135508432\n",
       " [231] -1.035351729 -2.118817276 -4.340768111  1.869059486  0.739164729\n",
       " [236]  1.290237868 -0.335481840 -3.675134311 -4.702668181 -0.851298946\n",
       " [241] -4.452023845  1.851381838  3.868663421  2.014310192  0.253869176\n",
       " [246]  1.910896307  3.300584261 -2.694095161  2.179452588  7.999493745\n",
       " [251]  1.017086514  3.808495545  2.292001302  4.686916356  4.177405669\n",
       " [256] -0.750427953 -1.212473793  8.198463206 -4.892817796  2.649792185\n",
       " [261] -2.156947472  5.675182825  4.215958333 -2.903665281 -4.636530341\n",
       " [266] -1.443937090  0.764891789  5.575021858  1.705510462 -4.726905318\n",
       " [271]  2.494502437 -2.562059343  5.536820889  0.841730084 -1.148637663\n",
       " [276]  4.572181519  3.912255599  0.179309474 -0.669822001  2.416149702\n",
       " [281]  2.931440953  1.068117988  0.718489080  3.075375737 -1.942479314\n",
       " [286]  2.114015832  2.132429059  0.263510411 -3.852372610 -2.363016440\n",
       " [291]  5.834432990  4.214496266  2.199651051  7.516137422  6.856203152\n",
       " [296] -1.166645725 -2.944887483 -0.415773760 -3.503286196  0.631234318\n",
       " [301] -4.175673846  3.693518042  5.353701922 -0.152045820 -0.391867577\n",
       " [306]  2.747120393  2.188885369 -4.392598929  6.574480350  1.005831233\n",
       " [311]  1.088645201 -1.115553361  0.906141407  0.187132224  2.170707642\n",
       " [316]  1.724979326  0.796704271 -3.394164978  1.233034105  1.189577385\n",
       " [321] -0.528588849 -1.777153505  2.172788639  2.669076936 -1.602733970\n",
       " [326]  0.821784961  1.210930464  0.867054320  1.031666984  3.686420565\n",
       " [331]  3.878590362 -2.406387961  3.540336159 -2.745704829  0.525002753\n",
       " [336] -2.029410264  6.667347920  2.357415271 -2.738020817  2.786560555\n",
       " [341]  2.503191989  4.020246707  0.725704123  0.989678743  0.940804775\n",
       " [346]  3.057069230  4.991886534  2.291926782  1.658902397  0.670710681\n",
       " [351]  6.165022596  5.592358046 -0.006667454  1.508963033  0.907132130\n",
       " [356] -5.272844922  6.918628605  1.836698969 -1.506433404  0.734139761\n",
       " [361]  0.271305878 -0.965034475  1.731330325 -0.794860977  4.949886590\n",
       " [366]  5.176880839 -3.606784591  3.198828159 -0.214840515 -0.138889675\n",
       " [371] -2.164674298 -2.698131540  0.219703525  4.481014317  1.304313046\n",
       " [376] -1.430931767  0.603059057  6.403273814  4.060820661  1.854014373\n",
       " [381]  1.159621446  1.779642637  1.526828102  7.140126218 -3.819679294\n",
       " [386] -1.519914319 -4.667122727  1.898215380 -0.303066558  1.390056833\n",
       " [391] -2.062429322  3.209796800  0.032498237 -1.276924241 -4.260424100\n",
       " [396]  3.212690756  2.118467804 -2.019129162 -1.345496928  0.827012254\n",
       " [401] -2.500199013  4.306688145  1.570181633  0.459530997 -0.732127302\n",
       " [406]  0.264464305  1.908950689  2.730751784 -4.227723774  1.404625508\n",
       " [411] -5.123702088  1.976492720  0.823549108 -3.884529997  0.911925915\n",
       " [416] -0.781404587  0.893860063  6.153617949  0.021095061 -2.144019994\n",
       " [421]  0.394266219  3.626303488 -2.547576709 -1.917721626  2.286351938\n",
       " [426]  2.972567461 -1.597601456 -0.394914833 -0.916680321  0.813004350\n",
       " [431] -0.312372356  2.378391488 -2.775883590  3.404748046  1.389734558\n",
       " [436]  4.186519598 -2.745255641  1.348449573 -0.424094575  1.310034698\n",
       " [441] -0.894299652  0.788241522 -1.931618880 -0.195119446  3.315158969\n",
       " [446]  1.768077495  2.053163428  1.979507497 -0.475856764 -0.466532846\n",
       " [451]  2.670382365  6.249113450 -4.305653989  7.265701565  4.626520060\n",
       " [456]  2.250339477  0.632218061  4.446936360  0.140172817 -1.292405120\n",
       " [461]  6.372591479  2.735126614  1.524073811  1.979587860 -1.978759057\n",
       " [466] -1.688512876  0.938592929 -2.186563980  2.046085918  1.486252072\n",
       " [471] -4.953999264  0.654310601 -0.075789492  0.443334013 -0.776592408\n",
       " [476] -4.195600150 -1.892911876  1.820882443  6.200450413  0.887056179\n",
       " [481]  1.314630387  0.693132614 -1.674768966 -5.046205590  1.397234888\n",
       " [486]  2.626697280  6.199280968  0.694265604 11.485787653  2.763541602\n",
       " [491] -0.670942663  1.749499075  3.239755683 -0.342971962 -0.409557745\n",
       " [496] -2.238036529  0.576928493  3.967921740  0.080178340 -5.260433145\n",
       " [501]  1.456371078 -0.501237814  1.262043279  0.584894570 -1.460711666\n",
       " [506] -0.917649123 -1.279296200  4.782806611 -1.364835564 -0.286397688\n",
       " [511]  2.412249514 -0.562772027 -2.050596129 -2.332572607  6.837925131\n",
       " [516] -3.460478372 -1.844203679 -0.510039619  2.399328605 -0.393136426\n",
       " [521] -1.846986325  0.977055868  1.869632261  0.238783400  2.297414926\n",
       " [526] -4.059586040  3.303324360  4.810623659  5.284310985  2.995838918\n",
       " [531] -3.230127503 -0.990883632 -1.578998826  2.404323644  0.003589318\n",
       " [536] -2.311131488  3.285515209  4.117779155 -1.329509080  1.580052229\n",
       " [541]  3.240471666  2.867793433 -3.922064789  3.622824717  1.069765574\n",
       " [546]  2.394660801 -1.162159125  0.121973396  0.583283791  3.079675016\n",
       " [551] -0.714001433 -0.072974852 -1.929618175  9.758570490  3.503037105\n",
       " [556] -1.630458637  1.028449836  2.921833685  4.867914040  4.938232541\n",
       " [561] -3.129131829  4.764448000 -2.914767546  4.011471921 -0.101109928\n",
       " [566] -0.068355122 -2.046880652  2.042659490  2.684729437  2.122628499\n",
       " [571] -0.032263216  0.057385025  2.303273596  5.729301127  4.060985121\n",
       " [576]  4.331542389  1.620480009 -2.120353899  1.396772900 -1.295839752\n",
       " [581]  3.405217844  0.158879656  3.237259292  5.305167203 -2.265078350\n",
       " [586] -1.355244682  4.882161806  4.976049872  4.195721995  6.946896775\n",
       " [591]  2.938480489  1.690276746 -2.197841985  4.470616690  2.934085631\n",
       " [596] -1.589091594  0.769936592 -0.680912625  0.720721193 -0.732820158\n",
       " [601]  0.259669603  2.260180487 -5.347910314  5.333164062  8.483053444\n",
       " [606] -1.260067812  4.056972409  0.437556074  0.947954820  0.226555367\n",
       " [611]  0.007495131 -0.001173143  3.839597869 -0.071477749  0.107665190\n",
       " [616] -0.759661599  2.593338306  2.036911030  0.123157823  1.222165122\n",
       " [621]  3.727778583  2.875393603  2.050067783 -0.361278468  5.666705204\n",
       " [626] -0.842699651 -3.409952553  0.597568805 -1.659034573  1.327544220\n",
       " [631]  4.596125143 -0.069237165 -1.332084004  2.224855363 -0.511927281\n",
       " [636]  5.822501534  9.188349300 -0.860936236 -1.563144946 -2.816688422\n",
       " [641]  0.475811189  1.534265626  2.461392829 -2.161601921 -0.575471796\n",
       " [646]  3.243836310 -1.073184519  2.275466630 -0.975975523 -1.668020717\n",
       " [651]  2.066893696  4.316234875 -2.014032950  3.405358456 -4.583887878\n",
       " [656] -0.273800612  2.069983019  4.904958731 -2.666928843 -0.761056517\n",
       " [661]  0.289796220 -0.999703260 -0.271150903  4.039912317 -1.398305060\n",
       " [666]  3.281951861 -1.331851914 -1.989014341 -2.756318310 -1.746181928\n",
       " [671]  0.419412219  3.732113501 -1.292769883  0.969407419 -2.499878537\n",
       " [676]  3.843198113  8.327940104  2.592616095 -2.643599130 -1.973052152\n",
       " [681] -0.876799161 -0.872534612 -3.420741555 -1.090548609  4.498491489\n",
       " [686]  2.961890111 -0.617957225  2.934322698  2.461216132 -1.819282516\n",
       " [691]  1.731878078 -1.514032855  0.810732705 -5.105662538  2.256370045\n",
       " [696]  5.362789333  0.984929892  0.134845002  0.491279571  0.616323145\n",
       " [701]  2.471468796 -9.755534143 -0.433738500 -0.085427877  0.214094116\n",
       " [706] -0.132052330  2.559528299  5.710626812 -1.901870501  4.810566441\n",
       " [711]  0.553792032  5.487384791  3.175520382 -6.154609394  1.614909148\n",
       " [716]  3.459054892 -1.690936803  3.647913368 -1.540691945 -2.148912659\n",
       " [721]  3.462999357 10.025187301  2.123769335 -3.260841924 -1.805686325\n",
       " [726]  3.032464610  1.458266557  0.472454609  1.310413978  5.479146464\n",
       " [731] -0.405265935  0.510366389  1.688247545  0.085487437  6.375856861\n",
       " [736]  3.060105108  1.359499648  2.750243069 -3.301068213 -4.089144167\n",
       " [741] -0.387037014 -3.124783769  2.655294325 -8.414102836  1.198067442\n",
       " [746]  2.866040813 -0.989965462  1.528758364  2.774143789 -3.532772379\n",
       " [751]  4.287908231 -0.478386090  1.861087735 -0.321825620  2.104714197\n",
       " [756] -2.011849609  3.010902829  2.265075906 -0.912196232  3.688971268\n",
       " [761]  3.626365113 -2.684968128 -0.585313208  0.860017025  3.064062197\n",
       " [766]  0.391439168 -1.856766125  1.578789228  4.672881686 -6.697603349\n",
       " [771]  4.388363165  1.904377003 -2.697272020  0.015286165 -1.446854629\n",
       " [776]  1.673810216  2.794189971  1.389278501 -0.891918389 -0.109354756\n",
       " [781]  3.203199595  0.018305006 -0.164812680  3.455137503 -3.039763489\n",
       " [786]  1.707902594  0.023597315 -3.000066562 -2.594342406  1.087205740\n",
       " [791]  1.267965286  2.254320194  1.468762995 -2.394512269  3.264001191\n",
       " [796] -3.689972178  4.431291003  0.955977610 -5.620352579 -1.912483179\n",
       " [801] -4.429200367  0.555148747  1.463550741  0.589371217  2.165735559\n",
       " [806]  2.811453233 -0.238715809 -3.423424386 -0.043160622 -2.289059590\n",
       " [811]  7.775169282 -0.508036415  1.199233598 -1.421896969  0.524145518\n",
       " [816]  4.083612091  0.591680184  5.334861779  1.378440764  1.806392296\n",
       " [821] -0.087515953 -2.591569285 -2.053627944  4.771058687  2.226350337\n",
       " [826]  4.645133466  7.152297431  2.171375980  2.721076328  0.087561641\n",
       " [831] -0.547216179 -0.454983000  0.056704729 -1.273444789  0.190612620\n",
       " [836]  0.756630778 -3.252553180  6.893223176  2.424559161  4.900439088\n",
       " [841]  1.851330257 -1.779203884 -0.188023583  8.203157125  1.598342686\n",
       " [846]  0.567985213  7.028283745  1.266739308  0.889840287  1.323745568\n",
       " [851] -0.105895702  3.416071133  3.388214618  1.629083846  1.632819671\n",
       " [856] -0.132401247 -2.268176734 -1.194817207  4.120501894  0.605989292\n",
       " [861]  0.577888947  4.535077796  7.176421695 -3.833055928  3.792940650\n",
       " [866]  3.237684618  5.448909228  1.564562465 -3.090155248  6.324486921\n",
       " [871] -2.491698279  1.346427482  3.140958183 -1.425251906  3.950865011\n",
       " [876]  2.892118453  5.911714845  2.988599342  6.601636228 -0.879240084\n",
       " [881] -0.168977373  8.487898877 -2.280834327 -0.642395516 -1.426573049\n",
       " [886]  4.384654575  0.839230981  1.142019121  3.764711270  3.165609372\n",
       " [891]  4.543043231  3.667919730  4.141954800  1.014390271 -1.463286811\n",
       " [896]  0.941513688  2.523915781  5.454553647  3.946246373  0.514221718\n",
       " [901]  2.790473136  2.280439531  6.151341009  6.717005993 -0.524866179\n",
       " [906]  6.131464874  1.639491061  3.783010674 -2.952365122 -3.541021024\n",
       " [911]  2.024160412  3.404805607  2.418571521  0.627403971 -1.697278060\n",
       " [916]  2.752489654 -0.329112081  1.994949249  0.346867461  1.017135732\n",
       " [921] -0.920097894 -0.347622906  1.412548008 -0.317334881  3.263718897\n",
       " [926] -6.814733348 -1.502877726 -1.600709446  1.343880080 -1.843004022\n",
       " [931]  3.392652761  0.037890812 -0.665506765  0.415465579  1.213332500\n",
       " [936]  2.346382933  5.413524791  4.365466023  3.861280189  1.898317888\n",
       " [941] -0.818757867  2.151412496  0.584244129 -2.231179347  3.880478800\n",
       " [946]  1.544539582 -1.882328489  2.575698685  1.440744797  1.663673955\n",
       " [951]  1.321275108 -4.053240687 -0.380159961  4.300828920 -1.735215402\n",
       " [956]  3.210929160  1.716236202  1.121555907  1.202350268 -0.403326444\n",
       " [961]  0.384406072 -0.337785251 -1.870700315  0.269343971  2.325294176\n",
       " [966] -7.309715323  3.414889519  5.073894133  5.383251972  4.225115960\n",
       " [971] -2.738063014 -0.906766445  1.255924223 -2.587856260  5.758462459\n",
       " [976] -2.565798846 -0.118515117 -3.437605368  1.450704505  3.643209030\n",
       " [981]  7.305576924 -1.200729423  4.527263237  1.848281721  0.992373948\n",
       " [986] -3.918279452 -3.034000689 -0.044658922  0.289559816  1.177761382\n",
       " [991]  5.415815995  4.282003387 -3.810903230  0.381066717  4.403364101\n",
       " [996] -1.121622641  2.873509230 -1.416900443 -0.905729145  3.081142801"
      ]
     },
     "metadata": {},
     "output_type": "display_data"
    },
    {
     "data": {
      "text/html": [
       "0.97939266945727"
      ],
      "text/latex": [
       "0.97939266945727"
      ],
      "text/markdown": [
       "0.97939266945727"
      ],
      "text/plain": [
       "[1] 0.9793927"
      ]
     },
     "metadata": {},
     "output_type": "display_data"
    },
    {
     "data": {
      "text/html": [
       "2.96209064265359"
      ],
      "text/latex": [
       "2.96209064265359"
      ],
      "text/markdown": [
       "2.96209064265359"
      ],
      "text/plain": [
       "[1] 2.962091"
      ]
     },
     "metadata": {},
     "output_type": "display_data"
    }
   ],
   "source": [
    "r <- rnorm(1000, mean=1, sd=3)\n",
    "r\n",
    "mean(r)\n",
    "sd(r)"
   ]
  },
  {
   "cell_type": "markdown",
   "metadata": {},
   "source": [
    "## Generating Uniformly Distributed Random Numbers\n",
    "\n",
    "-runif()"
   ]
  },
  {
   "cell_type": "code",
   "execution_count": 81,
   "metadata": {},
   "outputs": [
    {
     "data": {
      "text/html": [
       "<ol class=list-inline>\n",
       "\t<li>8.18348205648363</li>\n",
       "\t<li>4.57069954276085</li>\n",
       "\t<li>3.4815113954246</li>\n",
       "\t<li>4.77017674036324</li>\n",
       "\t<li>7.26217887364328</li>\n",
       "\t<li>8.0589407607913</li>\n",
       "\t<li>1.42646451294422</li>\n",
       "\t<li>5.78394360840321</li>\n",
       "\t<li>5.07820866815746</li>\n",
       "\t<li>8.23281431756914</li>\n",
       "</ol>\n"
      ],
      "text/latex": [
       "\\begin{enumerate*}\n",
       "\\item 8.18348205648363\n",
       "\\item 4.57069954276085\n",
       "\\item 3.4815113954246\n",
       "\\item 4.77017674036324\n",
       "\\item 7.26217887364328\n",
       "\\item 8.0589407607913\n",
       "\\item 1.42646451294422\n",
       "\\item 5.78394360840321\n",
       "\\item 5.07820866815746\n",
       "\\item 8.23281431756914\n",
       "\\end{enumerate*}\n"
      ],
      "text/markdown": [
       "1. 8.18348205648363\n",
       "2. 4.57069954276085\n",
       "3. 3.4815113954246\n",
       "4. 4.77017674036324\n",
       "5. 7.26217887364328\n",
       "6. 8.0589407607913\n",
       "7. 1.42646451294422\n",
       "8. 5.78394360840321\n",
       "9. 5.07820866815746\n",
       "10. 8.23281431756914\n",
       "\n",
       "\n"
      ],
      "text/plain": [
       " [1] 8.183482 4.570700 3.481511 4.770177 7.262179 8.058941 1.426465 5.783944\n",
       " [9] 5.078209 8.232814"
      ]
     },
     "metadata": {},
     "output_type": "display_data"
    },
    {
     "data": {
      "text/html": [
       "4.89675880953297"
      ],
      "text/latex": [
       "4.89675880953297"
      ],
      "text/markdown": [
       "4.89675880953297"
      ],
      "text/plain": [
       "[1] 4.896759"
      ]
     },
     "metadata": {},
     "output_type": "display_data"
    }
   ],
   "source": [
    "r <- runif(1000, min=1, max=9)\n",
    "r[1:10]\n",
    "mean(r)"
   ]
  },
  {
   "cell_type": "markdown",
   "metadata": {},
   "source": [
    "## Using the summary() Function"
   ]
  },
  {
   "cell_type": "code",
   "execution_count": 82,
   "metadata": {},
   "outputs": [
    {
     "data": {
      "text/plain": [
       "   Min. 1st Qu.  Median    Mean 3rd Qu.    Max. \n",
       "  1.007   3.055   5.056   5.030   7.088   8.999 "
      ]
     },
     "metadata": {},
     "output_type": "display_data"
    },
    {
     "data": {
      "text/plain": [
       "   Mode   FALSE    TRUE \n",
       "logical     507     493 "
      ]
     },
     "metadata": {},
     "output_type": "display_data"
    }
   ],
   "source": [
    "r <- runif(1000, min=1, max=9)\n",
    "summary(r)\n",
    "summary(r <= 5)"
   ]
  },
  {
   "cell_type": "markdown",
   "metadata": {},
   "source": [
    "## Math Functions Used in Data Analysis\n",
    "\n",
    "- diff()\n",
    "- max()\n",
    "- min()\n",
    "- range()"
   ]
  },
  {
   "cell_type": "code",
   "execution_count": 83,
   "metadata": {},
   "outputs": [
    {
     "data": {
      "text/html": [
       "<ol class=list-inline>\n",
       "\t<li>8</li>\n",
       "\t<li>12</li>\n",
       "\t<li>16</li>\n",
       "\t<li>20</li>\n",
       "\t<li>24</li>\n",
       "\t<li>28</li>\n",
       "\t<li>32</li>\n",
       "\t<li>36</li>\n",
       "</ol>\n"
      ],
      "text/latex": [
       "\\begin{enumerate*}\n",
       "\\item 8\n",
       "\\item 12\n",
       "\\item 16\n",
       "\\item 20\n",
       "\\item 24\n",
       "\\item 28\n",
       "\\item 32\n",
       "\\item 36\n",
       "\\end{enumerate*}\n"
      ],
      "text/markdown": [
       "1. 8\n",
       "2. 12\n",
       "3. 16\n",
       "4. 20\n",
       "5. 24\n",
       "6. 28\n",
       "7. 32\n",
       "8. 36\n",
       "\n",
       "\n"
      ],
      "text/plain": [
       "[1]  8 12 16 20 24 28 32 36"
      ]
     },
     "metadata": {},
     "output_type": "display_data"
    },
    {
     "data": {
      "text/html": [
       "<ol class=list-inline>\n",
       "\t<li>1</li>\n",
       "\t<li>100</li>\n",
       "</ol>\n"
      ],
      "text/latex": [
       "\\begin{enumerate*}\n",
       "\\item 1\n",
       "\\item 100\n",
       "\\end{enumerate*}\n"
      ],
      "text/markdown": [
       "1. 1\n",
       "2. 100\n",
       "\n",
       "\n"
      ],
      "text/plain": [
       "[1]   1 100"
      ]
     },
     "metadata": {},
     "output_type": "display_data"
    }
   ],
   "source": [
    "x = 1:10\n",
    "diff(x^2, lag=2)\n",
    "range(x^2)"
   ]
  },
  {
   "cell_type": "markdown",
   "metadata": {},
   "source": [
    "## Correlations\n",
    "\n",
    "- cor()\n",
    "- pearson (default correlation method)\n",
    "- kendall\n",
    "- spearman"
   ]
  },
  {
   "cell_type": "markdown",
   "metadata": {},
   "source": [
    "## Correlation Examples"
   ]
  },
  {
   "cell_type": "code",
   "execution_count": 84,
   "metadata": {},
   "outputs": [
    {
     "data": {
      "text/html": [
       "0.658747887344759"
      ],
      "text/latex": [
       "0.658747887344759"
      ],
      "text/markdown": [
       "0.658747887344759"
      ],
      "text/plain": [
       "[1] 0.6587479"
      ]
     },
     "metadata": {},
     "output_type": "display_data"
    }
   ],
   "source": [
    "x <- mtcars[,'hp']\n",
    "y <- mtcars[,'wt']\n",
    "cor(x, y)"
   ]
  },
  {
   "cell_type": "markdown",
   "metadata": {},
   "source": [
    "## Testing Correlation Coefficient for Significance"
   ]
  },
  {
   "cell_type": "code",
   "execution_count": 85,
   "metadata": {},
   "outputs": [
    {
     "data": {
      "text/plain": [
       "\n",
       "\tPearson's product-moment correlation\n",
       "\n",
       "data:  x and y\n",
       "t = 4.7957, df = 30, p-value = 4.146e-05\n",
       "alternative hypothesis: true correlation is not equal to 0\n",
       "95 percent confidence interval:\n",
       " 0.4025113 0.8192573\n",
       "sample estimates:\n",
       "      cor \n",
       "0.6587479 \n"
      ]
     },
     "metadata": {},
     "output_type": "display_data"
    }
   ],
   "source": [
    "x <- mtcars[,'hp']\n",
    "y <- mtcars[,'wt']\n",
    "cor.test(x, y)"
   ]
  },
  {
   "cell_type": "markdown",
   "metadata": {},
   "source": [
    "## Regression Analysis\n",
    "\n",
    "- Simple linear\n",
    "- Multiple linear\n",
    "- Polynomial\n",
    "- Time-series"
   ]
  },
  {
   "cell_type": "markdown",
   "metadata": {},
   "source": [
    "## Simple Linear Regression Model\n",
    "\n",
    "- Yi = A1Xi + A0"
   ]
  },
  {
   "cell_type": "markdown",
   "metadata": {},
   "source": [
    "## Least Squares Method (LSM)"
   ]
  },
  {
   "cell_type": "markdown",
   "metadata": {},
   "source": [
    "## LSM Assumptions"
   ]
  },
  {
   "cell_type": "markdown",
   "metadata": {},
   "source": [
    "## Fitting Linear Regression Models in R\n",
    "\n",
    "- lm()"
   ]
  },
  {
   "cell_type": "code",
   "execution_count": 86,
   "metadata": {},
   "outputs": [
    {
     "data": {
      "text/plain": [
       "\n",
       "Call:\n",
       "lm(formula = y ~ x)\n",
       "\n",
       "Coefficients:\n",
       "(Intercept)            x  \n",
       "   1.838247     0.009401  \n"
      ]
     },
     "metadata": {},
     "output_type": "display_data"
    }
   ],
   "source": [
    "x <- mtcars[,'hp']\n",
    "y <- mtcars[,'wt']\n",
    "lm(y~x)"
   ]
  },
  {
   "cell_type": "markdown",
   "metadata": {},
   "source": [
    "## Confidence Intervals for Model Parameters"
   ]
  },
  {
   "cell_type": "code",
   "execution_count": 87,
   "metadata": {},
   "outputs": [
    {
     "data": {
      "text/html": [
       "<table>\n",
       "<thead><tr><th></th><th scope=col>2.5 %</th><th scope=col>97.5 %</th></tr></thead>\n",
       "<tbody>\n",
       "\t<tr><th scope=row>(Intercept)</th><td>1.191827444</td><td>2.4846660  </td></tr>\n",
       "\t<tr><th scope=row>x</th><td>0.005397515</td><td>0.0134044  </td></tr>\n",
       "</tbody>\n",
       "</table>\n"
      ],
      "text/latex": [
       "\\begin{tabular}{r|ll}\n",
       "  & 2.5 \\% & 97.5 \\%\\\\\n",
       "\\hline\n",
       "\t(Intercept) & 1.191827444 & 2.4846660  \\\\\n",
       "\tx & 0.005397515 & 0.0134044  \\\\\n",
       "\\end{tabular}\n"
      ],
      "text/markdown": [
       "\n",
       "| <!--/--> | 2.5 % | 97.5 % | \n",
       "|---|---|\n",
       "| (Intercept) | 1.191827444 | 2.4846660   | \n",
       "| x | 0.005397515 | 0.0134044   | \n",
       "\n",
       "\n"
      ],
      "text/plain": [
       "            2.5 %       97.5 %   \n",
       "(Intercept) 1.191827444 2.4846660\n",
       "x           0.005397515 0.0134044"
      ]
     },
     "metadata": {},
     "output_type": "display_data"
    }
   ],
   "source": [
    "x <- mtcars[,'hp']\n",
    "y <- mtcars[,'wt']\n",
    "mod <- lm(y~x)\n",
    "confint(mod)"
   ]
  },
  {
   "cell_type": "markdown",
   "metadata": {
    "collapsed": true
   },
   "source": [
    "## Example of Using lm() with a Data Frame"
   ]
  },
  {
   "cell_type": "code",
   "execution_count": 88,
   "metadata": {},
   "outputs": [
    {
     "data": {
      "text/plain": [
       "\n",
       "Call:\n",
       "lm(formula = hp ~ wt, data = mtcars)\n",
       "\n",
       "Coefficients:\n",
       "(Intercept)           wt  \n",
       "     -1.821       46.160  \n"
      ]
     },
     "metadata": {},
     "output_type": "display_data"
    }
   ],
   "source": [
    "lm(hp ~ wt, data=mtcars)"
   ]
  },
  {
   "cell_type": "markdown",
   "metadata": {},
   "source": [
    "## Multiple Regression Analysis\n"
   ]
  },
  {
   "cell_type": "code",
   "execution_count": 89,
   "metadata": {},
   "outputs": [
    {
     "data": {
      "text/plain": [
       "\n",
       "Call:\n",
       "lm(formula = mpg ~ hp + wt)\n",
       "\n",
       "Coefficients:\n",
       "(Intercept)           hp           wt  \n",
       "   37.22727     -0.03177     -3.87783  \n"
      ]
     },
     "metadata": {},
     "output_type": "display_data"
    }
   ],
   "source": [
    "hp <- mtcars[,'hp']\n",
    "wt <- mtcars[,'wt']\n",
    "mpg <- mtcars[,'mpg']\n",
    "lm(mpg ~ hp + wt)"
   ]
  },
  {
   "cell_type": "markdown",
   "metadata": {},
   "source": [
    "## Applying Functions to Matrices and Data Frames"
   ]
  },
  {
   "cell_type": "code",
   "execution_count": 90,
   "metadata": {},
   "outputs": [
    {
     "data": {
      "text/html": [
       "<table>\n",
       "<tbody>\n",
       "\t<tr><td>20</td><td>21</td><td>22</td></tr>\n",
       "\t<tr><td>23</td><td>24</td><td>25</td></tr>\n",
       "</tbody>\n",
       "</table>\n"
      ],
      "text/latex": [
       "\\begin{tabular}{lll}\n",
       "\t 20 & 21 & 22\\\\\n",
       "\t 23 & 24 & 25\\\\\n",
       "\\end{tabular}\n"
      ],
      "text/markdown": [
       "\n",
       "| 20 | 21 | 22 | \n",
       "| 23 | 24 | 25 | \n",
       "\n",
       "\n"
      ],
      "text/plain": [
       "     [,1] [,2] [,3]\n",
       "[1,] 20   21   22  \n",
       "[2,] 23   24   25  "
      ]
     },
     "metadata": {},
     "output_type": "display_data"
    },
    {
     "data": {
      "text/html": [
       "<table>\n",
       "<tbody>\n",
       "\t<tr><td>4.472136</td><td>4.582576</td><td>4.690416</td></tr>\n",
       "\t<tr><td>4.795832</td><td>4.898979</td><td>5.000000</td></tr>\n",
       "</tbody>\n",
       "</table>\n"
      ],
      "text/latex": [
       "\\begin{tabular}{lll}\n",
       "\t 4.472136 & 4.582576 & 4.690416\\\\\n",
       "\t 4.795832 & 4.898979 & 5.000000\\\\\n",
       "\\end{tabular}\n"
      ],
      "text/markdown": [
       "\n",
       "| 4.472136 | 4.582576 | 4.690416 | \n",
       "| 4.795832 | 4.898979 | 5.000000 | \n",
       "\n",
       "\n"
      ],
      "text/plain": [
       "     [,1]     [,2]     [,3]    \n",
       "[1,] 4.472136 4.582576 4.690416\n",
       "[2,] 4.795832 4.898979 5.000000"
      ]
     },
     "metadata": {},
     "output_type": "display_data"
    },
    {
     "data": {
      "text/html": [
       "<table>\n",
       "<tbody>\n",
       "\t<tr><td>4.47</td><td>4.58</td><td>4.69</td></tr>\n",
       "\t<tr><td>4.80</td><td>4.90</td><td>5.00</td></tr>\n",
       "</tbody>\n",
       "</table>\n"
      ],
      "text/latex": [
       "\\begin{tabular}{lll}\n",
       "\t 4.47 & 4.58 & 4.69\\\\\n",
       "\t 4.80 & 4.90 & 5.00\\\\\n",
       "\\end{tabular}\n"
      ],
      "text/markdown": [
       "\n",
       "| 4.47 | 4.58 | 4.69 | \n",
       "| 4.80 | 4.90 | 5.00 | \n",
       "\n",
       "\n"
      ],
      "text/plain": [
       "     [,1] [,2] [,3]\n",
       "[1,] 4.47 4.58 4.69\n",
       "[2,] 4.80 4.90 5.00"
      ]
     },
     "metadata": {},
     "output_type": "display_data"
    },
    {
     "data": {
      "text/html": [
       "4.74"
      ],
      "text/latex": [
       "4.74"
      ],
      "text/markdown": [
       "4.74"
      ],
      "text/plain": [
       "[1] 4.74"
      ]
     },
     "metadata": {},
     "output_type": "display_data"
    }
   ],
   "source": [
    "m <- matrix(c(20, 21, 22, 23, 24, 25), nrow=2, ncol=3, byrow = TRUE) \n",
    "m\n",
    "m <- sqrt(m)\n",
    "m\n",
    "m <- round(m, digit=2)\n",
    "m\n",
    "mm <- mean(m)\n",
    "mm"
   ]
  },
  {
   "cell_type": "markdown",
   "metadata": {},
   "source": [
    "## The apply() Function"
   ]
  },
  {
   "cell_type": "code",
   "execution_count": 91,
   "metadata": {
    "collapsed": true
   },
   "outputs": [],
   "source": [
    "help(apply)"
   ]
  },
  {
   "cell_type": "code",
   "execution_count": 92,
   "metadata": {},
   "outputs": [
    {
     "data": {
      "text/html": [
       "<table>\n",
       "<tbody>\n",
       "\t<tr><td>1 </td><td>5 </td><td> 9</td></tr>\n",
       "\t<tr><td>2 </td><td>6 </td><td>10</td></tr>\n",
       "\t<tr><td>3 </td><td>7 </td><td>11</td></tr>\n",
       "\t<tr><td>4 </td><td>8 </td><td>12</td></tr>\n",
       "</tbody>\n",
       "</table>\n"
      ],
      "text/latex": [
       "\\begin{tabular}{lll}\n",
       "\t 1  & 5  &  9\\\\\n",
       "\t 2  & 6  & 10\\\\\n",
       "\t 3  & 7  & 11\\\\\n",
       "\t 4  & 8  & 12\\\\\n",
       "\\end{tabular}\n"
      ],
      "text/markdown": [
       "\n",
       "| 1  | 5  |  9 | \n",
       "| 2  | 6  | 10 | \n",
       "| 3  | 7  | 11 | \n",
       "| 4  | 8  | 12 | \n",
       "\n",
       "\n"
      ],
      "text/plain": [
       "     [,1] [,2] [,3]\n",
       "[1,] 1    5     9  \n",
       "[2,] 2    6    10  \n",
       "[3,] 3    7    11  \n",
       "[4,] 4    8    12  "
      ]
     },
     "metadata": {},
     "output_type": "display_data"
    },
    {
     "data": {
      "text/html": [
       "<ol class=list-inline>\n",
       "\t<li>9</li>\n",
       "\t<li>10</li>\n",
       "\t<li>11</li>\n",
       "\t<li>12</li>\n",
       "</ol>\n"
      ],
      "text/latex": [
       "\\begin{enumerate*}\n",
       "\\item 9\n",
       "\\item 10\n",
       "\\item 11\n",
       "\\item 12\n",
       "\\end{enumerate*}\n"
      ],
      "text/markdown": [
       "1. 9\n",
       "2. 10\n",
       "3. 11\n",
       "4. 12\n",
       "\n",
       "\n"
      ],
      "text/plain": [
       "[1]  9 10 11 12"
      ]
     },
     "metadata": {},
     "output_type": "display_data"
    },
    {
     "data": {
      "text/html": [
       "<ol class=list-inline>\n",
       "\t<li>4</li>\n",
       "\t<li>8</li>\n",
       "\t<li>12</li>\n",
       "</ol>\n"
      ],
      "text/latex": [
       "\\begin{enumerate*}\n",
       "\\item 4\n",
       "\\item 8\n",
       "\\item 12\n",
       "\\end{enumerate*}\n"
      ],
      "text/markdown": [
       "1. 4\n",
       "2. 8\n",
       "3. 12\n",
       "\n",
       "\n"
      ],
      "text/plain": [
       "[1]  4  8 12"
      ]
     },
     "metadata": {},
     "output_type": "display_data"
    }
   ],
   "source": [
    "m <- matrix(1:12, nrow = 4)\n",
    "m\n",
    "apply(m, 1, max) # find max element row-wise\n",
    "apply(m, 2, max) # find max element column-wise"
   ]
  },
  {
   "cell_type": "markdown",
   "metadata": {},
   "source": [
    "## Using apply() Function with a User-Defined Function"
   ]
  },
  {
   "cell_type": "code",
   "execution_count": 93,
   "metadata": {},
   "outputs": [
    {
     "data": {
      "text/html": [
       "<table>\n",
       "<tbody>\n",
       "\t<tr><td>1 </td><td>5 </td><td> 9</td></tr>\n",
       "\t<tr><td>2 </td><td>6 </td><td>10</td></tr>\n",
       "\t<tr><td>3 </td><td>7 </td><td>11</td></tr>\n",
       "\t<tr><td>4 </td><td>8 </td><td>12</td></tr>\n",
       "</tbody>\n",
       "</table>\n"
      ],
      "text/latex": [
       "\\begin{tabular}{lll}\n",
       "\t 1  & 5  &  9\\\\\n",
       "\t 2  & 6  & 10\\\\\n",
       "\t 3  & 7  & 11\\\\\n",
       "\t 4  & 8  & 12\\\\\n",
       "\\end{tabular}\n"
      ],
      "text/markdown": [
       "\n",
       "| 1  | 5  |  9 | \n",
       "| 2  | 6  | 10 | \n",
       "| 3  | 7  | 11 | \n",
       "| 4  | 8  | 12 | \n",
       "\n",
       "\n"
      ],
      "text/plain": [
       "     [,1] [,2] [,3]\n",
       "[1,] 1    5     9  \n",
       "[2,] 2    6    10  \n",
       "[3,] 3    7    11  \n",
       "[4,] 4    8    12  "
      ]
     },
     "metadata": {},
     "output_type": "display_data"
    },
    {
     "data": {
      "text/html": [
       "<table>\n",
       "<tbody>\n",
       "\t<tr><td>TRUE </td><td> TRUE</td><td>FALSE</td></tr>\n",
       "\t<tr><td>TRUE </td><td> TRUE</td><td>FALSE</td></tr>\n",
       "\t<tr><td>TRUE </td><td>FALSE</td><td>FALSE</td></tr>\n",
       "\t<tr><td>TRUE </td><td>FALSE</td><td>FALSE</td></tr>\n",
       "</tbody>\n",
       "</table>\n"
      ],
      "text/latex": [
       "\\begin{tabular}{lll}\n",
       "\t TRUE  &  TRUE & FALSE\\\\\n",
       "\t TRUE  &  TRUE & FALSE\\\\\n",
       "\t TRUE  & FALSE & FALSE\\\\\n",
       "\t TRUE  & FALSE & FALSE\\\\\n",
       "\\end{tabular}\n"
      ],
      "text/markdown": [
       "\n",
       "| TRUE  |  TRUE | FALSE | \n",
       "| TRUE  |  TRUE | FALSE | \n",
       "| TRUE  | FALSE | FALSE | \n",
       "| TRUE  | FALSE | FALSE | \n",
       "\n",
       "\n"
      ],
      "text/plain": [
       "     [,1] [,2]  [,3] \n",
       "[1,] TRUE  TRUE FALSE\n",
       "[2,] TRUE  TRUE FALSE\n",
       "[3,] TRUE FALSE FALSE\n",
       "[4,] TRUE FALSE FALSE"
      ]
     },
     "metadata": {},
     "output_type": "display_data"
    }
   ],
   "source": [
    "m <- matrix(1:12, nrow = 4)\n",
    "m\n",
    "apply(m, 2, function (x) { x<7 })"
   ]
  },
  {
   "cell_type": "markdown",
   "metadata": {},
   "source": [
    "## apply() Variants\n",
    "\n",
    "- lappy()\n",
    "- sapply()\n",
    "- tapply()"
   ]
  },
  {
   "cell_type": "markdown",
   "metadata": {},
   "source": [
    "## Using tapply()"
   ]
  },
  {
   "cell_type": "code",
   "execution_count": 94,
   "metadata": {},
   "outputs": [
    {
     "data": {
      "text/html": [
       "<dl class=dl-horizontal>\n",
       "\t<dt>4</dt>\n",
       "\t\t<dd>113</dd>\n",
       "\t<dt>6</dt>\n",
       "\t\t<dd>175</dd>\n",
       "\t<dt>8</dt>\n",
       "\t\t<dd>335</dd>\n",
       "</dl>\n"
      ],
      "text/plain": [
       "  4   6   8 \n",
       "113 175 335 "
      ]
     },
     "metadata": {},
     "output_type": "display_data"
    }
   ],
   "source": [
    "tapply(mtcars$hp, mtcars$cyl, max) # find most powwerful car engine within each group of cars with same number cylinders"
   ]
  },
  {
   "cell_type": "markdown",
   "metadata": {
    "collapsed": true
   },
   "source": [
    "## Adding and Removing a Column to a Data Frame"
   ]
  },
  {
   "cell_type": "code",
   "execution_count": 95,
   "metadata": {},
   "outputs": [
    {
     "data": {
      "text/html": [
       "<table>\n",
       "<thead><tr><th></th><th scope=col>mpg</th><th scope=col>cyl</th><th scope=col>disp</th><th scope=col>hp</th><th scope=col>drat</th><th scope=col>wt</th><th scope=col>qsec</th><th scope=col>vs</th><th scope=col>am</th><th scope=col>gear</th><th scope=col>carb</th></tr></thead>\n",
       "<tbody>\n",
       "\t<tr><th scope=row>Mazda RX4</th><td>21.0 </td><td>6    </td><td>160  </td><td>110  </td><td>3.90 </td><td>2.620</td><td>16.46</td><td>0    </td><td>1    </td><td>4    </td><td>4    </td></tr>\n",
       "\t<tr><th scope=row>Mazda RX4 Wag</th><td>21.0 </td><td>6    </td><td>160  </td><td>110  </td><td>3.90 </td><td>2.875</td><td>17.02</td><td>0    </td><td>1    </td><td>4    </td><td>4    </td></tr>\n",
       "\t<tr><th scope=row>Datsun 710</th><td>22.8 </td><td>4    </td><td>108  </td><td> 93  </td><td>3.85 </td><td>2.320</td><td>18.61</td><td>1    </td><td>1    </td><td>4    </td><td>1    </td></tr>\n",
       "\t<tr><th scope=row>Hornet 4 Drive</th><td>21.4 </td><td>6    </td><td>258  </td><td>110  </td><td>3.08 </td><td>3.215</td><td>19.44</td><td>1    </td><td>0    </td><td>3    </td><td>1    </td></tr>\n",
       "\t<tr><th scope=row>Hornet Sportabout</th><td>18.7 </td><td>8    </td><td>360  </td><td>175  </td><td>3.15 </td><td>3.440</td><td>17.02</td><td>0    </td><td>0    </td><td>3    </td><td>2    </td></tr>\n",
       "\t<tr><th scope=row>Valiant</th><td>18.1 </td><td>6    </td><td>225  </td><td>105  </td><td>2.76 </td><td>3.460</td><td>20.22</td><td>1    </td><td>0    </td><td>3    </td><td>1    </td></tr>\n",
       "</tbody>\n",
       "</table>\n"
      ],
      "text/latex": [
       "\\begin{tabular}{r|lllllllllll}\n",
       "  & mpg & cyl & disp & hp & drat & wt & qsec & vs & am & gear & carb\\\\\n",
       "\\hline\n",
       "\tMazda RX4 & 21.0  & 6     & 160   & 110   & 3.90  & 2.620 & 16.46 & 0     & 1     & 4     & 4    \\\\\n",
       "\tMazda RX4 Wag & 21.0  & 6     & 160   & 110   & 3.90  & 2.875 & 17.02 & 0     & 1     & 4     & 4    \\\\\n",
       "\tDatsun 710 & 22.8  & 4     & 108   &  93   & 3.85  & 2.320 & 18.61 & 1     & 1     & 4     & 1    \\\\\n",
       "\tHornet 4 Drive & 21.4  & 6     & 258   & 110   & 3.08  & 3.215 & 19.44 & 1     & 0     & 3     & 1    \\\\\n",
       "\tHornet Sportabout & 18.7  & 8     & 360   & 175   & 3.15  & 3.440 & 17.02 & 0     & 0     & 3     & 2    \\\\\n",
       "\tValiant & 18.1  & 6     & 225   & 105   & 2.76  & 3.460 & 20.22 & 1     & 0     & 3     & 1    \\\\\n",
       "\\end{tabular}\n"
      ],
      "text/markdown": [
       "\n",
       "| <!--/--> | mpg | cyl | disp | hp | drat | wt | qsec | vs | am | gear | carb | \n",
       "|---|---|---|---|---|---|\n",
       "| Mazda RX4 | 21.0  | 6     | 160   | 110   | 3.90  | 2.620 | 16.46 | 0     | 1     | 4     | 4     | \n",
       "| Mazda RX4 Wag | 21.0  | 6     | 160   | 110   | 3.90  | 2.875 | 17.02 | 0     | 1     | 4     | 4     | \n",
       "| Datsun 710 | 22.8  | 4     | 108   |  93   | 3.85  | 2.320 | 18.61 | 1     | 1     | 4     | 1     | \n",
       "| Hornet 4 Drive | 21.4  | 6     | 258   | 110   | 3.08  | 3.215 | 19.44 | 1     | 0     | 3     | 1     | \n",
       "| Hornet Sportabout | 18.7  | 8     | 360   | 175   | 3.15  | 3.440 | 17.02 | 0     | 0     | 3     | 2     | \n",
       "| Valiant | 18.1  | 6     | 225   | 105   | 2.76  | 3.460 | 20.22 | 1     | 0     | 3     | 1     | \n",
       "\n",
       "\n"
      ],
      "text/plain": [
       "                  mpg  cyl disp hp  drat wt    qsec  vs am gear carb\n",
       "Mazda RX4         21.0 6   160  110 3.90 2.620 16.46 0  1  4    4   \n",
       "Mazda RX4 Wag     21.0 6   160  110 3.90 2.875 17.02 0  1  4    4   \n",
       "Datsun 710        22.8 4   108   93 3.85 2.320 18.61 1  1  4    1   \n",
       "Hornet 4 Drive    21.4 6   258  110 3.08 3.215 19.44 1  0  3    1   \n",
       "Hornet Sportabout 18.7 8   360  175 3.15 3.440 17.02 0  0  3    2   \n",
       "Valiant           18.1 6   225  105 2.76 3.460 20.22 1  0  3    1   "
      ]
     },
     "metadata": {},
     "output_type": "display_data"
    },
    {
     "data": {
      "text/html": [
       "<table>\n",
       "<thead><tr><th></th><th scope=col>mpg</th><th scope=col>cyl</th><th scope=col>disp</th><th scope=col>hp</th><th scope=col>drat</th><th scope=col>wt</th><th scope=col>qsec</th><th scope=col>vs</th><th scope=col>am</th><th scope=col>gear</th><th scope=col>carb</th><th scope=col>new_col_name</th></tr></thead>\n",
       "<tbody>\n",
       "\t<tr><th scope=row>Mazda RX4</th><td>21.0       </td><td>6          </td><td>160        </td><td>110        </td><td>3.90       </td><td>2.620      </td><td>16.46      </td><td>0          </td><td>1          </td><td>4          </td><td>4          </td><td> 0.59376348</td></tr>\n",
       "\t<tr><th scope=row>Mazda RX4 Wag</th><td>21.0       </td><td>6          </td><td>160        </td><td>110        </td><td>3.90       </td><td>2.875      </td><td>17.02      </td><td>0          </td><td>1          </td><td>4          </td><td>4          </td><td>-1.10760376</td></tr>\n",
       "\t<tr><th scope=row>Datsun 710</th><td>22.8       </td><td>4          </td><td>108        </td><td> 93        </td><td>3.85       </td><td>2.320      </td><td>18.61      </td><td>1          </td><td>1          </td><td>4          </td><td>1          </td><td>-0.62609480</td></tr>\n",
       "\t<tr><th scope=row>Hornet 4 Drive</th><td>21.4       </td><td>6          </td><td>258        </td><td>110        </td><td>3.08       </td><td>3.215      </td><td>19.44      </td><td>1          </td><td>0          </td><td>3          </td><td>1          </td><td>-0.12839947</td></tr>\n",
       "\t<tr><th scope=row>Hornet Sportabout</th><td>18.7       </td><td>8          </td><td>360        </td><td>175        </td><td>3.15       </td><td>3.440      </td><td>17.02      </td><td>0          </td><td>0          </td><td>3          </td><td>2          </td><td>-0.02036089</td></tr>\n",
       "\t<tr><th scope=row>Valiant</th><td>18.1       </td><td>6          </td><td>225        </td><td>105        </td><td>2.76       </td><td>3.460      </td><td>20.22      </td><td>1          </td><td>0          </td><td>3          </td><td>1          </td><td> 1.84369940</td></tr>\n",
       "</tbody>\n",
       "</table>\n"
      ],
      "text/latex": [
       "\\begin{tabular}{r|llllllllllll}\n",
       "  & mpg & cyl & disp & hp & drat & wt & qsec & vs & am & gear & carb & new\\_col\\_name\\\\\n",
       "\\hline\n",
       "\tMazda RX4 & 21.0        & 6           & 160         & 110         & 3.90        & 2.620       & 16.46       & 0           & 1           & 4           & 4           &  0.59376348\\\\\n",
       "\tMazda RX4 Wag & 21.0        & 6           & 160         & 110         & 3.90        & 2.875       & 17.02       & 0           & 1           & 4           & 4           & -1.10760376\\\\\n",
       "\tDatsun 710 & 22.8        & 4           & 108         &  93         & 3.85        & 2.320       & 18.61       & 1           & 1           & 4           & 1           & -0.62609480\\\\\n",
       "\tHornet 4 Drive & 21.4        & 6           & 258         & 110         & 3.08        & 3.215       & 19.44       & 1           & 0           & 3           & 1           & -0.12839947\\\\\n",
       "\tHornet Sportabout & 18.7        & 8           & 360         & 175         & 3.15        & 3.440       & 17.02       & 0           & 0           & 3           & 2           & -0.02036089\\\\\n",
       "\tValiant & 18.1        & 6           & 225         & 105         & 2.76        & 3.460       & 20.22       & 1           & 0           & 3           & 1           &  1.84369940\\\\\n",
       "\\end{tabular}\n"
      ],
      "text/markdown": [
       "\n",
       "| <!--/--> | mpg | cyl | disp | hp | drat | wt | qsec | vs | am | gear | carb | new_col_name | \n",
       "|---|---|---|---|---|---|\n",
       "| Mazda RX4 | 21.0        | 6           | 160         | 110         | 3.90        | 2.620       | 16.46       | 0           | 1           | 4           | 4           |  0.59376348 | \n",
       "| Mazda RX4 Wag | 21.0        | 6           | 160         | 110         | 3.90        | 2.875       | 17.02       | 0           | 1           | 4           | 4           | -1.10760376 | \n",
       "| Datsun 710 | 22.8        | 4           | 108         |  93         | 3.85        | 2.320       | 18.61       | 1           | 1           | 4           | 1           | -0.62609480 | \n",
       "| Hornet 4 Drive | 21.4        | 6           | 258         | 110         | 3.08        | 3.215       | 19.44       | 1           | 0           | 3           | 1           | -0.12839947 | \n",
       "| Hornet Sportabout | 18.7        | 8           | 360         | 175         | 3.15        | 3.440       | 17.02       | 0           | 0           | 3           | 2           | -0.02036089 | \n",
       "| Valiant | 18.1        | 6           | 225         | 105         | 2.76        | 3.460       | 20.22       | 1           | 0           | 3           | 1           |  1.84369940 | \n",
       "\n",
       "\n"
      ],
      "text/plain": [
       "                  mpg  cyl disp hp  drat wt    qsec  vs am gear carb\n",
       "Mazda RX4         21.0 6   160  110 3.90 2.620 16.46 0  1  4    4   \n",
       "Mazda RX4 Wag     21.0 6   160  110 3.90 2.875 17.02 0  1  4    4   \n",
       "Datsun 710        22.8 4   108   93 3.85 2.320 18.61 1  1  4    1   \n",
       "Hornet 4 Drive    21.4 6   258  110 3.08 3.215 19.44 1  0  3    1   \n",
       "Hornet Sportabout 18.7 8   360  175 3.15 3.440 17.02 0  0  3    2   \n",
       "Valiant           18.1 6   225  105 2.76 3.460 20.22 1  0  3    1   \n",
       "                  new_col_name\n",
       "Mazda RX4          0.59376348 \n",
       "Mazda RX4 Wag     -1.10760376 \n",
       "Datsun 710        -0.62609480 \n",
       "Hornet 4 Drive    -0.12839947 \n",
       "Hornet Sportabout -0.02036089 \n",
       "Valiant            1.84369940 "
      ]
     },
     "metadata": {},
     "output_type": "display_data"
    },
    {
     "data": {
      "text/html": [
       "<table>\n",
       "<thead><tr><th></th><th scope=col>mpg</th><th scope=col>cyl</th><th scope=col>disp</th><th scope=col>hp</th><th scope=col>drat</th><th scope=col>wt</th><th scope=col>qsec</th><th scope=col>vs</th><th scope=col>am</th><th scope=col>gear</th><th scope=col>carb</th></tr></thead>\n",
       "<tbody>\n",
       "\t<tr><th scope=row>Mazda RX4</th><td>21.0 </td><td>6    </td><td>160  </td><td>110  </td><td>3.90 </td><td>2.620</td><td>16.46</td><td>0    </td><td>1    </td><td>4    </td><td>4    </td></tr>\n",
       "\t<tr><th scope=row>Mazda RX4 Wag</th><td>21.0 </td><td>6    </td><td>160  </td><td>110  </td><td>3.90 </td><td>2.875</td><td>17.02</td><td>0    </td><td>1    </td><td>4    </td><td>4    </td></tr>\n",
       "\t<tr><th scope=row>Datsun 710</th><td>22.8 </td><td>4    </td><td>108  </td><td> 93  </td><td>3.85 </td><td>2.320</td><td>18.61</td><td>1    </td><td>1    </td><td>4    </td><td>1    </td></tr>\n",
       "\t<tr><th scope=row>Hornet 4 Drive</th><td>21.4 </td><td>6    </td><td>258  </td><td>110  </td><td>3.08 </td><td>3.215</td><td>19.44</td><td>1    </td><td>0    </td><td>3    </td><td>1    </td></tr>\n",
       "\t<tr><th scope=row>Hornet Sportabout</th><td>18.7 </td><td>8    </td><td>360  </td><td>175  </td><td>3.15 </td><td>3.440</td><td>17.02</td><td>0    </td><td>0    </td><td>3    </td><td>2    </td></tr>\n",
       "\t<tr><th scope=row>Valiant</th><td>18.1 </td><td>6    </td><td>225  </td><td>105  </td><td>2.76 </td><td>3.460</td><td>20.22</td><td>1    </td><td>0    </td><td>3    </td><td>1    </td></tr>\n",
       "</tbody>\n",
       "</table>\n"
      ],
      "text/latex": [
       "\\begin{tabular}{r|lllllllllll}\n",
       "  & mpg & cyl & disp & hp & drat & wt & qsec & vs & am & gear & carb\\\\\n",
       "\\hline\n",
       "\tMazda RX4 & 21.0  & 6     & 160   & 110   & 3.90  & 2.620 & 16.46 & 0     & 1     & 4     & 4    \\\\\n",
       "\tMazda RX4 Wag & 21.0  & 6     & 160   & 110   & 3.90  & 2.875 & 17.02 & 0     & 1     & 4     & 4    \\\\\n",
       "\tDatsun 710 & 22.8  & 4     & 108   &  93   & 3.85  & 2.320 & 18.61 & 1     & 1     & 4     & 1    \\\\\n",
       "\tHornet 4 Drive & 21.4  & 6     & 258   & 110   & 3.08  & 3.215 & 19.44 & 1     & 0     & 3     & 1    \\\\\n",
       "\tHornet Sportabout & 18.7  & 8     & 360   & 175   & 3.15  & 3.440 & 17.02 & 0     & 0     & 3     & 2    \\\\\n",
       "\tValiant & 18.1  & 6     & 225   & 105   & 2.76  & 3.460 & 20.22 & 1     & 0     & 3     & 1    \\\\\n",
       "\\end{tabular}\n"
      ],
      "text/markdown": [
       "\n",
       "| <!--/--> | mpg | cyl | disp | hp | drat | wt | qsec | vs | am | gear | carb | \n",
       "|---|---|---|---|---|---|\n",
       "| Mazda RX4 | 21.0  | 6     | 160   | 110   | 3.90  | 2.620 | 16.46 | 0     | 1     | 4     | 4     | \n",
       "| Mazda RX4 Wag | 21.0  | 6     | 160   | 110   | 3.90  | 2.875 | 17.02 | 0     | 1     | 4     | 4     | \n",
       "| Datsun 710 | 22.8  | 4     | 108   |  93   | 3.85  | 2.320 | 18.61 | 1     | 1     | 4     | 1     | \n",
       "| Hornet 4 Drive | 21.4  | 6     | 258   | 110   | 3.08  | 3.215 | 19.44 | 1     | 0     | 3     | 1     | \n",
       "| Hornet Sportabout | 18.7  | 8     | 360   | 175   | 3.15  | 3.440 | 17.02 | 0     | 0     | 3     | 2     | \n",
       "| Valiant | 18.1  | 6     | 225   | 105   | 2.76  | 3.460 | 20.22 | 1     | 0     | 3     | 1     | \n",
       "\n",
       "\n"
      ],
      "text/plain": [
       "                  mpg  cyl disp hp  drat wt    qsec  vs am gear carb\n",
       "Mazda RX4         21.0 6   160  110 3.90 2.620 16.46 0  1  4    4   \n",
       "Mazda RX4 Wag     21.0 6   160  110 3.90 2.875 17.02 0  1  4    4   \n",
       "Datsun 710        22.8 4   108   93 3.85 2.320 18.61 1  1  4    1   \n",
       "Hornet 4 Drive    21.4 6   258  110 3.08 3.215 19.44 1  0  3    1   \n",
       "Hornet Sportabout 18.7 8   360  175 3.15 3.440 17.02 0  0  3    2   \n",
       "Valiant           18.1 6   225  105 2.76 3.460 20.22 1  0  3    1   "
      ]
     },
     "metadata": {},
     "output_type": "display_data"
    }
   ],
   "source": [
    "head(mtcars)\n",
    "mtcars$new_col_name <- rnorm(nrow(mtcars))\n",
    "head(mtcars)\n",
    "mtcars$new_col_name <- NULL\n",
    "head(mtcars)"
   ]
  },
  {
   "cell_type": "markdown",
   "metadata": {
    "collapsed": true
   },
   "source": [
    "## Dropping a Column in a Data Frame (slicing)"
   ]
  },
  {
   "cell_type": "code",
   "execution_count": 96,
   "metadata": {},
   "outputs": [
    {
     "data": {
      "text/html": [
       "<table>\n",
       "<thead><tr><th></th><th scope=col>mpg</th><th scope=col>cyl</th><th scope=col>disp</th><th scope=col>hp</th><th scope=col>drat</th><th scope=col>wt</th><th scope=col>qsec</th><th scope=col>vs</th><th scope=col>am</th><th scope=col>gear</th><th scope=col>carb</th></tr></thead>\n",
       "<tbody>\n",
       "\t<tr><th scope=row>Mazda RX4</th><td>21.0 </td><td>6    </td><td>160  </td><td>110  </td><td>3.90 </td><td>2.62 </td><td>16.46</td><td>0    </td><td>1    </td><td>4    </td><td>4    </td></tr>\n",
       "\t<tr><th scope=row>Datsun 710</th><td>22.8 </td><td>4    </td><td>108  </td><td> 93  </td><td>3.85 </td><td>2.32 </td><td>18.61</td><td>1    </td><td>1    </td><td>4    </td><td>1    </td></tr>\n",
       "</tbody>\n",
       "</table>\n"
      ],
      "text/latex": [
       "\\begin{tabular}{r|lllllllllll}\n",
       "  & mpg & cyl & disp & hp & drat & wt & qsec & vs & am & gear & carb\\\\\n",
       "\\hline\n",
       "\tMazda RX4 & 21.0  & 6     & 160   & 110   & 3.90  & 2.62  & 16.46 & 0     & 1     & 4     & 4    \\\\\n",
       "\tDatsun 710 & 22.8  & 4     & 108   &  93   & 3.85  & 2.32  & 18.61 & 1     & 1     & 4     & 1    \\\\\n",
       "\\end{tabular}\n"
      ],
      "text/markdown": [
       "\n",
       "| <!--/--> | mpg | cyl | disp | hp | drat | wt | qsec | vs | am | gear | carb | \n",
       "|---|---|\n",
       "| Mazda RX4 | 21.0  | 6     | 160   | 110   | 3.90  | 2.62  | 16.46 | 0     | 1     | 4     | 4     | \n",
       "| Datsun 710 | 22.8  | 4     | 108   |  93   | 3.85  | 2.32  | 18.61 | 1     | 1     | 4     | 1     | \n",
       "\n",
       "\n"
      ],
      "text/plain": [
       "           mpg  cyl disp hp  drat wt   qsec  vs am gear carb\n",
       "Mazda RX4  21.0 6   160  110 3.90 2.62 16.46 0  1  4    4   \n",
       "Datsun 710 22.8 4   108   93 3.85 2.32 18.61 1  1  4    1   "
      ]
     },
     "metadata": {},
     "output_type": "display_data"
    },
    {
     "data": {
      "text/html": [
       "<table>\n",
       "<thead><tr><th></th><th scope=col>mpg</th><th scope=col>disp</th></tr></thead>\n",
       "<tbody>\n",
       "\t<tr><th scope=row>Mazda RX4</th><td>21.0 </td><td>160.0</td></tr>\n",
       "\t<tr><th scope=row>Mazda RX4 Wag</th><td>21.0 </td><td>160.0</td></tr>\n",
       "\t<tr><th scope=row>Datsun 710</th><td>22.8 </td><td>108.0</td></tr>\n",
       "\t<tr><th scope=row>Hornet 4 Drive</th><td>21.4 </td><td>258.0</td></tr>\n",
       "\t<tr><th scope=row>Hornet Sportabout</th><td>18.7 </td><td>360.0</td></tr>\n",
       "\t<tr><th scope=row>Valiant</th><td>18.1 </td><td>225.0</td></tr>\n",
       "\t<tr><th scope=row>Duster 360</th><td>14.3 </td><td>360.0</td></tr>\n",
       "\t<tr><th scope=row>Merc 240D</th><td>24.4 </td><td>146.7</td></tr>\n",
       "\t<tr><th scope=row>Merc 230</th><td>22.8 </td><td>140.8</td></tr>\n",
       "\t<tr><th scope=row>Merc 280</th><td>19.2 </td><td>167.6</td></tr>\n",
       "\t<tr><th scope=row>Merc 280C</th><td>17.8 </td><td>167.6</td></tr>\n",
       "\t<tr><th scope=row>Merc 450SE</th><td>16.4 </td><td>275.8</td></tr>\n",
       "\t<tr><th scope=row>Merc 450SL</th><td>17.3 </td><td>275.8</td></tr>\n",
       "\t<tr><th scope=row>Merc 450SLC</th><td>15.2 </td><td>275.8</td></tr>\n",
       "\t<tr><th scope=row>Cadillac Fleetwood</th><td>10.4 </td><td>472.0</td></tr>\n",
       "\t<tr><th scope=row>Lincoln Continental</th><td>10.4 </td><td>460.0</td></tr>\n",
       "\t<tr><th scope=row>Chrysler Imperial</th><td>14.7 </td><td>440.0</td></tr>\n",
       "\t<tr><th scope=row>Fiat 128</th><td>32.4 </td><td> 78.7</td></tr>\n",
       "\t<tr><th scope=row>Honda Civic</th><td>30.4 </td><td> 75.7</td></tr>\n",
       "\t<tr><th scope=row>Toyota Corolla</th><td>33.9 </td><td> 71.1</td></tr>\n",
       "\t<tr><th scope=row>Toyota Corona</th><td>21.5 </td><td>120.1</td></tr>\n",
       "\t<tr><th scope=row>Dodge Challenger</th><td>15.5 </td><td>318.0</td></tr>\n",
       "\t<tr><th scope=row>AMC Javelin</th><td>15.2 </td><td>304.0</td></tr>\n",
       "\t<tr><th scope=row>Camaro Z28</th><td>13.3 </td><td>350.0</td></tr>\n",
       "\t<tr><th scope=row>Pontiac Firebird</th><td>19.2 </td><td>400.0</td></tr>\n",
       "\t<tr><th scope=row>Fiat X1-9</th><td>27.3 </td><td> 79.0</td></tr>\n",
       "\t<tr><th scope=row>Porsche 914-2</th><td>26.0 </td><td>120.3</td></tr>\n",
       "\t<tr><th scope=row>Lotus Europa</th><td>30.4 </td><td> 95.1</td></tr>\n",
       "\t<tr><th scope=row>Ford Pantera L</th><td>15.8 </td><td>351.0</td></tr>\n",
       "\t<tr><th scope=row>Ferrari Dino</th><td>19.7 </td><td>145.0</td></tr>\n",
       "\t<tr><th scope=row>Maserati Bora</th><td>15.0 </td><td>301.0</td></tr>\n",
       "\t<tr><th scope=row>Volvo 142E</th><td>21.4 </td><td>121.0</td></tr>\n",
       "</tbody>\n",
       "</table>\n"
      ],
      "text/latex": [
       "\\begin{tabular}{r|ll}\n",
       "  & mpg & disp\\\\\n",
       "\\hline\n",
       "\tMazda RX4 & 21.0  & 160.0\\\\\n",
       "\tMazda RX4 Wag & 21.0  & 160.0\\\\\n",
       "\tDatsun 710 & 22.8  & 108.0\\\\\n",
       "\tHornet 4 Drive & 21.4  & 258.0\\\\\n",
       "\tHornet Sportabout & 18.7  & 360.0\\\\\n",
       "\tValiant & 18.1  & 225.0\\\\\n",
       "\tDuster 360 & 14.3  & 360.0\\\\\n",
       "\tMerc 240D & 24.4  & 146.7\\\\\n",
       "\tMerc 230 & 22.8  & 140.8\\\\\n",
       "\tMerc 280 & 19.2  & 167.6\\\\\n",
       "\tMerc 280C & 17.8  & 167.6\\\\\n",
       "\tMerc 450SE & 16.4  & 275.8\\\\\n",
       "\tMerc 450SL & 17.3  & 275.8\\\\\n",
       "\tMerc 450SLC & 15.2  & 275.8\\\\\n",
       "\tCadillac Fleetwood & 10.4  & 472.0\\\\\n",
       "\tLincoln Continental & 10.4  & 460.0\\\\\n",
       "\tChrysler Imperial & 14.7  & 440.0\\\\\n",
       "\tFiat 128 & 32.4  &  78.7\\\\\n",
       "\tHonda Civic & 30.4  &  75.7\\\\\n",
       "\tToyota Corolla & 33.9  &  71.1\\\\\n",
       "\tToyota Corona & 21.5  & 120.1\\\\\n",
       "\tDodge Challenger & 15.5  & 318.0\\\\\n",
       "\tAMC Javelin & 15.2  & 304.0\\\\\n",
       "\tCamaro Z28 & 13.3  & 350.0\\\\\n",
       "\tPontiac Firebird & 19.2  & 400.0\\\\\n",
       "\tFiat X1-9 & 27.3  &  79.0\\\\\n",
       "\tPorsche 914-2 & 26.0  & 120.3\\\\\n",
       "\tLotus Europa & 30.4  &  95.1\\\\\n",
       "\tFord Pantera L & 15.8  & 351.0\\\\\n",
       "\tFerrari Dino & 19.7  & 145.0\\\\\n",
       "\tMaserati Bora & 15.0  & 301.0\\\\\n",
       "\tVolvo 142E & 21.4  & 121.0\\\\\n",
       "\\end{tabular}\n"
      ],
      "text/markdown": [
       "\n",
       "| <!--/--> | mpg | disp | \n",
       "|---|---|---|---|---|---|---|---|---|---|---|---|---|---|---|---|---|---|---|---|---|---|---|---|---|---|---|---|---|---|---|---|\n",
       "| Mazda RX4 | 21.0  | 160.0 | \n",
       "| Mazda RX4 Wag | 21.0  | 160.0 | \n",
       "| Datsun 710 | 22.8  | 108.0 | \n",
       "| Hornet 4 Drive | 21.4  | 258.0 | \n",
       "| Hornet Sportabout | 18.7  | 360.0 | \n",
       "| Valiant | 18.1  | 225.0 | \n",
       "| Duster 360 | 14.3  | 360.0 | \n",
       "| Merc 240D | 24.4  | 146.7 | \n",
       "| Merc 230 | 22.8  | 140.8 | \n",
       "| Merc 280 | 19.2  | 167.6 | \n",
       "| Merc 280C | 17.8  | 167.6 | \n",
       "| Merc 450SE | 16.4  | 275.8 | \n",
       "| Merc 450SL | 17.3  | 275.8 | \n",
       "| Merc 450SLC | 15.2  | 275.8 | \n",
       "| Cadillac Fleetwood | 10.4  | 472.0 | \n",
       "| Lincoln Continental | 10.4  | 460.0 | \n",
       "| Chrysler Imperial | 14.7  | 440.0 | \n",
       "| Fiat 128 | 32.4  |  78.7 | \n",
       "| Honda Civic | 30.4  |  75.7 | \n",
       "| Toyota Corolla | 33.9  |  71.1 | \n",
       "| Toyota Corona | 21.5  | 120.1 | \n",
       "| Dodge Challenger | 15.5  | 318.0 | \n",
       "| AMC Javelin | 15.2  | 304.0 | \n",
       "| Camaro Z28 | 13.3  | 350.0 | \n",
       "| Pontiac Firebird | 19.2  | 400.0 | \n",
       "| Fiat X1-9 | 27.3  |  79.0 | \n",
       "| Porsche 914-2 | 26.0  | 120.3 | \n",
       "| Lotus Europa | 30.4  |  95.1 | \n",
       "| Ford Pantera L | 15.8  | 351.0 | \n",
       "| Ferrari Dino | 19.7  | 145.0 | \n",
       "| Maserati Bora | 15.0  | 301.0 | \n",
       "| Volvo 142E | 21.4  | 121.0 | \n",
       "\n",
       "\n"
      ],
      "text/plain": [
       "                    mpg  disp \n",
       "Mazda RX4           21.0 160.0\n",
       "Mazda RX4 Wag       21.0 160.0\n",
       "Datsun 710          22.8 108.0\n",
       "Hornet 4 Drive      21.4 258.0\n",
       "Hornet Sportabout   18.7 360.0\n",
       "Valiant             18.1 225.0\n",
       "Duster 360          14.3 360.0\n",
       "Merc 240D           24.4 146.7\n",
       "Merc 230            22.8 140.8\n",
       "Merc 280            19.2 167.6\n",
       "Merc 280C           17.8 167.6\n",
       "Merc 450SE          16.4 275.8\n",
       "Merc 450SL          17.3 275.8\n",
       "Merc 450SLC         15.2 275.8\n",
       "Cadillac Fleetwood  10.4 472.0\n",
       "Lincoln Continental 10.4 460.0\n",
       "Chrysler Imperial   14.7 440.0\n",
       "Fiat 128            32.4  78.7\n",
       "Honda Civic         30.4  75.7\n",
       "Toyota Corolla      33.9  71.1\n",
       "Toyota Corona       21.5 120.1\n",
       "Dodge Challenger    15.5 318.0\n",
       "AMC Javelin         15.2 304.0\n",
       "Camaro Z28          13.3 350.0\n",
       "Pontiac Firebird    19.2 400.0\n",
       "Fiat X1-9           27.3  79.0\n",
       "Porsche 914-2       26.0 120.3\n",
       "Lotus Europa        30.4  95.1\n",
       "Ford Pantera L      15.8 351.0\n",
       "Ferrari Dino        19.7 145.0\n",
       "Maserati Bora       15.0 301.0\n",
       "Volvo 142E          21.4 121.0"
      ]
     },
     "metadata": {},
     "output_type": "display_data"
    }
   ],
   "source": [
    "mtcars[c(1,3),] # selecting 1st and 3rd rows in data frame\n",
    "mtcars[, c(1,3)] # selecting 1st and 3rd columns in data frame"
   ]
  },
  {
   "cell_type": "markdown",
   "metadata": {},
   "source": [
    "## The attach() and detach() Functions"
   ]
  },
  {
   "cell_type": "code",
   "execution_count": 97,
   "metadata": {},
   "outputs": [
    {
     "data": {
      "text/html": [
       "<ol class=list-inline>\n",
       "\t<li>21</li>\n",
       "\t<li>21</li>\n",
       "\t<li>22.8</li>\n",
       "\t<li>21.4</li>\n",
       "\t<li>18.7</li>\n",
       "\t<li>18.1</li>\n",
       "\t<li>14.3</li>\n",
       "\t<li>24.4</li>\n",
       "\t<li>22.8</li>\n",
       "\t<li>19.2</li>\n",
       "\t<li>17.8</li>\n",
       "\t<li>16.4</li>\n",
       "\t<li>17.3</li>\n",
       "\t<li>15.2</li>\n",
       "\t<li>10.4</li>\n",
       "\t<li>10.4</li>\n",
       "\t<li>14.7</li>\n",
       "\t<li>32.4</li>\n",
       "\t<li>30.4</li>\n",
       "\t<li>33.9</li>\n",
       "\t<li>21.5</li>\n",
       "\t<li>15.5</li>\n",
       "\t<li>15.2</li>\n",
       "\t<li>13.3</li>\n",
       "\t<li>19.2</li>\n",
       "\t<li>27.3</li>\n",
       "\t<li>26</li>\n",
       "\t<li>30.4</li>\n",
       "\t<li>15.8</li>\n",
       "\t<li>19.7</li>\n",
       "\t<li>15</li>\n",
       "\t<li>21.4</li>\n",
       "</ol>\n"
      ],
      "text/latex": [
       "\\begin{enumerate*}\n",
       "\\item 21\n",
       "\\item 21\n",
       "\\item 22.8\n",
       "\\item 21.4\n",
       "\\item 18.7\n",
       "\\item 18.1\n",
       "\\item 14.3\n",
       "\\item 24.4\n",
       "\\item 22.8\n",
       "\\item 19.2\n",
       "\\item 17.8\n",
       "\\item 16.4\n",
       "\\item 17.3\n",
       "\\item 15.2\n",
       "\\item 10.4\n",
       "\\item 10.4\n",
       "\\item 14.7\n",
       "\\item 32.4\n",
       "\\item 30.4\n",
       "\\item 33.9\n",
       "\\item 21.5\n",
       "\\item 15.5\n",
       "\\item 15.2\n",
       "\\item 13.3\n",
       "\\item 19.2\n",
       "\\item 27.3\n",
       "\\item 26\n",
       "\\item 30.4\n",
       "\\item 15.8\n",
       "\\item 19.7\n",
       "\\item 15\n",
       "\\item 21.4\n",
       "\\end{enumerate*}\n"
      ],
      "text/markdown": [
       "1. 21\n",
       "2. 21\n",
       "3. 22.8\n",
       "4. 21.4\n",
       "5. 18.7\n",
       "6. 18.1\n",
       "7. 14.3\n",
       "8. 24.4\n",
       "9. 22.8\n",
       "10. 19.2\n",
       "11. 17.8\n",
       "12. 16.4\n",
       "13. 17.3\n",
       "14. 15.2\n",
       "15. 10.4\n",
       "16. 10.4\n",
       "17. 14.7\n",
       "18. 32.4\n",
       "19. 30.4\n",
       "20. 33.9\n",
       "21. 21.5\n",
       "22. 15.5\n",
       "23. 15.2\n",
       "24. 13.3\n",
       "25. 19.2\n",
       "26. 27.3\n",
       "27. 26\n",
       "28. 30.4\n",
       "29. 15.8\n",
       "30. 19.7\n",
       "31. 15\n",
       "32. 21.4\n",
       "\n",
       "\n"
      ],
      "text/plain": [
       " [1] 21.0 21.0 22.8 21.4 18.7 18.1 14.3 24.4 22.8 19.2 17.8 16.4 17.3 15.2 10.4\n",
       "[16] 10.4 14.7 32.4 30.4 33.9 21.5 15.5 15.2 13.3 19.2 27.3 26.0 30.4 15.8 19.7\n",
       "[31] 15.0 21.4"
      ]
     },
     "metadata": {},
     "output_type": "display_data"
    },
    {
     "name": "stderr",
     "output_type": "stream",
     "text": [
      "The following objects are masked _by_ .GlobalEnv:\n",
      "\n",
      "    hp, mpg, wt\n",
      "\n"
     ]
    },
    {
     "data": {
      "text/html": [
       "<ol class=list-inline>\n",
       "\t<li>21</li>\n",
       "\t<li>21</li>\n",
       "\t<li>22.8</li>\n",
       "\t<li>21.4</li>\n",
       "\t<li>18.7</li>\n",
       "\t<li>18.1</li>\n",
       "\t<li>14.3</li>\n",
       "\t<li>24.4</li>\n",
       "\t<li>22.8</li>\n",
       "\t<li>19.2</li>\n",
       "\t<li>17.8</li>\n",
       "\t<li>16.4</li>\n",
       "\t<li>17.3</li>\n",
       "\t<li>15.2</li>\n",
       "\t<li>10.4</li>\n",
       "\t<li>10.4</li>\n",
       "\t<li>14.7</li>\n",
       "\t<li>32.4</li>\n",
       "\t<li>30.4</li>\n",
       "\t<li>33.9</li>\n",
       "\t<li>21.5</li>\n",
       "\t<li>15.5</li>\n",
       "\t<li>15.2</li>\n",
       "\t<li>13.3</li>\n",
       "\t<li>19.2</li>\n",
       "\t<li>27.3</li>\n",
       "\t<li>26</li>\n",
       "\t<li>30.4</li>\n",
       "\t<li>15.8</li>\n",
       "\t<li>19.7</li>\n",
       "\t<li>15</li>\n",
       "\t<li>21.4</li>\n",
       "</ol>\n"
      ],
      "text/latex": [
       "\\begin{enumerate*}\n",
       "\\item 21\n",
       "\\item 21\n",
       "\\item 22.8\n",
       "\\item 21.4\n",
       "\\item 18.7\n",
       "\\item 18.1\n",
       "\\item 14.3\n",
       "\\item 24.4\n",
       "\\item 22.8\n",
       "\\item 19.2\n",
       "\\item 17.8\n",
       "\\item 16.4\n",
       "\\item 17.3\n",
       "\\item 15.2\n",
       "\\item 10.4\n",
       "\\item 10.4\n",
       "\\item 14.7\n",
       "\\item 32.4\n",
       "\\item 30.4\n",
       "\\item 33.9\n",
       "\\item 21.5\n",
       "\\item 15.5\n",
       "\\item 15.2\n",
       "\\item 13.3\n",
       "\\item 19.2\n",
       "\\item 27.3\n",
       "\\item 26\n",
       "\\item 30.4\n",
       "\\item 15.8\n",
       "\\item 19.7\n",
       "\\item 15\n",
       "\\item 21.4\n",
       "\\end{enumerate*}\n"
      ],
      "text/markdown": [
       "1. 21\n",
       "2. 21\n",
       "3. 22.8\n",
       "4. 21.4\n",
       "5. 18.7\n",
       "6. 18.1\n",
       "7. 14.3\n",
       "8. 24.4\n",
       "9. 22.8\n",
       "10. 19.2\n",
       "11. 17.8\n",
       "12. 16.4\n",
       "13. 17.3\n",
       "14. 15.2\n",
       "15. 10.4\n",
       "16. 10.4\n",
       "17. 14.7\n",
       "18. 32.4\n",
       "19. 30.4\n",
       "20. 33.9\n",
       "21. 21.5\n",
       "22. 15.5\n",
       "23. 15.2\n",
       "24. 13.3\n",
       "25. 19.2\n",
       "26. 27.3\n",
       "27. 26\n",
       "28. 30.4\n",
       "29. 15.8\n",
       "30. 19.7\n",
       "31. 15\n",
       "32. 21.4\n",
       "\n",
       "\n"
      ],
      "text/plain": [
       " [1] 21.0 21.0 22.8 21.4 18.7 18.1 14.3 24.4 22.8 19.2 17.8 16.4 17.3 15.2 10.4\n",
       "[16] 10.4 14.7 32.4 30.4 33.9 21.5 15.5 15.2 13.3 19.2 27.3 26.0 30.4 15.8 19.7\n",
       "[31] 15.0 21.4"
      ]
     },
     "metadata": {},
     "output_type": "display_data"
    }
   ],
   "source": [
    "#mpg            # uncomment to see object 'mpg' not found error\n",
    "mtcars$mpg\n",
    "attach(mtcars)\n",
    "mpg\n",
    "detach(mtcars)\n",
    "#mpg            # uncomment to see object 'mpg' not found error"
   ]
  },
  {
   "cell_type": "markdown",
   "metadata": {
    "collapsed": true
   },
   "source": [
    "## Sampling"
   ]
  },
  {
   "cell_type": "code",
   "execution_count": 98,
   "metadata": {},
   "outputs": [
    {
     "data": {
      "text/html": [
       "<ol class=list-inline>\n",
       "\t<li>3</li>\n",
       "\t<li>9</li>\n",
       "\t<li>3</li>\n",
       "\t<li>10</li>\n",
       "\t<li>6</li>\n",
       "\t<li>5</li>\n",
       "\t<li>7</li>\n",
       "</ol>\n"
      ],
      "text/latex": [
       "\\begin{enumerate*}\n",
       "\\item 3\n",
       "\\item 9\n",
       "\\item 3\n",
       "\\item 10\n",
       "\\item 6\n",
       "\\item 5\n",
       "\\item 7\n",
       "\\end{enumerate*}\n"
      ],
      "text/markdown": [
       "1. 3\n",
       "2. 9\n",
       "3. 3\n",
       "4. 10\n",
       "5. 6\n",
       "6. 5\n",
       "7. 7\n",
       "\n",
       "\n"
      ],
      "text/plain": [
       "[1]  3  9  3 10  6  5  7"
      ]
     },
     "metadata": {},
     "output_type": "display_data"
    },
    {
     "data": {
      "text/html": [
       "<ol class=list-inline>\n",
       "\t<li>1</li>\n",
       "\t<li>7</li>\n",
       "\t<li>6</li>\n",
       "\t<li>8</li>\n",
       "\t<li>5</li>\n",
       "\t<li>9</li>\n",
       "\t<li>3</li>\n",
       "</ol>\n"
      ],
      "text/latex": [
       "\\begin{enumerate*}\n",
       "\\item 1\n",
       "\\item 7\n",
       "\\item 6\n",
       "\\item 8\n",
       "\\item 5\n",
       "\\item 9\n",
       "\\item 3\n",
       "\\end{enumerate*}\n"
      ],
      "text/markdown": [
       "1. 1\n",
       "2. 7\n",
       "3. 6\n",
       "4. 8\n",
       "5. 5\n",
       "6. 9\n",
       "7. 3\n",
       "\n",
       "\n"
      ],
      "text/plain": [
       "[1] 1 7 6 8 5 9 3"
      ]
     },
     "metadata": {},
     "output_type": "display_data"
    }
   ],
   "source": [
    "data <- c(1:10)\n",
    "sample(data, 7, replace = TRUE)  # allow duplicates\n",
    "sample(data, 7, replace = FALSE) # prevent duplicates"
   ]
  },
  {
   "cell_type": "markdown",
   "metadata": {},
   "source": [
    "## Using sample() for Generating Labels\n",
    "\n",
    "- LETTERS is a built-in constant containing uppercase letters\n",
    "- letters is a built-in constant containing lowercase letters\n",
    "- month.name is a built-in constant containing month names\n",
    "- pi is a built-in constant for 3.14159265358979"
   ]
  },
  {
   "cell_type": "code",
   "execution_count": 99,
   "metadata": {},
   "outputs": [
    {
     "data": {
      "text/html": [
       "<ol class=list-inline>\n",
       "\t<li>'Center C'</li>\n",
       "\t<li>'Center B'</li>\n",
       "\t<li>'Center C'</li>\n",
       "\t<li>'Center D'</li>\n",
       "\t<li>'Center A'</li>\n",
       "\t<li>'Center C'</li>\n",
       "\t<li>'Center C'</li>\n",
       "\t<li>'Center D'</li>\n",
       "\t<li>'Center A'</li>\n",
       "\t<li>'Center A'</li>\n",
       "</ol>\n"
      ],
      "text/latex": [
       "\\begin{enumerate*}\n",
       "\\item 'Center C'\n",
       "\\item 'Center B'\n",
       "\\item 'Center C'\n",
       "\\item 'Center D'\n",
       "\\item 'Center A'\n",
       "\\item 'Center C'\n",
       "\\item 'Center C'\n",
       "\\item 'Center D'\n",
       "\\item 'Center A'\n",
       "\\item 'Center A'\n",
       "\\end{enumerate*}\n"
      ],
      "text/markdown": [
       "1. 'Center C'\n",
       "2. 'Center B'\n",
       "3. 'Center C'\n",
       "4. 'Center D'\n",
       "5. 'Center A'\n",
       "6. 'Center C'\n",
       "7. 'Center C'\n",
       "8. 'Center D'\n",
       "9. 'Center A'\n",
       "10. 'Center A'\n",
       "\n",
       "\n"
      ],
      "text/plain": [
       " [1] \"Center C\" \"Center B\" \"Center C\" \"Center D\" \"Center A\" \"Center C\"\n",
       " [7] \"Center C\" \"Center D\" \"Center A\" \"Center A\""
      ]
     },
     "metadata": {},
     "output_type": "display_data"
    },
    {
     "data": {
      "text/html": [
       "<ol class=list-inline>\n",
       "\t<li>'Center a'</li>\n",
       "\t<li>'Center c'</li>\n",
       "\t<li>'Center c'</li>\n",
       "\t<li>'Center a'</li>\n",
       "\t<li>'Center c'</li>\n",
       "\t<li>'Center c'</li>\n",
       "\t<li>'Center b'</li>\n",
       "\t<li>'Center a'</li>\n",
       "\t<li>'Center b'</li>\n",
       "\t<li>'Center a'</li>\n",
       "</ol>\n"
      ],
      "text/latex": [
       "\\begin{enumerate*}\n",
       "\\item 'Center a'\n",
       "\\item 'Center c'\n",
       "\\item 'Center c'\n",
       "\\item 'Center a'\n",
       "\\item 'Center c'\n",
       "\\item 'Center c'\n",
       "\\item 'Center b'\n",
       "\\item 'Center a'\n",
       "\\item 'Center b'\n",
       "\\item 'Center a'\n",
       "\\end{enumerate*}\n"
      ],
      "text/markdown": [
       "1. 'Center a'\n",
       "2. 'Center c'\n",
       "3. 'Center c'\n",
       "4. 'Center a'\n",
       "5. 'Center c'\n",
       "6. 'Center c'\n",
       "7. 'Center b'\n",
       "8. 'Center a'\n",
       "9. 'Center b'\n",
       "10. 'Center a'\n",
       "\n",
       "\n"
      ],
      "text/plain": [
       " [1] \"Center a\" \"Center c\" \"Center c\" \"Center a\" \"Center c\" \"Center c\"\n",
       " [7] \"Center b\" \"Center a\" \"Center b\" \"Center a\""
      ]
     },
     "metadata": {},
     "output_type": "display_data"
    },
    {
     "data": {
      "text/html": [
       "<ol class=list-inline>\n",
       "\t<li>'A'</li>\n",
       "\t<li>'B'</li>\n",
       "\t<li>'C'</li>\n",
       "\t<li>'D'</li>\n",
       "\t<li>'E'</li>\n",
       "\t<li>'F'</li>\n",
       "\t<li>'G'</li>\n",
       "\t<li>'H'</li>\n",
       "\t<li>'I'</li>\n",
       "\t<li>'J'</li>\n",
       "\t<li>'K'</li>\n",
       "\t<li>'L'</li>\n",
       "\t<li>'M'</li>\n",
       "\t<li>'N'</li>\n",
       "\t<li>'O'</li>\n",
       "\t<li>'P'</li>\n",
       "\t<li>'Q'</li>\n",
       "\t<li>'R'</li>\n",
       "\t<li>'S'</li>\n",
       "\t<li>'T'</li>\n",
       "\t<li>'U'</li>\n",
       "\t<li>'V'</li>\n",
       "\t<li>'W'</li>\n",
       "\t<li>'X'</li>\n",
       "\t<li>'Y'</li>\n",
       "\t<li>'Z'</li>\n",
       "</ol>\n"
      ],
      "text/latex": [
       "\\begin{enumerate*}\n",
       "\\item 'A'\n",
       "\\item 'B'\n",
       "\\item 'C'\n",
       "\\item 'D'\n",
       "\\item 'E'\n",
       "\\item 'F'\n",
       "\\item 'G'\n",
       "\\item 'H'\n",
       "\\item 'I'\n",
       "\\item 'J'\n",
       "\\item 'K'\n",
       "\\item 'L'\n",
       "\\item 'M'\n",
       "\\item 'N'\n",
       "\\item 'O'\n",
       "\\item 'P'\n",
       "\\item 'Q'\n",
       "\\item 'R'\n",
       "\\item 'S'\n",
       "\\item 'T'\n",
       "\\item 'U'\n",
       "\\item 'V'\n",
       "\\item 'W'\n",
       "\\item 'X'\n",
       "\\item 'Y'\n",
       "\\item 'Z'\n",
       "\\end{enumerate*}\n"
      ],
      "text/markdown": [
       "1. 'A'\n",
       "2. 'B'\n",
       "3. 'C'\n",
       "4. 'D'\n",
       "5. 'E'\n",
       "6. 'F'\n",
       "7. 'G'\n",
       "8. 'H'\n",
       "9. 'I'\n",
       "10. 'J'\n",
       "11. 'K'\n",
       "12. 'L'\n",
       "13. 'M'\n",
       "14. 'N'\n",
       "15. 'O'\n",
       "16. 'P'\n",
       "17. 'Q'\n",
       "18. 'R'\n",
       "19. 'S'\n",
       "20. 'T'\n",
       "21. 'U'\n",
       "22. 'V'\n",
       "23. 'W'\n",
       "24. 'X'\n",
       "25. 'Y'\n",
       "26. 'Z'\n",
       "\n",
       "\n"
      ],
      "text/plain": [
       " [1] \"A\" \"B\" \"C\" \"D\" \"E\" \"F\" \"G\" \"H\" \"I\" \"J\" \"K\" \"L\" \"M\" \"N\" \"O\" \"P\" \"Q\" \"R\" \"S\"\n",
       "[20] \"T\" \"U\" \"V\" \"W\" \"X\" \"Y\" \"Z\""
      ]
     },
     "metadata": {},
     "output_type": "display_data"
    },
    {
     "data": {
      "text/html": [
       "<ol class=list-inline>\n",
       "\t<li>'a'</li>\n",
       "\t<li>'b'</li>\n",
       "\t<li>'c'</li>\n",
       "\t<li>'d'</li>\n",
       "\t<li>'e'</li>\n",
       "\t<li>'f'</li>\n",
       "\t<li>'g'</li>\n",
       "\t<li>'h'</li>\n",
       "\t<li>'i'</li>\n",
       "\t<li>'j'</li>\n",
       "\t<li>'k'</li>\n",
       "\t<li>'l'</li>\n",
       "\t<li>'m'</li>\n",
       "\t<li>'n'</li>\n",
       "\t<li>'o'</li>\n",
       "\t<li>'p'</li>\n",
       "\t<li>'q'</li>\n",
       "\t<li>'r'</li>\n",
       "\t<li>'s'</li>\n",
       "\t<li>'t'</li>\n",
       "\t<li>'u'</li>\n",
       "\t<li>'v'</li>\n",
       "\t<li>'w'</li>\n",
       "\t<li>'x'</li>\n",
       "\t<li>'y'</li>\n",
       "\t<li>'z'</li>\n",
       "</ol>\n"
      ],
      "text/latex": [
       "\\begin{enumerate*}\n",
       "\\item 'a'\n",
       "\\item 'b'\n",
       "\\item 'c'\n",
       "\\item 'd'\n",
       "\\item 'e'\n",
       "\\item 'f'\n",
       "\\item 'g'\n",
       "\\item 'h'\n",
       "\\item 'i'\n",
       "\\item 'j'\n",
       "\\item 'k'\n",
       "\\item 'l'\n",
       "\\item 'm'\n",
       "\\item 'n'\n",
       "\\item 'o'\n",
       "\\item 'p'\n",
       "\\item 'q'\n",
       "\\item 'r'\n",
       "\\item 's'\n",
       "\\item 't'\n",
       "\\item 'u'\n",
       "\\item 'v'\n",
       "\\item 'w'\n",
       "\\item 'x'\n",
       "\\item 'y'\n",
       "\\item 'z'\n",
       "\\end{enumerate*}\n"
      ],
      "text/markdown": [
       "1. 'a'\n",
       "2. 'b'\n",
       "3. 'c'\n",
       "4. 'd'\n",
       "5. 'e'\n",
       "6. 'f'\n",
       "7. 'g'\n",
       "8. 'h'\n",
       "9. 'i'\n",
       "10. 'j'\n",
       "11. 'k'\n",
       "12. 'l'\n",
       "13. 'm'\n",
       "14. 'n'\n",
       "15. 'o'\n",
       "16. 'p'\n",
       "17. 'q'\n",
       "18. 'r'\n",
       "19. 's'\n",
       "20. 't'\n",
       "21. 'u'\n",
       "22. 'v'\n",
       "23. 'w'\n",
       "24. 'x'\n",
       "25. 'y'\n",
       "26. 'z'\n",
       "\n",
       "\n"
      ],
      "text/plain": [
       " [1] \"a\" \"b\" \"c\" \"d\" \"e\" \"f\" \"g\" \"h\" \"i\" \"j\" \"k\" \"l\" \"m\" \"n\" \"o\" \"p\" \"q\" \"r\" \"s\"\n",
       "[20] \"t\" \"u\" \"v\" \"w\" \"x\" \"y\" \"z\""
      ]
     },
     "metadata": {},
     "output_type": "display_data"
    },
    {
     "data": {
      "text/html": [
       "<ol class=list-inline>\n",
       "\t<li>'January'</li>\n",
       "\t<li>'February'</li>\n",
       "\t<li>'March'</li>\n",
       "\t<li>'April'</li>\n",
       "\t<li>'May'</li>\n",
       "\t<li>'June'</li>\n",
       "\t<li>'July'</li>\n",
       "\t<li>'August'</li>\n",
       "\t<li>'September'</li>\n",
       "\t<li>'October'</li>\n",
       "\t<li>'November'</li>\n",
       "\t<li>'December'</li>\n",
       "</ol>\n"
      ],
      "text/latex": [
       "\\begin{enumerate*}\n",
       "\\item 'January'\n",
       "\\item 'February'\n",
       "\\item 'March'\n",
       "\\item 'April'\n",
       "\\item 'May'\n",
       "\\item 'June'\n",
       "\\item 'July'\n",
       "\\item 'August'\n",
       "\\item 'September'\n",
       "\\item 'October'\n",
       "\\item 'November'\n",
       "\\item 'December'\n",
       "\\end{enumerate*}\n"
      ],
      "text/markdown": [
       "1. 'January'\n",
       "2. 'February'\n",
       "3. 'March'\n",
       "4. 'April'\n",
       "5. 'May'\n",
       "6. 'June'\n",
       "7. 'July'\n",
       "8. 'August'\n",
       "9. 'September'\n",
       "10. 'October'\n",
       "11. 'November'\n",
       "12. 'December'\n",
       "\n",
       "\n"
      ],
      "text/plain": [
       " [1] \"January\"   \"February\"  \"March\"     \"April\"     \"May\"       \"June\"     \n",
       " [7] \"July\"      \"August\"    \"September\" \"October\"   \"November\"  \"December\" "
      ]
     },
     "metadata": {},
     "output_type": "display_data"
    },
    {
     "data": {
      "text/html": [
       "3.14159265358979"
      ],
      "text/latex": [
       "3.14159265358979"
      ],
      "text/markdown": [
       "3.14159265358979"
      ],
      "text/plain": [
       "[1] 3.141593"
      ]
     },
     "metadata": {},
     "output_type": "display_data"
    }
   ],
   "source": [
    "sample(paste(\"Center\", LETTERS[1:4]), 10, replace = TRUE)\n",
    "sample(paste(\"Center\", letters[1:4]), 10, replace = TRUE)\n",
    "\n",
    "LETTERS\n",
    "letters\n",
    "month.name\n",
    "pi"
   ]
  },
  {
   "cell_type": "markdown",
   "metadata": {},
   "source": [
    "## Set Operations\n",
    "\n",
    "- union()\n",
    "- intersect()\n",
    "- setdiff()\n",
    "- setequal()\n",
    "- is.element()"
   ]
  },
  {
   "cell_type": "code",
   "execution_count": 100,
   "metadata": {},
   "outputs": [
    {
     "data": {
      "text/html": [
       "TRUE"
      ],
      "text/latex": [
       "TRUE"
      ],
      "text/markdown": [
       "TRUE"
      ],
      "text/plain": [
       "[1] TRUE"
      ]
     },
     "metadata": {},
     "output_type": "display_data"
    },
    {
     "data": {
      "text/html": [
       "FALSE"
      ],
      "text/latex": [
       "FALSE"
      ],
      "text/markdown": [
       "FALSE"
      ],
      "text/plain": [
       "[1] FALSE"
      ]
     },
     "metadata": {},
     "output_type": "display_data"
    },
    {
     "data": {
      "text/html": [
       "<ol class=list-inline>\n",
       "\t<li>'r'</li>\n",
       "\t<li>'h'</li>\n",
       "\t<li>'g'</li>\n",
       "\t<li>'e'</li>\n",
       "\t<li>'f'</li>\n",
       "\t<li>'o'</li>\n",
       "\t<li>'i'</li>\n",
       "\t<li>'l'</li>\n",
       "\t<li>'q'</li>\n",
       "\t<li>'p'</li>\n",
       "</ol>\n"
      ],
      "text/latex": [
       "\\begin{enumerate*}\n",
       "\\item 'r'\n",
       "\\item 'h'\n",
       "\\item 'g'\n",
       "\\item 'e'\n",
       "\\item 'f'\n",
       "\\item 'o'\n",
       "\\item 'i'\n",
       "\\item 'l'\n",
       "\\item 'q'\n",
       "\\item 'p'\n",
       "\\end{enumerate*}\n"
      ],
      "text/markdown": [
       "1. 'r'\n",
       "2. 'h'\n",
       "3. 'g'\n",
       "4. 'e'\n",
       "5. 'f'\n",
       "6. 'o'\n",
       "7. 'i'\n",
       "8. 'l'\n",
       "9. 'q'\n",
       "10. 'p'\n",
       "\n",
       "\n"
      ],
      "text/plain": [
       " [1] \"r\" \"h\" \"g\" \"e\" \"f\" \"o\" \"i\" \"l\" \"q\" \"p\""
      ]
     },
     "metadata": {},
     "output_type": "display_data"
    },
    {
     "data": {
      "text/html": [
       "<ol class=list-inline>\n",
       "\t<li>'u'</li>\n",
       "\t<li>'k'</li>\n",
       "\t<li>'t'</li>\n",
       "\t<li>'l'</li>\n",
       "\t<li>'y'</li>\n",
       "\t<li>'h'</li>\n",
       "\t<li>'w'</li>\n",
       "\t<li>'p'</li>\n",
       "\t<li>'q'</li>\n",
       "\t<li>'x'</li>\n",
       "</ol>\n"
      ],
      "text/latex": [
       "\\begin{enumerate*}\n",
       "\\item 'u'\n",
       "\\item 'k'\n",
       "\\item 't'\n",
       "\\item 'l'\n",
       "\\item 'y'\n",
       "\\item 'h'\n",
       "\\item 'w'\n",
       "\\item 'p'\n",
       "\\item 'q'\n",
       "\\item 'x'\n",
       "\\end{enumerate*}\n"
      ],
      "text/markdown": [
       "1. 'u'\n",
       "2. 'k'\n",
       "3. 't'\n",
       "4. 'l'\n",
       "5. 'y'\n",
       "6. 'h'\n",
       "7. 'w'\n",
       "8. 'p'\n",
       "9. 'q'\n",
       "10. 'x'\n",
       "\n",
       "\n"
      ],
      "text/plain": [
       " [1] \"u\" \"k\" \"t\" \"l\" \"y\" \"h\" \"w\" \"p\" \"q\" \"x\""
      ]
     },
     "metadata": {},
     "output_type": "display_data"
    },
    {
     "data": {
      "text/html": [
       "<ol class=list-inline>\n",
       "\t<li>'r'</li>\n",
       "\t<li>'h'</li>\n",
       "\t<li>'g'</li>\n",
       "\t<li>'e'</li>\n",
       "\t<li>'f'</li>\n",
       "\t<li>'o'</li>\n",
       "\t<li>'i'</li>\n",
       "\t<li>'l'</li>\n",
       "\t<li>'q'</li>\n",
       "\t<li>'p'</li>\n",
       "\t<li>'u'</li>\n",
       "\t<li>'k'</li>\n",
       "\t<li>'t'</li>\n",
       "\t<li>'y'</li>\n",
       "\t<li>'w'</li>\n",
       "\t<li>'x'</li>\n",
       "</ol>\n"
      ],
      "text/latex": [
       "\\begin{enumerate*}\n",
       "\\item 'r'\n",
       "\\item 'h'\n",
       "\\item 'g'\n",
       "\\item 'e'\n",
       "\\item 'f'\n",
       "\\item 'o'\n",
       "\\item 'i'\n",
       "\\item 'l'\n",
       "\\item 'q'\n",
       "\\item 'p'\n",
       "\\item 'u'\n",
       "\\item 'k'\n",
       "\\item 't'\n",
       "\\item 'y'\n",
       "\\item 'w'\n",
       "\\item 'x'\n",
       "\\end{enumerate*}\n"
      ],
      "text/markdown": [
       "1. 'r'\n",
       "2. 'h'\n",
       "3. 'g'\n",
       "4. 'e'\n",
       "5. 'f'\n",
       "6. 'o'\n",
       "7. 'i'\n",
       "8. 'l'\n",
       "9. 'q'\n",
       "10. 'p'\n",
       "11. 'u'\n",
       "12. 'k'\n",
       "13. 't'\n",
       "14. 'y'\n",
       "15. 'w'\n",
       "16. 'x'\n",
       "\n",
       "\n"
      ],
      "text/plain": [
       " [1] \"r\" \"h\" \"g\" \"e\" \"f\" \"o\" \"i\" \"l\" \"q\" \"p\" \"u\" \"k\" \"t\" \"y\" \"w\" \"x\""
      ]
     },
     "metadata": {},
     "output_type": "display_data"
    },
    {
     "data": {
      "text/html": [
       "<ol class=list-inline>\n",
       "\t<li>'h'</li>\n",
       "\t<li>'l'</li>\n",
       "\t<li>'q'</li>\n",
       "\t<li>'p'</li>\n",
       "</ol>\n"
      ],
      "text/latex": [
       "\\begin{enumerate*}\n",
       "\\item 'h'\n",
       "\\item 'l'\n",
       "\\item 'q'\n",
       "\\item 'p'\n",
       "\\end{enumerate*}\n"
      ],
      "text/markdown": [
       "1. 'h'\n",
       "2. 'l'\n",
       "3. 'q'\n",
       "4. 'p'\n",
       "\n",
       "\n"
      ],
      "text/plain": [
       "[1] \"h\" \"l\" \"q\" \"p\""
      ]
     },
     "metadata": {},
     "output_type": "display_data"
    },
    {
     "data": {
      "text/html": [
       "<ol class=list-inline>\n",
       "\t<li>'r'</li>\n",
       "\t<li>'g'</li>\n",
       "\t<li>'e'</li>\n",
       "\t<li>'f'</li>\n",
       "\t<li>'o'</li>\n",
       "\t<li>'i'</li>\n",
       "</ol>\n"
      ],
      "text/latex": [
       "\\begin{enumerate*}\n",
       "\\item 'r'\n",
       "\\item 'g'\n",
       "\\item 'e'\n",
       "\\item 'f'\n",
       "\\item 'o'\n",
       "\\item 'i'\n",
       "\\end{enumerate*}\n"
      ],
      "text/markdown": [
       "1. 'r'\n",
       "2. 'g'\n",
       "3. 'e'\n",
       "4. 'f'\n",
       "5. 'o'\n",
       "6. 'i'\n",
       "\n",
       "\n"
      ],
      "text/plain": [
       "[1] \"r\" \"g\" \"e\" \"f\" \"o\" \"i\""
      ]
     },
     "metadata": {},
     "output_type": "display_data"
    },
    {
     "data": {
      "text/html": [
       "FALSE"
      ],
      "text/latex": [
       "FALSE"
      ],
      "text/markdown": [
       "FALSE"
      ],
      "text/plain": [
       "[1] FALSE"
      ]
     },
     "metadata": {},
     "output_type": "display_data"
    },
    {
     "data": {
      "text/html": [
       "FALSE"
      ],
      "text/latex": [
       "FALSE"
      ],
      "text/markdown": [
       "FALSE"
      ],
      "text/plain": [
       "[1] FALSE"
      ]
     },
     "metadata": {},
     "output_type": "display_data"
    },
    {
     "data": {
      "text/html": [
       "FALSE"
      ],
      "text/latex": [
       "FALSE"
      ],
      "text/markdown": [
       "FALSE"
      ],
      "text/plain": [
       "[1] FALSE"
      ]
     },
     "metadata": {},
     "output_type": "display_data"
    },
    {
     "data": {
      "text/html": [
       "FALSE"
      ],
      "text/latex": [
       "FALSE"
      ],
      "text/markdown": [
       "FALSE"
      ],
      "text/plain": [
       "[1] FALSE"
      ]
     },
     "metadata": {},
     "output_type": "display_data"
    },
    {
     "data": {
      "text/html": [
       "TRUE"
      ],
      "text/latex": [
       "TRUE"
      ],
      "text/markdown": [
       "TRUE"
      ],
      "text/plain": [
       "[1] TRUE"
      ]
     },
     "metadata": {},
     "output_type": "display_data"
    },
    {
     "data": {
      "text/html": [
       "TRUE"
      ],
      "text/latex": [
       "TRUE"
      ],
      "text/markdown": [
       "TRUE"
      ],
      "text/plain": [
       "[1] TRUE"
      ]
     },
     "metadata": {},
     "output_type": "display_data"
    },
    {
     "data": {
      "text/html": [
       "TRUE"
      ],
      "text/latex": [
       "TRUE"
      ],
      "text/markdown": [
       "TRUE"
      ],
      "text/plain": [
       "[1] TRUE"
      ]
     },
     "metadata": {},
     "output_type": "display_data"
    }
   ],
   "source": [
    "setequal(c(1, 2, 3), c(1, 2, 3))\n",
    "setequal(c(1, 2, 3), c(1, 2, 4))\n",
    "s1 <- sample(letters, 10)\n",
    "s1\n",
    "s2 <- sample(letters, 10)\n",
    "s2\n",
    "u <- union(s1, s2)\n",
    "u\n",
    "i <- intersect(s1, s2)\n",
    "i\n",
    "d <- setdiff(s1, s2)\n",
    "d\n",
    "is.element('a', u)\n",
    "is.element('b', u)\n",
    "is.element('c', u)\n",
    "is.element('d', u)\n",
    "is.element('e', u)\n",
    "is.element('f', u)\n",
    "is.element('g', u)"
   ]
  },
  {
   "cell_type": "markdown",
   "metadata": {},
   "source": [
    "## The dplyr Package"
   ]
  },
  {
   "cell_type": "code",
   "execution_count": 101,
   "metadata": {},
   "outputs": [
    {
     "name": "stderr",
     "output_type": "stream",
     "text": [
      "Installing package into 'C:/Users/peterthor/Documents/R/win-library/3.4'\n",
      "(as 'lib' is unspecified)\n"
     ]
    },
    {
     "name": "stdout",
     "output_type": "stream",
     "text": [
      "package 'dplyr' successfully unpacked and MD5 sums checked\n",
      "\n",
      "The downloaded binary packages are in\n",
      "\tC:\\Users\\peterthor\\AppData\\Local\\Temp\\Rtmpqi8XRk\\downloaded_packages\n"
     ]
    },
    {
     "name": "stderr",
     "output_type": "stream",
     "text": [
      "Warning message:\n",
      "\"package 'dplyr' was built under R version 3.4.3\"\n",
      "Attaching package: 'dplyr'\n",
      "\n",
      "The following objects are masked from 'package:stats':\n",
      "\n",
      "    filter, lag\n",
      "\n",
      "The following objects are masked from 'package:base':\n",
      "\n",
      "    intersect, setdiff, setequal, union\n",
      "\n",
      "Warning message:\n",
      "\"package 'bindrcpp' was built under R version 3.4.3\""
     ]
    },
    {
     "data": {
      "text/html": [
       "<table>\n",
       "<thead><tr><th scope=col>mpg</th><th scope=col>cyl</th><th scope=col>disp</th><th scope=col>hp</th><th scope=col>drat</th><th scope=col>wt</th><th scope=col>qsec</th><th scope=col>vs</th><th scope=col>am</th><th scope=col>gear</th><th scope=col>carb</th></tr></thead>\n",
       "<tbody>\n",
       "\t<tr><td>14.3 </td><td>8    </td><td>360  </td><td>245  </td><td>3.21 </td><td>3.570</td><td>15.84</td><td>0    </td><td>0    </td><td>3    </td><td>4    </td></tr>\n",
       "\t<tr><td>10.4 </td><td>8    </td><td>472  </td><td>205  </td><td>2.93 </td><td>5.250</td><td>17.98</td><td>0    </td><td>0    </td><td>3    </td><td>4    </td></tr>\n",
       "\t<tr><td>10.4 </td><td>8    </td><td>460  </td><td>215  </td><td>3.00 </td><td>5.424</td><td>17.82</td><td>0    </td><td>0    </td><td>3    </td><td>4    </td></tr>\n",
       "\t<tr><td>14.7 </td><td>8    </td><td>440  </td><td>230  </td><td>3.23 </td><td>5.345</td><td>17.42</td><td>0    </td><td>0    </td><td>3    </td><td>4    </td></tr>\n",
       "\t<tr><td>13.3 </td><td>8    </td><td>350  </td><td>245  </td><td>3.73 </td><td>3.840</td><td>15.41</td><td>0    </td><td>0    </td><td>3    </td><td>4    </td></tr>\n",
       "\t<tr><td>15.0 </td><td>8    </td><td>301  </td><td>335  </td><td>3.54 </td><td>3.570</td><td>14.60</td><td>0    </td><td>1    </td><td>5    </td><td>8    </td></tr>\n",
       "</tbody>\n",
       "</table>\n"
      ],
      "text/latex": [
       "\\begin{tabular}{r|lllllllllll}\n",
       " mpg & cyl & disp & hp & drat & wt & qsec & vs & am & gear & carb\\\\\n",
       "\\hline\n",
       "\t 14.3  & 8     & 360   & 245   & 3.21  & 3.570 & 15.84 & 0     & 0     & 3     & 4    \\\\\n",
       "\t 10.4  & 8     & 472   & 205   & 2.93  & 5.250 & 17.98 & 0     & 0     & 3     & 4    \\\\\n",
       "\t 10.4  & 8     & 460   & 215   & 3.00  & 5.424 & 17.82 & 0     & 0     & 3     & 4    \\\\\n",
       "\t 14.7  & 8     & 440   & 230   & 3.23  & 5.345 & 17.42 & 0     & 0     & 3     & 4    \\\\\n",
       "\t 13.3  & 8     & 350   & 245   & 3.73  & 3.840 & 15.41 & 0     & 0     & 3     & 4    \\\\\n",
       "\t 15.0  & 8     & 301   & 335   & 3.54  & 3.570 & 14.60 & 0     & 1     & 5     & 8    \\\\\n",
       "\\end{tabular}\n"
      ],
      "text/markdown": [
       "\n",
       "mpg | cyl | disp | hp | drat | wt | qsec | vs | am | gear | carb | \n",
       "|---|---|---|---|---|---|\n",
       "| 14.3  | 8     | 360   | 245   | 3.21  | 3.570 | 15.84 | 0     | 0     | 3     | 4     | \n",
       "| 10.4  | 8     | 472   | 205   | 2.93  | 5.250 | 17.98 | 0     | 0     | 3     | 4     | \n",
       "| 10.4  | 8     | 460   | 215   | 3.00  | 5.424 | 17.82 | 0     | 0     | 3     | 4     | \n",
       "| 14.7  | 8     | 440   | 230   | 3.23  | 5.345 | 17.42 | 0     | 0     | 3     | 4     | \n",
       "| 13.3  | 8     | 350   | 245   | 3.73  | 3.840 | 15.41 | 0     | 0     | 3     | 4     | \n",
       "| 15.0  | 8     | 301   | 335   | 3.54  | 3.570 | 14.60 | 0     | 1     | 5     | 8     | \n",
       "\n",
       "\n"
      ],
      "text/plain": [
       "  mpg  cyl disp hp  drat wt    qsec  vs am gear carb\n",
       "1 14.3 8   360  245 3.21 3.570 15.84 0  0  3    4   \n",
       "2 10.4 8   472  205 2.93 5.250 17.98 0  0  3    4   \n",
       "3 10.4 8   460  215 3.00 5.424 17.82 0  0  3    4   \n",
       "4 14.7 8   440  230 3.23 5.345 17.42 0  0  3    4   \n",
       "5 13.3 8   350  245 3.73 3.840 15.41 0  0  3    4   \n",
       "6 15.0 8   301  335 3.54 3.570 14.60 0  1  5    8   "
      ]
     },
     "metadata": {},
     "output_type": "display_data"
    }
   ],
   "source": [
    "install.packages(\"dplyr\", repos = \"http://cran.us.r-project.org\")\n",
    "library(dplyr)\n",
    "\n",
    "# The filter() function is like WHERE clause in SQL statements\n",
    "guzzlers <- dplyr::filter(mtcars, mpg <= 15)\n",
    "guzzlers"
   ]
  },
  {
   "cell_type": "markdown",
   "metadata": {},
   "source": [
    "## The search and searchpaths Functions"
   ]
  },
  {
   "cell_type": "code",
   "execution_count": 102,
   "metadata": {},
   "outputs": [
    {
     "data": {
      "text/html": [
       "<ol class=list-inline>\n",
       "\t<li>'.GlobalEnv'</li>\n",
       "\t<li>'package:bindrcpp'</li>\n",
       "\t<li>'package:dplyr'</li>\n",
       "\t<li>'jupyter:irkernel'</li>\n",
       "\t<li>'package:stats'</li>\n",
       "\t<li>'package:graphics'</li>\n",
       "\t<li>'package:grDevices'</li>\n",
       "\t<li>'package:utils'</li>\n",
       "\t<li>'package:datasets'</li>\n",
       "\t<li>'package:methods'</li>\n",
       "\t<li>'Autoloads'</li>\n",
       "\t<li>'package:base'</li>\n",
       "</ol>\n"
      ],
      "text/latex": [
       "\\begin{enumerate*}\n",
       "\\item '.GlobalEnv'\n",
       "\\item 'package:bindrcpp'\n",
       "\\item 'package:dplyr'\n",
       "\\item 'jupyter:irkernel'\n",
       "\\item 'package:stats'\n",
       "\\item 'package:graphics'\n",
       "\\item 'package:grDevices'\n",
       "\\item 'package:utils'\n",
       "\\item 'package:datasets'\n",
       "\\item 'package:methods'\n",
       "\\item 'Autoloads'\n",
       "\\item 'package:base'\n",
       "\\end{enumerate*}\n"
      ],
      "text/markdown": [
       "1. '.GlobalEnv'\n",
       "2. 'package:bindrcpp'\n",
       "3. 'package:dplyr'\n",
       "4. 'jupyter:irkernel'\n",
       "5. 'package:stats'\n",
       "6. 'package:graphics'\n",
       "7. 'package:grDevices'\n",
       "8. 'package:utils'\n",
       "9. 'package:datasets'\n",
       "10. 'package:methods'\n",
       "11. 'Autoloads'\n",
       "12. 'package:base'\n",
       "\n",
       "\n"
      ],
      "text/plain": [
       " [1] \".GlobalEnv\"        \"package:bindrcpp\"  \"package:dplyr\"    \n",
       " [4] \"jupyter:irkernel\"  \"package:stats\"     \"package:graphics\" \n",
       " [7] \"package:grDevices\" \"package:utils\"     \"package:datasets\" \n",
       "[10] \"package:methods\"   \"Autoloads\"         \"package:base\"     "
      ]
     },
     "metadata": {},
     "output_type": "display_data"
    }
   ],
   "source": [
    "search()"
   ]
  },
  {
   "cell_type": "code",
   "execution_count": 103,
   "metadata": {},
   "outputs": [
    {
     "data": {
      "text/html": [
       "<ol class=list-inline>\n",
       "\t<li>'.GlobalEnv'</li>\n",
       "\t<li>'C:/Users/peterthor/Documents/R/win-library/3.4/bindrcpp'</li>\n",
       "\t<li>'C:/Users/peterthor/Documents/R/win-library/3.4/dplyr'</li>\n",
       "\t<li>'jupyter:irkernel'</li>\n",
       "\t<li>'C:/Users/peterthor/Anaconda3/R/library/stats'</li>\n",
       "\t<li>'C:/Users/peterthor/Anaconda3/R/library/graphics'</li>\n",
       "\t<li>'C:/Users/peterthor/Anaconda3/R/library/grDevices'</li>\n",
       "\t<li>'C:/Users/peterthor/Anaconda3/R/library/utils'</li>\n",
       "\t<li>'C:/Users/peterthor/Anaconda3/R/library/datasets'</li>\n",
       "\t<li>'C:/Users/peterthor/Anaconda3/R/library/methods'</li>\n",
       "\t<li>'Autoloads'</li>\n",
       "\t<li>'C:/Users/peterthor/Anaconda3/R/library/base'</li>\n",
       "</ol>\n"
      ],
      "text/latex": [
       "\\begin{enumerate*}\n",
       "\\item '.GlobalEnv'\n",
       "\\item 'C:/Users/peterthor/Documents/R/win-library/3.4/bindrcpp'\n",
       "\\item 'C:/Users/peterthor/Documents/R/win-library/3.4/dplyr'\n",
       "\\item 'jupyter:irkernel'\n",
       "\\item 'C:/Users/peterthor/Anaconda3/R/library/stats'\n",
       "\\item 'C:/Users/peterthor/Anaconda3/R/library/graphics'\n",
       "\\item 'C:/Users/peterthor/Anaconda3/R/library/grDevices'\n",
       "\\item 'C:/Users/peterthor/Anaconda3/R/library/utils'\n",
       "\\item 'C:/Users/peterthor/Anaconda3/R/library/datasets'\n",
       "\\item 'C:/Users/peterthor/Anaconda3/R/library/methods'\n",
       "\\item 'Autoloads'\n",
       "\\item 'C:/Users/peterthor/Anaconda3/R/library/base'\n",
       "\\end{enumerate*}\n"
      ],
      "text/markdown": [
       "1. '.GlobalEnv'\n",
       "2. 'C:/Users/peterthor/Documents/R/win-library/3.4/bindrcpp'\n",
       "3. 'C:/Users/peterthor/Documents/R/win-library/3.4/dplyr'\n",
       "4. 'jupyter:irkernel'\n",
       "5. 'C:/Users/peterthor/Anaconda3/R/library/stats'\n",
       "6. 'C:/Users/peterthor/Anaconda3/R/library/graphics'\n",
       "7. 'C:/Users/peterthor/Anaconda3/R/library/grDevices'\n",
       "8. 'C:/Users/peterthor/Anaconda3/R/library/utils'\n",
       "9. 'C:/Users/peterthor/Anaconda3/R/library/datasets'\n",
       "10. 'C:/Users/peterthor/Anaconda3/R/library/methods'\n",
       "11. 'Autoloads'\n",
       "12. 'C:/Users/peterthor/Anaconda3/R/library/base'\n",
       "\n",
       "\n"
      ],
      "text/plain": [
       " [1] \".GlobalEnv\"                                             \n",
       " [2] \"C:/Users/peterthor/Documents/R/win-library/3.4/bindrcpp\"\n",
       " [3] \"C:/Users/peterthor/Documents/R/win-library/3.4/dplyr\"   \n",
       " [4] \"jupyter:irkernel\"                                       \n",
       " [5] \"C:/Users/peterthor/Anaconda3/R/library/stats\"           \n",
       " [6] \"C:/Users/peterthor/Anaconda3/R/library/graphics\"        \n",
       " [7] \"C:/Users/peterthor/Anaconda3/R/library/grDevices\"       \n",
       " [8] \"C:/Users/peterthor/Anaconda3/R/library/utils\"           \n",
       " [9] \"C:/Users/peterthor/Anaconda3/R/library/datasets\"        \n",
       "[10] \"C:/Users/peterthor/Anaconda3/R/library/methods\"         \n",
       "[11] \"Autoloads\"                                              \n",
       "[12] \"C:/Users/peterthor/Anaconda3/R/library/base\"            "
      ]
     },
     "metadata": {},
     "output_type": "display_data"
    }
   ],
   "source": [
    "searchpaths()"
   ]
  },
  {
   "cell_type": "markdown",
   "metadata": {},
   "source": [
    "## Handling Large Data Sets in R with the data.table Package"
   ]
  },
  {
   "cell_type": "code",
   "execution_count": 104,
   "metadata": {},
   "outputs": [
    {
     "name": "stderr",
     "output_type": "stream",
     "text": [
      "Installing package into 'C:/Users/peterthor/Documents/R/win-library/3.4'\n",
      "(as 'lib' is unspecified)\n"
     ]
    },
    {
     "name": "stdout",
     "output_type": "stream",
     "text": [
      "package 'data.table' successfully unpacked and MD5 sums checked\n",
      "\n",
      "The downloaded binary packages are in\n",
      "\tC:\\Users\\peterthor\\AppData\\Local\\Temp\\Rtmpqi8XRk\\downloaded_packages\n"
     ]
    },
    {
     "name": "stderr",
     "output_type": "stream",
     "text": [
      "Warning message:\n",
      "\"package 'data.table' was built under R version 3.4.4\"\n",
      "Attaching package: 'data.table'\n",
      "\n",
      "The following objects are masked from 'package:dplyr':\n",
      "\n",
      "    between, first, last\n",
      "\n"
     ]
    }
   ],
   "source": [
    "install.packages(\"data.table\", repos = \"http://cran.us.r-project.org\")\n",
    "library(data.table)\n",
    "\n",
    "# ???"
   ]
  },
  {
   "cell_type": "markdown",
   "metadata": {},
   "source": [
    "## Data Visualization in R\n",
    "\n",
    "- barplot()\n",
    "- hist()\n",
    "- pie()"
   ]
  },
  {
   "cell_type": "code",
   "execution_count": 105,
   "metadata": {},
   "outputs": [
    {
     "data": {
      "image/png": "[encoded data removed]",
      "text/plain": [
       "plot without title"
      ]
     },
     "metadata": {},
     "output_type": "display_data"
    },
    {
     "data": {
      "image/png": "[encoded data removed]",
      "text/plain": [
       "plot without title"
      ]
     },
     "metadata": {},
     "output_type": "display_data"
    }
   ],
   "source": [
    "barplot(1:3)\n",
    "barplot(1:3, horiz=TRUE)"
   ]
  },
  {
   "cell_type": "markdown",
   "metadata": {},
   "source": [
    "## Using barplot() with Matrices Example"
   ]
  },
  {
   "cell_type": "code",
   "execution_count": 106,
   "metadata": {},
   "outputs": [
    {
     "name": "stdout",
     "output_type": "stream",
     "text": [
      "     [,1] [,2] [,3]\n",
      "[1,]    1    5    9\n",
      "[2,]    2    6   10\n",
      "[3,]    3    7   11\n",
      "[4,]    4    8   12\n"
     ]
    },
    {
     "data": {
      "image/png": "[encoded data removed]",
      "text/plain": [
       "plot without title"
      ]
     },
     "metadata": {},
     "output_type": "display_data"
    },
    {
     "data": {
      "image/png": "[encoded data removed]",
      "text/plain": [
       "plot without title"
      ]
     },
     "metadata": {},
     "output_type": "display_data"
    }
   ],
   "source": [
    "m <- matrix(1:12, 4, 3)\n",
    "print(m)\n",
    "barplot(m)              # stacked\n",
    "barplot(m, beside=TRUE) # juxtaposed"
   ]
  },
  {
   "cell_type": "markdown",
   "metadata": {},
   "source": [
    "## Customizing Plots"
   ]
  },
  {
   "cell_type": "code",
   "execution_count": 107,
   "metadata": {},
   "outputs": [
    {
     "data": {
      "image/png": "[encoded data removed]",
      "text/plain": [
       "plot without title"
      ]
     },
     "metadata": {},
     "output_type": "display_data"
    }
   ],
   "source": [
    "m <- matrix(1:12, 4, 3)\n",
    "barplot(m, col=c(\"blue\", \"green\", \"red\", \"yellow\"))"
   ]
  },
  {
   "cell_type": "code",
   "execution_count": 108,
   "metadata": {},
   "outputs": [
    {
     "data": {
      "image/png": "[encoded data removed]",
      "text/plain": [
       "Plot with title \"Cool Looking Data\""
      ]
     },
     "metadata": {},
     "output_type": "display_data"
    }
   ],
   "source": [
    "m <- matrix(1:12, 4, 3)\n",
    "barplot(m, main=\"Cool Looking Data\")"
   ]
  },
  {
   "cell_type": "code",
   "execution_count": 109,
   "metadata": {},
   "outputs": [
    {
     "data": {
      "image/png": "[encoded data removed]",
      "text/plain": [
       "plot without title"
      ]
     },
     "metadata": {},
     "output_type": "display_data"
    }
   ],
   "source": [
    "m <- matrix(1:12, 4, 3)\n",
    "barplot(m, xlab=\"Size of Widget\", ylab=\"Weight of Widget\")"
   ]
  },
  {
   "cell_type": "code",
   "execution_count": 110,
   "metadata": {},
   "outputs": [
    {
     "data": {
      "image/png": "[encoded data removed]",
      "text/plain": [
       "plot without title"
      ]
     },
     "metadata": {},
     "output_type": "display_data"
    }
   ],
   "source": [
    "m <- matrix(1:12, 4, 3)\n",
    "barplot(m, names.arg=c(\"First\", \"Second\", \"Third\"))"
   ]
  },
  {
   "cell_type": "markdown",
   "metadata": {},
   "source": [
    "## Histograms in R"
   ]
  },
  {
   "cell_type": "code",
   "execution_count": 111,
   "metadata": {},
   "outputs": [
    {
     "data": {
      "image/png": "[encoded data removed]",
      "text/plain": [
       "Plot with title \"Histogram of mtcars$wt\""
      ]
     },
     "metadata": {},
     "output_type": "display_data"
    }
   ],
   "source": [
    "hist(mtcars$wt, breaks=5, col=\"gray\", freq=FALSE)"
   ]
  },
  {
   "cell_type": "markdown",
   "metadata": {},
   "source": [
    "## Pie Charts in R"
   ]
  },
  {
   "cell_type": "code",
   "execution_count": 112,
   "metadata": {},
   "outputs": [
    {
     "data": {
      "image/png": "[encoded data removed]",
      "text/plain": [
       "plot without title"
      ]
     },
     "metadata": {},
     "output_type": "display_data"
    }
   ],
   "source": [
    "pie(c(10, 23, 40, 80), c(\"Germany\", \"France\", \"India\", \"Iceland\"))"
   ]
  },
  {
   "cell_type": "markdown",
   "metadata": {},
   "source": [
    "## Generic X-Y Plotting"
   ]
  },
  {
   "cell_type": "code",
   "execution_count": 113,
   "metadata": {},
   "outputs": [
    {
     "data": {
      "image/png": "[encoded data removed]",
      "text/plain": [
       "plot without title"
      ]
     },
     "metadata": {},
     "output_type": "display_data"
    }
   ],
   "source": [
    "plot(c(1, 2, 3, 4, 5), c(10, 20, 30, 15, 30), type='l')"
   ]
  },
  {
   "cell_type": "markdown",
   "metadata": {},
   "source": [
    "## Dot Plots in R"
   ]
  },
  {
   "cell_type": "code",
   "execution_count": 114,
   "metadata": {},
   "outputs": [
    {
     "data": {
      "image/png": "[encoded data removed]",
      "text/plain": [
       "plot without title"
      ]
     },
     "metadata": {},
     "output_type": "display_data"
    }
   ],
   "source": [
    "dotchart(1:3, c(\"Step 1\", \"Step 2\", \"Step 3\"))"
   ]
  },
  {
   "cell_type": "markdown",
   "metadata": {},
   "source": [
    "## Data Visualization Packages\n",
    "\n",
    "- graphics\n",
    "- lattice\n",
    "- ggplot2"
   ]
  }
 ],
 "metadata": {
  "kernelspec": {
   "display_name": "R",
   "language": "R",
   "name": "ir"
  },
  "language_info": {
   "codemirror_mode": "r",
   "file_extension": ".r",
   "mimetype": "text/x-r-source",
   "name": "R",
   "pygments_lexer": "r",
   "version": "3.4.2"
  }
 },
 "nbformat": 4,
 "nbformat_minor": 2
}
