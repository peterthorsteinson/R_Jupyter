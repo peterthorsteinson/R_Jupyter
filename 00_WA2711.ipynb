{
 "cells": [
  {
   "cell_type": "markdown",
   "metadata": {},
   "source": [
    "# 00 WA2711 R Programming from the Ground Up Training\n",
    "\n",
    "See: https://ramnathv.github.io/pycon2014-r/learn/controls.html"
   ]
  },
  {
   "cell_type": "markdown",
   "metadata": {},
   "source": [
    "## Getting Help"
   ]
  },
  {
   "cell_type": "code",
   "execution_count": 1,
   "metadata": {},
   "outputs": [],
   "source": [
    "help()"
   ]
  },
  {
   "cell_type": "code",
   "execution_count": 2,
   "metadata": {},
   "outputs": [],
   "source": [
    "?sink"
   ]
  },
  {
   "cell_type": "code",
   "execution_count": 3,
   "metadata": {},
   "outputs": [],
   "source": [
    "help(sin)"
   ]
  },
  {
   "cell_type": "code",
   "execution_count": 4,
   "metadata": {},
   "outputs": [],
   "source": [
    "help('library')"
   ]
  },
  {
   "cell_type": "code",
   "execution_count": 5,
   "metadata": {},
   "outputs": [],
   "source": [
    "help(\"data.frame\")"
   ]
  },
  {
   "cell_type": "markdown",
   "metadata": {
    "collapsed": true
   },
   "source": [
    "## General Notes on R Commands and Statements\n",
    "- comment: ```#```\n",
    "- case sensitive\n",
    "- dynamically typed\n",
    "- statement seperator: semi-colon or newline"
   ]
  },
  {
   "cell_type": "markdown",
   "metadata": {},
   "source": [
    "## Assignment Operators\n",
    "- ```<-```\n",
    "- ```->```\n",
    "- ```=```\n",
    "- ```assign()```"
   ]
  },
  {
   "cell_type": "code",
   "execution_count": 6,
   "metadata": {},
   "outputs": [
    {
     "data": {
      "text/html": [
       "1"
      ],
      "text/latex": [
       "1"
      ],
      "text/markdown": [
       "1"
      ],
      "text/plain": [
       "[1] 1"
      ]
     },
     "metadata": {},
     "output_type": "display_data"
    },
    {
     "data": {
      "text/html": [
       "2"
      ],
      "text/latex": [
       "2"
      ],
      "text/markdown": [
       "2"
      ],
      "text/plain": [
       "[1] 2"
      ]
     },
     "metadata": {},
     "output_type": "display_data"
    },
    {
     "data": {
      "text/html": [
       "3"
      ],
      "text/latex": [
       "3"
      ],
      "text/markdown": [
       "3"
      ],
      "text/plain": [
       "[1] 3"
      ]
     },
     "metadata": {},
     "output_type": "display_data"
    },
    {
     "data": {
      "text/html": [
       "4"
      ],
      "text/latex": [
       "4"
      ],
      "text/markdown": [
       "4"
      ],
      "text/plain": [
       "[1] 4"
      ]
     },
     "metadata": {},
     "output_type": "display_data"
    }
   ],
   "source": [
    "a = 1\n",
    "b <- 2\n",
    "3 -> c\n",
    "assign('d', 4) # assignment as a function call\n",
    "a\n",
    "b\n",
    "c\n",
    "d"
   ]
  },
  {
   "cell_type": "code",
   "execution_count": 7,
   "metadata": {},
   "outputs": [
    {
     "data": {
      "text/html": [
       "'a'"
      ],
      "text/latex": [
       "'a'"
      ],
      "text/markdown": [
       "'a'"
      ],
      "text/plain": [
       "[1] \"a\""
      ]
     },
     "metadata": {},
     "output_type": "display_data"
    },
    {
     "data": {
      "text/html": [
       "'b'"
      ],
      "text/latex": [
       "'b'"
      ],
      "text/markdown": [
       "'b'"
      ],
      "text/plain": [
       "[1] \"b\""
      ]
     },
     "metadata": {},
     "output_type": "display_data"
    }
   ],
   "source": [
    "# literal string: single or double quotes\n",
    "a <- 'a'\n",
    "b <- \"b\"\n",
    "a\n",
    "b"
   ]
  },
  {
   "cell_type": "markdown",
   "metadata": {},
   "source": [
    "## R Scalar Data Types\n",
    "- numeric (double)\n",
    "- integer\n",
    "- complex\n",
    "- logical\n",
    "- character\n",
    "- function (closure)\n",
    "- factor\n",
    "\n",
    "## Type functions\n",
    "- *class()* - kind of object (high-level)\n",
    "- *typeof()* - object data type (low-level)"
   ]
  },
  {
   "cell_type": "code",
   "execution_count": 8,
   "metadata": {},
   "outputs": [
    {
     "data": {
      "text/html": [
       "'numeric'"
      ],
      "text/latex": [
       "'numeric'"
      ],
      "text/markdown": [
       "'numeric'"
      ],
      "text/plain": [
       "[1] \"numeric\""
      ]
     },
     "metadata": {},
     "output_type": "display_data"
    },
    {
     "data": {
      "text/html": [
       "'numeric'"
      ],
      "text/latex": [
       "'numeric'"
      ],
      "text/markdown": [
       "'numeric'"
      ],
      "text/plain": [
       "[1] \"numeric\""
      ]
     },
     "metadata": {},
     "output_type": "display_data"
    },
    {
     "data": {
      "text/html": [
       "'double'"
      ],
      "text/latex": [
       "'double'"
      ],
      "text/markdown": [
       "'double'"
      ],
      "text/plain": [
       "[1] \"double\""
      ]
     },
     "metadata": {},
     "output_type": "display_data"
    },
    {
     "data": {
      "text/html": [
       "'integer'"
      ],
      "text/latex": [
       "'integer'"
      ],
      "text/markdown": [
       "'integer'"
      ],
      "text/plain": [
       "[1] \"integer\""
      ]
     },
     "metadata": {},
     "output_type": "display_data"
    },
    {
     "data": {
      "text/html": [
       "'integer'"
      ],
      "text/latex": [
       "'integer'"
      ],
      "text/markdown": [
       "'integer'"
      ],
      "text/plain": [
       "[1] \"integer\""
      ]
     },
     "metadata": {},
     "output_type": "display_data"
    },
    {
     "data": {
      "text/html": [
       "'complex'"
      ],
      "text/latex": [
       "'complex'"
      ],
      "text/markdown": [
       "'complex'"
      ],
      "text/plain": [
       "[1] \"complex\""
      ]
     },
     "metadata": {},
     "output_type": "display_data"
    },
    {
     "data": {
      "text/html": [
       "'complex'"
      ],
      "text/latex": [
       "'complex'"
      ],
      "text/markdown": [
       "'complex'"
      ],
      "text/plain": [
       "[1] \"complex\""
      ]
     },
     "metadata": {},
     "output_type": "display_data"
    },
    {
     "data": {
      "text/html": [
       "'logical'"
      ],
      "text/latex": [
       "'logical'"
      ],
      "text/markdown": [
       "'logical'"
      ],
      "text/plain": [
       "[1] \"logical\""
      ]
     },
     "metadata": {},
     "output_type": "display_data"
    },
    {
     "data": {
      "text/html": [
       "'logical'"
      ],
      "text/latex": [
       "'logical'"
      ],
      "text/markdown": [
       "'logical'"
      ],
      "text/plain": [
       "[1] \"logical\""
      ]
     },
     "metadata": {},
     "output_type": "display_data"
    },
    {
     "data": {
      "text/html": [
       "'logical'"
      ],
      "text/latex": [
       "'logical'"
      ],
      "text/markdown": [
       "'logical'"
      ],
      "text/plain": [
       "[1] \"logical\""
      ]
     },
     "metadata": {},
     "output_type": "display_data"
    },
    {
     "data": {
      "text/html": [
       "'logical'"
      ],
      "text/latex": [
       "'logical'"
      ],
      "text/markdown": [
       "'logical'"
      ],
      "text/plain": [
       "[1] \"logical\""
      ]
     },
     "metadata": {},
     "output_type": "display_data"
    },
    {
     "data": {
      "text/html": [
       "'character'"
      ],
      "text/latex": [
       "'character'"
      ],
      "text/markdown": [
       "'character'"
      ],
      "text/plain": [
       "[1] \"character\""
      ]
     },
     "metadata": {},
     "output_type": "display_data"
    },
    {
     "data": {
      "text/html": [
       "'character'"
      ],
      "text/latex": [
       "'character'"
      ],
      "text/markdown": [
       "'character'"
      ],
      "text/plain": [
       "[1] \"character\""
      ]
     },
     "metadata": {},
     "output_type": "display_data"
    },
    {
     "data": {
      "text/html": [
       "'character'"
      ],
      "text/latex": [
       "'character'"
      ],
      "text/markdown": [
       "'character'"
      ],
      "text/plain": [
       "[1] \"character\""
      ]
     },
     "metadata": {},
     "output_type": "display_data"
    },
    {
     "data": {
      "text/html": [
       "'character'"
      ],
      "text/latex": [
       "'character'"
      ],
      "text/markdown": [
       "'character'"
      ],
      "text/plain": [
       "[1] \"character\""
      ]
     },
     "metadata": {},
     "output_type": "display_data"
    },
    {
     "data": {
      "text/html": [
       "'function'"
      ],
      "text/latex": [
       "'function'"
      ],
      "text/markdown": [
       "'function'"
      ],
      "text/plain": [
       "[1] \"function\""
      ]
     },
     "metadata": {},
     "output_type": "display_data"
    },
    {
     "data": {
      "text/html": [
       "'closure'"
      ],
      "text/latex": [
       "'closure'"
      ],
      "text/markdown": [
       "'closure'"
      ],
      "text/plain": [
       "[1] \"closure\""
      ]
     },
     "metadata": {},
     "output_type": "display_data"
    },
    {
     "data": {
      "text/html": [
       "<ol class=list-inline>\n",
       "\t<li>1</li>\n",
       "\t<li>2</li>\n",
       "\t<li>2</li>\n",
       "\t<li>3</li>\n",
       "\t<li>1</li>\n",
       "\t<li>2</li>\n",
       "\t<li>3</li>\n",
       "\t<li>3</li>\n",
       "\t<li>1</li>\n",
       "\t<li>2</li>\n",
       "\t<li>3</li>\n",
       "\t<li>3</li>\n",
       "\t<li>1</li>\n",
       "</ol>\n"
      ],
      "text/latex": [
       "\\begin{enumerate*}\n",
       "\\item 1\n",
       "\\item 2\n",
       "\\item 2\n",
       "\\item 3\n",
       "\\item 1\n",
       "\\item 2\n",
       "\\item 3\n",
       "\\item 3\n",
       "\\item 1\n",
       "\\item 2\n",
       "\\item 3\n",
       "\\item 3\n",
       "\\item 1\n",
       "\\end{enumerate*}\n"
      ],
      "text/markdown": [
       "1. 1\n",
       "2. 2\n",
       "3. 2\n",
       "4. 3\n",
       "5. 1\n",
       "6. 2\n",
       "7. 3\n",
       "8. 3\n",
       "9. 1\n",
       "10. 2\n",
       "11. 3\n",
       "12. 3\n",
       "13. 1\n",
       "\n",
       "\n"
      ],
      "text/plain": [
       " [1] 1 2 2 3 1 2 3 3 1 2 3 3 1"
      ]
     },
     "metadata": {},
     "output_type": "display_data"
    },
    {
     "data": {
      "text/html": [
       "<ol class=list-inline>\n",
       "\t<li>'1'</li>\n",
       "\t<li>'2'</li>\n",
       "\t<li>'3'</li>\n",
       "</ol>\n"
      ],
      "text/latex": [
       "\\begin{enumerate*}\n",
       "\\item '1'\n",
       "\\item '2'\n",
       "\\item '3'\n",
       "\\end{enumerate*}\n"
      ],
      "text/markdown": [
       "1. '1'\n",
       "2. '2'\n",
       "3. '3'\n",
       "\n",
       "\n"
      ],
      "text/plain": [
       "[1] \"1\" \"2\" \"3\""
      ]
     },
     "metadata": {},
     "output_type": "display_data"
    }
   ],
   "source": [
    "x <- 3.141592\n",
    "class(x)    # numeric\n",
    "x <- 42\n",
    "class(x)    # numeric\n",
    "typeof(x)   # double\n",
    "x <- 42L\n",
    "class(x)    # integer\n",
    "typeof(x)   # integer\n",
    "x <- 3+4i\n",
    "class(x)    # complex\n",
    "typeof(x)   # complex\n",
    "x <- TRUE\n",
    "class(x)    # logical\n",
    "typeof(x)   # logical\n",
    "x <- F\n",
    "class(x)    # logical\n",
    "typeof(x)   # logical\n",
    "x <- 'Hello'\n",
    "class(x)    # character\n",
    "typeof(x)   # character\n",
    "x <- \"Bye\"\n",
    "class(x)    # character\n",
    "typeof(x)   # character\n",
    "fun <- function (){}\n",
    "class(fun)  # function\n",
    "typeof(fun) # closure\n",
    "\n",
    "v = c(1,2,2,3,1,2,3,3,1,2,3,3,1)\n",
    "v         # 1 2 2 3 1 2 3 3 1 2 3 3 1\n",
    "f = factor(v)\n",
    "levels(f) # '1' '2' '3'"
   ]
  },
  {
   "cell_type": "markdown",
   "metadata": {},
   "source": [
    "## Special Values"
   ]
  },
  {
   "cell_type": "code",
   "execution_count": 9,
   "metadata": {},
   "outputs": [
    {
     "data": {
      "text/html": [
       "&lt;NA&gt;"
      ],
      "text/latex": [
       "<NA>"
      ],
      "text/markdown": [
       "&lt;NA&gt;"
      ],
      "text/plain": [
       "[1] NA"
      ]
     },
     "metadata": {},
     "output_type": "display_data"
    },
    {
     "data": {
      "text/html": [
       "Inf"
      ],
      "text/latex": [
       "Inf"
      ],
      "text/markdown": [
       "Inf"
      ],
      "text/plain": [
       "[1] Inf"
      ]
     },
     "metadata": {},
     "output_type": "display_data"
    },
    {
     "data": {
      "text/html": [
       "NaN"
      ],
      "text/latex": [
       "NaN"
      ],
      "text/markdown": [
       "NaN"
      ],
      "text/plain": [
       "[1] NaN"
      ]
     },
     "metadata": {},
     "output_type": "display_data"
    }
   ],
   "source": [
    "NA  # <NA>\n",
    "\n",
    "1/0 # Inf\n",
    "\n",
    "0/0 # NaN"
   ]
  },
  {
   "cell_type": "markdown",
   "metadata": {},
   "source": [
    "## R Collection Data Types\n",
    "\n",
    "- *vector*: ordered 1-dimentional collection of elements of homogenous type (restricted to a single mode)\n",
    "- *matrix*: ordered 2-dimentional collection of elements of homogenous type (restricted to a single mode)\n",
    "- *array*:  ordered higher-dimentional collection of elements of homogenous type (restricted to a single mode)\n",
    "- *list*:   ordered 1-dimentional collection of elements of heterogenous type (not restricted to a single mode)\n",
    "- *data frame*: similar to table in relational database (de facto data structure for tabular data and statistics)\n",
    "\n",
    "*NOTE*: ordered collections are indexed starting at 1, not 0"
   ]
  },
  {
   "cell_type": "code",
   "execution_count": 10,
   "metadata": {},
   "outputs": [
    {
     "data": {
      "text/html": [
       "<ol class=list-inline>\n",
       "\t<li>1</li>\n",
       "\t<li>2</li>\n",
       "\t<li>3</li>\n",
       "</ol>\n"
      ],
      "text/latex": [
       "\\begin{enumerate*}\n",
       "\\item 1\n",
       "\\item 2\n",
       "\\item 3\n",
       "\\end{enumerate*}\n"
      ],
      "text/markdown": [
       "1. 1\n",
       "2. 2\n",
       "3. 3\n",
       "\n",
       "\n"
      ],
      "text/plain": [
       "[1] 1 2 3"
      ]
     },
     "metadata": {},
     "output_type": "display_data"
    },
    {
     "data": {
      "text/html": [
       "3"
      ],
      "text/latex": [
       "3"
      ],
      "text/markdown": [
       "3"
      ],
      "text/plain": [
       "[1] 3"
      ]
     },
     "metadata": {},
     "output_type": "display_data"
    },
    {
     "data": {
      "text/html": [
       "'numeric'"
      ],
      "text/latex": [
       "'numeric'"
      ],
      "text/markdown": [
       "'numeric'"
      ],
      "text/plain": [
       "[1] \"numeric\""
      ]
     },
     "metadata": {},
     "output_type": "display_data"
    },
    {
     "data": {
      "text/html": [
       "'double'"
      ],
      "text/latex": [
       "'double'"
      ],
      "text/markdown": [
       "'double'"
      ],
      "text/plain": [
       "[1] \"double\""
      ]
     },
     "metadata": {},
     "output_type": "display_data"
    },
    {
     "data": {
      "text/html": [
       "<ol class=list-inline>\n",
       "\t<li>'1'</li>\n",
       "\t<li>'hello'</li>\n",
       "\t<li>'3'</li>\n",
       "</ol>\n"
      ],
      "text/latex": [
       "\\begin{enumerate*}\n",
       "\\item '1'\n",
       "\\item 'hello'\n",
       "\\item '3'\n",
       "\\end{enumerate*}\n"
      ],
      "text/markdown": [
       "1. '1'\n",
       "2. 'hello'\n",
       "3. '3'\n",
       "\n",
       "\n"
      ],
      "text/plain": [
       "[1] \"1\"     \"hello\" \"3\"    "
      ]
     },
     "metadata": {},
     "output_type": "display_data"
    },
    {
     "data": {
      "text/html": [
       "'character'"
      ],
      "text/latex": [
       "'character'"
      ],
      "text/markdown": [
       "'character'"
      ],
      "text/plain": [
       "[1] \"character\""
      ]
     },
     "metadata": {},
     "output_type": "display_data"
    },
    {
     "data": {
      "text/html": [
       "'character'"
      ],
      "text/latex": [
       "'character'"
      ],
      "text/markdown": [
       "'character'"
      ],
      "text/plain": [
       "[1] \"character\""
      ]
     },
     "metadata": {},
     "output_type": "display_data"
    },
    {
     "data": {
      "text/html": [
       "<ol class=list-inline>\n",
       "\t<li>0</li>\n",
       "\t<li>1</li>\n",
       "\t<li>0</li>\n",
       "\t<li>3</li>\n",
       "\t<li>&lt;NA&gt;</li>\n",
       "</ol>\n"
      ],
      "text/latex": [
       "\\begin{enumerate*}\n",
       "\\item 0\n",
       "\\item 1\n",
       "\\item 0\n",
       "\\item 3\n",
       "\\item <NA>\n",
       "\\end{enumerate*}\n"
      ],
      "text/markdown": [
       "1. 0\n",
       "2. 1\n",
       "3. 0\n",
       "4. 3\n",
       "5. &lt;NA&gt;\n",
       "\n",
       "\n"
      ],
      "text/plain": [
       "[1]  0  1  0  3 NA"
      ]
     },
     "metadata": {},
     "output_type": "display_data"
    },
    {
     "data": {
      "text/html": [
       "'numeric'"
      ],
      "text/latex": [
       "'numeric'"
      ],
      "text/markdown": [
       "'numeric'"
      ],
      "text/plain": [
       "[1] \"numeric\""
      ]
     },
     "metadata": {},
     "output_type": "display_data"
    },
    {
     "data": {
      "text/html": [
       "'double'"
      ],
      "text/latex": [
       "'double'"
      ],
      "text/markdown": [
       "'double'"
      ],
      "text/plain": [
       "[1] \"double\""
      ]
     },
     "metadata": {},
     "output_type": "display_data"
    },
    {
     "data": {
      "text/html": [
       "<ol class=list-inline>\n",
       "\t<li>1</li>\n",
       "\t<li>2</li>\n",
       "\t<li>3</li>\n",
       "\t<li>4</li>\n",
       "\t<li>5</li>\n",
       "\t<li>6</li>\n",
       "\t<li>7</li>\n",
       "\t<li>8</li>\n",
       "\t<li>9</li>\n",
       "\t<li>10</li>\n",
       "</ol>\n"
      ],
      "text/latex": [
       "\\begin{enumerate*}\n",
       "\\item 1\n",
       "\\item 2\n",
       "\\item 3\n",
       "\\item 4\n",
       "\\item 5\n",
       "\\item 6\n",
       "\\item 7\n",
       "\\item 8\n",
       "\\item 9\n",
       "\\item 10\n",
       "\\end{enumerate*}\n"
      ],
      "text/markdown": [
       "1. 1\n",
       "2. 2\n",
       "3. 3\n",
       "4. 4\n",
       "5. 5\n",
       "6. 6\n",
       "7. 7\n",
       "8. 8\n",
       "9. 9\n",
       "10. 10\n",
       "\n",
       "\n"
      ],
      "text/plain": [
       " [1]  1  2  3  4  5  6  7  8  9 10"
      ]
     },
     "metadata": {},
     "output_type": "display_data"
    },
    {
     "data": {
      "text/html": [
       "'integer'"
      ],
      "text/latex": [
       "'integer'"
      ],
      "text/markdown": [
       "'integer'"
      ],
      "text/plain": [
       "[1] \"integer\""
      ]
     },
     "metadata": {},
     "output_type": "display_data"
    },
    {
     "data": {
      "text/html": [
       "'integer'"
      ],
      "text/latex": [
       "'integer'"
      ],
      "text/markdown": [
       "'integer'"
      ],
      "text/plain": [
       "[1] \"integer\""
      ]
     },
     "metadata": {},
     "output_type": "display_data"
    },
    {
     "data": {
      "text/html": [
       "'numeric'"
      ],
      "text/latex": [
       "'numeric'"
      ],
      "text/markdown": [
       "'numeric'"
      ],
      "text/plain": [
       "[1] \"numeric\""
      ]
     },
     "metadata": {},
     "output_type": "display_data"
    },
    {
     "data": {
      "text/html": [
       "'double'"
      ],
      "text/latex": [
       "'double'"
      ],
      "text/markdown": [
       "'double'"
      ],
      "text/plain": [
       "[1] \"double\""
      ]
     },
     "metadata": {},
     "output_type": "display_data"
    },
    {
     "data": {
      "text/html": [
       "<ol class=list-inline>\n",
       "\t<li>FALSE</li>\n",
       "\t<li>TRUE</li>\n",
       "\t<li>FALSE</li>\n",
       "\t<li>FALSE</li>\n",
       "\t<li>TRUE</li>\n",
       "</ol>\n"
      ],
      "text/latex": [
       "\\begin{enumerate*}\n",
       "\\item FALSE\n",
       "\\item TRUE\n",
       "\\item FALSE\n",
       "\\item FALSE\n",
       "\\item TRUE\n",
       "\\end{enumerate*}\n"
      ],
      "text/markdown": [
       "1. FALSE\n",
       "2. TRUE\n",
       "3. FALSE\n",
       "4. FALSE\n",
       "5. TRUE\n",
       "\n",
       "\n"
      ],
      "text/plain": [
       "[1] FALSE  TRUE FALSE FALSE  TRUE"
      ]
     },
     "metadata": {},
     "output_type": "display_data"
    },
    {
     "data": {
      "text/html": [
       "10"
      ],
      "text/latex": [
       "10"
      ],
      "text/markdown": [
       "10"
      ],
      "text/plain": [
       "[1] 10"
      ]
     },
     "metadata": {},
     "output_type": "display_data"
    },
    {
     "data": {
      "text/html": [
       "12"
      ],
      "text/latex": [
       "12"
      ],
      "text/markdown": [
       "12"
      ],
      "text/plain": [
       "[1] 12"
      ]
     },
     "metadata": {},
     "output_type": "display_data"
    },
    {
     "data": {
      "text/plain": [
       "NULL"
      ]
     },
     "metadata": {},
     "output_type": "display_data"
    },
    {
     "data": {
      "text/html": [
       "<ol class=list-inline>\n",
       "\t<li>-1</li>\n",
       "\t<li>-1</li>\n",
       "\t<li>-1</li>\n",
       "\t<li>-1</li>\n",
       "\t<li>-1</li>\n",
       "\t<li>-1</li>\n",
       "\t<li>-1</li>\n",
       "\t<li>-1</li>\n",
       "\t<li>-1</li>\n",
       "\t<li>-1</li>\n",
       "</ol>\n"
      ],
      "text/latex": [
       "\\begin{enumerate*}\n",
       "\\item -1\n",
       "\\item -1\n",
       "\\item -1\n",
       "\\item -1\n",
       "\\item -1\n",
       "\\item -1\n",
       "\\item -1\n",
       "\\item -1\n",
       "\\item -1\n",
       "\\item -1\n",
       "\\end{enumerate*}\n"
      ],
      "text/markdown": [
       "1. -1\n",
       "2. -1\n",
       "3. -1\n",
       "4. -1\n",
       "5. -1\n",
       "6. -1\n",
       "7. -1\n",
       "8. -1\n",
       "9. -1\n",
       "10. -1\n",
       "\n",
       "\n"
      ],
      "text/plain": [
       " [1] -1 -1 -1 -1 -1 -1 -1 -1 -1 -1"
      ]
     },
     "metadata": {},
     "output_type": "display_data"
    }
   ],
   "source": [
    "v <- c(1, 2, 3)\n",
    "v\n",
    "length(v)\n",
    "class(v)  # numeric\n",
    "typeof(v) # double\n",
    "\n",
    "v <- c(1, \"hello\", 3)      # coercion to character\n",
    "v\n",
    "class(v)  # character\n",
    "typeof(v) # character\n",
    "\n",
    "v <- c(0, 1, FALSE, 3, NA) # coercion to numeric (double)\n",
    "v\n",
    "class(v)  # numeric\n",
    "typeof(v) # double\n",
    "\n",
    "v <- 1:10\n",
    "v\n",
    "class(v)  # integer\n",
    "typeof(v) # integer\n",
    "\n",
    "v <- seq(from = 1, to = 10, by = 0.1)\n",
    "class(v)  # numeric\n",
    "typeof(v) # double\n",
    "\n",
    "v <- c(\"a\", NA, \"c\", \"d\", NA)\n",
    "is.na(v) # FALSE TRUE FALSE FALSE TRUE\n",
    "\n",
    "length(1:10)          # 10\n",
    "nchar(\"Hello World!\") # 12\n",
    "dim(c(1,2,3))         # NULL\n",
    "\n",
    "rep(-1, 10)           # -1 -1 -1 -1 -1 -1 -1 -1 -1 -1"
   ]
  },
  {
   "cell_type": "code",
   "execution_count": 11,
   "metadata": {},
   "outputs": [
    {
     "data": {
      "text/html": [
       "<table>\n",
       "<tbody>\n",
       "\t<tr><td>NA</td><td>NA</td></tr>\n",
       "\t<tr><td>NA</td><td>NA</td></tr>\n",
       "</tbody>\n",
       "</table>\n"
      ],
      "text/latex": [
       "\\begin{tabular}{ll}\n",
       "\t NA & NA\\\\\n",
       "\t NA & NA\\\\\n",
       "\\end{tabular}\n"
      ],
      "text/markdown": [
       "\n",
       "| NA | NA | \n",
       "| NA | NA | \n",
       "\n",
       "\n"
      ],
      "text/plain": [
       "     [,1] [,2]\n",
       "[1,] NA   NA  \n",
       "[2,] NA   NA  "
      ]
     },
     "metadata": {},
     "output_type": "display_data"
    },
    {
     "data": {
      "text/html": [
       "<ol class=list-inline>\n",
       "\t<li>2</li>\n",
       "\t<li>2</li>\n",
       "</ol>\n"
      ],
      "text/latex": [
       "\\begin{enumerate*}\n",
       "\\item 2\n",
       "\\item 2\n",
       "\\end{enumerate*}\n"
      ],
      "text/markdown": [
       "1. 2\n",
       "2. 2\n",
       "\n",
       "\n"
      ],
      "text/plain": [
       "[1] 2 2"
      ]
     },
     "metadata": {},
     "output_type": "display_data"
    },
    {
     "data": {
      "text/html": [
       "<table>\n",
       "<tbody>\n",
       "\t<tr><td>1</td><td>3</td><td>5</td></tr>\n",
       "\t<tr><td>2</td><td>4</td><td>6</td></tr>\n",
       "</tbody>\n",
       "</table>\n"
      ],
      "text/latex": [
       "\\begin{tabular}{lll}\n",
       "\t 1 & 3 & 5\\\\\n",
       "\t 2 & 4 & 6\\\\\n",
       "\\end{tabular}\n"
      ],
      "text/markdown": [
       "\n",
       "| 1 | 3 | 5 | \n",
       "| 2 | 4 | 6 | \n",
       "\n",
       "\n"
      ],
      "text/plain": [
       "     [,1] [,2] [,3]\n",
       "[1,] 1    3    5   \n",
       "[2,] 2    4    6   "
      ]
     },
     "metadata": {},
     "output_type": "display_data"
    },
    {
     "data": {
      "text/html": [
       "<ol class=list-inline>\n",
       "\t<li>2</li>\n",
       "\t<li>3</li>\n",
       "</ol>\n"
      ],
      "text/latex": [
       "\\begin{enumerate*}\n",
       "\\item 2\n",
       "\\item 3\n",
       "\\end{enumerate*}\n"
      ],
      "text/markdown": [
       "1. 2\n",
       "2. 3\n",
       "\n",
       "\n"
      ],
      "text/plain": [
       "[1] 2 3"
      ]
     },
     "metadata": {},
     "output_type": "display_data"
    },
    {
     "data": {
      "text/html": [
       "<table>\n",
       "<tbody>\n",
       "\t<tr><td>1</td><td>4</td></tr>\n",
       "\t<tr><td>2</td><td>5</td></tr>\n",
       "\t<tr><td>3</td><td>6</td></tr>\n",
       "</tbody>\n",
       "</table>\n"
      ],
      "text/latex": [
       "\\begin{tabular}{ll}\n",
       "\t 1 & 4\\\\\n",
       "\t 2 & 5\\\\\n",
       "\t 3 & 6\\\\\n",
       "\\end{tabular}\n"
      ],
      "text/markdown": [
       "\n",
       "| 1 | 4 | \n",
       "| 2 | 5 | \n",
       "| 3 | 6 | \n",
       "\n",
       "\n"
      ],
      "text/plain": [
       "     [,1] [,2]\n",
       "[1,] 1    4   \n",
       "[2,] 2    5   \n",
       "[3,] 3    6   "
      ]
     },
     "metadata": {},
     "output_type": "display_data"
    },
    {
     "data": {
      "text/html": [
       "<ol class=list-inline>\n",
       "\t<li>3</li>\n",
       "\t<li>2</li>\n",
       "</ol>\n"
      ],
      "text/latex": [
       "\\begin{enumerate*}\n",
       "\\item 3\n",
       "\\item 2\n",
       "\\end{enumerate*}\n"
      ],
      "text/markdown": [
       "1. 3\n",
       "2. 2\n",
       "\n",
       "\n"
      ],
      "text/plain": [
       "[1] 3 2"
      ]
     },
     "metadata": {},
     "output_type": "display_data"
    },
    {
     "data": {
      "text/html": [
       "<table>\n",
       "<thead><tr><th scope=col>x</th><th scope=col>y</th></tr></thead>\n",
       "<tbody>\n",
       "\t<tr><td>1 </td><td>10</td></tr>\n",
       "\t<tr><td>2 </td><td>11</td></tr>\n",
       "\t<tr><td>3 </td><td>12</td></tr>\n",
       "</tbody>\n",
       "</table>\n"
      ],
      "text/latex": [
       "\\begin{tabular}{ll}\n",
       " x & y\\\\\n",
       "\\hline\n",
       "\t 1  & 10\\\\\n",
       "\t 2  & 11\\\\\n",
       "\t 3  & 12\\\\\n",
       "\\end{tabular}\n"
      ],
      "text/markdown": [
       "\n",
       "x | y | \n",
       "|---|---|---|\n",
       "| 1  | 10 | \n",
       "| 2  | 11 | \n",
       "| 3  | 12 | \n",
       "\n",
       "\n"
      ],
      "text/plain": [
       "     x y \n",
       "[1,] 1 10\n",
       "[2,] 2 11\n",
       "[3,] 3 12"
      ]
     },
     "metadata": {},
     "output_type": "display_data"
    },
    {
     "data": {
      "text/html": [
       "<table>\n",
       "<tbody>\n",
       "\t<tr><th scope=row>x</th><td> 1</td><td> 2</td><td> 3</td></tr>\n",
       "\t<tr><th scope=row>y</th><td>10</td><td>11</td><td>12</td></tr>\n",
       "</tbody>\n",
       "</table>\n"
      ],
      "text/latex": [
       "\\begin{tabular}{r|lll}\n",
       "\tx &  1 &  2 &  3\\\\\n",
       "\ty & 10 & 11 & 12\\\\\n",
       "\\end{tabular}\n"
      ],
      "text/markdown": [
       "\n",
       "| x |  1 |  2 |  3 | \n",
       "| y | 10 | 11 | 12 | \n",
       "\n",
       "\n"
      ],
      "text/plain": [
       "  [,1] [,2] [,3]\n",
       "x  1    2    3  \n",
       "y 10   11   12  "
      ]
     },
     "metadata": {},
     "output_type": "display_data"
    },
    {
     "data": {
      "text/html": [
       "<table>\n",
       "<tbody>\n",
       "\t<tr><td> 1</td><td> 2</td><td> 3</td></tr>\n",
       "\t<tr><td>11</td><td>12</td><td>13</td></tr>\n",
       "</tbody>\n",
       "</table>\n"
      ],
      "text/latex": [
       "\\begin{tabular}{lll}\n",
       "\t  1 &  2 &  3\\\\\n",
       "\t 11 & 12 & 13\\\\\n",
       "\\end{tabular}\n"
      ],
      "text/markdown": [
       "\n",
       "|  1 |  2 |  3 | \n",
       "| 11 | 12 | 13 | \n",
       "\n",
       "\n"
      ],
      "text/plain": [
       "     [,1] [,2] [,3]\n",
       "[1,]  1    2    3  \n",
       "[2,] 11   12   13  "
      ]
     },
     "metadata": {},
     "output_type": "display_data"
    }
   ],
   "source": [
    "m <- matrix(nrow = 2, ncol = 2)\n",
    "m\n",
    "dim(m) # 2 2\n",
    "\n",
    "m <- matrix(1:6, nrow = 2, ncol = 3)\n",
    "m\n",
    "dim(m) # 2 3\n",
    "dim(m) <- c(3, 2)\n",
    "m\n",
    "dim(m) # 3 2\n",
    "\n",
    "x <- 1:3\n",
    "y <- 10:12\n",
    "m <- cbind(x, y)\n",
    "m\n",
    "m <- rbind(x, y)\n",
    "m\n",
    "\n",
    "m <- matrix(c(1,2,3, 11,12,13), nrow = 2, ncol = 3, byrow = TRUE)\n",
    "m"
   ]
  },
  {
   "cell_type": "code",
   "execution_count": 12,
   "metadata": {},
   "outputs": [
    {
     "data": {
      "text/html": [
       "<ol class=list-inline>\n",
       "\t<li>3</li>\n",
       "\t<li>4</li>\n",
       "\t<li>2</li>\n",
       "</ol>\n"
      ],
      "text/latex": [
       "\\begin{enumerate*}\n",
       "\\item 3\n",
       "\\item 4\n",
       "\\item 2\n",
       "\\end{enumerate*}\n"
      ],
      "text/markdown": [
       "1. 3\n",
       "2. 4\n",
       "3. 2\n",
       "\n",
       "\n"
      ],
      "text/plain": [
       "[1] 3 4 2"
      ]
     },
     "metadata": {},
     "output_type": "display_data"
    },
    {
     "data": {
      "text/html": [
       "<ol class=list-inline>\n",
       "\t<li>1</li>\n",
       "\t<li>2</li>\n",
       "\t<li>3</li>\n",
       "\t<li>4</li>\n",
       "\t<li>5</li>\n",
       "\t<li>6</li>\n",
       "\t<li>7</li>\n",
       "\t<li>8</li>\n",
       "\t<li>9</li>\n",
       "\t<li>10</li>\n",
       "\t<li>11</li>\n",
       "\t<li>12</li>\n",
       "\t<li>13</li>\n",
       "\t<li>14</li>\n",
       "\t<li>15</li>\n",
       "\t<li>16</li>\n",
       "\t<li>17</li>\n",
       "\t<li>18</li>\n",
       "\t<li>19</li>\n",
       "\t<li>20</li>\n",
       "\t<li>21</li>\n",
       "\t<li>22</li>\n",
       "\t<li>23</li>\n",
       "\t<li>24</li>\n",
       "</ol>\n"
      ],
      "text/latex": [
       "\\begin{enumerate*}\n",
       "\\item 1\n",
       "\\item 2\n",
       "\\item 3\n",
       "\\item 4\n",
       "\\item 5\n",
       "\\item 6\n",
       "\\item 7\n",
       "\\item 8\n",
       "\\item 9\n",
       "\\item 10\n",
       "\\item 11\n",
       "\\item 12\n",
       "\\item 13\n",
       "\\item 14\n",
       "\\item 15\n",
       "\\item 16\n",
       "\\item 17\n",
       "\\item 18\n",
       "\\item 19\n",
       "\\item 20\n",
       "\\item 21\n",
       "\\item 22\n",
       "\\item 23\n",
       "\\item 24\n",
       "\\end{enumerate*}\n"
      ],
      "text/markdown": [
       "1. 1\n",
       "2. 2\n",
       "3. 3\n",
       "4. 4\n",
       "5. 5\n",
       "6. 6\n",
       "7. 7\n",
       "8. 8\n",
       "9. 9\n",
       "10. 10\n",
       "11. 11\n",
       "12. 12\n",
       "13. 13\n",
       "14. 14\n",
       "15. 15\n",
       "16. 16\n",
       "17. 17\n",
       "18. 18\n",
       "19. 19\n",
       "20. 20\n",
       "21. 21\n",
       "22. 22\n",
       "23. 23\n",
       "24. 24\n",
       "\n",
       "\n"
      ],
      "text/plain": [
       ", , 1\n",
       "\n",
       "     [,1] [,2] [,3] [,4]\n",
       "[1,]    1    4    7   10\n",
       "[2,]    2    5    8   11\n",
       "[3,]    3    6    9   12\n",
       "\n",
       ", , 2\n",
       "\n",
       "     [,1] [,2] [,3] [,4]\n",
       "[1,]   13   16   19   22\n",
       "[2,]   14   17   20   23\n",
       "[3,]   15   18   21   24\n"
      ]
     },
     "metadata": {},
     "output_type": "display_data"
    },
    {
     "name": "stdout",
     "output_type": "stream",
     "text": [
      ", , 1\n",
      "\n",
      "     [,1] [,2] [,3] [,4]\n",
      "[1,]    1    4    7   10\n",
      "[2,]    2    5    8   11\n",
      "[3,]    3    6    9   12\n",
      "\n",
      ", , 2\n",
      "\n",
      "     [,1] [,2] [,3] [,4]\n",
      "[1,]   13   16   19   22\n",
      "[2,]   14   17   20   23\n",
      "[3,]   15   18   21   24\n",
      "\n"
     ]
    },
    {
     "data": {
      "text/html": [
       "<ol class=list-inline>\n",
       "\t<li>3</li>\n",
       "\t<li>3</li>\n",
       "\t<li>2</li>\n",
       "</ol>\n"
      ],
      "text/latex": [
       "\\begin{enumerate*}\n",
       "\\item 3\n",
       "\\item 3\n",
       "\\item 2\n",
       "\\end{enumerate*}\n"
      ],
      "text/markdown": [
       "1. 3\n",
       "2. 3\n",
       "3. 2\n",
       "\n",
       "\n"
      ],
      "text/plain": [
       "[1] 3 3 2"
      ]
     },
     "metadata": {},
     "output_type": "display_data"
    },
    {
     "data": {
      "text/html": [
       "<ol class=list-inline>\n",
       "\t<li>10</li>\n",
       "\t<li>20</li>\n",
       "\t<li>30</li>\n",
       "\t<li>40</li>\n",
       "\t<li>50</li>\n",
       "\t<li>60</li>\n",
       "\t<li>70</li>\n",
       "\t<li>80</li>\n",
       "\t<li>90</li>\n",
       "\t<li>100</li>\n",
       "\t<li>10</li>\n",
       "\t<li>20</li>\n",
       "\t<li>30</li>\n",
       "\t<li>40</li>\n",
       "\t<li>50</li>\n",
       "\t<li>60</li>\n",
       "\t<li>70</li>\n",
       "\t<li>80</li>\n",
       "</ol>\n"
      ],
      "text/latex": [
       "\\begin{enumerate*}\n",
       "\\item 10\n",
       "\\item 20\n",
       "\\item 30\n",
       "\\item 40\n",
       "\\item 50\n",
       "\\item 60\n",
       "\\item 70\n",
       "\\item 80\n",
       "\\item 90\n",
       "\\item 100\n",
       "\\item 10\n",
       "\\item 20\n",
       "\\item 30\n",
       "\\item 40\n",
       "\\item 50\n",
       "\\item 60\n",
       "\\item 70\n",
       "\\item 80\n",
       "\\end{enumerate*}\n"
      ],
      "text/markdown": [
       "1. 10\n",
       "2. 20\n",
       "3. 30\n",
       "4. 40\n",
       "5. 50\n",
       "6. 60\n",
       "7. 70\n",
       "8. 80\n",
       "9. 90\n",
       "10. 100\n",
       "11. 10\n",
       "12. 20\n",
       "13. 30\n",
       "14. 40\n",
       "15. 50\n",
       "16. 60\n",
       "17. 70\n",
       "18. 80\n",
       "\n",
       "\n"
      ],
      "text/plain": [
       ", , 1\n",
       "\n",
       "     [,1] [,2] [,3]\n",
       "[1,]   10   40   70\n",
       "[2,]   20   50   80\n",
       "[3,]   30   60   90\n",
       "\n",
       ", , 2\n",
       "\n",
       "     [,1] [,2] [,3]\n",
       "[1,]  100   30   60\n",
       "[2,]   10   40   70\n",
       "[3,]   20   50   80\n"
      ]
     },
     "metadata": {},
     "output_type": "display_data"
    },
    {
     "name": "stdout",
     "output_type": "stream",
     "text": [
      ", , 1\n",
      "\n",
      "     [,1] [,2] [,3]\n",
      "[1,]   10   40   70\n",
      "[2,]   20   50   80\n",
      "[3,]   30   60   90\n",
      "\n",
      ", , 2\n",
      "\n",
      "     [,1] [,2] [,3]\n",
      "[1,]  100   30   60\n",
      "[2,]   10   40   70\n",
      "[3,]   20   50   80\n",
      "\n"
     ]
    }
   ],
   "source": [
    "a <- array(1: 24, dim = c(3, 4, 2))\n",
    "dim(a)   # 3 4 2\n",
    "a        # list out sequence\n",
    "print(a) # print out structure\n",
    "\n",
    "v1 <- c(10, 20, 30, 40)\n",
    "v2 <- c(50, 60, 70, 80, 90, 100)\n",
    " \n",
    "a <- array(c(v1, v2), dim = c(3, 3, 2))\n",
    "dim(a)   # 3 3 2\n",
    "a        # list out sequence\n",
    "print(a) # print out structure"
   ]
  },
  {
   "cell_type": "code",
   "execution_count": 13,
   "metadata": {},
   "outputs": [
    {
     "data": {
      "text/html": [
       "<ol>\n",
       "\t<li>'Sally'</li>\n",
       "\t<li>42</li>\n",
       "</ol>\n"
      ],
      "text/latex": [
       "\\begin{enumerate}\n",
       "\\item 'Sally'\n",
       "\\item 42\n",
       "\\end{enumerate}\n"
      ],
      "text/markdown": [
       "1. 'Sally'\n",
       "2. 42\n",
       "\n",
       "\n"
      ],
      "text/plain": [
       "[[1]]\n",
       "[1] \"Sally\"\n",
       "\n",
       "[[2]]\n",
       "[1] 42\n"
      ]
     },
     "metadata": {},
     "output_type": "display_data"
    },
    {
     "data": {
      "text/html": [
       "2"
      ],
      "text/latex": [
       "2"
      ],
      "text/markdown": [
       "2"
      ],
      "text/plain": [
       "[1] 2"
      ]
     },
     "metadata": {},
     "output_type": "display_data"
    },
    {
     "data": {
      "text/plain": [
       "NULL"
      ]
     },
     "metadata": {},
     "output_type": "display_data"
    },
    {
     "data": {
      "text/html": [
       "'list'"
      ],
      "text/latex": [
       "'list'"
      ],
      "text/markdown": [
       "'list'"
      ],
      "text/plain": [
       "[1] \"list\""
      ]
     },
     "metadata": {},
     "output_type": "display_data"
    },
    {
     "data": {
      "text/html": [
       "'list'"
      ],
      "text/latex": [
       "'list'"
      ],
      "text/markdown": [
       "'list'"
      ],
      "text/plain": [
       "[1] \"list\""
      ]
     },
     "metadata": {},
     "output_type": "display_data"
    },
    {
     "data": {
      "text/plain": [
       "NULL"
      ]
     },
     "metadata": {},
     "output_type": "display_data"
    },
    {
     "data": {
      "text/html": [
       "<dl>\n",
       "\t<dt>$name</dt>\n",
       "\t\t<dd>'Sally'</dd>\n",
       "\t<dt>$age</dt>\n",
       "\t\t<dd>42</dd>\n",
       "</dl>\n"
      ],
      "text/latex": [
       "\\begin{description}\n",
       "\\item[\\$name] 'Sally'\n",
       "\\item[\\$age] 42\n",
       "\\end{description}\n"
      ],
      "text/markdown": [
       "$name\n",
       ":   'Sally'\n",
       "$age\n",
       ":   42\n",
       "\n",
       "\n"
      ],
      "text/plain": [
       "$name\n",
       "[1] \"Sally\"\n",
       "\n",
       "$age\n",
       "[1] 42\n"
      ]
     },
     "metadata": {},
     "output_type": "display_data"
    },
    {
     "data": {
      "text/html": [
       "<strong>$names</strong> = <ol class=list-inline>\n",
       "\t<li>'name'</li>\n",
       "\t<li>'age'</li>\n",
       "</ol>\n"
      ],
      "text/latex": [
       "\\textbf{\\$names} = \\begin{enumerate*}\n",
       "\\item 'name'\n",
       "\\item 'age'\n",
       "\\end{enumerate*}\n"
      ],
      "text/markdown": [
       "**$names** = 1. 'name'\n",
       "2. 'age'\n",
       "\n",
       "\n"
      ],
      "text/plain": [
       "$names\n",
       "[1] \"name\" \"age\" \n"
      ]
     },
     "metadata": {},
     "output_type": "display_data"
    },
    {
     "data": {
      "text/html": [
       "<ol>\n",
       "\t<li>1</li>\n",
       "\t<li>'a'</li>\n",
       "\t<li>TRUE</li>\n",
       "\t<li>1+4i</li>\n",
       "</ol>\n"
      ],
      "text/latex": [
       "\\begin{enumerate}\n",
       "\\item 1\n",
       "\\item 'a'\n",
       "\\item TRUE\n",
       "\\item 1+4i\n",
       "\\end{enumerate}\n"
      ],
      "text/markdown": [
       "1. 1\n",
       "2. 'a'\n",
       "3. TRUE\n",
       "4. 1+4i\n",
       "\n",
       "\n"
      ],
      "text/plain": [
       "[[1]]\n",
       "[1] 1\n",
       "\n",
       "[[2]]\n",
       "[1] \"a\"\n",
       "\n",
       "[[3]]\n",
       "[1] TRUE\n",
       "\n",
       "[[4]]\n",
       "[1] 1+4i\n"
      ]
     },
     "metadata": {},
     "output_type": "display_data"
    },
    {
     "data": {
      "text/html": [
       "<ol>\n",
       "\t<li>NULL</li>\n",
       "\t<li>NULL</li>\n",
       "\t<li>NULL</li>\n",
       "\t<li>NULL</li>\n",
       "\t<li>NULL</li>\n",
       "</ol>\n"
      ],
      "text/latex": [
       "\\begin{enumerate}\n",
       "\\item NULL\n",
       "\\item NULL\n",
       "\\item NULL\n",
       "\\item NULL\n",
       "\\item NULL\n",
       "\\end{enumerate}\n"
      ],
      "text/markdown": [
       "1. NULL\n",
       "2. NULL\n",
       "3. NULL\n",
       "4. NULL\n",
       "5. NULL\n",
       "\n",
       "\n"
      ],
      "text/plain": [
       "[[1]]\n",
       "NULL\n",
       "\n",
       "[[2]]\n",
       "NULL\n",
       "\n",
       "[[3]]\n",
       "NULL\n",
       "\n",
       "[[4]]\n",
       "NULL\n",
       "\n",
       "[[5]]\n",
       "NULL\n"
      ]
     },
     "metadata": {},
     "output_type": "display_data"
    },
    {
     "data": {
      "text/html": [
       "5"
      ],
      "text/latex": [
       "5"
      ],
      "text/markdown": [
       "5"
      ],
      "text/plain": [
       "[1] 5"
      ]
     },
     "metadata": {},
     "output_type": "display_data"
    },
    {
     "data": {
      "text/html": [
       "10"
      ],
      "text/latex": [
       "10"
      ],
      "text/markdown": [
       "10"
      ],
      "text/plain": [
       "[1] 10"
      ]
     },
     "metadata": {},
     "output_type": "display_data"
    },
    {
     "data": {
      "text/html": [
       "<dl>\n",
       "\t<dt>$a</dt>\n",
       "\t\t<dd>'Sally'</dd>\n",
       "\t<dt>$b</dt>\n",
       "\t\t<dd><ol class=list-inline>\n",
       "\t<li>1</li>\n",
       "\t<li>2</li>\n",
       "\t<li>3</li>\n",
       "\t<li>4</li>\n",
       "\t<li>5</li>\n",
       "\t<li>6</li>\n",
       "\t<li>7</li>\n",
       "\t<li>8</li>\n",
       "\t<li>9</li>\n",
       "\t<li>10</li>\n",
       "</ol>\n",
       "</dd>\n",
       "\t<dt>$data</dt>\n",
       "\t\t<dd><table>\n",
       "<thead><tr><th scope=col>Sepal.Length</th><th scope=col>Sepal.Width</th><th scope=col>Petal.Length</th><th scope=col>Petal.Width</th><th scope=col>Species</th></tr></thead>\n",
       "<tbody>\n",
       "\t<tr><td>5.1   </td><td>3.5   </td><td>1.4   </td><td>0.2   </td><td>setosa</td></tr>\n",
       "\t<tr><td>4.9   </td><td>3.0   </td><td>1.4   </td><td>0.2   </td><td>setosa</td></tr>\n",
       "\t<tr><td>4.7   </td><td>3.2   </td><td>1.3   </td><td>0.2   </td><td>setosa</td></tr>\n",
       "\t<tr><td>4.6   </td><td>3.1   </td><td>1.5   </td><td>0.2   </td><td>setosa</td></tr>\n",
       "\t<tr><td>5.0   </td><td>3.6   </td><td>1.4   </td><td>0.2   </td><td>setosa</td></tr>\n",
       "\t<tr><td>5.4   </td><td>3.9   </td><td>1.7   </td><td>0.4   </td><td>setosa</td></tr>\n",
       "</tbody>\n",
       "</table>\n",
       "</dd>\n",
       "</dl>\n"
      ],
      "text/latex": [
       "\\begin{description}\n",
       "\\item[\\$a] 'Sally'\n",
       "\\item[\\$b] \\begin{enumerate*}\n",
       "\\item 1\n",
       "\\item 2\n",
       "\\item 3\n",
       "\\item 4\n",
       "\\item 5\n",
       "\\item 6\n",
       "\\item 7\n",
       "\\item 8\n",
       "\\item 9\n",
       "\\item 10\n",
       "\\end{enumerate*}\n",
       "\n",
       "\\item[\\$data] \\begin{tabular}{r|lllll}\n",
       " Sepal.Length & Sepal.Width & Petal.Length & Petal.Width & Species\\\\\n",
       "\\hline\n",
       "\t 5.1    & 3.5    & 1.4    & 0.2    & setosa\\\\\n",
       "\t 4.9    & 3.0    & 1.4    & 0.2    & setosa\\\\\n",
       "\t 4.7    & 3.2    & 1.3    & 0.2    & setosa\\\\\n",
       "\t 4.6    & 3.1    & 1.5    & 0.2    & setosa\\\\\n",
       "\t 5.0    & 3.6    & 1.4    & 0.2    & setosa\\\\\n",
       "\t 5.4    & 3.9    & 1.7    & 0.4    & setosa\\\\\n",
       "\\end{tabular}\n",
       "\n",
       "\\end{description}\n"
      ],
      "text/markdown": [
       "$a\n",
       ":   'Sally'\n",
       "$b\n",
       ":   1. 1\n",
       "2. 2\n",
       "3. 3\n",
       "4. 4\n",
       "5. 5\n",
       "6. 6\n",
       "7. 7\n",
       "8. 8\n",
       "9. 9\n",
       "10. 10\n",
       "\n",
       "\n",
       "\n",
       "$data\n",
       ":   \n",
       "Sepal.Length | Sepal.Width | Petal.Length | Petal.Width | Species | \n",
       "|---|---|---|---|---|---|\n",
       "| 5.1    | 3.5    | 1.4    | 0.2    | setosa | \n",
       "| 4.9    | 3.0    | 1.4    | 0.2    | setosa | \n",
       "| 4.7    | 3.2    | 1.3    | 0.2    | setosa | \n",
       "| 4.6    | 3.1    | 1.5    | 0.2    | setosa | \n",
       "| 5.0    | 3.6    | 1.4    | 0.2    | setosa | \n",
       "| 5.4    | 3.9    | 1.7    | 0.4    | setosa | \n",
       "\n",
       "\n",
       "\n",
       "\n",
       "\n"
      ],
      "text/plain": [
       "$a\n",
       "[1] \"Sally\"\n",
       "\n",
       "$b\n",
       " [1]  1  2  3  4  5  6  7  8  9 10\n",
       "\n",
       "$data\n",
       "  Sepal.Length Sepal.Width Petal.Length Petal.Width Species\n",
       "1          5.1         3.5          1.4         0.2  setosa\n",
       "2          4.9         3.0          1.4         0.2  setosa\n",
       "3          4.7         3.2          1.3         0.2  setosa\n",
       "4          4.6         3.1          1.5         0.2  setosa\n",
       "5          5.0         3.6          1.4         0.2  setosa\n",
       "6          5.4         3.9          1.7         0.4  setosa\n"
      ]
     },
     "metadata": {},
     "output_type": "display_data"
    }
   ],
   "source": [
    "l <- list(\"Sally\", 42)\n",
    "l\n",
    "length(l)      # 2\n",
    "dim(l)         # NULL\n",
    "class(l)       # list\n",
    "typeof(l)      # list\n",
    "attributes (l) # NULL\n",
    "\n",
    "l <- list(name=\"Sally\", age=42)\n",
    "l\n",
    "attributes (l) # 'name' 'age'\n",
    "\n",
    "l <- list(1, \"a\", TRUE, 1+4i)\n",
    "l\n",
    "\n",
    "l <- vector(\"list\", length = 5) # empty list\n",
    "l\n",
    "length(l)\n",
    "\n",
    "v <- 1:10\n",
    "l <- as.list(v)\n",
    "length(l)\n",
    "\n",
    "l <- list(a = \"Sally\", b = 1:10, data = head(iris))\n",
    "l"
   ]
  },
  {
   "cell_type": "code",
   "execution_count": 14,
   "metadata": {},
   "outputs": [
    {
     "data": {
      "text/html": [
       "<table>\n",
       "<thead><tr><th scope=col>id</th><th scope=col>x</th><th scope=col>y</th></tr></thead>\n",
       "<tbody>\n",
       "\t<tr><td>a </td><td> 1</td><td>11</td></tr>\n",
       "\t<tr><td>b </td><td> 2</td><td>12</td></tr>\n",
       "\t<tr><td>c </td><td> 3</td><td>13</td></tr>\n",
       "\t<tr><td>d </td><td> 4</td><td>14</td></tr>\n",
       "\t<tr><td>e </td><td> 5</td><td>15</td></tr>\n",
       "\t<tr><td>f </td><td> 6</td><td>16</td></tr>\n",
       "\t<tr><td>g </td><td> 7</td><td>17</td></tr>\n",
       "\t<tr><td>h </td><td> 8</td><td>18</td></tr>\n",
       "\t<tr><td>i </td><td> 9</td><td>19</td></tr>\n",
       "\t<tr><td>j </td><td>10</td><td>20</td></tr>\n",
       "</tbody>\n",
       "</table>\n"
      ],
      "text/latex": [
       "\\begin{tabular}{r|lll}\n",
       " id & x & y\\\\\n",
       "\\hline\n",
       "\t a  &  1 & 11\\\\\n",
       "\t b  &  2 & 12\\\\\n",
       "\t c  &  3 & 13\\\\\n",
       "\t d  &  4 & 14\\\\\n",
       "\t e  &  5 & 15\\\\\n",
       "\t f  &  6 & 16\\\\\n",
       "\t g  &  7 & 17\\\\\n",
       "\t h  &  8 & 18\\\\\n",
       "\t i  &  9 & 19\\\\\n",
       "\t j  & 10 & 20\\\\\n",
       "\\end{tabular}\n"
      ],
      "text/markdown": [
       "\n",
       "id | x | y | \n",
       "|---|---|---|---|---|---|---|---|---|---|\n",
       "| a  |  1 | 11 | \n",
       "| b  |  2 | 12 | \n",
       "| c  |  3 | 13 | \n",
       "| d  |  4 | 14 | \n",
       "| e  |  5 | 15 | \n",
       "| f  |  6 | 16 | \n",
       "| g  |  7 | 17 | \n",
       "| h  |  8 | 18 | \n",
       "| i  |  9 | 19 | \n",
       "| j  | 10 | 20 | \n",
       "\n",
       "\n"
      ],
      "text/plain": [
       "   id x  y \n",
       "1  a   1 11\n",
       "2  b   2 12\n",
       "3  c   3 13\n",
       "4  d   4 14\n",
       "5  e   5 15\n",
       "6  f   6 16\n",
       "7  g   7 17\n",
       "8  h   8 18\n",
       "9  i   9 19\n",
       "10 j  10 20"
      ]
     },
     "metadata": {},
     "output_type": "display_data"
    },
    {
     "data": {
      "text/html": [
       "'data.frame'"
      ],
      "text/latex": [
       "'data.frame'"
      ],
      "text/markdown": [
       "'data.frame'"
      ],
      "text/plain": [
       "[1] \"data.frame\""
      ]
     },
     "metadata": {},
     "output_type": "display_data"
    },
    {
     "data": {
      "text/html": [
       "<ol class=list-inline>\n",
       "\t<li>10</li>\n",
       "\t<li>3</li>\n",
       "</ol>\n"
      ],
      "text/latex": [
       "\\begin{enumerate*}\n",
       "\\item 10\n",
       "\\item 3\n",
       "\\end{enumerate*}\n"
      ],
      "text/markdown": [
       "1. 10\n",
       "2. 3\n",
       "\n",
       "\n"
      ],
      "text/plain": [
       "[1] 10  3"
      ]
     },
     "metadata": {},
     "output_type": "display_data"
    },
    {
     "data": {
      "text/html": [
       "10"
      ],
      "text/latex": [
       "10"
      ],
      "text/markdown": [
       "10"
      ],
      "text/plain": [
       "[1] 10"
      ]
     },
     "metadata": {},
     "output_type": "display_data"
    },
    {
     "data": {
      "text/html": [
       "3"
      ],
      "text/latex": [
       "3"
      ],
      "text/markdown": [
       "3"
      ],
      "text/plain": [
       "[1] 3"
      ]
     },
     "metadata": {},
     "output_type": "display_data"
    },
    {
     "data": {
      "text/html": [
       "<ol class=list-inline>\n",
       "\t<li>'id'</li>\n",
       "\t<li>'x'</li>\n",
       "\t<li>'y'</li>\n",
       "</ol>\n"
      ],
      "text/latex": [
       "\\begin{enumerate*}\n",
       "\\item 'id'\n",
       "\\item 'x'\n",
       "\\item 'y'\n",
       "\\end{enumerate*}\n"
      ],
      "text/markdown": [
       "1. 'id'\n",
       "2. 'x'\n",
       "3. 'y'\n",
       "\n",
       "\n"
      ],
      "text/plain": [
       "[1] \"id\" \"x\"  \"y\" "
      ]
     },
     "metadata": {},
     "output_type": "display_data"
    },
    {
     "name": "stdout",
     "output_type": "stream",
     "text": [
      "'data.frame':\t10 obs. of  3 variables:\n",
      " $ id: Factor w/ 10 levels \"a\",\"b\",\"c\",\"d\",..: 1 2 3 4 5 6 7 8 9 10\n",
      " $ x : int  1 2 3 4 5 6 7 8 9 10\n",
      " $ y : int  11 12 13 14 15 16 17 18 19 20\n"
     ]
    },
    {
     "data": {
      "text/html": [
       "<table>\n",
       "<thead><tr><th scope=col>id</th><th scope=col>x</th><th scope=col>y</th></tr></thead>\n",
       "<tbody>\n",
       "\t<tr><td>a </td><td>1 </td><td>11</td></tr>\n",
       "\t<tr><td>b </td><td>2 </td><td>12</td></tr>\n",
       "\t<tr><td>c </td><td>3 </td><td>13</td></tr>\n",
       "\t<tr><td>d </td><td>4 </td><td>14</td></tr>\n",
       "\t<tr><td>e </td><td>5 </td><td>15</td></tr>\n",
       "\t<tr><td>f </td><td>6 </td><td>16</td></tr>\n",
       "</tbody>\n",
       "</table>\n"
      ],
      "text/latex": [
       "\\begin{tabular}{r|lll}\n",
       " id & x & y\\\\\n",
       "\\hline\n",
       "\t a  & 1  & 11\\\\\n",
       "\t b  & 2  & 12\\\\\n",
       "\t c  & 3  & 13\\\\\n",
       "\t d  & 4  & 14\\\\\n",
       "\t e  & 5  & 15\\\\\n",
       "\t f  & 6  & 16\\\\\n",
       "\\end{tabular}\n"
      ],
      "text/markdown": [
       "\n",
       "id | x | y | \n",
       "|---|---|---|---|---|---|\n",
       "| a  | 1  | 11 | \n",
       "| b  | 2  | 12 | \n",
       "| c  | 3  | 13 | \n",
       "| d  | 4  | 14 | \n",
       "| e  | 5  | 15 | \n",
       "| f  | 6  | 16 | \n",
       "\n",
       "\n"
      ],
      "text/plain": [
       "  id x y \n",
       "1 a  1 11\n",
       "2 b  2 12\n",
       "3 c  3 13\n",
       "4 d  4 14\n",
       "5 e  5 15\n",
       "6 f  6 16"
      ]
     },
     "metadata": {},
     "output_type": "display_data"
    },
    {
     "data": {
      "text/html": [
       "'data.frame'"
      ],
      "text/latex": [
       "'data.frame'"
      ],
      "text/markdown": [
       "'data.frame'"
      ],
      "text/plain": [
       "[1] \"data.frame\""
      ]
     },
     "metadata": {},
     "output_type": "display_data"
    },
    {
     "data": {
      "text/html": [
       "5"
      ],
      "text/latex": [
       "5"
      ],
      "text/markdown": [
       "5"
      ],
      "text/plain": [
       "[1] 5"
      ]
     },
     "metadata": {},
     "output_type": "display_data"
    },
    {
     "data": {
      "text/html": [
       "150"
      ],
      "text/latex": [
       "150"
      ],
      "text/markdown": [
       "150"
      ],
      "text/plain": [
       "[1] 150"
      ]
     },
     "metadata": {},
     "output_type": "display_data"
    },
    {
     "data": {
      "text/html": [
       "5"
      ],
      "text/latex": [
       "5"
      ],
      "text/markdown": [
       "5"
      ],
      "text/plain": [
       "[1] 5"
      ]
     },
     "metadata": {},
     "output_type": "display_data"
    },
    {
     "data": {
      "text/html": [
       "<table>\n",
       "<thead><tr><th scope=col>Sepal.Length</th><th scope=col>Sepal.Width</th><th scope=col>Petal.Length</th><th scope=col>Petal.Width</th><th scope=col>Species</th></tr></thead>\n",
       "<tbody>\n",
       "\t<tr><td>5.1   </td><td>3.5   </td><td>1.4   </td><td>0.2   </td><td>setosa</td></tr>\n",
       "\t<tr><td>4.9   </td><td>3.0   </td><td>1.4   </td><td>0.2   </td><td>setosa</td></tr>\n",
       "\t<tr><td>4.7   </td><td>3.2   </td><td>1.3   </td><td>0.2   </td><td>setosa</td></tr>\n",
       "\t<tr><td>4.6   </td><td>3.1   </td><td>1.5   </td><td>0.2   </td><td>setosa</td></tr>\n",
       "\t<tr><td>5.0   </td><td>3.6   </td><td>1.4   </td><td>0.2   </td><td>setosa</td></tr>\n",
       "\t<tr><td>5.4   </td><td>3.9   </td><td>1.7   </td><td>0.4   </td><td>setosa</td></tr>\n",
       "</tbody>\n",
       "</table>\n"
      ],
      "text/latex": [
       "\\begin{tabular}{r|lllll}\n",
       " Sepal.Length & Sepal.Width & Petal.Length & Petal.Width & Species\\\\\n",
       "\\hline\n",
       "\t 5.1    & 3.5    & 1.4    & 0.2    & setosa\\\\\n",
       "\t 4.9    & 3.0    & 1.4    & 0.2    & setosa\\\\\n",
       "\t 4.7    & 3.2    & 1.3    & 0.2    & setosa\\\\\n",
       "\t 4.6    & 3.1    & 1.5    & 0.2    & setosa\\\\\n",
       "\t 5.0    & 3.6    & 1.4    & 0.2    & setosa\\\\\n",
       "\t 5.4    & 3.9    & 1.7    & 0.4    & setosa\\\\\n",
       "\\end{tabular}\n"
      ],
      "text/markdown": [
       "\n",
       "Sepal.Length | Sepal.Width | Petal.Length | Petal.Width | Species | \n",
       "|---|---|---|---|---|---|\n",
       "| 5.1    | 3.5    | 1.4    | 0.2    | setosa | \n",
       "| 4.9    | 3.0    | 1.4    | 0.2    | setosa | \n",
       "| 4.7    | 3.2    | 1.3    | 0.2    | setosa | \n",
       "| 4.6    | 3.1    | 1.5    | 0.2    | setosa | \n",
       "| 5.0    | 3.6    | 1.4    | 0.2    | setosa | \n",
       "| 5.4    | 3.9    | 1.7    | 0.4    | setosa | \n",
       "\n",
       "\n"
      ],
      "text/plain": [
       "  Sepal.Length Sepal.Width Petal.Length Petal.Width Species\n",
       "1 5.1          3.5         1.4          0.2         setosa \n",
       "2 4.9          3.0         1.4          0.2         setosa \n",
       "3 4.7          3.2         1.3          0.2         setosa \n",
       "4 4.6          3.1         1.5          0.2         setosa \n",
       "5 5.0          3.6         1.4          0.2         setosa \n",
       "6 5.4          3.9         1.7          0.4         setosa "
      ]
     },
     "metadata": {},
     "output_type": "display_data"
    }
   ],
   "source": [
    "df <- data.frame(id = letters[1:10], x = 1:10, y = 11:20)\n",
    "df\n",
    "class(df) # data.frame\n",
    "dim(df)   # 10 3\n",
    "nrow(df)  # 10\n",
    "ncol(df)  #  3\n",
    "names(df) # 'id' 'x' 'y'\n",
    "str(df)\n",
    "head(df)\n",
    "\n",
    "class(iris) # data.frame\n",
    "length(iris) #   5\n",
    "nrow(iris)   # 150\n",
    "ncol(iris)   #   5\n",
    "head(iris)"
   ]
  },
  {
   "cell_type": "markdown",
   "metadata": {},
   "source": [
    "## Arithmetic Operators\n",
    "- ```+``` addition\n",
    "- ```-``` subtraction\n",
    "- ```*``` multiplication\n",
    "- ```/``` division\n",
    "- ```^``` or ```**``` exponentiation\n",
    "- ```%%``` modulus\n",
    "- ```%/%``` integer division"
   ]
  },
  {
   "cell_type": "code",
   "execution_count": 15,
   "metadata": {},
   "outputs": [
    {
     "data": {
      "text/html": [
       "5"
      ],
      "text/latex": [
       "5"
      ],
      "text/markdown": [
       "5"
      ],
      "text/plain": [
       "[1] 5"
      ]
     },
     "metadata": {},
     "output_type": "display_data"
    },
    {
     "data": {
      "text/html": [
       "-1"
      ],
      "text/latex": [
       "-1"
      ],
      "text/markdown": [
       "-1"
      ],
      "text/plain": [
       "[1] -1"
      ]
     },
     "metadata": {},
     "output_type": "display_data"
    },
    {
     "data": {
      "text/html": [
       "6"
      ],
      "text/latex": [
       "6"
      ],
      "text/markdown": [
       "6"
      ],
      "text/plain": [
       "[1] 6"
      ]
     },
     "metadata": {},
     "output_type": "display_data"
    },
    {
     "data": {
      "text/html": [
       "0.666666666666667"
      ],
      "text/latex": [
       "0.666666666666667"
      ],
      "text/markdown": [
       "0.666666666666667"
      ],
      "text/plain": [
       "[1] 0.6666667"
      ]
     },
     "metadata": {},
     "output_type": "display_data"
    },
    {
     "data": {
      "text/html": [
       "8"
      ],
      "text/latex": [
       "8"
      ],
      "text/markdown": [
       "8"
      ],
      "text/plain": [
       "[1] 8"
      ]
     },
     "metadata": {},
     "output_type": "display_data"
    },
    {
     "data": {
      "text/html": [
       "8"
      ],
      "text/latex": [
       "8"
      ],
      "text/markdown": [
       "8"
      ],
      "text/plain": [
       "[1] 8"
      ]
     },
     "metadata": {},
     "output_type": "display_data"
    },
    {
     "data": {
      "text/html": [
       "2"
      ],
      "text/latex": [
       "2"
      ],
      "text/markdown": [
       "2"
      ],
      "text/plain": [
       "[1] 2"
      ]
     },
     "metadata": {},
     "output_type": "display_data"
    },
    {
     "data": {
      "text/html": [
       "0"
      ],
      "text/latex": [
       "0"
      ],
      "text/markdown": [
       "0"
      ],
      "text/plain": [
       "[1] 0"
      ]
     },
     "metadata": {},
     "output_type": "display_data"
    }
   ],
   "source": [
    "2+3   # 5\n",
    "2-3   # -1\n",
    "2*3   # 6\n",
    "2/3   # 0.666666666666667\n",
    "2^3   # 8\n",
    "2**3  # 8\n",
    "2%%3  # 2\n",
    "2%/%3 # 0"
   ]
  },
  {
   "cell_type": "markdown",
   "metadata": {},
   "source": [
    "## Logical Operators\n",
    "\n",
    "- *<* less than\n",
    "- *<=* less than or equal\n",
    "- *>* greater than\n",
    "- *>=* greater than or equal\n",
    "- *==* equal\n",
    "- *!=* not equal\n",
    "- *!* not\n",
    "- *|* or\n",
    "- *&* and\n",
    "- *isTRUE()* test if true"
   ]
  },
  {
   "cell_type": "markdown",
   "metadata": {},
   "source": [
    "## System Date and Time"
   ]
  },
  {
   "cell_type": "code",
   "execution_count": 4,
   "metadata": {},
   "outputs": [
    {
     "data": {
      "text/html": [
       "'Mon Oct 01 08:31:03 2018'"
      ],
      "text/latex": [
       "'Mon Oct 01 08:31:03 2018'"
      ],
      "text/markdown": [
       "'Mon Oct 01 08:31:03 2018'"
      ],
      "text/plain": [
       "[1] \"Mon Oct 01 08:31:03 2018\""
      ]
     },
     "metadata": {},
     "output_type": "display_data"
    }
   ],
   "source": [
    "date() # returns string of current system date and time in current time zone"
   ]
  },
  {
   "cell_type": "code",
   "execution_count": 5,
   "metadata": {},
   "outputs": [
    {
     "data": {
      "text/html": [
       "<time datetime=\"2018-10-01\">2018-10-01</time>"
      ],
      "text/latex": [
       "2018-10-01"
      ],
      "text/markdown": [
       "2018-10-01"
      ],
      "text/plain": [
       "[1] \"2018-10-01\""
      ]
     },
     "metadata": {},
     "output_type": "display_data"
    }
   ],
   "source": [
    "Sys.Date() # returns the current day in current time zone"
   ]
  },
  {
   "cell_type": "code",
   "execution_count": 6,
   "metadata": {},
   "outputs": [
    {
     "data": {
      "text/plain": [
       "[1] \"2018-10-01 08:31:04 EDT\""
      ]
     },
     "metadata": {},
     "output_type": "display_data"
    }
   ],
   "source": [
    "Sys.time() # returns absolute date-time which can be converted to various time zones"
   ]
  },
  {
   "cell_type": "markdown",
   "metadata": {},
   "source": [
    "## User-defined Functions"
   ]
  },
  {
   "cell_type": "code",
   "execution_count": 19,
   "metadata": {},
   "outputs": [
    {
     "data": {
      "text/html": [
       "7"
      ],
      "text/latex": [
       "7"
      ],
      "text/markdown": [
       "7"
      ],
      "text/plain": [
       "[1] 7"
      ]
     },
     "metadata": {},
     "output_type": "display_data"
    }
   ],
   "source": [
    "myFunction <- function(arg1, arg2) {\n",
    "    arg1 + arg2 # return keyword optional in this example\n",
    "}\n",
    "myFunction(3, 4)"
   ]
  },
  {
   "cell_type": "markdown",
   "metadata": {},
   "source": [
    "## Conditional and Repetitive Execution\n",
    "- ```if```\n",
    "- ```if/else```\n",
    "- ```for```\n",
    "- ```while```\n",
    "- ```repeat```\n",
    "- ```break```\n",
    "- ```next```\n",
    "- ```return```"
   ]
  },
  {
   "cell_type": "code",
   "execution_count": 20,
   "metadata": {},
   "outputs": [
    {
     "name": "stdout",
     "output_type": "stream",
     "text": [
      "[1] \"x is greater than 10\"\n"
     ]
    }
   ],
   "source": [
    "x <- 1:15\n",
    "if (sample(x, 1) <= 10) {\n",
    "    print(\"x is less than 10\")\n",
    "} else {\n",
    "    print(\"x is greater than 10\")\n",
    "}"
   ]
  },
  {
   "cell_type": "code",
   "execution_count": 21,
   "metadata": {},
   "outputs": [
    {
     "data": {
      "text/html": [
       "<ol class=list-inline>\n",
       "\t<li>'x less than 10'</li>\n",
       "\t<li>'x less than 10'</li>\n",
       "\t<li>'x less than 10'</li>\n",
       "\t<li>'x less than 10'</li>\n",
       "\t<li>'x less than 10'</li>\n",
       "\t<li>'x less than 10'</li>\n",
       "\t<li>'x less than 10'</li>\n",
       "\t<li>'x less than 10'</li>\n",
       "\t<li>'x less than 10'</li>\n",
       "\t<li>'x less than 10'</li>\n",
       "\t<li>'x greater than 10'</li>\n",
       "\t<li>'x greater than 10'</li>\n",
       "\t<li>'x greater than 10'</li>\n",
       "\t<li>'x greater than 10'</li>\n",
       "\t<li>'x greater than 10'</li>\n",
       "</ol>\n"
      ],
      "text/latex": [
       "\\begin{enumerate*}\n",
       "\\item 'x less than 10'\n",
       "\\item 'x less than 10'\n",
       "\\item 'x less than 10'\n",
       "\\item 'x less than 10'\n",
       "\\item 'x less than 10'\n",
       "\\item 'x less than 10'\n",
       "\\item 'x less than 10'\n",
       "\\item 'x less than 10'\n",
       "\\item 'x less than 10'\n",
       "\\item 'x less than 10'\n",
       "\\item 'x greater than 10'\n",
       "\\item 'x greater than 10'\n",
       "\\item 'x greater than 10'\n",
       "\\item 'x greater than 10'\n",
       "\\item 'x greater than 10'\n",
       "\\end{enumerate*}\n"
      ],
      "text/markdown": [
       "1. 'x less than 10'\n",
       "2. 'x less than 10'\n",
       "3. 'x less than 10'\n",
       "4. 'x less than 10'\n",
       "5. 'x less than 10'\n",
       "6. 'x less than 10'\n",
       "7. 'x less than 10'\n",
       "8. 'x less than 10'\n",
       "9. 'x less than 10'\n",
       "10. 'x less than 10'\n",
       "11. 'x greater than 10'\n",
       "12. 'x greater than 10'\n",
       "13. 'x greater than 10'\n",
       "14. 'x greater than 10'\n",
       "15. 'x greater than 10'\n",
       "\n",
       "\n"
      ],
      "text/plain": [
       " [1] \"x less than 10\"    \"x less than 10\"    \"x less than 10\"   \n",
       " [4] \"x less than 10\"    \"x less than 10\"    \"x less than 10\"   \n",
       " [7] \"x less than 10\"    \"x less than 10\"    \"x less than 10\"   \n",
       "[10] \"x less than 10\"    \"x greater than 10\" \"x greater than 10\"\n",
       "[13] \"x greater than 10\" \"x greater than 10\" \"x greater than 10\""
      ]
     },
     "metadata": {},
     "output_type": "display_data"
    }
   ],
   "source": [
    "ifelse(x <= 10, \"x less than 10\", \"x greater than 10\")"
   ]
  },
  {
   "cell_type": "code",
   "execution_count": 22,
   "metadata": {},
   "outputs": [
    {
     "name": "stdout",
     "output_type": "stream",
     "text": [
      "[1] 1\n",
      "[1] 2\n",
      "[1] 3\n",
      "[1] 4\n",
      "[1] 5\n",
      "[1] 6\n",
      "[1] 7\n",
      "[1] 8\n",
      "[1] 9\n",
      "[1] 10\n"
     ]
    }
   ],
   "source": [
    "for (i in 1:10) {\n",
    "    print(i)\n",
    "}"
   ]
  },
  {
   "cell_type": "code",
   "execution_count": 23,
   "metadata": {},
   "outputs": [
    {
     "name": "stdout",
     "output_type": "stream",
     "text": [
      "[1] \"apples\"\n",
      "[1] \"oranges\"\n",
      "[1] \"bananas\"\n",
      "[1] \"strawberries\"\n",
      "[1] \"apples\"\n",
      "[1] \"oranges\"\n",
      "[1] \"bananas\"\n",
      "[1] \"strawberries\"\n",
      "[1] \"apples\"\n",
      "[1] \"oranges\"\n",
      "[1] \"bananas\"\n",
      "[1] \"strawberries\"\n",
      "[1] \"apples\"\n",
      "[1] \"oranges\"\n",
      "[1] \"bananas\"\n",
      "[1] \"strawberries\"\n"
     ]
    }
   ],
   "source": [
    "x <- c(\"apples\", \"oranges\", \"bananas\", \"strawberries\")\n",
    "\n",
    "for (i in 1:length(x)) {\n",
    "    print(x[i])\n",
    "}\n",
    "\n",
    "for (el in x) {\n",
    "    print(el)\n",
    "}\n",
    "\n",
    "for (i in seq(x)) {\n",
    "    print(x[i])\n",
    "}\n",
    "\n",
    "for (i in 1:4) print(x[i])"
   ]
  },
  {
   "cell_type": "code",
   "execution_count": 24,
   "metadata": {},
   "outputs": [
    {
     "name": "stdout",
     "output_type": "stream",
     "text": [
      "[1] 1\n",
      "[1] 3\n",
      "[1] 5\n",
      "[1] 7\n",
      "[1] 9\n",
      "[1] 2\n",
      "[1] 4\n",
      "[1] 6\n",
      "[1] 8\n",
      "[1] 10\n"
     ]
    }
   ],
   "source": [
    "m <- matrix(1:10, 2)\n",
    "for (i in seq(nrow(m))) {\n",
    "    for (j in seq(ncol(m))) {\n",
    "        print(m[i, j])\n",
    "    }\n",
    "}"
   ]
  },
  {
   "cell_type": "code",
   "execution_count": 25,
   "metadata": {},
   "outputs": [
    {
     "data": {
      "text/html": [
       "<ol class=list-inline>\n",
       "\t<li>1</li>\n",
       "\t<li>1</li>\n",
       "\t<li>0</li>\n",
       "\t<li>0</li>\n",
       "\t<li>0</li>\n",
       "\t<li>0</li>\n",
       "\t<li>1</li>\n",
       "\t<li>0</li>\n",
       "\t<li>0</li>\n",
       "\t<li>1</li>\n",
       "\t<li>0</li>\n",
       "\t<li>0</li>\n",
       "\t<li>0</li>\n",
       "\t<li>0</li>\n",
       "\t<li>1</li>\n",
       "\t<li>0</li>\n",
       "\t<li>0</li>\n",
       "\t<li>0</li>\n",
       "\t<li>0</li>\n",
       "\t<li>0</li>\n",
       "</ol>\n"
      ],
      "text/latex": [
       "\\begin{enumerate*}\n",
       "\\item 1\n",
       "\\item 1\n",
       "\\item 0\n",
       "\\item 0\n",
       "\\item 0\n",
       "\\item 0\n",
       "\\item 1\n",
       "\\item 0\n",
       "\\item 0\n",
       "\\item 1\n",
       "\\item 0\n",
       "\\item 0\n",
       "\\item 0\n",
       "\\item 0\n",
       "\\item 1\n",
       "\\item 0\n",
       "\\item 0\n",
       "\\item 0\n",
       "\\item 0\n",
       "\\item 0\n",
       "\\end{enumerate*}\n"
      ],
      "text/markdown": [
       "1. 1\n",
       "2. 1\n",
       "3. 0\n",
       "4. 0\n",
       "5. 0\n",
       "6. 0\n",
       "7. 1\n",
       "8. 0\n",
       "9. 0\n",
       "10. 1\n",
       "11. 0\n",
       "12. 0\n",
       "13. 0\n",
       "14. 0\n",
       "15. 1\n",
       "16. 0\n",
       "17. 0\n",
       "18. 0\n",
       "19. 0\n",
       "20. 0\n",
       "\n",
       "\n"
      ],
      "text/plain": [
       " [1] 1 1 0 0 0 0 1 0 0 1 0 0 0 0 1 0 0 0 0 0"
      ]
     },
     "metadata": {},
     "output_type": "display_data"
    },
    {
     "data": {
      "text/html": [
       "<ol class=list-inline>\n",
       "\t<li>'H'</li>\n",
       "\t<li>'H'</li>\n",
       "\t<li>'T'</li>\n",
       "\t<li>'T'</li>\n",
       "\t<li>'T'</li>\n",
       "\t<li>'T'</li>\n",
       "\t<li>'H'</li>\n",
       "\t<li>'T'</li>\n",
       "\t<li>'T'</li>\n",
       "\t<li>'H'</li>\n",
       "\t<li>'T'</li>\n",
       "\t<li>'T'</li>\n",
       "\t<li>'T'</li>\n",
       "\t<li>'T'</li>\n",
       "\t<li>'H'</li>\n",
       "\t<li>'T'</li>\n",
       "\t<li>'T'</li>\n",
       "\t<li>'T'</li>\n",
       "\t<li>'T'</li>\n",
       "\t<li>'T'</li>\n",
       "</ol>\n"
      ],
      "text/latex": [
       "\\begin{enumerate*}\n",
       "\\item 'H'\n",
       "\\item 'H'\n",
       "\\item 'T'\n",
       "\\item 'T'\n",
       "\\item 'T'\n",
       "\\item 'T'\n",
       "\\item 'H'\n",
       "\\item 'T'\n",
       "\\item 'T'\n",
       "\\item 'H'\n",
       "\\item 'T'\n",
       "\\item 'T'\n",
       "\\item 'T'\n",
       "\\item 'T'\n",
       "\\item 'H'\n",
       "\\item 'T'\n",
       "\\item 'T'\n",
       "\\item 'T'\n",
       "\\item 'T'\n",
       "\\item 'T'\n",
       "\\end{enumerate*}\n"
      ],
      "text/markdown": [
       "1. 'H'\n",
       "2. 'H'\n",
       "3. 'T'\n",
       "4. 'T'\n",
       "5. 'T'\n",
       "6. 'T'\n",
       "7. 'H'\n",
       "8. 'T'\n",
       "9. 'T'\n",
       "10. 'H'\n",
       "11. 'T'\n",
       "12. 'T'\n",
       "13. 'T'\n",
       "14. 'T'\n",
       "15. 'H'\n",
       "16. 'T'\n",
       "17. 'T'\n",
       "18. 'T'\n",
       "19. 'T'\n",
       "20. 'T'\n",
       "\n",
       "\n"
      ],
      "text/plain": [
       " [1] \"H\" \"H\" \"T\" \"T\" \"T\" \"T\" \"H\" \"T\" \"T\" \"H\" \"T\" \"T\" \"T\" \"T\" \"H\" \"T\" \"T\" \"T\" \"T\"\n",
       "[20] \"T\""
      ]
     },
     "metadata": {},
     "output_type": "display_data"
    }
   ],
   "source": [
    "x <- rbinom(20, 1, 0.5) # rbinom(n, size, prob)\n",
    "x\n",
    "y <- c()\n",
    "for (i in 1:length(x)) {\n",
    "    if (x[i] == 1) y[i] <- 'H' else y[i] <- 'T' \n",
    "}\n",
    "y"
   ]
  },
  {
   "cell_type": "code",
   "execution_count": 26,
   "metadata": {},
   "outputs": [
    {
     "name": "stdout",
     "output_type": "stream",
     "text": [
      "[1] 1\n",
      "[1] 2\n",
      "[1] 3\n",
      "[1] 4\n",
      "[1] 5\n",
      "[1] 6\n",
      "[1] 7\n",
      "[1] 8\n",
      "[1] 9\n"
     ]
    }
   ],
   "source": [
    "i <- 1\n",
    "while (i < 10) {\n",
    "    print(i)\n",
    "    i <- i + 1\n",
    "}"
   ]
  },
  {
   "cell_type": "code",
   "execution_count": 27,
   "metadata": {},
   "outputs": [
    {
     "name": "stdout",
     "output_type": "stream",
     "text": [
      "[1] 1\n",
      "[1] 2\n",
      "[1] 3\n",
      "[1] 4\n",
      "[1] 5\n",
      "[1] 6\n",
      "[1] 7\n",
      "[1] 8\n",
      "[1] 9\n",
      "[1] 10\n"
     ]
    }
   ],
   "source": [
    "i <- 1; max <- 10\n",
    "repeat {\n",
    "    if (i > max) break\n",
    "    print(i)\n",
    "    i <- i + 1\n",
    "}"
   ]
  },
  {
   "cell_type": "code",
   "execution_count": 28,
   "metadata": {},
   "outputs": [
    {
     "name": "stdout",
     "output_type": "stream",
     "text": [
      "[1] 2\n",
      "[1] 4\n",
      "[1] 6\n",
      "[1] 8\n",
      "[1] 10\n",
      "[1] 12\n",
      "[1] 14\n",
      "[1] 16\n",
      "[1] 18\n",
      "[1] 20\n"
     ]
    }
   ],
   "source": [
    "for (i in 1:20) {\n",
    "    if (i%%2 == 1) { # skip evens\n",
    "        next\n",
    "    } else {\n",
    "        print(i)\n",
    "    }\n",
    "}"
   ]
  },
  {
   "cell_type": "markdown",
   "metadata": {},
   "source": [
    "## Built-in Functions\n",
    "\n",
    "- abs\n",
    "- cos\n",
    "- sin\n",
    "- exp\n",
    "- sqrt\n",
    "- trunc\n",
    "- floor\n",
    "- grep\n",
    "- nchar\n",
    "- paste\n",
    "- substr\n",
    "- toupper\n",
    "- tolower\n",
    "- edit"
   ]
  },
  {
   "cell_type": "code",
   "execution_count": 29,
   "metadata": {},
   "outputs": [
    {
     "data": {
      "text/html": [
       "1"
      ],
      "text/latex": [
       "1"
      ],
      "text/markdown": [
       "1"
      ],
      "text/plain": [
       "[1] 1"
      ]
     },
     "metadata": {},
     "output_type": "display_data"
    },
    {
     "data": {
      "text/html": [
       "0.5"
      ],
      "text/latex": [
       "0.5"
      ],
      "text/markdown": [
       "0.5"
      ],
      "text/plain": [
       "[1] 0.5"
      ]
     },
     "metadata": {},
     "output_type": "display_data"
    },
    {
     "data": {
      "text/html": [
       "1"
      ],
      "text/latex": [
       "1"
      ],
      "text/markdown": [
       "1"
      ],
      "text/plain": [
       "[1] 1"
      ]
     },
     "metadata": {},
     "output_type": "display_data"
    },
    {
     "data": {
      "text/html": [
       "2.71828182845905"
      ],
      "text/latex": [
       "2.71828182845905"
      ],
      "text/markdown": [
       "2.71828182845905"
      ],
      "text/plain": [
       "[1] 2.718282"
      ]
     },
     "metadata": {},
     "output_type": "display_data"
    },
    {
     "data": {
      "text/html": [
       "7.38905609893065"
      ],
      "text/latex": [
       "7.38905609893065"
      ],
      "text/markdown": [
       "7.38905609893065"
      ],
      "text/plain": [
       "[1] 7.389056"
      ]
     },
     "metadata": {},
     "output_type": "display_data"
    },
    {
     "data": {
      "text/html": [
       "2"
      ],
      "text/latex": [
       "2"
      ],
      "text/markdown": [
       "2"
      ],
      "text/plain": [
       "[1] 2"
      ]
     },
     "metadata": {},
     "output_type": "display_data"
    },
    {
     "data": {
      "text/html": [
       "5"
      ],
      "text/latex": [
       "5"
      ],
      "text/markdown": [
       "5"
      ],
      "text/plain": [
       "[1] 5"
      ]
     },
     "metadata": {},
     "output_type": "display_data"
    },
    {
     "data": {
      "text/html": [
       "-3"
      ],
      "text/latex": [
       "-3"
      ],
      "text/markdown": [
       "-3"
      ],
      "text/plain": [
       "[1] -3"
      ]
     },
     "metadata": {},
     "output_type": "display_data"
    },
    {
     "data": {
      "text/html": [
       "-4"
      ],
      "text/latex": [
       "-4"
      ],
      "text/markdown": [
       "-4"
      ],
      "text/plain": [
       "[1] -4"
      ]
     },
     "metadata": {},
     "output_type": "display_data"
    },
    {
     "data": {
      "text/html": [
       "5"
      ],
      "text/latex": [
       "5"
      ],
      "text/markdown": [
       "5"
      ],
      "text/plain": [
       "[1] 5"
      ]
     },
     "metadata": {},
     "output_type": "display_data"
    },
    {
     "data": {
      "text/html": [
       "<span style=white-space:pre-wrap>'Answer:  42'</span>"
      ],
      "text/latex": [
       "'Answer:  42'"
      ],
      "text/markdown": [
       "<span style=white-space:pre-wrap>'Answer:  42'</span>"
      ],
      "text/plain": [
       "[1] \"Answer:  42\""
      ]
     },
     "metadata": {},
     "output_type": "display_data"
    },
    {
     "data": {
      "text/html": [
       "'HELLO'"
      ],
      "text/latex": [
       "'HELLO'"
      ],
      "text/markdown": [
       "'HELLO'"
      ],
      "text/plain": [
       "[1] \"HELLO\""
      ]
     },
     "metadata": {},
     "output_type": "display_data"
    },
    {
     "data": {
      "text/html": [
       "'hello'"
      ],
      "text/latex": [
       "'hello'"
      ],
      "text/markdown": [
       "'hello'"
      ],
      "text/plain": [
       "[1] \"hello\""
      ]
     },
     "metadata": {},
     "output_type": "display_data"
    },
    {
     "data": {
      "text/html": [
       "'ll'"
      ],
      "text/latex": [
       "'ll'"
      ],
      "text/markdown": [
       "'ll'"
      ],
      "text/plain": [
       "[1] \"ll\""
      ]
     },
     "metadata": {},
     "output_type": "display_data"
    },
    {
     "name": "stdout",
     "output_type": "stream",
     "text": [
      "[1] 1\n",
      "integer(0)\n"
     ]
    }
   ],
   "source": [
    "abs(-1)               # 1\n",
    "cos(pi/3)             # 0.5\n",
    "sin(pi/2)             # 1\n",
    "exp(1)                # e\n",
    "exp(2)                # e^2\n",
    "log10(100)            # 2\n",
    "sqrt(25)              # 5\n",
    "trunc(-3.141592)      # -3\n",
    "floor(-3.141592)      # -4\n",
    "nchar(\"Hello\")        # 5\n",
    "paste(\"Answer: \", 42) # 'Answer:  42'\n",
    "toupper(\"Hello\")      # 'HELLO'\n",
    "tolower(\"Hello\")      # 'hello'\n",
    "substr(\"Hello\", 3, 4) # 'll'\n",
    "print(grep(\"[a-z]\", \"abc\"))\n",
    "print(grep(\"[a-z]\", \"123\"))"
   ]
  },
  {
   "cell_type": "markdown",
   "metadata": {},
   "source": [
    "## Vector and Matrix Arithmetic\n"
   ]
  },
  {
   "cell_type": "code",
   "execution_count": 30,
   "metadata": {},
   "outputs": [
    {
     "data": {
      "text/html": [
       "<ol class=list-inline>\n",
       "\t<li>2</li>\n",
       "\t<li>4</li>\n",
       "\t<li>6</li>\n",
       "\t<li>8</li>\n",
       "</ol>\n"
      ],
      "text/latex": [
       "\\begin{enumerate*}\n",
       "\\item 2\n",
       "\\item 4\n",
       "\\item 6\n",
       "\\item 8\n",
       "\\end{enumerate*}\n"
      ],
      "text/markdown": [
       "1. 2\n",
       "2. 4\n",
       "3. 6\n",
       "4. 8\n",
       "\n",
       "\n"
      ],
      "text/plain": [
       "[1] 2 4 6 8"
      ]
     },
     "metadata": {},
     "output_type": "display_data"
    },
    {
     "data": {
      "text/html": [
       "<ol class=list-inline>\n",
       "\t<li>2.02</li>\n",
       "\t<li>4.04</li>\n",
       "\t<li>6.06</li>\n",
       "\t<li>8.08</li>\n",
       "</ol>\n"
      ],
      "text/latex": [
       "\\begin{enumerate*}\n",
       "\\item 2.02\n",
       "\\item 4.04\n",
       "\\item 6.06\n",
       "\\item 8.08\n",
       "\\end{enumerate*}\n"
      ],
      "text/markdown": [
       "1. 2.02\n",
       "2. 4.04\n",
       "3. 6.06\n",
       "4. 8.08\n",
       "\n",
       "\n"
      ],
      "text/plain": [
       "[1] 2.02 4.04 6.06 8.08"
      ]
     },
     "metadata": {},
     "output_type": "display_data"
    },
    {
     "data": {
      "text/html": [
       "<table>\n",
       "<tbody>\n",
       "\t<tr><td>1 </td><td>3 </td><td>5 </td><td>7 </td><td> 9</td></tr>\n",
       "\t<tr><td>2 </td><td>4 </td><td>6 </td><td>8 </td><td>10</td></tr>\n",
       "</tbody>\n",
       "</table>\n"
      ],
      "text/latex": [
       "\\begin{tabular}{lllll}\n",
       "\t 1  & 3  & 5  & 7  &  9\\\\\n",
       "\t 2  & 4  & 6  & 8  & 10\\\\\n",
       "\\end{tabular}\n"
      ],
      "text/markdown": [
       "\n",
       "| 1  | 3  | 5  | 7  |  9 | \n",
       "| 2  | 4  | 6  | 8  | 10 | \n",
       "\n",
       "\n"
      ],
      "text/plain": [
       "     [,1] [,2] [,3] [,4] [,5]\n",
       "[1,] 1    3    5    7     9  \n",
       "[2,] 2    4    6    8    10  "
      ]
     },
     "metadata": {},
     "output_type": "display_data"
    },
    {
     "data": {
      "text/html": [
       "<table>\n",
       "<tbody>\n",
       "\t<tr><td>1.01 </td><td>3.03 </td><td>5.05 </td><td>7.07 </td><td> 9.09</td></tr>\n",
       "\t<tr><td>2.02 </td><td>4.04 </td><td>6.06 </td><td>8.08 </td><td>10.10</td></tr>\n",
       "</tbody>\n",
       "</table>\n"
      ],
      "text/latex": [
       "\\begin{tabular}{lllll}\n",
       "\t 1.01  & 3.03  & 5.05  & 7.07  &  9.09\\\\\n",
       "\t 2.02  & 4.04  & 6.06  & 8.08  & 10.10\\\\\n",
       "\\end{tabular}\n"
      ],
      "text/markdown": [
       "\n",
       "| 1.01  | 3.03  | 5.05  | 7.07  |  9.09 | \n",
       "| 2.02  | 4.04  | 6.06  | 8.08  | 10.10 | \n",
       "\n",
       "\n"
      ],
      "text/plain": [
       "     [,1] [,2] [,3] [,4] [,5] \n",
       "[1,] 1.01 3.03 5.05 7.07  9.09\n",
       "[2,] 2.02 4.04 6.06 8.08 10.10"
      ]
     },
     "metadata": {},
     "output_type": "display_data"
    }
   ],
   "source": [
    "v <- c(2, 4, 6, 8)\n",
    "v\n",
    "v <- v *1.01\n",
    "v\n",
    "\n",
    "m <- matrix(1:10, 2)\n",
    "m\n",
    "m <- m *1.01\n",
    "m"
   ]
  },
  {
   "cell_type": "code",
   "execution_count": 31,
   "metadata": {},
   "outputs": [
    {
     "data": {
      "text/html": [
       "55"
      ],
      "text/latex": [
       "55"
      ],
      "text/markdown": [
       "55"
      ],
      "text/plain": [
       "[1] 55"
      ]
     },
     "metadata": {},
     "output_type": "display_data"
    }
   ],
   "source": [
    "vec <- 1:10\n",
    "sumvec <- sum(vec)\n",
    "sumvec"
   ]
  },
  {
   "cell_type": "code",
   "execution_count": 32,
   "metadata": {},
   "outputs": [
    {
     "data": {
      "text/html": [
       "<ol class=list-inline>\n",
       "\t<li>1</li>\n",
       "\t<li>4</li>\n",
       "\t<li>9</li>\n",
       "</ol>\n"
      ],
      "text/latex": [
       "\\begin{enumerate*}\n",
       "\\item 1\n",
       "\\item 4\n",
       "\\item 9\n",
       "\\end{enumerate*}\n"
      ],
      "text/markdown": [
       "1. 1\n",
       "2. 4\n",
       "3. 9\n",
       "\n",
       "\n"
      ],
      "text/plain": [
       "[1] 1 4 9"
      ]
     },
     "metadata": {},
     "output_type": "display_data"
    }
   ],
   "source": [
    "vec <- c(1, 2, 3) ^ 2\n",
    "vec"
   ]
  },
  {
   "cell_type": "code",
   "execution_count": 33,
   "metadata": {},
   "outputs": [
    {
     "data": {
      "text/html": [
       "55"
      ],
      "text/latex": [
       "55"
      ],
      "text/markdown": [
       "55"
      ],
      "text/plain": [
       "[1] 55"
      ]
     },
     "metadata": {},
     "output_type": "display_data"
    },
    {
     "data": {
      "text/html": [
       "55"
      ],
      "text/latex": [
       "55"
      ],
      "text/markdown": [
       "55"
      ],
      "text/plain": [
       "[1] 55"
      ]
     },
     "metadata": {},
     "output_type": "display_data"
    }
   ],
   "source": [
    "Reduce(\"+\", 1:10)\n",
    "Reduce (function (x, y) { x + y}, c(1, 2, 3, 4, 5, 6, 7, 8, 9, 10))"
   ]
  },
  {
   "cell_type": "code",
   "execution_count": 34,
   "metadata": {},
   "outputs": [
    {
     "data": {
      "text/html": [
       "'list'"
      ],
      "text/latex": [
       "'list'"
      ],
      "text/markdown": [
       "'list'"
      ],
      "text/plain": [
       "[1] \"list\""
      ]
     },
     "metadata": {},
     "output_type": "display_data"
    },
    {
     "data": {
      "text/html": [
       "<ol>\n",
       "\t<li>1</li>\n",
       "\t<li>4</li>\n",
       "\t<li>9</li>\n",
       "\t<li>16</li>\n",
       "\t<li>25</li>\n",
       "</ol>\n"
      ],
      "text/latex": [
       "\\begin{enumerate}\n",
       "\\item 1\n",
       "\\item 4\n",
       "\\item 9\n",
       "\\item 16\n",
       "\\item 25\n",
       "\\end{enumerate}\n"
      ],
      "text/markdown": [
       "1. 1\n",
       "2. 4\n",
       "3. 9\n",
       "4. 16\n",
       "5. 25\n",
       "\n",
       "\n"
      ],
      "text/plain": [
       "[[1]]\n",
       "[1] 1\n",
       "\n",
       "[[2]]\n",
       "[1] 4\n",
       "\n",
       "[[3]]\n",
       "[1] 9\n",
       "\n",
       "[[4]]\n",
       "[1] 16\n",
       "\n",
       "[[5]]\n",
       "[1] 25\n"
      ]
     },
     "metadata": {},
     "output_type": "display_data"
    }
   ],
   "source": [
    "l <- Map (function (x) { x^2 }, c(1, 2, 3, 4, 5))\n",
    "class(l)\n",
    "l"
   ]
  },
  {
   "cell_type": "code",
   "execution_count": 35,
   "metadata": {},
   "outputs": [
    {
     "data": {
      "text/html": [
       "<ol class=list-inline>\n",
       "\t<li>1</li>\n",
       "\t<li>2</li>\n",
       "\t<li>3</li>\n",
       "</ol>\n"
      ],
      "text/latex": [
       "\\begin{enumerate*}\n",
       "\\item 1\n",
       "\\item 2\n",
       "\\item 3\n",
       "\\end{enumerate*}\n"
      ],
      "text/markdown": [
       "1. 1\n",
       "2. 2\n",
       "3. 3\n",
       "\n",
       "\n"
      ],
      "text/plain": [
       "[1] 1 2 3"
      ]
     },
     "metadata": {},
     "output_type": "display_data"
    }
   ],
   "source": [
    "Filter (function (x) { x < 4 }, c(1, 2, 3, 4, 5))"
   ]
  },
  {
   "cell_type": "markdown",
   "metadata": {},
   "source": [
    "## Getting and Setting the Working Directory"
   ]
  },
  {
   "cell_type": "code",
   "execution_count": 36,
   "metadata": {},
   "outputs": [
    {
     "data": {
      "text/html": [
       "'C:/Users/peterthor/Documents/R_Jupyter'"
      ],
      "text/latex": [
       "'C:/Users/peterthor/Documents/R\\_Jupyter'"
      ],
      "text/markdown": [
       "'C:/Users/peterthor/Documents/R_Jupyter'"
      ],
      "text/plain": [
       "[1] \"C:/Users/peterthor/Documents/R_Jupyter\""
      ]
     },
     "metadata": {},
     "output_type": "display_data"
    },
    {
     "data": {
      "text/html": [
       "<ol class=list-inline>\n",
       "\t<li>'00_WA2711.ipynb'</li>\n",
       "\t<li>'01_Starter_Demos.ipynb'</li>\n",
       "\t<li>'02_Simple_R_Syntax.ipynb'</li>\n",
       "\t<li>'03_Atomic_Classes.ipynb'</li>\n",
       "\t<li>'04_Control_Structures.ipynb'</li>\n",
       "\t<li>'05_The_Base_Plotting_System.ipynb'</li>\n",
       "\t<li>'06_Vectors.ipynb'</li>\n",
       "\t<li>'07_The_plotrix_Graphics_Package.ipynb'</li>\n",
       "\t<li>'08_Lists.ipynb'</li>\n",
       "\t<li>'09_Factors.ipynb'</li>\n",
       "\t<li>'10_Base_R_Sample_Datasets.ipynb'</li>\n",
       "\t<li>'11_Attributes.ipynb'</li>\n",
       "\t<li>'12_Data_Frames.ipynb'</li>\n",
       "\t<li>'13_Date_Time.ipynb'</li>\n",
       "\t<li>'14_Manipulating_Data.ipynb'</li>\n",
       "\t<li>'15_Algorithms.ipynb'</li>\n",
       "\t<li>'16_Xxx.ipynb'</li>\n",
       "\t<li>'17_Linear_Algebra.ipynb'</li>\n",
       "\t<li>'18_Probability_Distributions.ipynb'</li>\n",
       "\t<li>'19_Statistical_Probability_Functions.ipynb'</li>\n",
       "\t<li>'20_Matrices.ipynb'</li>\n",
       "\t<li>'21_Functions.ipynb'</li>\n",
       "\t<li>'22_Logistic_Regression.ipynb'</li>\n",
       "\t<li>'23_Linear_Regression.ipynb'</li>\n",
       "\t<li>'23b_Linear_Regression.ipynb'</li>\n",
       "\t<li>'24_Regression_Correlation.ipynb'</li>\n",
       "\t<li>'25_Object_Oriented_Programming.ipynb'</li>\n",
       "\t<li>'26_The_ggplot2_Package.ipynb'</li>\n",
       "\t<li>'27_Calculus.ipynb'</li>\n",
       "\t<li>'28_The_dplyr_Package.ipynb'</li>\n",
       "\t<li>'29_The_tibble_Package.ipynb'</li>\n",
       "\t<li>'30_The_readr_Package.ipynb'</li>\n",
       "\t<li>'31_The_tidyr_Package.ipynb'</li>\n",
       "\t<li>'32_K_Nearest_Neighbors.ipynb'</li>\n",
       "\t<li>'33_Machine_Learning_Project.ipynb'</li>\n",
       "\t<li>'34_Artificial_Neural_Networks.ipynb'</li>\n",
       "\t<li>'35_Bayesian_Networks.ipynb'</li>\n",
       "\t<li>'36_K_Means_Clustering.ipynb'</li>\n",
       "\t<li>'37_Support_Vector_Machines.ipynb'</li>\n",
       "\t<li>'38_MNIST_Machine_Learning.ipynb'</li>\n",
       "\t<li>'39_Monte_Carlo_Simulation.ipynb'</li>\n",
       "\t<li>'40_Debugging_Performance.ipynb'</li>\n",
       "\t<li>'41_The_plotly_Package.ipynb'</li>\n",
       "\t<li>'data'</li>\n",
       "\t<li>'gapminder.ipynb'</li>\n",
       "\t<li>'images'</li>\n",
       "\t<li>'index.ipynb'</li>\n",
       "\t<li>'My R Course'</li>\n",
       "\t<li>'my.RData'</li>\n",
       "\t<li>'scripts'</li>\n",
       "\t<li>'Untitled.ipynb'</li>\n",
       "</ol>\n"
      ],
      "text/latex": [
       "\\begin{enumerate*}\n",
       "\\item '00\\_WA2711.ipynb'\n",
       "\\item '01\\_Starter\\_Demos.ipynb'\n",
       "\\item '02\\_Simple\\_R\\_Syntax.ipynb'\n",
       "\\item '03\\_Atomic\\_Classes.ipynb'\n",
       "\\item '04\\_Control\\_Structures.ipynb'\n",
       "\\item '05\\_The\\_Base\\_Plotting\\_System.ipynb'\n",
       "\\item '06\\_Vectors.ipynb'\n",
       "\\item '07\\_The\\_plotrix\\_Graphics\\_Package.ipynb'\n",
       "\\item '08\\_Lists.ipynb'\n",
       "\\item '09\\_Factors.ipynb'\n",
       "\\item '10\\_Base\\_R\\_Sample\\_Datasets.ipynb'\n",
       "\\item '11\\_Attributes.ipynb'\n",
       "\\item '12\\_Data\\_Frames.ipynb'\n",
       "\\item '13\\_Date\\_Time.ipynb'\n",
       "\\item '14\\_Manipulating\\_Data.ipynb'\n",
       "\\item '15\\_Algorithms.ipynb'\n",
       "\\item '16\\_Xxx.ipynb'\n",
       "\\item '17\\_Linear\\_Algebra.ipynb'\n",
       "\\item '18\\_Probability\\_Distributions.ipynb'\n",
       "\\item '19\\_Statistical\\_Probability\\_Functions.ipynb'\n",
       "\\item '20\\_Matrices.ipynb'\n",
       "\\item '21\\_Functions.ipynb'\n",
       "\\item '22\\_Logistic\\_Regression.ipynb'\n",
       "\\item '23\\_Linear\\_Regression.ipynb'\n",
       "\\item '23b\\_Linear\\_Regression.ipynb'\n",
       "\\item '24\\_Regression\\_Correlation.ipynb'\n",
       "\\item '25\\_Object\\_Oriented\\_Programming.ipynb'\n",
       "\\item '26\\_The\\_ggplot2\\_Package.ipynb'\n",
       "\\item '27\\_Calculus.ipynb'\n",
       "\\item '28\\_The\\_dplyr\\_Package.ipynb'\n",
       "\\item '29\\_The\\_tibble\\_Package.ipynb'\n",
       "\\item '30\\_The\\_readr\\_Package.ipynb'\n",
       "\\item '31\\_The\\_tidyr\\_Package.ipynb'\n",
       "\\item '32\\_K\\_Nearest\\_Neighbors.ipynb'\n",
       "\\item '33\\_Machine\\_Learning\\_Project.ipynb'\n",
       "\\item '34\\_Artificial\\_Neural\\_Networks.ipynb'\n",
       "\\item '35\\_Bayesian\\_Networks.ipynb'\n",
       "\\item '36\\_K\\_Means\\_Clustering.ipynb'\n",
       "\\item '37\\_Support\\_Vector\\_Machines.ipynb'\n",
       "\\item '38\\_MNIST\\_Machine\\_Learning.ipynb'\n",
       "\\item '39\\_Monte\\_Carlo\\_Simulation.ipynb'\n",
       "\\item '40\\_Debugging\\_Performance.ipynb'\n",
       "\\item '41\\_The\\_plotly\\_Package.ipynb'\n",
       "\\item 'data'\n",
       "\\item 'gapminder.ipynb'\n",
       "\\item 'images'\n",
       "\\item 'index.ipynb'\n",
       "\\item 'My R Course'\n",
       "\\item 'my.RData'\n",
       "\\item 'scripts'\n",
       "\\item 'Untitled.ipynb'\n",
       "\\end{enumerate*}\n"
      ],
      "text/markdown": [
       "1. '00_WA2711.ipynb'\n",
       "2. '01_Starter_Demos.ipynb'\n",
       "3. '02_Simple_R_Syntax.ipynb'\n",
       "4. '03_Atomic_Classes.ipynb'\n",
       "5. '04_Control_Structures.ipynb'\n",
       "6. '05_The_Base_Plotting_System.ipynb'\n",
       "7. '06_Vectors.ipynb'\n",
       "8. '07_The_plotrix_Graphics_Package.ipynb'\n",
       "9. '08_Lists.ipynb'\n",
       "10. '09_Factors.ipynb'\n",
       "11. '10_Base_R_Sample_Datasets.ipynb'\n",
       "12. '11_Attributes.ipynb'\n",
       "13. '12_Data_Frames.ipynb'\n",
       "14. '13_Date_Time.ipynb'\n",
       "15. '14_Manipulating_Data.ipynb'\n",
       "16. '15_Algorithms.ipynb'\n",
       "17. '16_Xxx.ipynb'\n",
       "18. '17_Linear_Algebra.ipynb'\n",
       "19. '18_Probability_Distributions.ipynb'\n",
       "20. '19_Statistical_Probability_Functions.ipynb'\n",
       "21. '20_Matrices.ipynb'\n",
       "22. '21_Functions.ipynb'\n",
       "23. '22_Logistic_Regression.ipynb'\n",
       "24. '23_Linear_Regression.ipynb'\n",
       "25. '23b_Linear_Regression.ipynb'\n",
       "26. '24_Regression_Correlation.ipynb'\n",
       "27. '25_Object_Oriented_Programming.ipynb'\n",
       "28. '26_The_ggplot2_Package.ipynb'\n",
       "29. '27_Calculus.ipynb'\n",
       "30. '28_The_dplyr_Package.ipynb'\n",
       "31. '29_The_tibble_Package.ipynb'\n",
       "32. '30_The_readr_Package.ipynb'\n",
       "33. '31_The_tidyr_Package.ipynb'\n",
       "34. '32_K_Nearest_Neighbors.ipynb'\n",
       "35. '33_Machine_Learning_Project.ipynb'\n",
       "36. '34_Artificial_Neural_Networks.ipynb'\n",
       "37. '35_Bayesian_Networks.ipynb'\n",
       "38. '36_K_Means_Clustering.ipynb'\n",
       "39. '37_Support_Vector_Machines.ipynb'\n",
       "40. '38_MNIST_Machine_Learning.ipynb'\n",
       "41. '39_Monte_Carlo_Simulation.ipynb'\n",
       "42. '40_Debugging_Performance.ipynb'\n",
       "43. '41_The_plotly_Package.ipynb'\n",
       "44. 'data'\n",
       "45. 'gapminder.ipynb'\n",
       "46. 'images'\n",
       "47. 'index.ipynb'\n",
       "48. 'My R Course'\n",
       "49. 'my.RData'\n",
       "50. 'scripts'\n",
       "51. 'Untitled.ipynb'\n",
       "\n",
       "\n"
      ],
      "text/plain": [
       " [1] \"00_WA2711.ipynb\"                           \n",
       " [2] \"01_Starter_Demos.ipynb\"                    \n",
       " [3] \"02_Simple_R_Syntax.ipynb\"                  \n",
       " [4] \"03_Atomic_Classes.ipynb\"                   \n",
       " [5] \"04_Control_Structures.ipynb\"               \n",
       " [6] \"05_The_Base_Plotting_System.ipynb\"         \n",
       " [7] \"06_Vectors.ipynb\"                          \n",
       " [8] \"07_The_plotrix_Graphics_Package.ipynb\"     \n",
       " [9] \"08_Lists.ipynb\"                            \n",
       "[10] \"09_Factors.ipynb\"                          \n",
       "[11] \"10_Base_R_Sample_Datasets.ipynb\"           \n",
       "[12] \"11_Attributes.ipynb\"                       \n",
       "[13] \"12_Data_Frames.ipynb\"                      \n",
       "[14] \"13_Date_Time.ipynb\"                        \n",
       "[15] \"14_Manipulating_Data.ipynb\"                \n",
       "[16] \"15_Algorithms.ipynb\"                       \n",
       "[17] \"16_Xxx.ipynb\"                              \n",
       "[18] \"17_Linear_Algebra.ipynb\"                   \n",
       "[19] \"18_Probability_Distributions.ipynb\"        \n",
       "[20] \"19_Statistical_Probability_Functions.ipynb\"\n",
       "[21] \"20_Matrices.ipynb\"                         \n",
       "[22] \"21_Functions.ipynb\"                        \n",
       "[23] \"22_Logistic_Regression.ipynb\"              \n",
       "[24] \"23_Linear_Regression.ipynb\"                \n",
       "[25] \"23b_Linear_Regression.ipynb\"               \n",
       "[26] \"24_Regression_Correlation.ipynb\"           \n",
       "[27] \"25_Object_Oriented_Programming.ipynb\"      \n",
       "[28] \"26_The_ggplot2_Package.ipynb\"              \n",
       "[29] \"27_Calculus.ipynb\"                         \n",
       "[30] \"28_The_dplyr_Package.ipynb\"                \n",
       "[31] \"29_The_tibble_Package.ipynb\"               \n",
       "[32] \"30_The_readr_Package.ipynb\"                \n",
       "[33] \"31_The_tidyr_Package.ipynb\"                \n",
       "[34] \"32_K_Nearest_Neighbors.ipynb\"              \n",
       "[35] \"33_Machine_Learning_Project.ipynb\"         \n",
       "[36] \"34_Artificial_Neural_Networks.ipynb\"       \n",
       "[37] \"35_Bayesian_Networks.ipynb\"                \n",
       "[38] \"36_K_Means_Clustering.ipynb\"               \n",
       "[39] \"37_Support_Vector_Machines.ipynb\"          \n",
       "[40] \"38_MNIST_Machine_Learning.ipynb\"           \n",
       "[41] \"39_Monte_Carlo_Simulation.ipynb\"           \n",
       "[42] \"40_Debugging_Performance.ipynb\"            \n",
       "[43] \"41_The_plotly_Package.ipynb\"               \n",
       "[44] \"data\"                                      \n",
       "[45] \"gapminder.ipynb\"                           \n",
       "[46] \"images\"                                    \n",
       "[47] \"index.ipynb\"                               \n",
       "[48] \"My R Course\"                               \n",
       "[49] \"my.RData\"                                  \n",
       "[50] \"scripts\"                                   \n",
       "[51] \"Untitled.ipynb\"                            "
      ]
     },
     "metadata": {},
     "output_type": "display_data"
    }
   ],
   "source": [
    "getwd()\n",
    "list.files()"
   ]
  },
  {
   "cell_type": "code",
   "execution_count": 37,
   "metadata": {},
   "outputs": [
    {
     "data": {
      "text/html": [
       "'C:/Users/peterthor/Documents'"
      ],
      "text/latex": [
       "'C:/Users/peterthor/Documents'"
      ],
      "text/markdown": [
       "'C:/Users/peterthor/Documents'"
      ],
      "text/plain": [
       "[1] \"C:/Users/peterthor/Documents\""
      ]
     },
     "metadata": {},
     "output_type": "display_data"
    },
    {
     "data": {
      "text/html": [
       "<ol class=list-inline>\n",
       "\t<li>'AndroidStudio'</li>\n",
       "\t<li>'ASUS'</li>\n",
       "\t<li>'Audacity'</li>\n",
       "\t<li>'Bluetooth Folder'</li>\n",
       "\t<li>'cache'</li>\n",
       "\t<li>'Camtasia Studio'</li>\n",
       "\t<li>'ChatLog Austin_s Meeting 2018_06_29 15_29.rtf'</li>\n",
       "\t<li>'ChatLog Conference call 2018_05_31 10_18.rtf'</li>\n",
       "\t<li>'ChatLog Numerical Programming_ Understanding Python_ Numpy _ Matplotlib 2018_07_10 13_57.rtf'</li>\n",
       "\t<li>'CPP_Jupyter'</li>\n",
       "\t<li>'Custom Office Templates'</li>\n",
       "\t<li>'Default.rdp'</li>\n",
       "\t<li>'desktop.ini'</li>\n",
       "\t<li>'Fax'</li>\n",
       "\t<li>'FreshStart'</li>\n",
       "\t<li>'GitHub'</li>\n",
       "\t<li>'Graphics'</li>\n",
       "\t<li>'IISExpress'</li>\n",
       "\t<li>'JS_Jupyter'</li>\n",
       "\t<li>'My Music'</li>\n",
       "\t<li>'My Pictures'</li>\n",
       "\t<li>'My Videos'</li>\n",
       "\t<li>'OneNote Notebooks'</li>\n",
       "\t<li>'Py_Jupyter'</li>\n",
       "\t<li>'Python Scripts'</li>\n",
       "\t<li>'R'</li>\n",
       "\t<li>'R_Jupyter'</li>\n",
       "\t<li>'Scanned Documents'</li>\n",
       "\t<li>'Sound recordings'</li>\n",
       "\t<li>'Visual Studio 2013'</li>\n",
       "\t<li>'Visual Studio 2015'</li>\n",
       "\t<li>'Visual Studio 2017'</li>\n",
       "\t<li>'Zoom'</li>\n",
       "</ol>\n"
      ],
      "text/latex": [
       "\\begin{enumerate*}\n",
       "\\item 'AndroidStudio'\n",
       "\\item 'ASUS'\n",
       "\\item 'Audacity'\n",
       "\\item 'Bluetooth Folder'\n",
       "\\item 'cache'\n",
       "\\item 'Camtasia Studio'\n",
       "\\item 'ChatLog Austin\\_s Meeting 2018\\_06\\_29 15\\_29.rtf'\n",
       "\\item 'ChatLog Conference call 2018\\_05\\_31 10\\_18.rtf'\n",
       "\\item 'ChatLog Numerical Programming\\_ Understanding Python\\_ Numpy \\_ Matplotlib 2018\\_07\\_10 13\\_57.rtf'\n",
       "\\item 'CPP\\_Jupyter'\n",
       "\\item 'Custom Office Templates'\n",
       "\\item 'Default.rdp'\n",
       "\\item 'desktop.ini'\n",
       "\\item 'Fax'\n",
       "\\item 'FreshStart'\n",
       "\\item 'GitHub'\n",
       "\\item 'Graphics'\n",
       "\\item 'IISExpress'\n",
       "\\item 'JS\\_Jupyter'\n",
       "\\item 'My Music'\n",
       "\\item 'My Pictures'\n",
       "\\item 'My Videos'\n",
       "\\item 'OneNote Notebooks'\n",
       "\\item 'Py\\_Jupyter'\n",
       "\\item 'Python Scripts'\n",
       "\\item 'R'\n",
       "\\item 'R\\_Jupyter'\n",
       "\\item 'Scanned Documents'\n",
       "\\item 'Sound recordings'\n",
       "\\item 'Visual Studio 2013'\n",
       "\\item 'Visual Studio 2015'\n",
       "\\item 'Visual Studio 2017'\n",
       "\\item 'Zoom'\n",
       "\\end{enumerate*}\n"
      ],
      "text/markdown": [
       "1. 'AndroidStudio'\n",
       "2. 'ASUS'\n",
       "3. 'Audacity'\n",
       "4. 'Bluetooth Folder'\n",
       "5. 'cache'\n",
       "6. 'Camtasia Studio'\n",
       "7. 'ChatLog Austin_s Meeting 2018_06_29 15_29.rtf'\n",
       "8. 'ChatLog Conference call 2018_05_31 10_18.rtf'\n",
       "9. 'ChatLog Numerical Programming_ Understanding Python_ Numpy _ Matplotlib 2018_07_10 13_57.rtf'\n",
       "10. 'CPP_Jupyter'\n",
       "11. 'Custom Office Templates'\n",
       "12. 'Default.rdp'\n",
       "13. 'desktop.ini'\n",
       "14. 'Fax'\n",
       "15. 'FreshStart'\n",
       "16. 'GitHub'\n",
       "17. 'Graphics'\n",
       "18. 'IISExpress'\n",
       "19. 'JS_Jupyter'\n",
       "20. 'My Music'\n",
       "21. 'My Pictures'\n",
       "22. 'My Videos'\n",
       "23. 'OneNote Notebooks'\n",
       "24. 'Py_Jupyter'\n",
       "25. 'Python Scripts'\n",
       "26. 'R'\n",
       "27. 'R_Jupyter'\n",
       "28. 'Scanned Documents'\n",
       "29. 'Sound recordings'\n",
       "30. 'Visual Studio 2013'\n",
       "31. 'Visual Studio 2015'\n",
       "32. 'Visual Studio 2017'\n",
       "33. 'Zoom'\n",
       "\n",
       "\n"
      ],
      "text/plain": [
       " [1] \"AndroidStudio\"                                                                               \n",
       " [2] \"ASUS\"                                                                                        \n",
       " [3] \"Audacity\"                                                                                    \n",
       " [4] \"Bluetooth Folder\"                                                                            \n",
       " [5] \"cache\"                                                                                       \n",
       " [6] \"Camtasia Studio\"                                                                             \n",
       " [7] \"ChatLog Austin_s Meeting 2018_06_29 15_29.rtf\"                                               \n",
       " [8] \"ChatLog Conference call 2018_05_31 10_18.rtf\"                                                \n",
       " [9] \"ChatLog Numerical Programming_ Understanding Python_ Numpy _ Matplotlib 2018_07_10 13_57.rtf\"\n",
       "[10] \"CPP_Jupyter\"                                                                                 \n",
       "[11] \"Custom Office Templates\"                                                                     \n",
       "[12] \"Default.rdp\"                                                                                 \n",
       "[13] \"desktop.ini\"                                                                                 \n",
       "[14] \"Fax\"                                                                                         \n",
       "[15] \"FreshStart\"                                                                                  \n",
       "[16] \"GitHub\"                                                                                      \n",
       "[17] \"Graphics\"                                                                                    \n",
       "[18] \"IISExpress\"                                                                                  \n",
       "[19] \"JS_Jupyter\"                                                                                  \n",
       "[20] \"My Music\"                                                                                    \n",
       "[21] \"My Pictures\"                                                                                 \n",
       "[22] \"My Videos\"                                                                                   \n",
       "[23] \"OneNote Notebooks\"                                                                           \n",
       "[24] \"Py_Jupyter\"                                                                                  \n",
       "[25] \"Python Scripts\"                                                                              \n",
       "[26] \"R\"                                                                                           \n",
       "[27] \"R_Jupyter\"                                                                                   \n",
       "[28] \"Scanned Documents\"                                                                           \n",
       "[29] \"Sound recordings\"                                                                            \n",
       "[30] \"Visual Studio 2013\"                                                                          \n",
       "[31] \"Visual Studio 2015\"                                                                          \n",
       "[32] \"Visual Studio 2017\"                                                                          \n",
       "[33] \"Zoom\"                                                                                        "
      ]
     },
     "metadata": {},
     "output_type": "display_data"
    },
    {
     "data": {
      "text/html": [
       "'C:/Users/peterthor/Documents/R_Jupyter'"
      ],
      "text/latex": [
       "'C:/Users/peterthor/Documents/R\\_Jupyter'"
      ],
      "text/markdown": [
       "'C:/Users/peterthor/Documents/R_Jupyter'"
      ],
      "text/plain": [
       "[1] \"C:/Users/peterthor/Documents/R_Jupyter\""
      ]
     },
     "metadata": {},
     "output_type": "display_data"
    },
    {
     "data": {
      "text/html": [
       "<ol class=list-inline>\n",
       "\t<li>'00_WA2711.ipynb'</li>\n",
       "\t<li>'01_Starter_Demos.ipynb'</li>\n",
       "\t<li>'02_Simple_R_Syntax.ipynb'</li>\n",
       "\t<li>'03_Atomic_Classes.ipynb'</li>\n",
       "\t<li>'04_Control_Structures.ipynb'</li>\n",
       "\t<li>'05_The_Base_Plotting_System.ipynb'</li>\n",
       "\t<li>'06_Vectors.ipynb'</li>\n",
       "\t<li>'07_The_plotrix_Graphics_Package.ipynb'</li>\n",
       "\t<li>'08_Lists.ipynb'</li>\n",
       "\t<li>'09_Factors.ipynb'</li>\n",
       "\t<li>'10_Base_R_Sample_Datasets.ipynb'</li>\n",
       "\t<li>'11_Attributes.ipynb'</li>\n",
       "\t<li>'12_Data_Frames.ipynb'</li>\n",
       "\t<li>'13_Date_Time.ipynb'</li>\n",
       "\t<li>'14_Manipulating_Data.ipynb'</li>\n",
       "\t<li>'15_Algorithms.ipynb'</li>\n",
       "\t<li>'16_Xxx.ipynb'</li>\n",
       "\t<li>'17_Linear_Algebra.ipynb'</li>\n",
       "\t<li>'18_Probability_Distributions.ipynb'</li>\n",
       "\t<li>'19_Statistical_Probability_Functions.ipynb'</li>\n",
       "\t<li>'20_Matrices.ipynb'</li>\n",
       "\t<li>'21_Functions.ipynb'</li>\n",
       "\t<li>'22_Logistic_Regression.ipynb'</li>\n",
       "\t<li>'23_Linear_Regression.ipynb'</li>\n",
       "\t<li>'23b_Linear_Regression.ipynb'</li>\n",
       "\t<li>'24_Regression_Correlation.ipynb'</li>\n",
       "\t<li>'25_Object_Oriented_Programming.ipynb'</li>\n",
       "\t<li>'26_The_ggplot2_Package.ipynb'</li>\n",
       "\t<li>'27_Calculus.ipynb'</li>\n",
       "\t<li>'28_The_dplyr_Package.ipynb'</li>\n",
       "\t<li>'29_The_tibble_Package.ipynb'</li>\n",
       "\t<li>'30_The_readr_Package.ipynb'</li>\n",
       "\t<li>'31_The_tidyr_Package.ipynb'</li>\n",
       "\t<li>'32_K_Nearest_Neighbors.ipynb'</li>\n",
       "\t<li>'33_Machine_Learning_Project.ipynb'</li>\n",
       "\t<li>'34_Artificial_Neural_Networks.ipynb'</li>\n",
       "\t<li>'35_Bayesian_Networks.ipynb'</li>\n",
       "\t<li>'36_K_Means_Clustering.ipynb'</li>\n",
       "\t<li>'37_Support_Vector_Machines.ipynb'</li>\n",
       "\t<li>'38_MNIST_Machine_Learning.ipynb'</li>\n",
       "\t<li>'39_Monte_Carlo_Simulation.ipynb'</li>\n",
       "\t<li>'40_Debugging_Performance.ipynb'</li>\n",
       "\t<li>'41_The_plotly_Package.ipynb'</li>\n",
       "\t<li>'data'</li>\n",
       "\t<li>'gapminder.ipynb'</li>\n",
       "\t<li>'images'</li>\n",
       "\t<li>'index.ipynb'</li>\n",
       "\t<li>'My R Course'</li>\n",
       "\t<li>'my.RData'</li>\n",
       "\t<li>'scripts'</li>\n",
       "\t<li>'Untitled.ipynb'</li>\n",
       "</ol>\n"
      ],
      "text/latex": [
       "\\begin{enumerate*}\n",
       "\\item '00\\_WA2711.ipynb'\n",
       "\\item '01\\_Starter\\_Demos.ipynb'\n",
       "\\item '02\\_Simple\\_R\\_Syntax.ipynb'\n",
       "\\item '03\\_Atomic\\_Classes.ipynb'\n",
       "\\item '04\\_Control\\_Structures.ipynb'\n",
       "\\item '05\\_The\\_Base\\_Plotting\\_System.ipynb'\n",
       "\\item '06\\_Vectors.ipynb'\n",
       "\\item '07\\_The\\_plotrix\\_Graphics\\_Package.ipynb'\n",
       "\\item '08\\_Lists.ipynb'\n",
       "\\item '09\\_Factors.ipynb'\n",
       "\\item '10\\_Base\\_R\\_Sample\\_Datasets.ipynb'\n",
       "\\item '11\\_Attributes.ipynb'\n",
       "\\item '12\\_Data\\_Frames.ipynb'\n",
       "\\item '13\\_Date\\_Time.ipynb'\n",
       "\\item '14\\_Manipulating\\_Data.ipynb'\n",
       "\\item '15\\_Algorithms.ipynb'\n",
       "\\item '16\\_Xxx.ipynb'\n",
       "\\item '17\\_Linear\\_Algebra.ipynb'\n",
       "\\item '18\\_Probability\\_Distributions.ipynb'\n",
       "\\item '19\\_Statistical\\_Probability\\_Functions.ipynb'\n",
       "\\item '20\\_Matrices.ipynb'\n",
       "\\item '21\\_Functions.ipynb'\n",
       "\\item '22\\_Logistic\\_Regression.ipynb'\n",
       "\\item '23\\_Linear\\_Regression.ipynb'\n",
       "\\item '23b\\_Linear\\_Regression.ipynb'\n",
       "\\item '24\\_Regression\\_Correlation.ipynb'\n",
       "\\item '25\\_Object\\_Oriented\\_Programming.ipynb'\n",
       "\\item '26\\_The\\_ggplot2\\_Package.ipynb'\n",
       "\\item '27\\_Calculus.ipynb'\n",
       "\\item '28\\_The\\_dplyr\\_Package.ipynb'\n",
       "\\item '29\\_The\\_tibble\\_Package.ipynb'\n",
       "\\item '30\\_The\\_readr\\_Package.ipynb'\n",
       "\\item '31\\_The\\_tidyr\\_Package.ipynb'\n",
       "\\item '32\\_K\\_Nearest\\_Neighbors.ipynb'\n",
       "\\item '33\\_Machine\\_Learning\\_Project.ipynb'\n",
       "\\item '34\\_Artificial\\_Neural\\_Networks.ipynb'\n",
       "\\item '35\\_Bayesian\\_Networks.ipynb'\n",
       "\\item '36\\_K\\_Means\\_Clustering.ipynb'\n",
       "\\item '37\\_Support\\_Vector\\_Machines.ipynb'\n",
       "\\item '38\\_MNIST\\_Machine\\_Learning.ipynb'\n",
       "\\item '39\\_Monte\\_Carlo\\_Simulation.ipynb'\n",
       "\\item '40\\_Debugging\\_Performance.ipynb'\n",
       "\\item '41\\_The\\_plotly\\_Package.ipynb'\n",
       "\\item 'data'\n",
       "\\item 'gapminder.ipynb'\n",
       "\\item 'images'\n",
       "\\item 'index.ipynb'\n",
       "\\item 'My R Course'\n",
       "\\item 'my.RData'\n",
       "\\item 'scripts'\n",
       "\\item 'Untitled.ipynb'\n",
       "\\end{enumerate*}\n"
      ],
      "text/markdown": [
       "1. '00_WA2711.ipynb'\n",
       "2. '01_Starter_Demos.ipynb'\n",
       "3. '02_Simple_R_Syntax.ipynb'\n",
       "4. '03_Atomic_Classes.ipynb'\n",
       "5. '04_Control_Structures.ipynb'\n",
       "6. '05_The_Base_Plotting_System.ipynb'\n",
       "7. '06_Vectors.ipynb'\n",
       "8. '07_The_plotrix_Graphics_Package.ipynb'\n",
       "9. '08_Lists.ipynb'\n",
       "10. '09_Factors.ipynb'\n",
       "11. '10_Base_R_Sample_Datasets.ipynb'\n",
       "12. '11_Attributes.ipynb'\n",
       "13. '12_Data_Frames.ipynb'\n",
       "14. '13_Date_Time.ipynb'\n",
       "15. '14_Manipulating_Data.ipynb'\n",
       "16. '15_Algorithms.ipynb'\n",
       "17. '16_Xxx.ipynb'\n",
       "18. '17_Linear_Algebra.ipynb'\n",
       "19. '18_Probability_Distributions.ipynb'\n",
       "20. '19_Statistical_Probability_Functions.ipynb'\n",
       "21. '20_Matrices.ipynb'\n",
       "22. '21_Functions.ipynb'\n",
       "23. '22_Logistic_Regression.ipynb'\n",
       "24. '23_Linear_Regression.ipynb'\n",
       "25. '23b_Linear_Regression.ipynb'\n",
       "26. '24_Regression_Correlation.ipynb'\n",
       "27. '25_Object_Oriented_Programming.ipynb'\n",
       "28. '26_The_ggplot2_Package.ipynb'\n",
       "29. '27_Calculus.ipynb'\n",
       "30. '28_The_dplyr_Package.ipynb'\n",
       "31. '29_The_tibble_Package.ipynb'\n",
       "32. '30_The_readr_Package.ipynb'\n",
       "33. '31_The_tidyr_Package.ipynb'\n",
       "34. '32_K_Nearest_Neighbors.ipynb'\n",
       "35. '33_Machine_Learning_Project.ipynb'\n",
       "36. '34_Artificial_Neural_Networks.ipynb'\n",
       "37. '35_Bayesian_Networks.ipynb'\n",
       "38. '36_K_Means_Clustering.ipynb'\n",
       "39. '37_Support_Vector_Machines.ipynb'\n",
       "40. '38_MNIST_Machine_Learning.ipynb'\n",
       "41. '39_Monte_Carlo_Simulation.ipynb'\n",
       "42. '40_Debugging_Performance.ipynb'\n",
       "43. '41_The_plotly_Package.ipynb'\n",
       "44. 'data'\n",
       "45. 'gapminder.ipynb'\n",
       "46. 'images'\n",
       "47. 'index.ipynb'\n",
       "48. 'My R Course'\n",
       "49. 'my.RData'\n",
       "50. 'scripts'\n",
       "51. 'Untitled.ipynb'\n",
       "\n",
       "\n"
      ],
      "text/plain": [
       " [1] \"00_WA2711.ipynb\"                           \n",
       " [2] \"01_Starter_Demos.ipynb\"                    \n",
       " [3] \"02_Simple_R_Syntax.ipynb\"                  \n",
       " [4] \"03_Atomic_Classes.ipynb\"                   \n",
       " [5] \"04_Control_Structures.ipynb\"               \n",
       " [6] \"05_The_Base_Plotting_System.ipynb\"         \n",
       " [7] \"06_Vectors.ipynb\"                          \n",
       " [8] \"07_The_plotrix_Graphics_Package.ipynb\"     \n",
       " [9] \"08_Lists.ipynb\"                            \n",
       "[10] \"09_Factors.ipynb\"                          \n",
       "[11] \"10_Base_R_Sample_Datasets.ipynb\"           \n",
       "[12] \"11_Attributes.ipynb\"                       \n",
       "[13] \"12_Data_Frames.ipynb\"                      \n",
       "[14] \"13_Date_Time.ipynb\"                        \n",
       "[15] \"14_Manipulating_Data.ipynb\"                \n",
       "[16] \"15_Algorithms.ipynb\"                       \n",
       "[17] \"16_Xxx.ipynb\"                              \n",
       "[18] \"17_Linear_Algebra.ipynb\"                   \n",
       "[19] \"18_Probability_Distributions.ipynb\"        \n",
       "[20] \"19_Statistical_Probability_Functions.ipynb\"\n",
       "[21] \"20_Matrices.ipynb\"                         \n",
       "[22] \"21_Functions.ipynb\"                        \n",
       "[23] \"22_Logistic_Regression.ipynb\"              \n",
       "[24] \"23_Linear_Regression.ipynb\"                \n",
       "[25] \"23b_Linear_Regression.ipynb\"               \n",
       "[26] \"24_Regression_Correlation.ipynb\"           \n",
       "[27] \"25_Object_Oriented_Programming.ipynb\"      \n",
       "[28] \"26_The_ggplot2_Package.ipynb\"              \n",
       "[29] \"27_Calculus.ipynb\"                         \n",
       "[30] \"28_The_dplyr_Package.ipynb\"                \n",
       "[31] \"29_The_tibble_Package.ipynb\"               \n",
       "[32] \"30_The_readr_Package.ipynb\"                \n",
       "[33] \"31_The_tidyr_Package.ipynb\"                \n",
       "[34] \"32_K_Nearest_Neighbors.ipynb\"              \n",
       "[35] \"33_Machine_Learning_Project.ipynb\"         \n",
       "[36] \"34_Artificial_Neural_Networks.ipynb\"       \n",
       "[37] \"35_Bayesian_Networks.ipynb\"                \n",
       "[38] \"36_K_Means_Clustering.ipynb\"               \n",
       "[39] \"37_Support_Vector_Machines.ipynb\"          \n",
       "[40] \"38_MNIST_Machine_Learning.ipynb\"           \n",
       "[41] \"39_Monte_Carlo_Simulation.ipynb\"           \n",
       "[42] \"40_Debugging_Performance.ipynb\"            \n",
       "[43] \"41_The_plotly_Package.ipynb\"               \n",
       "[44] \"data\"                                      \n",
       "[45] \"gapminder.ipynb\"                           \n",
       "[46] \"images\"                                    \n",
       "[47] \"index.ipynb\"                               \n",
       "[48] \"My R Course\"                               \n",
       "[49] \"my.RData\"                                  \n",
       "[50] \"scripts\"                                   \n",
       "[51] \"Untitled.ipynb\"                            "
      ]
     },
     "metadata": {},
     "output_type": "display_data"
    }
   ],
   "source": [
    "saveDir <- getwd()\n",
    "setwd(\"..\")\n",
    "getwd()\n",
    "list.files()\n",
    "setwd(saveDir)\n",
    "getwd()\n",
    "list.files()"
   ]
  },
  {
   "cell_type": "markdown",
   "metadata": {},
   "source": [
    "## The R Home Directory"
   ]
  },
  {
   "cell_type": "code",
   "execution_count": 38,
   "metadata": {},
   "outputs": [
    {
     "data": {
      "text/html": [
       "'C:/Users/peterthor/Anaconda3/lib/R'"
      ],
      "text/latex": [
       "'C:/Users/peterthor/Anaconda3/lib/R'"
      ],
      "text/markdown": [
       "'C:/Users/peterthor/Anaconda3/lib/R'"
      ],
      "text/plain": [
       "[1] \"C:/Users/peterthor/Anaconda3/lib/R\""
      ]
     },
     "metadata": {},
     "output_type": "display_data"
    }
   ],
   "source": [
    "R.home()"
   ]
  },
  {
   "cell_type": "markdown",
   "metadata": {},
   "source": [
    "## Loading External R commands"
   ]
  },
  {
   "cell_type": "code",
   "execution_count": 39,
   "metadata": {},
   "outputs": [],
   "source": [
    "help('source')"
   ]
  },
  {
   "cell_type": "markdown",
   "metadata": {},
   "source": [
    "## Listing Objects in Workspace\n",
    "- ```objects()```\n",
    "- ```ls()```"
   ]
  },
  {
   "cell_type": "code",
   "execution_count": 40,
   "metadata": {},
   "outputs": [
    {
     "data": {
      "text/html": [
       "<ol class=list-inline>\n",
       "\t<li>'a'</li>\n",
       "\t<li>'b'</li>\n",
       "\t<li>'c'</li>\n",
       "\t<li>'d'</li>\n",
       "\t<li>'df'</li>\n",
       "\t<li>'el'</li>\n",
       "\t<li>'f'</li>\n",
       "\t<li>'fun'</li>\n",
       "\t<li>'i'</li>\n",
       "\t<li>'j'</li>\n",
       "\t<li>'l'</li>\n",
       "\t<li>'m'</li>\n",
       "\t<li>'max'</li>\n",
       "\t<li>'myFunction'</li>\n",
       "\t<li>'saveDir'</li>\n",
       "\t<li>'sumvec'</li>\n",
       "\t<li>'v'</li>\n",
       "\t<li>'v1'</li>\n",
       "\t<li>'v2'</li>\n",
       "\t<li>'vec'</li>\n",
       "\t<li>'x'</li>\n",
       "\t<li>'y'</li>\n",
       "</ol>\n"
      ],
      "text/latex": [
       "\\begin{enumerate*}\n",
       "\\item 'a'\n",
       "\\item 'b'\n",
       "\\item 'c'\n",
       "\\item 'd'\n",
       "\\item 'df'\n",
       "\\item 'el'\n",
       "\\item 'f'\n",
       "\\item 'fun'\n",
       "\\item 'i'\n",
       "\\item 'j'\n",
       "\\item 'l'\n",
       "\\item 'm'\n",
       "\\item 'max'\n",
       "\\item 'myFunction'\n",
       "\\item 'saveDir'\n",
       "\\item 'sumvec'\n",
       "\\item 'v'\n",
       "\\item 'v1'\n",
       "\\item 'v2'\n",
       "\\item 'vec'\n",
       "\\item 'x'\n",
       "\\item 'y'\n",
       "\\end{enumerate*}\n"
      ],
      "text/markdown": [
       "1. 'a'\n",
       "2. 'b'\n",
       "3. 'c'\n",
       "4. 'd'\n",
       "5. 'df'\n",
       "6. 'el'\n",
       "7. 'f'\n",
       "8. 'fun'\n",
       "9. 'i'\n",
       "10. 'j'\n",
       "11. 'l'\n",
       "12. 'm'\n",
       "13. 'max'\n",
       "14. 'myFunction'\n",
       "15. 'saveDir'\n",
       "16. 'sumvec'\n",
       "17. 'v'\n",
       "18. 'v1'\n",
       "19. 'v2'\n",
       "20. 'vec'\n",
       "21. 'x'\n",
       "22. 'y'\n",
       "\n",
       "\n"
      ],
      "text/plain": [
       " [1] \"a\"          \"b\"          \"c\"          \"d\"          \"df\"        \n",
       " [6] \"el\"         \"f\"          \"fun\"        \"i\"          \"j\"         \n",
       "[11] \"l\"          \"m\"          \"max\"        \"myFunction\" \"saveDir\"   \n",
       "[16] \"sumvec\"     \"v\"          \"v1\"         \"v2\"         \"vec\"       \n",
       "[21] \"x\"          \"y\"         "
      ]
     },
     "metadata": {},
     "output_type": "display_data"
    }
   ],
   "source": [
    "objects()"
   ]
  },
  {
   "cell_type": "code",
   "execution_count": 41,
   "metadata": {},
   "outputs": [
    {
     "data": {
      "text/html": [
       "<ol class=list-inline>\n",
       "\t<li>'a'</li>\n",
       "\t<li>'b'</li>\n",
       "\t<li>'c'</li>\n",
       "\t<li>'d'</li>\n",
       "\t<li>'df'</li>\n",
       "\t<li>'el'</li>\n",
       "\t<li>'f'</li>\n",
       "\t<li>'fun'</li>\n",
       "\t<li>'i'</li>\n",
       "\t<li>'j'</li>\n",
       "\t<li>'l'</li>\n",
       "\t<li>'m'</li>\n",
       "\t<li>'max'</li>\n",
       "\t<li>'myFunction'</li>\n",
       "\t<li>'saveDir'</li>\n",
       "\t<li>'sumvec'</li>\n",
       "\t<li>'v'</li>\n",
       "\t<li>'v1'</li>\n",
       "\t<li>'v2'</li>\n",
       "\t<li>'vec'</li>\n",
       "\t<li>'x'</li>\n",
       "\t<li>'y'</li>\n",
       "</ol>\n"
      ],
      "text/latex": [
       "\\begin{enumerate*}\n",
       "\\item 'a'\n",
       "\\item 'b'\n",
       "\\item 'c'\n",
       "\\item 'd'\n",
       "\\item 'df'\n",
       "\\item 'el'\n",
       "\\item 'f'\n",
       "\\item 'fun'\n",
       "\\item 'i'\n",
       "\\item 'j'\n",
       "\\item 'l'\n",
       "\\item 'm'\n",
       "\\item 'max'\n",
       "\\item 'myFunction'\n",
       "\\item 'saveDir'\n",
       "\\item 'sumvec'\n",
       "\\item 'v'\n",
       "\\item 'v1'\n",
       "\\item 'v2'\n",
       "\\item 'vec'\n",
       "\\item 'x'\n",
       "\\item 'y'\n",
       "\\end{enumerate*}\n"
      ],
      "text/markdown": [
       "1. 'a'\n",
       "2. 'b'\n",
       "3. 'c'\n",
       "4. 'd'\n",
       "5. 'df'\n",
       "6. 'el'\n",
       "7. 'f'\n",
       "8. 'fun'\n",
       "9. 'i'\n",
       "10. 'j'\n",
       "11. 'l'\n",
       "12. 'm'\n",
       "13. 'max'\n",
       "14. 'myFunction'\n",
       "15. 'saveDir'\n",
       "16. 'sumvec'\n",
       "17. 'v'\n",
       "18. 'v1'\n",
       "19. 'v2'\n",
       "20. 'vec'\n",
       "21. 'x'\n",
       "22. 'y'\n",
       "\n",
       "\n"
      ],
      "text/plain": [
       " [1] \"a\"          \"b\"          \"c\"          \"d\"          \"df\"        \n",
       " [6] \"el\"         \"f\"          \"fun\"        \"i\"          \"j\"         \n",
       "[11] \"l\"          \"m\"          \"max\"        \"myFunction\" \"saveDir\"   \n",
       "[16] \"sumvec\"     \"v\"          \"v1\"         \"v2\"         \"vec\"       \n",
       "[21] \"x\"          \"y\"         "
      ]
     },
     "metadata": {},
     "output_type": "display_data"
    }
   ],
   "source": [
    "ls()"
   ]
  },
  {
   "cell_type": "markdown",
   "metadata": {},
   "source": [
    "## Removing Objects in Workspace"
   ]
  },
  {
   "cell_type": "code",
   "execution_count": 42,
   "metadata": {},
   "outputs": [
    {
     "data": {
      "text/html": [
       "<ol class=list-inline>\n",
       "\t<li>'a'</li>\n",
       "\t<li>'b'</li>\n",
       "\t<li>'c'</li>\n",
       "\t<li>'d'</li>\n",
       "\t<li>'df'</li>\n",
       "\t<li>'el'</li>\n",
       "\t<li>'f'</li>\n",
       "\t<li>'fun'</li>\n",
       "\t<li>'i'</li>\n",
       "\t<li>'j'</li>\n",
       "\t<li>'l'</li>\n",
       "\t<li>'m'</li>\n",
       "\t<li>'max'</li>\n",
       "\t<li>'myFunction'</li>\n",
       "\t<li>'saveDir'</li>\n",
       "\t<li>'sumvec'</li>\n",
       "\t<li>'v'</li>\n",
       "\t<li>'v1'</li>\n",
       "\t<li>'v2'</li>\n",
       "\t<li>'vec'</li>\n",
       "\t<li>'x'</li>\n",
       "\t<li>'y'</li>\n",
       "\t<li>'zzz1'</li>\n",
       "\t<li>'zzz2'</li>\n",
       "</ol>\n"
      ],
      "text/latex": [
       "\\begin{enumerate*}\n",
       "\\item 'a'\n",
       "\\item 'b'\n",
       "\\item 'c'\n",
       "\\item 'd'\n",
       "\\item 'df'\n",
       "\\item 'el'\n",
       "\\item 'f'\n",
       "\\item 'fun'\n",
       "\\item 'i'\n",
       "\\item 'j'\n",
       "\\item 'l'\n",
       "\\item 'm'\n",
       "\\item 'max'\n",
       "\\item 'myFunction'\n",
       "\\item 'saveDir'\n",
       "\\item 'sumvec'\n",
       "\\item 'v'\n",
       "\\item 'v1'\n",
       "\\item 'v2'\n",
       "\\item 'vec'\n",
       "\\item 'x'\n",
       "\\item 'y'\n",
       "\\item 'zzz1'\n",
       "\\item 'zzz2'\n",
       "\\end{enumerate*}\n"
      ],
      "text/markdown": [
       "1. 'a'\n",
       "2. 'b'\n",
       "3. 'c'\n",
       "4. 'd'\n",
       "5. 'df'\n",
       "6. 'el'\n",
       "7. 'f'\n",
       "8. 'fun'\n",
       "9. 'i'\n",
       "10. 'j'\n",
       "11. 'l'\n",
       "12. 'm'\n",
       "13. 'max'\n",
       "14. 'myFunction'\n",
       "15. 'saveDir'\n",
       "16. 'sumvec'\n",
       "17. 'v'\n",
       "18. 'v1'\n",
       "19. 'v2'\n",
       "20. 'vec'\n",
       "21. 'x'\n",
       "22. 'y'\n",
       "23. 'zzz1'\n",
       "24. 'zzz2'\n",
       "\n",
       "\n"
      ],
      "text/plain": [
       " [1] \"a\"          \"b\"          \"c\"          \"d\"          \"df\"        \n",
       " [6] \"el\"         \"f\"          \"fun\"        \"i\"          \"j\"         \n",
       "[11] \"l\"          \"m\"          \"max\"        \"myFunction\" \"saveDir\"   \n",
       "[16] \"sumvec\"     \"v\"          \"v1\"         \"v2\"         \"vec\"       \n",
       "[21] \"x\"          \"y\"          \"zzz1\"       \"zzz2\"      "
      ]
     },
     "metadata": {},
     "output_type": "display_data"
    },
    {
     "data": {
      "text/html": [
       "<ol class=list-inline>\n",
       "\t<li>'a'</li>\n",
       "\t<li>'b'</li>\n",
       "\t<li>'c'</li>\n",
       "\t<li>'d'</li>\n",
       "\t<li>'df'</li>\n",
       "\t<li>'el'</li>\n",
       "\t<li>'f'</li>\n",
       "\t<li>'fun'</li>\n",
       "\t<li>'i'</li>\n",
       "\t<li>'j'</li>\n",
       "\t<li>'l'</li>\n",
       "\t<li>'m'</li>\n",
       "\t<li>'max'</li>\n",
       "\t<li>'myFunction'</li>\n",
       "\t<li>'saveDir'</li>\n",
       "\t<li>'sumvec'</li>\n",
       "\t<li>'v'</li>\n",
       "\t<li>'v1'</li>\n",
       "\t<li>'v2'</li>\n",
       "\t<li>'vec'</li>\n",
       "\t<li>'x'</li>\n",
       "\t<li>'y'</li>\n",
       "</ol>\n"
      ],
      "text/latex": [
       "\\begin{enumerate*}\n",
       "\\item 'a'\n",
       "\\item 'b'\n",
       "\\item 'c'\n",
       "\\item 'd'\n",
       "\\item 'df'\n",
       "\\item 'el'\n",
       "\\item 'f'\n",
       "\\item 'fun'\n",
       "\\item 'i'\n",
       "\\item 'j'\n",
       "\\item 'l'\n",
       "\\item 'm'\n",
       "\\item 'max'\n",
       "\\item 'myFunction'\n",
       "\\item 'saveDir'\n",
       "\\item 'sumvec'\n",
       "\\item 'v'\n",
       "\\item 'v1'\n",
       "\\item 'v2'\n",
       "\\item 'vec'\n",
       "\\item 'x'\n",
       "\\item 'y'\n",
       "\\end{enumerate*}\n"
      ],
      "text/markdown": [
       "1. 'a'\n",
       "2. 'b'\n",
       "3. 'c'\n",
       "4. 'd'\n",
       "5. 'df'\n",
       "6. 'el'\n",
       "7. 'f'\n",
       "8. 'fun'\n",
       "9. 'i'\n",
       "10. 'j'\n",
       "11. 'l'\n",
       "12. 'm'\n",
       "13. 'max'\n",
       "14. 'myFunction'\n",
       "15. 'saveDir'\n",
       "16. 'sumvec'\n",
       "17. 'v'\n",
       "18. 'v1'\n",
       "19. 'v2'\n",
       "20. 'vec'\n",
       "21. 'x'\n",
       "22. 'y'\n",
       "\n",
       "\n"
      ],
      "text/plain": [
       " [1] \"a\"          \"b\"          \"c\"          \"d\"          \"df\"        \n",
       " [6] \"el\"         \"f\"          \"fun\"        \"i\"          \"j\"         \n",
       "[11] \"l\"          \"m\"          \"max\"        \"myFunction\" \"saveDir\"   \n",
       "[16] \"sumvec\"     \"v\"          \"v1\"         \"v2\"         \"vec\"       \n",
       "[21] \"x\"          \"y\"         "
      ]
     },
     "metadata": {},
     "output_type": "display_data"
    },
    {
     "data": {
      "text/html": [],
      "text/latex": [],
      "text/markdown": [],
      "text/plain": [
       "character(0)"
      ]
     },
     "metadata": {},
     "output_type": "display_data"
    },
    {
     "data": {
      "text/html": [
       "<ol class=list-inline>\n",
       "\t<li>'.pbd_env'</li>\n",
       "\t<li>'.Random.seed'</li>\n",
       "</ol>\n"
      ],
      "text/latex": [
       "\\begin{enumerate*}\n",
       "\\item '.pbd\\_env'\n",
       "\\item '.Random.seed'\n",
       "\\end{enumerate*}\n"
      ],
      "text/markdown": [
       "1. '.pbd_env'\n",
       "2. '.Random.seed'\n",
       "\n",
       "\n"
      ],
      "text/plain": [
       "[1] \".pbd_env\"     \".Random.seed\""
      ]
     },
     "metadata": {},
     "output_type": "display_data"
    }
   ],
   "source": [
    "zzz1 <- 1\n",
    "zzz2 <- 2\n",
    "ls()\n",
    "rm(zzz1, zzz2)\n",
    "ls()\n",
    "rm(list=ls()) # remove all objects that are not hidden objects (.)\n",
    "ls()\n",
    "ls(all.names=TRUE) # list all objects including hidden objects (.)"
   ]
  },
  {
   "cell_type": "markdown",
   "metadata": {},
   "source": [
    "## Saving and Loading Workspace\n",
    "\n",
    "- save(…, file)  # Save list of objects in current session to .RData file\n",
    "- save.image(file) # save all objects in current session to .RData file \n",
    "- load(file)       # load objects from .RData file into current session"
   ]
  },
  {
   "cell_type": "code",
   "execution_count": 43,
   "metadata": {},
   "outputs": [
    {
     "data": {
      "text/html": [
       "FALSE"
      ],
      "text/latex": [
       "FALSE"
      ],
      "text/markdown": [
       "FALSE"
      ],
      "text/plain": [
       "[1] FALSE"
      ]
     },
     "metadata": {},
     "output_type": "display_data"
    },
    {
     "data": {
      "text/html": [
       "TRUE"
      ],
      "text/latex": [
       "TRUE"
      ],
      "text/markdown": [
       "TRUE"
      ],
      "text/plain": [
       "[1] TRUE"
      ]
     },
     "metadata": {},
     "output_type": "display_data"
    },
    {
     "data": {
      "text/html": [
       "FALSE"
      ],
      "text/latex": [
       "FALSE"
      ],
      "text/markdown": [
       "FALSE"
      ],
      "text/plain": [
       "[1] FALSE"
      ]
     },
     "metadata": {},
     "output_type": "display_data"
    },
    {
     "data": {
      "text/html": [
       "TRUE"
      ],
      "text/latex": [
       "TRUE"
      ],
      "text/markdown": [
       "TRUE"
      ],
      "text/plain": [
       "[1] TRUE"
      ]
     },
     "metadata": {},
     "output_type": "display_data"
    }
   ],
   "source": [
    "x <- 3\n",
    "rm(x)\n",
    "exists(\"x\")\n",
    "x <- 3; y <- 4\n",
    "exists(\"x\")\n",
    "save(x, file=\"my.RData\")\n",
    "rm(x)\n",
    "exists(\"x\")\n",
    "load(\"my.RData\")\n",
    "exists(\"x\")"
   ]
  },
  {
   "cell_type": "markdown",
   "metadata": {},
   "source": [
    "## Diverting Output to File\n",
    "\n",
    "- sink(\"file\") # set path to file output\n",
    "- sink() # revert back to console output"
   ]
  },
  {
   "cell_type": "markdown",
   "metadata": {},
   "source": [
    "## Formatting Date and Time"
   ]
  },
  {
   "cell_type": "code",
   "execution_count": 44,
   "metadata": {},
   "outputs": [
    {
     "data": {
      "text/html": [
       "'19:56:00'"
      ],
      "text/latex": [
       "'19:56:00'"
      ],
      "text/markdown": [
       "'19:56:00'"
      ],
      "text/plain": [
       "[1] \"19:56:00\""
      ]
     },
     "metadata": {},
     "output_type": "display_data"
    },
    {
     "name": "stdout",
     "output_type": "stream",
     "text": [
      "[1] \"19:56:00\"\n"
     ]
    }
   ],
   "source": [
    "nowIs <- format(Sys.time(), \"%H:%M:%S\")\n",
    "nowIs\n",
    "print(nowIs)"
   ]
  },
  {
   "cell_type": "code",
   "execution_count": 45,
   "metadata": {},
   "outputs": [],
   "source": [
    "help('strptime')"
   ]
  },
  {
   "cell_type": "markdown",
   "metadata": {},
   "source": [
    "## Using the mode() Function"
   ]
  },
  {
   "cell_type": "code",
   "execution_count": 46,
   "metadata": {},
   "outputs": [
    {
     "data": {
      "text/html": [
       "'numeric'"
      ],
      "text/latex": [
       "'numeric'"
      ],
      "text/markdown": [
       "'numeric'"
      ],
      "text/plain": [
       "[1] \"numeric\""
      ]
     },
     "metadata": {},
     "output_type": "display_data"
    },
    {
     "data": {
      "text/html": [
       "'character'"
      ],
      "text/latex": [
       "'character'"
      ],
      "text/markdown": [
       "'character'"
      ],
      "text/plain": [
       "[1] \"character\""
      ]
     },
     "metadata": {},
     "output_type": "display_data"
    },
    {
     "data": {
      "text/html": [
       "'logical'"
      ],
      "text/latex": [
       "'logical'"
      ],
      "text/markdown": [
       "'logical'"
      ],
      "text/plain": [
       "[1] \"logical\""
      ]
     },
     "metadata": {},
     "output_type": "display_data"
    },
    {
     "data": {
      "text/html": [
       "'logical'"
      ],
      "text/latex": [
       "'logical'"
      ],
      "text/markdown": [
       "'logical'"
      ],
      "text/plain": [
       "[1] \"logical\""
      ]
     },
     "metadata": {},
     "output_type": "display_data"
    },
    {
     "data": {
      "text/html": [
       "'logical'"
      ],
      "text/latex": [
       "'logical'"
      ],
      "text/markdown": [
       "'logical'"
      ],
      "text/plain": [
       "[1] \"logical\""
      ]
     },
     "metadata": {},
     "output_type": "display_data"
    }
   ],
   "source": [
    "mode(123)\n",
    "mode('xyz')\n",
    "mode(TRUE)\n",
    "mode(F)\n",
    "mode(1>2)"
   ]
  },
  {
   "cell_type": "markdown",
   "metadata": {},
   "source": [
    "## Logical Vectors"
   ]
  },
  {
   "cell_type": "code",
   "execution_count": 47,
   "metadata": {},
   "outputs": [
    {
     "name": "stdout",
     "output_type": "stream",
     "text": [
      "[1] FALSE FALSE  TRUE  TRUE  TRUE\n",
      "[1] FALSE  TRUE  TRUE FALSE\n"
     ]
    }
   ],
   "source": [
    "print(c(10, 11, 12, 12, 14) >= 12) # FALSE FALSE  TRUE  TRUE  TRUE\n",
    "print(c(1>2, 2>1, 1==1, 1==2))     # FALSE  TRUE  TRUE FALSE"
   ]
  },
  {
   "cell_type": "markdown",
   "metadata": {},
   "source": [
    "## Character Vectors"
   ]
  },
  {
   "cell_type": "code",
   "execution_count": 48,
   "metadata": {},
   "outputs": [
    {
     "data": {
      "text/html": [
       "<ol class=list-inline>\n",
       "\t<li>'Hello'</li>\n",
       "\t<li>'Hello'</li>\n",
       "\t<li>'Hello'</li>\n",
       "</ol>\n"
      ],
      "text/latex": [
       "\\begin{enumerate*}\n",
       "\\item 'Hello'\n",
       "\\item 'Hello'\n",
       "\\item 'Hello'\n",
       "\\end{enumerate*}\n"
      ],
      "text/markdown": [
       "1. 'Hello'\n",
       "2. 'Hello'\n",
       "3. 'Hello'\n",
       "\n",
       "\n"
      ],
      "text/plain": [
       "[1] \"Hello\" \"Hello\" \"Hello\""
      ]
     },
     "metadata": {},
     "output_type": "display_data"
    },
    {
     "data": {
      "text/html": [
       "'character'"
      ],
      "text/latex": [
       "'character'"
      ],
      "text/markdown": [
       "'character'"
      ],
      "text/plain": [
       "[1] \"character\""
      ]
     },
     "metadata": {},
     "output_type": "display_data"
    }
   ],
   "source": [
    "rep('Hello', 3)        # 'Hello' 'Hello' 'Hello'\n",
    "class(rep('Hello', 3)) # 'character'"
   ]
  },
  {
   "cell_type": "markdown",
   "metadata": {},
   "source": [
    "## Factorization"
   ]
  },
  {
   "cell_type": "code",
   "execution_count": 49,
   "metadata": {},
   "outputs": [
    {
     "name": "stdout",
     "output_type": "stream",
     "text": [
      "[1] 1 2 1 1 2 2 3 4 1\n",
      "Levels: 1 2 3 4\n"
     ]
    }
   ],
   "source": [
    "v <- c(1, 2, 1, 1, 2, 2, 3, 4, 1)\n",
    "print(factor(v))"
   ]
  },
  {
   "cell_type": "markdown",
   "metadata": {},
   "source": [
    "## Multi-Mode Vectors"
   ]
  },
  {
   "cell_type": "code",
   "execution_count": 50,
   "metadata": {},
   "outputs": [
    {
     "name": "stdout",
     "output_type": "stream",
     "text": [
      "[1] \"I told you a \" \"1000\"          \"times\"         \"TRUE\"         \n"
     ]
    },
    {
     "data": {
      "text/html": [
       "'character'"
      ],
      "text/latex": [
       "'character'"
      ],
      "text/markdown": [
       "'character'"
      ],
      "text/plain": [
       "[1] \"character\""
      ]
     },
     "metadata": {},
     "output_type": "display_data"
    },
    {
     "name": "stdout",
     "output_type": "stream",
     "text": [
      "[1] 0 1 2 3\n"
     ]
    },
    {
     "data": {
      "text/html": [
       "'numeric'"
      ],
      "text/latex": [
       "'numeric'"
      ],
      "text/markdown": [
       "'numeric'"
      ],
      "text/plain": [
       "[1] \"numeric\""
      ]
     },
     "metadata": {},
     "output_type": "display_data"
    },
    {
     "data": {
      "text/html": [
       "<ol class=list-inline>\n",
       "\t<li>0</li>\n",
       "\t<li>1</li>\n",
       "\t<li>2</li>\n",
       "\t<li>3</li>\n",
       "\t<li>&lt;NA&gt;</li>\n",
       "\t<li>5</li>\n",
       "</ol>\n"
      ],
      "text/latex": [
       "\\begin{enumerate*}\n",
       "\\item 0\n",
       "\\item 1\n",
       "\\item 2\n",
       "\\item 3\n",
       "\\item <NA>\n",
       "\\item 5\n",
       "\\end{enumerate*}\n"
      ],
      "text/markdown": [
       "1. 0\n",
       "2. 1\n",
       "3. 2\n",
       "4. 3\n",
       "5. &lt;NA&gt;\n",
       "6. 5\n",
       "\n",
       "\n"
      ],
      "text/plain": [
       "[1]  0  1  2  3 NA  5"
      ]
     },
     "metadata": {},
     "output_type": "display_data"
    }
   ],
   "source": [
    "v <- c(\"I told you a \", 1000, 'times', TRUE) # 1000 -> '1000'\n",
    "print(v)\n",
    "mode(v)\n",
    "\n",
    "v <- c(F, T, 2, 3) # FALSE -> 0, TRUE -> 1,\n",
    "print(v)\n",
    "mode(v)\n",
    "\n",
    "(c(0,1,2,3,NA,5))"
   ]
  },
  {
   "cell_type": "markdown",
   "metadata": {},
   "source": [
    "## The Length of a Vector"
   ]
  },
  {
   "cell_type": "code",
   "execution_count": 51,
   "metadata": {},
   "outputs": [
    {
     "data": {
      "text/html": [
       "3"
      ],
      "text/latex": [
       "3"
      ],
      "text/markdown": [
       "3"
      ],
      "text/plain": [
       "[1] 3"
      ]
     },
     "metadata": {},
     "output_type": "display_data"
    }
   ],
   "source": [
    "length(c(1,2,3))"
   ]
  },
  {
   "cell_type": "markdown",
   "metadata": {},
   "source": [
    "## Getting Vector Elements"
   ]
  },
  {
   "cell_type": "code",
   "execution_count": 52,
   "metadata": {},
   "outputs": [
    {
     "data": {
      "text/html": [
       "<ol class=list-inline>\n",
       "\t<li>1</li>\n",
       "\t<li>2</li>\n",
       "\t<li>3</li>\n",
       "\t<li>4</li>\n",
       "\t<li>5</li>\n",
       "</ol>\n"
      ],
      "text/latex": [
       "\\begin{enumerate*}\n",
       "\\item 1\n",
       "\\item 2\n",
       "\\item 3\n",
       "\\item 4\n",
       "\\item 5\n",
       "\\end{enumerate*}\n"
      ],
      "text/markdown": [
       "1. 1\n",
       "2. 2\n",
       "3. 3\n",
       "4. 4\n",
       "5. 5\n",
       "\n",
       "\n"
      ],
      "text/plain": [
       "[1] 1 2 3 4 5"
      ]
     },
     "metadata": {},
     "output_type": "display_data"
    },
    {
     "data": {
      "text/html": [
       "2"
      ],
      "text/latex": [
       "2"
      ],
      "text/markdown": [
       "2"
      ],
      "text/plain": [
       "[1] 2"
      ]
     },
     "metadata": {},
     "output_type": "display_data"
    },
    {
     "data": {
      "text/html": [
       "<ol class=list-inline>\n",
       "\t<li>2</li>\n",
       "\t<li>4</li>\n",
       "</ol>\n"
      ],
      "text/latex": [
       "\\begin{enumerate*}\n",
       "\\item 2\n",
       "\\item 4\n",
       "\\end{enumerate*}\n"
      ],
      "text/markdown": [
       "1. 2\n",
       "2. 4\n",
       "\n",
       "\n"
      ],
      "text/plain": [
       "[1] 2 4"
      ]
     },
     "metadata": {},
     "output_type": "display_data"
    },
    {
     "data": {
      "text/html": [
       "<ol class=list-inline>\n",
       "\t<li>1</li>\n",
       "\t<li>3</li>\n",
       "\t<li>5</li>\n",
       "</ol>\n"
      ],
      "text/latex": [
       "\\begin{enumerate*}\n",
       "\\item 1\n",
       "\\item 3\n",
       "\\item 5\n",
       "\\end{enumerate*}\n"
      ],
      "text/markdown": [
       "1. 1\n",
       "2. 3\n",
       "3. 5\n",
       "\n",
       "\n"
      ],
      "text/plain": [
       "[1] 1 3 5"
      ]
     },
     "metadata": {},
     "output_type": "display_data"
    },
    {
     "data": {
      "text/html": [
       "<ol class=list-inline>\n",
       "\t<li>2</li>\n",
       "\t<li>3</li>\n",
       "</ol>\n"
      ],
      "text/latex": [
       "\\begin{enumerate*}\n",
       "\\item 2\n",
       "\\item 3\n",
       "\\end{enumerate*}\n"
      ],
      "text/markdown": [
       "1. 2\n",
       "2. 3\n",
       "\n",
       "\n"
      ],
      "text/plain": [
       "[1] 2 3"
      ]
     },
     "metadata": {},
     "output_type": "display_data"
    },
    {
     "data": {
      "text/html": [
       "<ol class=list-inline>\n",
       "\t<li>1</li>\n",
       "\t<li>4</li>\n",
       "\t<li>5</li>\n",
       "</ol>\n"
      ],
      "text/latex": [
       "\\begin{enumerate*}\n",
       "\\item 1\n",
       "\\item 4\n",
       "\\item 5\n",
       "\\end{enumerate*}\n"
      ],
      "text/markdown": [
       "1. 1\n",
       "2. 4\n",
       "3. 5\n",
       "\n",
       "\n"
      ],
      "text/plain": [
       "[1] 1 4 5"
      ]
     },
     "metadata": {},
     "output_type": "display_data"
    }
   ],
   "source": [
    "(1:5)             # 1 2 3 4 5\n",
    "((1:5)[2])        # 2\n",
    "((1:5)[c(2,4)])   # 2 4\n",
    "((1:5)[c(-2,-4)]) # 1 3 5\n",
    "((1:5)[2:3])      # 2 3\n",
    "((1:5)[-2:-3])    # 1 4 5"
   ]
  },
  {
   "cell_type": "markdown",
   "metadata": {},
   "source": [
    "## Lists"
   ]
  },
  {
   "cell_type": "code",
   "execution_count": 53,
   "metadata": {},
   "outputs": [
    {
     "name": "stdout",
     "output_type": "stream",
     "text": [
      "[[1]]\n",
      "[1] 1 2 3\n",
      "\n",
      "[[2]]\n",
      "[1] 10 20\n",
      "\n"
     ]
    }
   ],
   "source": [
    "print(list((1:3), c(10,20)))"
   ]
  },
  {
   "cell_type": "code",
   "execution_count": 54,
   "metadata": {},
   "outputs": [
    {
     "name": "stdout",
     "output_type": "stream",
     "text": [
      "[[1]]\n",
      "[1] 1 2 3\n",
      "\n",
      "[[2]]\n",
      "[1] 10 20\n",
      "\n",
      "\n",
      "[[1]]\n",
      "[1] 1 2 3\n",
      "\n",
      "\n",
      "[1] 1 2 3\n"
     ]
    }
   ],
   "source": [
    "l <- list((1:3), c(10,20))\n",
    "print(l)\n",
    "cat('\\n')\n",
    "print(l[1])\n",
    "cat('\\n')\n",
    "print(l[[1]])"
   ]
  },
  {
   "cell_type": "markdown",
   "metadata": {
    "collapsed": true
   },
   "source": [
    "## A List with Element Names"
   ]
  },
  {
   "cell_type": "code",
   "execution_count": 55,
   "metadata": {},
   "outputs": [
    {
     "name": "stdout",
     "output_type": "stream",
     "text": [
      "$Jan_Sales_By_Region\n",
      "[1] 1 2 3 4 5\n",
      "\n",
      "$Feb_Sales_By_Region\n",
      "[1] 3 4 5 6 7\n",
      "\n",
      "$Mar_Sales_By_Region\n",
      "[1] 2 3 4 5 6\n",
      "\n"
     ]
    },
    {
     "data": {
      "text/html": [
       "<ol class=list-inline>\n",
       "\t<li>1</li>\n",
       "\t<li>2</li>\n",
       "\t<li>3</li>\n",
       "\t<li>4</li>\n",
       "\t<li>5</li>\n",
       "</ol>\n"
      ],
      "text/latex": [
       "\\begin{enumerate*}\n",
       "\\item 1\n",
       "\\item 2\n",
       "\\item 3\n",
       "\\item 4\n",
       "\\item 5\n",
       "\\end{enumerate*}\n"
      ],
      "text/markdown": [
       "1. 1\n",
       "2. 2\n",
       "3. 3\n",
       "4. 4\n",
       "5. 5\n",
       "\n",
       "\n"
      ],
      "text/plain": [
       "[1] 1 2 3 4 5"
      ]
     },
     "metadata": {},
     "output_type": "display_data"
    },
    {
     "data": {
      "text/html": [
       "<strong>$Jan_Sales_By_Region</strong> = <ol class=list-inline>\n",
       "\t<li>1</li>\n",
       "\t<li>2</li>\n",
       "\t<li>3</li>\n",
       "\t<li>4</li>\n",
       "\t<li>5</li>\n",
       "</ol>\n"
      ],
      "text/latex": [
       "\\textbf{\\$Jan\\_Sales\\_By\\_Region} = \\begin{enumerate*}\n",
       "\\item 1\n",
       "\\item 2\n",
       "\\item 3\n",
       "\\item 4\n",
       "\\item 5\n",
       "\\end{enumerate*}\n"
      ],
      "text/markdown": [
       "**$Jan_Sales_By_Region** = 1. 1\n",
       "2. 2\n",
       "3. 3\n",
       "4. 4\n",
       "5. 5\n",
       "\n",
       "\n"
      ],
      "text/plain": [
       "$Jan_Sales_By_Region\n",
       "[1] 1 2 3 4 5\n"
      ]
     },
     "metadata": {},
     "output_type": "display_data"
    }
   ],
   "source": [
    "print(sales <- list(\n",
    "    Jan_Sales_By_Region = (1:5),\n",
    "    Feb_Sales_By_Region = (3:7),\n",
    "    Mar_Sales_By_Region = (2:6)))\n",
    "\n",
    "sales$Jan_Sales_By_Region\n",
    "sales[1]"
   ]
  },
  {
   "cell_type": "markdown",
   "metadata": {},
   "source": [
    "## Adding to a List"
   ]
  },
  {
   "cell_type": "code",
   "execution_count": 56,
   "metadata": {},
   "outputs": [
    {
     "data": {
      "text/html": [
       "<ol>\n",
       "\t<li><ol class=list-inline>\n",
       "\t<li>1</li>\n",
       "\t<li>2</li>\n",
       "\t<li>3</li>\n",
       "</ol>\n",
       "</li>\n",
       "\t<li>NULL</li>\n",
       "\t<li><ol class=list-inline>\n",
       "\t<li>11</li>\n",
       "\t<li>12</li>\n",
       "\t<li>13</li>\n",
       "</ol>\n",
       "</li>\n",
       "</ol>\n"
      ],
      "text/latex": [
       "\\begin{enumerate}\n",
       "\\item \\begin{enumerate*}\n",
       "\\item 1\n",
       "\\item 2\n",
       "\\item 3\n",
       "\\end{enumerate*}\n",
       "\n",
       "\\item NULL\n",
       "\\item \\begin{enumerate*}\n",
       "\\item 11\n",
       "\\item 12\n",
       "\\item 13\n",
       "\\end{enumerate*}\n",
       "\n",
       "\\end{enumerate}\n"
      ],
      "text/markdown": [
       "1. 1. 1\n",
       "2. 2\n",
       "3. 3\n",
       "\n",
       "\n",
       "\n",
       "2. NULL\n",
       "3. 1. 11\n",
       "2. 12\n",
       "3. 13\n",
       "\n",
       "\n",
       "\n",
       "\n",
       "\n"
      ],
      "text/plain": [
       "[[1]]\n",
       "[1] 1 2 3\n",
       "\n",
       "[[2]]\n",
       "NULL\n",
       "\n",
       "[[3]]\n",
       "[1] 11 12 13\n"
      ]
     },
     "metadata": {},
     "output_type": "display_data"
    },
    {
     "data": {
      "text/html": [
       "3"
      ],
      "text/latex": [
       "3"
      ],
      "text/markdown": [
       "3"
      ],
      "text/plain": [
       "[1] 3"
      ]
     },
     "metadata": {},
     "output_type": "display_data"
    }
   ],
   "source": [
    "x <- list() # create empty list\n",
    "x[[1]] <- (1:3)   # first element\n",
    "x[[3]] <- (11:13) # 3rd element (skipped 2nd element)\n",
    "x\n",
    "length(x)         # 3"
   ]
  },
  {
   "cell_type": "markdown",
   "metadata": {
    "collapsed": true
   },
   "source": [
    "## Matrix Data Structure\n",
    "\n",
    "- Single mode 2-D collection\n",
    "- Special case of 2-D array\n",
    "- Created using the matrix(data, nrow, ncol, byrow, dimnames) function"
   ]
  },
  {
   "cell_type": "code",
   "execution_count": 57,
   "metadata": {},
   "outputs": [],
   "source": [
    "help(matrix)"
   ]
  },
  {
   "cell_type": "code",
   "execution_count": 58,
   "metadata": {},
   "outputs": [
    {
     "name": "stdout",
     "output_type": "stream",
     "text": [
      "     [,1] [,2] [,3]\n",
      "[1,]    1    2    3\n",
      "[2,]    4    5    6\n"
     ]
    }
   ],
   "source": [
    "print(m <- matrix(1:6, 2, 3, byrow=TRUE))"
   ]
  },
  {
   "cell_type": "code",
   "execution_count": 59,
   "metadata": {},
   "outputs": [
    {
     "name": "stdout",
     "output_type": "stream",
     "text": [
      "     Col1 Col2 Col3\n",
      "Row1   11   12   13\n",
      "Row2   21   22   23\n"
     ]
    }
   ],
   "source": [
    "print(m <- matrix(c(11,12,13,21,22,23), nrow=2, ncol=3,\n",
    "    byrow=TRUE, dimnames = list(\n",
    "        c(\"Row1\", \"Row2\"),\n",
    "        c(\"Col1\", \"Col2\", \"Col3\"))))"
   ]
  },
  {
   "cell_type": "markdown",
   "metadata": {},
   "source": [
    "## Creating Matrices with cbind() and rbind()"
   ]
  },
  {
   "cell_type": "code",
   "execution_count": 60,
   "metadata": {},
   "outputs": [
    {
     "name": "stdout",
     "output_type": "stream",
     "text": [
      "     [,1] [,2] [,3]\n",
      "[1,]    1    5    0\n",
      "[2,]    2    6    0\n",
      "[3,]    3    7    0\n",
      "     [,1] [,2] [,3]\n",
      "[1,]    1    2    3\n",
      "[2,]    5    6    7\n",
      "[3,]    0    0    0\n"
     ]
    }
   ],
   "source": [
    "print(cbind(1:3, 5:7, rep(0,3)))\n",
    "print(rbind(1:3, 5:7, rep(0,3)))"
   ]
  },
  {
   "cell_type": "markdown",
   "metadata": {},
   "source": [
    "## Working with Data Frames\n",
    "\n",
    "- For storing tables\n",
    "- Made up of list of collections that are of equal length\n",
    "- Each column is limited to elements of one type\n",
    "- Different columns can have different types"
   ]
  },
  {
   "cell_type": "code",
   "execution_count": 61,
   "metadata": {},
   "outputs": [
    {
     "data": {
      "text/html": [
       "<table>\n",
       "<thead><tr><th></th><th scope=col>mpg</th><th scope=col>cyl</th><th scope=col>disp</th><th scope=col>hp</th><th scope=col>drat</th><th scope=col>wt</th><th scope=col>qsec</th><th scope=col>vs</th><th scope=col>am</th><th scope=col>gear</th><th scope=col>carb</th></tr></thead>\n",
       "<tbody>\n",
       "\t<tr><th scope=row>Mazda RX4</th><td>21.0 </td><td>6    </td><td>160.0</td><td>110  </td><td>3.90 </td><td>2.620</td><td>16.46</td><td>0    </td><td>1    </td><td>4    </td><td>4    </td></tr>\n",
       "\t<tr><th scope=row>Mazda RX4 Wag</th><td>21.0 </td><td>6    </td><td>160.0</td><td>110  </td><td>3.90 </td><td>2.875</td><td>17.02</td><td>0    </td><td>1    </td><td>4    </td><td>4    </td></tr>\n",
       "\t<tr><th scope=row>Datsun 710</th><td>22.8 </td><td>4    </td><td>108.0</td><td> 93  </td><td>3.85 </td><td>2.320</td><td>18.61</td><td>1    </td><td>1    </td><td>4    </td><td>1    </td></tr>\n",
       "\t<tr><th scope=row>Hornet 4 Drive</th><td>21.4 </td><td>6    </td><td>258.0</td><td>110  </td><td>3.08 </td><td>3.215</td><td>19.44</td><td>1    </td><td>0    </td><td>3    </td><td>1    </td></tr>\n",
       "\t<tr><th scope=row>Hornet Sportabout</th><td>18.7 </td><td>8    </td><td>360.0</td><td>175  </td><td>3.15 </td><td>3.440</td><td>17.02</td><td>0    </td><td>0    </td><td>3    </td><td>2    </td></tr>\n",
       "\t<tr><th scope=row>Valiant</th><td>18.1 </td><td>6    </td><td>225.0</td><td>105  </td><td>2.76 </td><td>3.460</td><td>20.22</td><td>1    </td><td>0    </td><td>3    </td><td>1    </td></tr>\n",
       "\t<tr><th scope=row>Duster 360</th><td>14.3 </td><td>8    </td><td>360.0</td><td>245  </td><td>3.21 </td><td>3.570</td><td>15.84</td><td>0    </td><td>0    </td><td>3    </td><td>4    </td></tr>\n",
       "\t<tr><th scope=row>Merc 240D</th><td>24.4 </td><td>4    </td><td>146.7</td><td> 62  </td><td>3.69 </td><td>3.190</td><td>20.00</td><td>1    </td><td>0    </td><td>4    </td><td>2    </td></tr>\n",
       "\t<tr><th scope=row>Merc 230</th><td>22.8 </td><td>4    </td><td>140.8</td><td> 95  </td><td>3.92 </td><td>3.150</td><td>22.90</td><td>1    </td><td>0    </td><td>4    </td><td>2    </td></tr>\n",
       "\t<tr><th scope=row>Merc 280</th><td>19.2 </td><td>6    </td><td>167.6</td><td>123  </td><td>3.92 </td><td>3.440</td><td>18.30</td><td>1    </td><td>0    </td><td>4    </td><td>4    </td></tr>\n",
       "\t<tr><th scope=row>Merc 280C</th><td>17.8 </td><td>6    </td><td>167.6</td><td>123  </td><td>3.92 </td><td>3.440</td><td>18.90</td><td>1    </td><td>0    </td><td>4    </td><td>4    </td></tr>\n",
       "\t<tr><th scope=row>Merc 450SE</th><td>16.4 </td><td>8    </td><td>275.8</td><td>180  </td><td>3.07 </td><td>4.070</td><td>17.40</td><td>0    </td><td>0    </td><td>3    </td><td>3    </td></tr>\n",
       "\t<tr><th scope=row>Merc 450SL</th><td>17.3 </td><td>8    </td><td>275.8</td><td>180  </td><td>3.07 </td><td>3.730</td><td>17.60</td><td>0    </td><td>0    </td><td>3    </td><td>3    </td></tr>\n",
       "\t<tr><th scope=row>Merc 450SLC</th><td>15.2 </td><td>8    </td><td>275.8</td><td>180  </td><td>3.07 </td><td>3.780</td><td>18.00</td><td>0    </td><td>0    </td><td>3    </td><td>3    </td></tr>\n",
       "\t<tr><th scope=row>Cadillac Fleetwood</th><td>10.4 </td><td>8    </td><td>472.0</td><td>205  </td><td>2.93 </td><td>5.250</td><td>17.98</td><td>0    </td><td>0    </td><td>3    </td><td>4    </td></tr>\n",
       "\t<tr><th scope=row>Lincoln Continental</th><td>10.4 </td><td>8    </td><td>460.0</td><td>215  </td><td>3.00 </td><td>5.424</td><td>17.82</td><td>0    </td><td>0    </td><td>3    </td><td>4    </td></tr>\n",
       "\t<tr><th scope=row>Chrysler Imperial</th><td>14.7 </td><td>8    </td><td>440.0</td><td>230  </td><td>3.23 </td><td>5.345</td><td>17.42</td><td>0    </td><td>0    </td><td>3    </td><td>4    </td></tr>\n",
       "\t<tr><th scope=row>Fiat 128</th><td>32.4 </td><td>4    </td><td> 78.7</td><td> 66  </td><td>4.08 </td><td>2.200</td><td>19.47</td><td>1    </td><td>1    </td><td>4    </td><td>1    </td></tr>\n",
       "\t<tr><th scope=row>Honda Civic</th><td>30.4 </td><td>4    </td><td> 75.7</td><td> 52  </td><td>4.93 </td><td>1.615</td><td>18.52</td><td>1    </td><td>1    </td><td>4    </td><td>2    </td></tr>\n",
       "\t<tr><th scope=row>Toyota Corolla</th><td>33.9 </td><td>4    </td><td> 71.1</td><td> 65  </td><td>4.22 </td><td>1.835</td><td>19.90</td><td>1    </td><td>1    </td><td>4    </td><td>1    </td></tr>\n",
       "\t<tr><th scope=row>Toyota Corona</th><td>21.5 </td><td>4    </td><td>120.1</td><td> 97  </td><td>3.70 </td><td>2.465</td><td>20.01</td><td>1    </td><td>0    </td><td>3    </td><td>1    </td></tr>\n",
       "\t<tr><th scope=row>Dodge Challenger</th><td>15.5 </td><td>8    </td><td>318.0</td><td>150  </td><td>2.76 </td><td>3.520</td><td>16.87</td><td>0    </td><td>0    </td><td>3    </td><td>2    </td></tr>\n",
       "\t<tr><th scope=row>AMC Javelin</th><td>15.2 </td><td>8    </td><td>304.0</td><td>150  </td><td>3.15 </td><td>3.435</td><td>17.30</td><td>0    </td><td>0    </td><td>3    </td><td>2    </td></tr>\n",
       "\t<tr><th scope=row>Camaro Z28</th><td>13.3 </td><td>8    </td><td>350.0</td><td>245  </td><td>3.73 </td><td>3.840</td><td>15.41</td><td>0    </td><td>0    </td><td>3    </td><td>4    </td></tr>\n",
       "\t<tr><th scope=row>Pontiac Firebird</th><td>19.2 </td><td>8    </td><td>400.0</td><td>175  </td><td>3.08 </td><td>3.845</td><td>17.05</td><td>0    </td><td>0    </td><td>3    </td><td>2    </td></tr>\n",
       "\t<tr><th scope=row>Fiat X1-9</th><td>27.3 </td><td>4    </td><td> 79.0</td><td> 66  </td><td>4.08 </td><td>1.935</td><td>18.90</td><td>1    </td><td>1    </td><td>4    </td><td>1    </td></tr>\n",
       "\t<tr><th scope=row>Porsche 914-2</th><td>26.0 </td><td>4    </td><td>120.3</td><td> 91  </td><td>4.43 </td><td>2.140</td><td>16.70</td><td>0    </td><td>1    </td><td>5    </td><td>2    </td></tr>\n",
       "\t<tr><th scope=row>Lotus Europa</th><td>30.4 </td><td>4    </td><td> 95.1</td><td>113  </td><td>3.77 </td><td>1.513</td><td>16.90</td><td>1    </td><td>1    </td><td>5    </td><td>2    </td></tr>\n",
       "\t<tr><th scope=row>Ford Pantera L</th><td>15.8 </td><td>8    </td><td>351.0</td><td>264  </td><td>4.22 </td><td>3.170</td><td>14.50</td><td>0    </td><td>1    </td><td>5    </td><td>4    </td></tr>\n",
       "\t<tr><th scope=row>Ferrari Dino</th><td>19.7 </td><td>6    </td><td>145.0</td><td>175  </td><td>3.62 </td><td>2.770</td><td>15.50</td><td>0    </td><td>1    </td><td>5    </td><td>6    </td></tr>\n",
       "\t<tr><th scope=row>Maserati Bora</th><td>15.0 </td><td>8    </td><td>301.0</td><td>335  </td><td>3.54 </td><td>3.570</td><td>14.60</td><td>0    </td><td>1    </td><td>5    </td><td>8    </td></tr>\n",
       "\t<tr><th scope=row>Volvo 142E</th><td>21.4 </td><td>4    </td><td>121.0</td><td>109  </td><td>4.11 </td><td>2.780</td><td>18.60</td><td>1    </td><td>1    </td><td>4    </td><td>2    </td></tr>\n",
       "</tbody>\n",
       "</table>\n"
      ],
      "text/latex": [
       "\\begin{tabular}{r|lllllllllll}\n",
       "  & mpg & cyl & disp & hp & drat & wt & qsec & vs & am & gear & carb\\\\\n",
       "\\hline\n",
       "\tMazda RX4 & 21.0  & 6     & 160.0 & 110   & 3.90  & 2.620 & 16.46 & 0     & 1     & 4     & 4    \\\\\n",
       "\tMazda RX4 Wag & 21.0  & 6     & 160.0 & 110   & 3.90  & 2.875 & 17.02 & 0     & 1     & 4     & 4    \\\\\n",
       "\tDatsun 710 & 22.8  & 4     & 108.0 &  93   & 3.85  & 2.320 & 18.61 & 1     & 1     & 4     & 1    \\\\\n",
       "\tHornet 4 Drive & 21.4  & 6     & 258.0 & 110   & 3.08  & 3.215 & 19.44 & 1     & 0     & 3     & 1    \\\\\n",
       "\tHornet Sportabout & 18.7  & 8     & 360.0 & 175   & 3.15  & 3.440 & 17.02 & 0     & 0     & 3     & 2    \\\\\n",
       "\tValiant & 18.1  & 6     & 225.0 & 105   & 2.76  & 3.460 & 20.22 & 1     & 0     & 3     & 1    \\\\\n",
       "\tDuster 360 & 14.3  & 8     & 360.0 & 245   & 3.21  & 3.570 & 15.84 & 0     & 0     & 3     & 4    \\\\\n",
       "\tMerc 240D & 24.4  & 4     & 146.7 &  62   & 3.69  & 3.190 & 20.00 & 1     & 0     & 4     & 2    \\\\\n",
       "\tMerc 230 & 22.8  & 4     & 140.8 &  95   & 3.92  & 3.150 & 22.90 & 1     & 0     & 4     & 2    \\\\\n",
       "\tMerc 280 & 19.2  & 6     & 167.6 & 123   & 3.92  & 3.440 & 18.30 & 1     & 0     & 4     & 4    \\\\\n",
       "\tMerc 280C & 17.8  & 6     & 167.6 & 123   & 3.92  & 3.440 & 18.90 & 1     & 0     & 4     & 4    \\\\\n",
       "\tMerc 450SE & 16.4  & 8     & 275.8 & 180   & 3.07  & 4.070 & 17.40 & 0     & 0     & 3     & 3    \\\\\n",
       "\tMerc 450SL & 17.3  & 8     & 275.8 & 180   & 3.07  & 3.730 & 17.60 & 0     & 0     & 3     & 3    \\\\\n",
       "\tMerc 450SLC & 15.2  & 8     & 275.8 & 180   & 3.07  & 3.780 & 18.00 & 0     & 0     & 3     & 3    \\\\\n",
       "\tCadillac Fleetwood & 10.4  & 8     & 472.0 & 205   & 2.93  & 5.250 & 17.98 & 0     & 0     & 3     & 4    \\\\\n",
       "\tLincoln Continental & 10.4  & 8     & 460.0 & 215   & 3.00  & 5.424 & 17.82 & 0     & 0     & 3     & 4    \\\\\n",
       "\tChrysler Imperial & 14.7  & 8     & 440.0 & 230   & 3.23  & 5.345 & 17.42 & 0     & 0     & 3     & 4    \\\\\n",
       "\tFiat 128 & 32.4  & 4     &  78.7 &  66   & 4.08  & 2.200 & 19.47 & 1     & 1     & 4     & 1    \\\\\n",
       "\tHonda Civic & 30.4  & 4     &  75.7 &  52   & 4.93  & 1.615 & 18.52 & 1     & 1     & 4     & 2    \\\\\n",
       "\tToyota Corolla & 33.9  & 4     &  71.1 &  65   & 4.22  & 1.835 & 19.90 & 1     & 1     & 4     & 1    \\\\\n",
       "\tToyota Corona & 21.5  & 4     & 120.1 &  97   & 3.70  & 2.465 & 20.01 & 1     & 0     & 3     & 1    \\\\\n",
       "\tDodge Challenger & 15.5  & 8     & 318.0 & 150   & 2.76  & 3.520 & 16.87 & 0     & 0     & 3     & 2    \\\\\n",
       "\tAMC Javelin & 15.2  & 8     & 304.0 & 150   & 3.15  & 3.435 & 17.30 & 0     & 0     & 3     & 2    \\\\\n",
       "\tCamaro Z28 & 13.3  & 8     & 350.0 & 245   & 3.73  & 3.840 & 15.41 & 0     & 0     & 3     & 4    \\\\\n",
       "\tPontiac Firebird & 19.2  & 8     & 400.0 & 175   & 3.08  & 3.845 & 17.05 & 0     & 0     & 3     & 2    \\\\\n",
       "\tFiat X1-9 & 27.3  & 4     &  79.0 &  66   & 4.08  & 1.935 & 18.90 & 1     & 1     & 4     & 1    \\\\\n",
       "\tPorsche 914-2 & 26.0  & 4     & 120.3 &  91   & 4.43  & 2.140 & 16.70 & 0     & 1     & 5     & 2    \\\\\n",
       "\tLotus Europa & 30.4  & 4     &  95.1 & 113   & 3.77  & 1.513 & 16.90 & 1     & 1     & 5     & 2    \\\\\n",
       "\tFord Pantera L & 15.8  & 8     & 351.0 & 264   & 4.22  & 3.170 & 14.50 & 0     & 1     & 5     & 4    \\\\\n",
       "\tFerrari Dino & 19.7  & 6     & 145.0 & 175   & 3.62  & 2.770 & 15.50 & 0     & 1     & 5     & 6    \\\\\n",
       "\tMaserati Bora & 15.0  & 8     & 301.0 & 335   & 3.54  & 3.570 & 14.60 & 0     & 1     & 5     & 8    \\\\\n",
       "\tVolvo 142E & 21.4  & 4     & 121.0 & 109   & 4.11  & 2.780 & 18.60 & 1     & 1     & 4     & 2    \\\\\n",
       "\\end{tabular}\n"
      ],
      "text/markdown": [
       "\n",
       "| <!--/--> | mpg | cyl | disp | hp | drat | wt | qsec | vs | am | gear | carb | \n",
       "|---|---|---|---|---|---|---|---|---|---|---|---|---|---|---|---|---|---|---|---|---|---|---|---|---|---|---|---|---|---|---|---|\n",
       "| Mazda RX4 | 21.0  | 6     | 160.0 | 110   | 3.90  | 2.620 | 16.46 | 0     | 1     | 4     | 4     | \n",
       "| Mazda RX4 Wag | 21.0  | 6     | 160.0 | 110   | 3.90  | 2.875 | 17.02 | 0     | 1     | 4     | 4     | \n",
       "| Datsun 710 | 22.8  | 4     | 108.0 |  93   | 3.85  | 2.320 | 18.61 | 1     | 1     | 4     | 1     | \n",
       "| Hornet 4 Drive | 21.4  | 6     | 258.0 | 110   | 3.08  | 3.215 | 19.44 | 1     | 0     | 3     | 1     | \n",
       "| Hornet Sportabout | 18.7  | 8     | 360.0 | 175   | 3.15  | 3.440 | 17.02 | 0     | 0     | 3     | 2     | \n",
       "| Valiant | 18.1  | 6     | 225.0 | 105   | 2.76  | 3.460 | 20.22 | 1     | 0     | 3     | 1     | \n",
       "| Duster 360 | 14.3  | 8     | 360.0 | 245   | 3.21  | 3.570 | 15.84 | 0     | 0     | 3     | 4     | \n",
       "| Merc 240D | 24.4  | 4     | 146.7 |  62   | 3.69  | 3.190 | 20.00 | 1     | 0     | 4     | 2     | \n",
       "| Merc 230 | 22.8  | 4     | 140.8 |  95   | 3.92  | 3.150 | 22.90 | 1     | 0     | 4     | 2     | \n",
       "| Merc 280 | 19.2  | 6     | 167.6 | 123   | 3.92  | 3.440 | 18.30 | 1     | 0     | 4     | 4     | \n",
       "| Merc 280C | 17.8  | 6     | 167.6 | 123   | 3.92  | 3.440 | 18.90 | 1     | 0     | 4     | 4     | \n",
       "| Merc 450SE | 16.4  | 8     | 275.8 | 180   | 3.07  | 4.070 | 17.40 | 0     | 0     | 3     | 3     | \n",
       "| Merc 450SL | 17.3  | 8     | 275.8 | 180   | 3.07  | 3.730 | 17.60 | 0     | 0     | 3     | 3     | \n",
       "| Merc 450SLC | 15.2  | 8     | 275.8 | 180   | 3.07  | 3.780 | 18.00 | 0     | 0     | 3     | 3     | \n",
       "| Cadillac Fleetwood | 10.4  | 8     | 472.0 | 205   | 2.93  | 5.250 | 17.98 | 0     | 0     | 3     | 4     | \n",
       "| Lincoln Continental | 10.4  | 8     | 460.0 | 215   | 3.00  | 5.424 | 17.82 | 0     | 0     | 3     | 4     | \n",
       "| Chrysler Imperial | 14.7  | 8     | 440.0 | 230   | 3.23  | 5.345 | 17.42 | 0     | 0     | 3     | 4     | \n",
       "| Fiat 128 | 32.4  | 4     |  78.7 |  66   | 4.08  | 2.200 | 19.47 | 1     | 1     | 4     | 1     | \n",
       "| Honda Civic | 30.4  | 4     |  75.7 |  52   | 4.93  | 1.615 | 18.52 | 1     | 1     | 4     | 2     | \n",
       "| Toyota Corolla | 33.9  | 4     |  71.1 |  65   | 4.22  | 1.835 | 19.90 | 1     | 1     | 4     | 1     | \n",
       "| Toyota Corona | 21.5  | 4     | 120.1 |  97   | 3.70  | 2.465 | 20.01 | 1     | 0     | 3     | 1     | \n",
       "| Dodge Challenger | 15.5  | 8     | 318.0 | 150   | 2.76  | 3.520 | 16.87 | 0     | 0     | 3     | 2     | \n",
       "| AMC Javelin | 15.2  | 8     | 304.0 | 150   | 3.15  | 3.435 | 17.30 | 0     | 0     | 3     | 2     | \n",
       "| Camaro Z28 | 13.3  | 8     | 350.0 | 245   | 3.73  | 3.840 | 15.41 | 0     | 0     | 3     | 4     | \n",
       "| Pontiac Firebird | 19.2  | 8     | 400.0 | 175   | 3.08  | 3.845 | 17.05 | 0     | 0     | 3     | 2     | \n",
       "| Fiat X1-9 | 27.3  | 4     |  79.0 |  66   | 4.08  | 1.935 | 18.90 | 1     | 1     | 4     | 1     | \n",
       "| Porsche 914-2 | 26.0  | 4     | 120.3 |  91   | 4.43  | 2.140 | 16.70 | 0     | 1     | 5     | 2     | \n",
       "| Lotus Europa | 30.4  | 4     |  95.1 | 113   | 3.77  | 1.513 | 16.90 | 1     | 1     | 5     | 2     | \n",
       "| Ford Pantera L | 15.8  | 8     | 351.0 | 264   | 4.22  | 3.170 | 14.50 | 0     | 1     | 5     | 4     | \n",
       "| Ferrari Dino | 19.7  | 6     | 145.0 | 175   | 3.62  | 2.770 | 15.50 | 0     | 1     | 5     | 6     | \n",
       "| Maserati Bora | 15.0  | 8     | 301.0 | 335   | 3.54  | 3.570 | 14.60 | 0     | 1     | 5     | 8     | \n",
       "| Volvo 142E | 21.4  | 4     | 121.0 | 109   | 4.11  | 2.780 | 18.60 | 1     | 1     | 4     | 2     | \n",
       "\n",
       "\n"
      ],
      "text/plain": [
       "                    mpg  cyl disp  hp  drat wt    qsec  vs am gear carb\n",
       "Mazda RX4           21.0 6   160.0 110 3.90 2.620 16.46 0  1  4    4   \n",
       "Mazda RX4 Wag       21.0 6   160.0 110 3.90 2.875 17.02 0  1  4    4   \n",
       "Datsun 710          22.8 4   108.0  93 3.85 2.320 18.61 1  1  4    1   \n",
       "Hornet 4 Drive      21.4 6   258.0 110 3.08 3.215 19.44 1  0  3    1   \n",
       "Hornet Sportabout   18.7 8   360.0 175 3.15 3.440 17.02 0  0  3    2   \n",
       "Valiant             18.1 6   225.0 105 2.76 3.460 20.22 1  0  3    1   \n",
       "Duster 360          14.3 8   360.0 245 3.21 3.570 15.84 0  0  3    4   \n",
       "Merc 240D           24.4 4   146.7  62 3.69 3.190 20.00 1  0  4    2   \n",
       "Merc 230            22.8 4   140.8  95 3.92 3.150 22.90 1  0  4    2   \n",
       "Merc 280            19.2 6   167.6 123 3.92 3.440 18.30 1  0  4    4   \n",
       "Merc 280C           17.8 6   167.6 123 3.92 3.440 18.90 1  0  4    4   \n",
       "Merc 450SE          16.4 8   275.8 180 3.07 4.070 17.40 0  0  3    3   \n",
       "Merc 450SL          17.3 8   275.8 180 3.07 3.730 17.60 0  0  3    3   \n",
       "Merc 450SLC         15.2 8   275.8 180 3.07 3.780 18.00 0  0  3    3   \n",
       "Cadillac Fleetwood  10.4 8   472.0 205 2.93 5.250 17.98 0  0  3    4   \n",
       "Lincoln Continental 10.4 8   460.0 215 3.00 5.424 17.82 0  0  3    4   \n",
       "Chrysler Imperial   14.7 8   440.0 230 3.23 5.345 17.42 0  0  3    4   \n",
       "Fiat 128            32.4 4    78.7  66 4.08 2.200 19.47 1  1  4    1   \n",
       "Honda Civic         30.4 4    75.7  52 4.93 1.615 18.52 1  1  4    2   \n",
       "Toyota Corolla      33.9 4    71.1  65 4.22 1.835 19.90 1  1  4    1   \n",
       "Toyota Corona       21.5 4   120.1  97 3.70 2.465 20.01 1  0  3    1   \n",
       "Dodge Challenger    15.5 8   318.0 150 2.76 3.520 16.87 0  0  3    2   \n",
       "AMC Javelin         15.2 8   304.0 150 3.15 3.435 17.30 0  0  3    2   \n",
       "Camaro Z28          13.3 8   350.0 245 3.73 3.840 15.41 0  0  3    4   \n",
       "Pontiac Firebird    19.2 8   400.0 175 3.08 3.845 17.05 0  0  3    2   \n",
       "Fiat X1-9           27.3 4    79.0  66 4.08 1.935 18.90 1  1  4    1   \n",
       "Porsche 914-2       26.0 4   120.3  91 4.43 2.140 16.70 0  1  5    2   \n",
       "Lotus Europa        30.4 4    95.1 113 3.77 1.513 16.90 1  1  5    2   \n",
       "Ford Pantera L      15.8 8   351.0 264 4.22 3.170 14.50 0  1  5    4   \n",
       "Ferrari Dino        19.7 6   145.0 175 3.62 2.770 15.50 0  1  5    6   \n",
       "Maserati Bora       15.0 8   301.0 335 3.54 3.570 14.60 0  1  5    8   \n",
       "Volvo 142E          21.4 4   121.0 109 4.11 2.780 18.60 1  1  4    2   "
      ]
     },
     "metadata": {},
     "output_type": "display_data"
    }
   ],
   "source": [
    "mtcars"
   ]
  },
  {
   "cell_type": "markdown",
   "metadata": {},
   "source": [
    "## Creating a Data Frame"
   ]
  },
  {
   "cell_type": "code",
   "execution_count": 62,
   "metadata": {},
   "outputs": [
    {
     "data": {
      "text/html": [
       "<table>\n",
       "<thead><tr><th scope=col>month_name</th><th scope=col>month_count</th></tr></thead>\n",
       "<tbody>\n",
       "\t<tr><td>Jan</td><td>1  </td></tr>\n",
       "\t<tr><td>Feb</td><td>2  </td></tr>\n",
       "\t<tr><td>Mar</td><td>3  </td></tr>\n",
       "</tbody>\n",
       "</table>\n"
      ],
      "text/latex": [
       "\\begin{tabular}{r|ll}\n",
       " month\\_name & month\\_count\\\\\n",
       "\\hline\n",
       "\t Jan & 1  \\\\\n",
       "\t Feb & 2  \\\\\n",
       "\t Mar & 3  \\\\\n",
       "\\end{tabular}\n"
      ],
      "text/markdown": [
       "\n",
       "month_name | month_count | \n",
       "|---|---|---|\n",
       "| Jan | 1   | \n",
       "| Feb | 2   | \n",
       "| Mar | 3   | \n",
       "\n",
       "\n"
      ],
      "text/plain": [
       "  month_name month_count\n",
       "1 Jan        1          \n",
       "2 Feb        2          \n",
       "3 Mar        3          "
      ]
     },
     "metadata": {},
     "output_type": "display_data"
    }
   ],
   "source": [
    "df <- data.frame(month_name=c(\"Jan\", \"Feb\", \"Mar\"), month_count=1:3)\n",
    "df"
   ]
  },
  {
   "cell_type": "markdown",
   "metadata": {},
   "source": [
    "## Accessing Data Cells"
   ]
  },
  {
   "cell_type": "code",
   "execution_count": 63,
   "metadata": {},
   "outputs": [
    {
     "data": {
      "text/html": [
       "21"
      ],
      "text/latex": [
       "21"
      ],
      "text/markdown": [
       "21"
      ],
      "text/plain": [
       "[1] 21"
      ]
     },
     "metadata": {},
     "output_type": "display_data"
    },
    {
     "data": {
      "text/html": [
       "21"
      ],
      "text/latex": [
       "21"
      ],
      "text/markdown": [
       "21"
      ],
      "text/plain": [
       "[1] 21"
      ]
     },
     "metadata": {},
     "output_type": "display_data"
    }
   ],
   "source": [
    "mtcars[1, 1]               # access by index\n",
    "mtcars[\"Mazda RX4\", \"mpg\"] # access by row and column labels"
   ]
  },
  {
   "cell_type": "markdown",
   "metadata": {},
   "source": [
    "## Getting Info About a Data Frame"
   ]
  },
  {
   "cell_type": "code",
   "execution_count": 64,
   "metadata": {},
   "outputs": [
    {
     "data": {
      "text/html": [
       "<ol class=list-inline>\n",
       "\t<li>'mpg'</li>\n",
       "\t<li>'cyl'</li>\n",
       "\t<li>'disp'</li>\n",
       "\t<li>'hp'</li>\n",
       "\t<li>'drat'</li>\n",
       "\t<li>'wt'</li>\n",
       "\t<li>'qsec'</li>\n",
       "\t<li>'vs'</li>\n",
       "\t<li>'am'</li>\n",
       "\t<li>'gear'</li>\n",
       "\t<li>'carb'</li>\n",
       "</ol>\n"
      ],
      "text/latex": [
       "\\begin{enumerate*}\n",
       "\\item 'mpg'\n",
       "\\item 'cyl'\n",
       "\\item 'disp'\n",
       "\\item 'hp'\n",
       "\\item 'drat'\n",
       "\\item 'wt'\n",
       "\\item 'qsec'\n",
       "\\item 'vs'\n",
       "\\item 'am'\n",
       "\\item 'gear'\n",
       "\\item 'carb'\n",
       "\\end{enumerate*}\n"
      ],
      "text/markdown": [
       "1. 'mpg'\n",
       "2. 'cyl'\n",
       "3. 'disp'\n",
       "4. 'hp'\n",
       "5. 'drat'\n",
       "6. 'wt'\n",
       "7. 'qsec'\n",
       "8. 'vs'\n",
       "9. 'am'\n",
       "10. 'gear'\n",
       "11. 'carb'\n",
       "\n",
       "\n"
      ],
      "text/plain": [
       " [1] \"mpg\"  \"cyl\"  \"disp\" \"hp\"   \"drat\" \"wt\"   \"qsec\" \"vs\"   \"am\"   \"gear\"\n",
       "[11] \"carb\""
      ]
     },
     "metadata": {},
     "output_type": "display_data"
    },
    {
     "data": {
      "text/html": [
       "32"
      ],
      "text/latex": [
       "32"
      ],
      "text/markdown": [
       "32"
      ],
      "text/plain": [
       "[1] 32"
      ]
     },
     "metadata": {},
     "output_type": "display_data"
    },
    {
     "data": {
      "text/html": [
       "11"
      ],
      "text/latex": [
       "11"
      ],
      "text/markdown": [
       "11"
      ],
      "text/plain": [
       "[1] 11"
      ]
     },
     "metadata": {},
     "output_type": "display_data"
    }
   ],
   "source": [
    "names(mtcars)\n",
    "nrow(mtcars)\n",
    "ncol(mtcars)"
   ]
  },
  {
   "cell_type": "markdown",
   "metadata": {},
   "source": [
    "## Selecting Columns in Data Frames"
   ]
  },
  {
   "cell_type": "code",
   "execution_count": 65,
   "metadata": {},
   "outputs": [
    {
     "name": "stdout",
     "output_type": "stream",
     "text": [
      "                     mpg cyl  hp\n",
      "Mazda RX4           21.0   6 110\n",
      "Mazda RX4 Wag       21.0   6 110\n",
      "Datsun 710          22.8   4  93\n",
      "Hornet 4 Drive      21.4   6 110\n",
      "Hornet Sportabout   18.7   8 175\n",
      "Valiant             18.1   6 105\n",
      "Duster 360          14.3   8 245\n",
      "Merc 240D           24.4   4  62\n",
      "Merc 230            22.8   4  95\n",
      "Merc 280            19.2   6 123\n",
      "Merc 280C           17.8   6 123\n",
      "Merc 450SE          16.4   8 180\n",
      "Merc 450SL          17.3   8 180\n",
      "Merc 450SLC         15.2   8 180\n",
      "Cadillac Fleetwood  10.4   8 205\n",
      "Lincoln Continental 10.4   8 215\n",
      "Chrysler Imperial   14.7   8 230\n",
      "Fiat 128            32.4   4  66\n",
      "Honda Civic         30.4   4  52\n",
      "Toyota Corolla      33.9   4  65\n",
      "Toyota Corona       21.5   4  97\n",
      "Dodge Challenger    15.5   8 150\n",
      "AMC Javelin         15.2   8 150\n",
      "Camaro Z28          13.3   8 245\n",
      "Pontiac Firebird    19.2   8 175\n",
      "Fiat X1-9           27.3   4  66\n",
      "Porsche 914-2       26.0   4  91\n",
      "Lotus Europa        30.4   4 113\n",
      "Ford Pantera L      15.8   8 264\n",
      "Ferrari Dino        19.7   6 175\n",
      "Maserati Bora       15.0   8 335\n",
      "Volvo 142E          21.4   4 109\n"
     ]
    }
   ],
   "source": [
    "cols <- c(\"mpg\", \"cyl\", \"hp\") # slice columns using column names\n",
    "print(mtcars[cols])"
   ]
  },
  {
   "cell_type": "code",
   "execution_count": 66,
   "metadata": {},
   "outputs": [
    {
     "data": {
      "text/html": [
       "<ol class=list-inline>\n",
       "\t<li>21</li>\n",
       "\t<li>21</li>\n",
       "\t<li>22.8</li>\n",
       "\t<li>21.4</li>\n",
       "\t<li>18.7</li>\n",
       "\t<li>18.1</li>\n",
       "\t<li>14.3</li>\n",
       "\t<li>24.4</li>\n",
       "\t<li>22.8</li>\n",
       "\t<li>19.2</li>\n",
       "\t<li>17.8</li>\n",
       "\t<li>16.4</li>\n",
       "\t<li>17.3</li>\n",
       "\t<li>15.2</li>\n",
       "\t<li>10.4</li>\n",
       "\t<li>10.4</li>\n",
       "\t<li>14.7</li>\n",
       "\t<li>32.4</li>\n",
       "\t<li>30.4</li>\n",
       "\t<li>33.9</li>\n",
       "\t<li>21.5</li>\n",
       "\t<li>15.5</li>\n",
       "\t<li>15.2</li>\n",
       "\t<li>13.3</li>\n",
       "\t<li>19.2</li>\n",
       "\t<li>27.3</li>\n",
       "\t<li>26</li>\n",
       "\t<li>30.4</li>\n",
       "\t<li>15.8</li>\n",
       "\t<li>19.7</li>\n",
       "\t<li>15</li>\n",
       "\t<li>21.4</li>\n",
       "</ol>\n"
      ],
      "text/latex": [
       "\\begin{enumerate*}\n",
       "\\item 21\n",
       "\\item 21\n",
       "\\item 22.8\n",
       "\\item 21.4\n",
       "\\item 18.7\n",
       "\\item 18.1\n",
       "\\item 14.3\n",
       "\\item 24.4\n",
       "\\item 22.8\n",
       "\\item 19.2\n",
       "\\item 17.8\n",
       "\\item 16.4\n",
       "\\item 17.3\n",
       "\\item 15.2\n",
       "\\item 10.4\n",
       "\\item 10.4\n",
       "\\item 14.7\n",
       "\\item 32.4\n",
       "\\item 30.4\n",
       "\\item 33.9\n",
       "\\item 21.5\n",
       "\\item 15.5\n",
       "\\item 15.2\n",
       "\\item 13.3\n",
       "\\item 19.2\n",
       "\\item 27.3\n",
       "\\item 26\n",
       "\\item 30.4\n",
       "\\item 15.8\n",
       "\\item 19.7\n",
       "\\item 15\n",
       "\\item 21.4\n",
       "\\end{enumerate*}\n"
      ],
      "text/markdown": [
       "1. 21\n",
       "2. 21\n",
       "3. 22.8\n",
       "4. 21.4\n",
       "5. 18.7\n",
       "6. 18.1\n",
       "7. 14.3\n",
       "8. 24.4\n",
       "9. 22.8\n",
       "10. 19.2\n",
       "11. 17.8\n",
       "12. 16.4\n",
       "13. 17.3\n",
       "14. 15.2\n",
       "15. 10.4\n",
       "16. 10.4\n",
       "17. 14.7\n",
       "18. 32.4\n",
       "19. 30.4\n",
       "20. 33.9\n",
       "21. 21.5\n",
       "22. 15.5\n",
       "23. 15.2\n",
       "24. 13.3\n",
       "25. 19.2\n",
       "26. 27.3\n",
       "27. 26\n",
       "28. 30.4\n",
       "29. 15.8\n",
       "30. 19.7\n",
       "31. 15\n",
       "32. 21.4\n",
       "\n",
       "\n"
      ],
      "text/plain": [
       " [1] 21.0 21.0 22.8 21.4 18.7 18.1 14.3 24.4 22.8 19.2 17.8 16.4 17.3 15.2 10.4\n",
       "[16] 10.4 14.7 32.4 30.4 33.9 21.5 15.5 15.2 13.3 19.2 27.3 26.0 30.4 15.8 19.7\n",
       "[31] 15.0 21.4"
      ]
     },
     "metadata": {},
     "output_type": "display_data"
    }
   ],
   "source": [
    "mtcars$mpg # select single column using $ reference"
   ]
  },
  {
   "cell_type": "markdown",
   "metadata": {},
   "source": [
    "## Selecting Rows in Data Frames"
   ]
  },
  {
   "cell_type": "code",
   "execution_count": 67,
   "metadata": {},
   "outputs": [
    {
     "name": "stdout",
     "output_type": "stream",
     "text": [
      "                   mpg cyl disp  hp drat    wt  qsec vs am gear carb\n",
      "Mazda RX4 Wag     21.0   6  160 110 3.90 2.875 17.02  0  1    4    4\n",
      "Datsun 710        22.8   4  108  93 3.85 2.320 18.61  1  1    4    1\n",
      "Hornet Sportabout 18.7   8  360 175 3.15 3.440 17.02  0  0    3    2\n"
     ]
    }
   ],
   "source": [
    "carIndexes <- c(2, 3, 5)   # slice data frame horizontally using row indexes\n",
    "print(mtcars[carIndexes,])"
   ]
  },
  {
   "cell_type": "code",
   "execution_count": 68,
   "metadata": {},
   "outputs": [
    {
     "name": "stdout",
     "output_type": "stream",
     "text": [
      "              mpg cyl  disp  hp drat    wt  qsec vs am gear carb\n",
      "Lotus Europa 30.4   4  95.1 113 3.77 1.513 16.90  1  1    5    2\n",
      "Camaro Z28   13.3   8 350.0 245 3.73 3.840 15.41  0  0    3    4\n",
      "AMC Javelin  15.2   8 304.0 150 3.15 3.435 17.30  0  0    3    2\n"
     ]
    }
   ],
   "source": [
    "carNames <- c(\"Lotus Europa\", \"Camaro Z28\", \"AMC Javelin\")   # slice data frame horizontally using row names\n",
    "print(mtcars[carNames,])"
   ]
  },
  {
   "cell_type": "markdown",
   "metadata": {},
   "source": [
    "## Getting a Subset of a Data Frame"
   ]
  },
  {
   "cell_type": "code",
   "execution_count": 69,
   "metadata": {},
   "outputs": [
    {
     "name": "stdout",
     "output_type": "stream",
     "text": [
      "               hp    wt\n",
      "Mazda RX4     110 2.620\n",
      "Mazda RX4 Wag 110 2.875\n",
      "Datsun 710     93 2.320\n"
     ]
    }
   ],
   "source": [
    "stats <- as.data.frame(mtcars[c(1,2,3), c(\"hp\", \"wt\")]) # some rows and some columns\n",
    "print(stats)"
   ]
  },
  {
   "cell_type": "code",
   "execution_count": 70,
   "metadata": {},
   "outputs": [
    {
     "name": "stdout",
     "output_type": "stream",
     "text": [
      "                     hp    wt\n",
      "Mazda RX4           110 2.620\n",
      "Mazda RX4 Wag       110 2.875\n",
      "Datsun 710           93 2.320\n",
      "Hornet 4 Drive      110 3.215\n",
      "Hornet Sportabout   175 3.440\n",
      "Valiant             105 3.460\n",
      "Duster 360          245 3.570\n",
      "Merc 240D            62 3.190\n",
      "Merc 230             95 3.150\n",
      "Merc 280            123 3.440\n",
      "Merc 280C           123 3.440\n",
      "Merc 450SE          180 4.070\n",
      "Merc 450SL          180 3.730\n",
      "Merc 450SLC         180 3.780\n",
      "Cadillac Fleetwood  205 5.250\n",
      "Lincoln Continental 215 5.424\n",
      "Chrysler Imperial   230 5.345\n",
      "Fiat 128             66 2.200\n",
      "Honda Civic          52 1.615\n",
      "Toyota Corolla       65 1.835\n",
      "Toyota Corona        97 2.465\n",
      "Dodge Challenger    150 3.520\n",
      "AMC Javelin         150 3.435\n",
      "Camaro Z28          245 3.840\n",
      "Pontiac Firebird    175 3.845\n",
      "Fiat X1-9            66 1.935\n",
      "Porsche 914-2        91 2.140\n",
      "Lotus Europa        113 1.513\n",
      "Ford Pantera L      264 3.170\n",
      "Ferrari Dino        175 2.770\n",
      "Maserati Bora       335 3.570\n",
      "Volvo 142E          109 2.780\n"
     ]
    }
   ],
   "source": [
    "stats <- as.data.frame(mtcars[, c(\"hp\", \"wt\")])         # all rows and some columns\n",
    "print(stats)"
   ]
  },
  {
   "cell_type": "code",
   "execution_count": 71,
   "metadata": {},
   "outputs": [
    {
     "name": "stdout",
     "output_type": "stream",
     "text": [
      "               mpg cyl disp  hp drat    wt  qsec vs am gear carb\n",
      "Mazda RX4     21.0   6  160 110 3.90 2.620 16.46  0  1    4    4\n",
      "Mazda RX4 Wag 21.0   6  160 110 3.90 2.875 17.02  0  1    4    4\n",
      "Datsun 710    22.8   4  108  93 3.85 2.320 18.61  1  1    4    1\n"
     ]
    }
   ],
   "source": [
    "stats <- as.data.frame(mtcars[c(1,2,3),]) # some rows and all columns\n",
    "print(stats)"
   ]
  },
  {
   "cell_type": "markdown",
   "metadata": {},
   "source": [
    "## Sorting Data in Data Frame by Attributes"
   ]
  },
  {
   "cell_type": "code",
   "execution_count": 72,
   "metadata": {},
   "outputs": [
    {
     "data": {
      "text/html": [
       "<table>\n",
       "<thead><tr><th></th><th scope=col>mpg</th><th scope=col>cyl</th><th scope=col>disp</th><th scope=col>hp</th><th scope=col>drat</th><th scope=col>wt</th><th scope=col>qsec</th><th scope=col>vs</th><th scope=col>am</th><th scope=col>gear</th><th scope=col>carb</th></tr></thead>\n",
       "<tbody>\n",
       "\t<tr><th scope=row>Cadillac Fleetwood</th><td>10.4 </td><td>8    </td><td>472.0</td><td>205  </td><td>2.93 </td><td>5.250</td><td>17.98</td><td>0    </td><td>0    </td><td>3    </td><td>4    </td></tr>\n",
       "\t<tr><th scope=row>Lincoln Continental</th><td>10.4 </td><td>8    </td><td>460.0</td><td>215  </td><td>3.00 </td><td>5.424</td><td>17.82</td><td>0    </td><td>0    </td><td>3    </td><td>4    </td></tr>\n",
       "\t<tr><th scope=row>Camaro Z28</th><td>13.3 </td><td>8    </td><td>350.0</td><td>245  </td><td>3.73 </td><td>3.840</td><td>15.41</td><td>0    </td><td>0    </td><td>3    </td><td>4    </td></tr>\n",
       "\t<tr><th scope=row>Duster 360</th><td>14.3 </td><td>8    </td><td>360.0</td><td>245  </td><td>3.21 </td><td>3.570</td><td>15.84</td><td>0    </td><td>0    </td><td>3    </td><td>4    </td></tr>\n",
       "\t<tr><th scope=row>Chrysler Imperial</th><td>14.7 </td><td>8    </td><td>440.0</td><td>230  </td><td>3.23 </td><td>5.345</td><td>17.42</td><td>0    </td><td>0    </td><td>3    </td><td>4    </td></tr>\n",
       "\t<tr><th scope=row>Maserati Bora</th><td>15.0 </td><td>8    </td><td>301.0</td><td>335  </td><td>3.54 </td><td>3.570</td><td>14.60</td><td>0    </td><td>1    </td><td>5    </td><td>8    </td></tr>\n",
       "\t<tr><th scope=row>Merc 450SLC</th><td>15.2 </td><td>8    </td><td>275.8</td><td>180  </td><td>3.07 </td><td>3.780</td><td>18.00</td><td>0    </td><td>0    </td><td>3    </td><td>3    </td></tr>\n",
       "\t<tr><th scope=row>AMC Javelin</th><td>15.2 </td><td>8    </td><td>304.0</td><td>150  </td><td>3.15 </td><td>3.435</td><td>17.30</td><td>0    </td><td>0    </td><td>3    </td><td>2    </td></tr>\n",
       "\t<tr><th scope=row>Dodge Challenger</th><td>15.5 </td><td>8    </td><td>318.0</td><td>150  </td><td>2.76 </td><td>3.520</td><td>16.87</td><td>0    </td><td>0    </td><td>3    </td><td>2    </td></tr>\n",
       "\t<tr><th scope=row>Ford Pantera L</th><td>15.8 </td><td>8    </td><td>351.0</td><td>264  </td><td>4.22 </td><td>3.170</td><td>14.50</td><td>0    </td><td>1    </td><td>5    </td><td>4    </td></tr>\n",
       "\t<tr><th scope=row>Merc 450SE</th><td>16.4 </td><td>8    </td><td>275.8</td><td>180  </td><td>3.07 </td><td>4.070</td><td>17.40</td><td>0    </td><td>0    </td><td>3    </td><td>3    </td></tr>\n",
       "\t<tr><th scope=row>Merc 450SL</th><td>17.3 </td><td>8    </td><td>275.8</td><td>180  </td><td>3.07 </td><td>3.730</td><td>17.60</td><td>0    </td><td>0    </td><td>3    </td><td>3    </td></tr>\n",
       "\t<tr><th scope=row>Merc 280C</th><td>17.8 </td><td>6    </td><td>167.6</td><td>123  </td><td>3.92 </td><td>3.440</td><td>18.90</td><td>1    </td><td>0    </td><td>4    </td><td>4    </td></tr>\n",
       "\t<tr><th scope=row>Valiant</th><td>18.1 </td><td>6    </td><td>225.0</td><td>105  </td><td>2.76 </td><td>3.460</td><td>20.22</td><td>1    </td><td>0    </td><td>3    </td><td>1    </td></tr>\n",
       "\t<tr><th scope=row>Hornet Sportabout</th><td>18.7 </td><td>8    </td><td>360.0</td><td>175  </td><td>3.15 </td><td>3.440</td><td>17.02</td><td>0    </td><td>0    </td><td>3    </td><td>2    </td></tr>\n",
       "\t<tr><th scope=row>Merc 280</th><td>19.2 </td><td>6    </td><td>167.6</td><td>123  </td><td>3.92 </td><td>3.440</td><td>18.30</td><td>1    </td><td>0    </td><td>4    </td><td>4    </td></tr>\n",
       "\t<tr><th scope=row>Pontiac Firebird</th><td>19.2 </td><td>8    </td><td>400.0</td><td>175  </td><td>3.08 </td><td>3.845</td><td>17.05</td><td>0    </td><td>0    </td><td>3    </td><td>2    </td></tr>\n",
       "\t<tr><th scope=row>Ferrari Dino</th><td>19.7 </td><td>6    </td><td>145.0</td><td>175  </td><td>3.62 </td><td>2.770</td><td>15.50</td><td>0    </td><td>1    </td><td>5    </td><td>6    </td></tr>\n",
       "\t<tr><th scope=row>Mazda RX4</th><td>21.0 </td><td>6    </td><td>160.0</td><td>110  </td><td>3.90 </td><td>2.620</td><td>16.46</td><td>0    </td><td>1    </td><td>4    </td><td>4    </td></tr>\n",
       "\t<tr><th scope=row>Mazda RX4 Wag</th><td>21.0 </td><td>6    </td><td>160.0</td><td>110  </td><td>3.90 </td><td>2.875</td><td>17.02</td><td>0    </td><td>1    </td><td>4    </td><td>4    </td></tr>\n",
       "\t<tr><th scope=row>Hornet 4 Drive</th><td>21.4 </td><td>6    </td><td>258.0</td><td>110  </td><td>3.08 </td><td>3.215</td><td>19.44</td><td>1    </td><td>0    </td><td>3    </td><td>1    </td></tr>\n",
       "\t<tr><th scope=row>Volvo 142E</th><td>21.4 </td><td>4    </td><td>121.0</td><td>109  </td><td>4.11 </td><td>2.780</td><td>18.60</td><td>1    </td><td>1    </td><td>4    </td><td>2    </td></tr>\n",
       "\t<tr><th scope=row>Toyota Corona</th><td>21.5 </td><td>4    </td><td>120.1</td><td> 97  </td><td>3.70 </td><td>2.465</td><td>20.01</td><td>1    </td><td>0    </td><td>3    </td><td>1    </td></tr>\n",
       "\t<tr><th scope=row>Datsun 710</th><td>22.8 </td><td>4    </td><td>108.0</td><td> 93  </td><td>3.85 </td><td>2.320</td><td>18.61</td><td>1    </td><td>1    </td><td>4    </td><td>1    </td></tr>\n",
       "\t<tr><th scope=row>Merc 230</th><td>22.8 </td><td>4    </td><td>140.8</td><td> 95  </td><td>3.92 </td><td>3.150</td><td>22.90</td><td>1    </td><td>0    </td><td>4    </td><td>2    </td></tr>\n",
       "\t<tr><th scope=row>Merc 240D</th><td>24.4 </td><td>4    </td><td>146.7</td><td> 62  </td><td>3.69 </td><td>3.190</td><td>20.00</td><td>1    </td><td>0    </td><td>4    </td><td>2    </td></tr>\n",
       "\t<tr><th scope=row>Porsche 914-2</th><td>26.0 </td><td>4    </td><td>120.3</td><td> 91  </td><td>4.43 </td><td>2.140</td><td>16.70</td><td>0    </td><td>1    </td><td>5    </td><td>2    </td></tr>\n",
       "\t<tr><th scope=row>Fiat X1-9</th><td>27.3 </td><td>4    </td><td> 79.0</td><td> 66  </td><td>4.08 </td><td>1.935</td><td>18.90</td><td>1    </td><td>1    </td><td>4    </td><td>1    </td></tr>\n",
       "\t<tr><th scope=row>Honda Civic</th><td>30.4 </td><td>4    </td><td> 75.7</td><td> 52  </td><td>4.93 </td><td>1.615</td><td>18.52</td><td>1    </td><td>1    </td><td>4    </td><td>2    </td></tr>\n",
       "\t<tr><th scope=row>Lotus Europa</th><td>30.4 </td><td>4    </td><td> 95.1</td><td>113  </td><td>3.77 </td><td>1.513</td><td>16.90</td><td>1    </td><td>1    </td><td>5    </td><td>2    </td></tr>\n",
       "\t<tr><th scope=row>Fiat 128</th><td>32.4 </td><td>4    </td><td> 78.7</td><td> 66  </td><td>4.08 </td><td>2.200</td><td>19.47</td><td>1    </td><td>1    </td><td>4    </td><td>1    </td></tr>\n",
       "\t<tr><th scope=row>Toyota Corolla</th><td>33.9 </td><td>4    </td><td> 71.1</td><td> 65  </td><td>4.22 </td><td>1.835</td><td>19.90</td><td>1    </td><td>1    </td><td>4    </td><td>1    </td></tr>\n",
       "</tbody>\n",
       "</table>\n"
      ],
      "text/latex": [
       "\\begin{tabular}{r|lllllllllll}\n",
       "  & mpg & cyl & disp & hp & drat & wt & qsec & vs & am & gear & carb\\\\\n",
       "\\hline\n",
       "\tCadillac Fleetwood & 10.4  & 8     & 472.0 & 205   & 2.93  & 5.250 & 17.98 & 0     & 0     & 3     & 4    \\\\\n",
       "\tLincoln Continental & 10.4  & 8     & 460.0 & 215   & 3.00  & 5.424 & 17.82 & 0     & 0     & 3     & 4    \\\\\n",
       "\tCamaro Z28 & 13.3  & 8     & 350.0 & 245   & 3.73  & 3.840 & 15.41 & 0     & 0     & 3     & 4    \\\\\n",
       "\tDuster 360 & 14.3  & 8     & 360.0 & 245   & 3.21  & 3.570 & 15.84 & 0     & 0     & 3     & 4    \\\\\n",
       "\tChrysler Imperial & 14.7  & 8     & 440.0 & 230   & 3.23  & 5.345 & 17.42 & 0     & 0     & 3     & 4    \\\\\n",
       "\tMaserati Bora & 15.0  & 8     & 301.0 & 335   & 3.54  & 3.570 & 14.60 & 0     & 1     & 5     & 8    \\\\\n",
       "\tMerc 450SLC & 15.2  & 8     & 275.8 & 180   & 3.07  & 3.780 & 18.00 & 0     & 0     & 3     & 3    \\\\\n",
       "\tAMC Javelin & 15.2  & 8     & 304.0 & 150   & 3.15  & 3.435 & 17.30 & 0     & 0     & 3     & 2    \\\\\n",
       "\tDodge Challenger & 15.5  & 8     & 318.0 & 150   & 2.76  & 3.520 & 16.87 & 0     & 0     & 3     & 2    \\\\\n",
       "\tFord Pantera L & 15.8  & 8     & 351.0 & 264   & 4.22  & 3.170 & 14.50 & 0     & 1     & 5     & 4    \\\\\n",
       "\tMerc 450SE & 16.4  & 8     & 275.8 & 180   & 3.07  & 4.070 & 17.40 & 0     & 0     & 3     & 3    \\\\\n",
       "\tMerc 450SL & 17.3  & 8     & 275.8 & 180   & 3.07  & 3.730 & 17.60 & 0     & 0     & 3     & 3    \\\\\n",
       "\tMerc 280C & 17.8  & 6     & 167.6 & 123   & 3.92  & 3.440 & 18.90 & 1     & 0     & 4     & 4    \\\\\n",
       "\tValiant & 18.1  & 6     & 225.0 & 105   & 2.76  & 3.460 & 20.22 & 1     & 0     & 3     & 1    \\\\\n",
       "\tHornet Sportabout & 18.7  & 8     & 360.0 & 175   & 3.15  & 3.440 & 17.02 & 0     & 0     & 3     & 2    \\\\\n",
       "\tMerc 280 & 19.2  & 6     & 167.6 & 123   & 3.92  & 3.440 & 18.30 & 1     & 0     & 4     & 4    \\\\\n",
       "\tPontiac Firebird & 19.2  & 8     & 400.0 & 175   & 3.08  & 3.845 & 17.05 & 0     & 0     & 3     & 2    \\\\\n",
       "\tFerrari Dino & 19.7  & 6     & 145.0 & 175   & 3.62  & 2.770 & 15.50 & 0     & 1     & 5     & 6    \\\\\n",
       "\tMazda RX4 & 21.0  & 6     & 160.0 & 110   & 3.90  & 2.620 & 16.46 & 0     & 1     & 4     & 4    \\\\\n",
       "\tMazda RX4 Wag & 21.0  & 6     & 160.0 & 110   & 3.90  & 2.875 & 17.02 & 0     & 1     & 4     & 4    \\\\\n",
       "\tHornet 4 Drive & 21.4  & 6     & 258.0 & 110   & 3.08  & 3.215 & 19.44 & 1     & 0     & 3     & 1    \\\\\n",
       "\tVolvo 142E & 21.4  & 4     & 121.0 & 109   & 4.11  & 2.780 & 18.60 & 1     & 1     & 4     & 2    \\\\\n",
       "\tToyota Corona & 21.5  & 4     & 120.1 &  97   & 3.70  & 2.465 & 20.01 & 1     & 0     & 3     & 1    \\\\\n",
       "\tDatsun 710 & 22.8  & 4     & 108.0 &  93   & 3.85  & 2.320 & 18.61 & 1     & 1     & 4     & 1    \\\\\n",
       "\tMerc 230 & 22.8  & 4     & 140.8 &  95   & 3.92  & 3.150 & 22.90 & 1     & 0     & 4     & 2    \\\\\n",
       "\tMerc 240D & 24.4  & 4     & 146.7 &  62   & 3.69  & 3.190 & 20.00 & 1     & 0     & 4     & 2    \\\\\n",
       "\tPorsche 914-2 & 26.0  & 4     & 120.3 &  91   & 4.43  & 2.140 & 16.70 & 0     & 1     & 5     & 2    \\\\\n",
       "\tFiat X1-9 & 27.3  & 4     &  79.0 &  66   & 4.08  & 1.935 & 18.90 & 1     & 1     & 4     & 1    \\\\\n",
       "\tHonda Civic & 30.4  & 4     &  75.7 &  52   & 4.93  & 1.615 & 18.52 & 1     & 1     & 4     & 2    \\\\\n",
       "\tLotus Europa & 30.4  & 4     &  95.1 & 113   & 3.77  & 1.513 & 16.90 & 1     & 1     & 5     & 2    \\\\\n",
       "\tFiat 128 & 32.4  & 4     &  78.7 &  66   & 4.08  & 2.200 & 19.47 & 1     & 1     & 4     & 1    \\\\\n",
       "\tToyota Corolla & 33.9  & 4     &  71.1 &  65   & 4.22  & 1.835 & 19.90 & 1     & 1     & 4     & 1    \\\\\n",
       "\\end{tabular}\n"
      ],
      "text/markdown": [
       "\n",
       "| <!--/--> | mpg | cyl | disp | hp | drat | wt | qsec | vs | am | gear | carb | \n",
       "|---|---|---|---|---|---|---|---|---|---|---|---|---|---|---|---|---|---|---|---|---|---|---|---|---|---|---|---|---|---|---|---|\n",
       "| Cadillac Fleetwood | 10.4  | 8     | 472.0 | 205   | 2.93  | 5.250 | 17.98 | 0     | 0     | 3     | 4     | \n",
       "| Lincoln Continental | 10.4  | 8     | 460.0 | 215   | 3.00  | 5.424 | 17.82 | 0     | 0     | 3     | 4     | \n",
       "| Camaro Z28 | 13.3  | 8     | 350.0 | 245   | 3.73  | 3.840 | 15.41 | 0     | 0     | 3     | 4     | \n",
       "| Duster 360 | 14.3  | 8     | 360.0 | 245   | 3.21  | 3.570 | 15.84 | 0     | 0     | 3     | 4     | \n",
       "| Chrysler Imperial | 14.7  | 8     | 440.0 | 230   | 3.23  | 5.345 | 17.42 | 0     | 0     | 3     | 4     | \n",
       "| Maserati Bora | 15.0  | 8     | 301.0 | 335   | 3.54  | 3.570 | 14.60 | 0     | 1     | 5     | 8     | \n",
       "| Merc 450SLC | 15.2  | 8     | 275.8 | 180   | 3.07  | 3.780 | 18.00 | 0     | 0     | 3     | 3     | \n",
       "| AMC Javelin | 15.2  | 8     | 304.0 | 150   | 3.15  | 3.435 | 17.30 | 0     | 0     | 3     | 2     | \n",
       "| Dodge Challenger | 15.5  | 8     | 318.0 | 150   | 2.76  | 3.520 | 16.87 | 0     | 0     | 3     | 2     | \n",
       "| Ford Pantera L | 15.8  | 8     | 351.0 | 264   | 4.22  | 3.170 | 14.50 | 0     | 1     | 5     | 4     | \n",
       "| Merc 450SE | 16.4  | 8     | 275.8 | 180   | 3.07  | 4.070 | 17.40 | 0     | 0     | 3     | 3     | \n",
       "| Merc 450SL | 17.3  | 8     | 275.8 | 180   | 3.07  | 3.730 | 17.60 | 0     | 0     | 3     | 3     | \n",
       "| Merc 280C | 17.8  | 6     | 167.6 | 123   | 3.92  | 3.440 | 18.90 | 1     | 0     | 4     | 4     | \n",
       "| Valiant | 18.1  | 6     | 225.0 | 105   | 2.76  | 3.460 | 20.22 | 1     | 0     | 3     | 1     | \n",
       "| Hornet Sportabout | 18.7  | 8     | 360.0 | 175   | 3.15  | 3.440 | 17.02 | 0     | 0     | 3     | 2     | \n",
       "| Merc 280 | 19.2  | 6     | 167.6 | 123   | 3.92  | 3.440 | 18.30 | 1     | 0     | 4     | 4     | \n",
       "| Pontiac Firebird | 19.2  | 8     | 400.0 | 175   | 3.08  | 3.845 | 17.05 | 0     | 0     | 3     | 2     | \n",
       "| Ferrari Dino | 19.7  | 6     | 145.0 | 175   | 3.62  | 2.770 | 15.50 | 0     | 1     | 5     | 6     | \n",
       "| Mazda RX4 | 21.0  | 6     | 160.0 | 110   | 3.90  | 2.620 | 16.46 | 0     | 1     | 4     | 4     | \n",
       "| Mazda RX4 Wag | 21.0  | 6     | 160.0 | 110   | 3.90  | 2.875 | 17.02 | 0     | 1     | 4     | 4     | \n",
       "| Hornet 4 Drive | 21.4  | 6     | 258.0 | 110   | 3.08  | 3.215 | 19.44 | 1     | 0     | 3     | 1     | \n",
       "| Volvo 142E | 21.4  | 4     | 121.0 | 109   | 4.11  | 2.780 | 18.60 | 1     | 1     | 4     | 2     | \n",
       "| Toyota Corona | 21.5  | 4     | 120.1 |  97   | 3.70  | 2.465 | 20.01 | 1     | 0     | 3     | 1     | \n",
       "| Datsun 710 | 22.8  | 4     | 108.0 |  93   | 3.85  | 2.320 | 18.61 | 1     | 1     | 4     | 1     | \n",
       "| Merc 230 | 22.8  | 4     | 140.8 |  95   | 3.92  | 3.150 | 22.90 | 1     | 0     | 4     | 2     | \n",
       "| Merc 240D | 24.4  | 4     | 146.7 |  62   | 3.69  | 3.190 | 20.00 | 1     | 0     | 4     | 2     | \n",
       "| Porsche 914-2 | 26.0  | 4     | 120.3 |  91   | 4.43  | 2.140 | 16.70 | 0     | 1     | 5     | 2     | \n",
       "| Fiat X1-9 | 27.3  | 4     |  79.0 |  66   | 4.08  | 1.935 | 18.90 | 1     | 1     | 4     | 1     | \n",
       "| Honda Civic | 30.4  | 4     |  75.7 |  52   | 4.93  | 1.615 | 18.52 | 1     | 1     | 4     | 2     | \n",
       "| Lotus Europa | 30.4  | 4     |  95.1 | 113   | 3.77  | 1.513 | 16.90 | 1     | 1     | 5     | 2     | \n",
       "| Fiat 128 | 32.4  | 4     |  78.7 |  66   | 4.08  | 2.200 | 19.47 | 1     | 1     | 4     | 1     | \n",
       "| Toyota Corolla | 33.9  | 4     |  71.1 |  65   | 4.22  | 1.835 | 19.90 | 1     | 1     | 4     | 1     | \n",
       "\n",
       "\n"
      ],
      "text/plain": [
       "                    mpg  cyl disp  hp  drat wt    qsec  vs am gear carb\n",
       "Cadillac Fleetwood  10.4 8   472.0 205 2.93 5.250 17.98 0  0  3    4   \n",
       "Lincoln Continental 10.4 8   460.0 215 3.00 5.424 17.82 0  0  3    4   \n",
       "Camaro Z28          13.3 8   350.0 245 3.73 3.840 15.41 0  0  3    4   \n",
       "Duster 360          14.3 8   360.0 245 3.21 3.570 15.84 0  0  3    4   \n",
       "Chrysler Imperial   14.7 8   440.0 230 3.23 5.345 17.42 0  0  3    4   \n",
       "Maserati Bora       15.0 8   301.0 335 3.54 3.570 14.60 0  1  5    8   \n",
       "Merc 450SLC         15.2 8   275.8 180 3.07 3.780 18.00 0  0  3    3   \n",
       "AMC Javelin         15.2 8   304.0 150 3.15 3.435 17.30 0  0  3    2   \n",
       "Dodge Challenger    15.5 8   318.0 150 2.76 3.520 16.87 0  0  3    2   \n",
       "Ford Pantera L      15.8 8   351.0 264 4.22 3.170 14.50 0  1  5    4   \n",
       "Merc 450SE          16.4 8   275.8 180 3.07 4.070 17.40 0  0  3    3   \n",
       "Merc 450SL          17.3 8   275.8 180 3.07 3.730 17.60 0  0  3    3   \n",
       "Merc 280C           17.8 6   167.6 123 3.92 3.440 18.90 1  0  4    4   \n",
       "Valiant             18.1 6   225.0 105 2.76 3.460 20.22 1  0  3    1   \n",
       "Hornet Sportabout   18.7 8   360.0 175 3.15 3.440 17.02 0  0  3    2   \n",
       "Merc 280            19.2 6   167.6 123 3.92 3.440 18.30 1  0  4    4   \n",
       "Pontiac Firebird    19.2 8   400.0 175 3.08 3.845 17.05 0  0  3    2   \n",
       "Ferrari Dino        19.7 6   145.0 175 3.62 2.770 15.50 0  1  5    6   \n",
       "Mazda RX4           21.0 6   160.0 110 3.90 2.620 16.46 0  1  4    4   \n",
       "Mazda RX4 Wag       21.0 6   160.0 110 3.90 2.875 17.02 0  1  4    4   \n",
       "Hornet 4 Drive      21.4 6   258.0 110 3.08 3.215 19.44 1  0  3    1   \n",
       "Volvo 142E          21.4 4   121.0 109 4.11 2.780 18.60 1  1  4    2   \n",
       "Toyota Corona       21.5 4   120.1  97 3.70 2.465 20.01 1  0  3    1   \n",
       "Datsun 710          22.8 4   108.0  93 3.85 2.320 18.61 1  1  4    1   \n",
       "Merc 230            22.8 4   140.8  95 3.92 3.150 22.90 1  0  4    2   \n",
       "Merc 240D           24.4 4   146.7  62 3.69 3.190 20.00 1  0  4    2   \n",
       "Porsche 914-2       26.0 4   120.3  91 4.43 2.140 16.70 0  1  5    2   \n",
       "Fiat X1-9           27.3 4    79.0  66 4.08 1.935 18.90 1  1  4    1   \n",
       "Honda Civic         30.4 4    75.7  52 4.93 1.615 18.52 1  1  4    2   \n",
       "Lotus Europa        30.4 4    95.1 113 3.77 1.513 16.90 1  1  5    2   \n",
       "Fiat 128            32.4 4    78.7  66 4.08 2.200 19.47 1  1  4    1   \n",
       "Toyota Corolla      33.9 4    71.1  65 4.22 1.835 19.90 1  1  4    1   "
      ]
     },
     "metadata": {},
     "output_type": "display_data"
    }
   ],
   "source": [
    "sortedDF <- mtcars[order(mtcars$mpg),] # ascending\n",
    "sortedDF"
   ]
  },
  {
   "cell_type": "code",
   "execution_count": 73,
   "metadata": {},
   "outputs": [
    {
     "data": {
      "text/html": [
       "<table>\n",
       "<thead><tr><th></th><th scope=col>mpg</th><th scope=col>cyl</th><th scope=col>disp</th><th scope=col>hp</th><th scope=col>drat</th><th scope=col>wt</th><th scope=col>qsec</th><th scope=col>vs</th><th scope=col>am</th><th scope=col>gear</th><th scope=col>carb</th></tr></thead>\n",
       "<tbody>\n",
       "\t<tr><th scope=row>Toyota Corolla</th><td>33.9 </td><td>4    </td><td> 71.1</td><td> 65  </td><td>4.22 </td><td>1.835</td><td>19.90</td><td>1    </td><td>1    </td><td>4    </td><td>1    </td></tr>\n",
       "\t<tr><th scope=row>Fiat 128</th><td>32.4 </td><td>4    </td><td> 78.7</td><td> 66  </td><td>4.08 </td><td>2.200</td><td>19.47</td><td>1    </td><td>1    </td><td>4    </td><td>1    </td></tr>\n",
       "\t<tr><th scope=row>Honda Civic</th><td>30.4 </td><td>4    </td><td> 75.7</td><td> 52  </td><td>4.93 </td><td>1.615</td><td>18.52</td><td>1    </td><td>1    </td><td>4    </td><td>2    </td></tr>\n",
       "\t<tr><th scope=row>Lotus Europa</th><td>30.4 </td><td>4    </td><td> 95.1</td><td>113  </td><td>3.77 </td><td>1.513</td><td>16.90</td><td>1    </td><td>1    </td><td>5    </td><td>2    </td></tr>\n",
       "\t<tr><th scope=row>Fiat X1-9</th><td>27.3 </td><td>4    </td><td> 79.0</td><td> 66  </td><td>4.08 </td><td>1.935</td><td>18.90</td><td>1    </td><td>1    </td><td>4    </td><td>1    </td></tr>\n",
       "\t<tr><th scope=row>Porsche 914-2</th><td>26.0 </td><td>4    </td><td>120.3</td><td> 91  </td><td>4.43 </td><td>2.140</td><td>16.70</td><td>0    </td><td>1    </td><td>5    </td><td>2    </td></tr>\n",
       "\t<tr><th scope=row>Merc 240D</th><td>24.4 </td><td>4    </td><td>146.7</td><td> 62  </td><td>3.69 </td><td>3.190</td><td>20.00</td><td>1    </td><td>0    </td><td>4    </td><td>2    </td></tr>\n",
       "\t<tr><th scope=row>Datsun 710</th><td>22.8 </td><td>4    </td><td>108.0</td><td> 93  </td><td>3.85 </td><td>2.320</td><td>18.61</td><td>1    </td><td>1    </td><td>4    </td><td>1    </td></tr>\n",
       "\t<tr><th scope=row>Merc 230</th><td>22.8 </td><td>4    </td><td>140.8</td><td> 95  </td><td>3.92 </td><td>3.150</td><td>22.90</td><td>1    </td><td>0    </td><td>4    </td><td>2    </td></tr>\n",
       "\t<tr><th scope=row>Toyota Corona</th><td>21.5 </td><td>4    </td><td>120.1</td><td> 97  </td><td>3.70 </td><td>2.465</td><td>20.01</td><td>1    </td><td>0    </td><td>3    </td><td>1    </td></tr>\n",
       "\t<tr><th scope=row>Hornet 4 Drive</th><td>21.4 </td><td>6    </td><td>258.0</td><td>110  </td><td>3.08 </td><td>3.215</td><td>19.44</td><td>1    </td><td>0    </td><td>3    </td><td>1    </td></tr>\n",
       "\t<tr><th scope=row>Volvo 142E</th><td>21.4 </td><td>4    </td><td>121.0</td><td>109  </td><td>4.11 </td><td>2.780</td><td>18.60</td><td>1    </td><td>1    </td><td>4    </td><td>2    </td></tr>\n",
       "\t<tr><th scope=row>Mazda RX4</th><td>21.0 </td><td>6    </td><td>160.0</td><td>110  </td><td>3.90 </td><td>2.620</td><td>16.46</td><td>0    </td><td>1    </td><td>4    </td><td>4    </td></tr>\n",
       "\t<tr><th scope=row>Mazda RX4 Wag</th><td>21.0 </td><td>6    </td><td>160.0</td><td>110  </td><td>3.90 </td><td>2.875</td><td>17.02</td><td>0    </td><td>1    </td><td>4    </td><td>4    </td></tr>\n",
       "\t<tr><th scope=row>Ferrari Dino</th><td>19.7 </td><td>6    </td><td>145.0</td><td>175  </td><td>3.62 </td><td>2.770</td><td>15.50</td><td>0    </td><td>1    </td><td>5    </td><td>6    </td></tr>\n",
       "\t<tr><th scope=row>Merc 280</th><td>19.2 </td><td>6    </td><td>167.6</td><td>123  </td><td>3.92 </td><td>3.440</td><td>18.30</td><td>1    </td><td>0    </td><td>4    </td><td>4    </td></tr>\n",
       "\t<tr><th scope=row>Pontiac Firebird</th><td>19.2 </td><td>8    </td><td>400.0</td><td>175  </td><td>3.08 </td><td>3.845</td><td>17.05</td><td>0    </td><td>0    </td><td>3    </td><td>2    </td></tr>\n",
       "\t<tr><th scope=row>Hornet Sportabout</th><td>18.7 </td><td>8    </td><td>360.0</td><td>175  </td><td>3.15 </td><td>3.440</td><td>17.02</td><td>0    </td><td>0    </td><td>3    </td><td>2    </td></tr>\n",
       "\t<tr><th scope=row>Valiant</th><td>18.1 </td><td>6    </td><td>225.0</td><td>105  </td><td>2.76 </td><td>3.460</td><td>20.22</td><td>1    </td><td>0    </td><td>3    </td><td>1    </td></tr>\n",
       "\t<tr><th scope=row>Merc 280C</th><td>17.8 </td><td>6    </td><td>167.6</td><td>123  </td><td>3.92 </td><td>3.440</td><td>18.90</td><td>1    </td><td>0    </td><td>4    </td><td>4    </td></tr>\n",
       "\t<tr><th scope=row>Merc 450SL</th><td>17.3 </td><td>8    </td><td>275.8</td><td>180  </td><td>3.07 </td><td>3.730</td><td>17.60</td><td>0    </td><td>0    </td><td>3    </td><td>3    </td></tr>\n",
       "\t<tr><th scope=row>Merc 450SE</th><td>16.4 </td><td>8    </td><td>275.8</td><td>180  </td><td>3.07 </td><td>4.070</td><td>17.40</td><td>0    </td><td>0    </td><td>3    </td><td>3    </td></tr>\n",
       "\t<tr><th scope=row>Ford Pantera L</th><td>15.8 </td><td>8    </td><td>351.0</td><td>264  </td><td>4.22 </td><td>3.170</td><td>14.50</td><td>0    </td><td>1    </td><td>5    </td><td>4    </td></tr>\n",
       "\t<tr><th scope=row>Dodge Challenger</th><td>15.5 </td><td>8    </td><td>318.0</td><td>150  </td><td>2.76 </td><td>3.520</td><td>16.87</td><td>0    </td><td>0    </td><td>3    </td><td>2    </td></tr>\n",
       "\t<tr><th scope=row>Merc 450SLC</th><td>15.2 </td><td>8    </td><td>275.8</td><td>180  </td><td>3.07 </td><td>3.780</td><td>18.00</td><td>0    </td><td>0    </td><td>3    </td><td>3    </td></tr>\n",
       "\t<tr><th scope=row>AMC Javelin</th><td>15.2 </td><td>8    </td><td>304.0</td><td>150  </td><td>3.15 </td><td>3.435</td><td>17.30</td><td>0    </td><td>0    </td><td>3    </td><td>2    </td></tr>\n",
       "\t<tr><th scope=row>Maserati Bora</th><td>15.0 </td><td>8    </td><td>301.0</td><td>335  </td><td>3.54 </td><td>3.570</td><td>14.60</td><td>0    </td><td>1    </td><td>5    </td><td>8    </td></tr>\n",
       "\t<tr><th scope=row>Chrysler Imperial</th><td>14.7 </td><td>8    </td><td>440.0</td><td>230  </td><td>3.23 </td><td>5.345</td><td>17.42</td><td>0    </td><td>0    </td><td>3    </td><td>4    </td></tr>\n",
       "\t<tr><th scope=row>Duster 360</th><td>14.3 </td><td>8    </td><td>360.0</td><td>245  </td><td>3.21 </td><td>3.570</td><td>15.84</td><td>0    </td><td>0    </td><td>3    </td><td>4    </td></tr>\n",
       "\t<tr><th scope=row>Camaro Z28</th><td>13.3 </td><td>8    </td><td>350.0</td><td>245  </td><td>3.73 </td><td>3.840</td><td>15.41</td><td>0    </td><td>0    </td><td>3    </td><td>4    </td></tr>\n",
       "\t<tr><th scope=row>Cadillac Fleetwood</th><td>10.4 </td><td>8    </td><td>472.0</td><td>205  </td><td>2.93 </td><td>5.250</td><td>17.98</td><td>0    </td><td>0    </td><td>3    </td><td>4    </td></tr>\n",
       "\t<tr><th scope=row>Lincoln Continental</th><td>10.4 </td><td>8    </td><td>460.0</td><td>215  </td><td>3.00 </td><td>5.424</td><td>17.82</td><td>0    </td><td>0    </td><td>3    </td><td>4    </td></tr>\n",
       "</tbody>\n",
       "</table>\n"
      ],
      "text/latex": [
       "\\begin{tabular}{r|lllllllllll}\n",
       "  & mpg & cyl & disp & hp & drat & wt & qsec & vs & am & gear & carb\\\\\n",
       "\\hline\n",
       "\tToyota Corolla & 33.9  & 4     &  71.1 &  65   & 4.22  & 1.835 & 19.90 & 1     & 1     & 4     & 1    \\\\\n",
       "\tFiat 128 & 32.4  & 4     &  78.7 &  66   & 4.08  & 2.200 & 19.47 & 1     & 1     & 4     & 1    \\\\\n",
       "\tHonda Civic & 30.4  & 4     &  75.7 &  52   & 4.93  & 1.615 & 18.52 & 1     & 1     & 4     & 2    \\\\\n",
       "\tLotus Europa & 30.4  & 4     &  95.1 & 113   & 3.77  & 1.513 & 16.90 & 1     & 1     & 5     & 2    \\\\\n",
       "\tFiat X1-9 & 27.3  & 4     &  79.0 &  66   & 4.08  & 1.935 & 18.90 & 1     & 1     & 4     & 1    \\\\\n",
       "\tPorsche 914-2 & 26.0  & 4     & 120.3 &  91   & 4.43  & 2.140 & 16.70 & 0     & 1     & 5     & 2    \\\\\n",
       "\tMerc 240D & 24.4  & 4     & 146.7 &  62   & 3.69  & 3.190 & 20.00 & 1     & 0     & 4     & 2    \\\\\n",
       "\tDatsun 710 & 22.8  & 4     & 108.0 &  93   & 3.85  & 2.320 & 18.61 & 1     & 1     & 4     & 1    \\\\\n",
       "\tMerc 230 & 22.8  & 4     & 140.8 &  95   & 3.92  & 3.150 & 22.90 & 1     & 0     & 4     & 2    \\\\\n",
       "\tToyota Corona & 21.5  & 4     & 120.1 &  97   & 3.70  & 2.465 & 20.01 & 1     & 0     & 3     & 1    \\\\\n",
       "\tHornet 4 Drive & 21.4  & 6     & 258.0 & 110   & 3.08  & 3.215 & 19.44 & 1     & 0     & 3     & 1    \\\\\n",
       "\tVolvo 142E & 21.4  & 4     & 121.0 & 109   & 4.11  & 2.780 & 18.60 & 1     & 1     & 4     & 2    \\\\\n",
       "\tMazda RX4 & 21.0  & 6     & 160.0 & 110   & 3.90  & 2.620 & 16.46 & 0     & 1     & 4     & 4    \\\\\n",
       "\tMazda RX4 Wag & 21.0  & 6     & 160.0 & 110   & 3.90  & 2.875 & 17.02 & 0     & 1     & 4     & 4    \\\\\n",
       "\tFerrari Dino & 19.7  & 6     & 145.0 & 175   & 3.62  & 2.770 & 15.50 & 0     & 1     & 5     & 6    \\\\\n",
       "\tMerc 280 & 19.2  & 6     & 167.6 & 123   & 3.92  & 3.440 & 18.30 & 1     & 0     & 4     & 4    \\\\\n",
       "\tPontiac Firebird & 19.2  & 8     & 400.0 & 175   & 3.08  & 3.845 & 17.05 & 0     & 0     & 3     & 2    \\\\\n",
       "\tHornet Sportabout & 18.7  & 8     & 360.0 & 175   & 3.15  & 3.440 & 17.02 & 0     & 0     & 3     & 2    \\\\\n",
       "\tValiant & 18.1  & 6     & 225.0 & 105   & 2.76  & 3.460 & 20.22 & 1     & 0     & 3     & 1    \\\\\n",
       "\tMerc 280C & 17.8  & 6     & 167.6 & 123   & 3.92  & 3.440 & 18.90 & 1     & 0     & 4     & 4    \\\\\n",
       "\tMerc 450SL & 17.3  & 8     & 275.8 & 180   & 3.07  & 3.730 & 17.60 & 0     & 0     & 3     & 3    \\\\\n",
       "\tMerc 450SE & 16.4  & 8     & 275.8 & 180   & 3.07  & 4.070 & 17.40 & 0     & 0     & 3     & 3    \\\\\n",
       "\tFord Pantera L & 15.8  & 8     & 351.0 & 264   & 4.22  & 3.170 & 14.50 & 0     & 1     & 5     & 4    \\\\\n",
       "\tDodge Challenger & 15.5  & 8     & 318.0 & 150   & 2.76  & 3.520 & 16.87 & 0     & 0     & 3     & 2    \\\\\n",
       "\tMerc 450SLC & 15.2  & 8     & 275.8 & 180   & 3.07  & 3.780 & 18.00 & 0     & 0     & 3     & 3    \\\\\n",
       "\tAMC Javelin & 15.2  & 8     & 304.0 & 150   & 3.15  & 3.435 & 17.30 & 0     & 0     & 3     & 2    \\\\\n",
       "\tMaserati Bora & 15.0  & 8     & 301.0 & 335   & 3.54  & 3.570 & 14.60 & 0     & 1     & 5     & 8    \\\\\n",
       "\tChrysler Imperial & 14.7  & 8     & 440.0 & 230   & 3.23  & 5.345 & 17.42 & 0     & 0     & 3     & 4    \\\\\n",
       "\tDuster 360 & 14.3  & 8     & 360.0 & 245   & 3.21  & 3.570 & 15.84 & 0     & 0     & 3     & 4    \\\\\n",
       "\tCamaro Z28 & 13.3  & 8     & 350.0 & 245   & 3.73  & 3.840 & 15.41 & 0     & 0     & 3     & 4    \\\\\n",
       "\tCadillac Fleetwood & 10.4  & 8     & 472.0 & 205   & 2.93  & 5.250 & 17.98 & 0     & 0     & 3     & 4    \\\\\n",
       "\tLincoln Continental & 10.4  & 8     & 460.0 & 215   & 3.00  & 5.424 & 17.82 & 0     & 0     & 3     & 4    \\\\\n",
       "\\end{tabular}\n"
      ],
      "text/markdown": [
       "\n",
       "| <!--/--> | mpg | cyl | disp | hp | drat | wt | qsec | vs | am | gear | carb | \n",
       "|---|---|---|---|---|---|---|---|---|---|---|---|---|---|---|---|---|---|---|---|---|---|---|---|---|---|---|---|---|---|---|---|\n",
       "| Toyota Corolla | 33.9  | 4     |  71.1 |  65   | 4.22  | 1.835 | 19.90 | 1     | 1     | 4     | 1     | \n",
       "| Fiat 128 | 32.4  | 4     |  78.7 |  66   | 4.08  | 2.200 | 19.47 | 1     | 1     | 4     | 1     | \n",
       "| Honda Civic | 30.4  | 4     |  75.7 |  52   | 4.93  | 1.615 | 18.52 | 1     | 1     | 4     | 2     | \n",
       "| Lotus Europa | 30.4  | 4     |  95.1 | 113   | 3.77  | 1.513 | 16.90 | 1     | 1     | 5     | 2     | \n",
       "| Fiat X1-9 | 27.3  | 4     |  79.0 |  66   | 4.08  | 1.935 | 18.90 | 1     | 1     | 4     | 1     | \n",
       "| Porsche 914-2 | 26.0  | 4     | 120.3 |  91   | 4.43  | 2.140 | 16.70 | 0     | 1     | 5     | 2     | \n",
       "| Merc 240D | 24.4  | 4     | 146.7 |  62   | 3.69  | 3.190 | 20.00 | 1     | 0     | 4     | 2     | \n",
       "| Datsun 710 | 22.8  | 4     | 108.0 |  93   | 3.85  | 2.320 | 18.61 | 1     | 1     | 4     | 1     | \n",
       "| Merc 230 | 22.8  | 4     | 140.8 |  95   | 3.92  | 3.150 | 22.90 | 1     | 0     | 4     | 2     | \n",
       "| Toyota Corona | 21.5  | 4     | 120.1 |  97   | 3.70  | 2.465 | 20.01 | 1     | 0     | 3     | 1     | \n",
       "| Hornet 4 Drive | 21.4  | 6     | 258.0 | 110   | 3.08  | 3.215 | 19.44 | 1     | 0     | 3     | 1     | \n",
       "| Volvo 142E | 21.4  | 4     | 121.0 | 109   | 4.11  | 2.780 | 18.60 | 1     | 1     | 4     | 2     | \n",
       "| Mazda RX4 | 21.0  | 6     | 160.0 | 110   | 3.90  | 2.620 | 16.46 | 0     | 1     | 4     | 4     | \n",
       "| Mazda RX4 Wag | 21.0  | 6     | 160.0 | 110   | 3.90  | 2.875 | 17.02 | 0     | 1     | 4     | 4     | \n",
       "| Ferrari Dino | 19.7  | 6     | 145.0 | 175   | 3.62  | 2.770 | 15.50 | 0     | 1     | 5     | 6     | \n",
       "| Merc 280 | 19.2  | 6     | 167.6 | 123   | 3.92  | 3.440 | 18.30 | 1     | 0     | 4     | 4     | \n",
       "| Pontiac Firebird | 19.2  | 8     | 400.0 | 175   | 3.08  | 3.845 | 17.05 | 0     | 0     | 3     | 2     | \n",
       "| Hornet Sportabout | 18.7  | 8     | 360.0 | 175   | 3.15  | 3.440 | 17.02 | 0     | 0     | 3     | 2     | \n",
       "| Valiant | 18.1  | 6     | 225.0 | 105   | 2.76  | 3.460 | 20.22 | 1     | 0     | 3     | 1     | \n",
       "| Merc 280C | 17.8  | 6     | 167.6 | 123   | 3.92  | 3.440 | 18.90 | 1     | 0     | 4     | 4     | \n",
       "| Merc 450SL | 17.3  | 8     | 275.8 | 180   | 3.07  | 3.730 | 17.60 | 0     | 0     | 3     | 3     | \n",
       "| Merc 450SE | 16.4  | 8     | 275.8 | 180   | 3.07  | 4.070 | 17.40 | 0     | 0     | 3     | 3     | \n",
       "| Ford Pantera L | 15.8  | 8     | 351.0 | 264   | 4.22  | 3.170 | 14.50 | 0     | 1     | 5     | 4     | \n",
       "| Dodge Challenger | 15.5  | 8     | 318.0 | 150   | 2.76  | 3.520 | 16.87 | 0     | 0     | 3     | 2     | \n",
       "| Merc 450SLC | 15.2  | 8     | 275.8 | 180   | 3.07  | 3.780 | 18.00 | 0     | 0     | 3     | 3     | \n",
       "| AMC Javelin | 15.2  | 8     | 304.0 | 150   | 3.15  | 3.435 | 17.30 | 0     | 0     | 3     | 2     | \n",
       "| Maserati Bora | 15.0  | 8     | 301.0 | 335   | 3.54  | 3.570 | 14.60 | 0     | 1     | 5     | 8     | \n",
       "| Chrysler Imperial | 14.7  | 8     | 440.0 | 230   | 3.23  | 5.345 | 17.42 | 0     | 0     | 3     | 4     | \n",
       "| Duster 360 | 14.3  | 8     | 360.0 | 245   | 3.21  | 3.570 | 15.84 | 0     | 0     | 3     | 4     | \n",
       "| Camaro Z28 | 13.3  | 8     | 350.0 | 245   | 3.73  | 3.840 | 15.41 | 0     | 0     | 3     | 4     | \n",
       "| Cadillac Fleetwood | 10.4  | 8     | 472.0 | 205   | 2.93  | 5.250 | 17.98 | 0     | 0     | 3     | 4     | \n",
       "| Lincoln Continental | 10.4  | 8     | 460.0 | 215   | 3.00  | 5.424 | 17.82 | 0     | 0     | 3     | 4     | \n",
       "\n",
       "\n"
      ],
      "text/plain": [
       "                    mpg  cyl disp  hp  drat wt    qsec  vs am gear carb\n",
       "Toyota Corolla      33.9 4    71.1  65 4.22 1.835 19.90 1  1  4    1   \n",
       "Fiat 128            32.4 4    78.7  66 4.08 2.200 19.47 1  1  4    1   \n",
       "Honda Civic         30.4 4    75.7  52 4.93 1.615 18.52 1  1  4    2   \n",
       "Lotus Europa        30.4 4    95.1 113 3.77 1.513 16.90 1  1  5    2   \n",
       "Fiat X1-9           27.3 4    79.0  66 4.08 1.935 18.90 1  1  4    1   \n",
       "Porsche 914-2       26.0 4   120.3  91 4.43 2.140 16.70 0  1  5    2   \n",
       "Merc 240D           24.4 4   146.7  62 3.69 3.190 20.00 1  0  4    2   \n",
       "Datsun 710          22.8 4   108.0  93 3.85 2.320 18.61 1  1  4    1   \n",
       "Merc 230            22.8 4   140.8  95 3.92 3.150 22.90 1  0  4    2   \n",
       "Toyota Corona       21.5 4   120.1  97 3.70 2.465 20.01 1  0  3    1   \n",
       "Hornet 4 Drive      21.4 6   258.0 110 3.08 3.215 19.44 1  0  3    1   \n",
       "Volvo 142E          21.4 4   121.0 109 4.11 2.780 18.60 1  1  4    2   \n",
       "Mazda RX4           21.0 6   160.0 110 3.90 2.620 16.46 0  1  4    4   \n",
       "Mazda RX4 Wag       21.0 6   160.0 110 3.90 2.875 17.02 0  1  4    4   \n",
       "Ferrari Dino        19.7 6   145.0 175 3.62 2.770 15.50 0  1  5    6   \n",
       "Merc 280            19.2 6   167.6 123 3.92 3.440 18.30 1  0  4    4   \n",
       "Pontiac Firebird    19.2 8   400.0 175 3.08 3.845 17.05 0  0  3    2   \n",
       "Hornet Sportabout   18.7 8   360.0 175 3.15 3.440 17.02 0  0  3    2   \n",
       "Valiant             18.1 6   225.0 105 2.76 3.460 20.22 1  0  3    1   \n",
       "Merc 280C           17.8 6   167.6 123 3.92 3.440 18.90 1  0  4    4   \n",
       "Merc 450SL          17.3 8   275.8 180 3.07 3.730 17.60 0  0  3    3   \n",
       "Merc 450SE          16.4 8   275.8 180 3.07 4.070 17.40 0  0  3    3   \n",
       "Ford Pantera L      15.8 8   351.0 264 4.22 3.170 14.50 0  1  5    4   \n",
       "Dodge Challenger    15.5 8   318.0 150 2.76 3.520 16.87 0  0  3    2   \n",
       "Merc 450SLC         15.2 8   275.8 180 3.07 3.780 18.00 0  0  3    3   \n",
       "AMC Javelin         15.2 8   304.0 150 3.15 3.435 17.30 0  0  3    2   \n",
       "Maserati Bora       15.0 8   301.0 335 3.54 3.570 14.60 0  1  5    8   \n",
       "Chrysler Imperial   14.7 8   440.0 230 3.23 5.345 17.42 0  0  3    4   \n",
       "Duster 360          14.3 8   360.0 245 3.21 3.570 15.84 0  0  3    4   \n",
       "Camaro Z28          13.3 8   350.0 245 3.73 3.840 15.41 0  0  3    4   \n",
       "Cadillac Fleetwood  10.4 8   472.0 205 2.93 5.250 17.98 0  0  3    4   \n",
       "Lincoln Continental 10.4 8   460.0 215 3.00 5.424 17.82 0  0  3    4   "
      ]
     },
     "metadata": {},
     "output_type": "display_data"
    }
   ],
   "source": [
    "sortedDF <- mtcars[order(-mtcars$mpg),] # descending\n",
    "sortedDF"
   ]
  },
  {
   "cell_type": "markdown",
   "metadata": {},
   "source": [
    "## Editing Data Frames"
   ]
  },
  {
   "cell_type": "code",
   "execution_count": 74,
   "metadata": {},
   "outputs": [],
   "source": [
    "fix(mtcars)"
   ]
  },
  {
   "cell_type": "markdown",
   "metadata": {},
   "source": [
    "## The str() Function"
   ]
  },
  {
   "cell_type": "code",
   "execution_count": 75,
   "metadata": {},
   "outputs": [
    {
     "name": "stdout",
     "output_type": "stream",
     "text": [
      " num [1:3] 1 2 3\n",
      " num [1:2, 1:3] 1 11 2 12 3 13\n"
     ]
    }
   ],
   "source": [
    "v <- c(1, 2, 3)\n",
    "str(v)\n",
    "\n",
    "m <- matrix(c(1,2,3, 11,12,13), nrow = 2, ncol = 3, byrow = TRUE)\n",
    "str(m)"
   ]
  },
  {
   "cell_type": "markdown",
   "metadata": {},
   "source": [
    "## Type Conversion"
   ]
  },
  {
   "cell_type": "code",
   "execution_count": 76,
   "metadata": {},
   "outputs": [
    {
     "data": {
      "text/html": [
       "<ol class=list-inline>\n",
       "\t<li>'1'</li>\n",
       "\t<li>'2'</li>\n",
       "\t<li>'3'</li>\n",
       "\t<li>'4'</li>\n",
       "\t<li>'5'</li>\n",
       "</ol>\n"
      ],
      "text/latex": [
       "\\begin{enumerate*}\n",
       "\\item '1'\n",
       "\\item '2'\n",
       "\\item '3'\n",
       "\\item '4'\n",
       "\\item '5'\n",
       "\\end{enumerate*}\n"
      ],
      "text/markdown": [
       "1. '1'\n",
       "2. '2'\n",
       "3. '3'\n",
       "4. '4'\n",
       "5. '5'\n",
       "\n",
       "\n"
      ],
      "text/plain": [
       "[1] \"1\" \"2\" \"3\" \"4\" \"5\""
      ]
     },
     "metadata": {},
     "output_type": "display_data"
    },
    {
     "data": {
      "text/html": [
       "<ol class=list-inline>\n",
       "\t<li>1</li>\n",
       "\t<li>2</li>\n",
       "\t<li>3</li>\n",
       "\t<li>4</li>\n",
       "\t<li>5</li>\n",
       "</ol>\n"
      ],
      "text/latex": [
       "\\begin{enumerate*}\n",
       "\\item 1\n",
       "\\item 2\n",
       "\\item 3\n",
       "\\item 4\n",
       "\\item 5\n",
       "\\end{enumerate*}\n"
      ],
      "text/markdown": [
       "1. 1\n",
       "2. 2\n",
       "3. 3\n",
       "4. 4\n",
       "5. 5\n",
       "\n",
       "\n"
      ],
      "text/plain": [
       "[1] 1 2 3 4 5"
      ]
     },
     "metadata": {},
     "output_type": "display_data"
    },
    {
     "data": {
      "text/html": [
       "<time datetime=\"2018-12-31\">2018-12-31</time>"
      ],
      "text/latex": [
       "2018-12-31"
      ],
      "text/markdown": [
       "2018-12-31"
      ],
      "text/plain": [
       "[1] \"2018-12-31\""
      ]
     },
     "metadata": {},
     "output_type": "display_data"
    }
   ],
   "source": [
    "c <- as.character(1:5)\n",
    "c\n",
    "n <- as.integer(c)\n",
    "n\n",
    "as.Date(\"2018-12-31\")"
   ]
  },
  {
   "cell_type": "markdown",
   "metadata": {},
   "source": [
    "## The summary() function"
   ]
  },
  {
   "cell_type": "code",
   "execution_count": 77,
   "metadata": {},
   "outputs": [
    {
     "data": {
      "text/plain": [
       "   Min. 1st Qu.  Median    Mean 3rd Qu.    Max. \n",
       "     10      11      12      12      13      14 "
      ]
     },
     "metadata": {},
     "output_type": "display_data"
    },
    {
     "data": {
      "text/plain": [
       "       V1             V2             V3      \n",
       " Min.   : 1.0   Min.   : 2.0   Min.   : 3.0  \n",
       " 1st Qu.: 3.5   1st Qu.: 4.5   1st Qu.: 5.5  \n",
       " Median : 6.0   Median : 7.0   Median : 8.0  \n",
       " Mean   : 6.0   Mean   : 7.0   Mean   : 8.0  \n",
       " 3rd Qu.: 8.5   3rd Qu.: 9.5   3rd Qu.:10.5  \n",
       " Max.   :11.0   Max.   :12.0   Max.   :13.0  "
      ]
     },
     "metadata": {},
     "output_type": "display_data"
    }
   ],
   "source": [
    "v <- c(10, 11, 12, 13, 14)\n",
    "summary(v)\n",
    "\n",
    "m <- matrix(c(1,2,3, 11,12,13), nrow = 2, ncol = 3, byrow = TRUE)\n",
    "summary(m)\n"
   ]
  },
  {
   "cell_type": "markdown",
   "metadata": {},
   "source": [
    "## Checking an Object's Type"
   ]
  },
  {
   "cell_type": "code",
   "execution_count": 78,
   "metadata": {},
   "outputs": [
    {
     "data": {
      "text/html": [
       "TRUE"
      ],
      "text/latex": [
       "TRUE"
      ],
      "text/markdown": [
       "TRUE"
      ],
      "text/plain": [
       "[1] TRUE"
      ]
     },
     "metadata": {},
     "output_type": "display_data"
    },
    {
     "data": {
      "text/html": [
       "FALSE"
      ],
      "text/latex": [
       "FALSE"
      ],
      "text/markdown": [
       "FALSE"
      ],
      "text/plain": [
       "[1] FALSE"
      ]
     },
     "metadata": {},
     "output_type": "display_data"
    },
    {
     "data": {
      "text/html": [
       "TRUE"
      ],
      "text/latex": [
       "TRUE"
      ],
      "text/markdown": [
       "TRUE"
      ],
      "text/plain": [
       "[1] TRUE"
      ]
     },
     "metadata": {},
     "output_type": "display_data"
    },
    {
     "data": {
      "text/html": [
       "FALSE"
      ],
      "text/latex": [
       "FALSE"
      ],
      "text/markdown": [
       "FALSE"
      ],
      "text/plain": [
       "[1] FALSE"
      ]
     },
     "metadata": {},
     "output_type": "display_data"
    },
    {
     "data": {
      "text/html": [
       "TRUE"
      ],
      "text/latex": [
       "TRUE"
      ],
      "text/markdown": [
       "TRUE"
      ],
      "text/plain": [
       "[1] TRUE"
      ]
     },
     "metadata": {},
     "output_type": "display_data"
    }
   ],
   "source": [
    "is.vector(1:3)                  # TRUE\n",
    "is.list(1:3)                    # FALSE\n",
    "is.numeric(1:3)                 # TRUE\n",
    "is.character(1:3)               # FALSE\n",
    "is.character(as.character(1:3)) # TRUE"
   ]
  },
  {
   "cell_type": "markdown",
   "metadata": {
    "collapsed": true
   },
   "source": [
    "## Loading Packages\n",
    "\n",
    "- library(splines)\n",
    "- library(help = \"utils\")\n"
   ]
  },
  {
   "cell_type": "markdown",
   "metadata": {},
   "source": [
    "## Installing and Removing Packages\n",
    "\n",
    "- install.packages(\"package_name\")\n",
    "- remove.packages(\"package_name\")"
   ]
  },
  {
   "cell_type": "markdown",
   "metadata": {},
   "source": [
    "## Reading Data from File into a Vector\n",
    "\n",
    "- myVector <- scan(\"PATH_TO_DATA_FILE\")"
   ]
  },
  {
   "cell_type": "code",
   "execution_count": 79,
   "metadata": {},
   "outputs": [],
   "source": [
    "help(scan)"
   ]
  },
  {
   "cell_type": "markdown",
   "metadata": {},
   "source": [
    "## Writing Data to a File\n",
    "\n",
    "- write (<object_to_save>, \"PATH_TO_FILE\")"
   ]
  },
  {
   "cell_type": "code",
   "execution_count": 80,
   "metadata": {},
   "outputs": [],
   "source": [
    "help(write)"
   ]
  },
  {
   "cell_type": "markdown",
   "metadata": {},
   "source": [
    "## Reading Data into a Data Frame\n",
    "\n",
    "- df <- read.table(\"data_input.dat\", header = T, sep = \",\")"
   ]
  },
  {
   "cell_type": "markdown",
   "metadata": {},
   "source": [
    "## Writing CSV Files\n",
    "\n",
    "- write.table(df, \"your_file\", sep = \"|\", row.names = F)"
   ]
  },
  {
   "cell_type": "markdown",
   "metadata": {},
   "source": [
    "## Imprting Data into R\n",
    "\n",
    "- library(xlsx)"
   ]
  },
  {
   "cell_type": "markdown",
   "metadata": {},
   "source": [
    "## Exporting Data from R\n",
    "\n",
    "- ..."
   ]
  },
  {
   "cell_type": "markdown",
   "metadata": {},
   "source": [
    "## Basic Stastistical Functions\n",
    "\n",
    "- mean()\n",
    "- median()\n",
    "- sd()\n",
    "- var()"
   ]
  },
  {
   "cell_type": "markdown",
   "metadata": {},
   "source": [
    "## Examples of Using Basic Statistical  Functions"
   ]
  },
  {
   "cell_type": "code",
   "execution_count": 81,
   "metadata": {},
   "outputs": [
    {
     "name": "stdout",
     "output_type": "stream",
     "text": [
      "[1]   2   4   8  16  32  64 128 256\n"
     ]
    },
    {
     "data": {
      "text/html": [
       "63.75"
      ],
      "text/latex": [
       "63.75"
      ],
      "text/markdown": [
       "63.75"
      ],
      "text/plain": [
       "[1] 63.75"
      ]
     },
     "metadata": {},
     "output_type": "display_data"
    },
    {
     "data": {
      "text/html": [
       "24"
      ],
      "text/latex": [
       "24"
      ],
      "text/markdown": [
       "24"
      ],
      "text/plain": [
       "[1] 24"
      ]
     },
     "metadata": {},
     "output_type": "display_data"
    },
    {
     "data": {
      "text/html": [
       "7838.21428571429"
      ],
      "text/latex": [
       "7838.21428571429"
      ],
      "text/markdown": [
       "7838.21428571429"
      ],
      "text/plain": [
       "[1] 7838.214"
      ]
     },
     "metadata": {},
     "output_type": "display_data"
    },
    {
     "data": {
      "text/html": [
       "88.5336901168944"
      ],
      "text/latex": [
       "88.5336901168944"
      ],
      "text/markdown": [
       "88.5336901168944"
      ],
      "text/plain": [
       "[1] 88.53369"
      ]
     },
     "metadata": {},
     "output_type": "display_data"
    }
   ],
   "source": [
    "x <- 2^(1:8)\n",
    "print(x)\n",
    "mean(x)\n",
    "median(x)\n",
    "var(x)\n",
    "sd(x)"
   ]
  },
  {
   "cell_type": "markdown",
   "metadata": {},
   "source": [
    "## Writing Your Own skew and kurtosis Functions\n",
    "\n",
    "- ..."
   ]
  },
  {
   "cell_type": "markdown",
   "metadata": {},
   "source": [
    "## Generating Normally Distributed Random Numbers\n",
    "\n",
    "- rnorm()"
   ]
  },
  {
   "cell_type": "code",
   "execution_count": 82,
   "metadata": {},
   "outputs": [
    {
     "data": {
      "text/html": [
       "<ol class=list-inline>\n",
       "\t<li>-1.12976285655414</li>\n",
       "\t<li>1.88026364746971</li>\n",
       "\t<li>-0.687123450536503</li>\n",
       "\t<li>1.10357858945551</li>\n",
       "\t<li>3.34544462354701</li>\n",
       "\t<li>1.26854066141139</li>\n",
       "\t<li>-3.34800151323389</li>\n",
       "\t<li>7.01049483151206</li>\n",
       "\t<li>0.687952536550621</li>\n",
       "\t<li>1.69471942104403</li>\n",
       "\t<li>3.88121551041794</li>\n",
       "\t<li>-3.10293192795972</li>\n",
       "\t<li>0.979653684608272</li>\n",
       "\t<li>3.56079785728511</li>\n",
       "\t<li>5.49664198681912</li>\n",
       "\t<li>0.725797707293954</li>\n",
       "\t<li>4.40733603031988</li>\n",
       "\t<li>-0.473066130849531</li>\n",
       "\t<li>3.66834813504885</li>\n",
       "\t<li>2.70839383882905</li>\n",
       "\t<li>-4.77366076625356</li>\n",
       "\t<li>0.791659640454204</li>\n",
       "\t<li>-2.44296548137002</li>\n",
       "\t<li>3.24633845600712</li>\n",
       "\t<li>4.51195303950468</li>\n",
       "\t<li>-0.710826525389581</li>\n",
       "\t<li>0.445399770228229</li>\n",
       "\t<li>5.03575965252985</li>\n",
       "\t<li>-7.17378574969144</li>\n",
       "\t<li>-1.98660674632613</li>\n",
       "\t<li>6.77662874831746</li>\n",
       "\t<li>5.04807327556918</li>\n",
       "\t<li>-0.357501125850125</li>\n",
       "\t<li>-0.806308740925353</li>\n",
       "\t<li>1.49582133904339</li>\n",
       "\t<li>1.55707341696142</li>\n",
       "\t<li>-6.47757326457755</li>\n",
       "\t<li>0.11133527404377</li>\n",
       "\t<li>1.00517999124403</li>\n",
       "\t<li>3.2260222390601</li>\n",
       "\t<li>-0.275569488541189</li>\n",
       "\t<li>0.000305713371700156</li>\n",
       "\t<li>3.91140843027137</li>\n",
       "\t<li>5.950454583427</li>\n",
       "\t<li>-2.01731684709232</li>\n",
       "\t<li>1.76761420730511</li>\n",
       "\t<li>5.18389880254403</li>\n",
       "\t<li>-2.59480402863307</li>\n",
       "\t<li>-1.76637450262969</li>\n",
       "\t<li>0.87667628757269</li>\n",
       "\t<li>2.98584571400525</li>\n",
       "\t<li>-1.23610016528958</li>\n",
       "\t<li>-0.964742464237121</li>\n",
       "\t<li>5.33793671070369</li>\n",
       "\t<li>0.423321173026744</li>\n",
       "\t<li>0.00354290604337171</li>\n",
       "\t<li>3.54887424499281</li>\n",
       "\t<li>0.485287081251254</li>\n",
       "\t<li>5.36426933947405</li>\n",
       "\t<li>0.531694576376313</li>\n",
       "\t<li>3.58790006355182</li>\n",
       "\t<li>4.05265253603729</li>\n",
       "\t<li>1.18772721455203</li>\n",
       "\t<li>5.11336687798236</li>\n",
       "\t<li>-5.24779424998533</li>\n",
       "\t<li>-4.18360044565234</li>\n",
       "\t<li>0.340760886861083</li>\n",
       "\t<li>2.45320989627191</li>\n",
       "\t<li>1.74356021342829</li>\n",
       "\t<li>0.339694553248716</li>\n",
       "\t<li>-1.08729993279073</li>\n",
       "\t<li>-3.58260217525342</li>\n",
       "\t<li>2.84001752724938</li>\n",
       "\t<li>6.07811451000465</li>\n",
       "\t<li>-2.85558628170007</li>\n",
       "\t<li>2.5587400629367</li>\n",
       "\t<li>2.19805306297919</li>\n",
       "\t<li>-5.81626451842883</li>\n",
       "\t<li>2.88609569963729</li>\n",
       "\t<li>2.92452961661363</li>\n",
       "\t<li>-0.98840580081662</li>\n",
       "\t<li>-0.391779385092762</li>\n",
       "\t<li>3.8225922040198</li>\n",
       "\t<li>-1.16878900063836</li>\n",
       "\t<li>2.07404359794578</li>\n",
       "\t<li>2.7131040850203</li>\n",
       "\t<li>1.55584060050144</li>\n",
       "\t<li>-0.258036336933856</li>\n",
       "\t<li>2.90530536955181</li>\n",
       "\t<li>-3.25786696307448</li>\n",
       "\t<li>0.308320457385608</li>\n",
       "\t<li>0.774583800264076</li>\n",
       "\t<li>1.92262490836601</li>\n",
       "\t<li>3.24288352320886</li>\n",
       "\t<li>3.5468745776484</li>\n",
       "\t<li>4.68778672498847</li>\n",
       "\t<li>4.7081727598898</li>\n",
       "\t<li>-2.59819477384563</li>\n",
       "\t<li>-1.12185661795892</li>\n",
       "\t<li>0.862896362084124</li>\n",
       "\t<li>4.34390650795939</li>\n",
       "\t<li>0.2788567475456</li>\n",
       "\t<li>0.841239494061259</li>\n",
       "\t<li>-2.85294061087751</li>\n",
       "\t<li>-2.18520647960834</li>\n",
       "\t<li>-1.17969292218475</li>\n",
       "\t<li>6.96854536101828</li>\n",
       "\t<li>-0.532498562186808</li>\n",
       "\t<li>0.214318502030702</li>\n",
       "\t<li>-2.91688735454814</li>\n",
       "\t<li>-3.46977953605689</li>\n",
       "\t<li>1.11216574315545</li>\n",
       "\t<li>2.2272850550784</li>\n",
       "\t<li>4.18522578335388</li>\n",
       "\t<li>1.89349906734825</li>\n",
       "\t<li>1.01832981005254</li>\n",
       "\t<li>-1.70676534668859</li>\n",
       "\t<li>1.19245395740918</li>\n",
       "\t<li>0.355195238412699</li>\n",
       "\t<li>-0.996901355570593</li>\n",
       "\t<li>1.47543144427668</li>\n",
       "\t<li>2.29659994452655</li>\n",
       "\t<li>1.16945360010936</li>\n",
       "\t<li>0.412405230789691</li>\n",
       "\t<li>-2.015658465106</li>\n",
       "\t<li>2.65751529982874</li>\n",
       "\t<li>1.93866803366976</li>\n",
       "\t<li>-0.0955355459471774</li>\n",
       "\t<li>-4.6292249728974</li>\n",
       "\t<li>3.4202640932498</li>\n",
       "\t<li>2.46634240786074</li>\n",
       "\t<li>-0.197610137459032</li>\n",
       "\t<li>-1.67014285213458</li>\n",
       "\t<li>0.889250371385609</li>\n",
       "\t<li>-6.05745501079857</li>\n",
       "\t<li>3.95846628741924</li>\n",
       "\t<li>6.87056199977362</li>\n",
       "\t<li>0.578994976391234</li>\n",
       "\t<li>4.72870411426323</li>\n",
       "\t<li>-3.10297111564371</li>\n",
       "\t<li>-3.67151611273239</li>\n",
       "\t<li>0.242368454209527</li>\n",
       "\t<li>2.25472724422946</li>\n",
       "\t<li>0.636007974398691</li>\n",
       "\t<li>4.13685437786509</li>\n",
       "\t<li>2.96256868409951</li>\n",
       "\t<li>3.98653973540184</li>\n",
       "\t<li>-2.87107384142447</li>\n",
       "\t<li>-4.29366789240399</li>\n",
       "\t<li>-2.21720180155913</li>\n",
       "\t<li>5.07545203353374</li>\n",
       "\t<li>-0.488531910717599</li>\n",
       "\t<li>1.8756347638451</li>\n",
       "\t<li>1.76143658597836</li>\n",
       "\t<li>-1.20733766122644</li>\n",
       "\t<li>-1.79226292872587</li>\n",
       "\t<li>-1.04575110752209</li>\n",
       "\t<li>-2.41823715384512</li>\n",
       "\t<li>1.73557838302776</li>\n",
       "\t<li>3.44797420828045</li>\n",
       "\t<li>1.1359346027316</li>\n",
       "\t<li>-2.31623116392598</li>\n",
       "\t<li>1.14820379491222</li>\n",
       "\t<li>0.254737783712973</li>\n",
       "\t<li>1.2008773943722</li>\n",
       "\t<li>2.50138197495392</li>\n",
       "\t<li>-0.91259450308222</li>\n",
       "\t<li>1.12396225119447</li>\n",
       "\t<li>0.00577563710136952</li>\n",
       "\t<li>0.917776754151106</li>\n",
       "\t<li>3.86582510228859</li>\n",
       "\t<li>3.19109803523138</li>\n",
       "\t<li>0.940749743056346</li>\n",
       "\t<li>3.16606807657993</li>\n",
       "\t<li>-0.569735215344921</li>\n",
       "\t<li>-2.5257363299003</li>\n",
       "\t<li>2.33187062374316</li>\n",
       "\t<li>-1.74566759961835</li>\n",
       "\t<li>1.38564809855327</li>\n",
       "\t<li>6.89836398058961</li>\n",
       "\t<li>2.09806258733965</li>\n",
       "\t<li>3.99215550651189</li>\n",
       "\t<li>4.61327283646876</li>\n",
       "\t<li>1.75503756448967</li>\n",
       "\t<li>2.57730541722194</li>\n",
       "\t<li>1.34761539160879</li>\n",
       "\t<li>-0.130856639867968</li>\n",
       "\t<li>-1.50550861807011</li>\n",
       "\t<li>3.89848810040134</li>\n",
       "\t<li>-1.58772405570992</li>\n",
       "\t<li>2.78424498257507</li>\n",
       "\t<li>-0.793961321570892</li>\n",
       "\t<li>-1.36170978634354</li>\n",
       "\t<li>-2.7352509166839</li>\n",
       "\t<li>4.82249959582684</li>\n",
       "\t<li>4.49879702815471</li>\n",
       "\t<li>4.70900396538091</li>\n",
       "\t<li>1.97443529577702</li>\n",
       "\t<li>0.0553437333088362</li>\n",
       "\t<li>-1.98994878346991</li>\n",
       "\t<li>-0.978697246431637</li>\n",
       "\t<li>1.74051121831996</li>\n",
       "\t<li>-0.319463348561406</li>\n",
       "\t<li>3.5903721116662</li>\n",
       "\t<li>1.56420389885335</li>\n",
       "\t<li>0.848573589126217</li>\n",
       "\t<li>1.06361284277263</li>\n",
       "\t<li>4.000626405705</li>\n",
       "\t<li>-5.1443762237023</li>\n",
       "\t<li>0.212820899058632</li>\n",
       "\t<li>6.63748484510806</li>\n",
       "\t<li>-1.97242338660403</li>\n",
       "\t<li>0.566238506131646</li>\n",
       "\t<li>5.75046841721787</li>\n",
       "\t<li>0.939065712737174</li>\n",
       "\t<li>-0.220317110913046</li>\n",
       "\t<li>2.09889243836054</li>\n",
       "\t<li>-2.72989571674504</li>\n",
       "\t<li>-2.3421431599415</li>\n",
       "\t<li>1.07991278629133</li>\n",
       "\t<li>1.63365797296719</li>\n",
       "\t<li>0.0663513873836716</li>\n",
       "\t<li>2.840548631466</li>\n",
       "\t<li>1.93140244832288</li>\n",
       "\t<li>7.32420098220304</li>\n",
       "\t<li>4.51514104568486</li>\n",
       "\t<li>3.2842027740772</li>\n",
       "\t<li>-8.66132180325527</li>\n",
       "\t<li>-2.20055086474042</li>\n",
       "\t<li>0.82496988806013</li>\n",
       "\t<li>-4.06365185241609</li>\n",
       "\t<li>2.90679640669832</li>\n",
       "\t<li>2.18705889563908</li>\n",
       "\t<li>-0.772727111509201</li>\n",
       "\t<li>-0.910356621173666</li>\n",
       "\t<li>0.302227861320136</li>\n",
       "\t<li>0.6278865639155</li>\n",
       "\t<li>2.45637291647656</li>\n",
       "\t<li>-1.42485371522842</li>\n",
       "\t<li>-1.37109051544891</li>\n",
       "\t<li>-1.74912580758804</li>\n",
       "\t<li>1.36305396135701</li>\n",
       "\t<li>6.45431663560291</li>\n",
       "\t<li>2.19579744871635</li>\n",
       "\t<li>-2.56840741664226</li>\n",
       "\t<li>5.35767071724389</li>\n",
       "\t<li>-0.423347080264276</li>\n",
       "\t<li>4.65082637165246</li>\n",
       "\t<li>7.26665662917966</li>\n",
       "\t<li>0.47931295797321</li>\n",
       "\t<li>-0.574031511007516</li>\n",
       "\t<li>0.273918368012609</li>\n",
       "\t<li>3.97767856262099</li>\n",
       "\t<li>0.674412823254445</li>\n",
       "\t<li>4.4245580679369</li>\n",
       "\t<li>-0.311258803486531</li>\n",
       "\t<li>-4.16936410022354</li>\n",
       "\t<li>4.07796540772049</li>\n",
       "\t<li>-0.431382466281235</li>\n",
       "\t<li>-6.26607306115681</li>\n",
       "\t<li>3.47583161269283</li>\n",
       "\t<li>2.89261239563506</li>\n",
       "\t<li>-3.88252631270413</li>\n",
       "\t<li>-4.4009915995868</li>\n",
       "\t<li>2.23642355337833</li>\n",
       "\t<li>-1.85630868303794</li>\n",
       "\t<li>4.64664119303202</li>\n",
       "\t<li>-1.90557014657625</li>\n",
       "\t<li>0.912999784448322</li>\n",
       "\t<li>2.24091743682017</li>\n",
       "\t<li>-0.13126911119222</li>\n",
       "\t<li>0.953770760545355</li>\n",
       "\t<li>-0.539984035741327</li>\n",
       "\t<li>3.63037259510035</li>\n",
       "\t<li>1.89853292513979</li>\n",
       "\t<li>-4.46717573366247</li>\n",
       "\t<li>1.87945159922994</li>\n",
       "\t<li>-0.237164795398663</li>\n",
       "\t<li>-0.913848123481864</li>\n",
       "\t<li>-3.97938466384209</li>\n",
       "\t<li>1.64286115921697</li>\n",
       "\t<li>0.0582071157051012</li>\n",
       "\t<li>-0.0942559068071045</li>\n",
       "\t<li>-0.257749375500846</li>\n",
       "\t<li>-3.32152082091804</li>\n",
       "\t<li>2.51595530396834</li>\n",
       "\t<li>5.22897478073648</li>\n",
       "\t<li>2.61397903397541</li>\n",
       "\t<li>0.298854520355496</li>\n",
       "\t<li>-8.72895779061572</li>\n",
       "\t<li>6.26121929216262</li>\n",
       "\t<li>-0.0902071990188626</li>\n",
       "\t<li>-2.17007442288543</li>\n",
       "\t<li>3.56009555096477</li>\n",
       "\t<li>4.49834831678888</li>\n",
       "\t<li>-2.15248288054708</li>\n",
       "\t<li>1.81590282306336</li>\n",
       "\t<li>-0.440610123467262</li>\n",
       "\t<li>-0.97341625548747</li>\n",
       "\t<li>-4.77003135823064</li>\n",
       "\t<li>0.799229385380183</li>\n",
       "\t<li>4.54313836421334</li>\n",
       "\t<li>-2.83882028347134</li>\n",
       "\t<li>3.16167156440563</li>\n",
       "\t<li>4.26253664088376</li>\n",
       "\t<li>0.405160355502021</li>\n",
       "\t<li>3.05579882737909</li>\n",
       "\t<li>-1.69507638319276</li>\n",
       "\t<li>2.89150048626853</li>\n",
       "\t<li>5.28603856543355</li>\n",
       "\t<li>1.02426471420545</li>\n",
       "\t<li>-0.0959124515172762</li>\n",
       "\t<li>-2.79235441135489</li>\n",
       "\t<li>4.05221152335799</li>\n",
       "\t<li>3.60552998224263</li>\n",
       "\t<li>6.19939943199682</li>\n",
       "\t<li>1.44989552051108</li>\n",
       "\t<li>-0.260540736906737</li>\n",
       "\t<li>4.6880776168585</li>\n",
       "\t<li>1.75574136921995</li>\n",
       "\t<li>-1.6482349319152</li>\n",
       "\t<li>1.84972616904413</li>\n",
       "\t<li>1.92504639841422</li>\n",
       "\t<li>4.36770814642276</li>\n",
       "\t<li>4.54657699747853</li>\n",
       "\t<li>-0.702030159452188</li>\n",
       "\t<li>6.05948309636715</li>\n",
       "\t<li>-0.178125038601158</li>\n",
       "\t<li>5.69949190643125</li>\n",
       "\t<li>5.04575803943687</li>\n",
       "\t<li>2.01883870583792</li>\n",
       "\t<li>2.96884275478384</li>\n",
       "\t<li>-0.0735452737780904</li>\n",
       "\t<li>-0.55681198384075</li>\n",
       "\t<li>0.900902563795026</li>\n",
       "\t<li>4.33333493429979</li>\n",
       "\t<li>2.42303505640052</li>\n",
       "\t<li>5.96402287678208</li>\n",
       "\t<li>2.33437135949522</li>\n",
       "\t<li>-2.34489241260269</li>\n",
       "\t<li>2.48400353292279</li>\n",
       "\t<li>1.75095246332984</li>\n",
       "\t<li>6.01785804405601</li>\n",
       "\t<li>-0.716908011645691</li>\n",
       "\t<li>-0.951586874038521</li>\n",
       "\t<li>-1.11028787968871</li>\n",
       "\t<li>0.0880624141008385</li>\n",
       "\t<li>-1.01940846007925</li>\n",
       "\t<li>7.47531116986819</li>\n",
       "\t<li>-0.0129516939544183</li>\n",
       "\t<li>-1.18071950011038</li>\n",
       "\t<li>7.73653517862009</li>\n",
       "\t<li>3.7999984296524</li>\n",
       "\t<li>-0.208248547187203</li>\n",
       "\t<li>2.34660489443393</li>\n",
       "\t<li>-2.94054419560208</li>\n",
       "\t<li>5.02120903425591</li>\n",
       "\t<li>-0.670118063418206</li>\n",
       "\t<li>-0.818639297200692</li>\n",
       "\t<li>0.934418522043197</li>\n",
       "\t<li>3.94810556606343</li>\n",
       "\t<li>-3.27590173712442</li>\n",
       "\t<li>-2.95117134370529</li>\n",
       "\t<li>-2.15933281527123</li>\n",
       "\t<li>1.14611440926645</li>\n",
       "\t<li>-0.61012660078265</li>\n",
       "\t<li>0.461658002600543</li>\n",
       "\t<li>-2.96427967633925</li>\n",
       "\t<li>-3.82725230390729</li>\n",
       "\t<li>10.4019545323582</li>\n",
       "\t<li>-1.13482612137913</li>\n",
       "\t<li>-5.06577650018631</li>\n",
       "\t<li>-1.20009934815642</li>\n",
       "\t<li>-1.88496422420236</li>\n",
       "\t<li>2.6821098900532</li>\n",
       "\t<li>4.16835732561779</li>\n",
       "\t<li>-8.52750157499965</li>\n",
       "\t<li>0.09690978489024</li>\n",
       "\t<li>4.73228133277064</li>\n",
       "\t<li>3.09629218237056</li>\n",
       "\t<li>1.28416796523914</li>\n",
       "\t<li>2.65404018303627</li>\n",
       "\t<li>1.10228816107601</li>\n",
       "\t<li>0.511742980499961</li>\n",
       "\t<li>-1.50329307419626</li>\n",
       "\t<li>4.5383001637464</li>\n",
       "\t<li>0.242971682368728</li>\n",
       "\t<li>1.75474182534714</li>\n",
       "\t<li>2.11426180463178</li>\n",
       "\t<li>-4.10625244275203</li>\n",
       "\t<li>-0.695402294961402</li>\n",
       "\t<li>-1.71636593485545</li>\n",
       "\t<li>1.34149244584765</li>\n",
       "\t<li>11.9816071564979</li>\n",
       "\t<li>-2.4488892123797</li>\n",
       "\t<li>3.07310405557778</li>\n",
       "\t<li>-0.345033818202412</li>\n",
       "\t<li>1.80928330100979</li>\n",
       "\t<li>0.90124820927915</li>\n",
       "\t<li>-0.536375121757309</li>\n",
       "\t<li>0.106804454545584</li>\n",
       "\t<li>2.0459844260543</li>\n",
       "\t<li>4.56833584082436</li>\n",
       "\t<li>5.21928481459904</li>\n",
       "\t<li>1.32424144653257</li>\n",
       "\t<li>0.795693623963989</li>\n",
       "\t<li>3.43637460119707</li>\n",
       "\t<li>6.26086221640756</li>\n",
       "\t<li>2.77346618581244</li>\n",
       "\t<li>5.06794743750523</li>\n",
       "\t<li>0.210020823862655</li>\n",
       "\t<li>-0.457388003925949</li>\n",
       "\t<li>3.25605402042862</li>\n",
       "\t<li>0.420928890805457</li>\n",
       "\t<li>-0.414191841958037</li>\n",
       "\t<li>-3.07111436838131</li>\n",
       "\t<li>3.45437072375251</li>\n",
       "\t<li>2.01114178190106</li>\n",
       "\t<li>-2.78297767858081</li>\n",
       "\t<li>2.99018256620782</li>\n",
       "\t<li>2.83055030606138</li>\n",
       "\t<li>-2.03800174401765</li>\n",
       "\t<li>-3.78048873936548</li>\n",
       "\t<li>-0.270916042359086</li>\n",
       "\t<li>-0.781274370922615</li>\n",
       "\t<li>3.46580320002599</li>\n",
       "\t<li>1.62096578235063</li>\n",
       "\t<li>-2.0333551453765</li>\n",
       "\t<li>-0.276508969342744</li>\n",
       "\t<li>7.56441794433923</li>\n",
       "\t<li>0.395053235629853</li>\n",
       "\t<li>0.678004150683375</li>\n",
       "\t<li>-5.77962672941068</li>\n",
       "\t<li>0.121929461369648</li>\n",
       "\t<li>3.35453134972608</li>\n",
       "\t<li>2.88295103796079</li>\n",
       "\t<li>2.17619834487847</li>\n",
       "\t<li>4.43973594258164</li>\n",
       "\t<li>-0.759115471180042</li>\n",
       "\t<li>3.33834260987346</li>\n",
       "\t<li>4.95478938978614</li>\n",
       "\t<li>-2.93150340981502</li>\n",
       "\t<li>-1.37160989957798</li>\n",
       "\t<li>1.05818251647732</li>\n",
       "\t<li>3.40381945759271</li>\n",
       "\t<li>1.01023559133139</li>\n",
       "\t<li>0.275644531313714</li>\n",
       "\t<li>0.792241172583427</li>\n",
       "\t<li>-3.62086612126329</li>\n",
       "\t<li>2.21525863301562</li>\n",
       "\t<li>0.958409537638506</li>\n",
       "\t<li>-2.46079954219948</li>\n",
       "\t<li>5.64535157402115</li>\n",
       "\t<li>1.71923794858117</li>\n",
       "\t<li>1.42864956440362</li>\n",
       "\t<li>0.689267209122065</li>\n",
       "\t<li>0.412057083840406</li>\n",
       "\t<li>-3.59059865999895</li>\n",
       "\t<li>6.39901229295002</li>\n",
       "\t<li>-4.76909132921198</li>\n",
       "\t<li>4.51295879445329</li>\n",
       "\t<li>-0.70157897702801</li>\n",
       "\t<li>4.55555547790876</li>\n",
       "\t<li>-2.38337735966725</li>\n",
       "\t<li>2.33341507136827</li>\n",
       "\t<li>4.28368640386121</li>\n",
       "\t<li>0.361346756133916</li>\n",
       "\t<li>2.69870413964684</li>\n",
       "\t<li>-0.178909063037957</li>\n",
       "\t<li>3.65547583688989</li>\n",
       "\t<li>5.38256861206609</li>\n",
       "\t<li>0.0536426190006792</li>\n",
       "\t<li>4.93557747509999</li>\n",
       "\t<li>-3.72810453561711</li>\n",
       "\t<li>3.32259620213051</li>\n",
       "\t<li>1.25122322894879</li>\n",
       "\t<li>-2.67603344057404</li>\n",
       "\t<li>-0.430873176414497</li>\n",
       "\t<li>0.16247178944929</li>\n",
       "\t<li>7.40582288231597</li>\n",
       "\t<li>4.85174395355924</li>\n",
       "\t<li>1.58487552707791</li>\n",
       "\t<li>1.66782035784336</li>\n",
       "\t<li>4.29323224607673</li>\n",
       "\t<li>6.95063611919977</li>\n",
       "\t<li>0.620638788358393</li>\n",
       "\t<li>0.683596911874426</li>\n",
       "\t<li>2.64306544800768</li>\n",
       "\t<li>2.91286936789331</li>\n",
       "\t<li>6.74283972441572</li>\n",
       "\t<li>-0.562502062649138</li>\n",
       "\t<li>-1.86144372008828</li>\n",
       "\t<li>1.69330209435441</li>\n",
       "\t<li>6.48191966717096</li>\n",
       "\t<li>3.26353852799996</li>\n",
       "\t<li>0.244231482055441</li>\n",
       "\t<li>1.97421201173213</li>\n",
       "\t<li>7.45519907294494</li>\n",
       "\t<li>5.94807881333916</li>\n",
       "\t<li>0.680797852897275</li>\n",
       "\t<li>-0.787776649607561</li>\n",
       "\t<li>-0.799460090475412</li>\n",
       "\t<li>-4.31796793572095</li>\n",
       "\t<li>2.69612570944896</li>\n",
       "\t<li>-1.6776042272415</li>\n",
       "\t<li>6.53355435842537</li>\n",
       "\t<li>2.58075337623309</li>\n",
       "\t<li>-2.1816651384841</li>\n",
       "\t<li>1.58653483976164</li>\n",
       "\t<li>0.293281445501275</li>\n",
       "\t<li>-0.53204834183116</li>\n",
       "\t<li>1.99025575199166</li>\n",
       "\t<li>2.43407956777391</li>\n",
       "\t<li>6.21719377711583</li>\n",
       "\t<li>2.39346695761888</li>\n",
       "\t<li>-0.027284179088896</li>\n",
       "\t<li>1.41396010011813</li>\n",
       "\t<li>6.67507142328592</li>\n",
       "\t<li>2.63093881194689</li>\n",
       "\t<li>-1.60429312013875</li>\n",
       "\t<li>1.05259906260621</li>\n",
       "\t<li>-0.210597346055011</li>\n",
       "\t<li>-2.97492349276396</li>\n",
       "\t<li>2.61230935906042</li>\n",
       "\t<li>7.88954357113913</li>\n",
       "\t<li>-7.14808368400064</li>\n",
       "\t<li>-2.68703043075604</li>\n",
       "\t<li>-0.962621665522809</li>\n",
       "\t<li>0.552944380244263</li>\n",
       "\t<li>1.86174067323814</li>\n",
       "\t<li>1.11619665979969</li>\n",
       "\t<li>4.85002763107698</li>\n",
       "\t<li>0.51309163948456</li>\n",
       "\t<li>-0.0863482236229467</li>\n",
       "\t<li>0.480313633716267</li>\n",
       "\t<li>0.00130145169490725</li>\n",
       "\t<li>3.40645361336433</li>\n",
       "\t<li>0.278862258060892</li>\n",
       "\t<li>-0.482910052929244</li>\n",
       "\t<li>0.828734469729249</li>\n",
       "\t<li>1.47119280994606</li>\n",
       "\t<li>1.80350153658567</li>\n",
       "\t<li>-1.54185060502744</li>\n",
       "\t<li>0.425011607338349</li>\n",
       "\t<li>-0.715496750978952</li>\n",
       "\t<li>1.31287725027775</li>\n",
       "\t<li>-1.16479317080203</li>\n",
       "\t<li>0.781778681318098</li>\n",
       "\t<li>3.30313459190436</li>\n",
       "\t<li>0.898065351699424</li>\n",
       "\t<li>4.05543997289265</li>\n",
       "\t<li>0.604620528953974</li>\n",
       "\t<li>-4.50098399551438</li>\n",
       "\t<li>2.94101337399013</li>\n",
       "\t<li>0.80147424148024</li>\n",
       "\t<li>4.80808926220354</li>\n",
       "\t<li>5.56695284731973</li>\n",
       "\t<li>2.79768735428622</li>\n",
       "\t<li>7.04486112054455</li>\n",
       "\t<li>3.31148542053261</li>\n",
       "\t<li>2.71577167218495</li>\n",
       "\t<li>6.11715716819925</li>\n",
       "\t<li>0.0758359705209787</li>\n",
       "\t<li>-3.3760909961077</li>\n",
       "\t<li>5.22464489258904</li>\n",
       "\t<li>1.43726397159332</li>\n",
       "\t<li>-2.48606180302604</li>\n",
       "\t<li>-2.61974172719705</li>\n",
       "\t<li>0.358186507685086</li>\n",
       "\t<li>-4.83633536545378</li>\n",
       "\t<li>0.760459708928125</li>\n",
       "\t<li>-2.31087043604449</li>\n",
       "\t<li>0.37087173514442</li>\n",
       "\t<li>2.23930324613907</li>\n",
       "\t<li>6.34496168593651</li>\n",
       "\t<li>2.24478028703942</li>\n",
       "\t<li>-3.13054836985612</li>\n",
       "\t<li>-0.512542601634488</li>\n",
       "\t<li>7.17872845536031</li>\n",
       "\t<li>6.08199759303699</li>\n",
       "\t<li>0.759601477650876</li>\n",
       "\t<li>-1.26269563333521</li>\n",
       "\t<li>-2.10591733393343</li>\n",
       "\t<li>1.27110601690137</li>\n",
       "\t<li>-6.13802713597009</li>\n",
       "\t<li>7.95539566644546</li>\n",
       "\t<li>4.37892291979853</li>\n",
       "\t<li>5.4603143154048</li>\n",
       "\t<li>6.3398015265716</li>\n",
       "\t<li>-3.65021621389672</li>\n",
       "\t<li>3.36430452703435</li>\n",
       "\t<li>2.11279102511639</li>\n",
       "\t<li>-2.65720922048982</li>\n",
       "\t<li>-0.30009051404656</li>\n",
       "\t<li>1.69525790432767</li>\n",
       "\t<li>0.24532178328663</li>\n",
       "\t<li>2.28319928149311</li>\n",
       "\t<li>6.06121856088138</li>\n",
       "\t<li>1.29511913302582</li>\n",
       "\t<li>2.39528781578058</li>\n",
       "\t<li>-6.10240895358632</li>\n",
       "\t<li>0.816763575792948</li>\n",
       "\t<li>-1.82313140854701</li>\n",
       "\t<li>1.87315402269594</li>\n",
       "\t<li>4.4781367521515</li>\n",
       "\t<li>-1.39538161021984</li>\n",
       "\t<li>3.43909162020977</li>\n",
       "\t<li>4.285473128434</li>\n",
       "\t<li>5.01974135540686</li>\n",
       "\t<li>-4.30743159178648</li>\n",
       "\t<li>5.98176402891438</li>\n",
       "\t<li>0.708958820268532</li>\n",
       "\t<li>-2.80583998088447</li>\n",
       "\t<li>-1.8522055472274</li>\n",
       "\t<li>-2.1859460761917</li>\n",
       "\t<li>-0.688407904951774</li>\n",
       "\t<li>-0.455367958260347</li>\n",
       "\t<li>2.84312489002017</li>\n",
       "\t<li>4.20087616160642</li>\n",
       "\t<li>-3.11619019853809</li>\n",
       "\t<li>-2.69673403080131</li>\n",
       "\t<li>-3.60771457419419</li>\n",
       "\t<li>-0.234898836146856</li>\n",
       "\t<li>-0.293086936632074</li>\n",
       "\t<li>7.09187600236665</li>\n",
       "\t<li>7.11231733304975</li>\n",
       "\t<li>1.40271501259691</li>\n",
       "\t<li>-1.77357687921374</li>\n",
       "\t<li>-5.78744057118766</li>\n",
       "\t<li>-3.6930135934853</li>\n",
       "\t<li>-2.24854901931218</li>\n",
       "\t<li>3.1565389357987</li>\n",
       "\t<li>-1.60849919596913</li>\n",
       "\t<li>2.35599338561336</li>\n",
       "\t<li>1.57856173287199</li>\n",
       "\t<li>-4.09126688161878</li>\n",
       "\t<li>4.05202443888867</li>\n",
       "\t<li>1.30642615534125</li>\n",
       "\t<li>4.31409742334988</li>\n",
       "\t<li>4.83803542538174</li>\n",
       "\t<li>1.03907301211721</li>\n",
       "\t<li>-1.74774256055745</li>\n",
       "\t<li>1.19937650215954</li>\n",
       "\t<li>1.01156571746867</li>\n",
       "\t<li>-0.560373712072077</li>\n",
       "\t<li>0.770600437469254</li>\n",
       "\t<li>1.79092303710937</li>\n",
       "\t<li>-4.23639476505763</li>\n",
       "\t<li>4.39720917856496</li>\n",
       "\t<li>-1.65722986128059</li>\n",
       "\t<li>-0.898714148713793</li>\n",
       "\t<li>3.35043411016172</li>\n",
       "\t<li>2.3055393491436</li>\n",
       "\t<li>4.34568073217793</li>\n",
       "\t<li>-1.33133229207674</li>\n",
       "\t<li>2.95999073551094</li>\n",
       "\t<li>-0.225294100297899</li>\n",
       "\t<li>5.37047605959403</li>\n",
       "\t<li>2.6859543657496</li>\n",
       "\t<li>1.72607964122955</li>\n",
       "\t<li>-2.43195357999049</li>\n",
       "\t<li>-1.05919882310527</li>\n",
       "\t<li>-1.68178063118221</li>\n",
       "\t<li>3.55930702314859</li>\n",
       "\t<li>7.96053101840349</li>\n",
       "\t<li>2.11215196871718</li>\n",
       "\t<li>-2.06260179217613</li>\n",
       "\t<li>-0.346734475816814</li>\n",
       "\t<li>0.0285872160249991</li>\n",
       "\t<li>-2.93198217547454</li>\n",
       "\t<li>-0.398398762842025</li>\n",
       "\t<li>5.92050645379285</li>\n",
       "\t<li>1.15125334133741</li>\n",
       "\t<li>0.179349425002206</li>\n",
       "\t<li>-0.432388201436127</li>\n",
       "\t<li>0.196619743709561</li>\n",
       "\t<li>4.81355195196433</li>\n",
       "\t<li>2.00592979870274</li>\n",
       "\t<li>-4.07969074074541</li>\n",
       "\t<li>-2.92690628977342</li>\n",
       "\t<li>-2.99563297676124</li>\n",
       "\t<li>3.3831254363977</li>\n",
       "\t<li>5.19205303009432</li>\n",
       "\t<li>3.25276581809386</li>\n",
       "\t<li>11.1495904582155</li>\n",
       "\t<li>0.78151456832666</li>\n",
       "\t<li>2.0541034604876</li>\n",
       "\t<li>3.36939648445398</li>\n",
       "\t<li>8.01454864140166</li>\n",
       "\t<li>4.95119794026695</li>\n",
       "\t<li>-5.17568512384972</li>\n",
       "\t<li>5.37236508398642</li>\n",
       "\t<li>1.93278575980433</li>\n",
       "\t<li>-0.912201915945365</li>\n",
       "\t<li>-2.64562284943811</li>\n",
       "\t<li>6.47711062336217</li>\n",
       "\t<li>-5.2548715877141</li>\n",
       "\t<li>0.693081192487709</li>\n",
       "\t<li>4.11071371784173</li>\n",
       "\t<li>4.07027203212557</li>\n",
       "\t<li>3.94775146596778</li>\n",
       "\t<li>2.80239905774428</li>\n",
       "\t<li>0.0390847396911489</li>\n",
       "\t<li>1.2258831490145</li>\n",
       "\t<li>0.261040401774726</li>\n",
       "\t<li>-2.24645730225544</li>\n",
       "\t<li>0.947527926984544</li>\n",
       "\t<li>0.268510553106312</li>\n",
       "\t<li>3.33954212398089</li>\n",
       "\t<li>-1.52047417107702</li>\n",
       "\t<li>-6.79623403303395</li>\n",
       "\t<li>2.68813062625928</li>\n",
       "\t<li>-1.19064791925211</li>\n",
       "\t<li>2.65185766818512</li>\n",
       "\t<li>5.35900642048956</li>\n",
       "\t<li>0.152619693982763</li>\n",
       "\t<li>0.155355897404196</li>\n",
       "\t<li>-1.54233440626052</li>\n",
       "\t<li>2.13338315073971</li>\n",
       "\t<li>4.15512209937101</li>\n",
       "\t<li>-2.89354418147679</li>\n",
       "\t<li>2.63889413650027</li>\n",
       "\t<li>-0.263981766774571</li>\n",
       "\t<li>1.7276026599684</li>\n",
       "\t<li>8.08711590330754</li>\n",
       "\t<li>-2.88742098789346</li>\n",
       "\t<li>1.52802907426384</li>\n",
       "\t<li>0.488056680246822</li>\n",
       "\t<li>-5.77530358651749</li>\n",
       "\t<li>-0.891259062442771</li>\n",
       "\t<li>-3.15183489069149</li>\n",
       "\t<li>4.65959357274582</li>\n",
       "\t<li>1.41244298076653</li>\n",
       "\t<li>3.03374543909754</li>\n",
       "\t<li>7.1702519792722</li>\n",
       "\t<li>-1.80082980627931</li>\n",
       "\t<li>-1.32773091948158</li>\n",
       "\t<li>6.56304920014066</li>\n",
       "\t<li>2.06846715096409</li>\n",
       "\t<li>4.0198844248071</li>\n",
       "\t<li>3.33749671909267</li>\n",
       "\t<li>-1.25261453357533</li>\n",
       "\t<li>1.83218673029031</li>\n",
       "\t<li>2.09917599316104</li>\n",
       "\t<li>2.0770486686391</li>\n",
       "\t<li>-6.95040553236146</li>\n",
       "\t<li>-1.80285549366546</li>\n",
       "\t<li>0.854286040727381</li>\n",
       "\t<li>0.23471498631919</li>\n",
       "\t<li>1.33582774606703</li>\n",
       "\t<li>1.4287824035372</li>\n",
       "\t<li>-1.32036786388625</li>\n",
       "\t<li>1.3363577539873</li>\n",
       "\t<li>-3.13297172738197</li>\n",
       "\t<li>3.2521681124016</li>\n",
       "\t<li>1.42212912860663</li>\n",
       "\t<li>-0.45836556950954</li>\n",
       "\t<li>0.124370465988377</li>\n",
       "\t<li>1.92665465626719</li>\n",
       "\t<li>6.89151336021599</li>\n",
       "\t<li>2.78341380775077</li>\n",
       "\t<li>4.07060017285541</li>\n",
       "\t<li>-1.32094730632766</li>\n",
       "\t<li>0.961281952086446</li>\n",
       "\t<li>-1.98615233526579</li>\n",
       "\t<li>4.5514359249313</li>\n",
       "\t<li>-0.793322857451273</li>\n",
       "\t<li>2.12445487948335</li>\n",
       "\t<li>-4.18979376476637</li>\n",
       "\t<li>5.06106560437713</li>\n",
       "\t<li>2.87853532653073</li>\n",
       "\t<li>5.78680149428104</li>\n",
       "\t<li>-1.93061130862475</li>\n",
       "\t<li>3.86669182925949</li>\n",
       "\t<li>0.551142422686387</li>\n",
       "\t<li>-1.5975762156935</li>\n",
       "\t<li>0.402482715039153</li>\n",
       "\t<li>-4.32592411292519</li>\n",
       "\t<li>0.194366310026311</li>\n",
       "\t<li>1.78568585373085</li>\n",
       "\t<li>-6.19814100710025</li>\n",
       "\t<li>-4.68541809164246</li>\n",
       "\t<li>1.852355782998</li>\n",
       "\t<li>-0.923712280180049</li>\n",
       "\t<li>3.54479111932362</li>\n",
       "\t<li>2.99699820257323</li>\n",
       "\t<li>3.11974791572323</li>\n",
       "\t<li>5.60525325799641</li>\n",
       "\t<li>4.77223369649215</li>\n",
       "\t<li>7.78389765193265</li>\n",
       "\t<li>0.453360531113254</li>\n",
       "\t<li>4.25947447753665</li>\n",
       "\t<li>4.68925293352382</li>\n",
       "\t<li>5.46696111812867</li>\n",
       "\t<li>2.97428778195328</li>\n",
       "\t<li>-4.16022258586541</li>\n",
       "\t<li>1.07328124604081</li>\n",
       "\t<li>1.97735726303609</li>\n",
       "\t<li>2.07038418906238</li>\n",
       "\t<li>2.38475111650204</li>\n",
       "\t<li>3.55192756968335</li>\n",
       "\t<li>3.29189745225576</li>\n",
       "\t<li>1.27677117924684</li>\n",
       "\t<li>4.44147911037201</li>\n",
       "\t<li>-0.589287729893202</li>\n",
       "\t<li>-4.08606091722163</li>\n",
       "\t<li>8.59341697472541</li>\n",
       "\t<li>0.92890505205069</li>\n",
       "\t<li>1.82813139437621</li>\n",
       "\t<li>-2.42386133582491</li>\n",
       "\t<li>-6.98752936439497</li>\n",
       "\t<li>0.503268235936384</li>\n",
       "\t<li>-2.96024614084739</li>\n",
       "\t<li>3.44006731066962</li>\n",
       "\t<li>-1.53148877789882</li>\n",
       "\t<li>10.0873979099442</li>\n",
       "\t<li>-0.316303010109918</li>\n",
       "\t<li>2.9893425507899</li>\n",
       "\t<li>-1.20582257419107</li>\n",
       "\t<li>5.33153434585366</li>\n",
       "\t<li>2.16719349110347</li>\n",
       "\t<li>2.10432775327174</li>\n",
       "\t<li>-1.44750355897116e-05</li>\n",
       "\t<li>-3.53379162801971</li>\n",
       "\t<li>-3.49477189692073</li>\n",
       "\t<li>-1.83769766530477</li>\n",
       "\t<li>1.1732575681732</li>\n",
       "\t<li>0.434331237581933</li>\n",
       "\t<li>0.936098984356247</li>\n",
       "\t<li>-1.93678610553317</li>\n",
       "\t<li>2.23895915702373</li>\n",
       "\t<li>2.45878128409939</li>\n",
       "\t<li>-3.3631091042675</li>\n",
       "\t<li>6.16469425692235</li>\n",
       "\t<li>-3.93842702673713</li>\n",
       "\t<li>0.797734547955974</li>\n",
       "\t<li>-4.28037996622243</li>\n",
       "\t<li>-0.424288244190303</li>\n",
       "\t<li>-0.150163803879068</li>\n",
       "\t<li>-3.55135691613973</li>\n",
       "\t<li>-2.88829414993812</li>\n",
       "\t<li>1.38027047238014</li>\n",
       "\t<li>5.98226236454638</li>\n",
       "\t<li>-0.458877629555055</li>\n",
       "\t<li>0.983714840042461</li>\n",
       "\t<li>1.63020390472523</li>\n",
       "\t<li>6.04550244209503</li>\n",
       "\t<li>-1.95327373235558</li>\n",
       "\t<li>0.254214974473241</li>\n",
       "\t<li>2.97442107498399</li>\n",
       "\t<li>1.39730562794623</li>\n",
       "\t<li>1.36528443623901</li>\n",
       "\t<li>2.07745171477819</li>\n",
       "\t<li>-1.57241866756035</li>\n",
       "\t<li>1.81952707126447</li>\n",
       "\t<li>-0.799181270268098</li>\n",
       "\t<li>2.43985550728917</li>\n",
       "\t<li>0.963821448939099</li>\n",
       "\t<li>3.01178213974347</li>\n",
       "\t<li>-1.08399055649636</li>\n",
       "\t<li>-2.10920043394975</li>\n",
       "\t<li>-1.74681086110563</li>\n",
       "\t<li>-0.70536881496018</li>\n",
       "\t<li>1.55276204793531</li>\n",
       "\t<li>-1.45201574213787</li>\n",
       "\t<li>0.736620667757734</li>\n",
       "\t<li>-1.52379603551624</li>\n",
       "\t<li>2.35747639231697</li>\n",
       "\t<li>0.855067105928284</li>\n",
       "\t<li>3.52239700169655</li>\n",
       "\t<li>-1.75992372816784</li>\n",
       "\t<li>-0.504435193949499</li>\n",
       "\t<li>1.70722946400456</li>\n",
       "\t<li>3.4136622356274</li>\n",
       "\t<li>5.99272774467337</li>\n",
       "\t<li>-0.348837825358409</li>\n",
       "\t<li>-0.584042495821569</li>\n",
       "\t<li>0.718356192745104</li>\n",
       "\t<li>3.13491656876641</li>\n",
       "\t<li>2.41950963125283</li>\n",
       "\t<li>-1.94073516362991</li>\n",
       "\t<li>1.4056821681579</li>\n",
       "\t<li>1.49652563322737</li>\n",
       "\t<li>1.33817356587357</li>\n",
       "\t<li>-7.57014377001935</li>\n",
       "\t<li>4.44122330100236</li>\n",
       "\t<li>-1.79477896376076</li>\n",
       "\t<li>2.15691491463599</li>\n",
       "\t<li>0.278225999166141</li>\n",
       "\t<li>-1.42305353269282</li>\n",
       "\t<li>1.12319299872002</li>\n",
       "\t<li>8.36578201236739</li>\n",
       "\t<li>-2.08018839342872</li>\n",
       "\t<li>1.77397721062242</li>\n",
       "\t<li>-0.0522237277092303</li>\n",
       "\t<li>4.2706452367642</li>\n",
       "\t<li>-0.17963726035787</li>\n",
       "\t<li>5.85589311041968</li>\n",
       "\t<li>2.77856623465453</li>\n",
       "\t<li>4.40659039313365</li>\n",
       "\t<li>0.384571367922892</li>\n",
       "\t<li>-1.66864341391034</li>\n",
       "\t<li>-0.891888932071278</li>\n",
       "\t<li>5.98359713313057</li>\n",
       "\t<li>0.303408383251626</li>\n",
       "\t<li>2.32194434148913</li>\n",
       "\t<li>5.05466551447335</li>\n",
       "\t<li>9.38355112495192</li>\n",
       "\t<li>0.219296428749204</li>\n",
       "\t<li>2.1378310660078</li>\n",
       "\t<li>-2.30674341057697</li>\n",
       "\t<li>5.88875334259994</li>\n",
       "\t<li>-3.2714362884477</li>\n",
       "\t<li>1.93033413526131</li>\n",
       "\t<li>0.63397668579425</li>\n",
       "\t<li>-3.0853376865255</li>\n",
       "\t<li>2.18499696005808</li>\n",
       "\t<li>6.18101961283341</li>\n",
       "\t<li>0.80253327864575</li>\n",
       "\t<li>-3.53416675436205</li>\n",
       "\t<li>3.91107367888238</li>\n",
       "\t<li>0.463318561704977</li>\n",
       "\t<li>4.05988488025947</li>\n",
       "\t<li>2.81930065142658</li>\n",
       "\t<li>0.314265234405375</li>\n",
       "\t<li>1.66163146548119</li>\n",
       "\t<li>0.016076950330929</li>\n",
       "\t<li>-3.3319062616477</li>\n",
       "\t<li>-2.695020497956</li>\n",
       "\t<li>2.57222148352552</li>\n",
       "\t<li>4.80636016582918</li>\n",
       "\t<li>1.85163441421505</li>\n",
       "\t<li>2.67423572618487</li>\n",
       "\t<li>1.50711474674459</li>\n",
       "\t<li>3.08640433405227</li>\n",
       "\t<li>8.50562480557377</li>\n",
       "\t<li>-0.0962725562116202</li>\n",
       "\t<li>-0.503564917200596</li>\n",
       "\t<li>0.266300576284572</li>\n",
       "\t<li>6.35548469206874</li>\n",
       "\t<li>0.688839155839123</li>\n",
       "\t<li>2.6918641754876</li>\n",
       "\t<li>5.89906607560806</li>\n",
       "\t<li>-0.805529088975565</li>\n",
       "\t<li>1.38870241590777</li>\n",
       "\t<li>-4.73103917229119</li>\n",
       "\t<li>5.947446282093</li>\n",
       "\t<li>1.92446701193648</li>\n",
       "\t<li>1.14138646426497</li>\n",
       "\t<li>1.21049077155683</li>\n",
       "\t<li>0.734704056988213</li>\n",
       "\t<li>1.21318003952695</li>\n",
       "\t<li>3.27404371870238</li>\n",
       "\t<li>-1.534466068743</li>\n",
       "\t<li>-1.4086503001666</li>\n",
       "\t<li>0.275049965625008</li>\n",
       "\t<li>0.0650437642378587</li>\n",
       "\t<li>-4.10291198427306</li>\n",
       "\t<li>-0.325317816792945</li>\n",
       "\t<li>2.54479182387879</li>\n",
       "\t<li>0.545335738414557</li>\n",
       "\t<li>-4.57309167250295</li>\n",
       "\t<li>-3.39093352575811</li>\n",
       "\t<li>6.90277764037149</li>\n",
       "\t<li>-9.26942160902523</li>\n",
       "\t<li>1.93950151874993</li>\n",
       "\t<li>-1.74429137543458</li>\n",
       "\t<li>-1.30618958076707</li>\n",
       "\t<li>1.95817504651577</li>\n",
       "\t<li>1.52659277151858</li>\n",
       "\t<li>6.23095786929287</li>\n",
       "\t<li>-4.4032487010204</li>\n",
       "\t<li>2.07268462653952</li>\n",
       "\t<li>1.94456591147724</li>\n",
       "\t<li>4.35197136504711</li>\n",
       "\t<li>1.53738508292772</li>\n",
       "\t<li>4.59735619628383</li>\n",
       "\t<li>-4.37789421728262</li>\n",
       "\t<li>0.720616758970976</li>\n",
       "\t<li>-0.0851515110675396</li>\n",
       "\t<li>-1.30488681216531</li>\n",
       "\t<li>-3.78013549656192</li>\n",
       "\t<li>-1.99844665362997</li>\n",
       "\t<li>4.93257058067563</li>\n",
       "\t<li>-1.70324345573281</li>\n",
       "\t<li>1.83026180823047</li>\n",
       "\t<li>0.753855301207706</li>\n",
       "\t<li>2.68614799859026</li>\n",
       "\t<li>3.07500077957122</li>\n",
       "\t<li>-4.79878340661501</li>\n",
       "\t<li>5.01130982352439</li>\n",
       "\t<li>-2.95176437094576</li>\n",
       "\t<li>-0.0347929060229224</li>\n",
       "\t<li>4.59399014942858</li>\n",
       "\t<li>4.16591450024886</li>\n",
       "\t<li>-1.00508219787125</li>\n",
       "\t<li>0.996847830269913</li>\n",
       "\t<li>-0.147837196692673</li>\n",
       "\t<li>5.96753926822044</li>\n",
       "\t<li>1.65181654299671</li>\n",
       "</ol>\n"
      ],
      "text/latex": [
       "\\begin{enumerate*}\n",
       "\\item -1.12976285655414\n",
       "\\item 1.88026364746971\n",
       "\\item -0.687123450536503\n",
       "\\item 1.10357858945551\n",
       "\\item 3.34544462354701\n",
       "\\item 1.26854066141139\n",
       "\\item -3.34800151323389\n",
       "\\item 7.01049483151206\n",
       "\\item 0.687952536550621\n",
       "\\item 1.69471942104403\n",
       "\\item 3.88121551041794\n",
       "\\item -3.10293192795972\n",
       "\\item 0.979653684608272\n",
       "\\item 3.56079785728511\n",
       "\\item 5.49664198681912\n",
       "\\item 0.725797707293954\n",
       "\\item 4.40733603031988\n",
       "\\item -0.473066130849531\n",
       "\\item 3.66834813504885\n",
       "\\item 2.70839383882905\n",
       "\\item -4.77366076625356\n",
       "\\item 0.791659640454204\n",
       "\\item -2.44296548137002\n",
       "\\item 3.24633845600712\n",
       "\\item 4.51195303950468\n",
       "\\item -0.710826525389581\n",
       "\\item 0.445399770228229\n",
       "\\item 5.03575965252985\n",
       "\\item -7.17378574969144\n",
       "\\item -1.98660674632613\n",
       "\\item 6.77662874831746\n",
       "\\item 5.04807327556918\n",
       "\\item -0.357501125850125\n",
       "\\item -0.806308740925353\n",
       "\\item 1.49582133904339\n",
       "\\item 1.55707341696142\n",
       "\\item -6.47757326457755\n",
       "\\item 0.11133527404377\n",
       "\\item 1.00517999124403\n",
       "\\item 3.2260222390601\n",
       "\\item -0.275569488541189\n",
       "\\item 0.000305713371700156\n",
       "\\item 3.91140843027137\n",
       "\\item 5.950454583427\n",
       "\\item -2.01731684709232\n",
       "\\item 1.76761420730511\n",
       "\\item 5.18389880254403\n",
       "\\item -2.59480402863307\n",
       "\\item -1.76637450262969\n",
       "\\item 0.87667628757269\n",
       "\\item 2.98584571400525\n",
       "\\item -1.23610016528958\n",
       "\\item -0.964742464237121\n",
       "\\item 5.33793671070369\n",
       "\\item 0.423321173026744\n",
       "\\item 0.00354290604337171\n",
       "\\item 3.54887424499281\n",
       "\\item 0.485287081251254\n",
       "\\item 5.36426933947405\n",
       "\\item 0.531694576376313\n",
       "\\item 3.58790006355182\n",
       "\\item 4.05265253603729\n",
       "\\item 1.18772721455203\n",
       "\\item 5.11336687798236\n",
       "\\item -5.24779424998533\n",
       "\\item -4.18360044565234\n",
       "\\item 0.340760886861083\n",
       "\\item 2.45320989627191\n",
       "\\item 1.74356021342829\n",
       "\\item 0.339694553248716\n",
       "\\item -1.08729993279073\n",
       "\\item -3.58260217525342\n",
       "\\item 2.84001752724938\n",
       "\\item 6.07811451000465\n",
       "\\item -2.85558628170007\n",
       "\\item 2.5587400629367\n",
       "\\item 2.19805306297919\n",
       "\\item -5.81626451842883\n",
       "\\item 2.88609569963729\n",
       "\\item 2.92452961661363\n",
       "\\item -0.98840580081662\n",
       "\\item -0.391779385092762\n",
       "\\item 3.8225922040198\n",
       "\\item -1.16878900063836\n",
       "\\item 2.07404359794578\n",
       "\\item 2.7131040850203\n",
       "\\item 1.55584060050144\n",
       "\\item -0.258036336933856\n",
       "\\item 2.90530536955181\n",
       "\\item -3.25786696307448\n",
       "\\item 0.308320457385608\n",
       "\\item 0.774583800264076\n",
       "\\item 1.92262490836601\n",
       "\\item 3.24288352320886\n",
       "\\item 3.5468745776484\n",
       "\\item 4.68778672498847\n",
       "\\item 4.7081727598898\n",
       "\\item -2.59819477384563\n",
       "\\item -1.12185661795892\n",
       "\\item 0.862896362084124\n",
       "\\item 4.34390650795939\n",
       "\\item 0.2788567475456\n",
       "\\item 0.841239494061259\n",
       "\\item -2.85294061087751\n",
       "\\item -2.18520647960834\n",
       "\\item -1.17969292218475\n",
       "\\item 6.96854536101828\n",
       "\\item -0.532498562186808\n",
       "\\item 0.214318502030702\n",
       "\\item -2.91688735454814\n",
       "\\item -3.46977953605689\n",
       "\\item 1.11216574315545\n",
       "\\item 2.2272850550784\n",
       "\\item 4.18522578335388\n",
       "\\item 1.89349906734825\n",
       "\\item 1.01832981005254\n",
       "\\item -1.70676534668859\n",
       "\\item 1.19245395740918\n",
       "\\item 0.355195238412699\n",
       "\\item -0.996901355570593\n",
       "\\item 1.47543144427668\n",
       "\\item 2.29659994452655\n",
       "\\item 1.16945360010936\n",
       "\\item 0.412405230789691\n",
       "\\item -2.015658465106\n",
       "\\item 2.65751529982874\n",
       "\\item 1.93866803366976\n",
       "\\item -0.0955355459471774\n",
       "\\item -4.6292249728974\n",
       "\\item 3.4202640932498\n",
       "\\item 2.46634240786074\n",
       "\\item -0.197610137459032\n",
       "\\item -1.67014285213458\n",
       "\\item 0.889250371385609\n",
       "\\item -6.05745501079857\n",
       "\\item 3.95846628741924\n",
       "\\item 6.87056199977362\n",
       "\\item 0.578994976391234\n",
       "\\item 4.72870411426323\n",
       "\\item -3.10297111564371\n",
       "\\item -3.67151611273239\n",
       "\\item 0.242368454209527\n",
       "\\item 2.25472724422946\n",
       "\\item 0.636007974398691\n",
       "\\item 4.13685437786509\n",
       "\\item 2.96256868409951\n",
       "\\item 3.98653973540184\n",
       "\\item -2.87107384142447\n",
       "\\item -4.29366789240399\n",
       "\\item -2.21720180155913\n",
       "\\item 5.07545203353374\n",
       "\\item -0.488531910717599\n",
       "\\item 1.8756347638451\n",
       "\\item 1.76143658597836\n",
       "\\item -1.20733766122644\n",
       "\\item -1.79226292872587\n",
       "\\item -1.04575110752209\n",
       "\\item -2.41823715384512\n",
       "\\item 1.73557838302776\n",
       "\\item 3.44797420828045\n",
       "\\item 1.1359346027316\n",
       "\\item -2.31623116392598\n",
       "\\item 1.14820379491222\n",
       "\\item 0.254737783712973\n",
       "\\item 1.2008773943722\n",
       "\\item 2.50138197495392\n",
       "\\item -0.91259450308222\n",
       "\\item 1.12396225119447\n",
       "\\item 0.00577563710136952\n",
       "\\item 0.917776754151106\n",
       "\\item 3.86582510228859\n",
       "\\item 3.19109803523138\n",
       "\\item 0.940749743056346\n",
       "\\item 3.16606807657993\n",
       "\\item -0.569735215344921\n",
       "\\item -2.5257363299003\n",
       "\\item 2.33187062374316\n",
       "\\item -1.74566759961835\n",
       "\\item 1.38564809855327\n",
       "\\item 6.89836398058961\n",
       "\\item 2.09806258733965\n",
       "\\item 3.99215550651189\n",
       "\\item 4.61327283646876\n",
       "\\item 1.75503756448967\n",
       "\\item 2.57730541722194\n",
       "\\item 1.34761539160879\n",
       "\\item -0.130856639867968\n",
       "\\item -1.50550861807011\n",
       "\\item 3.89848810040134\n",
       "\\item -1.58772405570992\n",
       "\\item 2.78424498257507\n",
       "\\item -0.793961321570892\n",
       "\\item -1.36170978634354\n",
       "\\item -2.7352509166839\n",
       "\\item 4.82249959582684\n",
       "\\item 4.49879702815471\n",
       "\\item 4.70900396538091\n",
       "\\item 1.97443529577702\n",
       "\\item 0.0553437333088362\n",
       "\\item -1.98994878346991\n",
       "\\item -0.978697246431637\n",
       "\\item 1.74051121831996\n",
       "\\item -0.319463348561406\n",
       "\\item 3.5903721116662\n",
       "\\item 1.56420389885335\n",
       "\\item 0.848573589126217\n",
       "\\item 1.06361284277263\n",
       "\\item 4.000626405705\n",
       "\\item -5.1443762237023\n",
       "\\item 0.212820899058632\n",
       "\\item 6.63748484510806\n",
       "\\item -1.97242338660403\n",
       "\\item 0.566238506131646\n",
       "\\item 5.75046841721787\n",
       "\\item 0.939065712737174\n",
       "\\item -0.220317110913046\n",
       "\\item 2.09889243836054\n",
       "\\item -2.72989571674504\n",
       "\\item -2.3421431599415\n",
       "\\item 1.07991278629133\n",
       "\\item 1.63365797296719\n",
       "\\item 0.0663513873836716\n",
       "\\item 2.840548631466\n",
       "\\item 1.93140244832288\n",
       "\\item 7.32420098220304\n",
       "\\item 4.51514104568486\n",
       "\\item 3.2842027740772\n",
       "\\item -8.66132180325527\n",
       "\\item -2.20055086474042\n",
       "\\item 0.82496988806013\n",
       "\\item -4.06365185241609\n",
       "\\item 2.90679640669832\n",
       "\\item 2.18705889563908\n",
       "\\item -0.772727111509201\n",
       "\\item -0.910356621173666\n",
       "\\item 0.302227861320136\n",
       "\\item 0.6278865639155\n",
       "\\item 2.45637291647656\n",
       "\\item -1.42485371522842\n",
       "\\item -1.37109051544891\n",
       "\\item -1.74912580758804\n",
       "\\item 1.36305396135701\n",
       "\\item 6.45431663560291\n",
       "\\item 2.19579744871635\n",
       "\\item -2.56840741664226\n",
       "\\item 5.35767071724389\n",
       "\\item -0.423347080264276\n",
       "\\item 4.65082637165246\n",
       "\\item 7.26665662917966\n",
       "\\item 0.47931295797321\n",
       "\\item -0.574031511007516\n",
       "\\item 0.273918368012609\n",
       "\\item 3.97767856262099\n",
       "\\item 0.674412823254445\n",
       "\\item 4.4245580679369\n",
       "\\item -0.311258803486531\n",
       "\\item -4.16936410022354\n",
       "\\item 4.07796540772049\n",
       "\\item -0.431382466281235\n",
       "\\item -6.26607306115681\n",
       "\\item 3.47583161269283\n",
       "\\item 2.89261239563506\n",
       "\\item -3.88252631270413\n",
       "\\item -4.4009915995868\n",
       "\\item 2.23642355337833\n",
       "\\item -1.85630868303794\n",
       "\\item 4.64664119303202\n",
       "\\item -1.90557014657625\n",
       "\\item 0.912999784448322\n",
       "\\item 2.24091743682017\n",
       "\\item -0.13126911119222\n",
       "\\item 0.953770760545355\n",
       "\\item -0.539984035741327\n",
       "\\item 3.63037259510035\n",
       "\\item 1.89853292513979\n",
       "\\item -4.46717573366247\n",
       "\\item 1.87945159922994\n",
       "\\item -0.237164795398663\n",
       "\\item -0.913848123481864\n",
       "\\item -3.97938466384209\n",
       "\\item 1.64286115921697\n",
       "\\item 0.0582071157051012\n",
       "\\item -0.0942559068071045\n",
       "\\item -0.257749375500846\n",
       "\\item -3.32152082091804\n",
       "\\item 2.51595530396834\n",
       "\\item 5.22897478073648\n",
       "\\item 2.61397903397541\n",
       "\\item 0.298854520355496\n",
       "\\item -8.72895779061572\n",
       "\\item 6.26121929216262\n",
       "\\item -0.0902071990188626\n",
       "\\item -2.17007442288543\n",
       "\\item 3.56009555096477\n",
       "\\item 4.49834831678888\n",
       "\\item -2.15248288054708\n",
       "\\item 1.81590282306336\n",
       "\\item -0.440610123467262\n",
       "\\item -0.97341625548747\n",
       "\\item -4.77003135823064\n",
       "\\item 0.799229385380183\n",
       "\\item 4.54313836421334\n",
       "\\item -2.83882028347134\n",
       "\\item 3.16167156440563\n",
       "\\item 4.26253664088376\n",
       "\\item 0.405160355502021\n",
       "\\item 3.05579882737909\n",
       "\\item -1.69507638319276\n",
       "\\item 2.89150048626853\n",
       "\\item 5.28603856543355\n",
       "\\item 1.02426471420545\n",
       "\\item -0.0959124515172762\n",
       "\\item -2.79235441135489\n",
       "\\item 4.05221152335799\n",
       "\\item 3.60552998224263\n",
       "\\item 6.19939943199682\n",
       "\\item 1.44989552051108\n",
       "\\item -0.260540736906737\n",
       "\\item 4.6880776168585\n",
       "\\item 1.75574136921995\n",
       "\\item -1.6482349319152\n",
       "\\item 1.84972616904413\n",
       "\\item 1.92504639841422\n",
       "\\item 4.36770814642276\n",
       "\\item 4.54657699747853\n",
       "\\item -0.702030159452188\n",
       "\\item 6.05948309636715\n",
       "\\item -0.178125038601158\n",
       "\\item 5.69949190643125\n",
       "\\item 5.04575803943687\n",
       "\\item 2.01883870583792\n",
       "\\item 2.96884275478384\n",
       "\\item -0.0735452737780904\n",
       "\\item -0.55681198384075\n",
       "\\item 0.900902563795026\n",
       "\\item 4.33333493429979\n",
       "\\item 2.42303505640052\n",
       "\\item 5.96402287678208\n",
       "\\item 2.33437135949522\n",
       "\\item -2.34489241260269\n",
       "\\item 2.48400353292279\n",
       "\\item 1.75095246332984\n",
       "\\item 6.01785804405601\n",
       "\\item -0.716908011645691\n",
       "\\item -0.951586874038521\n",
       "\\item -1.11028787968871\n",
       "\\item 0.0880624141008385\n",
       "\\item -1.01940846007925\n",
       "\\item 7.47531116986819\n",
       "\\item -0.0129516939544183\n",
       "\\item -1.18071950011038\n",
       "\\item 7.73653517862009\n",
       "\\item 3.7999984296524\n",
       "\\item -0.208248547187203\n",
       "\\item 2.34660489443393\n",
       "\\item -2.94054419560208\n",
       "\\item 5.02120903425591\n",
       "\\item -0.670118063418206\n",
       "\\item -0.818639297200692\n",
       "\\item 0.934418522043197\n",
       "\\item 3.94810556606343\n",
       "\\item -3.27590173712442\n",
       "\\item -2.95117134370529\n",
       "\\item -2.15933281527123\n",
       "\\item 1.14611440926645\n",
       "\\item -0.61012660078265\n",
       "\\item 0.461658002600543\n",
       "\\item -2.96427967633925\n",
       "\\item -3.82725230390729\n",
       "\\item 10.4019545323582\n",
       "\\item -1.13482612137913\n",
       "\\item -5.06577650018631\n",
       "\\item -1.20009934815642\n",
       "\\item -1.88496422420236\n",
       "\\item 2.6821098900532\n",
       "\\item 4.16835732561779\n",
       "\\item -8.52750157499965\n",
       "\\item 0.09690978489024\n",
       "\\item 4.73228133277064\n",
       "\\item 3.09629218237056\n",
       "\\item 1.28416796523914\n",
       "\\item 2.65404018303627\n",
       "\\item 1.10228816107601\n",
       "\\item 0.511742980499961\n",
       "\\item -1.50329307419626\n",
       "\\item 4.5383001637464\n",
       "\\item 0.242971682368728\n",
       "\\item 1.75474182534714\n",
       "\\item 2.11426180463178\n",
       "\\item -4.10625244275203\n",
       "\\item -0.695402294961402\n",
       "\\item -1.71636593485545\n",
       "\\item 1.34149244584765\n",
       "\\item 11.9816071564979\n",
       "\\item -2.4488892123797\n",
       "\\item 3.07310405557778\n",
       "\\item -0.345033818202412\n",
       "\\item 1.80928330100979\n",
       "\\item 0.90124820927915\n",
       "\\item -0.536375121757309\n",
       "\\item 0.106804454545584\n",
       "\\item 2.0459844260543\n",
       "\\item 4.56833584082436\n",
       "\\item 5.21928481459904\n",
       "\\item 1.32424144653257\n",
       "\\item 0.795693623963989\n",
       "\\item 3.43637460119707\n",
       "\\item 6.26086221640756\n",
       "\\item 2.77346618581244\n",
       "\\item 5.06794743750523\n",
       "\\item 0.210020823862655\n",
       "\\item -0.457388003925949\n",
       "\\item 3.25605402042862\n",
       "\\item 0.420928890805457\n",
       "\\item -0.414191841958037\n",
       "\\item -3.07111436838131\n",
       "\\item 3.45437072375251\n",
       "\\item 2.01114178190106\n",
       "\\item -2.78297767858081\n",
       "\\item 2.99018256620782\n",
       "\\item 2.83055030606138\n",
       "\\item -2.03800174401765\n",
       "\\item -3.78048873936548\n",
       "\\item -0.270916042359086\n",
       "\\item -0.781274370922615\n",
       "\\item 3.46580320002599\n",
       "\\item 1.62096578235063\n",
       "\\item -2.0333551453765\n",
       "\\item -0.276508969342744\n",
       "\\item 7.56441794433923\n",
       "\\item 0.395053235629853\n",
       "\\item 0.678004150683375\n",
       "\\item -5.77962672941068\n",
       "\\item 0.121929461369648\n",
       "\\item 3.35453134972608\n",
       "\\item 2.88295103796079\n",
       "\\item 2.17619834487847\n",
       "\\item 4.43973594258164\n",
       "\\item -0.759115471180042\n",
       "\\item 3.33834260987346\n",
       "\\item 4.95478938978614\n",
       "\\item -2.93150340981502\n",
       "\\item -1.37160989957798\n",
       "\\item 1.05818251647732\n",
       "\\item 3.40381945759271\n",
       "\\item 1.01023559133139\n",
       "\\item 0.275644531313714\n",
       "\\item 0.792241172583427\n",
       "\\item -3.62086612126329\n",
       "\\item 2.21525863301562\n",
       "\\item 0.958409537638506\n",
       "\\item -2.46079954219948\n",
       "\\item 5.64535157402115\n",
       "\\item 1.71923794858117\n",
       "\\item 1.42864956440362\n",
       "\\item 0.689267209122065\n",
       "\\item 0.412057083840406\n",
       "\\item -3.59059865999895\n",
       "\\item 6.39901229295002\n",
       "\\item -4.76909132921198\n",
       "\\item 4.51295879445329\n",
       "\\item -0.70157897702801\n",
       "\\item 4.55555547790876\n",
       "\\item -2.38337735966725\n",
       "\\item 2.33341507136827\n",
       "\\item 4.28368640386121\n",
       "\\item 0.361346756133916\n",
       "\\item 2.69870413964684\n",
       "\\item -0.178909063037957\n",
       "\\item 3.65547583688989\n",
       "\\item 5.38256861206609\n",
       "\\item 0.0536426190006792\n",
       "\\item 4.93557747509999\n",
       "\\item -3.72810453561711\n",
       "\\item 3.32259620213051\n",
       "\\item 1.25122322894879\n",
       "\\item -2.67603344057404\n",
       "\\item -0.430873176414497\n",
       "\\item 0.16247178944929\n",
       "\\item 7.40582288231597\n",
       "\\item 4.85174395355924\n",
       "\\item 1.58487552707791\n",
       "\\item 1.66782035784336\n",
       "\\item 4.29323224607673\n",
       "\\item 6.95063611919977\n",
       "\\item 0.620638788358393\n",
       "\\item 0.683596911874426\n",
       "\\item 2.64306544800768\n",
       "\\item 2.91286936789331\n",
       "\\item 6.74283972441572\n",
       "\\item -0.562502062649138\n",
       "\\item -1.86144372008828\n",
       "\\item 1.69330209435441\n",
       "\\item 6.48191966717096\n",
       "\\item 3.26353852799996\n",
       "\\item 0.244231482055441\n",
       "\\item 1.97421201173213\n",
       "\\item 7.45519907294494\n",
       "\\item 5.94807881333916\n",
       "\\item 0.680797852897275\n",
       "\\item -0.787776649607561\n",
       "\\item -0.799460090475412\n",
       "\\item -4.31796793572095\n",
       "\\item 2.69612570944896\n",
       "\\item -1.6776042272415\n",
       "\\item 6.53355435842537\n",
       "\\item 2.58075337623309\n",
       "\\item -2.1816651384841\n",
       "\\item 1.58653483976164\n",
       "\\item 0.293281445501275\n",
       "\\item -0.53204834183116\n",
       "\\item 1.99025575199166\n",
       "\\item 2.43407956777391\n",
       "\\item 6.21719377711583\n",
       "\\item 2.39346695761888\n",
       "\\item -0.027284179088896\n",
       "\\item 1.41396010011813\n",
       "\\item 6.67507142328592\n",
       "\\item 2.63093881194689\n",
       "\\item -1.60429312013875\n",
       "\\item 1.05259906260621\n",
       "\\item -0.210597346055011\n",
       "\\item -2.97492349276396\n",
       "\\item 2.61230935906042\n",
       "\\item 7.88954357113913\n",
       "\\item -7.14808368400064\n",
       "\\item -2.68703043075604\n",
       "\\item -0.962621665522809\n",
       "\\item 0.552944380244263\n",
       "\\item 1.86174067323814\n",
       "\\item 1.11619665979969\n",
       "\\item 4.85002763107698\n",
       "\\item 0.51309163948456\n",
       "\\item -0.0863482236229467\n",
       "\\item 0.480313633716267\n",
       "\\item 0.00130145169490725\n",
       "\\item 3.40645361336433\n",
       "\\item 0.278862258060892\n",
       "\\item -0.482910052929244\n",
       "\\item 0.828734469729249\n",
       "\\item 1.47119280994606\n",
       "\\item 1.80350153658567\n",
       "\\item -1.54185060502744\n",
       "\\item 0.425011607338349\n",
       "\\item -0.715496750978952\n",
       "\\item 1.31287725027775\n",
       "\\item -1.16479317080203\n",
       "\\item 0.781778681318098\n",
       "\\item 3.30313459190436\n",
       "\\item 0.898065351699424\n",
       "\\item 4.05543997289265\n",
       "\\item 0.604620528953974\n",
       "\\item -4.50098399551438\n",
       "\\item 2.94101337399013\n",
       "\\item 0.80147424148024\n",
       "\\item 4.80808926220354\n",
       "\\item 5.56695284731973\n",
       "\\item 2.79768735428622\n",
       "\\item 7.04486112054455\n",
       "\\item 3.31148542053261\n",
       "\\item 2.71577167218495\n",
       "\\item 6.11715716819925\n",
       "\\item 0.0758359705209787\n",
       "\\item -3.3760909961077\n",
       "\\item 5.22464489258904\n",
       "\\item 1.43726397159332\n",
       "\\item -2.48606180302604\n",
       "\\item -2.61974172719705\n",
       "\\item 0.358186507685086\n",
       "\\item -4.83633536545378\n",
       "\\item 0.760459708928125\n",
       "\\item -2.31087043604449\n",
       "\\item 0.37087173514442\n",
       "\\item 2.23930324613907\n",
       "\\item 6.34496168593651\n",
       "\\item 2.24478028703942\n",
       "\\item -3.13054836985612\n",
       "\\item -0.512542601634488\n",
       "\\item 7.17872845536031\n",
       "\\item 6.08199759303699\n",
       "\\item 0.759601477650876\n",
       "\\item -1.26269563333521\n",
       "\\item -2.10591733393343\n",
       "\\item 1.27110601690137\n",
       "\\item -6.13802713597009\n",
       "\\item 7.95539566644546\n",
       "\\item 4.37892291979853\n",
       "\\item 5.4603143154048\n",
       "\\item 6.3398015265716\n",
       "\\item -3.65021621389672\n",
       "\\item 3.36430452703435\n",
       "\\item 2.11279102511639\n",
       "\\item -2.65720922048982\n",
       "\\item -0.30009051404656\n",
       "\\item 1.69525790432767\n",
       "\\item 0.24532178328663\n",
       "\\item 2.28319928149311\n",
       "\\item 6.06121856088138\n",
       "\\item 1.29511913302582\n",
       "\\item 2.39528781578058\n",
       "\\item -6.10240895358632\n",
       "\\item 0.816763575792948\n",
       "\\item -1.82313140854701\n",
       "\\item 1.87315402269594\n",
       "\\item 4.4781367521515\n",
       "\\item -1.39538161021984\n",
       "\\item 3.43909162020977\n",
       "\\item 4.285473128434\n",
       "\\item 5.01974135540686\n",
       "\\item -4.30743159178648\n",
       "\\item 5.98176402891438\n",
       "\\item 0.708958820268532\n",
       "\\item -2.80583998088447\n",
       "\\item -1.8522055472274\n",
       "\\item -2.1859460761917\n",
       "\\item -0.688407904951774\n",
       "\\item -0.455367958260347\n",
       "\\item 2.84312489002017\n",
       "\\item 4.20087616160642\n",
       "\\item -3.11619019853809\n",
       "\\item -2.69673403080131\n",
       "\\item -3.60771457419419\n",
       "\\item -0.234898836146856\n",
       "\\item -0.293086936632074\n",
       "\\item 7.09187600236665\n",
       "\\item 7.11231733304975\n",
       "\\item 1.40271501259691\n",
       "\\item -1.77357687921374\n",
       "\\item -5.78744057118766\n",
       "\\item -3.6930135934853\n",
       "\\item -2.24854901931218\n",
       "\\item 3.1565389357987\n",
       "\\item -1.60849919596913\n",
       "\\item 2.35599338561336\n",
       "\\item 1.57856173287199\n",
       "\\item -4.09126688161878\n",
       "\\item 4.05202443888867\n",
       "\\item 1.30642615534125\n",
       "\\item 4.31409742334988\n",
       "\\item 4.83803542538174\n",
       "\\item 1.03907301211721\n",
       "\\item -1.74774256055745\n",
       "\\item 1.19937650215954\n",
       "\\item 1.01156571746867\n",
       "\\item -0.560373712072077\n",
       "\\item 0.770600437469254\n",
       "\\item 1.79092303710937\n",
       "\\item -4.23639476505763\n",
       "\\item 4.39720917856496\n",
       "\\item -1.65722986128059\n",
       "\\item -0.898714148713793\n",
       "\\item 3.35043411016172\n",
       "\\item 2.3055393491436\n",
       "\\item 4.34568073217793\n",
       "\\item -1.33133229207674\n",
       "\\item 2.95999073551094\n",
       "\\item -0.225294100297899\n",
       "\\item 5.37047605959403\n",
       "\\item 2.6859543657496\n",
       "\\item 1.72607964122955\n",
       "\\item -2.43195357999049\n",
       "\\item -1.05919882310527\n",
       "\\item -1.68178063118221\n",
       "\\item 3.55930702314859\n",
       "\\item 7.96053101840349\n",
       "\\item 2.11215196871718\n",
       "\\item -2.06260179217613\n",
       "\\item -0.346734475816814\n",
       "\\item 0.0285872160249991\n",
       "\\item -2.93198217547454\n",
       "\\item -0.398398762842025\n",
       "\\item 5.92050645379285\n",
       "\\item 1.15125334133741\n",
       "\\item 0.179349425002206\n",
       "\\item -0.432388201436127\n",
       "\\item 0.196619743709561\n",
       "\\item 4.81355195196433\n",
       "\\item 2.00592979870274\n",
       "\\item -4.07969074074541\n",
       "\\item -2.92690628977342\n",
       "\\item -2.99563297676124\n",
       "\\item 3.3831254363977\n",
       "\\item 5.19205303009432\n",
       "\\item 3.25276581809386\n",
       "\\item 11.1495904582155\n",
       "\\item 0.78151456832666\n",
       "\\item 2.0541034604876\n",
       "\\item 3.36939648445398\n",
       "\\item 8.01454864140166\n",
       "\\item 4.95119794026695\n",
       "\\item -5.17568512384972\n",
       "\\item 5.37236508398642\n",
       "\\item 1.93278575980433\n",
       "\\item -0.912201915945365\n",
       "\\item -2.64562284943811\n",
       "\\item 6.47711062336217\n",
       "\\item -5.2548715877141\n",
       "\\item 0.693081192487709\n",
       "\\item 4.11071371784173\n",
       "\\item 4.07027203212557\n",
       "\\item 3.94775146596778\n",
       "\\item 2.80239905774428\n",
       "\\item 0.0390847396911489\n",
       "\\item 1.2258831490145\n",
       "\\item 0.261040401774726\n",
       "\\item -2.24645730225544\n",
       "\\item 0.947527926984544\n",
       "\\item 0.268510553106312\n",
       "\\item 3.33954212398089\n",
       "\\item -1.52047417107702\n",
       "\\item -6.79623403303395\n",
       "\\item 2.68813062625928\n",
       "\\item -1.19064791925211\n",
       "\\item 2.65185766818512\n",
       "\\item 5.35900642048956\n",
       "\\item 0.152619693982763\n",
       "\\item 0.155355897404196\n",
       "\\item -1.54233440626052\n",
       "\\item 2.13338315073971\n",
       "\\item 4.15512209937101\n",
       "\\item -2.89354418147679\n",
       "\\item 2.63889413650027\n",
       "\\item -0.263981766774571\n",
       "\\item 1.7276026599684\n",
       "\\item 8.08711590330754\n",
       "\\item -2.88742098789346\n",
       "\\item 1.52802907426384\n",
       "\\item 0.488056680246822\n",
       "\\item -5.77530358651749\n",
       "\\item -0.891259062442771\n",
       "\\item -3.15183489069149\n",
       "\\item 4.65959357274582\n",
       "\\item 1.41244298076653\n",
       "\\item 3.03374543909754\n",
       "\\item 7.1702519792722\n",
       "\\item -1.80082980627931\n",
       "\\item -1.32773091948158\n",
       "\\item 6.56304920014066\n",
       "\\item 2.06846715096409\n",
       "\\item 4.0198844248071\n",
       "\\item 3.33749671909267\n",
       "\\item -1.25261453357533\n",
       "\\item 1.83218673029031\n",
       "\\item 2.09917599316104\n",
       "\\item 2.0770486686391\n",
       "\\item -6.95040553236146\n",
       "\\item -1.80285549366546\n",
       "\\item 0.854286040727381\n",
       "\\item 0.23471498631919\n",
       "\\item 1.33582774606703\n",
       "\\item 1.4287824035372\n",
       "\\item -1.32036786388625\n",
       "\\item 1.3363577539873\n",
       "\\item -3.13297172738197\n",
       "\\item 3.2521681124016\n",
       "\\item 1.42212912860663\n",
       "\\item -0.45836556950954\n",
       "\\item 0.124370465988377\n",
       "\\item 1.92665465626719\n",
       "\\item 6.89151336021599\n",
       "\\item 2.78341380775077\n",
       "\\item 4.07060017285541\n",
       "\\item -1.32094730632766\n",
       "\\item 0.961281952086446\n",
       "\\item -1.98615233526579\n",
       "\\item 4.5514359249313\n",
       "\\item -0.793322857451273\n",
       "\\item 2.12445487948335\n",
       "\\item -4.18979376476637\n",
       "\\item 5.06106560437713\n",
       "\\item 2.87853532653073\n",
       "\\item 5.78680149428104\n",
       "\\item -1.93061130862475\n",
       "\\item 3.86669182925949\n",
       "\\item 0.551142422686387\n",
       "\\item -1.5975762156935\n",
       "\\item 0.402482715039153\n",
       "\\item -4.32592411292519\n",
       "\\item 0.194366310026311\n",
       "\\item 1.78568585373085\n",
       "\\item -6.19814100710025\n",
       "\\item -4.68541809164246\n",
       "\\item 1.852355782998\n",
       "\\item -0.923712280180049\n",
       "\\item 3.54479111932362\n",
       "\\item 2.99699820257323\n",
       "\\item 3.11974791572323\n",
       "\\item 5.60525325799641\n",
       "\\item 4.77223369649215\n",
       "\\item 7.78389765193265\n",
       "\\item 0.453360531113254\n",
       "\\item 4.25947447753665\n",
       "\\item 4.68925293352382\n",
       "\\item 5.46696111812867\n",
       "\\item 2.97428778195328\n",
       "\\item -4.16022258586541\n",
       "\\item 1.07328124604081\n",
       "\\item 1.97735726303609\n",
       "\\item 2.07038418906238\n",
       "\\item 2.38475111650204\n",
       "\\item 3.55192756968335\n",
       "\\item 3.29189745225576\n",
       "\\item 1.27677117924684\n",
       "\\item 4.44147911037201\n",
       "\\item -0.589287729893202\n",
       "\\item -4.08606091722163\n",
       "\\item 8.59341697472541\n",
       "\\item 0.92890505205069\n",
       "\\item 1.82813139437621\n",
       "\\item -2.42386133582491\n",
       "\\item -6.98752936439497\n",
       "\\item 0.503268235936384\n",
       "\\item -2.96024614084739\n",
       "\\item 3.44006731066962\n",
       "\\item -1.53148877789882\n",
       "\\item 10.0873979099442\n",
       "\\item -0.316303010109918\n",
       "\\item 2.9893425507899\n",
       "\\item -1.20582257419107\n",
       "\\item 5.33153434585366\n",
       "\\item 2.16719349110347\n",
       "\\item 2.10432775327174\n",
       "\\item -1.44750355897116e-05\n",
       "\\item -3.53379162801971\n",
       "\\item -3.49477189692073\n",
       "\\item -1.83769766530477\n",
       "\\item 1.1732575681732\n",
       "\\item 0.434331237581933\n",
       "\\item 0.936098984356247\n",
       "\\item -1.93678610553317\n",
       "\\item 2.23895915702373\n",
       "\\item 2.45878128409939\n",
       "\\item -3.3631091042675\n",
       "\\item 6.16469425692235\n",
       "\\item -3.93842702673713\n",
       "\\item 0.797734547955974\n",
       "\\item -4.28037996622243\n",
       "\\item -0.424288244190303\n",
       "\\item -0.150163803879068\n",
       "\\item -3.55135691613973\n",
       "\\item -2.88829414993812\n",
       "\\item 1.38027047238014\n",
       "\\item 5.98226236454638\n",
       "\\item -0.458877629555055\n",
       "\\item 0.983714840042461\n",
       "\\item 1.63020390472523\n",
       "\\item 6.04550244209503\n",
       "\\item -1.95327373235558\n",
       "\\item 0.254214974473241\n",
       "\\item 2.97442107498399\n",
       "\\item 1.39730562794623\n",
       "\\item 1.36528443623901\n",
       "\\item 2.07745171477819\n",
       "\\item -1.57241866756035\n",
       "\\item 1.81952707126447\n",
       "\\item -0.799181270268098\n",
       "\\item 2.43985550728917\n",
       "\\item 0.963821448939099\n",
       "\\item 3.01178213974347\n",
       "\\item -1.08399055649636\n",
       "\\item -2.10920043394975\n",
       "\\item -1.74681086110563\n",
       "\\item -0.70536881496018\n",
       "\\item 1.55276204793531\n",
       "\\item -1.45201574213787\n",
       "\\item 0.736620667757734\n",
       "\\item -1.52379603551624\n",
       "\\item 2.35747639231697\n",
       "\\item 0.855067105928284\n",
       "\\item 3.52239700169655\n",
       "\\item -1.75992372816784\n",
       "\\item -0.504435193949499\n",
       "\\item 1.70722946400456\n",
       "\\item 3.4136622356274\n",
       "\\item 5.99272774467337\n",
       "\\item -0.348837825358409\n",
       "\\item -0.584042495821569\n",
       "\\item 0.718356192745104\n",
       "\\item 3.13491656876641\n",
       "\\item 2.41950963125283\n",
       "\\item -1.94073516362991\n",
       "\\item 1.4056821681579\n",
       "\\item 1.49652563322737\n",
       "\\item 1.33817356587357\n",
       "\\item -7.57014377001935\n",
       "\\item 4.44122330100236\n",
       "\\item -1.79477896376076\n",
       "\\item 2.15691491463599\n",
       "\\item 0.278225999166141\n",
       "\\item -1.42305353269282\n",
       "\\item 1.12319299872002\n",
       "\\item 8.36578201236739\n",
       "\\item -2.08018839342872\n",
       "\\item 1.77397721062242\n",
       "\\item -0.0522237277092303\n",
       "\\item 4.2706452367642\n",
       "\\item -0.17963726035787\n",
       "\\item 5.85589311041968\n",
       "\\item 2.77856623465453\n",
       "\\item 4.40659039313365\n",
       "\\item 0.384571367922892\n",
       "\\item -1.66864341391034\n",
       "\\item -0.891888932071278\n",
       "\\item 5.98359713313057\n",
       "\\item 0.303408383251626\n",
       "\\item 2.32194434148913\n",
       "\\item 5.05466551447335\n",
       "\\item 9.38355112495192\n",
       "\\item 0.219296428749204\n",
       "\\item 2.1378310660078\n",
       "\\item -2.30674341057697\n",
       "\\item 5.88875334259994\n",
       "\\item -3.2714362884477\n",
       "\\item 1.93033413526131\n",
       "\\item 0.63397668579425\n",
       "\\item -3.0853376865255\n",
       "\\item 2.18499696005808\n",
       "\\item 6.18101961283341\n",
       "\\item 0.80253327864575\n",
       "\\item -3.53416675436205\n",
       "\\item 3.91107367888238\n",
       "\\item 0.463318561704977\n",
       "\\item 4.05988488025947\n",
       "\\item 2.81930065142658\n",
       "\\item 0.314265234405375\n",
       "\\item 1.66163146548119\n",
       "\\item 0.016076950330929\n",
       "\\item -3.3319062616477\n",
       "\\item -2.695020497956\n",
       "\\item 2.57222148352552\n",
       "\\item 4.80636016582918\n",
       "\\item 1.85163441421505\n",
       "\\item 2.67423572618487\n",
       "\\item 1.50711474674459\n",
       "\\item 3.08640433405227\n",
       "\\item 8.50562480557377\n",
       "\\item -0.0962725562116202\n",
       "\\item -0.503564917200596\n",
       "\\item 0.266300576284572\n",
       "\\item 6.35548469206874\n",
       "\\item 0.688839155839123\n",
       "\\item 2.6918641754876\n",
       "\\item 5.89906607560806\n",
       "\\item -0.805529088975565\n",
       "\\item 1.38870241590777\n",
       "\\item -4.73103917229119\n",
       "\\item 5.947446282093\n",
       "\\item 1.92446701193648\n",
       "\\item 1.14138646426497\n",
       "\\item 1.21049077155683\n",
       "\\item 0.734704056988213\n",
       "\\item 1.21318003952695\n",
       "\\item 3.27404371870238\n",
       "\\item -1.534466068743\n",
       "\\item -1.4086503001666\n",
       "\\item 0.275049965625008\n",
       "\\item 0.0650437642378587\n",
       "\\item -4.10291198427306\n",
       "\\item -0.325317816792945\n",
       "\\item 2.54479182387879\n",
       "\\item 0.545335738414557\n",
       "\\item -4.57309167250295\n",
       "\\item -3.39093352575811\n",
       "\\item 6.90277764037149\n",
       "\\item -9.26942160902523\n",
       "\\item 1.93950151874993\n",
       "\\item -1.74429137543458\n",
       "\\item -1.30618958076707\n",
       "\\item 1.95817504651577\n",
       "\\item 1.52659277151858\n",
       "\\item 6.23095786929287\n",
       "\\item -4.4032487010204\n",
       "\\item 2.07268462653952\n",
       "\\item 1.94456591147724\n",
       "\\item 4.35197136504711\n",
       "\\item 1.53738508292772\n",
       "\\item 4.59735619628383\n",
       "\\item -4.37789421728262\n",
       "\\item 0.720616758970976\n",
       "\\item -0.0851515110675396\n",
       "\\item -1.30488681216531\n",
       "\\item -3.78013549656192\n",
       "\\item -1.99844665362997\n",
       "\\item 4.93257058067563\n",
       "\\item -1.70324345573281\n",
       "\\item 1.83026180823047\n",
       "\\item 0.753855301207706\n",
       "\\item 2.68614799859026\n",
       "\\item 3.07500077957122\n",
       "\\item -4.79878340661501\n",
       "\\item 5.01130982352439\n",
       "\\item -2.95176437094576\n",
       "\\item -0.0347929060229224\n",
       "\\item 4.59399014942858\n",
       "\\item 4.16591450024886\n",
       "\\item -1.00508219787125\n",
       "\\item 0.996847830269913\n",
       "\\item -0.147837196692673\n",
       "\\item 5.96753926822044\n",
       "\\item 1.65181654299671\n",
       "\\end{enumerate*}\n"
      ],
      "text/markdown": [
       "1. -1.12976285655414\n",
       "2. 1.88026364746971\n",
       "3. -0.687123450536503\n",
       "4. 1.10357858945551\n",
       "5. 3.34544462354701\n",
       "6. 1.26854066141139\n",
       "7. -3.34800151323389\n",
       "8. 7.01049483151206\n",
       "9. 0.687952536550621\n",
       "10. 1.69471942104403\n",
       "11. 3.88121551041794\n",
       "12. -3.10293192795972\n",
       "13. 0.979653684608272\n",
       "14. 3.56079785728511\n",
       "15. 5.49664198681912\n",
       "16. 0.725797707293954\n",
       "17. 4.40733603031988\n",
       "18. -0.473066130849531\n",
       "19. 3.66834813504885\n",
       "20. 2.70839383882905\n",
       "21. -4.77366076625356\n",
       "22. 0.791659640454204\n",
       "23. -2.44296548137002\n",
       "24. 3.24633845600712\n",
       "25. 4.51195303950468\n",
       "26. -0.710826525389581\n",
       "27. 0.445399770228229\n",
       "28. 5.03575965252985\n",
       "29. -7.17378574969144\n",
       "30. -1.98660674632613\n",
       "31. 6.77662874831746\n",
       "32. 5.04807327556918\n",
       "33. -0.357501125850125\n",
       "34. -0.806308740925353\n",
       "35. 1.49582133904339\n",
       "36. 1.55707341696142\n",
       "37. -6.47757326457755\n",
       "38. 0.11133527404377\n",
       "39. 1.00517999124403\n",
       "40. 3.2260222390601\n",
       "41. -0.275569488541189\n",
       "42. 0.000305713371700156\n",
       "43. 3.91140843027137\n",
       "44. 5.950454583427\n",
       "45. -2.01731684709232\n",
       "46. 1.76761420730511\n",
       "47. 5.18389880254403\n",
       "48. -2.59480402863307\n",
       "49. -1.76637450262969\n",
       "50. 0.87667628757269\n",
       "51. 2.98584571400525\n",
       "52. -1.23610016528958\n",
       "53. -0.964742464237121\n",
       "54. 5.33793671070369\n",
       "55. 0.423321173026744\n",
       "56. 0.00354290604337171\n",
       "57. 3.54887424499281\n",
       "58. 0.485287081251254\n",
       "59. 5.36426933947405\n",
       "60. 0.531694576376313\n",
       "61. 3.58790006355182\n",
       "62. 4.05265253603729\n",
       "63. 1.18772721455203\n",
       "64. 5.11336687798236\n",
       "65. -5.24779424998533\n",
       "66. -4.18360044565234\n",
       "67. 0.340760886861083\n",
       "68. 2.45320989627191\n",
       "69. 1.74356021342829\n",
       "70. 0.339694553248716\n",
       "71. -1.08729993279073\n",
       "72. -3.58260217525342\n",
       "73. 2.84001752724938\n",
       "74. 6.07811451000465\n",
       "75. -2.85558628170007\n",
       "76. 2.5587400629367\n",
       "77. 2.19805306297919\n",
       "78. -5.81626451842883\n",
       "79. 2.88609569963729\n",
       "80. 2.92452961661363\n",
       "81. -0.98840580081662\n",
       "82. -0.391779385092762\n",
       "83. 3.8225922040198\n",
       "84. -1.16878900063836\n",
       "85. 2.07404359794578\n",
       "86. 2.7131040850203\n",
       "87. 1.55584060050144\n",
       "88. -0.258036336933856\n",
       "89. 2.90530536955181\n",
       "90. -3.25786696307448\n",
       "91. 0.308320457385608\n",
       "92. 0.774583800264076\n",
       "93. 1.92262490836601\n",
       "94. 3.24288352320886\n",
       "95. 3.5468745776484\n",
       "96. 4.68778672498847\n",
       "97. 4.7081727598898\n",
       "98. -2.59819477384563\n",
       "99. -1.12185661795892\n",
       "100. 0.862896362084124\n",
       "101. 4.34390650795939\n",
       "102. 0.2788567475456\n",
       "103. 0.841239494061259\n",
       "104. -2.85294061087751\n",
       "105. -2.18520647960834\n",
       "106. -1.17969292218475\n",
       "107. 6.96854536101828\n",
       "108. -0.532498562186808\n",
       "109. 0.214318502030702\n",
       "110. -2.91688735454814\n",
       "111. -3.46977953605689\n",
       "112. 1.11216574315545\n",
       "113. 2.2272850550784\n",
       "114. 4.18522578335388\n",
       "115. 1.89349906734825\n",
       "116. 1.01832981005254\n",
       "117. -1.70676534668859\n",
       "118. 1.19245395740918\n",
       "119. 0.355195238412699\n",
       "120. -0.996901355570593\n",
       "121. 1.47543144427668\n",
       "122. 2.29659994452655\n",
       "123. 1.16945360010936\n",
       "124. 0.412405230789691\n",
       "125. -2.015658465106\n",
       "126. 2.65751529982874\n",
       "127. 1.93866803366976\n",
       "128. -0.0955355459471774\n",
       "129. -4.6292249728974\n",
       "130. 3.4202640932498\n",
       "131. 2.46634240786074\n",
       "132. -0.197610137459032\n",
       "133. -1.67014285213458\n",
       "134. 0.889250371385609\n",
       "135. -6.05745501079857\n",
       "136. 3.95846628741924\n",
       "137. 6.87056199977362\n",
       "138. 0.578994976391234\n",
       "139. 4.72870411426323\n",
       "140. -3.10297111564371\n",
       "141. -3.67151611273239\n",
       "142. 0.242368454209527\n",
       "143. 2.25472724422946\n",
       "144. 0.636007974398691\n",
       "145. 4.13685437786509\n",
       "146. 2.96256868409951\n",
       "147. 3.98653973540184\n",
       "148. -2.87107384142447\n",
       "149. -4.29366789240399\n",
       "150. -2.21720180155913\n",
       "151. 5.07545203353374\n",
       "152. -0.488531910717599\n",
       "153. 1.8756347638451\n",
       "154. 1.76143658597836\n",
       "155. -1.20733766122644\n",
       "156. -1.79226292872587\n",
       "157. -1.04575110752209\n",
       "158. -2.41823715384512\n",
       "159. 1.73557838302776\n",
       "160. 3.44797420828045\n",
       "161. 1.1359346027316\n",
       "162. -2.31623116392598\n",
       "163. 1.14820379491222\n",
       "164. 0.254737783712973\n",
       "165. 1.2008773943722\n",
       "166. 2.50138197495392\n",
       "167. -0.91259450308222\n",
       "168. 1.12396225119447\n",
       "169. 0.00577563710136952\n",
       "170. 0.917776754151106\n",
       "171. 3.86582510228859\n",
       "172. 3.19109803523138\n",
       "173. 0.940749743056346\n",
       "174. 3.16606807657993\n",
       "175. -0.569735215344921\n",
       "176. -2.5257363299003\n",
       "177. 2.33187062374316\n",
       "178. -1.74566759961835\n",
       "179. 1.38564809855327\n",
       "180. 6.89836398058961\n",
       "181. 2.09806258733965\n",
       "182. 3.99215550651189\n",
       "183. 4.61327283646876\n",
       "184. 1.75503756448967\n",
       "185. 2.57730541722194\n",
       "186. 1.34761539160879\n",
       "187. -0.130856639867968\n",
       "188. -1.50550861807011\n",
       "189. 3.89848810040134\n",
       "190. -1.58772405570992\n",
       "191. 2.78424498257507\n",
       "192. -0.793961321570892\n",
       "193. -1.36170978634354\n",
       "194. -2.7352509166839\n",
       "195. 4.82249959582684\n",
       "196. 4.49879702815471\n",
       "197. 4.70900396538091\n",
       "198. 1.97443529577702\n",
       "199. 0.0553437333088362\n",
       "200. -1.98994878346991\n",
       "201. -0.978697246431637\n",
       "202. 1.74051121831996\n",
       "203. -0.319463348561406\n",
       "204. 3.5903721116662\n",
       "205. 1.56420389885335\n",
       "206. 0.848573589126217\n",
       "207. 1.06361284277263\n",
       "208. 4.000626405705\n",
       "209. -5.1443762237023\n",
       "210. 0.212820899058632\n",
       "211. 6.63748484510806\n",
       "212. -1.97242338660403\n",
       "213. 0.566238506131646\n",
       "214. 5.75046841721787\n",
       "215. 0.939065712737174\n",
       "216. -0.220317110913046\n",
       "217. 2.09889243836054\n",
       "218. -2.72989571674504\n",
       "219. -2.3421431599415\n",
       "220. 1.07991278629133\n",
       "221. 1.63365797296719\n",
       "222. 0.0663513873836716\n",
       "223. 2.840548631466\n",
       "224. 1.93140244832288\n",
       "225. 7.32420098220304\n",
       "226. 4.51514104568486\n",
       "227. 3.2842027740772\n",
       "228. -8.66132180325527\n",
       "229. -2.20055086474042\n",
       "230. 0.82496988806013\n",
       "231. -4.06365185241609\n",
       "232. 2.90679640669832\n",
       "233. 2.18705889563908\n",
       "234. -0.772727111509201\n",
       "235. -0.910356621173666\n",
       "236. 0.302227861320136\n",
       "237. 0.6278865639155\n",
       "238. 2.45637291647656\n",
       "239. -1.42485371522842\n",
       "240. -1.37109051544891\n",
       "241. -1.74912580758804\n",
       "242. 1.36305396135701\n",
       "243. 6.45431663560291\n",
       "244. 2.19579744871635\n",
       "245. -2.56840741664226\n",
       "246. 5.35767071724389\n",
       "247. -0.423347080264276\n",
       "248. 4.65082637165246\n",
       "249. 7.26665662917966\n",
       "250. 0.47931295797321\n",
       "251. -0.574031511007516\n",
       "252. 0.273918368012609\n",
       "253. 3.97767856262099\n",
       "254. 0.674412823254445\n",
       "255. 4.4245580679369\n",
       "256. -0.311258803486531\n",
       "257. -4.16936410022354\n",
       "258. 4.07796540772049\n",
       "259. -0.431382466281235\n",
       "260. -6.26607306115681\n",
       "261. 3.47583161269283\n",
       "262. 2.89261239563506\n",
       "263. -3.88252631270413\n",
       "264. -4.4009915995868\n",
       "265. 2.23642355337833\n",
       "266. -1.85630868303794\n",
       "267. 4.64664119303202\n",
       "268. -1.90557014657625\n",
       "269. 0.912999784448322\n",
       "270. 2.24091743682017\n",
       "271. -0.13126911119222\n",
       "272. 0.953770760545355\n",
       "273. -0.539984035741327\n",
       "274. 3.63037259510035\n",
       "275. 1.89853292513979\n",
       "276. -4.46717573366247\n",
       "277. 1.87945159922994\n",
       "278. -0.237164795398663\n",
       "279. -0.913848123481864\n",
       "280. -3.97938466384209\n",
       "281. 1.64286115921697\n",
       "282. 0.0582071157051012\n",
       "283. -0.0942559068071045\n",
       "284. -0.257749375500846\n",
       "285. -3.32152082091804\n",
       "286. 2.51595530396834\n",
       "287. 5.22897478073648\n",
       "288. 2.61397903397541\n",
       "289. 0.298854520355496\n",
       "290. -8.72895779061572\n",
       "291. 6.26121929216262\n",
       "292. -0.0902071990188626\n",
       "293. -2.17007442288543\n",
       "294. 3.56009555096477\n",
       "295. 4.49834831678888\n",
       "296. -2.15248288054708\n",
       "297. 1.81590282306336\n",
       "298. -0.440610123467262\n",
       "299. -0.97341625548747\n",
       "300. -4.77003135823064\n",
       "301. 0.799229385380183\n",
       "302. 4.54313836421334\n",
       "303. -2.83882028347134\n",
       "304. 3.16167156440563\n",
       "305. 4.26253664088376\n",
       "306. 0.405160355502021\n",
       "307. 3.05579882737909\n",
       "308. -1.69507638319276\n",
       "309. 2.89150048626853\n",
       "310. 5.28603856543355\n",
       "311. 1.02426471420545\n",
       "312. -0.0959124515172762\n",
       "313. -2.79235441135489\n",
       "314. 4.05221152335799\n",
       "315. 3.60552998224263\n",
       "316. 6.19939943199682\n",
       "317. 1.44989552051108\n",
       "318. -0.260540736906737\n",
       "319. 4.6880776168585\n",
       "320. 1.75574136921995\n",
       "321. -1.6482349319152\n",
       "322. 1.84972616904413\n",
       "323. 1.92504639841422\n",
       "324. 4.36770814642276\n",
       "325. 4.54657699747853\n",
       "326. -0.702030159452188\n",
       "327. 6.05948309636715\n",
       "328. -0.178125038601158\n",
       "329. 5.69949190643125\n",
       "330. 5.04575803943687\n",
       "331. 2.01883870583792\n",
       "332. 2.96884275478384\n",
       "333. -0.0735452737780904\n",
       "334. -0.55681198384075\n",
       "335. 0.900902563795026\n",
       "336. 4.33333493429979\n",
       "337. 2.42303505640052\n",
       "338. 5.96402287678208\n",
       "339. 2.33437135949522\n",
       "340. -2.34489241260269\n",
       "341. 2.48400353292279\n",
       "342. 1.75095246332984\n",
       "343. 6.01785804405601\n",
       "344. -0.716908011645691\n",
       "345. -0.951586874038521\n",
       "346. -1.11028787968871\n",
       "347. 0.0880624141008385\n",
       "348. -1.01940846007925\n",
       "349. 7.47531116986819\n",
       "350. -0.0129516939544183\n",
       "351. -1.18071950011038\n",
       "352. 7.73653517862009\n",
       "353. 3.7999984296524\n",
       "354. -0.208248547187203\n",
       "355. 2.34660489443393\n",
       "356. -2.94054419560208\n",
       "357. 5.02120903425591\n",
       "358. -0.670118063418206\n",
       "359. -0.818639297200692\n",
       "360. 0.934418522043197\n",
       "361. 3.94810556606343\n",
       "362. -3.27590173712442\n",
       "363. -2.95117134370529\n",
       "364. -2.15933281527123\n",
       "365. 1.14611440926645\n",
       "366. -0.61012660078265\n",
       "367. 0.461658002600543\n",
       "368. -2.96427967633925\n",
       "369. -3.82725230390729\n",
       "370. 10.4019545323582\n",
       "371. -1.13482612137913\n",
       "372. -5.06577650018631\n",
       "373. -1.20009934815642\n",
       "374. -1.88496422420236\n",
       "375. 2.6821098900532\n",
       "376. 4.16835732561779\n",
       "377. -8.52750157499965\n",
       "378. 0.09690978489024\n",
       "379. 4.73228133277064\n",
       "380. 3.09629218237056\n",
       "381. 1.28416796523914\n",
       "382. 2.65404018303627\n",
       "383. 1.10228816107601\n",
       "384. 0.511742980499961\n",
       "385. -1.50329307419626\n",
       "386. 4.5383001637464\n",
       "387. 0.242971682368728\n",
       "388. 1.75474182534714\n",
       "389. 2.11426180463178\n",
       "390. -4.10625244275203\n",
       "391. -0.695402294961402\n",
       "392. -1.71636593485545\n",
       "393. 1.34149244584765\n",
       "394. 11.9816071564979\n",
       "395. -2.4488892123797\n",
       "396. 3.07310405557778\n",
       "397. -0.345033818202412\n",
       "398. 1.80928330100979\n",
       "399. 0.90124820927915\n",
       "400. -0.536375121757309\n",
       "401. 0.106804454545584\n",
       "402. 2.0459844260543\n",
       "403. 4.56833584082436\n",
       "404. 5.21928481459904\n",
       "405. 1.32424144653257\n",
       "406. 0.795693623963989\n",
       "407. 3.43637460119707\n",
       "408. 6.26086221640756\n",
       "409. 2.77346618581244\n",
       "410. 5.06794743750523\n",
       "411. 0.210020823862655\n",
       "412. -0.457388003925949\n",
       "413. 3.25605402042862\n",
       "414. 0.420928890805457\n",
       "415. -0.414191841958037\n",
       "416. -3.07111436838131\n",
       "417. 3.45437072375251\n",
       "418. 2.01114178190106\n",
       "419. -2.78297767858081\n",
       "420. 2.99018256620782\n",
       "421. 2.83055030606138\n",
       "422. -2.03800174401765\n",
       "423. -3.78048873936548\n",
       "424. -0.270916042359086\n",
       "425. -0.781274370922615\n",
       "426. 3.46580320002599\n",
       "427. 1.62096578235063\n",
       "428. -2.0333551453765\n",
       "429. -0.276508969342744\n",
       "430. 7.56441794433923\n",
       "431. 0.395053235629853\n",
       "432. 0.678004150683375\n",
       "433. -5.77962672941068\n",
       "434. 0.121929461369648\n",
       "435. 3.35453134972608\n",
       "436. 2.88295103796079\n",
       "437. 2.17619834487847\n",
       "438. 4.43973594258164\n",
       "439. -0.759115471180042\n",
       "440. 3.33834260987346\n",
       "441. 4.95478938978614\n",
       "442. -2.93150340981502\n",
       "443. -1.37160989957798\n",
       "444. 1.05818251647732\n",
       "445. 3.40381945759271\n",
       "446. 1.01023559133139\n",
       "447. 0.275644531313714\n",
       "448. 0.792241172583427\n",
       "449. -3.62086612126329\n",
       "450. 2.21525863301562\n",
       "451. 0.958409537638506\n",
       "452. -2.46079954219948\n",
       "453. 5.64535157402115\n",
       "454. 1.71923794858117\n",
       "455. 1.42864956440362\n",
       "456. 0.689267209122065\n",
       "457. 0.412057083840406\n",
       "458. -3.59059865999895\n",
       "459. 6.39901229295002\n",
       "460. -4.76909132921198\n",
       "461. 4.51295879445329\n",
       "462. -0.70157897702801\n",
       "463. 4.55555547790876\n",
       "464. -2.38337735966725\n",
       "465. 2.33341507136827\n",
       "466. 4.28368640386121\n",
       "467. 0.361346756133916\n",
       "468. 2.69870413964684\n",
       "469. -0.178909063037957\n",
       "470. 3.65547583688989\n",
       "471. 5.38256861206609\n",
       "472. 0.0536426190006792\n",
       "473. 4.93557747509999\n",
       "474. -3.72810453561711\n",
       "475. 3.32259620213051\n",
       "476. 1.25122322894879\n",
       "477. -2.67603344057404\n",
       "478. -0.430873176414497\n",
       "479. 0.16247178944929\n",
       "480. 7.40582288231597\n",
       "481. 4.85174395355924\n",
       "482. 1.58487552707791\n",
       "483. 1.66782035784336\n",
       "484. 4.29323224607673\n",
       "485. 6.95063611919977\n",
       "486. 0.620638788358393\n",
       "487. 0.683596911874426\n",
       "488. 2.64306544800768\n",
       "489. 2.91286936789331\n",
       "490. 6.74283972441572\n",
       "491. -0.562502062649138\n",
       "492. -1.86144372008828\n",
       "493. 1.69330209435441\n",
       "494. 6.48191966717096\n",
       "495. 3.26353852799996\n",
       "496. 0.244231482055441\n",
       "497. 1.97421201173213\n",
       "498. 7.45519907294494\n",
       "499. 5.94807881333916\n",
       "500. 0.680797852897275\n",
       "501. -0.787776649607561\n",
       "502. -0.799460090475412\n",
       "503. -4.31796793572095\n",
       "504. 2.69612570944896\n",
       "505. -1.6776042272415\n",
       "506. 6.53355435842537\n",
       "507. 2.58075337623309\n",
       "508. -2.1816651384841\n",
       "509. 1.58653483976164\n",
       "510. 0.293281445501275\n",
       "511. -0.53204834183116\n",
       "512. 1.99025575199166\n",
       "513. 2.43407956777391\n",
       "514. 6.21719377711583\n",
       "515. 2.39346695761888\n",
       "516. -0.027284179088896\n",
       "517. 1.41396010011813\n",
       "518. 6.67507142328592\n",
       "519. 2.63093881194689\n",
       "520. -1.60429312013875\n",
       "521. 1.05259906260621\n",
       "522. -0.210597346055011\n",
       "523. -2.97492349276396\n",
       "524. 2.61230935906042\n",
       "525. 7.88954357113913\n",
       "526. -7.14808368400064\n",
       "527. -2.68703043075604\n",
       "528. -0.962621665522809\n",
       "529. 0.552944380244263\n",
       "530. 1.86174067323814\n",
       "531. 1.11619665979969\n",
       "532. 4.85002763107698\n",
       "533. 0.51309163948456\n",
       "534. -0.0863482236229467\n",
       "535. 0.480313633716267\n",
       "536. 0.00130145169490725\n",
       "537. 3.40645361336433\n",
       "538. 0.278862258060892\n",
       "539. -0.482910052929244\n",
       "540. 0.828734469729249\n",
       "541. 1.47119280994606\n",
       "542. 1.80350153658567\n",
       "543. -1.54185060502744\n",
       "544. 0.425011607338349\n",
       "545. -0.715496750978952\n",
       "546. 1.31287725027775\n",
       "547. -1.16479317080203\n",
       "548. 0.781778681318098\n",
       "549. 3.30313459190436\n",
       "550. 0.898065351699424\n",
       "551. 4.05543997289265\n",
       "552. 0.604620528953974\n",
       "553. -4.50098399551438\n",
       "554. 2.94101337399013\n",
       "555. 0.80147424148024\n",
       "556. 4.80808926220354\n",
       "557. 5.56695284731973\n",
       "558. 2.79768735428622\n",
       "559. 7.04486112054455\n",
       "560. 3.31148542053261\n",
       "561. 2.71577167218495\n",
       "562. 6.11715716819925\n",
       "563. 0.0758359705209787\n",
       "564. -3.3760909961077\n",
       "565. 5.22464489258904\n",
       "566. 1.43726397159332\n",
       "567. -2.48606180302604\n",
       "568. -2.61974172719705\n",
       "569. 0.358186507685086\n",
       "570. -4.83633536545378\n",
       "571. 0.760459708928125\n",
       "572. -2.31087043604449\n",
       "573. 0.37087173514442\n",
       "574. 2.23930324613907\n",
       "575. 6.34496168593651\n",
       "576. 2.24478028703942\n",
       "577. -3.13054836985612\n",
       "578. -0.512542601634488\n",
       "579. 7.17872845536031\n",
       "580. 6.08199759303699\n",
       "581. 0.759601477650876\n",
       "582. -1.26269563333521\n",
       "583. -2.10591733393343\n",
       "584. 1.27110601690137\n",
       "585. -6.13802713597009\n",
       "586. 7.95539566644546\n",
       "587. 4.37892291979853\n",
       "588. 5.4603143154048\n",
       "589. 6.3398015265716\n",
       "590. -3.65021621389672\n",
       "591. 3.36430452703435\n",
       "592. 2.11279102511639\n",
       "593. -2.65720922048982\n",
       "594. -0.30009051404656\n",
       "595. 1.69525790432767\n",
       "596. 0.24532178328663\n",
       "597. 2.28319928149311\n",
       "598. 6.06121856088138\n",
       "599. 1.29511913302582\n",
       "600. 2.39528781578058\n",
       "601. -6.10240895358632\n",
       "602. 0.816763575792948\n",
       "603. -1.82313140854701\n",
       "604. 1.87315402269594\n",
       "605. 4.4781367521515\n",
       "606. -1.39538161021984\n",
       "607. 3.43909162020977\n",
       "608. 4.285473128434\n",
       "609. 5.01974135540686\n",
       "610. -4.30743159178648\n",
       "611. 5.98176402891438\n",
       "612. 0.708958820268532\n",
       "613. -2.80583998088447\n",
       "614. -1.8522055472274\n",
       "615. -2.1859460761917\n",
       "616. -0.688407904951774\n",
       "617. -0.455367958260347\n",
       "618. 2.84312489002017\n",
       "619. 4.20087616160642\n",
       "620. -3.11619019853809\n",
       "621. -2.69673403080131\n",
       "622. -3.60771457419419\n",
       "623. -0.234898836146856\n",
       "624. -0.293086936632074\n",
       "625. 7.09187600236665\n",
       "626. 7.11231733304975\n",
       "627. 1.40271501259691\n",
       "628. -1.77357687921374\n",
       "629. -5.78744057118766\n",
       "630. -3.6930135934853\n",
       "631. -2.24854901931218\n",
       "632. 3.1565389357987\n",
       "633. -1.60849919596913\n",
       "634. 2.35599338561336\n",
       "635. 1.57856173287199\n",
       "636. -4.09126688161878\n",
       "637. 4.05202443888867\n",
       "638. 1.30642615534125\n",
       "639. 4.31409742334988\n",
       "640. 4.83803542538174\n",
       "641. 1.03907301211721\n",
       "642. -1.74774256055745\n",
       "643. 1.19937650215954\n",
       "644. 1.01156571746867\n",
       "645. -0.560373712072077\n",
       "646. 0.770600437469254\n",
       "647. 1.79092303710937\n",
       "648. -4.23639476505763\n",
       "649. 4.39720917856496\n",
       "650. -1.65722986128059\n",
       "651. -0.898714148713793\n",
       "652. 3.35043411016172\n",
       "653. 2.3055393491436\n",
       "654. 4.34568073217793\n",
       "655. -1.33133229207674\n",
       "656. 2.95999073551094\n",
       "657. -0.225294100297899\n",
       "658. 5.37047605959403\n",
       "659. 2.6859543657496\n",
       "660. 1.72607964122955\n",
       "661. -2.43195357999049\n",
       "662. -1.05919882310527\n",
       "663. -1.68178063118221\n",
       "664. 3.55930702314859\n",
       "665. 7.96053101840349\n",
       "666. 2.11215196871718\n",
       "667. -2.06260179217613\n",
       "668. -0.346734475816814\n",
       "669. 0.0285872160249991\n",
       "670. -2.93198217547454\n",
       "671. -0.398398762842025\n",
       "672. 5.92050645379285\n",
       "673. 1.15125334133741\n",
       "674. 0.179349425002206\n",
       "675. -0.432388201436127\n",
       "676. 0.196619743709561\n",
       "677. 4.81355195196433\n",
       "678. 2.00592979870274\n",
       "679. -4.07969074074541\n",
       "680. -2.92690628977342\n",
       "681. -2.99563297676124\n",
       "682. 3.3831254363977\n",
       "683. 5.19205303009432\n",
       "684. 3.25276581809386\n",
       "685. 11.1495904582155\n",
       "686. 0.78151456832666\n",
       "687. 2.0541034604876\n",
       "688. 3.36939648445398\n",
       "689. 8.01454864140166\n",
       "690. 4.95119794026695\n",
       "691. -5.17568512384972\n",
       "692. 5.37236508398642\n",
       "693. 1.93278575980433\n",
       "694. -0.912201915945365\n",
       "695. -2.64562284943811\n",
       "696. 6.47711062336217\n",
       "697. -5.2548715877141\n",
       "698. 0.693081192487709\n",
       "699. 4.11071371784173\n",
       "700. 4.07027203212557\n",
       "701. 3.94775146596778\n",
       "702. 2.80239905774428\n",
       "703. 0.0390847396911489\n",
       "704. 1.2258831490145\n",
       "705. 0.261040401774726\n",
       "706. -2.24645730225544\n",
       "707. 0.947527926984544\n",
       "708. 0.268510553106312\n",
       "709. 3.33954212398089\n",
       "710. -1.52047417107702\n",
       "711. -6.79623403303395\n",
       "712. 2.68813062625928\n",
       "713. -1.19064791925211\n",
       "714. 2.65185766818512\n",
       "715. 5.35900642048956\n",
       "716. 0.152619693982763\n",
       "717. 0.155355897404196\n",
       "718. -1.54233440626052\n",
       "719. 2.13338315073971\n",
       "720. 4.15512209937101\n",
       "721. -2.89354418147679\n",
       "722. 2.63889413650027\n",
       "723. -0.263981766774571\n",
       "724. 1.7276026599684\n",
       "725. 8.08711590330754\n",
       "726. -2.88742098789346\n",
       "727. 1.52802907426384\n",
       "728. 0.488056680246822\n",
       "729. -5.77530358651749\n",
       "730. -0.891259062442771\n",
       "731. -3.15183489069149\n",
       "732. 4.65959357274582\n",
       "733. 1.41244298076653\n",
       "734. 3.03374543909754\n",
       "735. 7.1702519792722\n",
       "736. -1.80082980627931\n",
       "737. -1.32773091948158\n",
       "738. 6.56304920014066\n",
       "739. 2.06846715096409\n",
       "740. 4.0198844248071\n",
       "741. 3.33749671909267\n",
       "742. -1.25261453357533\n",
       "743. 1.83218673029031\n",
       "744. 2.09917599316104\n",
       "745. 2.0770486686391\n",
       "746. -6.95040553236146\n",
       "747. -1.80285549366546\n",
       "748. 0.854286040727381\n",
       "749. 0.23471498631919\n",
       "750. 1.33582774606703\n",
       "751. 1.4287824035372\n",
       "752. -1.32036786388625\n",
       "753. 1.3363577539873\n",
       "754. -3.13297172738197\n",
       "755. 3.2521681124016\n",
       "756. 1.42212912860663\n",
       "757. -0.45836556950954\n",
       "758. 0.124370465988377\n",
       "759. 1.92665465626719\n",
       "760. 6.89151336021599\n",
       "761. 2.78341380775077\n",
       "762. 4.07060017285541\n",
       "763. -1.32094730632766\n",
       "764. 0.961281952086446\n",
       "765. -1.98615233526579\n",
       "766. 4.5514359249313\n",
       "767. -0.793322857451273\n",
       "768. 2.12445487948335\n",
       "769. -4.18979376476637\n",
       "770. 5.06106560437713\n",
       "771. 2.87853532653073\n",
       "772. 5.78680149428104\n",
       "773. -1.93061130862475\n",
       "774. 3.86669182925949\n",
       "775. 0.551142422686387\n",
       "776. -1.5975762156935\n",
       "777. 0.402482715039153\n",
       "778. -4.32592411292519\n",
       "779. 0.194366310026311\n",
       "780. 1.78568585373085\n",
       "781. -6.19814100710025\n",
       "782. -4.68541809164246\n",
       "783. 1.852355782998\n",
       "784. -0.923712280180049\n",
       "785. 3.54479111932362\n",
       "786. 2.99699820257323\n",
       "787. 3.11974791572323\n",
       "788. 5.60525325799641\n",
       "789. 4.77223369649215\n",
       "790. 7.78389765193265\n",
       "791. 0.453360531113254\n",
       "792. 4.25947447753665\n",
       "793. 4.68925293352382\n",
       "794. 5.46696111812867\n",
       "795. 2.97428778195328\n",
       "796. -4.16022258586541\n",
       "797. 1.07328124604081\n",
       "798. 1.97735726303609\n",
       "799. 2.07038418906238\n",
       "800. 2.38475111650204\n",
       "801. 3.55192756968335\n",
       "802. 3.29189745225576\n",
       "803. 1.27677117924684\n",
       "804. 4.44147911037201\n",
       "805. -0.589287729893202\n",
       "806. -4.08606091722163\n",
       "807. 8.59341697472541\n",
       "808. 0.92890505205069\n",
       "809. 1.82813139437621\n",
       "810. -2.42386133582491\n",
       "811. -6.98752936439497\n",
       "812. 0.503268235936384\n",
       "813. -2.96024614084739\n",
       "814. 3.44006731066962\n",
       "815. -1.53148877789882\n",
       "816. 10.0873979099442\n",
       "817. -0.316303010109918\n",
       "818. 2.9893425507899\n",
       "819. -1.20582257419107\n",
       "820. 5.33153434585366\n",
       "821. 2.16719349110347\n",
       "822. 2.10432775327174\n",
       "823. -1.44750355897116e-05\n",
       "824. -3.53379162801971\n",
       "825. -3.49477189692073\n",
       "826. -1.83769766530477\n",
       "827. 1.1732575681732\n",
       "828. 0.434331237581933\n",
       "829. 0.936098984356247\n",
       "830. -1.93678610553317\n",
       "831. 2.23895915702373\n",
       "832. 2.45878128409939\n",
       "833. -3.3631091042675\n",
       "834. 6.16469425692235\n",
       "835. -3.93842702673713\n",
       "836. 0.797734547955974\n",
       "837. -4.28037996622243\n",
       "838. -0.424288244190303\n",
       "839. -0.150163803879068\n",
       "840. -3.55135691613973\n",
       "841. -2.88829414993812\n",
       "842. 1.38027047238014\n",
       "843. 5.98226236454638\n",
       "844. -0.458877629555055\n",
       "845. 0.983714840042461\n",
       "846. 1.63020390472523\n",
       "847. 6.04550244209503\n",
       "848. -1.95327373235558\n",
       "849. 0.254214974473241\n",
       "850. 2.97442107498399\n",
       "851. 1.39730562794623\n",
       "852. 1.36528443623901\n",
       "853. 2.07745171477819\n",
       "854. -1.57241866756035\n",
       "855. 1.81952707126447\n",
       "856. -0.799181270268098\n",
       "857. 2.43985550728917\n",
       "858. 0.963821448939099\n",
       "859. 3.01178213974347\n",
       "860. -1.08399055649636\n",
       "861. -2.10920043394975\n",
       "862. -1.74681086110563\n",
       "863. -0.70536881496018\n",
       "864. 1.55276204793531\n",
       "865. -1.45201574213787\n",
       "866. 0.736620667757734\n",
       "867. -1.52379603551624\n",
       "868. 2.35747639231697\n",
       "869. 0.855067105928284\n",
       "870. 3.52239700169655\n",
       "871. -1.75992372816784\n",
       "872. -0.504435193949499\n",
       "873. 1.70722946400456\n",
       "874. 3.4136622356274\n",
       "875. 5.99272774467337\n",
       "876. -0.348837825358409\n",
       "877. -0.584042495821569\n",
       "878. 0.718356192745104\n",
       "879. 3.13491656876641\n",
       "880. 2.41950963125283\n",
       "881. -1.94073516362991\n",
       "882. 1.4056821681579\n",
       "883. 1.49652563322737\n",
       "884. 1.33817356587357\n",
       "885. -7.57014377001935\n",
       "886. 4.44122330100236\n",
       "887. -1.79477896376076\n",
       "888. 2.15691491463599\n",
       "889. 0.278225999166141\n",
       "890. -1.42305353269282\n",
       "891. 1.12319299872002\n",
       "892. 8.36578201236739\n",
       "893. -2.08018839342872\n",
       "894. 1.77397721062242\n",
       "895. -0.0522237277092303\n",
       "896. 4.2706452367642\n",
       "897. -0.17963726035787\n",
       "898. 5.85589311041968\n",
       "899. 2.77856623465453\n",
       "900. 4.40659039313365\n",
       "901. 0.384571367922892\n",
       "902. -1.66864341391034\n",
       "903. -0.891888932071278\n",
       "904. 5.98359713313057\n",
       "905. 0.303408383251626\n",
       "906. 2.32194434148913\n",
       "907. 5.05466551447335\n",
       "908. 9.38355112495192\n",
       "909. 0.219296428749204\n",
       "910. 2.1378310660078\n",
       "911. -2.30674341057697\n",
       "912. 5.88875334259994\n",
       "913. -3.2714362884477\n",
       "914. 1.93033413526131\n",
       "915. 0.63397668579425\n",
       "916. -3.0853376865255\n",
       "917. 2.18499696005808\n",
       "918. 6.18101961283341\n",
       "919. 0.80253327864575\n",
       "920. -3.53416675436205\n",
       "921. 3.91107367888238\n",
       "922. 0.463318561704977\n",
       "923. 4.05988488025947\n",
       "924. 2.81930065142658\n",
       "925. 0.314265234405375\n",
       "926. 1.66163146548119\n",
       "927. 0.016076950330929\n",
       "928. -3.3319062616477\n",
       "929. -2.695020497956\n",
       "930. 2.57222148352552\n",
       "931. 4.80636016582918\n",
       "932. 1.85163441421505\n",
       "933. 2.67423572618487\n",
       "934. 1.50711474674459\n",
       "935. 3.08640433405227\n",
       "936. 8.50562480557377\n",
       "937. -0.0962725562116202\n",
       "938. -0.503564917200596\n",
       "939. 0.266300576284572\n",
       "940. 6.35548469206874\n",
       "941. 0.688839155839123\n",
       "942. 2.6918641754876\n",
       "943. 5.89906607560806\n",
       "944. -0.805529088975565\n",
       "945. 1.38870241590777\n",
       "946. -4.73103917229119\n",
       "947. 5.947446282093\n",
       "948. 1.92446701193648\n",
       "949. 1.14138646426497\n",
       "950. 1.21049077155683\n",
       "951. 0.734704056988213\n",
       "952. 1.21318003952695\n",
       "953. 3.27404371870238\n",
       "954. -1.534466068743\n",
       "955. -1.4086503001666\n",
       "956. 0.275049965625008\n",
       "957. 0.0650437642378587\n",
       "958. -4.10291198427306\n",
       "959. -0.325317816792945\n",
       "960. 2.54479182387879\n",
       "961. 0.545335738414557\n",
       "962. -4.57309167250295\n",
       "963. -3.39093352575811\n",
       "964. 6.90277764037149\n",
       "965. -9.26942160902523\n",
       "966. 1.93950151874993\n",
       "967. -1.74429137543458\n",
       "968. -1.30618958076707\n",
       "969. 1.95817504651577\n",
       "970. 1.52659277151858\n",
       "971. 6.23095786929287\n",
       "972. -4.4032487010204\n",
       "973. 2.07268462653952\n",
       "974. 1.94456591147724\n",
       "975. 4.35197136504711\n",
       "976. 1.53738508292772\n",
       "977. 4.59735619628383\n",
       "978. -4.37789421728262\n",
       "979. 0.720616758970976\n",
       "980. -0.0851515110675396\n",
       "981. -1.30488681216531\n",
       "982. -3.78013549656192\n",
       "983. -1.99844665362997\n",
       "984. 4.93257058067563\n",
       "985. -1.70324345573281\n",
       "986. 1.83026180823047\n",
       "987. 0.753855301207706\n",
       "988. 2.68614799859026\n",
       "989. 3.07500077957122\n",
       "990. -4.79878340661501\n",
       "991. 5.01130982352439\n",
       "992. -2.95176437094576\n",
       "993. -0.0347929060229224\n",
       "994. 4.59399014942858\n",
       "995. 4.16591450024886\n",
       "996. -1.00508219787125\n",
       "997. 0.996847830269913\n",
       "998. -0.147837196692673\n",
       "999. 5.96753926822044\n",
       "1000. 1.65181654299671\n",
       "\n",
       "\n"
      ],
      "text/plain": [
       "   [1] -1.129763e+00  1.880264e+00 -6.871235e-01  1.103579e+00  3.345445e+00\n",
       "   [6]  1.268541e+00 -3.348002e+00  7.010495e+00  6.879525e-01  1.694719e+00\n",
       "  [11]  3.881216e+00 -3.102932e+00  9.796537e-01  3.560798e+00  5.496642e+00\n",
       "  [16]  7.257977e-01  4.407336e+00 -4.730661e-01  3.668348e+00  2.708394e+00\n",
       "  [21] -4.773661e+00  7.916596e-01 -2.442965e+00  3.246338e+00  4.511953e+00\n",
       "  [26] -7.108265e-01  4.453998e-01  5.035760e+00 -7.173786e+00 -1.986607e+00\n",
       "  [31]  6.776629e+00  5.048073e+00 -3.575011e-01 -8.063087e-01  1.495821e+00\n",
       "  [36]  1.557073e+00 -6.477573e+00  1.113353e-01  1.005180e+00  3.226022e+00\n",
       "  [41] -2.755695e-01  3.057134e-04  3.911408e+00  5.950455e+00 -2.017317e+00\n",
       "  [46]  1.767614e+00  5.183899e+00 -2.594804e+00 -1.766375e+00  8.766763e-01\n",
       "  [51]  2.985846e+00 -1.236100e+00 -9.647425e-01  5.337937e+00  4.233212e-01\n",
       "  [56]  3.542906e-03  3.548874e+00  4.852871e-01  5.364269e+00  5.316946e-01\n",
       "  [61]  3.587900e+00  4.052653e+00  1.187727e+00  5.113367e+00 -5.247794e+00\n",
       "  [66] -4.183600e+00  3.407609e-01  2.453210e+00  1.743560e+00  3.396946e-01\n",
       "  [71] -1.087300e+00 -3.582602e+00  2.840018e+00  6.078115e+00 -2.855586e+00\n",
       "  [76]  2.558740e+00  2.198053e+00 -5.816265e+00  2.886096e+00  2.924530e+00\n",
       "  [81] -9.884058e-01 -3.917794e-01  3.822592e+00 -1.168789e+00  2.074044e+00\n",
       "  [86]  2.713104e+00  1.555841e+00 -2.580363e-01  2.905305e+00 -3.257867e+00\n",
       "  [91]  3.083205e-01  7.745838e-01  1.922625e+00  3.242884e+00  3.546875e+00\n",
       "  [96]  4.687787e+00  4.708173e+00 -2.598195e+00 -1.121857e+00  8.628964e-01\n",
       " [101]  4.343907e+00  2.788567e-01  8.412395e-01 -2.852941e+00 -2.185206e+00\n",
       " [106] -1.179693e+00  6.968545e+00 -5.324986e-01  2.143185e-01 -2.916887e+00\n",
       " [111] -3.469780e+00  1.112166e+00  2.227285e+00  4.185226e+00  1.893499e+00\n",
       " [116]  1.018330e+00 -1.706765e+00  1.192454e+00  3.551952e-01 -9.969014e-01\n",
       " [121]  1.475431e+00  2.296600e+00  1.169454e+00  4.124052e-01 -2.015658e+00\n",
       " [126]  2.657515e+00  1.938668e+00 -9.553555e-02 -4.629225e+00  3.420264e+00\n",
       " [131]  2.466342e+00 -1.976101e-01 -1.670143e+00  8.892504e-01 -6.057455e+00\n",
       " [136]  3.958466e+00  6.870562e+00  5.789950e-01  4.728704e+00 -3.102971e+00\n",
       " [141] -3.671516e+00  2.423685e-01  2.254727e+00  6.360080e-01  4.136854e+00\n",
       " [146]  2.962569e+00  3.986540e+00 -2.871074e+00 -4.293668e+00 -2.217202e+00\n",
       " [151]  5.075452e+00 -4.885319e-01  1.875635e+00  1.761437e+00 -1.207338e+00\n",
       " [156] -1.792263e+00 -1.045751e+00 -2.418237e+00  1.735578e+00  3.447974e+00\n",
       " [161]  1.135935e+00 -2.316231e+00  1.148204e+00  2.547378e-01  1.200877e+00\n",
       " [166]  2.501382e+00 -9.125945e-01  1.123962e+00  5.775637e-03  9.177768e-01\n",
       " [171]  3.865825e+00  3.191098e+00  9.407497e-01  3.166068e+00 -5.697352e-01\n",
       " [176] -2.525736e+00  2.331871e+00 -1.745668e+00  1.385648e+00  6.898364e+00\n",
       " [181]  2.098063e+00  3.992156e+00  4.613273e+00  1.755038e+00  2.577305e+00\n",
       " [186]  1.347615e+00 -1.308566e-01 -1.505509e+00  3.898488e+00 -1.587724e+00\n",
       " [191]  2.784245e+00 -7.939613e-01 -1.361710e+00 -2.735251e+00  4.822500e+00\n",
       " [196]  4.498797e+00  4.709004e+00  1.974435e+00  5.534373e-02 -1.989949e+00\n",
       " [201] -9.786972e-01  1.740511e+00 -3.194633e-01  3.590372e+00  1.564204e+00\n",
       " [206]  8.485736e-01  1.063613e+00  4.000626e+00 -5.144376e+00  2.128209e-01\n",
       " [211]  6.637485e+00 -1.972423e+00  5.662385e-01  5.750468e+00  9.390657e-01\n",
       " [216] -2.203171e-01  2.098892e+00 -2.729896e+00 -2.342143e+00  1.079913e+00\n",
       " [221]  1.633658e+00  6.635139e-02  2.840549e+00  1.931402e+00  7.324201e+00\n",
       " [226]  4.515141e+00  3.284203e+00 -8.661322e+00 -2.200551e+00  8.249699e-01\n",
       " [231] -4.063652e+00  2.906796e+00  2.187059e+00 -7.727271e-01 -9.103566e-01\n",
       " [236]  3.022279e-01  6.278866e-01  2.456373e+00 -1.424854e+00 -1.371091e+00\n",
       " [241] -1.749126e+00  1.363054e+00  6.454317e+00  2.195797e+00 -2.568407e+00\n",
       " [246]  5.357671e+00 -4.233471e-01  4.650826e+00  7.266657e+00  4.793130e-01\n",
       " [251] -5.740315e-01  2.739184e-01  3.977679e+00  6.744128e-01  4.424558e+00\n",
       " [256] -3.112588e-01 -4.169364e+00  4.077965e+00 -4.313825e-01 -6.266073e+00\n",
       " [261]  3.475832e+00  2.892612e+00 -3.882526e+00 -4.400992e+00  2.236424e+00\n",
       " [266] -1.856309e+00  4.646641e+00 -1.905570e+00  9.129998e-01  2.240917e+00\n",
       " [271] -1.312691e-01  9.537708e-01 -5.399840e-01  3.630373e+00  1.898533e+00\n",
       " [276] -4.467176e+00  1.879452e+00 -2.371648e-01 -9.138481e-01 -3.979385e+00\n",
       " [281]  1.642861e+00  5.820712e-02 -9.425591e-02 -2.577494e-01 -3.321521e+00\n",
       " [286]  2.515955e+00  5.228975e+00  2.613979e+00  2.988545e-01 -8.728958e+00\n",
       " [291]  6.261219e+00 -9.020720e-02 -2.170074e+00  3.560096e+00  4.498348e+00\n",
       " [296] -2.152483e+00  1.815903e+00 -4.406101e-01 -9.734163e-01 -4.770031e+00\n",
       " [301]  7.992294e-01  4.543138e+00 -2.838820e+00  3.161672e+00  4.262537e+00\n",
       " [306]  4.051604e-01  3.055799e+00 -1.695076e+00  2.891500e+00  5.286039e+00\n",
       " [311]  1.024265e+00 -9.591245e-02 -2.792354e+00  4.052212e+00  3.605530e+00\n",
       " [316]  6.199399e+00  1.449896e+00 -2.605407e-01  4.688078e+00  1.755741e+00\n",
       " [321] -1.648235e+00  1.849726e+00  1.925046e+00  4.367708e+00  4.546577e+00\n",
       " [326] -7.020302e-01  6.059483e+00 -1.781250e-01  5.699492e+00  5.045758e+00\n",
       " [331]  2.018839e+00  2.968843e+00 -7.354527e-02 -5.568120e-01  9.009026e-01\n",
       " [336]  4.333335e+00  2.423035e+00  5.964023e+00  2.334371e+00 -2.344892e+00\n",
       " [341]  2.484004e+00  1.750952e+00  6.017858e+00 -7.169080e-01 -9.515869e-01\n",
       " [346] -1.110288e+00  8.806241e-02 -1.019408e+00  7.475311e+00 -1.295169e-02\n",
       " [351] -1.180720e+00  7.736535e+00  3.799998e+00 -2.082485e-01  2.346605e+00\n",
       " [356] -2.940544e+00  5.021209e+00 -6.701181e-01 -8.186393e-01  9.344185e-01\n",
       " [361]  3.948106e+00 -3.275902e+00 -2.951171e+00 -2.159333e+00  1.146114e+00\n",
       " [366] -6.101266e-01  4.616580e-01 -2.964280e+00 -3.827252e+00  1.040195e+01\n",
       " [371] -1.134826e+00 -5.065777e+00 -1.200099e+00 -1.884964e+00  2.682110e+00\n",
       " [376]  4.168357e+00 -8.527502e+00  9.690978e-02  4.732281e+00  3.096292e+00\n",
       " [381]  1.284168e+00  2.654040e+00  1.102288e+00  5.117430e-01 -1.503293e+00\n",
       " [386]  4.538300e+00  2.429717e-01  1.754742e+00  2.114262e+00 -4.106252e+00\n",
       " [391] -6.954023e-01 -1.716366e+00  1.341492e+00  1.198161e+01 -2.448889e+00\n",
       " [396]  3.073104e+00 -3.450338e-01  1.809283e+00  9.012482e-01 -5.363751e-01\n",
       " [401]  1.068045e-01  2.045984e+00  4.568336e+00  5.219285e+00  1.324241e+00\n",
       " [406]  7.956936e-01  3.436375e+00  6.260862e+00  2.773466e+00  5.067947e+00\n",
       " [411]  2.100208e-01 -4.573880e-01  3.256054e+00  4.209289e-01 -4.141918e-01\n",
       " [416] -3.071114e+00  3.454371e+00  2.011142e+00 -2.782978e+00  2.990183e+00\n",
       " [421]  2.830550e+00 -2.038002e+00 -3.780489e+00 -2.709160e-01 -7.812744e-01\n",
       " [426]  3.465803e+00  1.620966e+00 -2.033355e+00 -2.765090e-01  7.564418e+00\n",
       " [431]  3.950532e-01  6.780042e-01 -5.779627e+00  1.219295e-01  3.354531e+00\n",
       " [436]  2.882951e+00  2.176198e+00  4.439736e+00 -7.591155e-01  3.338343e+00\n",
       " [441]  4.954789e+00 -2.931503e+00 -1.371610e+00  1.058183e+00  3.403819e+00\n",
       " [446]  1.010236e+00  2.756445e-01  7.922412e-01 -3.620866e+00  2.215259e+00\n",
       " [451]  9.584095e-01 -2.460800e+00  5.645352e+00  1.719238e+00  1.428650e+00\n",
       " [456]  6.892672e-01  4.120571e-01 -3.590599e+00  6.399012e+00 -4.769091e+00\n",
       " [461]  4.512959e+00 -7.015790e-01  4.555555e+00 -2.383377e+00  2.333415e+00\n",
       " [466]  4.283686e+00  3.613468e-01  2.698704e+00 -1.789091e-01  3.655476e+00\n",
       " [471]  5.382569e+00  5.364262e-02  4.935577e+00 -3.728105e+00  3.322596e+00\n",
       " [476]  1.251223e+00 -2.676033e+00 -4.308732e-01  1.624718e-01  7.405823e+00\n",
       " [481]  4.851744e+00  1.584876e+00  1.667820e+00  4.293232e+00  6.950636e+00\n",
       " [486]  6.206388e-01  6.835969e-01  2.643065e+00  2.912869e+00  6.742840e+00\n",
       " [491] -5.625021e-01 -1.861444e+00  1.693302e+00  6.481920e+00  3.263539e+00\n",
       " [496]  2.442315e-01  1.974212e+00  7.455199e+00  5.948079e+00  6.807979e-01\n",
       " [501] -7.877766e-01 -7.994601e-01 -4.317968e+00  2.696126e+00 -1.677604e+00\n",
       " [506]  6.533554e+00  2.580753e+00 -2.181665e+00  1.586535e+00  2.932814e-01\n",
       " [511] -5.320483e-01  1.990256e+00  2.434080e+00  6.217194e+00  2.393467e+00\n",
       " [516] -2.728418e-02  1.413960e+00  6.675071e+00  2.630939e+00 -1.604293e+00\n",
       " [521]  1.052599e+00 -2.105973e-01 -2.974923e+00  2.612309e+00  7.889544e+00\n",
       " [526] -7.148084e+00 -2.687030e+00 -9.626217e-01  5.529444e-01  1.861741e+00\n",
       " [531]  1.116197e+00  4.850028e+00  5.130916e-01 -8.634822e-02  4.803136e-01\n",
       " [536]  1.301452e-03  3.406454e+00  2.788623e-01 -4.829101e-01  8.287345e-01\n",
       " [541]  1.471193e+00  1.803502e+00 -1.541851e+00  4.250116e-01 -7.154968e-01\n",
       " [546]  1.312877e+00 -1.164793e+00  7.817787e-01  3.303135e+00  8.980654e-01\n",
       " [551]  4.055440e+00  6.046205e-01 -4.500984e+00  2.941013e+00  8.014742e-01\n",
       " [556]  4.808089e+00  5.566953e+00  2.797687e+00  7.044861e+00  3.311485e+00\n",
       " [561]  2.715772e+00  6.117157e+00  7.583597e-02 -3.376091e+00  5.224645e+00\n",
       " [566]  1.437264e+00 -2.486062e+00 -2.619742e+00  3.581865e-01 -4.836335e+00\n",
       " [571]  7.604597e-01 -2.310870e+00  3.708717e-01  2.239303e+00  6.344962e+00\n",
       " [576]  2.244780e+00 -3.130548e+00 -5.125426e-01  7.178728e+00  6.081998e+00\n",
       " [581]  7.596015e-01 -1.262696e+00 -2.105917e+00  1.271106e+00 -6.138027e+00\n",
       " [586]  7.955396e+00  4.378923e+00  5.460314e+00  6.339802e+00 -3.650216e+00\n",
       " [591]  3.364305e+00  2.112791e+00 -2.657209e+00 -3.000905e-01  1.695258e+00\n",
       " [596]  2.453218e-01  2.283199e+00  6.061219e+00  1.295119e+00  2.395288e+00\n",
       " [601] -6.102409e+00  8.167636e-01 -1.823131e+00  1.873154e+00  4.478137e+00\n",
       " [606] -1.395382e+00  3.439092e+00  4.285473e+00  5.019741e+00 -4.307432e+00\n",
       " [611]  5.981764e+00  7.089588e-01 -2.805840e+00 -1.852206e+00 -2.185946e+00\n",
       " [616] -6.884079e-01 -4.553680e-01  2.843125e+00  4.200876e+00 -3.116190e+00\n",
       " [621] -2.696734e+00 -3.607715e+00 -2.348988e-01 -2.930869e-01  7.091876e+00\n",
       " [626]  7.112317e+00  1.402715e+00 -1.773577e+00 -5.787441e+00 -3.693014e+00\n",
       " [631] -2.248549e+00  3.156539e+00 -1.608499e+00  2.355993e+00  1.578562e+00\n",
       " [636] -4.091267e+00  4.052024e+00  1.306426e+00  4.314097e+00  4.838035e+00\n",
       " [641]  1.039073e+00 -1.747743e+00  1.199377e+00  1.011566e+00 -5.603737e-01\n",
       " [646]  7.706004e-01  1.790923e+00 -4.236395e+00  4.397209e+00 -1.657230e+00\n",
       " [651] -8.987141e-01  3.350434e+00  2.305539e+00  4.345681e+00 -1.331332e+00\n",
       " [656]  2.959991e+00 -2.252941e-01  5.370476e+00  2.685954e+00  1.726080e+00\n",
       " [661] -2.431954e+00 -1.059199e+00 -1.681781e+00  3.559307e+00  7.960531e+00\n",
       " [666]  2.112152e+00 -2.062602e+00 -3.467345e-01  2.858722e-02 -2.931982e+00\n",
       " [671] -3.983988e-01  5.920506e+00  1.151253e+00  1.793494e-01 -4.323882e-01\n",
       " [676]  1.966197e-01  4.813552e+00  2.005930e+00 -4.079691e+00 -2.926906e+00\n",
       " [681] -2.995633e+00  3.383125e+00  5.192053e+00  3.252766e+00  1.114959e+01\n",
       " [686]  7.815146e-01  2.054103e+00  3.369396e+00  8.014549e+00  4.951198e+00\n",
       " [691] -5.175685e+00  5.372365e+00  1.932786e+00 -9.122019e-01 -2.645623e+00\n",
       " [696]  6.477111e+00 -5.254872e+00  6.930812e-01  4.110714e+00  4.070272e+00\n",
       " [701]  3.947751e+00  2.802399e+00  3.908474e-02  1.225883e+00  2.610404e-01\n",
       " [706] -2.246457e+00  9.475279e-01  2.685106e-01  3.339542e+00 -1.520474e+00\n",
       " [711] -6.796234e+00  2.688131e+00 -1.190648e+00  2.651858e+00  5.359006e+00\n",
       " [716]  1.526197e-01  1.553559e-01 -1.542334e+00  2.133383e+00  4.155122e+00\n",
       " [721] -2.893544e+00  2.638894e+00 -2.639818e-01  1.727603e+00  8.087116e+00\n",
       " [726] -2.887421e+00  1.528029e+00  4.880567e-01 -5.775304e+00 -8.912591e-01\n",
       " [731] -3.151835e+00  4.659594e+00  1.412443e+00  3.033745e+00  7.170252e+00\n",
       " [736] -1.800830e+00 -1.327731e+00  6.563049e+00  2.068467e+00  4.019884e+00\n",
       " [741]  3.337497e+00 -1.252615e+00  1.832187e+00  2.099176e+00  2.077049e+00\n",
       " [746] -6.950406e+00 -1.802855e+00  8.542860e-01  2.347150e-01  1.335828e+00\n",
       " [751]  1.428782e+00 -1.320368e+00  1.336358e+00 -3.132972e+00  3.252168e+00\n",
       " [756]  1.422129e+00 -4.583656e-01  1.243705e-01  1.926655e+00  6.891513e+00\n",
       " [761]  2.783414e+00  4.070600e+00 -1.320947e+00  9.612820e-01 -1.986152e+00\n",
       " [766]  4.551436e+00 -7.933229e-01  2.124455e+00 -4.189794e+00  5.061066e+00\n",
       " [771]  2.878535e+00  5.786801e+00 -1.930611e+00  3.866692e+00  5.511424e-01\n",
       " [776] -1.597576e+00  4.024827e-01 -4.325924e+00  1.943663e-01  1.785686e+00\n",
       " [781] -6.198141e+00 -4.685418e+00  1.852356e+00 -9.237123e-01  3.544791e+00\n",
       " [786]  2.996998e+00  3.119748e+00  5.605253e+00  4.772234e+00  7.783898e+00\n",
       " [791]  4.533605e-01  4.259474e+00  4.689253e+00  5.466961e+00  2.974288e+00\n",
       " [796] -4.160223e+00  1.073281e+00  1.977357e+00  2.070384e+00  2.384751e+00\n",
       " [801]  3.551928e+00  3.291897e+00  1.276771e+00  4.441479e+00 -5.892877e-01\n",
       " [806] -4.086061e+00  8.593417e+00  9.289051e-01  1.828131e+00 -2.423861e+00\n",
       " [811] -6.987529e+00  5.032682e-01 -2.960246e+00  3.440067e+00 -1.531489e+00\n",
       " [816]  1.008740e+01 -3.163030e-01  2.989343e+00 -1.205823e+00  5.331534e+00\n",
       " [821]  2.167193e+00  2.104328e+00 -1.447504e-05 -3.533792e+00 -3.494772e+00\n",
       " [826] -1.837698e+00  1.173258e+00  4.343312e-01  9.360990e-01 -1.936786e+00\n",
       " [831]  2.238959e+00  2.458781e+00 -3.363109e+00  6.164694e+00 -3.938427e+00\n",
       " [836]  7.977345e-01 -4.280380e+00 -4.242882e-01 -1.501638e-01 -3.551357e+00\n",
       " [841] -2.888294e+00  1.380270e+00  5.982262e+00 -4.588776e-01  9.837148e-01\n",
       " [846]  1.630204e+00  6.045502e+00 -1.953274e+00  2.542150e-01  2.974421e+00\n",
       " [851]  1.397306e+00  1.365284e+00  2.077452e+00 -1.572419e+00  1.819527e+00\n",
       " [856] -7.991813e-01  2.439856e+00  9.638214e-01  3.011782e+00 -1.083991e+00\n",
       " [861] -2.109200e+00 -1.746811e+00 -7.053688e-01  1.552762e+00 -1.452016e+00\n",
       " [866]  7.366207e-01 -1.523796e+00  2.357476e+00  8.550671e-01  3.522397e+00\n",
       " [871] -1.759924e+00 -5.044352e-01  1.707229e+00  3.413662e+00  5.992728e+00\n",
       " [876] -3.488378e-01 -5.840425e-01  7.183562e-01  3.134917e+00  2.419510e+00\n",
       " [881] -1.940735e+00  1.405682e+00  1.496526e+00  1.338174e+00 -7.570144e+00\n",
       " [886]  4.441223e+00 -1.794779e+00  2.156915e+00  2.782260e-01 -1.423054e+00\n",
       " [891]  1.123193e+00  8.365782e+00 -2.080188e+00  1.773977e+00 -5.222373e-02\n",
       " [896]  4.270645e+00 -1.796373e-01  5.855893e+00  2.778566e+00  4.406590e+00\n",
       " [901]  3.845714e-01 -1.668643e+00 -8.918889e-01  5.983597e+00  3.034084e-01\n",
       " [906]  2.321944e+00  5.054666e+00  9.383551e+00  2.192964e-01  2.137831e+00\n",
       " [911] -2.306743e+00  5.888753e+00 -3.271436e+00  1.930334e+00  6.339767e-01\n",
       " [916] -3.085338e+00  2.184997e+00  6.181020e+00  8.025333e-01 -3.534167e+00\n",
       " [921]  3.911074e+00  4.633186e-01  4.059885e+00  2.819301e+00  3.142652e-01\n",
       " [926]  1.661631e+00  1.607695e-02 -3.331906e+00 -2.695020e+00  2.572221e+00\n",
       " [931]  4.806360e+00  1.851634e+00  2.674236e+00  1.507115e+00  3.086404e+00\n",
       " [936]  8.505625e+00 -9.627256e-02 -5.035649e-01  2.663006e-01  6.355485e+00\n",
       " [941]  6.888392e-01  2.691864e+00  5.899066e+00 -8.055291e-01  1.388702e+00\n",
       " [946] -4.731039e+00  5.947446e+00  1.924467e+00  1.141386e+00  1.210491e+00\n",
       " [951]  7.347041e-01  1.213180e+00  3.274044e+00 -1.534466e+00 -1.408650e+00\n",
       " [956]  2.750500e-01  6.504376e-02 -4.102912e+00 -3.253178e-01  2.544792e+00\n",
       " [961]  5.453357e-01 -4.573092e+00 -3.390934e+00  6.902778e+00 -9.269422e+00\n",
       " [966]  1.939502e+00 -1.744291e+00 -1.306190e+00  1.958175e+00  1.526593e+00\n",
       " [971]  6.230958e+00 -4.403249e+00  2.072685e+00  1.944566e+00  4.351971e+00\n",
       " [976]  1.537385e+00  4.597356e+00 -4.377894e+00  7.206168e-01 -8.515151e-02\n",
       " [981] -1.304887e+00 -3.780135e+00 -1.998447e+00  4.932571e+00 -1.703243e+00\n",
       " [986]  1.830262e+00  7.538553e-01  2.686148e+00  3.075001e+00 -4.798783e+00\n",
       " [991]  5.011310e+00 -2.951764e+00 -3.479291e-02  4.593990e+00  4.165915e+00\n",
       " [996] -1.005082e+00  9.968478e-01 -1.478372e-01  5.967539e+00  1.651817e+00"
      ]
     },
     "metadata": {},
     "output_type": "display_data"
    },
    {
     "data": {
      "text/html": [
       "1.06545663183913"
      ],
      "text/latex": [
       "1.06545663183913"
      ],
      "text/markdown": [
       "1.06545663183913"
      ],
      "text/plain": [
       "[1] 1.065457"
      ]
     },
     "metadata": {},
     "output_type": "display_data"
    },
    {
     "data": {
      "text/html": [
       "3.12519829399804"
      ],
      "text/latex": [
       "3.12519829399804"
      ],
      "text/markdown": [
       "3.12519829399804"
      ],
      "text/plain": [
       "[1] 3.125198"
      ]
     },
     "metadata": {},
     "output_type": "display_data"
    }
   ],
   "source": [
    "r <- rnorm(1000, mean=1, sd=3)\n",
    "r\n",
    "mean(r)\n",
    "sd(r)"
   ]
  },
  {
   "cell_type": "markdown",
   "metadata": {},
   "source": [
    "## Generating Uniformly Distributed Random Numbers\n",
    "\n",
    "-runif()"
   ]
  },
  {
   "cell_type": "code",
   "execution_count": 83,
   "metadata": {},
   "outputs": [
    {
     "data": {
      "text/html": [
       "<ol class=list-inline>\n",
       "\t<li>1.88126885890961</li>\n",
       "\t<li>8.17816358432174</li>\n",
       "\t<li>7.23776337504387</li>\n",
       "\t<li>2.59528694115579</li>\n",
       "\t<li>6.79311779513955</li>\n",
       "\t<li>8.68867599219084</li>\n",
       "\t<li>8.77857700735331</li>\n",
       "\t<li>1.34147370234132</li>\n",
       "\t<li>5.94244413264096</li>\n",
       "\t<li>7.06955809518695</li>\n",
       "</ol>\n"
      ],
      "text/latex": [
       "\\begin{enumerate*}\n",
       "\\item 1.88126885890961\n",
       "\\item 8.17816358432174\n",
       "\\item 7.23776337504387\n",
       "\\item 2.59528694115579\n",
       "\\item 6.79311779513955\n",
       "\\item 8.68867599219084\n",
       "\\item 8.77857700735331\n",
       "\\item 1.34147370234132\n",
       "\\item 5.94244413264096\n",
       "\\item 7.06955809518695\n",
       "\\end{enumerate*}\n"
      ],
      "text/markdown": [
       "1. 1.88126885890961\n",
       "2. 8.17816358432174\n",
       "3. 7.23776337504387\n",
       "4. 2.59528694115579\n",
       "5. 6.79311779513955\n",
       "6. 8.68867599219084\n",
       "7. 8.77857700735331\n",
       "8. 1.34147370234132\n",
       "9. 5.94244413264096\n",
       "10. 7.06955809518695\n",
       "\n",
       "\n"
      ],
      "text/plain": [
       " [1] 1.881269 8.178164 7.237763 2.595287 6.793118 8.688676 8.778577 1.341474\n",
       " [9] 5.942444 7.069558"
      ]
     },
     "metadata": {},
     "output_type": "display_data"
    },
    {
     "data": {
      "text/html": [
       "5.03502711812034"
      ],
      "text/latex": [
       "5.03502711812034"
      ],
      "text/markdown": [
       "5.03502711812034"
      ],
      "text/plain": [
       "[1] 5.035027"
      ]
     },
     "metadata": {},
     "output_type": "display_data"
    }
   ],
   "source": [
    "r <- runif(1000, min=1, max=9)\n",
    "r[1:10]\n",
    "mean(r)"
   ]
  },
  {
   "cell_type": "markdown",
   "metadata": {},
   "source": [
    "## Using the summary() Function"
   ]
  },
  {
   "cell_type": "code",
   "execution_count": 84,
   "metadata": {},
   "outputs": [
    {
     "data": {
      "text/plain": [
       "   Min. 1st Qu.  Median    Mean 3rd Qu.    Max. \n",
       "  1.003   3.117   5.010   5.081   7.158   8.998 "
      ]
     },
     "metadata": {},
     "output_type": "display_data"
    },
    {
     "data": {
      "text/plain": [
       "   Mode   FALSE    TRUE \n",
       "logical     501     499 "
      ]
     },
     "metadata": {},
     "output_type": "display_data"
    }
   ],
   "source": [
    "r <- runif(1000, min=1, max=9)\n",
    "summary(r)\n",
    "summary(r <= 5)"
   ]
  },
  {
   "cell_type": "markdown",
   "metadata": {},
   "source": [
    "## Math Functions Used in Data Analysis\n",
    "\n",
    "- diff()\n",
    "- max()\n",
    "- min()\n",
    "- range()"
   ]
  },
  {
   "cell_type": "code",
   "execution_count": 85,
   "metadata": {},
   "outputs": [
    {
     "data": {
      "text/html": [
       "<ol class=list-inline>\n",
       "\t<li>8</li>\n",
       "\t<li>12</li>\n",
       "\t<li>16</li>\n",
       "\t<li>20</li>\n",
       "\t<li>24</li>\n",
       "\t<li>28</li>\n",
       "\t<li>32</li>\n",
       "\t<li>36</li>\n",
       "</ol>\n"
      ],
      "text/latex": [
       "\\begin{enumerate*}\n",
       "\\item 8\n",
       "\\item 12\n",
       "\\item 16\n",
       "\\item 20\n",
       "\\item 24\n",
       "\\item 28\n",
       "\\item 32\n",
       "\\item 36\n",
       "\\end{enumerate*}\n"
      ],
      "text/markdown": [
       "1. 8\n",
       "2. 12\n",
       "3. 16\n",
       "4. 20\n",
       "5. 24\n",
       "6. 28\n",
       "7. 32\n",
       "8. 36\n",
       "\n",
       "\n"
      ],
      "text/plain": [
       "[1]  8 12 16 20 24 28 32 36"
      ]
     },
     "metadata": {},
     "output_type": "display_data"
    },
    {
     "data": {
      "text/html": [
       "<ol class=list-inline>\n",
       "\t<li>1</li>\n",
       "\t<li>100</li>\n",
       "</ol>\n"
      ],
      "text/latex": [
       "\\begin{enumerate*}\n",
       "\\item 1\n",
       "\\item 100\n",
       "\\end{enumerate*}\n"
      ],
      "text/markdown": [
       "1. 1\n",
       "2. 100\n",
       "\n",
       "\n"
      ],
      "text/plain": [
       "[1]   1 100"
      ]
     },
     "metadata": {},
     "output_type": "display_data"
    }
   ],
   "source": [
    "x = 1:10\n",
    "diff(x^2, lag=2)\n",
    "range(x^2)"
   ]
  },
  {
   "cell_type": "markdown",
   "metadata": {},
   "source": [
    "## Correlations\n",
    "\n",
    "- cor()\n",
    "- pearson (default correlation method)\n",
    "- kendall\n",
    "- spearman"
   ]
  },
  {
   "cell_type": "markdown",
   "metadata": {},
   "source": [
    "## Correlation Examples"
   ]
  },
  {
   "cell_type": "code",
   "execution_count": 86,
   "metadata": {},
   "outputs": [
    {
     "data": {
      "text/html": [
       "0.658747887344759"
      ],
      "text/latex": [
       "0.658747887344759"
      ],
      "text/markdown": [
       "0.658747887344759"
      ],
      "text/plain": [
       "[1] 0.6587479"
      ]
     },
     "metadata": {},
     "output_type": "display_data"
    }
   ],
   "source": [
    "x <- mtcars[,'hp']\n",
    "y <- mtcars[,'wt']\n",
    "cor(x, y)"
   ]
  },
  {
   "cell_type": "markdown",
   "metadata": {},
   "source": [
    "## Testing Correlation Coefficient for Significance"
   ]
  },
  {
   "cell_type": "code",
   "execution_count": 87,
   "metadata": {},
   "outputs": [
    {
     "data": {
      "text/plain": [
       "\n",
       "\tPearson's product-moment correlation\n",
       "\n",
       "data:  x and y\n",
       "t = 4.7957, df = 30, p-value = 4.146e-05\n",
       "alternative hypothesis: true correlation is not equal to 0\n",
       "95 percent confidence interval:\n",
       " 0.4025113 0.8192573\n",
       "sample estimates:\n",
       "      cor \n",
       "0.6587479 \n"
      ]
     },
     "metadata": {},
     "output_type": "display_data"
    }
   ],
   "source": [
    "x <- mtcars[,'hp']\n",
    "y <- mtcars[,'wt']\n",
    "cor.test(x, y)"
   ]
  },
  {
   "cell_type": "markdown",
   "metadata": {},
   "source": [
    "## Regression Analysis\n",
    "\n",
    "- Simple linear\n",
    "- Multiple linear\n",
    "- Polynomial\n",
    "- Time-series"
   ]
  },
  {
   "cell_type": "markdown",
   "metadata": {},
   "source": [
    "## Simple Linear Regression Model\n",
    "\n",
    "- Yi = A1Xi + A0"
   ]
  },
  {
   "cell_type": "markdown",
   "metadata": {},
   "source": [
    "## Least Squares Method (LSM)"
   ]
  },
  {
   "cell_type": "markdown",
   "metadata": {},
   "source": [
    "## LSM Assumptions"
   ]
  },
  {
   "cell_type": "markdown",
   "metadata": {},
   "source": [
    "## Fitting Linear Regression Models in R\n",
    "\n",
    "- lm()"
   ]
  },
  {
   "cell_type": "code",
   "execution_count": 88,
   "metadata": {},
   "outputs": [
    {
     "data": {
      "text/plain": [
       "\n",
       "Call:\n",
       "lm(formula = y ~ x)\n",
       "\n",
       "Coefficients:\n",
       "(Intercept)            x  \n",
       "   1.838247     0.009401  \n"
      ]
     },
     "metadata": {},
     "output_type": "display_data"
    }
   ],
   "source": [
    "x <- mtcars[,'hp']\n",
    "y <- mtcars[,'wt']\n",
    "lm(y~x)"
   ]
  },
  {
   "cell_type": "markdown",
   "metadata": {},
   "source": [
    "## Confidence Intervals for Model Parameters"
   ]
  },
  {
   "cell_type": "code",
   "execution_count": 89,
   "metadata": {},
   "outputs": [
    {
     "data": {
      "text/html": [
       "<table>\n",
       "<thead><tr><th></th><th scope=col>2.5 %</th><th scope=col>97.5 %</th></tr></thead>\n",
       "<tbody>\n",
       "\t<tr><th scope=row>(Intercept)</th><td>1.191827444</td><td>2.4846660  </td></tr>\n",
       "\t<tr><th scope=row>x</th><td>0.005397515</td><td>0.0134044  </td></tr>\n",
       "</tbody>\n",
       "</table>\n"
      ],
      "text/latex": [
       "\\begin{tabular}{r|ll}\n",
       "  & 2.5 \\% & 97.5 \\%\\\\\n",
       "\\hline\n",
       "\t(Intercept) & 1.191827444 & 2.4846660  \\\\\n",
       "\tx & 0.005397515 & 0.0134044  \\\\\n",
       "\\end{tabular}\n"
      ],
      "text/markdown": [
       "\n",
       "| <!--/--> | 2.5 % | 97.5 % | \n",
       "|---|---|\n",
       "| (Intercept) | 1.191827444 | 2.4846660   | \n",
       "| x | 0.005397515 | 0.0134044   | \n",
       "\n",
       "\n"
      ],
      "text/plain": [
       "            2.5 %       97.5 %   \n",
       "(Intercept) 1.191827444 2.4846660\n",
       "x           0.005397515 0.0134044"
      ]
     },
     "metadata": {},
     "output_type": "display_data"
    }
   ],
   "source": [
    "x <- mtcars[,'hp']\n",
    "y <- mtcars[,'wt']\n",
    "mod <- lm(y~x)\n",
    "confint(mod)"
   ]
  },
  {
   "cell_type": "markdown",
   "metadata": {
    "collapsed": true
   },
   "source": [
    "## Example of Using lm() with a Data Frame"
   ]
  },
  {
   "cell_type": "code",
   "execution_count": 90,
   "metadata": {},
   "outputs": [
    {
     "data": {
      "text/plain": [
       "\n",
       "Call:\n",
       "lm(formula = hp ~ wt, data = mtcars)\n",
       "\n",
       "Coefficients:\n",
       "(Intercept)           wt  \n",
       "     -1.821       46.160  \n"
      ]
     },
     "metadata": {},
     "output_type": "display_data"
    }
   ],
   "source": [
    "lm(hp ~ wt, data=mtcars)"
   ]
  },
  {
   "cell_type": "markdown",
   "metadata": {},
   "source": [
    "## Multiple Regression Analysis\n"
   ]
  },
  {
   "cell_type": "code",
   "execution_count": 91,
   "metadata": {},
   "outputs": [
    {
     "data": {
      "text/plain": [
       "\n",
       "Call:\n",
       "lm(formula = mpg ~ hp + wt)\n",
       "\n",
       "Coefficients:\n",
       "(Intercept)           hp           wt  \n",
       "   37.22727     -0.03177     -3.87783  \n"
      ]
     },
     "metadata": {},
     "output_type": "display_data"
    }
   ],
   "source": [
    "hp <- mtcars[,'hp']\n",
    "wt <- mtcars[,'wt']\n",
    "mpg <- mtcars[,'mpg']\n",
    "lm(mpg ~ hp + wt)"
   ]
  },
  {
   "cell_type": "markdown",
   "metadata": {},
   "source": [
    "## Applying Functions to Matrices and Data Frames"
   ]
  },
  {
   "cell_type": "code",
   "execution_count": 92,
   "metadata": {},
   "outputs": [
    {
     "data": {
      "text/html": [
       "<table>\n",
       "<tbody>\n",
       "\t<tr><td>20</td><td>21</td><td>22</td></tr>\n",
       "\t<tr><td>23</td><td>24</td><td>25</td></tr>\n",
       "</tbody>\n",
       "</table>\n"
      ],
      "text/latex": [
       "\\begin{tabular}{lll}\n",
       "\t 20 & 21 & 22\\\\\n",
       "\t 23 & 24 & 25\\\\\n",
       "\\end{tabular}\n"
      ],
      "text/markdown": [
       "\n",
       "| 20 | 21 | 22 | \n",
       "| 23 | 24 | 25 | \n",
       "\n",
       "\n"
      ],
      "text/plain": [
       "     [,1] [,2] [,3]\n",
       "[1,] 20   21   22  \n",
       "[2,] 23   24   25  "
      ]
     },
     "metadata": {},
     "output_type": "display_data"
    },
    {
     "data": {
      "text/html": [
       "<table>\n",
       "<tbody>\n",
       "\t<tr><td>4.472136</td><td>4.582576</td><td>4.690416</td></tr>\n",
       "\t<tr><td>4.795832</td><td>4.898979</td><td>5.000000</td></tr>\n",
       "</tbody>\n",
       "</table>\n"
      ],
      "text/latex": [
       "\\begin{tabular}{lll}\n",
       "\t 4.472136 & 4.582576 & 4.690416\\\\\n",
       "\t 4.795832 & 4.898979 & 5.000000\\\\\n",
       "\\end{tabular}\n"
      ],
      "text/markdown": [
       "\n",
       "| 4.472136 | 4.582576 | 4.690416 | \n",
       "| 4.795832 | 4.898979 | 5.000000 | \n",
       "\n",
       "\n"
      ],
      "text/plain": [
       "     [,1]     [,2]     [,3]    \n",
       "[1,] 4.472136 4.582576 4.690416\n",
       "[2,] 4.795832 4.898979 5.000000"
      ]
     },
     "metadata": {},
     "output_type": "display_data"
    },
    {
     "data": {
      "text/html": [
       "<table>\n",
       "<tbody>\n",
       "\t<tr><td>4.47</td><td>4.58</td><td>4.69</td></tr>\n",
       "\t<tr><td>4.80</td><td>4.90</td><td>5.00</td></tr>\n",
       "</tbody>\n",
       "</table>\n"
      ],
      "text/latex": [
       "\\begin{tabular}{lll}\n",
       "\t 4.47 & 4.58 & 4.69\\\\\n",
       "\t 4.80 & 4.90 & 5.00\\\\\n",
       "\\end{tabular}\n"
      ],
      "text/markdown": [
       "\n",
       "| 4.47 | 4.58 | 4.69 | \n",
       "| 4.80 | 4.90 | 5.00 | \n",
       "\n",
       "\n"
      ],
      "text/plain": [
       "     [,1] [,2] [,3]\n",
       "[1,] 4.47 4.58 4.69\n",
       "[2,] 4.80 4.90 5.00"
      ]
     },
     "metadata": {},
     "output_type": "display_data"
    },
    {
     "data": {
      "text/html": [
       "4.74"
      ],
      "text/latex": [
       "4.74"
      ],
      "text/markdown": [
       "4.74"
      ],
      "text/plain": [
       "[1] 4.74"
      ]
     },
     "metadata": {},
     "output_type": "display_data"
    }
   ],
   "source": [
    "m <- matrix(c(20, 21, 22, 23, 24, 25), nrow=2, ncol=3, byrow = TRUE) \n",
    "m\n",
    "m <- sqrt(m)\n",
    "m\n",
    "m <- round(m, digit=2)\n",
    "m\n",
    "mm <- mean(m)\n",
    "mm"
   ]
  },
  {
   "cell_type": "markdown",
   "metadata": {},
   "source": [
    "## The apply() Function"
   ]
  },
  {
   "cell_type": "code",
   "execution_count": 93,
   "metadata": {},
   "outputs": [],
   "source": [
    "help(apply)"
   ]
  },
  {
   "cell_type": "code",
   "execution_count": 94,
   "metadata": {},
   "outputs": [
    {
     "data": {
      "text/html": [
       "<table>\n",
       "<tbody>\n",
       "\t<tr><td>1 </td><td>5 </td><td> 9</td></tr>\n",
       "\t<tr><td>2 </td><td>6 </td><td>10</td></tr>\n",
       "\t<tr><td>3 </td><td>7 </td><td>11</td></tr>\n",
       "\t<tr><td>4 </td><td>8 </td><td>12</td></tr>\n",
       "</tbody>\n",
       "</table>\n"
      ],
      "text/latex": [
       "\\begin{tabular}{lll}\n",
       "\t 1  & 5  &  9\\\\\n",
       "\t 2  & 6  & 10\\\\\n",
       "\t 3  & 7  & 11\\\\\n",
       "\t 4  & 8  & 12\\\\\n",
       "\\end{tabular}\n"
      ],
      "text/markdown": [
       "\n",
       "| 1  | 5  |  9 | \n",
       "| 2  | 6  | 10 | \n",
       "| 3  | 7  | 11 | \n",
       "| 4  | 8  | 12 | \n",
       "\n",
       "\n"
      ],
      "text/plain": [
       "     [,1] [,2] [,3]\n",
       "[1,] 1    5     9  \n",
       "[2,] 2    6    10  \n",
       "[3,] 3    7    11  \n",
       "[4,] 4    8    12  "
      ]
     },
     "metadata": {},
     "output_type": "display_data"
    },
    {
     "data": {
      "text/html": [
       "<ol class=list-inline>\n",
       "\t<li>9</li>\n",
       "\t<li>10</li>\n",
       "\t<li>11</li>\n",
       "\t<li>12</li>\n",
       "</ol>\n"
      ],
      "text/latex": [
       "\\begin{enumerate*}\n",
       "\\item 9\n",
       "\\item 10\n",
       "\\item 11\n",
       "\\item 12\n",
       "\\end{enumerate*}\n"
      ],
      "text/markdown": [
       "1. 9\n",
       "2. 10\n",
       "3. 11\n",
       "4. 12\n",
       "\n",
       "\n"
      ],
      "text/plain": [
       "[1]  9 10 11 12"
      ]
     },
     "metadata": {},
     "output_type": "display_data"
    },
    {
     "data": {
      "text/html": [
       "<ol class=list-inline>\n",
       "\t<li>4</li>\n",
       "\t<li>8</li>\n",
       "\t<li>12</li>\n",
       "</ol>\n"
      ],
      "text/latex": [
       "\\begin{enumerate*}\n",
       "\\item 4\n",
       "\\item 8\n",
       "\\item 12\n",
       "\\end{enumerate*}\n"
      ],
      "text/markdown": [
       "1. 4\n",
       "2. 8\n",
       "3. 12\n",
       "\n",
       "\n"
      ],
      "text/plain": [
       "[1]  4  8 12"
      ]
     },
     "metadata": {},
     "output_type": "display_data"
    }
   ],
   "source": [
    "m <- matrix(1:12, nrow = 4)\n",
    "m\n",
    "apply(m, 1, max) # find max element row-wise\n",
    "apply(m, 2, max) # find max element column-wise"
   ]
  },
  {
   "cell_type": "markdown",
   "metadata": {},
   "source": [
    "## Using apply() Function with a User-Defined Function"
   ]
  },
  {
   "cell_type": "code",
   "execution_count": 95,
   "metadata": {},
   "outputs": [
    {
     "data": {
      "text/html": [
       "<table>\n",
       "<tbody>\n",
       "\t<tr><td>1 </td><td>5 </td><td> 9</td></tr>\n",
       "\t<tr><td>2 </td><td>6 </td><td>10</td></tr>\n",
       "\t<tr><td>3 </td><td>7 </td><td>11</td></tr>\n",
       "\t<tr><td>4 </td><td>8 </td><td>12</td></tr>\n",
       "</tbody>\n",
       "</table>\n"
      ],
      "text/latex": [
       "\\begin{tabular}{lll}\n",
       "\t 1  & 5  &  9\\\\\n",
       "\t 2  & 6  & 10\\\\\n",
       "\t 3  & 7  & 11\\\\\n",
       "\t 4  & 8  & 12\\\\\n",
       "\\end{tabular}\n"
      ],
      "text/markdown": [
       "\n",
       "| 1  | 5  |  9 | \n",
       "| 2  | 6  | 10 | \n",
       "| 3  | 7  | 11 | \n",
       "| 4  | 8  | 12 | \n",
       "\n",
       "\n"
      ],
      "text/plain": [
       "     [,1] [,2] [,3]\n",
       "[1,] 1    5     9  \n",
       "[2,] 2    6    10  \n",
       "[3,] 3    7    11  \n",
       "[4,] 4    8    12  "
      ]
     },
     "metadata": {},
     "output_type": "display_data"
    },
    {
     "data": {
      "text/html": [
       "<table>\n",
       "<tbody>\n",
       "\t<tr><td>TRUE </td><td> TRUE</td><td>FALSE</td></tr>\n",
       "\t<tr><td>TRUE </td><td> TRUE</td><td>FALSE</td></tr>\n",
       "\t<tr><td>TRUE </td><td>FALSE</td><td>FALSE</td></tr>\n",
       "\t<tr><td>TRUE </td><td>FALSE</td><td>FALSE</td></tr>\n",
       "</tbody>\n",
       "</table>\n"
      ],
      "text/latex": [
       "\\begin{tabular}{lll}\n",
       "\t TRUE  &  TRUE & FALSE\\\\\n",
       "\t TRUE  &  TRUE & FALSE\\\\\n",
       "\t TRUE  & FALSE & FALSE\\\\\n",
       "\t TRUE  & FALSE & FALSE\\\\\n",
       "\\end{tabular}\n"
      ],
      "text/markdown": [
       "\n",
       "| TRUE  |  TRUE | FALSE | \n",
       "| TRUE  |  TRUE | FALSE | \n",
       "| TRUE  | FALSE | FALSE | \n",
       "| TRUE  | FALSE | FALSE | \n",
       "\n",
       "\n"
      ],
      "text/plain": [
       "     [,1] [,2]  [,3] \n",
       "[1,] TRUE  TRUE FALSE\n",
       "[2,] TRUE  TRUE FALSE\n",
       "[3,] TRUE FALSE FALSE\n",
       "[4,] TRUE FALSE FALSE"
      ]
     },
     "metadata": {},
     "output_type": "display_data"
    }
   ],
   "source": [
    "m <- matrix(1:12, nrow = 4)\n",
    "m\n",
    "apply(m, 2, function (x) { x<7 })"
   ]
  },
  {
   "cell_type": "markdown",
   "metadata": {},
   "source": [
    "## apply() Variants\n",
    "\n",
    "- lappy()\n",
    "- sapply()\n",
    "- tapply()"
   ]
  },
  {
   "cell_type": "markdown",
   "metadata": {},
   "source": [
    "## Using tapply()"
   ]
  },
  {
   "cell_type": "code",
   "execution_count": 96,
   "metadata": {},
   "outputs": [
    {
     "name": "stdout",
     "output_type": "stream",
     "text": [
      "  4   6   8 \n",
      "113 175 335 \n"
     ]
    }
   ],
   "source": [
    "z = tapply(mtcars$hp, mtcars$cyl, max) # find most powerful car engine within each group of cars with same number cylinders\n",
    "print(z)"
   ]
  },
  {
   "cell_type": "markdown",
   "metadata": {
    "collapsed": true
   },
   "source": [
    "## Adding and Removing a Column to a Data Frame"
   ]
  },
  {
   "cell_type": "code",
   "execution_count": 97,
   "metadata": {},
   "outputs": [
    {
     "data": {
      "text/html": [
       "<table>\n",
       "<thead><tr><th></th><th scope=col>mpg</th><th scope=col>cyl</th><th scope=col>disp</th><th scope=col>hp</th><th scope=col>drat</th><th scope=col>wt</th><th scope=col>qsec</th><th scope=col>vs</th><th scope=col>am</th><th scope=col>gear</th><th scope=col>carb</th></tr></thead>\n",
       "<tbody>\n",
       "\t<tr><th scope=row>Mazda RX4</th><td>21.0 </td><td>6    </td><td>160  </td><td>110  </td><td>3.90 </td><td>2.620</td><td>16.46</td><td>0    </td><td>1    </td><td>4    </td><td>4    </td></tr>\n",
       "\t<tr><th scope=row>Mazda RX4 Wag</th><td>21.0 </td><td>6    </td><td>160  </td><td>110  </td><td>3.90 </td><td>2.875</td><td>17.02</td><td>0    </td><td>1    </td><td>4    </td><td>4    </td></tr>\n",
       "\t<tr><th scope=row>Datsun 710</th><td>22.8 </td><td>4    </td><td>108  </td><td> 93  </td><td>3.85 </td><td>2.320</td><td>18.61</td><td>1    </td><td>1    </td><td>4    </td><td>1    </td></tr>\n",
       "\t<tr><th scope=row>Hornet 4 Drive</th><td>21.4 </td><td>6    </td><td>258  </td><td>110  </td><td>3.08 </td><td>3.215</td><td>19.44</td><td>1    </td><td>0    </td><td>3    </td><td>1    </td></tr>\n",
       "\t<tr><th scope=row>Hornet Sportabout</th><td>18.7 </td><td>8    </td><td>360  </td><td>175  </td><td>3.15 </td><td>3.440</td><td>17.02</td><td>0    </td><td>0    </td><td>3    </td><td>2    </td></tr>\n",
       "\t<tr><th scope=row>Valiant</th><td>18.1 </td><td>6    </td><td>225  </td><td>105  </td><td>2.76 </td><td>3.460</td><td>20.22</td><td>1    </td><td>0    </td><td>3    </td><td>1    </td></tr>\n",
       "</tbody>\n",
       "</table>\n"
      ],
      "text/latex": [
       "\\begin{tabular}{r|lllllllllll}\n",
       "  & mpg & cyl & disp & hp & drat & wt & qsec & vs & am & gear & carb\\\\\n",
       "\\hline\n",
       "\tMazda RX4 & 21.0  & 6     & 160   & 110   & 3.90  & 2.620 & 16.46 & 0     & 1     & 4     & 4    \\\\\n",
       "\tMazda RX4 Wag & 21.0  & 6     & 160   & 110   & 3.90  & 2.875 & 17.02 & 0     & 1     & 4     & 4    \\\\\n",
       "\tDatsun 710 & 22.8  & 4     & 108   &  93   & 3.85  & 2.320 & 18.61 & 1     & 1     & 4     & 1    \\\\\n",
       "\tHornet 4 Drive & 21.4  & 6     & 258   & 110   & 3.08  & 3.215 & 19.44 & 1     & 0     & 3     & 1    \\\\\n",
       "\tHornet Sportabout & 18.7  & 8     & 360   & 175   & 3.15  & 3.440 & 17.02 & 0     & 0     & 3     & 2    \\\\\n",
       "\tValiant & 18.1  & 6     & 225   & 105   & 2.76  & 3.460 & 20.22 & 1     & 0     & 3     & 1    \\\\\n",
       "\\end{tabular}\n"
      ],
      "text/markdown": [
       "\n",
       "| <!--/--> | mpg | cyl | disp | hp | drat | wt | qsec | vs | am | gear | carb | \n",
       "|---|---|---|---|---|---|\n",
       "| Mazda RX4 | 21.0  | 6     | 160   | 110   | 3.90  | 2.620 | 16.46 | 0     | 1     | 4     | 4     | \n",
       "| Mazda RX4 Wag | 21.0  | 6     | 160   | 110   | 3.90  | 2.875 | 17.02 | 0     | 1     | 4     | 4     | \n",
       "| Datsun 710 | 22.8  | 4     | 108   |  93   | 3.85  | 2.320 | 18.61 | 1     | 1     | 4     | 1     | \n",
       "| Hornet 4 Drive | 21.4  | 6     | 258   | 110   | 3.08  | 3.215 | 19.44 | 1     | 0     | 3     | 1     | \n",
       "| Hornet Sportabout | 18.7  | 8     | 360   | 175   | 3.15  | 3.440 | 17.02 | 0     | 0     | 3     | 2     | \n",
       "| Valiant | 18.1  | 6     | 225   | 105   | 2.76  | 3.460 | 20.22 | 1     | 0     | 3     | 1     | \n",
       "\n",
       "\n"
      ],
      "text/plain": [
       "                  mpg  cyl disp hp  drat wt    qsec  vs am gear carb\n",
       "Mazda RX4         21.0 6   160  110 3.90 2.620 16.46 0  1  4    4   \n",
       "Mazda RX4 Wag     21.0 6   160  110 3.90 2.875 17.02 0  1  4    4   \n",
       "Datsun 710        22.8 4   108   93 3.85 2.320 18.61 1  1  4    1   \n",
       "Hornet 4 Drive    21.4 6   258  110 3.08 3.215 19.44 1  0  3    1   \n",
       "Hornet Sportabout 18.7 8   360  175 3.15 3.440 17.02 0  0  3    2   \n",
       "Valiant           18.1 6   225  105 2.76 3.460 20.22 1  0  3    1   "
      ]
     },
     "metadata": {},
     "output_type": "display_data"
    },
    {
     "data": {
      "text/html": [
       "<table>\n",
       "<thead><tr><th></th><th scope=col>mpg</th><th scope=col>cyl</th><th scope=col>disp</th><th scope=col>hp</th><th scope=col>drat</th><th scope=col>wt</th><th scope=col>qsec</th><th scope=col>vs</th><th scope=col>am</th><th scope=col>gear</th><th scope=col>carb</th><th scope=col>new_col_name</th></tr></thead>\n",
       "<tbody>\n",
       "\t<tr><th scope=row>Mazda RX4</th><td>21.0       </td><td>6          </td><td>160        </td><td>110        </td><td>3.90       </td><td>2.620      </td><td>16.46      </td><td>0          </td><td>1          </td><td>4          </td><td>4          </td><td>-0.49851429</td></tr>\n",
       "\t<tr><th scope=row>Mazda RX4 Wag</th><td>21.0       </td><td>6          </td><td>160        </td><td>110        </td><td>3.90       </td><td>2.875      </td><td>17.02      </td><td>0          </td><td>1          </td><td>4          </td><td>4          </td><td> 0.89895978</td></tr>\n",
       "\t<tr><th scope=row>Datsun 710</th><td>22.8       </td><td>4          </td><td>108        </td><td> 93        </td><td>3.85       </td><td>2.320      </td><td>18.61      </td><td>1          </td><td>1          </td><td>4          </td><td>1          </td><td> 0.69514048</td></tr>\n",
       "\t<tr><th scope=row>Hornet 4 Drive</th><td>21.4       </td><td>6          </td><td>258        </td><td>110        </td><td>3.08       </td><td>3.215      </td><td>19.44      </td><td>1          </td><td>0          </td><td>3          </td><td>1          </td><td> 1.06140510</td></tr>\n",
       "\t<tr><th scope=row>Hornet Sportabout</th><td>18.7       </td><td>8          </td><td>360        </td><td>175        </td><td>3.15       </td><td>3.440      </td><td>17.02      </td><td>0          </td><td>0          </td><td>3          </td><td>2          </td><td> 0.06235344</td></tr>\n",
       "\t<tr><th scope=row>Valiant</th><td>18.1       </td><td>6          </td><td>225        </td><td>105        </td><td>2.76       </td><td>3.460      </td><td>20.22      </td><td>1          </td><td>0          </td><td>3          </td><td>1          </td><td>-0.13386090</td></tr>\n",
       "</tbody>\n",
       "</table>\n"
      ],
      "text/latex": [
       "\\begin{tabular}{r|llllllllllll}\n",
       "  & mpg & cyl & disp & hp & drat & wt & qsec & vs & am & gear & carb & new\\_col\\_name\\\\\n",
       "\\hline\n",
       "\tMazda RX4 & 21.0        & 6           & 160         & 110         & 3.90        & 2.620       & 16.46       & 0           & 1           & 4           & 4           & -0.49851429\\\\\n",
       "\tMazda RX4 Wag & 21.0        & 6           & 160         & 110         & 3.90        & 2.875       & 17.02       & 0           & 1           & 4           & 4           &  0.89895978\\\\\n",
       "\tDatsun 710 & 22.8        & 4           & 108         &  93         & 3.85        & 2.320       & 18.61       & 1           & 1           & 4           & 1           &  0.69514048\\\\\n",
       "\tHornet 4 Drive & 21.4        & 6           & 258         & 110         & 3.08        & 3.215       & 19.44       & 1           & 0           & 3           & 1           &  1.06140510\\\\\n",
       "\tHornet Sportabout & 18.7        & 8           & 360         & 175         & 3.15        & 3.440       & 17.02       & 0           & 0           & 3           & 2           &  0.06235344\\\\\n",
       "\tValiant & 18.1        & 6           & 225         & 105         & 2.76        & 3.460       & 20.22       & 1           & 0           & 3           & 1           & -0.13386090\\\\\n",
       "\\end{tabular}\n"
      ],
      "text/markdown": [
       "\n",
       "| <!--/--> | mpg | cyl | disp | hp | drat | wt | qsec | vs | am | gear | carb | new_col_name | \n",
       "|---|---|---|---|---|---|\n",
       "| Mazda RX4 | 21.0        | 6           | 160         | 110         | 3.90        | 2.620       | 16.46       | 0           | 1           | 4           | 4           | -0.49851429 | \n",
       "| Mazda RX4 Wag | 21.0        | 6           | 160         | 110         | 3.90        | 2.875       | 17.02       | 0           | 1           | 4           | 4           |  0.89895978 | \n",
       "| Datsun 710 | 22.8        | 4           | 108         |  93         | 3.85        | 2.320       | 18.61       | 1           | 1           | 4           | 1           |  0.69514048 | \n",
       "| Hornet 4 Drive | 21.4        | 6           | 258         | 110         | 3.08        | 3.215       | 19.44       | 1           | 0           | 3           | 1           |  1.06140510 | \n",
       "| Hornet Sportabout | 18.7        | 8           | 360         | 175         | 3.15        | 3.440       | 17.02       | 0           | 0           | 3           | 2           |  0.06235344 | \n",
       "| Valiant | 18.1        | 6           | 225         | 105         | 2.76        | 3.460       | 20.22       | 1           | 0           | 3           | 1           | -0.13386090 | \n",
       "\n",
       "\n"
      ],
      "text/plain": [
       "                  mpg  cyl disp hp  drat wt    qsec  vs am gear carb\n",
       "Mazda RX4         21.0 6   160  110 3.90 2.620 16.46 0  1  4    4   \n",
       "Mazda RX4 Wag     21.0 6   160  110 3.90 2.875 17.02 0  1  4    4   \n",
       "Datsun 710        22.8 4   108   93 3.85 2.320 18.61 1  1  4    1   \n",
       "Hornet 4 Drive    21.4 6   258  110 3.08 3.215 19.44 1  0  3    1   \n",
       "Hornet Sportabout 18.7 8   360  175 3.15 3.440 17.02 0  0  3    2   \n",
       "Valiant           18.1 6   225  105 2.76 3.460 20.22 1  0  3    1   \n",
       "                  new_col_name\n",
       "Mazda RX4         -0.49851429 \n",
       "Mazda RX4 Wag      0.89895978 \n",
       "Datsun 710         0.69514048 \n",
       "Hornet 4 Drive     1.06140510 \n",
       "Hornet Sportabout  0.06235344 \n",
       "Valiant           -0.13386090 "
      ]
     },
     "metadata": {},
     "output_type": "display_data"
    },
    {
     "data": {
      "text/html": [
       "<table>\n",
       "<thead><tr><th></th><th scope=col>mpg</th><th scope=col>cyl</th><th scope=col>disp</th><th scope=col>hp</th><th scope=col>drat</th><th scope=col>wt</th><th scope=col>qsec</th><th scope=col>vs</th><th scope=col>am</th><th scope=col>gear</th><th scope=col>carb</th></tr></thead>\n",
       "<tbody>\n",
       "\t<tr><th scope=row>Mazda RX4</th><td>21.0 </td><td>6    </td><td>160  </td><td>110  </td><td>3.90 </td><td>2.620</td><td>16.46</td><td>0    </td><td>1    </td><td>4    </td><td>4    </td></tr>\n",
       "\t<tr><th scope=row>Mazda RX4 Wag</th><td>21.0 </td><td>6    </td><td>160  </td><td>110  </td><td>3.90 </td><td>2.875</td><td>17.02</td><td>0    </td><td>1    </td><td>4    </td><td>4    </td></tr>\n",
       "\t<tr><th scope=row>Datsun 710</th><td>22.8 </td><td>4    </td><td>108  </td><td> 93  </td><td>3.85 </td><td>2.320</td><td>18.61</td><td>1    </td><td>1    </td><td>4    </td><td>1    </td></tr>\n",
       "\t<tr><th scope=row>Hornet 4 Drive</th><td>21.4 </td><td>6    </td><td>258  </td><td>110  </td><td>3.08 </td><td>3.215</td><td>19.44</td><td>1    </td><td>0    </td><td>3    </td><td>1    </td></tr>\n",
       "\t<tr><th scope=row>Hornet Sportabout</th><td>18.7 </td><td>8    </td><td>360  </td><td>175  </td><td>3.15 </td><td>3.440</td><td>17.02</td><td>0    </td><td>0    </td><td>3    </td><td>2    </td></tr>\n",
       "\t<tr><th scope=row>Valiant</th><td>18.1 </td><td>6    </td><td>225  </td><td>105  </td><td>2.76 </td><td>3.460</td><td>20.22</td><td>1    </td><td>0    </td><td>3    </td><td>1    </td></tr>\n",
       "</tbody>\n",
       "</table>\n"
      ],
      "text/latex": [
       "\\begin{tabular}{r|lllllllllll}\n",
       "  & mpg & cyl & disp & hp & drat & wt & qsec & vs & am & gear & carb\\\\\n",
       "\\hline\n",
       "\tMazda RX4 & 21.0  & 6     & 160   & 110   & 3.90  & 2.620 & 16.46 & 0     & 1     & 4     & 4    \\\\\n",
       "\tMazda RX4 Wag & 21.0  & 6     & 160   & 110   & 3.90  & 2.875 & 17.02 & 0     & 1     & 4     & 4    \\\\\n",
       "\tDatsun 710 & 22.8  & 4     & 108   &  93   & 3.85  & 2.320 & 18.61 & 1     & 1     & 4     & 1    \\\\\n",
       "\tHornet 4 Drive & 21.4  & 6     & 258   & 110   & 3.08  & 3.215 & 19.44 & 1     & 0     & 3     & 1    \\\\\n",
       "\tHornet Sportabout & 18.7  & 8     & 360   & 175   & 3.15  & 3.440 & 17.02 & 0     & 0     & 3     & 2    \\\\\n",
       "\tValiant & 18.1  & 6     & 225   & 105   & 2.76  & 3.460 & 20.22 & 1     & 0     & 3     & 1    \\\\\n",
       "\\end{tabular}\n"
      ],
      "text/markdown": [
       "\n",
       "| <!--/--> | mpg | cyl | disp | hp | drat | wt | qsec | vs | am | gear | carb | \n",
       "|---|---|---|---|---|---|\n",
       "| Mazda RX4 | 21.0  | 6     | 160   | 110   | 3.90  | 2.620 | 16.46 | 0     | 1     | 4     | 4     | \n",
       "| Mazda RX4 Wag | 21.0  | 6     | 160   | 110   | 3.90  | 2.875 | 17.02 | 0     | 1     | 4     | 4     | \n",
       "| Datsun 710 | 22.8  | 4     | 108   |  93   | 3.85  | 2.320 | 18.61 | 1     | 1     | 4     | 1     | \n",
       "| Hornet 4 Drive | 21.4  | 6     | 258   | 110   | 3.08  | 3.215 | 19.44 | 1     | 0     | 3     | 1     | \n",
       "| Hornet Sportabout | 18.7  | 8     | 360   | 175   | 3.15  | 3.440 | 17.02 | 0     | 0     | 3     | 2     | \n",
       "| Valiant | 18.1  | 6     | 225   | 105   | 2.76  | 3.460 | 20.22 | 1     | 0     | 3     | 1     | \n",
       "\n",
       "\n"
      ],
      "text/plain": [
       "                  mpg  cyl disp hp  drat wt    qsec  vs am gear carb\n",
       "Mazda RX4         21.0 6   160  110 3.90 2.620 16.46 0  1  4    4   \n",
       "Mazda RX4 Wag     21.0 6   160  110 3.90 2.875 17.02 0  1  4    4   \n",
       "Datsun 710        22.8 4   108   93 3.85 2.320 18.61 1  1  4    1   \n",
       "Hornet 4 Drive    21.4 6   258  110 3.08 3.215 19.44 1  0  3    1   \n",
       "Hornet Sportabout 18.7 8   360  175 3.15 3.440 17.02 0  0  3    2   \n",
       "Valiant           18.1 6   225  105 2.76 3.460 20.22 1  0  3    1   "
      ]
     },
     "metadata": {},
     "output_type": "display_data"
    }
   ],
   "source": [
    "head(mtcars)\n",
    "mtcars$new_col_name <- rnorm(nrow(mtcars))\n",
    "head(mtcars)\n",
    "mtcars$new_col_name <- NULL\n",
    "head(mtcars)"
   ]
  },
  {
   "cell_type": "markdown",
   "metadata": {
    "collapsed": true
   },
   "source": [
    "## Dropping a Column in a Data Frame (slicing)"
   ]
  },
  {
   "cell_type": "code",
   "execution_count": 98,
   "metadata": {},
   "outputs": [
    {
     "data": {
      "text/html": [
       "<table>\n",
       "<thead><tr><th></th><th scope=col>mpg</th><th scope=col>cyl</th><th scope=col>disp</th><th scope=col>hp</th><th scope=col>drat</th><th scope=col>wt</th><th scope=col>qsec</th><th scope=col>vs</th><th scope=col>am</th><th scope=col>gear</th><th scope=col>carb</th></tr></thead>\n",
       "<tbody>\n",
       "\t<tr><th scope=row>Mazda RX4</th><td>21.0 </td><td>6    </td><td>160  </td><td>110  </td><td>3.90 </td><td>2.62 </td><td>16.46</td><td>0    </td><td>1    </td><td>4    </td><td>4    </td></tr>\n",
       "\t<tr><th scope=row>Datsun 710</th><td>22.8 </td><td>4    </td><td>108  </td><td> 93  </td><td>3.85 </td><td>2.32 </td><td>18.61</td><td>1    </td><td>1    </td><td>4    </td><td>1    </td></tr>\n",
       "</tbody>\n",
       "</table>\n"
      ],
      "text/latex": [
       "\\begin{tabular}{r|lllllllllll}\n",
       "  & mpg & cyl & disp & hp & drat & wt & qsec & vs & am & gear & carb\\\\\n",
       "\\hline\n",
       "\tMazda RX4 & 21.0  & 6     & 160   & 110   & 3.90  & 2.62  & 16.46 & 0     & 1     & 4     & 4    \\\\\n",
       "\tDatsun 710 & 22.8  & 4     & 108   &  93   & 3.85  & 2.32  & 18.61 & 1     & 1     & 4     & 1    \\\\\n",
       "\\end{tabular}\n"
      ],
      "text/markdown": [
       "\n",
       "| <!--/--> | mpg | cyl | disp | hp | drat | wt | qsec | vs | am | gear | carb | \n",
       "|---|---|\n",
       "| Mazda RX4 | 21.0  | 6     | 160   | 110   | 3.90  | 2.62  | 16.46 | 0     | 1     | 4     | 4     | \n",
       "| Datsun 710 | 22.8  | 4     | 108   |  93   | 3.85  | 2.32  | 18.61 | 1     | 1     | 4     | 1     | \n",
       "\n",
       "\n"
      ],
      "text/plain": [
       "           mpg  cyl disp hp  drat wt   qsec  vs am gear carb\n",
       "Mazda RX4  21.0 6   160  110 3.90 2.62 16.46 0  1  4    4   \n",
       "Datsun 710 22.8 4   108   93 3.85 2.32 18.61 1  1  4    1   "
      ]
     },
     "metadata": {},
     "output_type": "display_data"
    },
    {
     "data": {
      "text/html": [
       "<table>\n",
       "<thead><tr><th></th><th scope=col>mpg</th><th scope=col>disp</th></tr></thead>\n",
       "<tbody>\n",
       "\t<tr><th scope=row>Mazda RX4</th><td>21.0 </td><td>160.0</td></tr>\n",
       "\t<tr><th scope=row>Mazda RX4 Wag</th><td>21.0 </td><td>160.0</td></tr>\n",
       "\t<tr><th scope=row>Datsun 710</th><td>22.8 </td><td>108.0</td></tr>\n",
       "\t<tr><th scope=row>Hornet 4 Drive</th><td>21.4 </td><td>258.0</td></tr>\n",
       "\t<tr><th scope=row>Hornet Sportabout</th><td>18.7 </td><td>360.0</td></tr>\n",
       "\t<tr><th scope=row>Valiant</th><td>18.1 </td><td>225.0</td></tr>\n",
       "\t<tr><th scope=row>Duster 360</th><td>14.3 </td><td>360.0</td></tr>\n",
       "\t<tr><th scope=row>Merc 240D</th><td>24.4 </td><td>146.7</td></tr>\n",
       "\t<tr><th scope=row>Merc 230</th><td>22.8 </td><td>140.8</td></tr>\n",
       "\t<tr><th scope=row>Merc 280</th><td>19.2 </td><td>167.6</td></tr>\n",
       "\t<tr><th scope=row>Merc 280C</th><td>17.8 </td><td>167.6</td></tr>\n",
       "\t<tr><th scope=row>Merc 450SE</th><td>16.4 </td><td>275.8</td></tr>\n",
       "\t<tr><th scope=row>Merc 450SL</th><td>17.3 </td><td>275.8</td></tr>\n",
       "\t<tr><th scope=row>Merc 450SLC</th><td>15.2 </td><td>275.8</td></tr>\n",
       "\t<tr><th scope=row>Cadillac Fleetwood</th><td>10.4 </td><td>472.0</td></tr>\n",
       "\t<tr><th scope=row>Lincoln Continental</th><td>10.4 </td><td>460.0</td></tr>\n",
       "\t<tr><th scope=row>Chrysler Imperial</th><td>14.7 </td><td>440.0</td></tr>\n",
       "\t<tr><th scope=row>Fiat 128</th><td>32.4 </td><td> 78.7</td></tr>\n",
       "\t<tr><th scope=row>Honda Civic</th><td>30.4 </td><td> 75.7</td></tr>\n",
       "\t<tr><th scope=row>Toyota Corolla</th><td>33.9 </td><td> 71.1</td></tr>\n",
       "\t<tr><th scope=row>Toyota Corona</th><td>21.5 </td><td>120.1</td></tr>\n",
       "\t<tr><th scope=row>Dodge Challenger</th><td>15.5 </td><td>318.0</td></tr>\n",
       "\t<tr><th scope=row>AMC Javelin</th><td>15.2 </td><td>304.0</td></tr>\n",
       "\t<tr><th scope=row>Camaro Z28</th><td>13.3 </td><td>350.0</td></tr>\n",
       "\t<tr><th scope=row>Pontiac Firebird</th><td>19.2 </td><td>400.0</td></tr>\n",
       "\t<tr><th scope=row>Fiat X1-9</th><td>27.3 </td><td> 79.0</td></tr>\n",
       "\t<tr><th scope=row>Porsche 914-2</th><td>26.0 </td><td>120.3</td></tr>\n",
       "\t<tr><th scope=row>Lotus Europa</th><td>30.4 </td><td> 95.1</td></tr>\n",
       "\t<tr><th scope=row>Ford Pantera L</th><td>15.8 </td><td>351.0</td></tr>\n",
       "\t<tr><th scope=row>Ferrari Dino</th><td>19.7 </td><td>145.0</td></tr>\n",
       "\t<tr><th scope=row>Maserati Bora</th><td>15.0 </td><td>301.0</td></tr>\n",
       "\t<tr><th scope=row>Volvo 142E</th><td>21.4 </td><td>121.0</td></tr>\n",
       "</tbody>\n",
       "</table>\n"
      ],
      "text/latex": [
       "\\begin{tabular}{r|ll}\n",
       "  & mpg & disp\\\\\n",
       "\\hline\n",
       "\tMazda RX4 & 21.0  & 160.0\\\\\n",
       "\tMazda RX4 Wag & 21.0  & 160.0\\\\\n",
       "\tDatsun 710 & 22.8  & 108.0\\\\\n",
       "\tHornet 4 Drive & 21.4  & 258.0\\\\\n",
       "\tHornet Sportabout & 18.7  & 360.0\\\\\n",
       "\tValiant & 18.1  & 225.0\\\\\n",
       "\tDuster 360 & 14.3  & 360.0\\\\\n",
       "\tMerc 240D & 24.4  & 146.7\\\\\n",
       "\tMerc 230 & 22.8  & 140.8\\\\\n",
       "\tMerc 280 & 19.2  & 167.6\\\\\n",
       "\tMerc 280C & 17.8  & 167.6\\\\\n",
       "\tMerc 450SE & 16.4  & 275.8\\\\\n",
       "\tMerc 450SL & 17.3  & 275.8\\\\\n",
       "\tMerc 450SLC & 15.2  & 275.8\\\\\n",
       "\tCadillac Fleetwood & 10.4  & 472.0\\\\\n",
       "\tLincoln Continental & 10.4  & 460.0\\\\\n",
       "\tChrysler Imperial & 14.7  & 440.0\\\\\n",
       "\tFiat 128 & 32.4  &  78.7\\\\\n",
       "\tHonda Civic & 30.4  &  75.7\\\\\n",
       "\tToyota Corolla & 33.9  &  71.1\\\\\n",
       "\tToyota Corona & 21.5  & 120.1\\\\\n",
       "\tDodge Challenger & 15.5  & 318.0\\\\\n",
       "\tAMC Javelin & 15.2  & 304.0\\\\\n",
       "\tCamaro Z28 & 13.3  & 350.0\\\\\n",
       "\tPontiac Firebird & 19.2  & 400.0\\\\\n",
       "\tFiat X1-9 & 27.3  &  79.0\\\\\n",
       "\tPorsche 914-2 & 26.0  & 120.3\\\\\n",
       "\tLotus Europa & 30.4  &  95.1\\\\\n",
       "\tFord Pantera L & 15.8  & 351.0\\\\\n",
       "\tFerrari Dino & 19.7  & 145.0\\\\\n",
       "\tMaserati Bora & 15.0  & 301.0\\\\\n",
       "\tVolvo 142E & 21.4  & 121.0\\\\\n",
       "\\end{tabular}\n"
      ],
      "text/markdown": [
       "\n",
       "| <!--/--> | mpg | disp | \n",
       "|---|---|---|---|---|---|---|---|---|---|---|---|---|---|---|---|---|---|---|---|---|---|---|---|---|---|---|---|---|---|---|---|\n",
       "| Mazda RX4 | 21.0  | 160.0 | \n",
       "| Mazda RX4 Wag | 21.0  | 160.0 | \n",
       "| Datsun 710 | 22.8  | 108.0 | \n",
       "| Hornet 4 Drive | 21.4  | 258.0 | \n",
       "| Hornet Sportabout | 18.7  | 360.0 | \n",
       "| Valiant | 18.1  | 225.0 | \n",
       "| Duster 360 | 14.3  | 360.0 | \n",
       "| Merc 240D | 24.4  | 146.7 | \n",
       "| Merc 230 | 22.8  | 140.8 | \n",
       "| Merc 280 | 19.2  | 167.6 | \n",
       "| Merc 280C | 17.8  | 167.6 | \n",
       "| Merc 450SE | 16.4  | 275.8 | \n",
       "| Merc 450SL | 17.3  | 275.8 | \n",
       "| Merc 450SLC | 15.2  | 275.8 | \n",
       "| Cadillac Fleetwood | 10.4  | 472.0 | \n",
       "| Lincoln Continental | 10.4  | 460.0 | \n",
       "| Chrysler Imperial | 14.7  | 440.0 | \n",
       "| Fiat 128 | 32.4  |  78.7 | \n",
       "| Honda Civic | 30.4  |  75.7 | \n",
       "| Toyota Corolla | 33.9  |  71.1 | \n",
       "| Toyota Corona | 21.5  | 120.1 | \n",
       "| Dodge Challenger | 15.5  | 318.0 | \n",
       "| AMC Javelin | 15.2  | 304.0 | \n",
       "| Camaro Z28 | 13.3  | 350.0 | \n",
       "| Pontiac Firebird | 19.2  | 400.0 | \n",
       "| Fiat X1-9 | 27.3  |  79.0 | \n",
       "| Porsche 914-2 | 26.0  | 120.3 | \n",
       "| Lotus Europa | 30.4  |  95.1 | \n",
       "| Ford Pantera L | 15.8  | 351.0 | \n",
       "| Ferrari Dino | 19.7  | 145.0 | \n",
       "| Maserati Bora | 15.0  | 301.0 | \n",
       "| Volvo 142E | 21.4  | 121.0 | \n",
       "\n",
       "\n"
      ],
      "text/plain": [
       "                    mpg  disp \n",
       "Mazda RX4           21.0 160.0\n",
       "Mazda RX4 Wag       21.0 160.0\n",
       "Datsun 710          22.8 108.0\n",
       "Hornet 4 Drive      21.4 258.0\n",
       "Hornet Sportabout   18.7 360.0\n",
       "Valiant             18.1 225.0\n",
       "Duster 360          14.3 360.0\n",
       "Merc 240D           24.4 146.7\n",
       "Merc 230            22.8 140.8\n",
       "Merc 280            19.2 167.6\n",
       "Merc 280C           17.8 167.6\n",
       "Merc 450SE          16.4 275.8\n",
       "Merc 450SL          17.3 275.8\n",
       "Merc 450SLC         15.2 275.8\n",
       "Cadillac Fleetwood  10.4 472.0\n",
       "Lincoln Continental 10.4 460.0\n",
       "Chrysler Imperial   14.7 440.0\n",
       "Fiat 128            32.4  78.7\n",
       "Honda Civic         30.4  75.7\n",
       "Toyota Corolla      33.9  71.1\n",
       "Toyota Corona       21.5 120.1\n",
       "Dodge Challenger    15.5 318.0\n",
       "AMC Javelin         15.2 304.0\n",
       "Camaro Z28          13.3 350.0\n",
       "Pontiac Firebird    19.2 400.0\n",
       "Fiat X1-9           27.3  79.0\n",
       "Porsche 914-2       26.0 120.3\n",
       "Lotus Europa        30.4  95.1\n",
       "Ford Pantera L      15.8 351.0\n",
       "Ferrari Dino        19.7 145.0\n",
       "Maserati Bora       15.0 301.0\n",
       "Volvo 142E          21.4 121.0"
      ]
     },
     "metadata": {},
     "output_type": "display_data"
    }
   ],
   "source": [
    "mtcars[c(1,3),] # selecting 1st and 3rd rows in data frame\n",
    "mtcars[, c(1,3)] # selecting 1st and 3rd columns in data frame"
   ]
  },
  {
   "cell_type": "markdown",
   "metadata": {},
   "source": [
    "## The attach() and detach() Functions"
   ]
  },
  {
   "cell_type": "code",
   "execution_count": 99,
   "metadata": {},
   "outputs": [
    {
     "data": {
      "text/html": [
       "<ol class=list-inline>\n",
       "\t<li>21</li>\n",
       "\t<li>21</li>\n",
       "\t<li>22.8</li>\n",
       "\t<li>21.4</li>\n",
       "\t<li>18.7</li>\n",
       "\t<li>18.1</li>\n",
       "\t<li>14.3</li>\n",
       "\t<li>24.4</li>\n",
       "\t<li>22.8</li>\n",
       "\t<li>19.2</li>\n",
       "\t<li>17.8</li>\n",
       "\t<li>16.4</li>\n",
       "\t<li>17.3</li>\n",
       "\t<li>15.2</li>\n",
       "\t<li>10.4</li>\n",
       "\t<li>10.4</li>\n",
       "\t<li>14.7</li>\n",
       "\t<li>32.4</li>\n",
       "\t<li>30.4</li>\n",
       "\t<li>33.9</li>\n",
       "\t<li>21.5</li>\n",
       "\t<li>15.5</li>\n",
       "\t<li>15.2</li>\n",
       "\t<li>13.3</li>\n",
       "\t<li>19.2</li>\n",
       "\t<li>27.3</li>\n",
       "\t<li>26</li>\n",
       "\t<li>30.4</li>\n",
       "\t<li>15.8</li>\n",
       "\t<li>19.7</li>\n",
       "\t<li>15</li>\n",
       "\t<li>21.4</li>\n",
       "</ol>\n"
      ],
      "text/latex": [
       "\\begin{enumerate*}\n",
       "\\item 21\n",
       "\\item 21\n",
       "\\item 22.8\n",
       "\\item 21.4\n",
       "\\item 18.7\n",
       "\\item 18.1\n",
       "\\item 14.3\n",
       "\\item 24.4\n",
       "\\item 22.8\n",
       "\\item 19.2\n",
       "\\item 17.8\n",
       "\\item 16.4\n",
       "\\item 17.3\n",
       "\\item 15.2\n",
       "\\item 10.4\n",
       "\\item 10.4\n",
       "\\item 14.7\n",
       "\\item 32.4\n",
       "\\item 30.4\n",
       "\\item 33.9\n",
       "\\item 21.5\n",
       "\\item 15.5\n",
       "\\item 15.2\n",
       "\\item 13.3\n",
       "\\item 19.2\n",
       "\\item 27.3\n",
       "\\item 26\n",
       "\\item 30.4\n",
       "\\item 15.8\n",
       "\\item 19.7\n",
       "\\item 15\n",
       "\\item 21.4\n",
       "\\end{enumerate*}\n"
      ],
      "text/markdown": [
       "1. 21\n",
       "2. 21\n",
       "3. 22.8\n",
       "4. 21.4\n",
       "5. 18.7\n",
       "6. 18.1\n",
       "7. 14.3\n",
       "8. 24.4\n",
       "9. 22.8\n",
       "10. 19.2\n",
       "11. 17.8\n",
       "12. 16.4\n",
       "13. 17.3\n",
       "14. 15.2\n",
       "15. 10.4\n",
       "16. 10.4\n",
       "17. 14.7\n",
       "18. 32.4\n",
       "19. 30.4\n",
       "20. 33.9\n",
       "21. 21.5\n",
       "22. 15.5\n",
       "23. 15.2\n",
       "24. 13.3\n",
       "25. 19.2\n",
       "26. 27.3\n",
       "27. 26\n",
       "28. 30.4\n",
       "29. 15.8\n",
       "30. 19.7\n",
       "31. 15\n",
       "32. 21.4\n",
       "\n",
       "\n"
      ],
      "text/plain": [
       " [1] 21.0 21.0 22.8 21.4 18.7 18.1 14.3 24.4 22.8 19.2 17.8 16.4 17.3 15.2 10.4\n",
       "[16] 10.4 14.7 32.4 30.4 33.9 21.5 15.5 15.2 13.3 19.2 27.3 26.0 30.4 15.8 19.7\n",
       "[31] 15.0 21.4"
      ]
     },
     "metadata": {},
     "output_type": "display_data"
    },
    {
     "name": "stderr",
     "output_type": "stream",
     "text": [
      "The following objects are masked _by_ .GlobalEnv:\n",
      "\n",
      "    hp, mpg, wt\n",
      "\n"
     ]
    },
    {
     "data": {
      "text/html": [
       "<ol class=list-inline>\n",
       "\t<li>21</li>\n",
       "\t<li>21</li>\n",
       "\t<li>22.8</li>\n",
       "\t<li>21.4</li>\n",
       "\t<li>18.7</li>\n",
       "\t<li>18.1</li>\n",
       "\t<li>14.3</li>\n",
       "\t<li>24.4</li>\n",
       "\t<li>22.8</li>\n",
       "\t<li>19.2</li>\n",
       "\t<li>17.8</li>\n",
       "\t<li>16.4</li>\n",
       "\t<li>17.3</li>\n",
       "\t<li>15.2</li>\n",
       "\t<li>10.4</li>\n",
       "\t<li>10.4</li>\n",
       "\t<li>14.7</li>\n",
       "\t<li>32.4</li>\n",
       "\t<li>30.4</li>\n",
       "\t<li>33.9</li>\n",
       "\t<li>21.5</li>\n",
       "\t<li>15.5</li>\n",
       "\t<li>15.2</li>\n",
       "\t<li>13.3</li>\n",
       "\t<li>19.2</li>\n",
       "\t<li>27.3</li>\n",
       "\t<li>26</li>\n",
       "\t<li>30.4</li>\n",
       "\t<li>15.8</li>\n",
       "\t<li>19.7</li>\n",
       "\t<li>15</li>\n",
       "\t<li>21.4</li>\n",
       "</ol>\n"
      ],
      "text/latex": [
       "\\begin{enumerate*}\n",
       "\\item 21\n",
       "\\item 21\n",
       "\\item 22.8\n",
       "\\item 21.4\n",
       "\\item 18.7\n",
       "\\item 18.1\n",
       "\\item 14.3\n",
       "\\item 24.4\n",
       "\\item 22.8\n",
       "\\item 19.2\n",
       "\\item 17.8\n",
       "\\item 16.4\n",
       "\\item 17.3\n",
       "\\item 15.2\n",
       "\\item 10.4\n",
       "\\item 10.4\n",
       "\\item 14.7\n",
       "\\item 32.4\n",
       "\\item 30.4\n",
       "\\item 33.9\n",
       "\\item 21.5\n",
       "\\item 15.5\n",
       "\\item 15.2\n",
       "\\item 13.3\n",
       "\\item 19.2\n",
       "\\item 27.3\n",
       "\\item 26\n",
       "\\item 30.4\n",
       "\\item 15.8\n",
       "\\item 19.7\n",
       "\\item 15\n",
       "\\item 21.4\n",
       "\\end{enumerate*}\n"
      ],
      "text/markdown": [
       "1. 21\n",
       "2. 21\n",
       "3. 22.8\n",
       "4. 21.4\n",
       "5. 18.7\n",
       "6. 18.1\n",
       "7. 14.3\n",
       "8. 24.4\n",
       "9. 22.8\n",
       "10. 19.2\n",
       "11. 17.8\n",
       "12. 16.4\n",
       "13. 17.3\n",
       "14. 15.2\n",
       "15. 10.4\n",
       "16. 10.4\n",
       "17. 14.7\n",
       "18. 32.4\n",
       "19. 30.4\n",
       "20. 33.9\n",
       "21. 21.5\n",
       "22. 15.5\n",
       "23. 15.2\n",
       "24. 13.3\n",
       "25. 19.2\n",
       "26. 27.3\n",
       "27. 26\n",
       "28. 30.4\n",
       "29. 15.8\n",
       "30. 19.7\n",
       "31. 15\n",
       "32. 21.4\n",
       "\n",
       "\n"
      ],
      "text/plain": [
       " [1] 21.0 21.0 22.8 21.4 18.7 18.1 14.3 24.4 22.8 19.2 17.8 16.4 17.3 15.2 10.4\n",
       "[16] 10.4 14.7 32.4 30.4 33.9 21.5 15.5 15.2 13.3 19.2 27.3 26.0 30.4 15.8 19.7\n",
       "[31] 15.0 21.4"
      ]
     },
     "metadata": {},
     "output_type": "display_data"
    }
   ],
   "source": [
    "#mpg            # uncomment to see object 'mpg' not found error\n",
    "mtcars$mpg\n",
    "attach(mtcars)\n",
    "mpg\n",
    "detach(mtcars)\n",
    "#mpg            # uncomment to see object 'mpg' not found error"
   ]
  },
  {
   "cell_type": "markdown",
   "metadata": {
    "collapsed": true
   },
   "source": [
    "## Sampling"
   ]
  },
  {
   "cell_type": "code",
   "execution_count": 100,
   "metadata": {},
   "outputs": [
    {
     "data": {
      "text/html": [
       "<ol class=list-inline>\n",
       "\t<li>7</li>\n",
       "\t<li>2</li>\n",
       "\t<li>7</li>\n",
       "\t<li>10</li>\n",
       "\t<li>4</li>\n",
       "\t<li>8</li>\n",
       "\t<li>7</li>\n",
       "</ol>\n"
      ],
      "text/latex": [
       "\\begin{enumerate*}\n",
       "\\item 7\n",
       "\\item 2\n",
       "\\item 7\n",
       "\\item 10\n",
       "\\item 4\n",
       "\\item 8\n",
       "\\item 7\n",
       "\\end{enumerate*}\n"
      ],
      "text/markdown": [
       "1. 7\n",
       "2. 2\n",
       "3. 7\n",
       "4. 10\n",
       "5. 4\n",
       "6. 8\n",
       "7. 7\n",
       "\n",
       "\n"
      ],
      "text/plain": [
       "[1]  7  2  7 10  4  8  7"
      ]
     },
     "metadata": {},
     "output_type": "display_data"
    },
    {
     "data": {
      "text/html": [
       "<ol class=list-inline>\n",
       "\t<li>7</li>\n",
       "\t<li>9</li>\n",
       "\t<li>5</li>\n",
       "\t<li>1</li>\n",
       "\t<li>6</li>\n",
       "\t<li>10</li>\n",
       "\t<li>8</li>\n",
       "</ol>\n"
      ],
      "text/latex": [
       "\\begin{enumerate*}\n",
       "\\item 7\n",
       "\\item 9\n",
       "\\item 5\n",
       "\\item 1\n",
       "\\item 6\n",
       "\\item 10\n",
       "\\item 8\n",
       "\\end{enumerate*}\n"
      ],
      "text/markdown": [
       "1. 7\n",
       "2. 9\n",
       "3. 5\n",
       "4. 1\n",
       "5. 6\n",
       "6. 10\n",
       "7. 8\n",
       "\n",
       "\n"
      ],
      "text/plain": [
       "[1]  7  9  5  1  6 10  8"
      ]
     },
     "metadata": {},
     "output_type": "display_data"
    }
   ],
   "source": [
    "data <- c(1:10)\n",
    "sample(data, 7, replace = TRUE)  # allow duplicates\n",
    "sample(data, 7, replace = FALSE) # prevent duplicates"
   ]
  },
  {
   "cell_type": "markdown",
   "metadata": {},
   "source": [
    "## Using sample() for Generating Labels\n",
    "\n",
    "- LETTERS is a built-in constant containing uppercase letters\n",
    "- letters is a built-in constant containing lowercase letters\n",
    "- month.name is a built-in constant containing month names\n",
    "- pi is a built-in constant for 3.14159265358979"
   ]
  },
  {
   "cell_type": "code",
   "execution_count": 101,
   "metadata": {},
   "outputs": [
    {
     "data": {
      "text/html": [
       "<ol class=list-inline>\n",
       "\t<li>'Center C'</li>\n",
       "\t<li>'Center D'</li>\n",
       "\t<li>'Center A'</li>\n",
       "\t<li>'Center B'</li>\n",
       "\t<li>'Center B'</li>\n",
       "\t<li>'Center A'</li>\n",
       "\t<li>'Center B'</li>\n",
       "\t<li>'Center C'</li>\n",
       "\t<li>'Center C'</li>\n",
       "\t<li>'Center B'</li>\n",
       "</ol>\n"
      ],
      "text/latex": [
       "\\begin{enumerate*}\n",
       "\\item 'Center C'\n",
       "\\item 'Center D'\n",
       "\\item 'Center A'\n",
       "\\item 'Center B'\n",
       "\\item 'Center B'\n",
       "\\item 'Center A'\n",
       "\\item 'Center B'\n",
       "\\item 'Center C'\n",
       "\\item 'Center C'\n",
       "\\item 'Center B'\n",
       "\\end{enumerate*}\n"
      ],
      "text/markdown": [
       "1. 'Center C'\n",
       "2. 'Center D'\n",
       "3. 'Center A'\n",
       "4. 'Center B'\n",
       "5. 'Center B'\n",
       "6. 'Center A'\n",
       "7. 'Center B'\n",
       "8. 'Center C'\n",
       "9. 'Center C'\n",
       "10. 'Center B'\n",
       "\n",
       "\n"
      ],
      "text/plain": [
       " [1] \"Center C\" \"Center D\" \"Center A\" \"Center B\" \"Center B\" \"Center A\"\n",
       " [7] \"Center B\" \"Center C\" \"Center C\" \"Center B\""
      ]
     },
     "metadata": {},
     "output_type": "display_data"
    },
    {
     "data": {
      "text/html": [
       "<ol class=list-inline>\n",
       "\t<li>'Center b'</li>\n",
       "\t<li>'Center d'</li>\n",
       "\t<li>'Center d'</li>\n",
       "\t<li>'Center a'</li>\n",
       "\t<li>'Center b'</li>\n",
       "\t<li>'Center d'</li>\n",
       "\t<li>'Center c'</li>\n",
       "\t<li>'Center a'</li>\n",
       "\t<li>'Center d'</li>\n",
       "\t<li>'Center a'</li>\n",
       "</ol>\n"
      ],
      "text/latex": [
       "\\begin{enumerate*}\n",
       "\\item 'Center b'\n",
       "\\item 'Center d'\n",
       "\\item 'Center d'\n",
       "\\item 'Center a'\n",
       "\\item 'Center b'\n",
       "\\item 'Center d'\n",
       "\\item 'Center c'\n",
       "\\item 'Center a'\n",
       "\\item 'Center d'\n",
       "\\item 'Center a'\n",
       "\\end{enumerate*}\n"
      ],
      "text/markdown": [
       "1. 'Center b'\n",
       "2. 'Center d'\n",
       "3. 'Center d'\n",
       "4. 'Center a'\n",
       "5. 'Center b'\n",
       "6. 'Center d'\n",
       "7. 'Center c'\n",
       "8. 'Center a'\n",
       "9. 'Center d'\n",
       "10. 'Center a'\n",
       "\n",
       "\n"
      ],
      "text/plain": [
       " [1] \"Center b\" \"Center d\" \"Center d\" \"Center a\" \"Center b\" \"Center d\"\n",
       " [7] \"Center c\" \"Center a\" \"Center d\" \"Center a\""
      ]
     },
     "metadata": {},
     "output_type": "display_data"
    },
    {
     "data": {
      "text/html": [
       "<ol class=list-inline>\n",
       "\t<li>'A'</li>\n",
       "\t<li>'B'</li>\n",
       "\t<li>'C'</li>\n",
       "\t<li>'D'</li>\n",
       "\t<li>'E'</li>\n",
       "\t<li>'F'</li>\n",
       "\t<li>'G'</li>\n",
       "\t<li>'H'</li>\n",
       "\t<li>'I'</li>\n",
       "\t<li>'J'</li>\n",
       "\t<li>'K'</li>\n",
       "\t<li>'L'</li>\n",
       "\t<li>'M'</li>\n",
       "\t<li>'N'</li>\n",
       "\t<li>'O'</li>\n",
       "\t<li>'P'</li>\n",
       "\t<li>'Q'</li>\n",
       "\t<li>'R'</li>\n",
       "\t<li>'S'</li>\n",
       "\t<li>'T'</li>\n",
       "\t<li>'U'</li>\n",
       "\t<li>'V'</li>\n",
       "\t<li>'W'</li>\n",
       "\t<li>'X'</li>\n",
       "\t<li>'Y'</li>\n",
       "\t<li>'Z'</li>\n",
       "</ol>\n"
      ],
      "text/latex": [
       "\\begin{enumerate*}\n",
       "\\item 'A'\n",
       "\\item 'B'\n",
       "\\item 'C'\n",
       "\\item 'D'\n",
       "\\item 'E'\n",
       "\\item 'F'\n",
       "\\item 'G'\n",
       "\\item 'H'\n",
       "\\item 'I'\n",
       "\\item 'J'\n",
       "\\item 'K'\n",
       "\\item 'L'\n",
       "\\item 'M'\n",
       "\\item 'N'\n",
       "\\item 'O'\n",
       "\\item 'P'\n",
       "\\item 'Q'\n",
       "\\item 'R'\n",
       "\\item 'S'\n",
       "\\item 'T'\n",
       "\\item 'U'\n",
       "\\item 'V'\n",
       "\\item 'W'\n",
       "\\item 'X'\n",
       "\\item 'Y'\n",
       "\\item 'Z'\n",
       "\\end{enumerate*}\n"
      ],
      "text/markdown": [
       "1. 'A'\n",
       "2. 'B'\n",
       "3. 'C'\n",
       "4. 'D'\n",
       "5. 'E'\n",
       "6. 'F'\n",
       "7. 'G'\n",
       "8. 'H'\n",
       "9. 'I'\n",
       "10. 'J'\n",
       "11. 'K'\n",
       "12. 'L'\n",
       "13. 'M'\n",
       "14. 'N'\n",
       "15. 'O'\n",
       "16. 'P'\n",
       "17. 'Q'\n",
       "18. 'R'\n",
       "19. 'S'\n",
       "20. 'T'\n",
       "21. 'U'\n",
       "22. 'V'\n",
       "23. 'W'\n",
       "24. 'X'\n",
       "25. 'Y'\n",
       "26. 'Z'\n",
       "\n",
       "\n"
      ],
      "text/plain": [
       " [1] \"A\" \"B\" \"C\" \"D\" \"E\" \"F\" \"G\" \"H\" \"I\" \"J\" \"K\" \"L\" \"M\" \"N\" \"O\" \"P\" \"Q\" \"R\" \"S\"\n",
       "[20] \"T\" \"U\" \"V\" \"W\" \"X\" \"Y\" \"Z\""
      ]
     },
     "metadata": {},
     "output_type": "display_data"
    },
    {
     "data": {
      "text/html": [
       "<ol class=list-inline>\n",
       "\t<li>'a'</li>\n",
       "\t<li>'b'</li>\n",
       "\t<li>'c'</li>\n",
       "\t<li>'d'</li>\n",
       "\t<li>'e'</li>\n",
       "\t<li>'f'</li>\n",
       "\t<li>'g'</li>\n",
       "\t<li>'h'</li>\n",
       "\t<li>'i'</li>\n",
       "\t<li>'j'</li>\n",
       "\t<li>'k'</li>\n",
       "\t<li>'l'</li>\n",
       "\t<li>'m'</li>\n",
       "\t<li>'n'</li>\n",
       "\t<li>'o'</li>\n",
       "\t<li>'p'</li>\n",
       "\t<li>'q'</li>\n",
       "\t<li>'r'</li>\n",
       "\t<li>'s'</li>\n",
       "\t<li>'t'</li>\n",
       "\t<li>'u'</li>\n",
       "\t<li>'v'</li>\n",
       "\t<li>'w'</li>\n",
       "\t<li>'x'</li>\n",
       "\t<li>'y'</li>\n",
       "\t<li>'z'</li>\n",
       "</ol>\n"
      ],
      "text/latex": [
       "\\begin{enumerate*}\n",
       "\\item 'a'\n",
       "\\item 'b'\n",
       "\\item 'c'\n",
       "\\item 'd'\n",
       "\\item 'e'\n",
       "\\item 'f'\n",
       "\\item 'g'\n",
       "\\item 'h'\n",
       "\\item 'i'\n",
       "\\item 'j'\n",
       "\\item 'k'\n",
       "\\item 'l'\n",
       "\\item 'm'\n",
       "\\item 'n'\n",
       "\\item 'o'\n",
       "\\item 'p'\n",
       "\\item 'q'\n",
       "\\item 'r'\n",
       "\\item 's'\n",
       "\\item 't'\n",
       "\\item 'u'\n",
       "\\item 'v'\n",
       "\\item 'w'\n",
       "\\item 'x'\n",
       "\\item 'y'\n",
       "\\item 'z'\n",
       "\\end{enumerate*}\n"
      ],
      "text/markdown": [
       "1. 'a'\n",
       "2. 'b'\n",
       "3. 'c'\n",
       "4. 'd'\n",
       "5. 'e'\n",
       "6. 'f'\n",
       "7. 'g'\n",
       "8. 'h'\n",
       "9. 'i'\n",
       "10. 'j'\n",
       "11. 'k'\n",
       "12. 'l'\n",
       "13. 'm'\n",
       "14. 'n'\n",
       "15. 'o'\n",
       "16. 'p'\n",
       "17. 'q'\n",
       "18. 'r'\n",
       "19. 's'\n",
       "20. 't'\n",
       "21. 'u'\n",
       "22. 'v'\n",
       "23. 'w'\n",
       "24. 'x'\n",
       "25. 'y'\n",
       "26. 'z'\n",
       "\n",
       "\n"
      ],
      "text/plain": [
       " [1] \"a\" \"b\" \"c\" \"d\" \"e\" \"f\" \"g\" \"h\" \"i\" \"j\" \"k\" \"l\" \"m\" \"n\" \"o\" \"p\" \"q\" \"r\" \"s\"\n",
       "[20] \"t\" \"u\" \"v\" \"w\" \"x\" \"y\" \"z\""
      ]
     },
     "metadata": {},
     "output_type": "display_data"
    },
    {
     "data": {
      "text/html": [
       "<ol class=list-inline>\n",
       "\t<li>'January'</li>\n",
       "\t<li>'February'</li>\n",
       "\t<li>'March'</li>\n",
       "\t<li>'April'</li>\n",
       "\t<li>'May'</li>\n",
       "\t<li>'June'</li>\n",
       "\t<li>'July'</li>\n",
       "\t<li>'August'</li>\n",
       "\t<li>'September'</li>\n",
       "\t<li>'October'</li>\n",
       "\t<li>'November'</li>\n",
       "\t<li>'December'</li>\n",
       "</ol>\n"
      ],
      "text/latex": [
       "\\begin{enumerate*}\n",
       "\\item 'January'\n",
       "\\item 'February'\n",
       "\\item 'March'\n",
       "\\item 'April'\n",
       "\\item 'May'\n",
       "\\item 'June'\n",
       "\\item 'July'\n",
       "\\item 'August'\n",
       "\\item 'September'\n",
       "\\item 'October'\n",
       "\\item 'November'\n",
       "\\item 'December'\n",
       "\\end{enumerate*}\n"
      ],
      "text/markdown": [
       "1. 'January'\n",
       "2. 'February'\n",
       "3. 'March'\n",
       "4. 'April'\n",
       "5. 'May'\n",
       "6. 'June'\n",
       "7. 'July'\n",
       "8. 'August'\n",
       "9. 'September'\n",
       "10. 'October'\n",
       "11. 'November'\n",
       "12. 'December'\n",
       "\n",
       "\n"
      ],
      "text/plain": [
       " [1] \"January\"   \"February\"  \"March\"     \"April\"     \"May\"       \"June\"     \n",
       " [7] \"July\"      \"August\"    \"September\" \"October\"   \"November\"  \"December\" "
      ]
     },
     "metadata": {},
     "output_type": "display_data"
    },
    {
     "data": {
      "text/html": [
       "3.14159265358979"
      ],
      "text/latex": [
       "3.14159265358979"
      ],
      "text/markdown": [
       "3.14159265358979"
      ],
      "text/plain": [
       "[1] 3.141593"
      ]
     },
     "metadata": {},
     "output_type": "display_data"
    }
   ],
   "source": [
    "sample(paste(\"Center\", LETTERS[1:4]), 10, replace = TRUE)\n",
    "sample(paste(\"Center\", letters[1:4]), 10, replace = TRUE)\n",
    "\n",
    "LETTERS\n",
    "letters\n",
    "month.name\n",
    "pi"
   ]
  },
  {
   "cell_type": "markdown",
   "metadata": {},
   "source": [
    "## Set Operations\n",
    "\n",
    "- union()\n",
    "- intersect()\n",
    "- setdiff()\n",
    "- setequal()\n",
    "- is.element()"
   ]
  },
  {
   "cell_type": "code",
   "execution_count": 102,
   "metadata": {},
   "outputs": [
    {
     "data": {
      "text/html": [
       "TRUE"
      ],
      "text/latex": [
       "TRUE"
      ],
      "text/markdown": [
       "TRUE"
      ],
      "text/plain": [
       "[1] TRUE"
      ]
     },
     "metadata": {},
     "output_type": "display_data"
    },
    {
     "data": {
      "text/html": [
       "FALSE"
      ],
      "text/latex": [
       "FALSE"
      ],
      "text/markdown": [
       "FALSE"
      ],
      "text/plain": [
       "[1] FALSE"
      ]
     },
     "metadata": {},
     "output_type": "display_data"
    },
    {
     "data": {
      "text/html": [
       "<ol class=list-inline>\n",
       "\t<li>'d'</li>\n",
       "\t<li>'n'</li>\n",
       "\t<li>'i'</li>\n",
       "\t<li>'x'</li>\n",
       "\t<li>'g'</li>\n",
       "\t<li>'s'</li>\n",
       "\t<li>'q'</li>\n",
       "\t<li>'z'</li>\n",
       "\t<li>'l'</li>\n",
       "\t<li>'m'</li>\n",
       "</ol>\n"
      ],
      "text/latex": [
       "\\begin{enumerate*}\n",
       "\\item 'd'\n",
       "\\item 'n'\n",
       "\\item 'i'\n",
       "\\item 'x'\n",
       "\\item 'g'\n",
       "\\item 's'\n",
       "\\item 'q'\n",
       "\\item 'z'\n",
       "\\item 'l'\n",
       "\\item 'm'\n",
       "\\end{enumerate*}\n"
      ],
      "text/markdown": [
       "1. 'd'\n",
       "2. 'n'\n",
       "3. 'i'\n",
       "4. 'x'\n",
       "5. 'g'\n",
       "6. 's'\n",
       "7. 'q'\n",
       "8. 'z'\n",
       "9. 'l'\n",
       "10. 'm'\n",
       "\n",
       "\n"
      ],
      "text/plain": [
       " [1] \"d\" \"n\" \"i\" \"x\" \"g\" \"s\" \"q\" \"z\" \"l\" \"m\""
      ]
     },
     "metadata": {},
     "output_type": "display_data"
    },
    {
     "data": {
      "text/html": [
       "<ol class=list-inline>\n",
       "\t<li>'c'</li>\n",
       "\t<li>'x'</li>\n",
       "\t<li>'g'</li>\n",
       "\t<li>'t'</li>\n",
       "\t<li>'k'</li>\n",
       "\t<li>'o'</li>\n",
       "\t<li>'y'</li>\n",
       "\t<li>'a'</li>\n",
       "\t<li>'e'</li>\n",
       "\t<li>'f'</li>\n",
       "</ol>\n"
      ],
      "text/latex": [
       "\\begin{enumerate*}\n",
       "\\item 'c'\n",
       "\\item 'x'\n",
       "\\item 'g'\n",
       "\\item 't'\n",
       "\\item 'k'\n",
       "\\item 'o'\n",
       "\\item 'y'\n",
       "\\item 'a'\n",
       "\\item 'e'\n",
       "\\item 'f'\n",
       "\\end{enumerate*}\n"
      ],
      "text/markdown": [
       "1. 'c'\n",
       "2. 'x'\n",
       "3. 'g'\n",
       "4. 't'\n",
       "5. 'k'\n",
       "6. 'o'\n",
       "7. 'y'\n",
       "8. 'a'\n",
       "9. 'e'\n",
       "10. 'f'\n",
       "\n",
       "\n"
      ],
      "text/plain": [
       " [1] \"c\" \"x\" \"g\" \"t\" \"k\" \"o\" \"y\" \"a\" \"e\" \"f\""
      ]
     },
     "metadata": {},
     "output_type": "display_data"
    },
    {
     "data": {
      "text/html": [
       "<ol class=list-inline>\n",
       "\t<li>'d'</li>\n",
       "\t<li>'n'</li>\n",
       "\t<li>'i'</li>\n",
       "\t<li>'x'</li>\n",
       "\t<li>'g'</li>\n",
       "\t<li>'s'</li>\n",
       "\t<li>'q'</li>\n",
       "\t<li>'z'</li>\n",
       "\t<li>'l'</li>\n",
       "\t<li>'m'</li>\n",
       "\t<li>'c'</li>\n",
       "\t<li>'t'</li>\n",
       "\t<li>'k'</li>\n",
       "\t<li>'o'</li>\n",
       "\t<li>'y'</li>\n",
       "\t<li>'a'</li>\n",
       "\t<li>'e'</li>\n",
       "\t<li>'f'</li>\n",
       "</ol>\n"
      ],
      "text/latex": [
       "\\begin{enumerate*}\n",
       "\\item 'd'\n",
       "\\item 'n'\n",
       "\\item 'i'\n",
       "\\item 'x'\n",
       "\\item 'g'\n",
       "\\item 's'\n",
       "\\item 'q'\n",
       "\\item 'z'\n",
       "\\item 'l'\n",
       "\\item 'm'\n",
       "\\item 'c'\n",
       "\\item 't'\n",
       "\\item 'k'\n",
       "\\item 'o'\n",
       "\\item 'y'\n",
       "\\item 'a'\n",
       "\\item 'e'\n",
       "\\item 'f'\n",
       "\\end{enumerate*}\n"
      ],
      "text/markdown": [
       "1. 'd'\n",
       "2. 'n'\n",
       "3. 'i'\n",
       "4. 'x'\n",
       "5. 'g'\n",
       "6. 's'\n",
       "7. 'q'\n",
       "8. 'z'\n",
       "9. 'l'\n",
       "10. 'm'\n",
       "11. 'c'\n",
       "12. 't'\n",
       "13. 'k'\n",
       "14. 'o'\n",
       "15. 'y'\n",
       "16. 'a'\n",
       "17. 'e'\n",
       "18. 'f'\n",
       "\n",
       "\n"
      ],
      "text/plain": [
       " [1] \"d\" \"n\" \"i\" \"x\" \"g\" \"s\" \"q\" \"z\" \"l\" \"m\" \"c\" \"t\" \"k\" \"o\" \"y\" \"a\" \"e\" \"f\""
      ]
     },
     "metadata": {},
     "output_type": "display_data"
    },
    {
     "data": {
      "text/html": [
       "<ol class=list-inline>\n",
       "\t<li>'x'</li>\n",
       "\t<li>'g'</li>\n",
       "</ol>\n"
      ],
      "text/latex": [
       "\\begin{enumerate*}\n",
       "\\item 'x'\n",
       "\\item 'g'\n",
       "\\end{enumerate*}\n"
      ],
      "text/markdown": [
       "1. 'x'\n",
       "2. 'g'\n",
       "\n",
       "\n"
      ],
      "text/plain": [
       "[1] \"x\" \"g\""
      ]
     },
     "metadata": {},
     "output_type": "display_data"
    },
    {
     "data": {
      "text/html": [
       "<ol class=list-inline>\n",
       "\t<li>'d'</li>\n",
       "\t<li>'n'</li>\n",
       "\t<li>'i'</li>\n",
       "\t<li>'s'</li>\n",
       "\t<li>'q'</li>\n",
       "\t<li>'z'</li>\n",
       "\t<li>'l'</li>\n",
       "\t<li>'m'</li>\n",
       "</ol>\n"
      ],
      "text/latex": [
       "\\begin{enumerate*}\n",
       "\\item 'd'\n",
       "\\item 'n'\n",
       "\\item 'i'\n",
       "\\item 's'\n",
       "\\item 'q'\n",
       "\\item 'z'\n",
       "\\item 'l'\n",
       "\\item 'm'\n",
       "\\end{enumerate*}\n"
      ],
      "text/markdown": [
       "1. 'd'\n",
       "2. 'n'\n",
       "3. 'i'\n",
       "4. 's'\n",
       "5. 'q'\n",
       "6. 'z'\n",
       "7. 'l'\n",
       "8. 'm'\n",
       "\n",
       "\n"
      ],
      "text/plain": [
       "[1] \"d\" \"n\" \"i\" \"s\" \"q\" \"z\" \"l\" \"m\""
      ]
     },
     "metadata": {},
     "output_type": "display_data"
    },
    {
     "data": {
      "text/html": [
       "TRUE"
      ],
      "text/latex": [
       "TRUE"
      ],
      "text/markdown": [
       "TRUE"
      ],
      "text/plain": [
       "[1] TRUE"
      ]
     },
     "metadata": {},
     "output_type": "display_data"
    },
    {
     "data": {
      "text/html": [
       "FALSE"
      ],
      "text/latex": [
       "FALSE"
      ],
      "text/markdown": [
       "FALSE"
      ],
      "text/plain": [
       "[1] FALSE"
      ]
     },
     "metadata": {},
     "output_type": "display_data"
    },
    {
     "data": {
      "text/html": [
       "TRUE"
      ],
      "text/latex": [
       "TRUE"
      ],
      "text/markdown": [
       "TRUE"
      ],
      "text/plain": [
       "[1] TRUE"
      ]
     },
     "metadata": {},
     "output_type": "display_data"
    },
    {
     "data": {
      "text/html": [
       "TRUE"
      ],
      "text/latex": [
       "TRUE"
      ],
      "text/markdown": [
       "TRUE"
      ],
      "text/plain": [
       "[1] TRUE"
      ]
     },
     "metadata": {},
     "output_type": "display_data"
    },
    {
     "data": {
      "text/html": [
       "TRUE"
      ],
      "text/latex": [
       "TRUE"
      ],
      "text/markdown": [
       "TRUE"
      ],
      "text/plain": [
       "[1] TRUE"
      ]
     },
     "metadata": {},
     "output_type": "display_data"
    },
    {
     "data": {
      "text/html": [
       "TRUE"
      ],
      "text/latex": [
       "TRUE"
      ],
      "text/markdown": [
       "TRUE"
      ],
      "text/plain": [
       "[1] TRUE"
      ]
     },
     "metadata": {},
     "output_type": "display_data"
    },
    {
     "data": {
      "text/html": [
       "TRUE"
      ],
      "text/latex": [
       "TRUE"
      ],
      "text/markdown": [
       "TRUE"
      ],
      "text/plain": [
       "[1] TRUE"
      ]
     },
     "metadata": {},
     "output_type": "display_data"
    }
   ],
   "source": [
    "setequal(c(1, 2, 3), c(1, 2, 3))\n",
    "setequal(c(1, 2, 3), c(1, 2, 4))\n",
    "s1 <- sample(letters, 10)\n",
    "s1\n",
    "s2 <- sample(letters, 10)\n",
    "s2\n",
    "u <- union(s1, s2)\n",
    "u\n",
    "i <- intersect(s1, s2)\n",
    "i\n",
    "d <- setdiff(s1, s2)\n",
    "d\n",
    "is.element('a', u)\n",
    "is.element('b', u)\n",
    "is.element('c', u)\n",
    "is.element('d', u)\n",
    "is.element('e', u)\n",
    "is.element('f', u)\n",
    "is.element('g', u)"
   ]
  },
  {
   "cell_type": "markdown",
   "metadata": {},
   "source": [
    "## The dplyr Package"
   ]
  },
  {
   "cell_type": "code",
   "execution_count": 103,
   "metadata": {},
   "outputs": [
    {
     "name": "stderr",
     "output_type": "stream",
     "text": [
      "Installing package into 'C:/Users/peterthor/Documents/R/win-library/3.4'\n",
      "(as 'lib' is unspecified)\n"
     ]
    },
    {
     "name": "stdout",
     "output_type": "stream",
     "text": [
      "package 'dplyr' successfully unpacked and MD5 sums checked\n",
      "\n",
      "The downloaded binary packages are in\n",
      "\tC:\\Users\\peterthor\\AppData\\Local\\Temp\\RtmpI7lxRv\\downloaded_packages\n"
     ]
    },
    {
     "name": "stderr",
     "output_type": "stream",
     "text": [
      "Warning message:\n",
      "\"package 'dplyr' was built under R version 3.4.4\"\n",
      "Attaching package: 'dplyr'\n",
      "\n",
      "The following objects are masked from 'package:stats':\n",
      "\n",
      "    filter, lag\n",
      "\n",
      "The following objects are masked from 'package:base':\n",
      "\n",
      "    intersect, setdiff, setequal, union\n",
      "\n",
      "Warning message:\n",
      "\"package 'bindrcpp' was built under R version 3.4.4\""
     ]
    },
    {
     "data": {
      "text/html": [
       "<table>\n",
       "<thead><tr><th scope=col>mpg</th><th scope=col>cyl</th><th scope=col>disp</th><th scope=col>hp</th><th scope=col>drat</th><th scope=col>wt</th><th scope=col>qsec</th><th scope=col>vs</th><th scope=col>am</th><th scope=col>gear</th><th scope=col>carb</th></tr></thead>\n",
       "<tbody>\n",
       "\t<tr><td>14.3 </td><td>8    </td><td>360  </td><td>245  </td><td>3.21 </td><td>3.570</td><td>15.84</td><td>0    </td><td>0    </td><td>3    </td><td>4    </td></tr>\n",
       "\t<tr><td>10.4 </td><td>8    </td><td>472  </td><td>205  </td><td>2.93 </td><td>5.250</td><td>17.98</td><td>0    </td><td>0    </td><td>3    </td><td>4    </td></tr>\n",
       "\t<tr><td>10.4 </td><td>8    </td><td>460  </td><td>215  </td><td>3.00 </td><td>5.424</td><td>17.82</td><td>0    </td><td>0    </td><td>3    </td><td>4    </td></tr>\n",
       "\t<tr><td>14.7 </td><td>8    </td><td>440  </td><td>230  </td><td>3.23 </td><td>5.345</td><td>17.42</td><td>0    </td><td>0    </td><td>3    </td><td>4    </td></tr>\n",
       "\t<tr><td>13.3 </td><td>8    </td><td>350  </td><td>245  </td><td>3.73 </td><td>3.840</td><td>15.41</td><td>0    </td><td>0    </td><td>3    </td><td>4    </td></tr>\n",
       "\t<tr><td>15.0 </td><td>8    </td><td>301  </td><td>335  </td><td>3.54 </td><td>3.570</td><td>14.60</td><td>0    </td><td>1    </td><td>5    </td><td>8    </td></tr>\n",
       "</tbody>\n",
       "</table>\n"
      ],
      "text/latex": [
       "\\begin{tabular}{r|lllllllllll}\n",
       " mpg & cyl & disp & hp & drat & wt & qsec & vs & am & gear & carb\\\\\n",
       "\\hline\n",
       "\t 14.3  & 8     & 360   & 245   & 3.21  & 3.570 & 15.84 & 0     & 0     & 3     & 4    \\\\\n",
       "\t 10.4  & 8     & 472   & 205   & 2.93  & 5.250 & 17.98 & 0     & 0     & 3     & 4    \\\\\n",
       "\t 10.4  & 8     & 460   & 215   & 3.00  & 5.424 & 17.82 & 0     & 0     & 3     & 4    \\\\\n",
       "\t 14.7  & 8     & 440   & 230   & 3.23  & 5.345 & 17.42 & 0     & 0     & 3     & 4    \\\\\n",
       "\t 13.3  & 8     & 350   & 245   & 3.73  & 3.840 & 15.41 & 0     & 0     & 3     & 4    \\\\\n",
       "\t 15.0  & 8     & 301   & 335   & 3.54  & 3.570 & 14.60 & 0     & 1     & 5     & 8    \\\\\n",
       "\\end{tabular}\n"
      ],
      "text/markdown": [
       "\n",
       "mpg | cyl | disp | hp | drat | wt | qsec | vs | am | gear | carb | \n",
       "|---|---|---|---|---|---|\n",
       "| 14.3  | 8     | 360   | 245   | 3.21  | 3.570 | 15.84 | 0     | 0     | 3     | 4     | \n",
       "| 10.4  | 8     | 472   | 205   | 2.93  | 5.250 | 17.98 | 0     | 0     | 3     | 4     | \n",
       "| 10.4  | 8     | 460   | 215   | 3.00  | 5.424 | 17.82 | 0     | 0     | 3     | 4     | \n",
       "| 14.7  | 8     | 440   | 230   | 3.23  | 5.345 | 17.42 | 0     | 0     | 3     | 4     | \n",
       "| 13.3  | 8     | 350   | 245   | 3.73  | 3.840 | 15.41 | 0     | 0     | 3     | 4     | \n",
       "| 15.0  | 8     | 301   | 335   | 3.54  | 3.570 | 14.60 | 0     | 1     | 5     | 8     | \n",
       "\n",
       "\n"
      ],
      "text/plain": [
       "  mpg  cyl disp hp  drat wt    qsec  vs am gear carb\n",
       "1 14.3 8   360  245 3.21 3.570 15.84 0  0  3    4   \n",
       "2 10.4 8   472  205 2.93 5.250 17.98 0  0  3    4   \n",
       "3 10.4 8   460  215 3.00 5.424 17.82 0  0  3    4   \n",
       "4 14.7 8   440  230 3.23 5.345 17.42 0  0  3    4   \n",
       "5 13.3 8   350  245 3.73 3.840 15.41 0  0  3    4   \n",
       "6 15.0 8   301  335 3.54 3.570 14.60 0  1  5    8   "
      ]
     },
     "metadata": {},
     "output_type": "display_data"
    }
   ],
   "source": [
    "install.packages(\"dplyr\", repos = \"http://cran.us.r-project.org\")\n",
    "library(dplyr)\n",
    "\n",
    "# The filter() function is like WHERE clause in SQL statements\n",
    "guzzlers <- dplyr::filter(mtcars, mpg <= 15)\n",
    "guzzlers"
   ]
  },
  {
   "cell_type": "markdown",
   "metadata": {},
   "source": [
    "## The search and searchpaths Functions"
   ]
  },
  {
   "cell_type": "code",
   "execution_count": 104,
   "metadata": {},
   "outputs": [
    {
     "data": {
      "text/html": [
       "<ol class=list-inline>\n",
       "\t<li>'.GlobalEnv'</li>\n",
       "\t<li>'package:bindrcpp'</li>\n",
       "\t<li>'package:dplyr'</li>\n",
       "\t<li>'jupyter:irkernel'</li>\n",
       "\t<li>'package:RevoUtils'</li>\n",
       "\t<li>'package:stats'</li>\n",
       "\t<li>'package:graphics'</li>\n",
       "\t<li>'package:grDevices'</li>\n",
       "\t<li>'package:utils'</li>\n",
       "\t<li>'package:datasets'</li>\n",
       "\t<li>'package:RevoUtilsMath'</li>\n",
       "\t<li>'package:methods'</li>\n",
       "\t<li>'Autoloads'</li>\n",
       "\t<li>'package:base'</li>\n",
       "</ol>\n"
      ],
      "text/latex": [
       "\\begin{enumerate*}\n",
       "\\item '.GlobalEnv'\n",
       "\\item 'package:bindrcpp'\n",
       "\\item 'package:dplyr'\n",
       "\\item 'jupyter:irkernel'\n",
       "\\item 'package:RevoUtils'\n",
       "\\item 'package:stats'\n",
       "\\item 'package:graphics'\n",
       "\\item 'package:grDevices'\n",
       "\\item 'package:utils'\n",
       "\\item 'package:datasets'\n",
       "\\item 'package:RevoUtilsMath'\n",
       "\\item 'package:methods'\n",
       "\\item 'Autoloads'\n",
       "\\item 'package:base'\n",
       "\\end{enumerate*}\n"
      ],
      "text/markdown": [
       "1. '.GlobalEnv'\n",
       "2. 'package:bindrcpp'\n",
       "3. 'package:dplyr'\n",
       "4. 'jupyter:irkernel'\n",
       "5. 'package:RevoUtils'\n",
       "6. 'package:stats'\n",
       "7. 'package:graphics'\n",
       "8. 'package:grDevices'\n",
       "9. 'package:utils'\n",
       "10. 'package:datasets'\n",
       "11. 'package:RevoUtilsMath'\n",
       "12. 'package:methods'\n",
       "13. 'Autoloads'\n",
       "14. 'package:base'\n",
       "\n",
       "\n"
      ],
      "text/plain": [
       " [1] \".GlobalEnv\"            \"package:bindrcpp\"      \"package:dplyr\"        \n",
       " [4] \"jupyter:irkernel\"      \"package:RevoUtils\"     \"package:stats\"        \n",
       " [7] \"package:graphics\"      \"package:grDevices\"     \"package:utils\"        \n",
       "[10] \"package:datasets\"      \"package:RevoUtilsMath\" \"package:methods\"      \n",
       "[13] \"Autoloads\"             \"package:base\"         "
      ]
     },
     "metadata": {},
     "output_type": "display_data"
    }
   ],
   "source": [
    "search()"
   ]
  },
  {
   "cell_type": "code",
   "execution_count": 105,
   "metadata": {},
   "outputs": [
    {
     "data": {
      "text/html": [
       "<ol class=list-inline>\n",
       "\t<li>'.GlobalEnv'</li>\n",
       "\t<li>'C:/Users/peterthor/Documents/R/win-library/3.4/bindrcpp'</li>\n",
       "\t<li>'C:/Users/peterthor/Documents/R/win-library/3.4/dplyr'</li>\n",
       "\t<li>'jupyter:irkernel'</li>\n",
       "\t<li>'C:/Users/peterthor/Anaconda3/Lib/R/library/RevoUtils'</li>\n",
       "\t<li>'C:/Users/peterthor/Anaconda3/Lib/R/library/stats'</li>\n",
       "\t<li>'C:/Users/peterthor/Anaconda3/Lib/R/library/graphics'</li>\n",
       "\t<li>'C:/Users/peterthor/Anaconda3/Lib/R/library/grDevices'</li>\n",
       "\t<li>'C:/Users/peterthor/Anaconda3/Lib/R/library/utils'</li>\n",
       "\t<li>'C:/Users/peterthor/Anaconda3/Lib/R/library/datasets'</li>\n",
       "\t<li>'C:/Users/peterthor/Anaconda3/Lib/R/library/RevoUtilsMath'</li>\n",
       "\t<li>'C:/Users/peterthor/Anaconda3/Lib/R/library/methods'</li>\n",
       "\t<li>'Autoloads'</li>\n",
       "\t<li>'C:/Users/peterthor/Anaconda3/lib/R/library/base'</li>\n",
       "</ol>\n"
      ],
      "text/latex": [
       "\\begin{enumerate*}\n",
       "\\item '.GlobalEnv'\n",
       "\\item 'C:/Users/peterthor/Documents/R/win-library/3.4/bindrcpp'\n",
       "\\item 'C:/Users/peterthor/Documents/R/win-library/3.4/dplyr'\n",
       "\\item 'jupyter:irkernel'\n",
       "\\item 'C:/Users/peterthor/Anaconda3/Lib/R/library/RevoUtils'\n",
       "\\item 'C:/Users/peterthor/Anaconda3/Lib/R/library/stats'\n",
       "\\item 'C:/Users/peterthor/Anaconda3/Lib/R/library/graphics'\n",
       "\\item 'C:/Users/peterthor/Anaconda3/Lib/R/library/grDevices'\n",
       "\\item 'C:/Users/peterthor/Anaconda3/Lib/R/library/utils'\n",
       "\\item 'C:/Users/peterthor/Anaconda3/Lib/R/library/datasets'\n",
       "\\item 'C:/Users/peterthor/Anaconda3/Lib/R/library/RevoUtilsMath'\n",
       "\\item 'C:/Users/peterthor/Anaconda3/Lib/R/library/methods'\n",
       "\\item 'Autoloads'\n",
       "\\item 'C:/Users/peterthor/Anaconda3/lib/R/library/base'\n",
       "\\end{enumerate*}\n"
      ],
      "text/markdown": [
       "1. '.GlobalEnv'\n",
       "2. 'C:/Users/peterthor/Documents/R/win-library/3.4/bindrcpp'\n",
       "3. 'C:/Users/peterthor/Documents/R/win-library/3.4/dplyr'\n",
       "4. 'jupyter:irkernel'\n",
       "5. 'C:/Users/peterthor/Anaconda3/Lib/R/library/RevoUtils'\n",
       "6. 'C:/Users/peterthor/Anaconda3/Lib/R/library/stats'\n",
       "7. 'C:/Users/peterthor/Anaconda3/Lib/R/library/graphics'\n",
       "8. 'C:/Users/peterthor/Anaconda3/Lib/R/library/grDevices'\n",
       "9. 'C:/Users/peterthor/Anaconda3/Lib/R/library/utils'\n",
       "10. 'C:/Users/peterthor/Anaconda3/Lib/R/library/datasets'\n",
       "11. 'C:/Users/peterthor/Anaconda3/Lib/R/library/RevoUtilsMath'\n",
       "12. 'C:/Users/peterthor/Anaconda3/Lib/R/library/methods'\n",
       "13. 'Autoloads'\n",
       "14. 'C:/Users/peterthor/Anaconda3/lib/R/library/base'\n",
       "\n",
       "\n"
      ],
      "text/plain": [
       " [1] \".GlobalEnv\"                                              \n",
       " [2] \"C:/Users/peterthor/Documents/R/win-library/3.4/bindrcpp\" \n",
       " [3] \"C:/Users/peterthor/Documents/R/win-library/3.4/dplyr\"    \n",
       " [4] \"jupyter:irkernel\"                                        \n",
       " [5] \"C:/Users/peterthor/Anaconda3/Lib/R/library/RevoUtils\"    \n",
       " [6] \"C:/Users/peterthor/Anaconda3/Lib/R/library/stats\"        \n",
       " [7] \"C:/Users/peterthor/Anaconda3/Lib/R/library/graphics\"     \n",
       " [8] \"C:/Users/peterthor/Anaconda3/Lib/R/library/grDevices\"    \n",
       " [9] \"C:/Users/peterthor/Anaconda3/Lib/R/library/utils\"        \n",
       "[10] \"C:/Users/peterthor/Anaconda3/Lib/R/library/datasets\"     \n",
       "[11] \"C:/Users/peterthor/Anaconda3/Lib/R/library/RevoUtilsMath\"\n",
       "[12] \"C:/Users/peterthor/Anaconda3/Lib/R/library/methods\"      \n",
       "[13] \"Autoloads\"                                               \n",
       "[14] \"C:/Users/peterthor/Anaconda3/lib/R/library/base\"         "
      ]
     },
     "metadata": {},
     "output_type": "display_data"
    }
   ],
   "source": [
    "searchpaths()"
   ]
  },
  {
   "cell_type": "markdown",
   "metadata": {},
   "source": [
    "## Handling Large Data Sets in R with the data.table Package"
   ]
  },
  {
   "cell_type": "code",
   "execution_count": 106,
   "metadata": {},
   "outputs": [
    {
     "name": "stderr",
     "output_type": "stream",
     "text": [
      "Installing package into 'C:/Users/peterthor/Documents/R/win-library/3.4'\n",
      "(as 'lib' is unspecified)\n"
     ]
    },
    {
     "name": "stdout",
     "output_type": "stream",
     "text": [
      "package 'data.table' successfully unpacked and MD5 sums checked\n",
      "\n",
      "The downloaded binary packages are in\n",
      "\tC:\\Users\\peterthor\\AppData\\Local\\Temp\\RtmpI7lxRv\\downloaded_packages\n"
     ]
    },
    {
     "name": "stderr",
     "output_type": "stream",
     "text": [
      "Warning message:\n",
      "\"package 'data.table' was built under R version 3.4.4\"\n",
      "Attaching package: 'data.table'\n",
      "\n",
      "The following objects are masked from 'package:dplyr':\n",
      "\n",
      "    between, first, last\n",
      "\n"
     ]
    }
   ],
   "source": [
    "install.packages(\"data.table\", repos = \"http://cran.us.r-project.org\")\n",
    "library(data.table)\n",
    "\n",
    "# ???"
   ]
  },
  {
   "cell_type": "markdown",
   "metadata": {},
   "source": [
    "## Data Visualization in R\n",
    "\n",
    "- barplot()\n",
    "- hist()\n",
    "- pie()"
   ]
  },
  {
   "cell_type": "code",
   "execution_count": 107,
   "metadata": {},
   "outputs": [
    {
     "data": {
      "image/png": "[encoded data removed]",
      "text/plain": [
       "plot without title"
      ]
     },
     "metadata": {},
     "output_type": "display_data"
    },
    {
     "data": {
      "image/png": "[encoded data removed]",
      "text/plain": [
       "plot without title"
      ]
     },
     "metadata": {},
     "output_type": "display_data"
    }
   ],
   "source": [
    "barplot(1:3)\n",
    "barplot(1:3, horiz=TRUE)"
   ]
  },
  {
   "cell_type": "markdown",
   "metadata": {},
   "source": [
    "## Using barplot() with Matrices Example"
   ]
  },
  {
   "cell_type": "code",
   "execution_count": 108,
   "metadata": {},
   "outputs": [
    {
     "name": "stdout",
     "output_type": "stream",
     "text": [
      "     [,1] [,2] [,3]\n",
      "[1,]    1    5    9\n",
      "[2,]    2    6   10\n",
      "[3,]    3    7   11\n",
      "[4,]    4    8   12\n"
     ]
    },
    {
     "data": {
      "image/png": "[encoded data removed]",
      "text/plain": [
       "plot without title"
      ]
     },
     "metadata": {},
     "output_type": "display_data"
    },
    {
     "data": {
      "image/png": "[encoded data removed]",
      "text/plain": [
       "plot without title"
      ]
     },
     "metadata": {},
     "output_type": "display_data"
    }
   ],
   "source": [
    "m <- matrix(1:12, 4, 3)\n",
    "print(m)\n",
    "barplot(m)              # stacked\n",
    "barplot(m, beside=TRUE) # juxtaposed"
   ]
  },
  {
   "cell_type": "markdown",
   "metadata": {},
   "source": [
    "## Customizing Plots"
   ]
  },
  {
   "cell_type": "code",
   "execution_count": 109,
   "metadata": {},
   "outputs": [
    {
     "data": {
      "image/png": "[encoded data removed]",
      "text/plain": [
       "plot without title"
      ]
     },
     "metadata": {},
     "output_type": "display_data"
    }
   ],
   "source": [
    "m <- matrix(1:12, 4, 3)\n",
    "barplot(m, col=c(\"blue\", \"green\", \"red\", \"yellow\"))"
   ]
  },
  {
   "cell_type": "code",
   "execution_count": 110,
   "metadata": {},
   "outputs": [
    {
     "data": {
      "image/png": "[encoded data removed]",
      "text/plain": [
       "Plot with title \"Cool Looking Data\""
      ]
     },
     "metadata": {},
     "output_type": "display_data"
    }
   ],
   "source": [
    "m <- matrix(1:12, 4, 3)\n",
    "barplot(m, main=\"Cool Looking Data\")"
   ]
  },
  {
   "cell_type": "code",
   "execution_count": 111,
   "metadata": {},
   "outputs": [
    {
     "data": {
      "image/png": "[encoded data removed]",
      "text/plain": [
       "plot without title"
      ]
     },
     "metadata": {},
     "output_type": "display_data"
    }
   ],
   "source": [
    "m <- matrix(1:12, 4, 3)\n",
    "barplot(m, xlab=\"Size of Widget\", ylab=\"Weight of Widget\")"
   ]
  },
  {
   "cell_type": "code",
   "execution_count": 112,
   "metadata": {},
   "outputs": [
    {
     "data": {
      "image/png": "[encoded data removed]",
      "text/plain": [
       "plot without title"
      ]
     },
     "metadata": {},
     "output_type": "display_data"
    }
   ],
   "source": [
    "m <- matrix(1:12, 4, 3)\n",
    "barplot(m, names.arg=c(\"First\", \"Second\", \"Third\"))"
   ]
  },
  {
   "cell_type": "markdown",
   "metadata": {},
   "source": [
    "## Histograms in R"
   ]
  },
  {
   "cell_type": "code",
   "execution_count": 113,
   "metadata": {},
   "outputs": [
    {
     "data": {
      "image/png": "[encoded data removed]",
      "text/plain": [
       "Plot with title \"Histogram of mtcars$wt\""
      ]
     },
     "metadata": {},
     "output_type": "display_data"
    }
   ],
   "source": [
    "hist(mtcars$wt, breaks=5, col=\"gray\", freq=FALSE)"
   ]
  },
  {
   "cell_type": "markdown",
   "metadata": {},
   "source": [
    "## Pie Charts in R"
   ]
  },
  {
   "cell_type": "code",
   "execution_count": 114,
   "metadata": {},
   "outputs": [
    {
     "data": {
      "image/png": "[encoded data removed]",
      "text/plain": [
       "plot without title"
      ]
     },
     "metadata": {},
     "output_type": "display_data"
    }
   ],
   "source": [
    "pie(c(10, 23, 40, 80), c(\"Germany\", \"France\", \"India\", \"Iceland\"))"
   ]
  },
  {
   "cell_type": "markdown",
   "metadata": {},
   "source": [
    "## Generic X-Y Plotting"
   ]
  },
  {
   "cell_type": "code",
   "execution_count": 115,
   "metadata": {},
   "outputs": [
    {
     "data": {
      "image/png": "[encoded data removed]",
      "text/plain": [
       "plot without title"
      ]
     },
     "metadata": {},
     "output_type": "display_data"
    }
   ],
   "source": [
    "plot(c(1, 2, 3, 4, 5), c(10, 20, 30, 15, 30), type='l')"
   ]
  },
  {
   "cell_type": "markdown",
   "metadata": {},
   "source": [
    "## Dot Plots in R"
   ]
  },
  {
   "cell_type": "code",
   "execution_count": 116,
   "metadata": {},
   "outputs": [
    {
     "data": {
      "image/png": "[encoded data removed]",
      "text/plain": [
       "plot without title"
      ]
     },
     "metadata": {},
     "output_type": "display_data"
    }
   ],
   "source": [
    "dotchart(1:3, c(\"Step 1\", \"Step 2\", \"Step 3\"))"
   ]
  },
  {
   "cell_type": "markdown",
   "metadata": {},
   "source": [
    "## Data Visualization Packages\n",
    "\n",
    "- graphics\n",
    "- lattice\n",
    "- ggplot2"
   ]
  },
  {
   "cell_type": "code",
   "execution_count": null,
   "metadata": {},
   "outputs": [],
   "source": []
  }
 ],
 "metadata": {
  "kernelspec": {
   "display_name": "R",
   "language": "R",
   "name": "ir"
  },
  "language_info": {
   "codemirror_mode": "r",
   "file_extension": ".r",
   "mimetype": "text/x-r-source",
   "name": "R",
   "pygments_lexer": "r",
   "version": "3.4.3"
  }
 },
 "nbformat": 4,
 "nbformat_minor": 2
}
