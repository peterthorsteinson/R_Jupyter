{
 "cells": [
  {
   "cell_type": "markdown",
   "metadata": {},
   "source": [
    "# 00 WA2711 R Programming from the Ground Up Training\n",
    "\n",
    "See: https://ramnathv.github.io/pycon2014-r/learn/controls.html"
   ]
  },
  {
   "cell_type": "markdown",
   "metadata": {},
   "source": [
    "## Getting Help"
   ]
  },
  {
   "cell_type": "code",
   "execution_count": 4,
   "metadata": {},
   "outputs": [],
   "source": [
    "help()"
   ]
  },
  {
   "cell_type": "code",
   "execution_count": 5,
   "metadata": {},
   "outputs": [],
   "source": [
    "?sink"
   ]
  },
  {
   "cell_type": "code",
   "execution_count": 6,
   "metadata": {},
   "outputs": [],
   "source": [
    "help(sin)"
   ]
  },
  {
   "cell_type": "code",
   "execution_count": 7,
   "metadata": {},
   "outputs": [],
   "source": [
    "help('library')"
   ]
  },
  {
   "cell_type": "code",
   "execution_count": 8,
   "metadata": {},
   "outputs": [],
   "source": [
    "help(\"data.frame\")"
   ]
  },
  {
   "cell_type": "markdown",
   "metadata": {
    "collapsed": true
   },
   "source": [
    "## General Notes on R Commands and Statements\n",
    "- comment: ```#```\n",
    "- case sensitive\n",
    "- dynamically typed\n",
    "- statement seperator: semi-colon or newline"
   ]
  },
  {
   "cell_type": "markdown",
   "metadata": {},
   "source": [
    "## Assignment Operators\n",
    "- ```<-```\n",
    "- ```->```\n",
    "- ```=```\n",
    "- ```assign()```"
   ]
  },
  {
   "cell_type": "code",
   "execution_count": 9,
   "metadata": {},
   "outputs": [
    {
     "data": {
      "text/html": [
       "1"
      ],
      "text/latex": [
       "1"
      ],
      "text/markdown": [
       "1"
      ],
      "text/plain": [
       "[1] 1"
      ]
     },
     "metadata": {},
     "output_type": "display_data"
    },
    {
     "data": {
      "text/html": [
       "2"
      ],
      "text/latex": [
       "2"
      ],
      "text/markdown": [
       "2"
      ],
      "text/plain": [
       "[1] 2"
      ]
     },
     "metadata": {},
     "output_type": "display_data"
    },
    {
     "data": {
      "text/html": [
       "3"
      ],
      "text/latex": [
       "3"
      ],
      "text/markdown": [
       "3"
      ],
      "text/plain": [
       "[1] 3"
      ]
     },
     "metadata": {},
     "output_type": "display_data"
    },
    {
     "data": {
      "text/html": [
       "4"
      ],
      "text/latex": [
       "4"
      ],
      "text/markdown": [
       "4"
      ],
      "text/plain": [
       "[1] 4"
      ]
     },
     "metadata": {},
     "output_type": "display_data"
    }
   ],
   "source": [
    "a = 1\n",
    "b <- 2\n",
    "3 -> c\n",
    "assign('d', 4) # assignment as a function call\n",
    "a\n",
    "b\n",
    "c\n",
    "d"
   ]
  },
  {
   "cell_type": "code",
   "execution_count": 10,
   "metadata": {},
   "outputs": [
    {
     "data": {
      "text/html": [
       "'a'"
      ],
      "text/latex": [
       "'a'"
      ],
      "text/markdown": [
       "'a'"
      ],
      "text/plain": [
       "[1] \"a\""
      ]
     },
     "metadata": {},
     "output_type": "display_data"
    },
    {
     "data": {
      "text/html": [
       "'b'"
      ],
      "text/latex": [
       "'b'"
      ],
      "text/markdown": [
       "'b'"
      ],
      "text/plain": [
       "[1] \"b\""
      ]
     },
     "metadata": {},
     "output_type": "display_data"
    }
   ],
   "source": [
    "# literal string: single or double quotes\n",
    "a <- 'a'\n",
    "b <- \"b\"\n",
    "a\n",
    "b"
   ]
  },
  {
   "cell_type": "markdown",
   "metadata": {},
   "source": [
    "## R Scalar Data Types\n",
    "- numeric (double)\n",
    "- integer\n",
    "- complex\n",
    "- logical\n",
    "- character\n",
    "- function (closure)\n",
    "- factor\n",
    "\n",
    "## Type functions\n",
    "- *class()* - kind of object (high-level)\n",
    "- *typeof()* - object data type (low-level)"
   ]
  },
  {
   "cell_type": "code",
   "execution_count": 11,
   "metadata": {},
   "outputs": [
    {
     "data": {
      "text/html": [
       "'numeric'"
      ],
      "text/latex": [
       "'numeric'"
      ],
      "text/markdown": [
       "'numeric'"
      ],
      "text/plain": [
       "[1] \"numeric\""
      ]
     },
     "metadata": {},
     "output_type": "display_data"
    },
    {
     "data": {
      "text/html": [
       "'numeric'"
      ],
      "text/latex": [
       "'numeric'"
      ],
      "text/markdown": [
       "'numeric'"
      ],
      "text/plain": [
       "[1] \"numeric\""
      ]
     },
     "metadata": {},
     "output_type": "display_data"
    },
    {
     "data": {
      "text/html": [
       "'double'"
      ],
      "text/latex": [
       "'double'"
      ],
      "text/markdown": [
       "'double'"
      ],
      "text/plain": [
       "[1] \"double\""
      ]
     },
     "metadata": {},
     "output_type": "display_data"
    },
    {
     "data": {
      "text/html": [
       "'integer'"
      ],
      "text/latex": [
       "'integer'"
      ],
      "text/markdown": [
       "'integer'"
      ],
      "text/plain": [
       "[1] \"integer\""
      ]
     },
     "metadata": {},
     "output_type": "display_data"
    },
    {
     "data": {
      "text/html": [
       "'integer'"
      ],
      "text/latex": [
       "'integer'"
      ],
      "text/markdown": [
       "'integer'"
      ],
      "text/plain": [
       "[1] \"integer\""
      ]
     },
     "metadata": {},
     "output_type": "display_data"
    },
    {
     "data": {
      "text/html": [
       "'complex'"
      ],
      "text/latex": [
       "'complex'"
      ],
      "text/markdown": [
       "'complex'"
      ],
      "text/plain": [
       "[1] \"complex\""
      ]
     },
     "metadata": {},
     "output_type": "display_data"
    },
    {
     "data": {
      "text/html": [
       "'complex'"
      ],
      "text/latex": [
       "'complex'"
      ],
      "text/markdown": [
       "'complex'"
      ],
      "text/plain": [
       "[1] \"complex\""
      ]
     },
     "metadata": {},
     "output_type": "display_data"
    },
    {
     "data": {
      "text/html": [
       "'logical'"
      ],
      "text/latex": [
       "'logical'"
      ],
      "text/markdown": [
       "'logical'"
      ],
      "text/plain": [
       "[1] \"logical\""
      ]
     },
     "metadata": {},
     "output_type": "display_data"
    },
    {
     "data": {
      "text/html": [
       "'logical'"
      ],
      "text/latex": [
       "'logical'"
      ],
      "text/markdown": [
       "'logical'"
      ],
      "text/plain": [
       "[1] \"logical\""
      ]
     },
     "metadata": {},
     "output_type": "display_data"
    },
    {
     "data": {
      "text/html": [
       "'logical'"
      ],
      "text/latex": [
       "'logical'"
      ],
      "text/markdown": [
       "'logical'"
      ],
      "text/plain": [
       "[1] \"logical\""
      ]
     },
     "metadata": {},
     "output_type": "display_data"
    },
    {
     "data": {
      "text/html": [
       "'logical'"
      ],
      "text/latex": [
       "'logical'"
      ],
      "text/markdown": [
       "'logical'"
      ],
      "text/plain": [
       "[1] \"logical\""
      ]
     },
     "metadata": {},
     "output_type": "display_data"
    },
    {
     "data": {
      "text/html": [
       "'character'"
      ],
      "text/latex": [
       "'character'"
      ],
      "text/markdown": [
       "'character'"
      ],
      "text/plain": [
       "[1] \"character\""
      ]
     },
     "metadata": {},
     "output_type": "display_data"
    },
    {
     "data": {
      "text/html": [
       "'character'"
      ],
      "text/latex": [
       "'character'"
      ],
      "text/markdown": [
       "'character'"
      ],
      "text/plain": [
       "[1] \"character\""
      ]
     },
     "metadata": {},
     "output_type": "display_data"
    },
    {
     "data": {
      "text/html": [
       "'character'"
      ],
      "text/latex": [
       "'character'"
      ],
      "text/markdown": [
       "'character'"
      ],
      "text/plain": [
       "[1] \"character\""
      ]
     },
     "metadata": {},
     "output_type": "display_data"
    },
    {
     "data": {
      "text/html": [
       "'character'"
      ],
      "text/latex": [
       "'character'"
      ],
      "text/markdown": [
       "'character'"
      ],
      "text/plain": [
       "[1] \"character\""
      ]
     },
     "metadata": {},
     "output_type": "display_data"
    },
    {
     "data": {
      "text/html": [
       "'function'"
      ],
      "text/latex": [
       "'function'"
      ],
      "text/markdown": [
       "'function'"
      ],
      "text/plain": [
       "[1] \"function\""
      ]
     },
     "metadata": {},
     "output_type": "display_data"
    },
    {
     "data": {
      "text/html": [
       "'closure'"
      ],
      "text/latex": [
       "'closure'"
      ],
      "text/markdown": [
       "'closure'"
      ],
      "text/plain": [
       "[1] \"closure\""
      ]
     },
     "metadata": {},
     "output_type": "display_data"
    },
    {
     "data": {
      "text/html": [
       "<ol class=list-inline>\n",
       "\t<li>1</li>\n",
       "\t<li>2</li>\n",
       "\t<li>2</li>\n",
       "\t<li>3</li>\n",
       "\t<li>1</li>\n",
       "\t<li>2</li>\n",
       "\t<li>3</li>\n",
       "\t<li>3</li>\n",
       "\t<li>1</li>\n",
       "\t<li>2</li>\n",
       "\t<li>3</li>\n",
       "\t<li>3</li>\n",
       "\t<li>1</li>\n",
       "</ol>\n"
      ],
      "text/latex": [
       "\\begin{enumerate*}\n",
       "\\item 1\n",
       "\\item 2\n",
       "\\item 2\n",
       "\\item 3\n",
       "\\item 1\n",
       "\\item 2\n",
       "\\item 3\n",
       "\\item 3\n",
       "\\item 1\n",
       "\\item 2\n",
       "\\item 3\n",
       "\\item 3\n",
       "\\item 1\n",
       "\\end{enumerate*}\n"
      ],
      "text/markdown": [
       "1. 1\n",
       "2. 2\n",
       "3. 2\n",
       "4. 3\n",
       "5. 1\n",
       "6. 2\n",
       "7. 3\n",
       "8. 3\n",
       "9. 1\n",
       "10. 2\n",
       "11. 3\n",
       "12. 3\n",
       "13. 1\n",
       "\n",
       "\n"
      ],
      "text/plain": [
       " [1] 1 2 2 3 1 2 3 3 1 2 3 3 1"
      ]
     },
     "metadata": {},
     "output_type": "display_data"
    },
    {
     "data": {
      "text/html": [
       "<ol class=list-inline>\n",
       "\t<li>'1'</li>\n",
       "\t<li>'2'</li>\n",
       "\t<li>'3'</li>\n",
       "</ol>\n"
      ],
      "text/latex": [
       "\\begin{enumerate*}\n",
       "\\item '1'\n",
       "\\item '2'\n",
       "\\item '3'\n",
       "\\end{enumerate*}\n"
      ],
      "text/markdown": [
       "1. '1'\n",
       "2. '2'\n",
       "3. '3'\n",
       "\n",
       "\n"
      ],
      "text/plain": [
       "[1] \"1\" \"2\" \"3\""
      ]
     },
     "metadata": {},
     "output_type": "display_data"
    }
   ],
   "source": [
    "x <- 3.141592\n",
    "class(x)    # numeric\n",
    "x <- 42\n",
    "class(x)    # numeric\n",
    "typeof(x)   # double\n",
    "x <- 42L\n",
    "class(x)    # integer\n",
    "typeof(x)   # integer\n",
    "x <- 3+4i\n",
    "class(x)    # complex\n",
    "typeof(x)   # complex\n",
    "x <- TRUE\n",
    "class(x)    # logical\n",
    "typeof(x)   # logical\n",
    "x <- F\n",
    "class(x)    # logical\n",
    "typeof(x)   # logical\n",
    "x <- 'Hello'\n",
    "class(x)    # character\n",
    "typeof(x)   # character\n",
    "x <- \"Bye\"\n",
    "class(x)    # character\n",
    "typeof(x)   # character\n",
    "fun <- function (){}\n",
    "class(fun)  # function\n",
    "typeof(fun) # closure\n",
    "\n",
    "v = c(1,2,2,3,1,2,3,3,1,2,3,3,1)\n",
    "v         # 1 2 2 3 1 2 3 3 1 2 3 3 1\n",
    "f = factor(v)\n",
    "levels(f) # '1' '2' '3'"
   ]
  },
  {
   "cell_type": "markdown",
   "metadata": {},
   "source": [
    "## Special Values"
   ]
  },
  {
   "cell_type": "code",
   "execution_count": 12,
   "metadata": {},
   "outputs": [
    {
     "data": {
      "text/html": [
       "&lt;NA&gt;"
      ],
      "text/latex": [
       "<NA>"
      ],
      "text/markdown": [
       "&lt;NA&gt;"
      ],
      "text/plain": [
       "[1] NA"
      ]
     },
     "metadata": {},
     "output_type": "display_data"
    },
    {
     "data": {
      "text/html": [
       "Inf"
      ],
      "text/latex": [
       "Inf"
      ],
      "text/markdown": [
       "Inf"
      ],
      "text/plain": [
       "[1] Inf"
      ]
     },
     "metadata": {},
     "output_type": "display_data"
    },
    {
     "data": {
      "text/html": [
       "NaN"
      ],
      "text/latex": [
       "NaN"
      ],
      "text/markdown": [
       "NaN"
      ],
      "text/plain": [
       "[1] NaN"
      ]
     },
     "metadata": {},
     "output_type": "display_data"
    }
   ],
   "source": [
    "NA  # <NA>\n",
    "\n",
    "1/0 # Inf\n",
    "\n",
    "0/0 # NaN"
   ]
  },
  {
   "cell_type": "markdown",
   "metadata": {},
   "source": [
    "## R Collection Data Types\n",
    "\n",
    "- *vector*: ordered 1-dimentional collection of elements of homogenous type (restricted to a single mode)\n",
    "- *matrix*: ordered 2-dimentional collection of elements of homogenous type (restricted to a single mode)\n",
    "- *array*:  ordered higher-dimentional collection of elements of homogenous type (restricted to a single mode)\n",
    "- *list*:   ordered 1-dimentional collection of elements of heterogenous type (not restricted to a single mode)\n",
    "- *data frame*: similar to table in relational database (de facto data structure for tabular data and statistics)\n",
    "\n",
    "*NOTE*: ordered collections are indexed starting at 1, not 0"
   ]
  },
  {
   "cell_type": "code",
   "execution_count": 13,
   "metadata": {},
   "outputs": [
    {
     "data": {
      "text/html": [
       "<ol class=list-inline>\n",
       "\t<li>1</li>\n",
       "\t<li>2</li>\n",
       "\t<li>3</li>\n",
       "</ol>\n"
      ],
      "text/latex": [
       "\\begin{enumerate*}\n",
       "\\item 1\n",
       "\\item 2\n",
       "\\item 3\n",
       "\\end{enumerate*}\n"
      ],
      "text/markdown": [
       "1. 1\n",
       "2. 2\n",
       "3. 3\n",
       "\n",
       "\n"
      ],
      "text/plain": [
       "[1] 1 2 3"
      ]
     },
     "metadata": {},
     "output_type": "display_data"
    },
    {
     "data": {
      "text/html": [
       "3"
      ],
      "text/latex": [
       "3"
      ],
      "text/markdown": [
       "3"
      ],
      "text/plain": [
       "[1] 3"
      ]
     },
     "metadata": {},
     "output_type": "display_data"
    },
    {
     "data": {
      "text/html": [
       "'numeric'"
      ],
      "text/latex": [
       "'numeric'"
      ],
      "text/markdown": [
       "'numeric'"
      ],
      "text/plain": [
       "[1] \"numeric\""
      ]
     },
     "metadata": {},
     "output_type": "display_data"
    },
    {
     "data": {
      "text/html": [
       "'double'"
      ],
      "text/latex": [
       "'double'"
      ],
      "text/markdown": [
       "'double'"
      ],
      "text/plain": [
       "[1] \"double\""
      ]
     },
     "metadata": {},
     "output_type": "display_data"
    },
    {
     "data": {
      "text/html": [
       "<ol class=list-inline>\n",
       "\t<li>'1'</li>\n",
       "\t<li>'hello'</li>\n",
       "\t<li>'3'</li>\n",
       "</ol>\n"
      ],
      "text/latex": [
       "\\begin{enumerate*}\n",
       "\\item '1'\n",
       "\\item 'hello'\n",
       "\\item '3'\n",
       "\\end{enumerate*}\n"
      ],
      "text/markdown": [
       "1. '1'\n",
       "2. 'hello'\n",
       "3. '3'\n",
       "\n",
       "\n"
      ],
      "text/plain": [
       "[1] \"1\"     \"hello\" \"3\"    "
      ]
     },
     "metadata": {},
     "output_type": "display_data"
    },
    {
     "data": {
      "text/html": [
       "'character'"
      ],
      "text/latex": [
       "'character'"
      ],
      "text/markdown": [
       "'character'"
      ],
      "text/plain": [
       "[1] \"character\""
      ]
     },
     "metadata": {},
     "output_type": "display_data"
    },
    {
     "data": {
      "text/html": [
       "'character'"
      ],
      "text/latex": [
       "'character'"
      ],
      "text/markdown": [
       "'character'"
      ],
      "text/plain": [
       "[1] \"character\""
      ]
     },
     "metadata": {},
     "output_type": "display_data"
    },
    {
     "data": {
      "text/html": [
       "<ol class=list-inline>\n",
       "\t<li>0</li>\n",
       "\t<li>1</li>\n",
       "\t<li>0</li>\n",
       "\t<li>3</li>\n",
       "\t<li>&lt;NA&gt;</li>\n",
       "</ol>\n"
      ],
      "text/latex": [
       "\\begin{enumerate*}\n",
       "\\item 0\n",
       "\\item 1\n",
       "\\item 0\n",
       "\\item 3\n",
       "\\item <NA>\n",
       "\\end{enumerate*}\n"
      ],
      "text/markdown": [
       "1. 0\n",
       "2. 1\n",
       "3. 0\n",
       "4. 3\n",
       "5. &lt;NA&gt;\n",
       "\n",
       "\n"
      ],
      "text/plain": [
       "[1]  0  1  0  3 NA"
      ]
     },
     "metadata": {},
     "output_type": "display_data"
    },
    {
     "data": {
      "text/html": [
       "'numeric'"
      ],
      "text/latex": [
       "'numeric'"
      ],
      "text/markdown": [
       "'numeric'"
      ],
      "text/plain": [
       "[1] \"numeric\""
      ]
     },
     "metadata": {},
     "output_type": "display_data"
    },
    {
     "data": {
      "text/html": [
       "'double'"
      ],
      "text/latex": [
       "'double'"
      ],
      "text/markdown": [
       "'double'"
      ],
      "text/plain": [
       "[1] \"double\""
      ]
     },
     "metadata": {},
     "output_type": "display_data"
    },
    {
     "data": {
      "text/html": [
       "<ol class=list-inline>\n",
       "\t<li>1</li>\n",
       "\t<li>2</li>\n",
       "\t<li>3</li>\n",
       "\t<li>4</li>\n",
       "\t<li>5</li>\n",
       "\t<li>6</li>\n",
       "\t<li>7</li>\n",
       "\t<li>8</li>\n",
       "\t<li>9</li>\n",
       "\t<li>10</li>\n",
       "</ol>\n"
      ],
      "text/latex": [
       "\\begin{enumerate*}\n",
       "\\item 1\n",
       "\\item 2\n",
       "\\item 3\n",
       "\\item 4\n",
       "\\item 5\n",
       "\\item 6\n",
       "\\item 7\n",
       "\\item 8\n",
       "\\item 9\n",
       "\\item 10\n",
       "\\end{enumerate*}\n"
      ],
      "text/markdown": [
       "1. 1\n",
       "2. 2\n",
       "3. 3\n",
       "4. 4\n",
       "5. 5\n",
       "6. 6\n",
       "7. 7\n",
       "8. 8\n",
       "9. 9\n",
       "10. 10\n",
       "\n",
       "\n"
      ],
      "text/plain": [
       " [1]  1  2  3  4  5  6  7  8  9 10"
      ]
     },
     "metadata": {},
     "output_type": "display_data"
    },
    {
     "data": {
      "text/html": [
       "'integer'"
      ],
      "text/latex": [
       "'integer'"
      ],
      "text/markdown": [
       "'integer'"
      ],
      "text/plain": [
       "[1] \"integer\""
      ]
     },
     "metadata": {},
     "output_type": "display_data"
    },
    {
     "data": {
      "text/html": [
       "'integer'"
      ],
      "text/latex": [
       "'integer'"
      ],
      "text/markdown": [
       "'integer'"
      ],
      "text/plain": [
       "[1] \"integer\""
      ]
     },
     "metadata": {},
     "output_type": "display_data"
    },
    {
     "data": {
      "text/html": [
       "'numeric'"
      ],
      "text/latex": [
       "'numeric'"
      ],
      "text/markdown": [
       "'numeric'"
      ],
      "text/plain": [
       "[1] \"numeric\""
      ]
     },
     "metadata": {},
     "output_type": "display_data"
    },
    {
     "data": {
      "text/html": [
       "'double'"
      ],
      "text/latex": [
       "'double'"
      ],
      "text/markdown": [
       "'double'"
      ],
      "text/plain": [
       "[1] \"double\""
      ]
     },
     "metadata": {},
     "output_type": "display_data"
    },
    {
     "data": {
      "text/html": [
       "<ol class=list-inline>\n",
       "\t<li>FALSE</li>\n",
       "\t<li>TRUE</li>\n",
       "\t<li>FALSE</li>\n",
       "\t<li>FALSE</li>\n",
       "\t<li>TRUE</li>\n",
       "</ol>\n"
      ],
      "text/latex": [
       "\\begin{enumerate*}\n",
       "\\item FALSE\n",
       "\\item TRUE\n",
       "\\item FALSE\n",
       "\\item FALSE\n",
       "\\item TRUE\n",
       "\\end{enumerate*}\n"
      ],
      "text/markdown": [
       "1. FALSE\n",
       "2. TRUE\n",
       "3. FALSE\n",
       "4. FALSE\n",
       "5. TRUE\n",
       "\n",
       "\n"
      ],
      "text/plain": [
       "[1] FALSE  TRUE FALSE FALSE  TRUE"
      ]
     },
     "metadata": {},
     "output_type": "display_data"
    },
    {
     "data": {
      "text/html": [
       "10"
      ],
      "text/latex": [
       "10"
      ],
      "text/markdown": [
       "10"
      ],
      "text/plain": [
       "[1] 10"
      ]
     },
     "metadata": {},
     "output_type": "display_data"
    },
    {
     "data": {
      "text/html": [
       "12"
      ],
      "text/latex": [
       "12"
      ],
      "text/markdown": [
       "12"
      ],
      "text/plain": [
       "[1] 12"
      ]
     },
     "metadata": {},
     "output_type": "display_data"
    },
    {
     "data": {
      "text/plain": [
       "NULL"
      ]
     },
     "metadata": {},
     "output_type": "display_data"
    },
    {
     "data": {
      "text/html": [
       "<ol class=list-inline>\n",
       "\t<li>-1</li>\n",
       "\t<li>-1</li>\n",
       "\t<li>-1</li>\n",
       "\t<li>-1</li>\n",
       "\t<li>-1</li>\n",
       "\t<li>-1</li>\n",
       "\t<li>-1</li>\n",
       "\t<li>-1</li>\n",
       "\t<li>-1</li>\n",
       "\t<li>-1</li>\n",
       "</ol>\n"
      ],
      "text/latex": [
       "\\begin{enumerate*}\n",
       "\\item -1\n",
       "\\item -1\n",
       "\\item -1\n",
       "\\item -1\n",
       "\\item -1\n",
       "\\item -1\n",
       "\\item -1\n",
       "\\item -1\n",
       "\\item -1\n",
       "\\item -1\n",
       "\\end{enumerate*}\n"
      ],
      "text/markdown": [
       "1. -1\n",
       "2. -1\n",
       "3. -1\n",
       "4. -1\n",
       "5. -1\n",
       "6. -1\n",
       "7. -1\n",
       "8. -1\n",
       "9. -1\n",
       "10. -1\n",
       "\n",
       "\n"
      ],
      "text/plain": [
       " [1] -1 -1 -1 -1 -1 -1 -1 -1 -1 -1"
      ]
     },
     "metadata": {},
     "output_type": "display_data"
    }
   ],
   "source": [
    "v <- c(1, 2, 3)\n",
    "v\n",
    "length(v)\n",
    "class(v)  # numeric\n",
    "typeof(v) # double\n",
    "\n",
    "v <- c(1, \"hello\", 3)      # coercion to character\n",
    "v\n",
    "class(v)  # character\n",
    "typeof(v) # character\n",
    "\n",
    "v <- c(0, 1, FALSE, 3, NA) # coercion to numeric (double)\n",
    "v\n",
    "class(v)  # numeric\n",
    "typeof(v) # double\n",
    "\n",
    "v <- 1:10\n",
    "v\n",
    "class(v)  # integer\n",
    "typeof(v) # integer\n",
    "\n",
    "v <- seq(from = 1, to = 10, by = 0.1)\n",
    "class(v)  # numeric\n",
    "typeof(v) # double\n",
    "\n",
    "v <- c(\"a\", NA, \"c\", \"d\", NA)\n",
    "is.na(v) # FALSE TRUE FALSE FALSE TRUE\n",
    "\n",
    "length(1:10)          # 10\n",
    "nchar(\"Hello World!\") # 12\n",
    "dim(c(1,2,3))         # NULL\n",
    "\n",
    "rep(-1, 10)           # -1 -1 -1 -1 -1 -1 -1 -1 -1 -1"
   ]
  },
  {
   "cell_type": "code",
   "execution_count": 14,
   "metadata": {},
   "outputs": [
    {
     "data": {
      "text/html": [
       "<table>\n",
       "<tbody>\n",
       "\t<tr><td>NA</td><td>NA</td></tr>\n",
       "\t<tr><td>NA</td><td>NA</td></tr>\n",
       "</tbody>\n",
       "</table>\n"
      ],
      "text/latex": [
       "\\begin{tabular}{ll}\n",
       "\t NA & NA\\\\\n",
       "\t NA & NA\\\\\n",
       "\\end{tabular}\n"
      ],
      "text/markdown": [
       "\n",
       "| NA | NA | \n",
       "| NA | NA | \n",
       "\n",
       "\n"
      ],
      "text/plain": [
       "     [,1] [,2]\n",
       "[1,] NA   NA  \n",
       "[2,] NA   NA  "
      ]
     },
     "metadata": {},
     "output_type": "display_data"
    },
    {
     "data": {
      "text/html": [
       "<ol class=list-inline>\n",
       "\t<li>2</li>\n",
       "\t<li>2</li>\n",
       "</ol>\n"
      ],
      "text/latex": [
       "\\begin{enumerate*}\n",
       "\\item 2\n",
       "\\item 2\n",
       "\\end{enumerate*}\n"
      ],
      "text/markdown": [
       "1. 2\n",
       "2. 2\n",
       "\n",
       "\n"
      ],
      "text/plain": [
       "[1] 2 2"
      ]
     },
     "metadata": {},
     "output_type": "display_data"
    },
    {
     "data": {
      "text/html": [
       "<table>\n",
       "<tbody>\n",
       "\t<tr><td>1</td><td>3</td><td>5</td></tr>\n",
       "\t<tr><td>2</td><td>4</td><td>6</td></tr>\n",
       "</tbody>\n",
       "</table>\n"
      ],
      "text/latex": [
       "\\begin{tabular}{lll}\n",
       "\t 1 & 3 & 5\\\\\n",
       "\t 2 & 4 & 6\\\\\n",
       "\\end{tabular}\n"
      ],
      "text/markdown": [
       "\n",
       "| 1 | 3 | 5 | \n",
       "| 2 | 4 | 6 | \n",
       "\n",
       "\n"
      ],
      "text/plain": [
       "     [,1] [,2] [,3]\n",
       "[1,] 1    3    5   \n",
       "[2,] 2    4    6   "
      ]
     },
     "metadata": {},
     "output_type": "display_data"
    },
    {
     "data": {
      "text/html": [
       "<ol class=list-inline>\n",
       "\t<li>2</li>\n",
       "\t<li>3</li>\n",
       "</ol>\n"
      ],
      "text/latex": [
       "\\begin{enumerate*}\n",
       "\\item 2\n",
       "\\item 3\n",
       "\\end{enumerate*}\n"
      ],
      "text/markdown": [
       "1. 2\n",
       "2. 3\n",
       "\n",
       "\n"
      ],
      "text/plain": [
       "[1] 2 3"
      ]
     },
     "metadata": {},
     "output_type": "display_data"
    },
    {
     "data": {
      "text/html": [
       "<table>\n",
       "<tbody>\n",
       "\t<tr><td>1</td><td>4</td></tr>\n",
       "\t<tr><td>2</td><td>5</td></tr>\n",
       "\t<tr><td>3</td><td>6</td></tr>\n",
       "</tbody>\n",
       "</table>\n"
      ],
      "text/latex": [
       "\\begin{tabular}{ll}\n",
       "\t 1 & 4\\\\\n",
       "\t 2 & 5\\\\\n",
       "\t 3 & 6\\\\\n",
       "\\end{tabular}\n"
      ],
      "text/markdown": [
       "\n",
       "| 1 | 4 | \n",
       "| 2 | 5 | \n",
       "| 3 | 6 | \n",
       "\n",
       "\n"
      ],
      "text/plain": [
       "     [,1] [,2]\n",
       "[1,] 1    4   \n",
       "[2,] 2    5   \n",
       "[3,] 3    6   "
      ]
     },
     "metadata": {},
     "output_type": "display_data"
    },
    {
     "data": {
      "text/html": [
       "<ol class=list-inline>\n",
       "\t<li>3</li>\n",
       "\t<li>2</li>\n",
       "</ol>\n"
      ],
      "text/latex": [
       "\\begin{enumerate*}\n",
       "\\item 3\n",
       "\\item 2\n",
       "\\end{enumerate*}\n"
      ],
      "text/markdown": [
       "1. 3\n",
       "2. 2\n",
       "\n",
       "\n"
      ],
      "text/plain": [
       "[1] 3 2"
      ]
     },
     "metadata": {},
     "output_type": "display_data"
    },
    {
     "data": {
      "text/html": [
       "<table>\n",
       "<thead><tr><th scope=col>x</th><th scope=col>y</th></tr></thead>\n",
       "<tbody>\n",
       "\t<tr><td>1 </td><td>10</td></tr>\n",
       "\t<tr><td>2 </td><td>11</td></tr>\n",
       "\t<tr><td>3 </td><td>12</td></tr>\n",
       "</tbody>\n",
       "</table>\n"
      ],
      "text/latex": [
       "\\begin{tabular}{ll}\n",
       " x & y\\\\\n",
       "\\hline\n",
       "\t 1  & 10\\\\\n",
       "\t 2  & 11\\\\\n",
       "\t 3  & 12\\\\\n",
       "\\end{tabular}\n"
      ],
      "text/markdown": [
       "\n",
       "x | y | \n",
       "|---|---|---|\n",
       "| 1  | 10 | \n",
       "| 2  | 11 | \n",
       "| 3  | 12 | \n",
       "\n",
       "\n"
      ],
      "text/plain": [
       "     x y \n",
       "[1,] 1 10\n",
       "[2,] 2 11\n",
       "[3,] 3 12"
      ]
     },
     "metadata": {},
     "output_type": "display_data"
    },
    {
     "data": {
      "text/html": [
       "<table>\n",
       "<tbody>\n",
       "\t<tr><th scope=row>x</th><td> 1</td><td> 2</td><td> 3</td></tr>\n",
       "\t<tr><th scope=row>y</th><td>10</td><td>11</td><td>12</td></tr>\n",
       "</tbody>\n",
       "</table>\n"
      ],
      "text/latex": [
       "\\begin{tabular}{r|lll}\n",
       "\tx &  1 &  2 &  3\\\\\n",
       "\ty & 10 & 11 & 12\\\\\n",
       "\\end{tabular}\n"
      ],
      "text/markdown": [
       "\n",
       "| x |  1 |  2 |  3 | \n",
       "| y | 10 | 11 | 12 | \n",
       "\n",
       "\n"
      ],
      "text/plain": [
       "  [,1] [,2] [,3]\n",
       "x  1    2    3  \n",
       "y 10   11   12  "
      ]
     },
     "metadata": {},
     "output_type": "display_data"
    },
    {
     "data": {
      "text/html": [
       "<table>\n",
       "<tbody>\n",
       "\t<tr><td> 1</td><td> 2</td><td> 3</td></tr>\n",
       "\t<tr><td>11</td><td>12</td><td>13</td></tr>\n",
       "</tbody>\n",
       "</table>\n"
      ],
      "text/latex": [
       "\\begin{tabular}{lll}\n",
       "\t  1 &  2 &  3\\\\\n",
       "\t 11 & 12 & 13\\\\\n",
       "\\end{tabular}\n"
      ],
      "text/markdown": [
       "\n",
       "|  1 |  2 |  3 | \n",
       "| 11 | 12 | 13 | \n",
       "\n",
       "\n"
      ],
      "text/plain": [
       "     [,1] [,2] [,3]\n",
       "[1,]  1    2    3  \n",
       "[2,] 11   12   13  "
      ]
     },
     "metadata": {},
     "output_type": "display_data"
    }
   ],
   "source": [
    "m <- matrix(nrow = 2, ncol = 2)\n",
    "m\n",
    "dim(m) # 2 2\n",
    "\n",
    "m <- matrix(1:6, nrow = 2, ncol = 3)\n",
    "m\n",
    "dim(m) # 2 3\n",
    "dim(m) <- c(3, 2)\n",
    "m\n",
    "dim(m) # 3 2\n",
    "\n",
    "x <- 1:3\n",
    "y <- 10:12\n",
    "m <- cbind(x, y)\n",
    "m\n",
    "m <- rbind(x, y)\n",
    "m\n",
    "\n",
    "m <- matrix(c(1,2,3, 11,12,13), nrow = 2, ncol = 3, byrow = TRUE)\n",
    "m"
   ]
  },
  {
   "cell_type": "code",
   "execution_count": 15,
   "metadata": {},
   "outputs": [
    {
     "data": {
      "text/html": [
       "<ol class=list-inline>\n",
       "\t<li>3</li>\n",
       "\t<li>4</li>\n",
       "\t<li>2</li>\n",
       "</ol>\n"
      ],
      "text/latex": [
       "\\begin{enumerate*}\n",
       "\\item 3\n",
       "\\item 4\n",
       "\\item 2\n",
       "\\end{enumerate*}\n"
      ],
      "text/markdown": [
       "1. 3\n",
       "2. 4\n",
       "3. 2\n",
       "\n",
       "\n"
      ],
      "text/plain": [
       "[1] 3 4 2"
      ]
     },
     "metadata": {},
     "output_type": "display_data"
    },
    {
     "data": {
      "text/html": [
       "<ol class=list-inline>\n",
       "\t<li>1</li>\n",
       "\t<li>2</li>\n",
       "\t<li>3</li>\n",
       "\t<li>4</li>\n",
       "\t<li>5</li>\n",
       "\t<li>6</li>\n",
       "\t<li>7</li>\n",
       "\t<li>8</li>\n",
       "\t<li>9</li>\n",
       "\t<li>10</li>\n",
       "\t<li>11</li>\n",
       "\t<li>12</li>\n",
       "\t<li>13</li>\n",
       "\t<li>14</li>\n",
       "\t<li>15</li>\n",
       "\t<li>16</li>\n",
       "\t<li>17</li>\n",
       "\t<li>18</li>\n",
       "\t<li>19</li>\n",
       "\t<li>20</li>\n",
       "\t<li>21</li>\n",
       "\t<li>22</li>\n",
       "\t<li>23</li>\n",
       "\t<li>24</li>\n",
       "</ol>\n"
      ],
      "text/latex": [
       "\\begin{enumerate*}\n",
       "\\item 1\n",
       "\\item 2\n",
       "\\item 3\n",
       "\\item 4\n",
       "\\item 5\n",
       "\\item 6\n",
       "\\item 7\n",
       "\\item 8\n",
       "\\item 9\n",
       "\\item 10\n",
       "\\item 11\n",
       "\\item 12\n",
       "\\item 13\n",
       "\\item 14\n",
       "\\item 15\n",
       "\\item 16\n",
       "\\item 17\n",
       "\\item 18\n",
       "\\item 19\n",
       "\\item 20\n",
       "\\item 21\n",
       "\\item 22\n",
       "\\item 23\n",
       "\\item 24\n",
       "\\end{enumerate*}\n"
      ],
      "text/markdown": [
       "1. 1\n",
       "2. 2\n",
       "3. 3\n",
       "4. 4\n",
       "5. 5\n",
       "6. 6\n",
       "7. 7\n",
       "8. 8\n",
       "9. 9\n",
       "10. 10\n",
       "11. 11\n",
       "12. 12\n",
       "13. 13\n",
       "14. 14\n",
       "15. 15\n",
       "16. 16\n",
       "17. 17\n",
       "18. 18\n",
       "19. 19\n",
       "20. 20\n",
       "21. 21\n",
       "22. 22\n",
       "23. 23\n",
       "24. 24\n",
       "\n",
       "\n"
      ],
      "text/plain": [
       ", , 1\n",
       "\n",
       "     [,1] [,2] [,3] [,4]\n",
       "[1,]    1    4    7   10\n",
       "[2,]    2    5    8   11\n",
       "[3,]    3    6    9   12\n",
       "\n",
       ", , 2\n",
       "\n",
       "     [,1] [,2] [,3] [,4]\n",
       "[1,]   13   16   19   22\n",
       "[2,]   14   17   20   23\n",
       "[3,]   15   18   21   24\n"
      ]
     },
     "metadata": {},
     "output_type": "display_data"
    },
    {
     "name": "stdout",
     "output_type": "stream",
     "text": [
      ", , 1\n",
      "\n",
      "     [,1] [,2] [,3] [,4]\n",
      "[1,]    1    4    7   10\n",
      "[2,]    2    5    8   11\n",
      "[3,]    3    6    9   12\n",
      "\n",
      ", , 2\n",
      "\n",
      "     [,1] [,2] [,3] [,4]\n",
      "[1,]   13   16   19   22\n",
      "[2,]   14   17   20   23\n",
      "[3,]   15   18   21   24\n",
      "\n"
     ]
    },
    {
     "data": {
      "text/html": [
       "<ol class=list-inline>\n",
       "\t<li>3</li>\n",
       "\t<li>3</li>\n",
       "\t<li>2</li>\n",
       "</ol>\n"
      ],
      "text/latex": [
       "\\begin{enumerate*}\n",
       "\\item 3\n",
       "\\item 3\n",
       "\\item 2\n",
       "\\end{enumerate*}\n"
      ],
      "text/markdown": [
       "1. 3\n",
       "2. 3\n",
       "3. 2\n",
       "\n",
       "\n"
      ],
      "text/plain": [
       "[1] 3 3 2"
      ]
     },
     "metadata": {},
     "output_type": "display_data"
    },
    {
     "data": {
      "text/html": [
       "<ol class=list-inline>\n",
       "\t<li>10</li>\n",
       "\t<li>20</li>\n",
       "\t<li>30</li>\n",
       "\t<li>40</li>\n",
       "\t<li>50</li>\n",
       "\t<li>60</li>\n",
       "\t<li>70</li>\n",
       "\t<li>80</li>\n",
       "\t<li>90</li>\n",
       "\t<li>100</li>\n",
       "\t<li>10</li>\n",
       "\t<li>20</li>\n",
       "\t<li>30</li>\n",
       "\t<li>40</li>\n",
       "\t<li>50</li>\n",
       "\t<li>60</li>\n",
       "\t<li>70</li>\n",
       "\t<li>80</li>\n",
       "</ol>\n"
      ],
      "text/latex": [
       "\\begin{enumerate*}\n",
       "\\item 10\n",
       "\\item 20\n",
       "\\item 30\n",
       "\\item 40\n",
       "\\item 50\n",
       "\\item 60\n",
       "\\item 70\n",
       "\\item 80\n",
       "\\item 90\n",
       "\\item 100\n",
       "\\item 10\n",
       "\\item 20\n",
       "\\item 30\n",
       "\\item 40\n",
       "\\item 50\n",
       "\\item 60\n",
       "\\item 70\n",
       "\\item 80\n",
       "\\end{enumerate*}\n"
      ],
      "text/markdown": [
       "1. 10\n",
       "2. 20\n",
       "3. 30\n",
       "4. 40\n",
       "5. 50\n",
       "6. 60\n",
       "7. 70\n",
       "8. 80\n",
       "9. 90\n",
       "10. 100\n",
       "11. 10\n",
       "12. 20\n",
       "13. 30\n",
       "14. 40\n",
       "15. 50\n",
       "16. 60\n",
       "17. 70\n",
       "18. 80\n",
       "\n",
       "\n"
      ],
      "text/plain": [
       ", , 1\n",
       "\n",
       "     [,1] [,2] [,3]\n",
       "[1,]   10   40   70\n",
       "[2,]   20   50   80\n",
       "[3,]   30   60   90\n",
       "\n",
       ", , 2\n",
       "\n",
       "     [,1] [,2] [,3]\n",
       "[1,]  100   30   60\n",
       "[2,]   10   40   70\n",
       "[3,]   20   50   80\n"
      ]
     },
     "metadata": {},
     "output_type": "display_data"
    },
    {
     "name": "stdout",
     "output_type": "stream",
     "text": [
      ", , 1\n",
      "\n",
      "     [,1] [,2] [,3]\n",
      "[1,]   10   40   70\n",
      "[2,]   20   50   80\n",
      "[3,]   30   60   90\n",
      "\n",
      ", , 2\n",
      "\n",
      "     [,1] [,2] [,3]\n",
      "[1,]  100   30   60\n",
      "[2,]   10   40   70\n",
      "[3,]   20   50   80\n",
      "\n"
     ]
    }
   ],
   "source": [
    "a <- array(1: 24, dim = c(3, 4, 2))\n",
    "dim(a)   # 3 4 2\n",
    "a        # list out sequence\n",
    "print(a) # print out structure\n",
    "\n",
    "v1 <- c(10, 20, 30, 40)\n",
    "v2 <- c(50, 60, 70, 80, 90, 100)\n",
    " \n",
    "a <- array(c(v1, v2), dim = c(3, 3, 2))\n",
    "dim(a)   # 3 3 2\n",
    "a        # list out sequence\n",
    "print(a) # print out structure"
   ]
  },
  {
   "cell_type": "code",
   "execution_count": 16,
   "metadata": {},
   "outputs": [
    {
     "data": {
      "text/html": [
       "<ol>\n",
       "\t<li>'Sally'</li>\n",
       "\t<li>42</li>\n",
       "</ol>\n"
      ],
      "text/latex": [
       "\\begin{enumerate}\n",
       "\\item 'Sally'\n",
       "\\item 42\n",
       "\\end{enumerate}\n"
      ],
      "text/markdown": [
       "1. 'Sally'\n",
       "2. 42\n",
       "\n",
       "\n"
      ],
      "text/plain": [
       "[[1]]\n",
       "[1] \"Sally\"\n",
       "\n",
       "[[2]]\n",
       "[1] 42\n"
      ]
     },
     "metadata": {},
     "output_type": "display_data"
    },
    {
     "data": {
      "text/html": [
       "2"
      ],
      "text/latex": [
       "2"
      ],
      "text/markdown": [
       "2"
      ],
      "text/plain": [
       "[1] 2"
      ]
     },
     "metadata": {},
     "output_type": "display_data"
    },
    {
     "data": {
      "text/plain": [
       "NULL"
      ]
     },
     "metadata": {},
     "output_type": "display_data"
    },
    {
     "data": {
      "text/html": [
       "'list'"
      ],
      "text/latex": [
       "'list'"
      ],
      "text/markdown": [
       "'list'"
      ],
      "text/plain": [
       "[1] \"list\""
      ]
     },
     "metadata": {},
     "output_type": "display_data"
    },
    {
     "data": {
      "text/html": [
       "'list'"
      ],
      "text/latex": [
       "'list'"
      ],
      "text/markdown": [
       "'list'"
      ],
      "text/plain": [
       "[1] \"list\""
      ]
     },
     "metadata": {},
     "output_type": "display_data"
    },
    {
     "data": {
      "text/plain": [
       "NULL"
      ]
     },
     "metadata": {},
     "output_type": "display_data"
    },
    {
     "data": {
      "text/html": [
       "<dl>\n",
       "\t<dt>$name</dt>\n",
       "\t\t<dd>'Sally'</dd>\n",
       "\t<dt>$age</dt>\n",
       "\t\t<dd>42</dd>\n",
       "</dl>\n"
      ],
      "text/latex": [
       "\\begin{description}\n",
       "\\item[\\$name] 'Sally'\n",
       "\\item[\\$age] 42\n",
       "\\end{description}\n"
      ],
      "text/markdown": [
       "$name\n",
       ":   'Sally'\n",
       "$age\n",
       ":   42\n",
       "\n",
       "\n"
      ],
      "text/plain": [
       "$name\n",
       "[1] \"Sally\"\n",
       "\n",
       "$age\n",
       "[1] 42\n"
      ]
     },
     "metadata": {},
     "output_type": "display_data"
    },
    {
     "data": {
      "text/html": [
       "<strong>$names</strong> = <ol class=list-inline>\n",
       "\t<li>'name'</li>\n",
       "\t<li>'age'</li>\n",
       "</ol>\n"
      ],
      "text/latex": [
       "\\textbf{\\$names} = \\begin{enumerate*}\n",
       "\\item 'name'\n",
       "\\item 'age'\n",
       "\\end{enumerate*}\n"
      ],
      "text/markdown": [
       "**$names** = 1. 'name'\n",
       "2. 'age'\n",
       "\n",
       "\n"
      ],
      "text/plain": [
       "$names\n",
       "[1] \"name\" \"age\" \n"
      ]
     },
     "metadata": {},
     "output_type": "display_data"
    },
    {
     "data": {
      "text/html": [
       "<ol>\n",
       "\t<li>1</li>\n",
       "\t<li>'a'</li>\n",
       "\t<li>TRUE</li>\n",
       "\t<li>1+4i</li>\n",
       "</ol>\n"
      ],
      "text/latex": [
       "\\begin{enumerate}\n",
       "\\item 1\n",
       "\\item 'a'\n",
       "\\item TRUE\n",
       "\\item 1+4i\n",
       "\\end{enumerate}\n"
      ],
      "text/markdown": [
       "1. 1\n",
       "2. 'a'\n",
       "3. TRUE\n",
       "4. 1+4i\n",
       "\n",
       "\n"
      ],
      "text/plain": [
       "[[1]]\n",
       "[1] 1\n",
       "\n",
       "[[2]]\n",
       "[1] \"a\"\n",
       "\n",
       "[[3]]\n",
       "[1] TRUE\n",
       "\n",
       "[[4]]\n",
       "[1] 1+4i\n"
      ]
     },
     "metadata": {},
     "output_type": "display_data"
    },
    {
     "data": {
      "text/html": [
       "<ol>\n",
       "\t<li>NULL</li>\n",
       "\t<li>NULL</li>\n",
       "\t<li>NULL</li>\n",
       "\t<li>NULL</li>\n",
       "\t<li>NULL</li>\n",
       "</ol>\n"
      ],
      "text/latex": [
       "\\begin{enumerate}\n",
       "\\item NULL\n",
       "\\item NULL\n",
       "\\item NULL\n",
       "\\item NULL\n",
       "\\item NULL\n",
       "\\end{enumerate}\n"
      ],
      "text/markdown": [
       "1. NULL\n",
       "2. NULL\n",
       "3. NULL\n",
       "4. NULL\n",
       "5. NULL\n",
       "\n",
       "\n"
      ],
      "text/plain": [
       "[[1]]\n",
       "NULL\n",
       "\n",
       "[[2]]\n",
       "NULL\n",
       "\n",
       "[[3]]\n",
       "NULL\n",
       "\n",
       "[[4]]\n",
       "NULL\n",
       "\n",
       "[[5]]\n",
       "NULL\n"
      ]
     },
     "metadata": {},
     "output_type": "display_data"
    },
    {
     "data": {
      "text/html": [
       "5"
      ],
      "text/latex": [
       "5"
      ],
      "text/markdown": [
       "5"
      ],
      "text/plain": [
       "[1] 5"
      ]
     },
     "metadata": {},
     "output_type": "display_data"
    },
    {
     "data": {
      "text/html": [
       "10"
      ],
      "text/latex": [
       "10"
      ],
      "text/markdown": [
       "10"
      ],
      "text/plain": [
       "[1] 10"
      ]
     },
     "metadata": {},
     "output_type": "display_data"
    },
    {
     "data": {
      "text/html": [
       "<dl>\n",
       "\t<dt>$a</dt>\n",
       "\t\t<dd>'Sally'</dd>\n",
       "\t<dt>$b</dt>\n",
       "\t\t<dd><ol class=list-inline>\n",
       "\t<li>1</li>\n",
       "\t<li>2</li>\n",
       "\t<li>3</li>\n",
       "\t<li>4</li>\n",
       "\t<li>5</li>\n",
       "\t<li>6</li>\n",
       "\t<li>7</li>\n",
       "\t<li>8</li>\n",
       "\t<li>9</li>\n",
       "\t<li>10</li>\n",
       "</ol>\n",
       "</dd>\n",
       "\t<dt>$data</dt>\n",
       "\t\t<dd><table>\n",
       "<thead><tr><th scope=col>Sepal.Length</th><th scope=col>Sepal.Width</th><th scope=col>Petal.Length</th><th scope=col>Petal.Width</th><th scope=col>Species</th></tr></thead>\n",
       "<tbody>\n",
       "\t<tr><td>5.1   </td><td>3.5   </td><td>1.4   </td><td>0.2   </td><td>setosa</td></tr>\n",
       "\t<tr><td>4.9   </td><td>3.0   </td><td>1.4   </td><td>0.2   </td><td>setosa</td></tr>\n",
       "\t<tr><td>4.7   </td><td>3.2   </td><td>1.3   </td><td>0.2   </td><td>setosa</td></tr>\n",
       "\t<tr><td>4.6   </td><td>3.1   </td><td>1.5   </td><td>0.2   </td><td>setosa</td></tr>\n",
       "\t<tr><td>5.0   </td><td>3.6   </td><td>1.4   </td><td>0.2   </td><td>setosa</td></tr>\n",
       "\t<tr><td>5.4   </td><td>3.9   </td><td>1.7   </td><td>0.4   </td><td>setosa</td></tr>\n",
       "</tbody>\n",
       "</table>\n",
       "</dd>\n",
       "</dl>\n"
      ],
      "text/latex": [
       "\\begin{description}\n",
       "\\item[\\$a] 'Sally'\n",
       "\\item[\\$b] \\begin{enumerate*}\n",
       "\\item 1\n",
       "\\item 2\n",
       "\\item 3\n",
       "\\item 4\n",
       "\\item 5\n",
       "\\item 6\n",
       "\\item 7\n",
       "\\item 8\n",
       "\\item 9\n",
       "\\item 10\n",
       "\\end{enumerate*}\n",
       "\n",
       "\\item[\\$data] \\begin{tabular}{r|lllll}\n",
       " Sepal.Length & Sepal.Width & Petal.Length & Petal.Width & Species\\\\\n",
       "\\hline\n",
       "\t 5.1    & 3.5    & 1.4    & 0.2    & setosa\\\\\n",
       "\t 4.9    & 3.0    & 1.4    & 0.2    & setosa\\\\\n",
       "\t 4.7    & 3.2    & 1.3    & 0.2    & setosa\\\\\n",
       "\t 4.6    & 3.1    & 1.5    & 0.2    & setosa\\\\\n",
       "\t 5.0    & 3.6    & 1.4    & 0.2    & setosa\\\\\n",
       "\t 5.4    & 3.9    & 1.7    & 0.4    & setosa\\\\\n",
       "\\end{tabular}\n",
       "\n",
       "\\end{description}\n"
      ],
      "text/markdown": [
       "$a\n",
       ":   'Sally'\n",
       "$b\n",
       ":   1. 1\n",
       "2. 2\n",
       "3. 3\n",
       "4. 4\n",
       "5. 5\n",
       "6. 6\n",
       "7. 7\n",
       "8. 8\n",
       "9. 9\n",
       "10. 10\n",
       "\n",
       "\n",
       "\n",
       "$data\n",
       ":   \n",
       "Sepal.Length | Sepal.Width | Petal.Length | Petal.Width | Species | \n",
       "|---|---|---|---|---|---|\n",
       "| 5.1    | 3.5    | 1.4    | 0.2    | setosa | \n",
       "| 4.9    | 3.0    | 1.4    | 0.2    | setosa | \n",
       "| 4.7    | 3.2    | 1.3    | 0.2    | setosa | \n",
       "| 4.6    | 3.1    | 1.5    | 0.2    | setosa | \n",
       "| 5.0    | 3.6    | 1.4    | 0.2    | setosa | \n",
       "| 5.4    | 3.9    | 1.7    | 0.4    | setosa | \n",
       "\n",
       "\n",
       "\n",
       "\n",
       "\n"
      ],
      "text/plain": [
       "$a\n",
       "[1] \"Sally\"\n",
       "\n",
       "$b\n",
       " [1]  1  2  3  4  5  6  7  8  9 10\n",
       "\n",
       "$data\n",
       "  Sepal.Length Sepal.Width Petal.Length Petal.Width Species\n",
       "1          5.1         3.5          1.4         0.2  setosa\n",
       "2          4.9         3.0          1.4         0.2  setosa\n",
       "3          4.7         3.2          1.3         0.2  setosa\n",
       "4          4.6         3.1          1.5         0.2  setosa\n",
       "5          5.0         3.6          1.4         0.2  setosa\n",
       "6          5.4         3.9          1.7         0.4  setosa\n"
      ]
     },
     "metadata": {},
     "output_type": "display_data"
    }
   ],
   "source": [
    "l <- list(\"Sally\", 42)\n",
    "l\n",
    "length(l)      # 2\n",
    "dim(l)         # NULL\n",
    "class(l)       # list\n",
    "typeof(l)      # list\n",
    "attributes (l) # NULL\n",
    "\n",
    "l <- list(name=\"Sally\", age=42)\n",
    "l\n",
    "attributes (l) # 'name' 'age'\n",
    "\n",
    "l <- list(1, \"a\", TRUE, 1+4i)\n",
    "l\n",
    "\n",
    "l <- vector(\"list\", length = 5) # empty list\n",
    "l\n",
    "length(l)\n",
    "\n",
    "v <- 1:10\n",
    "l <- as.list(v)\n",
    "length(l)\n",
    "\n",
    "l <- list(a = \"Sally\", b = 1:10, data = head(iris))\n",
    "l"
   ]
  },
  {
   "cell_type": "code",
   "execution_count": 17,
   "metadata": {},
   "outputs": [
    {
     "data": {
      "text/html": [
       "<table>\n",
       "<thead><tr><th scope=col>id</th><th scope=col>x</th><th scope=col>y</th></tr></thead>\n",
       "<tbody>\n",
       "\t<tr><td>a </td><td> 1</td><td>11</td></tr>\n",
       "\t<tr><td>b </td><td> 2</td><td>12</td></tr>\n",
       "\t<tr><td>c </td><td> 3</td><td>13</td></tr>\n",
       "\t<tr><td>d </td><td> 4</td><td>14</td></tr>\n",
       "\t<tr><td>e </td><td> 5</td><td>15</td></tr>\n",
       "\t<tr><td>f </td><td> 6</td><td>16</td></tr>\n",
       "\t<tr><td>g </td><td> 7</td><td>17</td></tr>\n",
       "\t<tr><td>h </td><td> 8</td><td>18</td></tr>\n",
       "\t<tr><td>i </td><td> 9</td><td>19</td></tr>\n",
       "\t<tr><td>j </td><td>10</td><td>20</td></tr>\n",
       "</tbody>\n",
       "</table>\n"
      ],
      "text/latex": [
       "\\begin{tabular}{r|lll}\n",
       " id & x & y\\\\\n",
       "\\hline\n",
       "\t a  &  1 & 11\\\\\n",
       "\t b  &  2 & 12\\\\\n",
       "\t c  &  3 & 13\\\\\n",
       "\t d  &  4 & 14\\\\\n",
       "\t e  &  5 & 15\\\\\n",
       "\t f  &  6 & 16\\\\\n",
       "\t g  &  7 & 17\\\\\n",
       "\t h  &  8 & 18\\\\\n",
       "\t i  &  9 & 19\\\\\n",
       "\t j  & 10 & 20\\\\\n",
       "\\end{tabular}\n"
      ],
      "text/markdown": [
       "\n",
       "id | x | y | \n",
       "|---|---|---|---|---|---|---|---|---|---|\n",
       "| a  |  1 | 11 | \n",
       "| b  |  2 | 12 | \n",
       "| c  |  3 | 13 | \n",
       "| d  |  4 | 14 | \n",
       "| e  |  5 | 15 | \n",
       "| f  |  6 | 16 | \n",
       "| g  |  7 | 17 | \n",
       "| h  |  8 | 18 | \n",
       "| i  |  9 | 19 | \n",
       "| j  | 10 | 20 | \n",
       "\n",
       "\n"
      ],
      "text/plain": [
       "   id x  y \n",
       "1  a   1 11\n",
       "2  b   2 12\n",
       "3  c   3 13\n",
       "4  d   4 14\n",
       "5  e   5 15\n",
       "6  f   6 16\n",
       "7  g   7 17\n",
       "8  h   8 18\n",
       "9  i   9 19\n",
       "10 j  10 20"
      ]
     },
     "metadata": {},
     "output_type": "display_data"
    },
    {
     "data": {
      "text/html": [
       "'data.frame'"
      ],
      "text/latex": [
       "'data.frame'"
      ],
      "text/markdown": [
       "'data.frame'"
      ],
      "text/plain": [
       "[1] \"data.frame\""
      ]
     },
     "metadata": {},
     "output_type": "display_data"
    },
    {
     "data": {
      "text/html": [
       "<ol class=list-inline>\n",
       "\t<li>10</li>\n",
       "\t<li>3</li>\n",
       "</ol>\n"
      ],
      "text/latex": [
       "\\begin{enumerate*}\n",
       "\\item 10\n",
       "\\item 3\n",
       "\\end{enumerate*}\n"
      ],
      "text/markdown": [
       "1. 10\n",
       "2. 3\n",
       "\n",
       "\n"
      ],
      "text/plain": [
       "[1] 10  3"
      ]
     },
     "metadata": {},
     "output_type": "display_data"
    },
    {
     "data": {
      "text/html": [
       "10"
      ],
      "text/latex": [
       "10"
      ],
      "text/markdown": [
       "10"
      ],
      "text/plain": [
       "[1] 10"
      ]
     },
     "metadata": {},
     "output_type": "display_data"
    },
    {
     "data": {
      "text/html": [
       "3"
      ],
      "text/latex": [
       "3"
      ],
      "text/markdown": [
       "3"
      ],
      "text/plain": [
       "[1] 3"
      ]
     },
     "metadata": {},
     "output_type": "display_data"
    },
    {
     "data": {
      "text/html": [
       "<ol class=list-inline>\n",
       "\t<li>'id'</li>\n",
       "\t<li>'x'</li>\n",
       "\t<li>'y'</li>\n",
       "</ol>\n"
      ],
      "text/latex": [
       "\\begin{enumerate*}\n",
       "\\item 'id'\n",
       "\\item 'x'\n",
       "\\item 'y'\n",
       "\\end{enumerate*}\n"
      ],
      "text/markdown": [
       "1. 'id'\n",
       "2. 'x'\n",
       "3. 'y'\n",
       "\n",
       "\n"
      ],
      "text/plain": [
       "[1] \"id\" \"x\"  \"y\" "
      ]
     },
     "metadata": {},
     "output_type": "display_data"
    },
    {
     "name": "stdout",
     "output_type": "stream",
     "text": [
      "'data.frame':\t10 obs. of  3 variables:\n",
      " $ id: Factor w/ 10 levels \"a\",\"b\",\"c\",\"d\",..: 1 2 3 4 5 6 7 8 9 10\n",
      " $ x : int  1 2 3 4 5 6 7 8 9 10\n",
      " $ y : int  11 12 13 14 15 16 17 18 19 20\n"
     ]
    },
    {
     "data": {
      "text/html": [
       "<table>\n",
       "<thead><tr><th scope=col>id</th><th scope=col>x</th><th scope=col>y</th></tr></thead>\n",
       "<tbody>\n",
       "\t<tr><td>a </td><td>1 </td><td>11</td></tr>\n",
       "\t<tr><td>b </td><td>2 </td><td>12</td></tr>\n",
       "\t<tr><td>c </td><td>3 </td><td>13</td></tr>\n",
       "\t<tr><td>d </td><td>4 </td><td>14</td></tr>\n",
       "\t<tr><td>e </td><td>5 </td><td>15</td></tr>\n",
       "\t<tr><td>f </td><td>6 </td><td>16</td></tr>\n",
       "</tbody>\n",
       "</table>\n"
      ],
      "text/latex": [
       "\\begin{tabular}{r|lll}\n",
       " id & x & y\\\\\n",
       "\\hline\n",
       "\t a  & 1  & 11\\\\\n",
       "\t b  & 2  & 12\\\\\n",
       "\t c  & 3  & 13\\\\\n",
       "\t d  & 4  & 14\\\\\n",
       "\t e  & 5  & 15\\\\\n",
       "\t f  & 6  & 16\\\\\n",
       "\\end{tabular}\n"
      ],
      "text/markdown": [
       "\n",
       "id | x | y | \n",
       "|---|---|---|---|---|---|\n",
       "| a  | 1  | 11 | \n",
       "| b  | 2  | 12 | \n",
       "| c  | 3  | 13 | \n",
       "| d  | 4  | 14 | \n",
       "| e  | 5  | 15 | \n",
       "| f  | 6  | 16 | \n",
       "\n",
       "\n"
      ],
      "text/plain": [
       "  id x y \n",
       "1 a  1 11\n",
       "2 b  2 12\n",
       "3 c  3 13\n",
       "4 d  4 14\n",
       "5 e  5 15\n",
       "6 f  6 16"
      ]
     },
     "metadata": {},
     "output_type": "display_data"
    },
    {
     "data": {
      "text/html": [
       "'data.frame'"
      ],
      "text/latex": [
       "'data.frame'"
      ],
      "text/markdown": [
       "'data.frame'"
      ],
      "text/plain": [
       "[1] \"data.frame\""
      ]
     },
     "metadata": {},
     "output_type": "display_data"
    },
    {
     "data": {
      "text/html": [
       "5"
      ],
      "text/latex": [
       "5"
      ],
      "text/markdown": [
       "5"
      ],
      "text/plain": [
       "[1] 5"
      ]
     },
     "metadata": {},
     "output_type": "display_data"
    },
    {
     "data": {
      "text/html": [
       "150"
      ],
      "text/latex": [
       "150"
      ],
      "text/markdown": [
       "150"
      ],
      "text/plain": [
       "[1] 150"
      ]
     },
     "metadata": {},
     "output_type": "display_data"
    },
    {
     "data": {
      "text/html": [
       "5"
      ],
      "text/latex": [
       "5"
      ],
      "text/markdown": [
       "5"
      ],
      "text/plain": [
       "[1] 5"
      ]
     },
     "metadata": {},
     "output_type": "display_data"
    },
    {
     "data": {
      "text/html": [
       "<table>\n",
       "<thead><tr><th scope=col>Sepal.Length</th><th scope=col>Sepal.Width</th><th scope=col>Petal.Length</th><th scope=col>Petal.Width</th><th scope=col>Species</th></tr></thead>\n",
       "<tbody>\n",
       "\t<tr><td>5.1   </td><td>3.5   </td><td>1.4   </td><td>0.2   </td><td>setosa</td></tr>\n",
       "\t<tr><td>4.9   </td><td>3.0   </td><td>1.4   </td><td>0.2   </td><td>setosa</td></tr>\n",
       "\t<tr><td>4.7   </td><td>3.2   </td><td>1.3   </td><td>0.2   </td><td>setosa</td></tr>\n",
       "\t<tr><td>4.6   </td><td>3.1   </td><td>1.5   </td><td>0.2   </td><td>setosa</td></tr>\n",
       "\t<tr><td>5.0   </td><td>3.6   </td><td>1.4   </td><td>0.2   </td><td>setosa</td></tr>\n",
       "\t<tr><td>5.4   </td><td>3.9   </td><td>1.7   </td><td>0.4   </td><td>setosa</td></tr>\n",
       "</tbody>\n",
       "</table>\n"
      ],
      "text/latex": [
       "\\begin{tabular}{r|lllll}\n",
       " Sepal.Length & Sepal.Width & Petal.Length & Petal.Width & Species\\\\\n",
       "\\hline\n",
       "\t 5.1    & 3.5    & 1.4    & 0.2    & setosa\\\\\n",
       "\t 4.9    & 3.0    & 1.4    & 0.2    & setosa\\\\\n",
       "\t 4.7    & 3.2    & 1.3    & 0.2    & setosa\\\\\n",
       "\t 4.6    & 3.1    & 1.5    & 0.2    & setosa\\\\\n",
       "\t 5.0    & 3.6    & 1.4    & 0.2    & setosa\\\\\n",
       "\t 5.4    & 3.9    & 1.7    & 0.4    & setosa\\\\\n",
       "\\end{tabular}\n"
      ],
      "text/markdown": [
       "\n",
       "Sepal.Length | Sepal.Width | Petal.Length | Petal.Width | Species | \n",
       "|---|---|---|---|---|---|\n",
       "| 5.1    | 3.5    | 1.4    | 0.2    | setosa | \n",
       "| 4.9    | 3.0    | 1.4    | 0.2    | setosa | \n",
       "| 4.7    | 3.2    | 1.3    | 0.2    | setosa | \n",
       "| 4.6    | 3.1    | 1.5    | 0.2    | setosa | \n",
       "| 5.0    | 3.6    | 1.4    | 0.2    | setosa | \n",
       "| 5.4    | 3.9    | 1.7    | 0.4    | setosa | \n",
       "\n",
       "\n"
      ],
      "text/plain": [
       "  Sepal.Length Sepal.Width Petal.Length Petal.Width Species\n",
       "1 5.1          3.5         1.4          0.2         setosa \n",
       "2 4.9          3.0         1.4          0.2         setosa \n",
       "3 4.7          3.2         1.3          0.2         setosa \n",
       "4 4.6          3.1         1.5          0.2         setosa \n",
       "5 5.0          3.6         1.4          0.2         setosa \n",
       "6 5.4          3.9         1.7          0.4         setosa "
      ]
     },
     "metadata": {},
     "output_type": "display_data"
    }
   ],
   "source": [
    "df <- data.frame(id = letters[1:10], x = 1:10, y = 11:20)\n",
    "df\n",
    "class(df) # data.frame\n",
    "dim(df)   # 10 3\n",
    "nrow(df)  # 10\n",
    "ncol(df)  #  3\n",
    "names(df) # 'id' 'x' 'y'\n",
    "str(df)\n",
    "head(df)\n",
    "\n",
    "class(iris) # data.frame\n",
    "length(iris) #   5\n",
    "nrow(iris)   # 150\n",
    "ncol(iris)   #   5\n",
    "head(iris)"
   ]
  },
  {
   "cell_type": "markdown",
   "metadata": {},
   "source": [
    "## Arithmetic Operators\n",
    "- ```+``` addition\n",
    "- ```-``` subtraction\n",
    "- ```*``` multiplication\n",
    "- ```/``` division\n",
    "- ```^``` or ```**``` exponentiation\n",
    "- ```%%``` modulus\n",
    "- ```%/%``` integer division"
   ]
  },
  {
   "cell_type": "code",
   "execution_count": 18,
   "metadata": {},
   "outputs": [
    {
     "data": {
      "text/html": [
       "5"
      ],
      "text/latex": [
       "5"
      ],
      "text/markdown": [
       "5"
      ],
      "text/plain": [
       "[1] 5"
      ]
     },
     "metadata": {},
     "output_type": "display_data"
    },
    {
     "data": {
      "text/html": [
       "-1"
      ],
      "text/latex": [
       "-1"
      ],
      "text/markdown": [
       "-1"
      ],
      "text/plain": [
       "[1] -1"
      ]
     },
     "metadata": {},
     "output_type": "display_data"
    },
    {
     "data": {
      "text/html": [
       "6"
      ],
      "text/latex": [
       "6"
      ],
      "text/markdown": [
       "6"
      ],
      "text/plain": [
       "[1] 6"
      ]
     },
     "metadata": {},
     "output_type": "display_data"
    },
    {
     "data": {
      "text/html": [
       "0.666666666666667"
      ],
      "text/latex": [
       "0.666666666666667"
      ],
      "text/markdown": [
       "0.666666666666667"
      ],
      "text/plain": [
       "[1] 0.6666667"
      ]
     },
     "metadata": {},
     "output_type": "display_data"
    },
    {
     "data": {
      "text/html": [
       "8"
      ],
      "text/latex": [
       "8"
      ],
      "text/markdown": [
       "8"
      ],
      "text/plain": [
       "[1] 8"
      ]
     },
     "metadata": {},
     "output_type": "display_data"
    },
    {
     "data": {
      "text/html": [
       "8"
      ],
      "text/latex": [
       "8"
      ],
      "text/markdown": [
       "8"
      ],
      "text/plain": [
       "[1] 8"
      ]
     },
     "metadata": {},
     "output_type": "display_data"
    },
    {
     "data": {
      "text/html": [
       "2"
      ],
      "text/latex": [
       "2"
      ],
      "text/markdown": [
       "2"
      ],
      "text/plain": [
       "[1] 2"
      ]
     },
     "metadata": {},
     "output_type": "display_data"
    },
    {
     "data": {
      "text/html": [
       "0"
      ],
      "text/latex": [
       "0"
      ],
      "text/markdown": [
       "0"
      ],
      "text/plain": [
       "[1] 0"
      ]
     },
     "metadata": {},
     "output_type": "display_data"
    }
   ],
   "source": [
    "2+3   # 5\n",
    "2-3   # -1\n",
    "2*3   # 6\n",
    "2/3   # 0.666666666666667\n",
    "2^3   # 8\n",
    "2**3  # 8\n",
    "2%%3  # 2\n",
    "2%/%3 # 0"
   ]
  },
  {
   "cell_type": "markdown",
   "metadata": {},
   "source": [
    "## Logical Operators\n",
    "\n",
    "- *<* less than\n",
    "- *<=* less than or equal\n",
    "- *>* greater than\n",
    "- *>=* greater than or equal\n",
    "- *==* equal\n",
    "- *!=* not equal\n",
    "- *!* not\n",
    "- *|* or\n",
    "- *&* and\n",
    "- *isTRUE()* test if true"
   ]
  },
  {
   "cell_type": "markdown",
   "metadata": {},
   "source": [
    "## System Date and Time"
   ]
  },
  {
   "cell_type": "code",
   "execution_count": 19,
   "metadata": {},
   "outputs": [
    {
     "data": {
      "text/html": [
       "'Sun Sep 30 19:25:52 2018'"
      ],
      "text/latex": [
       "'Sun Sep 30 19:25:52 2018'"
      ],
      "text/markdown": [
       "'Sun Sep 30 19:25:52 2018'"
      ],
      "text/plain": [
       "[1] \"Sun Sep 30 19:25:52 2018\""
      ]
     },
     "metadata": {},
     "output_type": "display_data"
    }
   ],
   "source": [
    "date()"
   ]
  },
  {
   "cell_type": "code",
   "execution_count": 20,
   "metadata": {},
   "outputs": [
    {
     "data": {
      "text/plain": [
       "[1] \"2018-09-30 19:25:52 EDT\""
      ]
     },
     "metadata": {},
     "output_type": "display_data"
    }
   ],
   "source": [
    "Sys.time()"
   ]
  },
  {
   "cell_type": "code",
   "execution_count": 21,
   "metadata": {},
   "outputs": [
    {
     "data": {
      "text/html": [
       "<time datetime=\"2018-09-30\">2018-09-30</time>"
      ],
      "text/latex": [
       "2018-09-30"
      ],
      "text/markdown": [
       "2018-09-30"
      ],
      "text/plain": [
       "[1] \"2018-09-30\""
      ]
     },
     "metadata": {},
     "output_type": "display_data"
    }
   ],
   "source": [
    "Sys.Date()"
   ]
  },
  {
   "cell_type": "markdown",
   "metadata": {},
   "source": [
    "## User-defined Functions"
   ]
  },
  {
   "cell_type": "code",
   "execution_count": 22,
   "metadata": {},
   "outputs": [
    {
     "data": {
      "text/html": [
       "7"
      ],
      "text/latex": [
       "7"
      ],
      "text/markdown": [
       "7"
      ],
      "text/plain": [
       "[1] 7"
      ]
     },
     "metadata": {},
     "output_type": "display_data"
    }
   ],
   "source": [
    "myFunction <- function(arg1, arg2) {\n",
    "    arg1 + arg2 # return keyword optional in this example\n",
    "}\n",
    "myFunction(3, 4)"
   ]
  },
  {
   "cell_type": "markdown",
   "metadata": {},
   "source": [
    "## Conditional and Repetitive Execution\n",
    "- ```if```\n",
    "- ```if/else```\n",
    "- ```for```\n",
    "- ```while```\n",
    "- ```repeat```\n",
    "- ```break```\n",
    "- ```next```\n",
    "- ```return```"
   ]
  },
  {
   "cell_type": "code",
   "execution_count": 23,
   "metadata": {},
   "outputs": [
    {
     "name": "stdout",
     "output_type": "stream",
     "text": [
      "[1] \"x is greater than 10\"\n"
     ]
    }
   ],
   "source": [
    "x <- 1:15\n",
    "if (sample(x, 1) <= 10) {\n",
    "    print(\"x is less than 10\")\n",
    "} else {\n",
    "    print(\"x is greater than 10\")\n",
    "}"
   ]
  },
  {
   "cell_type": "code",
   "execution_count": 24,
   "metadata": {},
   "outputs": [
    {
     "data": {
      "text/html": [
       "<ol class=list-inline>\n",
       "\t<li>'x less than 10'</li>\n",
       "\t<li>'x less than 10'</li>\n",
       "\t<li>'x less than 10'</li>\n",
       "\t<li>'x less than 10'</li>\n",
       "\t<li>'x less than 10'</li>\n",
       "\t<li>'x less than 10'</li>\n",
       "\t<li>'x less than 10'</li>\n",
       "\t<li>'x less than 10'</li>\n",
       "\t<li>'x less than 10'</li>\n",
       "\t<li>'x less than 10'</li>\n",
       "\t<li>'x greater than 10'</li>\n",
       "\t<li>'x greater than 10'</li>\n",
       "\t<li>'x greater than 10'</li>\n",
       "\t<li>'x greater than 10'</li>\n",
       "\t<li>'x greater than 10'</li>\n",
       "</ol>\n"
      ],
      "text/latex": [
       "\\begin{enumerate*}\n",
       "\\item 'x less than 10'\n",
       "\\item 'x less than 10'\n",
       "\\item 'x less than 10'\n",
       "\\item 'x less than 10'\n",
       "\\item 'x less than 10'\n",
       "\\item 'x less than 10'\n",
       "\\item 'x less than 10'\n",
       "\\item 'x less than 10'\n",
       "\\item 'x less than 10'\n",
       "\\item 'x less than 10'\n",
       "\\item 'x greater than 10'\n",
       "\\item 'x greater than 10'\n",
       "\\item 'x greater than 10'\n",
       "\\item 'x greater than 10'\n",
       "\\item 'x greater than 10'\n",
       "\\end{enumerate*}\n"
      ],
      "text/markdown": [
       "1. 'x less than 10'\n",
       "2. 'x less than 10'\n",
       "3. 'x less than 10'\n",
       "4. 'x less than 10'\n",
       "5. 'x less than 10'\n",
       "6. 'x less than 10'\n",
       "7. 'x less than 10'\n",
       "8. 'x less than 10'\n",
       "9. 'x less than 10'\n",
       "10. 'x less than 10'\n",
       "11. 'x greater than 10'\n",
       "12. 'x greater than 10'\n",
       "13. 'x greater than 10'\n",
       "14. 'x greater than 10'\n",
       "15. 'x greater than 10'\n",
       "\n",
       "\n"
      ],
      "text/plain": [
       " [1] \"x less than 10\"    \"x less than 10\"    \"x less than 10\"   \n",
       " [4] \"x less than 10\"    \"x less than 10\"    \"x less than 10\"   \n",
       " [7] \"x less than 10\"    \"x less than 10\"    \"x less than 10\"   \n",
       "[10] \"x less than 10\"    \"x greater than 10\" \"x greater than 10\"\n",
       "[13] \"x greater than 10\" \"x greater than 10\" \"x greater than 10\""
      ]
     },
     "metadata": {},
     "output_type": "display_data"
    }
   ],
   "source": [
    "ifelse(x <= 10, \"x less than 10\", \"x greater than 10\")"
   ]
  },
  {
   "cell_type": "code",
   "execution_count": 25,
   "metadata": {},
   "outputs": [
    {
     "name": "stdout",
     "output_type": "stream",
     "text": [
      "[1] 1\n",
      "[1] 2\n",
      "[1] 3\n",
      "[1] 4\n",
      "[1] 5\n",
      "[1] 6\n",
      "[1] 7\n",
      "[1] 8\n",
      "[1] 9\n",
      "[1] 10\n"
     ]
    }
   ],
   "source": [
    "for (i in 1:10) {\n",
    "    print(i)\n",
    "}"
   ]
  },
  {
   "cell_type": "code",
   "execution_count": 26,
   "metadata": {},
   "outputs": [
    {
     "name": "stdout",
     "output_type": "stream",
     "text": [
      "[1] \"apples\"\n",
      "[1] \"oranges\"\n",
      "[1] \"bananas\"\n",
      "[1] \"strawberries\"\n",
      "[1] \"apples\"\n",
      "[1] \"oranges\"\n",
      "[1] \"bananas\"\n",
      "[1] \"strawberries\"\n",
      "[1] \"apples\"\n",
      "[1] \"oranges\"\n",
      "[1] \"bananas\"\n",
      "[1] \"strawberries\"\n",
      "[1] \"apples\"\n",
      "[1] \"oranges\"\n",
      "[1] \"bananas\"\n",
      "[1] \"strawberries\"\n"
     ]
    }
   ],
   "source": [
    "x <- c(\"apples\", \"oranges\", \"bananas\", \"strawberries\")\n",
    "\n",
    "for (i in 1:length(x)) {\n",
    "    print(x[i])\n",
    "}\n",
    "\n",
    "for (el in x) {\n",
    "    print(el)\n",
    "}\n",
    "\n",
    "for (i in seq(x)) {\n",
    "    print(x[i])\n",
    "}\n",
    "\n",
    "for (i in 1:4) print(x[i])"
   ]
  },
  {
   "cell_type": "code",
   "execution_count": 27,
   "metadata": {},
   "outputs": [
    {
     "name": "stdout",
     "output_type": "stream",
     "text": [
      "[1] 1\n",
      "[1] 3\n",
      "[1] 5\n",
      "[1] 7\n",
      "[1] 9\n",
      "[1] 2\n",
      "[1] 4\n",
      "[1] 6\n",
      "[1] 8\n",
      "[1] 10\n"
     ]
    }
   ],
   "source": [
    "m <- matrix(1:10, 2)\n",
    "for (i in seq(nrow(m))) {\n",
    "    for (j in seq(ncol(m))) {\n",
    "        print(m[i, j])\n",
    "    }\n",
    "}"
   ]
  },
  {
   "cell_type": "code",
   "execution_count": 28,
   "metadata": {},
   "outputs": [
    {
     "data": {
      "text/html": [
       "<ol class=list-inline>\n",
       "\t<li>0</li>\n",
       "\t<li>1</li>\n",
       "\t<li>1</li>\n",
       "\t<li>0</li>\n",
       "\t<li>0</li>\n",
       "\t<li>1</li>\n",
       "\t<li>1</li>\n",
       "\t<li>0</li>\n",
       "\t<li>1</li>\n",
       "\t<li>0</li>\n",
       "\t<li>1</li>\n",
       "\t<li>0</li>\n",
       "\t<li>1</li>\n",
       "\t<li>1</li>\n",
       "\t<li>0</li>\n",
       "\t<li>1</li>\n",
       "\t<li>1</li>\n",
       "\t<li>1</li>\n",
       "\t<li>1</li>\n",
       "\t<li>1</li>\n",
       "</ol>\n"
      ],
      "text/latex": [
       "\\begin{enumerate*}\n",
       "\\item 0\n",
       "\\item 1\n",
       "\\item 1\n",
       "\\item 0\n",
       "\\item 0\n",
       "\\item 1\n",
       "\\item 1\n",
       "\\item 0\n",
       "\\item 1\n",
       "\\item 0\n",
       "\\item 1\n",
       "\\item 0\n",
       "\\item 1\n",
       "\\item 1\n",
       "\\item 0\n",
       "\\item 1\n",
       "\\item 1\n",
       "\\item 1\n",
       "\\item 1\n",
       "\\item 1\n",
       "\\end{enumerate*}\n"
      ],
      "text/markdown": [
       "1. 0\n",
       "2. 1\n",
       "3. 1\n",
       "4. 0\n",
       "5. 0\n",
       "6. 1\n",
       "7. 1\n",
       "8. 0\n",
       "9. 1\n",
       "10. 0\n",
       "11. 1\n",
       "12. 0\n",
       "13. 1\n",
       "14. 1\n",
       "15. 0\n",
       "16. 1\n",
       "17. 1\n",
       "18. 1\n",
       "19. 1\n",
       "20. 1\n",
       "\n",
       "\n"
      ],
      "text/plain": [
       " [1] 0 1 1 0 0 1 1 0 1 0 1 0 1 1 0 1 1 1 1 1"
      ]
     },
     "metadata": {},
     "output_type": "display_data"
    },
    {
     "data": {
      "text/html": [
       "<ol class=list-inline>\n",
       "\t<li>'T'</li>\n",
       "\t<li>'H'</li>\n",
       "\t<li>'H'</li>\n",
       "\t<li>'T'</li>\n",
       "\t<li>'T'</li>\n",
       "\t<li>'H'</li>\n",
       "\t<li>'H'</li>\n",
       "\t<li>'T'</li>\n",
       "\t<li>'H'</li>\n",
       "\t<li>'T'</li>\n",
       "\t<li>'H'</li>\n",
       "\t<li>'T'</li>\n",
       "\t<li>'H'</li>\n",
       "\t<li>'H'</li>\n",
       "\t<li>'T'</li>\n",
       "\t<li>'H'</li>\n",
       "\t<li>'H'</li>\n",
       "\t<li>'H'</li>\n",
       "\t<li>'H'</li>\n",
       "\t<li>'H'</li>\n",
       "</ol>\n"
      ],
      "text/latex": [
       "\\begin{enumerate*}\n",
       "\\item 'T'\n",
       "\\item 'H'\n",
       "\\item 'H'\n",
       "\\item 'T'\n",
       "\\item 'T'\n",
       "\\item 'H'\n",
       "\\item 'H'\n",
       "\\item 'T'\n",
       "\\item 'H'\n",
       "\\item 'T'\n",
       "\\item 'H'\n",
       "\\item 'T'\n",
       "\\item 'H'\n",
       "\\item 'H'\n",
       "\\item 'T'\n",
       "\\item 'H'\n",
       "\\item 'H'\n",
       "\\item 'H'\n",
       "\\item 'H'\n",
       "\\item 'H'\n",
       "\\end{enumerate*}\n"
      ],
      "text/markdown": [
       "1. 'T'\n",
       "2. 'H'\n",
       "3. 'H'\n",
       "4. 'T'\n",
       "5. 'T'\n",
       "6. 'H'\n",
       "7. 'H'\n",
       "8. 'T'\n",
       "9. 'H'\n",
       "10. 'T'\n",
       "11. 'H'\n",
       "12. 'T'\n",
       "13. 'H'\n",
       "14. 'H'\n",
       "15. 'T'\n",
       "16. 'H'\n",
       "17. 'H'\n",
       "18. 'H'\n",
       "19. 'H'\n",
       "20. 'H'\n",
       "\n",
       "\n"
      ],
      "text/plain": [
       " [1] \"T\" \"H\" \"H\" \"T\" \"T\" \"H\" \"H\" \"T\" \"H\" \"T\" \"H\" \"T\" \"H\" \"H\" \"T\" \"H\" \"H\" \"H\" \"H\"\n",
       "[20] \"H\""
      ]
     },
     "metadata": {},
     "output_type": "display_data"
    }
   ],
   "source": [
    "x <- rbinom(20, 1, 0.5) # rbinom(n, size, prob)\n",
    "x\n",
    "y <- c()\n",
    "for (i in 1:length(x)) {\n",
    "    if (x[i] == 1) y[i] <- 'H' else y[i] <- 'T' \n",
    "}\n",
    "y"
   ]
  },
  {
   "cell_type": "code",
   "execution_count": 29,
   "metadata": {},
   "outputs": [
    {
     "name": "stdout",
     "output_type": "stream",
     "text": [
      "[1] 1\n",
      "[1] 2\n",
      "[1] 3\n",
      "[1] 4\n",
      "[1] 5\n",
      "[1] 6\n",
      "[1] 7\n",
      "[1] 8\n",
      "[1] 9\n"
     ]
    }
   ],
   "source": [
    "i <- 1\n",
    "while (i < 10) {\n",
    "    print(i)\n",
    "    i <- i + 1\n",
    "}"
   ]
  },
  {
   "cell_type": "code",
   "execution_count": 30,
   "metadata": {},
   "outputs": [
    {
     "name": "stdout",
     "output_type": "stream",
     "text": [
      "[1] 1\n",
      "[1] 2\n",
      "[1] 3\n",
      "[1] 4\n",
      "[1] 5\n",
      "[1] 6\n",
      "[1] 7\n",
      "[1] 8\n",
      "[1] 9\n",
      "[1] 10\n"
     ]
    }
   ],
   "source": [
    "i <- 1; max <- 10\n",
    "repeat {\n",
    "    if (i > max) break\n",
    "    print(i)\n",
    "    i <- i + 1\n",
    "}"
   ]
  },
  {
   "cell_type": "code",
   "execution_count": 31,
   "metadata": {},
   "outputs": [
    {
     "name": "stdout",
     "output_type": "stream",
     "text": [
      "[1] 2\n",
      "[1] 4\n",
      "[1] 6\n",
      "[1] 8\n",
      "[1] 10\n",
      "[1] 12\n",
      "[1] 14\n",
      "[1] 16\n",
      "[1] 18\n",
      "[1] 20\n"
     ]
    }
   ],
   "source": [
    "for (i in 1:20) {\n",
    "    if (i%%2 == 1) { # skip evens\n",
    "        next\n",
    "    } else {\n",
    "        print(i)\n",
    "    }\n",
    "}"
   ]
  },
  {
   "cell_type": "markdown",
   "metadata": {},
   "source": [
    "## Built-in Functions\n",
    "\n",
    "- abs\n",
    "- cos\n",
    "- sin\n",
    "- exp\n",
    "- sqrt\n",
    "- trunc\n",
    "- floor\n",
    "- grep\n",
    "- nchar\n",
    "- paste\n",
    "- substr\n",
    "- toupper\n",
    "- tolower\n",
    "- edit"
   ]
  },
  {
   "cell_type": "code",
   "execution_count": 32,
   "metadata": {},
   "outputs": [
    {
     "data": {
      "text/html": [
       "1"
      ],
      "text/latex": [
       "1"
      ],
      "text/markdown": [
       "1"
      ],
      "text/plain": [
       "[1] 1"
      ]
     },
     "metadata": {},
     "output_type": "display_data"
    },
    {
     "data": {
      "text/html": [
       "0.5"
      ],
      "text/latex": [
       "0.5"
      ],
      "text/markdown": [
       "0.5"
      ],
      "text/plain": [
       "[1] 0.5"
      ]
     },
     "metadata": {},
     "output_type": "display_data"
    },
    {
     "data": {
      "text/html": [
       "1"
      ],
      "text/latex": [
       "1"
      ],
      "text/markdown": [
       "1"
      ],
      "text/plain": [
       "[1] 1"
      ]
     },
     "metadata": {},
     "output_type": "display_data"
    },
    {
     "data": {
      "text/html": [
       "2.71828182845905"
      ],
      "text/latex": [
       "2.71828182845905"
      ],
      "text/markdown": [
       "2.71828182845905"
      ],
      "text/plain": [
       "[1] 2.718282"
      ]
     },
     "metadata": {},
     "output_type": "display_data"
    },
    {
     "data": {
      "text/html": [
       "7.38905609893065"
      ],
      "text/latex": [
       "7.38905609893065"
      ],
      "text/markdown": [
       "7.38905609893065"
      ],
      "text/plain": [
       "[1] 7.389056"
      ]
     },
     "metadata": {},
     "output_type": "display_data"
    },
    {
     "data": {
      "text/html": [
       "2"
      ],
      "text/latex": [
       "2"
      ],
      "text/markdown": [
       "2"
      ],
      "text/plain": [
       "[1] 2"
      ]
     },
     "metadata": {},
     "output_type": "display_data"
    },
    {
     "data": {
      "text/html": [
       "5"
      ],
      "text/latex": [
       "5"
      ],
      "text/markdown": [
       "5"
      ],
      "text/plain": [
       "[1] 5"
      ]
     },
     "metadata": {},
     "output_type": "display_data"
    },
    {
     "data": {
      "text/html": [
       "-3"
      ],
      "text/latex": [
       "-3"
      ],
      "text/markdown": [
       "-3"
      ],
      "text/plain": [
       "[1] -3"
      ]
     },
     "metadata": {},
     "output_type": "display_data"
    },
    {
     "data": {
      "text/html": [
       "-4"
      ],
      "text/latex": [
       "-4"
      ],
      "text/markdown": [
       "-4"
      ],
      "text/plain": [
       "[1] -4"
      ]
     },
     "metadata": {},
     "output_type": "display_data"
    },
    {
     "data": {
      "text/html": [
       "5"
      ],
      "text/latex": [
       "5"
      ],
      "text/markdown": [
       "5"
      ],
      "text/plain": [
       "[1] 5"
      ]
     },
     "metadata": {},
     "output_type": "display_data"
    },
    {
     "data": {
      "text/html": [
       "<span style=white-space:pre-wrap>'Answer:  42'</span>"
      ],
      "text/latex": [
       "'Answer:  42'"
      ],
      "text/markdown": [
       "<span style=white-space:pre-wrap>'Answer:  42'</span>"
      ],
      "text/plain": [
       "[1] \"Answer:  42\""
      ]
     },
     "metadata": {},
     "output_type": "display_data"
    },
    {
     "data": {
      "text/html": [
       "'HELLO'"
      ],
      "text/latex": [
       "'HELLO'"
      ],
      "text/markdown": [
       "'HELLO'"
      ],
      "text/plain": [
       "[1] \"HELLO\""
      ]
     },
     "metadata": {},
     "output_type": "display_data"
    },
    {
     "data": {
      "text/html": [
       "'hello'"
      ],
      "text/latex": [
       "'hello'"
      ],
      "text/markdown": [
       "'hello'"
      ],
      "text/plain": [
       "[1] \"hello\""
      ]
     },
     "metadata": {},
     "output_type": "display_data"
    },
    {
     "data": {
      "text/html": [
       "'ll'"
      ],
      "text/latex": [
       "'ll'"
      ],
      "text/markdown": [
       "'ll'"
      ],
      "text/plain": [
       "[1] \"ll\""
      ]
     },
     "metadata": {},
     "output_type": "display_data"
    },
    {
     "name": "stdout",
     "output_type": "stream",
     "text": [
      "[1] 1\n",
      "integer(0)\n"
     ]
    }
   ],
   "source": [
    "abs(-1)               # 1\n",
    "cos(pi/3)             # 0.5\n",
    "sin(pi/2)             # 1\n",
    "exp(1)                # e\n",
    "exp(2)                # e^2\n",
    "log10(100)            # 2\n",
    "sqrt(25)              # 5\n",
    "trunc(-3.141592)      # -3\n",
    "floor(-3.141592)      # -4\n",
    "nchar(\"Hello\")        # 5\n",
    "paste(\"Answer: \", 42) # 'Answer:  42'\n",
    "toupper(\"Hello\")      # 'HELLO'\n",
    "tolower(\"Hello\")      # 'hello'\n",
    "substr(\"Hello\", 3, 4) # 'll'\n",
    "print(grep(\"[a-z]\", \"abc\"))\n",
    "print(grep(\"[a-z]\", \"123\"))"
   ]
  },
  {
   "cell_type": "markdown",
   "metadata": {},
   "source": [
    "## Vector and Matrix Arithmetic\n"
   ]
  },
  {
   "cell_type": "code",
   "execution_count": 33,
   "metadata": {},
   "outputs": [
    {
     "data": {
      "text/html": [
       "<ol class=list-inline>\n",
       "\t<li>2</li>\n",
       "\t<li>4</li>\n",
       "\t<li>6</li>\n",
       "\t<li>8</li>\n",
       "</ol>\n"
      ],
      "text/latex": [
       "\\begin{enumerate*}\n",
       "\\item 2\n",
       "\\item 4\n",
       "\\item 6\n",
       "\\item 8\n",
       "\\end{enumerate*}\n"
      ],
      "text/markdown": [
       "1. 2\n",
       "2. 4\n",
       "3. 6\n",
       "4. 8\n",
       "\n",
       "\n"
      ],
      "text/plain": [
       "[1] 2 4 6 8"
      ]
     },
     "metadata": {},
     "output_type": "display_data"
    },
    {
     "data": {
      "text/html": [
       "<ol class=list-inline>\n",
       "\t<li>2.02</li>\n",
       "\t<li>4.04</li>\n",
       "\t<li>6.06</li>\n",
       "\t<li>8.08</li>\n",
       "</ol>\n"
      ],
      "text/latex": [
       "\\begin{enumerate*}\n",
       "\\item 2.02\n",
       "\\item 4.04\n",
       "\\item 6.06\n",
       "\\item 8.08\n",
       "\\end{enumerate*}\n"
      ],
      "text/markdown": [
       "1. 2.02\n",
       "2. 4.04\n",
       "3. 6.06\n",
       "4. 8.08\n",
       "\n",
       "\n"
      ],
      "text/plain": [
       "[1] 2.02 4.04 6.06 8.08"
      ]
     },
     "metadata": {},
     "output_type": "display_data"
    },
    {
     "data": {
      "text/html": [
       "<table>\n",
       "<tbody>\n",
       "\t<tr><td>1 </td><td>3 </td><td>5 </td><td>7 </td><td> 9</td></tr>\n",
       "\t<tr><td>2 </td><td>4 </td><td>6 </td><td>8 </td><td>10</td></tr>\n",
       "</tbody>\n",
       "</table>\n"
      ],
      "text/latex": [
       "\\begin{tabular}{lllll}\n",
       "\t 1  & 3  & 5  & 7  &  9\\\\\n",
       "\t 2  & 4  & 6  & 8  & 10\\\\\n",
       "\\end{tabular}\n"
      ],
      "text/markdown": [
       "\n",
       "| 1  | 3  | 5  | 7  |  9 | \n",
       "| 2  | 4  | 6  | 8  | 10 | \n",
       "\n",
       "\n"
      ],
      "text/plain": [
       "     [,1] [,2] [,3] [,4] [,5]\n",
       "[1,] 1    3    5    7     9  \n",
       "[2,] 2    4    6    8    10  "
      ]
     },
     "metadata": {},
     "output_type": "display_data"
    },
    {
     "data": {
      "text/html": [
       "<table>\n",
       "<tbody>\n",
       "\t<tr><td>1.01 </td><td>3.03 </td><td>5.05 </td><td>7.07 </td><td> 9.09</td></tr>\n",
       "\t<tr><td>2.02 </td><td>4.04 </td><td>6.06 </td><td>8.08 </td><td>10.10</td></tr>\n",
       "</tbody>\n",
       "</table>\n"
      ],
      "text/latex": [
       "\\begin{tabular}{lllll}\n",
       "\t 1.01  & 3.03  & 5.05  & 7.07  &  9.09\\\\\n",
       "\t 2.02  & 4.04  & 6.06  & 8.08  & 10.10\\\\\n",
       "\\end{tabular}\n"
      ],
      "text/markdown": [
       "\n",
       "| 1.01  | 3.03  | 5.05  | 7.07  |  9.09 | \n",
       "| 2.02  | 4.04  | 6.06  | 8.08  | 10.10 | \n",
       "\n",
       "\n"
      ],
      "text/plain": [
       "     [,1] [,2] [,3] [,4] [,5] \n",
       "[1,] 1.01 3.03 5.05 7.07  9.09\n",
       "[2,] 2.02 4.04 6.06 8.08 10.10"
      ]
     },
     "metadata": {},
     "output_type": "display_data"
    }
   ],
   "source": [
    "v <- c(2, 4, 6, 8)\n",
    "v\n",
    "v <- v *1.01\n",
    "v\n",
    "\n",
    "m <- matrix(1:10, 2)\n",
    "m\n",
    "m <- m *1.01\n",
    "m"
   ]
  },
  {
   "cell_type": "code",
   "execution_count": 34,
   "metadata": {},
   "outputs": [
    {
     "data": {
      "text/html": [
       "55"
      ],
      "text/latex": [
       "55"
      ],
      "text/markdown": [
       "55"
      ],
      "text/plain": [
       "[1] 55"
      ]
     },
     "metadata": {},
     "output_type": "display_data"
    }
   ],
   "source": [
    "vec <- 1:10\n",
    "sumvec <- sum(vec)\n",
    "sumvec"
   ]
  },
  {
   "cell_type": "code",
   "execution_count": 35,
   "metadata": {},
   "outputs": [
    {
     "data": {
      "text/html": [
       "<ol class=list-inline>\n",
       "\t<li>1</li>\n",
       "\t<li>4</li>\n",
       "\t<li>9</li>\n",
       "</ol>\n"
      ],
      "text/latex": [
       "\\begin{enumerate*}\n",
       "\\item 1\n",
       "\\item 4\n",
       "\\item 9\n",
       "\\end{enumerate*}\n"
      ],
      "text/markdown": [
       "1. 1\n",
       "2. 4\n",
       "3. 9\n",
       "\n",
       "\n"
      ],
      "text/plain": [
       "[1] 1 4 9"
      ]
     },
     "metadata": {},
     "output_type": "display_data"
    }
   ],
   "source": [
    "vec <- c(1, 2, 3) ^ 2\n",
    "vec"
   ]
  },
  {
   "cell_type": "code",
   "execution_count": 36,
   "metadata": {},
   "outputs": [
    {
     "data": {
      "text/html": [
       "55"
      ],
      "text/latex": [
       "55"
      ],
      "text/markdown": [
       "55"
      ],
      "text/plain": [
       "[1] 55"
      ]
     },
     "metadata": {},
     "output_type": "display_data"
    },
    {
     "data": {
      "text/html": [
       "55"
      ],
      "text/latex": [
       "55"
      ],
      "text/markdown": [
       "55"
      ],
      "text/plain": [
       "[1] 55"
      ]
     },
     "metadata": {},
     "output_type": "display_data"
    }
   ],
   "source": [
    "Reduce(\"+\", 1:10)\n",
    "Reduce (function (x, y) { x + y}, c(1, 2, 3, 4, 5, 6, 7, 8, 9, 10))"
   ]
  },
  {
   "cell_type": "code",
   "execution_count": 37,
   "metadata": {},
   "outputs": [
    {
     "data": {
      "text/html": [
       "'list'"
      ],
      "text/latex": [
       "'list'"
      ],
      "text/markdown": [
       "'list'"
      ],
      "text/plain": [
       "[1] \"list\""
      ]
     },
     "metadata": {},
     "output_type": "display_data"
    },
    {
     "data": {
      "text/html": [
       "<ol>\n",
       "\t<li>1</li>\n",
       "\t<li>4</li>\n",
       "\t<li>9</li>\n",
       "\t<li>16</li>\n",
       "\t<li>25</li>\n",
       "</ol>\n"
      ],
      "text/latex": [
       "\\begin{enumerate}\n",
       "\\item 1\n",
       "\\item 4\n",
       "\\item 9\n",
       "\\item 16\n",
       "\\item 25\n",
       "\\end{enumerate}\n"
      ],
      "text/markdown": [
       "1. 1\n",
       "2. 4\n",
       "3. 9\n",
       "4. 16\n",
       "5. 25\n",
       "\n",
       "\n"
      ],
      "text/plain": [
       "[[1]]\n",
       "[1] 1\n",
       "\n",
       "[[2]]\n",
       "[1] 4\n",
       "\n",
       "[[3]]\n",
       "[1] 9\n",
       "\n",
       "[[4]]\n",
       "[1] 16\n",
       "\n",
       "[[5]]\n",
       "[1] 25\n"
      ]
     },
     "metadata": {},
     "output_type": "display_data"
    }
   ],
   "source": [
    "l <- Map (function (x) { x^2 }, c(1, 2, 3, 4, 5))\n",
    "class(l)\n",
    "l"
   ]
  },
  {
   "cell_type": "code",
   "execution_count": 38,
   "metadata": {},
   "outputs": [
    {
     "data": {
      "text/html": [
       "<ol class=list-inline>\n",
       "\t<li>1</li>\n",
       "\t<li>2</li>\n",
       "\t<li>3</li>\n",
       "</ol>\n"
      ],
      "text/latex": [
       "\\begin{enumerate*}\n",
       "\\item 1\n",
       "\\item 2\n",
       "\\item 3\n",
       "\\end{enumerate*}\n"
      ],
      "text/markdown": [
       "1. 1\n",
       "2. 2\n",
       "3. 3\n",
       "\n",
       "\n"
      ],
      "text/plain": [
       "[1] 1 2 3"
      ]
     },
     "metadata": {},
     "output_type": "display_data"
    }
   ],
   "source": [
    "Filter (function (x) { x < 4 }, c(1, 2, 3, 4, 5))"
   ]
  },
  {
   "cell_type": "markdown",
   "metadata": {},
   "source": [
    "## Getting and Setting the Working Directory"
   ]
  },
  {
   "cell_type": "code",
   "execution_count": 39,
   "metadata": {},
   "outputs": [
    {
     "data": {
      "text/html": [
       "'C:/Users/peterthor/Documents/R_Jupyter'"
      ],
      "text/latex": [
       "'C:/Users/peterthor/Documents/R\\_Jupyter'"
      ],
      "text/markdown": [
       "'C:/Users/peterthor/Documents/R_Jupyter'"
      ],
      "text/plain": [
       "[1] \"C:/Users/peterthor/Documents/R_Jupyter\""
      ]
     },
     "metadata": {},
     "output_type": "display_data"
    },
    {
     "data": {
      "text/html": [
       "<ol class=list-inline>\n",
       "\t<li>'00_WA2711.ipynb'</li>\n",
       "\t<li>'01_Starter_Demos.ipynb'</li>\n",
       "\t<li>'02_Simple_R_Syntax.ipynb'</li>\n",
       "\t<li>'03_Atomic_Classes.ipynb'</li>\n",
       "\t<li>'04_Control_Structures.ipynb'</li>\n",
       "\t<li>'05_The_Base_Plotting_System.ipynb'</li>\n",
       "\t<li>'06_Vectors.ipynb'</li>\n",
       "\t<li>'07_The_plotrix_Graphics_Package.ipynb'</li>\n",
       "\t<li>'08_Lists.ipynb'</li>\n",
       "\t<li>'09_Factors.ipynb'</li>\n",
       "\t<li>'10_Base_R_Sample_Datasets.ipynb'</li>\n",
       "\t<li>'11_Attributes.ipynb'</li>\n",
       "\t<li>'12_Data_Frames.ipynb'</li>\n",
       "\t<li>'13_Date_Time.ipynb'</li>\n",
       "\t<li>'14_Manipulating_Data.ipynb'</li>\n",
       "\t<li>'15_Algorithms.ipynb'</li>\n",
       "\t<li>'16_Xxx.ipynb'</li>\n",
       "\t<li>'17_Linear_Algebra.ipynb'</li>\n",
       "\t<li>'18_Probability_Distributions.ipynb'</li>\n",
       "\t<li>'19_Statistical_Probability_Functions.ipynb'</li>\n",
       "\t<li>'20_Matrices.ipynb'</li>\n",
       "\t<li>'21_Functions.ipynb'</li>\n",
       "\t<li>'22_Logistic_Regression.ipynb'</li>\n",
       "\t<li>'23_Linear_Regression.ipynb'</li>\n",
       "\t<li>'23b_Linear_Regression.ipynb'</li>\n",
       "\t<li>'24_Regression_Correlation.ipynb'</li>\n",
       "\t<li>'25_Object_Oriented_Programming.ipynb'</li>\n",
       "\t<li>'26_The_ggplot2_Package.ipynb'</li>\n",
       "\t<li>'27_Calculus.ipynb'</li>\n",
       "\t<li>'28_The_dplyr_Package.ipynb'</li>\n",
       "\t<li>'29_The_tibble_Package.ipynb'</li>\n",
       "\t<li>'30_The_readr_Package.ipynb'</li>\n",
       "\t<li>'31_The_tidyr_Package.ipynb'</li>\n",
       "\t<li>'32_K_Nearest_Neighbors.ipynb'</li>\n",
       "\t<li>'33_Machine_Learning_Project.ipynb'</li>\n",
       "\t<li>'34_Artificial_Neural_Networks.ipynb'</li>\n",
       "\t<li>'35_Bayesian_Networks.ipynb'</li>\n",
       "\t<li>'36_K_Means_Clustering.ipynb'</li>\n",
       "\t<li>'37_Support_Vector_Machines.ipynb'</li>\n",
       "\t<li>'38_MNIST_Machine_Learning.ipynb'</li>\n",
       "\t<li>'39_Monte_Carlo_Simulation.ipynb'</li>\n",
       "\t<li>'40_Debugging_Performance.ipynb'</li>\n",
       "\t<li>'41_The_plotly_Package.ipynb'</li>\n",
       "\t<li>'data'</li>\n",
       "\t<li>'gapminder.ipynb'</li>\n",
       "\t<li>'images'</li>\n",
       "\t<li>'index.ipynb'</li>\n",
       "\t<li>'My R Course'</li>\n",
       "\t<li>'my.RData'</li>\n",
       "\t<li>'scripts'</li>\n",
       "\t<li>'Untitled.ipynb'</li>\n",
       "</ol>\n"
      ],
      "text/latex": [
       "\\begin{enumerate*}\n",
       "\\item '00\\_WA2711.ipynb'\n",
       "\\item '01\\_Starter\\_Demos.ipynb'\n",
       "\\item '02\\_Simple\\_R\\_Syntax.ipynb'\n",
       "\\item '03\\_Atomic\\_Classes.ipynb'\n",
       "\\item '04\\_Control\\_Structures.ipynb'\n",
       "\\item '05\\_The\\_Base\\_Plotting\\_System.ipynb'\n",
       "\\item '06\\_Vectors.ipynb'\n",
       "\\item '07\\_The\\_plotrix\\_Graphics\\_Package.ipynb'\n",
       "\\item '08\\_Lists.ipynb'\n",
       "\\item '09\\_Factors.ipynb'\n",
       "\\item '10\\_Base\\_R\\_Sample\\_Datasets.ipynb'\n",
       "\\item '11\\_Attributes.ipynb'\n",
       "\\item '12\\_Data\\_Frames.ipynb'\n",
       "\\item '13\\_Date\\_Time.ipynb'\n",
       "\\item '14\\_Manipulating\\_Data.ipynb'\n",
       "\\item '15\\_Algorithms.ipynb'\n",
       "\\item '16\\_Xxx.ipynb'\n",
       "\\item '17\\_Linear\\_Algebra.ipynb'\n",
       "\\item '18\\_Probability\\_Distributions.ipynb'\n",
       "\\item '19\\_Statistical\\_Probability\\_Functions.ipynb'\n",
       "\\item '20\\_Matrices.ipynb'\n",
       "\\item '21\\_Functions.ipynb'\n",
       "\\item '22\\_Logistic\\_Regression.ipynb'\n",
       "\\item '23\\_Linear\\_Regression.ipynb'\n",
       "\\item '23b\\_Linear\\_Regression.ipynb'\n",
       "\\item '24\\_Regression\\_Correlation.ipynb'\n",
       "\\item '25\\_Object\\_Oriented\\_Programming.ipynb'\n",
       "\\item '26\\_The\\_ggplot2\\_Package.ipynb'\n",
       "\\item '27\\_Calculus.ipynb'\n",
       "\\item '28\\_The\\_dplyr\\_Package.ipynb'\n",
       "\\item '29\\_The\\_tibble\\_Package.ipynb'\n",
       "\\item '30\\_The\\_readr\\_Package.ipynb'\n",
       "\\item '31\\_The\\_tidyr\\_Package.ipynb'\n",
       "\\item '32\\_K\\_Nearest\\_Neighbors.ipynb'\n",
       "\\item '33\\_Machine\\_Learning\\_Project.ipynb'\n",
       "\\item '34\\_Artificial\\_Neural\\_Networks.ipynb'\n",
       "\\item '35\\_Bayesian\\_Networks.ipynb'\n",
       "\\item '36\\_K\\_Means\\_Clustering.ipynb'\n",
       "\\item '37\\_Support\\_Vector\\_Machines.ipynb'\n",
       "\\item '38\\_MNIST\\_Machine\\_Learning.ipynb'\n",
       "\\item '39\\_Monte\\_Carlo\\_Simulation.ipynb'\n",
       "\\item '40\\_Debugging\\_Performance.ipynb'\n",
       "\\item '41\\_The\\_plotly\\_Package.ipynb'\n",
       "\\item 'data'\n",
       "\\item 'gapminder.ipynb'\n",
       "\\item 'images'\n",
       "\\item 'index.ipynb'\n",
       "\\item 'My R Course'\n",
       "\\item 'my.RData'\n",
       "\\item 'scripts'\n",
       "\\item 'Untitled.ipynb'\n",
       "\\end{enumerate*}\n"
      ],
      "text/markdown": [
       "1. '00_WA2711.ipynb'\n",
       "2. '01_Starter_Demos.ipynb'\n",
       "3. '02_Simple_R_Syntax.ipynb'\n",
       "4. '03_Atomic_Classes.ipynb'\n",
       "5. '04_Control_Structures.ipynb'\n",
       "6. '05_The_Base_Plotting_System.ipynb'\n",
       "7. '06_Vectors.ipynb'\n",
       "8. '07_The_plotrix_Graphics_Package.ipynb'\n",
       "9. '08_Lists.ipynb'\n",
       "10. '09_Factors.ipynb'\n",
       "11. '10_Base_R_Sample_Datasets.ipynb'\n",
       "12. '11_Attributes.ipynb'\n",
       "13. '12_Data_Frames.ipynb'\n",
       "14. '13_Date_Time.ipynb'\n",
       "15. '14_Manipulating_Data.ipynb'\n",
       "16. '15_Algorithms.ipynb'\n",
       "17. '16_Xxx.ipynb'\n",
       "18. '17_Linear_Algebra.ipynb'\n",
       "19. '18_Probability_Distributions.ipynb'\n",
       "20. '19_Statistical_Probability_Functions.ipynb'\n",
       "21. '20_Matrices.ipynb'\n",
       "22. '21_Functions.ipynb'\n",
       "23. '22_Logistic_Regression.ipynb'\n",
       "24. '23_Linear_Regression.ipynb'\n",
       "25. '23b_Linear_Regression.ipynb'\n",
       "26. '24_Regression_Correlation.ipynb'\n",
       "27. '25_Object_Oriented_Programming.ipynb'\n",
       "28. '26_The_ggplot2_Package.ipynb'\n",
       "29. '27_Calculus.ipynb'\n",
       "30. '28_The_dplyr_Package.ipynb'\n",
       "31. '29_The_tibble_Package.ipynb'\n",
       "32. '30_The_readr_Package.ipynb'\n",
       "33. '31_The_tidyr_Package.ipynb'\n",
       "34. '32_K_Nearest_Neighbors.ipynb'\n",
       "35. '33_Machine_Learning_Project.ipynb'\n",
       "36. '34_Artificial_Neural_Networks.ipynb'\n",
       "37. '35_Bayesian_Networks.ipynb'\n",
       "38. '36_K_Means_Clustering.ipynb'\n",
       "39. '37_Support_Vector_Machines.ipynb'\n",
       "40. '38_MNIST_Machine_Learning.ipynb'\n",
       "41. '39_Monte_Carlo_Simulation.ipynb'\n",
       "42. '40_Debugging_Performance.ipynb'\n",
       "43. '41_The_plotly_Package.ipynb'\n",
       "44. 'data'\n",
       "45. 'gapminder.ipynb'\n",
       "46. 'images'\n",
       "47. 'index.ipynb'\n",
       "48. 'My R Course'\n",
       "49. 'my.RData'\n",
       "50. 'scripts'\n",
       "51. 'Untitled.ipynb'\n",
       "\n",
       "\n"
      ],
      "text/plain": [
       " [1] \"00_WA2711.ipynb\"                           \n",
       " [2] \"01_Starter_Demos.ipynb\"                    \n",
       " [3] \"02_Simple_R_Syntax.ipynb\"                  \n",
       " [4] \"03_Atomic_Classes.ipynb\"                   \n",
       " [5] \"04_Control_Structures.ipynb\"               \n",
       " [6] \"05_The_Base_Plotting_System.ipynb\"         \n",
       " [7] \"06_Vectors.ipynb\"                          \n",
       " [8] \"07_The_plotrix_Graphics_Package.ipynb\"     \n",
       " [9] \"08_Lists.ipynb\"                            \n",
       "[10] \"09_Factors.ipynb\"                          \n",
       "[11] \"10_Base_R_Sample_Datasets.ipynb\"           \n",
       "[12] \"11_Attributes.ipynb\"                       \n",
       "[13] \"12_Data_Frames.ipynb\"                      \n",
       "[14] \"13_Date_Time.ipynb\"                        \n",
       "[15] \"14_Manipulating_Data.ipynb\"                \n",
       "[16] \"15_Algorithms.ipynb\"                       \n",
       "[17] \"16_Xxx.ipynb\"                              \n",
       "[18] \"17_Linear_Algebra.ipynb\"                   \n",
       "[19] \"18_Probability_Distributions.ipynb\"        \n",
       "[20] \"19_Statistical_Probability_Functions.ipynb\"\n",
       "[21] \"20_Matrices.ipynb\"                         \n",
       "[22] \"21_Functions.ipynb\"                        \n",
       "[23] \"22_Logistic_Regression.ipynb\"              \n",
       "[24] \"23_Linear_Regression.ipynb\"                \n",
       "[25] \"23b_Linear_Regression.ipynb\"               \n",
       "[26] \"24_Regression_Correlation.ipynb\"           \n",
       "[27] \"25_Object_Oriented_Programming.ipynb\"      \n",
       "[28] \"26_The_ggplot2_Package.ipynb\"              \n",
       "[29] \"27_Calculus.ipynb\"                         \n",
       "[30] \"28_The_dplyr_Package.ipynb\"                \n",
       "[31] \"29_The_tibble_Package.ipynb\"               \n",
       "[32] \"30_The_readr_Package.ipynb\"                \n",
       "[33] \"31_The_tidyr_Package.ipynb\"                \n",
       "[34] \"32_K_Nearest_Neighbors.ipynb\"              \n",
       "[35] \"33_Machine_Learning_Project.ipynb\"         \n",
       "[36] \"34_Artificial_Neural_Networks.ipynb\"       \n",
       "[37] \"35_Bayesian_Networks.ipynb\"                \n",
       "[38] \"36_K_Means_Clustering.ipynb\"               \n",
       "[39] \"37_Support_Vector_Machines.ipynb\"          \n",
       "[40] \"38_MNIST_Machine_Learning.ipynb\"           \n",
       "[41] \"39_Monte_Carlo_Simulation.ipynb\"           \n",
       "[42] \"40_Debugging_Performance.ipynb\"            \n",
       "[43] \"41_The_plotly_Package.ipynb\"               \n",
       "[44] \"data\"                                      \n",
       "[45] \"gapminder.ipynb\"                           \n",
       "[46] \"images\"                                    \n",
       "[47] \"index.ipynb\"                               \n",
       "[48] \"My R Course\"                               \n",
       "[49] \"my.RData\"                                  \n",
       "[50] \"scripts\"                                   \n",
       "[51] \"Untitled.ipynb\"                            "
      ]
     },
     "metadata": {},
     "output_type": "display_data"
    }
   ],
   "source": [
    "getwd()\n",
    "list.files()"
   ]
  },
  {
   "cell_type": "code",
   "execution_count": 40,
   "metadata": {},
   "outputs": [
    {
     "data": {
      "text/html": [
       "'C:/Users/peterthor/Documents'"
      ],
      "text/latex": [
       "'C:/Users/peterthor/Documents'"
      ],
      "text/markdown": [
       "'C:/Users/peterthor/Documents'"
      ],
      "text/plain": [
       "[1] \"C:/Users/peterthor/Documents\""
      ]
     },
     "metadata": {},
     "output_type": "display_data"
    },
    {
     "data": {
      "text/html": [
       "<ol class=list-inline>\n",
       "\t<li>'AndroidStudio'</li>\n",
       "\t<li>'ASUS'</li>\n",
       "\t<li>'Audacity'</li>\n",
       "\t<li>'Bluetooth Folder'</li>\n",
       "\t<li>'cache'</li>\n",
       "\t<li>'Camtasia Studio'</li>\n",
       "\t<li>'ChatLog Austin_s Meeting 2018_06_29 15_29.rtf'</li>\n",
       "\t<li>'ChatLog Conference call 2018_05_31 10_18.rtf'</li>\n",
       "\t<li>'ChatLog Numerical Programming_ Understanding Python_ Numpy _ Matplotlib 2018_07_10 13_57.rtf'</li>\n",
       "\t<li>'CPP_Jupyter'</li>\n",
       "\t<li>'Custom Office Templates'</li>\n",
       "\t<li>'Default.rdp'</li>\n",
       "\t<li>'desktop.ini'</li>\n",
       "\t<li>'Fax'</li>\n",
       "\t<li>'FreshStart'</li>\n",
       "\t<li>'GitHub'</li>\n",
       "\t<li>'Graphics'</li>\n",
       "\t<li>'IISExpress'</li>\n",
       "\t<li>'JS_Jupyter'</li>\n",
       "\t<li>'My Music'</li>\n",
       "\t<li>'My Pictures'</li>\n",
       "\t<li>'My Videos'</li>\n",
       "\t<li>'OneNote Notebooks'</li>\n",
       "\t<li>'Py_Jupyter'</li>\n",
       "\t<li>'Python Scripts'</li>\n",
       "\t<li>'R'</li>\n",
       "\t<li>'R_Jupyter'</li>\n",
       "\t<li>'Scanned Documents'</li>\n",
       "\t<li>'Sound recordings'</li>\n",
       "\t<li>'Visual Studio 2013'</li>\n",
       "\t<li>'Visual Studio 2015'</li>\n",
       "\t<li>'Visual Studio 2017'</li>\n",
       "\t<li>'Zoom'</li>\n",
       "</ol>\n"
      ],
      "text/latex": [
       "\\begin{enumerate*}\n",
       "\\item 'AndroidStudio'\n",
       "\\item 'ASUS'\n",
       "\\item 'Audacity'\n",
       "\\item 'Bluetooth Folder'\n",
       "\\item 'cache'\n",
       "\\item 'Camtasia Studio'\n",
       "\\item 'ChatLog Austin\\_s Meeting 2018\\_06\\_29 15\\_29.rtf'\n",
       "\\item 'ChatLog Conference call 2018\\_05\\_31 10\\_18.rtf'\n",
       "\\item 'ChatLog Numerical Programming\\_ Understanding Python\\_ Numpy \\_ Matplotlib 2018\\_07\\_10 13\\_57.rtf'\n",
       "\\item 'CPP\\_Jupyter'\n",
       "\\item 'Custom Office Templates'\n",
       "\\item 'Default.rdp'\n",
       "\\item 'desktop.ini'\n",
       "\\item 'Fax'\n",
       "\\item 'FreshStart'\n",
       "\\item 'GitHub'\n",
       "\\item 'Graphics'\n",
       "\\item 'IISExpress'\n",
       "\\item 'JS\\_Jupyter'\n",
       "\\item 'My Music'\n",
       "\\item 'My Pictures'\n",
       "\\item 'My Videos'\n",
       "\\item 'OneNote Notebooks'\n",
       "\\item 'Py\\_Jupyter'\n",
       "\\item 'Python Scripts'\n",
       "\\item 'R'\n",
       "\\item 'R\\_Jupyter'\n",
       "\\item 'Scanned Documents'\n",
       "\\item 'Sound recordings'\n",
       "\\item 'Visual Studio 2013'\n",
       "\\item 'Visual Studio 2015'\n",
       "\\item 'Visual Studio 2017'\n",
       "\\item 'Zoom'\n",
       "\\end{enumerate*}\n"
      ],
      "text/markdown": [
       "1. 'AndroidStudio'\n",
       "2. 'ASUS'\n",
       "3. 'Audacity'\n",
       "4. 'Bluetooth Folder'\n",
       "5. 'cache'\n",
       "6. 'Camtasia Studio'\n",
       "7. 'ChatLog Austin_s Meeting 2018_06_29 15_29.rtf'\n",
       "8. 'ChatLog Conference call 2018_05_31 10_18.rtf'\n",
       "9. 'ChatLog Numerical Programming_ Understanding Python_ Numpy _ Matplotlib 2018_07_10 13_57.rtf'\n",
       "10. 'CPP_Jupyter'\n",
       "11. 'Custom Office Templates'\n",
       "12. 'Default.rdp'\n",
       "13. 'desktop.ini'\n",
       "14. 'Fax'\n",
       "15. 'FreshStart'\n",
       "16. 'GitHub'\n",
       "17. 'Graphics'\n",
       "18. 'IISExpress'\n",
       "19. 'JS_Jupyter'\n",
       "20. 'My Music'\n",
       "21. 'My Pictures'\n",
       "22. 'My Videos'\n",
       "23. 'OneNote Notebooks'\n",
       "24. 'Py_Jupyter'\n",
       "25. 'Python Scripts'\n",
       "26. 'R'\n",
       "27. 'R_Jupyter'\n",
       "28. 'Scanned Documents'\n",
       "29. 'Sound recordings'\n",
       "30. 'Visual Studio 2013'\n",
       "31. 'Visual Studio 2015'\n",
       "32. 'Visual Studio 2017'\n",
       "33. 'Zoom'\n",
       "\n",
       "\n"
      ],
      "text/plain": [
       " [1] \"AndroidStudio\"                                                                               \n",
       " [2] \"ASUS\"                                                                                        \n",
       " [3] \"Audacity\"                                                                                    \n",
       " [4] \"Bluetooth Folder\"                                                                            \n",
       " [5] \"cache\"                                                                                       \n",
       " [6] \"Camtasia Studio\"                                                                             \n",
       " [7] \"ChatLog Austin_s Meeting 2018_06_29 15_29.rtf\"                                               \n",
       " [8] \"ChatLog Conference call 2018_05_31 10_18.rtf\"                                                \n",
       " [9] \"ChatLog Numerical Programming_ Understanding Python_ Numpy _ Matplotlib 2018_07_10 13_57.rtf\"\n",
       "[10] \"CPP_Jupyter\"                                                                                 \n",
       "[11] \"Custom Office Templates\"                                                                     \n",
       "[12] \"Default.rdp\"                                                                                 \n",
       "[13] \"desktop.ini\"                                                                                 \n",
       "[14] \"Fax\"                                                                                         \n",
       "[15] \"FreshStart\"                                                                                  \n",
       "[16] \"GitHub\"                                                                                      \n",
       "[17] \"Graphics\"                                                                                    \n",
       "[18] \"IISExpress\"                                                                                  \n",
       "[19] \"JS_Jupyter\"                                                                                  \n",
       "[20] \"My Music\"                                                                                    \n",
       "[21] \"My Pictures\"                                                                                 \n",
       "[22] \"My Videos\"                                                                                   \n",
       "[23] \"OneNote Notebooks\"                                                                           \n",
       "[24] \"Py_Jupyter\"                                                                                  \n",
       "[25] \"Python Scripts\"                                                                              \n",
       "[26] \"R\"                                                                                           \n",
       "[27] \"R_Jupyter\"                                                                                   \n",
       "[28] \"Scanned Documents\"                                                                           \n",
       "[29] \"Sound recordings\"                                                                            \n",
       "[30] \"Visual Studio 2013\"                                                                          \n",
       "[31] \"Visual Studio 2015\"                                                                          \n",
       "[32] \"Visual Studio 2017\"                                                                          \n",
       "[33] \"Zoom\"                                                                                        "
      ]
     },
     "metadata": {},
     "output_type": "display_data"
    },
    {
     "data": {
      "text/html": [
       "'C:/Users/peterthor/Documents/R_Jupyter'"
      ],
      "text/latex": [
       "'C:/Users/peterthor/Documents/R\\_Jupyter'"
      ],
      "text/markdown": [
       "'C:/Users/peterthor/Documents/R_Jupyter'"
      ],
      "text/plain": [
       "[1] \"C:/Users/peterthor/Documents/R_Jupyter\""
      ]
     },
     "metadata": {},
     "output_type": "display_data"
    },
    {
     "data": {
      "text/html": [
       "<ol class=list-inline>\n",
       "\t<li>'00_WA2711.ipynb'</li>\n",
       "\t<li>'01_Starter_Demos.ipynb'</li>\n",
       "\t<li>'02_Simple_R_Syntax.ipynb'</li>\n",
       "\t<li>'03_Atomic_Classes.ipynb'</li>\n",
       "\t<li>'04_Control_Structures.ipynb'</li>\n",
       "\t<li>'05_The_Base_Plotting_System.ipynb'</li>\n",
       "\t<li>'06_Vectors.ipynb'</li>\n",
       "\t<li>'07_The_plotrix_Graphics_Package.ipynb'</li>\n",
       "\t<li>'08_Lists.ipynb'</li>\n",
       "\t<li>'09_Factors.ipynb'</li>\n",
       "\t<li>'10_Base_R_Sample_Datasets.ipynb'</li>\n",
       "\t<li>'11_Attributes.ipynb'</li>\n",
       "\t<li>'12_Data_Frames.ipynb'</li>\n",
       "\t<li>'13_Date_Time.ipynb'</li>\n",
       "\t<li>'14_Manipulating_Data.ipynb'</li>\n",
       "\t<li>'15_Algorithms.ipynb'</li>\n",
       "\t<li>'16_Xxx.ipynb'</li>\n",
       "\t<li>'17_Linear_Algebra.ipynb'</li>\n",
       "\t<li>'18_Probability_Distributions.ipynb'</li>\n",
       "\t<li>'19_Statistical_Probability_Functions.ipynb'</li>\n",
       "\t<li>'20_Matrices.ipynb'</li>\n",
       "\t<li>'21_Functions.ipynb'</li>\n",
       "\t<li>'22_Logistic_Regression.ipynb'</li>\n",
       "\t<li>'23_Linear_Regression.ipynb'</li>\n",
       "\t<li>'23b_Linear_Regression.ipynb'</li>\n",
       "\t<li>'24_Regression_Correlation.ipynb'</li>\n",
       "\t<li>'25_Object_Oriented_Programming.ipynb'</li>\n",
       "\t<li>'26_The_ggplot2_Package.ipynb'</li>\n",
       "\t<li>'27_Calculus.ipynb'</li>\n",
       "\t<li>'28_The_dplyr_Package.ipynb'</li>\n",
       "\t<li>'29_The_tibble_Package.ipynb'</li>\n",
       "\t<li>'30_The_readr_Package.ipynb'</li>\n",
       "\t<li>'31_The_tidyr_Package.ipynb'</li>\n",
       "\t<li>'32_K_Nearest_Neighbors.ipynb'</li>\n",
       "\t<li>'33_Machine_Learning_Project.ipynb'</li>\n",
       "\t<li>'34_Artificial_Neural_Networks.ipynb'</li>\n",
       "\t<li>'35_Bayesian_Networks.ipynb'</li>\n",
       "\t<li>'36_K_Means_Clustering.ipynb'</li>\n",
       "\t<li>'37_Support_Vector_Machines.ipynb'</li>\n",
       "\t<li>'38_MNIST_Machine_Learning.ipynb'</li>\n",
       "\t<li>'39_Monte_Carlo_Simulation.ipynb'</li>\n",
       "\t<li>'40_Debugging_Performance.ipynb'</li>\n",
       "\t<li>'41_The_plotly_Package.ipynb'</li>\n",
       "\t<li>'data'</li>\n",
       "\t<li>'gapminder.ipynb'</li>\n",
       "\t<li>'images'</li>\n",
       "\t<li>'index.ipynb'</li>\n",
       "\t<li>'My R Course'</li>\n",
       "\t<li>'my.RData'</li>\n",
       "\t<li>'scripts'</li>\n",
       "\t<li>'Untitled.ipynb'</li>\n",
       "</ol>\n"
      ],
      "text/latex": [
       "\\begin{enumerate*}\n",
       "\\item '00\\_WA2711.ipynb'\n",
       "\\item '01\\_Starter\\_Demos.ipynb'\n",
       "\\item '02\\_Simple\\_R\\_Syntax.ipynb'\n",
       "\\item '03\\_Atomic\\_Classes.ipynb'\n",
       "\\item '04\\_Control\\_Structures.ipynb'\n",
       "\\item '05\\_The\\_Base\\_Plotting\\_System.ipynb'\n",
       "\\item '06\\_Vectors.ipynb'\n",
       "\\item '07\\_The\\_plotrix\\_Graphics\\_Package.ipynb'\n",
       "\\item '08\\_Lists.ipynb'\n",
       "\\item '09\\_Factors.ipynb'\n",
       "\\item '10\\_Base\\_R\\_Sample\\_Datasets.ipynb'\n",
       "\\item '11\\_Attributes.ipynb'\n",
       "\\item '12\\_Data\\_Frames.ipynb'\n",
       "\\item '13\\_Date\\_Time.ipynb'\n",
       "\\item '14\\_Manipulating\\_Data.ipynb'\n",
       "\\item '15\\_Algorithms.ipynb'\n",
       "\\item '16\\_Xxx.ipynb'\n",
       "\\item '17\\_Linear\\_Algebra.ipynb'\n",
       "\\item '18\\_Probability\\_Distributions.ipynb'\n",
       "\\item '19\\_Statistical\\_Probability\\_Functions.ipynb'\n",
       "\\item '20\\_Matrices.ipynb'\n",
       "\\item '21\\_Functions.ipynb'\n",
       "\\item '22\\_Logistic\\_Regression.ipynb'\n",
       "\\item '23\\_Linear\\_Regression.ipynb'\n",
       "\\item '23b\\_Linear\\_Regression.ipynb'\n",
       "\\item '24\\_Regression\\_Correlation.ipynb'\n",
       "\\item '25\\_Object\\_Oriented\\_Programming.ipynb'\n",
       "\\item '26\\_The\\_ggplot2\\_Package.ipynb'\n",
       "\\item '27\\_Calculus.ipynb'\n",
       "\\item '28\\_The\\_dplyr\\_Package.ipynb'\n",
       "\\item '29\\_The\\_tibble\\_Package.ipynb'\n",
       "\\item '30\\_The\\_readr\\_Package.ipynb'\n",
       "\\item '31\\_The\\_tidyr\\_Package.ipynb'\n",
       "\\item '32\\_K\\_Nearest\\_Neighbors.ipynb'\n",
       "\\item '33\\_Machine\\_Learning\\_Project.ipynb'\n",
       "\\item '34\\_Artificial\\_Neural\\_Networks.ipynb'\n",
       "\\item '35\\_Bayesian\\_Networks.ipynb'\n",
       "\\item '36\\_K\\_Means\\_Clustering.ipynb'\n",
       "\\item '37\\_Support\\_Vector\\_Machines.ipynb'\n",
       "\\item '38\\_MNIST\\_Machine\\_Learning.ipynb'\n",
       "\\item '39\\_Monte\\_Carlo\\_Simulation.ipynb'\n",
       "\\item '40\\_Debugging\\_Performance.ipynb'\n",
       "\\item '41\\_The\\_plotly\\_Package.ipynb'\n",
       "\\item 'data'\n",
       "\\item 'gapminder.ipynb'\n",
       "\\item 'images'\n",
       "\\item 'index.ipynb'\n",
       "\\item 'My R Course'\n",
       "\\item 'my.RData'\n",
       "\\item 'scripts'\n",
       "\\item 'Untitled.ipynb'\n",
       "\\end{enumerate*}\n"
      ],
      "text/markdown": [
       "1. '00_WA2711.ipynb'\n",
       "2. '01_Starter_Demos.ipynb'\n",
       "3. '02_Simple_R_Syntax.ipynb'\n",
       "4. '03_Atomic_Classes.ipynb'\n",
       "5. '04_Control_Structures.ipynb'\n",
       "6. '05_The_Base_Plotting_System.ipynb'\n",
       "7. '06_Vectors.ipynb'\n",
       "8. '07_The_plotrix_Graphics_Package.ipynb'\n",
       "9. '08_Lists.ipynb'\n",
       "10. '09_Factors.ipynb'\n",
       "11. '10_Base_R_Sample_Datasets.ipynb'\n",
       "12. '11_Attributes.ipynb'\n",
       "13. '12_Data_Frames.ipynb'\n",
       "14. '13_Date_Time.ipynb'\n",
       "15. '14_Manipulating_Data.ipynb'\n",
       "16. '15_Algorithms.ipynb'\n",
       "17. '16_Xxx.ipynb'\n",
       "18. '17_Linear_Algebra.ipynb'\n",
       "19. '18_Probability_Distributions.ipynb'\n",
       "20. '19_Statistical_Probability_Functions.ipynb'\n",
       "21. '20_Matrices.ipynb'\n",
       "22. '21_Functions.ipynb'\n",
       "23. '22_Logistic_Regression.ipynb'\n",
       "24. '23_Linear_Regression.ipynb'\n",
       "25. '23b_Linear_Regression.ipynb'\n",
       "26. '24_Regression_Correlation.ipynb'\n",
       "27. '25_Object_Oriented_Programming.ipynb'\n",
       "28. '26_The_ggplot2_Package.ipynb'\n",
       "29. '27_Calculus.ipynb'\n",
       "30. '28_The_dplyr_Package.ipynb'\n",
       "31. '29_The_tibble_Package.ipynb'\n",
       "32. '30_The_readr_Package.ipynb'\n",
       "33. '31_The_tidyr_Package.ipynb'\n",
       "34. '32_K_Nearest_Neighbors.ipynb'\n",
       "35. '33_Machine_Learning_Project.ipynb'\n",
       "36. '34_Artificial_Neural_Networks.ipynb'\n",
       "37. '35_Bayesian_Networks.ipynb'\n",
       "38. '36_K_Means_Clustering.ipynb'\n",
       "39. '37_Support_Vector_Machines.ipynb'\n",
       "40. '38_MNIST_Machine_Learning.ipynb'\n",
       "41. '39_Monte_Carlo_Simulation.ipynb'\n",
       "42. '40_Debugging_Performance.ipynb'\n",
       "43. '41_The_plotly_Package.ipynb'\n",
       "44. 'data'\n",
       "45. 'gapminder.ipynb'\n",
       "46. 'images'\n",
       "47. 'index.ipynb'\n",
       "48. 'My R Course'\n",
       "49. 'my.RData'\n",
       "50. 'scripts'\n",
       "51. 'Untitled.ipynb'\n",
       "\n",
       "\n"
      ],
      "text/plain": [
       " [1] \"00_WA2711.ipynb\"                           \n",
       " [2] \"01_Starter_Demos.ipynb\"                    \n",
       " [3] \"02_Simple_R_Syntax.ipynb\"                  \n",
       " [4] \"03_Atomic_Classes.ipynb\"                   \n",
       " [5] \"04_Control_Structures.ipynb\"               \n",
       " [6] \"05_The_Base_Plotting_System.ipynb\"         \n",
       " [7] \"06_Vectors.ipynb\"                          \n",
       " [8] \"07_The_plotrix_Graphics_Package.ipynb\"     \n",
       " [9] \"08_Lists.ipynb\"                            \n",
       "[10] \"09_Factors.ipynb\"                          \n",
       "[11] \"10_Base_R_Sample_Datasets.ipynb\"           \n",
       "[12] \"11_Attributes.ipynb\"                       \n",
       "[13] \"12_Data_Frames.ipynb\"                      \n",
       "[14] \"13_Date_Time.ipynb\"                        \n",
       "[15] \"14_Manipulating_Data.ipynb\"                \n",
       "[16] \"15_Algorithms.ipynb\"                       \n",
       "[17] \"16_Xxx.ipynb\"                              \n",
       "[18] \"17_Linear_Algebra.ipynb\"                   \n",
       "[19] \"18_Probability_Distributions.ipynb\"        \n",
       "[20] \"19_Statistical_Probability_Functions.ipynb\"\n",
       "[21] \"20_Matrices.ipynb\"                         \n",
       "[22] \"21_Functions.ipynb\"                        \n",
       "[23] \"22_Logistic_Regression.ipynb\"              \n",
       "[24] \"23_Linear_Regression.ipynb\"                \n",
       "[25] \"23b_Linear_Regression.ipynb\"               \n",
       "[26] \"24_Regression_Correlation.ipynb\"           \n",
       "[27] \"25_Object_Oriented_Programming.ipynb\"      \n",
       "[28] \"26_The_ggplot2_Package.ipynb\"              \n",
       "[29] \"27_Calculus.ipynb\"                         \n",
       "[30] \"28_The_dplyr_Package.ipynb\"                \n",
       "[31] \"29_The_tibble_Package.ipynb\"               \n",
       "[32] \"30_The_readr_Package.ipynb\"                \n",
       "[33] \"31_The_tidyr_Package.ipynb\"                \n",
       "[34] \"32_K_Nearest_Neighbors.ipynb\"              \n",
       "[35] \"33_Machine_Learning_Project.ipynb\"         \n",
       "[36] \"34_Artificial_Neural_Networks.ipynb\"       \n",
       "[37] \"35_Bayesian_Networks.ipynb\"                \n",
       "[38] \"36_K_Means_Clustering.ipynb\"               \n",
       "[39] \"37_Support_Vector_Machines.ipynb\"          \n",
       "[40] \"38_MNIST_Machine_Learning.ipynb\"           \n",
       "[41] \"39_Monte_Carlo_Simulation.ipynb\"           \n",
       "[42] \"40_Debugging_Performance.ipynb\"            \n",
       "[43] \"41_The_plotly_Package.ipynb\"               \n",
       "[44] \"data\"                                      \n",
       "[45] \"gapminder.ipynb\"                           \n",
       "[46] \"images\"                                    \n",
       "[47] \"index.ipynb\"                               \n",
       "[48] \"My R Course\"                               \n",
       "[49] \"my.RData\"                                  \n",
       "[50] \"scripts\"                                   \n",
       "[51] \"Untitled.ipynb\"                            "
      ]
     },
     "metadata": {},
     "output_type": "display_data"
    }
   ],
   "source": [
    "saveDir <- getwd()\n",
    "setwd(\"..\")\n",
    "getwd()\n",
    "list.files()\n",
    "setwd(saveDir)\n",
    "getwd()\n",
    "list.files()"
   ]
  },
  {
   "cell_type": "markdown",
   "metadata": {},
   "source": [
    "## The R Home Directory"
   ]
  },
  {
   "cell_type": "code",
   "execution_count": 41,
   "metadata": {},
   "outputs": [
    {
     "data": {
      "text/html": [
       "'C:/Users/peterthor/Anaconda3/lib/R'"
      ],
      "text/latex": [
       "'C:/Users/peterthor/Anaconda3/lib/R'"
      ],
      "text/markdown": [
       "'C:/Users/peterthor/Anaconda3/lib/R'"
      ],
      "text/plain": [
       "[1] \"C:/Users/peterthor/Anaconda3/lib/R\""
      ]
     },
     "metadata": {},
     "output_type": "display_data"
    }
   ],
   "source": [
    "R.home()"
   ]
  },
  {
   "cell_type": "markdown",
   "metadata": {},
   "source": [
    "## Loading External R commands"
   ]
  },
  {
   "cell_type": "code",
   "execution_count": 42,
   "metadata": {},
   "outputs": [],
   "source": [
    "help('source')"
   ]
  },
  {
   "cell_type": "markdown",
   "metadata": {},
   "source": [
    "## Listing Objects in Workspace\n",
    "- ```objects()```\n",
    "- ```ls()```"
   ]
  },
  {
   "cell_type": "code",
   "execution_count": 43,
   "metadata": {},
   "outputs": [
    {
     "data": {
      "text/html": [
       "<ol class=list-inline>\n",
       "\t<li>'a'</li>\n",
       "\t<li>'b'</li>\n",
       "\t<li>'c'</li>\n",
       "\t<li>'d'</li>\n",
       "\t<li>'df'</li>\n",
       "\t<li>'el'</li>\n",
       "\t<li>'f'</li>\n",
       "\t<li>'fun'</li>\n",
       "\t<li>'guzzlers'</li>\n",
       "\t<li>'i'</li>\n",
       "\t<li>'j'</li>\n",
       "\t<li>'l'</li>\n",
       "\t<li>'m'</li>\n",
       "\t<li>'max'</li>\n",
       "\t<li>'myFunction'</li>\n",
       "\t<li>'saveDir'</li>\n",
       "\t<li>'sumvec'</li>\n",
       "\t<li>'v'</li>\n",
       "\t<li>'v1'</li>\n",
       "\t<li>'v2'</li>\n",
       "\t<li>'vec'</li>\n",
       "\t<li>'x'</li>\n",
       "\t<li>'y'</li>\n",
       "</ol>\n"
      ],
      "text/latex": [
       "\\begin{enumerate*}\n",
       "\\item 'a'\n",
       "\\item 'b'\n",
       "\\item 'c'\n",
       "\\item 'd'\n",
       "\\item 'df'\n",
       "\\item 'el'\n",
       "\\item 'f'\n",
       "\\item 'fun'\n",
       "\\item 'guzzlers'\n",
       "\\item 'i'\n",
       "\\item 'j'\n",
       "\\item 'l'\n",
       "\\item 'm'\n",
       "\\item 'max'\n",
       "\\item 'myFunction'\n",
       "\\item 'saveDir'\n",
       "\\item 'sumvec'\n",
       "\\item 'v'\n",
       "\\item 'v1'\n",
       "\\item 'v2'\n",
       "\\item 'vec'\n",
       "\\item 'x'\n",
       "\\item 'y'\n",
       "\\end{enumerate*}\n"
      ],
      "text/markdown": [
       "1. 'a'\n",
       "2. 'b'\n",
       "3. 'c'\n",
       "4. 'd'\n",
       "5. 'df'\n",
       "6. 'el'\n",
       "7. 'f'\n",
       "8. 'fun'\n",
       "9. 'guzzlers'\n",
       "10. 'i'\n",
       "11. 'j'\n",
       "12. 'l'\n",
       "13. 'm'\n",
       "14. 'max'\n",
       "15. 'myFunction'\n",
       "16. 'saveDir'\n",
       "17. 'sumvec'\n",
       "18. 'v'\n",
       "19. 'v1'\n",
       "20. 'v2'\n",
       "21. 'vec'\n",
       "22. 'x'\n",
       "23. 'y'\n",
       "\n",
       "\n"
      ],
      "text/plain": [
       " [1] \"a\"          \"b\"          \"c\"          \"d\"          \"df\"        \n",
       " [6] \"el\"         \"f\"          \"fun\"        \"guzzlers\"   \"i\"         \n",
       "[11] \"j\"          \"l\"          \"m\"          \"max\"        \"myFunction\"\n",
       "[16] \"saveDir\"    \"sumvec\"     \"v\"          \"v1\"         \"v2\"        \n",
       "[21] \"vec\"        \"x\"          \"y\"         "
      ]
     },
     "metadata": {},
     "output_type": "display_data"
    }
   ],
   "source": [
    "objects()"
   ]
  },
  {
   "cell_type": "code",
   "execution_count": 44,
   "metadata": {},
   "outputs": [
    {
     "data": {
      "text/html": [
       "<ol class=list-inline>\n",
       "\t<li>'a'</li>\n",
       "\t<li>'b'</li>\n",
       "\t<li>'c'</li>\n",
       "\t<li>'d'</li>\n",
       "\t<li>'df'</li>\n",
       "\t<li>'el'</li>\n",
       "\t<li>'f'</li>\n",
       "\t<li>'fun'</li>\n",
       "\t<li>'guzzlers'</li>\n",
       "\t<li>'i'</li>\n",
       "\t<li>'j'</li>\n",
       "\t<li>'l'</li>\n",
       "\t<li>'m'</li>\n",
       "\t<li>'max'</li>\n",
       "\t<li>'myFunction'</li>\n",
       "\t<li>'saveDir'</li>\n",
       "\t<li>'sumvec'</li>\n",
       "\t<li>'v'</li>\n",
       "\t<li>'v1'</li>\n",
       "\t<li>'v2'</li>\n",
       "\t<li>'vec'</li>\n",
       "\t<li>'x'</li>\n",
       "\t<li>'y'</li>\n",
       "</ol>\n"
      ],
      "text/latex": [
       "\\begin{enumerate*}\n",
       "\\item 'a'\n",
       "\\item 'b'\n",
       "\\item 'c'\n",
       "\\item 'd'\n",
       "\\item 'df'\n",
       "\\item 'el'\n",
       "\\item 'f'\n",
       "\\item 'fun'\n",
       "\\item 'guzzlers'\n",
       "\\item 'i'\n",
       "\\item 'j'\n",
       "\\item 'l'\n",
       "\\item 'm'\n",
       "\\item 'max'\n",
       "\\item 'myFunction'\n",
       "\\item 'saveDir'\n",
       "\\item 'sumvec'\n",
       "\\item 'v'\n",
       "\\item 'v1'\n",
       "\\item 'v2'\n",
       "\\item 'vec'\n",
       "\\item 'x'\n",
       "\\item 'y'\n",
       "\\end{enumerate*}\n"
      ],
      "text/markdown": [
       "1. 'a'\n",
       "2. 'b'\n",
       "3. 'c'\n",
       "4. 'd'\n",
       "5. 'df'\n",
       "6. 'el'\n",
       "7. 'f'\n",
       "8. 'fun'\n",
       "9. 'guzzlers'\n",
       "10. 'i'\n",
       "11. 'j'\n",
       "12. 'l'\n",
       "13. 'm'\n",
       "14. 'max'\n",
       "15. 'myFunction'\n",
       "16. 'saveDir'\n",
       "17. 'sumvec'\n",
       "18. 'v'\n",
       "19. 'v1'\n",
       "20. 'v2'\n",
       "21. 'vec'\n",
       "22. 'x'\n",
       "23. 'y'\n",
       "\n",
       "\n"
      ],
      "text/plain": [
       " [1] \"a\"          \"b\"          \"c\"          \"d\"          \"df\"        \n",
       " [6] \"el\"         \"f\"          \"fun\"        \"guzzlers\"   \"i\"         \n",
       "[11] \"j\"          \"l\"          \"m\"          \"max\"        \"myFunction\"\n",
       "[16] \"saveDir\"    \"sumvec\"     \"v\"          \"v1\"         \"v2\"        \n",
       "[21] \"vec\"        \"x\"          \"y\"         "
      ]
     },
     "metadata": {},
     "output_type": "display_data"
    }
   ],
   "source": [
    "ls()"
   ]
  },
  {
   "cell_type": "markdown",
   "metadata": {},
   "source": [
    "## Removing Objects in Workspace"
   ]
  },
  {
   "cell_type": "code",
   "execution_count": 45,
   "metadata": {},
   "outputs": [
    {
     "data": {
      "text/html": [
       "<ol class=list-inline>\n",
       "\t<li>'a'</li>\n",
       "\t<li>'b'</li>\n",
       "\t<li>'c'</li>\n",
       "\t<li>'d'</li>\n",
       "\t<li>'df'</li>\n",
       "\t<li>'el'</li>\n",
       "\t<li>'f'</li>\n",
       "\t<li>'fun'</li>\n",
       "\t<li>'guzzlers'</li>\n",
       "\t<li>'i'</li>\n",
       "\t<li>'j'</li>\n",
       "\t<li>'l'</li>\n",
       "\t<li>'m'</li>\n",
       "\t<li>'max'</li>\n",
       "\t<li>'myFunction'</li>\n",
       "\t<li>'saveDir'</li>\n",
       "\t<li>'sumvec'</li>\n",
       "\t<li>'v'</li>\n",
       "\t<li>'v1'</li>\n",
       "\t<li>'v2'</li>\n",
       "\t<li>'vec'</li>\n",
       "\t<li>'x'</li>\n",
       "\t<li>'y'</li>\n",
       "\t<li>'zzz1'</li>\n",
       "\t<li>'zzz2'</li>\n",
       "</ol>\n"
      ],
      "text/latex": [
       "\\begin{enumerate*}\n",
       "\\item 'a'\n",
       "\\item 'b'\n",
       "\\item 'c'\n",
       "\\item 'd'\n",
       "\\item 'df'\n",
       "\\item 'el'\n",
       "\\item 'f'\n",
       "\\item 'fun'\n",
       "\\item 'guzzlers'\n",
       "\\item 'i'\n",
       "\\item 'j'\n",
       "\\item 'l'\n",
       "\\item 'm'\n",
       "\\item 'max'\n",
       "\\item 'myFunction'\n",
       "\\item 'saveDir'\n",
       "\\item 'sumvec'\n",
       "\\item 'v'\n",
       "\\item 'v1'\n",
       "\\item 'v2'\n",
       "\\item 'vec'\n",
       "\\item 'x'\n",
       "\\item 'y'\n",
       "\\item 'zzz1'\n",
       "\\item 'zzz2'\n",
       "\\end{enumerate*}\n"
      ],
      "text/markdown": [
       "1. 'a'\n",
       "2. 'b'\n",
       "3. 'c'\n",
       "4. 'd'\n",
       "5. 'df'\n",
       "6. 'el'\n",
       "7. 'f'\n",
       "8. 'fun'\n",
       "9. 'guzzlers'\n",
       "10. 'i'\n",
       "11. 'j'\n",
       "12. 'l'\n",
       "13. 'm'\n",
       "14. 'max'\n",
       "15. 'myFunction'\n",
       "16. 'saveDir'\n",
       "17. 'sumvec'\n",
       "18. 'v'\n",
       "19. 'v1'\n",
       "20. 'v2'\n",
       "21. 'vec'\n",
       "22. 'x'\n",
       "23. 'y'\n",
       "24. 'zzz1'\n",
       "25. 'zzz2'\n",
       "\n",
       "\n"
      ],
      "text/plain": [
       " [1] \"a\"          \"b\"          \"c\"          \"d\"          \"df\"        \n",
       " [6] \"el\"         \"f\"          \"fun\"        \"guzzlers\"   \"i\"         \n",
       "[11] \"j\"          \"l\"          \"m\"          \"max\"        \"myFunction\"\n",
       "[16] \"saveDir\"    \"sumvec\"     \"v\"          \"v1\"         \"v2\"        \n",
       "[21] \"vec\"        \"x\"          \"y\"          \"zzz1\"       \"zzz2\"      "
      ]
     },
     "metadata": {},
     "output_type": "display_data"
    },
    {
     "data": {
      "text/html": [
       "<ol class=list-inline>\n",
       "\t<li>'a'</li>\n",
       "\t<li>'b'</li>\n",
       "\t<li>'c'</li>\n",
       "\t<li>'d'</li>\n",
       "\t<li>'df'</li>\n",
       "\t<li>'el'</li>\n",
       "\t<li>'f'</li>\n",
       "\t<li>'fun'</li>\n",
       "\t<li>'guzzlers'</li>\n",
       "\t<li>'i'</li>\n",
       "\t<li>'j'</li>\n",
       "\t<li>'l'</li>\n",
       "\t<li>'m'</li>\n",
       "\t<li>'max'</li>\n",
       "\t<li>'myFunction'</li>\n",
       "\t<li>'saveDir'</li>\n",
       "\t<li>'sumvec'</li>\n",
       "\t<li>'v'</li>\n",
       "\t<li>'v1'</li>\n",
       "\t<li>'v2'</li>\n",
       "\t<li>'vec'</li>\n",
       "\t<li>'x'</li>\n",
       "\t<li>'y'</li>\n",
       "</ol>\n"
      ],
      "text/latex": [
       "\\begin{enumerate*}\n",
       "\\item 'a'\n",
       "\\item 'b'\n",
       "\\item 'c'\n",
       "\\item 'd'\n",
       "\\item 'df'\n",
       "\\item 'el'\n",
       "\\item 'f'\n",
       "\\item 'fun'\n",
       "\\item 'guzzlers'\n",
       "\\item 'i'\n",
       "\\item 'j'\n",
       "\\item 'l'\n",
       "\\item 'm'\n",
       "\\item 'max'\n",
       "\\item 'myFunction'\n",
       "\\item 'saveDir'\n",
       "\\item 'sumvec'\n",
       "\\item 'v'\n",
       "\\item 'v1'\n",
       "\\item 'v2'\n",
       "\\item 'vec'\n",
       "\\item 'x'\n",
       "\\item 'y'\n",
       "\\end{enumerate*}\n"
      ],
      "text/markdown": [
       "1. 'a'\n",
       "2. 'b'\n",
       "3. 'c'\n",
       "4. 'd'\n",
       "5. 'df'\n",
       "6. 'el'\n",
       "7. 'f'\n",
       "8. 'fun'\n",
       "9. 'guzzlers'\n",
       "10. 'i'\n",
       "11. 'j'\n",
       "12. 'l'\n",
       "13. 'm'\n",
       "14. 'max'\n",
       "15. 'myFunction'\n",
       "16. 'saveDir'\n",
       "17. 'sumvec'\n",
       "18. 'v'\n",
       "19. 'v1'\n",
       "20. 'v2'\n",
       "21. 'vec'\n",
       "22. 'x'\n",
       "23. 'y'\n",
       "\n",
       "\n"
      ],
      "text/plain": [
       " [1] \"a\"          \"b\"          \"c\"          \"d\"          \"df\"        \n",
       " [6] \"el\"         \"f\"          \"fun\"        \"guzzlers\"   \"i\"         \n",
       "[11] \"j\"          \"l\"          \"m\"          \"max\"        \"myFunction\"\n",
       "[16] \"saveDir\"    \"sumvec\"     \"v\"          \"v1\"         \"v2\"        \n",
       "[21] \"vec\"        \"x\"          \"y\"         "
      ]
     },
     "metadata": {},
     "output_type": "display_data"
    },
    {
     "data": {
      "text/html": [],
      "text/latex": [],
      "text/markdown": [],
      "text/plain": [
       "character(0)"
      ]
     },
     "metadata": {},
     "output_type": "display_data"
    },
    {
     "data": {
      "text/html": [
       "<ol class=list-inline>\n",
       "\t<li>'.pbd_env'</li>\n",
       "\t<li>'.Random.seed'</li>\n",
       "</ol>\n"
      ],
      "text/latex": [
       "\\begin{enumerate*}\n",
       "\\item '.pbd\\_env'\n",
       "\\item '.Random.seed'\n",
       "\\end{enumerate*}\n"
      ],
      "text/markdown": [
       "1. '.pbd_env'\n",
       "2. '.Random.seed'\n",
       "\n",
       "\n"
      ],
      "text/plain": [
       "[1] \".pbd_env\"     \".Random.seed\""
      ]
     },
     "metadata": {},
     "output_type": "display_data"
    }
   ],
   "source": [
    "zzz1 <- 1\n",
    "zzz2 <- 2\n",
    "ls()\n",
    "rm(zzz1, zzz2)\n",
    "ls()\n",
    "rm(list=ls()) # remove all objects that are not hidden objects (.)\n",
    "ls()\n",
    "ls(all.names=TRUE) # list all objects including hidden objects (.)"
   ]
  },
  {
   "cell_type": "markdown",
   "metadata": {},
   "source": [
    "## Saving and Loading Workspace\n",
    "\n",
    "- save(…, file)  # Save list of objects in current session to .RData file\n",
    "- save.image(file) # save all objects in current session to .RData file \n",
    "- load(file)       # load objects from .RData file into current session"
   ]
  },
  {
   "cell_type": "code",
   "execution_count": 46,
   "metadata": {},
   "outputs": [
    {
     "data": {
      "text/html": [
       "FALSE"
      ],
      "text/latex": [
       "FALSE"
      ],
      "text/markdown": [
       "FALSE"
      ],
      "text/plain": [
       "[1] FALSE"
      ]
     },
     "metadata": {},
     "output_type": "display_data"
    },
    {
     "data": {
      "text/html": [
       "TRUE"
      ],
      "text/latex": [
       "TRUE"
      ],
      "text/markdown": [
       "TRUE"
      ],
      "text/plain": [
       "[1] TRUE"
      ]
     },
     "metadata": {},
     "output_type": "display_data"
    },
    {
     "data": {
      "text/html": [
       "FALSE"
      ],
      "text/latex": [
       "FALSE"
      ],
      "text/markdown": [
       "FALSE"
      ],
      "text/plain": [
       "[1] FALSE"
      ]
     },
     "metadata": {},
     "output_type": "display_data"
    },
    {
     "data": {
      "text/html": [
       "TRUE"
      ],
      "text/latex": [
       "TRUE"
      ],
      "text/markdown": [
       "TRUE"
      ],
      "text/plain": [
       "[1] TRUE"
      ]
     },
     "metadata": {},
     "output_type": "display_data"
    }
   ],
   "source": [
    "x <- 3\n",
    "rm(x)\n",
    "exists(\"x\")\n",
    "x <- 3; y <- 4\n",
    "exists(\"x\")\n",
    "save(x, file=\"my.RData\")\n",
    "rm(x)\n",
    "exists(\"x\")\n",
    "load(\"my.RData\")\n",
    "exists(\"x\")"
   ]
  },
  {
   "cell_type": "markdown",
   "metadata": {},
   "source": [
    "## Diverting Output to File\n",
    "\n",
    "- sink(\"file\") # set path to file output\n",
    "- sink() # revert back to console output"
   ]
  },
  {
   "cell_type": "markdown",
   "metadata": {},
   "source": [
    "## Formatting Date and Time"
   ]
  },
  {
   "cell_type": "code",
   "execution_count": 47,
   "metadata": {},
   "outputs": [
    {
     "data": {
      "text/html": [
       "'19:25:54'"
      ],
      "text/latex": [
       "'19:25:54'"
      ],
      "text/markdown": [
       "'19:25:54'"
      ],
      "text/plain": [
       "[1] \"19:25:54\""
      ]
     },
     "metadata": {},
     "output_type": "display_data"
    },
    {
     "name": "stdout",
     "output_type": "stream",
     "text": [
      "[1] \"19:25:54\"\n"
     ]
    }
   ],
   "source": [
    "nowIs <- format(Sys.time(), \"%H:%M:%S\")\n",
    "nowIs\n",
    "print(nowIs)"
   ]
  },
  {
   "cell_type": "code",
   "execution_count": 48,
   "metadata": {},
   "outputs": [],
   "source": [
    "help('strptime')"
   ]
  },
  {
   "cell_type": "markdown",
   "metadata": {},
   "source": [
    "## Using the mode() Function"
   ]
  },
  {
   "cell_type": "code",
   "execution_count": 49,
   "metadata": {},
   "outputs": [
    {
     "data": {
      "text/html": [
       "'numeric'"
      ],
      "text/latex": [
       "'numeric'"
      ],
      "text/markdown": [
       "'numeric'"
      ],
      "text/plain": [
       "[1] \"numeric\""
      ]
     },
     "metadata": {},
     "output_type": "display_data"
    },
    {
     "data": {
      "text/html": [
       "'character'"
      ],
      "text/latex": [
       "'character'"
      ],
      "text/markdown": [
       "'character'"
      ],
      "text/plain": [
       "[1] \"character\""
      ]
     },
     "metadata": {},
     "output_type": "display_data"
    },
    {
     "data": {
      "text/html": [
       "'logical'"
      ],
      "text/latex": [
       "'logical'"
      ],
      "text/markdown": [
       "'logical'"
      ],
      "text/plain": [
       "[1] \"logical\""
      ]
     },
     "metadata": {},
     "output_type": "display_data"
    },
    {
     "data": {
      "text/html": [
       "'logical'"
      ],
      "text/latex": [
       "'logical'"
      ],
      "text/markdown": [
       "'logical'"
      ],
      "text/plain": [
       "[1] \"logical\""
      ]
     },
     "metadata": {},
     "output_type": "display_data"
    },
    {
     "data": {
      "text/html": [
       "'logical'"
      ],
      "text/latex": [
       "'logical'"
      ],
      "text/markdown": [
       "'logical'"
      ],
      "text/plain": [
       "[1] \"logical\""
      ]
     },
     "metadata": {},
     "output_type": "display_data"
    }
   ],
   "source": [
    "mode(123)\n",
    "mode('xyz')\n",
    "mode(TRUE)\n",
    "mode(F)\n",
    "mode(1>2)"
   ]
  },
  {
   "cell_type": "markdown",
   "metadata": {},
   "source": [
    "## Logical Vectors"
   ]
  },
  {
   "cell_type": "code",
   "execution_count": 50,
   "metadata": {},
   "outputs": [
    {
     "name": "stdout",
     "output_type": "stream",
     "text": [
      "[1] FALSE FALSE  TRUE  TRUE  TRUE\n",
      "[1] FALSE  TRUE  TRUE FALSE\n"
     ]
    }
   ],
   "source": [
    "print(c(10, 11, 12, 12, 14) >= 12) # FALSE FALSE  TRUE  TRUE  TRUE\n",
    "print(c(1>2, 2>1, 1==1, 1==2))     # FALSE  TRUE  TRUE FALSE"
   ]
  },
  {
   "cell_type": "markdown",
   "metadata": {},
   "source": [
    "## Character Vectors"
   ]
  },
  {
   "cell_type": "code",
   "execution_count": 51,
   "metadata": {},
   "outputs": [
    {
     "data": {
      "text/html": [
       "<ol class=list-inline>\n",
       "\t<li>'Hello'</li>\n",
       "\t<li>'Hello'</li>\n",
       "\t<li>'Hello'</li>\n",
       "</ol>\n"
      ],
      "text/latex": [
       "\\begin{enumerate*}\n",
       "\\item 'Hello'\n",
       "\\item 'Hello'\n",
       "\\item 'Hello'\n",
       "\\end{enumerate*}\n"
      ],
      "text/markdown": [
       "1. 'Hello'\n",
       "2. 'Hello'\n",
       "3. 'Hello'\n",
       "\n",
       "\n"
      ],
      "text/plain": [
       "[1] \"Hello\" \"Hello\" \"Hello\""
      ]
     },
     "metadata": {},
     "output_type": "display_data"
    },
    {
     "data": {
      "text/html": [
       "'character'"
      ],
      "text/latex": [
       "'character'"
      ],
      "text/markdown": [
       "'character'"
      ],
      "text/plain": [
       "[1] \"character\""
      ]
     },
     "metadata": {},
     "output_type": "display_data"
    }
   ],
   "source": [
    "rep('Hello', 3)        # 'Hello' 'Hello' 'Hello'\n",
    "class(rep('Hello', 3)) # 'character'"
   ]
  },
  {
   "cell_type": "markdown",
   "metadata": {},
   "source": [
    "## Factorization"
   ]
  },
  {
   "cell_type": "code",
   "execution_count": 52,
   "metadata": {},
   "outputs": [
    {
     "name": "stdout",
     "output_type": "stream",
     "text": [
      "[1] 1 2 1 1 2 2 3 4 1\n",
      "Levels: 1 2 3 4\n"
     ]
    }
   ],
   "source": [
    "v <- c(1, 2, 1, 1, 2, 2, 3, 4, 1)\n",
    "print(factor(v))"
   ]
  },
  {
   "cell_type": "markdown",
   "metadata": {},
   "source": [
    "## Multi-Mode Vectors"
   ]
  },
  {
   "cell_type": "code",
   "execution_count": 53,
   "metadata": {},
   "outputs": [
    {
     "name": "stdout",
     "output_type": "stream",
     "text": [
      "[1] \"I told you a \" \"1000\"          \"times\"         \"TRUE\"         \n"
     ]
    },
    {
     "data": {
      "text/html": [
       "'character'"
      ],
      "text/latex": [
       "'character'"
      ],
      "text/markdown": [
       "'character'"
      ],
      "text/plain": [
       "[1] \"character\""
      ]
     },
     "metadata": {},
     "output_type": "display_data"
    },
    {
     "name": "stdout",
     "output_type": "stream",
     "text": [
      "[1] 0 1 2 3\n"
     ]
    },
    {
     "data": {
      "text/html": [
       "'numeric'"
      ],
      "text/latex": [
       "'numeric'"
      ],
      "text/markdown": [
       "'numeric'"
      ],
      "text/plain": [
       "[1] \"numeric\""
      ]
     },
     "metadata": {},
     "output_type": "display_data"
    },
    {
     "data": {
      "text/html": [
       "<ol class=list-inline>\n",
       "\t<li>0</li>\n",
       "\t<li>1</li>\n",
       "\t<li>2</li>\n",
       "\t<li>3</li>\n",
       "\t<li>&lt;NA&gt;</li>\n",
       "\t<li>5</li>\n",
       "</ol>\n"
      ],
      "text/latex": [
       "\\begin{enumerate*}\n",
       "\\item 0\n",
       "\\item 1\n",
       "\\item 2\n",
       "\\item 3\n",
       "\\item <NA>\n",
       "\\item 5\n",
       "\\end{enumerate*}\n"
      ],
      "text/markdown": [
       "1. 0\n",
       "2. 1\n",
       "3. 2\n",
       "4. 3\n",
       "5. &lt;NA&gt;\n",
       "6. 5\n",
       "\n",
       "\n"
      ],
      "text/plain": [
       "[1]  0  1  2  3 NA  5"
      ]
     },
     "metadata": {},
     "output_type": "display_data"
    }
   ],
   "source": [
    "v <- c(\"I told you a \", 1000, 'times', TRUE) # 1000 -> '1000'\n",
    "print(v)\n",
    "mode(v)\n",
    "\n",
    "v <- c(F, T, 2, 3) # FALSE -> 0, TRUE -> 1,\n",
    "print(v)\n",
    "mode(v)\n",
    "\n",
    "(c(0,1,2,3,NA,5))"
   ]
  },
  {
   "cell_type": "markdown",
   "metadata": {},
   "source": [
    "## The Length of a Vector"
   ]
  },
  {
   "cell_type": "code",
   "execution_count": 54,
   "metadata": {},
   "outputs": [
    {
     "data": {
      "text/html": [
       "3"
      ],
      "text/latex": [
       "3"
      ],
      "text/markdown": [
       "3"
      ],
      "text/plain": [
       "[1] 3"
      ]
     },
     "metadata": {},
     "output_type": "display_data"
    }
   ],
   "source": [
    "length(c(1,2,3))"
   ]
  },
  {
   "cell_type": "markdown",
   "metadata": {},
   "source": [
    "## Getting Vector Elements"
   ]
  },
  {
   "cell_type": "code",
   "execution_count": 55,
   "metadata": {},
   "outputs": [
    {
     "data": {
      "text/html": [
       "<ol class=list-inline>\n",
       "\t<li>1</li>\n",
       "\t<li>2</li>\n",
       "\t<li>3</li>\n",
       "\t<li>4</li>\n",
       "\t<li>5</li>\n",
       "</ol>\n"
      ],
      "text/latex": [
       "\\begin{enumerate*}\n",
       "\\item 1\n",
       "\\item 2\n",
       "\\item 3\n",
       "\\item 4\n",
       "\\item 5\n",
       "\\end{enumerate*}\n"
      ],
      "text/markdown": [
       "1. 1\n",
       "2. 2\n",
       "3. 3\n",
       "4. 4\n",
       "5. 5\n",
       "\n",
       "\n"
      ],
      "text/plain": [
       "[1] 1 2 3 4 5"
      ]
     },
     "metadata": {},
     "output_type": "display_data"
    },
    {
     "data": {
      "text/html": [
       "2"
      ],
      "text/latex": [
       "2"
      ],
      "text/markdown": [
       "2"
      ],
      "text/plain": [
       "[1] 2"
      ]
     },
     "metadata": {},
     "output_type": "display_data"
    },
    {
     "data": {
      "text/html": [
       "<ol class=list-inline>\n",
       "\t<li>2</li>\n",
       "\t<li>4</li>\n",
       "</ol>\n"
      ],
      "text/latex": [
       "\\begin{enumerate*}\n",
       "\\item 2\n",
       "\\item 4\n",
       "\\end{enumerate*}\n"
      ],
      "text/markdown": [
       "1. 2\n",
       "2. 4\n",
       "\n",
       "\n"
      ],
      "text/plain": [
       "[1] 2 4"
      ]
     },
     "metadata": {},
     "output_type": "display_data"
    },
    {
     "data": {
      "text/html": [
       "<ol class=list-inline>\n",
       "\t<li>1</li>\n",
       "\t<li>3</li>\n",
       "\t<li>5</li>\n",
       "</ol>\n"
      ],
      "text/latex": [
       "\\begin{enumerate*}\n",
       "\\item 1\n",
       "\\item 3\n",
       "\\item 5\n",
       "\\end{enumerate*}\n"
      ],
      "text/markdown": [
       "1. 1\n",
       "2. 3\n",
       "3. 5\n",
       "\n",
       "\n"
      ],
      "text/plain": [
       "[1] 1 3 5"
      ]
     },
     "metadata": {},
     "output_type": "display_data"
    },
    {
     "data": {
      "text/html": [
       "<ol class=list-inline>\n",
       "\t<li>2</li>\n",
       "\t<li>3</li>\n",
       "</ol>\n"
      ],
      "text/latex": [
       "\\begin{enumerate*}\n",
       "\\item 2\n",
       "\\item 3\n",
       "\\end{enumerate*}\n"
      ],
      "text/markdown": [
       "1. 2\n",
       "2. 3\n",
       "\n",
       "\n"
      ],
      "text/plain": [
       "[1] 2 3"
      ]
     },
     "metadata": {},
     "output_type": "display_data"
    },
    {
     "data": {
      "text/html": [
       "<ol class=list-inline>\n",
       "\t<li>1</li>\n",
       "\t<li>4</li>\n",
       "\t<li>5</li>\n",
       "</ol>\n"
      ],
      "text/latex": [
       "\\begin{enumerate*}\n",
       "\\item 1\n",
       "\\item 4\n",
       "\\item 5\n",
       "\\end{enumerate*}\n"
      ],
      "text/markdown": [
       "1. 1\n",
       "2. 4\n",
       "3. 5\n",
       "\n",
       "\n"
      ],
      "text/plain": [
       "[1] 1 4 5"
      ]
     },
     "metadata": {},
     "output_type": "display_data"
    }
   ],
   "source": [
    "(1:5)             # 1 2 3 4 5\n",
    "((1:5)[2])        # 2\n",
    "((1:5)[c(2,4)])   # 2 4\n",
    "((1:5)[c(-2,-4)]) # 1 3 5\n",
    "((1:5)[2:3])      # 2 3\n",
    "((1:5)[-2:-3])    # 1 4 5"
   ]
  },
  {
   "cell_type": "markdown",
   "metadata": {},
   "source": [
    "## Lists"
   ]
  },
  {
   "cell_type": "code",
   "execution_count": 56,
   "metadata": {},
   "outputs": [
    {
     "name": "stdout",
     "output_type": "stream",
     "text": [
      "[[1]]\n",
      "[1] 1 2 3\n",
      "\n",
      "[[2]]\n",
      "[1] 10 20\n",
      "\n"
     ]
    }
   ],
   "source": [
    "print(list((1:3), c(10,20)))"
   ]
  },
  {
   "cell_type": "code",
   "execution_count": 57,
   "metadata": {},
   "outputs": [
    {
     "name": "stdout",
     "output_type": "stream",
     "text": [
      "[[1]]\n",
      "[1] 1 2 3\n",
      "\n",
      "[[2]]\n",
      "[1] 10 20\n",
      "\n",
      "\n",
      "[[1]]\n",
      "[1] 1 2 3\n",
      "\n",
      "\n",
      "[1] 1 2 3\n"
     ]
    }
   ],
   "source": [
    "l <- list((1:3), c(10,20))\n",
    "print(l)\n",
    "cat('\\n')\n",
    "print(l[1])\n",
    "cat('\\n')\n",
    "print(l[[1]])"
   ]
  },
  {
   "cell_type": "markdown",
   "metadata": {
    "collapsed": true
   },
   "source": [
    "## A List with Element Names"
   ]
  },
  {
   "cell_type": "code",
   "execution_count": 58,
   "metadata": {},
   "outputs": [
    {
     "name": "stdout",
     "output_type": "stream",
     "text": [
      "$Jan_Sales_By_Region\n",
      "[1] 1 2 3 4 5\n",
      "\n",
      "$Feb_Sales_By_Region\n",
      "[1] 3 4 5 6 7\n",
      "\n",
      "$Mar_Sales_By_Region\n",
      "[1] 2 3 4 5 6\n",
      "\n"
     ]
    },
    {
     "data": {
      "text/html": [
       "<ol class=list-inline>\n",
       "\t<li>1</li>\n",
       "\t<li>2</li>\n",
       "\t<li>3</li>\n",
       "\t<li>4</li>\n",
       "\t<li>5</li>\n",
       "</ol>\n"
      ],
      "text/latex": [
       "\\begin{enumerate*}\n",
       "\\item 1\n",
       "\\item 2\n",
       "\\item 3\n",
       "\\item 4\n",
       "\\item 5\n",
       "\\end{enumerate*}\n"
      ],
      "text/markdown": [
       "1. 1\n",
       "2. 2\n",
       "3. 3\n",
       "4. 4\n",
       "5. 5\n",
       "\n",
       "\n"
      ],
      "text/plain": [
       "[1] 1 2 3 4 5"
      ]
     },
     "metadata": {},
     "output_type": "display_data"
    },
    {
     "data": {
      "text/html": [
       "<strong>$Jan_Sales_By_Region</strong> = <ol class=list-inline>\n",
       "\t<li>1</li>\n",
       "\t<li>2</li>\n",
       "\t<li>3</li>\n",
       "\t<li>4</li>\n",
       "\t<li>5</li>\n",
       "</ol>\n"
      ],
      "text/latex": [
       "\\textbf{\\$Jan\\_Sales\\_By\\_Region} = \\begin{enumerate*}\n",
       "\\item 1\n",
       "\\item 2\n",
       "\\item 3\n",
       "\\item 4\n",
       "\\item 5\n",
       "\\end{enumerate*}\n"
      ],
      "text/markdown": [
       "**$Jan_Sales_By_Region** = 1. 1\n",
       "2. 2\n",
       "3. 3\n",
       "4. 4\n",
       "5. 5\n",
       "\n",
       "\n"
      ],
      "text/plain": [
       "$Jan_Sales_By_Region\n",
       "[1] 1 2 3 4 5\n"
      ]
     },
     "metadata": {},
     "output_type": "display_data"
    }
   ],
   "source": [
    "print(sales <- list(\n",
    "    Jan_Sales_By_Region = (1:5),\n",
    "    Feb_Sales_By_Region = (3:7),\n",
    "    Mar_Sales_By_Region = (2:6)))\n",
    "\n",
    "sales$Jan_Sales_By_Region\n",
    "sales[1]"
   ]
  },
  {
   "cell_type": "markdown",
   "metadata": {},
   "source": [
    "## Adding to a List"
   ]
  },
  {
   "cell_type": "code",
   "execution_count": 59,
   "metadata": {},
   "outputs": [
    {
     "data": {
      "text/html": [
       "<ol>\n",
       "\t<li><ol class=list-inline>\n",
       "\t<li>1</li>\n",
       "\t<li>2</li>\n",
       "\t<li>3</li>\n",
       "</ol>\n",
       "</li>\n",
       "\t<li>NULL</li>\n",
       "\t<li><ol class=list-inline>\n",
       "\t<li>11</li>\n",
       "\t<li>12</li>\n",
       "\t<li>13</li>\n",
       "</ol>\n",
       "</li>\n",
       "</ol>\n"
      ],
      "text/latex": [
       "\\begin{enumerate}\n",
       "\\item \\begin{enumerate*}\n",
       "\\item 1\n",
       "\\item 2\n",
       "\\item 3\n",
       "\\end{enumerate*}\n",
       "\n",
       "\\item NULL\n",
       "\\item \\begin{enumerate*}\n",
       "\\item 11\n",
       "\\item 12\n",
       "\\item 13\n",
       "\\end{enumerate*}\n",
       "\n",
       "\\end{enumerate}\n"
      ],
      "text/markdown": [
       "1. 1. 1\n",
       "2. 2\n",
       "3. 3\n",
       "\n",
       "\n",
       "\n",
       "2. NULL\n",
       "3. 1. 11\n",
       "2. 12\n",
       "3. 13\n",
       "\n",
       "\n",
       "\n",
       "\n",
       "\n"
      ],
      "text/plain": [
       "[[1]]\n",
       "[1] 1 2 3\n",
       "\n",
       "[[2]]\n",
       "NULL\n",
       "\n",
       "[[3]]\n",
       "[1] 11 12 13\n"
      ]
     },
     "metadata": {},
     "output_type": "display_data"
    },
    {
     "data": {
      "text/html": [
       "3"
      ],
      "text/latex": [
       "3"
      ],
      "text/markdown": [
       "3"
      ],
      "text/plain": [
       "[1] 3"
      ]
     },
     "metadata": {},
     "output_type": "display_data"
    }
   ],
   "source": [
    "x <- list() # create empty list\n",
    "x[[1]] <- (1:3)   # first element\n",
    "x[[3]] <- (11:13) # 3rd element (skipped 2nd element)\n",
    "x\n",
    "length(x)         # 3"
   ]
  },
  {
   "cell_type": "markdown",
   "metadata": {
    "collapsed": true
   },
   "source": [
    "## Matrix Data Structure\n",
    "\n",
    "- Single mode 2-D collection\n",
    "- Special case of 2-D array\n",
    "- Created using the matrix(data, nrow, ncol, byrow, dimnames) function"
   ]
  },
  {
   "cell_type": "code",
   "execution_count": 60,
   "metadata": {},
   "outputs": [],
   "source": [
    "help(matrix)"
   ]
  },
  {
   "cell_type": "code",
   "execution_count": 61,
   "metadata": {},
   "outputs": [
    {
     "name": "stdout",
     "output_type": "stream",
     "text": [
      "     [,1] [,2] [,3]\n",
      "[1,]    1    2    3\n",
      "[2,]    4    5    6\n"
     ]
    }
   ],
   "source": [
    "print(m <- matrix(1:6, 2, 3, byrow=TRUE))"
   ]
  },
  {
   "cell_type": "code",
   "execution_count": 62,
   "metadata": {},
   "outputs": [
    {
     "name": "stdout",
     "output_type": "stream",
     "text": [
      "     Col1 Col2 Col3\n",
      "Row1   11   12   13\n",
      "Row2   21   22   23\n"
     ]
    }
   ],
   "source": [
    "print(m <- matrix(c(11,12,13,21,22,23), nrow=2, ncol=3,\n",
    "    byrow=TRUE, dimnames = list(\n",
    "        c(\"Row1\", \"Row2\"),\n",
    "        c(\"Col1\", \"Col2\", \"Col3\"))))"
   ]
  },
  {
   "cell_type": "markdown",
   "metadata": {},
   "source": [
    "## Creating Matrices with cbind() and rbind()"
   ]
  },
  {
   "cell_type": "code",
   "execution_count": 63,
   "metadata": {},
   "outputs": [
    {
     "name": "stdout",
     "output_type": "stream",
     "text": [
      "     [,1] [,2] [,3]\n",
      "[1,]    1    5    0\n",
      "[2,]    2    6    0\n",
      "[3,]    3    7    0\n",
      "     [,1] [,2] [,3]\n",
      "[1,]    1    2    3\n",
      "[2,]    5    6    7\n",
      "[3,]    0    0    0\n"
     ]
    }
   ],
   "source": [
    "print(cbind(1:3, 5:7, rep(0,3)))\n",
    "print(rbind(1:3, 5:7, rep(0,3)))"
   ]
  },
  {
   "cell_type": "markdown",
   "metadata": {},
   "source": [
    "## Working with Data Frames\n",
    "\n",
    "- For storing tables\n",
    "- Made up of list of collections that are of equal length\n",
    "- Each column is limited to elements of one type\n",
    "- Different columns can have different types"
   ]
  },
  {
   "cell_type": "code",
   "execution_count": 64,
   "metadata": {},
   "outputs": [
    {
     "data": {
      "text/html": [
       "<table>\n",
       "<thead><tr><th></th><th scope=col>mpg</th><th scope=col>cyl</th><th scope=col>disp</th><th scope=col>hp</th><th scope=col>drat</th><th scope=col>wt</th><th scope=col>qsec</th><th scope=col>vs</th><th scope=col>am</th><th scope=col>gear</th><th scope=col>carb</th></tr></thead>\n",
       "<tbody>\n",
       "\t<tr><th scope=row>Mazda RX4</th><td>21.0 </td><td>6    </td><td>160.0</td><td>110  </td><td>3.90 </td><td>2.620</td><td>16.46</td><td>0    </td><td>1    </td><td>4    </td><td>4    </td></tr>\n",
       "\t<tr><th scope=row>Mazda RX4 Wag</th><td>21.0 </td><td>6    </td><td>160.0</td><td>110  </td><td>3.90 </td><td>2.875</td><td>17.02</td><td>0    </td><td>1    </td><td>4    </td><td>4    </td></tr>\n",
       "\t<tr><th scope=row>Datsun 710</th><td>22.8 </td><td>4    </td><td>108.0</td><td> 93  </td><td>3.85 </td><td>2.320</td><td>18.61</td><td>1    </td><td>1    </td><td>4    </td><td>1    </td></tr>\n",
       "\t<tr><th scope=row>Hornet 4 Drive</th><td>21.4 </td><td>6    </td><td>258.0</td><td>110  </td><td>3.08 </td><td>3.215</td><td>19.44</td><td>1    </td><td>0    </td><td>3    </td><td>1    </td></tr>\n",
       "\t<tr><th scope=row>Hornet Sportabout</th><td>18.7 </td><td>8    </td><td>360.0</td><td>175  </td><td>3.15 </td><td>3.440</td><td>17.02</td><td>0    </td><td>0    </td><td>3    </td><td>2    </td></tr>\n",
       "\t<tr><th scope=row>Valiant</th><td>18.1 </td><td>6    </td><td>225.0</td><td>105  </td><td>2.76 </td><td>3.460</td><td>20.22</td><td>1    </td><td>0    </td><td>3    </td><td>1    </td></tr>\n",
       "\t<tr><th scope=row>Duster 360</th><td>14.3 </td><td>8    </td><td>360.0</td><td>245  </td><td>3.21 </td><td>3.570</td><td>15.84</td><td>0    </td><td>0    </td><td>3    </td><td>4    </td></tr>\n",
       "\t<tr><th scope=row>Merc 240D</th><td>24.4 </td><td>4    </td><td>146.7</td><td> 62  </td><td>3.69 </td><td>3.190</td><td>20.00</td><td>1    </td><td>0    </td><td>4    </td><td>2    </td></tr>\n",
       "\t<tr><th scope=row>Merc 230</th><td>22.8 </td><td>4    </td><td>140.8</td><td> 95  </td><td>3.92 </td><td>3.150</td><td>22.90</td><td>1    </td><td>0    </td><td>4    </td><td>2    </td></tr>\n",
       "\t<tr><th scope=row>Merc 280</th><td>19.2 </td><td>6    </td><td>167.6</td><td>123  </td><td>3.92 </td><td>3.440</td><td>18.30</td><td>1    </td><td>0    </td><td>4    </td><td>4    </td></tr>\n",
       "\t<tr><th scope=row>Merc 280C</th><td>17.8 </td><td>6    </td><td>167.6</td><td>123  </td><td>3.92 </td><td>3.440</td><td>18.90</td><td>1    </td><td>0    </td><td>4    </td><td>4    </td></tr>\n",
       "\t<tr><th scope=row>Merc 450SE</th><td>16.4 </td><td>8    </td><td>275.8</td><td>180  </td><td>3.07 </td><td>4.070</td><td>17.40</td><td>0    </td><td>0    </td><td>3    </td><td>3    </td></tr>\n",
       "\t<tr><th scope=row>Merc 450SL</th><td>17.3 </td><td>8    </td><td>275.8</td><td>180  </td><td>3.07 </td><td>3.730</td><td>17.60</td><td>0    </td><td>0    </td><td>3    </td><td>3    </td></tr>\n",
       "\t<tr><th scope=row>Merc 450SLC</th><td>15.2 </td><td>8    </td><td>275.8</td><td>180  </td><td>3.07 </td><td>3.780</td><td>18.00</td><td>0    </td><td>0    </td><td>3    </td><td>3    </td></tr>\n",
       "\t<tr><th scope=row>Cadillac Fleetwood</th><td>10.4 </td><td>8    </td><td>472.0</td><td>205  </td><td>2.93 </td><td>5.250</td><td>17.98</td><td>0    </td><td>0    </td><td>3    </td><td>4    </td></tr>\n",
       "\t<tr><th scope=row>Lincoln Continental</th><td>10.4 </td><td>8    </td><td>460.0</td><td>215  </td><td>3.00 </td><td>5.424</td><td>17.82</td><td>0    </td><td>0    </td><td>3    </td><td>4    </td></tr>\n",
       "\t<tr><th scope=row>Chrysler Imperial</th><td>14.7 </td><td>8    </td><td>440.0</td><td>230  </td><td>3.23 </td><td>5.345</td><td>17.42</td><td>0    </td><td>0    </td><td>3    </td><td>4    </td></tr>\n",
       "\t<tr><th scope=row>Fiat 128</th><td>32.4 </td><td>4    </td><td> 78.7</td><td> 66  </td><td>4.08 </td><td>2.200</td><td>19.47</td><td>1    </td><td>1    </td><td>4    </td><td>1    </td></tr>\n",
       "\t<tr><th scope=row>Honda Civic</th><td>30.4 </td><td>4    </td><td> 75.7</td><td> 52  </td><td>4.93 </td><td>1.615</td><td>18.52</td><td>1    </td><td>1    </td><td>4    </td><td>2    </td></tr>\n",
       "\t<tr><th scope=row>Toyota Corolla</th><td>33.9 </td><td>4    </td><td> 71.1</td><td> 65  </td><td>4.22 </td><td>1.835</td><td>19.90</td><td>1    </td><td>1    </td><td>4    </td><td>1    </td></tr>\n",
       "\t<tr><th scope=row>Toyota Corona</th><td>21.5 </td><td>4    </td><td>120.1</td><td> 97  </td><td>3.70 </td><td>2.465</td><td>20.01</td><td>1    </td><td>0    </td><td>3    </td><td>1    </td></tr>\n",
       "\t<tr><th scope=row>Dodge Challenger</th><td>15.5 </td><td>8    </td><td>318.0</td><td>150  </td><td>2.76 </td><td>3.520</td><td>16.87</td><td>0    </td><td>0    </td><td>3    </td><td>2    </td></tr>\n",
       "\t<tr><th scope=row>AMC Javelin</th><td>15.2 </td><td>8    </td><td>304.0</td><td>150  </td><td>3.15 </td><td>3.435</td><td>17.30</td><td>0    </td><td>0    </td><td>3    </td><td>2    </td></tr>\n",
       "\t<tr><th scope=row>Camaro Z28</th><td>13.3 </td><td>8    </td><td>350.0</td><td>245  </td><td>3.73 </td><td>3.840</td><td>15.41</td><td>0    </td><td>0    </td><td>3    </td><td>4    </td></tr>\n",
       "\t<tr><th scope=row>Pontiac Firebird</th><td>19.2 </td><td>8    </td><td>400.0</td><td>175  </td><td>3.08 </td><td>3.845</td><td>17.05</td><td>0    </td><td>0    </td><td>3    </td><td>2    </td></tr>\n",
       "\t<tr><th scope=row>Fiat X1-9</th><td>27.3 </td><td>4    </td><td> 79.0</td><td> 66  </td><td>4.08 </td><td>1.935</td><td>18.90</td><td>1    </td><td>1    </td><td>4    </td><td>1    </td></tr>\n",
       "\t<tr><th scope=row>Porsche 914-2</th><td>26.0 </td><td>4    </td><td>120.3</td><td> 91  </td><td>4.43 </td><td>2.140</td><td>16.70</td><td>0    </td><td>1    </td><td>5    </td><td>2    </td></tr>\n",
       "\t<tr><th scope=row>Lotus Europa</th><td>30.4 </td><td>4    </td><td> 95.1</td><td>113  </td><td>3.77 </td><td>1.513</td><td>16.90</td><td>1    </td><td>1    </td><td>5    </td><td>2    </td></tr>\n",
       "\t<tr><th scope=row>Ford Pantera L</th><td>15.8 </td><td>8    </td><td>351.0</td><td>264  </td><td>4.22 </td><td>3.170</td><td>14.50</td><td>0    </td><td>1    </td><td>5    </td><td>4    </td></tr>\n",
       "\t<tr><th scope=row>Ferrari Dino</th><td>19.7 </td><td>6    </td><td>145.0</td><td>175  </td><td>3.62 </td><td>2.770</td><td>15.50</td><td>0    </td><td>1    </td><td>5    </td><td>6    </td></tr>\n",
       "\t<tr><th scope=row>Maserati Bora</th><td>15.0 </td><td>8    </td><td>301.0</td><td>335  </td><td>3.54 </td><td>3.570</td><td>14.60</td><td>0    </td><td>1    </td><td>5    </td><td>8    </td></tr>\n",
       "\t<tr><th scope=row>Volvo 142E</th><td>21.4 </td><td>4    </td><td>121.0</td><td>109  </td><td>4.11 </td><td>2.780</td><td>18.60</td><td>1    </td><td>1    </td><td>4    </td><td>2    </td></tr>\n",
       "</tbody>\n",
       "</table>\n"
      ],
      "text/latex": [
       "\\begin{tabular}{r|lllllllllll}\n",
       "  & mpg & cyl & disp & hp & drat & wt & qsec & vs & am & gear & carb\\\\\n",
       "\\hline\n",
       "\tMazda RX4 & 21.0  & 6     & 160.0 & 110   & 3.90  & 2.620 & 16.46 & 0     & 1     & 4     & 4    \\\\\n",
       "\tMazda RX4 Wag & 21.0  & 6     & 160.0 & 110   & 3.90  & 2.875 & 17.02 & 0     & 1     & 4     & 4    \\\\\n",
       "\tDatsun 710 & 22.8  & 4     & 108.0 &  93   & 3.85  & 2.320 & 18.61 & 1     & 1     & 4     & 1    \\\\\n",
       "\tHornet 4 Drive & 21.4  & 6     & 258.0 & 110   & 3.08  & 3.215 & 19.44 & 1     & 0     & 3     & 1    \\\\\n",
       "\tHornet Sportabout & 18.7  & 8     & 360.0 & 175   & 3.15  & 3.440 & 17.02 & 0     & 0     & 3     & 2    \\\\\n",
       "\tValiant & 18.1  & 6     & 225.0 & 105   & 2.76  & 3.460 & 20.22 & 1     & 0     & 3     & 1    \\\\\n",
       "\tDuster 360 & 14.3  & 8     & 360.0 & 245   & 3.21  & 3.570 & 15.84 & 0     & 0     & 3     & 4    \\\\\n",
       "\tMerc 240D & 24.4  & 4     & 146.7 &  62   & 3.69  & 3.190 & 20.00 & 1     & 0     & 4     & 2    \\\\\n",
       "\tMerc 230 & 22.8  & 4     & 140.8 &  95   & 3.92  & 3.150 & 22.90 & 1     & 0     & 4     & 2    \\\\\n",
       "\tMerc 280 & 19.2  & 6     & 167.6 & 123   & 3.92  & 3.440 & 18.30 & 1     & 0     & 4     & 4    \\\\\n",
       "\tMerc 280C & 17.8  & 6     & 167.6 & 123   & 3.92  & 3.440 & 18.90 & 1     & 0     & 4     & 4    \\\\\n",
       "\tMerc 450SE & 16.4  & 8     & 275.8 & 180   & 3.07  & 4.070 & 17.40 & 0     & 0     & 3     & 3    \\\\\n",
       "\tMerc 450SL & 17.3  & 8     & 275.8 & 180   & 3.07  & 3.730 & 17.60 & 0     & 0     & 3     & 3    \\\\\n",
       "\tMerc 450SLC & 15.2  & 8     & 275.8 & 180   & 3.07  & 3.780 & 18.00 & 0     & 0     & 3     & 3    \\\\\n",
       "\tCadillac Fleetwood & 10.4  & 8     & 472.0 & 205   & 2.93  & 5.250 & 17.98 & 0     & 0     & 3     & 4    \\\\\n",
       "\tLincoln Continental & 10.4  & 8     & 460.0 & 215   & 3.00  & 5.424 & 17.82 & 0     & 0     & 3     & 4    \\\\\n",
       "\tChrysler Imperial & 14.7  & 8     & 440.0 & 230   & 3.23  & 5.345 & 17.42 & 0     & 0     & 3     & 4    \\\\\n",
       "\tFiat 128 & 32.4  & 4     &  78.7 &  66   & 4.08  & 2.200 & 19.47 & 1     & 1     & 4     & 1    \\\\\n",
       "\tHonda Civic & 30.4  & 4     &  75.7 &  52   & 4.93  & 1.615 & 18.52 & 1     & 1     & 4     & 2    \\\\\n",
       "\tToyota Corolla & 33.9  & 4     &  71.1 &  65   & 4.22  & 1.835 & 19.90 & 1     & 1     & 4     & 1    \\\\\n",
       "\tToyota Corona & 21.5  & 4     & 120.1 &  97   & 3.70  & 2.465 & 20.01 & 1     & 0     & 3     & 1    \\\\\n",
       "\tDodge Challenger & 15.5  & 8     & 318.0 & 150   & 2.76  & 3.520 & 16.87 & 0     & 0     & 3     & 2    \\\\\n",
       "\tAMC Javelin & 15.2  & 8     & 304.0 & 150   & 3.15  & 3.435 & 17.30 & 0     & 0     & 3     & 2    \\\\\n",
       "\tCamaro Z28 & 13.3  & 8     & 350.0 & 245   & 3.73  & 3.840 & 15.41 & 0     & 0     & 3     & 4    \\\\\n",
       "\tPontiac Firebird & 19.2  & 8     & 400.0 & 175   & 3.08  & 3.845 & 17.05 & 0     & 0     & 3     & 2    \\\\\n",
       "\tFiat X1-9 & 27.3  & 4     &  79.0 &  66   & 4.08  & 1.935 & 18.90 & 1     & 1     & 4     & 1    \\\\\n",
       "\tPorsche 914-2 & 26.0  & 4     & 120.3 &  91   & 4.43  & 2.140 & 16.70 & 0     & 1     & 5     & 2    \\\\\n",
       "\tLotus Europa & 30.4  & 4     &  95.1 & 113   & 3.77  & 1.513 & 16.90 & 1     & 1     & 5     & 2    \\\\\n",
       "\tFord Pantera L & 15.8  & 8     & 351.0 & 264   & 4.22  & 3.170 & 14.50 & 0     & 1     & 5     & 4    \\\\\n",
       "\tFerrari Dino & 19.7  & 6     & 145.0 & 175   & 3.62  & 2.770 & 15.50 & 0     & 1     & 5     & 6    \\\\\n",
       "\tMaserati Bora & 15.0  & 8     & 301.0 & 335   & 3.54  & 3.570 & 14.60 & 0     & 1     & 5     & 8    \\\\\n",
       "\tVolvo 142E & 21.4  & 4     & 121.0 & 109   & 4.11  & 2.780 & 18.60 & 1     & 1     & 4     & 2    \\\\\n",
       "\\end{tabular}\n"
      ],
      "text/markdown": [
       "\n",
       "| <!--/--> | mpg | cyl | disp | hp | drat | wt | qsec | vs | am | gear | carb | \n",
       "|---|---|---|---|---|---|---|---|---|---|---|---|---|---|---|---|---|---|---|---|---|---|---|---|---|---|---|---|---|---|---|---|\n",
       "| Mazda RX4 | 21.0  | 6     | 160.0 | 110   | 3.90  | 2.620 | 16.46 | 0     | 1     | 4     | 4     | \n",
       "| Mazda RX4 Wag | 21.0  | 6     | 160.0 | 110   | 3.90  | 2.875 | 17.02 | 0     | 1     | 4     | 4     | \n",
       "| Datsun 710 | 22.8  | 4     | 108.0 |  93   | 3.85  | 2.320 | 18.61 | 1     | 1     | 4     | 1     | \n",
       "| Hornet 4 Drive | 21.4  | 6     | 258.0 | 110   | 3.08  | 3.215 | 19.44 | 1     | 0     | 3     | 1     | \n",
       "| Hornet Sportabout | 18.7  | 8     | 360.0 | 175   | 3.15  | 3.440 | 17.02 | 0     | 0     | 3     | 2     | \n",
       "| Valiant | 18.1  | 6     | 225.0 | 105   | 2.76  | 3.460 | 20.22 | 1     | 0     | 3     | 1     | \n",
       "| Duster 360 | 14.3  | 8     | 360.0 | 245   | 3.21  | 3.570 | 15.84 | 0     | 0     | 3     | 4     | \n",
       "| Merc 240D | 24.4  | 4     | 146.7 |  62   | 3.69  | 3.190 | 20.00 | 1     | 0     | 4     | 2     | \n",
       "| Merc 230 | 22.8  | 4     | 140.8 |  95   | 3.92  | 3.150 | 22.90 | 1     | 0     | 4     | 2     | \n",
       "| Merc 280 | 19.2  | 6     | 167.6 | 123   | 3.92  | 3.440 | 18.30 | 1     | 0     | 4     | 4     | \n",
       "| Merc 280C | 17.8  | 6     | 167.6 | 123   | 3.92  | 3.440 | 18.90 | 1     | 0     | 4     | 4     | \n",
       "| Merc 450SE | 16.4  | 8     | 275.8 | 180   | 3.07  | 4.070 | 17.40 | 0     | 0     | 3     | 3     | \n",
       "| Merc 450SL | 17.3  | 8     | 275.8 | 180   | 3.07  | 3.730 | 17.60 | 0     | 0     | 3     | 3     | \n",
       "| Merc 450SLC | 15.2  | 8     | 275.8 | 180   | 3.07  | 3.780 | 18.00 | 0     | 0     | 3     | 3     | \n",
       "| Cadillac Fleetwood | 10.4  | 8     | 472.0 | 205   | 2.93  | 5.250 | 17.98 | 0     | 0     | 3     | 4     | \n",
       "| Lincoln Continental | 10.4  | 8     | 460.0 | 215   | 3.00  | 5.424 | 17.82 | 0     | 0     | 3     | 4     | \n",
       "| Chrysler Imperial | 14.7  | 8     | 440.0 | 230   | 3.23  | 5.345 | 17.42 | 0     | 0     | 3     | 4     | \n",
       "| Fiat 128 | 32.4  | 4     |  78.7 |  66   | 4.08  | 2.200 | 19.47 | 1     | 1     | 4     | 1     | \n",
       "| Honda Civic | 30.4  | 4     |  75.7 |  52   | 4.93  | 1.615 | 18.52 | 1     | 1     | 4     | 2     | \n",
       "| Toyota Corolla | 33.9  | 4     |  71.1 |  65   | 4.22  | 1.835 | 19.90 | 1     | 1     | 4     | 1     | \n",
       "| Toyota Corona | 21.5  | 4     | 120.1 |  97   | 3.70  | 2.465 | 20.01 | 1     | 0     | 3     | 1     | \n",
       "| Dodge Challenger | 15.5  | 8     | 318.0 | 150   | 2.76  | 3.520 | 16.87 | 0     | 0     | 3     | 2     | \n",
       "| AMC Javelin | 15.2  | 8     | 304.0 | 150   | 3.15  | 3.435 | 17.30 | 0     | 0     | 3     | 2     | \n",
       "| Camaro Z28 | 13.3  | 8     | 350.0 | 245   | 3.73  | 3.840 | 15.41 | 0     | 0     | 3     | 4     | \n",
       "| Pontiac Firebird | 19.2  | 8     | 400.0 | 175   | 3.08  | 3.845 | 17.05 | 0     | 0     | 3     | 2     | \n",
       "| Fiat X1-9 | 27.3  | 4     |  79.0 |  66   | 4.08  | 1.935 | 18.90 | 1     | 1     | 4     | 1     | \n",
       "| Porsche 914-2 | 26.0  | 4     | 120.3 |  91   | 4.43  | 2.140 | 16.70 | 0     | 1     | 5     | 2     | \n",
       "| Lotus Europa | 30.4  | 4     |  95.1 | 113   | 3.77  | 1.513 | 16.90 | 1     | 1     | 5     | 2     | \n",
       "| Ford Pantera L | 15.8  | 8     | 351.0 | 264   | 4.22  | 3.170 | 14.50 | 0     | 1     | 5     | 4     | \n",
       "| Ferrari Dino | 19.7  | 6     | 145.0 | 175   | 3.62  | 2.770 | 15.50 | 0     | 1     | 5     | 6     | \n",
       "| Maserati Bora | 15.0  | 8     | 301.0 | 335   | 3.54  | 3.570 | 14.60 | 0     | 1     | 5     | 8     | \n",
       "| Volvo 142E | 21.4  | 4     | 121.0 | 109   | 4.11  | 2.780 | 18.60 | 1     | 1     | 4     | 2     | \n",
       "\n",
       "\n"
      ],
      "text/plain": [
       "                    mpg  cyl disp  hp  drat wt    qsec  vs am gear carb\n",
       "Mazda RX4           21.0 6   160.0 110 3.90 2.620 16.46 0  1  4    4   \n",
       "Mazda RX4 Wag       21.0 6   160.0 110 3.90 2.875 17.02 0  1  4    4   \n",
       "Datsun 710          22.8 4   108.0  93 3.85 2.320 18.61 1  1  4    1   \n",
       "Hornet 4 Drive      21.4 6   258.0 110 3.08 3.215 19.44 1  0  3    1   \n",
       "Hornet Sportabout   18.7 8   360.0 175 3.15 3.440 17.02 0  0  3    2   \n",
       "Valiant             18.1 6   225.0 105 2.76 3.460 20.22 1  0  3    1   \n",
       "Duster 360          14.3 8   360.0 245 3.21 3.570 15.84 0  0  3    4   \n",
       "Merc 240D           24.4 4   146.7  62 3.69 3.190 20.00 1  0  4    2   \n",
       "Merc 230            22.8 4   140.8  95 3.92 3.150 22.90 1  0  4    2   \n",
       "Merc 280            19.2 6   167.6 123 3.92 3.440 18.30 1  0  4    4   \n",
       "Merc 280C           17.8 6   167.6 123 3.92 3.440 18.90 1  0  4    4   \n",
       "Merc 450SE          16.4 8   275.8 180 3.07 4.070 17.40 0  0  3    3   \n",
       "Merc 450SL          17.3 8   275.8 180 3.07 3.730 17.60 0  0  3    3   \n",
       "Merc 450SLC         15.2 8   275.8 180 3.07 3.780 18.00 0  0  3    3   \n",
       "Cadillac Fleetwood  10.4 8   472.0 205 2.93 5.250 17.98 0  0  3    4   \n",
       "Lincoln Continental 10.4 8   460.0 215 3.00 5.424 17.82 0  0  3    4   \n",
       "Chrysler Imperial   14.7 8   440.0 230 3.23 5.345 17.42 0  0  3    4   \n",
       "Fiat 128            32.4 4    78.7  66 4.08 2.200 19.47 1  1  4    1   \n",
       "Honda Civic         30.4 4    75.7  52 4.93 1.615 18.52 1  1  4    2   \n",
       "Toyota Corolla      33.9 4    71.1  65 4.22 1.835 19.90 1  1  4    1   \n",
       "Toyota Corona       21.5 4   120.1  97 3.70 2.465 20.01 1  0  3    1   \n",
       "Dodge Challenger    15.5 8   318.0 150 2.76 3.520 16.87 0  0  3    2   \n",
       "AMC Javelin         15.2 8   304.0 150 3.15 3.435 17.30 0  0  3    2   \n",
       "Camaro Z28          13.3 8   350.0 245 3.73 3.840 15.41 0  0  3    4   \n",
       "Pontiac Firebird    19.2 8   400.0 175 3.08 3.845 17.05 0  0  3    2   \n",
       "Fiat X1-9           27.3 4    79.0  66 4.08 1.935 18.90 1  1  4    1   \n",
       "Porsche 914-2       26.0 4   120.3  91 4.43 2.140 16.70 0  1  5    2   \n",
       "Lotus Europa        30.4 4    95.1 113 3.77 1.513 16.90 1  1  5    2   \n",
       "Ford Pantera L      15.8 8   351.0 264 4.22 3.170 14.50 0  1  5    4   \n",
       "Ferrari Dino        19.7 6   145.0 175 3.62 2.770 15.50 0  1  5    6   \n",
       "Maserati Bora       15.0 8   301.0 335 3.54 3.570 14.60 0  1  5    8   \n",
       "Volvo 142E          21.4 4   121.0 109 4.11 2.780 18.60 1  1  4    2   "
      ]
     },
     "metadata": {},
     "output_type": "display_data"
    }
   ],
   "source": [
    "mtcars"
   ]
  },
  {
   "cell_type": "markdown",
   "metadata": {},
   "source": [
    "## Creating a Data Frame"
   ]
  },
  {
   "cell_type": "code",
   "execution_count": 65,
   "metadata": {},
   "outputs": [
    {
     "data": {
      "text/html": [
       "<table>\n",
       "<thead><tr><th scope=col>month_name</th><th scope=col>month_count</th></tr></thead>\n",
       "<tbody>\n",
       "\t<tr><td>Jan</td><td>1  </td></tr>\n",
       "\t<tr><td>Feb</td><td>2  </td></tr>\n",
       "\t<tr><td>Mar</td><td>3  </td></tr>\n",
       "</tbody>\n",
       "</table>\n"
      ],
      "text/latex": [
       "\\begin{tabular}{r|ll}\n",
       " month\\_name & month\\_count\\\\\n",
       "\\hline\n",
       "\t Jan & 1  \\\\\n",
       "\t Feb & 2  \\\\\n",
       "\t Mar & 3  \\\\\n",
       "\\end{tabular}\n"
      ],
      "text/markdown": [
       "\n",
       "month_name | month_count | \n",
       "|---|---|---|\n",
       "| Jan | 1   | \n",
       "| Feb | 2   | \n",
       "| Mar | 3   | \n",
       "\n",
       "\n"
      ],
      "text/plain": [
       "  month_name month_count\n",
       "1 Jan        1          \n",
       "2 Feb        2          \n",
       "3 Mar        3          "
      ]
     },
     "metadata": {},
     "output_type": "display_data"
    }
   ],
   "source": [
    "df <- data.frame(month_name=c(\"Jan\", \"Feb\", \"Mar\"), month_count=1:3)\n",
    "df"
   ]
  },
  {
   "cell_type": "markdown",
   "metadata": {},
   "source": [
    "## Accessing Data Cells"
   ]
  },
  {
   "cell_type": "code",
   "execution_count": 66,
   "metadata": {},
   "outputs": [
    {
     "data": {
      "text/html": [
       "21"
      ],
      "text/latex": [
       "21"
      ],
      "text/markdown": [
       "21"
      ],
      "text/plain": [
       "[1] 21"
      ]
     },
     "metadata": {},
     "output_type": "display_data"
    },
    {
     "data": {
      "text/html": [
       "21"
      ],
      "text/latex": [
       "21"
      ],
      "text/markdown": [
       "21"
      ],
      "text/plain": [
       "[1] 21"
      ]
     },
     "metadata": {},
     "output_type": "display_data"
    }
   ],
   "source": [
    "mtcars[1, 1]               # access by index\n",
    "mtcars[\"Mazda RX4\", \"mpg\"] # access by row and column labels"
   ]
  },
  {
   "cell_type": "markdown",
   "metadata": {},
   "source": [
    "## Getting Info About a Data Frame"
   ]
  },
  {
   "cell_type": "code",
   "execution_count": 67,
   "metadata": {},
   "outputs": [
    {
     "data": {
      "text/html": [
       "<ol class=list-inline>\n",
       "\t<li>'mpg'</li>\n",
       "\t<li>'cyl'</li>\n",
       "\t<li>'disp'</li>\n",
       "\t<li>'hp'</li>\n",
       "\t<li>'drat'</li>\n",
       "\t<li>'wt'</li>\n",
       "\t<li>'qsec'</li>\n",
       "\t<li>'vs'</li>\n",
       "\t<li>'am'</li>\n",
       "\t<li>'gear'</li>\n",
       "\t<li>'carb'</li>\n",
       "</ol>\n"
      ],
      "text/latex": [
       "\\begin{enumerate*}\n",
       "\\item 'mpg'\n",
       "\\item 'cyl'\n",
       "\\item 'disp'\n",
       "\\item 'hp'\n",
       "\\item 'drat'\n",
       "\\item 'wt'\n",
       "\\item 'qsec'\n",
       "\\item 'vs'\n",
       "\\item 'am'\n",
       "\\item 'gear'\n",
       "\\item 'carb'\n",
       "\\end{enumerate*}\n"
      ],
      "text/markdown": [
       "1. 'mpg'\n",
       "2. 'cyl'\n",
       "3. 'disp'\n",
       "4. 'hp'\n",
       "5. 'drat'\n",
       "6. 'wt'\n",
       "7. 'qsec'\n",
       "8. 'vs'\n",
       "9. 'am'\n",
       "10. 'gear'\n",
       "11. 'carb'\n",
       "\n",
       "\n"
      ],
      "text/plain": [
       " [1] \"mpg\"  \"cyl\"  \"disp\" \"hp\"   \"drat\" \"wt\"   \"qsec\" \"vs\"   \"am\"   \"gear\"\n",
       "[11] \"carb\""
      ]
     },
     "metadata": {},
     "output_type": "display_data"
    },
    {
     "data": {
      "text/html": [
       "32"
      ],
      "text/latex": [
       "32"
      ],
      "text/markdown": [
       "32"
      ],
      "text/plain": [
       "[1] 32"
      ]
     },
     "metadata": {},
     "output_type": "display_data"
    },
    {
     "data": {
      "text/html": [
       "11"
      ],
      "text/latex": [
       "11"
      ],
      "text/markdown": [
       "11"
      ],
      "text/plain": [
       "[1] 11"
      ]
     },
     "metadata": {},
     "output_type": "display_data"
    }
   ],
   "source": [
    "names(mtcars)\n",
    "nrow(mtcars)\n",
    "ncol(mtcars)"
   ]
  },
  {
   "cell_type": "markdown",
   "metadata": {},
   "source": [
    "## Selecting Columns in Data Frames"
   ]
  },
  {
   "cell_type": "code",
   "execution_count": 68,
   "metadata": {},
   "outputs": [
    {
     "name": "stdout",
     "output_type": "stream",
     "text": [
      "                     mpg cyl  hp\n",
      "Mazda RX4           21.0   6 110\n",
      "Mazda RX4 Wag       21.0   6 110\n",
      "Datsun 710          22.8   4  93\n",
      "Hornet 4 Drive      21.4   6 110\n",
      "Hornet Sportabout   18.7   8 175\n",
      "Valiant             18.1   6 105\n",
      "Duster 360          14.3   8 245\n",
      "Merc 240D           24.4   4  62\n",
      "Merc 230            22.8   4  95\n",
      "Merc 280            19.2   6 123\n",
      "Merc 280C           17.8   6 123\n",
      "Merc 450SE          16.4   8 180\n",
      "Merc 450SL          17.3   8 180\n",
      "Merc 450SLC         15.2   8 180\n",
      "Cadillac Fleetwood  10.4   8 205\n",
      "Lincoln Continental 10.4   8 215\n",
      "Chrysler Imperial   14.7   8 230\n",
      "Fiat 128            32.4   4  66\n",
      "Honda Civic         30.4   4  52\n",
      "Toyota Corolla      33.9   4  65\n",
      "Toyota Corona       21.5   4  97\n",
      "Dodge Challenger    15.5   8 150\n",
      "AMC Javelin         15.2   8 150\n",
      "Camaro Z28          13.3   8 245\n",
      "Pontiac Firebird    19.2   8 175\n",
      "Fiat X1-9           27.3   4  66\n",
      "Porsche 914-2       26.0   4  91\n",
      "Lotus Europa        30.4   4 113\n",
      "Ford Pantera L      15.8   8 264\n",
      "Ferrari Dino        19.7   6 175\n",
      "Maserati Bora       15.0   8 335\n",
      "Volvo 142E          21.4   4 109\n"
     ]
    }
   ],
   "source": [
    "cols <- c(\"mpg\", \"cyl\", \"hp\") # slice columns using column names\n",
    "print(mtcars[cols])"
   ]
  },
  {
   "cell_type": "code",
   "execution_count": 69,
   "metadata": {},
   "outputs": [
    {
     "data": {
      "text/html": [
       "<ol class=list-inline>\n",
       "\t<li>21</li>\n",
       "\t<li>21</li>\n",
       "\t<li>22.8</li>\n",
       "\t<li>21.4</li>\n",
       "\t<li>18.7</li>\n",
       "\t<li>18.1</li>\n",
       "\t<li>14.3</li>\n",
       "\t<li>24.4</li>\n",
       "\t<li>22.8</li>\n",
       "\t<li>19.2</li>\n",
       "\t<li>17.8</li>\n",
       "\t<li>16.4</li>\n",
       "\t<li>17.3</li>\n",
       "\t<li>15.2</li>\n",
       "\t<li>10.4</li>\n",
       "\t<li>10.4</li>\n",
       "\t<li>14.7</li>\n",
       "\t<li>32.4</li>\n",
       "\t<li>30.4</li>\n",
       "\t<li>33.9</li>\n",
       "\t<li>21.5</li>\n",
       "\t<li>15.5</li>\n",
       "\t<li>15.2</li>\n",
       "\t<li>13.3</li>\n",
       "\t<li>19.2</li>\n",
       "\t<li>27.3</li>\n",
       "\t<li>26</li>\n",
       "\t<li>30.4</li>\n",
       "\t<li>15.8</li>\n",
       "\t<li>19.7</li>\n",
       "\t<li>15</li>\n",
       "\t<li>21.4</li>\n",
       "</ol>\n"
      ],
      "text/latex": [
       "\\begin{enumerate*}\n",
       "\\item 21\n",
       "\\item 21\n",
       "\\item 22.8\n",
       "\\item 21.4\n",
       "\\item 18.7\n",
       "\\item 18.1\n",
       "\\item 14.3\n",
       "\\item 24.4\n",
       "\\item 22.8\n",
       "\\item 19.2\n",
       "\\item 17.8\n",
       "\\item 16.4\n",
       "\\item 17.3\n",
       "\\item 15.2\n",
       "\\item 10.4\n",
       "\\item 10.4\n",
       "\\item 14.7\n",
       "\\item 32.4\n",
       "\\item 30.4\n",
       "\\item 33.9\n",
       "\\item 21.5\n",
       "\\item 15.5\n",
       "\\item 15.2\n",
       "\\item 13.3\n",
       "\\item 19.2\n",
       "\\item 27.3\n",
       "\\item 26\n",
       "\\item 30.4\n",
       "\\item 15.8\n",
       "\\item 19.7\n",
       "\\item 15\n",
       "\\item 21.4\n",
       "\\end{enumerate*}\n"
      ],
      "text/markdown": [
       "1. 21\n",
       "2. 21\n",
       "3. 22.8\n",
       "4. 21.4\n",
       "5. 18.7\n",
       "6. 18.1\n",
       "7. 14.3\n",
       "8. 24.4\n",
       "9. 22.8\n",
       "10. 19.2\n",
       "11. 17.8\n",
       "12. 16.4\n",
       "13. 17.3\n",
       "14. 15.2\n",
       "15. 10.4\n",
       "16. 10.4\n",
       "17. 14.7\n",
       "18. 32.4\n",
       "19. 30.4\n",
       "20. 33.9\n",
       "21. 21.5\n",
       "22. 15.5\n",
       "23. 15.2\n",
       "24. 13.3\n",
       "25. 19.2\n",
       "26. 27.3\n",
       "27. 26\n",
       "28. 30.4\n",
       "29. 15.8\n",
       "30. 19.7\n",
       "31. 15\n",
       "32. 21.4\n",
       "\n",
       "\n"
      ],
      "text/plain": [
       " [1] 21.0 21.0 22.8 21.4 18.7 18.1 14.3 24.4 22.8 19.2 17.8 16.4 17.3 15.2 10.4\n",
       "[16] 10.4 14.7 32.4 30.4 33.9 21.5 15.5 15.2 13.3 19.2 27.3 26.0 30.4 15.8 19.7\n",
       "[31] 15.0 21.4"
      ]
     },
     "metadata": {},
     "output_type": "display_data"
    }
   ],
   "source": [
    "mtcars$mpg # select single column using $ reference"
   ]
  },
  {
   "cell_type": "markdown",
   "metadata": {},
   "source": [
    "## Selecting Rows in Data Frames"
   ]
  },
  {
   "cell_type": "code",
   "execution_count": 70,
   "metadata": {},
   "outputs": [
    {
     "name": "stdout",
     "output_type": "stream",
     "text": [
      "                   mpg cyl disp  hp drat    wt  qsec vs am gear carb\n",
      "Mazda RX4 Wag     21.0   6  160 110 3.90 2.875 17.02  0  1    4    4\n",
      "Datsun 710        22.8   4  108  93 3.85 2.320 18.61  1  1    4    1\n",
      "Hornet Sportabout 18.7   8  360 175 3.15 3.440 17.02  0  0    3    2\n"
     ]
    }
   ],
   "source": [
    "carIndexes <- c(2, 3, 5)   # slice data frame horizontally using row indexes\n",
    "print(mtcars[carIndexes,])"
   ]
  },
  {
   "cell_type": "code",
   "execution_count": 71,
   "metadata": {},
   "outputs": [
    {
     "name": "stdout",
     "output_type": "stream",
     "text": [
      "              mpg cyl  disp  hp drat    wt  qsec vs am gear carb\n",
      "Lotus Europa 30.4   4  95.1 113 3.77 1.513 16.90  1  1    5    2\n",
      "Camaro Z28   13.3   8 350.0 245 3.73 3.840 15.41  0  0    3    4\n",
      "AMC Javelin  15.2   8 304.0 150 3.15 3.435 17.30  0  0    3    2\n"
     ]
    }
   ],
   "source": [
    "carNames <- c(\"Lotus Europa\", \"Camaro Z28\", \"AMC Javelin\")   # slice data frame horizontally using row names\n",
    "print(mtcars[carNames,])"
   ]
  },
  {
   "cell_type": "markdown",
   "metadata": {},
   "source": [
    "## Getting a Subset of a Data Frame"
   ]
  },
  {
   "cell_type": "code",
   "execution_count": 72,
   "metadata": {},
   "outputs": [
    {
     "name": "stdout",
     "output_type": "stream",
     "text": [
      "               hp    wt\n",
      "Mazda RX4     110 2.620\n",
      "Mazda RX4 Wag 110 2.875\n",
      "Datsun 710     93 2.320\n"
     ]
    }
   ],
   "source": [
    "stats <- as.data.frame(mtcars[c(1,2,3), c(\"hp\", \"wt\")]) # some rows and some columns\n",
    "print(stats)"
   ]
  },
  {
   "cell_type": "code",
   "execution_count": 73,
   "metadata": {},
   "outputs": [
    {
     "name": "stdout",
     "output_type": "stream",
     "text": [
      "                     hp    wt\n",
      "Mazda RX4           110 2.620\n",
      "Mazda RX4 Wag       110 2.875\n",
      "Datsun 710           93 2.320\n",
      "Hornet 4 Drive      110 3.215\n",
      "Hornet Sportabout   175 3.440\n",
      "Valiant             105 3.460\n",
      "Duster 360          245 3.570\n",
      "Merc 240D            62 3.190\n",
      "Merc 230             95 3.150\n",
      "Merc 280            123 3.440\n",
      "Merc 280C           123 3.440\n",
      "Merc 450SE          180 4.070\n",
      "Merc 450SL          180 3.730\n",
      "Merc 450SLC         180 3.780\n",
      "Cadillac Fleetwood  205 5.250\n",
      "Lincoln Continental 215 5.424\n",
      "Chrysler Imperial   230 5.345\n",
      "Fiat 128             66 2.200\n",
      "Honda Civic          52 1.615\n",
      "Toyota Corolla       65 1.835\n",
      "Toyota Corona        97 2.465\n",
      "Dodge Challenger    150 3.520\n",
      "AMC Javelin         150 3.435\n",
      "Camaro Z28          245 3.840\n",
      "Pontiac Firebird    175 3.845\n",
      "Fiat X1-9            66 1.935\n",
      "Porsche 914-2        91 2.140\n",
      "Lotus Europa        113 1.513\n",
      "Ford Pantera L      264 3.170\n",
      "Ferrari Dino        175 2.770\n",
      "Maserati Bora       335 3.570\n",
      "Volvo 142E          109 2.780\n"
     ]
    }
   ],
   "source": [
    "stats <- as.data.frame(mtcars[, c(\"hp\", \"wt\")])         # all rows and some columns\n",
    "print(stats)"
   ]
  },
  {
   "cell_type": "code",
   "execution_count": 74,
   "metadata": {},
   "outputs": [
    {
     "name": "stdout",
     "output_type": "stream",
     "text": [
      "               mpg cyl disp  hp drat    wt  qsec vs am gear carb\n",
      "Mazda RX4     21.0   6  160 110 3.90 2.620 16.46  0  1    4    4\n",
      "Mazda RX4 Wag 21.0   6  160 110 3.90 2.875 17.02  0  1    4    4\n",
      "Datsun 710    22.8   4  108  93 3.85 2.320 18.61  1  1    4    1\n"
     ]
    }
   ],
   "source": [
    "stats <- as.data.frame(mtcars[c(1,2,3),]) # some rows and all columns\n",
    "print(stats)"
   ]
  },
  {
   "cell_type": "markdown",
   "metadata": {},
   "source": [
    "## Sorting Data in Data Frame by Attributes"
   ]
  },
  {
   "cell_type": "code",
   "execution_count": 75,
   "metadata": {},
   "outputs": [
    {
     "data": {
      "text/html": [
       "<table>\n",
       "<thead><tr><th></th><th scope=col>mpg</th><th scope=col>cyl</th><th scope=col>disp</th><th scope=col>hp</th><th scope=col>drat</th><th scope=col>wt</th><th scope=col>qsec</th><th scope=col>vs</th><th scope=col>am</th><th scope=col>gear</th><th scope=col>carb</th></tr></thead>\n",
       "<tbody>\n",
       "\t<tr><th scope=row>Cadillac Fleetwood</th><td>10.4 </td><td>8    </td><td>472.0</td><td>205  </td><td>2.93 </td><td>5.250</td><td>17.98</td><td>0    </td><td>0    </td><td>3    </td><td>4    </td></tr>\n",
       "\t<tr><th scope=row>Lincoln Continental</th><td>10.4 </td><td>8    </td><td>460.0</td><td>215  </td><td>3.00 </td><td>5.424</td><td>17.82</td><td>0    </td><td>0    </td><td>3    </td><td>4    </td></tr>\n",
       "\t<tr><th scope=row>Camaro Z28</th><td>13.3 </td><td>8    </td><td>350.0</td><td>245  </td><td>3.73 </td><td>3.840</td><td>15.41</td><td>0    </td><td>0    </td><td>3    </td><td>4    </td></tr>\n",
       "\t<tr><th scope=row>Duster 360</th><td>14.3 </td><td>8    </td><td>360.0</td><td>245  </td><td>3.21 </td><td>3.570</td><td>15.84</td><td>0    </td><td>0    </td><td>3    </td><td>4    </td></tr>\n",
       "\t<tr><th scope=row>Chrysler Imperial</th><td>14.7 </td><td>8    </td><td>440.0</td><td>230  </td><td>3.23 </td><td>5.345</td><td>17.42</td><td>0    </td><td>0    </td><td>3    </td><td>4    </td></tr>\n",
       "\t<tr><th scope=row>Maserati Bora</th><td>15.0 </td><td>8    </td><td>301.0</td><td>335  </td><td>3.54 </td><td>3.570</td><td>14.60</td><td>0    </td><td>1    </td><td>5    </td><td>8    </td></tr>\n",
       "\t<tr><th scope=row>Merc 450SLC</th><td>15.2 </td><td>8    </td><td>275.8</td><td>180  </td><td>3.07 </td><td>3.780</td><td>18.00</td><td>0    </td><td>0    </td><td>3    </td><td>3    </td></tr>\n",
       "\t<tr><th scope=row>AMC Javelin</th><td>15.2 </td><td>8    </td><td>304.0</td><td>150  </td><td>3.15 </td><td>3.435</td><td>17.30</td><td>0    </td><td>0    </td><td>3    </td><td>2    </td></tr>\n",
       "\t<tr><th scope=row>Dodge Challenger</th><td>15.5 </td><td>8    </td><td>318.0</td><td>150  </td><td>2.76 </td><td>3.520</td><td>16.87</td><td>0    </td><td>0    </td><td>3    </td><td>2    </td></tr>\n",
       "\t<tr><th scope=row>Ford Pantera L</th><td>15.8 </td><td>8    </td><td>351.0</td><td>264  </td><td>4.22 </td><td>3.170</td><td>14.50</td><td>0    </td><td>1    </td><td>5    </td><td>4    </td></tr>\n",
       "\t<tr><th scope=row>Merc 450SE</th><td>16.4 </td><td>8    </td><td>275.8</td><td>180  </td><td>3.07 </td><td>4.070</td><td>17.40</td><td>0    </td><td>0    </td><td>3    </td><td>3    </td></tr>\n",
       "\t<tr><th scope=row>Merc 450SL</th><td>17.3 </td><td>8    </td><td>275.8</td><td>180  </td><td>3.07 </td><td>3.730</td><td>17.60</td><td>0    </td><td>0    </td><td>3    </td><td>3    </td></tr>\n",
       "\t<tr><th scope=row>Merc 280C</th><td>17.8 </td><td>6    </td><td>167.6</td><td>123  </td><td>3.92 </td><td>3.440</td><td>18.90</td><td>1    </td><td>0    </td><td>4    </td><td>4    </td></tr>\n",
       "\t<tr><th scope=row>Valiant</th><td>18.1 </td><td>6    </td><td>225.0</td><td>105  </td><td>2.76 </td><td>3.460</td><td>20.22</td><td>1    </td><td>0    </td><td>3    </td><td>1    </td></tr>\n",
       "\t<tr><th scope=row>Hornet Sportabout</th><td>18.7 </td><td>8    </td><td>360.0</td><td>175  </td><td>3.15 </td><td>3.440</td><td>17.02</td><td>0    </td><td>0    </td><td>3    </td><td>2    </td></tr>\n",
       "\t<tr><th scope=row>Merc 280</th><td>19.2 </td><td>6    </td><td>167.6</td><td>123  </td><td>3.92 </td><td>3.440</td><td>18.30</td><td>1    </td><td>0    </td><td>4    </td><td>4    </td></tr>\n",
       "\t<tr><th scope=row>Pontiac Firebird</th><td>19.2 </td><td>8    </td><td>400.0</td><td>175  </td><td>3.08 </td><td>3.845</td><td>17.05</td><td>0    </td><td>0    </td><td>3    </td><td>2    </td></tr>\n",
       "\t<tr><th scope=row>Ferrari Dino</th><td>19.7 </td><td>6    </td><td>145.0</td><td>175  </td><td>3.62 </td><td>2.770</td><td>15.50</td><td>0    </td><td>1    </td><td>5    </td><td>6    </td></tr>\n",
       "\t<tr><th scope=row>Mazda RX4</th><td>21.0 </td><td>6    </td><td>160.0</td><td>110  </td><td>3.90 </td><td>2.620</td><td>16.46</td><td>0    </td><td>1    </td><td>4    </td><td>4    </td></tr>\n",
       "\t<tr><th scope=row>Mazda RX4 Wag</th><td>21.0 </td><td>6    </td><td>160.0</td><td>110  </td><td>3.90 </td><td>2.875</td><td>17.02</td><td>0    </td><td>1    </td><td>4    </td><td>4    </td></tr>\n",
       "\t<tr><th scope=row>Hornet 4 Drive</th><td>21.4 </td><td>6    </td><td>258.0</td><td>110  </td><td>3.08 </td><td>3.215</td><td>19.44</td><td>1    </td><td>0    </td><td>3    </td><td>1    </td></tr>\n",
       "\t<tr><th scope=row>Volvo 142E</th><td>21.4 </td><td>4    </td><td>121.0</td><td>109  </td><td>4.11 </td><td>2.780</td><td>18.60</td><td>1    </td><td>1    </td><td>4    </td><td>2    </td></tr>\n",
       "\t<tr><th scope=row>Toyota Corona</th><td>21.5 </td><td>4    </td><td>120.1</td><td> 97  </td><td>3.70 </td><td>2.465</td><td>20.01</td><td>1    </td><td>0    </td><td>3    </td><td>1    </td></tr>\n",
       "\t<tr><th scope=row>Datsun 710</th><td>22.8 </td><td>4    </td><td>108.0</td><td> 93  </td><td>3.85 </td><td>2.320</td><td>18.61</td><td>1    </td><td>1    </td><td>4    </td><td>1    </td></tr>\n",
       "\t<tr><th scope=row>Merc 230</th><td>22.8 </td><td>4    </td><td>140.8</td><td> 95  </td><td>3.92 </td><td>3.150</td><td>22.90</td><td>1    </td><td>0    </td><td>4    </td><td>2    </td></tr>\n",
       "\t<tr><th scope=row>Merc 240D</th><td>24.4 </td><td>4    </td><td>146.7</td><td> 62  </td><td>3.69 </td><td>3.190</td><td>20.00</td><td>1    </td><td>0    </td><td>4    </td><td>2    </td></tr>\n",
       "\t<tr><th scope=row>Porsche 914-2</th><td>26.0 </td><td>4    </td><td>120.3</td><td> 91  </td><td>4.43 </td><td>2.140</td><td>16.70</td><td>0    </td><td>1    </td><td>5    </td><td>2    </td></tr>\n",
       "\t<tr><th scope=row>Fiat X1-9</th><td>27.3 </td><td>4    </td><td> 79.0</td><td> 66  </td><td>4.08 </td><td>1.935</td><td>18.90</td><td>1    </td><td>1    </td><td>4    </td><td>1    </td></tr>\n",
       "\t<tr><th scope=row>Honda Civic</th><td>30.4 </td><td>4    </td><td> 75.7</td><td> 52  </td><td>4.93 </td><td>1.615</td><td>18.52</td><td>1    </td><td>1    </td><td>4    </td><td>2    </td></tr>\n",
       "\t<tr><th scope=row>Lotus Europa</th><td>30.4 </td><td>4    </td><td> 95.1</td><td>113  </td><td>3.77 </td><td>1.513</td><td>16.90</td><td>1    </td><td>1    </td><td>5    </td><td>2    </td></tr>\n",
       "\t<tr><th scope=row>Fiat 128</th><td>32.4 </td><td>4    </td><td> 78.7</td><td> 66  </td><td>4.08 </td><td>2.200</td><td>19.47</td><td>1    </td><td>1    </td><td>4    </td><td>1    </td></tr>\n",
       "\t<tr><th scope=row>Toyota Corolla</th><td>33.9 </td><td>4    </td><td> 71.1</td><td> 65  </td><td>4.22 </td><td>1.835</td><td>19.90</td><td>1    </td><td>1    </td><td>4    </td><td>1    </td></tr>\n",
       "</tbody>\n",
       "</table>\n"
      ],
      "text/latex": [
       "\\begin{tabular}{r|lllllllllll}\n",
       "  & mpg & cyl & disp & hp & drat & wt & qsec & vs & am & gear & carb\\\\\n",
       "\\hline\n",
       "\tCadillac Fleetwood & 10.4  & 8     & 472.0 & 205   & 2.93  & 5.250 & 17.98 & 0     & 0     & 3     & 4    \\\\\n",
       "\tLincoln Continental & 10.4  & 8     & 460.0 & 215   & 3.00  & 5.424 & 17.82 & 0     & 0     & 3     & 4    \\\\\n",
       "\tCamaro Z28 & 13.3  & 8     & 350.0 & 245   & 3.73  & 3.840 & 15.41 & 0     & 0     & 3     & 4    \\\\\n",
       "\tDuster 360 & 14.3  & 8     & 360.0 & 245   & 3.21  & 3.570 & 15.84 & 0     & 0     & 3     & 4    \\\\\n",
       "\tChrysler Imperial & 14.7  & 8     & 440.0 & 230   & 3.23  & 5.345 & 17.42 & 0     & 0     & 3     & 4    \\\\\n",
       "\tMaserati Bora & 15.0  & 8     & 301.0 & 335   & 3.54  & 3.570 & 14.60 & 0     & 1     & 5     & 8    \\\\\n",
       "\tMerc 450SLC & 15.2  & 8     & 275.8 & 180   & 3.07  & 3.780 & 18.00 & 0     & 0     & 3     & 3    \\\\\n",
       "\tAMC Javelin & 15.2  & 8     & 304.0 & 150   & 3.15  & 3.435 & 17.30 & 0     & 0     & 3     & 2    \\\\\n",
       "\tDodge Challenger & 15.5  & 8     & 318.0 & 150   & 2.76  & 3.520 & 16.87 & 0     & 0     & 3     & 2    \\\\\n",
       "\tFord Pantera L & 15.8  & 8     & 351.0 & 264   & 4.22  & 3.170 & 14.50 & 0     & 1     & 5     & 4    \\\\\n",
       "\tMerc 450SE & 16.4  & 8     & 275.8 & 180   & 3.07  & 4.070 & 17.40 & 0     & 0     & 3     & 3    \\\\\n",
       "\tMerc 450SL & 17.3  & 8     & 275.8 & 180   & 3.07  & 3.730 & 17.60 & 0     & 0     & 3     & 3    \\\\\n",
       "\tMerc 280C & 17.8  & 6     & 167.6 & 123   & 3.92  & 3.440 & 18.90 & 1     & 0     & 4     & 4    \\\\\n",
       "\tValiant & 18.1  & 6     & 225.0 & 105   & 2.76  & 3.460 & 20.22 & 1     & 0     & 3     & 1    \\\\\n",
       "\tHornet Sportabout & 18.7  & 8     & 360.0 & 175   & 3.15  & 3.440 & 17.02 & 0     & 0     & 3     & 2    \\\\\n",
       "\tMerc 280 & 19.2  & 6     & 167.6 & 123   & 3.92  & 3.440 & 18.30 & 1     & 0     & 4     & 4    \\\\\n",
       "\tPontiac Firebird & 19.2  & 8     & 400.0 & 175   & 3.08  & 3.845 & 17.05 & 0     & 0     & 3     & 2    \\\\\n",
       "\tFerrari Dino & 19.7  & 6     & 145.0 & 175   & 3.62  & 2.770 & 15.50 & 0     & 1     & 5     & 6    \\\\\n",
       "\tMazda RX4 & 21.0  & 6     & 160.0 & 110   & 3.90  & 2.620 & 16.46 & 0     & 1     & 4     & 4    \\\\\n",
       "\tMazda RX4 Wag & 21.0  & 6     & 160.0 & 110   & 3.90  & 2.875 & 17.02 & 0     & 1     & 4     & 4    \\\\\n",
       "\tHornet 4 Drive & 21.4  & 6     & 258.0 & 110   & 3.08  & 3.215 & 19.44 & 1     & 0     & 3     & 1    \\\\\n",
       "\tVolvo 142E & 21.4  & 4     & 121.0 & 109   & 4.11  & 2.780 & 18.60 & 1     & 1     & 4     & 2    \\\\\n",
       "\tToyota Corona & 21.5  & 4     & 120.1 &  97   & 3.70  & 2.465 & 20.01 & 1     & 0     & 3     & 1    \\\\\n",
       "\tDatsun 710 & 22.8  & 4     & 108.0 &  93   & 3.85  & 2.320 & 18.61 & 1     & 1     & 4     & 1    \\\\\n",
       "\tMerc 230 & 22.8  & 4     & 140.8 &  95   & 3.92  & 3.150 & 22.90 & 1     & 0     & 4     & 2    \\\\\n",
       "\tMerc 240D & 24.4  & 4     & 146.7 &  62   & 3.69  & 3.190 & 20.00 & 1     & 0     & 4     & 2    \\\\\n",
       "\tPorsche 914-2 & 26.0  & 4     & 120.3 &  91   & 4.43  & 2.140 & 16.70 & 0     & 1     & 5     & 2    \\\\\n",
       "\tFiat X1-9 & 27.3  & 4     &  79.0 &  66   & 4.08  & 1.935 & 18.90 & 1     & 1     & 4     & 1    \\\\\n",
       "\tHonda Civic & 30.4  & 4     &  75.7 &  52   & 4.93  & 1.615 & 18.52 & 1     & 1     & 4     & 2    \\\\\n",
       "\tLotus Europa & 30.4  & 4     &  95.1 & 113   & 3.77  & 1.513 & 16.90 & 1     & 1     & 5     & 2    \\\\\n",
       "\tFiat 128 & 32.4  & 4     &  78.7 &  66   & 4.08  & 2.200 & 19.47 & 1     & 1     & 4     & 1    \\\\\n",
       "\tToyota Corolla & 33.9  & 4     &  71.1 &  65   & 4.22  & 1.835 & 19.90 & 1     & 1     & 4     & 1    \\\\\n",
       "\\end{tabular}\n"
      ],
      "text/markdown": [
       "\n",
       "| <!--/--> | mpg | cyl | disp | hp | drat | wt | qsec | vs | am | gear | carb | \n",
       "|---|---|---|---|---|---|---|---|---|---|---|---|---|---|---|---|---|---|---|---|---|---|---|---|---|---|---|---|---|---|---|---|\n",
       "| Cadillac Fleetwood | 10.4  | 8     | 472.0 | 205   | 2.93  | 5.250 | 17.98 | 0     | 0     | 3     | 4     | \n",
       "| Lincoln Continental | 10.4  | 8     | 460.0 | 215   | 3.00  | 5.424 | 17.82 | 0     | 0     | 3     | 4     | \n",
       "| Camaro Z28 | 13.3  | 8     | 350.0 | 245   | 3.73  | 3.840 | 15.41 | 0     | 0     | 3     | 4     | \n",
       "| Duster 360 | 14.3  | 8     | 360.0 | 245   | 3.21  | 3.570 | 15.84 | 0     | 0     | 3     | 4     | \n",
       "| Chrysler Imperial | 14.7  | 8     | 440.0 | 230   | 3.23  | 5.345 | 17.42 | 0     | 0     | 3     | 4     | \n",
       "| Maserati Bora | 15.0  | 8     | 301.0 | 335   | 3.54  | 3.570 | 14.60 | 0     | 1     | 5     | 8     | \n",
       "| Merc 450SLC | 15.2  | 8     | 275.8 | 180   | 3.07  | 3.780 | 18.00 | 0     | 0     | 3     | 3     | \n",
       "| AMC Javelin | 15.2  | 8     | 304.0 | 150   | 3.15  | 3.435 | 17.30 | 0     | 0     | 3     | 2     | \n",
       "| Dodge Challenger | 15.5  | 8     | 318.0 | 150   | 2.76  | 3.520 | 16.87 | 0     | 0     | 3     | 2     | \n",
       "| Ford Pantera L | 15.8  | 8     | 351.0 | 264   | 4.22  | 3.170 | 14.50 | 0     | 1     | 5     | 4     | \n",
       "| Merc 450SE | 16.4  | 8     | 275.8 | 180   | 3.07  | 4.070 | 17.40 | 0     | 0     | 3     | 3     | \n",
       "| Merc 450SL | 17.3  | 8     | 275.8 | 180   | 3.07  | 3.730 | 17.60 | 0     | 0     | 3     | 3     | \n",
       "| Merc 280C | 17.8  | 6     | 167.6 | 123   | 3.92  | 3.440 | 18.90 | 1     | 0     | 4     | 4     | \n",
       "| Valiant | 18.1  | 6     | 225.0 | 105   | 2.76  | 3.460 | 20.22 | 1     | 0     | 3     | 1     | \n",
       "| Hornet Sportabout | 18.7  | 8     | 360.0 | 175   | 3.15  | 3.440 | 17.02 | 0     | 0     | 3     | 2     | \n",
       "| Merc 280 | 19.2  | 6     | 167.6 | 123   | 3.92  | 3.440 | 18.30 | 1     | 0     | 4     | 4     | \n",
       "| Pontiac Firebird | 19.2  | 8     | 400.0 | 175   | 3.08  | 3.845 | 17.05 | 0     | 0     | 3     | 2     | \n",
       "| Ferrari Dino | 19.7  | 6     | 145.0 | 175   | 3.62  | 2.770 | 15.50 | 0     | 1     | 5     | 6     | \n",
       "| Mazda RX4 | 21.0  | 6     | 160.0 | 110   | 3.90  | 2.620 | 16.46 | 0     | 1     | 4     | 4     | \n",
       "| Mazda RX4 Wag | 21.0  | 6     | 160.0 | 110   | 3.90  | 2.875 | 17.02 | 0     | 1     | 4     | 4     | \n",
       "| Hornet 4 Drive | 21.4  | 6     | 258.0 | 110   | 3.08  | 3.215 | 19.44 | 1     | 0     | 3     | 1     | \n",
       "| Volvo 142E | 21.4  | 4     | 121.0 | 109   | 4.11  | 2.780 | 18.60 | 1     | 1     | 4     | 2     | \n",
       "| Toyota Corona | 21.5  | 4     | 120.1 |  97   | 3.70  | 2.465 | 20.01 | 1     | 0     | 3     | 1     | \n",
       "| Datsun 710 | 22.8  | 4     | 108.0 |  93   | 3.85  | 2.320 | 18.61 | 1     | 1     | 4     | 1     | \n",
       "| Merc 230 | 22.8  | 4     | 140.8 |  95   | 3.92  | 3.150 | 22.90 | 1     | 0     | 4     | 2     | \n",
       "| Merc 240D | 24.4  | 4     | 146.7 |  62   | 3.69  | 3.190 | 20.00 | 1     | 0     | 4     | 2     | \n",
       "| Porsche 914-2 | 26.0  | 4     | 120.3 |  91   | 4.43  | 2.140 | 16.70 | 0     | 1     | 5     | 2     | \n",
       "| Fiat X1-9 | 27.3  | 4     |  79.0 |  66   | 4.08  | 1.935 | 18.90 | 1     | 1     | 4     | 1     | \n",
       "| Honda Civic | 30.4  | 4     |  75.7 |  52   | 4.93  | 1.615 | 18.52 | 1     | 1     | 4     | 2     | \n",
       "| Lotus Europa | 30.4  | 4     |  95.1 | 113   | 3.77  | 1.513 | 16.90 | 1     | 1     | 5     | 2     | \n",
       "| Fiat 128 | 32.4  | 4     |  78.7 |  66   | 4.08  | 2.200 | 19.47 | 1     | 1     | 4     | 1     | \n",
       "| Toyota Corolla | 33.9  | 4     |  71.1 |  65   | 4.22  | 1.835 | 19.90 | 1     | 1     | 4     | 1     | \n",
       "\n",
       "\n"
      ],
      "text/plain": [
       "                    mpg  cyl disp  hp  drat wt    qsec  vs am gear carb\n",
       "Cadillac Fleetwood  10.4 8   472.0 205 2.93 5.250 17.98 0  0  3    4   \n",
       "Lincoln Continental 10.4 8   460.0 215 3.00 5.424 17.82 0  0  3    4   \n",
       "Camaro Z28          13.3 8   350.0 245 3.73 3.840 15.41 0  0  3    4   \n",
       "Duster 360          14.3 8   360.0 245 3.21 3.570 15.84 0  0  3    4   \n",
       "Chrysler Imperial   14.7 8   440.0 230 3.23 5.345 17.42 0  0  3    4   \n",
       "Maserati Bora       15.0 8   301.0 335 3.54 3.570 14.60 0  1  5    8   \n",
       "Merc 450SLC         15.2 8   275.8 180 3.07 3.780 18.00 0  0  3    3   \n",
       "AMC Javelin         15.2 8   304.0 150 3.15 3.435 17.30 0  0  3    2   \n",
       "Dodge Challenger    15.5 8   318.0 150 2.76 3.520 16.87 0  0  3    2   \n",
       "Ford Pantera L      15.8 8   351.0 264 4.22 3.170 14.50 0  1  5    4   \n",
       "Merc 450SE          16.4 8   275.8 180 3.07 4.070 17.40 0  0  3    3   \n",
       "Merc 450SL          17.3 8   275.8 180 3.07 3.730 17.60 0  0  3    3   \n",
       "Merc 280C           17.8 6   167.6 123 3.92 3.440 18.90 1  0  4    4   \n",
       "Valiant             18.1 6   225.0 105 2.76 3.460 20.22 1  0  3    1   \n",
       "Hornet Sportabout   18.7 8   360.0 175 3.15 3.440 17.02 0  0  3    2   \n",
       "Merc 280            19.2 6   167.6 123 3.92 3.440 18.30 1  0  4    4   \n",
       "Pontiac Firebird    19.2 8   400.0 175 3.08 3.845 17.05 0  0  3    2   \n",
       "Ferrari Dino        19.7 6   145.0 175 3.62 2.770 15.50 0  1  5    6   \n",
       "Mazda RX4           21.0 6   160.0 110 3.90 2.620 16.46 0  1  4    4   \n",
       "Mazda RX4 Wag       21.0 6   160.0 110 3.90 2.875 17.02 0  1  4    4   \n",
       "Hornet 4 Drive      21.4 6   258.0 110 3.08 3.215 19.44 1  0  3    1   \n",
       "Volvo 142E          21.4 4   121.0 109 4.11 2.780 18.60 1  1  4    2   \n",
       "Toyota Corona       21.5 4   120.1  97 3.70 2.465 20.01 1  0  3    1   \n",
       "Datsun 710          22.8 4   108.0  93 3.85 2.320 18.61 1  1  4    1   \n",
       "Merc 230            22.8 4   140.8  95 3.92 3.150 22.90 1  0  4    2   \n",
       "Merc 240D           24.4 4   146.7  62 3.69 3.190 20.00 1  0  4    2   \n",
       "Porsche 914-2       26.0 4   120.3  91 4.43 2.140 16.70 0  1  5    2   \n",
       "Fiat X1-9           27.3 4    79.0  66 4.08 1.935 18.90 1  1  4    1   \n",
       "Honda Civic         30.4 4    75.7  52 4.93 1.615 18.52 1  1  4    2   \n",
       "Lotus Europa        30.4 4    95.1 113 3.77 1.513 16.90 1  1  5    2   \n",
       "Fiat 128            32.4 4    78.7  66 4.08 2.200 19.47 1  1  4    1   \n",
       "Toyota Corolla      33.9 4    71.1  65 4.22 1.835 19.90 1  1  4    1   "
      ]
     },
     "metadata": {},
     "output_type": "display_data"
    }
   ],
   "source": [
    "sortedDF <- mtcars[order(mtcars$mpg),] # ascending\n",
    "sortedDF"
   ]
  },
  {
   "cell_type": "code",
   "execution_count": 76,
   "metadata": {},
   "outputs": [
    {
     "data": {
      "text/html": [
       "<table>\n",
       "<thead><tr><th></th><th scope=col>mpg</th><th scope=col>cyl</th><th scope=col>disp</th><th scope=col>hp</th><th scope=col>drat</th><th scope=col>wt</th><th scope=col>qsec</th><th scope=col>vs</th><th scope=col>am</th><th scope=col>gear</th><th scope=col>carb</th></tr></thead>\n",
       "<tbody>\n",
       "\t<tr><th scope=row>Toyota Corolla</th><td>33.9 </td><td>4    </td><td> 71.1</td><td> 65  </td><td>4.22 </td><td>1.835</td><td>19.90</td><td>1    </td><td>1    </td><td>4    </td><td>1    </td></tr>\n",
       "\t<tr><th scope=row>Fiat 128</th><td>32.4 </td><td>4    </td><td> 78.7</td><td> 66  </td><td>4.08 </td><td>2.200</td><td>19.47</td><td>1    </td><td>1    </td><td>4    </td><td>1    </td></tr>\n",
       "\t<tr><th scope=row>Honda Civic</th><td>30.4 </td><td>4    </td><td> 75.7</td><td> 52  </td><td>4.93 </td><td>1.615</td><td>18.52</td><td>1    </td><td>1    </td><td>4    </td><td>2    </td></tr>\n",
       "\t<tr><th scope=row>Lotus Europa</th><td>30.4 </td><td>4    </td><td> 95.1</td><td>113  </td><td>3.77 </td><td>1.513</td><td>16.90</td><td>1    </td><td>1    </td><td>5    </td><td>2    </td></tr>\n",
       "\t<tr><th scope=row>Fiat X1-9</th><td>27.3 </td><td>4    </td><td> 79.0</td><td> 66  </td><td>4.08 </td><td>1.935</td><td>18.90</td><td>1    </td><td>1    </td><td>4    </td><td>1    </td></tr>\n",
       "\t<tr><th scope=row>Porsche 914-2</th><td>26.0 </td><td>4    </td><td>120.3</td><td> 91  </td><td>4.43 </td><td>2.140</td><td>16.70</td><td>0    </td><td>1    </td><td>5    </td><td>2    </td></tr>\n",
       "\t<tr><th scope=row>Merc 240D</th><td>24.4 </td><td>4    </td><td>146.7</td><td> 62  </td><td>3.69 </td><td>3.190</td><td>20.00</td><td>1    </td><td>0    </td><td>4    </td><td>2    </td></tr>\n",
       "\t<tr><th scope=row>Datsun 710</th><td>22.8 </td><td>4    </td><td>108.0</td><td> 93  </td><td>3.85 </td><td>2.320</td><td>18.61</td><td>1    </td><td>1    </td><td>4    </td><td>1    </td></tr>\n",
       "\t<tr><th scope=row>Merc 230</th><td>22.8 </td><td>4    </td><td>140.8</td><td> 95  </td><td>3.92 </td><td>3.150</td><td>22.90</td><td>1    </td><td>0    </td><td>4    </td><td>2    </td></tr>\n",
       "\t<tr><th scope=row>Toyota Corona</th><td>21.5 </td><td>4    </td><td>120.1</td><td> 97  </td><td>3.70 </td><td>2.465</td><td>20.01</td><td>1    </td><td>0    </td><td>3    </td><td>1    </td></tr>\n",
       "\t<tr><th scope=row>Hornet 4 Drive</th><td>21.4 </td><td>6    </td><td>258.0</td><td>110  </td><td>3.08 </td><td>3.215</td><td>19.44</td><td>1    </td><td>0    </td><td>3    </td><td>1    </td></tr>\n",
       "\t<tr><th scope=row>Volvo 142E</th><td>21.4 </td><td>4    </td><td>121.0</td><td>109  </td><td>4.11 </td><td>2.780</td><td>18.60</td><td>1    </td><td>1    </td><td>4    </td><td>2    </td></tr>\n",
       "\t<tr><th scope=row>Mazda RX4</th><td>21.0 </td><td>6    </td><td>160.0</td><td>110  </td><td>3.90 </td><td>2.620</td><td>16.46</td><td>0    </td><td>1    </td><td>4    </td><td>4    </td></tr>\n",
       "\t<tr><th scope=row>Mazda RX4 Wag</th><td>21.0 </td><td>6    </td><td>160.0</td><td>110  </td><td>3.90 </td><td>2.875</td><td>17.02</td><td>0    </td><td>1    </td><td>4    </td><td>4    </td></tr>\n",
       "\t<tr><th scope=row>Ferrari Dino</th><td>19.7 </td><td>6    </td><td>145.0</td><td>175  </td><td>3.62 </td><td>2.770</td><td>15.50</td><td>0    </td><td>1    </td><td>5    </td><td>6    </td></tr>\n",
       "\t<tr><th scope=row>Merc 280</th><td>19.2 </td><td>6    </td><td>167.6</td><td>123  </td><td>3.92 </td><td>3.440</td><td>18.30</td><td>1    </td><td>0    </td><td>4    </td><td>4    </td></tr>\n",
       "\t<tr><th scope=row>Pontiac Firebird</th><td>19.2 </td><td>8    </td><td>400.0</td><td>175  </td><td>3.08 </td><td>3.845</td><td>17.05</td><td>0    </td><td>0    </td><td>3    </td><td>2    </td></tr>\n",
       "\t<tr><th scope=row>Hornet Sportabout</th><td>18.7 </td><td>8    </td><td>360.0</td><td>175  </td><td>3.15 </td><td>3.440</td><td>17.02</td><td>0    </td><td>0    </td><td>3    </td><td>2    </td></tr>\n",
       "\t<tr><th scope=row>Valiant</th><td>18.1 </td><td>6    </td><td>225.0</td><td>105  </td><td>2.76 </td><td>3.460</td><td>20.22</td><td>1    </td><td>0    </td><td>3    </td><td>1    </td></tr>\n",
       "\t<tr><th scope=row>Merc 280C</th><td>17.8 </td><td>6    </td><td>167.6</td><td>123  </td><td>3.92 </td><td>3.440</td><td>18.90</td><td>1    </td><td>0    </td><td>4    </td><td>4    </td></tr>\n",
       "\t<tr><th scope=row>Merc 450SL</th><td>17.3 </td><td>8    </td><td>275.8</td><td>180  </td><td>3.07 </td><td>3.730</td><td>17.60</td><td>0    </td><td>0    </td><td>3    </td><td>3    </td></tr>\n",
       "\t<tr><th scope=row>Merc 450SE</th><td>16.4 </td><td>8    </td><td>275.8</td><td>180  </td><td>3.07 </td><td>4.070</td><td>17.40</td><td>0    </td><td>0    </td><td>3    </td><td>3    </td></tr>\n",
       "\t<tr><th scope=row>Ford Pantera L</th><td>15.8 </td><td>8    </td><td>351.0</td><td>264  </td><td>4.22 </td><td>3.170</td><td>14.50</td><td>0    </td><td>1    </td><td>5    </td><td>4    </td></tr>\n",
       "\t<tr><th scope=row>Dodge Challenger</th><td>15.5 </td><td>8    </td><td>318.0</td><td>150  </td><td>2.76 </td><td>3.520</td><td>16.87</td><td>0    </td><td>0    </td><td>3    </td><td>2    </td></tr>\n",
       "\t<tr><th scope=row>Merc 450SLC</th><td>15.2 </td><td>8    </td><td>275.8</td><td>180  </td><td>3.07 </td><td>3.780</td><td>18.00</td><td>0    </td><td>0    </td><td>3    </td><td>3    </td></tr>\n",
       "\t<tr><th scope=row>AMC Javelin</th><td>15.2 </td><td>8    </td><td>304.0</td><td>150  </td><td>3.15 </td><td>3.435</td><td>17.30</td><td>0    </td><td>0    </td><td>3    </td><td>2    </td></tr>\n",
       "\t<tr><th scope=row>Maserati Bora</th><td>15.0 </td><td>8    </td><td>301.0</td><td>335  </td><td>3.54 </td><td>3.570</td><td>14.60</td><td>0    </td><td>1    </td><td>5    </td><td>8    </td></tr>\n",
       "\t<tr><th scope=row>Chrysler Imperial</th><td>14.7 </td><td>8    </td><td>440.0</td><td>230  </td><td>3.23 </td><td>5.345</td><td>17.42</td><td>0    </td><td>0    </td><td>3    </td><td>4    </td></tr>\n",
       "\t<tr><th scope=row>Duster 360</th><td>14.3 </td><td>8    </td><td>360.0</td><td>245  </td><td>3.21 </td><td>3.570</td><td>15.84</td><td>0    </td><td>0    </td><td>3    </td><td>4    </td></tr>\n",
       "\t<tr><th scope=row>Camaro Z28</th><td>13.3 </td><td>8    </td><td>350.0</td><td>245  </td><td>3.73 </td><td>3.840</td><td>15.41</td><td>0    </td><td>0    </td><td>3    </td><td>4    </td></tr>\n",
       "\t<tr><th scope=row>Cadillac Fleetwood</th><td>10.4 </td><td>8    </td><td>472.0</td><td>205  </td><td>2.93 </td><td>5.250</td><td>17.98</td><td>0    </td><td>0    </td><td>3    </td><td>4    </td></tr>\n",
       "\t<tr><th scope=row>Lincoln Continental</th><td>10.4 </td><td>8    </td><td>460.0</td><td>215  </td><td>3.00 </td><td>5.424</td><td>17.82</td><td>0    </td><td>0    </td><td>3    </td><td>4    </td></tr>\n",
       "</tbody>\n",
       "</table>\n"
      ],
      "text/latex": [
       "\\begin{tabular}{r|lllllllllll}\n",
       "  & mpg & cyl & disp & hp & drat & wt & qsec & vs & am & gear & carb\\\\\n",
       "\\hline\n",
       "\tToyota Corolla & 33.9  & 4     &  71.1 &  65   & 4.22  & 1.835 & 19.90 & 1     & 1     & 4     & 1    \\\\\n",
       "\tFiat 128 & 32.4  & 4     &  78.7 &  66   & 4.08  & 2.200 & 19.47 & 1     & 1     & 4     & 1    \\\\\n",
       "\tHonda Civic & 30.4  & 4     &  75.7 &  52   & 4.93  & 1.615 & 18.52 & 1     & 1     & 4     & 2    \\\\\n",
       "\tLotus Europa & 30.4  & 4     &  95.1 & 113   & 3.77  & 1.513 & 16.90 & 1     & 1     & 5     & 2    \\\\\n",
       "\tFiat X1-9 & 27.3  & 4     &  79.0 &  66   & 4.08  & 1.935 & 18.90 & 1     & 1     & 4     & 1    \\\\\n",
       "\tPorsche 914-2 & 26.0  & 4     & 120.3 &  91   & 4.43  & 2.140 & 16.70 & 0     & 1     & 5     & 2    \\\\\n",
       "\tMerc 240D & 24.4  & 4     & 146.7 &  62   & 3.69  & 3.190 & 20.00 & 1     & 0     & 4     & 2    \\\\\n",
       "\tDatsun 710 & 22.8  & 4     & 108.0 &  93   & 3.85  & 2.320 & 18.61 & 1     & 1     & 4     & 1    \\\\\n",
       "\tMerc 230 & 22.8  & 4     & 140.8 &  95   & 3.92  & 3.150 & 22.90 & 1     & 0     & 4     & 2    \\\\\n",
       "\tToyota Corona & 21.5  & 4     & 120.1 &  97   & 3.70  & 2.465 & 20.01 & 1     & 0     & 3     & 1    \\\\\n",
       "\tHornet 4 Drive & 21.4  & 6     & 258.0 & 110   & 3.08  & 3.215 & 19.44 & 1     & 0     & 3     & 1    \\\\\n",
       "\tVolvo 142E & 21.4  & 4     & 121.0 & 109   & 4.11  & 2.780 & 18.60 & 1     & 1     & 4     & 2    \\\\\n",
       "\tMazda RX4 & 21.0  & 6     & 160.0 & 110   & 3.90  & 2.620 & 16.46 & 0     & 1     & 4     & 4    \\\\\n",
       "\tMazda RX4 Wag & 21.0  & 6     & 160.0 & 110   & 3.90  & 2.875 & 17.02 & 0     & 1     & 4     & 4    \\\\\n",
       "\tFerrari Dino & 19.7  & 6     & 145.0 & 175   & 3.62  & 2.770 & 15.50 & 0     & 1     & 5     & 6    \\\\\n",
       "\tMerc 280 & 19.2  & 6     & 167.6 & 123   & 3.92  & 3.440 & 18.30 & 1     & 0     & 4     & 4    \\\\\n",
       "\tPontiac Firebird & 19.2  & 8     & 400.0 & 175   & 3.08  & 3.845 & 17.05 & 0     & 0     & 3     & 2    \\\\\n",
       "\tHornet Sportabout & 18.7  & 8     & 360.0 & 175   & 3.15  & 3.440 & 17.02 & 0     & 0     & 3     & 2    \\\\\n",
       "\tValiant & 18.1  & 6     & 225.0 & 105   & 2.76  & 3.460 & 20.22 & 1     & 0     & 3     & 1    \\\\\n",
       "\tMerc 280C & 17.8  & 6     & 167.6 & 123   & 3.92  & 3.440 & 18.90 & 1     & 0     & 4     & 4    \\\\\n",
       "\tMerc 450SL & 17.3  & 8     & 275.8 & 180   & 3.07  & 3.730 & 17.60 & 0     & 0     & 3     & 3    \\\\\n",
       "\tMerc 450SE & 16.4  & 8     & 275.8 & 180   & 3.07  & 4.070 & 17.40 & 0     & 0     & 3     & 3    \\\\\n",
       "\tFord Pantera L & 15.8  & 8     & 351.0 & 264   & 4.22  & 3.170 & 14.50 & 0     & 1     & 5     & 4    \\\\\n",
       "\tDodge Challenger & 15.5  & 8     & 318.0 & 150   & 2.76  & 3.520 & 16.87 & 0     & 0     & 3     & 2    \\\\\n",
       "\tMerc 450SLC & 15.2  & 8     & 275.8 & 180   & 3.07  & 3.780 & 18.00 & 0     & 0     & 3     & 3    \\\\\n",
       "\tAMC Javelin & 15.2  & 8     & 304.0 & 150   & 3.15  & 3.435 & 17.30 & 0     & 0     & 3     & 2    \\\\\n",
       "\tMaserati Bora & 15.0  & 8     & 301.0 & 335   & 3.54  & 3.570 & 14.60 & 0     & 1     & 5     & 8    \\\\\n",
       "\tChrysler Imperial & 14.7  & 8     & 440.0 & 230   & 3.23  & 5.345 & 17.42 & 0     & 0     & 3     & 4    \\\\\n",
       "\tDuster 360 & 14.3  & 8     & 360.0 & 245   & 3.21  & 3.570 & 15.84 & 0     & 0     & 3     & 4    \\\\\n",
       "\tCamaro Z28 & 13.3  & 8     & 350.0 & 245   & 3.73  & 3.840 & 15.41 & 0     & 0     & 3     & 4    \\\\\n",
       "\tCadillac Fleetwood & 10.4  & 8     & 472.0 & 205   & 2.93  & 5.250 & 17.98 & 0     & 0     & 3     & 4    \\\\\n",
       "\tLincoln Continental & 10.4  & 8     & 460.0 & 215   & 3.00  & 5.424 & 17.82 & 0     & 0     & 3     & 4    \\\\\n",
       "\\end{tabular}\n"
      ],
      "text/markdown": [
       "\n",
       "| <!--/--> | mpg | cyl | disp | hp | drat | wt | qsec | vs | am | gear | carb | \n",
       "|---|---|---|---|---|---|---|---|---|---|---|---|---|---|---|---|---|---|---|---|---|---|---|---|---|---|---|---|---|---|---|---|\n",
       "| Toyota Corolla | 33.9  | 4     |  71.1 |  65   | 4.22  | 1.835 | 19.90 | 1     | 1     | 4     | 1     | \n",
       "| Fiat 128 | 32.4  | 4     |  78.7 |  66   | 4.08  | 2.200 | 19.47 | 1     | 1     | 4     | 1     | \n",
       "| Honda Civic | 30.4  | 4     |  75.7 |  52   | 4.93  | 1.615 | 18.52 | 1     | 1     | 4     | 2     | \n",
       "| Lotus Europa | 30.4  | 4     |  95.1 | 113   | 3.77  | 1.513 | 16.90 | 1     | 1     | 5     | 2     | \n",
       "| Fiat X1-9 | 27.3  | 4     |  79.0 |  66   | 4.08  | 1.935 | 18.90 | 1     | 1     | 4     | 1     | \n",
       "| Porsche 914-2 | 26.0  | 4     | 120.3 |  91   | 4.43  | 2.140 | 16.70 | 0     | 1     | 5     | 2     | \n",
       "| Merc 240D | 24.4  | 4     | 146.7 |  62   | 3.69  | 3.190 | 20.00 | 1     | 0     | 4     | 2     | \n",
       "| Datsun 710 | 22.8  | 4     | 108.0 |  93   | 3.85  | 2.320 | 18.61 | 1     | 1     | 4     | 1     | \n",
       "| Merc 230 | 22.8  | 4     | 140.8 |  95   | 3.92  | 3.150 | 22.90 | 1     | 0     | 4     | 2     | \n",
       "| Toyota Corona | 21.5  | 4     | 120.1 |  97   | 3.70  | 2.465 | 20.01 | 1     | 0     | 3     | 1     | \n",
       "| Hornet 4 Drive | 21.4  | 6     | 258.0 | 110   | 3.08  | 3.215 | 19.44 | 1     | 0     | 3     | 1     | \n",
       "| Volvo 142E | 21.4  | 4     | 121.0 | 109   | 4.11  | 2.780 | 18.60 | 1     | 1     | 4     | 2     | \n",
       "| Mazda RX4 | 21.0  | 6     | 160.0 | 110   | 3.90  | 2.620 | 16.46 | 0     | 1     | 4     | 4     | \n",
       "| Mazda RX4 Wag | 21.0  | 6     | 160.0 | 110   | 3.90  | 2.875 | 17.02 | 0     | 1     | 4     | 4     | \n",
       "| Ferrari Dino | 19.7  | 6     | 145.0 | 175   | 3.62  | 2.770 | 15.50 | 0     | 1     | 5     | 6     | \n",
       "| Merc 280 | 19.2  | 6     | 167.6 | 123   | 3.92  | 3.440 | 18.30 | 1     | 0     | 4     | 4     | \n",
       "| Pontiac Firebird | 19.2  | 8     | 400.0 | 175   | 3.08  | 3.845 | 17.05 | 0     | 0     | 3     | 2     | \n",
       "| Hornet Sportabout | 18.7  | 8     | 360.0 | 175   | 3.15  | 3.440 | 17.02 | 0     | 0     | 3     | 2     | \n",
       "| Valiant | 18.1  | 6     | 225.0 | 105   | 2.76  | 3.460 | 20.22 | 1     | 0     | 3     | 1     | \n",
       "| Merc 280C | 17.8  | 6     | 167.6 | 123   | 3.92  | 3.440 | 18.90 | 1     | 0     | 4     | 4     | \n",
       "| Merc 450SL | 17.3  | 8     | 275.8 | 180   | 3.07  | 3.730 | 17.60 | 0     | 0     | 3     | 3     | \n",
       "| Merc 450SE | 16.4  | 8     | 275.8 | 180   | 3.07  | 4.070 | 17.40 | 0     | 0     | 3     | 3     | \n",
       "| Ford Pantera L | 15.8  | 8     | 351.0 | 264   | 4.22  | 3.170 | 14.50 | 0     | 1     | 5     | 4     | \n",
       "| Dodge Challenger | 15.5  | 8     | 318.0 | 150   | 2.76  | 3.520 | 16.87 | 0     | 0     | 3     | 2     | \n",
       "| Merc 450SLC | 15.2  | 8     | 275.8 | 180   | 3.07  | 3.780 | 18.00 | 0     | 0     | 3     | 3     | \n",
       "| AMC Javelin | 15.2  | 8     | 304.0 | 150   | 3.15  | 3.435 | 17.30 | 0     | 0     | 3     | 2     | \n",
       "| Maserati Bora | 15.0  | 8     | 301.0 | 335   | 3.54  | 3.570 | 14.60 | 0     | 1     | 5     | 8     | \n",
       "| Chrysler Imperial | 14.7  | 8     | 440.0 | 230   | 3.23  | 5.345 | 17.42 | 0     | 0     | 3     | 4     | \n",
       "| Duster 360 | 14.3  | 8     | 360.0 | 245   | 3.21  | 3.570 | 15.84 | 0     | 0     | 3     | 4     | \n",
       "| Camaro Z28 | 13.3  | 8     | 350.0 | 245   | 3.73  | 3.840 | 15.41 | 0     | 0     | 3     | 4     | \n",
       "| Cadillac Fleetwood | 10.4  | 8     | 472.0 | 205   | 2.93  | 5.250 | 17.98 | 0     | 0     | 3     | 4     | \n",
       "| Lincoln Continental | 10.4  | 8     | 460.0 | 215   | 3.00  | 5.424 | 17.82 | 0     | 0     | 3     | 4     | \n",
       "\n",
       "\n"
      ],
      "text/plain": [
       "                    mpg  cyl disp  hp  drat wt    qsec  vs am gear carb\n",
       "Toyota Corolla      33.9 4    71.1  65 4.22 1.835 19.90 1  1  4    1   \n",
       "Fiat 128            32.4 4    78.7  66 4.08 2.200 19.47 1  1  4    1   \n",
       "Honda Civic         30.4 4    75.7  52 4.93 1.615 18.52 1  1  4    2   \n",
       "Lotus Europa        30.4 4    95.1 113 3.77 1.513 16.90 1  1  5    2   \n",
       "Fiat X1-9           27.3 4    79.0  66 4.08 1.935 18.90 1  1  4    1   \n",
       "Porsche 914-2       26.0 4   120.3  91 4.43 2.140 16.70 0  1  5    2   \n",
       "Merc 240D           24.4 4   146.7  62 3.69 3.190 20.00 1  0  4    2   \n",
       "Datsun 710          22.8 4   108.0  93 3.85 2.320 18.61 1  1  4    1   \n",
       "Merc 230            22.8 4   140.8  95 3.92 3.150 22.90 1  0  4    2   \n",
       "Toyota Corona       21.5 4   120.1  97 3.70 2.465 20.01 1  0  3    1   \n",
       "Hornet 4 Drive      21.4 6   258.0 110 3.08 3.215 19.44 1  0  3    1   \n",
       "Volvo 142E          21.4 4   121.0 109 4.11 2.780 18.60 1  1  4    2   \n",
       "Mazda RX4           21.0 6   160.0 110 3.90 2.620 16.46 0  1  4    4   \n",
       "Mazda RX4 Wag       21.0 6   160.0 110 3.90 2.875 17.02 0  1  4    4   \n",
       "Ferrari Dino        19.7 6   145.0 175 3.62 2.770 15.50 0  1  5    6   \n",
       "Merc 280            19.2 6   167.6 123 3.92 3.440 18.30 1  0  4    4   \n",
       "Pontiac Firebird    19.2 8   400.0 175 3.08 3.845 17.05 0  0  3    2   \n",
       "Hornet Sportabout   18.7 8   360.0 175 3.15 3.440 17.02 0  0  3    2   \n",
       "Valiant             18.1 6   225.0 105 2.76 3.460 20.22 1  0  3    1   \n",
       "Merc 280C           17.8 6   167.6 123 3.92 3.440 18.90 1  0  4    4   \n",
       "Merc 450SL          17.3 8   275.8 180 3.07 3.730 17.60 0  0  3    3   \n",
       "Merc 450SE          16.4 8   275.8 180 3.07 4.070 17.40 0  0  3    3   \n",
       "Ford Pantera L      15.8 8   351.0 264 4.22 3.170 14.50 0  1  5    4   \n",
       "Dodge Challenger    15.5 8   318.0 150 2.76 3.520 16.87 0  0  3    2   \n",
       "Merc 450SLC         15.2 8   275.8 180 3.07 3.780 18.00 0  0  3    3   \n",
       "AMC Javelin         15.2 8   304.0 150 3.15 3.435 17.30 0  0  3    2   \n",
       "Maserati Bora       15.0 8   301.0 335 3.54 3.570 14.60 0  1  5    8   \n",
       "Chrysler Imperial   14.7 8   440.0 230 3.23 5.345 17.42 0  0  3    4   \n",
       "Duster 360          14.3 8   360.0 245 3.21 3.570 15.84 0  0  3    4   \n",
       "Camaro Z28          13.3 8   350.0 245 3.73 3.840 15.41 0  0  3    4   \n",
       "Cadillac Fleetwood  10.4 8   472.0 205 2.93 5.250 17.98 0  0  3    4   \n",
       "Lincoln Continental 10.4 8   460.0 215 3.00 5.424 17.82 0  0  3    4   "
      ]
     },
     "metadata": {},
     "output_type": "display_data"
    }
   ],
   "source": [
    "sortedDF <- mtcars[order(-mtcars$mpg),] # descending\n",
    "sortedDF"
   ]
  },
  {
   "cell_type": "markdown",
   "metadata": {},
   "source": [
    "## Editing Data Frames"
   ]
  },
  {
   "cell_type": "code",
   "execution_count": 77,
   "metadata": {},
   "outputs": [],
   "source": [
    "fix(mtcars)"
   ]
  },
  {
   "cell_type": "markdown",
   "metadata": {},
   "source": [
    "## The str() Function"
   ]
  },
  {
   "cell_type": "code",
   "execution_count": 78,
   "metadata": {},
   "outputs": [
    {
     "name": "stdout",
     "output_type": "stream",
     "text": [
      " num [1:3] 1 2 3\n",
      " num [1:2, 1:3] 1 11 2 12 3 13\n"
     ]
    }
   ],
   "source": [
    "v <- c(1, 2, 3)\n",
    "str(v)\n",
    "\n",
    "m <- matrix(c(1,2,3, 11,12,13), nrow = 2, ncol = 3, byrow = TRUE)\n",
    "str(m)"
   ]
  },
  {
   "cell_type": "markdown",
   "metadata": {},
   "source": [
    "## Type Conversion"
   ]
  },
  {
   "cell_type": "code",
   "execution_count": 79,
   "metadata": {},
   "outputs": [
    {
     "data": {
      "text/html": [
       "<ol class=list-inline>\n",
       "\t<li>'1'</li>\n",
       "\t<li>'2'</li>\n",
       "\t<li>'3'</li>\n",
       "\t<li>'4'</li>\n",
       "\t<li>'5'</li>\n",
       "</ol>\n"
      ],
      "text/latex": [
       "\\begin{enumerate*}\n",
       "\\item '1'\n",
       "\\item '2'\n",
       "\\item '3'\n",
       "\\item '4'\n",
       "\\item '5'\n",
       "\\end{enumerate*}\n"
      ],
      "text/markdown": [
       "1. '1'\n",
       "2. '2'\n",
       "3. '3'\n",
       "4. '4'\n",
       "5. '5'\n",
       "\n",
       "\n"
      ],
      "text/plain": [
       "[1] \"1\" \"2\" \"3\" \"4\" \"5\""
      ]
     },
     "metadata": {},
     "output_type": "display_data"
    },
    {
     "data": {
      "text/html": [
       "<ol class=list-inline>\n",
       "\t<li>1</li>\n",
       "\t<li>2</li>\n",
       "\t<li>3</li>\n",
       "\t<li>4</li>\n",
       "\t<li>5</li>\n",
       "</ol>\n"
      ],
      "text/latex": [
       "\\begin{enumerate*}\n",
       "\\item 1\n",
       "\\item 2\n",
       "\\item 3\n",
       "\\item 4\n",
       "\\item 5\n",
       "\\end{enumerate*}\n"
      ],
      "text/markdown": [
       "1. 1\n",
       "2. 2\n",
       "3. 3\n",
       "4. 4\n",
       "5. 5\n",
       "\n",
       "\n"
      ],
      "text/plain": [
       "[1] 1 2 3 4 5"
      ]
     },
     "metadata": {},
     "output_type": "display_data"
    },
    {
     "data": {
      "text/html": [
       "<time datetime=\"2018-12-31\">2018-12-31</time>"
      ],
      "text/latex": [
       "2018-12-31"
      ],
      "text/markdown": [
       "2018-12-31"
      ],
      "text/plain": [
       "[1] \"2018-12-31\""
      ]
     },
     "metadata": {},
     "output_type": "display_data"
    }
   ],
   "source": [
    "c <- as.character(1:5)\n",
    "c\n",
    "n <- as.integer(c)\n",
    "n\n",
    "as.Date(\"2018-12-31\")"
   ]
  },
  {
   "cell_type": "markdown",
   "metadata": {},
   "source": [
    "## The summary() function"
   ]
  },
  {
   "cell_type": "code",
   "execution_count": 80,
   "metadata": {},
   "outputs": [
    {
     "data": {
      "text/plain": [
       "   Min. 1st Qu.  Median    Mean 3rd Qu.    Max. \n",
       "     10      11      12      12      13      14 "
      ]
     },
     "metadata": {},
     "output_type": "display_data"
    },
    {
     "data": {
      "text/plain": [
       "       V1             V2             V3      \n",
       " Min.   : 1.0   Min.   : 2.0   Min.   : 3.0  \n",
       " 1st Qu.: 3.5   1st Qu.: 4.5   1st Qu.: 5.5  \n",
       " Median : 6.0   Median : 7.0   Median : 8.0  \n",
       " Mean   : 6.0   Mean   : 7.0   Mean   : 8.0  \n",
       " 3rd Qu.: 8.5   3rd Qu.: 9.5   3rd Qu.:10.5  \n",
       " Max.   :11.0   Max.   :12.0   Max.   :13.0  "
      ]
     },
     "metadata": {},
     "output_type": "display_data"
    }
   ],
   "source": [
    "v <- c(10, 11, 12, 13, 14)\n",
    "summary(v)\n",
    "\n",
    "m <- matrix(c(1,2,3, 11,12,13), nrow = 2, ncol = 3, byrow = TRUE)\n",
    "summary(m)\n"
   ]
  },
  {
   "cell_type": "markdown",
   "metadata": {},
   "source": [
    "## Checking an Object's Type"
   ]
  },
  {
   "cell_type": "code",
   "execution_count": 81,
   "metadata": {},
   "outputs": [
    {
     "data": {
      "text/html": [
       "TRUE"
      ],
      "text/latex": [
       "TRUE"
      ],
      "text/markdown": [
       "TRUE"
      ],
      "text/plain": [
       "[1] TRUE"
      ]
     },
     "metadata": {},
     "output_type": "display_data"
    },
    {
     "data": {
      "text/html": [
       "FALSE"
      ],
      "text/latex": [
       "FALSE"
      ],
      "text/markdown": [
       "FALSE"
      ],
      "text/plain": [
       "[1] FALSE"
      ]
     },
     "metadata": {},
     "output_type": "display_data"
    },
    {
     "data": {
      "text/html": [
       "TRUE"
      ],
      "text/latex": [
       "TRUE"
      ],
      "text/markdown": [
       "TRUE"
      ],
      "text/plain": [
       "[1] TRUE"
      ]
     },
     "metadata": {},
     "output_type": "display_data"
    },
    {
     "data": {
      "text/html": [
       "FALSE"
      ],
      "text/latex": [
       "FALSE"
      ],
      "text/markdown": [
       "FALSE"
      ],
      "text/plain": [
       "[1] FALSE"
      ]
     },
     "metadata": {},
     "output_type": "display_data"
    },
    {
     "data": {
      "text/html": [
       "TRUE"
      ],
      "text/latex": [
       "TRUE"
      ],
      "text/markdown": [
       "TRUE"
      ],
      "text/plain": [
       "[1] TRUE"
      ]
     },
     "metadata": {},
     "output_type": "display_data"
    }
   ],
   "source": [
    "is.vector(1:3)                  # TRUE\n",
    "is.list(1:3)                    # FALSE\n",
    "is.numeric(1:3)                 # TRUE\n",
    "is.character(1:3)               # FALSE\n",
    "is.character(as.character(1:3)) # TRUE"
   ]
  },
  {
   "cell_type": "markdown",
   "metadata": {
    "collapsed": true
   },
   "source": [
    "## Loading Packages\n",
    "\n",
    "- library(splines)\n",
    "- library(help = \"utils\")\n"
   ]
  },
  {
   "cell_type": "markdown",
   "metadata": {},
   "source": [
    "## Installing and Removing Packages\n",
    "\n",
    "- install.packages(\"package_name\")\n",
    "- remove.packages(\"package_name\")"
   ]
  },
  {
   "cell_type": "markdown",
   "metadata": {},
   "source": [
    "## Reading Data from File into a Vector\n",
    "\n",
    "- myVector <- scan(\"PATH_TO_DATA_FILE\")"
   ]
  },
  {
   "cell_type": "code",
   "execution_count": 82,
   "metadata": {},
   "outputs": [],
   "source": [
    "help(scan)"
   ]
  },
  {
   "cell_type": "markdown",
   "metadata": {},
   "source": [
    "## Writing Data to a File\n",
    "\n",
    "- write (<object_to_save>, \"PATH_TO_FILE\")"
   ]
  },
  {
   "cell_type": "code",
   "execution_count": 83,
   "metadata": {},
   "outputs": [],
   "source": [
    "help(write)"
   ]
  },
  {
   "cell_type": "markdown",
   "metadata": {},
   "source": [
    "## Reading Data into a Data Frame\n",
    "\n",
    "- df <- read.table(\"data_input.dat\", header = T, sep = \",\")"
   ]
  },
  {
   "cell_type": "markdown",
   "metadata": {},
   "source": [
    "## Writing CSV Files\n",
    "\n",
    "- write.table(df, \"your_file\", sep = \"|\", row.names = F)"
   ]
  },
  {
   "cell_type": "markdown",
   "metadata": {},
   "source": [
    "## Imprting Data into R\n",
    "\n",
    "- library(xlsx)"
   ]
  },
  {
   "cell_type": "markdown",
   "metadata": {},
   "source": [
    "## Exporting Data from R\n",
    "\n",
    "- ..."
   ]
  },
  {
   "cell_type": "markdown",
   "metadata": {},
   "source": [
    "## Basic Stastistical Functions\n",
    "\n",
    "- mean()\n",
    "- median()\n",
    "- sd()\n",
    "- var()"
   ]
  },
  {
   "cell_type": "markdown",
   "metadata": {},
   "source": [
    "## Examples of Using Basic Statistical  Functions"
   ]
  },
  {
   "cell_type": "code",
   "execution_count": 84,
   "metadata": {},
   "outputs": [
    {
     "name": "stdout",
     "output_type": "stream",
     "text": [
      "[1]   2   4   8  16  32  64 128 256\n"
     ]
    },
    {
     "data": {
      "text/html": [
       "63.75"
      ],
      "text/latex": [
       "63.75"
      ],
      "text/markdown": [
       "63.75"
      ],
      "text/plain": [
       "[1] 63.75"
      ]
     },
     "metadata": {},
     "output_type": "display_data"
    },
    {
     "data": {
      "text/html": [
       "24"
      ],
      "text/latex": [
       "24"
      ],
      "text/markdown": [
       "24"
      ],
      "text/plain": [
       "[1] 24"
      ]
     },
     "metadata": {},
     "output_type": "display_data"
    },
    {
     "data": {
      "text/html": [
       "7838.21428571429"
      ],
      "text/latex": [
       "7838.21428571429"
      ],
      "text/markdown": [
       "7838.21428571429"
      ],
      "text/plain": [
       "[1] 7838.214"
      ]
     },
     "metadata": {},
     "output_type": "display_data"
    },
    {
     "data": {
      "text/html": [
       "88.5336901168944"
      ],
      "text/latex": [
       "88.5336901168944"
      ],
      "text/markdown": [
       "88.5336901168944"
      ],
      "text/plain": [
       "[1] 88.53369"
      ]
     },
     "metadata": {},
     "output_type": "display_data"
    }
   ],
   "source": [
    "x <- 2^(1:8)\n",
    "print(x)\n",
    "mean(x)\n",
    "median(x)\n",
    "var(x)\n",
    "sd(x)"
   ]
  },
  {
   "cell_type": "markdown",
   "metadata": {},
   "source": [
    "## Writing Your Own skew and kurtosis Functions\n",
    "\n",
    "- ..."
   ]
  },
  {
   "cell_type": "markdown",
   "metadata": {},
   "source": [
    "## Generating Normally Distributed Random Numbers\n",
    "\n",
    "- rnorm()"
   ]
  },
  {
   "cell_type": "code",
   "execution_count": 85,
   "metadata": {},
   "outputs": [
    {
     "data": {
      "text/html": [
       "<ol class=list-inline>\n",
       "\t<li>2.97060367399764</li>\n",
       "\t<li>3.35039607058348</li>\n",
       "\t<li>2.72952867945277</li>\n",
       "\t<li>4.63361955013481</li>\n",
       "\t<li>1.77112741365452</li>\n",
       "\t<li>1.95204253178942</li>\n",
       "\t<li>1.48328955358894</li>\n",
       "\t<li>-4.50190464793592</li>\n",
       "\t<li>-0.0641256773134338</li>\n",
       "\t<li>0.492793306524739</li>\n",
       "\t<li>-2.34834420126785</li>\n",
       "\t<li>0.84508414884463</li>\n",
       "\t<li>2.79975211039073</li>\n",
       "\t<li>-0.718889336808329</li>\n",
       "\t<li>6.43329237101111</li>\n",
       "\t<li>2.34118576320544</li>\n",
       "\t<li>2.18049525375819</li>\n",
       "\t<li>-3.35714048844255</li>\n",
       "\t<li>2.37784467112533</li>\n",
       "\t<li>-3.39684823608557</li>\n",
       "\t<li>-2.47895663151789</li>\n",
       "\t<li>5.33237585152344</li>\n",
       "\t<li>-0.952492315750804</li>\n",
       "\t<li>-0.990529693423483</li>\n",
       "\t<li>-1.33565622899202</li>\n",
       "\t<li>0.181540660787642</li>\n",
       "\t<li>1.26024551256709</li>\n",
       "\t<li>3.06365449265461</li>\n",
       "\t<li>4.89220377073211</li>\n",
       "\t<li>3.27583038014479</li>\n",
       "\t<li>-1.50683107129449</li>\n",
       "\t<li>3.16871782354797</li>\n",
       "\t<li>0.489481000634559</li>\n",
       "\t<li>0.244253228560114</li>\n",
       "\t<li>1.14983568780394</li>\n",
       "\t<li>1.72640300511891</li>\n",
       "\t<li>-0.124560962600444</li>\n",
       "\t<li>-1.91511191653828</li>\n",
       "\t<li>6.94302104875402</li>\n",
       "\t<li>6.47523141998729</li>\n",
       "\t<li>5.53495133854309</li>\n",
       "\t<li>2.56710128379075</li>\n",
       "\t<li>3.18769105002125</li>\n",
       "\t<li>-0.92711085562674</li>\n",
       "\t<li>1.27398638010543</li>\n",
       "\t<li>-0.915422299720303</li>\n",
       "\t<li>0.955827459428513</li>\n",
       "\t<li>-1.81657403323492</li>\n",
       "\t<li>-2.72406665037848</li>\n",
       "\t<li>1.00204295964618</li>\n",
       "\t<li>-1.91303384786576</li>\n",
       "\t<li>4.06429932072685</li>\n",
       "\t<li>2.7546214482199</li>\n",
       "\t<li>4.8558501772904</li>\n",
       "\t<li>-3.24140137493518</li>\n",
       "\t<li>1.89860235921982</li>\n",
       "\t<li>-2.03378685115864</li>\n",
       "\t<li>-4.42941480316716</li>\n",
       "\t<li>2.69303780933093</li>\n",
       "\t<li>3.6271758442029</li>\n",
       "\t<li>0.119428859557405</li>\n",
       "\t<li>6.57632463545889</li>\n",
       "\t<li>1.95588560063929</li>\n",
       "\t<li>3.62583250057119</li>\n",
       "\t<li>2.10981381188211</li>\n",
       "\t<li>-0.165857977271926</li>\n",
       "\t<li>-0.041779048581329</li>\n",
       "\t<li>2.93155352415508</li>\n",
       "\t<li>2.5293976047665</li>\n",
       "\t<li>-1.993029998127</li>\n",
       "\t<li>-2.29986942582876</li>\n",
       "\t<li>4.57953978261794</li>\n",
       "\t<li>5.03855876702543</li>\n",
       "\t<li>0.335377454755722</li>\n",
       "\t<li>1.93802724215208</li>\n",
       "\t<li>-3.23196370865063</li>\n",
       "\t<li>-4.88346912606257</li>\n",
       "\t<li>1.30919950478602</li>\n",
       "\t<li>-1.61333133400648</li>\n",
       "\t<li>6.93930974653997</li>\n",
       "\t<li>-2.77945696044053</li>\n",
       "\t<li>1.38970453366259</li>\n",
       "\t<li>2.5334790631363</li>\n",
       "\t<li>3.74841265723385</li>\n",
       "\t<li>7.40410127656701</li>\n",
       "\t<li>3.67076274057586</li>\n",
       "\t<li>5.92223788475068</li>\n",
       "\t<li>-1.43420654694944</li>\n",
       "\t<li>5.13829795891956</li>\n",
       "\t<li>-0.580484724718018</li>\n",
       "\t<li>1.3039465529163</li>\n",
       "\t<li>-0.0781129153171771</li>\n",
       "\t<li>-1.96177452180169</li>\n",
       "\t<li>1.46799576692621</li>\n",
       "\t<li>-4.96732840895148</li>\n",
       "\t<li>-0.296603700459772</li>\n",
       "\t<li>1.71986415453324</li>\n",
       "\t<li>1.32819248602522</li>\n",
       "\t<li>-0.105203602969301</li>\n",
       "\t<li>0.660143305612729</li>\n",
       "\t<li>-4.27731967021635</li>\n",
       "\t<li>-0.583589092807398</li>\n",
       "\t<li>1.57644808896926</li>\n",
       "\t<li>5.33070700661266</li>\n",
       "\t<li>3.58945602218664</li>\n",
       "\t<li>-0.94254408372675</li>\n",
       "\t<li>-0.0621907261155865</li>\n",
       "\t<li>0.554430355903475</li>\n",
       "\t<li>2.23777508342989</li>\n",
       "\t<li>2.79949330337914</li>\n",
       "\t<li>0.257662573537762</li>\n",
       "\t<li>-0.942527169336558</li>\n",
       "\t<li>-1.51441925552652</li>\n",
       "\t<li>-2.27445137224794</li>\n",
       "\t<li>3.18244368070777</li>\n",
       "\t<li>3.24246694158213</li>\n",
       "\t<li>-2.97771485304784</li>\n",
       "\t<li>3.40319180300498</li>\n",
       "\t<li>0.996028104298751</li>\n",
       "\t<li>7.89920798107767</li>\n",
       "\t<li>3.37511247550192</li>\n",
       "\t<li>4.03947901082984</li>\n",
       "\t<li>-0.83373415711376</li>\n",
       "\t<li>0.701475530682743</li>\n",
       "\t<li>-0.102425401273482</li>\n",
       "\t<li>-0.722699272931875</li>\n",
       "\t<li>-0.720979755426749</li>\n",
       "\t<li>7.50963894265358</li>\n",
       "\t<li>1.20302206975666</li>\n",
       "\t<li>4.12274743282288</li>\n",
       "\t<li>2.99803928410382</li>\n",
       "\t<li>-1.82417150044743</li>\n",
       "\t<li>-1.73194658536281</li>\n",
       "\t<li>4.16334374371342</li>\n",
       "\t<li>0.202486557073933</li>\n",
       "\t<li>2.90053286741874</li>\n",
       "\t<li>5.66455880714836</li>\n",
       "\t<li>-4.77185070423501</li>\n",
       "\t<li>0.980359726317607</li>\n",
       "\t<li>-2.16724137643455</li>\n",
       "\t<li>-0.34232157705021</li>\n",
       "\t<li>3.59504672744586</li>\n",
       "\t<li>-2.41379995574316</li>\n",
       "\t<li>4.1335470122838</li>\n",
       "\t<li>1.22063028845385</li>\n",
       "\t<li>1.43146805186085</li>\n",
       "\t<li>4.50246390003942</li>\n",
       "\t<li>6.17439032553073</li>\n",
       "\t<li>1.04344594393291</li>\n",
       "\t<li>1.39261113222544</li>\n",
       "\t<li>0.0863126759225279</li>\n",
       "\t<li>4.0984084420116</li>\n",
       "\t<li>-1.2015982374866</li>\n",
       "\t<li>-0.689081964385962</li>\n",
       "\t<li>2.5693111073688</li>\n",
       "\t<li>1.64152386957673</li>\n",
       "\t<li>3.0938420246625</li>\n",
       "\t<li>-0.644624420392265</li>\n",
       "\t<li>0.264237847245717</li>\n",
       "\t<li>6.67419103100968</li>\n",
       "\t<li>2.06262234351639</li>\n",
       "\t<li>4.6278805866486</li>\n",
       "\t<li>1.39006334425211</li>\n",
       "\t<li>-2.92214464623627</li>\n",
       "\t<li>3.5800792472679</li>\n",
       "\t<li>0.969292393421697</li>\n",
       "\t<li>5.62111803993564</li>\n",
       "\t<li>4.47169373780202</li>\n",
       "\t<li>0.280111046920892</li>\n",
       "\t<li>1.31415905538028</li>\n",
       "\t<li>1.85470789051279</li>\n",
       "\t<li>0.735263891817808</li>\n",
       "\t<li>1.98626621025771</li>\n",
       "\t<li>1.45368136799593</li>\n",
       "\t<li>2.71585242965017</li>\n",
       "\t<li>3.02499614795684</li>\n",
       "\t<li>1.27695312043161</li>\n",
       "\t<li>-2.08649396839732</li>\n",
       "\t<li>0.142590417704899</li>\n",
       "\t<li>-5.11607274520014</li>\n",
       "\t<li>-2.6227740336989</li>\n",
       "\t<li>-2.01508299829948</li>\n",
       "\t<li>6.39308966206692</li>\n",
       "\t<li>-1.55854675613837</li>\n",
       "\t<li>2.29473262550431</li>\n",
       "\t<li>-4.05260521793737</li>\n",
       "\t<li>1.0542806658639</li>\n",
       "\t<li>2.20961333629502</li>\n",
       "\t<li>5.30109428280623</li>\n",
       "\t<li>1.04672775273664</li>\n",
       "\t<li>-0.680420720868198</li>\n",
       "\t<li>-5.67597886657688</li>\n",
       "\t<li>4.866134869627</li>\n",
       "\t<li>4.28073367215611</li>\n",
       "\t<li>0.211014117424805</li>\n",
       "\t<li>2.42751755451946</li>\n",
       "\t<li>1.16075697169577</li>\n",
       "\t<li>-3.69200702614121</li>\n",
       "\t<li>1.28801357113931</li>\n",
       "\t<li>-2.61244302378402</li>\n",
       "\t<li>-1.29600897701566</li>\n",
       "\t<li>-2.3622603354766</li>\n",
       "\t<li>-4.26139220552728</li>\n",
       "\t<li>1.0292008826545</li>\n",
       "\t<li>2.14246322467906</li>\n",
       "\t<li>3.38219045579278</li>\n",
       "\t<li>1.55201845150991</li>\n",
       "\t<li>-3.90853448987571</li>\n",
       "\t<li>-3.51623121479677</li>\n",
       "\t<li>5.90399089048082</li>\n",
       "\t<li>0.96533962457817</li>\n",
       "\t<li>1.71907157045565</li>\n",
       "\t<li>0.0680004105862431</li>\n",
       "\t<li>1.59613984354426</li>\n",
       "\t<li>0.138371066374524</li>\n",
       "\t<li>-0.741680265357942</li>\n",
       "\t<li>3.43627060465804</li>\n",
       "\t<li>1.74994479291681</li>\n",
       "\t<li>1.96804660477618</li>\n",
       "\t<li>2.59810429023775</li>\n",
       "\t<li>0.30699883110699</li>\n",
       "\t<li>-2.74263768782405</li>\n",
       "\t<li>-0.393546999485709</li>\n",
       "\t<li>-4.20582397826512</li>\n",
       "\t<li>-2.53455764130821</li>\n",
       "\t<li>1.12270683690709</li>\n",
       "\t<li>3.34458601739467</li>\n",
       "\t<li>3.59003334161086</li>\n",
       "\t<li>1.2445283736774</li>\n",
       "\t<li>3.08051814363968</li>\n",
       "\t<li>9.8122559792878</li>\n",
       "\t<li>-0.82145022459025</li>\n",
       "\t<li>1.44584259708122</li>\n",
       "\t<li>0.885738658194801</li>\n",
       "\t<li>1.12547660667165</li>\n",
       "\t<li>2.74996186439528</li>\n",
       "\t<li>-1.73493227023901</li>\n",
       "\t<li>1.80232302327689</li>\n",
       "\t<li>0.0596361814589743</li>\n",
       "\t<li>4.18902828304433</li>\n",
       "\t<li>2.30368785704099</li>\n",
       "\t<li>-0.142570695989395</li>\n",
       "\t<li>-0.0115911586622681</li>\n",
       "\t<li>-1.62605532451614</li>\n",
       "\t<li>0.610110392829901</li>\n",
       "\t<li>0.614254558563469</li>\n",
       "\t<li>1.1628725477165</li>\n",
       "\t<li>3.33276571660339</li>\n",
       "\t<li>2.7313365718947</li>\n",
       "\t<li>2.28541517482035</li>\n",
       "\t<li>-4.67043484540533</li>\n",
       "\t<li>0.71584186693128</li>\n",
       "\t<li>0.813085065197054</li>\n",
       "\t<li>-2.88680022744121</li>\n",
       "\t<li>2.90259163545579</li>\n",
       "\t<li>-1.40721691038501</li>\n",
       "\t<li>0.189036476268937</li>\n",
       "\t<li>1.04108720887757</li>\n",
       "\t<li>0.794286621244837</li>\n",
       "\t<li>-3.29467227413556</li>\n",
       "\t<li>5.98324313248288</li>\n",
       "\t<li>0.162549155786335</li>\n",
       "\t<li>0.749359767879677</li>\n",
       "\t<li>-1.593812809884</li>\n",
       "\t<li>1.34638745666295</li>\n",
       "\t<li>3.9835128679985</li>\n",
       "\t<li>4.519155757395</li>\n",
       "\t<li>4.79668506963807</li>\n",
       "\t<li>0.787739052599139</li>\n",
       "\t<li>0.926935629345625</li>\n",
       "\t<li>-0.317235874275627</li>\n",
       "\t<li>-2.00267422477961</li>\n",
       "\t<li>3.90932958822586</li>\n",
       "\t<li>2.76587962948696</li>\n",
       "\t<li>-0.867253888213452</li>\n",
       "\t<li>2.25042894350464</li>\n",
       "\t<li>-0.639907732089701</li>\n",
       "\t<li>-1.45434487271368</li>\n",
       "\t<li>2.29325683008805</li>\n",
       "\t<li>1.23779364108142</li>\n",
       "\t<li>1.63274091727393</li>\n",
       "\t<li>-3.93000719224873</li>\n",
       "\t<li>-5.98259662977572</li>\n",
       "\t<li>2.18235466847955</li>\n",
       "\t<li>-0.508797074996073</li>\n",
       "\t<li>0.752235747153028</li>\n",
       "\t<li>0.0636893105641119</li>\n",
       "\t<li>2.20427265354772</li>\n",
       "\t<li>-5.10590234164844</li>\n",
       "\t<li>0.413087432709395</li>\n",
       "\t<li>-0.344107543141101</li>\n",
       "\t<li>0.0967052047636714</li>\n",
       "\t<li>5.67213282609949</li>\n",
       "\t<li>1.52705200725777</li>\n",
       "\t<li>-3.67222752301129</li>\n",
       "\t<li>1.12044970666886</li>\n",
       "\t<li>0.298644936788837</li>\n",
       "\t<li>6.11069805612897</li>\n",
       "\t<li>2.69686836318774</li>\n",
       "\t<li>2.34881950884194</li>\n",
       "\t<li>4.13457476696366</li>\n",
       "\t<li>0.877914881364863</li>\n",
       "\t<li>-0.868572751292613</li>\n",
       "\t<li>-1.10337104993295</li>\n",
       "\t<li>-4.06604920362854</li>\n",
       "\t<li>1.67262103593327</li>\n",
       "\t<li>0.00944505547073815</li>\n",
       "\t<li>0.140079688434626</li>\n",
       "\t<li>1.64761171705434</li>\n",
       "\t<li>-2.52665873851025</li>\n",
       "\t<li>4.0043772676381</li>\n",
       "\t<li>1.57885153842818</li>\n",
       "\t<li>-1.35121961561762</li>\n",
       "\t<li>3.23800853797926</li>\n",
       "\t<li>0.340889432759042</li>\n",
       "\t<li>2.39855095781984</li>\n",
       "\t<li>1.91959177251549</li>\n",
       "\t<li>-1.92097683936112</li>\n",
       "\t<li>2.16592041159423</li>\n",
       "\t<li>5.42753546792547</li>\n",
       "\t<li>-0.531283623774941</li>\n",
       "\t<li>1.38005251927088</li>\n",
       "\t<li>-2.22078657321138</li>\n",
       "\t<li>8.88504039964789</li>\n",
       "\t<li>0.188442227475394</li>\n",
       "\t<li>-0.251424369061623</li>\n",
       "\t<li>4.0134924898488</li>\n",
       "\t<li>2.54544494036284</li>\n",
       "\t<li>0.845994838183231</li>\n",
       "\t<li>2.36367047717322</li>\n",
       "\t<li>-0.103238940597524</li>\n",
       "\t<li>0.206176019455209</li>\n",
       "\t<li>-0.618731859165404</li>\n",
       "\t<li>4.06768883519451</li>\n",
       "\t<li>0.576215387996649</li>\n",
       "\t<li>-0.535789823412288</li>\n",
       "\t<li>3.4645061533938</li>\n",
       "\t<li>2.63405485107943</li>\n",
       "\t<li>-5.64765389650721</li>\n",
       "\t<li>0.865738765127526</li>\n",
       "\t<li>3.78535097313249</li>\n",
       "\t<li>-1.27830010637651</li>\n",
       "\t<li>1.63468185653757</li>\n",
       "\t<li>3.818256587519</li>\n",
       "\t<li>-1.07602842989292</li>\n",
       "\t<li>0.371880881834415</li>\n",
       "\t<li>-1.32171611164638</li>\n",
       "\t<li>0.605671410521583</li>\n",
       "\t<li>-2.28847709783158</li>\n",
       "\t<li>-5.27550055967312</li>\n",
       "\t<li>-2.79500405061898</li>\n",
       "\t<li>8.27349182042638</li>\n",
       "\t<li>0.581498109864097</li>\n",
       "\t<li>0.50722335002389</li>\n",
       "\t<li>4.52955179956887</li>\n",
       "\t<li>-1.04752999712363</li>\n",
       "\t<li>-2.45510361597319</li>\n",
       "\t<li>0.0203657763463686</li>\n",
       "\t<li>-0.647731026545563</li>\n",
       "\t<li>9.70941837427194</li>\n",
       "\t<li>-3.10260947319725</li>\n",
       "\t<li>3.13219786728594</li>\n",
       "\t<li>-2.93295734582893</li>\n",
       "\t<li>1.12547092603331</li>\n",
       "\t<li>-4.30803789767539</li>\n",
       "\t<li>-0.203953295925817</li>\n",
       "\t<li>2.50275396905244</li>\n",
       "\t<li>1.82305068062218</li>\n",
       "\t<li>4.47411807705125</li>\n",
       "\t<li>-0.924362916639508</li>\n",
       "\t<li>-4.40642125320905</li>\n",
       "\t<li>4.62026952109197</li>\n",
       "\t<li>2.98339455105902</li>\n",
       "\t<li>2.49522751040036</li>\n",
       "\t<li>1.6447851730142</li>\n",
       "\t<li>-4.40315449997665</li>\n",
       "\t<li>2.00437581916236</li>\n",
       "\t<li>2.64187800214854</li>\n",
       "\t<li>-1.4953520869537</li>\n",
       "\t<li>0.726174799077887</li>\n",
       "\t<li>1.46505828825003</li>\n",
       "\t<li>3.29972059999794</li>\n",
       "\t<li>3.55079238609925</li>\n",
       "\t<li>-0.143913986798752</li>\n",
       "\t<li>-4.89616525122372</li>\n",
       "\t<li>0.743858492459468</li>\n",
       "\t<li>-5.19944769019703</li>\n",
       "\t<li>4.58054541655765</li>\n",
       "\t<li>-2.74061650525033</li>\n",
       "\t<li>-0.129049226324588</li>\n",
       "\t<li>3.92192389225303</li>\n",
       "\t<li>-0.695840623952353</li>\n",
       "\t<li>-3.3015294163851</li>\n",
       "\t<li>2.51254680605915</li>\n",
       "\t<li>-1.83205824429469</li>\n",
       "\t<li>1.22993699404088</li>\n",
       "\t<li>5.72566205303531</li>\n",
       "\t<li>0.861003044690877</li>\n",
       "\t<li>2.53165944009005</li>\n",
       "\t<li>0.646302802069611</li>\n",
       "\t<li>2.91670635741821</li>\n",
       "\t<li>-3.65924037472054</li>\n",
       "\t<li>0.98888386723931</li>\n",
       "\t<li>0.720558226289456</li>\n",
       "\t<li>5.25789999961991</li>\n",
       "\t<li>3.98493085431898</li>\n",
       "\t<li>3.55033524637581</li>\n",
       "\t<li>1.21633679557306</li>\n",
       "\t<li>1.96944304348745</li>\n",
       "\t<li>0.26225861462088</li>\n",
       "\t<li>-0.0819588730463725</li>\n",
       "\t<li>2.82905677526462</li>\n",
       "\t<li>3.33490448809645</li>\n",
       "\t<li>5.13867381284036</li>\n",
       "\t<li>0.300596423085696</li>\n",
       "\t<li>0.812018407258873</li>\n",
       "\t<li>-2.49388793387466</li>\n",
       "\t<li>-2.04180276748911</li>\n",
       "\t<li>4.35065552536779</li>\n",
       "\t<li>4.11521127254701</li>\n",
       "\t<li>0.396117471472411</li>\n",
       "\t<li>-1.85668270337576</li>\n",
       "\t<li>-5.84574854237051</li>\n",
       "\t<li>3.48603546763726</li>\n",
       "\t<li>3.67845474293649</li>\n",
       "\t<li>2.98374179299056</li>\n",
       "\t<li>2.29427797282954</li>\n",
       "\t<li>2.21483166422097</li>\n",
       "\t<li>0.873646157105396</li>\n",
       "\t<li>-2.99898467455224</li>\n",
       "\t<li>3.03243826630153</li>\n",
       "\t<li>2.20301026277765</li>\n",
       "\t<li>1.83639010221014</li>\n",
       "\t<li>0.141322162364564</li>\n",
       "\t<li>-5.04285122735791</li>\n",
       "\t<li>1.43843862826563</li>\n",
       "\t<li>0.527776507581549</li>\n",
       "\t<li>2.95569442019441</li>\n",
       "\t<li>0.779636561384498</li>\n",
       "\t<li>6.94909067097921</li>\n",
       "\t<li>-1.70740391355572</li>\n",
       "\t<li>-0.313387824667069</li>\n",
       "\t<li>1.54528117284926</li>\n",
       "\t<li>5.07442517268579</li>\n",
       "\t<li>1.47121862382435</li>\n",
       "\t<li>5.58166100666813</li>\n",
       "\t<li>-2.37802218452406</li>\n",
       "\t<li>-0.816515497566588</li>\n",
       "\t<li>-2.96068282550503</li>\n",
       "\t<li>3.02601686039288</li>\n",
       "\t<li>2.62277449598642</li>\n",
       "\t<li>0.512876471875004</li>\n",
       "\t<li>-3.14855658741892</li>\n",
       "\t<li>4.74356129377214</li>\n",
       "\t<li>2.11284852159717</li>\n",
       "\t<li>-0.621720007352832</li>\n",
       "\t<li>4.88606944772042</li>\n",
       "\t<li>1.98489559563871</li>\n",
       "\t<li>2.20871390820199</li>\n",
       "\t<li>-2.83502741403565</li>\n",
       "\t<li>-0.124628362416122</li>\n",
       "\t<li>4.55504105661671</li>\n",
       "\t<li>1.1757493132582</li>\n",
       "\t<li>5.99259076762231</li>\n",
       "\t<li>0.582243212855019</li>\n",
       "\t<li>-3.44655256521429</li>\n",
       "\t<li>0.28068486580444</li>\n",
       "\t<li>-3.6078404581382</li>\n",
       "\t<li>2.2314276234001</li>\n",
       "\t<li>-1.19955973704167</li>\n",
       "\t<li>0.894873691184618</li>\n",
       "\t<li>1.85478308088675</li>\n",
       "\t<li>2.44121038275848</li>\n",
       "\t<li>2.86524147240226</li>\n",
       "\t<li>-0.222037973357683</li>\n",
       "\t<li>2.38304644571004</li>\n",
       "\t<li>1.67804212047732</li>\n",
       "\t<li>-2.28762312398624</li>\n",
       "\t<li>-3.6516753824693</li>\n",
       "\t<li>-2.86433646865525</li>\n",
       "\t<li>1.70660881561318</li>\n",
       "\t<li>3.5557589111325</li>\n",
       "\t<li>-0.963521082481262</li>\n",
       "\t<li>3.80714493446853</li>\n",
       "\t<li>-0.802206735315336</li>\n",
       "\t<li>3.73418099256444</li>\n",
       "\t<li>-1.52537223700329</li>\n",
       "\t<li>-0.452267506426632</li>\n",
       "\t<li>-3.15804827746399</li>\n",
       "\t<li>-4.55764341484411</li>\n",
       "\t<li>-1.65239965757859</li>\n",
       "\t<li>1.15908621239038</li>\n",
       "\t<li>-1.59483020464429</li>\n",
       "\t<li>4.53025221282535</li>\n",
       "\t<li>-0.667266932682706</li>\n",
       "\t<li>4.81964503104878</li>\n",
       "\t<li>-0.381738168285771</li>\n",
       "\t<li>5.17917734837597</li>\n",
       "\t<li>-0.0377015084615171</li>\n",
       "\t<li>0.831036794613633</li>\n",
       "\t<li>2.76211991247782</li>\n",
       "\t<li>2.22683601157774</li>\n",
       "\t<li>1.84568015310453</li>\n",
       "\t<li>3.17335971617681</li>\n",
       "\t<li>-0.676298260344224</li>\n",
       "\t<li>-2.08694039113549</li>\n",
       "\t<li>2.61238072643882</li>\n",
       "\t<li>-0.259712777615088</li>\n",
       "\t<li>3.51333475686489</li>\n",
       "\t<li>4.04056081600798</li>\n",
       "\t<li>4.67316669016216</li>\n",
       "\t<li>2.02031330553083</li>\n",
       "\t<li>2.28708523643923</li>\n",
       "\t<li>2.23148795987607</li>\n",
       "\t<li>3.23718953692792</li>\n",
       "\t<li>7.70115930725786</li>\n",
       "\t<li>2.07638295545053</li>\n",
       "\t<li>0.603778069566039</li>\n",
       "\t<li>4.08799059260557</li>\n",
       "\t<li>4.97822330819582</li>\n",
       "\t<li>1.63869331932365</li>\n",
       "\t<li>8.16361657343476</li>\n",
       "\t<li>2.12392314392929</li>\n",
       "\t<li>-3.04308933845177</li>\n",
       "\t<li>1.28827444393883</li>\n",
       "\t<li>0.722862442380149</li>\n",
       "\t<li>-0.257206570537897</li>\n",
       "\t<li>2.23775501897492</li>\n",
       "\t<li>3.01343700008285</li>\n",
       "\t<li>6.67381951928079</li>\n",
       "\t<li>0.62831254532242</li>\n",
       "\t<li>3.236596431639</li>\n",
       "\t<li>4.51235839643553</li>\n",
       "\t<li>0.0213697114744331</li>\n",
       "\t<li>1.95307248838763</li>\n",
       "\t<li>-0.021568946727712</li>\n",
       "\t<li>-2.82265759428009</li>\n",
       "\t<li>3.20794628625769</li>\n",
       "\t<li>-2.98891825803686</li>\n",
       "\t<li>3.20544024412079</li>\n",
       "\t<li>2.96004741598062</li>\n",
       "\t<li>2.07744792463398</li>\n",
       "\t<li>7.37208745331841</li>\n",
       "\t<li>2.34662533239378</li>\n",
       "\t<li>3.67297714412824</li>\n",
       "\t<li>5.93039885958439</li>\n",
       "\t<li>2.47562155007948</li>\n",
       "\t<li>-0.859362845383992</li>\n",
       "\t<li>1.63800481324631</li>\n",
       "\t<li>2.77375123730342</li>\n",
       "\t<li>2.71606968124013</li>\n",
       "\t<li>-0.194029423845703</li>\n",
       "\t<li>3.67242771700456</li>\n",
       "\t<li>2.49391521560762</li>\n",
       "\t<li>0.715415546235924</li>\n",
       "\t<li>1.85852136712027</li>\n",
       "\t<li>1.22215867450438</li>\n",
       "\t<li>4.89713438428836</li>\n",
       "\t<li>2.64572620824205</li>\n",
       "\t<li>3.36096391507867</li>\n",
       "\t<li>2.20008101895224</li>\n",
       "\t<li>-3.82560458660977</li>\n",
       "\t<li>1.68624832331438</li>\n",
       "\t<li>4.55733562051191</li>\n",
       "\t<li>3.18439298971203</li>\n",
       "\t<li>-0.397022801356423</li>\n",
       "\t<li>6.00669322770816</li>\n",
       "\t<li>3.15949173643885</li>\n",
       "\t<li>4.27441177020242</li>\n",
       "\t<li>-4.90567003474461</li>\n",
       "\t<li>0.119525359418256</li>\n",
       "\t<li>4.60177973796032</li>\n",
       "\t<li>1.03748468701689</li>\n",
       "\t<li>2.60661010144065</li>\n",
       "\t<li>-4.18190855128096</li>\n",
       "\t<li>0.841895618190694</li>\n",
       "\t<li>5.5278294246691</li>\n",
       "\t<li>8.78997197649404</li>\n",
       "\t<li>-1.22085771848853</li>\n",
       "\t<li>-0.310204419477959</li>\n",
       "\t<li>-2.06574074576714</li>\n",
       "\t<li>4.1129319532822</li>\n",
       "\t<li>-7.27692188811331</li>\n",
       "\t<li>3.91444622337116</li>\n",
       "\t<li>0.954237229050127</li>\n",
       "\t<li>1.02927514828899</li>\n",
       "\t<li>1.71644162255183</li>\n",
       "\t<li>1.70074753754597</li>\n",
       "\t<li>-1.01599226901408</li>\n",
       "\t<li>0.240558044482642</li>\n",
       "\t<li>-0.507829204216929</li>\n",
       "\t<li>-2.69272641145954</li>\n",
       "\t<li>-5.45410471175685</li>\n",
       "\t<li>0.458408456826187</li>\n",
       "\t<li>0.429001947828727</li>\n",
       "\t<li>3.73620667339874</li>\n",
       "\t<li>-0.847371651711444</li>\n",
       "\t<li>4.13749348846117</li>\n",
       "\t<li>5.71337837102194</li>\n",
       "\t<li>0.404098333715346</li>\n",
       "\t<li>-3.15975246669452</li>\n",
       "\t<li>1.74385101294721</li>\n",
       "\t<li>2.14747051320173</li>\n",
       "\t<li>0.444511208201859</li>\n",
       "\t<li>0.254813421331922</li>\n",
       "\t<li>4.28188438885883</li>\n",
       "\t<li>-1.54956245465924</li>\n",
       "\t<li>-2.58310057632526</li>\n",
       "\t<li>2.4380344149546</li>\n",
       "\t<li>4.48558646555099</li>\n",
       "\t<li>2.10127019596191</li>\n",
       "\t<li>2.84081200306057</li>\n",
       "\t<li>4.69051907107227</li>\n",
       "\t<li>2.45033996809717</li>\n",
       "\t<li>3.0054255103076</li>\n",
       "\t<li>5.98536836309962</li>\n",
       "\t<li>0.8661104679303</li>\n",
       "\t<li>-0.978356161474109</li>\n",
       "\t<li>-3.58424628306728</li>\n",
       "\t<li>-2.62216041095955</li>\n",
       "\t<li>-0.473990000331101</li>\n",
       "\t<li>0.734966500649338</li>\n",
       "\t<li>3.57435788349751</li>\n",
       "\t<li>-0.250895294529683</li>\n",
       "\t<li>-4.02701920098275</li>\n",
       "\t<li>-0.744116678709788</li>\n",
       "\t<li>1.17808579170529</li>\n",
       "\t<li>-1.97192085532242</li>\n",
       "\t<li>-0.897106216329608</li>\n",
       "\t<li>4.11033402132241</li>\n",
       "\t<li>3.10771805854614</li>\n",
       "\t<li>-1.90398090153235</li>\n",
       "\t<li>-0.124637611003058</li>\n",
       "\t<li>2.21760503862352</li>\n",
       "\t<li>2.88074154183096</li>\n",
       "\t<li>4.58046502082543</li>\n",
       "\t<li>0.294605234069113</li>\n",
       "\t<li>4.52149509240964</li>\n",
       "\t<li>-5.47406407927096</li>\n",
       "\t<li>1.49462375154604</li>\n",
       "\t<li>2.64497094454445</li>\n",
       "\t<li>7.89107729194787</li>\n",
       "\t<li>-2.97679533630872</li>\n",
       "\t<li>2.00194381070371</li>\n",
       "\t<li>-2.79011339581443</li>\n",
       "\t<li>4.93691833801386</li>\n",
       "\t<li>4.39399380143468</li>\n",
       "\t<li>6.79390470927897</li>\n",
       "\t<li>-1.2656980566508</li>\n",
       "\t<li>3.39425090976504</li>\n",
       "\t<li>-2.46670682381004</li>\n",
       "\t<li>-0.388454338447599</li>\n",
       "\t<li>7.35941736839915</li>\n",
       "\t<li>1.41044284522348</li>\n",
       "\t<li>5.37979335408107</li>\n",
       "\t<li>5.90621371744419</li>\n",
       "\t<li>-2.76242219597791</li>\n",
       "\t<li>-0.30425700361175</li>\n",
       "\t<li>0.103181546204016</li>\n",
       "\t<li>0.0944976253046719</li>\n",
       "\t<li>-0.312787419168852</li>\n",
       "\t<li>0.413188224422363</li>\n",
       "\t<li>0.0628759146453157</li>\n",
       "\t<li>0.685901853662812</li>\n",
       "\t<li>-2.54741058958279</li>\n",
       "\t<li>-3.56751719868468</li>\n",
       "\t<li>5.51069950438216</li>\n",
       "\t<li>2.87805031678375</li>\n",
       "\t<li>-2.06597546347678</li>\n",
       "\t<li>-3.87510243067275</li>\n",
       "\t<li>2.34303336436639</li>\n",
       "\t<li>-2.32404657001508</li>\n",
       "\t<li>0.10129080023758</li>\n",
       "\t<li>1.63604029671111</li>\n",
       "\t<li>1.56790420655691</li>\n",
       "\t<li>-2.0513956487741</li>\n",
       "\t<li>1.55824887035143</li>\n",
       "\t<li>3.76811767576831</li>\n",
       "\t<li>-2.69276295850715</li>\n",
       "\t<li>-1.62303909896151</li>\n",
       "\t<li>1.81590165806043</li>\n",
       "\t<li>3.09271087829289</li>\n",
       "\t<li>1.74769356564557</li>\n",
       "\t<li>1.47424241670439</li>\n",
       "\t<li>-0.557469291486419</li>\n",
       "\t<li>1.696323062338</li>\n",
       "\t<li>-3.59023682678011</li>\n",
       "\t<li>0.0252652216053912</li>\n",
       "\t<li>-2.1086361624131</li>\n",
       "\t<li>0.835688236897617</li>\n",
       "\t<li>-2.4344074349795</li>\n",
       "\t<li>5.67711561403774</li>\n",
       "\t<li>-3.29178352115501</li>\n",
       "\t<li>4.63810510130355</li>\n",
       "\t<li>0.151491363461769</li>\n",
       "\t<li>1.30791727861985</li>\n",
       "\t<li>-1.99859198789117</li>\n",
       "\t<li>0.304895911591813</li>\n",
       "\t<li>1.11093948040496</li>\n",
       "\t<li>-2.32282310085363</li>\n",
       "\t<li>-0.956718531399689</li>\n",
       "\t<li>-2.04888467559426</li>\n",
       "\t<li>2.76553208719273</li>\n",
       "\t<li>3.28150805687929</li>\n",
       "\t<li>-4.65426544049679</li>\n",
       "\t<li>2.78166739899789</li>\n",
       "\t<li>6.05307134009554</li>\n",
       "\t<li>-1.16007328973004</li>\n",
       "\t<li>5.21572319855933</li>\n",
       "\t<li>-3.54371204583598</li>\n",
       "\t<li>-0.274944173349379</li>\n",
       "\t<li>-0.812783926928264</li>\n",
       "\t<li>-3.57581639141954</li>\n",
       "\t<li>3.03648336438666</li>\n",
       "\t<li>1.33842278309343</li>\n",
       "\t<li>0.998647309079959</li>\n",
       "\t<li>1.88822170244826</li>\n",
       "\t<li>-0.0447051806520791</li>\n",
       "\t<li>1.47989923133605</li>\n",
       "\t<li>2.0413381702852</li>\n",
       "\t<li>4.00971411201718</li>\n",
       "\t<li>1.50520004742709</li>\n",
       "\t<li>-0.0982375262243473</li>\n",
       "\t<li>-0.177544811351074</li>\n",
       "\t<li>2.18910245255251</li>\n",
       "\t<li>2.96688352938377</li>\n",
       "\t<li>2.55552173900245</li>\n",
       "\t<li>1.01891030200964</li>\n",
       "\t<li>0.86176903042957</li>\n",
       "\t<li>-3.55611025273891</li>\n",
       "\t<li>1.9428073684945</li>\n",
       "\t<li>2.10103173725537</li>\n",
       "\t<li>4.3048878650553</li>\n",
       "\t<li>1.08170127033477</li>\n",
       "\t<li>1.71306526603154</li>\n",
       "\t<li>4.35978119137533</li>\n",
       "\t<li>0.525797652269705</li>\n",
       "\t<li>-0.875694355134407</li>\n",
       "\t<li>1.08639958956704</li>\n",
       "\t<li>0.500157255642461</li>\n",
       "\t<li>2.35658361674286</li>\n",
       "\t<li>3.92593999008221</li>\n",
       "\t<li>3.77108400994536</li>\n",
       "\t<li>2.38874607854977</li>\n",
       "\t<li>0.515494461588755</li>\n",
       "\t<li>3.22541517395522</li>\n",
       "\t<li>0.857541732746315</li>\n",
       "\t<li>1.57529344080425</li>\n",
       "\t<li>5.12640869829825</li>\n",
       "\t<li>1.52505692553373</li>\n",
       "\t<li>-0.982536083817205</li>\n",
       "\t<li>4.08607511925884</li>\n",
       "\t<li>-2.7765472762056</li>\n",
       "\t<li>-0.445981096652774</li>\n",
       "\t<li>0.530889098797452</li>\n",
       "\t<li>2.60687605700458</li>\n",
       "\t<li>0.609231436132592</li>\n",
       "\t<li>4.89305191655605</li>\n",
       "\t<li>-1.64115445696396</li>\n",
       "\t<li>-0.284890630703448</li>\n",
       "\t<li>0.177781023826894</li>\n",
       "\t<li>-2.73790658510662</li>\n",
       "\t<li>-0.411990261569514</li>\n",
       "\t<li>1.35493799309457</li>\n",
       "\t<li>0.0534876838717735</li>\n",
       "\t<li>-0.658499220742885</li>\n",
       "\t<li>7.75831745582236</li>\n",
       "\t<li>1.10545409146131</li>\n",
       "\t<li>0.889747851154206</li>\n",
       "\t<li>3.45189453343867</li>\n",
       "\t<li>2.35154685114751</li>\n",
       "\t<li>-4.62146287736401</li>\n",
       "\t<li>-0.79678463675947</li>\n",
       "\t<li>-2.30199047109039</li>\n",
       "\t<li>6.32822474290654</li>\n",
       "\t<li>-1.8730609000137</li>\n",
       "\t<li>0.726775803067217</li>\n",
       "\t<li>-0.16242072780202</li>\n",
       "\t<li>0.338390413825839</li>\n",
       "\t<li>-0.677927442913383</li>\n",
       "\t<li>-1.47156592099602</li>\n",
       "\t<li>5.34487307843611</li>\n",
       "\t<li>4.18151347263564</li>\n",
       "\t<li>4.86522114881448</li>\n",
       "\t<li>2.71121846142971</li>\n",
       "\t<li>3.3855370604443</li>\n",
       "\t<li>-1.32920679850709</li>\n",
       "\t<li>0.589262794955409</li>\n",
       "\t<li>3.23703993335233</li>\n",
       "\t<li>-0.706805955236371</li>\n",
       "\t<li>3.4479516875789</li>\n",
       "\t<li>1.90273970210668</li>\n",
       "\t<li>-1.62080820590016</li>\n",
       "\t<li>-0.489917160770876</li>\n",
       "\t<li>2.12335753150944</li>\n",
       "\t<li>2.15941092185559</li>\n",
       "\t<li>1.74547628514137</li>\n",
       "\t<li>4.85349024211331</li>\n",
       "\t<li>1.66458837686674</li>\n",
       "\t<li>-0.922033118172367</li>\n",
       "\t<li>0.742977711431156</li>\n",
       "\t<li>2.3595468361878</li>\n",
       "\t<li>5.49750408068254</li>\n",
       "\t<li>-1.929790565824</li>\n",
       "\t<li>0.892797337425525</li>\n",
       "\t<li>-2.70115877463634</li>\n",
       "\t<li>-1.13319101620885</li>\n",
       "\t<li>3.27904736400276</li>\n",
       "\t<li>0.135809207422169</li>\n",
       "\t<li>-1.06330173957988</li>\n",
       "\t<li>4.06451666489417</li>\n",
       "\t<li>-0.469667997951512</li>\n",
       "\t<li>3.46212127961451</li>\n",
       "\t<li>-3.66174411143923</li>\n",
       "\t<li>0.770452562505004</li>\n",
       "\t<li>-0.4790582232353</li>\n",
       "\t<li>2.48393182359103</li>\n",
       "\t<li>-6.29846780914303</li>\n",
       "\t<li>5.91936961947337</li>\n",
       "\t<li>-0.345466187307067</li>\n",
       "\t<li>2.2565738300001</li>\n",
       "\t<li>0.745982444525006</li>\n",
       "\t<li>-4.63750900969543</li>\n",
       "\t<li>5.78174315000727</li>\n",
       "\t<li>5.01544827529611</li>\n",
       "\t<li>-2.11386119491824</li>\n",
       "\t<li>-0.708610191464927</li>\n",
       "\t<li>3.44004189611109</li>\n",
       "\t<li>1.12943020835425</li>\n",
       "\t<li>0.498001107905264</li>\n",
       "\t<li>-0.262408498527182</li>\n",
       "\t<li>0.644378188030813</li>\n",
       "\t<li>2.22899221881678</li>\n",
       "\t<li>3.83718782160725</li>\n",
       "\t<li>-0.148289721782159</li>\n",
       "\t<li>3.83553009456022</li>\n",
       "\t<li>7.62809131728354</li>\n",
       "\t<li>2.18986809035835</li>\n",
       "\t<li>0.758950309295912</li>\n",
       "\t<li>0.157341799518765</li>\n",
       "\t<li>1.84108273680872</li>\n",
       "\t<li>0.702559502727521</li>\n",
       "\t<li>2.49912863876909</li>\n",
       "\t<li>1.42502503453201</li>\n",
       "\t<li>-0.756355244752784</li>\n",
       "\t<li>2.00485634272974</li>\n",
       "\t<li>-3.65479966136526</li>\n",
       "\t<li>2.75260555029273</li>\n",
       "\t<li>-2.28157853152767</li>\n",
       "\t<li>-0.159281793208606</li>\n",
       "\t<li>-0.727184412634808</li>\n",
       "\t<li>-0.189535207343213</li>\n",
       "\t<li>1.23307679643944</li>\n",
       "\t<li>-3.93690611588315</li>\n",
       "\t<li>-2.83789239230801</li>\n",
       "\t<li>1.79196625491616</li>\n",
       "\t<li>2.01748073934516</li>\n",
       "\t<li>-0.690022140815724</li>\n",
       "\t<li>0.781851469500204</li>\n",
       "\t<li>3.60950882424975</li>\n",
       "\t<li>-7.81264354417177</li>\n",
       "\t<li>2.05254178151764</li>\n",
       "\t<li>2.98332008899125</li>\n",
       "\t<li>5.47871897798923</li>\n",
       "\t<li>5.43526954933155</li>\n",
       "\t<li>-1.60465382986204</li>\n",
       "\t<li>6.08283381058986</li>\n",
       "\t<li>1.01597643553239</li>\n",
       "\t<li>-0.817293209833575</li>\n",
       "\t<li>3.17435054500878</li>\n",
       "\t<li>-1.5289309137009</li>\n",
       "\t<li>-0.0312940131088877</li>\n",
       "\t<li>-1.36011064619543</li>\n",
       "\t<li>5.6640661134734</li>\n",
       "\t<li>1.98823633255703</li>\n",
       "\t<li>-1.88509167627857</li>\n",
       "\t<li>1.03694596113531</li>\n",
       "\t<li>-2.06780895073257</li>\n",
       "\t<li>0.801511563318608</li>\n",
       "\t<li>-0.326182191479009</li>\n",
       "\t<li>1.23569181408987</li>\n",
       "\t<li>0.318290255398767</li>\n",
       "\t<li>0.132510078516314</li>\n",
       "\t<li>1.29129039137713</li>\n",
       "\t<li>-1.33919100531777</li>\n",
       "\t<li>-0.679668707546468</li>\n",
       "\t<li>1.04236023454454</li>\n",
       "\t<li>0.499282611592543</li>\n",
       "\t<li>1.716185947352</li>\n",
       "\t<li>0.717928352767827</li>\n",
       "\t<li>0.512581397985097</li>\n",
       "\t<li>1.0179502121796</li>\n",
       "\t<li>3.63345706440458</li>\n",
       "\t<li>-0.0321094315144974</li>\n",
       "\t<li>0.492588677282225</li>\n",
       "\t<li>1.01117858744437</li>\n",
       "\t<li>4.75876283079482</li>\n",
       "\t<li>-5.79773824940912</li>\n",
       "\t<li>-2.85707598173633</li>\n",
       "\t<li>1.37622141481422</li>\n",
       "\t<li>-0.547151345405491</li>\n",
       "\t<li>4.07748195393346</li>\n",
       "\t<li>1.96632184132246</li>\n",
       "\t<li>-2.32561176475169</li>\n",
       "\t<li>3.76894470831505</li>\n",
       "\t<li>-1.94088201694728</li>\n",
       "\t<li>1.98207025377935</li>\n",
       "\t<li>1.07680397028157</li>\n",
       "\t<li>-3.31121959394596</li>\n",
       "\t<li>0.597460119593324</li>\n",
       "\t<li>-1.53184628795696</li>\n",
       "\t<li>0.953513063541132</li>\n",
       "\t<li>4.5458745142587</li>\n",
       "\t<li>4.06395364483315</li>\n",
       "\t<li>-0.622331068202327</li>\n",
       "\t<li>-2.20012169378402</li>\n",
       "\t<li>4.10657075976529</li>\n",
       "\t<li>-0.0384460767588062</li>\n",
       "\t<li>6.1708990927304</li>\n",
       "\t<li>1.30661296730494</li>\n",
       "\t<li>3.42988682924683</li>\n",
       "\t<li>-1.40399383594581</li>\n",
       "\t<li>-1.747088097479</li>\n",
       "\t<li>-0.0433511387789673</li>\n",
       "\t<li>-0.0382905435755605</li>\n",
       "\t<li>4.6535876706522</li>\n",
       "\t<li>-2.68169365904269</li>\n",
       "\t<li>7.55821872824899</li>\n",
       "\t<li>1.95210817722701</li>\n",
       "\t<li>-1.47616526273627</li>\n",
       "\t<li>0.890572822527377</li>\n",
       "\t<li>-0.62902517322812</li>\n",
       "\t<li>-4.38437667413106</li>\n",
       "\t<li>0.498661772325994</li>\n",
       "\t<li>-1.83091417227135</li>\n",
       "\t<li>-1.21748158765331</li>\n",
       "\t<li>0.967797597743601</li>\n",
       "\t<li>-3.31026220101152</li>\n",
       "\t<li>1.00167690008521</li>\n",
       "\t<li>3.70527096652277</li>\n",
       "\t<li>2.05421169981522</li>\n",
       "\t<li>-2.61784242800349</li>\n",
       "\t<li>-1.16667219322528</li>\n",
       "\t<li>1.25139493549711</li>\n",
       "\t<li>1.38425586198431</li>\n",
       "\t<li>-0.578585724080804</li>\n",
       "\t<li>3.22899363923</li>\n",
       "\t<li>3.23299170046366</li>\n",
       "\t<li>-1.34037939807036</li>\n",
       "\t<li>-4.91398621772037</li>\n",
       "\t<li>1.00005211029635</li>\n",
       "\t<li>5.90027774164126</li>\n",
       "\t<li>-0.292669544052504</li>\n",
       "\t<li>-0.038423289983925</li>\n",
       "\t<li>2.34425075536942</li>\n",
       "\t<li>4.5802240736109</li>\n",
       "\t<li>1.85615251907025</li>\n",
       "\t<li>-0.768661958823063</li>\n",
       "\t<li>6.12327683777627</li>\n",
       "\t<li>-1.34704449815834</li>\n",
       "\t<li>-0.727919004353057</li>\n",
       "\t<li>-2.41602787993034</li>\n",
       "\t<li>-0.684832255226585</li>\n",
       "\t<li>6.02457211011236</li>\n",
       "\t<li>-0.0226751257715014</li>\n",
       "\t<li>-4.28368997036099</li>\n",
       "\t<li>-2.42400106711253</li>\n",
       "\t<li>-0.513133940729003</li>\n",
       "\t<li>2.41679745362553</li>\n",
       "\t<li>6.51621134438791</li>\n",
       "\t<li>7.40753092511326</li>\n",
       "\t<li>-0.463143033241084</li>\n",
       "\t<li>-1.05852749033001</li>\n",
       "\t<li>-0.680029338932422</li>\n",
       "\t<li>-1.18437570973562</li>\n",
       "\t<li>0.0859569182716982</li>\n",
       "\t<li>-0.651175637344931</li>\n",
       "\t<li>4.37104403736863</li>\n",
       "\t<li>4.98702352186413</li>\n",
       "\t<li>3.18300501674955</li>\n",
       "\t<li>-0.777567651401839</li>\n",
       "\t<li>1.70623687061603</li>\n",
       "\t<li>-2.22451731302041</li>\n",
       "\t<li>3.80328455367811</li>\n",
       "\t<li>-3.32667956033887</li>\n",
       "\t<li>-0.243307994591428</li>\n",
       "\t<li>0.651317304895112</li>\n",
       "\t<li>0.458391903037242</li>\n",
       "\t<li>5.77729319782094</li>\n",
       "\t<li>5.64900838604939</li>\n",
       "\t<li>0.450156432544182</li>\n",
       "\t<li>4.21447175391807</li>\n",
       "\t<li>0.440421347534835</li>\n",
       "\t<li>9.46345575498791</li>\n",
       "\t<li>1.31584816611528</li>\n",
       "\t<li>-0.75246195405565</li>\n",
       "\t<li>-1.06649963322338</li>\n",
       "\t<li>1.66174218917007</li>\n",
       "\t<li>-1.84804696288364</li>\n",
       "\t<li>8.49959054273262</li>\n",
       "</ol>\n"
      ],
      "text/latex": [
       "\\begin{enumerate*}\n",
       "\\item 2.97060367399764\n",
       "\\item 3.35039607058348\n",
       "\\item 2.72952867945277\n",
       "\\item 4.63361955013481\n",
       "\\item 1.77112741365452\n",
       "\\item 1.95204253178942\n",
       "\\item 1.48328955358894\n",
       "\\item -4.50190464793592\n",
       "\\item -0.0641256773134338\n",
       "\\item 0.492793306524739\n",
       "\\item -2.34834420126785\n",
       "\\item 0.84508414884463\n",
       "\\item 2.79975211039073\n",
       "\\item -0.718889336808329\n",
       "\\item 6.43329237101111\n",
       "\\item 2.34118576320544\n",
       "\\item 2.18049525375819\n",
       "\\item -3.35714048844255\n",
       "\\item 2.37784467112533\n",
       "\\item -3.39684823608557\n",
       "\\item -2.47895663151789\n",
       "\\item 5.33237585152344\n",
       "\\item -0.952492315750804\n",
       "\\item -0.990529693423483\n",
       "\\item -1.33565622899202\n",
       "\\item 0.181540660787642\n",
       "\\item 1.26024551256709\n",
       "\\item 3.06365449265461\n",
       "\\item 4.89220377073211\n",
       "\\item 3.27583038014479\n",
       "\\item -1.50683107129449\n",
       "\\item 3.16871782354797\n",
       "\\item 0.489481000634559\n",
       "\\item 0.244253228560114\n",
       "\\item 1.14983568780394\n",
       "\\item 1.72640300511891\n",
       "\\item -0.124560962600444\n",
       "\\item -1.91511191653828\n",
       "\\item 6.94302104875402\n",
       "\\item 6.47523141998729\n",
       "\\item 5.53495133854309\n",
       "\\item 2.56710128379075\n",
       "\\item 3.18769105002125\n",
       "\\item -0.92711085562674\n",
       "\\item 1.27398638010543\n",
       "\\item -0.915422299720303\n",
       "\\item 0.955827459428513\n",
       "\\item -1.81657403323492\n",
       "\\item -2.72406665037848\n",
       "\\item 1.00204295964618\n",
       "\\item -1.91303384786576\n",
       "\\item 4.06429932072685\n",
       "\\item 2.7546214482199\n",
       "\\item 4.8558501772904\n",
       "\\item -3.24140137493518\n",
       "\\item 1.89860235921982\n",
       "\\item -2.03378685115864\n",
       "\\item -4.42941480316716\n",
       "\\item 2.69303780933093\n",
       "\\item 3.6271758442029\n",
       "\\item 0.119428859557405\n",
       "\\item 6.57632463545889\n",
       "\\item 1.95588560063929\n",
       "\\item 3.62583250057119\n",
       "\\item 2.10981381188211\n",
       "\\item -0.165857977271926\n",
       "\\item -0.041779048581329\n",
       "\\item 2.93155352415508\n",
       "\\item 2.5293976047665\n",
       "\\item -1.993029998127\n",
       "\\item -2.29986942582876\n",
       "\\item 4.57953978261794\n",
       "\\item 5.03855876702543\n",
       "\\item 0.335377454755722\n",
       "\\item 1.93802724215208\n",
       "\\item -3.23196370865063\n",
       "\\item -4.88346912606257\n",
       "\\item 1.30919950478602\n",
       "\\item -1.61333133400648\n",
       "\\item 6.93930974653997\n",
       "\\item -2.77945696044053\n",
       "\\item 1.38970453366259\n",
       "\\item 2.5334790631363\n",
       "\\item 3.74841265723385\n",
       "\\item 7.40410127656701\n",
       "\\item 3.67076274057586\n",
       "\\item 5.92223788475068\n",
       "\\item -1.43420654694944\n",
       "\\item 5.13829795891956\n",
       "\\item -0.580484724718018\n",
       "\\item 1.3039465529163\n",
       "\\item -0.0781129153171771\n",
       "\\item -1.96177452180169\n",
       "\\item 1.46799576692621\n",
       "\\item -4.96732840895148\n",
       "\\item -0.296603700459772\n",
       "\\item 1.71986415453324\n",
       "\\item 1.32819248602522\n",
       "\\item -0.105203602969301\n",
       "\\item 0.660143305612729\n",
       "\\item -4.27731967021635\n",
       "\\item -0.583589092807398\n",
       "\\item 1.57644808896926\n",
       "\\item 5.33070700661266\n",
       "\\item 3.58945602218664\n",
       "\\item -0.94254408372675\n",
       "\\item -0.0621907261155865\n",
       "\\item 0.554430355903475\n",
       "\\item 2.23777508342989\n",
       "\\item 2.79949330337914\n",
       "\\item 0.257662573537762\n",
       "\\item -0.942527169336558\n",
       "\\item -1.51441925552652\n",
       "\\item -2.27445137224794\n",
       "\\item 3.18244368070777\n",
       "\\item 3.24246694158213\n",
       "\\item -2.97771485304784\n",
       "\\item 3.40319180300498\n",
       "\\item 0.996028104298751\n",
       "\\item 7.89920798107767\n",
       "\\item 3.37511247550192\n",
       "\\item 4.03947901082984\n",
       "\\item -0.83373415711376\n",
       "\\item 0.701475530682743\n",
       "\\item -0.102425401273482\n",
       "\\item -0.722699272931875\n",
       "\\item -0.720979755426749\n",
       "\\item 7.50963894265358\n",
       "\\item 1.20302206975666\n",
       "\\item 4.12274743282288\n",
       "\\item 2.99803928410382\n",
       "\\item -1.82417150044743\n",
       "\\item -1.73194658536281\n",
       "\\item 4.16334374371342\n",
       "\\item 0.202486557073933\n",
       "\\item 2.90053286741874\n",
       "\\item 5.66455880714836\n",
       "\\item -4.77185070423501\n",
       "\\item 0.980359726317607\n",
       "\\item -2.16724137643455\n",
       "\\item -0.34232157705021\n",
       "\\item 3.59504672744586\n",
       "\\item -2.41379995574316\n",
       "\\item 4.1335470122838\n",
       "\\item 1.22063028845385\n",
       "\\item 1.43146805186085\n",
       "\\item 4.50246390003942\n",
       "\\item 6.17439032553073\n",
       "\\item 1.04344594393291\n",
       "\\item 1.39261113222544\n",
       "\\item 0.0863126759225279\n",
       "\\item 4.0984084420116\n",
       "\\item -1.2015982374866\n",
       "\\item -0.689081964385962\n",
       "\\item 2.5693111073688\n",
       "\\item 1.64152386957673\n",
       "\\item 3.0938420246625\n",
       "\\item -0.644624420392265\n",
       "\\item 0.264237847245717\n",
       "\\item 6.67419103100968\n",
       "\\item 2.06262234351639\n",
       "\\item 4.6278805866486\n",
       "\\item 1.39006334425211\n",
       "\\item -2.92214464623627\n",
       "\\item 3.5800792472679\n",
       "\\item 0.969292393421697\n",
       "\\item 5.62111803993564\n",
       "\\item 4.47169373780202\n",
       "\\item 0.280111046920892\n",
       "\\item 1.31415905538028\n",
       "\\item 1.85470789051279\n",
       "\\item 0.735263891817808\n",
       "\\item 1.98626621025771\n",
       "\\item 1.45368136799593\n",
       "\\item 2.71585242965017\n",
       "\\item 3.02499614795684\n",
       "\\item 1.27695312043161\n",
       "\\item -2.08649396839732\n",
       "\\item 0.142590417704899\n",
       "\\item -5.11607274520014\n",
       "\\item -2.6227740336989\n",
       "\\item -2.01508299829948\n",
       "\\item 6.39308966206692\n",
       "\\item -1.55854675613837\n",
       "\\item 2.29473262550431\n",
       "\\item -4.05260521793737\n",
       "\\item 1.0542806658639\n",
       "\\item 2.20961333629502\n",
       "\\item 5.30109428280623\n",
       "\\item 1.04672775273664\n",
       "\\item -0.680420720868198\n",
       "\\item -5.67597886657688\n",
       "\\item 4.866134869627\n",
       "\\item 4.28073367215611\n",
       "\\item 0.211014117424805\n",
       "\\item 2.42751755451946\n",
       "\\item 1.16075697169577\n",
       "\\item -3.69200702614121\n",
       "\\item 1.28801357113931\n",
       "\\item -2.61244302378402\n",
       "\\item -1.29600897701566\n",
       "\\item -2.3622603354766\n",
       "\\item -4.26139220552728\n",
       "\\item 1.0292008826545\n",
       "\\item 2.14246322467906\n",
       "\\item 3.38219045579278\n",
       "\\item 1.55201845150991\n",
       "\\item -3.90853448987571\n",
       "\\item -3.51623121479677\n",
       "\\item 5.90399089048082\n",
       "\\item 0.96533962457817\n",
       "\\item 1.71907157045565\n",
       "\\item 0.0680004105862431\n",
       "\\item 1.59613984354426\n",
       "\\item 0.138371066374524\n",
       "\\item -0.741680265357942\n",
       "\\item 3.43627060465804\n",
       "\\item 1.74994479291681\n",
       "\\item 1.96804660477618\n",
       "\\item 2.59810429023775\n",
       "\\item 0.30699883110699\n",
       "\\item -2.74263768782405\n",
       "\\item -0.393546999485709\n",
       "\\item -4.20582397826512\n",
       "\\item -2.53455764130821\n",
       "\\item 1.12270683690709\n",
       "\\item 3.34458601739467\n",
       "\\item 3.59003334161086\n",
       "\\item 1.2445283736774\n",
       "\\item 3.08051814363968\n",
       "\\item 9.8122559792878\n",
       "\\item -0.82145022459025\n",
       "\\item 1.44584259708122\n",
       "\\item 0.885738658194801\n",
       "\\item 1.12547660667165\n",
       "\\item 2.74996186439528\n",
       "\\item -1.73493227023901\n",
       "\\item 1.80232302327689\n",
       "\\item 0.0596361814589743\n",
       "\\item 4.18902828304433\n",
       "\\item 2.30368785704099\n",
       "\\item -0.142570695989395\n",
       "\\item -0.0115911586622681\n",
       "\\item -1.62605532451614\n",
       "\\item 0.610110392829901\n",
       "\\item 0.614254558563469\n",
       "\\item 1.1628725477165\n",
       "\\item 3.33276571660339\n",
       "\\item 2.7313365718947\n",
       "\\item 2.28541517482035\n",
       "\\item -4.67043484540533\n",
       "\\item 0.71584186693128\n",
       "\\item 0.813085065197054\n",
       "\\item -2.88680022744121\n",
       "\\item 2.90259163545579\n",
       "\\item -1.40721691038501\n",
       "\\item 0.189036476268937\n",
       "\\item 1.04108720887757\n",
       "\\item 0.794286621244837\n",
       "\\item -3.29467227413556\n",
       "\\item 5.98324313248288\n",
       "\\item 0.162549155786335\n",
       "\\item 0.749359767879677\n",
       "\\item -1.593812809884\n",
       "\\item 1.34638745666295\n",
       "\\item 3.9835128679985\n",
       "\\item 4.519155757395\n",
       "\\item 4.79668506963807\n",
       "\\item 0.787739052599139\n",
       "\\item 0.926935629345625\n",
       "\\item -0.317235874275627\n",
       "\\item -2.00267422477961\n",
       "\\item 3.90932958822586\n",
       "\\item 2.76587962948696\n",
       "\\item -0.867253888213452\n",
       "\\item 2.25042894350464\n",
       "\\item -0.639907732089701\n",
       "\\item -1.45434487271368\n",
       "\\item 2.29325683008805\n",
       "\\item 1.23779364108142\n",
       "\\item 1.63274091727393\n",
       "\\item -3.93000719224873\n",
       "\\item -5.98259662977572\n",
       "\\item 2.18235466847955\n",
       "\\item -0.508797074996073\n",
       "\\item 0.752235747153028\n",
       "\\item 0.0636893105641119\n",
       "\\item 2.20427265354772\n",
       "\\item -5.10590234164844\n",
       "\\item 0.413087432709395\n",
       "\\item -0.344107543141101\n",
       "\\item 0.0967052047636714\n",
       "\\item 5.67213282609949\n",
       "\\item 1.52705200725777\n",
       "\\item -3.67222752301129\n",
       "\\item 1.12044970666886\n",
       "\\item 0.298644936788837\n",
       "\\item 6.11069805612897\n",
       "\\item 2.69686836318774\n",
       "\\item 2.34881950884194\n",
       "\\item 4.13457476696366\n",
       "\\item 0.877914881364863\n",
       "\\item -0.868572751292613\n",
       "\\item -1.10337104993295\n",
       "\\item -4.06604920362854\n",
       "\\item 1.67262103593327\n",
       "\\item 0.00944505547073815\n",
       "\\item 0.140079688434626\n",
       "\\item 1.64761171705434\n",
       "\\item -2.52665873851025\n",
       "\\item 4.0043772676381\n",
       "\\item 1.57885153842818\n",
       "\\item -1.35121961561762\n",
       "\\item 3.23800853797926\n",
       "\\item 0.340889432759042\n",
       "\\item 2.39855095781984\n",
       "\\item 1.91959177251549\n",
       "\\item -1.92097683936112\n",
       "\\item 2.16592041159423\n",
       "\\item 5.42753546792547\n",
       "\\item -0.531283623774941\n",
       "\\item 1.38005251927088\n",
       "\\item -2.22078657321138\n",
       "\\item 8.88504039964789\n",
       "\\item 0.188442227475394\n",
       "\\item -0.251424369061623\n",
       "\\item 4.0134924898488\n",
       "\\item 2.54544494036284\n",
       "\\item 0.845994838183231\n",
       "\\item 2.36367047717322\n",
       "\\item -0.103238940597524\n",
       "\\item 0.206176019455209\n",
       "\\item -0.618731859165404\n",
       "\\item 4.06768883519451\n",
       "\\item 0.576215387996649\n",
       "\\item -0.535789823412288\n",
       "\\item 3.4645061533938\n",
       "\\item 2.63405485107943\n",
       "\\item -5.64765389650721\n",
       "\\item 0.865738765127526\n",
       "\\item 3.78535097313249\n",
       "\\item -1.27830010637651\n",
       "\\item 1.63468185653757\n",
       "\\item 3.818256587519\n",
       "\\item -1.07602842989292\n",
       "\\item 0.371880881834415\n",
       "\\item -1.32171611164638\n",
       "\\item 0.605671410521583\n",
       "\\item -2.28847709783158\n",
       "\\item -5.27550055967312\n",
       "\\item -2.79500405061898\n",
       "\\item 8.27349182042638\n",
       "\\item 0.581498109864097\n",
       "\\item 0.50722335002389\n",
       "\\item 4.52955179956887\n",
       "\\item -1.04752999712363\n",
       "\\item -2.45510361597319\n",
       "\\item 0.0203657763463686\n",
       "\\item -0.647731026545563\n",
       "\\item 9.70941837427194\n",
       "\\item -3.10260947319725\n",
       "\\item 3.13219786728594\n",
       "\\item -2.93295734582893\n",
       "\\item 1.12547092603331\n",
       "\\item -4.30803789767539\n",
       "\\item -0.203953295925817\n",
       "\\item 2.50275396905244\n",
       "\\item 1.82305068062218\n",
       "\\item 4.47411807705125\n",
       "\\item -0.924362916639508\n",
       "\\item -4.40642125320905\n",
       "\\item 4.62026952109197\n",
       "\\item 2.98339455105902\n",
       "\\item 2.49522751040036\n",
       "\\item 1.6447851730142\n",
       "\\item -4.40315449997665\n",
       "\\item 2.00437581916236\n",
       "\\item 2.64187800214854\n",
       "\\item -1.4953520869537\n",
       "\\item 0.726174799077887\n",
       "\\item 1.46505828825003\n",
       "\\item 3.29972059999794\n",
       "\\item 3.55079238609925\n",
       "\\item -0.143913986798752\n",
       "\\item -4.89616525122372\n",
       "\\item 0.743858492459468\n",
       "\\item -5.19944769019703\n",
       "\\item 4.58054541655765\n",
       "\\item -2.74061650525033\n",
       "\\item -0.129049226324588\n",
       "\\item 3.92192389225303\n",
       "\\item -0.695840623952353\n",
       "\\item -3.3015294163851\n",
       "\\item 2.51254680605915\n",
       "\\item -1.83205824429469\n",
       "\\item 1.22993699404088\n",
       "\\item 5.72566205303531\n",
       "\\item 0.861003044690877\n",
       "\\item 2.53165944009005\n",
       "\\item 0.646302802069611\n",
       "\\item 2.91670635741821\n",
       "\\item -3.65924037472054\n",
       "\\item 0.98888386723931\n",
       "\\item 0.720558226289456\n",
       "\\item 5.25789999961991\n",
       "\\item 3.98493085431898\n",
       "\\item 3.55033524637581\n",
       "\\item 1.21633679557306\n",
       "\\item 1.96944304348745\n",
       "\\item 0.26225861462088\n",
       "\\item -0.0819588730463725\n",
       "\\item 2.82905677526462\n",
       "\\item 3.33490448809645\n",
       "\\item 5.13867381284036\n",
       "\\item 0.300596423085696\n",
       "\\item 0.812018407258873\n",
       "\\item -2.49388793387466\n",
       "\\item -2.04180276748911\n",
       "\\item 4.35065552536779\n",
       "\\item 4.11521127254701\n",
       "\\item 0.396117471472411\n",
       "\\item -1.85668270337576\n",
       "\\item -5.84574854237051\n",
       "\\item 3.48603546763726\n",
       "\\item 3.67845474293649\n",
       "\\item 2.98374179299056\n",
       "\\item 2.29427797282954\n",
       "\\item 2.21483166422097\n",
       "\\item 0.873646157105396\n",
       "\\item -2.99898467455224\n",
       "\\item 3.03243826630153\n",
       "\\item 2.20301026277765\n",
       "\\item 1.83639010221014\n",
       "\\item 0.141322162364564\n",
       "\\item -5.04285122735791\n",
       "\\item 1.43843862826563\n",
       "\\item 0.527776507581549\n",
       "\\item 2.95569442019441\n",
       "\\item 0.779636561384498\n",
       "\\item 6.94909067097921\n",
       "\\item -1.70740391355572\n",
       "\\item -0.313387824667069\n",
       "\\item 1.54528117284926\n",
       "\\item 5.07442517268579\n",
       "\\item 1.47121862382435\n",
       "\\item 5.58166100666813\n",
       "\\item -2.37802218452406\n",
       "\\item -0.816515497566588\n",
       "\\item -2.96068282550503\n",
       "\\item 3.02601686039288\n",
       "\\item 2.62277449598642\n",
       "\\item 0.512876471875004\n",
       "\\item -3.14855658741892\n",
       "\\item 4.74356129377214\n",
       "\\item 2.11284852159717\n",
       "\\item -0.621720007352832\n",
       "\\item 4.88606944772042\n",
       "\\item 1.98489559563871\n",
       "\\item 2.20871390820199\n",
       "\\item -2.83502741403565\n",
       "\\item -0.124628362416122\n",
       "\\item 4.55504105661671\n",
       "\\item 1.1757493132582\n",
       "\\item 5.99259076762231\n",
       "\\item 0.582243212855019\n",
       "\\item -3.44655256521429\n",
       "\\item 0.28068486580444\n",
       "\\item -3.6078404581382\n",
       "\\item 2.2314276234001\n",
       "\\item -1.19955973704167\n",
       "\\item 0.894873691184618\n",
       "\\item 1.85478308088675\n",
       "\\item 2.44121038275848\n",
       "\\item 2.86524147240226\n",
       "\\item -0.222037973357683\n",
       "\\item 2.38304644571004\n",
       "\\item 1.67804212047732\n",
       "\\item -2.28762312398624\n",
       "\\item -3.6516753824693\n",
       "\\item -2.86433646865525\n",
       "\\item 1.70660881561318\n",
       "\\item 3.5557589111325\n",
       "\\item -0.963521082481262\n",
       "\\item 3.80714493446853\n",
       "\\item -0.802206735315336\n",
       "\\item 3.73418099256444\n",
       "\\item -1.52537223700329\n",
       "\\item -0.452267506426632\n",
       "\\item -3.15804827746399\n",
       "\\item -4.55764341484411\n",
       "\\item -1.65239965757859\n",
       "\\item 1.15908621239038\n",
       "\\item -1.59483020464429\n",
       "\\item 4.53025221282535\n",
       "\\item -0.667266932682706\n",
       "\\item 4.81964503104878\n",
       "\\item -0.381738168285771\n",
       "\\item 5.17917734837597\n",
       "\\item -0.0377015084615171\n",
       "\\item 0.831036794613633\n",
       "\\item 2.76211991247782\n",
       "\\item 2.22683601157774\n",
       "\\item 1.84568015310453\n",
       "\\item 3.17335971617681\n",
       "\\item -0.676298260344224\n",
       "\\item -2.08694039113549\n",
       "\\item 2.61238072643882\n",
       "\\item -0.259712777615088\n",
       "\\item 3.51333475686489\n",
       "\\item 4.04056081600798\n",
       "\\item 4.67316669016216\n",
       "\\item 2.02031330553083\n",
       "\\item 2.28708523643923\n",
       "\\item 2.23148795987607\n",
       "\\item 3.23718953692792\n",
       "\\item 7.70115930725786\n",
       "\\item 2.07638295545053\n",
       "\\item 0.603778069566039\n",
       "\\item 4.08799059260557\n",
       "\\item 4.97822330819582\n",
       "\\item 1.63869331932365\n",
       "\\item 8.16361657343476\n",
       "\\item 2.12392314392929\n",
       "\\item -3.04308933845177\n",
       "\\item 1.28827444393883\n",
       "\\item 0.722862442380149\n",
       "\\item -0.257206570537897\n",
       "\\item 2.23775501897492\n",
       "\\item 3.01343700008285\n",
       "\\item 6.67381951928079\n",
       "\\item 0.62831254532242\n",
       "\\item 3.236596431639\n",
       "\\item 4.51235839643553\n",
       "\\item 0.0213697114744331\n",
       "\\item 1.95307248838763\n",
       "\\item -0.021568946727712\n",
       "\\item -2.82265759428009\n",
       "\\item 3.20794628625769\n",
       "\\item -2.98891825803686\n",
       "\\item 3.20544024412079\n",
       "\\item 2.96004741598062\n",
       "\\item 2.07744792463398\n",
       "\\item 7.37208745331841\n",
       "\\item 2.34662533239378\n",
       "\\item 3.67297714412824\n",
       "\\item 5.93039885958439\n",
       "\\item 2.47562155007948\n",
       "\\item -0.859362845383992\n",
       "\\item 1.63800481324631\n",
       "\\item 2.77375123730342\n",
       "\\item 2.71606968124013\n",
       "\\item -0.194029423845703\n",
       "\\item 3.67242771700456\n",
       "\\item 2.49391521560762\n",
       "\\item 0.715415546235924\n",
       "\\item 1.85852136712027\n",
       "\\item 1.22215867450438\n",
       "\\item 4.89713438428836\n",
       "\\item 2.64572620824205\n",
       "\\item 3.36096391507867\n",
       "\\item 2.20008101895224\n",
       "\\item -3.82560458660977\n",
       "\\item 1.68624832331438\n",
       "\\item 4.55733562051191\n",
       "\\item 3.18439298971203\n",
       "\\item -0.397022801356423\n",
       "\\item 6.00669322770816\n",
       "\\item 3.15949173643885\n",
       "\\item 4.27441177020242\n",
       "\\item -4.90567003474461\n",
       "\\item 0.119525359418256\n",
       "\\item 4.60177973796032\n",
       "\\item 1.03748468701689\n",
       "\\item 2.60661010144065\n",
       "\\item -4.18190855128096\n",
       "\\item 0.841895618190694\n",
       "\\item 5.5278294246691\n",
       "\\item 8.78997197649404\n",
       "\\item -1.22085771848853\n",
       "\\item -0.310204419477959\n",
       "\\item -2.06574074576714\n",
       "\\item 4.1129319532822\n",
       "\\item -7.27692188811331\n",
       "\\item 3.91444622337116\n",
       "\\item 0.954237229050127\n",
       "\\item 1.02927514828899\n",
       "\\item 1.71644162255183\n",
       "\\item 1.70074753754597\n",
       "\\item -1.01599226901408\n",
       "\\item 0.240558044482642\n",
       "\\item -0.507829204216929\n",
       "\\item -2.69272641145954\n",
       "\\item -5.45410471175685\n",
       "\\item 0.458408456826187\n",
       "\\item 0.429001947828727\n",
       "\\item 3.73620667339874\n",
       "\\item -0.847371651711444\n",
       "\\item 4.13749348846117\n",
       "\\item 5.71337837102194\n",
       "\\item 0.404098333715346\n",
       "\\item -3.15975246669452\n",
       "\\item 1.74385101294721\n",
       "\\item 2.14747051320173\n",
       "\\item 0.444511208201859\n",
       "\\item 0.254813421331922\n",
       "\\item 4.28188438885883\n",
       "\\item -1.54956245465924\n",
       "\\item -2.58310057632526\n",
       "\\item 2.4380344149546\n",
       "\\item 4.48558646555099\n",
       "\\item 2.10127019596191\n",
       "\\item 2.84081200306057\n",
       "\\item 4.69051907107227\n",
       "\\item 2.45033996809717\n",
       "\\item 3.0054255103076\n",
       "\\item 5.98536836309962\n",
       "\\item 0.8661104679303\n",
       "\\item -0.978356161474109\n",
       "\\item -3.58424628306728\n",
       "\\item -2.62216041095955\n",
       "\\item -0.473990000331101\n",
       "\\item 0.734966500649338\n",
       "\\item 3.57435788349751\n",
       "\\item -0.250895294529683\n",
       "\\item -4.02701920098275\n",
       "\\item -0.744116678709788\n",
       "\\item 1.17808579170529\n",
       "\\item -1.97192085532242\n",
       "\\item -0.897106216329608\n",
       "\\item 4.11033402132241\n",
       "\\item 3.10771805854614\n",
       "\\item -1.90398090153235\n",
       "\\item -0.124637611003058\n",
       "\\item 2.21760503862352\n",
       "\\item 2.88074154183096\n",
       "\\item 4.58046502082543\n",
       "\\item 0.294605234069113\n",
       "\\item 4.52149509240964\n",
       "\\item -5.47406407927096\n",
       "\\item 1.49462375154604\n",
       "\\item 2.64497094454445\n",
       "\\item 7.89107729194787\n",
       "\\item -2.97679533630872\n",
       "\\item 2.00194381070371\n",
       "\\item -2.79011339581443\n",
       "\\item 4.93691833801386\n",
       "\\item 4.39399380143468\n",
       "\\item 6.79390470927897\n",
       "\\item -1.2656980566508\n",
       "\\item 3.39425090976504\n",
       "\\item -2.46670682381004\n",
       "\\item -0.388454338447599\n",
       "\\item 7.35941736839915\n",
       "\\item 1.41044284522348\n",
       "\\item 5.37979335408107\n",
       "\\item 5.90621371744419\n",
       "\\item -2.76242219597791\n",
       "\\item -0.30425700361175\n",
       "\\item 0.103181546204016\n",
       "\\item 0.0944976253046719\n",
       "\\item -0.312787419168852\n",
       "\\item 0.413188224422363\n",
       "\\item 0.0628759146453157\n",
       "\\item 0.685901853662812\n",
       "\\item -2.54741058958279\n",
       "\\item -3.56751719868468\n",
       "\\item 5.51069950438216\n",
       "\\item 2.87805031678375\n",
       "\\item -2.06597546347678\n",
       "\\item -3.87510243067275\n",
       "\\item 2.34303336436639\n",
       "\\item -2.32404657001508\n",
       "\\item 0.10129080023758\n",
       "\\item 1.63604029671111\n",
       "\\item 1.56790420655691\n",
       "\\item -2.0513956487741\n",
       "\\item 1.55824887035143\n",
       "\\item 3.76811767576831\n",
       "\\item -2.69276295850715\n",
       "\\item -1.62303909896151\n",
       "\\item 1.81590165806043\n",
       "\\item 3.09271087829289\n",
       "\\item 1.74769356564557\n",
       "\\item 1.47424241670439\n",
       "\\item -0.557469291486419\n",
       "\\item 1.696323062338\n",
       "\\item -3.59023682678011\n",
       "\\item 0.0252652216053912\n",
       "\\item -2.1086361624131\n",
       "\\item 0.835688236897617\n",
       "\\item -2.4344074349795\n",
       "\\item 5.67711561403774\n",
       "\\item -3.29178352115501\n",
       "\\item 4.63810510130355\n",
       "\\item 0.151491363461769\n",
       "\\item 1.30791727861985\n",
       "\\item -1.99859198789117\n",
       "\\item 0.304895911591813\n",
       "\\item 1.11093948040496\n",
       "\\item -2.32282310085363\n",
       "\\item -0.956718531399689\n",
       "\\item -2.04888467559426\n",
       "\\item 2.76553208719273\n",
       "\\item 3.28150805687929\n",
       "\\item -4.65426544049679\n",
       "\\item 2.78166739899789\n",
       "\\item 6.05307134009554\n",
       "\\item -1.16007328973004\n",
       "\\item 5.21572319855933\n",
       "\\item -3.54371204583598\n",
       "\\item -0.274944173349379\n",
       "\\item -0.812783926928264\n",
       "\\item -3.57581639141954\n",
       "\\item 3.03648336438666\n",
       "\\item 1.33842278309343\n",
       "\\item 0.998647309079959\n",
       "\\item 1.88822170244826\n",
       "\\item -0.0447051806520791\n",
       "\\item 1.47989923133605\n",
       "\\item 2.0413381702852\n",
       "\\item 4.00971411201718\n",
       "\\item 1.50520004742709\n",
       "\\item -0.0982375262243473\n",
       "\\item -0.177544811351074\n",
       "\\item 2.18910245255251\n",
       "\\item 2.96688352938377\n",
       "\\item 2.55552173900245\n",
       "\\item 1.01891030200964\n",
       "\\item 0.86176903042957\n",
       "\\item -3.55611025273891\n",
       "\\item 1.9428073684945\n",
       "\\item 2.10103173725537\n",
       "\\item 4.3048878650553\n",
       "\\item 1.08170127033477\n",
       "\\item 1.71306526603154\n",
       "\\item 4.35978119137533\n",
       "\\item 0.525797652269705\n",
       "\\item -0.875694355134407\n",
       "\\item 1.08639958956704\n",
       "\\item 0.500157255642461\n",
       "\\item 2.35658361674286\n",
       "\\item 3.92593999008221\n",
       "\\item 3.77108400994536\n",
       "\\item 2.38874607854977\n",
       "\\item 0.515494461588755\n",
       "\\item 3.22541517395522\n",
       "\\item 0.857541732746315\n",
       "\\item 1.57529344080425\n",
       "\\item 5.12640869829825\n",
       "\\item 1.52505692553373\n",
       "\\item -0.982536083817205\n",
       "\\item 4.08607511925884\n",
       "\\item -2.7765472762056\n",
       "\\item -0.445981096652774\n",
       "\\item 0.530889098797452\n",
       "\\item 2.60687605700458\n",
       "\\item 0.609231436132592\n",
       "\\item 4.89305191655605\n",
       "\\item -1.64115445696396\n",
       "\\item -0.284890630703448\n",
       "\\item 0.177781023826894\n",
       "\\item -2.73790658510662\n",
       "\\item -0.411990261569514\n",
       "\\item 1.35493799309457\n",
       "\\item 0.0534876838717735\n",
       "\\item -0.658499220742885\n",
       "\\item 7.75831745582236\n",
       "\\item 1.10545409146131\n",
       "\\item 0.889747851154206\n",
       "\\item 3.45189453343867\n",
       "\\item 2.35154685114751\n",
       "\\item -4.62146287736401\n",
       "\\item -0.79678463675947\n",
       "\\item -2.30199047109039\n",
       "\\item 6.32822474290654\n",
       "\\item -1.8730609000137\n",
       "\\item 0.726775803067217\n",
       "\\item -0.16242072780202\n",
       "\\item 0.338390413825839\n",
       "\\item -0.677927442913383\n",
       "\\item -1.47156592099602\n",
       "\\item 5.34487307843611\n",
       "\\item 4.18151347263564\n",
       "\\item 4.86522114881448\n",
       "\\item 2.71121846142971\n",
       "\\item 3.3855370604443\n",
       "\\item -1.32920679850709\n",
       "\\item 0.589262794955409\n",
       "\\item 3.23703993335233\n",
       "\\item -0.706805955236371\n",
       "\\item 3.4479516875789\n",
       "\\item 1.90273970210668\n",
       "\\item -1.62080820590016\n",
       "\\item -0.489917160770876\n",
       "\\item 2.12335753150944\n",
       "\\item 2.15941092185559\n",
       "\\item 1.74547628514137\n",
       "\\item 4.85349024211331\n",
       "\\item 1.66458837686674\n",
       "\\item -0.922033118172367\n",
       "\\item 0.742977711431156\n",
       "\\item 2.3595468361878\n",
       "\\item 5.49750408068254\n",
       "\\item -1.929790565824\n",
       "\\item 0.892797337425525\n",
       "\\item -2.70115877463634\n",
       "\\item -1.13319101620885\n",
       "\\item 3.27904736400276\n",
       "\\item 0.135809207422169\n",
       "\\item -1.06330173957988\n",
       "\\item 4.06451666489417\n",
       "\\item -0.469667997951512\n",
       "\\item 3.46212127961451\n",
       "\\item -3.66174411143923\n",
       "\\item 0.770452562505004\n",
       "\\item -0.4790582232353\n",
       "\\item 2.48393182359103\n",
       "\\item -6.29846780914303\n",
       "\\item 5.91936961947337\n",
       "\\item -0.345466187307067\n",
       "\\item 2.2565738300001\n",
       "\\item 0.745982444525006\n",
       "\\item -4.63750900969543\n",
       "\\item 5.78174315000727\n",
       "\\item 5.01544827529611\n",
       "\\item -2.11386119491824\n",
       "\\item -0.708610191464927\n",
       "\\item 3.44004189611109\n",
       "\\item 1.12943020835425\n",
       "\\item 0.498001107905264\n",
       "\\item -0.262408498527182\n",
       "\\item 0.644378188030813\n",
       "\\item 2.22899221881678\n",
       "\\item 3.83718782160725\n",
       "\\item -0.148289721782159\n",
       "\\item 3.83553009456022\n",
       "\\item 7.62809131728354\n",
       "\\item 2.18986809035835\n",
       "\\item 0.758950309295912\n",
       "\\item 0.157341799518765\n",
       "\\item 1.84108273680872\n",
       "\\item 0.702559502727521\n",
       "\\item 2.49912863876909\n",
       "\\item 1.42502503453201\n",
       "\\item -0.756355244752784\n",
       "\\item 2.00485634272974\n",
       "\\item -3.65479966136526\n",
       "\\item 2.75260555029273\n",
       "\\item -2.28157853152767\n",
       "\\item -0.159281793208606\n",
       "\\item -0.727184412634808\n",
       "\\item -0.189535207343213\n",
       "\\item 1.23307679643944\n",
       "\\item -3.93690611588315\n",
       "\\item -2.83789239230801\n",
       "\\item 1.79196625491616\n",
       "\\item 2.01748073934516\n",
       "\\item -0.690022140815724\n",
       "\\item 0.781851469500204\n",
       "\\item 3.60950882424975\n",
       "\\item -7.81264354417177\n",
       "\\item 2.05254178151764\n",
       "\\item 2.98332008899125\n",
       "\\item 5.47871897798923\n",
       "\\item 5.43526954933155\n",
       "\\item -1.60465382986204\n",
       "\\item 6.08283381058986\n",
       "\\item 1.01597643553239\n",
       "\\item -0.817293209833575\n",
       "\\item 3.17435054500878\n",
       "\\item -1.5289309137009\n",
       "\\item -0.0312940131088877\n",
       "\\item -1.36011064619543\n",
       "\\item 5.6640661134734\n",
       "\\item 1.98823633255703\n",
       "\\item -1.88509167627857\n",
       "\\item 1.03694596113531\n",
       "\\item -2.06780895073257\n",
       "\\item 0.801511563318608\n",
       "\\item -0.326182191479009\n",
       "\\item 1.23569181408987\n",
       "\\item 0.318290255398767\n",
       "\\item 0.132510078516314\n",
       "\\item 1.29129039137713\n",
       "\\item -1.33919100531777\n",
       "\\item -0.679668707546468\n",
       "\\item 1.04236023454454\n",
       "\\item 0.499282611592543\n",
       "\\item 1.716185947352\n",
       "\\item 0.717928352767827\n",
       "\\item 0.512581397985097\n",
       "\\item 1.0179502121796\n",
       "\\item 3.63345706440458\n",
       "\\item -0.0321094315144974\n",
       "\\item 0.492588677282225\n",
       "\\item 1.01117858744437\n",
       "\\item 4.75876283079482\n",
       "\\item -5.79773824940912\n",
       "\\item -2.85707598173633\n",
       "\\item 1.37622141481422\n",
       "\\item -0.547151345405491\n",
       "\\item 4.07748195393346\n",
       "\\item 1.96632184132246\n",
       "\\item -2.32561176475169\n",
       "\\item 3.76894470831505\n",
       "\\item -1.94088201694728\n",
       "\\item 1.98207025377935\n",
       "\\item 1.07680397028157\n",
       "\\item -3.31121959394596\n",
       "\\item 0.597460119593324\n",
       "\\item -1.53184628795696\n",
       "\\item 0.953513063541132\n",
       "\\item 4.5458745142587\n",
       "\\item 4.06395364483315\n",
       "\\item -0.622331068202327\n",
       "\\item -2.20012169378402\n",
       "\\item 4.10657075976529\n",
       "\\item -0.0384460767588062\n",
       "\\item 6.1708990927304\n",
       "\\item 1.30661296730494\n",
       "\\item 3.42988682924683\n",
       "\\item -1.40399383594581\n",
       "\\item -1.747088097479\n",
       "\\item -0.0433511387789673\n",
       "\\item -0.0382905435755605\n",
       "\\item 4.6535876706522\n",
       "\\item -2.68169365904269\n",
       "\\item 7.55821872824899\n",
       "\\item 1.95210817722701\n",
       "\\item -1.47616526273627\n",
       "\\item 0.890572822527377\n",
       "\\item -0.62902517322812\n",
       "\\item -4.38437667413106\n",
       "\\item 0.498661772325994\n",
       "\\item -1.83091417227135\n",
       "\\item -1.21748158765331\n",
       "\\item 0.967797597743601\n",
       "\\item -3.31026220101152\n",
       "\\item 1.00167690008521\n",
       "\\item 3.70527096652277\n",
       "\\item 2.05421169981522\n",
       "\\item -2.61784242800349\n",
       "\\item -1.16667219322528\n",
       "\\item 1.25139493549711\n",
       "\\item 1.38425586198431\n",
       "\\item -0.578585724080804\n",
       "\\item 3.22899363923\n",
       "\\item 3.23299170046366\n",
       "\\item -1.34037939807036\n",
       "\\item -4.91398621772037\n",
       "\\item 1.00005211029635\n",
       "\\item 5.90027774164126\n",
       "\\item -0.292669544052504\n",
       "\\item -0.038423289983925\n",
       "\\item 2.34425075536942\n",
       "\\item 4.5802240736109\n",
       "\\item 1.85615251907025\n",
       "\\item -0.768661958823063\n",
       "\\item 6.12327683777627\n",
       "\\item -1.34704449815834\n",
       "\\item -0.727919004353057\n",
       "\\item -2.41602787993034\n",
       "\\item -0.684832255226585\n",
       "\\item 6.02457211011236\n",
       "\\item -0.0226751257715014\n",
       "\\item -4.28368997036099\n",
       "\\item -2.42400106711253\n",
       "\\item -0.513133940729003\n",
       "\\item 2.41679745362553\n",
       "\\item 6.51621134438791\n",
       "\\item 7.40753092511326\n",
       "\\item -0.463143033241084\n",
       "\\item -1.05852749033001\n",
       "\\item -0.680029338932422\n",
       "\\item -1.18437570973562\n",
       "\\item 0.0859569182716982\n",
       "\\item -0.651175637344931\n",
       "\\item 4.37104403736863\n",
       "\\item 4.98702352186413\n",
       "\\item 3.18300501674955\n",
       "\\item -0.777567651401839\n",
       "\\item 1.70623687061603\n",
       "\\item -2.22451731302041\n",
       "\\item 3.80328455367811\n",
       "\\item -3.32667956033887\n",
       "\\item -0.243307994591428\n",
       "\\item 0.651317304895112\n",
       "\\item 0.458391903037242\n",
       "\\item 5.77729319782094\n",
       "\\item 5.64900838604939\n",
       "\\item 0.450156432544182\n",
       "\\item 4.21447175391807\n",
       "\\item 0.440421347534835\n",
       "\\item 9.46345575498791\n",
       "\\item 1.31584816611528\n",
       "\\item -0.75246195405565\n",
       "\\item -1.06649963322338\n",
       "\\item 1.66174218917007\n",
       "\\item -1.84804696288364\n",
       "\\item 8.49959054273262\n",
       "\\end{enumerate*}\n"
      ],
      "text/markdown": [
       "1. 2.97060367399764\n",
       "2. 3.35039607058348\n",
       "3. 2.72952867945277\n",
       "4. 4.63361955013481\n",
       "5. 1.77112741365452\n",
       "6. 1.95204253178942\n",
       "7. 1.48328955358894\n",
       "8. -4.50190464793592\n",
       "9. -0.0641256773134338\n",
       "10. 0.492793306524739\n",
       "11. -2.34834420126785\n",
       "12. 0.84508414884463\n",
       "13. 2.79975211039073\n",
       "14. -0.718889336808329\n",
       "15. 6.43329237101111\n",
       "16. 2.34118576320544\n",
       "17. 2.18049525375819\n",
       "18. -3.35714048844255\n",
       "19. 2.37784467112533\n",
       "20. -3.39684823608557\n",
       "21. -2.47895663151789\n",
       "22. 5.33237585152344\n",
       "23. -0.952492315750804\n",
       "24. -0.990529693423483\n",
       "25. -1.33565622899202\n",
       "26. 0.181540660787642\n",
       "27. 1.26024551256709\n",
       "28. 3.06365449265461\n",
       "29. 4.89220377073211\n",
       "30. 3.27583038014479\n",
       "31. -1.50683107129449\n",
       "32. 3.16871782354797\n",
       "33. 0.489481000634559\n",
       "34. 0.244253228560114\n",
       "35. 1.14983568780394\n",
       "36. 1.72640300511891\n",
       "37. -0.124560962600444\n",
       "38. -1.91511191653828\n",
       "39. 6.94302104875402\n",
       "40. 6.47523141998729\n",
       "41. 5.53495133854309\n",
       "42. 2.56710128379075\n",
       "43. 3.18769105002125\n",
       "44. -0.92711085562674\n",
       "45. 1.27398638010543\n",
       "46. -0.915422299720303\n",
       "47. 0.955827459428513\n",
       "48. -1.81657403323492\n",
       "49. -2.72406665037848\n",
       "50. 1.00204295964618\n",
       "51. -1.91303384786576\n",
       "52. 4.06429932072685\n",
       "53. 2.7546214482199\n",
       "54. 4.8558501772904\n",
       "55. -3.24140137493518\n",
       "56. 1.89860235921982\n",
       "57. -2.03378685115864\n",
       "58. -4.42941480316716\n",
       "59. 2.69303780933093\n",
       "60. 3.6271758442029\n",
       "61. 0.119428859557405\n",
       "62. 6.57632463545889\n",
       "63. 1.95588560063929\n",
       "64. 3.62583250057119\n",
       "65. 2.10981381188211\n",
       "66. -0.165857977271926\n",
       "67. -0.041779048581329\n",
       "68. 2.93155352415508\n",
       "69. 2.5293976047665\n",
       "70. -1.993029998127\n",
       "71. -2.29986942582876\n",
       "72. 4.57953978261794\n",
       "73. 5.03855876702543\n",
       "74. 0.335377454755722\n",
       "75. 1.93802724215208\n",
       "76. -3.23196370865063\n",
       "77. -4.88346912606257\n",
       "78. 1.30919950478602\n",
       "79. -1.61333133400648\n",
       "80. 6.93930974653997\n",
       "81. -2.77945696044053\n",
       "82. 1.38970453366259\n",
       "83. 2.5334790631363\n",
       "84. 3.74841265723385\n",
       "85. 7.40410127656701\n",
       "86. 3.67076274057586\n",
       "87. 5.92223788475068\n",
       "88. -1.43420654694944\n",
       "89. 5.13829795891956\n",
       "90. -0.580484724718018\n",
       "91. 1.3039465529163\n",
       "92. -0.0781129153171771\n",
       "93. -1.96177452180169\n",
       "94. 1.46799576692621\n",
       "95. -4.96732840895148\n",
       "96. -0.296603700459772\n",
       "97. 1.71986415453324\n",
       "98. 1.32819248602522\n",
       "99. -0.105203602969301\n",
       "100. 0.660143305612729\n",
       "101. -4.27731967021635\n",
       "102. -0.583589092807398\n",
       "103. 1.57644808896926\n",
       "104. 5.33070700661266\n",
       "105. 3.58945602218664\n",
       "106. -0.94254408372675\n",
       "107. -0.0621907261155865\n",
       "108. 0.554430355903475\n",
       "109. 2.23777508342989\n",
       "110. 2.79949330337914\n",
       "111. 0.257662573537762\n",
       "112. -0.942527169336558\n",
       "113. -1.51441925552652\n",
       "114. -2.27445137224794\n",
       "115. 3.18244368070777\n",
       "116. 3.24246694158213\n",
       "117. -2.97771485304784\n",
       "118. 3.40319180300498\n",
       "119. 0.996028104298751\n",
       "120. 7.89920798107767\n",
       "121. 3.37511247550192\n",
       "122. 4.03947901082984\n",
       "123. -0.83373415711376\n",
       "124. 0.701475530682743\n",
       "125. -0.102425401273482\n",
       "126. -0.722699272931875\n",
       "127. -0.720979755426749\n",
       "128. 7.50963894265358\n",
       "129. 1.20302206975666\n",
       "130. 4.12274743282288\n",
       "131. 2.99803928410382\n",
       "132. -1.82417150044743\n",
       "133. -1.73194658536281\n",
       "134. 4.16334374371342\n",
       "135. 0.202486557073933\n",
       "136. 2.90053286741874\n",
       "137. 5.66455880714836\n",
       "138. -4.77185070423501\n",
       "139. 0.980359726317607\n",
       "140. -2.16724137643455\n",
       "141. -0.34232157705021\n",
       "142. 3.59504672744586\n",
       "143. -2.41379995574316\n",
       "144. 4.1335470122838\n",
       "145. 1.22063028845385\n",
       "146. 1.43146805186085\n",
       "147. 4.50246390003942\n",
       "148. 6.17439032553073\n",
       "149. 1.04344594393291\n",
       "150. 1.39261113222544\n",
       "151. 0.0863126759225279\n",
       "152. 4.0984084420116\n",
       "153. -1.2015982374866\n",
       "154. -0.689081964385962\n",
       "155. 2.5693111073688\n",
       "156. 1.64152386957673\n",
       "157. 3.0938420246625\n",
       "158. -0.644624420392265\n",
       "159. 0.264237847245717\n",
       "160. 6.67419103100968\n",
       "161. 2.06262234351639\n",
       "162. 4.6278805866486\n",
       "163. 1.39006334425211\n",
       "164. -2.92214464623627\n",
       "165. 3.5800792472679\n",
       "166. 0.969292393421697\n",
       "167. 5.62111803993564\n",
       "168. 4.47169373780202\n",
       "169. 0.280111046920892\n",
       "170. 1.31415905538028\n",
       "171. 1.85470789051279\n",
       "172. 0.735263891817808\n",
       "173. 1.98626621025771\n",
       "174. 1.45368136799593\n",
       "175. 2.71585242965017\n",
       "176. 3.02499614795684\n",
       "177. 1.27695312043161\n",
       "178. -2.08649396839732\n",
       "179. 0.142590417704899\n",
       "180. -5.11607274520014\n",
       "181. -2.6227740336989\n",
       "182. -2.01508299829948\n",
       "183. 6.39308966206692\n",
       "184. -1.55854675613837\n",
       "185. 2.29473262550431\n",
       "186. -4.05260521793737\n",
       "187. 1.0542806658639\n",
       "188. 2.20961333629502\n",
       "189. 5.30109428280623\n",
       "190. 1.04672775273664\n",
       "191. -0.680420720868198\n",
       "192. -5.67597886657688\n",
       "193. 4.866134869627\n",
       "194. 4.28073367215611\n",
       "195. 0.211014117424805\n",
       "196. 2.42751755451946\n",
       "197. 1.16075697169577\n",
       "198. -3.69200702614121\n",
       "199. 1.28801357113931\n",
       "200. -2.61244302378402\n",
       "201. -1.29600897701566\n",
       "202. -2.3622603354766\n",
       "203. -4.26139220552728\n",
       "204. 1.0292008826545\n",
       "205. 2.14246322467906\n",
       "206. 3.38219045579278\n",
       "207. 1.55201845150991\n",
       "208. -3.90853448987571\n",
       "209. -3.51623121479677\n",
       "210. 5.90399089048082\n",
       "211. 0.96533962457817\n",
       "212. 1.71907157045565\n",
       "213. 0.0680004105862431\n",
       "214. 1.59613984354426\n",
       "215. 0.138371066374524\n",
       "216. -0.741680265357942\n",
       "217. 3.43627060465804\n",
       "218. 1.74994479291681\n",
       "219. 1.96804660477618\n",
       "220. 2.59810429023775\n",
       "221. 0.30699883110699\n",
       "222. -2.74263768782405\n",
       "223. -0.393546999485709\n",
       "224. -4.20582397826512\n",
       "225. -2.53455764130821\n",
       "226. 1.12270683690709\n",
       "227. 3.34458601739467\n",
       "228. 3.59003334161086\n",
       "229. 1.2445283736774\n",
       "230. 3.08051814363968\n",
       "231. 9.8122559792878\n",
       "232. -0.82145022459025\n",
       "233. 1.44584259708122\n",
       "234. 0.885738658194801\n",
       "235. 1.12547660667165\n",
       "236. 2.74996186439528\n",
       "237. -1.73493227023901\n",
       "238. 1.80232302327689\n",
       "239. 0.0596361814589743\n",
       "240. 4.18902828304433\n",
       "241. 2.30368785704099\n",
       "242. -0.142570695989395\n",
       "243. -0.0115911586622681\n",
       "244. -1.62605532451614\n",
       "245. 0.610110392829901\n",
       "246. 0.614254558563469\n",
       "247. 1.1628725477165\n",
       "248. 3.33276571660339\n",
       "249. 2.7313365718947\n",
       "250. 2.28541517482035\n",
       "251. -4.67043484540533\n",
       "252. 0.71584186693128\n",
       "253. 0.813085065197054\n",
       "254. -2.88680022744121\n",
       "255. 2.90259163545579\n",
       "256. -1.40721691038501\n",
       "257. 0.189036476268937\n",
       "258. 1.04108720887757\n",
       "259. 0.794286621244837\n",
       "260. -3.29467227413556\n",
       "261. 5.98324313248288\n",
       "262. 0.162549155786335\n",
       "263. 0.749359767879677\n",
       "264. -1.593812809884\n",
       "265. 1.34638745666295\n",
       "266. 3.9835128679985\n",
       "267. 4.519155757395\n",
       "268. 4.79668506963807\n",
       "269. 0.787739052599139\n",
       "270. 0.926935629345625\n",
       "271. -0.317235874275627\n",
       "272. -2.00267422477961\n",
       "273. 3.90932958822586\n",
       "274. 2.76587962948696\n",
       "275. -0.867253888213452\n",
       "276. 2.25042894350464\n",
       "277. -0.639907732089701\n",
       "278. -1.45434487271368\n",
       "279. 2.29325683008805\n",
       "280. 1.23779364108142\n",
       "281. 1.63274091727393\n",
       "282. -3.93000719224873\n",
       "283. -5.98259662977572\n",
       "284. 2.18235466847955\n",
       "285. -0.508797074996073\n",
       "286. 0.752235747153028\n",
       "287. 0.0636893105641119\n",
       "288. 2.20427265354772\n",
       "289. -5.10590234164844\n",
       "290. 0.413087432709395\n",
       "291. -0.344107543141101\n",
       "292. 0.0967052047636714\n",
       "293. 5.67213282609949\n",
       "294. 1.52705200725777\n",
       "295. -3.67222752301129\n",
       "296. 1.12044970666886\n",
       "297. 0.298644936788837\n",
       "298. 6.11069805612897\n",
       "299. 2.69686836318774\n",
       "300. 2.34881950884194\n",
       "301. 4.13457476696366\n",
       "302. 0.877914881364863\n",
       "303. -0.868572751292613\n",
       "304. -1.10337104993295\n",
       "305. -4.06604920362854\n",
       "306. 1.67262103593327\n",
       "307. 0.00944505547073815\n",
       "308. 0.140079688434626\n",
       "309. 1.64761171705434\n",
       "310. -2.52665873851025\n",
       "311. 4.0043772676381\n",
       "312. 1.57885153842818\n",
       "313. -1.35121961561762\n",
       "314. 3.23800853797926\n",
       "315. 0.340889432759042\n",
       "316. 2.39855095781984\n",
       "317. 1.91959177251549\n",
       "318. -1.92097683936112\n",
       "319. 2.16592041159423\n",
       "320. 5.42753546792547\n",
       "321. -0.531283623774941\n",
       "322. 1.38005251927088\n",
       "323. -2.22078657321138\n",
       "324. 8.88504039964789\n",
       "325. 0.188442227475394\n",
       "326. -0.251424369061623\n",
       "327. 4.0134924898488\n",
       "328. 2.54544494036284\n",
       "329. 0.845994838183231\n",
       "330. 2.36367047717322\n",
       "331. -0.103238940597524\n",
       "332. 0.206176019455209\n",
       "333. -0.618731859165404\n",
       "334. 4.06768883519451\n",
       "335. 0.576215387996649\n",
       "336. -0.535789823412288\n",
       "337. 3.4645061533938\n",
       "338. 2.63405485107943\n",
       "339. -5.64765389650721\n",
       "340. 0.865738765127526\n",
       "341. 3.78535097313249\n",
       "342. -1.27830010637651\n",
       "343. 1.63468185653757\n",
       "344. 3.818256587519\n",
       "345. -1.07602842989292\n",
       "346. 0.371880881834415\n",
       "347. -1.32171611164638\n",
       "348. 0.605671410521583\n",
       "349. -2.28847709783158\n",
       "350. -5.27550055967312\n",
       "351. -2.79500405061898\n",
       "352. 8.27349182042638\n",
       "353. 0.581498109864097\n",
       "354. 0.50722335002389\n",
       "355. 4.52955179956887\n",
       "356. -1.04752999712363\n",
       "357. -2.45510361597319\n",
       "358. 0.0203657763463686\n",
       "359. -0.647731026545563\n",
       "360. 9.70941837427194\n",
       "361. -3.10260947319725\n",
       "362. 3.13219786728594\n",
       "363. -2.93295734582893\n",
       "364. 1.12547092603331\n",
       "365. -4.30803789767539\n",
       "366. -0.203953295925817\n",
       "367. 2.50275396905244\n",
       "368. 1.82305068062218\n",
       "369. 4.47411807705125\n",
       "370. -0.924362916639508\n",
       "371. -4.40642125320905\n",
       "372. 4.62026952109197\n",
       "373. 2.98339455105902\n",
       "374. 2.49522751040036\n",
       "375. 1.6447851730142\n",
       "376. -4.40315449997665\n",
       "377. 2.00437581916236\n",
       "378. 2.64187800214854\n",
       "379. -1.4953520869537\n",
       "380. 0.726174799077887\n",
       "381. 1.46505828825003\n",
       "382. 3.29972059999794\n",
       "383. 3.55079238609925\n",
       "384. -0.143913986798752\n",
       "385. -4.89616525122372\n",
       "386. 0.743858492459468\n",
       "387. -5.19944769019703\n",
       "388. 4.58054541655765\n",
       "389. -2.74061650525033\n",
       "390. -0.129049226324588\n",
       "391. 3.92192389225303\n",
       "392. -0.695840623952353\n",
       "393. -3.3015294163851\n",
       "394. 2.51254680605915\n",
       "395. -1.83205824429469\n",
       "396. 1.22993699404088\n",
       "397. 5.72566205303531\n",
       "398. 0.861003044690877\n",
       "399. 2.53165944009005\n",
       "400. 0.646302802069611\n",
       "401. 2.91670635741821\n",
       "402. -3.65924037472054\n",
       "403. 0.98888386723931\n",
       "404. 0.720558226289456\n",
       "405. 5.25789999961991\n",
       "406. 3.98493085431898\n",
       "407. 3.55033524637581\n",
       "408. 1.21633679557306\n",
       "409. 1.96944304348745\n",
       "410. 0.26225861462088\n",
       "411. -0.0819588730463725\n",
       "412. 2.82905677526462\n",
       "413. 3.33490448809645\n",
       "414. 5.13867381284036\n",
       "415. 0.300596423085696\n",
       "416. 0.812018407258873\n",
       "417. -2.49388793387466\n",
       "418. -2.04180276748911\n",
       "419. 4.35065552536779\n",
       "420. 4.11521127254701\n",
       "421. 0.396117471472411\n",
       "422. -1.85668270337576\n",
       "423. -5.84574854237051\n",
       "424. 3.48603546763726\n",
       "425. 3.67845474293649\n",
       "426. 2.98374179299056\n",
       "427. 2.29427797282954\n",
       "428. 2.21483166422097\n",
       "429. 0.873646157105396\n",
       "430. -2.99898467455224\n",
       "431. 3.03243826630153\n",
       "432. 2.20301026277765\n",
       "433. 1.83639010221014\n",
       "434. 0.141322162364564\n",
       "435. -5.04285122735791\n",
       "436. 1.43843862826563\n",
       "437. 0.527776507581549\n",
       "438. 2.95569442019441\n",
       "439. 0.779636561384498\n",
       "440. 6.94909067097921\n",
       "441. -1.70740391355572\n",
       "442. -0.313387824667069\n",
       "443. 1.54528117284926\n",
       "444. 5.07442517268579\n",
       "445. 1.47121862382435\n",
       "446. 5.58166100666813\n",
       "447. -2.37802218452406\n",
       "448. -0.816515497566588\n",
       "449. -2.96068282550503\n",
       "450. 3.02601686039288\n",
       "451. 2.62277449598642\n",
       "452. 0.512876471875004\n",
       "453. -3.14855658741892\n",
       "454. 4.74356129377214\n",
       "455. 2.11284852159717\n",
       "456. -0.621720007352832\n",
       "457. 4.88606944772042\n",
       "458. 1.98489559563871\n",
       "459. 2.20871390820199\n",
       "460. -2.83502741403565\n",
       "461. -0.124628362416122\n",
       "462. 4.55504105661671\n",
       "463. 1.1757493132582\n",
       "464. 5.99259076762231\n",
       "465. 0.582243212855019\n",
       "466. -3.44655256521429\n",
       "467. 0.28068486580444\n",
       "468. -3.6078404581382\n",
       "469. 2.2314276234001\n",
       "470. -1.19955973704167\n",
       "471. 0.894873691184618\n",
       "472. 1.85478308088675\n",
       "473. 2.44121038275848\n",
       "474. 2.86524147240226\n",
       "475. -0.222037973357683\n",
       "476. 2.38304644571004\n",
       "477. 1.67804212047732\n",
       "478. -2.28762312398624\n",
       "479. -3.6516753824693\n",
       "480. -2.86433646865525\n",
       "481. 1.70660881561318\n",
       "482. 3.5557589111325\n",
       "483. -0.963521082481262\n",
       "484. 3.80714493446853\n",
       "485. -0.802206735315336\n",
       "486. 3.73418099256444\n",
       "487. -1.52537223700329\n",
       "488. -0.452267506426632\n",
       "489. -3.15804827746399\n",
       "490. -4.55764341484411\n",
       "491. -1.65239965757859\n",
       "492. 1.15908621239038\n",
       "493. -1.59483020464429\n",
       "494. 4.53025221282535\n",
       "495. -0.667266932682706\n",
       "496. 4.81964503104878\n",
       "497. -0.381738168285771\n",
       "498. 5.17917734837597\n",
       "499. -0.0377015084615171\n",
       "500. 0.831036794613633\n",
       "501. 2.76211991247782\n",
       "502. 2.22683601157774\n",
       "503. 1.84568015310453\n",
       "504. 3.17335971617681\n",
       "505. -0.676298260344224\n",
       "506. -2.08694039113549\n",
       "507. 2.61238072643882\n",
       "508. -0.259712777615088\n",
       "509. 3.51333475686489\n",
       "510. 4.04056081600798\n",
       "511. 4.67316669016216\n",
       "512. 2.02031330553083\n",
       "513. 2.28708523643923\n",
       "514. 2.23148795987607\n",
       "515. 3.23718953692792\n",
       "516. 7.70115930725786\n",
       "517. 2.07638295545053\n",
       "518. 0.603778069566039\n",
       "519. 4.08799059260557\n",
       "520. 4.97822330819582\n",
       "521. 1.63869331932365\n",
       "522. 8.16361657343476\n",
       "523. 2.12392314392929\n",
       "524. -3.04308933845177\n",
       "525. 1.28827444393883\n",
       "526. 0.722862442380149\n",
       "527. -0.257206570537897\n",
       "528. 2.23775501897492\n",
       "529. 3.01343700008285\n",
       "530. 6.67381951928079\n",
       "531. 0.62831254532242\n",
       "532. 3.236596431639\n",
       "533. 4.51235839643553\n",
       "534. 0.0213697114744331\n",
       "535. 1.95307248838763\n",
       "536. -0.021568946727712\n",
       "537. -2.82265759428009\n",
       "538. 3.20794628625769\n",
       "539. -2.98891825803686\n",
       "540. 3.20544024412079\n",
       "541. 2.96004741598062\n",
       "542. 2.07744792463398\n",
       "543. 7.37208745331841\n",
       "544. 2.34662533239378\n",
       "545. 3.67297714412824\n",
       "546. 5.93039885958439\n",
       "547. 2.47562155007948\n",
       "548. -0.859362845383992\n",
       "549. 1.63800481324631\n",
       "550. 2.77375123730342\n",
       "551. 2.71606968124013\n",
       "552. -0.194029423845703\n",
       "553. 3.67242771700456\n",
       "554. 2.49391521560762\n",
       "555. 0.715415546235924\n",
       "556. 1.85852136712027\n",
       "557. 1.22215867450438\n",
       "558. 4.89713438428836\n",
       "559. 2.64572620824205\n",
       "560. 3.36096391507867\n",
       "561. 2.20008101895224\n",
       "562. -3.82560458660977\n",
       "563. 1.68624832331438\n",
       "564. 4.55733562051191\n",
       "565. 3.18439298971203\n",
       "566. -0.397022801356423\n",
       "567. 6.00669322770816\n",
       "568. 3.15949173643885\n",
       "569. 4.27441177020242\n",
       "570. -4.90567003474461\n",
       "571. 0.119525359418256\n",
       "572. 4.60177973796032\n",
       "573. 1.03748468701689\n",
       "574. 2.60661010144065\n",
       "575. -4.18190855128096\n",
       "576. 0.841895618190694\n",
       "577. 5.5278294246691\n",
       "578. 8.78997197649404\n",
       "579. -1.22085771848853\n",
       "580. -0.310204419477959\n",
       "581. -2.06574074576714\n",
       "582. 4.1129319532822\n",
       "583. -7.27692188811331\n",
       "584. 3.91444622337116\n",
       "585. 0.954237229050127\n",
       "586. 1.02927514828899\n",
       "587. 1.71644162255183\n",
       "588. 1.70074753754597\n",
       "589. -1.01599226901408\n",
       "590. 0.240558044482642\n",
       "591. -0.507829204216929\n",
       "592. -2.69272641145954\n",
       "593. -5.45410471175685\n",
       "594. 0.458408456826187\n",
       "595. 0.429001947828727\n",
       "596. 3.73620667339874\n",
       "597. -0.847371651711444\n",
       "598. 4.13749348846117\n",
       "599. 5.71337837102194\n",
       "600. 0.404098333715346\n",
       "601. -3.15975246669452\n",
       "602. 1.74385101294721\n",
       "603. 2.14747051320173\n",
       "604. 0.444511208201859\n",
       "605. 0.254813421331922\n",
       "606. 4.28188438885883\n",
       "607. -1.54956245465924\n",
       "608. -2.58310057632526\n",
       "609. 2.4380344149546\n",
       "610. 4.48558646555099\n",
       "611. 2.10127019596191\n",
       "612. 2.84081200306057\n",
       "613. 4.69051907107227\n",
       "614. 2.45033996809717\n",
       "615. 3.0054255103076\n",
       "616. 5.98536836309962\n",
       "617. 0.8661104679303\n",
       "618. -0.978356161474109\n",
       "619. -3.58424628306728\n",
       "620. -2.62216041095955\n",
       "621. -0.473990000331101\n",
       "622. 0.734966500649338\n",
       "623. 3.57435788349751\n",
       "624. -0.250895294529683\n",
       "625. -4.02701920098275\n",
       "626. -0.744116678709788\n",
       "627. 1.17808579170529\n",
       "628. -1.97192085532242\n",
       "629. -0.897106216329608\n",
       "630. 4.11033402132241\n",
       "631. 3.10771805854614\n",
       "632. -1.90398090153235\n",
       "633. -0.124637611003058\n",
       "634. 2.21760503862352\n",
       "635. 2.88074154183096\n",
       "636. 4.58046502082543\n",
       "637. 0.294605234069113\n",
       "638. 4.52149509240964\n",
       "639. -5.47406407927096\n",
       "640. 1.49462375154604\n",
       "641. 2.64497094454445\n",
       "642. 7.89107729194787\n",
       "643. -2.97679533630872\n",
       "644. 2.00194381070371\n",
       "645. -2.79011339581443\n",
       "646. 4.93691833801386\n",
       "647. 4.39399380143468\n",
       "648. 6.79390470927897\n",
       "649. -1.2656980566508\n",
       "650. 3.39425090976504\n",
       "651. -2.46670682381004\n",
       "652. -0.388454338447599\n",
       "653. 7.35941736839915\n",
       "654. 1.41044284522348\n",
       "655. 5.37979335408107\n",
       "656. 5.90621371744419\n",
       "657. -2.76242219597791\n",
       "658. -0.30425700361175\n",
       "659. 0.103181546204016\n",
       "660. 0.0944976253046719\n",
       "661. -0.312787419168852\n",
       "662. 0.413188224422363\n",
       "663. 0.0628759146453157\n",
       "664. 0.685901853662812\n",
       "665. -2.54741058958279\n",
       "666. -3.56751719868468\n",
       "667. 5.51069950438216\n",
       "668. 2.87805031678375\n",
       "669. -2.06597546347678\n",
       "670. -3.87510243067275\n",
       "671. 2.34303336436639\n",
       "672. -2.32404657001508\n",
       "673. 0.10129080023758\n",
       "674. 1.63604029671111\n",
       "675. 1.56790420655691\n",
       "676. -2.0513956487741\n",
       "677. 1.55824887035143\n",
       "678. 3.76811767576831\n",
       "679. -2.69276295850715\n",
       "680. -1.62303909896151\n",
       "681. 1.81590165806043\n",
       "682. 3.09271087829289\n",
       "683. 1.74769356564557\n",
       "684. 1.47424241670439\n",
       "685. -0.557469291486419\n",
       "686. 1.696323062338\n",
       "687. -3.59023682678011\n",
       "688. 0.0252652216053912\n",
       "689. -2.1086361624131\n",
       "690. 0.835688236897617\n",
       "691. -2.4344074349795\n",
       "692. 5.67711561403774\n",
       "693. -3.29178352115501\n",
       "694. 4.63810510130355\n",
       "695. 0.151491363461769\n",
       "696. 1.30791727861985\n",
       "697. -1.99859198789117\n",
       "698. 0.304895911591813\n",
       "699. 1.11093948040496\n",
       "700. -2.32282310085363\n",
       "701. -0.956718531399689\n",
       "702. -2.04888467559426\n",
       "703. 2.76553208719273\n",
       "704. 3.28150805687929\n",
       "705. -4.65426544049679\n",
       "706. 2.78166739899789\n",
       "707. 6.05307134009554\n",
       "708. -1.16007328973004\n",
       "709. 5.21572319855933\n",
       "710. -3.54371204583598\n",
       "711. -0.274944173349379\n",
       "712. -0.812783926928264\n",
       "713. -3.57581639141954\n",
       "714. 3.03648336438666\n",
       "715. 1.33842278309343\n",
       "716. 0.998647309079959\n",
       "717. 1.88822170244826\n",
       "718. -0.0447051806520791\n",
       "719. 1.47989923133605\n",
       "720. 2.0413381702852\n",
       "721. 4.00971411201718\n",
       "722. 1.50520004742709\n",
       "723. -0.0982375262243473\n",
       "724. -0.177544811351074\n",
       "725. 2.18910245255251\n",
       "726. 2.96688352938377\n",
       "727. 2.55552173900245\n",
       "728. 1.01891030200964\n",
       "729. 0.86176903042957\n",
       "730. -3.55611025273891\n",
       "731. 1.9428073684945\n",
       "732. 2.10103173725537\n",
       "733. 4.3048878650553\n",
       "734. 1.08170127033477\n",
       "735. 1.71306526603154\n",
       "736. 4.35978119137533\n",
       "737. 0.525797652269705\n",
       "738. -0.875694355134407\n",
       "739. 1.08639958956704\n",
       "740. 0.500157255642461\n",
       "741. 2.35658361674286\n",
       "742. 3.92593999008221\n",
       "743. 3.77108400994536\n",
       "744. 2.38874607854977\n",
       "745. 0.515494461588755\n",
       "746. 3.22541517395522\n",
       "747. 0.857541732746315\n",
       "748. 1.57529344080425\n",
       "749. 5.12640869829825\n",
       "750. 1.52505692553373\n",
       "751. -0.982536083817205\n",
       "752. 4.08607511925884\n",
       "753. -2.7765472762056\n",
       "754. -0.445981096652774\n",
       "755. 0.530889098797452\n",
       "756. 2.60687605700458\n",
       "757. 0.609231436132592\n",
       "758. 4.89305191655605\n",
       "759. -1.64115445696396\n",
       "760. -0.284890630703448\n",
       "761. 0.177781023826894\n",
       "762. -2.73790658510662\n",
       "763. -0.411990261569514\n",
       "764. 1.35493799309457\n",
       "765. 0.0534876838717735\n",
       "766. -0.658499220742885\n",
       "767. 7.75831745582236\n",
       "768. 1.10545409146131\n",
       "769. 0.889747851154206\n",
       "770. 3.45189453343867\n",
       "771. 2.35154685114751\n",
       "772. -4.62146287736401\n",
       "773. -0.79678463675947\n",
       "774. -2.30199047109039\n",
       "775. 6.32822474290654\n",
       "776. -1.8730609000137\n",
       "777. 0.726775803067217\n",
       "778. -0.16242072780202\n",
       "779. 0.338390413825839\n",
       "780. -0.677927442913383\n",
       "781. -1.47156592099602\n",
       "782. 5.34487307843611\n",
       "783. 4.18151347263564\n",
       "784. 4.86522114881448\n",
       "785. 2.71121846142971\n",
       "786. 3.3855370604443\n",
       "787. -1.32920679850709\n",
       "788. 0.589262794955409\n",
       "789. 3.23703993335233\n",
       "790. -0.706805955236371\n",
       "791. 3.4479516875789\n",
       "792. 1.90273970210668\n",
       "793. -1.62080820590016\n",
       "794. -0.489917160770876\n",
       "795. 2.12335753150944\n",
       "796. 2.15941092185559\n",
       "797. 1.74547628514137\n",
       "798. 4.85349024211331\n",
       "799. 1.66458837686674\n",
       "800. -0.922033118172367\n",
       "801. 0.742977711431156\n",
       "802. 2.3595468361878\n",
       "803. 5.49750408068254\n",
       "804. -1.929790565824\n",
       "805. 0.892797337425525\n",
       "806. -2.70115877463634\n",
       "807. -1.13319101620885\n",
       "808. 3.27904736400276\n",
       "809. 0.135809207422169\n",
       "810. -1.06330173957988\n",
       "811. 4.06451666489417\n",
       "812. -0.469667997951512\n",
       "813. 3.46212127961451\n",
       "814. -3.66174411143923\n",
       "815. 0.770452562505004\n",
       "816. -0.4790582232353\n",
       "817. 2.48393182359103\n",
       "818. -6.29846780914303\n",
       "819. 5.91936961947337\n",
       "820. -0.345466187307067\n",
       "821. 2.2565738300001\n",
       "822. 0.745982444525006\n",
       "823. -4.63750900969543\n",
       "824. 5.78174315000727\n",
       "825. 5.01544827529611\n",
       "826. -2.11386119491824\n",
       "827. -0.708610191464927\n",
       "828. 3.44004189611109\n",
       "829. 1.12943020835425\n",
       "830. 0.498001107905264\n",
       "831. -0.262408498527182\n",
       "832. 0.644378188030813\n",
       "833. 2.22899221881678\n",
       "834. 3.83718782160725\n",
       "835. -0.148289721782159\n",
       "836. 3.83553009456022\n",
       "837. 7.62809131728354\n",
       "838. 2.18986809035835\n",
       "839. 0.758950309295912\n",
       "840. 0.157341799518765\n",
       "841. 1.84108273680872\n",
       "842. 0.702559502727521\n",
       "843. 2.49912863876909\n",
       "844. 1.42502503453201\n",
       "845. -0.756355244752784\n",
       "846. 2.00485634272974\n",
       "847. -3.65479966136526\n",
       "848. 2.75260555029273\n",
       "849. -2.28157853152767\n",
       "850. -0.159281793208606\n",
       "851. -0.727184412634808\n",
       "852. -0.189535207343213\n",
       "853. 1.23307679643944\n",
       "854. -3.93690611588315\n",
       "855. -2.83789239230801\n",
       "856. 1.79196625491616\n",
       "857. 2.01748073934516\n",
       "858. -0.690022140815724\n",
       "859. 0.781851469500204\n",
       "860. 3.60950882424975\n",
       "861. -7.81264354417177\n",
       "862. 2.05254178151764\n",
       "863. 2.98332008899125\n",
       "864. 5.47871897798923\n",
       "865. 5.43526954933155\n",
       "866. -1.60465382986204\n",
       "867. 6.08283381058986\n",
       "868. 1.01597643553239\n",
       "869. -0.817293209833575\n",
       "870. 3.17435054500878\n",
       "871. -1.5289309137009\n",
       "872. -0.0312940131088877\n",
       "873. -1.36011064619543\n",
       "874. 5.6640661134734\n",
       "875. 1.98823633255703\n",
       "876. -1.88509167627857\n",
       "877. 1.03694596113531\n",
       "878. -2.06780895073257\n",
       "879. 0.801511563318608\n",
       "880. -0.326182191479009\n",
       "881. 1.23569181408987\n",
       "882. 0.318290255398767\n",
       "883. 0.132510078516314\n",
       "884. 1.29129039137713\n",
       "885. -1.33919100531777\n",
       "886. -0.679668707546468\n",
       "887. 1.04236023454454\n",
       "888. 0.499282611592543\n",
       "889. 1.716185947352\n",
       "890. 0.717928352767827\n",
       "891. 0.512581397985097\n",
       "892. 1.0179502121796\n",
       "893. 3.63345706440458\n",
       "894. -0.0321094315144974\n",
       "895. 0.492588677282225\n",
       "896. 1.01117858744437\n",
       "897. 4.75876283079482\n",
       "898. -5.79773824940912\n",
       "899. -2.85707598173633\n",
       "900. 1.37622141481422\n",
       "901. -0.547151345405491\n",
       "902. 4.07748195393346\n",
       "903. 1.96632184132246\n",
       "904. -2.32561176475169\n",
       "905. 3.76894470831505\n",
       "906. -1.94088201694728\n",
       "907. 1.98207025377935\n",
       "908. 1.07680397028157\n",
       "909. -3.31121959394596\n",
       "910. 0.597460119593324\n",
       "911. -1.53184628795696\n",
       "912. 0.953513063541132\n",
       "913. 4.5458745142587\n",
       "914. 4.06395364483315\n",
       "915. -0.622331068202327\n",
       "916. -2.20012169378402\n",
       "917. 4.10657075976529\n",
       "918. -0.0384460767588062\n",
       "919. 6.1708990927304\n",
       "920. 1.30661296730494\n",
       "921. 3.42988682924683\n",
       "922. -1.40399383594581\n",
       "923. -1.747088097479\n",
       "924. -0.0433511387789673\n",
       "925. -0.0382905435755605\n",
       "926. 4.6535876706522\n",
       "927. -2.68169365904269\n",
       "928. 7.55821872824899\n",
       "929. 1.95210817722701\n",
       "930. -1.47616526273627\n",
       "931. 0.890572822527377\n",
       "932. -0.62902517322812\n",
       "933. -4.38437667413106\n",
       "934. 0.498661772325994\n",
       "935. -1.83091417227135\n",
       "936. -1.21748158765331\n",
       "937. 0.967797597743601\n",
       "938. -3.31026220101152\n",
       "939. 1.00167690008521\n",
       "940. 3.70527096652277\n",
       "941. 2.05421169981522\n",
       "942. -2.61784242800349\n",
       "943. -1.16667219322528\n",
       "944. 1.25139493549711\n",
       "945. 1.38425586198431\n",
       "946. -0.578585724080804\n",
       "947. 3.22899363923\n",
       "948. 3.23299170046366\n",
       "949. -1.34037939807036\n",
       "950. -4.91398621772037\n",
       "951. 1.00005211029635\n",
       "952. 5.90027774164126\n",
       "953. -0.292669544052504\n",
       "954. -0.038423289983925\n",
       "955. 2.34425075536942\n",
       "956. 4.5802240736109\n",
       "957. 1.85615251907025\n",
       "958. -0.768661958823063\n",
       "959. 6.12327683777627\n",
       "960. -1.34704449815834\n",
       "961. -0.727919004353057\n",
       "962. -2.41602787993034\n",
       "963. -0.684832255226585\n",
       "964. 6.02457211011236\n",
       "965. -0.0226751257715014\n",
       "966. -4.28368997036099\n",
       "967. -2.42400106711253\n",
       "968. -0.513133940729003\n",
       "969. 2.41679745362553\n",
       "970. 6.51621134438791\n",
       "971. 7.40753092511326\n",
       "972. -0.463143033241084\n",
       "973. -1.05852749033001\n",
       "974. -0.680029338932422\n",
       "975. -1.18437570973562\n",
       "976. 0.0859569182716982\n",
       "977. -0.651175637344931\n",
       "978. 4.37104403736863\n",
       "979. 4.98702352186413\n",
       "980. 3.18300501674955\n",
       "981. -0.777567651401839\n",
       "982. 1.70623687061603\n",
       "983. -2.22451731302041\n",
       "984. 3.80328455367811\n",
       "985. -3.32667956033887\n",
       "986. -0.243307994591428\n",
       "987. 0.651317304895112\n",
       "988. 0.458391903037242\n",
       "989. 5.77729319782094\n",
       "990. 5.64900838604939\n",
       "991. 0.450156432544182\n",
       "992. 4.21447175391807\n",
       "993. 0.440421347534835\n",
       "994. 9.46345575498791\n",
       "995. 1.31584816611528\n",
       "996. -0.75246195405565\n",
       "997. -1.06649963322338\n",
       "998. 1.66174218917007\n",
       "999. -1.84804696288364\n",
       "1000. 8.49959054273262\n",
       "\n",
       "\n"
      ],
      "text/plain": [
       "   [1]  2.970603674  3.350396071  2.729528679  4.633619550  1.771127414\n",
       "   [6]  1.952042532  1.483289554 -4.501904648 -0.064125677  0.492793307\n",
       "  [11] -2.348344201  0.845084149  2.799752110 -0.718889337  6.433292371\n",
       "  [16]  2.341185763  2.180495254 -3.357140488  2.377844671 -3.396848236\n",
       "  [21] -2.478956632  5.332375852 -0.952492316 -0.990529693 -1.335656229\n",
       "  [26]  0.181540661  1.260245513  3.063654493  4.892203771  3.275830380\n",
       "  [31] -1.506831071  3.168717824  0.489481001  0.244253229  1.149835688\n",
       "  [36]  1.726403005 -0.124560963 -1.915111917  6.943021049  6.475231420\n",
       "  [41]  5.534951339  2.567101284  3.187691050 -0.927110856  1.273986380\n",
       "  [46] -0.915422300  0.955827459 -1.816574033 -2.724066650  1.002042960\n",
       "  [51] -1.913033848  4.064299321  2.754621448  4.855850177 -3.241401375\n",
       "  [56]  1.898602359 -2.033786851 -4.429414803  2.693037809  3.627175844\n",
       "  [61]  0.119428860  6.576324635  1.955885601  3.625832501  2.109813812\n",
       "  [66] -0.165857977 -0.041779049  2.931553524  2.529397605 -1.993029998\n",
       "  [71] -2.299869426  4.579539783  5.038558767  0.335377455  1.938027242\n",
       "  [76] -3.231963709 -4.883469126  1.309199505 -1.613331334  6.939309747\n",
       "  [81] -2.779456960  1.389704534  2.533479063  3.748412657  7.404101277\n",
       "  [86]  3.670762741  5.922237885 -1.434206547  5.138297959 -0.580484725\n",
       "  [91]  1.303946553 -0.078112915 -1.961774522  1.467995767 -4.967328409\n",
       "  [96] -0.296603700  1.719864155  1.328192486 -0.105203603  0.660143306\n",
       " [101] -4.277319670 -0.583589093  1.576448089  5.330707007  3.589456022\n",
       " [106] -0.942544084 -0.062190726  0.554430356  2.237775083  2.799493303\n",
       " [111]  0.257662574 -0.942527169 -1.514419256 -2.274451372  3.182443681\n",
       " [116]  3.242466942 -2.977714853  3.403191803  0.996028104  7.899207981\n",
       " [121]  3.375112476  4.039479011 -0.833734157  0.701475531 -0.102425401\n",
       " [126] -0.722699273 -0.720979755  7.509638943  1.203022070  4.122747433\n",
       " [131]  2.998039284 -1.824171500 -1.731946585  4.163343744  0.202486557\n",
       " [136]  2.900532867  5.664558807 -4.771850704  0.980359726 -2.167241376\n",
       " [141] -0.342321577  3.595046727 -2.413799956  4.133547012  1.220630288\n",
       " [146]  1.431468052  4.502463900  6.174390326  1.043445944  1.392611132\n",
       " [151]  0.086312676  4.098408442 -1.201598237 -0.689081964  2.569311107\n",
       " [156]  1.641523870  3.093842025 -0.644624420  0.264237847  6.674191031\n",
       " [161]  2.062622344  4.627880587  1.390063344 -2.922144646  3.580079247\n",
       " [166]  0.969292393  5.621118040  4.471693738  0.280111047  1.314159055\n",
       " [171]  1.854707891  0.735263892  1.986266210  1.453681368  2.715852430\n",
       " [176]  3.024996148  1.276953120 -2.086493968  0.142590418 -5.116072745\n",
       " [181] -2.622774034 -2.015082998  6.393089662 -1.558546756  2.294732626\n",
       " [186] -4.052605218  1.054280666  2.209613336  5.301094283  1.046727753\n",
       " [191] -0.680420721 -5.675978867  4.866134870  4.280733672  0.211014117\n",
       " [196]  2.427517555  1.160756972 -3.692007026  1.288013571 -2.612443024\n",
       " [201] -1.296008977 -2.362260335 -4.261392206  1.029200883  2.142463225\n",
       " [206]  3.382190456  1.552018452 -3.908534490 -3.516231215  5.903990890\n",
       " [211]  0.965339625  1.719071570  0.068000411  1.596139844  0.138371066\n",
       " [216] -0.741680265  3.436270605  1.749944793  1.968046605  2.598104290\n",
       " [221]  0.306998831 -2.742637688 -0.393546999 -4.205823978 -2.534557641\n",
       " [226]  1.122706837  3.344586017  3.590033342  1.244528374  3.080518144\n",
       " [231]  9.812255979 -0.821450225  1.445842597  0.885738658  1.125476607\n",
       " [236]  2.749961864 -1.734932270  1.802323023  0.059636181  4.189028283\n",
       " [241]  2.303687857 -0.142570696 -0.011591159 -1.626055325  0.610110393\n",
       " [246]  0.614254559  1.162872548  3.332765717  2.731336572  2.285415175\n",
       " [251] -4.670434845  0.715841867  0.813085065 -2.886800227  2.902591635\n",
       " [256] -1.407216910  0.189036476  1.041087209  0.794286621 -3.294672274\n",
       " [261]  5.983243132  0.162549156  0.749359768 -1.593812810  1.346387457\n",
       " [266]  3.983512868  4.519155757  4.796685070  0.787739053  0.926935629\n",
       " [271] -0.317235874 -2.002674225  3.909329588  2.765879629 -0.867253888\n",
       " [276]  2.250428944 -0.639907732 -1.454344873  2.293256830  1.237793641\n",
       " [281]  1.632740917 -3.930007192 -5.982596630  2.182354668 -0.508797075\n",
       " [286]  0.752235747  0.063689311  2.204272654 -5.105902342  0.413087433\n",
       " [291] -0.344107543  0.096705205  5.672132826  1.527052007 -3.672227523\n",
       " [296]  1.120449707  0.298644937  6.110698056  2.696868363  2.348819509\n",
       " [301]  4.134574767  0.877914881 -0.868572751 -1.103371050 -4.066049204\n",
       " [306]  1.672621036  0.009445055  0.140079688  1.647611717 -2.526658739\n",
       " [311]  4.004377268  1.578851538 -1.351219616  3.238008538  0.340889433\n",
       " [316]  2.398550958  1.919591773 -1.920976839  2.165920412  5.427535468\n",
       " [321] -0.531283624  1.380052519 -2.220786573  8.885040400  0.188442227\n",
       " [326] -0.251424369  4.013492490  2.545444940  0.845994838  2.363670477\n",
       " [331] -0.103238941  0.206176019 -0.618731859  4.067688835  0.576215388\n",
       " [336] -0.535789823  3.464506153  2.634054851 -5.647653897  0.865738765\n",
       " [341]  3.785350973 -1.278300106  1.634681857  3.818256588 -1.076028430\n",
       " [346]  0.371880882 -1.321716112  0.605671411 -2.288477098 -5.275500560\n",
       " [351] -2.795004051  8.273491820  0.581498110  0.507223350  4.529551800\n",
       " [356] -1.047529997 -2.455103616  0.020365776 -0.647731027  9.709418374\n",
       " [361] -3.102609473  3.132197867 -2.932957346  1.125470926 -4.308037898\n",
       " [366] -0.203953296  2.502753969  1.823050681  4.474118077 -0.924362917\n",
       " [371] -4.406421253  4.620269521  2.983394551  2.495227510  1.644785173\n",
       " [376] -4.403154500  2.004375819  2.641878002 -1.495352087  0.726174799\n",
       " [381]  1.465058288  3.299720600  3.550792386 -0.143913987 -4.896165251\n",
       " [386]  0.743858492 -5.199447690  4.580545417 -2.740616505 -0.129049226\n",
       " [391]  3.921923892 -0.695840624 -3.301529416  2.512546806 -1.832058244\n",
       " [396]  1.229936994  5.725662053  0.861003045  2.531659440  0.646302802\n",
       " [401]  2.916706357 -3.659240375  0.988883867  0.720558226  5.257900000\n",
       " [406]  3.984930854  3.550335246  1.216336796  1.969443043  0.262258615\n",
       " [411] -0.081958873  2.829056775  3.334904488  5.138673813  0.300596423\n",
       " [416]  0.812018407 -2.493887934 -2.041802767  4.350655525  4.115211273\n",
       " [421]  0.396117471 -1.856682703 -5.845748542  3.486035468  3.678454743\n",
       " [426]  2.983741793  2.294277973  2.214831664  0.873646157 -2.998984675\n",
       " [431]  3.032438266  2.203010263  1.836390102  0.141322162 -5.042851227\n",
       " [436]  1.438438628  0.527776508  2.955694420  0.779636561  6.949090671\n",
       " [441] -1.707403914 -0.313387825  1.545281173  5.074425173  1.471218624\n",
       " [446]  5.581661007 -2.378022185 -0.816515498 -2.960682826  3.026016860\n",
       " [451]  2.622774496  0.512876472 -3.148556587  4.743561294  2.112848522\n",
       " [456] -0.621720007  4.886069448  1.984895596  2.208713908 -2.835027414\n",
       " [461] -0.124628362  4.555041057  1.175749313  5.992590768  0.582243213\n",
       " [466] -3.446552565  0.280684866 -3.607840458  2.231427623 -1.199559737\n",
       " [471]  0.894873691  1.854783081  2.441210383  2.865241472 -0.222037973\n",
       " [476]  2.383046446  1.678042120 -2.287623124 -3.651675382 -2.864336469\n",
       " [481]  1.706608816  3.555758911 -0.963521082  3.807144934 -0.802206735\n",
       " [486]  3.734180993 -1.525372237 -0.452267506 -3.158048277 -4.557643415\n",
       " [491] -1.652399658  1.159086212 -1.594830205  4.530252213 -0.667266933\n",
       " [496]  4.819645031 -0.381738168  5.179177348 -0.037701508  0.831036795\n",
       " [501]  2.762119912  2.226836012  1.845680153  3.173359716 -0.676298260\n",
       " [506] -2.086940391  2.612380726 -0.259712778  3.513334757  4.040560816\n",
       " [511]  4.673166690  2.020313306  2.287085236  2.231487960  3.237189537\n",
       " [516]  7.701159307  2.076382955  0.603778070  4.087990593  4.978223308\n",
       " [521]  1.638693319  8.163616573  2.123923144 -3.043089338  1.288274444\n",
       " [526]  0.722862442 -0.257206571  2.237755019  3.013437000  6.673819519\n",
       " [531]  0.628312545  3.236596432  4.512358396  0.021369711  1.953072488\n",
       " [536] -0.021568947 -2.822657594  3.207946286 -2.988918258  3.205440244\n",
       " [541]  2.960047416  2.077447925  7.372087453  2.346625332  3.672977144\n",
       " [546]  5.930398860  2.475621550 -0.859362845  1.638004813  2.773751237\n",
       " [551]  2.716069681 -0.194029424  3.672427717  2.493915216  0.715415546\n",
       " [556]  1.858521367  1.222158675  4.897134384  2.645726208  3.360963915\n",
       " [561]  2.200081019 -3.825604587  1.686248323  4.557335621  3.184392990\n",
       " [566] -0.397022801  6.006693228  3.159491736  4.274411770 -4.905670035\n",
       " [571]  0.119525359  4.601779738  1.037484687  2.606610101 -4.181908551\n",
       " [576]  0.841895618  5.527829425  8.789971976 -1.220857718 -0.310204419\n",
       " [581] -2.065740746  4.112931953 -7.276921888  3.914446223  0.954237229\n",
       " [586]  1.029275148  1.716441623  1.700747538 -1.015992269  0.240558044\n",
       " [591] -0.507829204 -2.692726411 -5.454104712  0.458408457  0.429001948\n",
       " [596]  3.736206673 -0.847371652  4.137493488  5.713378371  0.404098334\n",
       " [601] -3.159752467  1.743851013  2.147470513  0.444511208  0.254813421\n",
       " [606]  4.281884389 -1.549562455 -2.583100576  2.438034415  4.485586466\n",
       " [611]  2.101270196  2.840812003  4.690519071  2.450339968  3.005425510\n",
       " [616]  5.985368363  0.866110468 -0.978356161 -3.584246283 -2.622160411\n",
       " [621] -0.473990000  0.734966501  3.574357883 -0.250895295 -4.027019201\n",
       " [626] -0.744116679  1.178085792 -1.971920855 -0.897106216  4.110334021\n",
       " [631]  3.107718059 -1.903980902 -0.124637611  2.217605039  2.880741542\n",
       " [636]  4.580465021  0.294605234  4.521495092 -5.474064079  1.494623752\n",
       " [641]  2.644970945  7.891077292 -2.976795336  2.001943811 -2.790113396\n",
       " [646]  4.936918338  4.393993801  6.793904709 -1.265698057  3.394250910\n",
       " [651] -2.466706824 -0.388454338  7.359417368  1.410442845  5.379793354\n",
       " [656]  5.906213717 -2.762422196 -0.304257004  0.103181546  0.094497625\n",
       " [661] -0.312787419  0.413188224  0.062875915  0.685901854 -2.547410590\n",
       " [666] -3.567517199  5.510699504  2.878050317 -2.065975463 -3.875102431\n",
       " [671]  2.343033364 -2.324046570  0.101290800  1.636040297  1.567904207\n",
       " [676] -2.051395649  1.558248870  3.768117676 -2.692762959 -1.623039099\n",
       " [681]  1.815901658  3.092710878  1.747693566  1.474242417 -0.557469291\n",
       " [686]  1.696323062 -3.590236827  0.025265222 -2.108636162  0.835688237\n",
       " [691] -2.434407435  5.677115614 -3.291783521  4.638105101  0.151491363\n",
       " [696]  1.307917279 -1.998591988  0.304895912  1.110939480 -2.322823101\n",
       " [701] -0.956718531 -2.048884676  2.765532087  3.281508057 -4.654265440\n",
       " [706]  2.781667399  6.053071340 -1.160073290  5.215723199 -3.543712046\n",
       " [711] -0.274944173 -0.812783927 -3.575816391  3.036483364  1.338422783\n",
       " [716]  0.998647309  1.888221702 -0.044705181  1.479899231  2.041338170\n",
       " [721]  4.009714112  1.505200047 -0.098237526 -0.177544811  2.189102453\n",
       " [726]  2.966883529  2.555521739  1.018910302  0.861769030 -3.556110253\n",
       " [731]  1.942807368  2.101031737  4.304887865  1.081701270  1.713065266\n",
       " [736]  4.359781191  0.525797652 -0.875694355  1.086399590  0.500157256\n",
       " [741]  2.356583617  3.925939990  3.771084010  2.388746079  0.515494462\n",
       " [746]  3.225415174  0.857541733  1.575293441  5.126408698  1.525056926\n",
       " [751] -0.982536084  4.086075119 -2.776547276 -0.445981097  0.530889099\n",
       " [756]  2.606876057  0.609231436  4.893051917 -1.641154457 -0.284890631\n",
       " [761]  0.177781024 -2.737906585 -0.411990262  1.354937993  0.053487684\n",
       " [766] -0.658499221  7.758317456  1.105454091  0.889747851  3.451894533\n",
       " [771]  2.351546851 -4.621462877 -0.796784637 -2.301990471  6.328224743\n",
       " [776] -1.873060900  0.726775803 -0.162420728  0.338390414 -0.677927443\n",
       " [781] -1.471565921  5.344873078  4.181513473  4.865221149  2.711218461\n",
       " [786]  3.385537060 -1.329206799  0.589262795  3.237039933 -0.706805955\n",
       " [791]  3.447951688  1.902739702 -1.620808206 -0.489917161  2.123357532\n",
       " [796]  2.159410922  1.745476285  4.853490242  1.664588377 -0.922033118\n",
       " [801]  0.742977711  2.359546836  5.497504081 -1.929790566  0.892797337\n",
       " [806] -2.701158775 -1.133191016  3.279047364  0.135809207 -1.063301740\n",
       " [811]  4.064516665 -0.469667998  3.462121280 -3.661744111  0.770452563\n",
       " [816] -0.479058223  2.483931824 -6.298467809  5.919369619 -0.345466187\n",
       " [821]  2.256573830  0.745982445 -4.637509010  5.781743150  5.015448275\n",
       " [826] -2.113861195 -0.708610191  3.440041896  1.129430208  0.498001108\n",
       " [831] -0.262408499  0.644378188  2.228992219  3.837187822 -0.148289722\n",
       " [836]  3.835530095  7.628091317  2.189868090  0.758950309  0.157341800\n",
       " [841]  1.841082737  0.702559503  2.499128639  1.425025035 -0.756355245\n",
       " [846]  2.004856343 -3.654799661  2.752605550 -2.281578532 -0.159281793\n",
       " [851] -0.727184413 -0.189535207  1.233076796 -3.936906116 -2.837892392\n",
       " [856]  1.791966255  2.017480739 -0.690022141  0.781851470  3.609508824\n",
       " [861] -7.812643544  2.052541782  2.983320089  5.478718978  5.435269549\n",
       " [866] -1.604653830  6.082833811  1.015976436 -0.817293210  3.174350545\n",
       " [871] -1.528930914 -0.031294013 -1.360110646  5.664066113  1.988236333\n",
       " [876] -1.885091676  1.036945961 -2.067808951  0.801511563 -0.326182191\n",
       " [881]  1.235691814  0.318290255  0.132510079  1.291290391 -1.339191005\n",
       " [886] -0.679668708  1.042360235  0.499282612  1.716185947  0.717928353\n",
       " [891]  0.512581398  1.017950212  3.633457064 -0.032109432  0.492588677\n",
       " [896]  1.011178587  4.758762831 -5.797738249 -2.857075982  1.376221415\n",
       " [901] -0.547151345  4.077481954  1.966321841 -2.325611765  3.768944708\n",
       " [906] -1.940882017  1.982070254  1.076803970 -3.311219594  0.597460120\n",
       " [911] -1.531846288  0.953513064  4.545874514  4.063953645 -0.622331068\n",
       " [916] -2.200121694  4.106570760 -0.038446077  6.170899093  1.306612967\n",
       " [921]  3.429886829 -1.403993836 -1.747088097 -0.043351139 -0.038290544\n",
       " [926]  4.653587671 -2.681693659  7.558218728  1.952108177 -1.476165263\n",
       " [931]  0.890572823 -0.629025173 -4.384376674  0.498661772 -1.830914172\n",
       " [936] -1.217481588  0.967797598 -3.310262201  1.001676900  3.705270967\n",
       " [941]  2.054211700 -2.617842428 -1.166672193  1.251394935  1.384255862\n",
       " [946] -0.578585724  3.228993639  3.232991700 -1.340379398 -4.913986218\n",
       " [951]  1.000052110  5.900277742 -0.292669544 -0.038423290  2.344250755\n",
       " [956]  4.580224074  1.856152519 -0.768661959  6.123276838 -1.347044498\n",
       " [961] -0.727919004 -2.416027880 -0.684832255  6.024572110 -0.022675126\n",
       " [966] -4.283689970 -2.424001067 -0.513133941  2.416797454  6.516211344\n",
       " [971]  7.407530925 -0.463143033 -1.058527490 -0.680029339 -1.184375710\n",
       " [976]  0.085956918 -0.651175637  4.371044037  4.987023522  3.183005017\n",
       " [981] -0.777567651  1.706236871 -2.224517313  3.803284554 -3.326679560\n",
       " [986] -0.243307995  0.651317305  0.458391903  5.777293198  5.649008386\n",
       " [991]  0.450156433  4.214471754  0.440421348  9.463455755  1.315848166\n",
       " [996] -0.752461954 -1.066499633  1.661742189 -1.848046963  8.499590543"
      ]
     },
     "metadata": {},
     "output_type": "display_data"
    },
    {
     "data": {
      "text/html": [
       "1.0482709220638"
      ],
      "text/latex": [
       "1.0482709220638"
      ],
      "text/markdown": [
       "1.0482709220638"
      ],
      "text/plain": [
       "[1] 1.048271"
      ]
     },
     "metadata": {},
     "output_type": "display_data"
    },
    {
     "data": {
      "text/html": [
       "2.82543291057298"
      ],
      "text/latex": [
       "2.82543291057298"
      ],
      "text/markdown": [
       "2.82543291057298"
      ],
      "text/plain": [
       "[1] 2.825433"
      ]
     },
     "metadata": {},
     "output_type": "display_data"
    }
   ],
   "source": [
    "r <- rnorm(1000, mean=1, sd=3)\n",
    "r\n",
    "mean(r)\n",
    "sd(r)"
   ]
  },
  {
   "cell_type": "markdown",
   "metadata": {},
   "source": [
    "## Generating Uniformly Distributed Random Numbers\n",
    "\n",
    "-runif()"
   ]
  },
  {
   "cell_type": "code",
   "execution_count": 86,
   "metadata": {},
   "outputs": [
    {
     "data": {
      "text/html": [
       "<ol class=list-inline>\n",
       "\t<li>2.28322666697204</li>\n",
       "\t<li>2.04007954522967</li>\n",
       "\t<li>7.8214546199888</li>\n",
       "\t<li>6.22005833685398</li>\n",
       "\t<li>2.29170899651945</li>\n",
       "\t<li>7.23155317083001</li>\n",
       "\t<li>5.00289713218808</li>\n",
       "\t<li>5.02223265916109</li>\n",
       "\t<li>7.23786045238376</li>\n",
       "\t<li>2.84977324493229</li>\n",
       "</ol>\n"
      ],
      "text/latex": [
       "\\begin{enumerate*}\n",
       "\\item 2.28322666697204\n",
       "\\item 2.04007954522967\n",
       "\\item 7.8214546199888\n",
       "\\item 6.22005833685398\n",
       "\\item 2.29170899651945\n",
       "\\item 7.23155317083001\n",
       "\\item 5.00289713218808\n",
       "\\item 5.02223265916109\n",
       "\\item 7.23786045238376\n",
       "\\item 2.84977324493229\n",
       "\\end{enumerate*}\n"
      ],
      "text/markdown": [
       "1. 2.28322666697204\n",
       "2. 2.04007954522967\n",
       "3. 7.8214546199888\n",
       "4. 6.22005833685398\n",
       "5. 2.29170899651945\n",
       "6. 7.23155317083001\n",
       "7. 5.00289713218808\n",
       "8. 5.02223265916109\n",
       "9. 7.23786045238376\n",
       "10. 2.84977324493229\n",
       "\n",
       "\n"
      ],
      "text/plain": [
       " [1] 2.283227 2.040080 7.821455 6.220058 2.291709 7.231553 5.002897 5.022233\n",
       " [9] 7.237860 2.849773"
      ]
     },
     "metadata": {},
     "output_type": "display_data"
    },
    {
     "data": {
      "text/html": [
       "5.09582455909252"
      ],
      "text/latex": [
       "5.09582455909252"
      ],
      "text/markdown": [
       "5.09582455909252"
      ],
      "text/plain": [
       "[1] 5.095825"
      ]
     },
     "metadata": {},
     "output_type": "display_data"
    }
   ],
   "source": [
    "r <- runif(1000, min=1, max=9)\n",
    "r[1:10]\n",
    "mean(r)"
   ]
  },
  {
   "cell_type": "markdown",
   "metadata": {},
   "source": [
    "## Using the summary() Function"
   ]
  },
  {
   "cell_type": "code",
   "execution_count": 87,
   "metadata": {},
   "outputs": [
    {
     "data": {
      "text/plain": [
       "   Min. 1st Qu.  Median    Mean 3rd Qu.    Max. \n",
       "  1.003   3.182   5.128   5.028   6.814   8.995 "
      ]
     },
     "metadata": {},
     "output_type": "display_data"
    },
    {
     "data": {
      "text/plain": [
       "   Mode   FALSE    TRUE \n",
       "logical     516     484 "
      ]
     },
     "metadata": {},
     "output_type": "display_data"
    }
   ],
   "source": [
    "r <- runif(1000, min=1, max=9)\n",
    "summary(r)\n",
    "summary(r <= 5)"
   ]
  },
  {
   "cell_type": "markdown",
   "metadata": {},
   "source": [
    "## Math Functions Used in Data Analysis\n",
    "\n",
    "- diff()\n",
    "- max()\n",
    "- min()\n",
    "- range()"
   ]
  },
  {
   "cell_type": "code",
   "execution_count": 88,
   "metadata": {},
   "outputs": [
    {
     "data": {
      "text/html": [
       "<ol class=list-inline>\n",
       "\t<li>8</li>\n",
       "\t<li>12</li>\n",
       "\t<li>16</li>\n",
       "\t<li>20</li>\n",
       "\t<li>24</li>\n",
       "\t<li>28</li>\n",
       "\t<li>32</li>\n",
       "\t<li>36</li>\n",
       "</ol>\n"
      ],
      "text/latex": [
       "\\begin{enumerate*}\n",
       "\\item 8\n",
       "\\item 12\n",
       "\\item 16\n",
       "\\item 20\n",
       "\\item 24\n",
       "\\item 28\n",
       "\\item 32\n",
       "\\item 36\n",
       "\\end{enumerate*}\n"
      ],
      "text/markdown": [
       "1. 8\n",
       "2. 12\n",
       "3. 16\n",
       "4. 20\n",
       "5. 24\n",
       "6. 28\n",
       "7. 32\n",
       "8. 36\n",
       "\n",
       "\n"
      ],
      "text/plain": [
       "[1]  8 12 16 20 24 28 32 36"
      ]
     },
     "metadata": {},
     "output_type": "display_data"
    },
    {
     "data": {
      "text/html": [
       "<ol class=list-inline>\n",
       "\t<li>1</li>\n",
       "\t<li>100</li>\n",
       "</ol>\n"
      ],
      "text/latex": [
       "\\begin{enumerate*}\n",
       "\\item 1\n",
       "\\item 100\n",
       "\\end{enumerate*}\n"
      ],
      "text/markdown": [
       "1. 1\n",
       "2. 100\n",
       "\n",
       "\n"
      ],
      "text/plain": [
       "[1]   1 100"
      ]
     },
     "metadata": {},
     "output_type": "display_data"
    }
   ],
   "source": [
    "x = 1:10\n",
    "diff(x^2, lag=2)\n",
    "range(x^2)"
   ]
  },
  {
   "cell_type": "markdown",
   "metadata": {},
   "source": [
    "## Correlations\n",
    "\n",
    "- cor()\n",
    "- pearson (default correlation method)\n",
    "- kendall\n",
    "- spearman"
   ]
  },
  {
   "cell_type": "markdown",
   "metadata": {},
   "source": [
    "## Correlation Examples"
   ]
  },
  {
   "cell_type": "code",
   "execution_count": 89,
   "metadata": {},
   "outputs": [
    {
     "data": {
      "text/html": [
       "0.658747887344759"
      ],
      "text/latex": [
       "0.658747887344759"
      ],
      "text/markdown": [
       "0.658747887344759"
      ],
      "text/plain": [
       "[1] 0.6587479"
      ]
     },
     "metadata": {},
     "output_type": "display_data"
    }
   ],
   "source": [
    "x <- mtcars[,'hp']\n",
    "y <- mtcars[,'wt']\n",
    "cor(x, y)"
   ]
  },
  {
   "cell_type": "markdown",
   "metadata": {},
   "source": [
    "## Testing Correlation Coefficient for Significance"
   ]
  },
  {
   "cell_type": "code",
   "execution_count": 90,
   "metadata": {},
   "outputs": [
    {
     "data": {
      "text/plain": [
       "\n",
       "\tPearson's product-moment correlation\n",
       "\n",
       "data:  x and y\n",
       "t = 4.7957, df = 30, p-value = 4.146e-05\n",
       "alternative hypothesis: true correlation is not equal to 0\n",
       "95 percent confidence interval:\n",
       " 0.4025113 0.8192573\n",
       "sample estimates:\n",
       "      cor \n",
       "0.6587479 \n"
      ]
     },
     "metadata": {},
     "output_type": "display_data"
    }
   ],
   "source": [
    "x <- mtcars[,'hp']\n",
    "y <- mtcars[,'wt']\n",
    "cor.test(x, y)"
   ]
  },
  {
   "cell_type": "markdown",
   "metadata": {},
   "source": [
    "## Regression Analysis\n",
    "\n",
    "- Simple linear\n",
    "- Multiple linear\n",
    "- Polynomial\n",
    "- Time-series"
   ]
  },
  {
   "cell_type": "markdown",
   "metadata": {},
   "source": [
    "## Simple Linear Regression Model\n",
    "\n",
    "- Yi = A1Xi + A0"
   ]
  },
  {
   "cell_type": "markdown",
   "metadata": {},
   "source": [
    "## Least Squares Method (LSM)"
   ]
  },
  {
   "cell_type": "markdown",
   "metadata": {},
   "source": [
    "## LSM Assumptions"
   ]
  },
  {
   "cell_type": "markdown",
   "metadata": {},
   "source": [
    "## Fitting Linear Regression Models in R\n",
    "\n",
    "- lm()"
   ]
  },
  {
   "cell_type": "code",
   "execution_count": 91,
   "metadata": {},
   "outputs": [
    {
     "data": {
      "text/plain": [
       "\n",
       "Call:\n",
       "lm(formula = y ~ x)\n",
       "\n",
       "Coefficients:\n",
       "(Intercept)            x  \n",
       "   1.838247     0.009401  \n"
      ]
     },
     "metadata": {},
     "output_type": "display_data"
    }
   ],
   "source": [
    "x <- mtcars[,'hp']\n",
    "y <- mtcars[,'wt']\n",
    "lm(y~x)"
   ]
  },
  {
   "cell_type": "markdown",
   "metadata": {},
   "source": [
    "## Confidence Intervals for Model Parameters"
   ]
  },
  {
   "cell_type": "code",
   "execution_count": 92,
   "metadata": {},
   "outputs": [
    {
     "data": {
      "text/html": [
       "<table>\n",
       "<thead><tr><th></th><th scope=col>2.5 %</th><th scope=col>97.5 %</th></tr></thead>\n",
       "<tbody>\n",
       "\t<tr><th scope=row>(Intercept)</th><td>1.191827444</td><td>2.4846660  </td></tr>\n",
       "\t<tr><th scope=row>x</th><td>0.005397515</td><td>0.0134044  </td></tr>\n",
       "</tbody>\n",
       "</table>\n"
      ],
      "text/latex": [
       "\\begin{tabular}{r|ll}\n",
       "  & 2.5 \\% & 97.5 \\%\\\\\n",
       "\\hline\n",
       "\t(Intercept) & 1.191827444 & 2.4846660  \\\\\n",
       "\tx & 0.005397515 & 0.0134044  \\\\\n",
       "\\end{tabular}\n"
      ],
      "text/markdown": [
       "\n",
       "| <!--/--> | 2.5 % | 97.5 % | \n",
       "|---|---|\n",
       "| (Intercept) | 1.191827444 | 2.4846660   | \n",
       "| x | 0.005397515 | 0.0134044   | \n",
       "\n",
       "\n"
      ],
      "text/plain": [
       "            2.5 %       97.5 %   \n",
       "(Intercept) 1.191827444 2.4846660\n",
       "x           0.005397515 0.0134044"
      ]
     },
     "metadata": {},
     "output_type": "display_data"
    }
   ],
   "source": [
    "x <- mtcars[,'hp']\n",
    "y <- mtcars[,'wt']\n",
    "mod <- lm(y~x)\n",
    "confint(mod)"
   ]
  },
  {
   "cell_type": "markdown",
   "metadata": {
    "collapsed": true
   },
   "source": [
    "## Example of Using lm() with a Data Frame"
   ]
  },
  {
   "cell_type": "code",
   "execution_count": 93,
   "metadata": {},
   "outputs": [
    {
     "data": {
      "text/plain": [
       "\n",
       "Call:\n",
       "lm(formula = hp ~ wt, data = mtcars)\n",
       "\n",
       "Coefficients:\n",
       "(Intercept)           wt  \n",
       "     -1.821       46.160  \n"
      ]
     },
     "metadata": {},
     "output_type": "display_data"
    }
   ],
   "source": [
    "lm(hp ~ wt, data=mtcars)"
   ]
  },
  {
   "cell_type": "markdown",
   "metadata": {},
   "source": [
    "## Multiple Regression Analysis\n"
   ]
  },
  {
   "cell_type": "code",
   "execution_count": 94,
   "metadata": {},
   "outputs": [
    {
     "data": {
      "text/plain": [
       "\n",
       "Call:\n",
       "lm(formula = mpg ~ hp + wt)\n",
       "\n",
       "Coefficients:\n",
       "(Intercept)           hp           wt  \n",
       "   37.22727     -0.03177     -3.87783  \n"
      ]
     },
     "metadata": {},
     "output_type": "display_data"
    }
   ],
   "source": [
    "hp <- mtcars[,'hp']\n",
    "wt <- mtcars[,'wt']\n",
    "mpg <- mtcars[,'mpg']\n",
    "lm(mpg ~ hp + wt)"
   ]
  },
  {
   "cell_type": "markdown",
   "metadata": {},
   "source": [
    "## Applying Functions to Matrices and Data Frames"
   ]
  },
  {
   "cell_type": "code",
   "execution_count": 95,
   "metadata": {},
   "outputs": [
    {
     "data": {
      "text/html": [
       "<table>\n",
       "<tbody>\n",
       "\t<tr><td>20</td><td>21</td><td>22</td></tr>\n",
       "\t<tr><td>23</td><td>24</td><td>25</td></tr>\n",
       "</tbody>\n",
       "</table>\n"
      ],
      "text/latex": [
       "\\begin{tabular}{lll}\n",
       "\t 20 & 21 & 22\\\\\n",
       "\t 23 & 24 & 25\\\\\n",
       "\\end{tabular}\n"
      ],
      "text/markdown": [
       "\n",
       "| 20 | 21 | 22 | \n",
       "| 23 | 24 | 25 | \n",
       "\n",
       "\n"
      ],
      "text/plain": [
       "     [,1] [,2] [,3]\n",
       "[1,] 20   21   22  \n",
       "[2,] 23   24   25  "
      ]
     },
     "metadata": {},
     "output_type": "display_data"
    },
    {
     "data": {
      "text/html": [
       "<table>\n",
       "<tbody>\n",
       "\t<tr><td>4.472136</td><td>4.582576</td><td>4.690416</td></tr>\n",
       "\t<tr><td>4.795832</td><td>4.898979</td><td>5.000000</td></tr>\n",
       "</tbody>\n",
       "</table>\n"
      ],
      "text/latex": [
       "\\begin{tabular}{lll}\n",
       "\t 4.472136 & 4.582576 & 4.690416\\\\\n",
       "\t 4.795832 & 4.898979 & 5.000000\\\\\n",
       "\\end{tabular}\n"
      ],
      "text/markdown": [
       "\n",
       "| 4.472136 | 4.582576 | 4.690416 | \n",
       "| 4.795832 | 4.898979 | 5.000000 | \n",
       "\n",
       "\n"
      ],
      "text/plain": [
       "     [,1]     [,2]     [,3]    \n",
       "[1,] 4.472136 4.582576 4.690416\n",
       "[2,] 4.795832 4.898979 5.000000"
      ]
     },
     "metadata": {},
     "output_type": "display_data"
    },
    {
     "data": {
      "text/html": [
       "<table>\n",
       "<tbody>\n",
       "\t<tr><td>4.47</td><td>4.58</td><td>4.69</td></tr>\n",
       "\t<tr><td>4.80</td><td>4.90</td><td>5.00</td></tr>\n",
       "</tbody>\n",
       "</table>\n"
      ],
      "text/latex": [
       "\\begin{tabular}{lll}\n",
       "\t 4.47 & 4.58 & 4.69\\\\\n",
       "\t 4.80 & 4.90 & 5.00\\\\\n",
       "\\end{tabular}\n"
      ],
      "text/markdown": [
       "\n",
       "| 4.47 | 4.58 | 4.69 | \n",
       "| 4.80 | 4.90 | 5.00 | \n",
       "\n",
       "\n"
      ],
      "text/plain": [
       "     [,1] [,2] [,3]\n",
       "[1,] 4.47 4.58 4.69\n",
       "[2,] 4.80 4.90 5.00"
      ]
     },
     "metadata": {},
     "output_type": "display_data"
    },
    {
     "data": {
      "text/html": [
       "4.74"
      ],
      "text/latex": [
       "4.74"
      ],
      "text/markdown": [
       "4.74"
      ],
      "text/plain": [
       "[1] 4.74"
      ]
     },
     "metadata": {},
     "output_type": "display_data"
    }
   ],
   "source": [
    "m <- matrix(c(20, 21, 22, 23, 24, 25), nrow=2, ncol=3, byrow = TRUE) \n",
    "m\n",
    "m <- sqrt(m)\n",
    "m\n",
    "m <- round(m, digit=2)\n",
    "m\n",
    "mm <- mean(m)\n",
    "mm"
   ]
  },
  {
   "cell_type": "markdown",
   "metadata": {},
   "source": [
    "## The apply() Function"
   ]
  },
  {
   "cell_type": "code",
   "execution_count": 96,
   "metadata": {},
   "outputs": [],
   "source": [
    "help(apply)"
   ]
  },
  {
   "cell_type": "code",
   "execution_count": 97,
   "metadata": {},
   "outputs": [
    {
     "data": {
      "text/html": [
       "<table>\n",
       "<tbody>\n",
       "\t<tr><td>1 </td><td>5 </td><td> 9</td></tr>\n",
       "\t<tr><td>2 </td><td>6 </td><td>10</td></tr>\n",
       "\t<tr><td>3 </td><td>7 </td><td>11</td></tr>\n",
       "\t<tr><td>4 </td><td>8 </td><td>12</td></tr>\n",
       "</tbody>\n",
       "</table>\n"
      ],
      "text/latex": [
       "\\begin{tabular}{lll}\n",
       "\t 1  & 5  &  9\\\\\n",
       "\t 2  & 6  & 10\\\\\n",
       "\t 3  & 7  & 11\\\\\n",
       "\t 4  & 8  & 12\\\\\n",
       "\\end{tabular}\n"
      ],
      "text/markdown": [
       "\n",
       "| 1  | 5  |  9 | \n",
       "| 2  | 6  | 10 | \n",
       "| 3  | 7  | 11 | \n",
       "| 4  | 8  | 12 | \n",
       "\n",
       "\n"
      ],
      "text/plain": [
       "     [,1] [,2] [,3]\n",
       "[1,] 1    5     9  \n",
       "[2,] 2    6    10  \n",
       "[3,] 3    7    11  \n",
       "[4,] 4    8    12  "
      ]
     },
     "metadata": {},
     "output_type": "display_data"
    },
    {
     "data": {
      "text/html": [
       "<ol class=list-inline>\n",
       "\t<li>9</li>\n",
       "\t<li>10</li>\n",
       "\t<li>11</li>\n",
       "\t<li>12</li>\n",
       "</ol>\n"
      ],
      "text/latex": [
       "\\begin{enumerate*}\n",
       "\\item 9\n",
       "\\item 10\n",
       "\\item 11\n",
       "\\item 12\n",
       "\\end{enumerate*}\n"
      ],
      "text/markdown": [
       "1. 9\n",
       "2. 10\n",
       "3. 11\n",
       "4. 12\n",
       "\n",
       "\n"
      ],
      "text/plain": [
       "[1]  9 10 11 12"
      ]
     },
     "metadata": {},
     "output_type": "display_data"
    },
    {
     "data": {
      "text/html": [
       "<ol class=list-inline>\n",
       "\t<li>4</li>\n",
       "\t<li>8</li>\n",
       "\t<li>12</li>\n",
       "</ol>\n"
      ],
      "text/latex": [
       "\\begin{enumerate*}\n",
       "\\item 4\n",
       "\\item 8\n",
       "\\item 12\n",
       "\\end{enumerate*}\n"
      ],
      "text/markdown": [
       "1. 4\n",
       "2. 8\n",
       "3. 12\n",
       "\n",
       "\n"
      ],
      "text/plain": [
       "[1]  4  8 12"
      ]
     },
     "metadata": {},
     "output_type": "display_data"
    }
   ],
   "source": [
    "m <- matrix(1:12, nrow = 4)\n",
    "m\n",
    "apply(m, 1, max) # find max element row-wise\n",
    "apply(m, 2, max) # find max element column-wise"
   ]
  },
  {
   "cell_type": "markdown",
   "metadata": {},
   "source": [
    "## Using apply() Function with a User-Defined Function"
   ]
  },
  {
   "cell_type": "code",
   "execution_count": 98,
   "metadata": {},
   "outputs": [
    {
     "data": {
      "text/html": [
       "<table>\n",
       "<tbody>\n",
       "\t<tr><td>1 </td><td>5 </td><td> 9</td></tr>\n",
       "\t<tr><td>2 </td><td>6 </td><td>10</td></tr>\n",
       "\t<tr><td>3 </td><td>7 </td><td>11</td></tr>\n",
       "\t<tr><td>4 </td><td>8 </td><td>12</td></tr>\n",
       "</tbody>\n",
       "</table>\n"
      ],
      "text/latex": [
       "\\begin{tabular}{lll}\n",
       "\t 1  & 5  &  9\\\\\n",
       "\t 2  & 6  & 10\\\\\n",
       "\t 3  & 7  & 11\\\\\n",
       "\t 4  & 8  & 12\\\\\n",
       "\\end{tabular}\n"
      ],
      "text/markdown": [
       "\n",
       "| 1  | 5  |  9 | \n",
       "| 2  | 6  | 10 | \n",
       "| 3  | 7  | 11 | \n",
       "| 4  | 8  | 12 | \n",
       "\n",
       "\n"
      ],
      "text/plain": [
       "     [,1] [,2] [,3]\n",
       "[1,] 1    5     9  \n",
       "[2,] 2    6    10  \n",
       "[3,] 3    7    11  \n",
       "[4,] 4    8    12  "
      ]
     },
     "metadata": {},
     "output_type": "display_data"
    },
    {
     "data": {
      "text/html": [
       "<table>\n",
       "<tbody>\n",
       "\t<tr><td>TRUE </td><td> TRUE</td><td>FALSE</td></tr>\n",
       "\t<tr><td>TRUE </td><td> TRUE</td><td>FALSE</td></tr>\n",
       "\t<tr><td>TRUE </td><td>FALSE</td><td>FALSE</td></tr>\n",
       "\t<tr><td>TRUE </td><td>FALSE</td><td>FALSE</td></tr>\n",
       "</tbody>\n",
       "</table>\n"
      ],
      "text/latex": [
       "\\begin{tabular}{lll}\n",
       "\t TRUE  &  TRUE & FALSE\\\\\n",
       "\t TRUE  &  TRUE & FALSE\\\\\n",
       "\t TRUE  & FALSE & FALSE\\\\\n",
       "\t TRUE  & FALSE & FALSE\\\\\n",
       "\\end{tabular}\n"
      ],
      "text/markdown": [
       "\n",
       "| TRUE  |  TRUE | FALSE | \n",
       "| TRUE  |  TRUE | FALSE | \n",
       "| TRUE  | FALSE | FALSE | \n",
       "| TRUE  | FALSE | FALSE | \n",
       "\n",
       "\n"
      ],
      "text/plain": [
       "     [,1] [,2]  [,3] \n",
       "[1,] TRUE  TRUE FALSE\n",
       "[2,] TRUE  TRUE FALSE\n",
       "[3,] TRUE FALSE FALSE\n",
       "[4,] TRUE FALSE FALSE"
      ]
     },
     "metadata": {},
     "output_type": "display_data"
    }
   ],
   "source": [
    "m <- matrix(1:12, nrow = 4)\n",
    "m\n",
    "apply(m, 2, function (x) { x<7 })"
   ]
  },
  {
   "cell_type": "markdown",
   "metadata": {},
   "source": [
    "## apply() Variants\n",
    "\n",
    "- lappy()\n",
    "- sapply()\n",
    "- tapply()"
   ]
  },
  {
   "cell_type": "markdown",
   "metadata": {},
   "source": [
    "## Using tapply()"
   ]
  },
  {
   "cell_type": "code",
   "execution_count": 99,
   "metadata": {},
   "outputs": [
    {
     "name": "stderr",
     "output_type": "stream",
     "text": [
      "ERROR while rich displaying an object: Error in dn[[2L]]: subscript out of bounds\n",
      "\n",
      "Traceback:\n",
      "1. FUN(X[[i]], ...)\n",
      "2. tryCatch(withCallingHandlers({\n",
      " .     rpr <- mime2repr[[mime]](obj)\n",
      " .     if (is.null(rpr)) \n",
      " .         return(NULL)\n",
      " .     prepare_content(is.raw(rpr), rpr)\n",
      " . }, error = error_handler), error = outer_handler)\n",
      "3. tryCatchList(expr, classes, parentenv, handlers)\n",
      "4. tryCatchOne(expr, names, parentenv, handlers[[1L]])\n",
      "5. doTryCatch(return(expr), name, parentenv, handler)\n",
      "6. withCallingHandlers({\n",
      " .     rpr <- mime2repr[[mime]](obj)\n",
      " .     if (is.null(rpr)) \n",
      " .         return(NULL)\n",
      " .     prepare_content(is.raw(rpr), rpr)\n",
      " . }, error = error_handler)\n",
      "7. mime2repr[[mime]](obj)\n",
      "8. repr_markdown.numeric(obj)\n",
      "9. repr_vector_generic(html_escape_names(obj), \"%s. %s\\n\", \"%s\\n:   %s\", \n",
      " .     \"**%s:** %s\", \"%s\\n\\n\", item_uses_numbers = TRUE, escape_fun = html_escape)\n",
      "10. html_escape_names(obj)\n",
      "11. .escape_names(obj, \"html\")\n",
      "12. colnames(obj)\n",
      "ERROR while rich displaying an object: Error in dn[[2L]]: subscript out of bounds\n",
      "\n",
      "Traceback:\n",
      "1. FUN(X[[i]], ...)\n",
      "2. tryCatch(withCallingHandlers({\n",
      " .     rpr <- mime2repr[[mime]](obj)\n",
      " .     if (is.null(rpr)) \n",
      " .         return(NULL)\n",
      " .     prepare_content(is.raw(rpr), rpr)\n",
      " . }, error = error_handler), error = outer_handler)\n",
      "3. tryCatchList(expr, classes, parentenv, handlers)\n",
      "4. tryCatchOne(expr, names, parentenv, handlers[[1L]])\n",
      "5. doTryCatch(return(expr), name, parentenv, handler)\n",
      "6. withCallingHandlers({\n",
      " .     rpr <- mime2repr[[mime]](obj)\n",
      " .     if (is.null(rpr)) \n",
      " .         return(NULL)\n",
      " .     prepare_content(is.raw(rpr), rpr)\n",
      " . }, error = error_handler)\n",
      "7. mime2repr[[mime]](obj)\n",
      "8. repr_latex.numeric(obj)\n",
      "9. repr_vector_generic(latex_escape_names(obj), \"\\\\item %s\\n\", \"\\\\item[%s] %s\\n\", \n",
      " .     \"\\\\textbf{%s:} %s\", enum_wrap = \"\\\\begin{enumerate*}\\n%s\\\\end{enumerate*}\\n\", \n",
      " .     named_wrap = \"\\\\begin{description*}\\n%s\\\\end{description*}\\n\", \n",
      " .     only_named_item = \"\\\\textbf{%s:} %s\", escape_fun = latex_escape)\n",
      "10. latex_escape_names(obj)\n",
      "11. .escape_names(obj, \"latex\")\n",
      "12. colnames(obj)\n"
     ]
    },
    {
     "data": {
      "text/html": [
       "<dl class=dl-horizontal>\n",
       "\t<dt>4</dt>\n",
       "\t\t<dd>113</dd>\n",
       "\t<dt>6</dt>\n",
       "\t\t<dd>175</dd>\n",
       "\t<dt>8</dt>\n",
       "\t\t<dd>335</dd>\n",
       "</dl>\n"
      ],
      "text/plain": [
       "  4   6   8 \n",
       "113 175 335 "
      ]
     },
     "metadata": {},
     "output_type": "display_data"
    }
   ],
   "source": [
    "tapply(mtcars$hp, mtcars$cyl, max) # find most powwerful car engine within each group of cars with same number cylinders"
   ]
  },
  {
   "cell_type": "markdown",
   "metadata": {
    "collapsed": true
   },
   "source": [
    "## Adding and Removing a Column to a Data Frame"
   ]
  },
  {
   "cell_type": "code",
   "execution_count": 100,
   "metadata": {},
   "outputs": [
    {
     "data": {
      "text/html": [
       "<table>\n",
       "<thead><tr><th></th><th scope=col>mpg</th><th scope=col>cyl</th><th scope=col>disp</th><th scope=col>hp</th><th scope=col>drat</th><th scope=col>wt</th><th scope=col>qsec</th><th scope=col>vs</th><th scope=col>am</th><th scope=col>gear</th><th scope=col>carb</th></tr></thead>\n",
       "<tbody>\n",
       "\t<tr><th scope=row>Mazda RX4</th><td>21.0 </td><td>6    </td><td>160  </td><td>110  </td><td>3.90 </td><td>2.620</td><td>16.46</td><td>0    </td><td>1    </td><td>4    </td><td>4    </td></tr>\n",
       "\t<tr><th scope=row>Mazda RX4 Wag</th><td>21.0 </td><td>6    </td><td>160  </td><td>110  </td><td>3.90 </td><td>2.875</td><td>17.02</td><td>0    </td><td>1    </td><td>4    </td><td>4    </td></tr>\n",
       "\t<tr><th scope=row>Datsun 710</th><td>22.8 </td><td>4    </td><td>108  </td><td> 93  </td><td>3.85 </td><td>2.320</td><td>18.61</td><td>1    </td><td>1    </td><td>4    </td><td>1    </td></tr>\n",
       "\t<tr><th scope=row>Hornet 4 Drive</th><td>21.4 </td><td>6    </td><td>258  </td><td>110  </td><td>3.08 </td><td>3.215</td><td>19.44</td><td>1    </td><td>0    </td><td>3    </td><td>1    </td></tr>\n",
       "\t<tr><th scope=row>Hornet Sportabout</th><td>18.7 </td><td>8    </td><td>360  </td><td>175  </td><td>3.15 </td><td>3.440</td><td>17.02</td><td>0    </td><td>0    </td><td>3    </td><td>2    </td></tr>\n",
       "\t<tr><th scope=row>Valiant</th><td>18.1 </td><td>6    </td><td>225  </td><td>105  </td><td>2.76 </td><td>3.460</td><td>20.22</td><td>1    </td><td>0    </td><td>3    </td><td>1    </td></tr>\n",
       "</tbody>\n",
       "</table>\n"
      ],
      "text/latex": [
       "\\begin{tabular}{r|lllllllllll}\n",
       "  & mpg & cyl & disp & hp & drat & wt & qsec & vs & am & gear & carb\\\\\n",
       "\\hline\n",
       "\tMazda RX4 & 21.0  & 6     & 160   & 110   & 3.90  & 2.620 & 16.46 & 0     & 1     & 4     & 4    \\\\\n",
       "\tMazda RX4 Wag & 21.0  & 6     & 160   & 110   & 3.90  & 2.875 & 17.02 & 0     & 1     & 4     & 4    \\\\\n",
       "\tDatsun 710 & 22.8  & 4     & 108   &  93   & 3.85  & 2.320 & 18.61 & 1     & 1     & 4     & 1    \\\\\n",
       "\tHornet 4 Drive & 21.4  & 6     & 258   & 110   & 3.08  & 3.215 & 19.44 & 1     & 0     & 3     & 1    \\\\\n",
       "\tHornet Sportabout & 18.7  & 8     & 360   & 175   & 3.15  & 3.440 & 17.02 & 0     & 0     & 3     & 2    \\\\\n",
       "\tValiant & 18.1  & 6     & 225   & 105   & 2.76  & 3.460 & 20.22 & 1     & 0     & 3     & 1    \\\\\n",
       "\\end{tabular}\n"
      ],
      "text/markdown": [
       "\n",
       "| <!--/--> | mpg | cyl | disp | hp | drat | wt | qsec | vs | am | gear | carb | \n",
       "|---|---|---|---|---|---|\n",
       "| Mazda RX4 | 21.0  | 6     | 160   | 110   | 3.90  | 2.620 | 16.46 | 0     | 1     | 4     | 4     | \n",
       "| Mazda RX4 Wag | 21.0  | 6     | 160   | 110   | 3.90  | 2.875 | 17.02 | 0     | 1     | 4     | 4     | \n",
       "| Datsun 710 | 22.8  | 4     | 108   |  93   | 3.85  | 2.320 | 18.61 | 1     | 1     | 4     | 1     | \n",
       "| Hornet 4 Drive | 21.4  | 6     | 258   | 110   | 3.08  | 3.215 | 19.44 | 1     | 0     | 3     | 1     | \n",
       "| Hornet Sportabout | 18.7  | 8     | 360   | 175   | 3.15  | 3.440 | 17.02 | 0     | 0     | 3     | 2     | \n",
       "| Valiant | 18.1  | 6     | 225   | 105   | 2.76  | 3.460 | 20.22 | 1     | 0     | 3     | 1     | \n",
       "\n",
       "\n"
      ],
      "text/plain": [
       "                  mpg  cyl disp hp  drat wt    qsec  vs am gear carb\n",
       "Mazda RX4         21.0 6   160  110 3.90 2.620 16.46 0  1  4    4   \n",
       "Mazda RX4 Wag     21.0 6   160  110 3.90 2.875 17.02 0  1  4    4   \n",
       "Datsun 710        22.8 4   108   93 3.85 2.320 18.61 1  1  4    1   \n",
       "Hornet 4 Drive    21.4 6   258  110 3.08 3.215 19.44 1  0  3    1   \n",
       "Hornet Sportabout 18.7 8   360  175 3.15 3.440 17.02 0  0  3    2   \n",
       "Valiant           18.1 6   225  105 2.76 3.460 20.22 1  0  3    1   "
      ]
     },
     "metadata": {},
     "output_type": "display_data"
    },
    {
     "data": {
      "text/html": [
       "<table>\n",
       "<thead><tr><th></th><th scope=col>mpg</th><th scope=col>cyl</th><th scope=col>disp</th><th scope=col>hp</th><th scope=col>drat</th><th scope=col>wt</th><th scope=col>qsec</th><th scope=col>vs</th><th scope=col>am</th><th scope=col>gear</th><th scope=col>carb</th><th scope=col>new_col_name</th></tr></thead>\n",
       "<tbody>\n",
       "\t<tr><th scope=row>Mazda RX4</th><td>21.0        </td><td>6           </td><td>160         </td><td>110         </td><td>3.90        </td><td>2.620       </td><td>16.46       </td><td>0           </td><td>1           </td><td>4           </td><td>4           </td><td>-0.265054847</td></tr>\n",
       "\t<tr><th scope=row>Mazda RX4 Wag</th><td>21.0        </td><td>6           </td><td>160         </td><td>110         </td><td>3.90        </td><td>2.875       </td><td>17.02       </td><td>0           </td><td>1           </td><td>4           </td><td>4           </td><td>-0.093420365</td></tr>\n",
       "\t<tr><th scope=row>Datsun 710</th><td>22.8        </td><td>4           </td><td>108         </td><td> 93         </td><td>3.85        </td><td>2.320       </td><td>18.61       </td><td>1           </td><td>1           </td><td>4           </td><td>1           </td><td> 0.401599750</td></tr>\n",
       "\t<tr><th scope=row>Hornet 4 Drive</th><td>21.4        </td><td>6           </td><td>258         </td><td>110         </td><td>3.08        </td><td>3.215       </td><td>19.44       </td><td>1           </td><td>0           </td><td>3           </td><td>1           </td><td>-0.118641934</td></tr>\n",
       "\t<tr><th scope=row>Hornet Sportabout</th><td>18.7        </td><td>8           </td><td>360         </td><td>175         </td><td>3.15        </td><td>3.440       </td><td>17.02       </td><td>0           </td><td>0           </td><td>3           </td><td>2           </td><td> 0.605069721</td></tr>\n",
       "\t<tr><th scope=row>Valiant</th><td>18.1        </td><td>6           </td><td>225         </td><td>105         </td><td>2.76        </td><td>3.460       </td><td>20.22       </td><td>1           </td><td>0           </td><td>3           </td><td>1           </td><td> 0.007782864</td></tr>\n",
       "</tbody>\n",
       "</table>\n"
      ],
      "text/latex": [
       "\\begin{tabular}{r|llllllllllll}\n",
       "  & mpg & cyl & disp & hp & drat & wt & qsec & vs & am & gear & carb & new\\_col\\_name\\\\\n",
       "\\hline\n",
       "\tMazda RX4 & 21.0         & 6            & 160          & 110          & 3.90         & 2.620        & 16.46        & 0            & 1            & 4            & 4            & -0.265054847\\\\\n",
       "\tMazda RX4 Wag & 21.0         & 6            & 160          & 110          & 3.90         & 2.875        & 17.02        & 0            & 1            & 4            & 4            & -0.093420365\\\\\n",
       "\tDatsun 710 & 22.8         & 4            & 108          &  93          & 3.85         & 2.320        & 18.61        & 1            & 1            & 4            & 1            &  0.401599750\\\\\n",
       "\tHornet 4 Drive & 21.4         & 6            & 258          & 110          & 3.08         & 3.215        & 19.44        & 1            & 0            & 3            & 1            & -0.118641934\\\\\n",
       "\tHornet Sportabout & 18.7         & 8            & 360          & 175          & 3.15         & 3.440        & 17.02        & 0            & 0            & 3            & 2            &  0.605069721\\\\\n",
       "\tValiant & 18.1         & 6            & 225          & 105          & 2.76         & 3.460        & 20.22        & 1            & 0            & 3            & 1            &  0.007782864\\\\\n",
       "\\end{tabular}\n"
      ],
      "text/markdown": [
       "\n",
       "| <!--/--> | mpg | cyl | disp | hp | drat | wt | qsec | vs | am | gear | carb | new_col_name | \n",
       "|---|---|---|---|---|---|\n",
       "| Mazda RX4 | 21.0         | 6            | 160          | 110          | 3.90         | 2.620        | 16.46        | 0            | 1            | 4            | 4            | -0.265054847 | \n",
       "| Mazda RX4 Wag | 21.0         | 6            | 160          | 110          | 3.90         | 2.875        | 17.02        | 0            | 1            | 4            | 4            | -0.093420365 | \n",
       "| Datsun 710 | 22.8         | 4            | 108          |  93          | 3.85         | 2.320        | 18.61        | 1            | 1            | 4            | 1            |  0.401599750 | \n",
       "| Hornet 4 Drive | 21.4         | 6            | 258          | 110          | 3.08         | 3.215        | 19.44        | 1            | 0            | 3            | 1            | -0.118641934 | \n",
       "| Hornet Sportabout | 18.7         | 8            | 360          | 175          | 3.15         | 3.440        | 17.02        | 0            | 0            | 3            | 2            |  0.605069721 | \n",
       "| Valiant | 18.1         | 6            | 225          | 105          | 2.76         | 3.460        | 20.22        | 1            | 0            | 3            | 1            |  0.007782864 | \n",
       "\n",
       "\n"
      ],
      "text/plain": [
       "                  mpg  cyl disp hp  drat wt    qsec  vs am gear carb\n",
       "Mazda RX4         21.0 6   160  110 3.90 2.620 16.46 0  1  4    4   \n",
       "Mazda RX4 Wag     21.0 6   160  110 3.90 2.875 17.02 0  1  4    4   \n",
       "Datsun 710        22.8 4   108   93 3.85 2.320 18.61 1  1  4    1   \n",
       "Hornet 4 Drive    21.4 6   258  110 3.08 3.215 19.44 1  0  3    1   \n",
       "Hornet Sportabout 18.7 8   360  175 3.15 3.440 17.02 0  0  3    2   \n",
       "Valiant           18.1 6   225  105 2.76 3.460 20.22 1  0  3    1   \n",
       "                  new_col_name\n",
       "Mazda RX4         -0.265054847\n",
       "Mazda RX4 Wag     -0.093420365\n",
       "Datsun 710         0.401599750\n",
       "Hornet 4 Drive    -0.118641934\n",
       "Hornet Sportabout  0.605069721\n",
       "Valiant            0.007782864"
      ]
     },
     "metadata": {},
     "output_type": "display_data"
    },
    {
     "data": {
      "text/html": [
       "<table>\n",
       "<thead><tr><th></th><th scope=col>mpg</th><th scope=col>cyl</th><th scope=col>disp</th><th scope=col>hp</th><th scope=col>drat</th><th scope=col>wt</th><th scope=col>qsec</th><th scope=col>vs</th><th scope=col>am</th><th scope=col>gear</th><th scope=col>carb</th></tr></thead>\n",
       "<tbody>\n",
       "\t<tr><th scope=row>Mazda RX4</th><td>21.0 </td><td>6    </td><td>160  </td><td>110  </td><td>3.90 </td><td>2.620</td><td>16.46</td><td>0    </td><td>1    </td><td>4    </td><td>4    </td></tr>\n",
       "\t<tr><th scope=row>Mazda RX4 Wag</th><td>21.0 </td><td>6    </td><td>160  </td><td>110  </td><td>3.90 </td><td>2.875</td><td>17.02</td><td>0    </td><td>1    </td><td>4    </td><td>4    </td></tr>\n",
       "\t<tr><th scope=row>Datsun 710</th><td>22.8 </td><td>4    </td><td>108  </td><td> 93  </td><td>3.85 </td><td>2.320</td><td>18.61</td><td>1    </td><td>1    </td><td>4    </td><td>1    </td></tr>\n",
       "\t<tr><th scope=row>Hornet 4 Drive</th><td>21.4 </td><td>6    </td><td>258  </td><td>110  </td><td>3.08 </td><td>3.215</td><td>19.44</td><td>1    </td><td>0    </td><td>3    </td><td>1    </td></tr>\n",
       "\t<tr><th scope=row>Hornet Sportabout</th><td>18.7 </td><td>8    </td><td>360  </td><td>175  </td><td>3.15 </td><td>3.440</td><td>17.02</td><td>0    </td><td>0    </td><td>3    </td><td>2    </td></tr>\n",
       "\t<tr><th scope=row>Valiant</th><td>18.1 </td><td>6    </td><td>225  </td><td>105  </td><td>2.76 </td><td>3.460</td><td>20.22</td><td>1    </td><td>0    </td><td>3    </td><td>1    </td></tr>\n",
       "</tbody>\n",
       "</table>\n"
      ],
      "text/latex": [
       "\\begin{tabular}{r|lllllllllll}\n",
       "  & mpg & cyl & disp & hp & drat & wt & qsec & vs & am & gear & carb\\\\\n",
       "\\hline\n",
       "\tMazda RX4 & 21.0  & 6     & 160   & 110   & 3.90  & 2.620 & 16.46 & 0     & 1     & 4     & 4    \\\\\n",
       "\tMazda RX4 Wag & 21.0  & 6     & 160   & 110   & 3.90  & 2.875 & 17.02 & 0     & 1     & 4     & 4    \\\\\n",
       "\tDatsun 710 & 22.8  & 4     & 108   &  93   & 3.85  & 2.320 & 18.61 & 1     & 1     & 4     & 1    \\\\\n",
       "\tHornet 4 Drive & 21.4  & 6     & 258   & 110   & 3.08  & 3.215 & 19.44 & 1     & 0     & 3     & 1    \\\\\n",
       "\tHornet Sportabout & 18.7  & 8     & 360   & 175   & 3.15  & 3.440 & 17.02 & 0     & 0     & 3     & 2    \\\\\n",
       "\tValiant & 18.1  & 6     & 225   & 105   & 2.76  & 3.460 & 20.22 & 1     & 0     & 3     & 1    \\\\\n",
       "\\end{tabular}\n"
      ],
      "text/markdown": [
       "\n",
       "| <!--/--> | mpg | cyl | disp | hp | drat | wt | qsec | vs | am | gear | carb | \n",
       "|---|---|---|---|---|---|\n",
       "| Mazda RX4 | 21.0  | 6     | 160   | 110   | 3.90  | 2.620 | 16.46 | 0     | 1     | 4     | 4     | \n",
       "| Mazda RX4 Wag | 21.0  | 6     | 160   | 110   | 3.90  | 2.875 | 17.02 | 0     | 1     | 4     | 4     | \n",
       "| Datsun 710 | 22.8  | 4     | 108   |  93   | 3.85  | 2.320 | 18.61 | 1     | 1     | 4     | 1     | \n",
       "| Hornet 4 Drive | 21.4  | 6     | 258   | 110   | 3.08  | 3.215 | 19.44 | 1     | 0     | 3     | 1     | \n",
       "| Hornet Sportabout | 18.7  | 8     | 360   | 175   | 3.15  | 3.440 | 17.02 | 0     | 0     | 3     | 2     | \n",
       "| Valiant | 18.1  | 6     | 225   | 105   | 2.76  | 3.460 | 20.22 | 1     | 0     | 3     | 1     | \n",
       "\n",
       "\n"
      ],
      "text/plain": [
       "                  mpg  cyl disp hp  drat wt    qsec  vs am gear carb\n",
       "Mazda RX4         21.0 6   160  110 3.90 2.620 16.46 0  1  4    4   \n",
       "Mazda RX4 Wag     21.0 6   160  110 3.90 2.875 17.02 0  1  4    4   \n",
       "Datsun 710        22.8 4   108   93 3.85 2.320 18.61 1  1  4    1   \n",
       "Hornet 4 Drive    21.4 6   258  110 3.08 3.215 19.44 1  0  3    1   \n",
       "Hornet Sportabout 18.7 8   360  175 3.15 3.440 17.02 0  0  3    2   \n",
       "Valiant           18.1 6   225  105 2.76 3.460 20.22 1  0  3    1   "
      ]
     },
     "metadata": {},
     "output_type": "display_data"
    }
   ],
   "source": [
    "head(mtcars)\n",
    "mtcars$new_col_name <- rnorm(nrow(mtcars))\n",
    "head(mtcars)\n",
    "mtcars$new_col_name <- NULL\n",
    "head(mtcars)"
   ]
  },
  {
   "cell_type": "markdown",
   "metadata": {
    "collapsed": true
   },
   "source": [
    "## Dropping a Column in a Data Frame (slicing)"
   ]
  },
  {
   "cell_type": "code",
   "execution_count": 101,
   "metadata": {},
   "outputs": [
    {
     "data": {
      "text/html": [
       "<table>\n",
       "<thead><tr><th></th><th scope=col>mpg</th><th scope=col>cyl</th><th scope=col>disp</th><th scope=col>hp</th><th scope=col>drat</th><th scope=col>wt</th><th scope=col>qsec</th><th scope=col>vs</th><th scope=col>am</th><th scope=col>gear</th><th scope=col>carb</th></tr></thead>\n",
       "<tbody>\n",
       "\t<tr><th scope=row>Mazda RX4</th><td>21.0 </td><td>6    </td><td>160  </td><td>110  </td><td>3.90 </td><td>2.62 </td><td>16.46</td><td>0    </td><td>1    </td><td>4    </td><td>4    </td></tr>\n",
       "\t<tr><th scope=row>Datsun 710</th><td>22.8 </td><td>4    </td><td>108  </td><td> 93  </td><td>3.85 </td><td>2.32 </td><td>18.61</td><td>1    </td><td>1    </td><td>4    </td><td>1    </td></tr>\n",
       "</tbody>\n",
       "</table>\n"
      ],
      "text/latex": [
       "\\begin{tabular}{r|lllllllllll}\n",
       "  & mpg & cyl & disp & hp & drat & wt & qsec & vs & am & gear & carb\\\\\n",
       "\\hline\n",
       "\tMazda RX4 & 21.0  & 6     & 160   & 110   & 3.90  & 2.62  & 16.46 & 0     & 1     & 4     & 4    \\\\\n",
       "\tDatsun 710 & 22.8  & 4     & 108   &  93   & 3.85  & 2.32  & 18.61 & 1     & 1     & 4     & 1    \\\\\n",
       "\\end{tabular}\n"
      ],
      "text/markdown": [
       "\n",
       "| <!--/--> | mpg | cyl | disp | hp | drat | wt | qsec | vs | am | gear | carb | \n",
       "|---|---|\n",
       "| Mazda RX4 | 21.0  | 6     | 160   | 110   | 3.90  | 2.62  | 16.46 | 0     | 1     | 4     | 4     | \n",
       "| Datsun 710 | 22.8  | 4     | 108   |  93   | 3.85  | 2.32  | 18.61 | 1     | 1     | 4     | 1     | \n",
       "\n",
       "\n"
      ],
      "text/plain": [
       "           mpg  cyl disp hp  drat wt   qsec  vs am gear carb\n",
       "Mazda RX4  21.0 6   160  110 3.90 2.62 16.46 0  1  4    4   \n",
       "Datsun 710 22.8 4   108   93 3.85 2.32 18.61 1  1  4    1   "
      ]
     },
     "metadata": {},
     "output_type": "display_data"
    },
    {
     "data": {
      "text/html": [
       "<table>\n",
       "<thead><tr><th></th><th scope=col>mpg</th><th scope=col>disp</th></tr></thead>\n",
       "<tbody>\n",
       "\t<tr><th scope=row>Mazda RX4</th><td>21.0 </td><td>160.0</td></tr>\n",
       "\t<tr><th scope=row>Mazda RX4 Wag</th><td>21.0 </td><td>160.0</td></tr>\n",
       "\t<tr><th scope=row>Datsun 710</th><td>22.8 </td><td>108.0</td></tr>\n",
       "\t<tr><th scope=row>Hornet 4 Drive</th><td>21.4 </td><td>258.0</td></tr>\n",
       "\t<tr><th scope=row>Hornet Sportabout</th><td>18.7 </td><td>360.0</td></tr>\n",
       "\t<tr><th scope=row>Valiant</th><td>18.1 </td><td>225.0</td></tr>\n",
       "\t<tr><th scope=row>Duster 360</th><td>14.3 </td><td>360.0</td></tr>\n",
       "\t<tr><th scope=row>Merc 240D</th><td>24.4 </td><td>146.7</td></tr>\n",
       "\t<tr><th scope=row>Merc 230</th><td>22.8 </td><td>140.8</td></tr>\n",
       "\t<tr><th scope=row>Merc 280</th><td>19.2 </td><td>167.6</td></tr>\n",
       "\t<tr><th scope=row>Merc 280C</th><td>17.8 </td><td>167.6</td></tr>\n",
       "\t<tr><th scope=row>Merc 450SE</th><td>16.4 </td><td>275.8</td></tr>\n",
       "\t<tr><th scope=row>Merc 450SL</th><td>17.3 </td><td>275.8</td></tr>\n",
       "\t<tr><th scope=row>Merc 450SLC</th><td>15.2 </td><td>275.8</td></tr>\n",
       "\t<tr><th scope=row>Cadillac Fleetwood</th><td>10.4 </td><td>472.0</td></tr>\n",
       "\t<tr><th scope=row>Lincoln Continental</th><td>10.4 </td><td>460.0</td></tr>\n",
       "\t<tr><th scope=row>Chrysler Imperial</th><td>14.7 </td><td>440.0</td></tr>\n",
       "\t<tr><th scope=row>Fiat 128</th><td>32.4 </td><td> 78.7</td></tr>\n",
       "\t<tr><th scope=row>Honda Civic</th><td>30.4 </td><td> 75.7</td></tr>\n",
       "\t<tr><th scope=row>Toyota Corolla</th><td>33.9 </td><td> 71.1</td></tr>\n",
       "\t<tr><th scope=row>Toyota Corona</th><td>21.5 </td><td>120.1</td></tr>\n",
       "\t<tr><th scope=row>Dodge Challenger</th><td>15.5 </td><td>318.0</td></tr>\n",
       "\t<tr><th scope=row>AMC Javelin</th><td>15.2 </td><td>304.0</td></tr>\n",
       "\t<tr><th scope=row>Camaro Z28</th><td>13.3 </td><td>350.0</td></tr>\n",
       "\t<tr><th scope=row>Pontiac Firebird</th><td>19.2 </td><td>400.0</td></tr>\n",
       "\t<tr><th scope=row>Fiat X1-9</th><td>27.3 </td><td> 79.0</td></tr>\n",
       "\t<tr><th scope=row>Porsche 914-2</th><td>26.0 </td><td>120.3</td></tr>\n",
       "\t<tr><th scope=row>Lotus Europa</th><td>30.4 </td><td> 95.1</td></tr>\n",
       "\t<tr><th scope=row>Ford Pantera L</th><td>15.8 </td><td>351.0</td></tr>\n",
       "\t<tr><th scope=row>Ferrari Dino</th><td>19.7 </td><td>145.0</td></tr>\n",
       "\t<tr><th scope=row>Maserati Bora</th><td>15.0 </td><td>301.0</td></tr>\n",
       "\t<tr><th scope=row>Volvo 142E</th><td>21.4 </td><td>121.0</td></tr>\n",
       "</tbody>\n",
       "</table>\n"
      ],
      "text/latex": [
       "\\begin{tabular}{r|ll}\n",
       "  & mpg & disp\\\\\n",
       "\\hline\n",
       "\tMazda RX4 & 21.0  & 160.0\\\\\n",
       "\tMazda RX4 Wag & 21.0  & 160.0\\\\\n",
       "\tDatsun 710 & 22.8  & 108.0\\\\\n",
       "\tHornet 4 Drive & 21.4  & 258.0\\\\\n",
       "\tHornet Sportabout & 18.7  & 360.0\\\\\n",
       "\tValiant & 18.1  & 225.0\\\\\n",
       "\tDuster 360 & 14.3  & 360.0\\\\\n",
       "\tMerc 240D & 24.4  & 146.7\\\\\n",
       "\tMerc 230 & 22.8  & 140.8\\\\\n",
       "\tMerc 280 & 19.2  & 167.6\\\\\n",
       "\tMerc 280C & 17.8  & 167.6\\\\\n",
       "\tMerc 450SE & 16.4  & 275.8\\\\\n",
       "\tMerc 450SL & 17.3  & 275.8\\\\\n",
       "\tMerc 450SLC & 15.2  & 275.8\\\\\n",
       "\tCadillac Fleetwood & 10.4  & 472.0\\\\\n",
       "\tLincoln Continental & 10.4  & 460.0\\\\\n",
       "\tChrysler Imperial & 14.7  & 440.0\\\\\n",
       "\tFiat 128 & 32.4  &  78.7\\\\\n",
       "\tHonda Civic & 30.4  &  75.7\\\\\n",
       "\tToyota Corolla & 33.9  &  71.1\\\\\n",
       "\tToyota Corona & 21.5  & 120.1\\\\\n",
       "\tDodge Challenger & 15.5  & 318.0\\\\\n",
       "\tAMC Javelin & 15.2  & 304.0\\\\\n",
       "\tCamaro Z28 & 13.3  & 350.0\\\\\n",
       "\tPontiac Firebird & 19.2  & 400.0\\\\\n",
       "\tFiat X1-9 & 27.3  &  79.0\\\\\n",
       "\tPorsche 914-2 & 26.0  & 120.3\\\\\n",
       "\tLotus Europa & 30.4  &  95.1\\\\\n",
       "\tFord Pantera L & 15.8  & 351.0\\\\\n",
       "\tFerrari Dino & 19.7  & 145.0\\\\\n",
       "\tMaserati Bora & 15.0  & 301.0\\\\\n",
       "\tVolvo 142E & 21.4  & 121.0\\\\\n",
       "\\end{tabular}\n"
      ],
      "text/markdown": [
       "\n",
       "| <!--/--> | mpg | disp | \n",
       "|---|---|---|---|---|---|---|---|---|---|---|---|---|---|---|---|---|---|---|---|---|---|---|---|---|---|---|---|---|---|---|---|\n",
       "| Mazda RX4 | 21.0  | 160.0 | \n",
       "| Mazda RX4 Wag | 21.0  | 160.0 | \n",
       "| Datsun 710 | 22.8  | 108.0 | \n",
       "| Hornet 4 Drive | 21.4  | 258.0 | \n",
       "| Hornet Sportabout | 18.7  | 360.0 | \n",
       "| Valiant | 18.1  | 225.0 | \n",
       "| Duster 360 | 14.3  | 360.0 | \n",
       "| Merc 240D | 24.4  | 146.7 | \n",
       "| Merc 230 | 22.8  | 140.8 | \n",
       "| Merc 280 | 19.2  | 167.6 | \n",
       "| Merc 280C | 17.8  | 167.6 | \n",
       "| Merc 450SE | 16.4  | 275.8 | \n",
       "| Merc 450SL | 17.3  | 275.8 | \n",
       "| Merc 450SLC | 15.2  | 275.8 | \n",
       "| Cadillac Fleetwood | 10.4  | 472.0 | \n",
       "| Lincoln Continental | 10.4  | 460.0 | \n",
       "| Chrysler Imperial | 14.7  | 440.0 | \n",
       "| Fiat 128 | 32.4  |  78.7 | \n",
       "| Honda Civic | 30.4  |  75.7 | \n",
       "| Toyota Corolla | 33.9  |  71.1 | \n",
       "| Toyota Corona | 21.5  | 120.1 | \n",
       "| Dodge Challenger | 15.5  | 318.0 | \n",
       "| AMC Javelin | 15.2  | 304.0 | \n",
       "| Camaro Z28 | 13.3  | 350.0 | \n",
       "| Pontiac Firebird | 19.2  | 400.0 | \n",
       "| Fiat X1-9 | 27.3  |  79.0 | \n",
       "| Porsche 914-2 | 26.0  | 120.3 | \n",
       "| Lotus Europa | 30.4  |  95.1 | \n",
       "| Ford Pantera L | 15.8  | 351.0 | \n",
       "| Ferrari Dino | 19.7  | 145.0 | \n",
       "| Maserati Bora | 15.0  | 301.0 | \n",
       "| Volvo 142E | 21.4  | 121.0 | \n",
       "\n",
       "\n"
      ],
      "text/plain": [
       "                    mpg  disp \n",
       "Mazda RX4           21.0 160.0\n",
       "Mazda RX4 Wag       21.0 160.0\n",
       "Datsun 710          22.8 108.0\n",
       "Hornet 4 Drive      21.4 258.0\n",
       "Hornet Sportabout   18.7 360.0\n",
       "Valiant             18.1 225.0\n",
       "Duster 360          14.3 360.0\n",
       "Merc 240D           24.4 146.7\n",
       "Merc 230            22.8 140.8\n",
       "Merc 280            19.2 167.6\n",
       "Merc 280C           17.8 167.6\n",
       "Merc 450SE          16.4 275.8\n",
       "Merc 450SL          17.3 275.8\n",
       "Merc 450SLC         15.2 275.8\n",
       "Cadillac Fleetwood  10.4 472.0\n",
       "Lincoln Continental 10.4 460.0\n",
       "Chrysler Imperial   14.7 440.0\n",
       "Fiat 128            32.4  78.7\n",
       "Honda Civic         30.4  75.7\n",
       "Toyota Corolla      33.9  71.1\n",
       "Toyota Corona       21.5 120.1\n",
       "Dodge Challenger    15.5 318.0\n",
       "AMC Javelin         15.2 304.0\n",
       "Camaro Z28          13.3 350.0\n",
       "Pontiac Firebird    19.2 400.0\n",
       "Fiat X1-9           27.3  79.0\n",
       "Porsche 914-2       26.0 120.3\n",
       "Lotus Europa        30.4  95.1\n",
       "Ford Pantera L      15.8 351.0\n",
       "Ferrari Dino        19.7 145.0\n",
       "Maserati Bora       15.0 301.0\n",
       "Volvo 142E          21.4 121.0"
      ]
     },
     "metadata": {},
     "output_type": "display_data"
    }
   ],
   "source": [
    "mtcars[c(1,3),] # selecting 1st and 3rd rows in data frame\n",
    "mtcars[, c(1,3)] # selecting 1st and 3rd columns in data frame"
   ]
  },
  {
   "cell_type": "markdown",
   "metadata": {},
   "source": [
    "## The attach() and detach() Functions"
   ]
  },
  {
   "cell_type": "code",
   "execution_count": 102,
   "metadata": {},
   "outputs": [
    {
     "data": {
      "text/html": [
       "<ol class=list-inline>\n",
       "\t<li>21</li>\n",
       "\t<li>21</li>\n",
       "\t<li>22.8</li>\n",
       "\t<li>21.4</li>\n",
       "\t<li>18.7</li>\n",
       "\t<li>18.1</li>\n",
       "\t<li>14.3</li>\n",
       "\t<li>24.4</li>\n",
       "\t<li>22.8</li>\n",
       "\t<li>19.2</li>\n",
       "\t<li>17.8</li>\n",
       "\t<li>16.4</li>\n",
       "\t<li>17.3</li>\n",
       "\t<li>15.2</li>\n",
       "\t<li>10.4</li>\n",
       "\t<li>10.4</li>\n",
       "\t<li>14.7</li>\n",
       "\t<li>32.4</li>\n",
       "\t<li>30.4</li>\n",
       "\t<li>33.9</li>\n",
       "\t<li>21.5</li>\n",
       "\t<li>15.5</li>\n",
       "\t<li>15.2</li>\n",
       "\t<li>13.3</li>\n",
       "\t<li>19.2</li>\n",
       "\t<li>27.3</li>\n",
       "\t<li>26</li>\n",
       "\t<li>30.4</li>\n",
       "\t<li>15.8</li>\n",
       "\t<li>19.7</li>\n",
       "\t<li>15</li>\n",
       "\t<li>21.4</li>\n",
       "</ol>\n"
      ],
      "text/latex": [
       "\\begin{enumerate*}\n",
       "\\item 21\n",
       "\\item 21\n",
       "\\item 22.8\n",
       "\\item 21.4\n",
       "\\item 18.7\n",
       "\\item 18.1\n",
       "\\item 14.3\n",
       "\\item 24.4\n",
       "\\item 22.8\n",
       "\\item 19.2\n",
       "\\item 17.8\n",
       "\\item 16.4\n",
       "\\item 17.3\n",
       "\\item 15.2\n",
       "\\item 10.4\n",
       "\\item 10.4\n",
       "\\item 14.7\n",
       "\\item 32.4\n",
       "\\item 30.4\n",
       "\\item 33.9\n",
       "\\item 21.5\n",
       "\\item 15.5\n",
       "\\item 15.2\n",
       "\\item 13.3\n",
       "\\item 19.2\n",
       "\\item 27.3\n",
       "\\item 26\n",
       "\\item 30.4\n",
       "\\item 15.8\n",
       "\\item 19.7\n",
       "\\item 15\n",
       "\\item 21.4\n",
       "\\end{enumerate*}\n"
      ],
      "text/markdown": [
       "1. 21\n",
       "2. 21\n",
       "3. 22.8\n",
       "4. 21.4\n",
       "5. 18.7\n",
       "6. 18.1\n",
       "7. 14.3\n",
       "8. 24.4\n",
       "9. 22.8\n",
       "10. 19.2\n",
       "11. 17.8\n",
       "12. 16.4\n",
       "13. 17.3\n",
       "14. 15.2\n",
       "15. 10.4\n",
       "16. 10.4\n",
       "17. 14.7\n",
       "18. 32.4\n",
       "19. 30.4\n",
       "20. 33.9\n",
       "21. 21.5\n",
       "22. 15.5\n",
       "23. 15.2\n",
       "24. 13.3\n",
       "25. 19.2\n",
       "26. 27.3\n",
       "27. 26\n",
       "28. 30.4\n",
       "29. 15.8\n",
       "30. 19.7\n",
       "31. 15\n",
       "32. 21.4\n",
       "\n",
       "\n"
      ],
      "text/plain": [
       " [1] 21.0 21.0 22.8 21.4 18.7 18.1 14.3 24.4 22.8 19.2 17.8 16.4 17.3 15.2 10.4\n",
       "[16] 10.4 14.7 32.4 30.4 33.9 21.5 15.5 15.2 13.3 19.2 27.3 26.0 30.4 15.8 19.7\n",
       "[31] 15.0 21.4"
      ]
     },
     "metadata": {},
     "output_type": "display_data"
    },
    {
     "name": "stderr",
     "output_type": "stream",
     "text": [
      "The following objects are masked _by_ .GlobalEnv:\n",
      "\n",
      "    hp, mpg, wt\n",
      "\n"
     ]
    },
    {
     "data": {
      "text/html": [
       "<ol class=list-inline>\n",
       "\t<li>21</li>\n",
       "\t<li>21</li>\n",
       "\t<li>22.8</li>\n",
       "\t<li>21.4</li>\n",
       "\t<li>18.7</li>\n",
       "\t<li>18.1</li>\n",
       "\t<li>14.3</li>\n",
       "\t<li>24.4</li>\n",
       "\t<li>22.8</li>\n",
       "\t<li>19.2</li>\n",
       "\t<li>17.8</li>\n",
       "\t<li>16.4</li>\n",
       "\t<li>17.3</li>\n",
       "\t<li>15.2</li>\n",
       "\t<li>10.4</li>\n",
       "\t<li>10.4</li>\n",
       "\t<li>14.7</li>\n",
       "\t<li>32.4</li>\n",
       "\t<li>30.4</li>\n",
       "\t<li>33.9</li>\n",
       "\t<li>21.5</li>\n",
       "\t<li>15.5</li>\n",
       "\t<li>15.2</li>\n",
       "\t<li>13.3</li>\n",
       "\t<li>19.2</li>\n",
       "\t<li>27.3</li>\n",
       "\t<li>26</li>\n",
       "\t<li>30.4</li>\n",
       "\t<li>15.8</li>\n",
       "\t<li>19.7</li>\n",
       "\t<li>15</li>\n",
       "\t<li>21.4</li>\n",
       "</ol>\n"
      ],
      "text/latex": [
       "\\begin{enumerate*}\n",
       "\\item 21\n",
       "\\item 21\n",
       "\\item 22.8\n",
       "\\item 21.4\n",
       "\\item 18.7\n",
       "\\item 18.1\n",
       "\\item 14.3\n",
       "\\item 24.4\n",
       "\\item 22.8\n",
       "\\item 19.2\n",
       "\\item 17.8\n",
       "\\item 16.4\n",
       "\\item 17.3\n",
       "\\item 15.2\n",
       "\\item 10.4\n",
       "\\item 10.4\n",
       "\\item 14.7\n",
       "\\item 32.4\n",
       "\\item 30.4\n",
       "\\item 33.9\n",
       "\\item 21.5\n",
       "\\item 15.5\n",
       "\\item 15.2\n",
       "\\item 13.3\n",
       "\\item 19.2\n",
       "\\item 27.3\n",
       "\\item 26\n",
       "\\item 30.4\n",
       "\\item 15.8\n",
       "\\item 19.7\n",
       "\\item 15\n",
       "\\item 21.4\n",
       "\\end{enumerate*}\n"
      ],
      "text/markdown": [
       "1. 21\n",
       "2. 21\n",
       "3. 22.8\n",
       "4. 21.4\n",
       "5. 18.7\n",
       "6. 18.1\n",
       "7. 14.3\n",
       "8. 24.4\n",
       "9. 22.8\n",
       "10. 19.2\n",
       "11. 17.8\n",
       "12. 16.4\n",
       "13. 17.3\n",
       "14. 15.2\n",
       "15. 10.4\n",
       "16. 10.4\n",
       "17. 14.7\n",
       "18. 32.4\n",
       "19. 30.4\n",
       "20. 33.9\n",
       "21. 21.5\n",
       "22. 15.5\n",
       "23. 15.2\n",
       "24. 13.3\n",
       "25. 19.2\n",
       "26. 27.3\n",
       "27. 26\n",
       "28. 30.4\n",
       "29. 15.8\n",
       "30. 19.7\n",
       "31. 15\n",
       "32. 21.4\n",
       "\n",
       "\n"
      ],
      "text/plain": [
       " [1] 21.0 21.0 22.8 21.4 18.7 18.1 14.3 24.4 22.8 19.2 17.8 16.4 17.3 15.2 10.4\n",
       "[16] 10.4 14.7 32.4 30.4 33.9 21.5 15.5 15.2 13.3 19.2 27.3 26.0 30.4 15.8 19.7\n",
       "[31] 15.0 21.4"
      ]
     },
     "metadata": {},
     "output_type": "display_data"
    }
   ],
   "source": [
    "#mpg            # uncomment to see object 'mpg' not found error\n",
    "mtcars$mpg\n",
    "attach(mtcars)\n",
    "mpg\n",
    "detach(mtcars)\n",
    "#mpg            # uncomment to see object 'mpg' not found error"
   ]
  },
  {
   "cell_type": "markdown",
   "metadata": {
    "collapsed": true
   },
   "source": [
    "## Sampling"
   ]
  },
  {
   "cell_type": "code",
   "execution_count": 103,
   "metadata": {},
   "outputs": [
    {
     "data": {
      "text/html": [
       "<ol class=list-inline>\n",
       "\t<li>5</li>\n",
       "\t<li>8</li>\n",
       "\t<li>3</li>\n",
       "\t<li>9</li>\n",
       "\t<li>2</li>\n",
       "\t<li>8</li>\n",
       "\t<li>3</li>\n",
       "</ol>\n"
      ],
      "text/latex": [
       "\\begin{enumerate*}\n",
       "\\item 5\n",
       "\\item 8\n",
       "\\item 3\n",
       "\\item 9\n",
       "\\item 2\n",
       "\\item 8\n",
       "\\item 3\n",
       "\\end{enumerate*}\n"
      ],
      "text/markdown": [
       "1. 5\n",
       "2. 8\n",
       "3. 3\n",
       "4. 9\n",
       "5. 2\n",
       "6. 8\n",
       "7. 3\n",
       "\n",
       "\n"
      ],
      "text/plain": [
       "[1] 5 8 3 9 2 8 3"
      ]
     },
     "metadata": {},
     "output_type": "display_data"
    },
    {
     "data": {
      "text/html": [
       "<ol class=list-inline>\n",
       "\t<li>8</li>\n",
       "\t<li>7</li>\n",
       "\t<li>6</li>\n",
       "\t<li>4</li>\n",
       "\t<li>9</li>\n",
       "\t<li>10</li>\n",
       "\t<li>5</li>\n",
       "</ol>\n"
      ],
      "text/latex": [
       "\\begin{enumerate*}\n",
       "\\item 8\n",
       "\\item 7\n",
       "\\item 6\n",
       "\\item 4\n",
       "\\item 9\n",
       "\\item 10\n",
       "\\item 5\n",
       "\\end{enumerate*}\n"
      ],
      "text/markdown": [
       "1. 8\n",
       "2. 7\n",
       "3. 6\n",
       "4. 4\n",
       "5. 9\n",
       "6. 10\n",
       "7. 5\n",
       "\n",
       "\n"
      ],
      "text/plain": [
       "[1]  8  7  6  4  9 10  5"
      ]
     },
     "metadata": {},
     "output_type": "display_data"
    }
   ],
   "source": [
    "data <- c(1:10)\n",
    "sample(data, 7, replace = TRUE)  # allow duplicates\n",
    "sample(data, 7, replace = FALSE) # prevent duplicates"
   ]
  },
  {
   "cell_type": "markdown",
   "metadata": {},
   "source": [
    "## Using sample() for Generating Labels\n",
    "\n",
    "- LETTERS is a built-in constant containing uppercase letters\n",
    "- letters is a built-in constant containing lowercase letters\n",
    "- month.name is a built-in constant containing month names\n",
    "- pi is a built-in constant for 3.14159265358979"
   ]
  },
  {
   "cell_type": "code",
   "execution_count": 104,
   "metadata": {},
   "outputs": [
    {
     "data": {
      "text/html": [
       "<ol class=list-inline>\n",
       "\t<li>'Center B'</li>\n",
       "\t<li>'Center D'</li>\n",
       "\t<li>'Center D'</li>\n",
       "\t<li>'Center A'</li>\n",
       "\t<li>'Center A'</li>\n",
       "\t<li>'Center D'</li>\n",
       "\t<li>'Center A'</li>\n",
       "\t<li>'Center B'</li>\n",
       "\t<li>'Center C'</li>\n",
       "\t<li>'Center C'</li>\n",
       "</ol>\n"
      ],
      "text/latex": [
       "\\begin{enumerate*}\n",
       "\\item 'Center B'\n",
       "\\item 'Center D'\n",
       "\\item 'Center D'\n",
       "\\item 'Center A'\n",
       "\\item 'Center A'\n",
       "\\item 'Center D'\n",
       "\\item 'Center A'\n",
       "\\item 'Center B'\n",
       "\\item 'Center C'\n",
       "\\item 'Center C'\n",
       "\\end{enumerate*}\n"
      ],
      "text/markdown": [
       "1. 'Center B'\n",
       "2. 'Center D'\n",
       "3. 'Center D'\n",
       "4. 'Center A'\n",
       "5. 'Center A'\n",
       "6. 'Center D'\n",
       "7. 'Center A'\n",
       "8. 'Center B'\n",
       "9. 'Center C'\n",
       "10. 'Center C'\n",
       "\n",
       "\n"
      ],
      "text/plain": [
       " [1] \"Center B\" \"Center D\" \"Center D\" \"Center A\" \"Center A\" \"Center D\"\n",
       " [7] \"Center A\" \"Center B\" \"Center C\" \"Center C\""
      ]
     },
     "metadata": {},
     "output_type": "display_data"
    },
    {
     "data": {
      "text/html": [
       "<ol class=list-inline>\n",
       "\t<li>'Center a'</li>\n",
       "\t<li>'Center c'</li>\n",
       "\t<li>'Center d'</li>\n",
       "\t<li>'Center c'</li>\n",
       "\t<li>'Center b'</li>\n",
       "\t<li>'Center a'</li>\n",
       "\t<li>'Center c'</li>\n",
       "\t<li>'Center a'</li>\n",
       "\t<li>'Center c'</li>\n",
       "\t<li>'Center c'</li>\n",
       "</ol>\n"
      ],
      "text/latex": [
       "\\begin{enumerate*}\n",
       "\\item 'Center a'\n",
       "\\item 'Center c'\n",
       "\\item 'Center d'\n",
       "\\item 'Center c'\n",
       "\\item 'Center b'\n",
       "\\item 'Center a'\n",
       "\\item 'Center c'\n",
       "\\item 'Center a'\n",
       "\\item 'Center c'\n",
       "\\item 'Center c'\n",
       "\\end{enumerate*}\n"
      ],
      "text/markdown": [
       "1. 'Center a'\n",
       "2. 'Center c'\n",
       "3. 'Center d'\n",
       "4. 'Center c'\n",
       "5. 'Center b'\n",
       "6. 'Center a'\n",
       "7. 'Center c'\n",
       "8. 'Center a'\n",
       "9. 'Center c'\n",
       "10. 'Center c'\n",
       "\n",
       "\n"
      ],
      "text/plain": [
       " [1] \"Center a\" \"Center c\" \"Center d\" \"Center c\" \"Center b\" \"Center a\"\n",
       " [7] \"Center c\" \"Center a\" \"Center c\" \"Center c\""
      ]
     },
     "metadata": {},
     "output_type": "display_data"
    },
    {
     "data": {
      "text/html": [
       "<ol class=list-inline>\n",
       "\t<li>'A'</li>\n",
       "\t<li>'B'</li>\n",
       "\t<li>'C'</li>\n",
       "\t<li>'D'</li>\n",
       "\t<li>'E'</li>\n",
       "\t<li>'F'</li>\n",
       "\t<li>'G'</li>\n",
       "\t<li>'H'</li>\n",
       "\t<li>'I'</li>\n",
       "\t<li>'J'</li>\n",
       "\t<li>'K'</li>\n",
       "\t<li>'L'</li>\n",
       "\t<li>'M'</li>\n",
       "\t<li>'N'</li>\n",
       "\t<li>'O'</li>\n",
       "\t<li>'P'</li>\n",
       "\t<li>'Q'</li>\n",
       "\t<li>'R'</li>\n",
       "\t<li>'S'</li>\n",
       "\t<li>'T'</li>\n",
       "\t<li>'U'</li>\n",
       "\t<li>'V'</li>\n",
       "\t<li>'W'</li>\n",
       "\t<li>'X'</li>\n",
       "\t<li>'Y'</li>\n",
       "\t<li>'Z'</li>\n",
       "</ol>\n"
      ],
      "text/latex": [
       "\\begin{enumerate*}\n",
       "\\item 'A'\n",
       "\\item 'B'\n",
       "\\item 'C'\n",
       "\\item 'D'\n",
       "\\item 'E'\n",
       "\\item 'F'\n",
       "\\item 'G'\n",
       "\\item 'H'\n",
       "\\item 'I'\n",
       "\\item 'J'\n",
       "\\item 'K'\n",
       "\\item 'L'\n",
       "\\item 'M'\n",
       "\\item 'N'\n",
       "\\item 'O'\n",
       "\\item 'P'\n",
       "\\item 'Q'\n",
       "\\item 'R'\n",
       "\\item 'S'\n",
       "\\item 'T'\n",
       "\\item 'U'\n",
       "\\item 'V'\n",
       "\\item 'W'\n",
       "\\item 'X'\n",
       "\\item 'Y'\n",
       "\\item 'Z'\n",
       "\\end{enumerate*}\n"
      ],
      "text/markdown": [
       "1. 'A'\n",
       "2. 'B'\n",
       "3. 'C'\n",
       "4. 'D'\n",
       "5. 'E'\n",
       "6. 'F'\n",
       "7. 'G'\n",
       "8. 'H'\n",
       "9. 'I'\n",
       "10. 'J'\n",
       "11. 'K'\n",
       "12. 'L'\n",
       "13. 'M'\n",
       "14. 'N'\n",
       "15. 'O'\n",
       "16. 'P'\n",
       "17. 'Q'\n",
       "18. 'R'\n",
       "19. 'S'\n",
       "20. 'T'\n",
       "21. 'U'\n",
       "22. 'V'\n",
       "23. 'W'\n",
       "24. 'X'\n",
       "25. 'Y'\n",
       "26. 'Z'\n",
       "\n",
       "\n"
      ],
      "text/plain": [
       " [1] \"A\" \"B\" \"C\" \"D\" \"E\" \"F\" \"G\" \"H\" \"I\" \"J\" \"K\" \"L\" \"M\" \"N\" \"O\" \"P\" \"Q\" \"R\" \"S\"\n",
       "[20] \"T\" \"U\" \"V\" \"W\" \"X\" \"Y\" \"Z\""
      ]
     },
     "metadata": {},
     "output_type": "display_data"
    },
    {
     "data": {
      "text/html": [
       "<ol class=list-inline>\n",
       "\t<li>'a'</li>\n",
       "\t<li>'b'</li>\n",
       "\t<li>'c'</li>\n",
       "\t<li>'d'</li>\n",
       "\t<li>'e'</li>\n",
       "\t<li>'f'</li>\n",
       "\t<li>'g'</li>\n",
       "\t<li>'h'</li>\n",
       "\t<li>'i'</li>\n",
       "\t<li>'j'</li>\n",
       "\t<li>'k'</li>\n",
       "\t<li>'l'</li>\n",
       "\t<li>'m'</li>\n",
       "\t<li>'n'</li>\n",
       "\t<li>'o'</li>\n",
       "\t<li>'p'</li>\n",
       "\t<li>'q'</li>\n",
       "\t<li>'r'</li>\n",
       "\t<li>'s'</li>\n",
       "\t<li>'t'</li>\n",
       "\t<li>'u'</li>\n",
       "\t<li>'v'</li>\n",
       "\t<li>'w'</li>\n",
       "\t<li>'x'</li>\n",
       "\t<li>'y'</li>\n",
       "\t<li>'z'</li>\n",
       "</ol>\n"
      ],
      "text/latex": [
       "\\begin{enumerate*}\n",
       "\\item 'a'\n",
       "\\item 'b'\n",
       "\\item 'c'\n",
       "\\item 'd'\n",
       "\\item 'e'\n",
       "\\item 'f'\n",
       "\\item 'g'\n",
       "\\item 'h'\n",
       "\\item 'i'\n",
       "\\item 'j'\n",
       "\\item 'k'\n",
       "\\item 'l'\n",
       "\\item 'm'\n",
       "\\item 'n'\n",
       "\\item 'o'\n",
       "\\item 'p'\n",
       "\\item 'q'\n",
       "\\item 'r'\n",
       "\\item 's'\n",
       "\\item 't'\n",
       "\\item 'u'\n",
       "\\item 'v'\n",
       "\\item 'w'\n",
       "\\item 'x'\n",
       "\\item 'y'\n",
       "\\item 'z'\n",
       "\\end{enumerate*}\n"
      ],
      "text/markdown": [
       "1. 'a'\n",
       "2. 'b'\n",
       "3. 'c'\n",
       "4. 'd'\n",
       "5. 'e'\n",
       "6. 'f'\n",
       "7. 'g'\n",
       "8. 'h'\n",
       "9. 'i'\n",
       "10. 'j'\n",
       "11. 'k'\n",
       "12. 'l'\n",
       "13. 'm'\n",
       "14. 'n'\n",
       "15. 'o'\n",
       "16. 'p'\n",
       "17. 'q'\n",
       "18. 'r'\n",
       "19. 's'\n",
       "20. 't'\n",
       "21. 'u'\n",
       "22. 'v'\n",
       "23. 'w'\n",
       "24. 'x'\n",
       "25. 'y'\n",
       "26. 'z'\n",
       "\n",
       "\n"
      ],
      "text/plain": [
       " [1] \"a\" \"b\" \"c\" \"d\" \"e\" \"f\" \"g\" \"h\" \"i\" \"j\" \"k\" \"l\" \"m\" \"n\" \"o\" \"p\" \"q\" \"r\" \"s\"\n",
       "[20] \"t\" \"u\" \"v\" \"w\" \"x\" \"y\" \"z\""
      ]
     },
     "metadata": {},
     "output_type": "display_data"
    },
    {
     "data": {
      "text/html": [
       "<ol class=list-inline>\n",
       "\t<li>'January'</li>\n",
       "\t<li>'February'</li>\n",
       "\t<li>'March'</li>\n",
       "\t<li>'April'</li>\n",
       "\t<li>'May'</li>\n",
       "\t<li>'June'</li>\n",
       "\t<li>'July'</li>\n",
       "\t<li>'August'</li>\n",
       "\t<li>'September'</li>\n",
       "\t<li>'October'</li>\n",
       "\t<li>'November'</li>\n",
       "\t<li>'December'</li>\n",
       "</ol>\n"
      ],
      "text/latex": [
       "\\begin{enumerate*}\n",
       "\\item 'January'\n",
       "\\item 'February'\n",
       "\\item 'March'\n",
       "\\item 'April'\n",
       "\\item 'May'\n",
       "\\item 'June'\n",
       "\\item 'July'\n",
       "\\item 'August'\n",
       "\\item 'September'\n",
       "\\item 'October'\n",
       "\\item 'November'\n",
       "\\item 'December'\n",
       "\\end{enumerate*}\n"
      ],
      "text/markdown": [
       "1. 'January'\n",
       "2. 'February'\n",
       "3. 'March'\n",
       "4. 'April'\n",
       "5. 'May'\n",
       "6. 'June'\n",
       "7. 'July'\n",
       "8. 'August'\n",
       "9. 'September'\n",
       "10. 'October'\n",
       "11. 'November'\n",
       "12. 'December'\n",
       "\n",
       "\n"
      ],
      "text/plain": [
       " [1] \"January\"   \"February\"  \"March\"     \"April\"     \"May\"       \"June\"     \n",
       " [7] \"July\"      \"August\"    \"September\" \"October\"   \"November\"  \"December\" "
      ]
     },
     "metadata": {},
     "output_type": "display_data"
    },
    {
     "data": {
      "text/html": [
       "3.14159265358979"
      ],
      "text/latex": [
       "3.14159265358979"
      ],
      "text/markdown": [
       "3.14159265358979"
      ],
      "text/plain": [
       "[1] 3.141593"
      ]
     },
     "metadata": {},
     "output_type": "display_data"
    }
   ],
   "source": [
    "sample(paste(\"Center\", LETTERS[1:4]), 10, replace = TRUE)\n",
    "sample(paste(\"Center\", letters[1:4]), 10, replace = TRUE)\n",
    "\n",
    "LETTERS\n",
    "letters\n",
    "month.name\n",
    "pi"
   ]
  },
  {
   "cell_type": "markdown",
   "metadata": {},
   "source": [
    "## Set Operations\n",
    "\n",
    "- union()\n",
    "- intersect()\n",
    "- setdiff()\n",
    "- setequal()\n",
    "- is.element()"
   ]
  },
  {
   "cell_type": "code",
   "execution_count": 105,
   "metadata": {},
   "outputs": [
    {
     "data": {
      "text/html": [
       "TRUE"
      ],
      "text/latex": [
       "TRUE"
      ],
      "text/markdown": [
       "TRUE"
      ],
      "text/plain": [
       "[1] TRUE"
      ]
     },
     "metadata": {},
     "output_type": "display_data"
    },
    {
     "data": {
      "text/html": [
       "FALSE"
      ],
      "text/latex": [
       "FALSE"
      ],
      "text/markdown": [
       "FALSE"
      ],
      "text/plain": [
       "[1] FALSE"
      ]
     },
     "metadata": {},
     "output_type": "display_data"
    },
    {
     "data": {
      "text/html": [
       "<ol class=list-inline>\n",
       "\t<li>'c'</li>\n",
       "\t<li>'y'</li>\n",
       "\t<li>'z'</li>\n",
       "\t<li>'n'</li>\n",
       "\t<li>'m'</li>\n",
       "\t<li>'s'</li>\n",
       "\t<li>'e'</li>\n",
       "\t<li>'d'</li>\n",
       "\t<li>'u'</li>\n",
       "\t<li>'j'</li>\n",
       "</ol>\n"
      ],
      "text/latex": [
       "\\begin{enumerate*}\n",
       "\\item 'c'\n",
       "\\item 'y'\n",
       "\\item 'z'\n",
       "\\item 'n'\n",
       "\\item 'm'\n",
       "\\item 's'\n",
       "\\item 'e'\n",
       "\\item 'd'\n",
       "\\item 'u'\n",
       "\\item 'j'\n",
       "\\end{enumerate*}\n"
      ],
      "text/markdown": [
       "1. 'c'\n",
       "2. 'y'\n",
       "3. 'z'\n",
       "4. 'n'\n",
       "5. 'm'\n",
       "6. 's'\n",
       "7. 'e'\n",
       "8. 'd'\n",
       "9. 'u'\n",
       "10. 'j'\n",
       "\n",
       "\n"
      ],
      "text/plain": [
       " [1] \"c\" \"y\" \"z\" \"n\" \"m\" \"s\" \"e\" \"d\" \"u\" \"j\""
      ]
     },
     "metadata": {},
     "output_type": "display_data"
    },
    {
     "data": {
      "text/html": [
       "<ol class=list-inline>\n",
       "\t<li>'i'</li>\n",
       "\t<li>'g'</li>\n",
       "\t<li>'t'</li>\n",
       "\t<li>'z'</li>\n",
       "\t<li>'w'</li>\n",
       "\t<li>'k'</li>\n",
       "\t<li>'c'</li>\n",
       "\t<li>'q'</li>\n",
       "\t<li>'j'</li>\n",
       "\t<li>'o'</li>\n",
       "</ol>\n"
      ],
      "text/latex": [
       "\\begin{enumerate*}\n",
       "\\item 'i'\n",
       "\\item 'g'\n",
       "\\item 't'\n",
       "\\item 'z'\n",
       "\\item 'w'\n",
       "\\item 'k'\n",
       "\\item 'c'\n",
       "\\item 'q'\n",
       "\\item 'j'\n",
       "\\item 'o'\n",
       "\\end{enumerate*}\n"
      ],
      "text/markdown": [
       "1. 'i'\n",
       "2. 'g'\n",
       "3. 't'\n",
       "4. 'z'\n",
       "5. 'w'\n",
       "6. 'k'\n",
       "7. 'c'\n",
       "8. 'q'\n",
       "9. 'j'\n",
       "10. 'o'\n",
       "\n",
       "\n"
      ],
      "text/plain": [
       " [1] \"i\" \"g\" \"t\" \"z\" \"w\" \"k\" \"c\" \"q\" \"j\" \"o\""
      ]
     },
     "metadata": {},
     "output_type": "display_data"
    },
    {
     "data": {
      "text/html": [
       "<ol class=list-inline>\n",
       "\t<li>'c'</li>\n",
       "\t<li>'y'</li>\n",
       "\t<li>'z'</li>\n",
       "\t<li>'n'</li>\n",
       "\t<li>'m'</li>\n",
       "\t<li>'s'</li>\n",
       "\t<li>'e'</li>\n",
       "\t<li>'d'</li>\n",
       "\t<li>'u'</li>\n",
       "\t<li>'j'</li>\n",
       "\t<li>'i'</li>\n",
       "\t<li>'g'</li>\n",
       "\t<li>'t'</li>\n",
       "\t<li>'w'</li>\n",
       "\t<li>'k'</li>\n",
       "\t<li>'q'</li>\n",
       "\t<li>'o'</li>\n",
       "</ol>\n"
      ],
      "text/latex": [
       "\\begin{enumerate*}\n",
       "\\item 'c'\n",
       "\\item 'y'\n",
       "\\item 'z'\n",
       "\\item 'n'\n",
       "\\item 'm'\n",
       "\\item 's'\n",
       "\\item 'e'\n",
       "\\item 'd'\n",
       "\\item 'u'\n",
       "\\item 'j'\n",
       "\\item 'i'\n",
       "\\item 'g'\n",
       "\\item 't'\n",
       "\\item 'w'\n",
       "\\item 'k'\n",
       "\\item 'q'\n",
       "\\item 'o'\n",
       "\\end{enumerate*}\n"
      ],
      "text/markdown": [
       "1. 'c'\n",
       "2. 'y'\n",
       "3. 'z'\n",
       "4. 'n'\n",
       "5. 'm'\n",
       "6. 's'\n",
       "7. 'e'\n",
       "8. 'd'\n",
       "9. 'u'\n",
       "10. 'j'\n",
       "11. 'i'\n",
       "12. 'g'\n",
       "13. 't'\n",
       "14. 'w'\n",
       "15. 'k'\n",
       "16. 'q'\n",
       "17. 'o'\n",
       "\n",
       "\n"
      ],
      "text/plain": [
       " [1] \"c\" \"y\" \"z\" \"n\" \"m\" \"s\" \"e\" \"d\" \"u\" \"j\" \"i\" \"g\" \"t\" \"w\" \"k\" \"q\" \"o\""
      ]
     },
     "metadata": {},
     "output_type": "display_data"
    },
    {
     "data": {
      "text/html": [
       "<ol class=list-inline>\n",
       "\t<li>'c'</li>\n",
       "\t<li>'z'</li>\n",
       "\t<li>'j'</li>\n",
       "</ol>\n"
      ],
      "text/latex": [
       "\\begin{enumerate*}\n",
       "\\item 'c'\n",
       "\\item 'z'\n",
       "\\item 'j'\n",
       "\\end{enumerate*}\n"
      ],
      "text/markdown": [
       "1. 'c'\n",
       "2. 'z'\n",
       "3. 'j'\n",
       "\n",
       "\n"
      ],
      "text/plain": [
       "[1] \"c\" \"z\" \"j\""
      ]
     },
     "metadata": {},
     "output_type": "display_data"
    },
    {
     "data": {
      "text/html": [
       "<ol class=list-inline>\n",
       "\t<li>'y'</li>\n",
       "\t<li>'n'</li>\n",
       "\t<li>'m'</li>\n",
       "\t<li>'s'</li>\n",
       "\t<li>'e'</li>\n",
       "\t<li>'d'</li>\n",
       "\t<li>'u'</li>\n",
       "</ol>\n"
      ],
      "text/latex": [
       "\\begin{enumerate*}\n",
       "\\item 'y'\n",
       "\\item 'n'\n",
       "\\item 'm'\n",
       "\\item 's'\n",
       "\\item 'e'\n",
       "\\item 'd'\n",
       "\\item 'u'\n",
       "\\end{enumerate*}\n"
      ],
      "text/markdown": [
       "1. 'y'\n",
       "2. 'n'\n",
       "3. 'm'\n",
       "4. 's'\n",
       "5. 'e'\n",
       "6. 'd'\n",
       "7. 'u'\n",
       "\n",
       "\n"
      ],
      "text/plain": [
       "[1] \"y\" \"n\" \"m\" \"s\" \"e\" \"d\" \"u\""
      ]
     },
     "metadata": {},
     "output_type": "display_data"
    },
    {
     "data": {
      "text/html": [
       "FALSE"
      ],
      "text/latex": [
       "FALSE"
      ],
      "text/markdown": [
       "FALSE"
      ],
      "text/plain": [
       "[1] FALSE"
      ]
     },
     "metadata": {},
     "output_type": "display_data"
    },
    {
     "data": {
      "text/html": [
       "FALSE"
      ],
      "text/latex": [
       "FALSE"
      ],
      "text/markdown": [
       "FALSE"
      ],
      "text/plain": [
       "[1] FALSE"
      ]
     },
     "metadata": {},
     "output_type": "display_data"
    },
    {
     "data": {
      "text/html": [
       "TRUE"
      ],
      "text/latex": [
       "TRUE"
      ],
      "text/markdown": [
       "TRUE"
      ],
      "text/plain": [
       "[1] TRUE"
      ]
     },
     "metadata": {},
     "output_type": "display_data"
    },
    {
     "data": {
      "text/html": [
       "TRUE"
      ],
      "text/latex": [
       "TRUE"
      ],
      "text/markdown": [
       "TRUE"
      ],
      "text/plain": [
       "[1] TRUE"
      ]
     },
     "metadata": {},
     "output_type": "display_data"
    },
    {
     "data": {
      "text/html": [
       "TRUE"
      ],
      "text/latex": [
       "TRUE"
      ],
      "text/markdown": [
       "TRUE"
      ],
      "text/plain": [
       "[1] TRUE"
      ]
     },
     "metadata": {},
     "output_type": "display_data"
    },
    {
     "data": {
      "text/html": [
       "FALSE"
      ],
      "text/latex": [
       "FALSE"
      ],
      "text/markdown": [
       "FALSE"
      ],
      "text/plain": [
       "[1] FALSE"
      ]
     },
     "metadata": {},
     "output_type": "display_data"
    },
    {
     "data": {
      "text/html": [
       "TRUE"
      ],
      "text/latex": [
       "TRUE"
      ],
      "text/markdown": [
       "TRUE"
      ],
      "text/plain": [
       "[1] TRUE"
      ]
     },
     "metadata": {},
     "output_type": "display_data"
    }
   ],
   "source": [
    "setequal(c(1, 2, 3), c(1, 2, 3))\n",
    "setequal(c(1, 2, 3), c(1, 2, 4))\n",
    "s1 <- sample(letters, 10)\n",
    "s1\n",
    "s2 <- sample(letters, 10)\n",
    "s2\n",
    "u <- union(s1, s2)\n",
    "u\n",
    "i <- intersect(s1, s2)\n",
    "i\n",
    "d <- setdiff(s1, s2)\n",
    "d\n",
    "is.element('a', u)\n",
    "is.element('b', u)\n",
    "is.element('c', u)\n",
    "is.element('d', u)\n",
    "is.element('e', u)\n",
    "is.element('f', u)\n",
    "is.element('g', u)"
   ]
  },
  {
   "cell_type": "markdown",
   "metadata": {},
   "source": [
    "## The dplyr Package"
   ]
  },
  {
   "cell_type": "code",
   "execution_count": 106,
   "metadata": {},
   "outputs": [
    {
     "name": "stderr",
     "output_type": "stream",
     "text": [
      "Installing package into 'C:/Users/peterthor/Documents/R/win-library/3.4'\n",
      "(as 'lib' is unspecified)\n",
      "Warning message:\n",
      "\"package 'dplyr' is in use and will not be installed\""
     ]
    },
    {
     "data": {
      "text/html": [
       "<table>\n",
       "<thead><tr><th scope=col>mpg</th><th scope=col>cyl</th><th scope=col>disp</th><th scope=col>hp</th><th scope=col>drat</th><th scope=col>wt</th><th scope=col>qsec</th><th scope=col>vs</th><th scope=col>am</th><th scope=col>gear</th><th scope=col>carb</th></tr></thead>\n",
       "<tbody>\n",
       "\t<tr><td>14.3 </td><td>8    </td><td>360  </td><td>245  </td><td>3.21 </td><td>3.570</td><td>15.84</td><td>0    </td><td>0    </td><td>3    </td><td>4    </td></tr>\n",
       "\t<tr><td>10.4 </td><td>8    </td><td>472  </td><td>205  </td><td>2.93 </td><td>5.250</td><td>17.98</td><td>0    </td><td>0    </td><td>3    </td><td>4    </td></tr>\n",
       "\t<tr><td>10.4 </td><td>8    </td><td>460  </td><td>215  </td><td>3.00 </td><td>5.424</td><td>17.82</td><td>0    </td><td>0    </td><td>3    </td><td>4    </td></tr>\n",
       "\t<tr><td>14.7 </td><td>8    </td><td>440  </td><td>230  </td><td>3.23 </td><td>5.345</td><td>17.42</td><td>0    </td><td>0    </td><td>3    </td><td>4    </td></tr>\n",
       "\t<tr><td>13.3 </td><td>8    </td><td>350  </td><td>245  </td><td>3.73 </td><td>3.840</td><td>15.41</td><td>0    </td><td>0    </td><td>3    </td><td>4    </td></tr>\n",
       "\t<tr><td>15.0 </td><td>8    </td><td>301  </td><td>335  </td><td>3.54 </td><td>3.570</td><td>14.60</td><td>0    </td><td>1    </td><td>5    </td><td>8    </td></tr>\n",
       "</tbody>\n",
       "</table>\n"
      ],
      "text/latex": [
       "\\begin{tabular}{r|lllllllllll}\n",
       " mpg & cyl & disp & hp & drat & wt & qsec & vs & am & gear & carb\\\\\n",
       "\\hline\n",
       "\t 14.3  & 8     & 360   & 245   & 3.21  & 3.570 & 15.84 & 0     & 0     & 3     & 4    \\\\\n",
       "\t 10.4  & 8     & 472   & 205   & 2.93  & 5.250 & 17.98 & 0     & 0     & 3     & 4    \\\\\n",
       "\t 10.4  & 8     & 460   & 215   & 3.00  & 5.424 & 17.82 & 0     & 0     & 3     & 4    \\\\\n",
       "\t 14.7  & 8     & 440   & 230   & 3.23  & 5.345 & 17.42 & 0     & 0     & 3     & 4    \\\\\n",
       "\t 13.3  & 8     & 350   & 245   & 3.73  & 3.840 & 15.41 & 0     & 0     & 3     & 4    \\\\\n",
       "\t 15.0  & 8     & 301   & 335   & 3.54  & 3.570 & 14.60 & 0     & 1     & 5     & 8    \\\\\n",
       "\\end{tabular}\n"
      ],
      "text/markdown": [
       "\n",
       "mpg | cyl | disp | hp | drat | wt | qsec | vs | am | gear | carb | \n",
       "|---|---|---|---|---|---|\n",
       "| 14.3  | 8     | 360   | 245   | 3.21  | 3.570 | 15.84 | 0     | 0     | 3     | 4     | \n",
       "| 10.4  | 8     | 472   | 205   | 2.93  | 5.250 | 17.98 | 0     | 0     | 3     | 4     | \n",
       "| 10.4  | 8     | 460   | 215   | 3.00  | 5.424 | 17.82 | 0     | 0     | 3     | 4     | \n",
       "| 14.7  | 8     | 440   | 230   | 3.23  | 5.345 | 17.42 | 0     | 0     | 3     | 4     | \n",
       "| 13.3  | 8     | 350   | 245   | 3.73  | 3.840 | 15.41 | 0     | 0     | 3     | 4     | \n",
       "| 15.0  | 8     | 301   | 335   | 3.54  | 3.570 | 14.60 | 0     | 1     | 5     | 8     | \n",
       "\n",
       "\n"
      ],
      "text/plain": [
       "  mpg  cyl disp hp  drat wt    qsec  vs am gear carb\n",
       "1 14.3 8   360  245 3.21 3.570 15.84 0  0  3    4   \n",
       "2 10.4 8   472  205 2.93 5.250 17.98 0  0  3    4   \n",
       "3 10.4 8   460  215 3.00 5.424 17.82 0  0  3    4   \n",
       "4 14.7 8   440  230 3.23 5.345 17.42 0  0  3    4   \n",
       "5 13.3 8   350  245 3.73 3.840 15.41 0  0  3    4   \n",
       "6 15.0 8   301  335 3.54 3.570 14.60 0  1  5    8   "
      ]
     },
     "metadata": {},
     "output_type": "display_data"
    }
   ],
   "source": [
    "install.packages(\"dplyr\", repos = \"http://cran.us.r-project.org\")\n",
    "library(dplyr)\n",
    "\n",
    "# The filter() function is like WHERE clause in SQL statements\n",
    "guzzlers <- dplyr::filter(mtcars, mpg <= 15)\n",
    "guzzlers"
   ]
  },
  {
   "cell_type": "markdown",
   "metadata": {},
   "source": [
    "## The search and searchpaths Functions"
   ]
  },
  {
   "cell_type": "code",
   "execution_count": 107,
   "metadata": {},
   "outputs": [
    {
     "data": {
      "text/html": [
       "<ol class=list-inline>\n",
       "\t<li>'.GlobalEnv'</li>\n",
       "\t<li>'package:bindrcpp'</li>\n",
       "\t<li>'package:dplyr'</li>\n",
       "\t<li>'package:bindr'</li>\n",
       "\t<li>'jupyter:irkernel'</li>\n",
       "\t<li>'package:RevoUtils'</li>\n",
       "\t<li>'package:stats'</li>\n",
       "\t<li>'package:graphics'</li>\n",
       "\t<li>'package:grDevices'</li>\n",
       "\t<li>'package:utils'</li>\n",
       "\t<li>'package:datasets'</li>\n",
       "\t<li>'package:RevoUtilsMath'</li>\n",
       "\t<li>'package:methods'</li>\n",
       "\t<li>'Autoloads'</li>\n",
       "\t<li>'package:base'</li>\n",
       "</ol>\n"
      ],
      "text/latex": [
       "\\begin{enumerate*}\n",
       "\\item '.GlobalEnv'\n",
       "\\item 'package:bindrcpp'\n",
       "\\item 'package:dplyr'\n",
       "\\item 'package:bindr'\n",
       "\\item 'jupyter:irkernel'\n",
       "\\item 'package:RevoUtils'\n",
       "\\item 'package:stats'\n",
       "\\item 'package:graphics'\n",
       "\\item 'package:grDevices'\n",
       "\\item 'package:utils'\n",
       "\\item 'package:datasets'\n",
       "\\item 'package:RevoUtilsMath'\n",
       "\\item 'package:methods'\n",
       "\\item 'Autoloads'\n",
       "\\item 'package:base'\n",
       "\\end{enumerate*}\n"
      ],
      "text/markdown": [
       "1. '.GlobalEnv'\n",
       "2. 'package:bindrcpp'\n",
       "3. 'package:dplyr'\n",
       "4. 'package:bindr'\n",
       "5. 'jupyter:irkernel'\n",
       "6. 'package:RevoUtils'\n",
       "7. 'package:stats'\n",
       "8. 'package:graphics'\n",
       "9. 'package:grDevices'\n",
       "10. 'package:utils'\n",
       "11. 'package:datasets'\n",
       "12. 'package:RevoUtilsMath'\n",
       "13. 'package:methods'\n",
       "14. 'Autoloads'\n",
       "15. 'package:base'\n",
       "\n",
       "\n"
      ],
      "text/plain": [
       " [1] \".GlobalEnv\"            \"package:bindrcpp\"      \"package:dplyr\"        \n",
       " [4] \"package:bindr\"         \"jupyter:irkernel\"      \"package:RevoUtils\"    \n",
       " [7] \"package:stats\"         \"package:graphics\"      \"package:grDevices\"    \n",
       "[10] \"package:utils\"         \"package:datasets\"      \"package:RevoUtilsMath\"\n",
       "[13] \"package:methods\"       \"Autoloads\"             \"package:base\"         "
      ]
     },
     "metadata": {},
     "output_type": "display_data"
    }
   ],
   "source": [
    "search()"
   ]
  },
  {
   "cell_type": "code",
   "execution_count": 108,
   "metadata": {},
   "outputs": [
    {
     "data": {
      "text/html": [
       "<ol class=list-inline>\n",
       "\t<li>'.GlobalEnv'</li>\n",
       "\t<li>'C:/Users/peterthor/Documents/R/win-library/3.4/bindrcpp'</li>\n",
       "\t<li>'C:/Users/peterthor/Documents/R/win-library/3.4/dplyr'</li>\n",
       "\t<li>'C:/Users/peterthor/Documents/R/win-library/3.4/bindr'</li>\n",
       "\t<li>'jupyter:irkernel'</li>\n",
       "\t<li>'C:/Users/peterthor/Anaconda3/Lib/R/library/RevoUtils'</li>\n",
       "\t<li>'C:/Users/peterthor/Anaconda3/Lib/R/library/stats'</li>\n",
       "\t<li>'C:/Users/peterthor/Anaconda3/Lib/R/library/graphics'</li>\n",
       "\t<li>'C:/Users/peterthor/Anaconda3/Lib/R/library/grDevices'</li>\n",
       "\t<li>'C:/Users/peterthor/Anaconda3/Lib/R/library/utils'</li>\n",
       "\t<li>'C:/Users/peterthor/Anaconda3/Lib/R/library/datasets'</li>\n",
       "\t<li>'C:/Users/peterthor/Anaconda3/Lib/R/library/RevoUtilsMath'</li>\n",
       "\t<li>'C:/Users/peterthor/Anaconda3/Lib/R/library/methods'</li>\n",
       "\t<li>'Autoloads'</li>\n",
       "\t<li>'C:/Users/peterthor/Anaconda3/lib/R/library/base'</li>\n",
       "</ol>\n"
      ],
      "text/latex": [
       "\\begin{enumerate*}\n",
       "\\item '.GlobalEnv'\n",
       "\\item 'C:/Users/peterthor/Documents/R/win-library/3.4/bindrcpp'\n",
       "\\item 'C:/Users/peterthor/Documents/R/win-library/3.4/dplyr'\n",
       "\\item 'C:/Users/peterthor/Documents/R/win-library/3.4/bindr'\n",
       "\\item 'jupyter:irkernel'\n",
       "\\item 'C:/Users/peterthor/Anaconda3/Lib/R/library/RevoUtils'\n",
       "\\item 'C:/Users/peterthor/Anaconda3/Lib/R/library/stats'\n",
       "\\item 'C:/Users/peterthor/Anaconda3/Lib/R/library/graphics'\n",
       "\\item 'C:/Users/peterthor/Anaconda3/Lib/R/library/grDevices'\n",
       "\\item 'C:/Users/peterthor/Anaconda3/Lib/R/library/utils'\n",
       "\\item 'C:/Users/peterthor/Anaconda3/Lib/R/library/datasets'\n",
       "\\item 'C:/Users/peterthor/Anaconda3/Lib/R/library/RevoUtilsMath'\n",
       "\\item 'C:/Users/peterthor/Anaconda3/Lib/R/library/methods'\n",
       "\\item 'Autoloads'\n",
       "\\item 'C:/Users/peterthor/Anaconda3/lib/R/library/base'\n",
       "\\end{enumerate*}\n"
      ],
      "text/markdown": [
       "1. '.GlobalEnv'\n",
       "2. 'C:/Users/peterthor/Documents/R/win-library/3.4/bindrcpp'\n",
       "3. 'C:/Users/peterthor/Documents/R/win-library/3.4/dplyr'\n",
       "4. 'C:/Users/peterthor/Documents/R/win-library/3.4/bindr'\n",
       "5. 'jupyter:irkernel'\n",
       "6. 'C:/Users/peterthor/Anaconda3/Lib/R/library/RevoUtils'\n",
       "7. 'C:/Users/peterthor/Anaconda3/Lib/R/library/stats'\n",
       "8. 'C:/Users/peterthor/Anaconda3/Lib/R/library/graphics'\n",
       "9. 'C:/Users/peterthor/Anaconda3/Lib/R/library/grDevices'\n",
       "10. 'C:/Users/peterthor/Anaconda3/Lib/R/library/utils'\n",
       "11. 'C:/Users/peterthor/Anaconda3/Lib/R/library/datasets'\n",
       "12. 'C:/Users/peterthor/Anaconda3/Lib/R/library/RevoUtilsMath'\n",
       "13. 'C:/Users/peterthor/Anaconda3/Lib/R/library/methods'\n",
       "14. 'Autoloads'\n",
       "15. 'C:/Users/peterthor/Anaconda3/lib/R/library/base'\n",
       "\n",
       "\n"
      ],
      "text/plain": [
       " [1] \".GlobalEnv\"                                              \n",
       " [2] \"C:/Users/peterthor/Documents/R/win-library/3.4/bindrcpp\" \n",
       " [3] \"C:/Users/peterthor/Documents/R/win-library/3.4/dplyr\"    \n",
       " [4] \"C:/Users/peterthor/Documents/R/win-library/3.4/bindr\"    \n",
       " [5] \"jupyter:irkernel\"                                        \n",
       " [6] \"C:/Users/peterthor/Anaconda3/Lib/R/library/RevoUtils\"    \n",
       " [7] \"C:/Users/peterthor/Anaconda3/Lib/R/library/stats\"        \n",
       " [8] \"C:/Users/peterthor/Anaconda3/Lib/R/library/graphics\"     \n",
       " [9] \"C:/Users/peterthor/Anaconda3/Lib/R/library/grDevices\"    \n",
       "[10] \"C:/Users/peterthor/Anaconda3/Lib/R/library/utils\"        \n",
       "[11] \"C:/Users/peterthor/Anaconda3/Lib/R/library/datasets\"     \n",
       "[12] \"C:/Users/peterthor/Anaconda3/Lib/R/library/RevoUtilsMath\"\n",
       "[13] \"C:/Users/peterthor/Anaconda3/Lib/R/library/methods\"      \n",
       "[14] \"Autoloads\"                                               \n",
       "[15] \"C:/Users/peterthor/Anaconda3/lib/R/library/base\"         "
      ]
     },
     "metadata": {},
     "output_type": "display_data"
    }
   ],
   "source": [
    "searchpaths()"
   ]
  },
  {
   "cell_type": "markdown",
   "metadata": {},
   "source": [
    "## Handling Large Data Sets in R with the data.table Package"
   ]
  },
  {
   "cell_type": "code",
   "execution_count": 109,
   "metadata": {},
   "outputs": [
    {
     "name": "stderr",
     "output_type": "stream",
     "text": [
      "Installing package into 'C:/Users/peterthor/Documents/R/win-library/3.4'\n",
      "(as 'lib' is unspecified)\n"
     ]
    },
    {
     "name": "stdout",
     "output_type": "stream",
     "text": [
      "package 'data.table' successfully unpacked and MD5 sums checked\n",
      "\n",
      "The downloaded binary packages are in\n",
      "\tC:\\Users\\peterthor\\AppData\\Local\\Temp\\RtmpUDY7XQ\\downloaded_packages\n"
     ]
    },
    {
     "name": "stderr",
     "output_type": "stream",
     "text": [
      "Warning message:\n",
      "\"package 'data.table' was built under R version 3.4.4\"\n",
      "Attaching package: 'data.table'\n",
      "\n",
      "The following objects are masked from 'package:dplyr':\n",
      "\n",
      "    between, first, last\n",
      "\n"
     ]
    }
   ],
   "source": [
    "install.packages(\"data.table\", repos = \"http://cran.us.r-project.org\")\n",
    "library(data.table)\n",
    "\n",
    "# ???"
   ]
  },
  {
   "cell_type": "markdown",
   "metadata": {},
   "source": [
    "## Data Visualization in R\n",
    "\n",
    "- barplot()\n",
    "- hist()\n",
    "- pie()"
   ]
  },
  {
   "cell_type": "code",
   "execution_count": 110,
   "metadata": {},
   "outputs": [
    {
     "data": {
      "image/png": "[encoded data removed]",
      "text/plain": [
       "plot without title"
      ]
     },
     "metadata": {},
     "output_type": "display_data"
    },
    {
     "data": {
      "image/png": "[encoded data removed]",
      "text/plain": [
       "plot without title"
      ]
     },
     "metadata": {},
     "output_type": "display_data"
    }
   ],
   "source": [
    "barplot(1:3)\n",
    "barplot(1:3, horiz=TRUE)"
   ]
  },
  {
   "cell_type": "markdown",
   "metadata": {},
   "source": [
    "## Using barplot() with Matrices Example"
   ]
  },
  {
   "cell_type": "code",
   "execution_count": 111,
   "metadata": {},
   "outputs": [
    {
     "name": "stdout",
     "output_type": "stream",
     "text": [
      "     [,1] [,2] [,3]\n",
      "[1,]    1    5    9\n",
      "[2,]    2    6   10\n",
      "[3,]    3    7   11\n",
      "[4,]    4    8   12\n"
     ]
    },
    {
     "data": {
      "image/png": "[encoded data removed]",
      "text/plain": [
       "plot without title"
      ]
     },
     "metadata": {},
     "output_type": "display_data"
    },
    {
     "data": {
      "image/png": "[encoded data removed]",
      "text/plain": [
       "plot without title"
      ]
     },
     "metadata": {},
     "output_type": "display_data"
    }
   ],
   "source": [
    "m <- matrix(1:12, 4, 3)\n",
    "print(m)\n",
    "barplot(m)              # stacked\n",
    "barplot(m, beside=TRUE) # juxtaposed"
   ]
  },
  {
   "cell_type": "markdown",
   "metadata": {},
   "source": [
    "## Customizing Plots"
   ]
  },
  {
   "cell_type": "code",
   "execution_count": 112,
   "metadata": {},
   "outputs": [
    {
     "data": {
      "image/png": "[encoded data removed]",
      "text/plain": [
       "plot without title"
      ]
     },
     "metadata": {},
     "output_type": "display_data"
    }
   ],
   "source": [
    "m <- matrix(1:12, 4, 3)\n",
    "barplot(m, col=c(\"blue\", \"green\", \"red\", \"yellow\"))"
   ]
  },
  {
   "cell_type": "code",
   "execution_count": 113,
   "metadata": {},
   "outputs": [
    {
     "data": {
      "image/png": "[encoded data removed]",
      "text/plain": [
       "Plot with title \"Cool Looking Data\""
      ]
     },
     "metadata": {},
     "output_type": "display_data"
    }
   ],
   "source": [
    "m <- matrix(1:12, 4, 3)\n",
    "barplot(m, main=\"Cool Looking Data\")"
   ]
  },
  {
   "cell_type": "code",
   "execution_count": 114,
   "metadata": {},
   "outputs": [
    {
     "data": {
      "image/png": "[encoded data removed]",
      "text/plain": [
       "plot without title"
      ]
     },
     "metadata": {},
     "output_type": "display_data"
    }
   ],
   "source": [
    "m <- matrix(1:12, 4, 3)\n",
    "barplot(m, xlab=\"Size of Widget\", ylab=\"Weight of Widget\")"
   ]
  },
  {
   "cell_type": "code",
   "execution_count": 115,
   "metadata": {},
   "outputs": [
    {
     "data": {
      "image/png": "[encoded data removed]",
      "text/plain": [
       "plot without title"
      ]
     },
     "metadata": {},
     "output_type": "display_data"
    }
   ],
   "source": [
    "m <- matrix(1:12, 4, 3)\n",
    "barplot(m, names.arg=c(\"First\", \"Second\", \"Third\"))"
   ]
  },
  {
   "cell_type": "markdown",
   "metadata": {},
   "source": [
    "## Histograms in R"
   ]
  },
  {
   "cell_type": "code",
   "execution_count": 116,
   "metadata": {},
   "outputs": [
    {
     "data": {
      "image/png": "[encoded data removed]",
      "text/plain": [
       "Plot with title \"Histogram of mtcars$wt\""
      ]
     },
     "metadata": {},
     "output_type": "display_data"
    }
   ],
   "source": [
    "hist(mtcars$wt, breaks=5, col=\"gray\", freq=FALSE)"
   ]
  },
  {
   "cell_type": "markdown",
   "metadata": {},
   "source": [
    "## Pie Charts in R"
   ]
  },
  {
   "cell_type": "code",
   "execution_count": 117,
   "metadata": {},
   "outputs": [
    {
     "data": {
      "image/png": "[encoded data removed]",
      "text/plain": [
       "plot without title"
      ]
     },
     "metadata": {},
     "output_type": "display_data"
    }
   ],
   "source": [
    "pie(c(10, 23, 40, 80), c(\"Germany\", \"France\", \"India\", \"Iceland\"))"
   ]
  },
  {
   "cell_type": "markdown",
   "metadata": {},
   "source": [
    "## Generic X-Y Plotting"
   ]
  },
  {
   "cell_type": "code",
   "execution_count": 118,
   "metadata": {},
   "outputs": [
    {
     "data": {
      "image/png": "[encoded data removed]",
      "text/plain": [
       "plot without title"
      ]
     },
     "metadata": {},
     "output_type": "display_data"
    }
   ],
   "source": [
    "plot(c(1, 2, 3, 4, 5), c(10, 20, 30, 15, 30), type='l')"
   ]
  },
  {
   "cell_type": "markdown",
   "metadata": {},
   "source": [
    "## Dot Plots in R"
   ]
  },
  {
   "cell_type": "code",
   "execution_count": 119,
   "metadata": {},
   "outputs": [
    {
     "data": {
      "image/png": "[encoded data removed]",
      "text/plain": [
       "plot without title"
      ]
     },
     "metadata": {},
     "output_type": "display_data"
    }
   ],
   "source": [
    "dotchart(1:3, c(\"Step 1\", \"Step 2\", \"Step 3\"))"
   ]
  },
  {
   "cell_type": "markdown",
   "metadata": {},
   "source": [
    "## Data Visualization Packages\n",
    "\n",
    "- graphics\n",
    "- lattice\n",
    "- ggplot2"
   ]
  },
  {
   "cell_type": "code",
   "execution_count": null,
   "metadata": {},
   "outputs": [],
   "source": []
  }
 ],
 "metadata": {
  "kernelspec": {
   "display_name": "R",
   "language": "R",
   "name": "ir"
  },
  "language_info": {
   "codemirror_mode": "r",
   "file_extension": ".r",
   "mimetype": "text/x-r-source",
   "name": "R",
   "pygments_lexer": "r",
   "version": "3.4.3"
  }
 },
 "nbformat": 4,
 "nbformat_minor": 2
}
