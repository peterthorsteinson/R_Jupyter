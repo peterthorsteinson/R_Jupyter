{
 "cells": [
  {
   "cell_type": "markdown",
   "metadata": {},
   "source": [
    "# 09 Factors\n",
    "\n",
    "- The factor() Function\n",
    "- The split() Function\n",
    "- The tapply() Function\n",
    "- The qplot() Function\n",
    "- The gl() Function\n",
    "\n",
    "Factors represent categorical data that can take on a limited number of unique non-continuous integer values  \n",
    "Factors are stored as a vector of integer values with associated character labels  \n",
    "Factors such as male and female are  better than using integers like 1 and 2 (self-describing)  \n",
    "Factors can be ordered (small, medium, large) or unordered (Sales, HR, Finance, Legal)  \n",
    "Factors are used in statistical modeling functions such as lm() and glm()  \n",
    "Factors are used in summary statistics, plots, and regressions  \n",
    "Factors oftene created automatically reading dataset using functions like read.table()  "
   ]
  },
  {
   "cell_type": "markdown",
   "metadata": {},
   "source": [
    "## The factor() Function\n",
    "\n",
    "The factor function is used to encode a vector of strings or numbers as a factor."
   ]
  },
  {
   "cell_type": "code",
   "execution_count": 64,
   "metadata": {},
   "outputs": [
    {
     "data": {
      "text/html": [
       "<ol class=list-inline>\n",
       "\t<li>34.4</li>\n",
       "\t<li>11.2</li>\n",
       "\t<li>58.4</li>\n",
       "\t<li>62.9</li>\n",
       "\t<li>58.4</li>\n",
       "</ol>\n"
      ],
      "text/latex": [
       "\\begin{enumerate*}\n",
       "\\item 34.4\n",
       "\\item 11.2\n",
       "\\item 58.4\n",
       "\\item 62.9\n",
       "\\item 58.4\n",
       "\\end{enumerate*}\n"
      ],
      "text/markdown": [
       "1. 34.4\n",
       "2. 11.2\n",
       "3. 58.4\n",
       "4. 62.9\n",
       "5. 58.4\n",
       "\n",
       "\n"
      ],
      "text/plain": [
       "[1] 34.4 11.2 58.4 62.9 58.4\n",
       "Levels: 11.2 34.4 58.4 62.9"
      ]
     },
     "metadata": {},
     "output_type": "display_data"
    },
    {
     "data": {
      "text/html": [
       "<ol class=list-inline>\n",
       "\t<li>'34.4'</li>\n",
       "\t<li>'11.2'</li>\n",
       "\t<li>'58.4'</li>\n",
       "\t<li>'62.9'</li>\n",
       "\t<li>'58.4'</li>\n",
       "</ol>\n"
      ],
      "text/latex": [
       "\\begin{enumerate*}\n",
       "\\item '34.4'\n",
       "\\item '11.2'\n",
       "\\item '58.4'\n",
       "\\item '62.9'\n",
       "\\item '58.4'\n",
       "\\end{enumerate*}\n"
      ],
      "text/markdown": [
       "1. '34.4'\n",
       "2. '11.2'\n",
       "3. '58.4'\n",
       "4. '62.9'\n",
       "5. '58.4'\n",
       "\n",
       "\n"
      ],
      "text/plain": [
       "[1] \"34.4\" \"11.2\" \"58.4\" \"62.9\" \"58.4\""
      ]
     },
     "metadata": {},
     "output_type": "display_data"
    },
    {
     "data": {
      "text/html": [
       "<ol class=list-inline>\n",
       "\t<li>2</li>\n",
       "\t<li>1</li>\n",
       "\t<li>3</li>\n",
       "\t<li>4</li>\n",
       "\t<li>3</li>\n",
       "</ol>\n"
      ],
      "text/latex": [
       "\\begin{enumerate*}\n",
       "\\item 2\n",
       "\\item 1\n",
       "\\item 3\n",
       "\\item 4\n",
       "\\item 3\n",
       "\\end{enumerate*}\n"
      ],
      "text/markdown": [
       "1. 2\n",
       "2. 1\n",
       "3. 3\n",
       "4. 4\n",
       "5. 3\n",
       "\n",
       "\n"
      ],
      "text/plain": [
       "[1] 2 1 3 4 3"
      ]
     },
     "metadata": {},
     "output_type": "display_data"
    },
    {
     "data": {
      "text/html": [
       "<ol class=list-inline>\n",
       "\t<li>'11.2'</li>\n",
       "\t<li>'34.4'</li>\n",
       "\t<li>'58.4'</li>\n",
       "\t<li>'62.9'</li>\n",
       "</ol>\n"
      ],
      "text/latex": [
       "\\begin{enumerate*}\n",
       "\\item '11.2'\n",
       "\\item '34.4'\n",
       "\\item '58.4'\n",
       "\\item '62.9'\n",
       "\\end{enumerate*}\n"
      ],
      "text/markdown": [
       "1. '11.2'\n",
       "2. '34.4'\n",
       "3. '58.4'\n",
       "4. '62.9'\n",
       "\n",
       "\n"
      ],
      "text/plain": [
       "[1] \"11.2\" \"34.4\" \"58.4\" \"62.9\""
      ]
     },
     "metadata": {},
     "output_type": "display_data"
    }
   ],
   "source": [
    "f <- factor(c(34.4, 11.2, 58.4, 62.9, 58.4))\n",
    "f             # the 5 factor values\n",
    "levels(f)[f]  # the 5 factor values as levels\n",
    "as.numeric(f) # integer encodings of the 5 factor values\n",
    "levels(f)     # values of the 4 available factors"
   ]
  },
  {
   "cell_type": "code",
   "execution_count": 4,
   "metadata": {},
   "outputs": [
    {
     "data": {
      "text/html": [
       "<ol class=list-inline>\n",
       "\t<li>1</li>\n",
       "\t<li>2</li>\n",
       "\t<li>4</li>\n",
       "\t<li>8</li>\n",
       "\t<li>16</li>\n",
       "</ol>\n"
      ],
      "text/latex": [
       "\\begin{enumerate*}\n",
       "\\item 1\n",
       "\\item 2\n",
       "\\item 4\n",
       "\\item 8\n",
       "\\item 16\n",
       "\\end{enumerate*}\n"
      ],
      "text/markdown": [
       "1. 1\n",
       "2. 2\n",
       "3. 4\n",
       "4. 8\n",
       "5. 16\n",
       "\n",
       "\n"
      ],
      "text/plain": [
       "[1] 1  2  4  8  16\n",
       "Levels: 1 2 4 8 16"
      ]
     },
     "metadata": {},
     "output_type": "display_data"
    },
    {
     "data": {
      "text/html": [
       "TRUE"
      ],
      "text/latex": [
       "TRUE"
      ],
      "text/markdown": [
       "TRUE"
      ],
      "text/plain": [
       "[1] TRUE"
      ]
     },
     "metadata": {},
     "output_type": "display_data"
    },
    {
     "data": {
      "text/html": [
       "FALSE"
      ],
      "text/latex": [
       "FALSE"
      ],
      "text/markdown": [
       "FALSE"
      ],
      "text/plain": [
       "[1] FALSE"
      ]
     },
     "metadata": {},
     "output_type": "display_data"
    },
    {
     "data": {
      "text/html": [
       "<ol class=list-inline>\n",
       "\t<li>Male</li>\n",
       "\t<li>Female</li>\n",
       "</ol>\n"
      ],
      "text/latex": [
       "\\begin{enumerate*}\n",
       "\\item Male\n",
       "\\item Female\n",
       "\\end{enumerate*}\n"
      ],
      "text/markdown": [
       "1. Male\n",
       "2. Female\n",
       "\n",
       "\n"
      ],
      "text/plain": [
       "[1] Male   Female\n",
       "Levels: Female Male"
      ]
     },
     "metadata": {},
     "output_type": "display_data"
    },
    {
     "data": {
      "text/html": [
       "TRUE"
      ],
      "text/latex": [
       "TRUE"
      ],
      "text/markdown": [
       "TRUE"
      ],
      "text/plain": [
       "[1] TRUE"
      ]
     },
     "metadata": {},
     "output_type": "display_data"
    },
    {
     "data": {
      "text/html": [
       "FALSE"
      ],
      "text/latex": [
       "FALSE"
      ],
      "text/markdown": [
       "FALSE"
      ],
      "text/plain": [
       "[1] FALSE"
      ]
     },
     "metadata": {},
     "output_type": "display_data"
    }
   ],
   "source": [
    "v <- c(1, 2, 4, 8, 16) # numeric\n",
    "f <- factor(v)\n",
    "f\n",
    "is.factor(f)\n",
    "is.ordered(f)\n",
    "#f[1] > f[2]    # not meaningful for unordered factors\n",
    "\n",
    "v <- c(\"Male\", \"Female\") # character\n",
    "f <- factor(v)\n",
    "f\n",
    "is.factor(f)\n",
    "is.ordered(f)\n",
    "#f[1] > f[2]    # not meaningful for unordered factors"
   ]
  },
  {
   "cell_type": "code",
   "execution_count": 33,
   "metadata": {},
   "outputs": [
    {
     "data": {
      "text/html": [
       "<ol class=list-inline>\n",
       "\t<li>Sales</li>\n",
       "\t<li>Finance</li>\n",
       "\t<li>HR</li>\n",
       "\t<li>HR</li>\n",
       "\t<li>Legal</li>\n",
       "\t<li>HR</li>\n",
       "\t<li>Sales</li>\n",
       "</ol>\n"
      ],
      "text/latex": [
       "\\begin{enumerate*}\n",
       "\\item Sales\n",
       "\\item Finance\n",
       "\\item HR\n",
       "\\item HR\n",
       "\\item Legal\n",
       "\\item HR\n",
       "\\item Sales\n",
       "\\end{enumerate*}\n"
      ],
      "text/markdown": [
       "1. Sales\n",
       "2. Finance\n",
       "3. HR\n",
       "4. HR\n",
       "5. Legal\n",
       "6. HR\n",
       "7. Sales\n",
       "\n",
       "\n"
      ],
      "text/plain": [
       "[1] Sales   Finance HR      HR      Legal   HR      Sales  \n",
       "Levels: Finance HR Legal Sales"
      ]
     },
     "metadata": {},
     "output_type": "display_data"
    },
    {
     "data": {
      "text/html": [
       "TRUE"
      ],
      "text/latex": [
       "TRUE"
      ],
      "text/markdown": [
       "TRUE"
      ],
      "text/plain": [
       "[1] TRUE"
      ]
     },
     "metadata": {},
     "output_type": "display_data"
    },
    {
     "data": {
      "text/html": [
       "FALSE"
      ],
      "text/latex": [
       "FALSE"
      ],
      "text/markdown": [
       "FALSE"
      ],
      "text/plain": [
       "[1] FALSE"
      ]
     },
     "metadata": {},
     "output_type": "display_data"
    },
    {
     "data": {
      "text/plain": [
       "x\n",
       "Finance      HR   Legal   Sales \n",
       "      1       3       1       2 "
      ]
     },
     "metadata": {},
     "output_type": "display_data"
    },
    {
     "data": {
      "text/html": [
       "<ol class=list-inline>\n",
       "\t<li>4</li>\n",
       "\t<li>1</li>\n",
       "\t<li>2</li>\n",
       "\t<li>2</li>\n",
       "\t<li>3</li>\n",
       "\t<li>2</li>\n",
       "\t<li>4</li>\n",
       "</ol>\n"
      ],
      "text/latex": [
       "\\begin{enumerate*}\n",
       "\\item 4\n",
       "\\item 1\n",
       "\\item 2\n",
       "\\item 2\n",
       "\\item 3\n",
       "\\item 2\n",
       "\\item 4\n",
       "\\end{enumerate*}\n"
      ],
      "text/markdown": [
       "1. 4\n",
       "2. 1\n",
       "3. 2\n",
       "4. 2\n",
       "5. 3\n",
       "6. 2\n",
       "7. 4\n",
       "\n",
       "\n"
      ],
      "text/plain": [
       "[1] 4 1 2 2 3 2 4\n",
       "attr(,\"levels\")\n",
       "[1] \"Finance\" \"HR\"      \"Legal\"   \"Sales\"  "
      ]
     },
     "metadata": {},
     "output_type": "display_data"
    },
    {
     "data": {
      "text/html": [
       "<ol class=list-inline>\n",
       "\t<li>'Finance'</li>\n",
       "\t<li>'HR'</li>\n",
       "\t<li>'Legal'</li>\n",
       "\t<li>'Sales'</li>\n",
       "</ol>\n"
      ],
      "text/latex": [
       "\\begin{enumerate*}\n",
       "\\item 'Finance'\n",
       "\\item 'HR'\n",
       "\\item 'Legal'\n",
       "\\item 'Sales'\n",
       "\\end{enumerate*}\n"
      ],
      "text/markdown": [
       "1. 'Finance'\n",
       "2. 'HR'\n",
       "3. 'Legal'\n",
       "4. 'Sales'\n",
       "\n",
       "\n"
      ],
      "text/plain": [
       "[1] \"Finance\" \"HR\"      \"Legal\"   \"Sales\"  "
      ]
     },
     "metadata": {},
     "output_type": "display_data"
    },
    {
     "data": {
      "text/html": [
       "4"
      ],
      "text/latex": [
       "4"
      ],
      "text/markdown": [
       "4"
      ],
      "text/plain": [
       "[1] 4"
      ]
     },
     "metadata": {},
     "output_type": "display_data"
    }
   ],
   "source": [
    "# unordered factors default to alphabetic order: Finance HR Legal Sales\n",
    "x <- factor(c(\"Sales\", \"Finance\", \"HR\", \"HR\", \"Legal\", \"HR\", \"Sales\"))\n",
    "x\n",
    "is.factor(x)\n",
    "is.ordered(x)\n",
    "table(x)\n",
    "unclass(x)\n",
    "levels(x)\n",
    "nlevels(x)"
   ]
  },
  {
   "cell_type": "code",
   "execution_count": 5,
   "metadata": {},
   "outputs": [
    {
     "data": {
      "text/html": [
       "<ol class=list-inline>\n",
       "\t<li>medium</li>\n",
       "\t<li>small</li>\n",
       "\t<li>medium</li>\n",
       "\t<li>large</li>\n",
       "\t<li>large</li>\n",
       "\t<li>small</li>\n",
       "\t<li>large</li>\n",
       "</ol>\n"
      ],
      "text/latex": [
       "\\begin{enumerate*}\n",
       "\\item medium\n",
       "\\item small\n",
       "\\item medium\n",
       "\\item large\n",
       "\\item large\n",
       "\\item small\n",
       "\\item large\n",
       "\\end{enumerate*}\n"
      ],
      "text/markdown": [
       "1. medium\n",
       "2. small\n",
       "3. medium\n",
       "4. large\n",
       "5. large\n",
       "6. small\n",
       "7. large\n",
       "\n",
       "\n"
      ],
      "text/plain": [
       "[1] medium small  medium large  large  small  large \n",
       "Levels: small < medium < large"
      ]
     },
     "metadata": {},
     "output_type": "display_data"
    },
    {
     "data": {
      "text/html": [
       "TRUE"
      ],
      "text/latex": [
       "TRUE"
      ],
      "text/markdown": [
       "TRUE"
      ],
      "text/plain": [
       "[1] TRUE"
      ]
     },
     "metadata": {},
     "output_type": "display_data"
    },
    {
     "data": {
      "text/html": [
       "TRUE"
      ],
      "text/latex": [
       "TRUE"
      ],
      "text/markdown": [
       "TRUE"
      ],
      "text/plain": [
       "[1] TRUE"
      ]
     },
     "metadata": {},
     "output_type": "display_data"
    },
    {
     "data": {
      "text/plain": [
       "f\n",
       " small medium  large \n",
       "     2      2      3 "
      ]
     },
     "metadata": {},
     "output_type": "display_data"
    },
    {
     "data": {
      "text/html": [
       "<ol class=list-inline>\n",
       "\t<li>2</li>\n",
       "\t<li>1</li>\n",
       "\t<li>2</li>\n",
       "\t<li>3</li>\n",
       "\t<li>3</li>\n",
       "\t<li>1</li>\n",
       "\t<li>3</li>\n",
       "</ol>\n"
      ],
      "text/latex": [
       "\\begin{enumerate*}\n",
       "\\item 2\n",
       "\\item 1\n",
       "\\item 2\n",
       "\\item 3\n",
       "\\item 3\n",
       "\\item 1\n",
       "\\item 3\n",
       "\\end{enumerate*}\n"
      ],
      "text/markdown": [
       "1. 2\n",
       "2. 1\n",
       "3. 2\n",
       "4. 3\n",
       "5. 3\n",
       "6. 1\n",
       "7. 3\n",
       "\n",
       "\n"
      ],
      "text/plain": [
       "[1] 2 1 2 3 3 1 3\n",
       "attr(,\"levels\")\n",
       "[1] \"small\"  \"medium\" \"large\" "
      ]
     },
     "metadata": {},
     "output_type": "display_data"
    },
    {
     "data": {
      "text/html": [
       "<ol class=list-inline>\n",
       "\t<li>'small'</li>\n",
       "\t<li>'medium'</li>\n",
       "\t<li>'large'</li>\n",
       "</ol>\n"
      ],
      "text/latex": [
       "\\begin{enumerate*}\n",
       "\\item 'small'\n",
       "\\item 'medium'\n",
       "\\item 'large'\n",
       "\\end{enumerate*}\n"
      ],
      "text/markdown": [
       "1. 'small'\n",
       "2. 'medium'\n",
       "3. 'large'\n",
       "\n",
       "\n"
      ],
      "text/plain": [
       "[1] \"small\"  \"medium\" \"large\" "
      ]
     },
     "metadata": {},
     "output_type": "display_data"
    },
    {
     "data": {
      "text/html": [
       "3"
      ],
      "text/latex": [
       "3"
      ],
      "text/markdown": [
       "3"
      ],
      "text/plain": [
       "[1] 3"
      ]
     },
     "metadata": {},
     "output_type": "display_data"
    },
    {
     "data": {
      "text/html": [
       "TRUE"
      ],
      "text/latex": [
       "TRUE"
      ],
      "text/markdown": [
       "TRUE"
      ],
      "text/plain": [
       "[1] TRUE"
      ]
     },
     "metadata": {},
     "output_type": "display_data"
    }
   ],
   "source": [
    "# ordered factors are explicitly ordered: small medium  large\n",
    "f <- factor(c(\"medium\", \"small\", \"medium\", \"large\", \"large\", \"small\", \"large\"),\n",
    "  levels = c(\"small\", \"medium\", \"large\"), ordered=TRUE)\n",
    "f\n",
    "is.factor(f)\n",
    "is.ordered(f)\n",
    "table(f)\n",
    "unclass(f)\n",
    "levels(f)\n",
    "nlevels(f)\n",
    "f[1] > f[2]    # is meaningful for ordered factors: TRUE"
   ]
  },
  {
   "cell_type": "code",
   "execution_count": 14,
   "metadata": {},
   "outputs": [
    {
     "data": {
      "text/html": [
       "<ol class=list-inline>\n",
       "\t<li>'F'</li>\n",
       "\t<li>'M'</li>\n",
       "</ol>\n"
      ],
      "text/latex": [
       "\\begin{enumerate*}\n",
       "\\item 'F'\n",
       "\\item 'M'\n",
       "\\end{enumerate*}\n"
      ],
      "text/markdown": [
       "1. 'F'\n",
       "2. 'M'\n",
       "\n",
       "\n"
      ],
      "text/plain": [
       "[1] \"F\" \"M\""
      ]
     },
     "metadata": {},
     "output_type": "display_data"
    },
    {
     "data": {
      "text/html": [
       "<ol class=list-inline>\n",
       "\t<li>'Female'</li>\n",
       "\t<li>'Male'</li>\n",
       "</ol>\n"
      ],
      "text/latex": [
       "\\begin{enumerate*}\n",
       "\\item 'Female'\n",
       "\\item 'Male'\n",
       "\\end{enumerate*}\n"
      ],
      "text/markdown": [
       "1. 'Female'\n",
       "2. 'Male'\n",
       "\n",
       "\n"
      ],
      "text/plain": [
       "[1] \"Female\" \"Male\"  "
      ]
     },
     "metadata": {},
     "output_type": "display_data"
    }
   ],
   "source": [
    "v <- c(\"M\", \"F\", \"F\", \"M\", \"M\")\n",
    "f <- factor(v)                   # initial set of levels: 'F' 'M'\n",
    "levels(f)\n",
    "levels(f) <- c(\"Female\", \"Male\") # assign new set of levels: 'Female' 'Male'\n",
    "levels(f)"
   ]
  },
  {
   "cell_type": "markdown",
   "metadata": {},
   "source": [
    "## The split() Function\n",
    "\n",
    "The split() function splits a vector into groups by factor."
   ]
  },
  {
   "cell_type": "code",
   "execution_count": 21,
   "metadata": {},
   "outputs": [
    {
     "data": {
      "text/html": [
       "<dl class=dl-horizontal>\n",
       "\t<dt>small</dt>\n",
       "\t\t<dd>2</dd>\n",
       "\t<dt>medium</dt>\n",
       "\t\t<dd>2</dd>\n",
       "\t<dt>large</dt>\n",
       "\t\t<dd>3</dd>\n",
       "</dl>\n"
      ],
      "text/latex": [
       "\\begin{description*}\n",
       "\\item[small] 2\n",
       "\\item[medium] 2\n",
       "\\item[large] 3\n",
       "\\end{description*}\n"
      ],
      "text/markdown": [
       "small\n",
       ":   2medium\n",
       ":   2large\n",
       ":   3\n",
       "\n"
      ],
      "text/plain": [
       " small medium  large \n",
       "     2      2      3 "
      ]
     },
     "metadata": {},
     "output_type": "display_data"
    },
    {
     "data": {
      "text/html": [
       "<table>\n",
       "<thead><tr><th scope=col>sizes</th><th scope=col>prices</th></tr></thead>\n",
       "<tbody>\n",
       "\t<tr><td>2</td><td>5</td></tr>\n",
       "\t<tr><td>1</td><td>7</td></tr>\n",
       "\t<tr><td>2</td><td>3</td></tr>\n",
       "\t<tr><td>3</td><td>9</td></tr>\n",
       "\t<tr><td>3</td><td>6</td></tr>\n",
       "\t<tr><td>1</td><td>4</td></tr>\n",
       "\t<tr><td>3</td><td>5</td></tr>\n",
       "</tbody>\n",
       "</table>\n"
      ],
      "text/latex": [
       "\\begin{tabular}{ll}\n",
       " sizes & prices\\\\\n",
       "\\hline\n",
       "\t 2 & 5\\\\\n",
       "\t 1 & 7\\\\\n",
       "\t 2 & 3\\\\\n",
       "\t 3 & 9\\\\\n",
       "\t 3 & 6\\\\\n",
       "\t 1 & 4\\\\\n",
       "\t 3 & 5\\\\\n",
       "\\end{tabular}\n"
      ],
      "text/markdown": [
       "\n",
       "sizes | prices | \n",
       "|---|---|---|---|---|---|---|\n",
       "| 2 | 5 | \n",
       "| 1 | 7 | \n",
       "| 2 | 3 | \n",
       "| 3 | 9 | \n",
       "| 3 | 6 | \n",
       "| 1 | 4 | \n",
       "| 3 | 5 | \n",
       "\n",
       "\n"
      ],
      "text/plain": [
       "     sizes prices\n",
       "[1,] 2     5     \n",
       "[2,] 1     7     \n",
       "[3,] 2     3     \n",
       "[4,] 3     9     \n",
       "[5,] 3     6     \n",
       "[6,] 1     4     \n",
       "[7,] 3     5     "
      ]
     },
     "metadata": {},
     "output_type": "display_data"
    },
    {
     "data": {
      "text/plain": [
       "     sizes           prices     \n",
       " Min.   :1.000   Min.   :3.000  \n",
       " 1st Qu.:1.500   1st Qu.:4.500  \n",
       " Median :2.000   Median :5.000  \n",
       " Mean   :2.143   Mean   :5.571  \n",
       " 3rd Qu.:3.000   3rd Qu.:6.500  \n",
       " Max.   :3.000   Max.   :9.000  "
      ]
     },
     "metadata": {},
     "output_type": "display_data"
    },
    {
     "data": {
      "text/html": [
       "<dl>\n",
       "\t<dt>$small</dt>\n",
       "\t\t<dd><ol class=list-inline>\n",
       "\t<li>1</li>\n",
       "\t<li>1</li>\n",
       "\t<li>7</li>\n",
       "\t<li>4</li>\n",
       "</ol>\n",
       "</dd>\n",
       "\t<dt>$medium</dt>\n",
       "\t\t<dd><ol class=list-inline>\n",
       "\t<li>2</li>\n",
       "\t<li>2</li>\n",
       "\t<li>5</li>\n",
       "\t<li>3</li>\n",
       "</ol>\n",
       "</dd>\n",
       "\t<dt>$large</dt>\n",
       "\t\t<dd><ol class=list-inline>\n",
       "\t<li>3</li>\n",
       "\t<li>3</li>\n",
       "\t<li>3</li>\n",
       "\t<li>9</li>\n",
       "\t<li>6</li>\n",
       "\t<li>5</li>\n",
       "</ol>\n",
       "</dd>\n",
       "</dl>\n"
      ],
      "text/latex": [
       "\\begin{description}\n",
       "\\item[\\$small] \\begin{enumerate*}\n",
       "\\item 1\n",
       "\\item 1\n",
       "\\item 7\n",
       "\\item 4\n",
       "\\end{enumerate*}\n",
       "\n",
       "\\item[\\$medium] \\begin{enumerate*}\n",
       "\\item 2\n",
       "\\item 2\n",
       "\\item 5\n",
       "\\item 3\n",
       "\\end{enumerate*}\n",
       "\n",
       "\\item[\\$large] \\begin{enumerate*}\n",
       "\\item 3\n",
       "\\item 3\n",
       "\\item 3\n",
       "\\item 9\n",
       "\\item 6\n",
       "\\item 5\n",
       "\\end{enumerate*}\n",
       "\n",
       "\\end{description}\n"
      ],
      "text/markdown": [
       "$small\n",
       ":   1. 1\n",
       "2. 1\n",
       "3. 7\n",
       "4. 4\n",
       "\n",
       "\n",
       "\n",
       "$medium\n",
       ":   1. 2\n",
       "2. 2\n",
       "3. 5\n",
       "4. 3\n",
       "\n",
       "\n",
       "\n",
       "$large\n",
       ":   1. 3\n",
       "2. 3\n",
       "3. 3\n",
       "4. 9\n",
       "5. 6\n",
       "6. 5\n",
       "\n",
       "\n",
       "\n",
       "\n",
       "\n"
      ],
      "text/plain": [
       "$small\n",
       "[1] 1 1 7 4\n",
       "\n",
       "$medium\n",
       "[1] 2 2 5 3\n",
       "\n",
       "$large\n",
       "[1] 3 3 3 9 6 5\n"
      ]
     },
     "metadata": {},
     "output_type": "display_data"
    },
    {
     "data": {
      "text/html": [
       "<table>\n",
       "<thead><tr><th scope=col>sizes</th><th scope=col>prices</th></tr></thead>\n",
       "<tbody>\n",
       "\t<tr><td>medium</td><td>5     </td></tr>\n",
       "\t<tr><td>small </td><td>7     </td></tr>\n",
       "\t<tr><td>medium</td><td>3     </td></tr>\n",
       "\t<tr><td>large </td><td>9     </td></tr>\n",
       "\t<tr><td>large </td><td>6     </td></tr>\n",
       "\t<tr><td>small </td><td>4     </td></tr>\n",
       "\t<tr><td>large </td><td>5     </td></tr>\n",
       "</tbody>\n",
       "</table>\n"
      ],
      "text/latex": [
       "\\begin{tabular}{r|ll}\n",
       " sizes & prices\\\\\n",
       "\\hline\n",
       "\t medium & 5     \\\\\n",
       "\t small  & 7     \\\\\n",
       "\t medium & 3     \\\\\n",
       "\t large  & 9     \\\\\n",
       "\t large  & 6     \\\\\n",
       "\t small  & 4     \\\\\n",
       "\t large  & 5     \\\\\n",
       "\\end{tabular}\n"
      ],
      "text/markdown": [
       "\n",
       "sizes | prices | \n",
       "|---|---|---|---|---|---|---|\n",
       "| medium | 5      | \n",
       "| small  | 7      | \n",
       "| medium | 3      | \n",
       "| large  | 9      | \n",
       "| large  | 6      | \n",
       "| small  | 4      | \n",
       "| large  | 5      | \n",
       "\n",
       "\n"
      ],
      "text/plain": [
       "  sizes  prices\n",
       "1 medium 5     \n",
       "2 small  7     \n",
       "3 medium 3     \n",
       "4 large  9     \n",
       "5 large  6     \n",
       "6 small  4     \n",
       "7 large  5     "
      ]
     },
     "metadata": {},
     "output_type": "display_data"
    },
    {
     "data": {
      "image/png": "[encoded data removed]",
      "text/plain": [
       "plot without title"
      ]
     },
     "metadata": {},
     "output_type": "display_data"
    }
   ],
   "source": [
    "# the split() function splits the collection into groups by factor\n",
    "# the labels argument is a vector of values of labels for categories in the levels argument\n",
    "sizes <- factor(c(\"medium\", \"small\", \"medium\", \"large\", \"large\", \"small\", \"large\"), \n",
    "  levels = c(\"small\", \"medium\", \"large\"), labels = c(\"small\", \"medium\", \"large\"), ordered=TRUE)\n",
    "summary(sizes)\n",
    "prices <- c(5.00,  7.00, 3.00, 9.00, 6.00, 4.00, 5.00)\n",
    "m <- cbind(sizes, prices)\n",
    "m\n",
    "summary(m)\n",
    "groups <- split(m, sizes)\n",
    "groups\n",
    "df = data.frame(sizes, prices)\n",
    "df\n",
    "plot(df$prices ~ df$sizes)"
   ]
  },
  {
   "cell_type": "markdown",
   "metadata": {},
   "source": [
    "## The tapply() Function\n",
    "\n",
    "The split() function splits a vector into groups and then applies a speciﬁed function on each group."
   ]
  },
  {
   "cell_type": "code",
   "execution_count": 10,
   "metadata": {},
   "outputs": [
    {
     "data": {
      "text/html": [
       "<dl class=dl-horizontal>\n",
       "\t<dt>F</dt>\n",
       "\t\t<dd>68.5</dd>\n",
       "\t<dt>M</dt>\n",
       "\t\t<dd>83.5</dd>\n",
       "</dl>\n"
      ],
      "text/plain": [
       "   F    M \n",
       "68.5 83.5 "
      ]
     },
     "metadata": {},
     "output_type": "display_data"
    }
   ],
   "source": [
    "# the tapply() function\n",
    "heights <- c(67, 77, 87, 70, 78, 92)\n",
    "genders <- factor(c(\"F\",\"M\",\"M\",\"F\",\"M\",\"M\"))\n",
    "heights.by.gender <- tapply(heights, genders, mean) # split heights by gender factor and calculate mean\n",
    "heights.by.gender"
   ]
  },
  {
   "cell_type": "markdown",
   "metadata": {},
   "source": [
    "## The qplot() Function"
   ]
  },
  {
   "cell_type": "code",
   "execution_count": 19,
   "metadata": {},
   "outputs": [
    {
     "data": {
      "text/html": [
       "<table>\n",
       "<thead><tr><th></th><th scope=col>mpg</th><th scope=col>cyl</th><th scope=col>disp</th><th scope=col>hp</th><th scope=col>drat</th><th scope=col>wt</th><th scope=col>qsec</th><th scope=col>vs</th><th scope=col>am</th><th scope=col>gear</th><th scope=col>carb</th></tr></thead>\n",
       "<tbody>\n",
       "\t<tr><th scope=row>Mazda RX4</th><td>21.0 </td><td>6    </td><td>160.0</td><td>110  </td><td>3.90 </td><td>2.620</td><td>16.46</td><td>0    </td><td>1    </td><td>4    </td><td>4    </td></tr>\n",
       "\t<tr><th scope=row>Mazda RX4 Wag</th><td>21.0 </td><td>6    </td><td>160.0</td><td>110  </td><td>3.90 </td><td>2.875</td><td>17.02</td><td>0    </td><td>1    </td><td>4    </td><td>4    </td></tr>\n",
       "\t<tr><th scope=row>Datsun 710</th><td>22.8 </td><td>4    </td><td>108.0</td><td> 93  </td><td>3.85 </td><td>2.320</td><td>18.61</td><td>1    </td><td>1    </td><td>4    </td><td>1    </td></tr>\n",
       "\t<tr><th scope=row>Hornet 4 Drive</th><td>21.4 </td><td>6    </td><td>258.0</td><td>110  </td><td>3.08 </td><td>3.215</td><td>19.44</td><td>1    </td><td>0    </td><td>3    </td><td>1    </td></tr>\n",
       "\t<tr><th scope=row>Hornet Sportabout</th><td>18.7 </td><td>8    </td><td>360.0</td><td>175  </td><td>3.15 </td><td>3.440</td><td>17.02</td><td>0    </td><td>0    </td><td>3    </td><td>2    </td></tr>\n",
       "\t<tr><th scope=row>Valiant</th><td>18.1 </td><td>6    </td><td>225.0</td><td>105  </td><td>2.76 </td><td>3.460</td><td>20.22</td><td>1    </td><td>0    </td><td>3    </td><td>1    </td></tr>\n",
       "\t<tr><th scope=row>Duster 360</th><td>14.3 </td><td>8    </td><td>360.0</td><td>245  </td><td>3.21 </td><td>3.570</td><td>15.84</td><td>0    </td><td>0    </td><td>3    </td><td>4    </td></tr>\n",
       "\t<tr><th scope=row>Merc 240D</th><td>24.4 </td><td>4    </td><td>146.7</td><td> 62  </td><td>3.69 </td><td>3.190</td><td>20.00</td><td>1    </td><td>0    </td><td>4    </td><td>2    </td></tr>\n",
       "\t<tr><th scope=row>Merc 230</th><td>22.8 </td><td>4    </td><td>140.8</td><td> 95  </td><td>3.92 </td><td>3.150</td><td>22.90</td><td>1    </td><td>0    </td><td>4    </td><td>2    </td></tr>\n",
       "\t<tr><th scope=row>Merc 280</th><td>19.2 </td><td>6    </td><td>167.6</td><td>123  </td><td>3.92 </td><td>3.440</td><td>18.30</td><td>1    </td><td>0    </td><td>4    </td><td>4    </td></tr>\n",
       "\t<tr><th scope=row>Merc 280C</th><td>17.8 </td><td>6    </td><td>167.6</td><td>123  </td><td>3.92 </td><td>3.440</td><td>18.90</td><td>1    </td><td>0    </td><td>4    </td><td>4    </td></tr>\n",
       "\t<tr><th scope=row>Merc 450SE</th><td>16.4 </td><td>8    </td><td>275.8</td><td>180  </td><td>3.07 </td><td>4.070</td><td>17.40</td><td>0    </td><td>0    </td><td>3    </td><td>3    </td></tr>\n",
       "\t<tr><th scope=row>Merc 450SL</th><td>17.3 </td><td>8    </td><td>275.8</td><td>180  </td><td>3.07 </td><td>3.730</td><td>17.60</td><td>0    </td><td>0    </td><td>3    </td><td>3    </td></tr>\n",
       "\t<tr><th scope=row>Merc 450SLC</th><td>15.2 </td><td>8    </td><td>275.8</td><td>180  </td><td>3.07 </td><td>3.780</td><td>18.00</td><td>0    </td><td>0    </td><td>3    </td><td>3    </td></tr>\n",
       "\t<tr><th scope=row>Cadillac Fleetwood</th><td>10.4 </td><td>8    </td><td>472.0</td><td>205  </td><td>2.93 </td><td>5.250</td><td>17.98</td><td>0    </td><td>0    </td><td>3    </td><td>4    </td></tr>\n",
       "\t<tr><th scope=row>Lincoln Continental</th><td>10.4 </td><td>8    </td><td>460.0</td><td>215  </td><td>3.00 </td><td>5.424</td><td>17.82</td><td>0    </td><td>0    </td><td>3    </td><td>4    </td></tr>\n",
       "\t<tr><th scope=row>Chrysler Imperial</th><td>14.7 </td><td>8    </td><td>440.0</td><td>230  </td><td>3.23 </td><td>5.345</td><td>17.42</td><td>0    </td><td>0    </td><td>3    </td><td>4    </td></tr>\n",
       "\t<tr><th scope=row>Fiat 128</th><td>32.4 </td><td>4    </td><td> 78.7</td><td> 66  </td><td>4.08 </td><td>2.200</td><td>19.47</td><td>1    </td><td>1    </td><td>4    </td><td>1    </td></tr>\n",
       "\t<tr><th scope=row>Honda Civic</th><td>30.4 </td><td>4    </td><td> 75.7</td><td> 52  </td><td>4.93 </td><td>1.615</td><td>18.52</td><td>1    </td><td>1    </td><td>4    </td><td>2    </td></tr>\n",
       "\t<tr><th scope=row>Toyota Corolla</th><td>33.9 </td><td>4    </td><td> 71.1</td><td> 65  </td><td>4.22 </td><td>1.835</td><td>19.90</td><td>1    </td><td>1    </td><td>4    </td><td>1    </td></tr>\n",
       "\t<tr><th scope=row>Toyota Corona</th><td>21.5 </td><td>4    </td><td>120.1</td><td> 97  </td><td>3.70 </td><td>2.465</td><td>20.01</td><td>1    </td><td>0    </td><td>3    </td><td>1    </td></tr>\n",
       "\t<tr><th scope=row>Dodge Challenger</th><td>15.5 </td><td>8    </td><td>318.0</td><td>150  </td><td>2.76 </td><td>3.520</td><td>16.87</td><td>0    </td><td>0    </td><td>3    </td><td>2    </td></tr>\n",
       "\t<tr><th scope=row>AMC Javelin</th><td>15.2 </td><td>8    </td><td>304.0</td><td>150  </td><td>3.15 </td><td>3.435</td><td>17.30</td><td>0    </td><td>0    </td><td>3    </td><td>2    </td></tr>\n",
       "\t<tr><th scope=row>Camaro Z28</th><td>13.3 </td><td>8    </td><td>350.0</td><td>245  </td><td>3.73 </td><td>3.840</td><td>15.41</td><td>0    </td><td>0    </td><td>3    </td><td>4    </td></tr>\n",
       "\t<tr><th scope=row>Pontiac Firebird</th><td>19.2 </td><td>8    </td><td>400.0</td><td>175  </td><td>3.08 </td><td>3.845</td><td>17.05</td><td>0    </td><td>0    </td><td>3    </td><td>2    </td></tr>\n",
       "\t<tr><th scope=row>Fiat X1-9</th><td>27.3 </td><td>4    </td><td> 79.0</td><td> 66  </td><td>4.08 </td><td>1.935</td><td>18.90</td><td>1    </td><td>1    </td><td>4    </td><td>1    </td></tr>\n",
       "\t<tr><th scope=row>Porsche 914-2</th><td>26.0 </td><td>4    </td><td>120.3</td><td> 91  </td><td>4.43 </td><td>2.140</td><td>16.70</td><td>0    </td><td>1    </td><td>5    </td><td>2    </td></tr>\n",
       "\t<tr><th scope=row>Lotus Europa</th><td>30.4 </td><td>4    </td><td> 95.1</td><td>113  </td><td>3.77 </td><td>1.513</td><td>16.90</td><td>1    </td><td>1    </td><td>5    </td><td>2    </td></tr>\n",
       "\t<tr><th scope=row>Ford Pantera L</th><td>15.8 </td><td>8    </td><td>351.0</td><td>264  </td><td>4.22 </td><td>3.170</td><td>14.50</td><td>0    </td><td>1    </td><td>5    </td><td>4    </td></tr>\n",
       "\t<tr><th scope=row>Ferrari Dino</th><td>19.7 </td><td>6    </td><td>145.0</td><td>175  </td><td>3.62 </td><td>2.770</td><td>15.50</td><td>0    </td><td>1    </td><td>5    </td><td>6    </td></tr>\n",
       "\t<tr><th scope=row>Maserati Bora</th><td>15.0 </td><td>8    </td><td>301.0</td><td>335  </td><td>3.54 </td><td>3.570</td><td>14.60</td><td>0    </td><td>1    </td><td>5    </td><td>8    </td></tr>\n",
       "\t<tr><th scope=row>Volvo 142E</th><td>21.4 </td><td>4    </td><td>121.0</td><td>109  </td><td>4.11 </td><td>2.780</td><td>18.60</td><td>1    </td><td>1    </td><td>4    </td><td>2    </td></tr>\n",
       "</tbody>\n",
       "</table>\n"
      ],
      "text/latex": [
       "\\begin{tabular}{r|lllllllllll}\n",
       "  & mpg & cyl & disp & hp & drat & wt & qsec & vs & am & gear & carb\\\\\n",
       "\\hline\n",
       "\tMazda RX4 & 21.0  & 6     & 160.0 & 110   & 3.90  & 2.620 & 16.46 & 0     & 1     & 4     & 4    \\\\\n",
       "\tMazda RX4 Wag & 21.0  & 6     & 160.0 & 110   & 3.90  & 2.875 & 17.02 & 0     & 1     & 4     & 4    \\\\\n",
       "\tDatsun 710 & 22.8  & 4     & 108.0 &  93   & 3.85  & 2.320 & 18.61 & 1     & 1     & 4     & 1    \\\\\n",
       "\tHornet 4 Drive & 21.4  & 6     & 258.0 & 110   & 3.08  & 3.215 & 19.44 & 1     & 0     & 3     & 1    \\\\\n",
       "\tHornet Sportabout & 18.7  & 8     & 360.0 & 175   & 3.15  & 3.440 & 17.02 & 0     & 0     & 3     & 2    \\\\\n",
       "\tValiant & 18.1  & 6     & 225.0 & 105   & 2.76  & 3.460 & 20.22 & 1     & 0     & 3     & 1    \\\\\n",
       "\tDuster 360 & 14.3  & 8     & 360.0 & 245   & 3.21  & 3.570 & 15.84 & 0     & 0     & 3     & 4    \\\\\n",
       "\tMerc 240D & 24.4  & 4     & 146.7 &  62   & 3.69  & 3.190 & 20.00 & 1     & 0     & 4     & 2    \\\\\n",
       "\tMerc 230 & 22.8  & 4     & 140.8 &  95   & 3.92  & 3.150 & 22.90 & 1     & 0     & 4     & 2    \\\\\n",
       "\tMerc 280 & 19.2  & 6     & 167.6 & 123   & 3.92  & 3.440 & 18.30 & 1     & 0     & 4     & 4    \\\\\n",
       "\tMerc 280C & 17.8  & 6     & 167.6 & 123   & 3.92  & 3.440 & 18.90 & 1     & 0     & 4     & 4    \\\\\n",
       "\tMerc 450SE & 16.4  & 8     & 275.8 & 180   & 3.07  & 4.070 & 17.40 & 0     & 0     & 3     & 3    \\\\\n",
       "\tMerc 450SL & 17.3  & 8     & 275.8 & 180   & 3.07  & 3.730 & 17.60 & 0     & 0     & 3     & 3    \\\\\n",
       "\tMerc 450SLC & 15.2  & 8     & 275.8 & 180   & 3.07  & 3.780 & 18.00 & 0     & 0     & 3     & 3    \\\\\n",
       "\tCadillac Fleetwood & 10.4  & 8     & 472.0 & 205   & 2.93  & 5.250 & 17.98 & 0     & 0     & 3     & 4    \\\\\n",
       "\tLincoln Continental & 10.4  & 8     & 460.0 & 215   & 3.00  & 5.424 & 17.82 & 0     & 0     & 3     & 4    \\\\\n",
       "\tChrysler Imperial & 14.7  & 8     & 440.0 & 230   & 3.23  & 5.345 & 17.42 & 0     & 0     & 3     & 4    \\\\\n",
       "\tFiat 128 & 32.4  & 4     &  78.7 &  66   & 4.08  & 2.200 & 19.47 & 1     & 1     & 4     & 1    \\\\\n",
       "\tHonda Civic & 30.4  & 4     &  75.7 &  52   & 4.93  & 1.615 & 18.52 & 1     & 1     & 4     & 2    \\\\\n",
       "\tToyota Corolla & 33.9  & 4     &  71.1 &  65   & 4.22  & 1.835 & 19.90 & 1     & 1     & 4     & 1    \\\\\n",
       "\tToyota Corona & 21.5  & 4     & 120.1 &  97   & 3.70  & 2.465 & 20.01 & 1     & 0     & 3     & 1    \\\\\n",
       "\tDodge Challenger & 15.5  & 8     & 318.0 & 150   & 2.76  & 3.520 & 16.87 & 0     & 0     & 3     & 2    \\\\\n",
       "\tAMC Javelin & 15.2  & 8     & 304.0 & 150   & 3.15  & 3.435 & 17.30 & 0     & 0     & 3     & 2    \\\\\n",
       "\tCamaro Z28 & 13.3  & 8     & 350.0 & 245   & 3.73  & 3.840 & 15.41 & 0     & 0     & 3     & 4    \\\\\n",
       "\tPontiac Firebird & 19.2  & 8     & 400.0 & 175   & 3.08  & 3.845 & 17.05 & 0     & 0     & 3     & 2    \\\\\n",
       "\tFiat X1-9 & 27.3  & 4     &  79.0 &  66   & 4.08  & 1.935 & 18.90 & 1     & 1     & 4     & 1    \\\\\n",
       "\tPorsche 914-2 & 26.0  & 4     & 120.3 &  91   & 4.43  & 2.140 & 16.70 & 0     & 1     & 5     & 2    \\\\\n",
       "\tLotus Europa & 30.4  & 4     &  95.1 & 113   & 3.77  & 1.513 & 16.90 & 1     & 1     & 5     & 2    \\\\\n",
       "\tFord Pantera L & 15.8  & 8     & 351.0 & 264   & 4.22  & 3.170 & 14.50 & 0     & 1     & 5     & 4    \\\\\n",
       "\tFerrari Dino & 19.7  & 6     & 145.0 & 175   & 3.62  & 2.770 & 15.50 & 0     & 1     & 5     & 6    \\\\\n",
       "\tMaserati Bora & 15.0  & 8     & 301.0 & 335   & 3.54  & 3.570 & 14.60 & 0     & 1     & 5     & 8    \\\\\n",
       "\tVolvo 142E & 21.4  & 4     & 121.0 & 109   & 4.11  & 2.780 & 18.60 & 1     & 1     & 4     & 2    \\\\\n",
       "\\end{tabular}\n"
      ],
      "text/markdown": [
       "\n",
       "| <!--/--> | mpg | cyl | disp | hp | drat | wt | qsec | vs | am | gear | carb | \n",
       "|---|---|---|---|---|---|---|---|---|---|---|---|---|---|---|---|---|---|---|---|---|---|---|---|---|---|---|---|---|---|---|---|\n",
       "| Mazda RX4 | 21.0  | 6     | 160.0 | 110   | 3.90  | 2.620 | 16.46 | 0     | 1     | 4     | 4     | \n",
       "| Mazda RX4 Wag | 21.0  | 6     | 160.0 | 110   | 3.90  | 2.875 | 17.02 | 0     | 1     | 4     | 4     | \n",
       "| Datsun 710 | 22.8  | 4     | 108.0 |  93   | 3.85  | 2.320 | 18.61 | 1     | 1     | 4     | 1     | \n",
       "| Hornet 4 Drive | 21.4  | 6     | 258.0 | 110   | 3.08  | 3.215 | 19.44 | 1     | 0     | 3     | 1     | \n",
       "| Hornet Sportabout | 18.7  | 8     | 360.0 | 175   | 3.15  | 3.440 | 17.02 | 0     | 0     | 3     | 2     | \n",
       "| Valiant | 18.1  | 6     | 225.0 | 105   | 2.76  | 3.460 | 20.22 | 1     | 0     | 3     | 1     | \n",
       "| Duster 360 | 14.3  | 8     | 360.0 | 245   | 3.21  | 3.570 | 15.84 | 0     | 0     | 3     | 4     | \n",
       "| Merc 240D | 24.4  | 4     | 146.7 |  62   | 3.69  | 3.190 | 20.00 | 1     | 0     | 4     | 2     | \n",
       "| Merc 230 | 22.8  | 4     | 140.8 |  95   | 3.92  | 3.150 | 22.90 | 1     | 0     | 4     | 2     | \n",
       "| Merc 280 | 19.2  | 6     | 167.6 | 123   | 3.92  | 3.440 | 18.30 | 1     | 0     | 4     | 4     | \n",
       "| Merc 280C | 17.8  | 6     | 167.6 | 123   | 3.92  | 3.440 | 18.90 | 1     | 0     | 4     | 4     | \n",
       "| Merc 450SE | 16.4  | 8     | 275.8 | 180   | 3.07  | 4.070 | 17.40 | 0     | 0     | 3     | 3     | \n",
       "| Merc 450SL | 17.3  | 8     | 275.8 | 180   | 3.07  | 3.730 | 17.60 | 0     | 0     | 3     | 3     | \n",
       "| Merc 450SLC | 15.2  | 8     | 275.8 | 180   | 3.07  | 3.780 | 18.00 | 0     | 0     | 3     | 3     | \n",
       "| Cadillac Fleetwood | 10.4  | 8     | 472.0 | 205   | 2.93  | 5.250 | 17.98 | 0     | 0     | 3     | 4     | \n",
       "| Lincoln Continental | 10.4  | 8     | 460.0 | 215   | 3.00  | 5.424 | 17.82 | 0     | 0     | 3     | 4     | \n",
       "| Chrysler Imperial | 14.7  | 8     | 440.0 | 230   | 3.23  | 5.345 | 17.42 | 0     | 0     | 3     | 4     | \n",
       "| Fiat 128 | 32.4  | 4     |  78.7 |  66   | 4.08  | 2.200 | 19.47 | 1     | 1     | 4     | 1     | \n",
       "| Honda Civic | 30.4  | 4     |  75.7 |  52   | 4.93  | 1.615 | 18.52 | 1     | 1     | 4     | 2     | \n",
       "| Toyota Corolla | 33.9  | 4     |  71.1 |  65   | 4.22  | 1.835 | 19.90 | 1     | 1     | 4     | 1     | \n",
       "| Toyota Corona | 21.5  | 4     | 120.1 |  97   | 3.70  | 2.465 | 20.01 | 1     | 0     | 3     | 1     | \n",
       "| Dodge Challenger | 15.5  | 8     | 318.0 | 150   | 2.76  | 3.520 | 16.87 | 0     | 0     | 3     | 2     | \n",
       "| AMC Javelin | 15.2  | 8     | 304.0 | 150   | 3.15  | 3.435 | 17.30 | 0     | 0     | 3     | 2     | \n",
       "| Camaro Z28 | 13.3  | 8     | 350.0 | 245   | 3.73  | 3.840 | 15.41 | 0     | 0     | 3     | 4     | \n",
       "| Pontiac Firebird | 19.2  | 8     | 400.0 | 175   | 3.08  | 3.845 | 17.05 | 0     | 0     | 3     | 2     | \n",
       "| Fiat X1-9 | 27.3  | 4     |  79.0 |  66   | 4.08  | 1.935 | 18.90 | 1     | 1     | 4     | 1     | \n",
       "| Porsche 914-2 | 26.0  | 4     | 120.3 |  91   | 4.43  | 2.140 | 16.70 | 0     | 1     | 5     | 2     | \n",
       "| Lotus Europa | 30.4  | 4     |  95.1 | 113   | 3.77  | 1.513 | 16.90 | 1     | 1     | 5     | 2     | \n",
       "| Ford Pantera L | 15.8  | 8     | 351.0 | 264   | 4.22  | 3.170 | 14.50 | 0     | 1     | 5     | 4     | \n",
       "| Ferrari Dino | 19.7  | 6     | 145.0 | 175   | 3.62  | 2.770 | 15.50 | 0     | 1     | 5     | 6     | \n",
       "| Maserati Bora | 15.0  | 8     | 301.0 | 335   | 3.54  | 3.570 | 14.60 | 0     | 1     | 5     | 8     | \n",
       "| Volvo 142E | 21.4  | 4     | 121.0 | 109   | 4.11  | 2.780 | 18.60 | 1     | 1     | 4     | 2     | \n",
       "\n",
       "\n"
      ],
      "text/plain": [
       "                    mpg  cyl disp  hp  drat wt    qsec  vs am gear carb\n",
       "Mazda RX4           21.0 6   160.0 110 3.90 2.620 16.46 0  1  4    4   \n",
       "Mazda RX4 Wag       21.0 6   160.0 110 3.90 2.875 17.02 0  1  4    4   \n",
       "Datsun 710          22.8 4   108.0  93 3.85 2.320 18.61 1  1  4    1   \n",
       "Hornet 4 Drive      21.4 6   258.0 110 3.08 3.215 19.44 1  0  3    1   \n",
       "Hornet Sportabout   18.7 8   360.0 175 3.15 3.440 17.02 0  0  3    2   \n",
       "Valiant             18.1 6   225.0 105 2.76 3.460 20.22 1  0  3    1   \n",
       "Duster 360          14.3 8   360.0 245 3.21 3.570 15.84 0  0  3    4   \n",
       "Merc 240D           24.4 4   146.7  62 3.69 3.190 20.00 1  0  4    2   \n",
       "Merc 230            22.8 4   140.8  95 3.92 3.150 22.90 1  0  4    2   \n",
       "Merc 280            19.2 6   167.6 123 3.92 3.440 18.30 1  0  4    4   \n",
       "Merc 280C           17.8 6   167.6 123 3.92 3.440 18.90 1  0  4    4   \n",
       "Merc 450SE          16.4 8   275.8 180 3.07 4.070 17.40 0  0  3    3   \n",
       "Merc 450SL          17.3 8   275.8 180 3.07 3.730 17.60 0  0  3    3   \n",
       "Merc 450SLC         15.2 8   275.8 180 3.07 3.780 18.00 0  0  3    3   \n",
       "Cadillac Fleetwood  10.4 8   472.0 205 2.93 5.250 17.98 0  0  3    4   \n",
       "Lincoln Continental 10.4 8   460.0 215 3.00 5.424 17.82 0  0  3    4   \n",
       "Chrysler Imperial   14.7 8   440.0 230 3.23 5.345 17.42 0  0  3    4   \n",
       "Fiat 128            32.4 4    78.7  66 4.08 2.200 19.47 1  1  4    1   \n",
       "Honda Civic         30.4 4    75.7  52 4.93 1.615 18.52 1  1  4    2   \n",
       "Toyota Corolla      33.9 4    71.1  65 4.22 1.835 19.90 1  1  4    1   \n",
       "Toyota Corona       21.5 4   120.1  97 3.70 2.465 20.01 1  0  3    1   \n",
       "Dodge Challenger    15.5 8   318.0 150 2.76 3.520 16.87 0  0  3    2   \n",
       "AMC Javelin         15.2 8   304.0 150 3.15 3.435 17.30 0  0  3    2   \n",
       "Camaro Z28          13.3 8   350.0 245 3.73 3.840 15.41 0  0  3    4   \n",
       "Pontiac Firebird    19.2 8   400.0 175 3.08 3.845 17.05 0  0  3    2   \n",
       "Fiat X1-9           27.3 4    79.0  66 4.08 1.935 18.90 1  1  4    1   \n",
       "Porsche 914-2       26.0 4   120.3  91 4.43 2.140 16.70 0  1  5    2   \n",
       "Lotus Europa        30.4 4    95.1 113 3.77 1.513 16.90 1  1  5    2   \n",
       "Ford Pantera L      15.8 8   351.0 264 4.22 3.170 14.50 0  1  5    4   \n",
       "Ferrari Dino        19.7 6   145.0 175 3.62 2.770 15.50 0  1  5    6   \n",
       "Maserati Bora       15.0 8   301.0 335 3.54 3.570 14.60 0  1  5    8   \n",
       "Volvo 142E          21.4 4   121.0 109 4.11 2.780 18.60 1  1  4    2   "
      ]
     },
     "metadata": {},
     "output_type": "display_data"
    },
    {
     "data": {
      "text/html": [
       "<dl class=dl-horizontal>\n",
       "\t<dt>mpg</dt>\n",
       "\t\t<dd>'numeric'</dd>\n",
       "\t<dt>cyl</dt>\n",
       "\t\t<dd>'numeric'</dd>\n",
       "\t<dt>disp</dt>\n",
       "\t\t<dd>'numeric'</dd>\n",
       "\t<dt>hp</dt>\n",
       "\t\t<dd>'numeric'</dd>\n",
       "\t<dt>drat</dt>\n",
       "\t\t<dd>'numeric'</dd>\n",
       "\t<dt>wt</dt>\n",
       "\t\t<dd>'numeric'</dd>\n",
       "\t<dt>qsec</dt>\n",
       "\t\t<dd>'numeric'</dd>\n",
       "\t<dt>vs</dt>\n",
       "\t\t<dd>'numeric'</dd>\n",
       "\t<dt>am</dt>\n",
       "\t\t<dd>'numeric'</dd>\n",
       "\t<dt>gear</dt>\n",
       "\t\t<dd>'numeric'</dd>\n",
       "\t<dt>carb</dt>\n",
       "\t\t<dd>'numeric'</dd>\n",
       "</dl>\n"
      ],
      "text/latex": [
       "\\begin{description*}\n",
       "\\item[mpg] 'numeric'\n",
       "\\item[cyl] 'numeric'\n",
       "\\item[disp] 'numeric'\n",
       "\\item[hp] 'numeric'\n",
       "\\item[drat] 'numeric'\n",
       "\\item[wt] 'numeric'\n",
       "\\item[qsec] 'numeric'\n",
       "\\item[vs] 'numeric'\n",
       "\\item[am] 'numeric'\n",
       "\\item[gear] 'numeric'\n",
       "\\item[carb] 'numeric'\n",
       "\\end{description*}\n"
      ],
      "text/markdown": [
       "mpg\n",
       ":   'numeric'cyl\n",
       ":   'numeric'disp\n",
       ":   'numeric'hp\n",
       ":   'numeric'drat\n",
       ":   'numeric'wt\n",
       ":   'numeric'qsec\n",
       ":   'numeric'vs\n",
       ":   'numeric'am\n",
       ":   'numeric'gear\n",
       ":   'numeric'carb\n",
       ":   'numeric'\n",
       "\n"
      ],
      "text/plain": [
       "      mpg       cyl      disp        hp      drat        wt      qsec        vs \n",
       "\"numeric\" \"numeric\" \"numeric\" \"numeric\" \"numeric\" \"numeric\" \"numeric\" \"numeric\" \n",
       "       am      gear      carb \n",
       "\"numeric\" \"numeric\" \"numeric\" "
      ]
     },
     "metadata": {},
     "output_type": "display_data"
    },
    {
     "data": {
      "text/html": [
       "<table>\n",
       "<thead><tr><th></th><th scope=col>mpg</th><th scope=col>cyl</th><th scope=col>disp</th><th scope=col>hp</th><th scope=col>drat</th><th scope=col>wt</th><th scope=col>qsec</th><th scope=col>vs</th><th scope=col>am</th><th scope=col>gear</th><th scope=col>carb</th></tr></thead>\n",
       "<tbody>\n",
       "\t<tr><th scope=row>Mazda RX4</th><td>21.0     </td><td>6cyl     </td><td>160.0    </td><td>110      </td><td>3.90     </td><td>2.620    </td><td>16.46    </td><td>0        </td><td>Manual   </td><td>4gears   </td><td>4        </td></tr>\n",
       "\t<tr><th scope=row>Mazda RX4 Wag</th><td>21.0     </td><td>6cyl     </td><td>160.0    </td><td>110      </td><td>3.90     </td><td>2.875    </td><td>17.02    </td><td>0        </td><td>Manual   </td><td>4gears   </td><td>4        </td></tr>\n",
       "\t<tr><th scope=row>Datsun 710</th><td>22.8     </td><td>4cyl     </td><td>108.0    </td><td> 93      </td><td>3.85     </td><td>2.320    </td><td>18.61    </td><td>1        </td><td>Manual   </td><td>4gears   </td><td>1        </td></tr>\n",
       "\t<tr><th scope=row>Hornet 4 Drive</th><td>21.4     </td><td>6cyl     </td><td>258.0    </td><td>110      </td><td>3.08     </td><td>3.215    </td><td>19.44    </td><td>1        </td><td>Automatic</td><td>3gears   </td><td>1        </td></tr>\n",
       "\t<tr><th scope=row>Hornet Sportabout</th><td>18.7     </td><td>8cyl     </td><td>360.0    </td><td>175      </td><td>3.15     </td><td>3.440    </td><td>17.02    </td><td>0        </td><td>Automatic</td><td>3gears   </td><td>2        </td></tr>\n",
       "\t<tr><th scope=row>Valiant</th><td>18.1     </td><td>6cyl     </td><td>225.0    </td><td>105      </td><td>2.76     </td><td>3.460    </td><td>20.22    </td><td>1        </td><td>Automatic</td><td>3gears   </td><td>1        </td></tr>\n",
       "\t<tr><th scope=row>Duster 360</th><td>14.3     </td><td>8cyl     </td><td>360.0    </td><td>245      </td><td>3.21     </td><td>3.570    </td><td>15.84    </td><td>0        </td><td>Automatic</td><td>3gears   </td><td>4        </td></tr>\n",
       "\t<tr><th scope=row>Merc 240D</th><td>24.4     </td><td>4cyl     </td><td>146.7    </td><td> 62      </td><td>3.69     </td><td>3.190    </td><td>20.00    </td><td>1        </td><td>Automatic</td><td>4gears   </td><td>2        </td></tr>\n",
       "\t<tr><th scope=row>Merc 230</th><td>22.8     </td><td>4cyl     </td><td>140.8    </td><td> 95      </td><td>3.92     </td><td>3.150    </td><td>22.90    </td><td>1        </td><td>Automatic</td><td>4gears   </td><td>2        </td></tr>\n",
       "\t<tr><th scope=row>Merc 280</th><td>19.2     </td><td>6cyl     </td><td>167.6    </td><td>123      </td><td>3.92     </td><td>3.440    </td><td>18.30    </td><td>1        </td><td>Automatic</td><td>4gears   </td><td>4        </td></tr>\n",
       "\t<tr><th scope=row>Merc 280C</th><td>17.8     </td><td>6cyl     </td><td>167.6    </td><td>123      </td><td>3.92     </td><td>3.440    </td><td>18.90    </td><td>1        </td><td>Automatic</td><td>4gears   </td><td>4        </td></tr>\n",
       "\t<tr><th scope=row>Merc 450SE</th><td>16.4     </td><td>8cyl     </td><td>275.8    </td><td>180      </td><td>3.07     </td><td>4.070    </td><td>17.40    </td><td>0        </td><td>Automatic</td><td>3gears   </td><td>3        </td></tr>\n",
       "\t<tr><th scope=row>Merc 450SL</th><td>17.3     </td><td>8cyl     </td><td>275.8    </td><td>180      </td><td>3.07     </td><td>3.730    </td><td>17.60    </td><td>0        </td><td>Automatic</td><td>3gears   </td><td>3        </td></tr>\n",
       "\t<tr><th scope=row>Merc 450SLC</th><td>15.2     </td><td>8cyl     </td><td>275.8    </td><td>180      </td><td>3.07     </td><td>3.780    </td><td>18.00    </td><td>0        </td><td>Automatic</td><td>3gears   </td><td>3        </td></tr>\n",
       "\t<tr><th scope=row>Cadillac Fleetwood</th><td>10.4     </td><td>8cyl     </td><td>472.0    </td><td>205      </td><td>2.93     </td><td>5.250    </td><td>17.98    </td><td>0        </td><td>Automatic</td><td>3gears   </td><td>4        </td></tr>\n",
       "\t<tr><th scope=row>Lincoln Continental</th><td>10.4     </td><td>8cyl     </td><td>460.0    </td><td>215      </td><td>3.00     </td><td>5.424    </td><td>17.82    </td><td>0        </td><td>Automatic</td><td>3gears   </td><td>4        </td></tr>\n",
       "\t<tr><th scope=row>Chrysler Imperial</th><td>14.7     </td><td>8cyl     </td><td>440.0    </td><td>230      </td><td>3.23     </td><td>5.345    </td><td>17.42    </td><td>0        </td><td>Automatic</td><td>3gears   </td><td>4        </td></tr>\n",
       "\t<tr><th scope=row>Fiat 128</th><td>32.4     </td><td>4cyl     </td><td> 78.7    </td><td> 66      </td><td>4.08     </td><td>2.200    </td><td>19.47    </td><td>1        </td><td>Manual   </td><td>4gears   </td><td>1        </td></tr>\n",
       "\t<tr><th scope=row>Honda Civic</th><td>30.4     </td><td>4cyl     </td><td> 75.7    </td><td> 52      </td><td>4.93     </td><td>1.615    </td><td>18.52    </td><td>1        </td><td>Manual   </td><td>4gears   </td><td>2        </td></tr>\n",
       "\t<tr><th scope=row>Toyota Corolla</th><td>33.9     </td><td>4cyl     </td><td> 71.1    </td><td> 65      </td><td>4.22     </td><td>1.835    </td><td>19.90    </td><td>1        </td><td>Manual   </td><td>4gears   </td><td>1        </td></tr>\n",
       "\t<tr><th scope=row>Toyota Corona</th><td>21.5     </td><td>4cyl     </td><td>120.1    </td><td> 97      </td><td>3.70     </td><td>2.465    </td><td>20.01    </td><td>1        </td><td>Automatic</td><td>3gears   </td><td>1        </td></tr>\n",
       "\t<tr><th scope=row>Dodge Challenger</th><td>15.5     </td><td>8cyl     </td><td>318.0    </td><td>150      </td><td>2.76     </td><td>3.520    </td><td>16.87    </td><td>0        </td><td>Automatic</td><td>3gears   </td><td>2        </td></tr>\n",
       "\t<tr><th scope=row>AMC Javelin</th><td>15.2     </td><td>8cyl     </td><td>304.0    </td><td>150      </td><td>3.15     </td><td>3.435    </td><td>17.30    </td><td>0        </td><td>Automatic</td><td>3gears   </td><td>2        </td></tr>\n",
       "\t<tr><th scope=row>Camaro Z28</th><td>13.3     </td><td>8cyl     </td><td>350.0    </td><td>245      </td><td>3.73     </td><td>3.840    </td><td>15.41    </td><td>0        </td><td>Automatic</td><td>3gears   </td><td>4        </td></tr>\n",
       "\t<tr><th scope=row>Pontiac Firebird</th><td>19.2     </td><td>8cyl     </td><td>400.0    </td><td>175      </td><td>3.08     </td><td>3.845    </td><td>17.05    </td><td>0        </td><td>Automatic</td><td>3gears   </td><td>2        </td></tr>\n",
       "\t<tr><th scope=row>Fiat X1-9</th><td>27.3     </td><td>4cyl     </td><td> 79.0    </td><td> 66      </td><td>4.08     </td><td>1.935    </td><td>18.90    </td><td>1        </td><td>Manual   </td><td>4gears   </td><td>1        </td></tr>\n",
       "\t<tr><th scope=row>Porsche 914-2</th><td>26.0     </td><td>4cyl     </td><td>120.3    </td><td> 91      </td><td>4.43     </td><td>2.140    </td><td>16.70    </td><td>0        </td><td>Manual   </td><td>5gears   </td><td>2        </td></tr>\n",
       "\t<tr><th scope=row>Lotus Europa</th><td>30.4     </td><td>4cyl     </td><td> 95.1    </td><td>113      </td><td>3.77     </td><td>1.513    </td><td>16.90    </td><td>1        </td><td>Manual   </td><td>5gears   </td><td>2        </td></tr>\n",
       "\t<tr><th scope=row>Ford Pantera L</th><td>15.8     </td><td>8cyl     </td><td>351.0    </td><td>264      </td><td>4.22     </td><td>3.170    </td><td>14.50    </td><td>0        </td><td>Manual   </td><td>5gears   </td><td>4        </td></tr>\n",
       "\t<tr><th scope=row>Ferrari Dino</th><td>19.7     </td><td>6cyl     </td><td>145.0    </td><td>175      </td><td>3.62     </td><td>2.770    </td><td>15.50    </td><td>0        </td><td>Manual   </td><td>5gears   </td><td>6        </td></tr>\n",
       "\t<tr><th scope=row>Maserati Bora</th><td>15.0     </td><td>8cyl     </td><td>301.0    </td><td>335      </td><td>3.54     </td><td>3.570    </td><td>14.60    </td><td>0        </td><td>Manual   </td><td>5gears   </td><td>8        </td></tr>\n",
       "\t<tr><th scope=row>Volvo 142E</th><td>21.4     </td><td>4cyl     </td><td>121.0    </td><td>109      </td><td>4.11     </td><td>2.780    </td><td>18.60    </td><td>1        </td><td>Manual   </td><td>4gears   </td><td>2        </td></tr>\n",
       "</tbody>\n",
       "</table>\n"
      ],
      "text/latex": [
       "\\begin{tabular}{r|lllllllllll}\n",
       "  & mpg & cyl & disp & hp & drat & wt & qsec & vs & am & gear & carb\\\\\n",
       "\\hline\n",
       "\tMazda RX4 & 21.0      & 6cyl      & 160.0     & 110       & 3.90      & 2.620     & 16.46     & 0         & Manual    & 4gears    & 4        \\\\\n",
       "\tMazda RX4 Wag & 21.0      & 6cyl      & 160.0     & 110       & 3.90      & 2.875     & 17.02     & 0         & Manual    & 4gears    & 4        \\\\\n",
       "\tDatsun 710 & 22.8      & 4cyl      & 108.0     &  93       & 3.85      & 2.320     & 18.61     & 1         & Manual    & 4gears    & 1        \\\\\n",
       "\tHornet 4 Drive & 21.4      & 6cyl      & 258.0     & 110       & 3.08      & 3.215     & 19.44     & 1         & Automatic & 3gears    & 1        \\\\\n",
       "\tHornet Sportabout & 18.7      & 8cyl      & 360.0     & 175       & 3.15      & 3.440     & 17.02     & 0         & Automatic & 3gears    & 2        \\\\\n",
       "\tValiant & 18.1      & 6cyl      & 225.0     & 105       & 2.76      & 3.460     & 20.22     & 1         & Automatic & 3gears    & 1        \\\\\n",
       "\tDuster 360 & 14.3      & 8cyl      & 360.0     & 245       & 3.21      & 3.570     & 15.84     & 0         & Automatic & 3gears    & 4        \\\\\n",
       "\tMerc 240D & 24.4      & 4cyl      & 146.7     &  62       & 3.69      & 3.190     & 20.00     & 1         & Automatic & 4gears    & 2        \\\\\n",
       "\tMerc 230 & 22.8      & 4cyl      & 140.8     &  95       & 3.92      & 3.150     & 22.90     & 1         & Automatic & 4gears    & 2        \\\\\n",
       "\tMerc 280 & 19.2      & 6cyl      & 167.6     & 123       & 3.92      & 3.440     & 18.30     & 1         & Automatic & 4gears    & 4        \\\\\n",
       "\tMerc 280C & 17.8      & 6cyl      & 167.6     & 123       & 3.92      & 3.440     & 18.90     & 1         & Automatic & 4gears    & 4        \\\\\n",
       "\tMerc 450SE & 16.4      & 8cyl      & 275.8     & 180       & 3.07      & 4.070     & 17.40     & 0         & Automatic & 3gears    & 3        \\\\\n",
       "\tMerc 450SL & 17.3      & 8cyl      & 275.8     & 180       & 3.07      & 3.730     & 17.60     & 0         & Automatic & 3gears    & 3        \\\\\n",
       "\tMerc 450SLC & 15.2      & 8cyl      & 275.8     & 180       & 3.07      & 3.780     & 18.00     & 0         & Automatic & 3gears    & 3        \\\\\n",
       "\tCadillac Fleetwood & 10.4      & 8cyl      & 472.0     & 205       & 2.93      & 5.250     & 17.98     & 0         & Automatic & 3gears    & 4        \\\\\n",
       "\tLincoln Continental & 10.4      & 8cyl      & 460.0     & 215       & 3.00      & 5.424     & 17.82     & 0         & Automatic & 3gears    & 4        \\\\\n",
       "\tChrysler Imperial & 14.7      & 8cyl      & 440.0     & 230       & 3.23      & 5.345     & 17.42     & 0         & Automatic & 3gears    & 4        \\\\\n",
       "\tFiat 128 & 32.4      & 4cyl      &  78.7     &  66       & 4.08      & 2.200     & 19.47     & 1         & Manual    & 4gears    & 1        \\\\\n",
       "\tHonda Civic & 30.4      & 4cyl      &  75.7     &  52       & 4.93      & 1.615     & 18.52     & 1         & Manual    & 4gears    & 2        \\\\\n",
       "\tToyota Corolla & 33.9      & 4cyl      &  71.1     &  65       & 4.22      & 1.835     & 19.90     & 1         & Manual    & 4gears    & 1        \\\\\n",
       "\tToyota Corona & 21.5      & 4cyl      & 120.1     &  97       & 3.70      & 2.465     & 20.01     & 1         & Automatic & 3gears    & 1        \\\\\n",
       "\tDodge Challenger & 15.5      & 8cyl      & 318.0     & 150       & 2.76      & 3.520     & 16.87     & 0         & Automatic & 3gears    & 2        \\\\\n",
       "\tAMC Javelin & 15.2      & 8cyl      & 304.0     & 150       & 3.15      & 3.435     & 17.30     & 0         & Automatic & 3gears    & 2        \\\\\n",
       "\tCamaro Z28 & 13.3      & 8cyl      & 350.0     & 245       & 3.73      & 3.840     & 15.41     & 0         & Automatic & 3gears    & 4        \\\\\n",
       "\tPontiac Firebird & 19.2      & 8cyl      & 400.0     & 175       & 3.08      & 3.845     & 17.05     & 0         & Automatic & 3gears    & 2        \\\\\n",
       "\tFiat X1-9 & 27.3      & 4cyl      &  79.0     &  66       & 4.08      & 1.935     & 18.90     & 1         & Manual    & 4gears    & 1        \\\\\n",
       "\tPorsche 914-2 & 26.0      & 4cyl      & 120.3     &  91       & 4.43      & 2.140     & 16.70     & 0         & Manual    & 5gears    & 2        \\\\\n",
       "\tLotus Europa & 30.4      & 4cyl      &  95.1     & 113       & 3.77      & 1.513     & 16.90     & 1         & Manual    & 5gears    & 2        \\\\\n",
       "\tFord Pantera L & 15.8      & 8cyl      & 351.0     & 264       & 4.22      & 3.170     & 14.50     & 0         & Manual    & 5gears    & 4        \\\\\n",
       "\tFerrari Dino & 19.7      & 6cyl      & 145.0     & 175       & 3.62      & 2.770     & 15.50     & 0         & Manual    & 5gears    & 6        \\\\\n",
       "\tMaserati Bora & 15.0      & 8cyl      & 301.0     & 335       & 3.54      & 3.570     & 14.60     & 0         & Manual    & 5gears    & 8        \\\\\n",
       "\tVolvo 142E & 21.4      & 4cyl      & 121.0     & 109       & 4.11      & 2.780     & 18.60     & 1         & Manual    & 4gears    & 2        \\\\\n",
       "\\end{tabular}\n"
      ],
      "text/markdown": [
       "\n",
       "| <!--/--> | mpg | cyl | disp | hp | drat | wt | qsec | vs | am | gear | carb | \n",
       "|---|---|---|---|---|---|---|---|---|---|---|---|---|---|---|---|---|---|---|---|---|---|---|---|---|---|---|---|---|---|---|---|\n",
       "| Mazda RX4 | 21.0      | 6cyl      | 160.0     | 110       | 3.90      | 2.620     | 16.46     | 0         | Manual    | 4gears    | 4         | \n",
       "| Mazda RX4 Wag | 21.0      | 6cyl      | 160.0     | 110       | 3.90      | 2.875     | 17.02     | 0         | Manual    | 4gears    | 4         | \n",
       "| Datsun 710 | 22.8      | 4cyl      | 108.0     |  93       | 3.85      | 2.320     | 18.61     | 1         | Manual    | 4gears    | 1         | \n",
       "| Hornet 4 Drive | 21.4      | 6cyl      | 258.0     | 110       | 3.08      | 3.215     | 19.44     | 1         | Automatic | 3gears    | 1         | \n",
       "| Hornet Sportabout | 18.7      | 8cyl      | 360.0     | 175       | 3.15      | 3.440     | 17.02     | 0         | Automatic | 3gears    | 2         | \n",
       "| Valiant | 18.1      | 6cyl      | 225.0     | 105       | 2.76      | 3.460     | 20.22     | 1         | Automatic | 3gears    | 1         | \n",
       "| Duster 360 | 14.3      | 8cyl      | 360.0     | 245       | 3.21      | 3.570     | 15.84     | 0         | Automatic | 3gears    | 4         | \n",
       "| Merc 240D | 24.4      | 4cyl      | 146.7     |  62       | 3.69      | 3.190     | 20.00     | 1         | Automatic | 4gears    | 2         | \n",
       "| Merc 230 | 22.8      | 4cyl      | 140.8     |  95       | 3.92      | 3.150     | 22.90     | 1         | Automatic | 4gears    | 2         | \n",
       "| Merc 280 | 19.2      | 6cyl      | 167.6     | 123       | 3.92      | 3.440     | 18.30     | 1         | Automatic | 4gears    | 4         | \n",
       "| Merc 280C | 17.8      | 6cyl      | 167.6     | 123       | 3.92      | 3.440     | 18.90     | 1         | Automatic | 4gears    | 4         | \n",
       "| Merc 450SE | 16.4      | 8cyl      | 275.8     | 180       | 3.07      | 4.070     | 17.40     | 0         | Automatic | 3gears    | 3         | \n",
       "| Merc 450SL | 17.3      | 8cyl      | 275.8     | 180       | 3.07      | 3.730     | 17.60     | 0         | Automatic | 3gears    | 3         | \n",
       "| Merc 450SLC | 15.2      | 8cyl      | 275.8     | 180       | 3.07      | 3.780     | 18.00     | 0         | Automatic | 3gears    | 3         | \n",
       "| Cadillac Fleetwood | 10.4      | 8cyl      | 472.0     | 205       | 2.93      | 5.250     | 17.98     | 0         | Automatic | 3gears    | 4         | \n",
       "| Lincoln Continental | 10.4      | 8cyl      | 460.0     | 215       | 3.00      | 5.424     | 17.82     | 0         | Automatic | 3gears    | 4         | \n",
       "| Chrysler Imperial | 14.7      | 8cyl      | 440.0     | 230       | 3.23      | 5.345     | 17.42     | 0         | Automatic | 3gears    | 4         | \n",
       "| Fiat 128 | 32.4      | 4cyl      |  78.7     |  66       | 4.08      | 2.200     | 19.47     | 1         | Manual    | 4gears    | 1         | \n",
       "| Honda Civic | 30.4      | 4cyl      |  75.7     |  52       | 4.93      | 1.615     | 18.52     | 1         | Manual    | 4gears    | 2         | \n",
       "| Toyota Corolla | 33.9      | 4cyl      |  71.1     |  65       | 4.22      | 1.835     | 19.90     | 1         | Manual    | 4gears    | 1         | \n",
       "| Toyota Corona | 21.5      | 4cyl      | 120.1     |  97       | 3.70      | 2.465     | 20.01     | 1         | Automatic | 3gears    | 1         | \n",
       "| Dodge Challenger | 15.5      | 8cyl      | 318.0     | 150       | 2.76      | 3.520     | 16.87     | 0         | Automatic | 3gears    | 2         | \n",
       "| AMC Javelin | 15.2      | 8cyl      | 304.0     | 150       | 3.15      | 3.435     | 17.30     | 0         | Automatic | 3gears    | 2         | \n",
       "| Camaro Z28 | 13.3      | 8cyl      | 350.0     | 245       | 3.73      | 3.840     | 15.41     | 0         | Automatic | 3gears    | 4         | \n",
       "| Pontiac Firebird | 19.2      | 8cyl      | 400.0     | 175       | 3.08      | 3.845     | 17.05     | 0         | Automatic | 3gears    | 2         | \n",
       "| Fiat X1-9 | 27.3      | 4cyl      |  79.0     |  66       | 4.08      | 1.935     | 18.90     | 1         | Manual    | 4gears    | 1         | \n",
       "| Porsche 914-2 | 26.0      | 4cyl      | 120.3     |  91       | 4.43      | 2.140     | 16.70     | 0         | Manual    | 5gears    | 2         | \n",
       "| Lotus Europa | 30.4      | 4cyl      |  95.1     | 113       | 3.77      | 1.513     | 16.90     | 1         | Manual    | 5gears    | 2         | \n",
       "| Ford Pantera L | 15.8      | 8cyl      | 351.0     | 264       | 4.22      | 3.170     | 14.50     | 0         | Manual    | 5gears    | 4         | \n",
       "| Ferrari Dino | 19.7      | 6cyl      | 145.0     | 175       | 3.62      | 2.770     | 15.50     | 0         | Manual    | 5gears    | 6         | \n",
       "| Maserati Bora | 15.0      | 8cyl      | 301.0     | 335       | 3.54      | 3.570     | 14.60     | 0         | Manual    | 5gears    | 8         | \n",
       "| Volvo 142E | 21.4      | 4cyl      | 121.0     | 109       | 4.11      | 2.780     | 18.60     | 1         | Manual    | 4gears    | 2         | \n",
       "\n",
       "\n"
      ],
      "text/plain": [
       "                    mpg  cyl  disp  hp  drat wt    qsec  vs am        gear  \n",
       "Mazda RX4           21.0 6cyl 160.0 110 3.90 2.620 16.46 0  Manual    4gears\n",
       "Mazda RX4 Wag       21.0 6cyl 160.0 110 3.90 2.875 17.02 0  Manual    4gears\n",
       "Datsun 710          22.8 4cyl 108.0  93 3.85 2.320 18.61 1  Manual    4gears\n",
       "Hornet 4 Drive      21.4 6cyl 258.0 110 3.08 3.215 19.44 1  Automatic 3gears\n",
       "Hornet Sportabout   18.7 8cyl 360.0 175 3.15 3.440 17.02 0  Automatic 3gears\n",
       "Valiant             18.1 6cyl 225.0 105 2.76 3.460 20.22 1  Automatic 3gears\n",
       "Duster 360          14.3 8cyl 360.0 245 3.21 3.570 15.84 0  Automatic 3gears\n",
       "Merc 240D           24.4 4cyl 146.7  62 3.69 3.190 20.00 1  Automatic 4gears\n",
       "Merc 230            22.8 4cyl 140.8  95 3.92 3.150 22.90 1  Automatic 4gears\n",
       "Merc 280            19.2 6cyl 167.6 123 3.92 3.440 18.30 1  Automatic 4gears\n",
       "Merc 280C           17.8 6cyl 167.6 123 3.92 3.440 18.90 1  Automatic 4gears\n",
       "Merc 450SE          16.4 8cyl 275.8 180 3.07 4.070 17.40 0  Automatic 3gears\n",
       "Merc 450SL          17.3 8cyl 275.8 180 3.07 3.730 17.60 0  Automatic 3gears\n",
       "Merc 450SLC         15.2 8cyl 275.8 180 3.07 3.780 18.00 0  Automatic 3gears\n",
       "Cadillac Fleetwood  10.4 8cyl 472.0 205 2.93 5.250 17.98 0  Automatic 3gears\n",
       "Lincoln Continental 10.4 8cyl 460.0 215 3.00 5.424 17.82 0  Automatic 3gears\n",
       "Chrysler Imperial   14.7 8cyl 440.0 230 3.23 5.345 17.42 0  Automatic 3gears\n",
       "Fiat 128            32.4 4cyl  78.7  66 4.08 2.200 19.47 1  Manual    4gears\n",
       "Honda Civic         30.4 4cyl  75.7  52 4.93 1.615 18.52 1  Manual    4gears\n",
       "Toyota Corolla      33.9 4cyl  71.1  65 4.22 1.835 19.90 1  Manual    4gears\n",
       "Toyota Corona       21.5 4cyl 120.1  97 3.70 2.465 20.01 1  Automatic 3gears\n",
       "Dodge Challenger    15.5 8cyl 318.0 150 2.76 3.520 16.87 0  Automatic 3gears\n",
       "AMC Javelin         15.2 8cyl 304.0 150 3.15 3.435 17.30 0  Automatic 3gears\n",
       "Camaro Z28          13.3 8cyl 350.0 245 3.73 3.840 15.41 0  Automatic 3gears\n",
       "Pontiac Firebird    19.2 8cyl 400.0 175 3.08 3.845 17.05 0  Automatic 3gears\n",
       "Fiat X1-9           27.3 4cyl  79.0  66 4.08 1.935 18.90 1  Manual    4gears\n",
       "Porsche 914-2       26.0 4cyl 120.3  91 4.43 2.140 16.70 0  Manual    5gears\n",
       "Lotus Europa        30.4 4cyl  95.1 113 3.77 1.513 16.90 1  Manual    5gears\n",
       "Ford Pantera L      15.8 8cyl 351.0 264 4.22 3.170 14.50 0  Manual    5gears\n",
       "Ferrari Dino        19.7 6cyl 145.0 175 3.62 2.770 15.50 0  Manual    5gears\n",
       "Maserati Bora       15.0 8cyl 301.0 335 3.54 3.570 14.60 0  Manual    5gears\n",
       "Volvo 142E          21.4 4cyl 121.0 109 4.11 2.780 18.60 1  Manual    4gears\n",
       "                    carb\n",
       "Mazda RX4           4   \n",
       "Mazda RX4 Wag       4   \n",
       "Datsun 710          1   \n",
       "Hornet 4 Drive      1   \n",
       "Hornet Sportabout   2   \n",
       "Valiant             1   \n",
       "Duster 360          4   \n",
       "Merc 240D           2   \n",
       "Merc 230            2   \n",
       "Merc 280            4   \n",
       "Merc 280C           4   \n",
       "Merc 450SE          3   \n",
       "Merc 450SL          3   \n",
       "Merc 450SLC         3   \n",
       "Cadillac Fleetwood  4   \n",
       "Lincoln Continental 4   \n",
       "Chrysler Imperial   4   \n",
       "Fiat 128            1   \n",
       "Honda Civic         2   \n",
       "Toyota Corolla      1   \n",
       "Toyota Corona       1   \n",
       "Dodge Challenger    2   \n",
       "AMC Javelin         2   \n",
       "Camaro Z28          4   \n",
       "Pontiac Firebird    2   \n",
       "Fiat X1-9           1   \n",
       "Porsche 914-2       2   \n",
       "Lotus Europa        2   \n",
       "Ford Pantera L      4   \n",
       "Ferrari Dino        6   \n",
       "Maserati Bora       8   \n",
       "Volvo 142E          2   "
      ]
     },
     "metadata": {},
     "output_type": "display_data"
    },
    {
     "data": {
      "text/html": [
       "<dl class=dl-horizontal>\n",
       "\t<dt>mpg</dt>\n",
       "\t\t<dd>'numeric'</dd>\n",
       "\t<dt>cyl</dt>\n",
       "\t\t<dd>'factor'</dd>\n",
       "\t<dt>disp</dt>\n",
       "\t\t<dd>'numeric'</dd>\n",
       "\t<dt>hp</dt>\n",
       "\t\t<dd>'numeric'</dd>\n",
       "\t<dt>drat</dt>\n",
       "\t\t<dd>'numeric'</dd>\n",
       "\t<dt>wt</dt>\n",
       "\t\t<dd>'numeric'</dd>\n",
       "\t<dt>qsec</dt>\n",
       "\t\t<dd>'numeric'</dd>\n",
       "\t<dt>vs</dt>\n",
       "\t\t<dd>'numeric'</dd>\n",
       "\t<dt>am</dt>\n",
       "\t\t<dd>'factor'</dd>\n",
       "\t<dt>gear</dt>\n",
       "\t\t<dd>'factor'</dd>\n",
       "\t<dt>carb</dt>\n",
       "\t\t<dd>'numeric'</dd>\n",
       "</dl>\n"
      ],
      "text/latex": [
       "\\begin{description*}\n",
       "\\item[mpg] 'numeric'\n",
       "\\item[cyl] 'factor'\n",
       "\\item[disp] 'numeric'\n",
       "\\item[hp] 'numeric'\n",
       "\\item[drat] 'numeric'\n",
       "\\item[wt] 'numeric'\n",
       "\\item[qsec] 'numeric'\n",
       "\\item[vs] 'numeric'\n",
       "\\item[am] 'factor'\n",
       "\\item[gear] 'factor'\n",
       "\\item[carb] 'numeric'\n",
       "\\end{description*}\n"
      ],
      "text/markdown": [
       "mpg\n",
       ":   'numeric'cyl\n",
       ":   'factor'disp\n",
       ":   'numeric'hp\n",
       ":   'numeric'drat\n",
       ":   'numeric'wt\n",
       ":   'numeric'qsec\n",
       ":   'numeric'vs\n",
       ":   'numeric'am\n",
       ":   'factor'gear\n",
       ":   'factor'carb\n",
       ":   'numeric'\n",
       "\n"
      ],
      "text/plain": [
       "      mpg       cyl      disp        hp      drat        wt      qsec        vs \n",
       "\"numeric\"  \"factor\" \"numeric\" \"numeric\" \"numeric\" \"numeric\" \"numeric\" \"numeric\" \n",
       "       am      gear      carb \n",
       " \"factor\"  \"factor\" \"numeric\" "
      ]
     },
     "metadata": {},
     "output_type": "display_data"
    },
    {
     "data": {},
     "metadata": {},
     "output_type": "display_data"
    },
    {
     "data": {},
     "metadata": {},
     "output_type": "display_data"
    },
    {
     "data": {
      "image/png": "[encoded data removed]",
      "text/plain": [
       "plot without title"
      ]
     },
     "metadata": {},
     "output_type": "display_data"
    },
    {
     "data": {},
     "metadata": {},
     "output_type": "display_data"
    },
    {
     "data": {
      "image/png": "[encoded data removed]",
      "text/plain": [
       "plot without title"
      ]
     },
     "metadata": {},
     "output_type": "display_data"
    },
    {
     "data": {},
     "metadata": {},
     "output_type": "display_data"
    },
    {
     "data": {
      "image/png": "[encoded data removed]",
      "text/plain": [
       "plot without title"
      ]
     },
     "metadata": {},
     "output_type": "display_data"
    },
    {
     "data": {},
     "metadata": {},
     "output_type": "display_data"
    },
    {
     "data": {
      "image/png": "[encoded data removed]",
      "text/plain": [
       "plot without title"
      ]
     },
     "metadata": {},
     "output_type": "display_data"
    },
    {
     "data": {},
     "metadata": {},
     "output_type": "display_data"
    },
    {
     "data": {
      "image/png": "[encoded data removed]",
      "text/plain": [
       "plot without title"
      ]
     },
     "metadata": {},
     "output_type": "display_data"
    },
    {
     "data": {
      "image/png": "[encoded data removed]",
      "text/plain": [
       "plot without title"
      ]
     },
     "metadata": {},
     "output_type": "display_data"
    }
   ],
   "source": [
    "library(\"ggplot2\")\n",
    "\n",
    "data(mtcars)\n",
    "mtcars\n",
    "\n",
    "sapply(mtcars, FUN=class)\n",
    "\n",
    "# create factors with value labels\n",
    "mtcars2 <- mtcars\n",
    "mtcars2$gear <- factor(mtcars$gear,levels=c(3,4,5), labels=c(\"3gears\",\"4gears\",\"5gears\")) \n",
    "mtcars2$am <- factor(mtcars$am,levels=c(0,1), labels=c(\"Automatic\",\"Manual\")) \n",
    "mtcars2$cyl <- factor(mtcars$cyl,levels=c(4,6,8), labels=c(\"4cyl\",\"6cyl\",\"8cyl\")) \n",
    "\n",
    "mtcars2\n",
    "\n",
    "sapply(mtcars2, FUN=class)\n",
    "\n",
    "qplot(mtcars2$gear, mtcars2$mpg)\n",
    "qplot(mtcars2$am, mtcars2$mpg)\n",
    "qplot(mtcars2$cyl, mtcars2$mpg)\n",
    "\n",
    "# mpg grouped by number of gears factor (\"3gears\",\"4gears\",\"5gears\")\n",
    "qplot(mpg, data=mtcars2, geom=\"density\", fill=gear, alpha=I(.5), \n",
    "   main=\"Distribution of mpg\", xlab=\"3/4/5 Gears\", \n",
    "   ylab=\"Density\")\n",
    "\n",
    "# mpg grouped by am factor (Automatic/Manual)\n",
    "qplot(mpg, data=mtcars2, geom=\"density\", fill=am, alpha=I(.5), \n",
    "   main=\"Distribution of am\", xlab=\"Automatic/Manual Transmission\", \n",
    "   ylab=\"Density\")\n",
    "\n",
    "# mpg grouped by number of gears factor (3gears/4gears/5gears)\n",
    "qplot(mpg, data=mtcars2, geom=\"density\", fill=cyl, alpha=I(.5), \n",
    "   main=\"Distribution of Gas Milage\", xlab=\"34/6/8 Cylinders\", \n",
    "   ylab=\"Density\")"
   ]
  },
  {
   "cell_type": "markdown",
   "metadata": {},
   "source": [
    "## The gl() Function"
   ]
  },
  {
   "cell_type": "code",
   "execution_count": 20,
   "metadata": {},
   "outputs": [
    {
     "data": {
      "text/html": [
       "<ol class=list-inline>\n",
       "\t<li>1</li>\n",
       "\t<li>1</li>\n",
       "\t<li>1</li>\n",
       "\t<li>1</li>\n",
       "\t<li>1</li>\n",
       "\t<li>1</li>\n",
       "\t<li>1</li>\n",
       "\t<li>1</li>\n",
       "\t<li>1</li>\n",
       "\t<li>1</li>\n",
       "\t<li>2</li>\n",
       "\t<li>2</li>\n",
       "\t<li>2</li>\n",
       "\t<li>2</li>\n",
       "\t<li>2</li>\n",
       "\t<li>2</li>\n",
       "\t<li>2</li>\n",
       "\t<li>2</li>\n",
       "\t<li>2</li>\n",
       "\t<li>2</li>\n",
       "\t<li>3</li>\n",
       "\t<li>3</li>\n",
       "\t<li>3</li>\n",
       "\t<li>3</li>\n",
       "\t<li>3</li>\n",
       "\t<li>3</li>\n",
       "\t<li>3</li>\n",
       "\t<li>3</li>\n",
       "\t<li>3</li>\n",
       "\t<li>3</li>\n",
       "\t<li>4</li>\n",
       "\t<li>4</li>\n",
       "\t<li>4</li>\n",
       "\t<li>4</li>\n",
       "\t<li>4</li>\n",
       "\t<li>4</li>\n",
       "\t<li>4</li>\n",
       "\t<li>4</li>\n",
       "\t<li>4</li>\n",
       "\t<li>4</li>\n",
       "</ol>\n"
      ],
      "text/latex": [
       "\\begin{enumerate*}\n",
       "\\item 1\n",
       "\\item 1\n",
       "\\item 1\n",
       "\\item 1\n",
       "\\item 1\n",
       "\\item 1\n",
       "\\item 1\n",
       "\\item 1\n",
       "\\item 1\n",
       "\\item 1\n",
       "\\item 2\n",
       "\\item 2\n",
       "\\item 2\n",
       "\\item 2\n",
       "\\item 2\n",
       "\\item 2\n",
       "\\item 2\n",
       "\\item 2\n",
       "\\item 2\n",
       "\\item 2\n",
       "\\item 3\n",
       "\\item 3\n",
       "\\item 3\n",
       "\\item 3\n",
       "\\item 3\n",
       "\\item 3\n",
       "\\item 3\n",
       "\\item 3\n",
       "\\item 3\n",
       "\\item 3\n",
       "\\item 4\n",
       "\\item 4\n",
       "\\item 4\n",
       "\\item 4\n",
       "\\item 4\n",
       "\\item 4\n",
       "\\item 4\n",
       "\\item 4\n",
       "\\item 4\n",
       "\\item 4\n",
       "\\end{enumerate*}\n"
      ],
      "text/markdown": [
       "1. 1\n",
       "2. 1\n",
       "3. 1\n",
       "4. 1\n",
       "5. 1\n",
       "6. 1\n",
       "7. 1\n",
       "8. 1\n",
       "9. 1\n",
       "10. 1\n",
       "11. 2\n",
       "12. 2\n",
       "13. 2\n",
       "14. 2\n",
       "15. 2\n",
       "16. 2\n",
       "17. 2\n",
       "18. 2\n",
       "19. 2\n",
       "20. 2\n",
       "21. 3\n",
       "22. 3\n",
       "23. 3\n",
       "24. 3\n",
       "25. 3\n",
       "26. 3\n",
       "27. 3\n",
       "28. 3\n",
       "29. 3\n",
       "30. 3\n",
       "31. 4\n",
       "32. 4\n",
       "33. 4\n",
       "34. 4\n",
       "35. 4\n",
       "36. 4\n",
       "37. 4\n",
       "38. 4\n",
       "39. 4\n",
       "40. 4\n",
       "\n",
       "\n"
      ],
      "text/plain": [
       " [1] 1 1 1 1 1 1 1 1 1 1 2 2 2 2 2 2 2 2 2 2 3 3 3 3 3 3 3 3 3 3 4 4 4 4 4 4 4 4\n",
       "[39] 4 4\n",
       "Levels: 1 2 3 4"
      ]
     },
     "metadata": {},
     "output_type": "display_data"
    }
   ],
   "source": [
    "# the gl() function\n",
    "f <- gl(4, 10) \n",
    "f"
   ]
  },
  {
   "cell_type": "code",
   "execution_count": null,
   "metadata": {
    "collapsed": true
   },
   "outputs": [],
   "source": []
  }
 ],
 "metadata": {
  "kernelspec": {
   "display_name": "R",
   "language": "R",
   "name": "ir"
  },
  "language_info": {
   "codemirror_mode": "r",
   "file_extension": ".r",
   "mimetype": "text/x-r-source",
   "name": "R",
   "pygments_lexer": "r",
   "version": "3.4.2"
  }
 },
 "nbformat": 4,
 "nbformat_minor": 2
}
