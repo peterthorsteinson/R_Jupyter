{
 "cells": [
  {
   "cell_type": "markdown",
   "metadata": {},
   "source": [
    "# 06 Vectors\n",
    "\n",
    "The c() function can be used to create a vector that is a concatenation of elements.\n",
    "\n",
    "A vector is a sequence of members elements of the same type. Members are also known as components.\n",
    "\n",
    "An empty vector can be created with the vector function.\n",
    "\n",
    "The vector() function can also initialize a vector.\n",
    "\n",
    "- Basic Vector Syntax\n",
    "- Concatenating Vectors\n",
    "- NA vs NaN\n",
    "- Implicit Type Conversion\n",
    "- Explicit Type Conversion\n",
    "- The seq Function\n",
    "- The storage.mode() Function\n",
    "- Removing NA Values\n",
    "- Vectorized Operations\n",
    "- Names: Self-Describing Metadata"
   ]
  },
  {
   "cell_type": "markdown",
   "metadata": {},
   "source": [
    "# Basic Vector Syntax"
   ]
  },
  {
   "cell_type": "code",
   "execution_count": 1,
   "metadata": {},
   "outputs": [
    {
     "name": "stdout",
     "output_type": "stream",
     "text": [
      "[1] 42.000000  2.000000  3.141592 -6.000000  4.000000\n",
      "[1] \"numeric\"\n"
     ]
    }
   ],
   "source": [
    "v <- c(42, 2, 3.141592, -6, 4)    # numeric vector\n",
    "print(v)\n",
    "print(class(v))"
   ]
  },
  {
   "cell_type": "code",
   "execution_count": 2,
   "metadata": {},
   "outputs": [
    {
     "name": "stdout",
     "output_type": "stream",
     "text": [
      " [1] 10 11 12 13 14 15 16 17 18 19 20\n",
      "[1] \"integer\"\n"
     ]
    }
   ],
   "source": [
    "v <- 10:20                        # integer vector\n",
    "print(v)\n",
    "print(class(v))"
   ]
  },
  {
   "cell_type": "code",
   "execution_count": 3,
   "metadata": {},
   "outputs": [
    {
     "name": "stdout",
     "output_type": "stream",
     "text": [
      "[1] 1+0i 4+3i\n",
      "[1] \"complex\"\n"
     ]
    }
   ],
   "source": [
    "v <- c(1+0i, 4+3i)                # complex vector\n",
    "print(v)\n",
    "print(class(v))"
   ]
  },
  {
   "cell_type": "code",
   "execution_count": 4,
   "metadata": {},
   "outputs": [
    {
     "name": "stdout",
     "output_type": "stream",
     "text": [
      "[1] \"hello\" \"world\"\n",
      "[1] \"character\"\n"
     ]
    }
   ],
   "source": [
    "v <- c(\"hello\", \"world\")          # character vector\n",
    "print(v)\n",
    "print(class(v))"
   ]
  },
  {
   "cell_type": "code",
   "execution_count": 3,
   "metadata": {},
   "outputs": [
    {
     "name": "stdout",
     "output_type": "stream",
     "text": [
      "[1]  TRUE  TRUE FALSE FALSE\n",
      "[1] \"logical\"\n"
     ]
    }
   ],
   "source": [
    "v <- c(TRUE, TRUE, FALSE, FALSE)  # logical vector\n",
    "#v  <- c(T, T, F)\n",
    "print(v)\n",
    "print(class(v))"
   ]
  },
  {
   "cell_type": "code",
   "execution_count": 26,
   "metadata": {},
   "outputs": [
    {
     "name": "stdout",
     "output_type": "stream",
     "text": [
      "[1] \"*** empty logical vector ***\"\n",
      "logical(0)\n",
      "[1] \"logical\"\n",
      "[1] 0\n",
      "[1] \"*** set length if vector ***\"\n",
      " [1] NA NA NA NA NA NA NA NA NA NA\n",
      "[1] \"logical\"\n",
      "[1] 10\n",
      "[1] \"*** set storage mode mode of vector ***\"\n",
      " [1] NA NA NA NA NA NA NA NA NA NA\n",
      "[1] \"numeric\"\n",
      "[1] 10\n"
     ]
    }
   ],
   "source": [
    "print(\"*** empty logical vector ***\")\n",
    "v <- vector()                     # empty logical vector\n",
    "print(v)\n",
    "print(class(v))\n",
    "print(length(v))\n",
    "\n",
    "print(\"*** set length if vector ***\")\n",
    "length(v) <- 10                   # set length if vector\n",
    "print(v)\n",
    "print(class(v))\n",
    "print(length(v))\n",
    "\n",
    "print(\"*** set storage mode mode of vector ***\")\n",
    "storage.mode(v) <- \"double\"       # set storage mode mode of vector\n",
    "print(v)\n",
    "print(class(v))\n",
    "print(length(v))"
   ]
  },
  {
   "cell_type": "markdown",
   "metadata": {},
   "source": [
    "# Concatenating Vectors"
   ]
  },
  {
   "cell_type": "code",
   "execution_count": 10,
   "metadata": {},
   "outputs": [
    {
     "data": {
      "text/html": [
       "<ol class=list-inline>\n",
       "\t<li>'1'</li>\n",
       "\t<li>'2'</li>\n",
       "\t<li>'3'</li>\n",
       "\t<li>'42'</li>\n",
       "\t<li>'hello'</li>\n",
       "</ol>\n"
      ],
      "text/latex": [
       "\\begin{enumerate*}\n",
       "\\item '1'\n",
       "\\item '2'\n",
       "\\item '3'\n",
       "\\item '42'\n",
       "\\item 'hello'\n",
       "\\end{enumerate*}\n"
      ],
      "text/markdown": [
       "1. '1'\n",
       "2. '2'\n",
       "3. '3'\n",
       "4. '42'\n",
       "5. 'hello'\n",
       "\n",
       "\n"
      ],
      "text/plain": [
       "[1] \"1\"     \"2\"     \"3\"     \"42\"    \"hello\""
      ]
     },
     "metadata": {},
     "output_type": "display_data"
    }
   ],
   "source": [
    "# c() function can add elements to vector\n",
    "x <- c(1, 2, 3)\n",
    "y <- 42\n",
    "z <- c(x, y, \"hello\") # note coercion to single character type\n",
    "z"
   ]
  },
  {
   "cell_type": "markdown",
   "metadata": {},
   "source": [
    "# NA vs NaN\n",
    "\n",
    "NA represents missing data (NA means Not Available)\n",
    "NaN represents undefined numerical data (NaN means Not a Number)"
   ]
  },
  {
   "cell_type": "code",
   "execution_count": 7,
   "metadata": {},
   "outputs": [
    {
     "data": {
      "text/html": [
       "TRUE"
      ],
      "text/latex": [
       "TRUE"
      ],
      "text/markdown": [
       "TRUE"
      ],
      "text/plain": [
       "[1] TRUE"
      ]
     },
     "metadata": {},
     "output_type": "display_data"
    },
    {
     "data": {
      "text/html": [
       "TRUE"
      ],
      "text/latex": [
       "TRUE"
      ],
      "text/markdown": [
       "TRUE"
      ],
      "text/plain": [
       "[1] TRUE"
      ]
     },
     "metadata": {},
     "output_type": "display_data"
    },
    {
     "data": {
      "text/html": [
       "TRUE"
      ],
      "text/latex": [
       "TRUE"
      ],
      "text/markdown": [
       "TRUE"
      ],
      "text/plain": [
       "[1] TRUE"
      ]
     },
     "metadata": {},
     "output_type": "display_data"
    },
    {
     "data": {
      "text/html": [
       "FALSE"
      ],
      "text/latex": [
       "FALSE"
      ],
      "text/markdown": [
       "FALSE"
      ],
      "text/plain": [
       "[1] FALSE"
      ]
     },
     "metadata": {},
     "output_type": "display_data"
    },
    {
     "data": {
      "text/html": [
       "<ol class=list-inline>\n",
       "\t<li>NaN</li>\n",
       "\t<li>NaN</li>\n",
       "\t<li>NaN</li>\n",
       "\t<li>NaN</li>\n",
       "\t<li>NaN</li>\n",
       "</ol>\n"
      ],
      "text/latex": [
       "\\begin{enumerate*}\n",
       "\\item NaN\n",
       "\\item NaN\n",
       "\\item NaN\n",
       "\\item NaN\n",
       "\\item NaN\n",
       "\\end{enumerate*}\n"
      ],
      "text/markdown": [
       "1. NaN\n",
       "2. NaN\n",
       "3. NaN\n",
       "4. NaN\n",
       "5. NaN\n",
       "\n",
       "\n"
      ],
      "text/plain": [
       "[1] NaN NaN NaN NaN NaN"
      ]
     },
     "metadata": {},
     "output_type": "display_data"
    },
    {
     "data": {
      "text/html": [
       "<ol class=list-inline>\n",
       "\t<li>TRUE</li>\n",
       "\t<li>TRUE</li>\n",
       "\t<li>TRUE</li>\n",
       "\t<li>TRUE</li>\n",
       "\t<li>TRUE</li>\n",
       "</ol>\n"
      ],
      "text/latex": [
       "\\begin{enumerate*}\n",
       "\\item TRUE\n",
       "\\item TRUE\n",
       "\\item TRUE\n",
       "\\item TRUE\n",
       "\\item TRUE\n",
       "\\end{enumerate*}\n"
      ],
      "text/markdown": [
       "1. TRUE\n",
       "2. TRUE\n",
       "3. TRUE\n",
       "4. TRUE\n",
       "5. TRUE\n",
       "\n",
       "\n"
      ],
      "text/plain": [
       "[1] TRUE TRUE TRUE TRUE TRUE"
      ]
     },
     "metadata": {},
     "output_type": "display_data"
    },
    {
     "data": {
      "text/html": [
       "<ol class=list-inline>\n",
       "\t<li>TRUE</li>\n",
       "\t<li>TRUE</li>\n",
       "\t<li>TRUE</li>\n",
       "\t<li>TRUE</li>\n",
       "\t<li>TRUE</li>\n",
       "</ol>\n"
      ],
      "text/latex": [
       "\\begin{enumerate*}\n",
       "\\item TRUE\n",
       "\\item TRUE\n",
       "\\item TRUE\n",
       "\\item TRUE\n",
       "\\item TRUE\n",
       "\\end{enumerate*}\n"
      ],
      "text/markdown": [
       "1. TRUE\n",
       "2. TRUE\n",
       "3. TRUE\n",
       "4. TRUE\n",
       "5. TRUE\n",
       "\n",
       "\n"
      ],
      "text/plain": [
       "[1] TRUE TRUE TRUE TRUE TRUE"
      ]
     },
     "metadata": {},
     "output_type": "display_data"
    },
    {
     "data": {
      "text/html": [
       "<ol class=list-inline>\n",
       "\t<li>&lt;NA&gt;</li>\n",
       "\t<li>&lt;NA&gt;</li>\n",
       "\t<li>&lt;NA&gt;</li>\n",
       "\t<li>&lt;NA&gt;</li>\n",
       "\t<li>&lt;NA&gt;</li>\n",
       "</ol>\n"
      ],
      "text/latex": [
       "\\begin{enumerate*}\n",
       "\\item <NA>\n",
       "\\item <NA>\n",
       "\\item <NA>\n",
       "\\item <NA>\n",
       "\\item <NA>\n",
       "\\end{enumerate*}\n"
      ],
      "text/markdown": [
       "1. &lt;NA&gt;\n",
       "2. &lt;NA&gt;\n",
       "3. &lt;NA&gt;\n",
       "4. &lt;NA&gt;\n",
       "5. &lt;NA&gt;\n",
       "\n",
       "\n"
      ],
      "text/plain": [
       "[1] NA NA NA NA NA"
      ]
     },
     "metadata": {},
     "output_type": "display_data"
    },
    {
     "data": {
      "text/html": [
       "<ol class=list-inline>\n",
       "\t<li>TRUE</li>\n",
       "\t<li>TRUE</li>\n",
       "\t<li>TRUE</li>\n",
       "\t<li>TRUE</li>\n",
       "\t<li>TRUE</li>\n",
       "</ol>\n"
      ],
      "text/latex": [
       "\\begin{enumerate*}\n",
       "\\item TRUE\n",
       "\\item TRUE\n",
       "\\item TRUE\n",
       "\\item TRUE\n",
       "\\item TRUE\n",
       "\\end{enumerate*}\n"
      ],
      "text/markdown": [
       "1. TRUE\n",
       "2. TRUE\n",
       "3. TRUE\n",
       "4. TRUE\n",
       "5. TRUE\n",
       "\n",
       "\n"
      ],
      "text/plain": [
       "[1] TRUE TRUE TRUE TRUE TRUE"
      ]
     },
     "metadata": {},
     "output_type": "display_data"
    },
    {
     "data": {
      "text/html": [
       "<ol class=list-inline>\n",
       "\t<li>FALSE</li>\n",
       "\t<li>FALSE</li>\n",
       "\t<li>FALSE</li>\n",
       "\t<li>FALSE</li>\n",
       "\t<li>FALSE</li>\n",
       "</ol>\n"
      ],
      "text/latex": [
       "\\begin{enumerate*}\n",
       "\\item FALSE\n",
       "\\item FALSE\n",
       "\\item FALSE\n",
       "\\item FALSE\n",
       "\\item FALSE\n",
       "\\end{enumerate*}\n"
      ],
      "text/markdown": [
       "1. FALSE\n",
       "2. FALSE\n",
       "3. FALSE\n",
       "4. FALSE\n",
       "5. FALSE\n",
       "\n",
       "\n"
      ],
      "text/plain": [
       "[1] FALSE FALSE FALSE FALSE FALSE"
      ]
     },
     "metadata": {},
     "output_type": "display_data"
    }
   ],
   "source": [
    "is.na(NA)      # TRUE by definition\n",
    "is.na(NaN)     # TRUE because all NaN are NA (NaN is proper subset of NA))\n",
    "is.nan(NaN)    # TRUE by definition\n",
    "is.nan(NA)     # FALSE because not all NA are NaN (NaN is proper subset of NA))\n",
    "v <- vector()\n",
    "v[1:5] <- NaN\n",
    "v              # NaN NaN NaN NaN NaN\n",
    "is.na(v)       # TRUE TRUE TRUE TRUE TRUE\n",
    "is.nan(v)      # TRUE TRUE TRUE TRUE TRUE\n",
    "v[1:5] <- NA\n",
    "v              # <NA> <NA> <NA> <NA> <NA>\n",
    "is.na(v)       # TRUE TRUE TRUE TRUE TRUE\n",
    "is.nan(v)      # FALSE FALSE FALSE FALSE FALSE"
   ]
  },
  {
   "cell_type": "markdown",
   "metadata": {},
   "source": [
    "# Implicit Type Conversion"
   ]
  },
  {
   "cell_type": "code",
   "execution_count": 27,
   "metadata": {},
   "outputs": [
    {
     "name": "stdout",
     "output_type": "stream",
     "text": [
      "[1] \"12.3\" \"a\"   \n",
      "[1] \"character\"\n"
     ]
    }
   ],
   "source": [
    "v <- c(12.3, \"a\")              # character vector (implicit coercion)\n",
    "print(v)\n",
    "print(class(v))"
   ]
  },
  {
   "cell_type": "code",
   "execution_count": 29,
   "metadata": {},
   "outputs": [
    {
     "name": "stdout",
     "output_type": "stream",
     "text": [
      "[1] 1 0 0 1 2\n",
      "[1] \"numeric\"\n"
     ]
    }
   ],
   "source": [
    "v <- c(TRUE, FALSE, 0, 1, 2)   # numeric vector (implicit coercion)\n",
    "print(v)\n",
    "print(class(v))"
   ]
  },
  {
   "cell_type": "code",
   "execution_count": 11,
   "metadata": {},
   "outputs": [
    {
     "name": "stdout",
     "output_type": "stream",
     "text": [
      "[1] \"a\"    \"TRUE\"\n",
      "[1] \"character\"\n"
     ]
    }
   ],
   "source": [
    "v <- c(\"a\", TRUE)              # character vector (implicit coercion)\n",
    "print(v)\n",
    "print(class(v))"
   ]
  },
  {
   "cell_type": "markdown",
   "metadata": {},
   "source": [
    "# Explicit Type Conversion"
   ]
  },
  {
   "cell_type": "code",
   "execution_count": 12,
   "metadata": {},
   "outputs": [
    {
     "data": {
      "text/html": [
       "'integer'"
      ],
      "text/latex": [
       "'integer'"
      ],
      "text/markdown": [
       "'integer'"
      ],
      "text/plain": [
       "[1] \"integer\""
      ]
     },
     "metadata": {},
     "output_type": "display_data"
    },
    {
     "data": {
      "text/html": [
       "<ol class=list-inline>\n",
       "\t<li>0</li>\n",
       "\t<li>1</li>\n",
       "\t<li>2</li>\n",
       "\t<li>3</li>\n",
       "\t<li>4</li>\n",
       "\t<li>5</li>\n",
       "\t<li>6</li>\n",
       "\t<li>7</li>\n",
       "\t<li>8</li>\n",
       "\t<li>9</li>\n",
       "\t<li>10</li>\n",
       "</ol>\n"
      ],
      "text/latex": [
       "\\begin{enumerate*}\n",
       "\\item 0\n",
       "\\item 1\n",
       "\\item 2\n",
       "\\item 3\n",
       "\\item 4\n",
       "\\item 5\n",
       "\\item 6\n",
       "\\item 7\n",
       "\\item 8\n",
       "\\item 9\n",
       "\\item 10\n",
       "\\end{enumerate*}\n"
      ],
      "text/markdown": [
       "1. 0\n",
       "2. 1\n",
       "3. 2\n",
       "4. 3\n",
       "5. 4\n",
       "6. 5\n",
       "7. 6\n",
       "8. 7\n",
       "9. 8\n",
       "10. 9\n",
       "11. 10\n",
       "\n",
       "\n"
      ],
      "text/plain": [
       " [1]  0  1  2  3  4  5  6  7  8  9 10"
      ]
     },
     "metadata": {},
     "output_type": "display_data"
    },
    {
     "data": {
      "text/html": [
       "<ol class=list-inline>\n",
       "\t<li>FALSE</li>\n",
       "\t<li>TRUE</li>\n",
       "\t<li>TRUE</li>\n",
       "\t<li>TRUE</li>\n",
       "\t<li>TRUE</li>\n",
       "\t<li>TRUE</li>\n",
       "\t<li>TRUE</li>\n",
       "\t<li>TRUE</li>\n",
       "\t<li>TRUE</li>\n",
       "\t<li>TRUE</li>\n",
       "\t<li>TRUE</li>\n",
       "</ol>\n"
      ],
      "text/latex": [
       "\\begin{enumerate*}\n",
       "\\item FALSE\n",
       "\\item TRUE\n",
       "\\item TRUE\n",
       "\\item TRUE\n",
       "\\item TRUE\n",
       "\\item TRUE\n",
       "\\item TRUE\n",
       "\\item TRUE\n",
       "\\item TRUE\n",
       "\\item TRUE\n",
       "\\item TRUE\n",
       "\\end{enumerate*}\n"
      ],
      "text/markdown": [
       "1. FALSE\n",
       "2. TRUE\n",
       "3. TRUE\n",
       "4. TRUE\n",
       "5. TRUE\n",
       "6. TRUE\n",
       "7. TRUE\n",
       "8. TRUE\n",
       "9. TRUE\n",
       "10. TRUE\n",
       "11. TRUE\n",
       "\n",
       "\n"
      ],
      "text/plain": [
       " [1] FALSE  TRUE  TRUE  TRUE  TRUE  TRUE  TRUE  TRUE  TRUE  TRUE  TRUE"
      ]
     },
     "metadata": {},
     "output_type": "display_data"
    },
    {
     "data": {
      "text/html": [
       "<ol class=list-inline>\n",
       "\t<li>'0'</li>\n",
       "\t<li>'1'</li>\n",
       "\t<li>'2'</li>\n",
       "\t<li>'3'</li>\n",
       "\t<li>'4'</li>\n",
       "\t<li>'5'</li>\n",
       "\t<li>'6'</li>\n",
       "\t<li>'7'</li>\n",
       "\t<li>'8'</li>\n",
       "\t<li>'9'</li>\n",
       "\t<li>'10'</li>\n",
       "</ol>\n"
      ],
      "text/latex": [
       "\\begin{enumerate*}\n",
       "\\item '0'\n",
       "\\item '1'\n",
       "\\item '2'\n",
       "\\item '3'\n",
       "\\item '4'\n",
       "\\item '5'\n",
       "\\item '6'\n",
       "\\item '7'\n",
       "\\item '8'\n",
       "\\item '9'\n",
       "\\item '10'\n",
       "\\end{enumerate*}\n"
      ],
      "text/markdown": [
       "1. '0'\n",
       "2. '1'\n",
       "3. '2'\n",
       "4. '3'\n",
       "5. '4'\n",
       "6. '5'\n",
       "7. '6'\n",
       "8. '7'\n",
       "9. '8'\n",
       "10. '9'\n",
       "11. '10'\n",
       "\n",
       "\n"
      ],
      "text/plain": [
       " [1] \"0\"  \"1\"  \"2\"  \"3\"  \"4\"  \"5\"  \"6\"  \"7\"  \"8\"  \"9\"  \"10\""
      ]
     },
     "metadata": {},
     "output_type": "display_data"
    },
    {
     "data": {
      "text/html": [
       "<ol class=list-inline>\n",
       "\t<li>0+0i</li>\n",
       "\t<li>1+0i</li>\n",
       "\t<li>2+0i</li>\n",
       "\t<li>3+0i</li>\n",
       "\t<li>4+0i</li>\n",
       "\t<li>5+0i</li>\n",
       "\t<li>6+0i</li>\n",
       "\t<li>7+0i</li>\n",
       "\t<li>8+0i</li>\n",
       "\t<li>9+0i</li>\n",
       "\t<li>10+0i</li>\n",
       "</ol>\n"
      ],
      "text/latex": [
       "\\begin{enumerate*}\n",
       "\\item 0+0i\n",
       "\\item 1+0i\n",
       "\\item 2+0i\n",
       "\\item 3+0i\n",
       "\\item 4+0i\n",
       "\\item 5+0i\n",
       "\\item 6+0i\n",
       "\\item 7+0i\n",
       "\\item 8+0i\n",
       "\\item 9+0i\n",
       "\\item 10+0i\n",
       "\\end{enumerate*}\n"
      ],
      "text/markdown": [
       "1. 0+0i\n",
       "2. 1+0i\n",
       "3. 2+0i\n",
       "4. 3+0i\n",
       "5. 4+0i\n",
       "6. 5+0i\n",
       "7. 6+0i\n",
       "8. 7+0i\n",
       "9. 8+0i\n",
       "10. 9+0i\n",
       "11. 10+0i\n",
       "\n",
       "\n"
      ],
      "text/plain": [
       " [1]  0+0i  1+0i  2+0i  3+0i  4+0i  5+0i  6+0i  7+0i  8+0i  9+0i 10+0i"
      ]
     },
     "metadata": {},
     "output_type": "display_data"
    }
   ],
   "source": [
    "v <- 0:10                      # integer vector (explicit conversion)\n",
    "class(v)\n",
    "as.numeric(v)\n",
    "as.logical(v)\n",
    "as.character(v)\n",
    "as.complex(v)"
   ]
  },
  {
   "cell_type": "code",
   "execution_count": 13,
   "metadata": {},
   "outputs": [
    {
     "name": "stderr",
     "output_type": "stream",
     "text": [
      "Warning message in eval(expr, envir, enclos):\n",
      "\"NAs introduced by coercion\""
     ]
    },
    {
     "data": {
      "text/html": [
       "<ol class=list-inline>\n",
       "\t<li>&lt;NA&gt;</li>\n",
       "\t<li>&lt;NA&gt;</li>\n",
       "\t<li>&lt;NA&gt;</li>\n",
       "</ol>\n"
      ],
      "text/latex": [
       "\\begin{enumerate*}\n",
       "\\item <NA>\n",
       "\\item <NA>\n",
       "\\item <NA>\n",
       "\\end{enumerate*}\n"
      ],
      "text/markdown": [
       "1. &lt;NA&gt;\n",
       "2. &lt;NA&gt;\n",
       "3. &lt;NA&gt;\n",
       "\n",
       "\n"
      ],
      "text/plain": [
       "[1] NA NA NA"
      ]
     },
     "metadata": {},
     "output_type": "display_data"
    },
    {
     "data": {
      "text/html": [
       "<ol class=list-inline>\n",
       "\t<li>&lt;NA&gt;</li>\n",
       "\t<li>&lt;NA&gt;</li>\n",
       "\t<li>&lt;NA&gt;</li>\n",
       "</ol>\n"
      ],
      "text/latex": [
       "\\begin{enumerate*}\n",
       "\\item <NA>\n",
       "\\item <NA>\n",
       "\\item <NA>\n",
       "\\end{enumerate*}\n"
      ],
      "text/markdown": [
       "1. &lt;NA&gt;\n",
       "2. &lt;NA&gt;\n",
       "3. &lt;NA&gt;\n",
       "\n",
       "\n"
      ],
      "text/plain": [
       "[1] NA NA NA"
      ]
     },
     "metadata": {},
     "output_type": "display_data"
    },
    {
     "name": "stderr",
     "output_type": "stream",
     "text": [
      "Warning message in eval(expr, envir, enclos):\n",
      "\"NAs introduced by coercion\""
     ]
    },
    {
     "data": {
      "text/html": [
       "<ol class=list-inline>\n",
       "\t<li>&lt;NA&gt;</li>\n",
       "\t<li>&lt;NA&gt;</li>\n",
       "\t<li>&lt;NA&gt;</li>\n",
       "</ol>\n"
      ],
      "text/latex": [
       "\\begin{enumerate*}\n",
       "\\item <NA>\n",
       "\\item <NA>\n",
       "\\item <NA>\n",
       "\\end{enumerate*}\n"
      ],
      "text/markdown": [
       "1. &lt;NA&gt;\n",
       "2. &lt;NA&gt;\n",
       "3. &lt;NA&gt;\n",
       "\n",
       "\n"
      ],
      "text/plain": [
       "[1] NA NA NA"
      ]
     },
     "metadata": {},
     "output_type": "display_data"
    },
    {
     "name": "stdout",
     "output_type": "stream",
     "text": [
      "[1] \"character\"\n"
     ]
    }
   ],
   "source": [
    "# explicit type conversion\n",
    "v <- c(\"a\", \"b\", \"c\")          # character vector (explicit conversion)\n",
    "as.numeric(v)\n",
    "as.logical(v)\n",
    "as.complex(v)\n",
    "print(class(v))"
   ]
  },
  {
   "cell_type": "markdown",
   "metadata": {},
   "source": [
    "# The seq Function"
   ]
  },
  {
   "cell_type": "code",
   "execution_count": 39,
   "metadata": {},
   "outputs": [
    {
     "data": {
      "text/html": [
       "<ol class=list-inline>\n",
       "\t<li>1</li>\n",
       "\t<li>2.8</li>\n",
       "\t<li>4.6</li>\n",
       "\t<li>6.4</li>\n",
       "\t<li>8.2</li>\n",
       "\t<li>10</li>\n",
       "</ol>\n"
      ],
      "text/latex": [
       "\\begin{enumerate*}\n",
       "\\item 1\n",
       "\\item 2.8\n",
       "\\item 4.6\n",
       "\\item 6.4\n",
       "\\item 8.2\n",
       "\\item 10\n",
       "\\end{enumerate*}\n"
      ],
      "text/markdown": [
       "1. 1\n",
       "2. 2.8\n",
       "3. 4.6\n",
       "4. 6.4\n",
       "5. 8.2\n",
       "6. 10\n",
       "\n",
       "\n"
      ],
      "text/plain": [
       "[1]  1.0  2.8  4.6  6.4  8.2 10.0"
      ]
     },
     "metadata": {},
     "output_type": "display_data"
    }
   ],
   "source": [
    "x <- seq(1, 10, length.out = 6)\n",
    "x"
   ]
  },
  {
   "cell_type": "code",
   "execution_count": 45,
   "metadata": {},
   "outputs": [
    {
     "data": {
      "text/html": [
       "<ol class=list-inline>\n",
       "\t<li>0</li>\n",
       "\t<li>0.1</li>\n",
       "\t<li>0.2</li>\n",
       "\t<li>0.3</li>\n",
       "\t<li>0.4</li>\n",
       "\t<li>0.5</li>\n",
       "\t<li>0.6</li>\n",
       "\t<li>0.7</li>\n",
       "\t<li>0.8</li>\n",
       "\t<li>0.9</li>\n",
       "\t<li>1</li>\n",
       "</ol>\n"
      ],
      "text/latex": [
       "\\begin{enumerate*}\n",
       "\\item 0\n",
       "\\item 0.1\n",
       "\\item 0.2\n",
       "\\item 0.3\n",
       "\\item 0.4\n",
       "\\item 0.5\n",
       "\\item 0.6\n",
       "\\item 0.7\n",
       "\\item 0.8\n",
       "\\item 0.9\n",
       "\\item 1\n",
       "\\end{enumerate*}\n"
      ],
      "text/markdown": [
       "1. 0\n",
       "2. 0.1\n",
       "3. 0.2\n",
       "4. 0.3\n",
       "5. 0.4\n",
       "6. 0.5\n",
       "7. 0.6\n",
       "8. 0.7\n",
       "9. 0.8\n",
       "10. 0.9\n",
       "11. 1\n",
       "\n",
       "\n"
      ],
      "text/plain": [
       " [1] 0.0 0.1 0.2 0.3 0.4 0.5 0.6 0.7 0.8 0.9 1.0"
      ]
     },
     "metadata": {},
     "output_type": "display_data"
    },
    {
     "data": {
      "text/html": [
       "<ol class=list-inline>\n",
       "\t<li>1</li>\n",
       "\t<li>3</li>\n",
       "\t<li>5</li>\n",
       "\t<li>7</li>\n",
       "\t<li>9</li>\n",
       "\t<li>11</li>\n",
       "\t<li>13</li>\n",
       "\t<li>15</li>\n",
       "</ol>\n"
      ],
      "text/latex": [
       "\\begin{enumerate*}\n",
       "\\item 1\n",
       "\\item 3\n",
       "\\item 5\n",
       "\\item 7\n",
       "\\item 9\n",
       "\\item 11\n",
       "\\item 13\n",
       "\\item 15\n",
       "\\end{enumerate*}\n"
      ],
      "text/markdown": [
       "1. 1\n",
       "2. 3\n",
       "3. 5\n",
       "4. 7\n",
       "5. 9\n",
       "6. 11\n",
       "7. 13\n",
       "8. 15\n",
       "\n",
       "\n"
      ],
      "text/plain": [
       "[1]  1  3  5  7  9 11 13 15"
      ]
     },
     "metadata": {},
     "output_type": "display_data"
    },
    {
     "data": {
      "text/html": [
       "<ol class=list-inline>\n",
       "\t<li>1</li>\n",
       "\t<li>4.14159265358979</li>\n",
       "\t<li>7.28318530717959</li>\n",
       "\t<li>10.4247779607694</li>\n",
       "\t<li>13.5663706143592</li>\n",
       "</ol>\n"
      ],
      "text/latex": [
       "\\begin{enumerate*}\n",
       "\\item 1\n",
       "\\item 4.14159265358979\n",
       "\\item 7.28318530717959\n",
       "\\item 10.4247779607694\n",
       "\\item 13.5663706143592\n",
       "\\end{enumerate*}\n"
      ],
      "text/markdown": [
       "1. 1\n",
       "2. 4.14159265358979\n",
       "3. 7.28318530717959\n",
       "4. 10.4247779607694\n",
       "5. 13.5663706143592\n",
       "\n",
       "\n"
      ],
      "text/plain": [
       "[1]  1.000000  4.141593  7.283185 10.424778 13.566371"
      ]
     },
     "metadata": {},
     "output_type": "display_data"
    },
    {
     "data": {
      "text/html": [
       "<ol class=list-inline>\n",
       "\t<li>1</li>\n",
       "\t<li>4</li>\n",
       "\t<li>7</li>\n",
       "\t<li>10</li>\n",
       "\t<li>13</li>\n",
       "</ol>\n"
      ],
      "text/latex": [
       "\\begin{enumerate*}\n",
       "\\item 1\n",
       "\\item 4\n",
       "\\item 7\n",
       "\\item 10\n",
       "\\item 13\n",
       "\\end{enumerate*}\n"
      ],
      "text/markdown": [
       "1. 1\n",
       "2. 4\n",
       "3. 7\n",
       "4. 10\n",
       "5. 13\n",
       "\n",
       "\n"
      ],
      "text/plain": [
       "[1]  1  4  7 10 13"
      ]
     },
     "metadata": {},
     "output_type": "display_data"
    },
    {
     "data": {
      "text/html": [
       "<ol class=list-inline>\n",
       "\t<li>1.675</li>\n",
       "\t<li>1.725</li>\n",
       "\t<li>1.775</li>\n",
       "\t<li>1.825</li>\n",
       "\t<li>1.875</li>\n",
       "\t<li>1.925</li>\n",
       "\t<li>1.975</li>\n",
       "\t<li>2.025</li>\n",
       "\t<li>2.075</li>\n",
       "\t<li>2.125</li>\n",
       "\t<li>2.175</li>\n",
       "\t<li>2.225</li>\n",
       "\t<li>2.275</li>\n",
       "\t<li>2.325</li>\n",
       "\t<li>2.375</li>\n",
       "\t<li>2.425</li>\n",
       "\t<li>2.475</li>\n",
       "\t<li>2.525</li>\n",
       "\t<li>2.575</li>\n",
       "\t<li>2.625</li>\n",
       "\t<li>2.675</li>\n",
       "\t<li>2.725</li>\n",
       "\t<li>2.775</li>\n",
       "\t<li>2.825</li>\n",
       "\t<li>2.875</li>\n",
       "\t<li>2.925</li>\n",
       "\t<li>2.975</li>\n",
       "\t<li>3.025</li>\n",
       "\t<li>3.075</li>\n",
       "\t<li>3.125</li>\n",
       "\t<li>3.175</li>\n",
       "\t<li>3.225</li>\n",
       "\t<li>3.275</li>\n",
       "\t<li>3.325</li>\n",
       "\t<li>3.375</li>\n",
       "\t<li>3.425</li>\n",
       "\t<li>3.475</li>\n",
       "\t<li>3.525</li>\n",
       "\t<li>3.575</li>\n",
       "\t<li>3.625</li>\n",
       "\t<li>3.675</li>\n",
       "\t<li>3.725</li>\n",
       "\t<li>3.775</li>\n",
       "\t<li>3.825</li>\n",
       "\t<li>3.875</li>\n",
       "\t<li>3.925</li>\n",
       "\t<li>3.975</li>\n",
       "\t<li>4.025</li>\n",
       "\t<li>4.075</li>\n",
       "\t<li>4.125</li>\n",
       "\t<li>4.175</li>\n",
       "\t<li>4.225</li>\n",
       "\t<li>4.275</li>\n",
       "\t<li>4.325</li>\n",
       "\t<li>4.375</li>\n",
       "\t<li>4.425</li>\n",
       "\t<li>4.475</li>\n",
       "\t<li>4.525</li>\n",
       "\t<li>4.575</li>\n",
       "\t<li>4.625</li>\n",
       "\t<li>4.675</li>\n",
       "\t<li>4.725</li>\n",
       "\t<li>4.775</li>\n",
       "\t<li>4.825</li>\n",
       "\t<li>4.875</li>\n",
       "\t<li>4.925</li>\n",
       "\t<li>4.975</li>\n",
       "\t<li>5.025</li>\n",
       "\t<li>5.075</li>\n",
       "\t<li>5.125</li>\n",
       "\t<li>5.175</li>\n",
       "\t<li>5.225</li>\n",
       "\t<li>5.275</li>\n",
       "\t<li>5.325</li>\n",
       "\t<li>5.375</li>\n",
       "\t<li>5.425</li>\n",
       "\t<li>5.475</li>\n",
       "\t<li>5.525</li>\n",
       "\t<li>5.575</li>\n",
       "\t<li>5.625</li>\n",
       "\t<li>5.675</li>\n",
       "\t<li>5.725</li>\n",
       "\t<li>5.775</li>\n",
       "\t<li>5.825</li>\n",
       "\t<li>5.875</li>\n",
       "\t<li>5.925</li>\n",
       "\t<li>5.975</li>\n",
       "\t<li>6.025</li>\n",
       "\t<li>6.075</li>\n",
       "\t<li>6.125</li>\n",
       "\t<li>6.175</li>\n",
       "\t<li>6.225</li>\n",
       "</ol>\n"
      ],
      "text/latex": [
       "\\begin{enumerate*}\n",
       "\\item 1.675\n",
       "\\item 1.725\n",
       "\\item 1.775\n",
       "\\item 1.825\n",
       "\\item 1.875\n",
       "\\item 1.925\n",
       "\\item 1.975\n",
       "\\item 2.025\n",
       "\\item 2.075\n",
       "\\item 2.125\n",
       "\\item 2.175\n",
       "\\item 2.225\n",
       "\\item 2.275\n",
       "\\item 2.325\n",
       "\\item 2.375\n",
       "\\item 2.425\n",
       "\\item 2.475\n",
       "\\item 2.525\n",
       "\\item 2.575\n",
       "\\item 2.625\n",
       "\\item 2.675\n",
       "\\item 2.725\n",
       "\\item 2.775\n",
       "\\item 2.825\n",
       "\\item 2.875\n",
       "\\item 2.925\n",
       "\\item 2.975\n",
       "\\item 3.025\n",
       "\\item 3.075\n",
       "\\item 3.125\n",
       "\\item 3.175\n",
       "\\item 3.225\n",
       "\\item 3.275\n",
       "\\item 3.325\n",
       "\\item 3.375\n",
       "\\item 3.425\n",
       "\\item 3.475\n",
       "\\item 3.525\n",
       "\\item 3.575\n",
       "\\item 3.625\n",
       "\\item 3.675\n",
       "\\item 3.725\n",
       "\\item 3.775\n",
       "\\item 3.825\n",
       "\\item 3.875\n",
       "\\item 3.925\n",
       "\\item 3.975\n",
       "\\item 4.025\n",
       "\\item 4.075\n",
       "\\item 4.125\n",
       "\\item 4.175\n",
       "\\item 4.225\n",
       "\\item 4.275\n",
       "\\item 4.325\n",
       "\\item 4.375\n",
       "\\item 4.425\n",
       "\\item 4.475\n",
       "\\item 4.525\n",
       "\\item 4.575\n",
       "\\item 4.625\n",
       "\\item 4.675\n",
       "\\item 4.725\n",
       "\\item 4.775\n",
       "\\item 4.825\n",
       "\\item 4.875\n",
       "\\item 4.925\n",
       "\\item 4.975\n",
       "\\item 5.025\n",
       "\\item 5.075\n",
       "\\item 5.125\n",
       "\\item 5.175\n",
       "\\item 5.225\n",
       "\\item 5.275\n",
       "\\item 5.325\n",
       "\\item 5.375\n",
       "\\item 5.425\n",
       "\\item 5.475\n",
       "\\item 5.525\n",
       "\\item 5.575\n",
       "\\item 5.625\n",
       "\\item 5.675\n",
       "\\item 5.725\n",
       "\\item 5.775\n",
       "\\item 5.825\n",
       "\\item 5.875\n",
       "\\item 5.925\n",
       "\\item 5.975\n",
       "\\item 6.025\n",
       "\\item 6.075\n",
       "\\item 6.125\n",
       "\\item 6.175\n",
       "\\item 6.225\n",
       "\\end{enumerate*}\n"
      ],
      "text/markdown": [
       "1. 1.675\n",
       "2. 1.725\n",
       "3. 1.775\n",
       "4. 1.825\n",
       "5. 1.875\n",
       "6. 1.925\n",
       "7. 1.975\n",
       "8. 2.025\n",
       "9. 2.075\n",
       "10. 2.125\n",
       "11. 2.175\n",
       "12. 2.225\n",
       "13. 2.275\n",
       "14. 2.325\n",
       "15. 2.375\n",
       "16. 2.425\n",
       "17. 2.475\n",
       "18. 2.525\n",
       "19. 2.575\n",
       "20. 2.625\n",
       "21. 2.675\n",
       "22. 2.725\n",
       "23. 2.775\n",
       "24. 2.825\n",
       "25. 2.875\n",
       "26. 2.925\n",
       "27. 2.975\n",
       "28. 3.025\n",
       "29. 3.075\n",
       "30. 3.125\n",
       "31. 3.175\n",
       "32. 3.225\n",
       "33. 3.275\n",
       "34. 3.325\n",
       "35. 3.375\n",
       "36. 3.425\n",
       "37. 3.475\n",
       "38. 3.525\n",
       "39. 3.575\n",
       "40. 3.625\n",
       "41. 3.675\n",
       "42. 3.725\n",
       "43. 3.775\n",
       "44. 3.825\n",
       "45. 3.875\n",
       "46. 3.925\n",
       "47. 3.975\n",
       "48. 4.025\n",
       "49. 4.075\n",
       "50. 4.125\n",
       "51. 4.175\n",
       "52. 4.225\n",
       "53. 4.275\n",
       "54. 4.325\n",
       "55. 4.375\n",
       "56. 4.425\n",
       "57. 4.475\n",
       "58. 4.525\n",
       "59. 4.575\n",
       "60. 4.625\n",
       "61. 4.675\n",
       "62. 4.725\n",
       "63. 4.775\n",
       "64. 4.825\n",
       "65. 4.875\n",
       "66. 4.925\n",
       "67. 4.975\n",
       "68. 5.025\n",
       "69. 5.075\n",
       "70. 5.125\n",
       "71. 5.175\n",
       "72. 5.225\n",
       "73. 5.275\n",
       "74. 5.325\n",
       "75. 5.375\n",
       "76. 5.425\n",
       "77. 5.475\n",
       "78. 5.525\n",
       "79. 5.575\n",
       "80. 5.625\n",
       "81. 5.675\n",
       "82. 5.725\n",
       "83. 5.775\n",
       "84. 5.825\n",
       "85. 5.875\n",
       "86. 5.925\n",
       "87. 5.975\n",
       "88. 6.025\n",
       "89. 6.075\n",
       "90. 6.125\n",
       "91. 6.175\n",
       "92. 6.225\n",
       "\n",
       "\n"
      ],
      "text/plain": [
       " [1] 1.675 1.725 1.775 1.825 1.875 1.925 1.975 2.025 2.075 2.125 2.175 2.225\n",
       "[13] 2.275 2.325 2.375 2.425 2.475 2.525 2.575 2.625 2.675 2.725 2.775 2.825\n",
       "[25] 2.875 2.925 2.975 3.025 3.075 3.125 3.175 3.225 3.275 3.325 3.375 3.425\n",
       "[37] 3.475 3.525 3.575 3.625 3.675 3.725 3.775 3.825 3.875 3.925 3.975 4.025\n",
       "[49] 4.075 4.125 4.175 4.225 4.275 4.325 4.375 4.425 4.475 4.525 4.575 4.625\n",
       "[61] 4.675 4.725 4.775 4.825 4.875 4.925 4.975 5.025 5.075 5.125 5.175 5.225\n",
       "[73] 5.275 5.325 5.375 5.425 5.475 5.525 5.575 5.625 5.675 5.725 5.775 5.825\n",
       "[85] 5.875 5.925 5.975 6.025 6.075 6.125 6.175 6.225"
      ]
     },
     "metadata": {},
     "output_type": "display_data"
    },
    {
     "data": {
      "text/html": [
       "<ol class=list-inline>\n",
       "\t<li>1</li>\n",
       "\t<li>2</li>\n",
       "\t<li>3</li>\n",
       "\t<li>4</li>\n",
       "\t<li>5</li>\n",
       "\t<li>6</li>\n",
       "\t<li>7</li>\n",
       "\t<li>8</li>\n",
       "\t<li>9</li>\n",
       "\t<li>10</li>\n",
       "\t<li>11</li>\n",
       "\t<li>12</li>\n",
       "\t<li>13</li>\n",
       "\t<li>14</li>\n",
       "\t<li>15</li>\n",
       "\t<li>16</li>\n",
       "\t<li>17</li>\n",
       "\t<li>18</li>\n",
       "</ol>\n"
      ],
      "text/latex": [
       "\\begin{enumerate*}\n",
       "\\item 1\n",
       "\\item 2\n",
       "\\item 3\n",
       "\\item 4\n",
       "\\item 5\n",
       "\\item 6\n",
       "\\item 7\n",
       "\\item 8\n",
       "\\item 9\n",
       "\\item 10\n",
       "\\item 11\n",
       "\\item 12\n",
       "\\item 13\n",
       "\\item 14\n",
       "\\item 15\n",
       "\\item 16\n",
       "\\item 17\n",
       "\\item 18\n",
       "\\end{enumerate*}\n"
      ],
      "text/markdown": [
       "1. 1\n",
       "2. 2\n",
       "3. 3\n",
       "4. 4\n",
       "5. 5\n",
       "6. 6\n",
       "7. 7\n",
       "8. 8\n",
       "9. 9\n",
       "10. 10\n",
       "11. 11\n",
       "12. 12\n",
       "13. 13\n",
       "14. 14\n",
       "15. 15\n",
       "16. 16\n",
       "17. 17\n",
       "18. 18\n",
       "\n",
       "\n"
      ],
      "text/plain": [
       " [1]  1  2  3  4  5  6  7  8  9 10 11 12 13 14 15 16 17 18"
      ]
     },
     "metadata": {},
     "output_type": "display_data"
    }
   ],
   "source": [
    "# the seq function\n",
    "seq(0, 1, length.out = 11)\n",
    "seq(1, 15, by = 2)\n",
    "seq(1, 14, by = pi)\n",
    "seq(1, 13, by = 3)\n",
    "seq(1.675, 6.225, by = 0.05)\n",
    "seq(18) # same as 1:18"
   ]
  },
  {
   "cell_type": "markdown",
   "metadata": {},
   "source": [
    "# The storage.mode() Function"
   ]
  },
  {
   "cell_type": "code",
   "execution_count": 38,
   "metadata": {},
   "outputs": [
    {
     "data": {
      "text/html": [
       "<ol class=list-inline>\n",
       "\t<li>0</li>\n",
       "\t<li>0</li>\n",
       "\t<li>0</li>\n",
       "\t<li>0</li>\n",
       "\t<li>0</li>\n",
       "\t<li>0</li>\n",
       "\t<li>0</li>\n",
       "\t<li>0</li>\n",
       "\t<li>0</li>\n",
       "\t<li>0</li>\n",
       "</ol>\n"
      ],
      "text/latex": [
       "\\begin{enumerate*}\n",
       "\\item 0\n",
       "\\item 0\n",
       "\\item 0\n",
       "\\item 0\n",
       "\\item 0\n",
       "\\item 0\n",
       "\\item 0\n",
       "\\item 0\n",
       "\\item 0\n",
       "\\item 0\n",
       "\\end{enumerate*}\n"
      ],
      "text/markdown": [
       "1. 0\n",
       "2. 0\n",
       "3. 0\n",
       "4. 0\n",
       "5. 0\n",
       "6. 0\n",
       "7. 0\n",
       "8. 0\n",
       "9. 0\n",
       "10. 0\n",
       "\n",
       "\n"
      ],
      "text/plain": [
       " [1] 0 0 0 0 0 0 0 0 0 0"
      ]
     },
     "metadata": {},
     "output_type": "display_data"
    },
    {
     "data": {
      "text/html": [
       "<ol class=list-inline>\n",
       "\t<li>'0'</li>\n",
       "\t<li>'0'</li>\n",
       "\t<li>'0'</li>\n",
       "\t<li>'0'</li>\n",
       "\t<li>'0'</li>\n",
       "\t<li>'0'</li>\n",
       "\t<li>'0'</li>\n",
       "\t<li>'0'</li>\n",
       "\t<li>'0'</li>\n",
       "\t<li>'0'</li>\n",
       "</ol>\n"
      ],
      "text/latex": [
       "\\begin{enumerate*}\n",
       "\\item '0'\n",
       "\\item '0'\n",
       "\\item '0'\n",
       "\\item '0'\n",
       "\\item '0'\n",
       "\\item '0'\n",
       "\\item '0'\n",
       "\\item '0'\n",
       "\\item '0'\n",
       "\\item '0'\n",
       "\\end{enumerate*}\n"
      ],
      "text/markdown": [
       "1. '0'\n",
       "2. '0'\n",
       "3. '0'\n",
       "4. '0'\n",
       "5. '0'\n",
       "6. '0'\n",
       "7. '0'\n",
       "8. '0'\n",
       "9. '0'\n",
       "10. '0'\n",
       "\n",
       "\n"
      ],
      "text/plain": [
       " [1] \"0\" \"0\" \"0\" \"0\" \"0\" \"0\" \"0\" \"0\" \"0\" \"0\""
      ]
     },
     "metadata": {},
     "output_type": "display_data"
    },
    {
     "data": {
      "text/html": [
       "<ol class=list-inline>\n",
       "\t<li>0+0i</li>\n",
       "\t<li>0+0i</li>\n",
       "\t<li>0+0i</li>\n",
       "\t<li>0+0i</li>\n",
       "\t<li>0+0i</li>\n",
       "\t<li>0+0i</li>\n",
       "\t<li>0+0i</li>\n",
       "\t<li>0+0i</li>\n",
       "\t<li>0+0i</li>\n",
       "\t<li>0+0i</li>\n",
       "</ol>\n"
      ],
      "text/latex": [
       "\\begin{enumerate*}\n",
       "\\item 0+0i\n",
       "\\item 0+0i\n",
       "\\item 0+0i\n",
       "\\item 0+0i\n",
       "\\item 0+0i\n",
       "\\item 0+0i\n",
       "\\item 0+0i\n",
       "\\item 0+0i\n",
       "\\item 0+0i\n",
       "\\item 0+0i\n",
       "\\end{enumerate*}\n"
      ],
      "text/markdown": [
       "1. 0+0i\n",
       "2. 0+0i\n",
       "3. 0+0i\n",
       "4. 0+0i\n",
       "5. 0+0i\n",
       "6. 0+0i\n",
       "7. 0+0i\n",
       "8. 0+0i\n",
       "9. 0+0i\n",
       "10. 0+0i\n",
       "\n",
       "\n"
      ],
      "text/plain": [
       " [1] 0+0i 0+0i 0+0i 0+0i 0+0i 0+0i 0+0i 0+0i 0+0i 0+0i"
      ]
     },
     "metadata": {},
     "output_type": "display_data"
    }
   ],
   "source": [
    "# the storage.mode() function\n",
    "v <- vector(\"numeric\", length=10)\n",
    "v\n",
    "storage.mode(v) <- \"character\"   # set storage mode mode of vector\n",
    "v\n",
    "storage.mode(v) <- \"complex\"     # set storage mode mode of vector\n",
    "v"
   ]
  },
  {
   "cell_type": "markdown",
   "metadata": {},
   "source": [
    "# Removing NA Values"
   ]
  },
  {
   "cell_type": "code",
   "execution_count": 41,
   "metadata": {},
   "outputs": [
    {
     "data": {
      "text/html": [
       "<ol class=list-inline>\n",
       "\t<li>1</li>\n",
       "\t<li>2</li>\n",
       "\t<li>4</li>\n",
       "\t<li>6</li>\n",
       "\t<li>7</li>\n",
       "\t<li>8</li>\n",
       "</ol>\n"
      ],
      "text/latex": [
       "\\begin{enumerate*}\n",
       "\\item 1\n",
       "\\item 2\n",
       "\\item 4\n",
       "\\item 6\n",
       "\\item 7\n",
       "\\item 8\n",
       "\\end{enumerate*}\n"
      ],
      "text/markdown": [
       "1. 1\n",
       "2. 2\n",
       "3. 4\n",
       "4. 6\n",
       "5. 7\n",
       "6. 8\n",
       "\n",
       "\n"
      ],
      "text/plain": [
       "[1] 1 2 4 6 7 8"
      ]
     },
     "metadata": {},
     "output_type": "display_data"
    }
   ],
   "source": [
    "# Removing NA Values from a Vector\n",
    "x <- c(1, 2, NA, 4, NA, 6, 7, 8)\n",
    "missing <- is.na(x)\n",
    "x <- x[!missing]\n",
    "x"
   ]
  },
  {
   "cell_type": "markdown",
   "metadata": {},
   "source": [
    "# Vectorized Operations"
   ]
  },
  {
   "cell_type": "code",
   "execution_count": 42,
   "metadata": {},
   "outputs": [
    {
     "data": {
      "text/html": [
       "<ol class=list-inline>\n",
       "\t<li>1</li>\n",
       "\t<li>2</li>\n",
       "\t<li>3</li>\n",
       "\t<li>4</li>\n",
       "</ol>\n"
      ],
      "text/latex": [
       "\\begin{enumerate*}\n",
       "\\item 1\n",
       "\\item 2\n",
       "\\item 3\n",
       "\\item 4\n",
       "\\end{enumerate*}\n"
      ],
      "text/markdown": [
       "1. 1\n",
       "2. 2\n",
       "3. 3\n",
       "4. 4\n",
       "\n",
       "\n"
      ],
      "text/plain": [
       "[1] 1 2 3 4"
      ]
     },
     "metadata": {},
     "output_type": "display_data"
    },
    {
     "data": {
      "text/html": [
       "<ol class=list-inline>\n",
       "\t<li>5</li>\n",
       "\t<li>6</li>\n",
       "\t<li>7</li>\n",
       "\t<li>8</li>\n",
       "</ol>\n"
      ],
      "text/latex": [
       "\\begin{enumerate*}\n",
       "\\item 5\n",
       "\\item 6\n",
       "\\item 7\n",
       "\\item 8\n",
       "\\end{enumerate*}\n"
      ],
      "text/markdown": [
       "1. 5\n",
       "2. 6\n",
       "3. 7\n",
       "4. 8\n",
       "\n",
       "\n"
      ],
      "text/plain": [
       "[1] 5 6 7 8"
      ]
     },
     "metadata": {},
     "output_type": "display_data"
    },
    {
     "data": {
      "text/html": [
       "<ol class=list-inline>\n",
       "\t<li>6</li>\n",
       "\t<li>8</li>\n",
       "\t<li>10</li>\n",
       "\t<li>12</li>\n",
       "</ol>\n"
      ],
      "text/latex": [
       "\\begin{enumerate*}\n",
       "\\item 6\n",
       "\\item 8\n",
       "\\item 10\n",
       "\\item 12\n",
       "\\end{enumerate*}\n"
      ],
      "text/markdown": [
       "1. 6\n",
       "2. 8\n",
       "3. 10\n",
       "4. 12\n",
       "\n",
       "\n"
      ],
      "text/plain": [
       "[1]  6  8 10 12"
      ]
     },
     "metadata": {},
     "output_type": "display_data"
    },
    {
     "data": {
      "text/html": [
       "70"
      ],
      "text/latex": [
       "70"
      ],
      "text/markdown": [
       "70"
      ],
      "text/plain": [
       "[1] 70"
      ]
     },
     "metadata": {},
     "output_type": "display_data"
    },
    {
     "data": {
      "text/html": [
       "<table>\n",
       "<tbody>\n",
       "\t<tr><td>1</td><td>3</td></tr>\n",
       "\t<tr><td>2</td><td>4</td></tr>\n",
       "</tbody>\n",
       "</table>\n"
      ],
      "text/latex": [
       "\\begin{tabular}{ll}\n",
       "\t 1 & 3\\\\\n",
       "\t 2 & 4\\\\\n",
       "\\end{tabular}\n"
      ],
      "text/markdown": [
       "\n",
       "| 1 | 3 | \n",
       "| 2 | 4 | \n",
       "\n",
       "\n"
      ],
      "text/plain": [
       "     [,1] [,2]\n",
       "[1,] 1    3   \n",
       "[2,] 2    4   "
      ]
     },
     "metadata": {},
     "output_type": "display_data"
    },
    {
     "data": {
      "text/html": [
       "<table>\n",
       "<tbody>\n",
       "\t<tr><td>10</td><td>10</td></tr>\n",
       "\t<tr><td>10</td><td>10</td></tr>\n",
       "</tbody>\n",
       "</table>\n"
      ],
      "text/latex": [
       "\\begin{tabular}{ll}\n",
       "\t 10 & 10\\\\\n",
       "\t 10 & 10\\\\\n",
       "\\end{tabular}\n"
      ],
      "text/markdown": [
       "\n",
       "| 10 | 10 | \n",
       "| 10 | 10 | \n",
       "\n",
       "\n"
      ],
      "text/plain": [
       "     [,1] [,2]\n",
       "[1,] 10   10  \n",
       "[2,] 10   10  "
      ]
     },
     "metadata": {},
     "output_type": "display_data"
    },
    {
     "data": {
      "text/html": [
       "<table>\n",
       "<tbody>\n",
       "\t<tr><td>10</td><td>30</td></tr>\n",
       "\t<tr><td>20</td><td>40</td></tr>\n",
       "</tbody>\n",
       "</table>\n"
      ],
      "text/latex": [
       "\\begin{tabular}{ll}\n",
       "\t 10 & 30\\\\\n",
       "\t 20 & 40\\\\\n",
       "\\end{tabular}\n"
      ],
      "text/markdown": [
       "\n",
       "| 10 | 30 | \n",
       "| 20 | 40 | \n",
       "\n",
       "\n"
      ],
      "text/plain": [
       "     [,1] [,2]\n",
       "[1,] 10   30  \n",
       "[2,] 20   40  "
      ]
     },
     "metadata": {},
     "output_type": "display_data"
    },
    {
     "data": {
      "text/html": [
       "<table>\n",
       "<tbody>\n",
       "\t<tr><td>0.1</td><td>0.3</td></tr>\n",
       "\t<tr><td>0.2</td><td>0.4</td></tr>\n",
       "</tbody>\n",
       "</table>\n"
      ],
      "text/latex": [
       "\\begin{tabular}{ll}\n",
       "\t 0.1 & 0.3\\\\\n",
       "\t 0.2 & 0.4\\\\\n",
       "\\end{tabular}\n"
      ],
      "text/markdown": [
       "\n",
       "| 0.1 | 0.3 | \n",
       "| 0.2 | 0.4 | \n",
       "\n",
       "\n"
      ],
      "text/plain": [
       "     [,1] [,2]\n",
       "[1,] 0.1  0.3 \n",
       "[2,] 0.2  0.4 "
      ]
     },
     "metadata": {},
     "output_type": "display_data"
    },
    {
     "data": {
      "text/html": [
       "<table>\n",
       "<tbody>\n",
       "\t<tr><td>40</td><td>40</td></tr>\n",
       "\t<tr><td>60</td><td>60</td></tr>\n",
       "</tbody>\n",
       "</table>\n"
      ],
      "text/latex": [
       "\\begin{tabular}{ll}\n",
       "\t 40 & 40\\\\\n",
       "\t 60 & 60\\\\\n",
       "\\end{tabular}\n"
      ],
      "text/markdown": [
       "\n",
       "| 40 | 40 | \n",
       "| 60 | 60 | \n",
       "\n",
       "\n"
      ],
      "text/plain": [
       "     [,1] [,2]\n",
       "[1,] 40   40  \n",
       "[2,] 60   60  "
      ]
     },
     "metadata": {},
     "output_type": "display_data"
    }
   ],
   "source": [
    "# vectorized operations\n",
    "x <- 1:4; y <- 5:8\n",
    "x\n",
    "y\n",
    "x + y         # element-wise vector addition\n",
    "z <- sum(x*y) # vector dot product\n",
    "z\n",
    "x <- matrix(1:4, 2, 2); y <- matrix(rep(10, 4), 2, 2)\n",
    "x\n",
    "y\n",
    "x * y         # element-wise matrix multiplication\n",
    "x / y         # element-wise matrix division\n",
    "x %*% y       # matrix multiplication"
   ]
  },
  {
   "cell_type": "markdown",
   "metadata": {},
   "source": [
    "# Names: Self-Describing Metadata"
   ]
  },
  {
   "cell_type": "code",
   "execution_count": 44,
   "metadata": {},
   "outputs": [
    {
     "data": {
      "text/html": [
       "<ol class=list-inline>\n",
       "\t<li>1</li>\n",
       "\t<li>2</li>\n",
       "\t<li>3</li>\n",
       "\t<li>4</li>\n",
       "\t<li>5</li>\n",
       "</ol>\n"
      ],
      "text/latex": [
       "\\begin{enumerate*}\n",
       "\\item 1\n",
       "\\item 2\n",
       "\\item 3\n",
       "\\item 4\n",
       "\\item 5\n",
       "\\end{enumerate*}\n"
      ],
      "text/markdown": [
       "1. 1\n",
       "2. 2\n",
       "3. 3\n",
       "4. 4\n",
       "5. 5\n",
       "\n",
       "\n"
      ],
      "text/plain": [
       "[1] 1 2 3 4 5"
      ]
     },
     "metadata": {},
     "output_type": "display_data"
    },
    {
     "data": {
      "text/plain": [
       "NULL"
      ]
     },
     "metadata": {},
     "output_type": "display_data"
    },
    {
     "data": {
      "text/html": [
       "<dl class=dl-horizontal>\n",
       "\t<dt>London</dt>\n",
       "\t\t<dd>1</dd>\n",
       "\t<dt>Toronto</dt>\n",
       "\t\t<dd>2</dd>\n",
       "\t<dt>Paris</dt>\n",
       "\t\t<dd>3</dd>\n",
       "\t<dt>Boston</dt>\n",
       "\t\t<dd>4</dd>\n",
       "\t<dt>Tokyo</dt>\n",
       "\t\t<dd>5</dd>\n",
       "</dl>\n"
      ],
      "text/latex": [
       "\\begin{description*}\n",
       "\\item[London] 1\n",
       "\\item[Toronto] 2\n",
       "\\item[Paris] 3\n",
       "\\item[Boston] 4\n",
       "\\item[Tokyo] 5\n",
       "\\end{description*}\n"
      ],
      "text/markdown": [
       "London\n",
       ":   1Toronto\n",
       ":   2Paris\n",
       ":   3Boston\n",
       ":   4Tokyo\n",
       ":   5\n",
       "\n"
      ],
      "text/plain": [
       " London Toronto   Paris  Boston   Tokyo \n",
       "      1       2       3       4       5 "
      ]
     },
     "metadata": {},
     "output_type": "display_data"
    },
    {
     "data": {
      "text/html": [
       "<ol class=list-inline>\n",
       "\t<li>'London'</li>\n",
       "\t<li>'Toronto'</li>\n",
       "\t<li>'Paris'</li>\n",
       "\t<li>'Boston'</li>\n",
       "\t<li>'Tokyo'</li>\n",
       "</ol>\n"
      ],
      "text/latex": [
       "\\begin{enumerate*}\n",
       "\\item 'London'\n",
       "\\item 'Toronto'\n",
       "\\item 'Paris'\n",
       "\\item 'Boston'\n",
       "\\item 'Tokyo'\n",
       "\\end{enumerate*}\n"
      ],
      "text/markdown": [
       "1. 'London'\n",
       "2. 'Toronto'\n",
       "3. 'Paris'\n",
       "4. 'Boston'\n",
       "5. 'Tokyo'\n",
       "\n",
       "\n"
      ],
      "text/plain": [
       "[1] \"London\"  \"Toronto\" \"Paris\"   \"Boston\"  \"Tokyo\"  "
      ]
     },
     "metadata": {},
     "output_type": "display_data"
    }
   ],
   "source": [
    "#R objects can have names that provide self-describing metadata\n",
    "x <- 1:5\n",
    "x\n",
    "names(x)\n",
    "names(x) <- c(\"London\", \"Toronto\", \"Paris\", \"Boston\", \"Tokyo\")\n",
    "x\n",
    "names(x)"
   ]
  },
  {
   "cell_type": "code",
   "execution_count": null,
   "metadata": {
    "collapsed": true
   },
   "outputs": [],
   "source": []
  }
 ],
 "metadata": {
  "kernelspec": {
   "display_name": "R",
   "language": "R",
   "name": "ir"
  },
  "language_info": {
   "codemirror_mode": "r",
   "file_extension": ".r",
   "mimetype": "text/x-r-source",
   "name": "R",
   "pygments_lexer": "r",
   "version": "3.4.2"
  }
 },
 "nbformat": 4,
 "nbformat_minor": 2
}
