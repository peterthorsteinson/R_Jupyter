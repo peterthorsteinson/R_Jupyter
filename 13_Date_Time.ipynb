{
 "cells": [
  {
   "cell_type": "markdown",
   "metadata": {
    "collapsed": true
   },
   "source": [
    "# 13 Date and Time\n",
    "\n",
    "See: [UC Business Analytics R Programming Guide: Dealing with Dates](http://uc-r.github.io/dates)  \n"
   ]
  },
  {
   "cell_type": "code",
   "execution_count": 5,
   "metadata": {},
   "outputs": [
    {
     "data": {
      "text/html": [
       "'America/New_York'"
      ],
      "text/latex": [
       "'America/New\\_York'"
      ],
      "text/markdown": [
       "'America/New_York'"
      ],
      "text/plain": [
       "[1] \"America/New_York\""
      ]
     },
     "metadata": {},
     "output_type": "display_data"
    },
    {
     "data": {
      "text/html": [
       "<time datetime=\"2017-12-31\">2017-12-31</time>"
      ],
      "text/latex": [
       "2017-12-31"
      ],
      "text/markdown": [
       "2017-12-31"
      ],
      "text/plain": [
       "[1] \"2017-12-31\""
      ]
     },
     "metadata": {},
     "output_type": "display_data"
    },
    {
     "data": {
      "text/plain": [
       "[1] \"2017-12-31 11:06:02 EST\""
      ]
     },
     "metadata": {},
     "output_type": "display_data"
    },
    {
     "data": {
      "text/plain": [
       "[1] \"2017-12-31 11:06:02 EST\""
      ]
     },
     "metadata": {},
     "output_type": "display_data"
    }
   ],
   "source": [
    "# Getting current date & time\n",
    "Sys.timezone()\n",
    "Sys.Date()\n",
    "Sys.time()\n",
    "# the lubridate package\n",
    "library(lubridate)\n",
    "now()"
   ]
  },
  {
   "cell_type": "code",
   "execution_count": 6,
   "metadata": {},
   "outputs": [
    {
     "data": {
      "text/html": [
       "<ol class=list-inline>\n",
       "\t<li><time datetime=\"2015-07-01\">2015-07-01</time></li>\n",
       "\t<li><time datetime=\"2015-08-01\">2015-08-01</time></li>\n",
       "\t<li><time datetime=\"2015-09-01\">2015-09-01</time></li>\n",
       "</ol>\n"
      ],
      "text/latex": [
       "\\begin{enumerate*}\n",
       "\\item 2015-07-01\n",
       "\\item 2015-08-01\n",
       "\\item 2015-09-01\n",
       "\\end{enumerate*}\n"
      ],
      "text/markdown": [
       "1. 2015-07-01\n",
       "2. 2015-08-01\n",
       "3. 2015-09-01\n",
       "\n",
       "\n"
      ],
      "text/plain": [
       "[1] \"2015-07-01\" \"2015-08-01\" \"2015-09-01\""
      ]
     },
     "metadata": {},
     "output_type": "display_data"
    },
    {
     "data": {
      "text/html": [
       "<ol class=list-inline>\n",
       "\t<li><time datetime=\"2015-07-01\">2015-07-01</time></li>\n",
       "\t<li><time datetime=\"2015-07-01\">2015-07-01</time></li>\n",
       "\t<li><time datetime=\"2015-07-01\">2015-07-01</time></li>\n",
       "</ol>\n"
      ],
      "text/latex": [
       "\\begin{enumerate*}\n",
       "\\item 2015-07-01\n",
       "\\item 2015-07-01\n",
       "\\item 2015-07-01\n",
       "\\end{enumerate*}\n"
      ],
      "text/markdown": [
       "1. 2015-07-01\n",
       "2. 2015-07-01\n",
       "3. 2015-07-01\n",
       "\n",
       "\n"
      ],
      "text/plain": [
       "[1] \"2015-07-01\" \"2015-07-01\" \"2015-07-01\""
      ]
     },
     "metadata": {},
     "output_type": "display_data"
    },
    {
     "data": {
      "text/html": [
       "<ol class=list-inline>\n",
       "\t<li><time datetime=\"2015-07-01\">2015-07-01</time></li>\n",
       "\t<li><time datetime=\"2015-08-01\">2015-08-01</time></li>\n",
       "\t<li><time datetime=\"2015-09-01\">2015-09-01</time></li>\n",
       "</ol>\n"
      ],
      "text/latex": [
       "\\begin{enumerate*}\n",
       "\\item 2015-07-01\n",
       "\\item 2015-08-01\n",
       "\\item 2015-09-01\n",
       "\\end{enumerate*}\n"
      ],
      "text/markdown": [
       "1. 2015-07-01\n",
       "2. 2015-08-01\n",
       "3. 2015-09-01\n",
       "\n",
       "\n"
      ],
      "text/plain": [
       "[1] \"2015-07-01\" \"2015-08-01\" \"2015-09-01\""
      ]
     },
     "metadata": {},
     "output_type": "display_data"
    },
    {
     "data": {
      "text/html": [
       "<ol class=list-inline>\n",
       "\t<li><time datetime=\"2015-07-01\">2015-07-01</time></li>\n",
       "\t<li><time datetime=\"2015-07-01\">2015-07-01</time></li>\n",
       "\t<li><time datetime=\"2015-07-01\">2015-07-01</time></li>\n",
       "</ol>\n"
      ],
      "text/latex": [
       "\\begin{enumerate*}\n",
       "\\item 2015-07-01\n",
       "\\item 2015-07-01\n",
       "\\item 2015-07-01\n",
       "\\end{enumerate*}\n"
      ],
      "text/markdown": [
       "1. 2015-07-01\n",
       "2. 2015-07-01\n",
       "3. 2015-07-01\n",
       "\n",
       "\n"
      ],
      "text/plain": [
       "[1] \"2015-07-01\" \"2015-07-01\" \"2015-07-01\""
      ]
     },
     "metadata": {},
     "output_type": "display_data"
    }
   ],
   "source": [
    "# Convert Strings to Dates\n",
    "x <- c(\"2015-07-01\", \"2015-08-01\", \"2015-09-01\")\n",
    "as.Date(x)\n",
    "y <- c(\"07/01/2015\", \"07/01/2015\", \"07/01/2015\")\n",
    "as.Date(y, format = \"%m/%d/%Y\")\n",
    "library(lubridate)\n",
    "ymd(x)\n",
    "mdy(y)"
   ]
  },
  {
   "cell_type": "code",
   "execution_count": 7,
   "metadata": {},
   "outputs": [
    {
     "data": {
      "text/plain": [
       "[1] \"2012-01-02 12:00:00 GMT\" \"2013-05-22 12:00:00 GMT\"\n",
       "[3] \"2014-07-15 12:00:00 GMT\" \"2015-02-28 12:00:00 GMT\""
      ]
     },
     "metadata": {},
     "output_type": "display_data"
    },
    {
     "data": {
      "text/html": [
       "<ol class=list-inline>\n",
       "\t<li><time datetime=\"2012-01-02\">2012-01-02</time></li>\n",
       "\t<li><time datetime=\"2013-05-22\">2013-05-22</time></li>\n",
       "\t<li><time datetime=\"2014-07-15\">2014-07-15</time></li>\n",
       "\t<li><time datetime=\"2015-02-28\">2015-02-28</time></li>\n",
       "</ol>\n"
      ],
      "text/latex": [
       "\\begin{enumerate*}\n",
       "\\item 2012-01-02\n",
       "\\item 2013-05-22\n",
       "\\item 2014-07-15\n",
       "\\item 2015-02-28\n",
       "\\end{enumerate*}\n"
      ],
      "text/markdown": [
       "1. 2012-01-02\n",
       "2. 2013-05-22\n",
       "3. 2014-07-15\n",
       "4. 2015-02-28\n",
       "\n",
       "\n"
      ],
      "text/plain": [
       "[1] \"2012-01-02\" \"2013-05-22\" \"2014-07-15\" \"2015-02-28\""
      ]
     },
     "metadata": {},
     "output_type": "display_data"
    }
   ],
   "source": [
    "# Dates by Merging Data\n",
    "yr <- c(\"2012\", \"2013\", \"2014\", \"2015\")\n",
    "mo <- c(\"1\", \"5\", \"7\", \"2\")\n",
    "day <- c(\"02\", \"22\", \"15\", \"28\")\n",
    "# ISOdate converts to a POSIXct object\n",
    "ISOdate(year = yr, month = mo, day = day)\n",
    "# truncate the unused time data by converting with as.Date\n",
    "as.Date(ISOdate(year = yr, month = mo, day = day))"
   ]
  },
  {
   "cell_type": "code",
   "execution_count": 9,
   "metadata": {},
   "outputs": [
    {
     "data": {
      "text/html": [
       "<ol class=list-inline>\n",
       "\t<li>2015</li>\n",
       "\t<li>2015</li>\n",
       "\t<li>2015</li>\n",
       "</ol>\n"
      ],
      "text/latex": [
       "\\begin{enumerate*}\n",
       "\\item 2015\n",
       "\\item 2015\n",
       "\\item 2015\n",
       "\\end{enumerate*}\n"
      ],
      "text/markdown": [
       "1. 2015\n",
       "2. 2015\n",
       "3. 2015\n",
       "\n",
       "\n"
      ],
      "text/plain": [
       "[1] 2015 2015 2015"
      ]
     },
     "metadata": {},
     "output_type": "display_data"
    },
    {
     "data": {
      "text/html": [
       "<ol class=list-inline>\n",
       "\t<li>7</li>\n",
       "\t<li>8</li>\n",
       "\t<li>9</li>\n",
       "</ol>\n"
      ],
      "text/latex": [
       "\\begin{enumerate*}\n",
       "\\item 7\n",
       "\\item 8\n",
       "\\item 9\n",
       "\\end{enumerate*}\n"
      ],
      "text/markdown": [
       "1. 7\n",
       "2. 8\n",
       "3. 9\n",
       "\n",
       "\n"
      ],
      "text/plain": [
       "[1] 7 8 9"
      ]
     },
     "metadata": {},
     "output_type": "display_data"
    },
    {
     "data": {
      "text/html": [
       "<ol class=list-inline>\n",
       "\t<li>Jul</li>\n",
       "\t<li>Aug</li>\n",
       "\t<li>Sep</li>\n",
       "</ol>\n"
      ],
      "text/latex": [
       "\\begin{enumerate*}\n",
       "\\item Jul\n",
       "\\item Aug\n",
       "\\item Sep\n",
       "\\end{enumerate*}\n"
      ],
      "text/markdown": [
       "1. Jul\n",
       "2. Aug\n",
       "3. Sep\n",
       "\n",
       "\n"
      ],
      "text/plain": [
       "[1] Jul Aug Sep\n",
       "12 Levels: Jan < Feb < Mar < Apr < May < Jun < Jul < Aug < Sep < ... < Dec"
      ]
     },
     "metadata": {},
     "output_type": "display_data"
    },
    {
     "data": {
      "text/html": [
       "<ol class=list-inline>\n",
       "\t<li>July</li>\n",
       "\t<li>August</li>\n",
       "\t<li>September</li>\n",
       "</ol>\n"
      ],
      "text/latex": [
       "\\begin{enumerate*}\n",
       "\\item July\n",
       "\\item August\n",
       "\\item September\n",
       "\\end{enumerate*}\n"
      ],
      "text/markdown": [
       "1. July\n",
       "2. August\n",
       "3. September\n",
       "\n",
       "\n"
      ],
      "text/plain": [
       "[1] July      August    September\n",
       "12 Levels: January < February < March < April < May < June < ... < December"
      ]
     },
     "metadata": {},
     "output_type": "display_data"
    },
    {
     "data": {
      "text/html": [
       "<ol class=list-inline>\n",
       "\t<li>Wednesday</li>\n",
       "\t<li>Saturday</li>\n",
       "\t<li>Tuesday</li>\n",
       "</ol>\n"
      ],
      "text/latex": [
       "\\begin{enumerate*}\n",
       "\\item Wednesday\n",
       "\\item Saturday\n",
       "\\item Tuesday\n",
       "\\end{enumerate*}\n"
      ],
      "text/markdown": [
       "1. Wednesday\n",
       "2. Saturday\n",
       "3. Tuesday\n",
       "\n",
       "\n"
      ],
      "text/plain": [
       "[1] Wednesday Saturday  Tuesday  \n",
       "7 Levels: Sunday < Monday < Tuesday < Wednesday < Thursday < ... < Saturday"
      ]
     },
     "metadata": {},
     "output_type": "display_data"
    },
    {
     "data": {
      "text/html": [
       "<ol class=list-inline>\n",
       "\t<li><time datetime=\"2015-07-01\">2015-07-01</time></li>\n",
       "\t<li><time datetime=\"2015-08-01\">2015-08-01</time></li>\n",
       "\t<li><time datetime=\"2015-09-01\">2015-09-01</time></li>\n",
       "</ol>\n"
      ],
      "text/latex": [
       "\\begin{enumerate*}\n",
       "\\item 2015-07-01\n",
       "\\item 2015-08-01\n",
       "\\item 2015-09-01\n",
       "\\end{enumerate*}\n"
      ],
      "text/markdown": [
       "1. 2015-07-01\n",
       "2. 2015-08-01\n",
       "3. 2015-09-01\n",
       "\n",
       "\n"
      ],
      "text/plain": [
       "[1] \"2015-07-01\" \"2015-08-01\" \"2015-09-01\""
      ]
     },
     "metadata": {},
     "output_type": "display_data"
    },
    {
     "data": {
      "text/html": [
       "<ol class=list-inline>\n",
       "\t<li>1</li>\n",
       "\t<li>1</li>\n",
       "\t<li>1</li>\n",
       "</ol>\n"
      ],
      "text/latex": [
       "\\begin{enumerate*}\n",
       "\\item 1\n",
       "\\item 1\n",
       "\\item 1\n",
       "\\end{enumerate*}\n"
      ],
      "text/markdown": [
       "1. 1\n",
       "2. 1\n",
       "3. 1\n",
       "\n",
       "\n"
      ],
      "text/plain": [
       "[1] 1 1 1"
      ]
     },
     "metadata": {},
     "output_type": "display_data"
    },
    {
     "data": {
      "text/html": [
       "<ol class=list-inline>\n",
       "\t<li><time datetime=\"2015-07-03\">2015-07-03</time></li>\n",
       "\t<li><time datetime=\"2015-08-10\">2015-08-10</time></li>\n",
       "\t<li><time datetime=\"2015-09-22\">2015-09-22</time></li>\n",
       "</ol>\n"
      ],
      "text/latex": [
       "\\begin{enumerate*}\n",
       "\\item 2015-07-03\n",
       "\\item 2015-08-10\n",
       "\\item 2015-09-22\n",
       "\\end{enumerate*}\n"
      ],
      "text/markdown": [
       "1. 2015-07-03\n",
       "2. 2015-08-10\n",
       "3. 2015-09-22\n",
       "\n",
       "\n"
      ],
      "text/plain": [
       "[1] \"2015-07-03\" \"2015-08-10\" \"2015-09-22\""
      ]
     },
     "metadata": {},
     "output_type": "display_data"
    },
    {
     "data": {
      "text/html": [
       "<ol class=list-inline>\n",
       "\t<li><time datetime=\"2013-09-03\">2013-09-03</time></li>\n",
       "\t<li><time datetime=\"2014-09-10\">2014-09-10</time></li>\n",
       "\t<li><time datetime=\"2015-09-22\">2015-09-22</time></li>\n",
       "</ol>\n"
      ],
      "text/latex": [
       "\\begin{enumerate*}\n",
       "\\item 2013-09-03\n",
       "\\item 2014-09-10\n",
       "\\item 2015-09-22\n",
       "\\end{enumerate*}\n"
      ],
      "text/markdown": [
       "1. 2013-09-03\n",
       "2. 2014-09-10\n",
       "3. 2015-09-22\n",
       "\n",
       "\n"
      ],
      "text/plain": [
       "[1] \"2013-09-03\" \"2014-09-10\" \"2015-09-22\""
      ]
     },
     "metadata": {},
     "output_type": "display_data"
    },
    {
     "data": {
      "text/html": [
       "<ol class=list-inline>\n",
       "\t<li><time datetime=\"2016-07-01\">2016-07-01</time></li>\n",
       "\t<li><time datetime=\"2016-08-01\">2016-08-01</time></li>\n",
       "\t<li><time datetime=\"2016-09-01\">2016-09-01</time></li>\n",
       "</ol>\n"
      ],
      "text/latex": [
       "\\begin{enumerate*}\n",
       "\\item 2016-07-01\n",
       "\\item 2016-08-01\n",
       "\\item 2016-09-01\n",
       "\\end{enumerate*}\n"
      ],
      "text/markdown": [
       "1. 2016-07-01\n",
       "2. 2016-08-01\n",
       "3. 2016-09-01\n",
       "\n",
       "\n"
      ],
      "text/plain": [
       "[1] \"2016-07-01\" \"2016-08-01\" \"2016-09-01\""
      ]
     },
     "metadata": {},
     "output_type": "display_data"
    }
   ],
   "source": [
    "# extract & manipulate parts of dates\n",
    "library(lubridate)\n",
    "x <- c(\"2015-07-01\", \"2015-08-01\", \"2015-09-01\")\n",
    "year(x)\n",
    "month(x)\n",
    "month(x, label = TRUE)\n",
    "month(x, label = TRUE, abbr = FALSE)\n",
    "wday(x, label = TRUE, abbr = FALSE)\n",
    "# convert to date format\n",
    "x <- ymd(x)\n",
    "x\n",
    "mday(x)\n",
    "mday(x) <- c(3, 10, 22)\n",
    "x\n",
    "# can also use 'update()' function\n",
    "update(x, year = c(2013, 2014, 2015), month = 9)\n",
    "# can also add/subtract units\n",
    "x + years(1) - days(c(2, 9, 21))"
   ]
  },
  {
   "cell_type": "code",
   "execution_count": 11,
   "metadata": {},
   "outputs": [
    {
     "data": {
      "text/html": [
       "<ol class=list-inline>\n",
       "\t<li><time datetime=\"2010-01-01\">2010-01-01</time></li>\n",
       "\t<li><time datetime=\"2011-01-01\">2011-01-01</time></li>\n",
       "\t<li><time datetime=\"2012-01-01\">2012-01-01</time></li>\n",
       "\t<li><time datetime=\"2013-01-01\">2013-01-01</time></li>\n",
       "\t<li><time datetime=\"2014-01-01\">2014-01-01</time></li>\n",
       "\t<li><time datetime=\"2015-01-01\">2015-01-01</time></li>\n",
       "</ol>\n"
      ],
      "text/latex": [
       "\\begin{enumerate*}\n",
       "\\item 2010-01-01\n",
       "\\item 2011-01-01\n",
       "\\item 2012-01-01\n",
       "\\item 2013-01-01\n",
       "\\item 2014-01-01\n",
       "\\item 2015-01-01\n",
       "\\end{enumerate*}\n"
      ],
      "text/markdown": [
       "1. 2010-01-01\n",
       "2. 2011-01-01\n",
       "3. 2012-01-01\n",
       "4. 2013-01-01\n",
       "5. 2014-01-01\n",
       "6. 2015-01-01\n",
       "\n",
       "\n"
      ],
      "text/plain": [
       "[1] \"2010-01-01\" \"2011-01-01\" \"2012-01-01\" \"2013-01-01\" \"2014-01-01\"\n",
       "[6] \"2015-01-01\""
      ]
     },
     "metadata": {},
     "output_type": "display_data"
    },
    {
     "data": {
      "text/html": [
       "<ol class=list-inline>\n",
       "\t<li><time datetime=\"2015-01-01\">2015-01-01</time></li>\n",
       "\t<li><time datetime=\"2015-04-01\">2015-04-01</time></li>\n",
       "\t<li><time datetime=\"2015-07-01\">2015-07-01</time></li>\n",
       "\t<li><time datetime=\"2015-10-01\">2015-10-01</time></li>\n",
       "</ol>\n"
      ],
      "text/latex": [
       "\\begin{enumerate*}\n",
       "\\item 2015-01-01\n",
       "\\item 2015-04-01\n",
       "\\item 2015-07-01\n",
       "\\item 2015-10-01\n",
       "\\end{enumerate*}\n"
      ],
      "text/markdown": [
       "1. 2015-01-01\n",
       "2. 2015-04-01\n",
       "3. 2015-07-01\n",
       "4. 2015-10-01\n",
       "\n",
       "\n"
      ],
      "text/plain": [
       "[1] \"2015-01-01\" \"2015-04-01\" \"2015-07-01\" \"2015-10-01\""
      ]
     },
     "metadata": {},
     "output_type": "display_data"
    },
    {
     "data": {
      "text/html": [
       "<ol class=list-inline>\n",
       "\t<li><time datetime=\"2015-09-15\">2015-09-15</time></li>\n",
       "\t<li><time datetime=\"2015-09-17\">2015-09-17</time></li>\n",
       "\t<li><time datetime=\"2015-09-19\">2015-09-19</time></li>\n",
       "\t<li><time datetime=\"2015-09-21\">2015-09-21</time></li>\n",
       "\t<li><time datetime=\"2015-09-23\">2015-09-23</time></li>\n",
       "\t<li><time datetime=\"2015-09-25\">2015-09-25</time></li>\n",
       "\t<li><time datetime=\"2015-09-27\">2015-09-27</time></li>\n",
       "\t<li><time datetime=\"2015-09-29\">2015-09-29</time></li>\n",
       "</ol>\n"
      ],
      "text/latex": [
       "\\begin{enumerate*}\n",
       "\\item 2015-09-15\n",
       "\\item 2015-09-17\n",
       "\\item 2015-09-19\n",
       "\\item 2015-09-21\n",
       "\\item 2015-09-23\n",
       "\\item 2015-09-25\n",
       "\\item 2015-09-27\n",
       "\\item 2015-09-29\n",
       "\\end{enumerate*}\n"
      ],
      "text/markdown": [
       "1. 2015-09-15\n",
       "2. 2015-09-17\n",
       "3. 2015-09-19\n",
       "4. 2015-09-21\n",
       "5. 2015-09-23\n",
       "6. 2015-09-25\n",
       "7. 2015-09-27\n",
       "8. 2015-09-29\n",
       "\n",
       "\n"
      ],
      "text/plain": [
       "[1] \"2015-09-15\" \"2015-09-17\" \"2015-09-19\" \"2015-09-21\" \"2015-09-23\"\n",
       "[6] \"2015-09-25\" \"2015-09-27\" \"2015-09-29\""
      ]
     },
     "metadata": {},
     "output_type": "display_data"
    },
    {
     "data": {
      "text/html": [
       "<ol class=list-inline>\n",
       "\t<li><time datetime=\"2010-01-01\">2010-01-01</time></li>\n",
       "\t<li><time datetime=\"2011-01-01\">2011-01-01</time></li>\n",
       "\t<li><time datetime=\"2012-01-01\">2012-01-01</time></li>\n",
       "\t<li><time datetime=\"2013-01-01\">2013-01-01</time></li>\n",
       "\t<li><time datetime=\"2014-01-01\">2014-01-01</time></li>\n",
       "\t<li><time datetime=\"2015-01-01\">2015-01-01</time></li>\n",
       "</ol>\n"
      ],
      "text/latex": [
       "\\begin{enumerate*}\n",
       "\\item 2010-01-01\n",
       "\\item 2011-01-01\n",
       "\\item 2012-01-01\n",
       "\\item 2013-01-01\n",
       "\\item 2014-01-01\n",
       "\\item 2015-01-01\n",
       "\\end{enumerate*}\n"
      ],
      "text/markdown": [
       "1. 2010-01-01\n",
       "2. 2011-01-01\n",
       "3. 2012-01-01\n",
       "4. 2013-01-01\n",
       "5. 2014-01-01\n",
       "6. 2015-01-01\n",
       "\n",
       "\n"
      ],
      "text/plain": [
       "[1] \"2010-01-01\" \"2011-01-01\" \"2012-01-01\" \"2013-01-01\" \"2014-01-01\"\n",
       "[6] \"2015-01-01\""
      ]
     },
     "metadata": {},
     "output_type": "display_data"
    },
    {
     "data": {
      "text/html": [
       "<ol class=list-inline>\n",
       "\t<li><time datetime=\"2015-01-01\">2015-01-01</time></li>\n",
       "\t<li><time datetime=\"2015-04-01\">2015-04-01</time></li>\n",
       "\t<li><time datetime=\"2015-07-01\">2015-07-01</time></li>\n",
       "\t<li><time datetime=\"2015-10-01\">2015-10-01</time></li>\n",
       "</ol>\n"
      ],
      "text/latex": [
       "\\begin{enumerate*}\n",
       "\\item 2015-01-01\n",
       "\\item 2015-04-01\n",
       "\\item 2015-07-01\n",
       "\\item 2015-10-01\n",
       "\\end{enumerate*}\n"
      ],
      "text/markdown": [
       "1. 2015-01-01\n",
       "2. 2015-04-01\n",
       "3. 2015-07-01\n",
       "4. 2015-10-01\n",
       "\n",
       "\n"
      ],
      "text/plain": [
       "[1] \"2015-01-01\" \"2015-04-01\" \"2015-07-01\" \"2015-10-01\""
      ]
     },
     "metadata": {},
     "output_type": "display_data"
    },
    {
     "data": {
      "text/html": [
       "<ol class=list-inline>\n",
       "\t<li><time datetime=\"2015-09-15\">2015-09-15</time></li>\n",
       "\t<li><time datetime=\"2015-09-17\">2015-09-17</time></li>\n",
       "\t<li><time datetime=\"2015-09-19\">2015-09-19</time></li>\n",
       "\t<li><time datetime=\"2015-09-21\">2015-09-21</time></li>\n",
       "\t<li><time datetime=\"2015-09-23\">2015-09-23</time></li>\n",
       "\t<li><time datetime=\"2015-09-25\">2015-09-25</time></li>\n",
       "\t<li><time datetime=\"2015-09-27\">2015-09-27</time></li>\n",
       "\t<li><time datetime=\"2015-09-29\">2015-09-29</time></li>\n",
       "</ol>\n"
      ],
      "text/latex": [
       "\\begin{enumerate*}\n",
       "\\item 2015-09-15\n",
       "\\item 2015-09-17\n",
       "\\item 2015-09-19\n",
       "\\item 2015-09-21\n",
       "\\item 2015-09-23\n",
       "\\item 2015-09-25\n",
       "\\item 2015-09-27\n",
       "\\item 2015-09-29\n",
       "\\end{enumerate*}\n"
      ],
      "text/markdown": [
       "1. 2015-09-15\n",
       "2. 2015-09-17\n",
       "3. 2015-09-19\n",
       "4. 2015-09-21\n",
       "5. 2015-09-23\n",
       "6. 2015-09-25\n",
       "7. 2015-09-27\n",
       "8. 2015-09-29\n",
       "\n",
       "\n"
      ],
      "text/plain": [
       "[1] \"2015-09-15\" \"2015-09-17\" \"2015-09-19\" \"2015-09-21\" \"2015-09-23\"\n",
       "[6] \"2015-09-25\" \"2015-09-27\" \"2015-09-29\""
      ]
     },
     "metadata": {},
     "output_type": "display_data"
    }
   ],
   "source": [
    "# create date sequences\n",
    "seq(as.Date(\"2010-1-1\"), as.Date(\"2015-1-1\"), by = \"years\")\n",
    "seq(as.Date(\"2015/1/1\"), as.Date(\"2015/12/30\"), by = \"quarter\")\n",
    "seq(as.Date('2015-09-15'), as.Date('2015-09-30'), by = \"2 days\")\n",
    "\n",
    "# create date sequences with lubridate\n",
    "library(lubridate)\n",
    "seq(ymd(\"2010-1-1\"), ymd(\"2015-1-1\"), by = \"years\")\n",
    "seq(ymd(\"2015/1/1\"), ymd(\"2015/12/30\"), by = \"quarter\")\n",
    "seq(ymd('2015-09-15'), ymd('2015-09-30'), by = \"2 days\")\n"
   ]
  },
  {
   "cell_type": "code",
   "execution_count": null,
   "metadata": {
    "collapsed": true
   },
   "outputs": [],
   "source": [
    "# calculations with dates\n",
    "x <- Sys.Date()\n",
    "x\n",
    "y <- as.Date(\"2015-09-11\")\n",
    "x > y\n",
    "x - y"
   ]
  }
 ],
 "metadata": {
  "kernelspec": {
   "display_name": "R",
   "language": "R",
   "name": "ir"
  },
  "language_info": {
   "codemirror_mode": "r",
   "file_extension": ".r",
   "mimetype": "text/x-r-source",
   "name": "R",
   "pygments_lexer": "r",
   "version": "3.4.2"
  }
 },
 "nbformat": 4,
 "nbformat_minor": 2
}
