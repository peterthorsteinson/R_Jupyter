{
 "cells": [
  {
   "cell_type": "markdown",
   "metadata": {},
   "source": [
    "# 31 The tidyr Package\n",
    "\n",
    "The tidyr package is a member of tidyverse:\n",
    "**library(tidyverse)**\n",
    "\n",
    "A dataset tidy dataset is easier and faster to work with using tidyverse funtionality such as dplyr, readr, and ggplot2. It also works with the vectorized nature of tidyverse functionality.\n",
    "\n",
    "A dataset tidy if the following are true:\n",
    "-  Each variable must have its own column\n",
    "-  Each observation must have its own row\n",
    "-  Each value must have its own cell\n",
    "    \n",
    "[R for Data Science (Grolemund & Wickham) - Tidy data](http://r4ds.had.co.nz/tidy-data.html)  "
   ]
  },
  {
   "cell_type": "code",
   "execution_count": 8,
   "metadata": {},
   "outputs": [
    {
     "data": {
      "text/html": [
       "<table>\n",
       "<thead><tr><th scope=col>country</th><th scope=col>year</th><th scope=col>cases</th><th scope=col>population</th></tr></thead>\n",
       "<tbody>\n",
       "\t<tr><td>Afghanistan</td><td>1999       </td><td>   745     </td><td>  19987071 </td></tr>\n",
       "\t<tr><td>Afghanistan</td><td>2000       </td><td>  2666     </td><td>  20595360 </td></tr>\n",
       "\t<tr><td>Brazil     </td><td>1999       </td><td> 37737     </td><td> 172006362 </td></tr>\n",
       "\t<tr><td>Brazil     </td><td>2000       </td><td> 80488     </td><td> 174504898 </td></tr>\n",
       "\t<tr><td>China      </td><td>1999       </td><td>212258     </td><td>1272915272 </td></tr>\n",
       "\t<tr><td>China      </td><td>2000       </td><td>213766     </td><td>1280428583 </td></tr>\n",
       "</tbody>\n",
       "</table>\n"
      ],
      "text/latex": [
       "\\begin{tabular}{r|llll}\n",
       " country & year & cases & population\\\\\n",
       "\\hline\n",
       "\t Afghanistan & 1999        &    745      &   19987071 \\\\\n",
       "\t Afghanistan & 2000        &   2666      &   20595360 \\\\\n",
       "\t Brazil      & 1999        &  37737      &  172006362 \\\\\n",
       "\t Brazil      & 2000        &  80488      &  174504898 \\\\\n",
       "\t China       & 1999        & 212258      & 1272915272 \\\\\n",
       "\t China       & 2000        & 213766      & 1280428583 \\\\\n",
       "\\end{tabular}\n"
      ],
      "text/markdown": [
       "\n",
       "country | year | cases | population | \n",
       "|---|---|---|---|---|---|\n",
       "| Afghanistan | 1999        |    745      |   19987071  | \n",
       "| Afghanistan | 2000        |   2666      |   20595360  | \n",
       "| Brazil      | 1999        |  37737      |  172006362  | \n",
       "| Brazil      | 2000        |  80488      |  174504898  | \n",
       "| China       | 1999        | 212258      | 1272915272  | \n",
       "| China       | 2000        | 213766      | 1280428583  | \n",
       "\n",
       "\n"
      ],
      "text/plain": [
       "  country     year cases  population\n",
       "1 Afghanistan 1999    745   19987071\n",
       "2 Afghanistan 2000   2666   20595360\n",
       "3 Brazil      1999  37737  172006362\n",
       "4 Brazil      2000  80488  174504898\n",
       "5 China       1999 212258 1272915272\n",
       "6 China       2000 213766 1280428583"
      ]
     },
     "metadata": {},
     "output_type": "display_data"
    },
    {
     "data": {
      "text/html": [
       "<table>\n",
       "<thead><tr><th scope=col>country</th><th scope=col>year</th><th scope=col>cases</th><th scope=col>population</th><th scope=col>rate</th></tr></thead>\n",
       "<tbody>\n",
       "\t<tr><td>Afghanistan</td><td>1999       </td><td>   745     </td><td>  19987071 </td><td>0.372741   </td></tr>\n",
       "\t<tr><td>Afghanistan</td><td>2000       </td><td>  2666     </td><td>  20595360 </td><td>1.294466   </td></tr>\n",
       "\t<tr><td>Brazil     </td><td>1999       </td><td> 37737     </td><td> 172006362 </td><td>2.193930   </td></tr>\n",
       "\t<tr><td>Brazil     </td><td>2000       </td><td> 80488     </td><td> 174504898 </td><td>4.612363   </td></tr>\n",
       "\t<tr><td>China      </td><td>1999       </td><td>212258     </td><td>1272915272 </td><td>1.667495   </td></tr>\n",
       "\t<tr><td>China      </td><td>2000       </td><td>213766     </td><td>1280428583 </td><td>1.669488   </td></tr>\n",
       "</tbody>\n",
       "</table>\n"
      ],
      "text/latex": [
       "\\begin{tabular}{r|lllll}\n",
       " country & year & cases & population & rate\\\\\n",
       "\\hline\n",
       "\t Afghanistan & 1999        &    745      &   19987071  & 0.372741   \\\\\n",
       "\t Afghanistan & 2000        &   2666      &   20595360  & 1.294466   \\\\\n",
       "\t Brazil      & 1999        &  37737      &  172006362  & 2.193930   \\\\\n",
       "\t Brazil      & 2000        &  80488      &  174504898  & 4.612363   \\\\\n",
       "\t China       & 1999        & 212258      & 1272915272  & 1.667495   \\\\\n",
       "\t China       & 2000        & 213766      & 1280428583  & 1.669488   \\\\\n",
       "\\end{tabular}\n"
      ],
      "text/markdown": [
       "\n",
       "country | year | cases | population | rate | \n",
       "|---|---|---|---|---|---|\n",
       "| Afghanistan | 1999        |    745      |   19987071  | 0.372741    | \n",
       "| Afghanistan | 2000        |   2666      |   20595360  | 1.294466    | \n",
       "| Brazil      | 1999        |  37737      |  172006362  | 2.193930    | \n",
       "| Brazil      | 2000        |  80488      |  174504898  | 4.612363    | \n",
       "| China       | 1999        | 212258      | 1272915272  | 1.667495    | \n",
       "| China       | 2000        | 213766      | 1280428583  | 1.669488    | \n",
       "\n",
       "\n"
      ],
      "text/plain": [
       "  country     year cases  population rate    \n",
       "1 Afghanistan 1999    745   19987071 0.372741\n",
       "2 Afghanistan 2000   2666   20595360 1.294466\n",
       "3 Brazil      1999  37737  172006362 2.193930\n",
       "4 Brazil      2000  80488  174504898 4.612363\n",
       "5 China       1999 212258 1272915272 1.667495\n",
       "6 China       2000 213766 1280428583 1.669488"
      ]
     },
     "metadata": {},
     "output_type": "display_data"
    },
    {
     "data": {
      "text/html": [
       "<table>\n",
       "<thead><tr><th scope=col>year</th><th scope=col>n</th></tr></thead>\n",
       "<tbody>\n",
       "\t<tr><td>1999  </td><td>250740</td></tr>\n",
       "\t<tr><td>2000  </td><td>296920</td></tr>\n",
       "</tbody>\n",
       "</table>\n"
      ],
      "text/latex": [
       "\\begin{tabular}{r|ll}\n",
       " year & n\\\\\n",
       "\\hline\n",
       "\t 1999   & 250740\\\\\n",
       "\t 2000   & 296920\\\\\n",
       "\\end{tabular}\n"
      ],
      "text/markdown": [
       "\n",
       "year | n | \n",
       "|---|---|\n",
       "| 1999   | 250740 | \n",
       "| 2000   | 296920 | \n",
       "\n",
       "\n"
      ],
      "text/plain": [
       "  year n     \n",
       "1 1999 250740\n",
       "2 2000 296920"
      ]
     },
     "metadata": {},
     "output_type": "display_data"
    },
    {
     "data": {},
     "metadata": {},
     "output_type": "display_data"
    },
    {
     "data": {
      "image/png": "[encoded data removed]",
      "text/plain": [
       "plot without title"
      ]
     },
     "metadata": {},
     "output_type": "display_data"
    }
   ],
   "source": [
    "library(tidyverse)\n",
    "\n",
    "table1 <- tribble(\n",
    "~country,      ~year, ~cases,  ~population,\n",
    "\"Afghanistan\", 1999,  745,     19987071,\n",
    "\"Afghanistan\", 2000,  2666,    20595360,\n",
    "\"Brazil\",      1999,  37737,   172006362,\n",
    "\"Brazil\",      2000,  80488,   174504898,\n",
    "\"China\",       1999,  212258,  1272915272,\n",
    "\"China\",       2000,  213766,  1280428583\n",
    ")\n",
    "\n",
    "table1\n",
    "\n",
    "# Compute rate per 10,000 using the mutate function\n",
    "table1 %>% \n",
    "  mutate(rate = cases / population * 10000)\n",
    "\n",
    "# Compute cases per year using the count function\n",
    "table1 %>% \n",
    "  count(year, wt = cases)\n",
    "\n",
    "# Visualise changes over time\n",
    "library(ggplot2)\n",
    "ggplot(table1, aes(year, cases)) + \n",
    "  geom_line(aes(group = country), colour = \"grey50\") + \n",
    "  geom_point(aes(colour = country))"
   ]
  },
  {
   "cell_type": "code",
   "execution_count": null,
   "metadata": {
    "collapsed": true
   },
   "outputs": [],
   "source": []
  }
 ],
 "metadata": {
  "kernelspec": {
   "display_name": "R",
   "language": "R",
   "name": "ir"
  },
  "language_info": {
   "codemirror_mode": "r",
   "file_extension": ".r",
   "mimetype": "text/x-r-source",
   "name": "R",
   "pygments_lexer": "r",
   "version": "3.4.2"
  }
 },
 "nbformat": 4,
 "nbformat_minor": 2
}
